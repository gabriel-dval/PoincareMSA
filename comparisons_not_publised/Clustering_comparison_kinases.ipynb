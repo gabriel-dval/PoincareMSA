{
 "cells": [
  {
   "cell_type": "code",
   "execution_count": 1,
   "id": "06d1cd0a",
   "metadata": {},
   "outputs": [],
   "source": [
    "#from scripts.build_poincare_map.poincare_maps import *\n",
    "#Load dependencies\n",
    "import os\n",
    "import numpy as np\n",
    "import pandas as pd\n",
    "import subprocess\n",
    "import json\n",
    "import warnings\n",
    "warnings.filterwarnings('ignore')\n",
    "import scipy\n",
    "\n",
    "\n",
    "#Import visualization functions\n",
    "from scripts.visualize_projection.pplots_new import read_embeddings, plot_embedding, plot_embedding_interactive, rotate, get_colors\n",
    "%matplotlib inline\n",
    "from poincare_maps import *\n",
    "from embedding_quality_score import *\n",
    "\n",
    "from sklearn.manifold import MDS\n",
    "from sklearn.manifold import TSNE\n",
    "from sklearn.decomposition import KernelPCA\n",
    "\n",
    "\n",
    "from sklearn.metrics import pairwise_distances\n",
    "from scipy.spatial.distance import cosine\n",
    "import plotly.express as px\n",
    "import umap"
   ]
  },
  {
   "cell_type": "code",
   "execution_count": 2,
   "id": "14c2411b",
   "metadata": {},
   "outputs": [],
   "source": [
    "from scripts.build_poincare_map.kmedoids import *\n",
    "from sklearn import metrics\n",
    "\n",
    "def get_scores(t_labels, labels):\n",
    "    ARS = metrics.adjusted_rand_score(t_labels, labels)\n",
    "    FMS = metrics.fowlkes_mallows_score(t_labels, labels)\n",
    "    #print(f\"ARI = {ARS:.2f}\")\n",
    "    #print(f\"FMS = {FMS:.2f}\")\n",
    "    \n",
    "    return ARS, FMS\n",
    "\n",
    "def detect_cluster(D, n_clusters=2, clustering_name='spectral', k=5, class_exclude = \"OTHER\"): #distances='Poincaré',\n",
    "    if clustering_name == 'spectral':\n",
    "        similarity = np.exp(-D**2)\n",
    "        clustering = SpectralClustering(n_clusters=n_clusters, eigen_solver='arpack', \n",
    "                                        affinity='precomputed', n_neighbors=k).fit(similarity)\n",
    "        labels = clustering.labels_\n",
    "    elif clustering_name == 'kmedoids':\n",
    "        clustering = kMedoids(D, n_clusters, tmax=10000)\n",
    "        labels = clustering\n",
    "    else:\n",
    "        #clustering = AgglomerativeClustering(linkage='average', n_clusters=n_clusters, \n",
    "        #                                     affinity='precomputed').fit(D)\n",
    "        clustering = AgglomerativeClustering(linkage='average', n_clusters=n_clusters, \n",
    "                                             affinity='precomputed').fit(D)\n",
    "        labels = clustering.labels_\n",
    "            \n",
    "    return labels\n",
    "\n",
    "\n",
    "def color_clusters(df, x, y, color):\n",
    "    plt = px.scatter(df_tsne, x = x, y = y,\n",
    "                     color = color,\n",
    "                     color_discrete_map=kinase_palette,\n",
    "                     #color_continuous_scale = \"Turbo\",\n",
    "                     ##labels={'color': labels}, \n",
    "                     #hover_name=labels_name,\n",
    "                     #hover_data=df.columns[2:],\n",
    "                     #height = 800,\n",
    "                     #title = title\n",
    "                 )\n",
    "    fig.show()"
   ]
  },
  {
   "cell_type": "code",
   "execution_count": 3,
   "id": "1ab78966",
   "metadata": {},
   "outputs": [
    {
     "name": "stdout",
     "output_type": "stream",
     "text": [
      "            proteins_id       pm1       pm2 1_Group    2_Gene      3_HGNC  \\\n",
      "proteins_id                                                                 \n",
      "1                     1 -0.707558 -0.591890     AGC      AKT1    HGNC:391   \n",
      "2                     2 -0.716056 -0.569460     AGC      AKT2    HGNC:392   \n",
      "3                     3 -0.694581 -0.567775     AGC      AKT3    HGNC:393   \n",
      "4                     4 -0.397540 -0.890217     AGC  CDC42BPA   HGNC:1737   \n",
      "5                     5 -0.393420 -0.886927     AGC  CDC42BPB   HGNC:1738   \n",
      "...                 ...       ...       ...     ...       ...         ...   \n",
      "493                 493  0.499565  0.780303     TYR    TYK2_1  HGNC:12440   \n",
      "494                 494  0.221907  0.866066     TYR    TYK2_2  HGNC:12440   \n",
      "495                 495  0.304742  0.830562     TYR     TYRO3  HGNC:12446   \n",
      "496                 496  0.401966  0.612660     TYR      YES1  HGNC:12841   \n",
      "497                 497  0.469061  0.822273     TYR     ZAP70  HGNC:12858   \n",
      "\n",
      "             4_Uni_entry 5_Uni_acc 6_Domain_begin 7_Domain_end  ...  \\\n",
      "proteins_id                                                     ...   \n",
      "1             AKT1_HUMAN    P31749            150          408  ...   \n",
      "2             AKT2_HUMAN    P31751            152          409  ...   \n",
      "3             AKT3_HUMAN    Q9Y243            148          405  ...   \n",
      "4            MRCKA_HUMAN    Q5VT25             77          343  ...   \n",
      "5            MRCKB_HUMAN    Q9Y5S2             76          342  ...   \n",
      "...                  ...       ...            ...          ...  ...   \n",
      "493           TYK2_HUMAN    P29597            589          868  ...   \n",
      "494           TYK2_HUMAN    P29597            897         1171  ...   \n",
      "495          TYRO3_HUMAN    Q06418            518          788  ...   \n",
      "496            YES_HUMAN    P07947            277          528  ...   \n",
      "497          ZAP70_HUMAN    P43403            337          595  ...   \n",
      "\n",
      "            9_Largest_insert_length 10_PDB_validation 11_Conformational_state  \\\n",
      "proteins_id                                                                     \n",
      "1                                 9             6NPZB                   DFGin   \n",
      "2                                 9             3E8DB                   DFGin   \n",
      "3                                 9               nan                     nan   \n",
      "4                                14               nan                     nan   \n",
      "5                                14             5OTFA                   DFGin   \n",
      "...                             ...               ...                     ...   \n",
      "493                              26             3ZONA                   DFGin   \n",
      "494                              21             4GVJA                   DFGin   \n",
      "495                              10               nan                     nan   \n",
      "496                              10               nan                     nan   \n",
      "497                              10             1U59A                   DFGin   \n",
      "\n",
      "            12_Dihedral_state 13_Group_in_Uni 14_Group_in_Manning  \\\n",
      "proteins_id                                                         \n",
      "1                    BLAminus             AGC                 AGC   \n",
      "2                    BLAminus             AGC                 AGC   \n",
      "3                         nan             AGC                 AGC   \n",
      "4                         nan             AGC                 AGC   \n",
      "5                    BLAminus             AGC                 AGC   \n",
      "...                       ...             ...                 ...   \n",
      "493                       nan             TYR                 TYR   \n",
      "494                  BLAminus             TYR                 TYR   \n",
      "495                       nan             TYR                 TYR   \n",
      "496                       nan             TYR                 TYR   \n",
      "497                  BLAminus             TYR                 TYR   \n",
      "\n",
      "                     15_Synonymn evo_distance  decile_domain small_cluster  \n",
      "proteins_id                                                                 \n",
      "1                        PKB,RAC     1.208266              2           RAC  \n",
      "2                            nan     1.208312              2           RAC  \n",
      "3                           PKBG     1.183463              2           RAC  \n",
      "4                       KIAA0451     1.399119              5          DMPK  \n",
      "5                       KIAA1124     1.406213              5          DMPK  \n",
      "...                          ...          ...            ...           ...  \n",
      "493                          nan     2.924877              7           JAK  \n",
      "494                          nan     2.031230              6           JAK  \n",
      "495          BYK,DTK,RSE,SKY,TIF     2.428364              6       AXL/UFO  \n",
      "496                          YES     2.450070              0           SRC  \n",
      "497                          SRK     2.194576              2    SYK/ZAP-70  \n",
      "\n",
      "[497 rows x 21 columns]\n"
     ]
    },
    {
     "data": {
      "text/html": [
       "<div>\n",
       "<style scoped>\n",
       "    .dataframe tbody tr th:only-of-type {\n",
       "        vertical-align: middle;\n",
       "    }\n",
       "\n",
       "    .dataframe tbody tr th {\n",
       "        vertical-align: top;\n",
       "    }\n",
       "\n",
       "    .dataframe thead th {\n",
       "        text-align: right;\n",
       "    }\n",
       "</style>\n",
       "<table border=\"1\" class=\"dataframe\">\n",
       "  <thead>\n",
       "    <tr style=\"text-align: right;\">\n",
       "      <th></th>\n",
       "      <th>proteins_id</th>\n",
       "      <th>pm1</th>\n",
       "      <th>pm2</th>\n",
       "      <th>1_Group</th>\n",
       "      <th>2_Gene</th>\n",
       "      <th>3_HGNC</th>\n",
       "      <th>4_Uni_entry</th>\n",
       "      <th>5_Uni_acc</th>\n",
       "      <th>6_Domain_begin</th>\n",
       "      <th>7_Domain_end</th>\n",
       "      <th>...</th>\n",
       "      <th>9_Largest_insert_length</th>\n",
       "      <th>10_PDB_validation</th>\n",
       "      <th>11_Conformational_state</th>\n",
       "      <th>12_Dihedral_state</th>\n",
       "      <th>13_Group_in_Uni</th>\n",
       "      <th>14_Group_in_Manning</th>\n",
       "      <th>15_Synonymn</th>\n",
       "      <th>evo_distance</th>\n",
       "      <th>decile_domain</th>\n",
       "      <th>small_cluster</th>\n",
       "    </tr>\n",
       "    <tr>\n",
       "      <th>proteins_id</th>\n",
       "      <th></th>\n",
       "      <th></th>\n",
       "      <th></th>\n",
       "      <th></th>\n",
       "      <th></th>\n",
       "      <th></th>\n",
       "      <th></th>\n",
       "      <th></th>\n",
       "      <th></th>\n",
       "      <th></th>\n",
       "      <th></th>\n",
       "      <th></th>\n",
       "      <th></th>\n",
       "      <th></th>\n",
       "      <th></th>\n",
       "      <th></th>\n",
       "      <th></th>\n",
       "      <th></th>\n",
       "      <th></th>\n",
       "      <th></th>\n",
       "      <th></th>\n",
       "    </tr>\n",
       "  </thead>\n",
       "  <tbody>\n",
       "    <tr>\n",
       "      <th>1</th>\n",
       "      <td>1</td>\n",
       "      <td>-0.707558</td>\n",
       "      <td>-0.591890</td>\n",
       "      <td>AGC</td>\n",
       "      <td>AKT1</td>\n",
       "      <td>HGNC:391</td>\n",
       "      <td>AKT1_HUMAN</td>\n",
       "      <td>P31749</td>\n",
       "      <td>150</td>\n",
       "      <td>408</td>\n",
       "      <td>...</td>\n",
       "      <td>9</td>\n",
       "      <td>6NPZB</td>\n",
       "      <td>DFGin</td>\n",
       "      <td>BLAminus</td>\n",
       "      <td>AGC</td>\n",
       "      <td>AGC</td>\n",
       "      <td>PKB,RAC</td>\n",
       "      <td>1.208266</td>\n",
       "      <td>2</td>\n",
       "      <td>RAC</td>\n",
       "    </tr>\n",
       "    <tr>\n",
       "      <th>2</th>\n",
       "      <td>2</td>\n",
       "      <td>-0.716056</td>\n",
       "      <td>-0.569460</td>\n",
       "      <td>AGC</td>\n",
       "      <td>AKT2</td>\n",
       "      <td>HGNC:392</td>\n",
       "      <td>AKT2_HUMAN</td>\n",
       "      <td>P31751</td>\n",
       "      <td>152</td>\n",
       "      <td>409</td>\n",
       "      <td>...</td>\n",
       "      <td>9</td>\n",
       "      <td>3E8DB</td>\n",
       "      <td>DFGin</td>\n",
       "      <td>BLAminus</td>\n",
       "      <td>AGC</td>\n",
       "      <td>AGC</td>\n",
       "      <td>nan</td>\n",
       "      <td>1.208312</td>\n",
       "      <td>2</td>\n",
       "      <td>RAC</td>\n",
       "    </tr>\n",
       "    <tr>\n",
       "      <th>3</th>\n",
       "      <td>3</td>\n",
       "      <td>-0.694581</td>\n",
       "      <td>-0.567775</td>\n",
       "      <td>AGC</td>\n",
       "      <td>AKT3</td>\n",
       "      <td>HGNC:393</td>\n",
       "      <td>AKT3_HUMAN</td>\n",
       "      <td>Q9Y243</td>\n",
       "      <td>148</td>\n",
       "      <td>405</td>\n",
       "      <td>...</td>\n",
       "      <td>9</td>\n",
       "      <td>nan</td>\n",
       "      <td>nan</td>\n",
       "      <td>nan</td>\n",
       "      <td>AGC</td>\n",
       "      <td>AGC</td>\n",
       "      <td>PKBG</td>\n",
       "      <td>1.183463</td>\n",
       "      <td>2</td>\n",
       "      <td>RAC</td>\n",
       "    </tr>\n",
       "    <tr>\n",
       "      <th>4</th>\n",
       "      <td>4</td>\n",
       "      <td>-0.397540</td>\n",
       "      <td>-0.890217</td>\n",
       "      <td>AGC</td>\n",
       "      <td>CDC42BPA</td>\n",
       "      <td>HGNC:1737</td>\n",
       "      <td>MRCKA_HUMAN</td>\n",
       "      <td>Q5VT25</td>\n",
       "      <td>77</td>\n",
       "      <td>343</td>\n",
       "      <td>...</td>\n",
       "      <td>14</td>\n",
       "      <td>nan</td>\n",
       "      <td>nan</td>\n",
       "      <td>nan</td>\n",
       "      <td>AGC</td>\n",
       "      <td>AGC</td>\n",
       "      <td>KIAA0451</td>\n",
       "      <td>1.399119</td>\n",
       "      <td>5</td>\n",
       "      <td>DMPK</td>\n",
       "    </tr>\n",
       "    <tr>\n",
       "      <th>5</th>\n",
       "      <td>5</td>\n",
       "      <td>-0.393420</td>\n",
       "      <td>-0.886927</td>\n",
       "      <td>AGC</td>\n",
       "      <td>CDC42BPB</td>\n",
       "      <td>HGNC:1738</td>\n",
       "      <td>MRCKB_HUMAN</td>\n",
       "      <td>Q9Y5S2</td>\n",
       "      <td>76</td>\n",
       "      <td>342</td>\n",
       "      <td>...</td>\n",
       "      <td>14</td>\n",
       "      <td>5OTFA</td>\n",
       "      <td>DFGin</td>\n",
       "      <td>BLAminus</td>\n",
       "      <td>AGC</td>\n",
       "      <td>AGC</td>\n",
       "      <td>KIAA1124</td>\n",
       "      <td>1.406213</td>\n",
       "      <td>5</td>\n",
       "      <td>DMPK</td>\n",
       "    </tr>\n",
       "    <tr>\n",
       "      <th>...</th>\n",
       "      <td>...</td>\n",
       "      <td>...</td>\n",
       "      <td>...</td>\n",
       "      <td>...</td>\n",
       "      <td>...</td>\n",
       "      <td>...</td>\n",
       "      <td>...</td>\n",
       "      <td>...</td>\n",
       "      <td>...</td>\n",
       "      <td>...</td>\n",
       "      <td>...</td>\n",
       "      <td>...</td>\n",
       "      <td>...</td>\n",
       "      <td>...</td>\n",
       "      <td>...</td>\n",
       "      <td>...</td>\n",
       "      <td>...</td>\n",
       "      <td>...</td>\n",
       "      <td>...</td>\n",
       "      <td>...</td>\n",
       "      <td>...</td>\n",
       "    </tr>\n",
       "    <tr>\n",
       "      <th>493</th>\n",
       "      <td>493</td>\n",
       "      <td>0.499565</td>\n",
       "      <td>0.780303</td>\n",
       "      <td>TYR</td>\n",
       "      <td>TYK2_1</td>\n",
       "      <td>HGNC:12440</td>\n",
       "      <td>TYK2_HUMAN</td>\n",
       "      <td>P29597</td>\n",
       "      <td>589</td>\n",
       "      <td>868</td>\n",
       "      <td>...</td>\n",
       "      <td>26</td>\n",
       "      <td>3ZONA</td>\n",
       "      <td>DFGin</td>\n",
       "      <td>nan</td>\n",
       "      <td>TYR</td>\n",
       "      <td>TYR</td>\n",
       "      <td>nan</td>\n",
       "      <td>2.924877</td>\n",
       "      <td>7</td>\n",
       "      <td>JAK</td>\n",
       "    </tr>\n",
       "    <tr>\n",
       "      <th>494</th>\n",
       "      <td>494</td>\n",
       "      <td>0.221907</td>\n",
       "      <td>0.866066</td>\n",
       "      <td>TYR</td>\n",
       "      <td>TYK2_2</td>\n",
       "      <td>HGNC:12440</td>\n",
       "      <td>TYK2_HUMAN</td>\n",
       "      <td>P29597</td>\n",
       "      <td>897</td>\n",
       "      <td>1171</td>\n",
       "      <td>...</td>\n",
       "      <td>21</td>\n",
       "      <td>4GVJA</td>\n",
       "      <td>DFGin</td>\n",
       "      <td>BLAminus</td>\n",
       "      <td>TYR</td>\n",
       "      <td>TYR</td>\n",
       "      <td>nan</td>\n",
       "      <td>2.031230</td>\n",
       "      <td>6</td>\n",
       "      <td>JAK</td>\n",
       "    </tr>\n",
       "    <tr>\n",
       "      <th>495</th>\n",
       "      <td>495</td>\n",
       "      <td>0.304742</td>\n",
       "      <td>0.830562</td>\n",
       "      <td>TYR</td>\n",
       "      <td>TYRO3</td>\n",
       "      <td>HGNC:12446</td>\n",
       "      <td>TYRO3_HUMAN</td>\n",
       "      <td>Q06418</td>\n",
       "      <td>518</td>\n",
       "      <td>788</td>\n",
       "      <td>...</td>\n",
       "      <td>10</td>\n",
       "      <td>nan</td>\n",
       "      <td>nan</td>\n",
       "      <td>nan</td>\n",
       "      <td>TYR</td>\n",
       "      <td>TYR</td>\n",
       "      <td>BYK,DTK,RSE,SKY,TIF</td>\n",
       "      <td>2.428364</td>\n",
       "      <td>6</td>\n",
       "      <td>AXL/UFO</td>\n",
       "    </tr>\n",
       "    <tr>\n",
       "      <th>496</th>\n",
       "      <td>496</td>\n",
       "      <td>0.401966</td>\n",
       "      <td>0.612660</td>\n",
       "      <td>TYR</td>\n",
       "      <td>YES1</td>\n",
       "      <td>HGNC:12841</td>\n",
       "      <td>YES_HUMAN</td>\n",
       "      <td>P07947</td>\n",
       "      <td>277</td>\n",
       "      <td>528</td>\n",
       "      <td>...</td>\n",
       "      <td>10</td>\n",
       "      <td>nan</td>\n",
       "      <td>nan</td>\n",
       "      <td>nan</td>\n",
       "      <td>TYR</td>\n",
       "      <td>TYR</td>\n",
       "      <td>YES</td>\n",
       "      <td>2.450070</td>\n",
       "      <td>0</td>\n",
       "      <td>SRC</td>\n",
       "    </tr>\n",
       "    <tr>\n",
       "      <th>497</th>\n",
       "      <td>497</td>\n",
       "      <td>0.469061</td>\n",
       "      <td>0.822273</td>\n",
       "      <td>TYR</td>\n",
       "      <td>ZAP70</td>\n",
       "      <td>HGNC:12858</td>\n",
       "      <td>ZAP70_HUMAN</td>\n",
       "      <td>P43403</td>\n",
       "      <td>337</td>\n",
       "      <td>595</td>\n",
       "      <td>...</td>\n",
       "      <td>10</td>\n",
       "      <td>1U59A</td>\n",
       "      <td>DFGin</td>\n",
       "      <td>BLAminus</td>\n",
       "      <td>TYR</td>\n",
       "      <td>TYR</td>\n",
       "      <td>SRK</td>\n",
       "      <td>2.194576</td>\n",
       "      <td>2</td>\n",
       "      <td>SYK/ZAP-70</td>\n",
       "    </tr>\n",
       "  </tbody>\n",
       "</table>\n",
       "<p>497 rows × 21 columns</p>\n",
       "</div>"
      ],
      "text/plain": [
       "             proteins_id       pm1       pm2 1_Group    2_Gene      3_HGNC  \\\n",
       "proteins_id                                                                  \n",
       "1                      1 -0.707558 -0.591890     AGC      AKT1    HGNC:391   \n",
       "2                      2 -0.716056 -0.569460     AGC      AKT2    HGNC:392   \n",
       "3                      3 -0.694581 -0.567775     AGC      AKT3    HGNC:393   \n",
       "4                      4 -0.397540 -0.890217     AGC  CDC42BPA   HGNC:1737   \n",
       "5                      5 -0.393420 -0.886927     AGC  CDC42BPB   HGNC:1738   \n",
       "...                  ...       ...       ...     ...       ...         ...   \n",
       "493                  493  0.499565  0.780303     TYR    TYK2_1  HGNC:12440   \n",
       "494                  494  0.221907  0.866066     TYR    TYK2_2  HGNC:12440   \n",
       "495                  495  0.304742  0.830562     TYR     TYRO3  HGNC:12446   \n",
       "496                  496  0.401966  0.612660     TYR      YES1  HGNC:12841   \n",
       "497                  497  0.469061  0.822273     TYR     ZAP70  HGNC:12858   \n",
       "\n",
       "             4_Uni_entry 5_Uni_acc  6_Domain_begin  7_Domain_end  ...  \\\n",
       "proteins_id                                                       ...   \n",
       "1             AKT1_HUMAN    P31749             150           408  ...   \n",
       "2             AKT2_HUMAN    P31751             152           409  ...   \n",
       "3             AKT3_HUMAN    Q9Y243             148           405  ...   \n",
       "4            MRCKA_HUMAN    Q5VT25              77           343  ...   \n",
       "5            MRCKB_HUMAN    Q9Y5S2              76           342  ...   \n",
       "...                  ...       ...             ...           ...  ...   \n",
       "493           TYK2_HUMAN    P29597             589           868  ...   \n",
       "494           TYK2_HUMAN    P29597             897          1171  ...   \n",
       "495          TYRO3_HUMAN    Q06418             518           788  ...   \n",
       "496            YES_HUMAN    P07947             277           528  ...   \n",
       "497          ZAP70_HUMAN    P43403             337           595  ...   \n",
       "\n",
       "             9_Largest_insert_length  10_PDB_validation  \\\n",
       "proteins_id                                               \n",
       "1                                  9              6NPZB   \n",
       "2                                  9              3E8DB   \n",
       "3                                  9                nan   \n",
       "4                                 14                nan   \n",
       "5                                 14              5OTFA   \n",
       "...                              ...                ...   \n",
       "493                               26              3ZONA   \n",
       "494                               21              4GVJA   \n",
       "495                               10                nan   \n",
       "496                               10                nan   \n",
       "497                               10              1U59A   \n",
       "\n",
       "            11_Conformational_state 12_Dihedral_state 13_Group_in_Uni  \\\n",
       "proteins_id                                                             \n",
       "1                             DFGin          BLAminus             AGC   \n",
       "2                             DFGin          BLAminus             AGC   \n",
       "3                               nan               nan             AGC   \n",
       "4                               nan               nan             AGC   \n",
       "5                             DFGin          BLAminus             AGC   \n",
       "...                             ...               ...             ...   \n",
       "493                           DFGin               nan             TYR   \n",
       "494                           DFGin          BLAminus             TYR   \n",
       "495                             nan               nan             TYR   \n",
       "496                             nan               nan             TYR   \n",
       "497                           DFGin          BLAminus             TYR   \n",
       "\n",
       "            14_Group_in_Manning          15_Synonymn evo_distance  \\\n",
       "proteins_id                                                         \n",
       "1                           AGC              PKB,RAC     1.208266   \n",
       "2                           AGC                  nan     1.208312   \n",
       "3                           AGC                 PKBG     1.183463   \n",
       "4                           AGC             KIAA0451     1.399119   \n",
       "5                           AGC             KIAA1124     1.406213   \n",
       "...                         ...                  ...          ...   \n",
       "493                         TYR                  nan     2.924877   \n",
       "494                         TYR                  nan     2.031230   \n",
       "495                         TYR  BYK,DTK,RSE,SKY,TIF     2.428364   \n",
       "496                         TYR                  YES     2.450070   \n",
       "497                         TYR                  SRK     2.194576   \n",
       "\n",
       "             decile_domain  small_cluster  \n",
       "proteins_id                                \n",
       "1                        2            RAC  \n",
       "2                        2            RAC  \n",
       "3                        2            RAC  \n",
       "4                        5           DMPK  \n",
       "5                        5           DMPK  \n",
       "...                    ...            ...  \n",
       "493                      7            JAK  \n",
       "494                      6            JAK  \n",
       "495                      6        AXL/UFO  \n",
       "496                      0            SRC  \n",
       "497                      2     SYK/ZAP-70  \n",
       "\n",
       "[497 rows x 21 columns]"
      ]
     },
     "execution_count": 3,
     "metadata": {},
     "output_type": "execute_result"
    }
   ],
   "source": [
    "knn = 5\n",
    "gamma = 2\n",
    "sigma = 1\n",
    "cospca = 0\n",
    "batchs = 4\n",
    "epochs = 1000\n",
    "seed = 0\n",
    "\n",
    "out_name = \"kinases_data\"\n",
    "path_annotation = \"examples/kinases/kinase_group_new1.csv\"\n",
    "path_embedding = f\"{out_name}/projections/PM{knn:1.0f}sigma={sigma:2.2f}gamma={gamma:2.2f}cosinepca={cospca:1.0f}_seed{seed:1.0f}.csv\"\n",
    "df_embedding = read_embeddings(path_embedding, path_annotation, withroot=False)\n",
    "print(df_embedding)\n",
    "df_embedding.replace(\"Other\", \"OTHER\")"
   ]
  },
  {
   "cell_type": "markdown",
   "id": "f55434ba",
   "metadata": {},
   "source": [
    "Labels and number of clusters:"
   ]
  },
  {
   "cell_type": "code",
   "execution_count": null,
   "id": "b32fbce7",
   "metadata": {},
   "outputs": [],
   "source": [
    "poincare_coord = pd.read_csv(path_embedding, sep=',').sort_values(by=[\"proteins_id\"])\n",
    "poincare_coord = poincare_coord.values[:,:2]\n",
    "print(path_embedding)\n",
    "model = PoincareMaps(poincare_coord)\n",
    "model.get_distances()"
   ]
  },
  {
   "cell_type": "code",
   "execution_count": null,
   "id": "a4c1cb4b",
   "metadata": {},
   "outputs": [],
   "source": [
    "model.detect_cluster(n_clusters=nc, clustering_name='spectral', k=5)\n",
    "df_embedding[\"poincare_clust\"] = model.clusters\n",
    "df_embedding[\"poincare_clust\"] = df_embedding[\"poincare_clust\"].astype(\"string\")"
   ]
  },
  {
   "cell_type": "code",
   "execution_count": null,
   "id": "fa8b2858",
   "metadata": {},
   "outputs": [],
   "source": [
    "import plotly.express as px\n",
    "fig = plot_embedding_interactive(df_embedding, \n",
    "                                 labels_name = \"1_Group\",\n",
    "                                 #second_labels_name = second_labels_name, \n",
    "                                 #show_text = show_text,\n",
    "                                 #labels_text = labels_text,\n",
    "                                 color_palette = None, \n",
    "                                 #title = title, \n",
    "                                 fontsize = 11)\n",
    "fig.show()"
   ]
  },
  {
   "cell_type": "markdown",
   "id": "43e5ce14",
   "metadata": {},
   "source": [
    "# Comparison of different scores for Poincaré vs other methods"
   ]
  },
  {
   "cell_type": "markdown",
   "id": "d4aaf89e",
   "metadata": {},
   "source": [
    "## Kinases"
   ]
  },
  {
   "cell_type": "code",
   "execution_count": 4,
   "id": "3c2a9301",
   "metadata": {},
   "outputs": [],
   "source": [
    "n_proteins = df_embedding.shape[0]\n",
    "x = np.array(np.loadtxt(out_name + \"/fasta0.9/1.aamtx\").reshape(-1))\n",
    "len_prot = len(x)\n",
    "\n",
    "features = np.zeros([n_proteins, len_prot])\n",
    "\n",
    "for i in range(n_proteins):\n",
    "    #print(out_name + \"/fasta0.9/\" + str(i) + \".aamtx\")\n",
    "    x = np.array(np.loadtxt(out_name + \"/fasta0.9/\" + str(i+1) + \".aamtx\").reshape(-1))\n",
    "    features[i,:] = x\n"
   ]
  },
  {
   "cell_type": "code",
   "execution_count": 5,
   "id": "9d2c5c32",
   "metadata": {},
   "outputs": [],
   "source": [
    "# Construction of custom color palette \n",
    "kinase_palette = {-1 : \"#c7c7c7\", \"OTHER\": \"#c7c7c7\", \"None\" :\"#c7c7c7\", \"NA\" : \"#c7c7c7\", \"Uncharacterized\" : \"#c7c7c7\", \"root\": \"#000000\",\n",
    "                  \"TYR\": \"#bd065f\", \"CMGC\": \"#d5c203\", \"TKL\": \"#997e73\",\"STE\": \"#80b412\", # kinase groups \n",
    "                  \"CK1\": \"#0dbae9\", \"AGC\": \"#00bba1\", \"CAMK\":  \"#1f6ed4\", \"NEK\": \"#8ce4fa\", \"RGC\":\"#f59a62\"}"
   ]
  },
  {
   "cell_type": "code",
   "execution_count": 6,
   "id": "3a5359ed",
   "metadata": {},
   "outputs": [
    {
     "name": "stdout",
     "output_type": "stream",
     "text": [
      "[0.1225 0.0307 0.061  ... 0.0713 0.1938 0.3363]\n",
      "(497, 497)\n"
     ]
    }
   ],
   "source": [
    "D_raw = pairwise_distances(features, metric=\"cosine\")\n",
    "print(features[0,:])\n",
    "print(D_raw.shape)"
   ]
  },
  {
   "cell_type": "markdown",
   "id": "08dac668",
   "metadata": {},
   "source": [
    "## Evaluate clustering"
   ]
  },
  {
   "cell_type": "code",
   "execution_count": 8,
   "id": "40444f14",
   "metadata": {},
   "outputs": [],
   "source": [
    "df_results_clust = pd.DataFrame()"
   ]
  },
  {
   "cell_type": "code",
   "execution_count": 15,
   "id": "06a158dc",
   "metadata": {},
   "outputs": [
    {
     "name": "stdout",
     "output_type": "stream",
     "text": [
      "Number of expected classes:  76\n",
      "76\n"
     ]
    }
   ],
   "source": [
    "true_col = \"small_cluster\"\n",
    "#true_col = \"1_Group\"\n",
    "\n",
    "other = \"OTHERS\"\n",
    "\n",
    "remove_others = True\n",
    "remove_outliers = True\n",
    "\n",
    "expected_nc = df_embedding[true_col].unique().size\n",
    "no_outliers = df_embedding[true_col].duplicated(keep=False)\n",
    "\n",
    "nc = expected_nc\n",
    "print(\"Number of expected classes: \", nc)\n",
    "k_neigh = knn\n",
    "\n",
    "print(expected_nc)\n",
    "nc = expected_nc\n",
    "k_neigh = knn\n",
    "remove_others = True"
   ]
  },
  {
   "cell_type": "code",
   "execution_count": 16,
   "id": "5b4214b4",
   "metadata": {},
   "outputs": [
    {
     "name": "stdout",
     "output_type": "stream",
     "text": [
      "Connecting 4\n",
      "Connecting 4\n",
      "Connecting 4\n",
      "Connecting 4\n",
      "Connecting 4\n",
      "Connecting 4\n",
      "Connecting 4\n",
      "Connecting 4\n",
      "Connecting 4\n",
      "Connecting 4\n",
      "Connecting 4\n",
      "Connecting 4\n",
      "Connecting 4\n",
      "Connecting 4\n",
      "Connecting 4\n",
      "Connecting 4\n",
      "Connecting 4\n",
      "Connecting 4\n",
      "Connecting 4\n",
      "Connecting 4\n",
      "Connecting 4\n",
      "Connecting 4\n",
      "Connecting 4\n",
      "Connecting 4\n",
      "Connecting 4\n"
     ]
    }
   ],
   "source": [
    "cname = 'agglomerative'\n",
    "setting = \"manifold\" # \"global\" # \n",
    "\n",
    "for seed in range(5):\n",
    "    # read poincare and annotations\n",
    "    path_embedding = f\"{out_name}/projections/PM{knn:1.0f}sigma={sigma:2.2f}gamma={gamma:2.2f}cosinepca={cospca:1.0f}_seed{seed:1.0f}.csv\"\n",
    "    df_embedding = read_embeddings(path_embedding, path_annotation, withroot=False)\n",
    "    df_embedding.replace(\"Other\", \"OTHER\")\n",
    "    # calculate poincare distances\n",
    "    poincare_coord = df_embedding[[\"pm1\",\"pm2\"]]\n",
    "    poincare_coord = poincare_coord.values\n",
    "    #print(poincare_coord)\n",
    "    model = PoincareMaps(poincare_coord)\n",
    "    model.get_distances()\n",
    "    # poincare scores\n",
    "    clusters = detect_cluster(model.distances, n_clusters=nc, clustering_name=cname)\n",
    "    df_embedding[\"clust_poincare\"] = clusters\n",
    "    df_embedding[\"clust_poincare\"] = df_embedding[\"clust_poincare\"].astype(\"string\")\n",
    "    # MDS scores\n",
    "    X_cosine = pairwise_distances(features,metric='cosine')\n",
    "    X_mds = MDS(metric=True,dissimilarity='precomputed', random_state = seed).fit_transform(X_cosine)\n",
    "    df_embedding[\"x1_mds\"] = X_mds[:,0]\n",
    "    df_embedding[\"x2_mds\"] = X_mds[:,1]\n",
    "    D = pairwise_distances(X_mds)\n",
    "    clusters = detect_cluster(D, n_clusters=nc, clustering_name=cname)\n",
    "    df_embedding[\"clust_mds\"] = clusters\n",
    "    df_embedding[\"clust_mds\"] = df_embedding[\"clust_mds\"].astype(\"string\")\n",
    "    # tSNE scores\n",
    "    X_tsne = TSNE(random_state = seed, metric = \"cosine\", perplexity=k_neigh).fit_transform(features)\n",
    "    df_embedding[\"x1_tsne\"] = X_tsne[:,0]\n",
    "    df_embedding[\"x2_tsne\"] = X_tsne[:,1]\n",
    "    D = pairwise_distances(X_tsne)\n",
    "    clusters = detect_cluster(D, n_clusters=nc, clustering_name=cname)\n",
    "    df_embedding[\"clust_tsne\"] = clusters\n",
    "    df_embedding[\"clust_tsne\"] = df_embedding[\"clust_tsne\"].astype(\"string\")\n",
    "    # UMAP scores\n",
    "    X_umap = umap.UMAP(random_state = seed, metric = \"cosine\", n_neighbors = k_neigh).fit_transform(features)\n",
    "    df_embedding[\"x1_umap\"] = X_umap[:,0]\n",
    "    df_embedding[\"x2_umap\"] = X_umap[:,1]\n",
    "    D = pairwise_distances(X_umap)\n",
    "    clusters = detect_cluster(D, n_clusters=nc, clustering_name=cname)\n",
    "    df_embedding[\"clust_umap\"] = clusters\n",
    "    df_embedding[\"clust_umap\"] = df_embedding[\"clust_umap\"].astype(\"string\")\n",
    "    # PCA scores\n",
    "    X_pca = KernelPCA(kernel='cosine', random_state = seed).fit_transform(features)\n",
    "    df_embedding[\"x1_pca\"] = X_pca[:,0]\n",
    "    df_embedding[\"x2_pca\"] = X_pca[:,1]\n",
    "    D = pairwise_distances(X_pca)\n",
    "    clusters = detect_cluster(D, n_clusters=nc, clustering_name=cname)#, k=15)\n",
    "    df_embedding[\"clust_pca\"] = clusters\n",
    "    df_embedding[\"clust_pca\"] = df_embedding[\"clust_pca\"].astype(\"string\")\n",
    "    \n",
    "    # clustering\n",
    "    if remove_outliers:\n",
    "        df_noothers = df_embedding[no_outliers]\n",
    "    if remove_others:\n",
    "        df_noothers = df_noothers[df_embedding[true_col]!=other]\n",
    "    \n",
    "    for clust_meth in [\"poincare\", \"mds\", \"tsne\", \"umap\", \"pca\"]:\n",
    "\n",
    "        ARI, FMS = get_scores(df_noothers[true_col], df_noothers[\"clust_\" + clust_meth])\n",
    "\n",
    "        if clust_meth == \"poincare\":\n",
    "            D = model.distances\n",
    "            Qlocal, Qglobal, Kmax, df_Q = get_quality_metrics(coord_high = features, coord_low = model.coordinates, distance=\"poincare\", setting=setting, k_neighbours=5)\n",
    "        else:\n",
    "            D = pairwise_distances(df_embedding.loc[:, \"x1_\"+clust_meth:\"x2_\"+clust_meth])\n",
    "            Qlocal, Qglobal, Kmax, df_Q = get_quality_metrics(coord_high = features, coord_low = df_embedding.loc[:, \"x1_\"+clust_meth:\"x2_\"+clust_meth], distance=\"euclidean\", setting=setting, k_neighbours=5)\n",
    "\n",
    "        corr = scipy.stats.spearmanr(D_raw.ravel(), D.ravel(), axis = 0)\n",
    "    \n",
    "        df = pd.DataFrame({\"method\": [clust_meth], \"seed\": [seed], \"nc\": [nc], \"true_col\": [true_col], \"ARI\": [ARI], \"FMS\": [FMS]})\n",
    "        df_results_clust = df_results_clust.append(df)\n",
    "        \n",
    "        # print(df_Q.Qnx.to_numpy())\n",
    "        \n",
    "        df = pd.DataFrame({\"method\": [clust_meth], \"seed\": [seed], \"Qlocal\": [Qlocal], \"Qglobal\": [Qglobal], \"Kmax\": [Kmax], \"Qnx\": [df_Q.Qnx.to_numpy()]})\n",
    "        df_results_proj = df_results_proj.append(df)\n",
    "\n",
    "#print(df_results)"
   ]
  },
  {
   "cell_type": "code",
   "execution_count": 33,
   "id": "c77e8661",
   "metadata": {},
   "outputs": [
    {
     "data": {
      "application/vnd.plotly.v1+json": {
       "config": {
        "plotlyServerURL": "https://plot.ly"
       },
       "data": [
        {
         "alignmentgroup": "True",
         "boxpoints": "all",
         "fillcolor": "rgba(255,255,255,0)",
         "hoveron": "points",
         "hovertemplate": "true_col=1_Group<br>method=%{x}<br>ARI=%{y}<extra></extra>",
         "legendgroup": "1_Group",
         "line": {
          "color": "rgba(255,255,255,0)"
         },
         "marker": {
          "color": "#636efa"
         },
         "name": "1_Group",
         "offsetgroup": "1_Group",
         "orientation": "v",
         "pointpos": 0,
         "showlegend": true,
         "type": "box",
         "x": [
          "poincare",
          "mds",
          "tsne",
          "umap",
          "pca",
          "poincare",
          "mds",
          "tsne",
          "umap",
          "pca",
          "poincare",
          "mds",
          "tsne",
          "umap",
          "pca",
          "poincare",
          "mds",
          "tsne",
          "umap",
          "pca",
          "poincare",
          "mds",
          "tsne",
          "umap",
          "pca"
         ],
         "x0": " ",
         "xaxis": "x",
         "y": [
          0.5763304180120301,
          0.6747752990983337,
          0.6843673582713222,
          0.4228037529739668,
          0.0016409684237495199,
          0.6121535072956908,
          0.5048862418648993,
          0.5681849473927691,
          0.5048201754044911,
          0.0016409684237495199,
          0.49295364953420223,
          0.537688096960731,
          0.6803656203763533,
          0.38239838264410425,
          0.0016409684237495199,
          0.5904676847632901,
          0.5469792806153245,
          0.6020359329522003,
          0.43289801654435417,
          0.0016409684237495199,
          0.5011204978380919,
          0.5616463717388176,
          0.5312400916923943,
          0.3334124828611559,
          0.0016409684237495199
         ],
         "y0": " ",
         "yaxis": "y"
        },
        {
         "alignmentgroup": "True",
         "boxpoints": "all",
         "fillcolor": "rgba(255,255,255,0)",
         "hoveron": "points",
         "hovertemplate": "true_col=small_cluster<br>method=%{x}<br>ARI=%{y}<extra></extra>",
         "legendgroup": "small_cluster",
         "line": {
          "color": "rgba(255,255,255,0)"
         },
         "marker": {
          "color": "#EF553B"
         },
         "name": "small_cluster",
         "offsetgroup": "small_cluster",
         "orientation": "v",
         "pointpos": 0,
         "showlegend": true,
         "type": "box",
         "x": [
          "poincare",
          "mds",
          "tsne",
          "umap",
          "pca",
          "poincare",
          "mds",
          "tsne",
          "umap",
          "pca",
          "poincare",
          "mds",
          "tsne",
          "umap",
          "pca",
          "poincare",
          "mds",
          "tsne",
          "umap",
          "pca",
          "poincare",
          "mds",
          "tsne",
          "umap",
          "pca"
         ],
         "x0": " ",
         "xaxis": "x",
         "y": [
          0.28375783808245275,
          0.1818477214737352,
          0.28128452329800946,
          0.28496715891065194,
          0.19712302302385717,
          0.2878847257205536,
          0.17734826016504918,
          0.30129130442428503,
          0.27403685927750016,
          0.19712302302385717,
          0.3210901446277274,
          0.1863570427976615,
          0.2860441567169614,
          0.28228335433119933,
          0.19712302302385717,
          0.28524064960392154,
          0.17475717644995054,
          0.2865440053084116,
          0.27126028215748266,
          0.19712302302385717,
          0.28912506791278697,
          0.19558752573775443,
          0.29310876139267156,
          0.2953115937005016,
          0.19712302302385717
         ],
         "y0": " ",
         "yaxis": "y"
        }
       ],
       "layout": {
        "boxmode": "group",
        "legend": {
         "title": {
          "text": "true_col"
         },
         "tracegroupgap": 0
        },
        "margin": {
         "t": 60
        },
        "template": {
         "data": {
          "bar": [
           {
            "error_x": {
             "color": "#2a3f5f"
            },
            "error_y": {
             "color": "#2a3f5f"
            },
            "marker": {
             "line": {
              "color": "#E5ECF6",
              "width": 0.5
             },
             "pattern": {
              "fillmode": "overlay",
              "size": 10,
              "solidity": 0.2
             }
            },
            "type": "bar"
           }
          ],
          "barpolar": [
           {
            "marker": {
             "line": {
              "color": "#E5ECF6",
              "width": 0.5
             },
             "pattern": {
              "fillmode": "overlay",
              "size": 10,
              "solidity": 0.2
             }
            },
            "type": "barpolar"
           }
          ],
          "carpet": [
           {
            "aaxis": {
             "endlinecolor": "#2a3f5f",
             "gridcolor": "white",
             "linecolor": "white",
             "minorgridcolor": "white",
             "startlinecolor": "#2a3f5f"
            },
            "baxis": {
             "endlinecolor": "#2a3f5f",
             "gridcolor": "white",
             "linecolor": "white",
             "minorgridcolor": "white",
             "startlinecolor": "#2a3f5f"
            },
            "type": "carpet"
           }
          ],
          "choropleth": [
           {
            "colorbar": {
             "outlinewidth": 0,
             "ticks": ""
            },
            "type": "choropleth"
           }
          ],
          "contour": [
           {
            "colorbar": {
             "outlinewidth": 0,
             "ticks": ""
            },
            "colorscale": [
             [
              0,
              "#0d0887"
             ],
             [
              0.1111111111111111,
              "#46039f"
             ],
             [
              0.2222222222222222,
              "#7201a8"
             ],
             [
              0.3333333333333333,
              "#9c179e"
             ],
             [
              0.4444444444444444,
              "#bd3786"
             ],
             [
              0.5555555555555556,
              "#d8576b"
             ],
             [
              0.6666666666666666,
              "#ed7953"
             ],
             [
              0.7777777777777778,
              "#fb9f3a"
             ],
             [
              0.8888888888888888,
              "#fdca26"
             ],
             [
              1,
              "#f0f921"
             ]
            ],
            "type": "contour"
           }
          ],
          "contourcarpet": [
           {
            "colorbar": {
             "outlinewidth": 0,
             "ticks": ""
            },
            "type": "contourcarpet"
           }
          ],
          "heatmap": [
           {
            "colorbar": {
             "outlinewidth": 0,
             "ticks": ""
            },
            "colorscale": [
             [
              0,
              "#0d0887"
             ],
             [
              0.1111111111111111,
              "#46039f"
             ],
             [
              0.2222222222222222,
              "#7201a8"
             ],
             [
              0.3333333333333333,
              "#9c179e"
             ],
             [
              0.4444444444444444,
              "#bd3786"
             ],
             [
              0.5555555555555556,
              "#d8576b"
             ],
             [
              0.6666666666666666,
              "#ed7953"
             ],
             [
              0.7777777777777778,
              "#fb9f3a"
             ],
             [
              0.8888888888888888,
              "#fdca26"
             ],
             [
              1,
              "#f0f921"
             ]
            ],
            "type": "heatmap"
           }
          ],
          "heatmapgl": [
           {
            "colorbar": {
             "outlinewidth": 0,
             "ticks": ""
            },
            "colorscale": [
             [
              0,
              "#0d0887"
             ],
             [
              0.1111111111111111,
              "#46039f"
             ],
             [
              0.2222222222222222,
              "#7201a8"
             ],
             [
              0.3333333333333333,
              "#9c179e"
             ],
             [
              0.4444444444444444,
              "#bd3786"
             ],
             [
              0.5555555555555556,
              "#d8576b"
             ],
             [
              0.6666666666666666,
              "#ed7953"
             ],
             [
              0.7777777777777778,
              "#fb9f3a"
             ],
             [
              0.8888888888888888,
              "#fdca26"
             ],
             [
              1,
              "#f0f921"
             ]
            ],
            "type": "heatmapgl"
           }
          ],
          "histogram": [
           {
            "marker": {
             "pattern": {
              "fillmode": "overlay",
              "size": 10,
              "solidity": 0.2
             }
            },
            "type": "histogram"
           }
          ],
          "histogram2d": [
           {
            "colorbar": {
             "outlinewidth": 0,
             "ticks": ""
            },
            "colorscale": [
             [
              0,
              "#0d0887"
             ],
             [
              0.1111111111111111,
              "#46039f"
             ],
             [
              0.2222222222222222,
              "#7201a8"
             ],
             [
              0.3333333333333333,
              "#9c179e"
             ],
             [
              0.4444444444444444,
              "#bd3786"
             ],
             [
              0.5555555555555556,
              "#d8576b"
             ],
             [
              0.6666666666666666,
              "#ed7953"
             ],
             [
              0.7777777777777778,
              "#fb9f3a"
             ],
             [
              0.8888888888888888,
              "#fdca26"
             ],
             [
              1,
              "#f0f921"
             ]
            ],
            "type": "histogram2d"
           }
          ],
          "histogram2dcontour": [
           {
            "colorbar": {
             "outlinewidth": 0,
             "ticks": ""
            },
            "colorscale": [
             [
              0,
              "#0d0887"
             ],
             [
              0.1111111111111111,
              "#46039f"
             ],
             [
              0.2222222222222222,
              "#7201a8"
             ],
             [
              0.3333333333333333,
              "#9c179e"
             ],
             [
              0.4444444444444444,
              "#bd3786"
             ],
             [
              0.5555555555555556,
              "#d8576b"
             ],
             [
              0.6666666666666666,
              "#ed7953"
             ],
             [
              0.7777777777777778,
              "#fb9f3a"
             ],
             [
              0.8888888888888888,
              "#fdca26"
             ],
             [
              1,
              "#f0f921"
             ]
            ],
            "type": "histogram2dcontour"
           }
          ],
          "mesh3d": [
           {
            "colorbar": {
             "outlinewidth": 0,
             "ticks": ""
            },
            "type": "mesh3d"
           }
          ],
          "parcoords": [
           {
            "line": {
             "colorbar": {
              "outlinewidth": 0,
              "ticks": ""
             }
            },
            "type": "parcoords"
           }
          ],
          "pie": [
           {
            "automargin": true,
            "type": "pie"
           }
          ],
          "scatter": [
           {
            "fillpattern": {
             "fillmode": "overlay",
             "size": 10,
             "solidity": 0.2
            },
            "type": "scatter"
           }
          ],
          "scatter3d": [
           {
            "line": {
             "colorbar": {
              "outlinewidth": 0,
              "ticks": ""
             }
            },
            "marker": {
             "colorbar": {
              "outlinewidth": 0,
              "ticks": ""
             }
            },
            "type": "scatter3d"
           }
          ],
          "scattercarpet": [
           {
            "marker": {
             "colorbar": {
              "outlinewidth": 0,
              "ticks": ""
             }
            },
            "type": "scattercarpet"
           }
          ],
          "scattergeo": [
           {
            "marker": {
             "colorbar": {
              "outlinewidth": 0,
              "ticks": ""
             }
            },
            "type": "scattergeo"
           }
          ],
          "scattergl": [
           {
            "marker": {
             "colorbar": {
              "outlinewidth": 0,
              "ticks": ""
             }
            },
            "type": "scattergl"
           }
          ],
          "scattermapbox": [
           {
            "marker": {
             "colorbar": {
              "outlinewidth": 0,
              "ticks": ""
             }
            },
            "type": "scattermapbox"
           }
          ],
          "scatterpolar": [
           {
            "marker": {
             "colorbar": {
              "outlinewidth": 0,
              "ticks": ""
             }
            },
            "type": "scatterpolar"
           }
          ],
          "scatterpolargl": [
           {
            "marker": {
             "colorbar": {
              "outlinewidth": 0,
              "ticks": ""
             }
            },
            "type": "scatterpolargl"
           }
          ],
          "scatterternary": [
           {
            "marker": {
             "colorbar": {
              "outlinewidth": 0,
              "ticks": ""
             }
            },
            "type": "scatterternary"
           }
          ],
          "surface": [
           {
            "colorbar": {
             "outlinewidth": 0,
             "ticks": ""
            },
            "colorscale": [
             [
              0,
              "#0d0887"
             ],
             [
              0.1111111111111111,
              "#46039f"
             ],
             [
              0.2222222222222222,
              "#7201a8"
             ],
             [
              0.3333333333333333,
              "#9c179e"
             ],
             [
              0.4444444444444444,
              "#bd3786"
             ],
             [
              0.5555555555555556,
              "#d8576b"
             ],
             [
              0.6666666666666666,
              "#ed7953"
             ],
             [
              0.7777777777777778,
              "#fb9f3a"
             ],
             [
              0.8888888888888888,
              "#fdca26"
             ],
             [
              1,
              "#f0f921"
             ]
            ],
            "type": "surface"
           }
          ],
          "table": [
           {
            "cells": {
             "fill": {
              "color": "#EBF0F8"
             },
             "line": {
              "color": "white"
             }
            },
            "header": {
             "fill": {
              "color": "#C8D4E3"
             },
             "line": {
              "color": "white"
             }
            },
            "type": "table"
           }
          ]
         },
         "layout": {
          "annotationdefaults": {
           "arrowcolor": "#2a3f5f",
           "arrowhead": 0,
           "arrowwidth": 1
          },
          "autotypenumbers": "strict",
          "coloraxis": {
           "colorbar": {
            "outlinewidth": 0,
            "ticks": ""
           }
          },
          "colorscale": {
           "diverging": [
            [
             0,
             "#8e0152"
            ],
            [
             0.1,
             "#c51b7d"
            ],
            [
             0.2,
             "#de77ae"
            ],
            [
             0.3,
             "#f1b6da"
            ],
            [
             0.4,
             "#fde0ef"
            ],
            [
             0.5,
             "#f7f7f7"
            ],
            [
             0.6,
             "#e6f5d0"
            ],
            [
             0.7,
             "#b8e186"
            ],
            [
             0.8,
             "#7fbc41"
            ],
            [
             0.9,
             "#4d9221"
            ],
            [
             1,
             "#276419"
            ]
           ],
           "sequential": [
            [
             0,
             "#0d0887"
            ],
            [
             0.1111111111111111,
             "#46039f"
            ],
            [
             0.2222222222222222,
             "#7201a8"
            ],
            [
             0.3333333333333333,
             "#9c179e"
            ],
            [
             0.4444444444444444,
             "#bd3786"
            ],
            [
             0.5555555555555556,
             "#d8576b"
            ],
            [
             0.6666666666666666,
             "#ed7953"
            ],
            [
             0.7777777777777778,
             "#fb9f3a"
            ],
            [
             0.8888888888888888,
             "#fdca26"
            ],
            [
             1,
             "#f0f921"
            ]
           ],
           "sequentialminus": [
            [
             0,
             "#0d0887"
            ],
            [
             0.1111111111111111,
             "#46039f"
            ],
            [
             0.2222222222222222,
             "#7201a8"
            ],
            [
             0.3333333333333333,
             "#9c179e"
            ],
            [
             0.4444444444444444,
             "#bd3786"
            ],
            [
             0.5555555555555556,
             "#d8576b"
            ],
            [
             0.6666666666666666,
             "#ed7953"
            ],
            [
             0.7777777777777778,
             "#fb9f3a"
            ],
            [
             0.8888888888888888,
             "#fdca26"
            ],
            [
             1,
             "#f0f921"
            ]
           ]
          },
          "colorway": [
           "#636efa",
           "#EF553B",
           "#00cc96",
           "#ab63fa",
           "#FFA15A",
           "#19d3f3",
           "#FF6692",
           "#B6E880",
           "#FF97FF",
           "#FECB52"
          ],
          "font": {
           "color": "#2a3f5f"
          },
          "geo": {
           "bgcolor": "white",
           "lakecolor": "white",
           "landcolor": "#E5ECF6",
           "showlakes": true,
           "showland": true,
           "subunitcolor": "white"
          },
          "hoverlabel": {
           "align": "left"
          },
          "hovermode": "closest",
          "mapbox": {
           "style": "light"
          },
          "paper_bgcolor": "white",
          "plot_bgcolor": "#E5ECF6",
          "polar": {
           "angularaxis": {
            "gridcolor": "white",
            "linecolor": "white",
            "ticks": ""
           },
           "bgcolor": "#E5ECF6",
           "radialaxis": {
            "gridcolor": "white",
            "linecolor": "white",
            "ticks": ""
           }
          },
          "scene": {
           "xaxis": {
            "backgroundcolor": "#E5ECF6",
            "gridcolor": "white",
            "gridwidth": 2,
            "linecolor": "white",
            "showbackground": true,
            "ticks": "",
            "zerolinecolor": "white"
           },
           "yaxis": {
            "backgroundcolor": "#E5ECF6",
            "gridcolor": "white",
            "gridwidth": 2,
            "linecolor": "white",
            "showbackground": true,
            "ticks": "",
            "zerolinecolor": "white"
           },
           "zaxis": {
            "backgroundcolor": "#E5ECF6",
            "gridcolor": "white",
            "gridwidth": 2,
            "linecolor": "white",
            "showbackground": true,
            "ticks": "",
            "zerolinecolor": "white"
           }
          },
          "shapedefaults": {
           "line": {
            "color": "#2a3f5f"
           }
          },
          "ternary": {
           "aaxis": {
            "gridcolor": "white",
            "linecolor": "white",
            "ticks": ""
           },
           "baxis": {
            "gridcolor": "white",
            "linecolor": "white",
            "ticks": ""
           },
           "bgcolor": "#E5ECF6",
           "caxis": {
            "gridcolor": "white",
            "linecolor": "white",
            "ticks": ""
           }
          },
          "title": {
           "x": 0.05
          },
          "xaxis": {
           "automargin": true,
           "gridcolor": "white",
           "linecolor": "white",
           "ticks": "",
           "title": {
            "standoff": 15
           },
           "zerolinecolor": "white",
           "zerolinewidth": 2
          },
          "yaxis": {
           "automargin": true,
           "gridcolor": "white",
           "linecolor": "white",
           "ticks": "",
           "title": {
            "standoff": 15
           },
           "zerolinecolor": "white",
           "zerolinewidth": 2
          }
         }
        },
        "xaxis": {
         "anchor": "y",
         "domain": [
          0,
          1
         ],
         "title": {
          "text": "method"
         }
        },
        "yaxis": {
         "anchor": "x",
         "domain": [
          0,
          1
         ],
         "range": [
          0,
          1
         ],
         "title": {
          "text": "ARI"
         }
        }
       }
      },
      "text/html": [
       "<div>                            <div id=\"7f47b7ab-4522-4375-a35d-c78ba8d22ede\" class=\"plotly-graph-div\" style=\"height:525px; width:100%;\"></div>            <script type=\"text/javascript\">                require([\"plotly\"], function(Plotly) {                    window.PLOTLYENV=window.PLOTLYENV || {};                                    if (document.getElementById(\"7f47b7ab-4522-4375-a35d-c78ba8d22ede\")) {                    Plotly.newPlot(                        \"7f47b7ab-4522-4375-a35d-c78ba8d22ede\",                        [{\"alignmentgroup\":\"True\",\"boxpoints\":\"all\",\"fillcolor\":\"rgba(255,255,255,0)\",\"hoveron\":\"points\",\"hovertemplate\":\"true_col=1_Group<br>method=%{x}<br>ARI=%{y}<extra></extra>\",\"legendgroup\":\"1_Group\",\"line\":{\"color\":\"rgba(255,255,255,0)\"},\"marker\":{\"color\":\"#636efa\"},\"name\":\"1_Group\",\"offsetgroup\":\"1_Group\",\"orientation\":\"v\",\"pointpos\":0,\"showlegend\":true,\"x\":[\"poincare\",\"mds\",\"tsne\",\"umap\",\"pca\",\"poincare\",\"mds\",\"tsne\",\"umap\",\"pca\",\"poincare\",\"mds\",\"tsne\",\"umap\",\"pca\",\"poincare\",\"mds\",\"tsne\",\"umap\",\"pca\",\"poincare\",\"mds\",\"tsne\",\"umap\",\"pca\"],\"x0\":\" \",\"xaxis\":\"x\",\"y\":[0.5763304180120301,0.6747752990983337,0.6843673582713222,0.4228037529739668,0.0016409684237495199,0.6121535072956908,0.5048862418648993,0.5681849473927691,0.5048201754044911,0.0016409684237495199,0.49295364953420223,0.537688096960731,0.6803656203763533,0.38239838264410425,0.0016409684237495199,0.5904676847632901,0.5469792806153245,0.6020359329522003,0.43289801654435417,0.0016409684237495199,0.5011204978380919,0.5616463717388176,0.5312400916923943,0.3334124828611559,0.0016409684237495199],\"y0\":\" \",\"yaxis\":\"y\",\"type\":\"box\"},{\"alignmentgroup\":\"True\",\"boxpoints\":\"all\",\"fillcolor\":\"rgba(255,255,255,0)\",\"hoveron\":\"points\",\"hovertemplate\":\"true_col=small_cluster<br>method=%{x}<br>ARI=%{y}<extra></extra>\",\"legendgroup\":\"small_cluster\",\"line\":{\"color\":\"rgba(255,255,255,0)\"},\"marker\":{\"color\":\"#EF553B\"},\"name\":\"small_cluster\",\"offsetgroup\":\"small_cluster\",\"orientation\":\"v\",\"pointpos\":0,\"showlegend\":true,\"x\":[\"poincare\",\"mds\",\"tsne\",\"umap\",\"pca\",\"poincare\",\"mds\",\"tsne\",\"umap\",\"pca\",\"poincare\",\"mds\",\"tsne\",\"umap\",\"pca\",\"poincare\",\"mds\",\"tsne\",\"umap\",\"pca\",\"poincare\",\"mds\",\"tsne\",\"umap\",\"pca\"],\"x0\":\" \",\"xaxis\":\"x\",\"y\":[0.28375783808245275,0.1818477214737352,0.28128452329800946,0.28496715891065194,0.19712302302385717,0.2878847257205536,0.17734826016504918,0.30129130442428503,0.27403685927750016,0.19712302302385717,0.3210901446277274,0.1863570427976615,0.2860441567169614,0.28228335433119933,0.19712302302385717,0.28524064960392154,0.17475717644995054,0.2865440053084116,0.27126028215748266,0.19712302302385717,0.28912506791278697,0.19558752573775443,0.29310876139267156,0.2953115937005016,0.19712302302385717],\"y0\":\" \",\"yaxis\":\"y\",\"type\":\"box\"}],                        {\"template\":{\"data\":{\"histogram2dcontour\":[{\"type\":\"histogram2dcontour\",\"colorbar\":{\"outlinewidth\":0,\"ticks\":\"\"},\"colorscale\":[[0.0,\"#0d0887\"],[0.1111111111111111,\"#46039f\"],[0.2222222222222222,\"#7201a8\"],[0.3333333333333333,\"#9c179e\"],[0.4444444444444444,\"#bd3786\"],[0.5555555555555556,\"#d8576b\"],[0.6666666666666666,\"#ed7953\"],[0.7777777777777778,\"#fb9f3a\"],[0.8888888888888888,\"#fdca26\"],[1.0,\"#f0f921\"]]}],\"choropleth\":[{\"type\":\"choropleth\",\"colorbar\":{\"outlinewidth\":0,\"ticks\":\"\"}}],\"histogram2d\":[{\"type\":\"histogram2d\",\"colorbar\":{\"outlinewidth\":0,\"ticks\":\"\"},\"colorscale\":[[0.0,\"#0d0887\"],[0.1111111111111111,\"#46039f\"],[0.2222222222222222,\"#7201a8\"],[0.3333333333333333,\"#9c179e\"],[0.4444444444444444,\"#bd3786\"],[0.5555555555555556,\"#d8576b\"],[0.6666666666666666,\"#ed7953\"],[0.7777777777777778,\"#fb9f3a\"],[0.8888888888888888,\"#fdca26\"],[1.0,\"#f0f921\"]]}],\"heatmap\":[{\"type\":\"heatmap\",\"colorbar\":{\"outlinewidth\":0,\"ticks\":\"\"},\"colorscale\":[[0.0,\"#0d0887\"],[0.1111111111111111,\"#46039f\"],[0.2222222222222222,\"#7201a8\"],[0.3333333333333333,\"#9c179e\"],[0.4444444444444444,\"#bd3786\"],[0.5555555555555556,\"#d8576b\"],[0.6666666666666666,\"#ed7953\"],[0.7777777777777778,\"#fb9f3a\"],[0.8888888888888888,\"#fdca26\"],[1.0,\"#f0f921\"]]}],\"heatmapgl\":[{\"type\":\"heatmapgl\",\"colorbar\":{\"outlinewidth\":0,\"ticks\":\"\"},\"colorscale\":[[0.0,\"#0d0887\"],[0.1111111111111111,\"#46039f\"],[0.2222222222222222,\"#7201a8\"],[0.3333333333333333,\"#9c179e\"],[0.4444444444444444,\"#bd3786\"],[0.5555555555555556,\"#d8576b\"],[0.6666666666666666,\"#ed7953\"],[0.7777777777777778,\"#fb9f3a\"],[0.8888888888888888,\"#fdca26\"],[1.0,\"#f0f921\"]]}],\"contourcarpet\":[{\"type\":\"contourcarpet\",\"colorbar\":{\"outlinewidth\":0,\"ticks\":\"\"}}],\"contour\":[{\"type\":\"contour\",\"colorbar\":{\"outlinewidth\":0,\"ticks\":\"\"},\"colorscale\":[[0.0,\"#0d0887\"],[0.1111111111111111,\"#46039f\"],[0.2222222222222222,\"#7201a8\"],[0.3333333333333333,\"#9c179e\"],[0.4444444444444444,\"#bd3786\"],[0.5555555555555556,\"#d8576b\"],[0.6666666666666666,\"#ed7953\"],[0.7777777777777778,\"#fb9f3a\"],[0.8888888888888888,\"#fdca26\"],[1.0,\"#f0f921\"]]}],\"surface\":[{\"type\":\"surface\",\"colorbar\":{\"outlinewidth\":0,\"ticks\":\"\"},\"colorscale\":[[0.0,\"#0d0887\"],[0.1111111111111111,\"#46039f\"],[0.2222222222222222,\"#7201a8\"],[0.3333333333333333,\"#9c179e\"],[0.4444444444444444,\"#bd3786\"],[0.5555555555555556,\"#d8576b\"],[0.6666666666666666,\"#ed7953\"],[0.7777777777777778,\"#fb9f3a\"],[0.8888888888888888,\"#fdca26\"],[1.0,\"#f0f921\"]]}],\"mesh3d\":[{\"type\":\"mesh3d\",\"colorbar\":{\"outlinewidth\":0,\"ticks\":\"\"}}],\"scatter\":[{\"fillpattern\":{\"fillmode\":\"overlay\",\"size\":10,\"solidity\":0.2},\"type\":\"scatter\"}],\"parcoords\":[{\"type\":\"parcoords\",\"line\":{\"colorbar\":{\"outlinewidth\":0,\"ticks\":\"\"}}}],\"scatterpolargl\":[{\"type\":\"scatterpolargl\",\"marker\":{\"colorbar\":{\"outlinewidth\":0,\"ticks\":\"\"}}}],\"bar\":[{\"error_x\":{\"color\":\"#2a3f5f\"},\"error_y\":{\"color\":\"#2a3f5f\"},\"marker\":{\"line\":{\"color\":\"#E5ECF6\",\"width\":0.5},\"pattern\":{\"fillmode\":\"overlay\",\"size\":10,\"solidity\":0.2}},\"type\":\"bar\"}],\"scattergeo\":[{\"type\":\"scattergeo\",\"marker\":{\"colorbar\":{\"outlinewidth\":0,\"ticks\":\"\"}}}],\"scatterpolar\":[{\"type\":\"scatterpolar\",\"marker\":{\"colorbar\":{\"outlinewidth\":0,\"ticks\":\"\"}}}],\"histogram\":[{\"marker\":{\"pattern\":{\"fillmode\":\"overlay\",\"size\":10,\"solidity\":0.2}},\"type\":\"histogram\"}],\"scattergl\":[{\"type\":\"scattergl\",\"marker\":{\"colorbar\":{\"outlinewidth\":0,\"ticks\":\"\"}}}],\"scatter3d\":[{\"type\":\"scatter3d\",\"line\":{\"colorbar\":{\"outlinewidth\":0,\"ticks\":\"\"}},\"marker\":{\"colorbar\":{\"outlinewidth\":0,\"ticks\":\"\"}}}],\"scattermapbox\":[{\"type\":\"scattermapbox\",\"marker\":{\"colorbar\":{\"outlinewidth\":0,\"ticks\":\"\"}}}],\"scatterternary\":[{\"type\":\"scatterternary\",\"marker\":{\"colorbar\":{\"outlinewidth\":0,\"ticks\":\"\"}}}],\"scattercarpet\":[{\"type\":\"scattercarpet\",\"marker\":{\"colorbar\":{\"outlinewidth\":0,\"ticks\":\"\"}}}],\"carpet\":[{\"aaxis\":{\"endlinecolor\":\"#2a3f5f\",\"gridcolor\":\"white\",\"linecolor\":\"white\",\"minorgridcolor\":\"white\",\"startlinecolor\":\"#2a3f5f\"},\"baxis\":{\"endlinecolor\":\"#2a3f5f\",\"gridcolor\":\"white\",\"linecolor\":\"white\",\"minorgridcolor\":\"white\",\"startlinecolor\":\"#2a3f5f\"},\"type\":\"carpet\"}],\"table\":[{\"cells\":{\"fill\":{\"color\":\"#EBF0F8\"},\"line\":{\"color\":\"white\"}},\"header\":{\"fill\":{\"color\":\"#C8D4E3\"},\"line\":{\"color\":\"white\"}},\"type\":\"table\"}],\"barpolar\":[{\"marker\":{\"line\":{\"color\":\"#E5ECF6\",\"width\":0.5},\"pattern\":{\"fillmode\":\"overlay\",\"size\":10,\"solidity\":0.2}},\"type\":\"barpolar\"}],\"pie\":[{\"automargin\":true,\"type\":\"pie\"}]},\"layout\":{\"autotypenumbers\":\"strict\",\"colorway\":[\"#636efa\",\"#EF553B\",\"#00cc96\",\"#ab63fa\",\"#FFA15A\",\"#19d3f3\",\"#FF6692\",\"#B6E880\",\"#FF97FF\",\"#FECB52\"],\"font\":{\"color\":\"#2a3f5f\"},\"hovermode\":\"closest\",\"hoverlabel\":{\"align\":\"left\"},\"paper_bgcolor\":\"white\",\"plot_bgcolor\":\"#E5ECF6\",\"polar\":{\"bgcolor\":\"#E5ECF6\",\"angularaxis\":{\"gridcolor\":\"white\",\"linecolor\":\"white\",\"ticks\":\"\"},\"radialaxis\":{\"gridcolor\":\"white\",\"linecolor\":\"white\",\"ticks\":\"\"}},\"ternary\":{\"bgcolor\":\"#E5ECF6\",\"aaxis\":{\"gridcolor\":\"white\",\"linecolor\":\"white\",\"ticks\":\"\"},\"baxis\":{\"gridcolor\":\"white\",\"linecolor\":\"white\",\"ticks\":\"\"},\"caxis\":{\"gridcolor\":\"white\",\"linecolor\":\"white\",\"ticks\":\"\"}},\"coloraxis\":{\"colorbar\":{\"outlinewidth\":0,\"ticks\":\"\"}},\"colorscale\":{\"sequential\":[[0.0,\"#0d0887\"],[0.1111111111111111,\"#46039f\"],[0.2222222222222222,\"#7201a8\"],[0.3333333333333333,\"#9c179e\"],[0.4444444444444444,\"#bd3786\"],[0.5555555555555556,\"#d8576b\"],[0.6666666666666666,\"#ed7953\"],[0.7777777777777778,\"#fb9f3a\"],[0.8888888888888888,\"#fdca26\"],[1.0,\"#f0f921\"]],\"sequentialminus\":[[0.0,\"#0d0887\"],[0.1111111111111111,\"#46039f\"],[0.2222222222222222,\"#7201a8\"],[0.3333333333333333,\"#9c179e\"],[0.4444444444444444,\"#bd3786\"],[0.5555555555555556,\"#d8576b\"],[0.6666666666666666,\"#ed7953\"],[0.7777777777777778,\"#fb9f3a\"],[0.8888888888888888,\"#fdca26\"],[1.0,\"#f0f921\"]],\"diverging\":[[0,\"#8e0152\"],[0.1,\"#c51b7d\"],[0.2,\"#de77ae\"],[0.3,\"#f1b6da\"],[0.4,\"#fde0ef\"],[0.5,\"#f7f7f7\"],[0.6,\"#e6f5d0\"],[0.7,\"#b8e186\"],[0.8,\"#7fbc41\"],[0.9,\"#4d9221\"],[1,\"#276419\"]]},\"xaxis\":{\"gridcolor\":\"white\",\"linecolor\":\"white\",\"ticks\":\"\",\"title\":{\"standoff\":15},\"zerolinecolor\":\"white\",\"automargin\":true,\"zerolinewidth\":2},\"yaxis\":{\"gridcolor\":\"white\",\"linecolor\":\"white\",\"ticks\":\"\",\"title\":{\"standoff\":15},\"zerolinecolor\":\"white\",\"automargin\":true,\"zerolinewidth\":2},\"scene\":{\"xaxis\":{\"backgroundcolor\":\"#E5ECF6\",\"gridcolor\":\"white\",\"linecolor\":\"white\",\"showbackground\":true,\"ticks\":\"\",\"zerolinecolor\":\"white\",\"gridwidth\":2},\"yaxis\":{\"backgroundcolor\":\"#E5ECF6\",\"gridcolor\":\"white\",\"linecolor\":\"white\",\"showbackground\":true,\"ticks\":\"\",\"zerolinecolor\":\"white\",\"gridwidth\":2},\"zaxis\":{\"backgroundcolor\":\"#E5ECF6\",\"gridcolor\":\"white\",\"linecolor\":\"white\",\"showbackground\":true,\"ticks\":\"\",\"zerolinecolor\":\"white\",\"gridwidth\":2}},\"shapedefaults\":{\"line\":{\"color\":\"#2a3f5f\"}},\"annotationdefaults\":{\"arrowcolor\":\"#2a3f5f\",\"arrowhead\":0,\"arrowwidth\":1},\"geo\":{\"bgcolor\":\"white\",\"landcolor\":\"#E5ECF6\",\"subunitcolor\":\"white\",\"showland\":true,\"showlakes\":true,\"lakecolor\":\"white\"},\"title\":{\"x\":0.05},\"mapbox\":{\"style\":\"light\"}}},\"xaxis\":{\"anchor\":\"y\",\"domain\":[0.0,1.0],\"title\":{\"text\":\"method\"}},\"yaxis\":{\"anchor\":\"x\",\"domain\":[0.0,1.0],\"title\":{\"text\":\"ARI\"},\"range\":[0,1]},\"legend\":{\"title\":{\"text\":\"true_col\"},\"tracegroupgap\":0},\"margin\":{\"t\":60},\"boxmode\":\"group\"},                        {\"responsive\": true}                    ).then(function(){\n",
       "                            \n",
       "var gd = document.getElementById('7f47b7ab-4522-4375-a35d-c78ba8d22ede');\n",
       "var x = new MutationObserver(function (mutations, observer) {{\n",
       "        var display = window.getComputedStyle(gd).display;\n",
       "        if (!display || display === 'none') {{\n",
       "            console.log([gd, 'removed!']);\n",
       "            Plotly.purge(gd);\n",
       "            observer.disconnect();\n",
       "        }}\n",
       "}});\n",
       "\n",
       "// Listen for the removal of the full notebook cells\n",
       "var notebookContainer = gd.closest('#notebook-container');\n",
       "if (notebookContainer) {{\n",
       "    x.observe(notebookContainer, {childList: true});\n",
       "}}\n",
       "\n",
       "// Listen for the clearing of the current output cell\n",
       "var outputEl = gd.closest('.output');\n",
       "if (outputEl) {{\n",
       "    x.observe(outputEl, {childList: true});\n",
       "}}\n",
       "\n",
       "                        })                };                });            </script>        </div>"
      ]
     },
     "metadata": {},
     "output_type": "display_data"
    }
   ],
   "source": [
    "fig = px.strip(df_results_clust, x='method', y='ARI', color = \"true_col\")\n",
    "fig.update_yaxes(range = [0,1])\n",
    "fig.show()"
   ]
  },
  {
   "cell_type": "code",
   "execution_count": 34,
   "id": "a8dfc1ef",
   "metadata": {},
   "outputs": [],
   "source": [
    "fig.write_image(\"ARI_kinases.pdf\")"
   ]
  },
  {
   "cell_type": "markdown",
   "id": "95350cf0",
   "metadata": {},
   "source": [
    "## Evaluate projection"
   ]
  },
  {
   "cell_type": "code",
   "execution_count": 36,
   "id": "b47000be",
   "metadata": {},
   "outputs": [],
   "source": [
    "df_results_proj = pd.DataFrame()"
   ]
  },
  {
   "cell_type": "code",
   "execution_count": 37,
   "id": "ad0960ee",
   "metadata": {},
   "outputs": [
    {
     "name": "stdout",
     "output_type": "stream",
     "text": [
      "Connecting 4\n",
      "Connecting 4\n",
      "Connecting 4\n",
      "Connecting 4\n",
      "Connecting 4\n",
      "Connecting 4\n",
      "Connecting 4\n",
      "Connecting 4\n",
      "Connecting 4\n",
      "Connecting 4\n",
      "Connecting 4\n",
      "Connecting 4\n",
      "Connecting 4\n",
      "Connecting 4\n",
      "Connecting 4\n",
      "Connecting 4\n",
      "Connecting 4\n",
      "Connecting 4\n",
      "Connecting 4\n",
      "Connecting 4\n",
      "Connecting 4\n",
      "Connecting 4\n",
      "Connecting 4\n",
      "Connecting 4\n",
      "Connecting 4\n"
     ]
    }
   ],
   "source": [
    "cname = 'agglomerative'\n",
    "setting =   \"manifold\" # \"global\" #\n",
    "\n",
    "for seed in range(5):\n",
    "    # read poincare and annotations\n",
    "    path_embedding = f\"{out_name}/projections/PM{knn:1.0f}sigma={sigma:2.2f}gamma={gamma:2.2f}cosinepca={cospca:1.0f}_seed{seed:1.0f}.csv\"\n",
    "    df_embedding = read_embeddings(path_embedding, path_annotation, withroot=False)\n",
    "    df_embedding.replace(\"Other\", \"OTHER\")\n",
    "    # calculate poincare distances\n",
    "    poincare_coord = df_embedding[[\"pm1\",\"pm2\"]]\n",
    "    poincare_coord = poincare_coord.values\n",
    "    #print(poincare_coord)\n",
    "    model = PoincareMaps(poincare_coord)\n",
    "    model.get_distances()\n",
    "    # MDS scores\n",
    "    X_cosine = pairwise_distances(features,metric='cosine')\n",
    "    X_mds = MDS(metric=True,dissimilarity='precomputed', random_state = seed).fit_transform(X_cosine)\n",
    "    df_embedding[\"x1_mds\"] = X_mds[:,0]\n",
    "    df_embedding[\"x2_mds\"] = X_mds[:,1]\n",
    "    # tSNE scores\n",
    "    X_tsne = TSNE(random_state = seed, metric = \"cosine\", perplexity=k_neigh).fit_transform(features)\n",
    "    df_embedding[\"x1_tsne\"] = X_tsne[:,0]\n",
    "    df_embedding[\"x2_tsne\"] = X_tsne[:,1]\n",
    "    # UMAP scores\n",
    "    X_umap = umap.UMAP(random_state = seed, metric = \"cosine\", n_neighbors = k_neigh).fit_transform(features)\n",
    "    df_embedding[\"x1_umap\"] = X_umap[:,0]\n",
    "    df_embedding[\"x2_umap\"] = X_umap[:,1]\n",
    "    # PCA scores\n",
    "    X_pca = KernelPCA(kernel='cosine', random_state = seed).fit_transform(features)\n",
    "    df_embedding[\"x1_pca\"] = X_pca[:,0]\n",
    "    df_embedding[\"x2_pca\"] = X_pca[:,1]\n",
    "    \n",
    "    \n",
    "    for clust_meth in [\"poincare\", \"mds\", \"tsne\", \"umap\", \"pca\"]:\n",
    "\n",
    "        if clust_meth == \"poincare\":\n",
    "            D = model.distances\n",
    "            Qlocal, Qglobal, Kmax, df_Q = get_quality_metrics(coord_high = features, coord_low = model.coordinates, distance=\"poincare\", setting=setting, k_neighbours=5)\n",
    "        else:\n",
    "            D = pairwise_distances(df_embedding.loc[:, \"x1_\"+clust_meth:\"x2_\"+clust_meth])\n",
    "            Qlocal, Qglobal, Kmax, df_Q = get_quality_metrics(coord_high = features, coord_low = df_embedding.loc[:, \"x1_\"+clust_meth:\"x2_\"+clust_meth], distance=\"euclidean\", setting=setting, k_neighbours=5)\n",
    "\n",
    "        corr = scipy.stats.spearmanr(D_raw.ravel(), D.ravel(), axis = 0)\n",
    "    \n",
    "        \n",
    "        df = pd.DataFrame({\"method\": [clust_meth], \"seed\": [seed], \"Qlocal\": [Qlocal], \"Qglobal\": [Qglobal], \"Kmax\": [Kmax], \"Qnx\": [df_Q.Qnx.to_numpy()]})\n",
    "        df_results_proj = df_results_proj.append(df)\n",
    "\n",
    "#print(df_results)"
   ]
  },
  {
   "cell_type": "code",
   "execution_count": 40,
   "id": "9e02f591",
   "metadata": {},
   "outputs": [
    {
     "name": "stdout",
     "output_type": "stream",
     "text": [
      "['#4c72b0', '#dd8452', '#55a868', '#c44e52', '#8172b3']\n",
      "{'poincare': '#4c72b0', 'mds': '#dd8452', 'tsne': '#55a868', 'umap': '#c44e52', 'pca': '#8172b3'}\n"
     ]
    }
   ],
   "source": [
    "import seaborn as sns\n",
    "import matplotlib.pyplot as plt\n",
    "%matplotlib inline\n",
    "print(sns.color_palette(palette=None, n_colors=5).as_hex())\n",
    "meth_palette = dict(zip([\"poincare\", \"mds\", \"tsne\", \"umap\", \"pca\"], sns.color_palette(palette=None, n_colors=5).as_hex()))\n",
    "print(meth_palette)"
   ]
  },
  {
   "cell_type": "code",
   "execution_count": 50,
   "id": "f164fd48",
   "metadata": {},
   "outputs": [
    {
     "name": "stdout",
     "output_type": "stream",
     "text": [
      "poincare 0.80, 0.01\n",
      "mds 0.68, 0.01\n",
      "tsne 0.75, 0.01\n",
      "umap 0.70, 0.01\n",
      "pca 0.70, 0.00\n"
     ]
    },
    {
     "data": {
      "image/png": "[encoded data removed]",
      "text/plain": [
       "<Figure size 432x288 with 1 Axes>"
      ]
     },
     "metadata": {
      "needs_background": "light"
     },
     "output_type": "display_data"
    }
   ],
   "source": [
    "#print(df_results_proj.Qnx.values)\n",
    "\n",
    "for clust_meth in [\"poincare\", \"mds\", \"tsne\", \"umap\", \"pca\"]:\n",
    "    Qnx_mean = []\n",
    "\n",
    "    for seed in range(5):\n",
    "        xx = df_results_proj[(df_results_proj.method==clust_meth)&(df_results_proj.seed==seed)].Qnx.values\n",
    "        xx = xx.squeeze()[()]\n",
    "        Qnx_mean.append(xx.mean())\n",
    "        #print(len(xx))\n",
    "        #fig = px.line(x = range(1,len(xx)+1), y= xx)\n",
    "        if seed == 0:\n",
    "            sns.lineplot(range(1,len(xx)+1), xx, color = meth_palette[clust_meth], label = clust_meth)\n",
    "        else:\n",
    "            sns.lineplot(range(1,len(xx)+1), xx, color = meth_palette[clust_meth])#, label = clust_meth)\n",
    "    print(clust_meth, \"%2.2f, %2.2f\"%(np.mean(Qnx_mean), np.std(Qnx_mean)))\n",
    "\n",
    "#plt.legend()\n",
    "plt.xlabel(\"K\")\n",
    "plt.ylabel(\"Qnx\")\n",
    "plt.ylim([0,1.1])\n",
    "plt.savefig(\"Qnx_global_kinases.pdf\")\n",
    "plt.show()\n",
    "\n",
    "#fig.show()"
   ]
  },
  {
   "cell_type": "code",
   "execution_count": 42,
   "id": "12a59e05",
   "metadata": {},
   "outputs": [
    {
     "name": "stdout",
     "output_type": "stream",
     "text": [
      "Local\n",
      "poincare 0.59, 0.01\n",
      "mds 0.36, 0.01\n",
      "tsne 0.90, 0.00\n",
      "umap 0.56, 0.01\n",
      "pca 0.37, 0.00\n",
      "Global\n",
      "poincare 0.81, 0.01\n",
      "mds 0.68, 0.01\n",
      "tsne 0.75, 0.01\n",
      "umap 0.70, 0.01\n",
      "pca 0.75, 0.00\n"
     ]
    }
   ],
   "source": [
    "print(\"Local\")\n",
    "for clust_meth in [\"poincare\", \"mds\", \"tsne\", \"umap\", \"pca\"]:\n",
    "    print(clust_meth, \"%2.2f, %2.2f\"%(df_results_proj[(df_results_proj.method==clust_meth)].Qlocal.values.mean(), df_results_proj[(df_results_proj.method==clust_meth)].Qlocal.values.std()))\n",
    "    \n",
    "print(\"Global\")   \n",
    "for clust_meth in [\"poincare\", \"mds\", \"tsne\", \"umap\", \"pca\"]:\n",
    "    print(clust_meth, \"%2.2f, %2.2f\"%(df_results_proj[(df_results_proj.method==clust_meth)].Qglobal.values.mean(), df_results_proj[(df_results_proj.method==clust_meth)].Qglobal.values.std()))"
   ]
  },
  {
   "cell_type": "code",
   "execution_count": null,
   "id": "5b3571b4",
   "metadata": {},
   "outputs": [],
   "source": [
    "#fig = px.strip(df_results, x='method', y='FMS', color = \"true_col\")\n",
    "#fig.show()"
   ]
  },
  {
   "cell_type": "code",
   "execution_count": null,
   "id": "546f203f",
   "metadata": {},
   "outputs": [],
   "source": [
    "#fig = px.strip(df_results[df_results.true_col==\"1_Group\"], x='method', y=['corr'])\n",
    "#fig.show()"
   ]
  },
  {
   "cell_type": "code",
   "execution_count": null,
   "id": "c0bd7e86",
   "metadata": {},
   "outputs": [],
   "source": [
    "fig = px.strip(df_results[df_results.true_col==\"1_Group\"], x='method', y=['Qglobal'])\n",
    "fig.show()"
   ]
  },
  {
   "cell_type": "code",
   "execution_count": null,
   "id": "6a23cf6f",
   "metadata": {},
   "outputs": [],
   "source": [
    "fig = px.strip(df_results[df_results.true_col==\"1_Group\"], x='method', y=['Qlocal'])\n",
    "fig.show()"
   ]
  },
  {
   "cell_type": "code",
   "execution_count": null,
   "id": "b1644d35",
   "metadata": {},
   "outputs": [],
   "source": [
    "fig = px.strip( df_results[(df_results.true_col==\"1_Group\") & (df_results.method.isin([\"poincare\",\"tsne\", \"umap\"])) ], x='method', y=['Kmax'])\n",
    "fig.show()"
   ]
  },
  {
   "cell_type": "markdown",
   "id": "4be2a2e9",
   "metadata": {},
   "source": [
    "### Poincaré distances hyperboliques "
   ]
  },
  {
   "cell_type": "code",
   "execution_count": null,
   "id": "f290ea93",
   "metadata": {},
   "outputs": [],
   "source": [
    "for cname in ['agglomerative', 'spectral']:#, 'agglomerative', 'kmedoids']:\n",
    "    clusters = detect_cluster(model.distances, n_clusters=nc, clustering_name=cname)#, k=15)\n",
    "    df_embedding[\"clust_poincare\"] = clusters\n",
    "    df_embedding[\"clust_poincare\"] = df_embedding[\"clust_poincare\"].astype(\"string\")\n",
    "    if remove_others:\n",
    "        df_noothers = df_embedding[df_embedding[true_col]!=\"OTHER\"]\n",
    "    print(df_embedding.shape, df_noothers.shape)\n",
    "    ARS, FMS = get_scores(df_noothers[true_col], df_noothers[\"clust_poincare\"])\n",
    "    print(scipy.stats.spearmanr(D_raw.ravel(), model.distances.ravel(), axis = 0))\n",
    "\n",
    "    fig = plot_embedding_interactive(df_embedding, \n",
    "                                 labels_name = \"clust_poincare\",\n",
    "                                 #second_labels_name = second_labels_name, \n",
    "                                 #show_text = show_text,\n",
    "                                 #labels_text = labels_text,\n",
    "                                 color_palette = None,\n",
    "                                 #color_discrete_sequence = px.colors.qualitative.Alphabet,\n",
    "                                 #color_discrete_map=kinase_palette,\n",
    "                                 #title = title, \n",
    "                                 fontsize = 11)\n",
    "    fig.show()\n",
    "\n",
    "\n",
    "        #        scores.append(s)\n",
    "#        titles.append(t)\n",
    "\n",
    "#for cname in ['spectral', 'agglomerative', 'kmedoids']:\n",
    " #       s, t = detect_cluster(model.get_distances(), \n",
    "  #                            n_clusters=nc, clustering_name=cname, k=15, distances='raw')\n",
    "        #scores.append(s)\n",
    "        #titles.append(t)"
   ]
  },
  {
   "cell_type": "markdown",
   "id": "5f36bbb0",
   "metadata": {},
   "source": [
    "### MDS"
   ]
  },
  {
   "cell_type": "code",
   "execution_count": null,
   "id": "79f757ff",
   "metadata": {},
   "outputs": [],
   "source": [
    "X_cosine = pairwise_distances(features,metric='cosine')\n",
    "X_mds = MDS(metric=True,dissimilarity='precomputed', random_state = 42).fit_transform(X_cosine)\n",
    "df_embedding[\"x1_mds\"] = X_mds[:,0]\n",
    "df_embedding[\"x2_mds\"] = X_mds[:,1]"
   ]
  },
  {
   "cell_type": "code",
   "execution_count": null,
   "id": "641cbf5e",
   "metadata": {},
   "outputs": [],
   "source": [
    "D = pairwise_distances(X_mds)\n",
    "print(D.shape)\n",
    "\n",
    "for cname in ['agglomerative','spectral']:#, 'agglomerative', 'kmedoids']:\n",
    "    clusters = detect_cluster(D, n_clusters=nc, clustering_name=cname)#, k=15)\n",
    "    df_embedding[\"clust_mds\"] = clusters\n",
    "    df_embedding[\"clust_mds\"] = df_embedding[\"clust_mds\"].astype(\"string\")\n",
    "    if remove_others:\n",
    "        df_noothers = df_embedding[df_embedding[true_col]!=\"OTHER\"]\n",
    "    print(df_embedding.shape, df_noothers.shape)\n",
    "    ARS, FMS = get_scores(df_noothers[true_col], df_noothers[\"clust_mds\"])\n",
    "    print(scipy.stats.spearmanr(D_raw.ravel(), D.ravel(), axis = 0))\n",
    "\n",
    "    plt = px.scatter(df_embedding, x = 'x1_mds', y = 'x2_mds',\n",
    "                     color = df_embedding[\"clust_mds\"],\n",
    "                     color_discrete_sequence = px.colors.qualitative.Alphabet,\n",
    "                     color_discrete_map=kinase_palette,\n",
    "                     #color_continuous_scale = \"Turbo\",\n",
    "                     ##labels={'color': labels}, \n",
    "                     #hover_name=labels_name,\n",
    "                     #hover_data=df.columns[2:],\n",
    "                     #height = 800,\n",
    "                     #title = title,\n",
    "                 )\n",
    "    plt.update_xaxes(range = [-0.7, 0.7], constrain=\"domain\")\n",
    "    plt.update_yaxes(range = [-0.7, 0.7], constrain=\"domain\")\n",
    "\n",
    "    plt.update_yaxes(scaleanchor = \"x\", scaleratio = 1)\n",
    "    plt.show()\n",
    "    \n",
    "    plt = px.scatter(df_embedding, x = 'x1_mds', y = 'x2_mds',\n",
    "                     color = df_embedding[true_col],\n",
    "                     color_discrete_sequence = px.colors.qualitative.Alphabet,\n",
    "                     color_discrete_map=kinase_palette,\n",
    "                     #color_continuous_scale = \"Turbo\",\n",
    "                     ##labels={'color': labels}, \n",
    "                     #hover_name=labels_name,\n",
    "                     #hover_data=df.columns[2:],\n",
    "                     #height = 800,\n",
    "                     #title = title,\n",
    "                 )\n",
    "    plt.update_xaxes(range = [-0.7, 0.7], constrain=\"domain\")\n",
    "    plt.update_yaxes(range = [-0.7, 0.7], constrain=\"domain\")\n",
    "\n",
    "    plt.update_yaxes(scaleanchor = \"x\", scaleratio = 1)\n",
    "    plt.show()"
   ]
  },
  {
   "cell_type": "markdown",
   "id": "067df679",
   "metadata": {},
   "source": [
    "### t-SNE"
   ]
  },
  {
   "cell_type": "code",
   "execution_count": null,
   "id": "c9b4c9be",
   "metadata": {},
   "outputs": [],
   "source": [
    "X_tsne = TSNE(random_state = 42, metric = \"cosine\", perplexity=k_neigh).fit_transform(features)\n",
    "df_embedding[\"x1_tsne\"] = X_tsne[:,0]\n",
    "df_embedding[\"x2_tsne\"] = X_tsne[:,1]"
   ]
  },
  {
   "cell_type": "code",
   "execution_count": null,
   "id": "53f775c6",
   "metadata": {},
   "outputs": [],
   "source": [
    "D = pairwise_distances(X_tsne)\n",
    "print(D.shape)\n",
    "\n",
    "for cname in ['agglomerative']:#, 'spectral']:#, 'agglomerative', 'kmedoids']:\n",
    "    clusters = detect_cluster(D, n_clusters=nc, clustering_name=cname)#, k=15)\n",
    "    df_embedding[\"clust_tsne\"] = clusters\n",
    "    df_embedding[\"clust_tsne\"] = df_embedding[\"clust_tsne\"].astype(\"string\")\n",
    "    if remove_others:\n",
    "        df_noothers = df_embedding[df_embedding[true_col]!=\"OTHER\"]\n",
    "    print(df_embedding.shape, df_noothers.shape)\n",
    "    ARS, FMS = get_scores(df_noothers[true_col], df_noothers[\"clust_tsne\"])\n",
    "    print(scipy.stats.spearmanr(D_raw.ravel(), D.ravel(), axis = 0))\n",
    "\n",
    "    plt = px.scatter(df_embedding, x = 'x1_tsne', y = 'x2_tsne',\n",
    "                     color = df_embedding[\"clust_tsne\"],\n",
    "                     color_discrete_sequence = px.colors.qualitative.Alphabet,\n",
    "                     color_discrete_map=kinase_palette,\n",
    "                     #color_continuous_scale = \"Turbo\",\n",
    "                     ##labels={'color': labels}, \n",
    "                     #hover_name=labels_name,\n",
    "                     #hover_data=df.columns[2:],\n",
    "                     #height = 800,\n",
    "                     #title = title,\n",
    "                 )\n",
    "    #plt.update_xaxes(range = [-10 50], constrain=\"domain\")\n",
    "    #plt.update_yaxes(range = [-0.5, 0.5], constrain=\"domain\")\n",
    "\n",
    "    plt.update_yaxes(scaleanchor = \"x\", scaleratio = 1)\n",
    "    plt.show()\n",
    "    \n",
    "    plt = px.scatter(df_embedding, x = 'x1_tsne', y = 'x2_tsne',\n",
    "                     color = df_embedding[true_col],\n",
    "                     color_discrete_sequence = px.colors.qualitative.Alphabet,\n",
    "                     color_discrete_map=kinase_palette,\n",
    "                     #color_continuous_scale = \"Turbo\",\n",
    "                     ##labels={'color': labels}, \n",
    "                     #hover_name=labels_name,\n",
    "                     #hover_data=df.columns[2:],\n",
    "                     #height = 800,\n",
    "                     #title = title,\n",
    "                 )\n",
    "    #plt.update_xaxes(range = [-60, 50], constrain=\"domain\")\n",
    "    #plt.update_yaxes(range = [-0.5, 0.5], constrain=\"domain\")\n",
    "\n",
    "    plt.update_yaxes(scaleanchor = \"x\", scaleratio = 1)\n",
    "    plt.show()"
   ]
  },
  {
   "cell_type": "markdown",
   "id": "58698e11",
   "metadata": {},
   "source": [
    "### Raw distances"
   ]
  },
  {
   "cell_type": "markdown",
   "id": "35460950",
   "metadata": {},
   "source": [
    "### UMAP"
   ]
  },
  {
   "cell_type": "code",
   "execution_count": null,
   "id": "64a273c9",
   "metadata": {},
   "outputs": [],
   "source": [
    "X_umap = umap.UMAP(random_state = 42, metric = \"cosine\", n_neighbors = k_neigh).fit_transform(features)\n",
    "df_embedding[\"x1_umap\"] = X_umap[:,0]\n",
    "df_embedding[\"x2_umap\"] = X_umap[:,1]"
   ]
  },
  {
   "cell_type": "code",
   "execution_count": null,
   "id": "267d6bbc",
   "metadata": {},
   "outputs": [],
   "source": [
    "D = pairwise_distances(X_umap)\n",
    "print(D.shape)\n",
    "\n",
    "for cname in ['agglomerative', 'spectral']:#, 'agglomerative', 'kmedoids']:\n",
    "    clusters = detect_cluster(D, n_clusters=nc, clustering_name=cname)#, k=15)\n",
    "    df_embedding[\"clust_umap\"] = clusters\n",
    "    df_embedding[\"clust_umap\"] = df_embedding[\"clust_umap\"].astype(\"string\")\n",
    "    if remove_others:\n",
    "        df_noothers = df_embedding[df_embedding[true_col]!=\"OTHER\"]\n",
    "    print(df_embedding.shape, df_noothers.shape)\n",
    "    ARS, FMS = get_scores(df_noothers[true_col], df_noothers[\"clust_umap\"])\n",
    "    print(scipy.stats.spearmanr(D_raw.ravel(), D.ravel(), axis = 0))\n",
    "\n",
    "    plt = px.scatter(df_embedding, x = 'x1_umap', y = 'x2_umap',\n",
    "                     color = df_embedding[\"clust_umap\"],\n",
    "                     color_discrete_sequence = px.colors.qualitative.Alphabet,\n",
    "                     color_discrete_map=kinase_palette,\n",
    "                     #color_continuous_scale = \"Turbo\",\n",
    "                     ##labels={'color': labels}, \n",
    "                     #hover_name=labels_name,\n",
    "                     #hover_data=df.columns[2:],\n",
    "                     #height = 800,\n",
    "                     #title = title,\n",
    "                 )\n",
    "    #plt.update_xaxes(range = [-10 50], constrain=\"domain\")\n",
    "    #plt.update_yaxes(range = [-0.5, 0.5], constrain=\"domain\")\n",
    "\n",
    "    plt.update_yaxes(scaleanchor = \"x\", scaleratio = 1)\n",
    "    plt.show()\n",
    "    \n",
    "plt = px.scatter(df_embedding, x = 'x1_umap', y = 'x2_umap',\n",
    "                     color = df_embedding[true_col],\n",
    "                     color_discrete_sequence = px.colors.qualitative.Alphabet,\n",
    "                     color_discrete_map=kinase_palette,\n",
    "                     #color_continuous_scale = \"Turbo\",\n",
    "                     ##labels={'color': labels}, \n",
    "                     #hover_name=labels_name,\n",
    "                     #hover_data=df.columns[2:],\n",
    "                     #height = 800,\n",
    "                     #title = title,\n",
    "                 )\n",
    "    #plt.update_xaxes(range = [-60, 50], constrain=\"domain\")\n",
    "    #plt.update_yaxes(range = [-0.5, 0.5], constrain=\"domain\")\n",
    "\n",
    "plt.update_yaxes(scaleanchor = \"x\", scaleratio = 1)\n",
    "plt.show()"
   ]
  },
  {
   "cell_type": "markdown",
   "id": "3c50bb00",
   "metadata": {},
   "source": [
    "### PCA"
   ]
  },
  {
   "cell_type": "code",
   "execution_count": null,
   "id": "b39e2466",
   "metadata": {},
   "outputs": [],
   "source": [
    "X_pca = KernelPCA(kernel='linear', random_state = 42).fit_transform(features)\n",
    "df_embedding[\"x1_pca\"] = X_pca[:,0]\n",
    "df_embedding[\"x2_pca\"] = X_pca[:,1]"
   ]
  },
  {
   "cell_type": "code",
   "execution_count": null,
   "id": "b0463721",
   "metadata": {},
   "outputs": [],
   "source": [
    "D = pairwise_distances(X_pca)\n",
    "print(D.shape)\n",
    "\n",
    "\n",
    "for cname in ['agglomerative', 'spectral']:#, 'agglomerative', 'kmedoids']:\n",
    "    clusters = detect_cluster(D, n_clusters=nc, clustering_name=cname)#, k=15)\n",
    "    df_embedding[\"clust_pca\"] = clusters\n",
    "    df_embedding[\"clust_pca\"] = df_embedding[\"clust_pca\"].astype(\"string\")\n",
    "    df_noothers = df_embedding[df_embedding[true_col]!=\"OTHER\"]\n",
    "    print(df_embedding.shape, df_noothers.shape)\n",
    "    ARS, FMS = get_scores(df_noothers[true_col], df_noothers[\"clust_pca\"])\n",
    "    \n",
    "    plt = px.scatter(df_embedding, x = 'x1_pca', y = 'x2_pca',\n",
    "                     color = df_embedding[\"clust_pca\"],\n",
    "                     color_discrete_sequence = px.colors.qualitative.Alphabet,\n",
    "                     color_discrete_map=kinase_palette,\n",
    "                     #color_continuous_scale = \"Turbo\",\n",
    "                     ##labels={'color': labels}, \n",
    "                     #hover_name=labels_name,\n",
    "                     #hover_data=df.columns[2:],\n",
    "                     #height = 800,\n",
    "                     #title = title,\n",
    "                 )\n",
    "    #plt.update_xaxes(range = [-10 50], constrain=\"domain\")\n",
    "    #plt.update_yaxes(range = [-0.5, 0.5], constrain=\"domain\")\n",
    "\n",
    "    plt.update_yaxes(scaleanchor = \"x\", scaleratio = 1)\n",
    "    plt.show()\n",
    "    \n"
   ]
  },
  {
   "cell_type": "code",
   "execution_count": 35,
   "id": "71e1dac4",
   "metadata": {},
   "outputs": [
    {
     "data": {
      "application/vnd.plotly.v1+json": {
       "config": {
        "plotlyServerURL": "https://plot.ly"
       },
       "data": [
        {
         "hovertemplate": "small_cluster=RAC<br>x1_pca=%{x}<br>x2_pca=%{y}<extra></extra>",
         "legendgroup": "RAC",
         "marker": {
          "color": "#F8A19F",
          "symbol": "circle"
         },
         "mode": "markers",
         "name": "RAC",
         "orientation": "v",
         "showlegend": true,
         "type": "scatter",
         "x": [
          -0.24990107366960457,
          -0.2523300946547776,
          -0.2500792161561318
         ],
         "xaxis": "x",
         "y": [
          0.32514423794545655,
          0.31825808497837865,
          0.31899885443913495
         ],
         "yaxis": "y"
        },
        {
         "hovertemplate": "small_cluster=DMPK<br>x1_pca=%{x}<br>x2_pca=%{y}<extra></extra>",
         "legendgroup": "DMPK",
         "marker": {
          "color": "#90AD1C",
          "symbol": "circle"
         },
         "mode": "markers",
         "name": "DMPK",
         "orientation": "v",
         "showlegend": true,
         "type": "scatter",
         "x": [
          -0.2180399883096336,
          -0.21833201013200956,
          -0.2211769710048369,
          -0.23333282837075833
         ],
         "xaxis": "x",
         "y": [
          0.23383180282230376,
          0.23724617927597066,
          0.2184250750305248,
          0.21064720048397093
         ],
         "yaxis": "y"
        },
        {
         "hovertemplate": "small_cluster=Other<br>x1_pca=%{x}<br>x2_pca=%{y}<extra></extra>",
         "legendgroup": "Other",
         "marker": {
          "color": "#F6222E",
          "symbol": "circle"
         },
         "mode": "markers",
         "name": "Other",
         "orientation": "v",
         "showlegend": true,
         "type": "scatter",
         "x": [
          -0.19415433767999968,
          -0.21422924964367154,
          -0.21727179938850683,
          -0.17021701256710986,
          -0.13429353876872469,
          -0.140472778313749,
          -0.13680194716168131,
          -0.15708152859368144,
          -0.18847578762517828,
          -0.13257038794067041,
          -0.10853258708476737,
          -0.12856724725997346,
          -0.0749583854251021,
          -0.10984967524611876,
          -0.20277447301179968,
          -0.21273800659069236,
          -0.21528403923382688,
          -0.18857463477563666,
          -0.181801801809527,
          -0.13402310787458802,
          -0.1260805234887528,
          -0.11871667940098427,
          -0.1284494857727639,
          -0.15595139977398437,
          0.026961788921397053,
          0.026371734047280174,
          -0.11020936390692732,
          -0.05082881675102957,
          -0.02970264610087197,
          0.08644187224937916,
          -0.033604482009519675,
          -0.06905517622202102,
          -0.043013053392801245,
          0.15121253194780324,
          0.11380448207440949,
          0.01515719406657147,
          0.0164278024464908,
          -0.04441083606712801,
          -0.03384993910610918,
          -0.0023420308695232092,
          0.014333139997152628,
          -0.03583852320205461,
          -0.013243802427596547,
          0.019945140401914484,
          -0.017172453959466705,
          -0.022753914149726606,
          -0.012084931934139318,
          -0.05275323855693361,
          -0.008041091053995206,
          0.0018970941273219,
          -0.008246552325951777,
          -0.03379974720221727,
          -0.030372156393270473,
          0.009421257189431874,
          -0.020501282817524093,
          -0.02403213286869896,
          -0.14242871090073284,
          -0.023810376790843735,
          0.1245816042018001,
          -0.08468628851040333,
          -0.08547096459437754,
          0.05450048563989336,
          -0.09957843963620348,
          -0.05218693959878632,
          0.18013435093704394,
          0.14325460153694192,
          0.17349697739892664,
          0.20925579661925486,
          0.18355445860445488,
          -0.07247133170833783,
          -0.08059219395206206,
          0.11643459249193161,
          0.20593800839093854,
          0.1497103016718803,
          0.1298480012659153,
          0.162806787980348,
          0.15612209677402097,
          0.2513794157442468,
          0.24982811364514004,
          0.26958704967733843,
          0.3612426653405564,
          0.33013676396623787,
          0.3639285267233834,
          0.34846639434144017,
          0.32313914443957187,
          0.2053238658841006,
          0.25837776890141284,
          0.30000518200633597
         ],
         "xaxis": "x",
         "y": [
          0.1343324549157905,
          0.193971640840826,
          0.19317396729975606,
          0.16146697026315474,
          0.06671001679361621,
          0.13032785328517546,
          0.13152015738204784,
          0.14163367473885313,
          0.06317020068764607,
          -0.0340003675440737,
          0.10842426978039144,
          -0.009549412757389233,
          -0.025053911038187368,
          -0.014989509085139572,
          0.03305084339103806,
          0.03301613927879403,
          0.09093209539499818,
          0.10813935183422682,
          0.06616769172187732,
          -0.0561972803885955,
          -0.024196635737361378,
          0.06805688769756157,
          -0.01375815211778509,
          0.0029380998541058104,
          -0.07477384560162323,
          -0.07644160594709692,
          -0.18899079334483077,
          -0.020752722966757484,
          -0.02883652996429094,
          0.006183742035714043,
          -0.0667908057233542,
          -0.05244829531512695,
          -0.040308034399144446,
          -0.07436950286567524,
          -0.07127182434482277,
          -0.09098571061267882,
          -0.07531552273170782,
          -0.039047699196070595,
          -0.026905045967208347,
          -0.028117843113854242,
          -0.047150868636823766,
          -0.07092774885270878,
          -0.03692286565656762,
          -0.08710412745080785,
          0.0028581511414736195,
          -0.04108937292256178,
          -0.05739093908954304,
          0.022843412597246142,
          0.046848191229515994,
          -0.02642704420525151,
          -0.08407007010425901,
          -0.056515290147433186,
          -0.06291046495847931,
          -0.037588641333297625,
          -0.06951840330861322,
          -0.05360010583353434,
          -0.0668261536466236,
          -0.05477364918548626,
          -0.018226607455699574,
          0.0033450918767819865,
          -0.0006945609065631514,
          -0.05945183109469498,
          -0.07676470663898931,
          -0.10733728138226308,
          -0.021140857127823005,
          -0.07286074260492406,
          -0.05465464798691106,
          -0.029265989442702655,
          -0.03648808760940512,
          -0.108475051092653,
          -0.10315821879775158,
          0.029090819923802542,
          0.03929815358397802,
          -0.008849726740001677,
          -0.012913159707709329,
          0.0012846853243626108,
          0.000761701254566054,
          0.015614087480410814,
          -0.005055224787521471,
          0.004650189212350117,
          0.06277013505364729,
          0.05214615045353614,
          0.047888475450513356,
          0.08552366347482167,
          0.04857332491415742,
          -0.0010799641917802595,
          0.030389498284020405,
          0.037024209207155996
         ],
         "yaxis": "y"
        },
        {
         "hovertemplate": "small_cluster=GPRK<br>x1_pca=%{x}<br>x2_pca=%{y}<extra></extra>",
         "legendgroup": "GPRK",
         "marker": {
          "color": "#1CFFCE",
          "symbol": "circle"
         },
         "mode": "markers",
         "name": "GPRK",
         "orientation": "v",
         "showlegend": true,
         "type": "scatter",
         "x": [
          -0.1704307178593325,
          -0.17504219582264027,
          -0.17726269354379293,
          -0.16244041147987662,
          -0.16697806406543117,
          -0.16073446798938767,
          -0.16324797598669505
         ],
         "xaxis": "x",
         "y": [
          0.1644220980717168,
          0.1510376261074946,
          0.1483286431128461,
          0.18995057429150594,
          0.1710928305908663,
          0.1791131030708483,
          0.1559030862664853
         ],
         "yaxis": "y"
        },
        {
         "hovertemplate": "small_cluster=MAST<br>x1_pca=%{x}<br>x2_pca=%{y}<extra></extra>",
         "legendgroup": "MAST",
         "marker": {
          "color": "#2ED9FF",
          "symbol": "circle"
         },
         "mode": "markers",
         "name": "MAST",
         "orientation": "v",
         "showlegend": true,
         "type": "scatter",
         "x": [
          -0.23849852799793156,
          -0.24229743506889168,
          -0.2366139415369794,
          -0.2367907247326776
         ],
         "xaxis": "x",
         "y": [
          0.1876235960935801,
          0.17687598554363704,
          0.19779414081915525,
          0.17850934296029586
         ],
         "yaxis": "y"
        },
        {
         "hovertemplate": "small_cluster=PDPK1<br>x1_pca=%{x}<br>x2_pca=%{y}<extra></extra>",
         "legendgroup": "PDPK1",
         "marker": {
          "color": "#B10DA1",
          "symbol": "circle"
         },
         "mode": "markers",
         "name": "PDPK1",
         "orientation": "v",
         "showlegend": true,
         "type": "scatter",
         "x": [
          -0.19222703160991397,
          -0.19032525206429426
         ],
         "xaxis": "x",
         "y": [
          0.143400651401741,
          0.14040800719355026
         ],
         "yaxis": "y"
        },
        {
         "hovertemplate": "small_cluster=PKC<br>x1_pca=%{x}<br>x2_pca=%{y}<extra></extra>",
         "legendgroup": "PKC",
         "marker": {
          "color": "#C075A6",
          "symbol": "circle"
         },
         "mode": "markers",
         "name": "PKC",
         "orientation": "v",
         "showlegend": true,
         "type": "scatter",
         "x": [
          -0.16916974903763607,
          -0.17430910702434174,
          -0.18936536668356746,
          -0.20073661128278456,
          -0.18692657007338276,
          -0.17394463489233225,
          -0.21879257774934918,
          -0.19555420170970866,
          -0.22954166342010918,
          -0.23140760074173178,
          -0.18901081581477572,
          -0.22511404461452286
         ],
         "xaxis": "x",
         "y": [
          0.2818300014538087,
          0.28200591442329853,
          0.2535886415041561,
          0.3264233610343029,
          0.34654209583665907,
          0.29792762778657766,
          0.3081612625571519,
          0.31747128456269136,
          0.3144369243982663,
          0.29059449060285397,
          0.2883064126555326,
          0.2859360294854042
         ],
         "yaxis": "y"
        },
        {
         "hovertemplate": "small_cluster=cAMP<br>x1_pca=%{x}<br>x2_pca=%{y}<extra></extra>",
         "legendgroup": "cAMP",
         "marker": {
          "color": "#FC1CBF",
          "symbol": "circle"
         },
         "mode": "markers",
         "name": "cAMP",
         "orientation": "v",
         "showlegend": true,
         "type": "scatter",
         "x": [
          -0.2213100909390796,
          -0.2154425809307553,
          -0.21949419653892835,
          -0.2047539298872221,
          -0.1467316347762035
         ],
         "xaxis": "x",
         "y": [
          0.2837953858881264,
          0.28983691728163996,
          0.2641028546102557,
          0.25517906897600623,
          0.2407973114849105
         ],
         "yaxis": "y"
        },
        {
         "hovertemplate": "small_cluster=cGMP<br>x1_pca=%{x}<br>x2_pca=%{y}<extra></extra>",
         "legendgroup": "cGMP",
         "marker": {
          "color": "#B00068",
          "symbol": "circle"
         },
         "mode": "markers",
         "name": "cGMP",
         "orientation": "v",
         "showlegend": true,
         "type": "scatter",
         "x": [
          -0.1780495115039702,
          -0.17820611989829616
         ],
         "xaxis": "x",
         "y": [
          0.22010501613409394,
          0.1943127298137057
         ],
         "yaxis": "y"
        },
        {
         "hovertemplate": "small_cluster=ROCK<br>x1_pca=%{x}<br>x2_pca=%{y}<extra></extra>",
         "legendgroup": "ROCK",
         "marker": {
          "color": "#FBE426",
          "symbol": "circle"
         },
         "mode": "markers",
         "name": "ROCK",
         "orientation": "v",
         "showlegend": true,
         "type": "scatter",
         "x": [
          -0.20817920268036805,
          -0.21942703229550622
         ],
         "xaxis": "x",
         "y": [
          0.22207564483813924,
          0.21227294369528885
         ],
         "yaxis": "y"
        },
        {
         "hovertemplate": "small_cluster=S6K<br>x1_pca=%{x}<br>x2_pca=%{y}<extra></extra>",
         "legendgroup": "S6K",
         "marker": {
          "color": "#FA0087",
          "symbol": "circle"
         },
         "mode": "markers",
         "name": "S6K",
         "orientation": "v",
         "showlegend": true,
         "type": "scatter",
         "x": [
          -0.19151336756635975,
          -0.20123472440766343,
          -0.19892979029150906,
          -0.2346896261121886,
          -0.22854352630012145,
          -0.1985224697372719,
          -0.2471443760689931,
          -0.2494744293801722,
          -0.16440185159690282,
          -0.16399791099888278,
          -0.1625643426287901,
          -0.15390024691546977,
          -0.1771450025893013,
          -0.1615413535725939,
          -0.13667800743765499,
          -0.12544747165483539
         ],
         "xaxis": "x",
         "y": [
          0.2706203696107442,
          0.2705560316747448,
          0.2849876662989837,
          0.2709890630453634,
          0.27454159250443727,
          0.28397219172122595,
          0.24388365803177756,
          0.24741069164715435,
          0.051698466514056365,
          0.053492831565854326,
          0.043449322855421836,
          0.08384400941023888,
          0.08012889414395684,
          0.040506515053528806,
          0.11334689855597527,
          0.10064697454551769
         ],
         "yaxis": "y"
        },
        {
         "hovertemplate": "small_cluster=SGK<br>x1_pca=%{x}<br>x2_pca=%{y}<extra></extra>",
         "legendgroup": "SGK",
         "marker": {
          "color": "#AA0DFE",
          "symbol": "circle"
         },
         "mode": "markers",
         "name": "SGK",
         "orientation": "v",
         "showlegend": true,
         "type": "scatter",
         "x": [
          -0.22216206094114438,
          -0.22420513946469497,
          -0.22588300735911543
         ],
         "xaxis": "x",
         "y": [
          0.3135931369247348,
          0.2986297113499683,
          0.2994333588905956
         ],
         "yaxis": "y"
        },
        {
         "hovertemplate": "small_cluster=NDR<br>x1_pca=%{x}<br>x2_pca=%{y}<extra></extra>",
         "legendgroup": "NDR",
         "marker": {
          "color": "#3283FE",
          "symbol": "circle"
         },
         "mode": "markers",
         "name": "NDR",
         "orientation": "v",
         "showlegend": true,
         "type": "scatter",
         "x": [
          -0.21805046119443267,
          -0.23083061856480647
         ],
         "xaxis": "x",
         "y": [
          0.2119311831063444,
          0.20370458288931736
         ],
         "yaxis": "y"
        },
        {
         "hovertemplate": "small_cluster=Aurora<br>x1_pca=%{x}<br>x2_pca=%{y}<extra></extra>",
         "legendgroup": "Aurora",
         "marker": {
          "color": "#85660D",
          "symbol": "circle"
         },
         "mode": "markers",
         "name": "Aurora",
         "orientation": "v",
         "showlegend": true,
         "type": "scatter",
         "x": [
          -0.14398000824872428,
          -0.1516547392316249,
          -0.15068189862235398
         ],
         "xaxis": "x",
         "y": [
          0.06601990943894831,
          0.06854678542894505,
          0.058720436454930525
         ],
         "yaxis": "y"
        },
        {
         "hovertemplate": "small_cluster=SNF1<br>x1_pca=%{x}<br>x2_pca=%{y}<extra></extra>",
         "legendgroup": "SNF1",
         "marker": {
          "color": "#782AB6",
          "symbol": "circle"
         },
         "mode": "markers",
         "name": "SNF1",
         "orientation": "v",
         "showlegend": true,
         "type": "scatter",
         "x": [
          -0.1589036649869337,
          -0.1387010548687122,
          -0.13694340948986614,
          -0.1561775487710603,
          -0.15378442685199986,
          -0.15506991788321867,
          -0.15578932351675986,
          -0.14277828005760332,
          -0.14247552493289284,
          -0.15795454232182407,
          -0.12228588836943036,
          -0.1294589204943511,
          -0.13875058837834517,
          -0.1504042678771277
         ],
         "xaxis": "x",
         "y": [
          0.10878431325240613,
          0.10766584082903935,
          0.07446611862938093,
          0.1337915047731708,
          0.1321353809833748,
          0.1300631654952339,
          0.11676274687650783,
          0.06263116991765602,
          0.07986267411414745,
          0.08338251239501546,
          0.10144093628927009,
          0.11542447440119763,
          0.11435059366556534,
          0.11184933136388597
         ],
         "yaxis": "y"
        },
        {
         "hovertemplate": "small_cluster=CaMK<br>x1_pca=%{x}<br>x2_pca=%{y}<extra></extra>",
         "legendgroup": "CaMK",
         "marker": {
          "color": "#565656",
          "symbol": "circle"
         },
         "mode": "markers",
         "name": "CaMK",
         "orientation": "v",
         "showlegend": true,
         "type": "scatter",
         "x": [
          -0.2120735419229823,
          -0.22017397437740807,
          -0.2196283225248974,
          -0.21667279016118599,
          -0.21546820387301346,
          -0.22182461363799696,
          -0.20642728960079168,
          -0.221565173089051,
          -0.17260571983202963,
          -0.20156069767108015,
          -0.20292644873032578,
          -0.21900671727561588,
          -0.19986826936495403,
          -0.11553050779022477
         ],
         "xaxis": "x",
         "y": [
          0.0978243071264404,
          0.11786893179107209,
          0.10804253303357411,
          0.06162583405378988,
          0.05636984082886698,
          0.05990497444084801,
          0.057645422515438936,
          0.067718295720622,
          0.01611224919256371,
          0.06867464335608531,
          0.06569472048014995,
          0.09948515382501043,
          0.09320754565682951,
          0.06104965453651033
         ],
         "yaxis": "y"
        },
        {
         "hovertemplate": "small_cluster=CAMKK<br>x1_pca=%{x}<br>x2_pca=%{y}<extra></extra>",
         "legendgroup": "CAMKK",
         "marker": {
          "color": "#1C8356",
          "symbol": "circle"
         },
         "mode": "markers",
         "name": "CAMKK",
         "orientation": "v",
         "showlegend": true,
         "type": "scatter",
         "x": [
          -0.12106316730203705,
          -0.1231855883289694
         ],
         "xaxis": "x",
         "y": [
          0.06382711388779318,
          0.05242023575515566
         ],
         "yaxis": "y"
        },
        {
         "hovertemplate": "small_cluster=NIM1<br>x1_pca=%{x}<br>x2_pca=%{y}<extra></extra>",
         "legendgroup": "NIM1",
         "marker": {
          "color": "#16FF32",
          "symbol": "circle"
         },
         "mode": "markers",
         "name": "NIM1",
         "orientation": "v",
         "showlegend": true,
         "type": "scatter",
         "x": [
          -0.08646939561044321
         ],
         "xaxis": "x",
         "y": [
          0.02204904990538056
         ],
         "yaxis": "y"
        },
        {
         "hovertemplate": "small_cluster=CHK2<br>x1_pca=%{x}<br>x2_pca=%{y}<extra></extra>",
         "legendgroup": "CHK2",
         "marker": {
          "color": "#F7E1A0",
          "symbol": "circle"
         },
         "mode": "markers",
         "name": "CHK2",
         "orientation": "v",
         "showlegend": true,
         "type": "scatter",
         "x": [
          -0.1978138794547052
         ],
         "xaxis": "x",
         "y": [
          0.05190205530087827
         ],
         "yaxis": "y"
        },
        {
         "hovertemplate": "small_cluster=DAPK<br>x1_pca=%{x}<br>x2_pca=%{y}<extra></extra>",
         "legendgroup": "DAPK",
         "marker": {
          "color": "#E2E2E2",
          "symbol": "circle"
         },
         "mode": "markers",
         "name": "DAPK",
         "orientation": "v",
         "showlegend": true,
         "type": "scatter",
         "x": [
          -0.16293722292354884,
          -0.17669836687659307,
          -0.1761616690736381,
          -0.1694010276948611,
          -0.13166641055484257
         ],
         "xaxis": "x",
         "y": [
          0.030537471346242427,
          0.029446006246140938,
          0.024290363233057458,
          0.04602462392661957,
          0.030208975784848678
         ],
         "yaxis": "y"
        },
        {
         "hovertemplate": "small_cluster=MAPKAPK<br>x1_pca=%{x}<br>x2_pca=%{y}<extra></extra>",
         "legendgroup": "MAPKAPK",
         "marker": {
          "color": "#1CBE4F",
          "symbol": "circle"
         },
         "mode": "markers",
         "name": "MAPKAPK",
         "orientation": "v",
         "showlegend": true,
         "type": "scatter",
         "x": [
          -0.17480938689782188,
          -0.1776831036501264,
          -0.18776751436302944
         ],
         "xaxis": "x",
         "y": [
          0.07833451868646256,
          0.08679866432205315,
          0.06140039629193773
         ],
         "yaxis": "y"
        },
        {
         "hovertemplate": "small_cluster=MNK<br>x1_pca=%{x}<br>x2_pca=%{y}<extra></extra>",
         "legendgroup": "MNK",
         "marker": {
          "color": "#C4451C",
          "symbol": "circle"
         },
         "mode": "markers",
         "name": "MNK",
         "orientation": "v",
         "showlegend": true,
         "type": "scatter",
         "x": [
          -0.18732052431378482,
          -0.18373598050902626
         ],
         "xaxis": "x",
         "y": [
          0.07335376961792754,
          0.08098302341960154
         ],
         "yaxis": "y"
        },
        {
         "hovertemplate": "small_cluster=MLCK<br>x1_pca=%{x}<br>x2_pca=%{y}<extra></extra>",
         "legendgroup": "MLCK",
         "marker": {
          "color": "#DEA0FD",
          "symbol": "circle"
         },
         "mode": "markers",
         "name": "MLCK",
         "orientation": "v",
         "showlegend": true,
         "type": "scatter",
         "x": [
          -0.1535150097800035,
          -0.10937098489929142,
          -0.13785184328341918,
          -0.15613034201735213
         ],
         "xaxis": "x",
         "y": [
          0.04526441540493373,
          0.03230239672407399,
          0.025754697764601202,
          0.017374342832881685
         ],
         "yaxis": "y"
        },
        {
         "hovertemplate": "small_cluster=PIM<br>x1_pca=%{x}<br>x2_pca=%{y}<extra></extra>",
         "legendgroup": "PIM",
         "marker": {
          "color": "#FE00FA",
          "symbol": "circle"
         },
         "mode": "markers",
         "name": "PIM",
         "orientation": "v",
         "showlegend": true,
         "type": "scatter",
         "x": [
          -0.0741507578210761,
          -0.08367636589888157,
          -0.08715750920572304
         ],
         "xaxis": "x",
         "y": [
          -0.022348425922690335,
          0.0027156730329291885,
          -0.00042910477269894745
         ],
         "yaxis": "y"
        },
        {
         "hovertemplate": "small_cluster=CDC5/Polo<br>x1_pca=%{x}<br>x2_pca=%{y}<extra></extra>",
         "legendgroup": "CDC5/Polo",
         "marker": {
          "color": "#325A9B",
          "symbol": "circle"
         },
         "mode": "markers",
         "name": "CDC5/Polo",
         "orientation": "v",
         "showlegend": true,
         "type": "scatter",
         "x": [
          -0.13417975196084023,
          -0.13815696520417886,
          -0.1433745640234764,
          -0.14985473197540744,
          -0.0799174551298444
         ],
         "xaxis": "x",
         "y": [
          0.015717274246365324,
          0.010882211480861392,
          -0.03349336429704069,
          0.041124523087836394,
          0.030550870350501805
         ],
         "yaxis": "y"
        },
        {
         "hovertemplate": "small_cluster=PKD<br>x1_pca=%{x}<br>x2_pca=%{y}<extra></extra>",
         "legendgroup": "PKD",
         "marker": {
          "color": "#FEAF16",
          "symbol": "circle"
         },
         "mode": "markers",
         "name": "PKD",
         "orientation": "v",
         "showlegend": true,
         "type": "scatter",
         "x": [
          -0.16298802435017307,
          -0.1604449559810918,
          -0.16032117705720011
         ],
         "xaxis": "x",
         "y": [
          0.01828466496021322,
          0.012369605409722437,
          0.021779212071681264
         ],
         "yaxis": "y"
        },
        {
         "hovertemplate": "small_cluster=AMPK<br>x1_pca=%{x}<br>x2_pca=%{y}<extra></extra>",
         "legendgroup": "AMPK",
         "marker": {
          "color": "#F8A19F",
          "symbol": "circle"
         },
         "mode": "markers",
         "name": "AMPK",
         "orientation": "v",
         "showlegend": true,
         "type": "scatter",
         "x": [
          -0.1534252126581266,
          -0.1534252126581266
         ],
         "xaxis": "x",
         "y": [
          0.09600655864564375,
          0.09600655864564375
         ],
         "yaxis": "y"
        },
        {
         "hovertemplate": "small_cluster=LKB1<br>x1_pca=%{x}<br>x2_pca=%{y}<extra></extra>",
         "legendgroup": "LKB1",
         "marker": {
          "color": "#90AD1C",
          "symbol": "circle"
         },
         "mode": "markers",
         "name": "LKB1",
         "orientation": "v",
         "showlegend": true,
         "type": "scatter",
         "x": [
          -0.09082645196589899
         ],
         "xaxis": "x",
         "y": [
          0.005920588111489811
         ],
         "yaxis": "y"
        },
        {
         "hovertemplate": "small_cluster=Tribbles<br>x1_pca=%{x}<br>x2_pca=%{y}<extra></extra>",
         "legendgroup": "Tribbles",
         "marker": {
          "color": "#F6222E",
          "symbol": "circle"
         },
         "mode": "markers",
         "name": "Tribbles",
         "orientation": "v",
         "showlegend": true,
         "type": "scatter",
         "x": [
          -0.1424322713832296,
          -0.11364862217875076,
          -0.13337476837507706
         ],
         "xaxis": "x",
         "y": [
          0.03389409329168458,
          0.034234373911714834,
          0.026889660263867722
         ],
         "yaxis": "y"
        },
        {
         "hovertemplate": "small_cluster=TSSK<br>x1_pca=%{x}<br>x2_pca=%{y}<extra></extra>",
         "legendgroup": "TSSK",
         "marker": {
          "color": "#1CFFCE",
          "symbol": "circle"
         },
         "mode": "markers",
         "name": "TSSK",
         "orientation": "v",
         "showlegend": true,
         "type": "scatter",
         "x": [
          -0.1541825240164784,
          -0.14284662849897636,
          -0.13673888370106244,
          -0.095191393242415,
          -0.09843994726988849
         ],
         "xaxis": "x",
         "y": [
          0.04592373126731926,
          0.06005799568568202,
          0.022352455944771484,
          0.045481684241693125,
          0.03820069695725517
         ],
         "yaxis": "y"
        },
        {
         "hovertemplate": "small_cluster=CK1<br>x1_pca=%{x}<br>x2_pca=%{y}<extra></extra>",
         "legendgroup": "CK1",
         "marker": {
          "color": "#0dbae9",
          "symbol": "circle"
         },
         "mode": "markers",
         "name": "CK1",
         "orientation": "v",
         "showlegend": true,
         "type": "scatter",
         "x": [
          0.020004880099991885,
          0.027227023702494784,
          0.03223900870069861,
          0.03308656732930817,
          0.0014627841097073083,
          0.0012964381180056233,
          0.0010133471725665526
         ],
         "xaxis": "x",
         "y": [
          -0.09245401231418016,
          -0.09772134077393958,
          -0.07609461914489012,
          -0.07801970866193604,
          -0.040920491075688466,
          -0.03879925190222735,
          -0.040354603790486186
         ],
         "yaxis": "y"
        },
        {
         "hovertemplate": "small_cluster=VRK<br>x1_pca=%{x}<br>x2_pca=%{y}<extra></extra>",
         "legendgroup": "VRK",
         "marker": {
          "color": "#2ED9FF",
          "symbol": "circle"
         },
         "mode": "markers",
         "name": "VRK",
         "orientation": "v",
         "showlegend": true,
         "type": "scatter",
         "x": [
          0.03249015344397453,
          0.04308983522558024,
          0.013712272266804921
         ],
         "xaxis": "x",
         "y": [
          -0.04265307387168682,
          -0.04536327550124544,
          -0.051675063623987334
         ],
         "yaxis": "y"
        },
        {
         "hovertemplate": "small_cluster=CDC2/CDKX<br>x1_pca=%{x}<br>x2_pca=%{y}<extra></extra>",
         "legendgroup": "CDC2/CDKX",
         "marker": {
          "color": "#B10DA1",
          "symbol": "circle"
         },
         "mode": "markers",
         "name": "CDC2/CDKX",
         "orientation": "v",
         "showlegend": true,
         "type": "scatter",
         "x": [
          -0.13312449759456832,
          -0.07845708784498905,
          -0.099845157062501,
          -0.09649842104500385,
          -0.09963656578674511,
          -0.09625752683313361,
          -0.14383674877868902,
          -0.1212154560368187,
          -0.14448320159108213,
          -0.12498741718062113,
          -0.13909478973449924,
          -0.12066012984367382,
          -0.14131230144489956,
          -0.14345867233582077,
          -0.1349552767117058,
          -0.09789572809351152,
          -0.13806187703422923,
          -0.09896895859724221,
          -0.12257623719770731,
          -0.12586698084455286,
          -0.10552782663204219,
          -0.12784508453091217,
          -0.09233488867433974,
          -0.11621935897822813,
          -0.11091375224027973,
          -0.16113753549417256,
          -0.07726935990259064,
          -0.0696393998160565,
          -0.09742949261655245
         ],
         "xaxis": "x",
         "y": [
          -0.2829620559835885,
          -0.25355188024285746,
          -0.251855377421008,
          -0.251964939295817,
          -0.25048857056879853,
          -0.25290157996589613,
          -0.251324882102109,
          -0.27300600860635643,
          -0.26973820823863276,
          -0.28192797136647624,
          -0.27280117302624984,
          -0.24734023796038895,
          -0.29499409764001994,
          -0.2469509040249934,
          -0.2957366089354685,
          -0.27489745239230134,
          -0.3139162208588232,
          -0.2615508166846769,
          -0.2390255262557503,
          -0.240110030354037,
          -0.25408407666903055,
          -0.2474749726177643,
          -0.22314757428536075,
          -0.20927772357013616,
          -0.2472739382264418,
          -0.21439018488480027,
          -0.2177771909182475,
          -0.22462939479291139,
          -0.20354688437808252
         ],
         "yaxis": "y"
        },
        {
         "hovertemplate": "small_cluster=Lammer<br>x1_pca=%{x}<br>x2_pca=%{y}<extra></extra>",
         "legendgroup": "Lammer",
         "marker": {
          "color": "#C075A6",
          "symbol": "circle"
         },
         "mode": "markers",
         "name": "Lammer",
         "orientation": "v",
         "showlegend": true,
         "type": "scatter",
         "x": [
          -0.113526855608749,
          -0.12649711399210756,
          -0.11231421150320148,
          -0.11297170851716322
         ],
         "xaxis": "x",
         "y": [
          -0.17099027669604966,
          -0.15238320277565862,
          -0.16442219372501563,
          -0.16716244246834377
         ],
         "yaxis": "y"
        },
        {
         "hovertemplate": "small_cluster=CK2<br>x1_pca=%{x}<br>x2_pca=%{y}<extra></extra>",
         "legendgroup": "CK2",
         "marker": {
          "color": "#FC1CBF",
          "symbol": "circle"
         },
         "mode": "markers",
         "name": "CK2",
         "orientation": "v",
         "showlegend": true,
         "type": "scatter",
         "x": [
          -0.15242953486667052,
          -0.14808918935339582,
          -0.15161468204794484
         ],
         "xaxis": "x",
         "y": [
          -0.1810800810558495,
          -0.18053612610173334,
          -0.17782203490492143
         ],
         "yaxis": "y"
        },
        {
         "hovertemplate": "small_cluster=MNB/DYRK<br>x1_pca=%{x}<br>x2_pca=%{y}<extra></extra>",
         "legendgroup": "MNB/DYRK",
         "marker": {
          "color": "#B00068",
          "symbol": "circle"
         },
         "mode": "markers",
         "name": "MNB/DYRK",
         "orientation": "v",
         "showlegend": true,
         "type": "scatter",
         "x": [
          -0.1466616453369512,
          -0.14715305979104418,
          -0.1364179762787902,
          -0.12262152331653281,
          -0.13121275982374198
         ],
         "xaxis": "x",
         "y": [
          -0.17387490091508193,
          -0.1806508931836807,
          -0.2179404077742245,
          -0.20985045599064936,
          -0.23613823276238874
         ],
         "yaxis": "y"
        },
        {
         "hovertemplate": "small_cluster=GSK-3<br>x1_pca=%{x}<br>x2_pca=%{y}<extra></extra>",
         "legendgroup": "GSK-3",
         "marker": {
          "color": "#FBE426",
          "symbol": "circle"
         },
         "mode": "markers",
         "name": "GSK-3",
         "orientation": "v",
         "showlegend": true,
         "type": "scatter",
         "x": [
          -0.12203438759562965,
          -0.13315264138978233
         ],
         "xaxis": "x",
         "y": [
          -0.16633454955803714,
          -0.1606722683994959
         ],
         "yaxis": "y"
        },
        {
         "hovertemplate": "small_cluster=HIPK<br>x1_pca=%{x}<br>x2_pca=%{y}<extra></extra>",
         "legendgroup": "HIPK",
         "marker": {
          "color": "#FA0087",
          "symbol": "circle"
         },
         "mode": "markers",
         "name": "HIPK",
         "orientation": "v",
         "showlegend": true,
         "type": "scatter",
         "x": [
          -0.09686625655169959,
          -0.1019175537904336,
          -0.09752497495807261,
          -0.0952783999831531
         ],
         "xaxis": "x",
         "y": [
          -0.1826574918844283,
          -0.18392146725411182,
          -0.18373209777401425,
          -0.1817923976956756
         ],
         "yaxis": "y"
        },
        {
         "hovertemplate": "small_cluster=MAPK<br>x1_pca=%{x}<br>x2_pca=%{y}<extra></extra>",
         "legendgroup": "MAPK",
         "marker": {
          "color": "#AA0DFE",
          "symbol": "circle"
         },
         "mode": "markers",
         "name": "MAPK",
         "orientation": "v",
         "showlegend": true,
         "type": "scatter",
         "x": [
          -0.11601546128822705,
          -0.1159432536652706,
          -0.11593757796841458,
          -0.13322958074480387,
          -0.14203974814722475,
          -0.13194493904486448,
          -0.14440362365458181,
          -0.11657500879878284,
          -0.09055639851656035,
          -0.10453939409586396,
          -0.11944375262593217,
          -0.1138094445234363,
          -0.12726189394188867,
          -0.09527326871006003
         ],
         "xaxis": "x",
         "y": [
          -0.2838426375253786,
          -0.24915010613211558,
          -0.2649248467882439,
          -0.26624632583053387,
          -0.2534515061463626,
          -0.2678257868684563,
          -0.23159615662590488,
          -0.29126570948235697,
          -0.22179352508664604,
          -0.23623140053366717,
          -0.2790720429434243,
          -0.24472980794162474,
          -0.23528017663563378,
          -0.24662718834155922
         ],
         "yaxis": "y"
        },
        {
         "hovertemplate": "small_cluster=SRPK<br>x1_pca=%{x}<br>x2_pca=%{y}<extra></extra>",
         "legendgroup": "SRPK",
         "marker": {
          "color": "#3283FE",
          "symbol": "circle"
         },
         "mode": "markers",
         "name": "SRPK",
         "orientation": "v",
         "showlegend": true,
         "type": "scatter",
         "x": [
          -0.1197066857346304,
          -0.1264538588682374,
          -0.12297808344499764
         ],
         "xaxis": "x",
         "y": [
          -0.20025069984245072,
          -0.2049567902165579,
          -0.19019598316887057
         ],
         "yaxis": "y"
        },
        {
         "hovertemplate": "small_cluster=NIMA<br>x1_pca=%{x}<br>x2_pca=%{y}<extra></extra>",
         "legendgroup": "NIMA",
         "marker": {
          "color": "#85660D",
          "symbol": "circle"
         },
         "mode": "markers",
         "name": "NIMA",
         "orientation": "v",
         "showlegend": true,
         "type": "scatter",
         "x": [
          -0.11810137584114881,
          -0.0608547085309198,
          -0.057471512206913364,
          -0.09737394279299173,
          -0.08931195243298645,
          -0.06962996360769612,
          -0.08373392847096449,
          -0.034543837304208014,
          -0.03382469085205451,
          -0.07833821568576647,
          -0.08167165543254946
         ],
         "xaxis": "x",
         "y": [
          -0.007613553675476501,
          -0.0156709018858679,
          -0.06195140656188168,
          -0.05372834741203578,
          -0.03977483161661562,
          -0.02404203468304056,
          -0.030606552169283943,
          -0.07061088355646619,
          -0.06764187054302494,
          -0.026991065566205452,
          -0.06128925126581035
         ],
         "yaxis": "y"
        },
        {
         "hovertemplate": "small_cluster=BUB1<br>x1_pca=%{x}<br>x2_pca=%{y}<extra></extra>",
         "legendgroup": "BUB1",
         "marker": {
          "color": "#782AB6",
          "symbol": "circle"
         },
         "mode": "markers",
         "name": "BUB1",
         "orientation": "v",
         "showlegend": true,
         "type": "scatter",
         "x": [
          -0.05562769321406086,
          -0.02842158870864282
         ],
         "xaxis": "x",
         "y": [
          -0.04190956281562602,
          -0.08009033066722719
         ],
         "yaxis": "y"
        },
        {
         "hovertemplate": "small_cluster=CDC7<br>x1_pca=%{x}<br>x2_pca=%{y}<extra></extra>",
         "legendgroup": "CDC7",
         "marker": {
          "color": "#565656",
          "symbol": "circle"
         },
         "mode": "markers",
         "name": "CDC7",
         "orientation": "v",
         "showlegend": true,
         "type": "scatter",
         "x": [
          -0.1330186513212509
         ],
         "xaxis": "x",
         "y": [
          -0.09122249042954012
         ],
         "yaxis": "y"
        },
        {
         "hovertemplate": "small_cluster=IKK<br>x1_pca=%{x}<br>x2_pca=%{y}<extra></extra>",
         "legendgroup": "IKK",
         "marker": {
          "color": "#1C8356",
          "symbol": "circle"
         },
         "mode": "markers",
         "name": "IKK",
         "orientation": "v",
         "showlegend": true,
         "type": "scatter",
         "x": [
          -0.03248812332427673,
          -0.03655809745323201,
          -0.03212725266544336,
          -0.05034238978745741
         ],
         "xaxis": "x",
         "y": [
          -0.01691243632193459,
          -0.03929730904634629,
          -0.006463613036925375,
          0.010072339496768048
         ],
         "yaxis": "y"
        },
        {
         "hovertemplate": "small_cluster=GCN2<br>x1_pca=%{x}<br>x2_pca=%{y}<extra></extra>",
         "legendgroup": "GCN2",
         "marker": {
          "color": "#16FF32",
          "symbol": "circle"
         },
         "mode": "markers",
         "name": "GCN2",
         "orientation": "v",
         "showlegend": true,
         "type": "scatter",
         "x": [
          -0.04677876550377661,
          -0.013418694593508881,
          -0.028951315448064254,
          0.013619438788420188,
          -0.06084125281594025
         ],
         "xaxis": "x",
         "y": [
          -0.06761625819916724,
          -0.04097329978606435,
          -0.07206043284329275,
          -0.0852339933406186,
          -0.07526872162590552
         ],
         "yaxis": "y"
        },
        {
         "hovertemplate": "small_cluster=Haspin<br>x1_pca=%{x}<br>x2_pca=%{y}<extra></extra>",
         "legendgroup": "Haspin",
         "marker": {
          "color": "#F7E1A0",
          "symbol": "circle"
         },
         "mode": "markers",
         "name": "Haspin",
         "orientation": "v",
         "showlegend": true,
         "type": "scatter",
         "x": [
          0.039480917122075104
         ],
         "xaxis": "x",
         "y": [
          -0.08513116388791135
         ],
         "yaxis": "y"
        },
        {
         "hovertemplate": "small_cluster=MAP2K<br>x1_pca=%{x}<br>x2_pca=%{y}<extra></extra>",
         "legendgroup": "MAP2K",
         "marker": {
          "color": "#E2E2E2",
          "symbol": "circle"
         },
         "mode": "markers",
         "name": "MAP2K",
         "orientation": "v",
         "showlegend": true,
         "type": "scatter",
         "x": [
          0.10515107668330483,
          -0.05392402811344143,
          -0.05150802018397396,
          -0.002058257920274141,
          -0.02124073782030108,
          -0.013618884951024476,
          -0.004445993750039555,
          -0.01607953639115162
         ],
         "xaxis": "x",
         "y": [
          -0.07095396913176795,
          -0.07631397607111215,
          -0.08064006292147166,
          -0.08544595941220398,
          -0.09672743248437547,
          -0.07500605486243181,
          -0.09334827833059808,
          -0.0605421700335134
         ],
         "yaxis": "y"
        },
        {
         "hovertemplate": "small_cluster=WEE1<br>x1_pca=%{x}<br>x2_pca=%{y}<extra></extra>",
         "legendgroup": "WEE1",
         "marker": {
          "color": "#1CBE4F",
          "symbol": "circle"
         },
         "mode": "markers",
         "name": "WEE1",
         "orientation": "v",
         "showlegend": true,
         "type": "scatter",
         "x": [
          -0.06094981547498163,
          -0.004470926777510407,
          -0.0032646345470841195
         ],
         "xaxis": "x",
         "y": [
          -0.04927061915461294,
          -0.08286353179898283,
          -0.06596725082642609
         ],
         "yaxis": "y"
        },
        {
         "hovertemplate": "small_cluster=STKL<br>x1_pca=%{x}<br>x2_pca=%{y}<extra></extra>",
         "legendgroup": "STKL",
         "marker": {
          "color": "#C4451C",
          "symbol": "circle"
         },
         "mode": "markers",
         "name": "STKL",
         "orientation": "v",
         "showlegend": true,
         "type": "scatter",
         "x": [
          0.09466233679936134,
          -0.02916541642650657
         ],
         "xaxis": "x",
         "y": [
          -0.046443987965504,
          -0.10577619215046677
         ],
         "yaxis": "y"
        },
        {
         "hovertemplate": "small_cluster=APG1/unc-51/ULK1<br>x1_pca=%{x}<br>x2_pca=%{y}<extra></extra>",
         "legendgroup": "APG1/unc-51/ULK1",
         "marker": {
          "color": "#DEA0FD",
          "symbol": "circle"
         },
         "mode": "markers",
         "name": "APG1/unc-51/ULK1",
         "orientation": "v",
         "showlegend": true,
         "type": "scatter",
         "x": [
          -0.08975288089400596,
          -0.09461347512110697,
          -0.12342402353237053,
          -0.11196618088339617
         ],
         "xaxis": "x",
         "y": [
          0.010869529725978537,
          0.013117952322768576,
          0.01521502701691346,
          -0.04393780954580204
         ],
         "yaxis": "y"
        },
        {
         "hovertemplate": "small_cluster=WNK<br>x1_pca=%{x}<br>x2_pca=%{y}<extra></extra>",
         "legendgroup": "WNK",
         "marker": {
          "color": "#FE00FA",
          "symbol": "circle"
         },
         "mode": "markers",
         "name": "WNK",
         "orientation": "v",
         "showlegend": true,
         "type": "scatter",
         "x": [
          0.033406337184552305,
          0.033598471681705974,
          0.026327496712925766,
          0.02959893658423266
         ],
         "xaxis": "x",
         "y": [
          -0.04507495275986186,
          -0.04200050357425335,
          -0.03727793073800867,
          -0.059576575866231093
         ],
         "yaxis": "y"
        },
        {
         "hovertemplate": "small_cluster=MAP3K<br>x1_pca=%{x}<br>x2_pca=%{y}<extra></extra>",
         "legendgroup": "MAP3K",
         "marker": {
          "color": "#325A9B",
          "symbol": "circle"
         },
         "mode": "markers",
         "name": "MAP3K",
         "orientation": "v",
         "showlegend": true,
         "type": "scatter",
         "x": [
          -0.034571152276063055,
          -0.036990610514714396,
          -0.030469652070441864,
          -0.06149431698133178,
          -0.06090582930166123,
          -0.0718947398699312,
          -0.05615385448970028,
          -0.06882008401507163,
          -0.03491802036236988,
          0.18435197833605904,
          0.1893610401661824,
          0.164098167826948,
          0.16161078394409947,
          0.17194034193436541,
          0.17991240321358704,
          0.13277896873373746,
          0.1803561977134102,
          0.16576063422488913
         ],
         "xaxis": "x",
         "y": [
          -0.10209808383836132,
          -0.04978288147345203,
          -0.11276405407165066,
          -0.08047690803857044,
          -0.07445508476208354,
          -0.07591899916999223,
          -0.08553378616605467,
          -0.09201459643493017,
          -0.08268025427554136,
          0.01946531925306615,
          0.03378979269952034,
          -0.01890078986962631,
          -0.007686585267429014,
          -0.026477086578608634,
          0.012186828066563689,
          0.0001523283828923723,
          0.019329427395505916,
          0.025499728876628047
         ],
         "yaxis": "y"
        },
        {
         "hovertemplate": "small_cluster=STE20<br>x1_pca=%{x}<br>x2_pca=%{y}<extra></extra>",
         "legendgroup": "STE20",
         "marker": {
          "color": "#FEAF16",
          "symbol": "circle"
         },
         "mode": "markers",
         "name": "STE20",
         "orientation": "v",
         "showlegend": true,
         "type": "scatter",
         "x": [
          -0.03189971984433943,
          -0.03684656610073178,
          -0.06280180306441203,
          -0.06461446948967442,
          -0.056497476060619,
          -0.06016384630840569,
          -0.053077247980498,
          -0.025356478599995565,
          -0.03916792906097324,
          -0.09488136931311024,
          -0.09247516038658325,
          -0.09921121780335591,
          -0.10063669589740146,
          -0.09660974453732576,
          -0.08393342634207782,
          -0.05736995720839818,
          -0.06510624213915055,
          -0.02351239029729783,
          -0.028085032621879225,
          -0.026739252072708053,
          -0.051905309551127515,
          -0.03248077967103167,
          -0.04977791644841781,
          -0.03223379640808949,
          0.006430312055701706,
          -0.00895919724741099,
          -0.004538314985200718,
          -0.010924752016647506,
          -0.06098311881327175
         ],
         "xaxis": "x",
         "y": [
          -0.09900604155476826,
          -0.16331095094257503,
          -0.1328109426257228,
          -0.1422973892091108,
          -0.14460185652853702,
          -0.16222493859138137,
          -0.1509940446250955,
          -0.11644523565694076,
          -0.08674472094201117,
          -0.12492289675397394,
          -0.11985754361749791,
          -0.12767955649154883,
          -0.08336409906634798,
          -0.08479209725454703,
          -0.07872699645910941,
          -0.08549762449647434,
          -0.0849429816780842,
          -0.10465802645103829,
          -0.11258842573088773,
          -0.09914242982526907,
          -0.13966043298501954,
          -0.08241286196203446,
          -0.14449357037237134,
          -0.08764875767196975,
          -0.09388863638779563,
          -0.16866864374003512,
          -0.16953968467024727,
          -0.1738309022643346,
          -0.13687311004077157
         ],
         "yaxis": "y"
        },
        {
         "hovertemplate": "small_cluster=TGFBR<br>x1_pca=%{x}<br>x2_pca=%{y}<extra></extra>",
         "legendgroup": "TGFBR",
         "marker": {
          "color": "#F8A19F",
          "symbol": "circle"
         },
         "mode": "markers",
         "name": "TGFBR",
         "orientation": "v",
         "showlegend": true,
         "type": "scatter",
         "x": [
          0.11203657640327787,
          0.12482310980527812,
          0.13625114230874252,
          0.10976355300235417,
          0.0820275082900048,
          0.13397714409778366,
          0.09999089286667107,
          0.13249595005987827,
          0.1252985630346381,
          0.1002291230508914,
          0.13495370446526642,
          0.09793947134877336
         ],
         "xaxis": "x",
         "y": [
          -0.02840577824109399,
          0.006233992663502972,
          -0.016826038507522244,
          -0.019851228553072163,
          -0.0049905065377779615,
          -0.01453110162693758,
          0.008696547183708707,
          -0.022941077539935753,
          -0.018109134433302837,
          -0.025583433509811362,
          -0.002504590808677576,
          -0.012384253627658725
         ],
         "yaxis": "y"
        },
        {
         "hovertemplate": "small_cluster=RAF<br>x1_pca=%{x}<br>x2_pca=%{y}<extra></extra>",
         "legendgroup": "RAF",
         "marker": {
          "color": "#90AD1C",
          "symbol": "circle"
         },
         "mode": "markers",
         "name": "RAF",
         "orientation": "v",
         "showlegend": true,
         "type": "scatter",
         "x": [
          0.16052209800338663,
          0.16878607147183625,
          0.17572158836145377
         ],
         "xaxis": "x",
         "y": [
          0.008955048825935952,
          0.0034000215896078283,
          0.0028571139686775207
         ],
         "yaxis": "y"
        },
        {
         "hovertemplate": "small_cluster=Pelle<br>x1_pca=%{x}<br>x2_pca=%{y}<extra></extra>",
         "legendgroup": "Pelle",
         "marker": {
          "color": "#F6222E",
          "symbol": "circle"
         },
         "mode": "markers",
         "name": "Pelle",
         "orientation": "v",
         "showlegend": true,
         "type": "scatter",
         "x": [
          0.10139419440466464,
          0.06496455474131549,
          0.09249483143828754,
          0.12762059710860663
         ],
         "xaxis": "x",
         "y": [
          -0.013442380412673705,
          -0.03301320820113899,
          -0.017309028185045063,
          -0.02471942862091099
         ],
         "yaxis": "y"
        },
        {
         "hovertemplate": "small_cluster=ROCO<br>x1_pca=%{x}<br>x2_pca=%{y}<extra></extra>",
         "legendgroup": "ROCO",
         "marker": {
          "color": "#1CFFCE",
          "symbol": "circle"
         },
         "mode": "markers",
         "name": "ROCO",
         "orientation": "v",
         "showlegend": true,
         "type": "scatter",
         "x": [
          0.06974705589876919,
          0.0609293143745608
         ],
         "xaxis": "x",
         "y": [
          0.006346791310589525,
          -0.023012436567673523
         ],
         "yaxis": "y"
        },
        {
         "hovertemplate": "small_cluster=RIPK<br>x1_pca=%{x}<br>x2_pca=%{y}<extra></extra>",
         "legendgroup": "RIPK",
         "marker": {
          "color": "#2ED9FF",
          "symbol": "circle"
         },
         "mode": "markers",
         "name": "RIPK",
         "orientation": "v",
         "showlegend": true,
         "type": "scatter",
         "x": [
          0.14451784677223864,
          0.13207363590644267,
          0.1178584708336992,
          0.1377710238137033
         ],
         "xaxis": "x",
         "y": [
          0.03230485253431807,
          0.007483735408921642,
          0.0052684540785269095,
          -0.0014254751434776135
         ],
         "yaxis": "y"
        },
        {
         "hovertemplate": "small_cluster=TESK<br>x1_pca=%{x}<br>x2_pca=%{y}<extra></extra>",
         "legendgroup": "TESK",
         "marker": {
          "color": "#B10DA1",
          "symbol": "circle"
         },
         "mode": "markers",
         "name": "TESK",
         "orientation": "v",
         "showlegend": true,
         "type": "scatter",
         "x": [
          0.1393042045314003,
          0.1460748074898295
         ],
         "xaxis": "x",
         "y": [
          -0.05327031243608854,
          -0.048873864691517596
         ],
         "yaxis": "y"
        },
        {
         "hovertemplate": "small_cluster=ABL<br>x1_pca=%{x}<br>x2_pca=%{y}<extra></extra>",
         "legendgroup": "ABL",
         "marker": {
          "color": "#C075A6",
          "symbol": "circle"
         },
         "mode": "markers",
         "name": "ABL",
         "orientation": "v",
         "showlegend": true,
         "type": "scatter",
         "x": [
          0.3835402863167627,
          0.3811747345026978
         ],
         "xaxis": "x",
         "y": [
          0.07912964927498406,
          0.07898197243558032
         ],
         "yaxis": "y"
        },
        {
         "hovertemplate": "small_cluster=InsR<br>x1_pca=%{x}<br>x2_pca=%{y}<extra></extra>",
         "legendgroup": "InsR",
         "marker": {
          "color": "#FC1CBF",
          "symbol": "circle"
         },
         "mode": "markers",
         "name": "InsR",
         "orientation": "v",
         "showlegend": true,
         "type": "scatter",
         "x": [
          0.36232336202096754,
          0.34555614678293023,
          0.3455642333614382,
          0.3846246791618971,
          0.37663789174365325,
          0.3682711635737742,
          0.35453216268361776,
          0.35959972117717687,
          0.35352437408293097,
          0.3469616912581589,
          0.3277533863457037,
          0.382838413464994
         ],
         "xaxis": "x",
         "y": [
          0.05097025255542817,
          0.07488136211744108,
          0.07274056561494116,
          0.03689386517749022,
          0.054671343083653734,
          0.035949299814766314,
          0.03216338760256075,
          0.053365060307682566,
          0.06278512694894985,
          0.06333463905266558,
          0.04515057593798198,
          0.03958119448320929
         ],
         "yaxis": "y"
        },
        {
         "hovertemplate": "small_cluster=AXL/UFO<br>x1_pca=%{x}<br>x2_pca=%{y}<extra></extra>",
         "legendgroup": "AXL/UFO",
         "marker": {
          "color": "#B00068",
          "symbol": "circle"
         },
         "mode": "markers",
         "name": "AXL/UFO",
         "orientation": "v",
         "showlegend": true,
         "type": "scatter",
         "x": [
          0.3697222698944312,
          0.3651248030063823,
          0.3441085027195283
         ],
         "xaxis": "x",
         "y": [
          0.08021425288377936,
          0.08495441070878518,
          0.08567263237517177
         ],
         "yaxis": "y"
        },
        {
         "hovertemplate": "small_cluster=SRC<br>x1_pca=%{x}<br>x2_pca=%{y}<extra></extra>",
         "legendgroup": "SRC",
         "marker": {
          "color": "#FBE426",
          "symbol": "circle"
         },
         "mode": "markers",
         "name": "SRC",
         "orientation": "v",
         "showlegend": true,
         "type": "scatter",
         "x": [
          0.35898691944365385,
          0.3644433570019221,
          0.36983756109424465,
          0.37266513934644635,
          0.3905743117502338,
          0.39474478255166573,
          0.38734764564278706,
          0.38143732863944996,
          0.3348890511957273,
          0.379501928601419
         ],
         "xaxis": "x",
         "y": [
          0.052058903563236655,
          0.04777940811566132,
          0.05631214122190506,
          0.044573221096202424,
          0.07281859633800801,
          0.052198297215116624,
          0.06854860744896207,
          0.04707680335348932,
          0.03969813087173272,
          0.045794240646202425
         ],
         "yaxis": "y"
        },
        {
         "hovertemplate": "small_cluster=TEC<br>x1_pca=%{x}<br>x2_pca=%{y}<extra></extra>",
         "legendgroup": "TEC",
         "marker": {
          "color": "#FA0087",
          "symbol": "circle"
         },
         "mode": "markers",
         "name": "TEC",
         "orientation": "v",
         "showlegend": true,
         "type": "scatter",
         "x": [
          0.3575856252980544,
          0.34819459446539475,
          0.34572147402370457,
          0.351657316193648,
          0.3319144229106106
         ],
         "xaxis": "x",
         "y": [
          0.051574834826463446,
          0.06847550402382416,
          0.044577828108717965,
          0.06660102251968274,
          0.04477301766310463
         ],
         "yaxis": "y"
        },
        {
         "hovertemplate": "small_cluster=CSF-1/PDGFR<br>x1_pca=%{x}<br>x2_pca=%{y}<extra></extra>",
         "legendgroup": "CSF-1/PDGFR",
         "marker": {
          "color": "#AA0DFE",
          "symbol": "circle"
         },
         "mode": "markers",
         "name": "CSF-1/PDGFR",
         "orientation": "v",
         "showlegend": true,
         "type": "scatter",
         "x": [
          0.3665604310762121,
          0.33667450398222987,
          0.3448027074784837,
          0.34198241261887885,
          0.3335959971334595,
          0.3330674253499841,
          0.34947696145525287,
          0.35471277095285747
         ],
         "xaxis": "x",
         "y": [
          0.04657713557205487,
          0.04274829345369947,
          0.038060422528692565,
          0.04953867277745179,
          0.04258417083542434,
          0.035312335775324825,
          0.0443656142587719,
          0.038833173202071476
         ],
         "yaxis": "y"
        },
        {
         "hovertemplate": "small_cluster=CSK<br>x1_pca=%{x}<br>x2_pca=%{y}<extra></extra>",
         "legendgroup": "CSK",
         "marker": {
          "color": "#3283FE",
          "symbol": "circle"
         },
         "mode": "markers",
         "name": "CSK",
         "orientation": "v",
         "showlegend": true,
         "type": "scatter",
         "x": [
          0.3484339348172444,
          0.35545273459358745
         ],
         "xaxis": "x",
         "y": [
          0.06568378803003597,
          0.05799407107260425
         ],
         "yaxis": "y"
        },
        {
         "hovertemplate": "small_cluster=EGFR<br>x1_pca=%{x}<br>x2_pca=%{y}<extra></extra>",
         "legendgroup": "EGFR",
         "marker": {
          "color": "#85660D",
          "symbol": "circle"
         },
         "mode": "markers",
         "name": "EGFR",
         "orientation": "v",
         "showlegend": true,
         "type": "scatter",
         "x": [
          0.3162247510486815,
          0.3260894269732662,
          0.29174276445325775,
          0.342302409656121
         ],
         "xaxis": "x",
         "y": [
          0.0385779817821995,
          0.04786017002767189,
          0.03612502531449603,
          0.06368766498206027
         ],
         "yaxis": "y"
        },
        {
         "hovertemplate": "small_cluster=Eph<br>x1_pca=%{x}<br>x2_pca=%{y}<extra></extra>",
         "legendgroup": "Eph",
         "marker": {
          "color": "#782AB6",
          "symbol": "circle"
         },
         "mode": "markers",
         "name": "Eph",
         "orientation": "v",
         "showlegend": true,
         "type": "scatter",
         "x": [
          0.3992771487927205,
          0.3576996295115006,
          0.43421399441807146,
          0.4344248325323938,
          0.42664717242722305,
          0.42707049436477956,
          0.41504329429923387,
          0.42193853781264584,
          0.4056862536803854,
          0.4306486419701396,
          0.4304858293149318,
          0.42827030629155904,
          0.4148870444637614,
          0.32550636190085314
         ],
         "xaxis": "x",
         "y": [
          0.05924478274182197,
          0.07329232598070523,
          0.08346288891929375,
          0.09394318323577291,
          0.09317284930362212,
          0.09083339335695499,
          0.08961894599815058,
          0.09165053097210112,
          0.09160703695814641,
          0.07751318949840297,
          0.08415019900593465,
          0.0685268342671221,
          0.07676780621820951,
          0.07168740876370608
         ],
         "yaxis": "y"
        },
        {
         "hovertemplate": "small_cluster=Fes/Fps<br>x1_pca=%{x}<br>x2_pca=%{y}<extra></extra>",
         "legendgroup": "Fes/Fps",
         "marker": {
          "color": "#565656",
          "symbol": "circle"
         },
         "mode": "markers",
         "name": "Fes/Fps",
         "orientation": "v",
         "showlegend": true,
         "type": "scatter",
         "x": [
          0.3578490015340689,
          0.34806075062825287
         ],
         "xaxis": "x",
         "y": [
          0.05560871198937351,
          0.05923999774731427
         ],
         "yaxis": "y"
        },
        {
         "hovertemplate": "small_cluster=FGFR<br>x1_pca=%{x}<br>x2_pca=%{y}<extra></extra>",
         "legendgroup": "FGFR",
         "marker": {
          "color": "#1C8356",
          "symbol": "circle"
         },
         "mode": "markers",
         "name": "FGFR",
         "orientation": "v",
         "showlegend": true,
         "type": "scatter",
         "x": [
          0.3728817284372775,
          0.375919766422794,
          0.3832996848051418,
          0.3747940228157821
         ],
         "xaxis": "x",
         "y": [
          0.06384219649604914,
          0.05542461583225958,
          0.05949926714443686,
          0.050496649252199835
         ],
         "yaxis": "y"
        },
        {
         "hovertemplate": "small_cluster=JAK<br>x1_pca=%{x}<br>x2_pca=%{y}<extra></extra>",
         "legendgroup": "JAK",
         "marker": {
          "color": "#16FF32",
          "symbol": "circle"
         },
         "mode": "markers",
         "name": "JAK",
         "orientation": "v",
         "showlegend": true,
         "type": "scatter",
         "x": [
          0.18101695572989446,
          0.2524251590619199,
          0.19592209567454855,
          0.26410822429124914,
          0.18186764643731787,
          0.23837268257905328,
          0.16857314407597943,
          0.2399518191176674
         ],
         "xaxis": "x",
         "y": [
          0.019081869067852766,
          0.030825241692613727,
          0.008307290629747477,
          0.026649546255639294,
          0.018316925329952924,
          0.047077940214800544,
          -0.016249336013140613,
          0.04125812609303767
         ],
         "yaxis": "y"
        },
        {
         "hovertemplate": "small_cluster=FAK<br>x1_pca=%{x}<br>x2_pca=%{y}<extra></extra>",
         "legendgroup": "FAK",
         "marker": {
          "color": "#F7E1A0",
          "symbol": "circle"
         },
         "mode": "markers",
         "name": "FAK",
         "orientation": "v",
         "showlegend": true,
         "type": "scatter",
         "x": [
          0.325979554385807,
          0.3278909552174736
         ],
         "xaxis": "x",
         "y": [
          0.0404718686815374,
          0.05467695503054809
         ],
         "yaxis": "y"
        },
        {
         "hovertemplate": "small_cluster=BRK/PTK6/SIK<br>x1_pca=%{x}<br>x2_pca=%{y}<extra></extra>",
         "legendgroup": "BRK/PTK6/SIK",
         "marker": {
          "color": "#E2E2E2",
          "symbol": "circle"
         },
         "mode": "markers",
         "name": "BRK/PTK6/SIK",
         "orientation": "v",
         "showlegend": true,
         "type": "scatter",
         "x": [
          0.304884582676655
         ],
         "xaxis": "x",
         "y": [
          0.013289567641146622
         ],
         "yaxis": "y"
        },
        {
         "hovertemplate": "small_cluster=ROR<br>x1_pca=%{x}<br>x2_pca=%{y}<extra></extra>",
         "legendgroup": "ROR",
         "marker": {
          "color": "#1CBE4F",
          "symbol": "circle"
         },
         "mode": "markers",
         "name": "ROR",
         "orientation": "v",
         "showlegend": true,
         "type": "scatter",
         "x": [
          0.35139280496808484,
          0.3422524385366742
         ],
         "xaxis": "x",
         "y": [
          0.05117984686622074,
          0.05043030539105826
         ],
         "yaxis": "y"
        },
        {
         "hovertemplate": "small_cluster=SYK/ZAP-70<br>x1_pca=%{x}<br>x2_pca=%{y}<extra></extra>",
         "legendgroup": "SYK/ZAP-70",
         "marker": {
          "color": "#C4451C",
          "symbol": "circle"
         },
         "mode": "markers",
         "name": "SYK/ZAP-70",
         "orientation": "v",
         "showlegend": true,
         "type": "scatter",
         "x": [
          0.32044315669314727,
          0.28935300660603397
         ],
         "xaxis": "x",
         "y": [
          0.07650427363767709,
          0.06676482897232842
         ],
         "yaxis": "y"
        },
        {
         "hovertemplate": "small_cluster=TIE<br>x1_pca=%{x}<br>x2_pca=%{y}<extra></extra>",
         "legendgroup": "TIE",
         "marker": {
          "color": "#DEA0FD",
          "symbol": "circle"
         },
         "mode": "markers",
         "name": "TIE",
         "orientation": "v",
         "showlegend": true,
         "type": "scatter",
         "x": [
          0.3156003362907379,
          0.3378686714840659
         ],
         "xaxis": "x",
         "y": [
          0.06572738783631664,
          0.07820214810770316
         ],
         "yaxis": "y"
        }
       ],
       "layout": {
        "legend": {
         "title": {
          "text": "small_cluster"
         },
         "tracegroupgap": 0
        },
        "margin": {
         "t": 60
        },
        "template": {
         "data": {
          "bar": [
           {
            "error_x": {
             "color": "#2a3f5f"
            },
            "error_y": {
             "color": "#2a3f5f"
            },
            "marker": {
             "line": {
              "color": "#E5ECF6",
              "width": 0.5
             },
             "pattern": {
              "fillmode": "overlay",
              "size": 10,
              "solidity": 0.2
             }
            },
            "type": "bar"
           }
          ],
          "barpolar": [
           {
            "marker": {
             "line": {
              "color": "#E5ECF6",
              "width": 0.5
             },
             "pattern": {
              "fillmode": "overlay",
              "size": 10,
              "solidity": 0.2
             }
            },
            "type": "barpolar"
           }
          ],
          "carpet": [
           {
            "aaxis": {
             "endlinecolor": "#2a3f5f",
             "gridcolor": "white",
             "linecolor": "white",
             "minorgridcolor": "white",
             "startlinecolor": "#2a3f5f"
            },
            "baxis": {
             "endlinecolor": "#2a3f5f",
             "gridcolor": "white",
             "linecolor": "white",
             "minorgridcolor": "white",
             "startlinecolor": "#2a3f5f"
            },
            "type": "carpet"
           }
          ],
          "choropleth": [
           {
            "colorbar": {
             "outlinewidth": 0,
             "ticks": ""
            },
            "type": "choropleth"
           }
          ],
          "contour": [
           {
            "colorbar": {
             "outlinewidth": 0,
             "ticks": ""
            },
            "colorscale": [
             [
              0,
              "#0d0887"
             ],
             [
              0.1111111111111111,
              "#46039f"
             ],
             [
              0.2222222222222222,
              "#7201a8"
             ],
             [
              0.3333333333333333,
              "#9c179e"
             ],
             [
              0.4444444444444444,
              "#bd3786"
             ],
             [
              0.5555555555555556,
              "#d8576b"
             ],
             [
              0.6666666666666666,
              "#ed7953"
             ],
             [
              0.7777777777777778,
              "#fb9f3a"
             ],
             [
              0.8888888888888888,
              "#fdca26"
             ],
             [
              1,
              "#f0f921"
             ]
            ],
            "type": "contour"
           }
          ],
          "contourcarpet": [
           {
            "colorbar": {
             "outlinewidth": 0,
             "ticks": ""
            },
            "type": "contourcarpet"
           }
          ],
          "heatmap": [
           {
            "colorbar": {
             "outlinewidth": 0,
             "ticks": ""
            },
            "colorscale": [
             [
              0,
              "#0d0887"
             ],
             [
              0.1111111111111111,
              "#46039f"
             ],
             [
              0.2222222222222222,
              "#7201a8"
             ],
             [
              0.3333333333333333,
              "#9c179e"
             ],
             [
              0.4444444444444444,
              "#bd3786"
             ],
             [
              0.5555555555555556,
              "#d8576b"
             ],
             [
              0.6666666666666666,
              "#ed7953"
             ],
             [
              0.7777777777777778,
              "#fb9f3a"
             ],
             [
              0.8888888888888888,
              "#fdca26"
             ],
             [
              1,
              "#f0f921"
             ]
            ],
            "type": "heatmap"
           }
          ],
          "heatmapgl": [
           {
            "colorbar": {
             "outlinewidth": 0,
             "ticks": ""
            },
            "colorscale": [
             [
              0,
              "#0d0887"
             ],
             [
              0.1111111111111111,
              "#46039f"
             ],
             [
              0.2222222222222222,
              "#7201a8"
             ],
             [
              0.3333333333333333,
              "#9c179e"
             ],
             [
              0.4444444444444444,
              "#bd3786"
             ],
             [
              0.5555555555555556,
              "#d8576b"
             ],
             [
              0.6666666666666666,
              "#ed7953"
             ],
             [
              0.7777777777777778,
              "#fb9f3a"
             ],
             [
              0.8888888888888888,
              "#fdca26"
             ],
             [
              1,
              "#f0f921"
             ]
            ],
            "type": "heatmapgl"
           }
          ],
          "histogram": [
           {
            "marker": {
             "pattern": {
              "fillmode": "overlay",
              "size": 10,
              "solidity": 0.2
             }
            },
            "type": "histogram"
           }
          ],
          "histogram2d": [
           {
            "colorbar": {
             "outlinewidth": 0,
             "ticks": ""
            },
            "colorscale": [
             [
              0,
              "#0d0887"
             ],
             [
              0.1111111111111111,
              "#46039f"
             ],
             [
              0.2222222222222222,
              "#7201a8"
             ],
             [
              0.3333333333333333,
              "#9c179e"
             ],
             [
              0.4444444444444444,
              "#bd3786"
             ],
             [
              0.5555555555555556,
              "#d8576b"
             ],
             [
              0.6666666666666666,
              "#ed7953"
             ],
             [
              0.7777777777777778,
              "#fb9f3a"
             ],
             [
              0.8888888888888888,
              "#fdca26"
             ],
             [
              1,
              "#f0f921"
             ]
            ],
            "type": "histogram2d"
           }
          ],
          "histogram2dcontour": [
           {
            "colorbar": {
             "outlinewidth": 0,
             "ticks": ""
            },
            "colorscale": [
             [
              0,
              "#0d0887"
             ],
             [
              0.1111111111111111,
              "#46039f"
             ],
             [
              0.2222222222222222,
              "#7201a8"
             ],
             [
              0.3333333333333333,
              "#9c179e"
             ],
             [
              0.4444444444444444,
              "#bd3786"
             ],
             [
              0.5555555555555556,
              "#d8576b"
             ],
             [
              0.6666666666666666,
              "#ed7953"
             ],
             [
              0.7777777777777778,
              "#fb9f3a"
             ],
             [
              0.8888888888888888,
              "#fdca26"
             ],
             [
              1,
              "#f0f921"
             ]
            ],
            "type": "histogram2dcontour"
           }
          ],
          "mesh3d": [
           {
            "colorbar": {
             "outlinewidth": 0,
             "ticks": ""
            },
            "type": "mesh3d"
           }
          ],
          "parcoords": [
           {
            "line": {
             "colorbar": {
              "outlinewidth": 0,
              "ticks": ""
             }
            },
            "type": "parcoords"
           }
          ],
          "pie": [
           {
            "automargin": true,
            "type": "pie"
           }
          ],
          "scatter": [
           {
            "fillpattern": {
             "fillmode": "overlay",
             "size": 10,
             "solidity": 0.2
            },
            "type": "scatter"
           }
          ],
          "scatter3d": [
           {
            "line": {
             "colorbar": {
              "outlinewidth": 0,
              "ticks": ""
             }
            },
            "marker": {
             "colorbar": {
              "outlinewidth": 0,
              "ticks": ""
             }
            },
            "type": "scatter3d"
           }
          ],
          "scattercarpet": [
           {
            "marker": {
             "colorbar": {
              "outlinewidth": 0,
              "ticks": ""
             }
            },
            "type": "scattercarpet"
           }
          ],
          "scattergeo": [
           {
            "marker": {
             "colorbar": {
              "outlinewidth": 0,
              "ticks": ""
             }
            },
            "type": "scattergeo"
           }
          ],
          "scattergl": [
           {
            "marker": {
             "colorbar": {
              "outlinewidth": 0,
              "ticks": ""
             }
            },
            "type": "scattergl"
           }
          ],
          "scattermapbox": [
           {
            "marker": {
             "colorbar": {
              "outlinewidth": 0,
              "ticks": ""
             }
            },
            "type": "scattermapbox"
           }
          ],
          "scatterpolar": [
           {
            "marker": {
             "colorbar": {
              "outlinewidth": 0,
              "ticks": ""
             }
            },
            "type": "scatterpolar"
           }
          ],
          "scatterpolargl": [
           {
            "marker": {
             "colorbar": {
              "outlinewidth": 0,
              "ticks": ""
             }
            },
            "type": "scatterpolargl"
           }
          ],
          "scatterternary": [
           {
            "marker": {
             "colorbar": {
              "outlinewidth": 0,
              "ticks": ""
             }
            },
            "type": "scatterternary"
           }
          ],
          "surface": [
           {
            "colorbar": {
             "outlinewidth": 0,
             "ticks": ""
            },
            "colorscale": [
             [
              0,
              "#0d0887"
             ],
             [
              0.1111111111111111,
              "#46039f"
             ],
             [
              0.2222222222222222,
              "#7201a8"
             ],
             [
              0.3333333333333333,
              "#9c179e"
             ],
             [
              0.4444444444444444,
              "#bd3786"
             ],
             [
              0.5555555555555556,
              "#d8576b"
             ],
             [
              0.6666666666666666,
              "#ed7953"
             ],
             [
              0.7777777777777778,
              "#fb9f3a"
             ],
             [
              0.8888888888888888,
              "#fdca26"
             ],
             [
              1,
              "#f0f921"
             ]
            ],
            "type": "surface"
           }
          ],
          "table": [
           {
            "cells": {
             "fill": {
              "color": "#EBF0F8"
             },
             "line": {
              "color": "white"
             }
            },
            "header": {
             "fill": {
              "color": "#C8D4E3"
             },
             "line": {
              "color": "white"
             }
            },
            "type": "table"
           }
          ]
         },
         "layout": {
          "annotationdefaults": {
           "arrowcolor": "#2a3f5f",
           "arrowhead": 0,
           "arrowwidth": 1
          },
          "autotypenumbers": "strict",
          "coloraxis": {
           "colorbar": {
            "outlinewidth": 0,
            "ticks": ""
           }
          },
          "colorscale": {
           "diverging": [
            [
             0,
             "#8e0152"
            ],
            [
             0.1,
             "#c51b7d"
            ],
            [
             0.2,
             "#de77ae"
            ],
            [
             0.3,
             "#f1b6da"
            ],
            [
             0.4,
             "#fde0ef"
            ],
            [
             0.5,
             "#f7f7f7"
            ],
            [
             0.6,
             "#e6f5d0"
            ],
            [
             0.7,
             "#b8e186"
            ],
            [
             0.8,
             "#7fbc41"
            ],
            [
             0.9,
             "#4d9221"
            ],
            [
             1,
             "#276419"
            ]
           ],
           "sequential": [
            [
             0,
             "#0d0887"
            ],
            [
             0.1111111111111111,
             "#46039f"
            ],
            [
             0.2222222222222222,
             "#7201a8"
            ],
            [
             0.3333333333333333,
             "#9c179e"
            ],
            [
             0.4444444444444444,
             "#bd3786"
            ],
            [
             0.5555555555555556,
             "#d8576b"
            ],
            [
             0.6666666666666666,
             "#ed7953"
            ],
            [
             0.7777777777777778,
             "#fb9f3a"
            ],
            [
             0.8888888888888888,
             "#fdca26"
            ],
            [
             1,
             "#f0f921"
            ]
           ],
           "sequentialminus": [
            [
             0,
             "#0d0887"
            ],
            [
             0.1111111111111111,
             "#46039f"
            ],
            [
             0.2222222222222222,
             "#7201a8"
            ],
            [
             0.3333333333333333,
             "#9c179e"
            ],
            [
             0.4444444444444444,
             "#bd3786"
            ],
            [
             0.5555555555555556,
             "#d8576b"
            ],
            [
             0.6666666666666666,
             "#ed7953"
            ],
            [
             0.7777777777777778,
             "#fb9f3a"
            ],
            [
             0.8888888888888888,
             "#fdca26"
            ],
            [
             1,
             "#f0f921"
            ]
           ]
          },
          "colorway": [
           "#636efa",
           "#EF553B",
           "#00cc96",
           "#ab63fa",
           "#FFA15A",
           "#19d3f3",
           "#FF6692",
           "#B6E880",
           "#FF97FF",
           "#FECB52"
          ],
          "font": {
           "color": "#2a3f5f"
          },
          "geo": {
           "bgcolor": "white",
           "lakecolor": "white",
           "landcolor": "#E5ECF6",
           "showlakes": true,
           "showland": true,
           "subunitcolor": "white"
          },
          "hoverlabel": {
           "align": "left"
          },
          "hovermode": "closest",
          "mapbox": {
           "style": "light"
          },
          "paper_bgcolor": "white",
          "plot_bgcolor": "#E5ECF6",
          "polar": {
           "angularaxis": {
            "gridcolor": "white",
            "linecolor": "white",
            "ticks": ""
           },
           "bgcolor": "#E5ECF6",
           "radialaxis": {
            "gridcolor": "white",
            "linecolor": "white",
            "ticks": ""
           }
          },
          "scene": {
           "xaxis": {
            "backgroundcolor": "#E5ECF6",
            "gridcolor": "white",
            "gridwidth": 2,
            "linecolor": "white",
            "showbackground": true,
            "ticks": "",
            "zerolinecolor": "white"
           },
           "yaxis": {
            "backgroundcolor": "#E5ECF6",
            "gridcolor": "white",
            "gridwidth": 2,
            "linecolor": "white",
            "showbackground": true,
            "ticks": "",
            "zerolinecolor": "white"
           },
           "zaxis": {
            "backgroundcolor": "#E5ECF6",
            "gridcolor": "white",
            "gridwidth": 2,
            "linecolor": "white",
            "showbackground": true,
            "ticks": "",
            "zerolinecolor": "white"
           }
          },
          "shapedefaults": {
           "line": {
            "color": "#2a3f5f"
           }
          },
          "ternary": {
           "aaxis": {
            "gridcolor": "white",
            "linecolor": "white",
            "ticks": ""
           },
           "baxis": {
            "gridcolor": "white",
            "linecolor": "white",
            "ticks": ""
           },
           "bgcolor": "#E5ECF6",
           "caxis": {
            "gridcolor": "white",
            "linecolor": "white",
            "ticks": ""
           }
          },
          "title": {
           "x": 0.05
          },
          "xaxis": {
           "automargin": true,
           "gridcolor": "white",
           "linecolor": "white",
           "ticks": "",
           "title": {
            "standoff": 15
           },
           "zerolinecolor": "white",
           "zerolinewidth": 2
          },
          "yaxis": {
           "automargin": true,
           "gridcolor": "white",
           "linecolor": "white",
           "ticks": "",
           "title": {
            "standoff": 15
           },
           "zerolinecolor": "white",
           "zerolinewidth": 2
          }
         }
        },
        "xaxis": {
         "anchor": "y",
         "domain": [
          0,
          1
         ],
         "title": {
          "text": "x1_pca"
         }
        },
        "yaxis": {
         "anchor": "x",
         "domain": [
          0,
          1
         ],
         "scaleanchor": "x",
         "scaleratio": 1,
         "title": {
          "text": "x2_pca"
         }
        }
       }
      },
      "text/html": [
       "<div>                            <div id=\"602b7104-2797-4002-8af8-9eb7e6b3fe10\" class=\"plotly-graph-div\" style=\"height:525px; width:100%;\"></div>            <script type=\"text/javascript\">                require([\"plotly\"], function(Plotly) {                    window.PLOTLYENV=window.PLOTLYENV || {};                                    if (document.getElementById(\"602b7104-2797-4002-8af8-9eb7e6b3fe10\")) {                    Plotly.newPlot(                        \"602b7104-2797-4002-8af8-9eb7e6b3fe10\",                        [{\"hovertemplate\":\"small_cluster=RAC<br>x1_pca=%{x}<br>x2_pca=%{y}<extra></extra>\",\"legendgroup\":\"RAC\",\"marker\":{\"color\":\"#F8A19F\",\"symbol\":\"circle\"},\"mode\":\"markers\",\"name\":\"RAC\",\"orientation\":\"v\",\"showlegend\":true,\"x\":[-0.24990107366960457,-0.2523300946547776,-0.2500792161561318],\"xaxis\":\"x\",\"y\":[0.32514423794545655,0.31825808497837865,0.31899885443913495],\"yaxis\":\"y\",\"type\":\"scatter\"},{\"hovertemplate\":\"small_cluster=DMPK<br>x1_pca=%{x}<br>x2_pca=%{y}<extra></extra>\",\"legendgroup\":\"DMPK\",\"marker\":{\"color\":\"#90AD1C\",\"symbol\":\"circle\"},\"mode\":\"markers\",\"name\":\"DMPK\",\"orientation\":\"v\",\"showlegend\":true,\"x\":[-0.2180399883096336,-0.21833201013200956,-0.2211769710048369,-0.23333282837075833],\"xaxis\":\"x\",\"y\":[0.23383180282230376,0.23724617927597066,0.2184250750305248,0.21064720048397093],\"yaxis\":\"y\",\"type\":\"scatter\"},{\"hovertemplate\":\"small_cluster=Other<br>x1_pca=%{x}<br>x2_pca=%{y}<extra></extra>\",\"legendgroup\":\"Other\",\"marker\":{\"color\":\"#F6222E\",\"symbol\":\"circle\"},\"mode\":\"markers\",\"name\":\"Other\",\"orientation\":\"v\",\"showlegend\":true,\"x\":[-0.19415433767999968,-0.21422924964367154,-0.21727179938850683,-0.17021701256710986,-0.13429353876872469,-0.140472778313749,-0.13680194716168131,-0.15708152859368144,-0.18847578762517828,-0.13257038794067041,-0.10853258708476737,-0.12856724725997346,-0.0749583854251021,-0.10984967524611876,-0.20277447301179968,-0.21273800659069236,-0.21528403923382688,-0.18857463477563666,-0.181801801809527,-0.13402310787458802,-0.1260805234887528,-0.11871667940098427,-0.1284494857727639,-0.15595139977398437,0.026961788921397053,0.026371734047280174,-0.11020936390692732,-0.05082881675102957,-0.02970264610087197,0.08644187224937916,-0.033604482009519675,-0.06905517622202102,-0.043013053392801245,0.15121253194780324,0.11380448207440949,0.01515719406657147,0.0164278024464908,-0.04441083606712801,-0.03384993910610918,-0.0023420308695232092,0.014333139997152628,-0.03583852320205461,-0.013243802427596547,0.019945140401914484,-0.017172453959466705,-0.022753914149726606,-0.012084931934139318,-0.05275323855693361,-0.008041091053995206,0.0018970941273219,-0.008246552325951777,-0.03379974720221727,-0.030372156393270473,0.009421257189431874,-0.020501282817524093,-0.02403213286869896,-0.14242871090073284,-0.023810376790843735,0.1245816042018001,-0.08468628851040333,-0.08547096459437754,0.05450048563989336,-0.09957843963620348,-0.05218693959878632,0.18013435093704394,0.14325460153694192,0.17349697739892664,0.20925579661925486,0.18355445860445488,-0.07247133170833783,-0.08059219395206206,0.11643459249193161,0.20593800839093854,0.1497103016718803,0.1298480012659153,0.162806787980348,0.15612209677402097,0.2513794157442468,0.24982811364514004,0.26958704967733843,0.3612426653405564,0.33013676396623787,0.3639285267233834,0.34846639434144017,0.32313914443957187,0.2053238658841006,0.25837776890141284,0.30000518200633597],\"xaxis\":\"x\",\"y\":[0.1343324549157905,0.193971640840826,0.19317396729975606,0.16146697026315474,0.06671001679361621,0.13032785328517546,0.13152015738204784,0.14163367473885313,0.06317020068764607,-0.0340003675440737,0.10842426978039144,-0.009549412757389233,-0.025053911038187368,-0.014989509085139572,0.03305084339103806,0.03301613927879403,0.09093209539499818,0.10813935183422682,0.06616769172187732,-0.0561972803885955,-0.024196635737361378,0.06805688769756157,-0.01375815211778509,0.0029380998541058104,-0.07477384560162323,-0.07644160594709692,-0.18899079334483077,-0.020752722966757484,-0.02883652996429094,0.006183742035714043,-0.0667908057233542,-0.05244829531512695,-0.040308034399144446,-0.07436950286567524,-0.07127182434482277,-0.09098571061267882,-0.07531552273170782,-0.039047699196070595,-0.026905045967208347,-0.028117843113854242,-0.047150868636823766,-0.07092774885270878,-0.03692286565656762,-0.08710412745080785,0.0028581511414736195,-0.04108937292256178,-0.05739093908954304,0.022843412597246142,0.046848191229515994,-0.02642704420525151,-0.08407007010425901,-0.056515290147433186,-0.06291046495847931,-0.037588641333297625,-0.06951840330861322,-0.05360010583353434,-0.0668261536466236,-0.05477364918548626,-0.018226607455699574,0.0033450918767819865,-0.0006945609065631514,-0.05945183109469498,-0.07676470663898931,-0.10733728138226308,-0.021140857127823005,-0.07286074260492406,-0.05465464798691106,-0.029265989442702655,-0.03648808760940512,-0.108475051092653,-0.10315821879775158,0.029090819923802542,0.03929815358397802,-0.008849726740001677,-0.012913159707709329,0.0012846853243626108,0.000761701254566054,0.015614087480410814,-0.005055224787521471,0.004650189212350117,0.06277013505364729,0.05214615045353614,0.047888475450513356,0.08552366347482167,0.04857332491415742,-0.0010799641917802595,0.030389498284020405,0.037024209207155996],\"yaxis\":\"y\",\"type\":\"scatter\"},{\"hovertemplate\":\"small_cluster=GPRK<br>x1_pca=%{x}<br>x2_pca=%{y}<extra></extra>\",\"legendgroup\":\"GPRK\",\"marker\":{\"color\":\"#1CFFCE\",\"symbol\":\"circle\"},\"mode\":\"markers\",\"name\":\"GPRK\",\"orientation\":\"v\",\"showlegend\":true,\"x\":[-0.1704307178593325,-0.17504219582264027,-0.17726269354379293,-0.16244041147987662,-0.16697806406543117,-0.16073446798938767,-0.16324797598669505],\"xaxis\":\"x\",\"y\":[0.1644220980717168,0.1510376261074946,0.1483286431128461,0.18995057429150594,0.1710928305908663,0.1791131030708483,0.1559030862664853],\"yaxis\":\"y\",\"type\":\"scatter\"},{\"hovertemplate\":\"small_cluster=MAST<br>x1_pca=%{x}<br>x2_pca=%{y}<extra></extra>\",\"legendgroup\":\"MAST\",\"marker\":{\"color\":\"#2ED9FF\",\"symbol\":\"circle\"},\"mode\":\"markers\",\"name\":\"MAST\",\"orientation\":\"v\",\"showlegend\":true,\"x\":[-0.23849852799793156,-0.24229743506889168,-0.2366139415369794,-0.2367907247326776],\"xaxis\":\"x\",\"y\":[0.1876235960935801,0.17687598554363704,0.19779414081915525,0.17850934296029586],\"yaxis\":\"y\",\"type\":\"scatter\"},{\"hovertemplate\":\"small_cluster=PDPK1<br>x1_pca=%{x}<br>x2_pca=%{y}<extra></extra>\",\"legendgroup\":\"PDPK1\",\"marker\":{\"color\":\"#B10DA1\",\"symbol\":\"circle\"},\"mode\":\"markers\",\"name\":\"PDPK1\",\"orientation\":\"v\",\"showlegend\":true,\"x\":[-0.19222703160991397,-0.19032525206429426],\"xaxis\":\"x\",\"y\":[0.143400651401741,0.14040800719355026],\"yaxis\":\"y\",\"type\":\"scatter\"},{\"hovertemplate\":\"small_cluster=PKC<br>x1_pca=%{x}<br>x2_pca=%{y}<extra></extra>\",\"legendgroup\":\"PKC\",\"marker\":{\"color\":\"#C075A6\",\"symbol\":\"circle\"},\"mode\":\"markers\",\"name\":\"PKC\",\"orientation\":\"v\",\"showlegend\":true,\"x\":[-0.16916974903763607,-0.17430910702434174,-0.18936536668356746,-0.20073661128278456,-0.18692657007338276,-0.17394463489233225,-0.21879257774934918,-0.19555420170970866,-0.22954166342010918,-0.23140760074173178,-0.18901081581477572,-0.22511404461452286],\"xaxis\":\"x\",\"y\":[0.2818300014538087,0.28200591442329853,0.2535886415041561,0.3264233610343029,0.34654209583665907,0.29792762778657766,0.3081612625571519,0.31747128456269136,0.3144369243982663,0.29059449060285397,0.2883064126555326,0.2859360294854042],\"yaxis\":\"y\",\"type\":\"scatter\"},{\"hovertemplate\":\"small_cluster=cAMP<br>x1_pca=%{x}<br>x2_pca=%{y}<extra></extra>\",\"legendgroup\":\"cAMP\",\"marker\":{\"color\":\"#FC1CBF\",\"symbol\":\"circle\"},\"mode\":\"markers\",\"name\":\"cAMP\",\"orientation\":\"v\",\"showlegend\":true,\"x\":[-0.2213100909390796,-0.2154425809307553,-0.21949419653892835,-0.2047539298872221,-0.1467316347762035],\"xaxis\":\"x\",\"y\":[0.2837953858881264,0.28983691728163996,0.2641028546102557,0.25517906897600623,0.2407973114849105],\"yaxis\":\"y\",\"type\":\"scatter\"},{\"hovertemplate\":\"small_cluster=cGMP<br>x1_pca=%{x}<br>x2_pca=%{y}<extra></extra>\",\"legendgroup\":\"cGMP\",\"marker\":{\"color\":\"#B00068\",\"symbol\":\"circle\"},\"mode\":\"markers\",\"name\":\"cGMP\",\"orientation\":\"v\",\"showlegend\":true,\"x\":[-0.1780495115039702,-0.17820611989829616],\"xaxis\":\"x\",\"y\":[0.22010501613409394,0.1943127298137057],\"yaxis\":\"y\",\"type\":\"scatter\"},{\"hovertemplate\":\"small_cluster=ROCK<br>x1_pca=%{x}<br>x2_pca=%{y}<extra></extra>\",\"legendgroup\":\"ROCK\",\"marker\":{\"color\":\"#FBE426\",\"symbol\":\"circle\"},\"mode\":\"markers\",\"name\":\"ROCK\",\"orientation\":\"v\",\"showlegend\":true,\"x\":[-0.20817920268036805,-0.21942703229550622],\"xaxis\":\"x\",\"y\":[0.22207564483813924,0.21227294369528885],\"yaxis\":\"y\",\"type\":\"scatter\"},{\"hovertemplate\":\"small_cluster=S6K<br>x1_pca=%{x}<br>x2_pca=%{y}<extra></extra>\",\"legendgroup\":\"S6K\",\"marker\":{\"color\":\"#FA0087\",\"symbol\":\"circle\"},\"mode\":\"markers\",\"name\":\"S6K\",\"orientation\":\"v\",\"showlegend\":true,\"x\":[-0.19151336756635975,-0.20123472440766343,-0.19892979029150906,-0.2346896261121886,-0.22854352630012145,-0.1985224697372719,-0.2471443760689931,-0.2494744293801722,-0.16440185159690282,-0.16399791099888278,-0.1625643426287901,-0.15390024691546977,-0.1771450025893013,-0.1615413535725939,-0.13667800743765499,-0.12544747165483539],\"xaxis\":\"x\",\"y\":[0.2706203696107442,0.2705560316747448,0.2849876662989837,0.2709890630453634,0.27454159250443727,0.28397219172122595,0.24388365803177756,0.24741069164715435,0.051698466514056365,0.053492831565854326,0.043449322855421836,0.08384400941023888,0.08012889414395684,0.040506515053528806,0.11334689855597527,0.10064697454551769],\"yaxis\":\"y\",\"type\":\"scatter\"},{\"hovertemplate\":\"small_cluster=SGK<br>x1_pca=%{x}<br>x2_pca=%{y}<extra></extra>\",\"legendgroup\":\"SGK\",\"marker\":{\"color\":\"#AA0DFE\",\"symbol\":\"circle\"},\"mode\":\"markers\",\"name\":\"SGK\",\"orientation\":\"v\",\"showlegend\":true,\"x\":[-0.22216206094114438,-0.22420513946469497,-0.22588300735911543],\"xaxis\":\"x\",\"y\":[0.3135931369247348,0.2986297113499683,0.2994333588905956],\"yaxis\":\"y\",\"type\":\"scatter\"},{\"hovertemplate\":\"small_cluster=NDR<br>x1_pca=%{x}<br>x2_pca=%{y}<extra></extra>\",\"legendgroup\":\"NDR\",\"marker\":{\"color\":\"#3283FE\",\"symbol\":\"circle\"},\"mode\":\"markers\",\"name\":\"NDR\",\"orientation\":\"v\",\"showlegend\":true,\"x\":[-0.21805046119443267,-0.23083061856480647],\"xaxis\":\"x\",\"y\":[0.2119311831063444,0.20370458288931736],\"yaxis\":\"y\",\"type\":\"scatter\"},{\"hovertemplate\":\"small_cluster=Aurora<br>x1_pca=%{x}<br>x2_pca=%{y}<extra></extra>\",\"legendgroup\":\"Aurora\",\"marker\":{\"color\":\"#85660D\",\"symbol\":\"circle\"},\"mode\":\"markers\",\"name\":\"Aurora\",\"orientation\":\"v\",\"showlegend\":true,\"x\":[-0.14398000824872428,-0.1516547392316249,-0.15068189862235398],\"xaxis\":\"x\",\"y\":[0.06601990943894831,0.06854678542894505,0.058720436454930525],\"yaxis\":\"y\",\"type\":\"scatter\"},{\"hovertemplate\":\"small_cluster=SNF1<br>x1_pca=%{x}<br>x2_pca=%{y}<extra></extra>\",\"legendgroup\":\"SNF1\",\"marker\":{\"color\":\"#782AB6\",\"symbol\":\"circle\"},\"mode\":\"markers\",\"name\":\"SNF1\",\"orientation\":\"v\",\"showlegend\":true,\"x\":[-0.1589036649869337,-0.1387010548687122,-0.13694340948986614,-0.1561775487710603,-0.15378442685199986,-0.15506991788321867,-0.15578932351675986,-0.14277828005760332,-0.14247552493289284,-0.15795454232182407,-0.12228588836943036,-0.1294589204943511,-0.13875058837834517,-0.1504042678771277],\"xaxis\":\"x\",\"y\":[0.10878431325240613,0.10766584082903935,0.07446611862938093,0.1337915047731708,0.1321353809833748,0.1300631654952339,0.11676274687650783,0.06263116991765602,0.07986267411414745,0.08338251239501546,0.10144093628927009,0.11542447440119763,0.11435059366556534,0.11184933136388597],\"yaxis\":\"y\",\"type\":\"scatter\"},{\"hovertemplate\":\"small_cluster=CaMK<br>x1_pca=%{x}<br>x2_pca=%{y}<extra></extra>\",\"legendgroup\":\"CaMK\",\"marker\":{\"color\":\"#565656\",\"symbol\":\"circle\"},\"mode\":\"markers\",\"name\":\"CaMK\",\"orientation\":\"v\",\"showlegend\":true,\"x\":[-0.2120735419229823,-0.22017397437740807,-0.2196283225248974,-0.21667279016118599,-0.21546820387301346,-0.22182461363799696,-0.20642728960079168,-0.221565173089051,-0.17260571983202963,-0.20156069767108015,-0.20292644873032578,-0.21900671727561588,-0.19986826936495403,-0.11553050779022477],\"xaxis\":\"x\",\"y\":[0.0978243071264404,0.11786893179107209,0.10804253303357411,0.06162583405378988,0.05636984082886698,0.05990497444084801,0.057645422515438936,0.067718295720622,0.01611224919256371,0.06867464335608531,0.06569472048014995,0.09948515382501043,0.09320754565682951,0.06104965453651033],\"yaxis\":\"y\",\"type\":\"scatter\"},{\"hovertemplate\":\"small_cluster=CAMKK<br>x1_pca=%{x}<br>x2_pca=%{y}<extra></extra>\",\"legendgroup\":\"CAMKK\",\"marker\":{\"color\":\"#1C8356\",\"symbol\":\"circle\"},\"mode\":\"markers\",\"name\":\"CAMKK\",\"orientation\":\"v\",\"showlegend\":true,\"x\":[-0.12106316730203705,-0.1231855883289694],\"xaxis\":\"x\",\"y\":[0.06382711388779318,0.05242023575515566],\"yaxis\":\"y\",\"type\":\"scatter\"},{\"hovertemplate\":\"small_cluster=NIM1<br>x1_pca=%{x}<br>x2_pca=%{y}<extra></extra>\",\"legendgroup\":\"NIM1\",\"marker\":{\"color\":\"#16FF32\",\"symbol\":\"circle\"},\"mode\":\"markers\",\"name\":\"NIM1\",\"orientation\":\"v\",\"showlegend\":true,\"x\":[-0.08646939561044321],\"xaxis\":\"x\",\"y\":[0.02204904990538056],\"yaxis\":\"y\",\"type\":\"scatter\"},{\"hovertemplate\":\"small_cluster=CHK2<br>x1_pca=%{x}<br>x2_pca=%{y}<extra></extra>\",\"legendgroup\":\"CHK2\",\"marker\":{\"color\":\"#F7E1A0\",\"symbol\":\"circle\"},\"mode\":\"markers\",\"name\":\"CHK2\",\"orientation\":\"v\",\"showlegend\":true,\"x\":[-0.1978138794547052],\"xaxis\":\"x\",\"y\":[0.05190205530087827],\"yaxis\":\"y\",\"type\":\"scatter\"},{\"hovertemplate\":\"small_cluster=DAPK<br>x1_pca=%{x}<br>x2_pca=%{y}<extra></extra>\",\"legendgroup\":\"DAPK\",\"marker\":{\"color\":\"#E2E2E2\",\"symbol\":\"circle\"},\"mode\":\"markers\",\"name\":\"DAPK\",\"orientation\":\"v\",\"showlegend\":true,\"x\":[-0.16293722292354884,-0.17669836687659307,-0.1761616690736381,-0.1694010276948611,-0.13166641055484257],\"xaxis\":\"x\",\"y\":[0.030537471346242427,0.029446006246140938,0.024290363233057458,0.04602462392661957,0.030208975784848678],\"yaxis\":\"y\",\"type\":\"scatter\"},{\"hovertemplate\":\"small_cluster=MAPKAPK<br>x1_pca=%{x}<br>x2_pca=%{y}<extra></extra>\",\"legendgroup\":\"MAPKAPK\",\"marker\":{\"color\":\"#1CBE4F\",\"symbol\":\"circle\"},\"mode\":\"markers\",\"name\":\"MAPKAPK\",\"orientation\":\"v\",\"showlegend\":true,\"x\":[-0.17480938689782188,-0.1776831036501264,-0.18776751436302944],\"xaxis\":\"x\",\"y\":[0.07833451868646256,0.08679866432205315,0.06140039629193773],\"yaxis\":\"y\",\"type\":\"scatter\"},{\"hovertemplate\":\"small_cluster=MNK<br>x1_pca=%{x}<br>x2_pca=%{y}<extra></extra>\",\"legendgroup\":\"MNK\",\"marker\":{\"color\":\"#C4451C\",\"symbol\":\"circle\"},\"mode\":\"markers\",\"name\":\"MNK\",\"orientation\":\"v\",\"showlegend\":true,\"x\":[-0.18732052431378482,-0.18373598050902626],\"xaxis\":\"x\",\"y\":[0.07335376961792754,0.08098302341960154],\"yaxis\":\"y\",\"type\":\"scatter\"},{\"hovertemplate\":\"small_cluster=MLCK<br>x1_pca=%{x}<br>x2_pca=%{y}<extra></extra>\",\"legendgroup\":\"MLCK\",\"marker\":{\"color\":\"#DEA0FD\",\"symbol\":\"circle\"},\"mode\":\"markers\",\"name\":\"MLCK\",\"orientation\":\"v\",\"showlegend\":true,\"x\":[-0.1535150097800035,-0.10937098489929142,-0.13785184328341918,-0.15613034201735213],\"xaxis\":\"x\",\"y\":[0.04526441540493373,0.03230239672407399,0.025754697764601202,0.017374342832881685],\"yaxis\":\"y\",\"type\":\"scatter\"},{\"hovertemplate\":\"small_cluster=PIM<br>x1_pca=%{x}<br>x2_pca=%{y}<extra></extra>\",\"legendgroup\":\"PIM\",\"marker\":{\"color\":\"#FE00FA\",\"symbol\":\"circle\"},\"mode\":\"markers\",\"name\":\"PIM\",\"orientation\":\"v\",\"showlegend\":true,\"x\":[-0.0741507578210761,-0.08367636589888157,-0.08715750920572304],\"xaxis\":\"x\",\"y\":[-0.022348425922690335,0.0027156730329291885,-0.00042910477269894745],\"yaxis\":\"y\",\"type\":\"scatter\"},{\"hovertemplate\":\"small_cluster=CDC5/Polo<br>x1_pca=%{x}<br>x2_pca=%{y}<extra></extra>\",\"legendgroup\":\"CDC5/Polo\",\"marker\":{\"color\":\"#325A9B\",\"symbol\":\"circle\"},\"mode\":\"markers\",\"name\":\"CDC5/Polo\",\"orientation\":\"v\",\"showlegend\":true,\"x\":[-0.13417975196084023,-0.13815696520417886,-0.1433745640234764,-0.14985473197540744,-0.0799174551298444],\"xaxis\":\"x\",\"y\":[0.015717274246365324,0.010882211480861392,-0.03349336429704069,0.041124523087836394,0.030550870350501805],\"yaxis\":\"y\",\"type\":\"scatter\"},{\"hovertemplate\":\"small_cluster=PKD<br>x1_pca=%{x}<br>x2_pca=%{y}<extra></extra>\",\"legendgroup\":\"PKD\",\"marker\":{\"color\":\"#FEAF16\",\"symbol\":\"circle\"},\"mode\":\"markers\",\"name\":\"PKD\",\"orientation\":\"v\",\"showlegend\":true,\"x\":[-0.16298802435017307,-0.1604449559810918,-0.16032117705720011],\"xaxis\":\"x\",\"y\":[0.01828466496021322,0.012369605409722437,0.021779212071681264],\"yaxis\":\"y\",\"type\":\"scatter\"},{\"hovertemplate\":\"small_cluster=AMPK<br>x1_pca=%{x}<br>x2_pca=%{y}<extra></extra>\",\"legendgroup\":\"AMPK\",\"marker\":{\"color\":\"#F8A19F\",\"symbol\":\"circle\"},\"mode\":\"markers\",\"name\":\"AMPK\",\"orientation\":\"v\",\"showlegend\":true,\"x\":[-0.1534252126581266,-0.1534252126581266],\"xaxis\":\"x\",\"y\":[0.09600655864564375,0.09600655864564375],\"yaxis\":\"y\",\"type\":\"scatter\"},{\"hovertemplate\":\"small_cluster=LKB1<br>x1_pca=%{x}<br>x2_pca=%{y}<extra></extra>\",\"legendgroup\":\"LKB1\",\"marker\":{\"color\":\"#90AD1C\",\"symbol\":\"circle\"},\"mode\":\"markers\",\"name\":\"LKB1\",\"orientation\":\"v\",\"showlegend\":true,\"x\":[-0.09082645196589899],\"xaxis\":\"x\",\"y\":[0.005920588111489811],\"yaxis\":\"y\",\"type\":\"scatter\"},{\"hovertemplate\":\"small_cluster=Tribbles<br>x1_pca=%{x}<br>x2_pca=%{y}<extra></extra>\",\"legendgroup\":\"Tribbles\",\"marker\":{\"color\":\"#F6222E\",\"symbol\":\"circle\"},\"mode\":\"markers\",\"name\":\"Tribbles\",\"orientation\":\"v\",\"showlegend\":true,\"x\":[-0.1424322713832296,-0.11364862217875076,-0.13337476837507706],\"xaxis\":\"x\",\"y\":[0.03389409329168458,0.034234373911714834,0.026889660263867722],\"yaxis\":\"y\",\"type\":\"scatter\"},{\"hovertemplate\":\"small_cluster=TSSK<br>x1_pca=%{x}<br>x2_pca=%{y}<extra></extra>\",\"legendgroup\":\"TSSK\",\"marker\":{\"color\":\"#1CFFCE\",\"symbol\":\"circle\"},\"mode\":\"markers\",\"name\":\"TSSK\",\"orientation\":\"v\",\"showlegend\":true,\"x\":[-0.1541825240164784,-0.14284662849897636,-0.13673888370106244,-0.095191393242415,-0.09843994726988849],\"xaxis\":\"x\",\"y\":[0.04592373126731926,0.06005799568568202,0.022352455944771484,0.045481684241693125,0.03820069695725517],\"yaxis\":\"y\",\"type\":\"scatter\"},{\"hovertemplate\":\"small_cluster=CK1<br>x1_pca=%{x}<br>x2_pca=%{y}<extra></extra>\",\"legendgroup\":\"CK1\",\"marker\":{\"color\":\"#0dbae9\",\"symbol\":\"circle\"},\"mode\":\"markers\",\"name\":\"CK1\",\"orientation\":\"v\",\"showlegend\":true,\"x\":[0.020004880099991885,0.027227023702494784,0.03223900870069861,0.03308656732930817,0.0014627841097073083,0.0012964381180056233,0.0010133471725665526],\"xaxis\":\"x\",\"y\":[-0.09245401231418016,-0.09772134077393958,-0.07609461914489012,-0.07801970866193604,-0.040920491075688466,-0.03879925190222735,-0.040354603790486186],\"yaxis\":\"y\",\"type\":\"scatter\"},{\"hovertemplate\":\"small_cluster=VRK<br>x1_pca=%{x}<br>x2_pca=%{y}<extra></extra>\",\"legendgroup\":\"VRK\",\"marker\":{\"color\":\"#2ED9FF\",\"symbol\":\"circle\"},\"mode\":\"markers\",\"name\":\"VRK\",\"orientation\":\"v\",\"showlegend\":true,\"x\":[0.03249015344397453,0.04308983522558024,0.013712272266804921],\"xaxis\":\"x\",\"y\":[-0.04265307387168682,-0.04536327550124544,-0.051675063623987334],\"yaxis\":\"y\",\"type\":\"scatter\"},{\"hovertemplate\":\"small_cluster=CDC2/CDKX<br>x1_pca=%{x}<br>x2_pca=%{y}<extra></extra>\",\"legendgroup\":\"CDC2/CDKX\",\"marker\":{\"color\":\"#B10DA1\",\"symbol\":\"circle\"},\"mode\":\"markers\",\"name\":\"CDC2/CDKX\",\"orientation\":\"v\",\"showlegend\":true,\"x\":[-0.13312449759456832,-0.07845708784498905,-0.099845157062501,-0.09649842104500385,-0.09963656578674511,-0.09625752683313361,-0.14383674877868902,-0.1212154560368187,-0.14448320159108213,-0.12498741718062113,-0.13909478973449924,-0.12066012984367382,-0.14131230144489956,-0.14345867233582077,-0.1349552767117058,-0.09789572809351152,-0.13806187703422923,-0.09896895859724221,-0.12257623719770731,-0.12586698084455286,-0.10552782663204219,-0.12784508453091217,-0.09233488867433974,-0.11621935897822813,-0.11091375224027973,-0.16113753549417256,-0.07726935990259064,-0.0696393998160565,-0.09742949261655245],\"xaxis\":\"x\",\"y\":[-0.2829620559835885,-0.25355188024285746,-0.251855377421008,-0.251964939295817,-0.25048857056879853,-0.25290157996589613,-0.251324882102109,-0.27300600860635643,-0.26973820823863276,-0.28192797136647624,-0.27280117302624984,-0.24734023796038895,-0.29499409764001994,-0.2469509040249934,-0.2957366089354685,-0.27489745239230134,-0.3139162208588232,-0.2615508166846769,-0.2390255262557503,-0.240110030354037,-0.25408407666903055,-0.2474749726177643,-0.22314757428536075,-0.20927772357013616,-0.2472739382264418,-0.21439018488480027,-0.2177771909182475,-0.22462939479291139,-0.20354688437808252],\"yaxis\":\"y\",\"type\":\"scatter\"},{\"hovertemplate\":\"small_cluster=Lammer<br>x1_pca=%{x}<br>x2_pca=%{y}<extra></extra>\",\"legendgroup\":\"Lammer\",\"marker\":{\"color\":\"#C075A6\",\"symbol\":\"circle\"},\"mode\":\"markers\",\"name\":\"Lammer\",\"orientation\":\"v\",\"showlegend\":true,\"x\":[-0.113526855608749,-0.12649711399210756,-0.11231421150320148,-0.11297170851716322],\"xaxis\":\"x\",\"y\":[-0.17099027669604966,-0.15238320277565862,-0.16442219372501563,-0.16716244246834377],\"yaxis\":\"y\",\"type\":\"scatter\"},{\"hovertemplate\":\"small_cluster=CK2<br>x1_pca=%{x}<br>x2_pca=%{y}<extra></extra>\",\"legendgroup\":\"CK2\",\"marker\":{\"color\":\"#FC1CBF\",\"symbol\":\"circle\"},\"mode\":\"markers\",\"name\":\"CK2\",\"orientation\":\"v\",\"showlegend\":true,\"x\":[-0.15242953486667052,-0.14808918935339582,-0.15161468204794484],\"xaxis\":\"x\",\"y\":[-0.1810800810558495,-0.18053612610173334,-0.17782203490492143],\"yaxis\":\"y\",\"type\":\"scatter\"},{\"hovertemplate\":\"small_cluster=MNB/DYRK<br>x1_pca=%{x}<br>x2_pca=%{y}<extra></extra>\",\"legendgroup\":\"MNB/DYRK\",\"marker\":{\"color\":\"#B00068\",\"symbol\":\"circle\"},\"mode\":\"markers\",\"name\":\"MNB/DYRK\",\"orientation\":\"v\",\"showlegend\":true,\"x\":[-0.1466616453369512,-0.14715305979104418,-0.1364179762787902,-0.12262152331653281,-0.13121275982374198],\"xaxis\":\"x\",\"y\":[-0.17387490091508193,-0.1806508931836807,-0.2179404077742245,-0.20985045599064936,-0.23613823276238874],\"yaxis\":\"y\",\"type\":\"scatter\"},{\"hovertemplate\":\"small_cluster=GSK-3<br>x1_pca=%{x}<br>x2_pca=%{y}<extra></extra>\",\"legendgroup\":\"GSK-3\",\"marker\":{\"color\":\"#FBE426\",\"symbol\":\"circle\"},\"mode\":\"markers\",\"name\":\"GSK-3\",\"orientation\":\"v\",\"showlegend\":true,\"x\":[-0.12203438759562965,-0.13315264138978233],\"xaxis\":\"x\",\"y\":[-0.16633454955803714,-0.1606722683994959],\"yaxis\":\"y\",\"type\":\"scatter\"},{\"hovertemplate\":\"small_cluster=HIPK<br>x1_pca=%{x}<br>x2_pca=%{y}<extra></extra>\",\"legendgroup\":\"HIPK\",\"marker\":{\"color\":\"#FA0087\",\"symbol\":\"circle\"},\"mode\":\"markers\",\"name\":\"HIPK\",\"orientation\":\"v\",\"showlegend\":true,\"x\":[-0.09686625655169959,-0.1019175537904336,-0.09752497495807261,-0.0952783999831531],\"xaxis\":\"x\",\"y\":[-0.1826574918844283,-0.18392146725411182,-0.18373209777401425,-0.1817923976956756],\"yaxis\":\"y\",\"type\":\"scatter\"},{\"hovertemplate\":\"small_cluster=MAPK<br>x1_pca=%{x}<br>x2_pca=%{y}<extra></extra>\",\"legendgroup\":\"MAPK\",\"marker\":{\"color\":\"#AA0DFE\",\"symbol\":\"circle\"},\"mode\":\"markers\",\"name\":\"MAPK\",\"orientation\":\"v\",\"showlegend\":true,\"x\":[-0.11601546128822705,-0.1159432536652706,-0.11593757796841458,-0.13322958074480387,-0.14203974814722475,-0.13194493904486448,-0.14440362365458181,-0.11657500879878284,-0.09055639851656035,-0.10453939409586396,-0.11944375262593217,-0.1138094445234363,-0.12726189394188867,-0.09527326871006003],\"xaxis\":\"x\",\"y\":[-0.2838426375253786,-0.24915010613211558,-0.2649248467882439,-0.26624632583053387,-0.2534515061463626,-0.2678257868684563,-0.23159615662590488,-0.29126570948235697,-0.22179352508664604,-0.23623140053366717,-0.2790720429434243,-0.24472980794162474,-0.23528017663563378,-0.24662718834155922],\"yaxis\":\"y\",\"type\":\"scatter\"},{\"hovertemplate\":\"small_cluster=SRPK<br>x1_pca=%{x}<br>x2_pca=%{y}<extra></extra>\",\"legendgroup\":\"SRPK\",\"marker\":{\"color\":\"#3283FE\",\"symbol\":\"circle\"},\"mode\":\"markers\",\"name\":\"SRPK\",\"orientation\":\"v\",\"showlegend\":true,\"x\":[-0.1197066857346304,-0.1264538588682374,-0.12297808344499764],\"xaxis\":\"x\",\"y\":[-0.20025069984245072,-0.2049567902165579,-0.19019598316887057],\"yaxis\":\"y\",\"type\":\"scatter\"},{\"hovertemplate\":\"small_cluster=NIMA<br>x1_pca=%{x}<br>x2_pca=%{y}<extra></extra>\",\"legendgroup\":\"NIMA\",\"marker\":{\"color\":\"#85660D\",\"symbol\":\"circle\"},\"mode\":\"markers\",\"name\":\"NIMA\",\"orientation\":\"v\",\"showlegend\":true,\"x\":[-0.11810137584114881,-0.0608547085309198,-0.057471512206913364,-0.09737394279299173,-0.08931195243298645,-0.06962996360769612,-0.08373392847096449,-0.034543837304208014,-0.03382469085205451,-0.07833821568576647,-0.08167165543254946],\"xaxis\":\"x\",\"y\":[-0.007613553675476501,-0.0156709018858679,-0.06195140656188168,-0.05372834741203578,-0.03977483161661562,-0.02404203468304056,-0.030606552169283943,-0.07061088355646619,-0.06764187054302494,-0.026991065566205452,-0.06128925126581035],\"yaxis\":\"y\",\"type\":\"scatter\"},{\"hovertemplate\":\"small_cluster=BUB1<br>x1_pca=%{x}<br>x2_pca=%{y}<extra></extra>\",\"legendgroup\":\"BUB1\",\"marker\":{\"color\":\"#782AB6\",\"symbol\":\"circle\"},\"mode\":\"markers\",\"name\":\"BUB1\",\"orientation\":\"v\",\"showlegend\":true,\"x\":[-0.05562769321406086,-0.02842158870864282],\"xaxis\":\"x\",\"y\":[-0.04190956281562602,-0.08009033066722719],\"yaxis\":\"y\",\"type\":\"scatter\"},{\"hovertemplate\":\"small_cluster=CDC7<br>x1_pca=%{x}<br>x2_pca=%{y}<extra></extra>\",\"legendgroup\":\"CDC7\",\"marker\":{\"color\":\"#565656\",\"symbol\":\"circle\"},\"mode\":\"markers\",\"name\":\"CDC7\",\"orientation\":\"v\",\"showlegend\":true,\"x\":[-0.1330186513212509],\"xaxis\":\"x\",\"y\":[-0.09122249042954012],\"yaxis\":\"y\",\"type\":\"scatter\"},{\"hovertemplate\":\"small_cluster=IKK<br>x1_pca=%{x}<br>x2_pca=%{y}<extra></extra>\",\"legendgroup\":\"IKK\",\"marker\":{\"color\":\"#1C8356\",\"symbol\":\"circle\"},\"mode\":\"markers\",\"name\":\"IKK\",\"orientation\":\"v\",\"showlegend\":true,\"x\":[-0.03248812332427673,-0.03655809745323201,-0.03212725266544336,-0.05034238978745741],\"xaxis\":\"x\",\"y\":[-0.01691243632193459,-0.03929730904634629,-0.006463613036925375,0.010072339496768048],\"yaxis\":\"y\",\"type\":\"scatter\"},{\"hovertemplate\":\"small_cluster=GCN2<br>x1_pca=%{x}<br>x2_pca=%{y}<extra></extra>\",\"legendgroup\":\"GCN2\",\"marker\":{\"color\":\"#16FF32\",\"symbol\":\"circle\"},\"mode\":\"markers\",\"name\":\"GCN2\",\"orientation\":\"v\",\"showlegend\":true,\"x\":[-0.04677876550377661,-0.013418694593508881,-0.028951315448064254,0.013619438788420188,-0.06084125281594025],\"xaxis\":\"x\",\"y\":[-0.06761625819916724,-0.04097329978606435,-0.07206043284329275,-0.0852339933406186,-0.07526872162590552],\"yaxis\":\"y\",\"type\":\"scatter\"},{\"hovertemplate\":\"small_cluster=Haspin<br>x1_pca=%{x}<br>x2_pca=%{y}<extra></extra>\",\"legendgroup\":\"Haspin\",\"marker\":{\"color\":\"#F7E1A0\",\"symbol\":\"circle\"},\"mode\":\"markers\",\"name\":\"Haspin\",\"orientation\":\"v\",\"showlegend\":true,\"x\":[0.039480917122075104],\"xaxis\":\"x\",\"y\":[-0.08513116388791135],\"yaxis\":\"y\",\"type\":\"scatter\"},{\"hovertemplate\":\"small_cluster=MAP2K<br>x1_pca=%{x}<br>x2_pca=%{y}<extra></extra>\",\"legendgroup\":\"MAP2K\",\"marker\":{\"color\":\"#E2E2E2\",\"symbol\":\"circle\"},\"mode\":\"markers\",\"name\":\"MAP2K\",\"orientation\":\"v\",\"showlegend\":true,\"x\":[0.10515107668330483,-0.05392402811344143,-0.05150802018397396,-0.002058257920274141,-0.02124073782030108,-0.013618884951024476,-0.004445993750039555,-0.01607953639115162],\"xaxis\":\"x\",\"y\":[-0.07095396913176795,-0.07631397607111215,-0.08064006292147166,-0.08544595941220398,-0.09672743248437547,-0.07500605486243181,-0.09334827833059808,-0.0605421700335134],\"yaxis\":\"y\",\"type\":\"scatter\"},{\"hovertemplate\":\"small_cluster=WEE1<br>x1_pca=%{x}<br>x2_pca=%{y}<extra></extra>\",\"legendgroup\":\"WEE1\",\"marker\":{\"color\":\"#1CBE4F\",\"symbol\":\"circle\"},\"mode\":\"markers\",\"name\":\"WEE1\",\"orientation\":\"v\",\"showlegend\":true,\"x\":[-0.06094981547498163,-0.004470926777510407,-0.0032646345470841195],\"xaxis\":\"x\",\"y\":[-0.04927061915461294,-0.08286353179898283,-0.06596725082642609],\"yaxis\":\"y\",\"type\":\"scatter\"},{\"hovertemplate\":\"small_cluster=STKL<br>x1_pca=%{x}<br>x2_pca=%{y}<extra></extra>\",\"legendgroup\":\"STKL\",\"marker\":{\"color\":\"#C4451C\",\"symbol\":\"circle\"},\"mode\":\"markers\",\"name\":\"STKL\",\"orientation\":\"v\",\"showlegend\":true,\"x\":[0.09466233679936134,-0.02916541642650657],\"xaxis\":\"x\",\"y\":[-0.046443987965504,-0.10577619215046677],\"yaxis\":\"y\",\"type\":\"scatter\"},{\"hovertemplate\":\"small_cluster=APG1/unc-51/ULK1<br>x1_pca=%{x}<br>x2_pca=%{y}<extra></extra>\",\"legendgroup\":\"APG1/unc-51/ULK1\",\"marker\":{\"color\":\"#DEA0FD\",\"symbol\":\"circle\"},\"mode\":\"markers\",\"name\":\"APG1/unc-51/ULK1\",\"orientation\":\"v\",\"showlegend\":true,\"x\":[-0.08975288089400596,-0.09461347512110697,-0.12342402353237053,-0.11196618088339617],\"xaxis\":\"x\",\"y\":[0.010869529725978537,0.013117952322768576,0.01521502701691346,-0.04393780954580204],\"yaxis\":\"y\",\"type\":\"scatter\"},{\"hovertemplate\":\"small_cluster=WNK<br>x1_pca=%{x}<br>x2_pca=%{y}<extra></extra>\",\"legendgroup\":\"WNK\",\"marker\":{\"color\":\"#FE00FA\",\"symbol\":\"circle\"},\"mode\":\"markers\",\"name\":\"WNK\",\"orientation\":\"v\",\"showlegend\":true,\"x\":[0.033406337184552305,0.033598471681705974,0.026327496712925766,0.02959893658423266],\"xaxis\":\"x\",\"y\":[-0.04507495275986186,-0.04200050357425335,-0.03727793073800867,-0.059576575866231093],\"yaxis\":\"y\",\"type\":\"scatter\"},{\"hovertemplate\":\"small_cluster=MAP3K<br>x1_pca=%{x}<br>x2_pca=%{y}<extra></extra>\",\"legendgroup\":\"MAP3K\",\"marker\":{\"color\":\"#325A9B\",\"symbol\":\"circle\"},\"mode\":\"markers\",\"name\":\"MAP3K\",\"orientation\":\"v\",\"showlegend\":true,\"x\":[-0.034571152276063055,-0.036990610514714396,-0.030469652070441864,-0.06149431698133178,-0.06090582930166123,-0.0718947398699312,-0.05615385448970028,-0.06882008401507163,-0.03491802036236988,0.18435197833605904,0.1893610401661824,0.164098167826948,0.16161078394409947,0.17194034193436541,0.17991240321358704,0.13277896873373746,0.1803561977134102,0.16576063422488913],\"xaxis\":\"x\",\"y\":[-0.10209808383836132,-0.04978288147345203,-0.11276405407165066,-0.08047690803857044,-0.07445508476208354,-0.07591899916999223,-0.08553378616605467,-0.09201459643493017,-0.08268025427554136,0.01946531925306615,0.03378979269952034,-0.01890078986962631,-0.007686585267429014,-0.026477086578608634,0.012186828066563689,0.0001523283828923723,0.019329427395505916,0.025499728876628047],\"yaxis\":\"y\",\"type\":\"scatter\"},{\"hovertemplate\":\"small_cluster=STE20<br>x1_pca=%{x}<br>x2_pca=%{y}<extra></extra>\",\"legendgroup\":\"STE20\",\"marker\":{\"color\":\"#FEAF16\",\"symbol\":\"circle\"},\"mode\":\"markers\",\"name\":\"STE20\",\"orientation\":\"v\",\"showlegend\":true,\"x\":[-0.03189971984433943,-0.03684656610073178,-0.06280180306441203,-0.06461446948967442,-0.056497476060619,-0.06016384630840569,-0.053077247980498,-0.025356478599995565,-0.03916792906097324,-0.09488136931311024,-0.09247516038658325,-0.09921121780335591,-0.10063669589740146,-0.09660974453732576,-0.08393342634207782,-0.05736995720839818,-0.06510624213915055,-0.02351239029729783,-0.028085032621879225,-0.026739252072708053,-0.051905309551127515,-0.03248077967103167,-0.04977791644841781,-0.03223379640808949,0.006430312055701706,-0.00895919724741099,-0.004538314985200718,-0.010924752016647506,-0.06098311881327175],\"xaxis\":\"x\",\"y\":[-0.09900604155476826,-0.16331095094257503,-0.1328109426257228,-0.1422973892091108,-0.14460185652853702,-0.16222493859138137,-0.1509940446250955,-0.11644523565694076,-0.08674472094201117,-0.12492289675397394,-0.11985754361749791,-0.12767955649154883,-0.08336409906634798,-0.08479209725454703,-0.07872699645910941,-0.08549762449647434,-0.0849429816780842,-0.10465802645103829,-0.11258842573088773,-0.09914242982526907,-0.13966043298501954,-0.08241286196203446,-0.14449357037237134,-0.08764875767196975,-0.09388863638779563,-0.16866864374003512,-0.16953968467024727,-0.1738309022643346,-0.13687311004077157],\"yaxis\":\"y\",\"type\":\"scatter\"},{\"hovertemplate\":\"small_cluster=TGFBR<br>x1_pca=%{x}<br>x2_pca=%{y}<extra></extra>\",\"legendgroup\":\"TGFBR\",\"marker\":{\"color\":\"#F8A19F\",\"symbol\":\"circle\"},\"mode\":\"markers\",\"name\":\"TGFBR\",\"orientation\":\"v\",\"showlegend\":true,\"x\":[0.11203657640327787,0.12482310980527812,0.13625114230874252,0.10976355300235417,0.0820275082900048,0.13397714409778366,0.09999089286667107,0.13249595005987827,0.1252985630346381,0.1002291230508914,0.13495370446526642,0.09793947134877336],\"xaxis\":\"x\",\"y\":[-0.02840577824109399,0.006233992663502972,-0.016826038507522244,-0.019851228553072163,-0.0049905065377779615,-0.01453110162693758,0.008696547183708707,-0.022941077539935753,-0.018109134433302837,-0.025583433509811362,-0.002504590808677576,-0.012384253627658725],\"yaxis\":\"y\",\"type\":\"scatter\"},{\"hovertemplate\":\"small_cluster=RAF<br>x1_pca=%{x}<br>x2_pca=%{y}<extra></extra>\",\"legendgroup\":\"RAF\",\"marker\":{\"color\":\"#90AD1C\",\"symbol\":\"circle\"},\"mode\":\"markers\",\"name\":\"RAF\",\"orientation\":\"v\",\"showlegend\":true,\"x\":[0.16052209800338663,0.16878607147183625,0.17572158836145377],\"xaxis\":\"x\",\"y\":[0.008955048825935952,0.0034000215896078283,0.0028571139686775207],\"yaxis\":\"y\",\"type\":\"scatter\"},{\"hovertemplate\":\"small_cluster=Pelle<br>x1_pca=%{x}<br>x2_pca=%{y}<extra></extra>\",\"legendgroup\":\"Pelle\",\"marker\":{\"color\":\"#F6222E\",\"symbol\":\"circle\"},\"mode\":\"markers\",\"name\":\"Pelle\",\"orientation\":\"v\",\"showlegend\":true,\"x\":[0.10139419440466464,0.06496455474131549,0.09249483143828754,0.12762059710860663],\"xaxis\":\"x\",\"y\":[-0.013442380412673705,-0.03301320820113899,-0.017309028185045063,-0.02471942862091099],\"yaxis\":\"y\",\"type\":\"scatter\"},{\"hovertemplate\":\"small_cluster=ROCO<br>x1_pca=%{x}<br>x2_pca=%{y}<extra></extra>\",\"legendgroup\":\"ROCO\",\"marker\":{\"color\":\"#1CFFCE\",\"symbol\":\"circle\"},\"mode\":\"markers\",\"name\":\"ROCO\",\"orientation\":\"v\",\"showlegend\":true,\"x\":[0.06974705589876919,0.0609293143745608],\"xaxis\":\"x\",\"y\":[0.006346791310589525,-0.023012436567673523],\"yaxis\":\"y\",\"type\":\"scatter\"},{\"hovertemplate\":\"small_cluster=RIPK<br>x1_pca=%{x}<br>x2_pca=%{y}<extra></extra>\",\"legendgroup\":\"RIPK\",\"marker\":{\"color\":\"#2ED9FF\",\"symbol\":\"circle\"},\"mode\":\"markers\",\"name\":\"RIPK\",\"orientation\":\"v\",\"showlegend\":true,\"x\":[0.14451784677223864,0.13207363590644267,0.1178584708336992,0.1377710238137033],\"xaxis\":\"x\",\"y\":[0.03230485253431807,0.007483735408921642,0.0052684540785269095,-0.0014254751434776135],\"yaxis\":\"y\",\"type\":\"scatter\"},{\"hovertemplate\":\"small_cluster=TESK<br>x1_pca=%{x}<br>x2_pca=%{y}<extra></extra>\",\"legendgroup\":\"TESK\",\"marker\":{\"color\":\"#B10DA1\",\"symbol\":\"circle\"},\"mode\":\"markers\",\"name\":\"TESK\",\"orientation\":\"v\",\"showlegend\":true,\"x\":[0.1393042045314003,0.1460748074898295],\"xaxis\":\"x\",\"y\":[-0.05327031243608854,-0.048873864691517596],\"yaxis\":\"y\",\"type\":\"scatter\"},{\"hovertemplate\":\"small_cluster=ABL<br>x1_pca=%{x}<br>x2_pca=%{y}<extra></extra>\",\"legendgroup\":\"ABL\",\"marker\":{\"color\":\"#C075A6\",\"symbol\":\"circle\"},\"mode\":\"markers\",\"name\":\"ABL\",\"orientation\":\"v\",\"showlegend\":true,\"x\":[0.3835402863167627,0.3811747345026978],\"xaxis\":\"x\",\"y\":[0.07912964927498406,0.07898197243558032],\"yaxis\":\"y\",\"type\":\"scatter\"},{\"hovertemplate\":\"small_cluster=InsR<br>x1_pca=%{x}<br>x2_pca=%{y}<extra></extra>\",\"legendgroup\":\"InsR\",\"marker\":{\"color\":\"#FC1CBF\",\"symbol\":\"circle\"},\"mode\":\"markers\",\"name\":\"InsR\",\"orientation\":\"v\",\"showlegend\":true,\"x\":[0.36232336202096754,0.34555614678293023,0.3455642333614382,0.3846246791618971,0.37663789174365325,0.3682711635737742,0.35453216268361776,0.35959972117717687,0.35352437408293097,0.3469616912581589,0.3277533863457037,0.382838413464994],\"xaxis\":\"x\",\"y\":[0.05097025255542817,0.07488136211744108,0.07274056561494116,0.03689386517749022,0.054671343083653734,0.035949299814766314,0.03216338760256075,0.053365060307682566,0.06278512694894985,0.06333463905266558,0.04515057593798198,0.03958119448320929],\"yaxis\":\"y\",\"type\":\"scatter\"},{\"hovertemplate\":\"small_cluster=AXL/UFO<br>x1_pca=%{x}<br>x2_pca=%{y}<extra></extra>\",\"legendgroup\":\"AXL/UFO\",\"marker\":{\"color\":\"#B00068\",\"symbol\":\"circle\"},\"mode\":\"markers\",\"name\":\"AXL/UFO\",\"orientation\":\"v\",\"showlegend\":true,\"x\":[0.3697222698944312,0.3651248030063823,0.3441085027195283],\"xaxis\":\"x\",\"y\":[0.08021425288377936,0.08495441070878518,0.08567263237517177],\"yaxis\":\"y\",\"type\":\"scatter\"},{\"hovertemplate\":\"small_cluster=SRC<br>x1_pca=%{x}<br>x2_pca=%{y}<extra></extra>\",\"legendgroup\":\"SRC\",\"marker\":{\"color\":\"#FBE426\",\"symbol\":\"circle\"},\"mode\":\"markers\",\"name\":\"SRC\",\"orientation\":\"v\",\"showlegend\":true,\"x\":[0.35898691944365385,0.3644433570019221,0.36983756109424465,0.37266513934644635,0.3905743117502338,0.39474478255166573,0.38734764564278706,0.38143732863944996,0.3348890511957273,0.379501928601419],\"xaxis\":\"x\",\"y\":[0.052058903563236655,0.04777940811566132,0.05631214122190506,0.044573221096202424,0.07281859633800801,0.052198297215116624,0.06854860744896207,0.04707680335348932,0.03969813087173272,0.045794240646202425],\"yaxis\":\"y\",\"type\":\"scatter\"},{\"hovertemplate\":\"small_cluster=TEC<br>x1_pca=%{x}<br>x2_pca=%{y}<extra></extra>\",\"legendgroup\":\"TEC\",\"marker\":{\"color\":\"#FA0087\",\"symbol\":\"circle\"},\"mode\":\"markers\",\"name\":\"TEC\",\"orientation\":\"v\",\"showlegend\":true,\"x\":[0.3575856252980544,0.34819459446539475,0.34572147402370457,0.351657316193648,0.3319144229106106],\"xaxis\":\"x\",\"y\":[0.051574834826463446,0.06847550402382416,0.044577828108717965,0.06660102251968274,0.04477301766310463],\"yaxis\":\"y\",\"type\":\"scatter\"},{\"hovertemplate\":\"small_cluster=CSF-1/PDGFR<br>x1_pca=%{x}<br>x2_pca=%{y}<extra></extra>\",\"legendgroup\":\"CSF-1/PDGFR\",\"marker\":{\"color\":\"#AA0DFE\",\"symbol\":\"circle\"},\"mode\":\"markers\",\"name\":\"CSF-1/PDGFR\",\"orientation\":\"v\",\"showlegend\":true,\"x\":[0.3665604310762121,0.33667450398222987,0.3448027074784837,0.34198241261887885,0.3335959971334595,0.3330674253499841,0.34947696145525287,0.35471277095285747],\"xaxis\":\"x\",\"y\":[0.04657713557205487,0.04274829345369947,0.038060422528692565,0.04953867277745179,0.04258417083542434,0.035312335775324825,0.0443656142587719,0.038833173202071476],\"yaxis\":\"y\",\"type\":\"scatter\"},{\"hovertemplate\":\"small_cluster=CSK<br>x1_pca=%{x}<br>x2_pca=%{y}<extra></extra>\",\"legendgroup\":\"CSK\",\"marker\":{\"color\":\"#3283FE\",\"symbol\":\"circle\"},\"mode\":\"markers\",\"name\":\"CSK\",\"orientation\":\"v\",\"showlegend\":true,\"x\":[0.3484339348172444,0.35545273459358745],\"xaxis\":\"x\",\"y\":[0.06568378803003597,0.05799407107260425],\"yaxis\":\"y\",\"type\":\"scatter\"},{\"hovertemplate\":\"small_cluster=EGFR<br>x1_pca=%{x}<br>x2_pca=%{y}<extra></extra>\",\"legendgroup\":\"EGFR\",\"marker\":{\"color\":\"#85660D\",\"symbol\":\"circle\"},\"mode\":\"markers\",\"name\":\"EGFR\",\"orientation\":\"v\",\"showlegend\":true,\"x\":[0.3162247510486815,0.3260894269732662,0.29174276445325775,0.342302409656121],\"xaxis\":\"x\",\"y\":[0.0385779817821995,0.04786017002767189,0.03612502531449603,0.06368766498206027],\"yaxis\":\"y\",\"type\":\"scatter\"},{\"hovertemplate\":\"small_cluster=Eph<br>x1_pca=%{x}<br>x2_pca=%{y}<extra></extra>\",\"legendgroup\":\"Eph\",\"marker\":{\"color\":\"#782AB6\",\"symbol\":\"circle\"},\"mode\":\"markers\",\"name\":\"Eph\",\"orientation\":\"v\",\"showlegend\":true,\"x\":[0.3992771487927205,0.3576996295115006,0.43421399441807146,0.4344248325323938,0.42664717242722305,0.42707049436477956,0.41504329429923387,0.42193853781264584,0.4056862536803854,0.4306486419701396,0.4304858293149318,0.42827030629155904,0.4148870444637614,0.32550636190085314],\"xaxis\":\"x\",\"y\":[0.05924478274182197,0.07329232598070523,0.08346288891929375,0.09394318323577291,0.09317284930362212,0.09083339335695499,0.08961894599815058,0.09165053097210112,0.09160703695814641,0.07751318949840297,0.08415019900593465,0.0685268342671221,0.07676780621820951,0.07168740876370608],\"yaxis\":\"y\",\"type\":\"scatter\"},{\"hovertemplate\":\"small_cluster=Fes/Fps<br>x1_pca=%{x}<br>x2_pca=%{y}<extra></extra>\",\"legendgroup\":\"Fes/Fps\",\"marker\":{\"color\":\"#565656\",\"symbol\":\"circle\"},\"mode\":\"markers\",\"name\":\"Fes/Fps\",\"orientation\":\"v\",\"showlegend\":true,\"x\":[0.3578490015340689,0.34806075062825287],\"xaxis\":\"x\",\"y\":[0.05560871198937351,0.05923999774731427],\"yaxis\":\"y\",\"type\":\"scatter\"},{\"hovertemplate\":\"small_cluster=FGFR<br>x1_pca=%{x}<br>x2_pca=%{y}<extra></extra>\",\"legendgroup\":\"FGFR\",\"marker\":{\"color\":\"#1C8356\",\"symbol\":\"circle\"},\"mode\":\"markers\",\"name\":\"FGFR\",\"orientation\":\"v\",\"showlegend\":true,\"x\":[0.3728817284372775,0.375919766422794,0.3832996848051418,0.3747940228157821],\"xaxis\":\"x\",\"y\":[0.06384219649604914,0.05542461583225958,0.05949926714443686,0.050496649252199835],\"yaxis\":\"y\",\"type\":\"scatter\"},{\"hovertemplate\":\"small_cluster=JAK<br>x1_pca=%{x}<br>x2_pca=%{y}<extra></extra>\",\"legendgroup\":\"JAK\",\"marker\":{\"color\":\"#16FF32\",\"symbol\":\"circle\"},\"mode\":\"markers\",\"name\":\"JAK\",\"orientation\":\"v\",\"showlegend\":true,\"x\":[0.18101695572989446,0.2524251590619199,0.19592209567454855,0.26410822429124914,0.18186764643731787,0.23837268257905328,0.16857314407597943,0.2399518191176674],\"xaxis\":\"x\",\"y\":[0.019081869067852766,0.030825241692613727,0.008307290629747477,0.026649546255639294,0.018316925329952924,0.047077940214800544,-0.016249336013140613,0.04125812609303767],\"yaxis\":\"y\",\"type\":\"scatter\"},{\"hovertemplate\":\"small_cluster=FAK<br>x1_pca=%{x}<br>x2_pca=%{y}<extra></extra>\",\"legendgroup\":\"FAK\",\"marker\":{\"color\":\"#F7E1A0\",\"symbol\":\"circle\"},\"mode\":\"markers\",\"name\":\"FAK\",\"orientation\":\"v\",\"showlegend\":true,\"x\":[0.325979554385807,0.3278909552174736],\"xaxis\":\"x\",\"y\":[0.0404718686815374,0.05467695503054809],\"yaxis\":\"y\",\"type\":\"scatter\"},{\"hovertemplate\":\"small_cluster=BRK/PTK6/SIK<br>x1_pca=%{x}<br>x2_pca=%{y}<extra></extra>\",\"legendgroup\":\"BRK/PTK6/SIK\",\"marker\":{\"color\":\"#E2E2E2\",\"symbol\":\"circle\"},\"mode\":\"markers\",\"name\":\"BRK/PTK6/SIK\",\"orientation\":\"v\",\"showlegend\":true,\"x\":[0.304884582676655],\"xaxis\":\"x\",\"y\":[0.013289567641146622],\"yaxis\":\"y\",\"type\":\"scatter\"},{\"hovertemplate\":\"small_cluster=ROR<br>x1_pca=%{x}<br>x2_pca=%{y}<extra></extra>\",\"legendgroup\":\"ROR\",\"marker\":{\"color\":\"#1CBE4F\",\"symbol\":\"circle\"},\"mode\":\"markers\",\"name\":\"ROR\",\"orientation\":\"v\",\"showlegend\":true,\"x\":[0.35139280496808484,0.3422524385366742],\"xaxis\":\"x\",\"y\":[0.05117984686622074,0.05043030539105826],\"yaxis\":\"y\",\"type\":\"scatter\"},{\"hovertemplate\":\"small_cluster=SYK/ZAP-70<br>x1_pca=%{x}<br>x2_pca=%{y}<extra></extra>\",\"legendgroup\":\"SYK/ZAP-70\",\"marker\":{\"color\":\"#C4451C\",\"symbol\":\"circle\"},\"mode\":\"markers\",\"name\":\"SYK/ZAP-70\",\"orientation\":\"v\",\"showlegend\":true,\"x\":[0.32044315669314727,0.28935300660603397],\"xaxis\":\"x\",\"y\":[0.07650427363767709,0.06676482897232842],\"yaxis\":\"y\",\"type\":\"scatter\"},{\"hovertemplate\":\"small_cluster=TIE<br>x1_pca=%{x}<br>x2_pca=%{y}<extra></extra>\",\"legendgroup\":\"TIE\",\"marker\":{\"color\":\"#DEA0FD\",\"symbol\":\"circle\"},\"mode\":\"markers\",\"name\":\"TIE\",\"orientation\":\"v\",\"showlegend\":true,\"x\":[0.3156003362907379,0.3378686714840659],\"xaxis\":\"x\",\"y\":[0.06572738783631664,0.07820214810770316],\"yaxis\":\"y\",\"type\":\"scatter\"}],                        {\"template\":{\"data\":{\"histogram2dcontour\":[{\"type\":\"histogram2dcontour\",\"colorbar\":{\"outlinewidth\":0,\"ticks\":\"\"},\"colorscale\":[[0.0,\"#0d0887\"],[0.1111111111111111,\"#46039f\"],[0.2222222222222222,\"#7201a8\"],[0.3333333333333333,\"#9c179e\"],[0.4444444444444444,\"#bd3786\"],[0.5555555555555556,\"#d8576b\"],[0.6666666666666666,\"#ed7953\"],[0.7777777777777778,\"#fb9f3a\"],[0.8888888888888888,\"#fdca26\"],[1.0,\"#f0f921\"]]}],\"choropleth\":[{\"type\":\"choropleth\",\"colorbar\":{\"outlinewidth\":0,\"ticks\":\"\"}}],\"histogram2d\":[{\"type\":\"histogram2d\",\"colorbar\":{\"outlinewidth\":0,\"ticks\":\"\"},\"colorscale\":[[0.0,\"#0d0887\"],[0.1111111111111111,\"#46039f\"],[0.2222222222222222,\"#7201a8\"],[0.3333333333333333,\"#9c179e\"],[0.4444444444444444,\"#bd3786\"],[0.5555555555555556,\"#d8576b\"],[0.6666666666666666,\"#ed7953\"],[0.7777777777777778,\"#fb9f3a\"],[0.8888888888888888,\"#fdca26\"],[1.0,\"#f0f921\"]]}],\"heatmap\":[{\"type\":\"heatmap\",\"colorbar\":{\"outlinewidth\":0,\"ticks\":\"\"},\"colorscale\":[[0.0,\"#0d0887\"],[0.1111111111111111,\"#46039f\"],[0.2222222222222222,\"#7201a8\"],[0.3333333333333333,\"#9c179e\"],[0.4444444444444444,\"#bd3786\"],[0.5555555555555556,\"#d8576b\"],[0.6666666666666666,\"#ed7953\"],[0.7777777777777778,\"#fb9f3a\"],[0.8888888888888888,\"#fdca26\"],[1.0,\"#f0f921\"]]}],\"heatmapgl\":[{\"type\":\"heatmapgl\",\"colorbar\":{\"outlinewidth\":0,\"ticks\":\"\"},\"colorscale\":[[0.0,\"#0d0887\"],[0.1111111111111111,\"#46039f\"],[0.2222222222222222,\"#7201a8\"],[0.3333333333333333,\"#9c179e\"],[0.4444444444444444,\"#bd3786\"],[0.5555555555555556,\"#d8576b\"],[0.6666666666666666,\"#ed7953\"],[0.7777777777777778,\"#fb9f3a\"],[0.8888888888888888,\"#fdca26\"],[1.0,\"#f0f921\"]]}],\"contourcarpet\":[{\"type\":\"contourcarpet\",\"colorbar\":{\"outlinewidth\":0,\"ticks\":\"\"}}],\"contour\":[{\"type\":\"contour\",\"colorbar\":{\"outlinewidth\":0,\"ticks\":\"\"},\"colorscale\":[[0.0,\"#0d0887\"],[0.1111111111111111,\"#46039f\"],[0.2222222222222222,\"#7201a8\"],[0.3333333333333333,\"#9c179e\"],[0.4444444444444444,\"#bd3786\"],[0.5555555555555556,\"#d8576b\"],[0.6666666666666666,\"#ed7953\"],[0.7777777777777778,\"#fb9f3a\"],[0.8888888888888888,\"#fdca26\"],[1.0,\"#f0f921\"]]}],\"surface\":[{\"type\":\"surface\",\"colorbar\":{\"outlinewidth\":0,\"ticks\":\"\"},\"colorscale\":[[0.0,\"#0d0887\"],[0.1111111111111111,\"#46039f\"],[0.2222222222222222,\"#7201a8\"],[0.3333333333333333,\"#9c179e\"],[0.4444444444444444,\"#bd3786\"],[0.5555555555555556,\"#d8576b\"],[0.6666666666666666,\"#ed7953\"],[0.7777777777777778,\"#fb9f3a\"],[0.8888888888888888,\"#fdca26\"],[1.0,\"#f0f921\"]]}],\"mesh3d\":[{\"type\":\"mesh3d\",\"colorbar\":{\"outlinewidth\":0,\"ticks\":\"\"}}],\"scatter\":[{\"fillpattern\":{\"fillmode\":\"overlay\",\"size\":10,\"solidity\":0.2},\"type\":\"scatter\"}],\"parcoords\":[{\"type\":\"parcoords\",\"line\":{\"colorbar\":{\"outlinewidth\":0,\"ticks\":\"\"}}}],\"scatterpolargl\":[{\"type\":\"scatterpolargl\",\"marker\":{\"colorbar\":{\"outlinewidth\":0,\"ticks\":\"\"}}}],\"bar\":[{\"error_x\":{\"color\":\"#2a3f5f\"},\"error_y\":{\"color\":\"#2a3f5f\"},\"marker\":{\"line\":{\"color\":\"#E5ECF6\",\"width\":0.5},\"pattern\":{\"fillmode\":\"overlay\",\"size\":10,\"solidity\":0.2}},\"type\":\"bar\"}],\"scattergeo\":[{\"type\":\"scattergeo\",\"marker\":{\"colorbar\":{\"outlinewidth\":0,\"ticks\":\"\"}}}],\"scatterpolar\":[{\"type\":\"scatterpolar\",\"marker\":{\"colorbar\":{\"outlinewidth\":0,\"ticks\":\"\"}}}],\"histogram\":[{\"marker\":{\"pattern\":{\"fillmode\":\"overlay\",\"size\":10,\"solidity\":0.2}},\"type\":\"histogram\"}],\"scattergl\":[{\"type\":\"scattergl\",\"marker\":{\"colorbar\":{\"outlinewidth\":0,\"ticks\":\"\"}}}],\"scatter3d\":[{\"type\":\"scatter3d\",\"line\":{\"colorbar\":{\"outlinewidth\":0,\"ticks\":\"\"}},\"marker\":{\"colorbar\":{\"outlinewidth\":0,\"ticks\":\"\"}}}],\"scattermapbox\":[{\"type\":\"scattermapbox\",\"marker\":{\"colorbar\":{\"outlinewidth\":0,\"ticks\":\"\"}}}],\"scatterternary\":[{\"type\":\"scatterternary\",\"marker\":{\"colorbar\":{\"outlinewidth\":0,\"ticks\":\"\"}}}],\"scattercarpet\":[{\"type\":\"scattercarpet\",\"marker\":{\"colorbar\":{\"outlinewidth\":0,\"ticks\":\"\"}}}],\"carpet\":[{\"aaxis\":{\"endlinecolor\":\"#2a3f5f\",\"gridcolor\":\"white\",\"linecolor\":\"white\",\"minorgridcolor\":\"white\",\"startlinecolor\":\"#2a3f5f\"},\"baxis\":{\"endlinecolor\":\"#2a3f5f\",\"gridcolor\":\"white\",\"linecolor\":\"white\",\"minorgridcolor\":\"white\",\"startlinecolor\":\"#2a3f5f\"},\"type\":\"carpet\"}],\"table\":[{\"cells\":{\"fill\":{\"color\":\"#EBF0F8\"},\"line\":{\"color\":\"white\"}},\"header\":{\"fill\":{\"color\":\"#C8D4E3\"},\"line\":{\"color\":\"white\"}},\"type\":\"table\"}],\"barpolar\":[{\"marker\":{\"line\":{\"color\":\"#E5ECF6\",\"width\":0.5},\"pattern\":{\"fillmode\":\"overlay\",\"size\":10,\"solidity\":0.2}},\"type\":\"barpolar\"}],\"pie\":[{\"automargin\":true,\"type\":\"pie\"}]},\"layout\":{\"autotypenumbers\":\"strict\",\"colorway\":[\"#636efa\",\"#EF553B\",\"#00cc96\",\"#ab63fa\",\"#FFA15A\",\"#19d3f3\",\"#FF6692\",\"#B6E880\",\"#FF97FF\",\"#FECB52\"],\"font\":{\"color\":\"#2a3f5f\"},\"hovermode\":\"closest\",\"hoverlabel\":{\"align\":\"left\"},\"paper_bgcolor\":\"white\",\"plot_bgcolor\":\"#E5ECF6\",\"polar\":{\"bgcolor\":\"#E5ECF6\",\"angularaxis\":{\"gridcolor\":\"white\",\"linecolor\":\"white\",\"ticks\":\"\"},\"radialaxis\":{\"gridcolor\":\"white\",\"linecolor\":\"white\",\"ticks\":\"\"}},\"ternary\":{\"bgcolor\":\"#E5ECF6\",\"aaxis\":{\"gridcolor\":\"white\",\"linecolor\":\"white\",\"ticks\":\"\"},\"baxis\":{\"gridcolor\":\"white\",\"linecolor\":\"white\",\"ticks\":\"\"},\"caxis\":{\"gridcolor\":\"white\",\"linecolor\":\"white\",\"ticks\":\"\"}},\"coloraxis\":{\"colorbar\":{\"outlinewidth\":0,\"ticks\":\"\"}},\"colorscale\":{\"sequential\":[[0.0,\"#0d0887\"],[0.1111111111111111,\"#46039f\"],[0.2222222222222222,\"#7201a8\"],[0.3333333333333333,\"#9c179e\"],[0.4444444444444444,\"#bd3786\"],[0.5555555555555556,\"#d8576b\"],[0.6666666666666666,\"#ed7953\"],[0.7777777777777778,\"#fb9f3a\"],[0.8888888888888888,\"#fdca26\"],[1.0,\"#f0f921\"]],\"sequentialminus\":[[0.0,\"#0d0887\"],[0.1111111111111111,\"#46039f\"],[0.2222222222222222,\"#7201a8\"],[0.3333333333333333,\"#9c179e\"],[0.4444444444444444,\"#bd3786\"],[0.5555555555555556,\"#d8576b\"],[0.6666666666666666,\"#ed7953\"],[0.7777777777777778,\"#fb9f3a\"],[0.8888888888888888,\"#fdca26\"],[1.0,\"#f0f921\"]],\"diverging\":[[0,\"#8e0152\"],[0.1,\"#c51b7d\"],[0.2,\"#de77ae\"],[0.3,\"#f1b6da\"],[0.4,\"#fde0ef\"],[0.5,\"#f7f7f7\"],[0.6,\"#e6f5d0\"],[0.7,\"#b8e186\"],[0.8,\"#7fbc41\"],[0.9,\"#4d9221\"],[1,\"#276419\"]]},\"xaxis\":{\"gridcolor\":\"white\",\"linecolor\":\"white\",\"ticks\":\"\",\"title\":{\"standoff\":15},\"zerolinecolor\":\"white\",\"automargin\":true,\"zerolinewidth\":2},\"yaxis\":{\"gridcolor\":\"white\",\"linecolor\":\"white\",\"ticks\":\"\",\"title\":{\"standoff\":15},\"zerolinecolor\":\"white\",\"automargin\":true,\"zerolinewidth\":2},\"scene\":{\"xaxis\":{\"backgroundcolor\":\"#E5ECF6\",\"gridcolor\":\"white\",\"linecolor\":\"white\",\"showbackground\":true,\"ticks\":\"\",\"zerolinecolor\":\"white\",\"gridwidth\":2},\"yaxis\":{\"backgroundcolor\":\"#E5ECF6\",\"gridcolor\":\"white\",\"linecolor\":\"white\",\"showbackground\":true,\"ticks\":\"\",\"zerolinecolor\":\"white\",\"gridwidth\":2},\"zaxis\":{\"backgroundcolor\":\"#E5ECF6\",\"gridcolor\":\"white\",\"linecolor\":\"white\",\"showbackground\":true,\"ticks\":\"\",\"zerolinecolor\":\"white\",\"gridwidth\":2}},\"shapedefaults\":{\"line\":{\"color\":\"#2a3f5f\"}},\"annotationdefaults\":{\"arrowcolor\":\"#2a3f5f\",\"arrowhead\":0,\"arrowwidth\":1},\"geo\":{\"bgcolor\":\"white\",\"landcolor\":\"#E5ECF6\",\"subunitcolor\":\"white\",\"showland\":true,\"showlakes\":true,\"lakecolor\":\"white\"},\"title\":{\"x\":0.05},\"mapbox\":{\"style\":\"light\"}}},\"xaxis\":{\"anchor\":\"y\",\"domain\":[0.0,1.0],\"title\":{\"text\":\"x1_pca\"}},\"yaxis\":{\"anchor\":\"x\",\"domain\":[0.0,1.0],\"title\":{\"text\":\"x2_pca\"},\"scaleanchor\":\"x\",\"scaleratio\":1},\"legend\":{\"title\":{\"text\":\"small_cluster\"},\"tracegroupgap\":0},\"margin\":{\"t\":60}},                        {\"responsive\": true}                    ).then(function(){\n",
       "                            \n",
       "var gd = document.getElementById('602b7104-2797-4002-8af8-9eb7e6b3fe10');\n",
       "var x = new MutationObserver(function (mutations, observer) {{\n",
       "        var display = window.getComputedStyle(gd).display;\n",
       "        if (!display || display === 'none') {{\n",
       "            console.log([gd, 'removed!']);\n",
       "            Plotly.purge(gd);\n",
       "            observer.disconnect();\n",
       "        }}\n",
       "}});\n",
       "\n",
       "// Listen for the removal of the full notebook cells\n",
       "var notebookContainer = gd.closest('#notebook-container');\n",
       "if (notebookContainer) {{\n",
       "    x.observe(notebookContainer, {childList: true});\n",
       "}}\n",
       "\n",
       "// Listen for the clearing of the current output cell\n",
       "var outputEl = gd.closest('.output');\n",
       "if (outputEl) {{\n",
       "    x.observe(outputEl, {childList: true});\n",
       "}}\n",
       "\n",
       "                        })                };                });            </script>        </div>"
      ]
     },
     "metadata": {},
     "output_type": "display_data"
    }
   ],
   "source": [
    "plt = px.scatter(df_embedding, x = 'x1_pca', y = 'x2_pca',\n",
    "                     color = df_embedding[true_col],\n",
    "                     color_discrete_sequence = px.colors.qualitative.Alphabet,\n",
    "                     color_discrete_map=kinase_palette,\n",
    "                     #color_continuous_scale = \"Turbo\",\n",
    "                     ##labels={'color': labels}, \n",
    "                     #hover_name=labels_name,\n",
    "                     #hover_data=df.columns[2:],\n",
    "                     #height = 800,\n",
    "                     #title = title,\n",
    "                 )\n",
    "#plt.update_xaxes(range = [-60, 50], constrain=\"domain\")\n",
    "#plt.update_yaxes(range = [-0.5, 0.5], constrain=\"domain\")\n",
    "\n",
    "plt.update_yaxes(scaleanchor = \"x\", scaleratio = 1)\n",
    "plt.show()"
   ]
  },
  {
   "cell_type": "code",
   "execution_count": null,
   "id": "41419c92",
   "metadata": {},
   "outputs": [],
   "source": []
  }
 ],
 "metadata": {
  "kernelspec": {
   "display_name": "msa",
   "language": "python",
   "name": "msa"
  },
  "language_info": {
   "codemirror_mode": {
    "name": "ipython",
    "version": 3
   },
   "file_extension": ".py",
   "mimetype": "text/x-python",
   "name": "python",
   "nbconvert_exporter": "python",
   "pygments_lexer": "ipython3",
   "version": "3.7.9"
  }
 },
 "nbformat": 4,
 "nbformat_minor": 5
}
