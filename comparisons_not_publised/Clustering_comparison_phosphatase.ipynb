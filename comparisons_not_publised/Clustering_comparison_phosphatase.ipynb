{
 "cells": [
  {
   "cell_type": "code",
   "execution_count": 1,
   "id": "046b8e30",
   "metadata": {},
   "outputs": [
    {
     "name": "stdout",
     "output_type": "stream",
     "text": [
      "/Users/gabrielduval/Desktop/Paris_Cite/Year2/Projet_Long/PoincareMSA\n"
     ]
    }
   ],
   "source": [
    "%cd ~/Desktop/Paris_Cite/Year2/Projet_Long/PoincareMSA\n",
    "\n",
    "#Load outside module dependencies\n",
    "import os\n",
    "import numpy as np\n",
    "import pandas as pd\n",
    "import subprocess\n",
    "import json\n",
    "import warnings\n",
    "warnings.filterwarnings('ignore')\n",
    "import scipy\n",
    "\n",
    "from sklearn.manifold import MDS\n",
    "from sklearn.manifold import TSNE\n",
    "from sklearn.decomposition import KernelPCA\n",
    "\n",
    "from sklearn.metrics import pairwise_distances\n",
    "from scipy.spatial.distance import cosine\n",
    "import plotly.express as px\n",
    "import plotly.graph_objs as go\n",
    "import umap\n",
    "\n",
    "#Import local functions\n",
    "from scripts.visualize_projection.pplots_new import read_embeddings, plot_embedding, plot_embedding_interactive, rotate, get_colors\n",
    "from scripts.build_poincare_map.data import construct_tensor_from_embedding, prepare_embedding_data, prepare_data\n",
    "%matplotlib inline\n",
    "\n",
    "from scripts.build_poincare_map.poincare_maps import *\n",
    "from scripts.build_poincare_map.embedding_quality_score import *"
   ]
  },
  {
   "cell_type": "code",
   "execution_count": 2,
   "id": "ea7f93e2",
   "metadata": {},
   "outputs": [],
   "source": [
    "#from scripts.build_poincare_map.kmedoids import *\n",
    "from sklearn import metrics\n",
    "from sklearn.cluster import *\n",
    "\n",
    "def get_scores(t_labels, labels):\n",
    "    ARS = metrics.adjusted_rand_score(t_labels, labels)\n",
    "    FMS = metrics.fowlkes_mallows_score(t_labels, labels)\n",
    "    \n",
    "    return ARS, FMS\n",
    "\n",
    "def detect_cluster(D, n_clusters=2, clustering_name='spectral', k=5, class_exclude = \"OTHER\"): #distances='Poincaré',\n",
    "    if clustering_name == 'spectral':\n",
    "        similarity = np.exp(-D**2)\n",
    "        clustering = SpectralClustering(n_clusters=n_clusters, eigen_solver='arpack', \n",
    "                                        affinity='precomputed', n_neighbors=k).fit(similarity)\n",
    "        labels = clustering.labels_\n",
    "    elif clustering_name == 'kmedoids':\n",
    "        clustering = kMedoids(D, n_clusters, tmax=10000)\n",
    "        labels = clustering\n",
    "    else:\n",
    "        #clustering = AgglomerativeClustering(linkage='average', n_clusters=n_clusters, \n",
    "        #                                     affinity='precomputed').fit(D)\n",
    "        clustering = AgglomerativeClustering(linkage='average', n_clusters=n_clusters).fit(D)\n",
    "        labels = clustering.labels_\n",
    "            \n",
    "    return labels"
   ]
  },
  {
   "cell_type": "markdown",
   "id": "588b27d1",
   "metadata": {},
   "source": [
    "Labels and number of clusters:"
   ]
  },
  {
   "cell_type": "code",
   "execution_count": 3,
   "id": "54911aaf",
   "metadata": {},
   "outputs": [
    {
     "name": "stdout",
     "output_type": "stream",
     "text": [
      "['AP' 'CC1' 'CC2' 'CC3' 'HAD' 'HP' 'PHP' 'PPM' 'PPPL' 'RTR1']\n",
      "['AP' 'CC1' 'CC2' 'CC3' 'HAD' 'HP' 'PHP' 'PPM' 'PPPL' 'RTR1']\n"
     ]
    }
   ],
   "source": [
    "knn = 5\n",
    "gamma = 2\n",
    "sigma = 1\n",
    "cospca = 0\n",
    "batchs = 4\n",
    "epochs = 1000\n",
    "seed = 0\n",
    "\n",
    "# Load path\n",
    "path_annotation = \"examples/wayland_datasets/phosphatase/phosphatase_labels.csv\"\n",
    "\n",
    "# Load mfasta\n",
    "out_name_mfasta = \"results/phosphatase/with_mfasta\"\n",
    "path_embedding_mfasta = f\"{out_name_mfasta}/PM{knn:1.0f}sigma={sigma:2.2f}gamma={gamma:2.2f}cosinepca={cospca:1.0f}_seed{seed:1.0f}.csv\"\n",
    "df_embedding_mfasta = read_embeddings(path_embedding_mfasta, path_annotation, withroot=False)\n",
    "df_embedding_mfasta.replace(\"Other\", \"OTHER\")\n",
    "print(df_embedding_mfasta['label'].unique())\n",
    "\n",
    "# Load embeddings\n",
    "out_name_embed = \"results/phosphatase/with_plm_embeddings\"\n",
    "path_embedding_embed = f\"{out_name_embed}/PM{knn:1.0f}sigma={sigma:2.2f}gamma={gamma:2.2f}cosinepca={cospca:1.0f}_seed{seed:1.0f}.csv\"\n",
    "df_embedding_embed = read_embeddings(path_embedding_embed, path_annotation, withroot=False)\n",
    "df_embedding_embed.replace(\"Other\", \"OTHER\")\n",
    "print(df_embedding_embed['label'].unique())\n"
   ]
  },
  {
   "cell_type": "code",
   "execution_count": 4,
   "id": "4765a4fd",
   "metadata": {},
   "outputs": [],
   "source": [
    "# Load mfasta model\n",
    "\n",
    "poincare_coord_mfasta = pd.read_csv(path_embedding_mfasta, sep=',').sort_values(by=[\"proteins_id\"])\n",
    "poincare_coord_mfasta = poincare_coord_mfasta.values[:,:2]\n",
    "# Additional step to convert normal float to numpy float\n",
    "poincare_coord_mfasta = np.array(poincare_coord_mfasta, dtype = np.float64)\n",
    "model_mfasta = PoincareMaps(poincare_coord_mfasta)\n",
    "model_mfasta.get_distances()\n",
    "\n",
    "# Load embedding model\n",
    "\n",
    "poincare_coord_embed = pd.read_csv(path_embedding_embed, sep=',').sort_values(by=[\"proteins_id\"])\n",
    "poincare_coord_embed = poincare_coord_embed.values[:,:2]\n",
    "# Additional step to convert normal float to numpy float\n",
    "poincare_coord_embed = np.array(poincare_coord_embed, dtype = np.float64)\n",
    "model_embed = PoincareMaps(poincare_coord_embed)\n",
    "model_embed.get_distances()\n"
   ]
  },
  {
   "cell_type": "markdown",
   "id": "edc8b57f",
   "metadata": {},
   "source": [
    "# Comparison of different scores for Poincaré vs other methods"
   ]
  },
  {
   "cell_type": "markdown",
   "id": "94c660aa",
   "metadata": {},
   "source": [
    "Prepare feature file for other methods."
   ]
  },
  {
   "cell_type": "code",
   "execution_count": 5,
   "id": "0691f7ba",
   "metadata": {},
   "outputs": [
    {
     "name": "stdout",
     "output_type": "stream",
     "text": [
      "(204, 19040)\n",
      "(204, 768)\n"
     ]
    }
   ],
   "source": [
    "# VERY IMPORTANT - Features must be loaded in sorted python order, because the read_embedding\n",
    "# function sorts the results csv based on protein id. \n",
    "def construct_tensor_from_embedding(fpath, option = 'mean'):\n",
    "    '''Same function as construct_tensor, but adapted for embeddings\n",
    "    \n",
    "    Args\n",
    "    ---\n",
    "    fpath : str\n",
    "        Path to embedding file; these are usually stored in .pt format\n",
    "    option : str\n",
    "        How should the embeddings be reduced ?\n",
    "\n",
    "    Returns\n",
    "    ---\n",
    "    tensor \n",
    "    '''\n",
    "    fixed_embedding = torch.load(fpath)['embedding']\n",
    "    fixed_embedding = np.mean(fixed_embedding, axis = 0)\n",
    "    return fixed_embedding\n",
    "\n",
    "\n",
    "# General variables\n",
    "fasta_files = 'phosphatase_data'\n",
    "\n",
    "n_proteins = df_embedding_mfasta.shape[0]\n",
    "x = np.array(np.loadtxt(fasta_files + \"/fasta0.9/1.aamtx\").reshape(-1))\n",
    "len_prot = len(x)\n",
    "\n",
    "\n",
    "# For mfasta poincare\n",
    "features_mfasta = np.zeros([n_proteins, len_prot])\n",
    "\n",
    "for i in range(n_proteins):\n",
    "    local = np.array(np.loadtxt(fasta_files + \"/fasta0.9/\" + str(i+1) + \".aamtx\").reshape(-1))\n",
    "    features_mfasta[i,:] = local\n",
    "print(features_mfasta.shape)\n",
    "\n",
    "\n",
    "# For embedding poincare\n",
    "embed_files = 'embeddings/ankh_base_phosphatase'\n",
    "ankh_base_dimension = 768\n",
    "\n",
    "features_embed = np.zeros([n_proteins, ankh_base_dimension])\n",
    "\n",
    "for i in range(n_proteins):\n",
    "    local = construct_tensor_from_embedding(f'{embed_files}/{i + 1}.pt')\n",
    "    features_embed[i,:] = local\n",
    "print(features_embed.shape)"
   ]
  },
  {
   "cell_type": "markdown",
   "id": "ce5df078",
   "metadata": {},
   "source": [
    "Calculate original distances:"
   ]
  },
  {
   "cell_type": "code",
   "execution_count": 6,
   "id": "9929ed23",
   "metadata": {},
   "outputs": [
    {
     "name": "stdout",
     "output_type": "stream",
     "text": [
      "(204, 204)\n",
      "proteins_id\n",
      "1        1\n",
      "2        2\n",
      "3        3\n",
      "4        4\n",
      "5        5\n",
      "      ... \n",
      "200    200\n",
      "201    201\n",
      "202    202\n",
      "203    203\n",
      "204    204\n",
      "Name: proteins_id, Length: 204, dtype: object\n",
      "(204, 204)\n",
      "proteins_id\n",
      "1        1\n",
      "2        2\n",
      "3        3\n",
      "4        4\n",
      "5        5\n",
      "      ... \n",
      "200    200\n",
      "201    201\n",
      "202    202\n",
      "203    203\n",
      "204    204\n",
      "Name: proteins_id, Length: 204, dtype: object\n"
     ]
    }
   ],
   "source": [
    "# Mfasta\n",
    "D_raw_mfasta = pairwise_distances(features_mfasta, metric=\"cosine\")\n",
    "print(D_raw_mfasta.shape)\n",
    "\n",
    "print(df_embedding_mfasta['proteins_id'])\n",
    "\n",
    "# Embeddings\n",
    "D_raw_embed = pairwise_distances(features_embed, metric=\"cosine\")\n",
    "print(D_raw_embed.shape)\n",
    "\n",
    "print(df_embedding_embed['proteins_id'])"
   ]
  },
  {
   "cell_type": "markdown",
   "id": "a70f52ef",
   "metadata": {},
   "source": [
    "# SET PARAMETERS"
   ]
  },
  {
   "cell_type": "code",
   "execution_count": 7,
   "id": "55908d4b",
   "metadata": {},
   "outputs": [],
   "source": [
    "df_results_clust = pd.DataFrame()\n",
    "df_results_proj = pd.DataFrame()"
   ]
  },
  {
   "cell_type": "code",
   "execution_count": 8,
   "id": "f84725c2",
   "metadata": {},
   "outputs": [
    {
     "name": "stdout",
     "output_type": "stream",
     "text": [
      "Number of expected classes:  10\n"
     ]
    }
   ],
   "source": [
    "k_neigh = knn\n",
    "\n",
    "# by names/family\n",
    "true_col = \"label\" # \"short_species\"# \n",
    "other =  -1 \n",
    "\n",
    "# Remove all proteins with no annotation ?\n",
    "remove_others = False\n",
    "\n",
    "# Remove all unique proteins ?\n",
    "remove_outliers = False\n",
    "\n",
    "# Determine expected number of classes from the number of labels\n",
    "if remove_outliers:\n",
    "    no_outliers = df_embedding_mfasta[true_col].duplicated(keep=False)\n",
    "    expected_nc = df_embedding_mfasta[no_outliers][true_col].unique().size\n",
    "else:\n",
    "    expected_nc = df_embedding_mfasta[true_col].unique().size\n",
    "\n",
    "nc = expected_nc\n",
    "\n",
    "print(\"Number of expected classes: \", expected_nc)"
   ]
  },
  {
   "cell_type": "code",
   "execution_count": 9,
   "id": "7c63cb30",
   "metadata": {},
   "outputs": [],
   "source": [
    "# Construction of custom color palette \n",
    "colour_json = 'examples/wayland_datasets/phosphatase/phosphatase_colors.json'\n",
    "with open(colour_json, 'r') as file:\n",
    "    phosphatase_cols = json.load(file)"
   ]
  },
  {
   "cell_type": "markdown",
   "id": "b4691933",
   "metadata": {},
   "source": [
    "# ALL TOGETHER"
   ]
  },
  {
   "cell_type": "markdown",
   "id": "62849987",
   "metadata": {},
   "source": [
    "## Evaluate clustering - embedding vs other methods using embedding"
   ]
  },
  {
   "cell_type": "code",
   "execution_count": 10,
   "id": "681f7376",
   "metadata": {},
   "outputs": [
    {
     "name": "stdout",
     "output_type": "stream",
     "text": [
      "Connecting 6\n",
      "Connecting 6\n",
      "Connecting 6\n",
      "Connecting 6\n",
      "Connecting 6\n",
      "Connecting 6\n",
      "Connecting 6\n",
      "Connecting 6\n",
      "Connecting 6\n",
      "Connecting 6\n",
      "Connecting 6\n",
      "Connecting 6\n",
      "Connecting 6\n",
      "Connecting 6\n",
      "Connecting 6\n",
      "Connecting 6\n",
      "Connecting 6\n",
      "Connecting 6\n",
      "Connecting 6\n",
      "Connecting 6\n",
      "Connecting 6\n",
      "Connecting 6\n",
      "Connecting 6\n",
      "Connecting 6\n",
      "Connecting 6\n"
     ]
    }
   ],
   "source": [
    "cname = 'agglomerative'\n",
    "setting = \"manifold\" # \"global\" #\n",
    "#out_name = 'results/phosphatase/with_mfasta' \n",
    "#out_name = \"results/phosphatase/with_plm_embeddings\"\n",
    "\n",
    "for seed in range(5):\n",
    "    # read poincare and annotations\n",
    "    path_embedding = f\"{out_name_embed}/PM{knn:1.0f}sigma={sigma:2.2f}gamma={gamma:2.2f}cosinepca={cospca:1.0f}_seed{seed:1.0f}.csv\"\n",
    "    df_embedding = read_embeddings(path_embedding, path_annotation, withroot=False)\n",
    "    df_embedding.replace(\"Other\", \"OTHER\")\n",
    "    # calculate poincare distances\n",
    "    poincare_coord = df_embedding[[\"pm1\",\"pm2\"]]\n",
    "    poincare_coord = poincare_coord.values\n",
    "    #print(poincare_coord)\n",
    "    model = PoincareMaps(poincare_coord)\n",
    "    model.get_distances()\n",
    "    # poincare scores\n",
    "    clusters = detect_cluster(model.distances, n_clusters=nc, clustering_name=cname)\n",
    "    df_embedding[\"clust_poincare_w_embed\"] = clusters\n",
    "    df_embedding[\"clust_poincare_w_embed\"] = df_embedding[\"clust_poincare_w_embed\"].astype(\"string\")\n",
    "    # MDS scores\n",
    "    X_cosine = pairwise_distances(features_embed,metric='cosine')\n",
    "    X_mds = MDS(metric=True,dissimilarity='precomputed', random_state = seed).fit_transform(X_cosine)\n",
    "    df_embedding[\"x1_mds\"] = X_mds[:,0]\n",
    "    df_embedding[\"x2_mds\"] = X_mds[:,1]\n",
    "    D = pairwise_distances(X_mds)\n",
    "    clusters = detect_cluster(D, n_clusters=nc, clustering_name=cname)\n",
    "    df_embedding[\"clust_mds\"] = clusters\n",
    "    df_embedding[\"clust_mds\"] = df_embedding[\"clust_mds\"].astype(\"string\")\n",
    "    # tSNE scores\n",
    "    X_tsne = TSNE(random_state = seed, metric = \"cosine\", perplexity=k_neigh).fit_transform(features_embed)\n",
    "    df_embedding[\"x1_tsne\"] = X_tsne[:,0]\n",
    "    df_embedding[\"x2_tsne\"] = X_tsne[:,1]\n",
    "    D = pairwise_distances(X_tsne)\n",
    "    clusters = detect_cluster(D, n_clusters=nc, clustering_name=cname)\n",
    "    df_embedding[\"clust_tsne\"] = clusters\n",
    "    df_embedding[\"clust_tsne\"] = df_embedding[\"clust_tsne\"].astype(\"string\")\n",
    "    # UMAP scores\n",
    "    X_umap = umap.UMAP(random_state = seed, metric = \"cosine\", n_neighbors = k_neigh).fit_transform(features_embed)\n",
    "    df_embedding[\"x1_umap\"] = X_umap[:,0]\n",
    "    df_embedding[\"x2_umap\"] = X_umap[:,1]\n",
    "    D = pairwise_distances(X_umap)\n",
    "    clusters = detect_cluster(D, n_clusters=nc, clustering_name=cname)\n",
    "    df_embedding[\"clust_umap\"] = clusters\n",
    "    df_embedding[\"clust_umap\"] = df_embedding[\"clust_umap\"].astype(\"string\")\n",
    "    # PCA scores\n",
    "    X_pca = KernelPCA(kernel='cosine', random_state = seed).fit_transform(features_embed)\n",
    "    df_embedding[\"x1_pca\"] = X_pca[:,0]\n",
    "    df_embedding[\"x2_pca\"] = X_pca[:,1]\n",
    "    D = pairwise_distances(X_pca)\n",
    "    clusters = detect_cluster(D, n_clusters=nc, clustering_name=cname)#, k=15)\n",
    "    df_embedding[\"clust_pca\"] = clusters\n",
    "    df_embedding[\"clust_pca\"] = df_embedding[\"clust_pca\"].astype(\"string\")\n",
    "    \n",
    "    # clustering\n",
    "    if remove_outliers:\n",
    "        df_noothers = df_embedding[no_outliers]\n",
    "    if remove_others:\n",
    "        df_noothers = df_noothers[df_embedding[true_col]!=other]\n",
    "    if not remove_outliers and not remove_others:\n",
    "        df_noothers = df_embedding\n",
    "    \n",
    "    for clust_meth in [\"poincare_w_embed\", \"mds\", \"tsne\", \"umap\", \"pca\"]:\n",
    "\n",
    "        ARI, FMS = get_scores(df_noothers[true_col], df_noothers[\"clust_\" + clust_meth])\n",
    "\n",
    "        if clust_meth == \"poincare_w_embed\":\n",
    "            D = model.distances\n",
    "            Qlocal, Qglobal, Kmax, df_Q = get_quality_metrics(coord_high = features_embed, coord_low = model.coordinates, distance=\"poincare\", setting=setting, k_neighbours=5)\n",
    "        else:\n",
    "            D = pairwise_distances(df_embedding.loc[:, \"x1_\"+clust_meth:\"x2_\"+clust_meth])\n",
    "            Qlocal, Qglobal, Kmax, df_Q = get_quality_metrics(coord_high = features_embed, coord_low = df_embedding.loc[:, \"x1_\"+clust_meth:\"x2_\"+clust_meth], distance=\"euclidean\", setting=setting, k_neighbours=5)\n",
    "\n",
    "        corr = scipy.stats.spearmanr(D_raw_embed.ravel(), D.ravel(), axis = 0)\n",
    "    \n",
    "        df = pd.DataFrame({\"method\": [clust_meth], \"seed\": [seed], \"nc\": [nc], \"true_col\": [true_col], \"ARI\": [ARI], \"FMS\": [FMS]})\n",
    "        df_results_clust = pd.concat([df_results_clust, df])\n",
    "        \n",
    "        # print(df_Q.Qnx.to_numpy())\n",
    "        \n",
    "        df = pd.DataFrame({\"method\": [clust_meth], \"seed\": [seed], \"Qlocal\": [Qlocal], \"Qglobal\": [Qglobal], \"Kmax\": [Kmax], \"Qnx\": [df_Q.Qnx.to_numpy()]})\n",
    "        df_results_proj = pd.concat([df_results_proj, df])\n",
    "\n",
    "\n",
    "#print(df_results)"
   ]
  },
  {
   "cell_type": "code",
   "execution_count": 11,
   "id": "18bca931",
   "metadata": {},
   "outputs": [
    {
     "name": "stdout",
     "output_type": "stream",
     "text": [
      "             method  seed    Qlocal   Qglobal  Kmax  \\\n",
      "0  poincare_w_embed     0  0.703988  0.833361    12   \n",
      "0               mds     0  0.586618  0.792781    18   \n",
      "0              tsne     0  0.828431  0.708343     0   \n",
      "0              umap     0  0.599571  0.733894     3   \n",
      "0               pca     0  0.486248  0.711172    20   \n",
      "0  poincare_w_embed     1  0.708466  0.838604    13   \n",
      "0               mds     1  0.522921  0.780342     6   \n",
      "0              tsne     1  0.848039  0.706002     0   \n",
      "0              umap     1  0.656136  0.734324     6   \n",
      "0               pca     1  0.486248  0.711172    20   \n",
      "\n",
      "                                                 Qnx  \n",
      "0  [0.35294117647058826, 0.5245098039215687, 0.58...  \n",
      "0  [0.4264705882352941, 0.47058823529411764, 0.50...  \n",
      "0  [0.8284313725490197, 0.7990196078431373, 0.789...  \n",
      "0  [0.4068627450980392, 0.5882352941176471, 0.686...  \n",
      "0  [0.3235294117647059, 0.37254901960784315, 0.41...  \n",
      "0  [0.3382352941176471, 0.5024509803921569, 0.602...  \n",
      "0  [0.37254901960784315, 0.46078431372549017, 0.5...  \n",
      "0  [0.8480392156862745, 0.7843137254901961, 0.789...  \n",
      "0  [0.47549019607843135, 0.625, 0.668300653594771...  \n",
      "0  [0.3235294117647059, 0.37254901960784315, 0.41...  \n"
     ]
    }
   ],
   "source": [
    "# Test composition of df_results_clust\n",
    "#print(df_embedding.columns)\n",
    "print(df_results_proj.head(10))"
   ]
  },
  {
   "cell_type": "markdown",
   "id": "1c177ea3",
   "metadata": {},
   "source": [
    "### Test FMS Scores"
   ]
  },
  {
   "cell_type": "code",
   "execution_count": 12,
   "id": "1f5c6cb4",
   "metadata": {},
   "outputs": [
    {
     "data": {
      "application/vnd.plotly.v1+json": {
       "config": {
        "plotlyServerURL": "https://plot.ly"
       },
       "data": [
        {
         "alignmentgroup": "True",
         "boxpoints": "all",
         "fillcolor": "rgba(255,255,255,0)",
         "hoveron": "points",
         "hovertemplate": "true_col=label<br>method=%{x}<br>FMS=%{y}<extra></extra>",
         "legendgroup": "label",
         "line": {
          "color": "rgba(255,255,255,0)"
         },
         "marker": {
          "color": "#636efa"
         },
         "name": "label",
         "offsetgroup": "label",
         "orientation": "v",
         "pointpos": 0,
         "showlegend": true,
         "type": "box",
         "x": [
          "poincare_w_embed",
          "mds",
          "tsne",
          "umap",
          "pca",
          "poincare_w_embed",
          "mds",
          "tsne",
          "umap",
          "pca",
          "poincare_w_embed",
          "mds",
          "tsne",
          "umap",
          "pca",
          "poincare_w_embed",
          "mds",
          "tsne",
          "umap",
          "pca",
          "poincare_w_embed",
          "mds",
          "tsne",
          "umap",
          "pca"
         ],
         "x0": " ",
         "xaxis": "x",
         "y": [
          0.5288069015490796,
          0.6552123871655104,
          0.5276175971567992,
          0.4378903260696539,
          0.5778967967071005,
          0.5007492885662544,
          0.6404425978165513,
          0.5276175971567992,
          0.4257448616721955,
          0.5778967967071005,
          0.5611923324081036,
          0.641572658135258,
          0.5081341616821313,
          0.46111941562577,
          0.5778967967071005,
          0.47528421139916116,
          0.6414521632527814,
          0.505181252807626,
          0.46056044891403114,
          0.5778967967071005,
          0.5445394038494324,
          0.6580838217890337,
          0.5276175971567992,
          0.41906633276242955,
          0.5778967967071005
         ],
         "y0": " ",
         "yaxis": "y"
        }
       ],
       "layout": {
        "boxmode": "group",
        "legend": {
         "title": {
          "text": "true_col"
         },
         "tracegroupgap": 0
        },
        "margin": {
         "t": 60
        },
        "template": {
         "data": {
          "bar": [
           {
            "error_x": {
             "color": "#2a3f5f"
            },
            "error_y": {
             "color": "#2a3f5f"
            },
            "marker": {
             "line": {
              "color": "#E5ECF6",
              "width": 0.5
             },
             "pattern": {
              "fillmode": "overlay",
              "size": 10,
              "solidity": 0.2
             }
            },
            "type": "bar"
           }
          ],
          "barpolar": [
           {
            "marker": {
             "line": {
              "color": "#E5ECF6",
              "width": 0.5
             },
             "pattern": {
              "fillmode": "overlay",
              "size": 10,
              "solidity": 0.2
             }
            },
            "type": "barpolar"
           }
          ],
          "carpet": [
           {
            "aaxis": {
             "endlinecolor": "#2a3f5f",
             "gridcolor": "white",
             "linecolor": "white",
             "minorgridcolor": "white",
             "startlinecolor": "#2a3f5f"
            },
            "baxis": {
             "endlinecolor": "#2a3f5f",
             "gridcolor": "white",
             "linecolor": "white",
             "minorgridcolor": "white",
             "startlinecolor": "#2a3f5f"
            },
            "type": "carpet"
           }
          ],
          "choropleth": [
           {
            "colorbar": {
             "outlinewidth": 0,
             "ticks": ""
            },
            "type": "choropleth"
           }
          ],
          "contour": [
           {
            "colorbar": {
             "outlinewidth": 0,
             "ticks": ""
            },
            "colorscale": [
             [
              0,
              "#0d0887"
             ],
             [
              0.1111111111111111,
              "#46039f"
             ],
             [
              0.2222222222222222,
              "#7201a8"
             ],
             [
              0.3333333333333333,
              "#9c179e"
             ],
             [
              0.4444444444444444,
              "#bd3786"
             ],
             [
              0.5555555555555556,
              "#d8576b"
             ],
             [
              0.6666666666666666,
              "#ed7953"
             ],
             [
              0.7777777777777778,
              "#fb9f3a"
             ],
             [
              0.8888888888888888,
              "#fdca26"
             ],
             [
              1,
              "#f0f921"
             ]
            ],
            "type": "contour"
           }
          ],
          "contourcarpet": [
           {
            "colorbar": {
             "outlinewidth": 0,
             "ticks": ""
            },
            "type": "contourcarpet"
           }
          ],
          "heatmap": [
           {
            "colorbar": {
             "outlinewidth": 0,
             "ticks": ""
            },
            "colorscale": [
             [
              0,
              "#0d0887"
             ],
             [
              0.1111111111111111,
              "#46039f"
             ],
             [
              0.2222222222222222,
              "#7201a8"
             ],
             [
              0.3333333333333333,
              "#9c179e"
             ],
             [
              0.4444444444444444,
              "#bd3786"
             ],
             [
              0.5555555555555556,
              "#d8576b"
             ],
             [
              0.6666666666666666,
              "#ed7953"
             ],
             [
              0.7777777777777778,
              "#fb9f3a"
             ],
             [
              0.8888888888888888,
              "#fdca26"
             ],
             [
              1,
              "#f0f921"
             ]
            ],
            "type": "heatmap"
           }
          ],
          "heatmapgl": [
           {
            "colorbar": {
             "outlinewidth": 0,
             "ticks": ""
            },
            "colorscale": [
             [
              0,
              "#0d0887"
             ],
             [
              0.1111111111111111,
              "#46039f"
             ],
             [
              0.2222222222222222,
              "#7201a8"
             ],
             [
              0.3333333333333333,
              "#9c179e"
             ],
             [
              0.4444444444444444,
              "#bd3786"
             ],
             [
              0.5555555555555556,
              "#d8576b"
             ],
             [
              0.6666666666666666,
              "#ed7953"
             ],
             [
              0.7777777777777778,
              "#fb9f3a"
             ],
             [
              0.8888888888888888,
              "#fdca26"
             ],
             [
              1,
              "#f0f921"
             ]
            ],
            "type": "heatmapgl"
           }
          ],
          "histogram": [
           {
            "marker": {
             "pattern": {
              "fillmode": "overlay",
              "size": 10,
              "solidity": 0.2
             }
            },
            "type": "histogram"
           }
          ],
          "histogram2d": [
           {
            "colorbar": {
             "outlinewidth": 0,
             "ticks": ""
            },
            "colorscale": [
             [
              0,
              "#0d0887"
             ],
             [
              0.1111111111111111,
              "#46039f"
             ],
             [
              0.2222222222222222,
              "#7201a8"
             ],
             [
              0.3333333333333333,
              "#9c179e"
             ],
             [
              0.4444444444444444,
              "#bd3786"
             ],
             [
              0.5555555555555556,
              "#d8576b"
             ],
             [
              0.6666666666666666,
              "#ed7953"
             ],
             [
              0.7777777777777778,
              "#fb9f3a"
             ],
             [
              0.8888888888888888,
              "#fdca26"
             ],
             [
              1,
              "#f0f921"
             ]
            ],
            "type": "histogram2d"
           }
          ],
          "histogram2dcontour": [
           {
            "colorbar": {
             "outlinewidth": 0,
             "ticks": ""
            },
            "colorscale": [
             [
              0,
              "#0d0887"
             ],
             [
              0.1111111111111111,
              "#46039f"
             ],
             [
              0.2222222222222222,
              "#7201a8"
             ],
             [
              0.3333333333333333,
              "#9c179e"
             ],
             [
              0.4444444444444444,
              "#bd3786"
             ],
             [
              0.5555555555555556,
              "#d8576b"
             ],
             [
              0.6666666666666666,
              "#ed7953"
             ],
             [
              0.7777777777777778,
              "#fb9f3a"
             ],
             [
              0.8888888888888888,
              "#fdca26"
             ],
             [
              1,
              "#f0f921"
             ]
            ],
            "type": "histogram2dcontour"
           }
          ],
          "mesh3d": [
           {
            "colorbar": {
             "outlinewidth": 0,
             "ticks": ""
            },
            "type": "mesh3d"
           }
          ],
          "parcoords": [
           {
            "line": {
             "colorbar": {
              "outlinewidth": 0,
              "ticks": ""
             }
            },
            "type": "parcoords"
           }
          ],
          "pie": [
           {
            "automargin": true,
            "type": "pie"
           }
          ],
          "scatter": [
           {
            "fillpattern": {
             "fillmode": "overlay",
             "size": 10,
             "solidity": 0.2
            },
            "type": "scatter"
           }
          ],
          "scatter3d": [
           {
            "line": {
             "colorbar": {
              "outlinewidth": 0,
              "ticks": ""
             }
            },
            "marker": {
             "colorbar": {
              "outlinewidth": 0,
              "ticks": ""
             }
            },
            "type": "scatter3d"
           }
          ],
          "scattercarpet": [
           {
            "marker": {
             "colorbar": {
              "outlinewidth": 0,
              "ticks": ""
             }
            },
            "type": "scattercarpet"
           }
          ],
          "scattergeo": [
           {
            "marker": {
             "colorbar": {
              "outlinewidth": 0,
              "ticks": ""
             }
            },
            "type": "scattergeo"
           }
          ],
          "scattergl": [
           {
            "marker": {
             "colorbar": {
              "outlinewidth": 0,
              "ticks": ""
             }
            },
            "type": "scattergl"
           }
          ],
          "scattermapbox": [
           {
            "marker": {
             "colorbar": {
              "outlinewidth": 0,
              "ticks": ""
             }
            },
            "type": "scattermapbox"
           }
          ],
          "scatterpolar": [
           {
            "marker": {
             "colorbar": {
              "outlinewidth": 0,
              "ticks": ""
             }
            },
            "type": "scatterpolar"
           }
          ],
          "scatterpolargl": [
           {
            "marker": {
             "colorbar": {
              "outlinewidth": 0,
              "ticks": ""
             }
            },
            "type": "scatterpolargl"
           }
          ],
          "scatterternary": [
           {
            "marker": {
             "colorbar": {
              "outlinewidth": 0,
              "ticks": ""
             }
            },
            "type": "scatterternary"
           }
          ],
          "surface": [
           {
            "colorbar": {
             "outlinewidth": 0,
             "ticks": ""
            },
            "colorscale": [
             [
              0,
              "#0d0887"
             ],
             [
              0.1111111111111111,
              "#46039f"
             ],
             [
              0.2222222222222222,
              "#7201a8"
             ],
             [
              0.3333333333333333,
              "#9c179e"
             ],
             [
              0.4444444444444444,
              "#bd3786"
             ],
             [
              0.5555555555555556,
              "#d8576b"
             ],
             [
              0.6666666666666666,
              "#ed7953"
             ],
             [
              0.7777777777777778,
              "#fb9f3a"
             ],
             [
              0.8888888888888888,
              "#fdca26"
             ],
             [
              1,
              "#f0f921"
             ]
            ],
            "type": "surface"
           }
          ],
          "table": [
           {
            "cells": {
             "fill": {
              "color": "#EBF0F8"
             },
             "line": {
              "color": "white"
             }
            },
            "header": {
             "fill": {
              "color": "#C8D4E3"
             },
             "line": {
              "color": "white"
             }
            },
            "type": "table"
           }
          ]
         },
         "layout": {
          "annotationdefaults": {
           "arrowcolor": "#2a3f5f",
           "arrowhead": 0,
           "arrowwidth": 1
          },
          "autotypenumbers": "strict",
          "coloraxis": {
           "colorbar": {
            "outlinewidth": 0,
            "ticks": ""
           }
          },
          "colorscale": {
           "diverging": [
            [
             0,
             "#8e0152"
            ],
            [
             0.1,
             "#c51b7d"
            ],
            [
             0.2,
             "#de77ae"
            ],
            [
             0.3,
             "#f1b6da"
            ],
            [
             0.4,
             "#fde0ef"
            ],
            [
             0.5,
             "#f7f7f7"
            ],
            [
             0.6,
             "#e6f5d0"
            ],
            [
             0.7,
             "#b8e186"
            ],
            [
             0.8,
             "#7fbc41"
            ],
            [
             0.9,
             "#4d9221"
            ],
            [
             1,
             "#276419"
            ]
           ],
           "sequential": [
            [
             0,
             "#0d0887"
            ],
            [
             0.1111111111111111,
             "#46039f"
            ],
            [
             0.2222222222222222,
             "#7201a8"
            ],
            [
             0.3333333333333333,
             "#9c179e"
            ],
            [
             0.4444444444444444,
             "#bd3786"
            ],
            [
             0.5555555555555556,
             "#d8576b"
            ],
            [
             0.6666666666666666,
             "#ed7953"
            ],
            [
             0.7777777777777778,
             "#fb9f3a"
            ],
            [
             0.8888888888888888,
             "#fdca26"
            ],
            [
             1,
             "#f0f921"
            ]
           ],
           "sequentialminus": [
            [
             0,
             "#0d0887"
            ],
            [
             0.1111111111111111,
             "#46039f"
            ],
            [
             0.2222222222222222,
             "#7201a8"
            ],
            [
             0.3333333333333333,
             "#9c179e"
            ],
            [
             0.4444444444444444,
             "#bd3786"
            ],
            [
             0.5555555555555556,
             "#d8576b"
            ],
            [
             0.6666666666666666,
             "#ed7953"
            ],
            [
             0.7777777777777778,
             "#fb9f3a"
            ],
            [
             0.8888888888888888,
             "#fdca26"
            ],
            [
             1,
             "#f0f921"
            ]
           ]
          },
          "colorway": [
           "#636efa",
           "#EF553B",
           "#00cc96",
           "#ab63fa",
           "#FFA15A",
           "#19d3f3",
           "#FF6692",
           "#B6E880",
           "#FF97FF",
           "#FECB52"
          ],
          "font": {
           "color": "#2a3f5f"
          },
          "geo": {
           "bgcolor": "white",
           "lakecolor": "white",
           "landcolor": "#E5ECF6",
           "showlakes": true,
           "showland": true,
           "subunitcolor": "white"
          },
          "hoverlabel": {
           "align": "left"
          },
          "hovermode": "closest",
          "mapbox": {
           "style": "light"
          },
          "paper_bgcolor": "white",
          "plot_bgcolor": "#E5ECF6",
          "polar": {
           "angularaxis": {
            "gridcolor": "white",
            "linecolor": "white",
            "ticks": ""
           },
           "bgcolor": "#E5ECF6",
           "radialaxis": {
            "gridcolor": "white",
            "linecolor": "white",
            "ticks": ""
           }
          },
          "scene": {
           "xaxis": {
            "backgroundcolor": "#E5ECF6",
            "gridcolor": "white",
            "gridwidth": 2,
            "linecolor": "white",
            "showbackground": true,
            "ticks": "",
            "zerolinecolor": "white"
           },
           "yaxis": {
            "backgroundcolor": "#E5ECF6",
            "gridcolor": "white",
            "gridwidth": 2,
            "linecolor": "white",
            "showbackground": true,
            "ticks": "",
            "zerolinecolor": "white"
           },
           "zaxis": {
            "backgroundcolor": "#E5ECF6",
            "gridcolor": "white",
            "gridwidth": 2,
            "linecolor": "white",
            "showbackground": true,
            "ticks": "",
            "zerolinecolor": "white"
           }
          },
          "shapedefaults": {
           "line": {
            "color": "#2a3f5f"
           }
          },
          "ternary": {
           "aaxis": {
            "gridcolor": "white",
            "linecolor": "white",
            "ticks": ""
           },
           "baxis": {
            "gridcolor": "white",
            "linecolor": "white",
            "ticks": ""
           },
           "bgcolor": "#E5ECF6",
           "caxis": {
            "gridcolor": "white",
            "linecolor": "white",
            "ticks": ""
           }
          },
          "title": {
           "x": 0.05
          },
          "xaxis": {
           "automargin": true,
           "gridcolor": "white",
           "linecolor": "white",
           "ticks": "",
           "title": {
            "standoff": 15
           },
           "zerolinecolor": "white",
           "zerolinewidth": 2
          },
          "yaxis": {
           "automargin": true,
           "gridcolor": "white",
           "linecolor": "white",
           "ticks": "",
           "title": {
            "standoff": 15
           },
           "zerolinecolor": "white",
           "zerolinewidth": 2
          }
         }
        },
        "xaxis": {
         "anchor": "y",
         "domain": [
          0,
          1
         ],
         "title": {
          "text": "method"
         }
        },
        "yaxis": {
         "anchor": "x",
         "domain": [
          0,
          1
         ],
         "range": [
          0,
          1
         ],
         "title": {
          "text": "FMS"
         }
        }
       }
      }
     },
     "metadata": {},
     "output_type": "display_data"
    }
   ],
   "source": [
    "fig = px.strip(df_results_clust, x='method', y='FMS', color = \"true_col\")\n",
    "fig.update_yaxes(range = [0,1])\n",
    "fig.show()\n",
    "\n",
    "# Need to add the original poincaré method"
   ]
  },
  {
   "cell_type": "code",
   "execution_count": 15,
   "id": "7a04df26",
   "metadata": {},
   "outputs": [],
   "source": [
    "fig.write_html(\"FMS_phosphatase_test.html\")"
   ]
  },
  {
   "cell_type": "markdown",
   "id": "2693341d",
   "metadata": {},
   "source": [
    "### Test QNX Scores"
   ]
  },
  {
   "cell_type": "code",
   "execution_count": 13,
   "id": "2e831800",
   "metadata": {},
   "outputs": [],
   "source": [
    "import seaborn as sns\n",
    "import matplotlib.pyplot as plt\n",
    "%matplotlib inline"
   ]
  },
  {
   "cell_type": "code",
   "execution_count": 14,
   "id": "9035d550",
   "metadata": {},
   "outputs": [
    {
     "name": "stdout",
     "output_type": "stream",
     "text": [
      "['#4c72b0', '#dd8452', '#55a868', '#c44e52', '#8172b3']\n",
      "{'poincare_w_embed': '#4c72b0', 'mds': '#dd8452', 'tsne': '#55a868', 'umap': '#c44e52', 'pca': '#8172b3'}\n"
     ]
    }
   ],
   "source": [
    "print(sns.color_palette(palette=None, n_colors=5).as_hex())\n",
    "meth_palette = dict(zip([\"poincare_w_embed\", \"mds\", \"tsne\", \"umap\", \"pca\"], sns.color_palette(palette=None, n_colors=5).as_hex()))\n",
    "print(meth_palette)"
   ]
  },
  {
   "cell_type": "code",
   "execution_count": 16,
   "id": "32e9d9cd",
   "metadata": {},
   "outputs": [
    {
     "name": "stdout",
     "output_type": "stream",
     "text": [
      "poincare_w_embed 0.82, 0.01\n",
      "mds 0.77, 0.01\n",
      "tsne 0.71, 0.00\n",
      "umap 0.72, 0.01\n",
      "pca 0.69, 0.00\n"
     ]
    },
    {
     "data": {
      "image/png": "[encoded data removed]",
      "text/plain": [
       "<Figure size 640x480 with 1 Axes>"
      ]
     },
     "metadata": {},
     "output_type": "display_data"
    }
   ],
   "source": [
    "for clust_meth in [\"poincare_w_embed\", \"mds\", \"tsne\", \"umap\", \"pca\"]:\n",
    "    Qnx_mean = []\n",
    "\n",
    "    for seed in range(5):\n",
    "        xx = df_results_proj[(df_results_proj.method==clust_meth)&(df_results_proj.seed==seed)].Qnx.values\n",
    "        xx = xx.squeeze()[()]\n",
    "        Qnx_mean.append(xx.mean())\n",
    "        #print(len(xx))\n",
    "        #fig = px.line(x = range(1,len(xx)+1), y= xx)\n",
    "        if seed == 0:\n",
    "            sns.lineplot(x = range(1,len(xx)+1), y = xx, color = meth_palette[clust_meth], label = clust_meth)\n",
    "        else:\n",
    "            sns.lineplot(x = range(1,len(xx)+1), y = xx, color = meth_palette[clust_meth])#, label = clust_meth)\n",
    "    print(clust_meth, \"%2.2f, %2.2f\"%(np.mean(Qnx_mean), np.std(Qnx_mean)))\n",
    "\n",
    "#plt.legend()\n",
    "plt.xlabel(\"K\")\n",
    "plt.ylabel(\"Qnx\")\n",
    "plt.ylim([0,1.1])\n",
    "plt.title('Poincaré versus other methods using embeddings for the phosphatase protein family')\n",
    "#plt.savefig(\"Qnx_global_kinases.pdf\")\n",
    "plt.show()"
   ]
  },
  {
   "cell_type": "markdown",
   "id": "eeaa78ee",
   "metadata": {},
   "source": [
    "### Evaluate clustering - poincaré vs other methods using poincaré"
   ]
  },
  {
   "cell_type": "code",
   "execution_count": 19,
   "id": "14370aae",
   "metadata": {},
   "outputs": [
    {
     "name": "stdout",
     "output_type": "stream",
     "text": [
      "Local\n",
      "poincare 0.06, 0.01\n",
      "mds 0.54, 0.01\n",
      "tsne 0.83, 0.01\n",
      "umap 0.63, 0.01\n",
      "pca 0.49, 0.00\n",
      "Global\n",
      "poincare 0.55, 0.00\n",
      "mds 0.78, 0.01\n",
      "tsne 0.70, 0.01\n",
      "umap 0.70, 0.02\n",
      "pca 0.71, 0.00\n"
     ]
    }
   ],
   "source": [
    "print(\"Local\")\n",
    "for clust_meth in [\"poincare\", \"mds\", \"tsne\", \"umap\", \"pca\"]:\n",
    "    print(clust_meth, \"%2.2f, %2.2f\"%(df_results_proj[(df_results_proj.method==clust_meth)].Qlocal.values.mean(), df_results_proj[(df_results_proj.method==clust_meth)].Qlocal.values.std()))\n",
    "    \n",
    "print(\"Global\")   \n",
    "for clust_meth in [\"poincare\", \"mds\", \"tsne\", \"umap\", \"pca\"]:\n",
    "    print(clust_meth, \"%2.2f, %2.2f\"%(df_results_proj[(df_results_proj.method==clust_meth)].Qglobal.values.mean(), df_results_proj[(df_results_proj.method==clust_meth)].Qglobal.values.std()))"
   ]
  },
  {
   "cell_type": "markdown",
   "id": "cf1c4555",
   "metadata": {},
   "source": [
    "# \n",
    "# \n",
    "# "
   ]
  },
  {
   "cell_type": "markdown",
   "id": "c44a5395",
   "metadata": {},
   "source": [
    "### Poincaré distances hyperboliques "
   ]
  },
  {
   "cell_type": "code",
   "execution_count": 24,
   "id": "6a046d7d",
   "metadata": {},
   "outputs": [],
   "source": [
    "for cname in ['agglomerative']:#, 'spectral']:#, 'agglomerative', 'kmedoids']:\n",
    "    clusters = detect_cluster(model.distances, n_clusters=nc, clustering_name=cname)#, k=15)\n",
    "    df_embedding[\"clust_poincare\"] = clusters\n",
    "    df_embedding[\"clust_poincare\"] = df_embedding[\"clust_poincare\"].astype(\"string\")"
   ]
  },
  {
   "cell_type": "markdown",
   "id": "0673ef36",
   "metadata": {},
   "source": [
    "### MDS"
   ]
  },
  {
   "cell_type": "code",
   "execution_count": 25,
   "id": "a1dc7620",
   "metadata": {},
   "outputs": [],
   "source": [
    "X_cosine = pairwise_distances(features,metric='cosine')\n",
    "X_mds = MDS(metric=True,dissimilarity='precomputed', random_state = seed).fit_transform(X_cosine)\n",
    "df_embedding[\"x1_mds\"] = X_mds[:,0]\n",
    "df_embedding[\"x2_mds\"] = X_mds[:,1]"
   ]
  },
  {
   "cell_type": "code",
   "execution_count": 26,
   "id": "0dd16047",
   "metadata": {},
   "outputs": [
    {
     "name": "stdout",
     "output_type": "stream",
     "text": [
      "(204, 204)\n"
     ]
    }
   ],
   "source": [
    "D = pairwise_distances(X_mds)\n",
    "print(D.shape)\n",
    "\n",
    "for cname in ['agglomerative']:#,'spectral']:#, 'agglomerative', 'kmedoids']:\n",
    "    clusters = detect_cluster(D, n_clusters=nc, clustering_name=cname)#, k=15)\n",
    "    df_embedding[\"clust_mds\"] = clusters\n",
    "    df_embedding[\"clust_mds\"] = df_embedding[\"clust_mds\"].astype(\"string\")"
   ]
  },
  {
   "cell_type": "markdown",
   "id": "6194b28a",
   "metadata": {},
   "source": [
    "### t-SNE"
   ]
  },
  {
   "cell_type": "code",
   "execution_count": 27,
   "id": "7be536dc",
   "metadata": {},
   "outputs": [],
   "source": [
    "X_tsne = TSNE(random_state = seed, metric = \"cosine\", perplexity=k_neigh).fit_transform(features)\n",
    "df_embedding[\"x1_tsne\"] = X_tsne[:,0]\n",
    "df_embedding[\"x2_tsne\"] = X_tsne[:,1]"
   ]
  },
  {
   "cell_type": "code",
   "execution_count": 28,
   "id": "164184fc",
   "metadata": {},
   "outputs": [],
   "source": [
    "D = pairwise_distances(X_tsne)\n",
    "\n",
    "for cname in ['agglomerative']:#, 'spectral']:#, 'agglomerative', 'kmedoids']:\n",
    "    clusters = detect_cluster(D, n_clusters=nc, clustering_name=cname)#, k=15)\n",
    "    df_embedding[\"clust_tsne\"] = clusters\n",
    "    df_embedding[\"clust_tsne\"] = df_embedding[\"clust_tsne\"].astype(\"string\")"
   ]
  },
  {
   "cell_type": "markdown",
   "id": "10713114",
   "metadata": {},
   "source": [
    "### UMAP"
   ]
  },
  {
   "cell_type": "code",
   "execution_count": 29,
   "id": "394d3894",
   "metadata": {},
   "outputs": [],
   "source": [
    "X_umap = umap.UMAP(random_state = seed, metric = \"cosine\", n_neighbors = k_neigh).fit_transform(features)\n",
    "df_embedding[\"x1_umap\"] = X_umap[:,0]\n",
    "df_embedding[\"x2_umap\"] = X_umap[:,1]"
   ]
  },
  {
   "cell_type": "code",
   "execution_count": 30,
   "id": "dad7f6ad",
   "metadata": {},
   "outputs": [
    {
     "name": "stdout",
     "output_type": "stream",
     "text": [
      "(204, 204)\n"
     ]
    }
   ],
   "source": [
    "D = pairwise_distances(X_umap)\n",
    "print(D.shape)\n",
    "\n",
    "for cname in ['agglomerative']:#, 'spectral']:#, 'agglomerative', 'kmedoids']:\n",
    "    clusters = detect_cluster(D, n_clusters=nc, clustering_name=cname)#, k=15)\n",
    "    df_embedding[\"clust_umap\"] = clusters\n",
    "    df_embedding[\"clust_umap\"] = df_embedding[\"clust_umap\"].astype(\"string\")"
   ]
  },
  {
   "cell_type": "markdown",
   "id": "5371c05f",
   "metadata": {},
   "source": [
    "### PCA"
   ]
  },
  {
   "cell_type": "code",
   "execution_count": 31,
   "id": "de84325d",
   "metadata": {},
   "outputs": [],
   "source": [
    "X_pca = KernelPCA(kernel='cosine', random_state = seed).fit_transform(features)\n",
    "df_embedding[\"x1_pca\"] = X_pca[:,0]\n",
    "df_embedding[\"x2_pca\"] = X_pca[:,1]"
   ]
  },
  {
   "cell_type": "code",
   "execution_count": 32,
   "id": "0887077d",
   "metadata": {},
   "outputs": [
    {
     "name": "stdout",
     "output_type": "stream",
     "text": [
      "(204, 204)\n"
     ]
    }
   ],
   "source": [
    "D = pairwise_distances(X_pca)\n",
    "print(D.shape)\n",
    "\n",
    "\n",
    "for cname in ['agglomerative']:#, 'spectral']:#, 'agglomerative', 'kmedoids']:\n",
    "    clusters = detect_cluster(D, n_clusters=nc, clustering_name=cname)#, k=15)\n",
    "    df_embedding[\"clust_pca\"] = clusters\n",
    "    df_embedding[\"clust_pca\"] = df_embedding[\"clust_pca\"].astype(\"string\")"
   ]
  },
  {
   "cell_type": "markdown",
   "id": "6324832a",
   "metadata": {},
   "source": [
    "## Compare scores for clustering"
   ]
  },
  {
   "cell_type": "code",
   "execution_count": 35,
   "id": "4b37c04e",
   "metadata": {},
   "outputs": [
    {
     "name": "stdout",
     "output_type": "stream",
     "text": [
      "(204, 18) (202, 18)\n",
      "Connecting 6\n",
      "poincare: 0.01 0.22 0.07 0.32 0.82 \n",
      "Connecting 6\n",
      "mds: 0.02 0.28 0.88 0.53 0.77 \n",
      "Connecting 6\n",
      "tsne: 0.01 0.23 0.45 0.82 0.71 \n",
      "Connecting 6\n",
      "umap: 0.03 0.30 0.53 0.64 0.72 \n",
      "Connecting 6\n",
      "pca: 0.01 0.24 0.58 0.49 0.71 \n"
     ]
    }
   ],
   "source": [
    "if remove_outliers:\n",
    "    df_noothers = df_embedding[no_outliers]\n",
    "if remove_others:\n",
    "    df_noothers = df_noothers[df_embedding[true_col]!=other]\n",
    "        \n",
    "print(df_embedding.shape, df_noothers.shape)\n",
    "\n",
    "for clust_meth in [\"poincare\", \"mds\", \"tsne\", \"umap\", \"pca\"]:\n",
    "\n",
    "    ARI, FMS = get_scores(df_noothers[true_col], df_noothers[\"clust_\" + clust_meth])\n",
    "\n",
    "    if clust_meth == \"poincare\":\n",
    "        D = model.distances\n",
    "        Qlocal, Qglobal, Kmax, df_Q = get_quality_metrics(coord_high = features, coord_low = model.coordinates, distance=\"poincare\", setting=\"manifold\", k_neighbours=5)\n",
    "    else:\n",
    "        D = pairwise_distances(df_embedding.loc[:, \"x1_\"+clust_meth:\"x2_\"+clust_meth])\n",
    "        Qlocal, Qglobal, Kmax, df_Q = get_quality_metrics(coord_high = features, coord_low = df_embedding.loc[:, \"x1_\"+clust_meth:\"x2_\"+clust_meth], distance=\"euclidean\", setting=\"manifold\", k_neighbours=5)\n",
    "\n",
    "    corr = scipy.stats.spearmanr(D_raw.ravel(), D.ravel(), axis = 0)\n",
    "    \n",
    "    df = pd.DataFrame({\"method\": [clust_meth], \"seed\": [seed], \"Qlocal\": [Qlocal], \"Qglobal\": [Qglobal], \"true_col\": [true_col], \"ARI\": [ARI], \"FMS\": [FMS]})\n",
    "    df_results = df\n",
    "    print(clust_meth + \": \" + f\"{ARI:.2f} \" + f\"{FMS:.2f} \" + f\"{corr.correlation:.2f} \" + f\"{Qlocal:.2f} \"+f\"{Qglobal:.2f} \")\n",
    "#print(scipy.stats.spearmanr(D_raw.ravel(), D.ravel(), axis = 0))"
   ]
  },
  {
   "cell_type": "code",
   "execution_count": 36,
   "id": "20679a06",
   "metadata": {},
   "outputs": [
    {
     "name": "stdout",
     "output_type": "stream",
     "text": [
      "  method  seed    Qlocal   Qglobal true_col       ARI       FMS\n",
      "0    pca     4  0.486248  0.711172    label  0.008443  0.242526\n"
     ]
    }
   ],
   "source": [
    "print(df_results)"
   ]
  },
  {
   "cell_type": "code",
   "execution_count": 37,
   "id": "19deb2ec",
   "metadata": {},
   "outputs": [
    {
     "name": "stdout",
     "output_type": "stream",
     "text": [
      "Connecting 6\n",
      "0.8235294117647058 0.7106518366473186\n"
     ]
    }
   ],
   "source": [
    "clust_meth = \"tsne\"\n",
    "k_neigh = 5\n",
    "X_tsne = TSNE(random_state = seed, metric = \"cosine\", perplexity=k_neigh).fit_transform(features)\n",
    "df_embedding[\"x1_tsne\"] = X_tsne[:,0]\n",
    "df_embedding[\"x2_tsne\"] = X_tsne[:,1]\n",
    "Qlocalt, Qglobalt, Kmaxt, df_q = get_quality_metrics(coord_high = features, coord_low = df_embedding.loc[:, \"x1_\"+clust_meth:\"x2_\"+clust_meth], distance=\"euclidean\", setting=\"manifold\", k_neighbours=5, my_metric = \"cosine\")\n",
    "print(Qlocalt, Qglobalt)"
   ]
  },
  {
   "cell_type": "code",
   "execution_count": 38,
   "id": "5a801bfb",
   "metadata": {},
   "outputs": [
    {
     "data": {
      "text/html": [
       "<div>\n",
       "<style scoped>\n",
       "    .dataframe tbody tr th:only-of-type {\n",
       "        vertical-align: middle;\n",
       "    }\n",
       "\n",
       "    .dataframe tbody tr th {\n",
       "        vertical-align: top;\n",
       "    }\n",
       "\n",
       "    .dataframe thead th {\n",
       "        text-align: right;\n",
       "    }\n",
       "</style>\n",
       "<table border=\"1\" class=\"dataframe\">\n",
       "  <thead>\n",
       "    <tr style=\"text-align: right;\">\n",
       "      <th></th>\n",
       "      <th>Qnx</th>\n",
       "      <th>Bnx</th>\n",
       "    </tr>\n",
       "  </thead>\n",
       "  <tbody>\n",
       "    <tr>\n",
       "      <th>0</th>\n",
       "      <td>0.823529</td>\n",
       "      <td>0.000000</td>\n",
       "    </tr>\n",
       "    <tr>\n",
       "      <th>1</th>\n",
       "      <td>0.791667</td>\n",
       "      <td>0.007353</td>\n",
       "    </tr>\n",
       "    <tr>\n",
       "      <th>2</th>\n",
       "      <td>0.785948</td>\n",
       "      <td>0.011438</td>\n",
       "    </tr>\n",
       "    <tr>\n",
       "      <th>3</th>\n",
       "      <td>0.786765</td>\n",
       "      <td>0.024510</td>\n",
       "    </tr>\n",
       "    <tr>\n",
       "      <th>4</th>\n",
       "      <td>0.789216</td>\n",
       "      <td>0.022549</td>\n",
       "    </tr>\n",
       "    <tr>\n",
       "      <th>...</th>\n",
       "      <td>...</td>\n",
       "      <td>...</td>\n",
       "    </tr>\n",
       "    <tr>\n",
       "      <th>198</th>\n",
       "      <td>0.981082</td>\n",
       "      <td>0.055646</td>\n",
       "    </tr>\n",
       "    <tr>\n",
       "      <th>199</th>\n",
       "      <td>0.986152</td>\n",
       "      <td>0.055343</td>\n",
       "    </tr>\n",
       "    <tr>\n",
       "      <th>200</th>\n",
       "      <td>0.990050</td>\n",
       "      <td>0.053922</td>\n",
       "    </tr>\n",
       "    <tr>\n",
       "      <th>201</th>\n",
       "      <td>0.995050</td>\n",
       "      <td>0.053655</td>\n",
       "    </tr>\n",
       "    <tr>\n",
       "      <th>202</th>\n",
       "      <td>1.000000</td>\n",
       "      <td>0.053390</td>\n",
       "    </tr>\n",
       "  </tbody>\n",
       "</table>\n",
       "<p>203 rows × 2 columns</p>\n",
       "</div>"
      ],
      "text/plain": [
       "          Qnx       Bnx\n",
       "0    0.823529  0.000000\n",
       "1    0.791667  0.007353\n",
       "2    0.785948  0.011438\n",
       "3    0.786765  0.024510\n",
       "4    0.789216  0.022549\n",
       "..        ...       ...\n",
       "198  0.981082  0.055646\n",
       "199  0.986152  0.055343\n",
       "200  0.990050  0.053922\n",
       "201  0.995050  0.053655\n",
       "202  1.000000  0.053390\n",
       "\n",
       "[203 rows x 2 columns]"
      ]
     },
     "execution_count": 38,
     "metadata": {},
     "output_type": "execute_result"
    }
   ],
   "source": [
    "df_q"
   ]
  },
  {
   "cell_type": "code",
   "execution_count": 39,
   "id": "4f9b0af3",
   "metadata": {},
   "outputs": [
    {
     "name": "stdout",
     "output_type": "stream",
     "text": [
      "Connecting 6\n",
      "0.6420547385620915 0.7236404564034712\n"
     ]
    }
   ],
   "source": [
    "clust_meth = \"umap\"\n",
    "k_neigh = 5\n",
    "X_umap = umap.UMAP(random_state = seed, metric = \"cosine\", n_neighbors = k_neigh).fit_transform(features)\n",
    "df_embedding[\"x1_umap\"] = X_umap[:,0]\n",
    "df_embedding[\"x2_umap\"] = X_umap[:,1]\n",
    "Qlocal, Qglobal, Kmax, df_qumap = get_quality_metrics(coord_high = features, coord_low = df_embedding.loc[:, \"x1_\"+clust_meth:\"x2_\"+clust_meth], distance=\"euclidean\", setting=\"manifold\", k_neighbours=5)\n",
    "print(Qlocal, Qglobal)"
   ]
  },
  {
   "cell_type": "code",
   "execution_count": 40,
   "id": "1312cf4b",
   "metadata": {},
   "outputs": [
    {
     "data": {
      "text/html": [
       "<div>\n",
       "<style scoped>\n",
       "    .dataframe tbody tr th:only-of-type {\n",
       "        vertical-align: middle;\n",
       "    }\n",
       "\n",
       "    .dataframe tbody tr th {\n",
       "        vertical-align: top;\n",
       "    }\n",
       "\n",
       "    .dataframe thead th {\n",
       "        text-align: right;\n",
       "    }\n",
       "</style>\n",
       "<table border=\"1\" class=\"dataframe\">\n",
       "  <thead>\n",
       "    <tr style=\"text-align: right;\">\n",
       "      <th></th>\n",
       "      <th>Qnx</th>\n",
       "      <th>Bnx</th>\n",
       "    </tr>\n",
       "  </thead>\n",
       "  <tbody>\n",
       "    <tr>\n",
       "      <th>0</th>\n",
       "      <td>0.524510</td>\n",
       "      <td>0.000000</td>\n",
       "    </tr>\n",
       "    <tr>\n",
       "      <th>1</th>\n",
       "      <td>0.610294</td>\n",
       "      <td>0.036765</td>\n",
       "    </tr>\n",
       "    <tr>\n",
       "      <th>2</th>\n",
       "      <td>0.699346</td>\n",
       "      <td>0.055556</td>\n",
       "    </tr>\n",
       "    <tr>\n",
       "      <th>3</th>\n",
       "      <td>0.734069</td>\n",
       "      <td>0.051471</td>\n",
       "    </tr>\n",
       "    <tr>\n",
       "      <th>4</th>\n",
       "      <td>0.714706</td>\n",
       "      <td>0.049020</td>\n",
       "    </tr>\n",
       "    <tr>\n",
       "      <th>...</th>\n",
       "      <td>...</td>\n",
       "      <td>...</td>\n",
       "    </tr>\n",
       "    <tr>\n",
       "      <th>198</th>\n",
       "      <td>0.979899</td>\n",
       "      <td>0.079269</td>\n",
       "    </tr>\n",
       "    <tr>\n",
       "      <th>199</th>\n",
       "      <td>0.985000</td>\n",
       "      <td>0.078873</td>\n",
       "    </tr>\n",
       "    <tr>\n",
       "      <th>200</th>\n",
       "      <td>0.990050</td>\n",
       "      <td>0.078480</td>\n",
       "    </tr>\n",
       "    <tr>\n",
       "      <th>201</th>\n",
       "      <td>0.995050</td>\n",
       "      <td>0.078092</td>\n",
       "    </tr>\n",
       "    <tr>\n",
       "      <th>202</th>\n",
       "      <td>1.000000</td>\n",
       "      <td>0.077707</td>\n",
       "    </tr>\n",
       "  </tbody>\n",
       "</table>\n",
       "<p>203 rows × 2 columns</p>\n",
       "</div>"
      ],
      "text/plain": [
       "          Qnx       Bnx\n",
       "0    0.524510  0.000000\n",
       "1    0.610294  0.036765\n",
       "2    0.699346  0.055556\n",
       "3    0.734069  0.051471\n",
       "4    0.714706  0.049020\n",
       "..        ...       ...\n",
       "198  0.979899  0.079269\n",
       "199  0.985000  0.078873\n",
       "200  0.990050  0.078480\n",
       "201  0.995050  0.078092\n",
       "202  1.000000  0.077707\n",
       "\n",
       "[203 rows x 2 columns]"
      ]
     },
     "execution_count": 40,
     "metadata": {},
     "output_type": "execute_result"
    }
   ],
   "source": [
    "df_qumap"
   ]
  },
  {
   "cell_type": "code",
   "execution_count": 41,
   "id": "1f37abcc",
   "metadata": {},
   "outputs": [
    {
     "data": {
      "image/png": "[encoded data removed]",
      "text/plain": [
       "<Figure size 640x480 with 1 Axes>"
      ]
     },
     "metadata": {},
     "output_type": "display_data"
    }
   ],
   "source": [
    "import matplotlib.pyplot as plt\n",
    "%matplotlib inline\n",
    "\n",
    "plt.plot(df_qumap.Qnx, label=\"umap\")\n",
    "plt.plot(df_q.Qnx, label = \"tsne\")\n",
    "plt.legend()\n",
    "plt.show()"
   ]
  },
  {
   "cell_type": "code",
   "execution_count": 42,
   "id": "b731e1c5",
   "metadata": {},
   "outputs": [
    {
     "data": {
      "text/plain": [
       "<matplotlib.collections.PathCollection at 0x165eae7b0>"
      ]
     },
     "execution_count": 42,
     "metadata": {},
     "output_type": "execute_result"
    },
    {
     "data": {
      "image/png": "[encoded data removed]",
      "text/plain": [
       "<Figure size 640x480 with 1 Axes>"
      ]
     },
     "metadata": {},
     "output_type": "display_data"
    }
   ],
   "source": [
    "plt.scatter(X_tsne[:,0], X_tsne[:,1])"
   ]
  },
  {
   "cell_type": "code",
   "execution_count": 43,
   "id": "da75f776",
   "metadata": {},
   "outputs": [
    {
     "data": {
      "text/plain": [
       "<matplotlib.collections.PathCollection at 0x16696a570>"
      ]
     },
     "execution_count": 43,
     "metadata": {},
     "output_type": "execute_result"
    },
    {
     "data": {
      "image/png": "[encoded data removed]",
      "text/plain": [
       "<Figure size 640x480 with 1 Axes>"
      ]
     },
     "metadata": {},
     "output_type": "display_data"
    }
   ],
   "source": [
    "plt.scatter(X_umap[:,0], X_umap[:,1])"
   ]
  },
  {
   "cell_type": "code",
   "execution_count": 45,
   "id": "248caf70",
   "metadata": {},
   "outputs": [
    {
     "name": "stdout",
     "output_type": "stream",
     "text": [
      "Connecting 6\n",
      "0.3216144123830685 0.8192309187188455\n"
     ]
    }
   ],
   "source": [
    "poincare_coord = pd.read_csv(path_embedding, sep=',').sort_values(by=[\"proteins_id\"])\n",
    "poincare_coord = poincare_coord.values[:,:2]\n",
    "poincare_coord = np.array(poincare_coord, dtype = np.float64)\n",
    "\n",
    "model = PoincareMaps(poincare_coord)\n",
    "model.get_distances()\n",
    "clust_meth = \"poincare\"\n",
    "k_neigh = 5\n",
    "Qlocalp, Qglobalp, Kmaxp, df_qumapoin = get_quality_metrics(coord_high = features, coord_low = model.coordinates, distance=\"poincare\", setting=\"manifold\", k_neighbours=5)\n",
    "print(Qlocalp, Qglobalp)"
   ]
  },
  {
   "cell_type": "code",
   "execution_count": 46,
   "id": "e803c5bc",
   "metadata": {},
   "outputs": [
    {
     "data": {
      "text/plain": [
       "<matplotlib.legend.Legend at 0x166c131a0>"
      ]
     },
     "execution_count": 46,
     "metadata": {},
     "output_type": "execute_result"
    },
    {
     "data": {
      "image/png": "[encoded data removed]",
      "text/plain": [
       "<Figure size 640x480 with 1 Axes>"
      ]
     },
     "metadata": {},
     "output_type": "display_data"
    }
   ],
   "source": [
    "import matplotlib.pyplot as plt\n",
    "%matplotlib inline\n",
    "\n",
    "plt.plot(df_qumap.Qnx, label=\"umap\")\n",
    "plt.plot(df_q.Qnx, label = \"tsne\")\n",
    "plt.plot(df_qumapoin.Qnx, label=\"pm\")\n",
    "plt.legend()"
   ]
  },
  {
   "cell_type": "code",
   "execution_count": 47,
   "id": "fd8326f7",
   "metadata": {},
   "outputs": [
    {
     "name": "stdout",
     "output_type": "stream",
     "text": [
      "0.6420547385620915 0.7236404564034712\n",
      "0.8235294117647058 0.7106518366473186\n"
     ]
    }
   ],
   "source": [
    "print(Qlocal, Qglobal)\n",
    "print(Qlocalt, Qglobalt)"
   ]
  },
  {
   "cell_type": "code",
   "execution_count": 48,
   "id": "c50af9e0",
   "metadata": {},
   "outputs": [
    {
     "data": {
      "text/plain": [
       "<matplotlib.legend.Legend at 0x166ec1520>"
      ]
     },
     "execution_count": 48,
     "metadata": {},
     "output_type": "execute_result"
    },
    {
     "data": {
      "image/png": "[encoded data removed]",
      "text/plain": [
       "<Figure size 640x480 with 1 Axes>"
      ]
     },
     "metadata": {},
     "output_type": "display_data"
    }
   ],
   "source": [
    "\n",
    "plt.plot(df_qumap.Qnx, label=\"umap\")\n",
    "plt.legend()"
   ]
  },
  {
   "cell_type": "code",
   "execution_count": 49,
   "id": "477ab158",
   "metadata": {},
   "outputs": [
    {
     "data": {
      "application/vnd.plotly.v1+json": {
       "config": {
        "plotlyServerURL": "https://plot.ly"
       },
       "data": [
        {
         "alignmentgroup": "True",
         "boxpoints": "all",
         "fillcolor": "rgba(255,255,255,0)",
         "hoveron": "points",
         "hovertemplate": "true_col=label<br>method=%{x}<br>ARI=%{y}<extra></extra>",
         "legendgroup": "label",
         "line": {
          "color": "rgba(255,255,255,0)"
         },
         "marker": {
          "color": "#636efa"
         },
         "name": "label",
         "offsetgroup": "label",
         "orientation": "v",
         "pointpos": 0,
         "showlegend": true,
         "type": "box",
         "x": [
          "pca"
         ],
         "x0": " ",
         "xaxis": "x",
         "y": [
          0.008443445632153802
         ],
         "y0": " ",
         "yaxis": "y"
        }
       ],
       "layout": {
        "boxmode": "group",
        "legend": {
         "title": {
          "text": "true_col"
         },
         "tracegroupgap": 0
        },
        "margin": {
         "t": 60
        },
        "template": {
         "data": {
          "bar": [
           {
            "error_x": {
             "color": "#2a3f5f"
            },
            "error_y": {
             "color": "#2a3f5f"
            },
            "marker": {
             "line": {
              "color": "#E5ECF6",
              "width": 0.5
             },
             "pattern": {
              "fillmode": "overlay",
              "size": 10,
              "solidity": 0.2
             }
            },
            "type": "bar"
           }
          ],
          "barpolar": [
           {
            "marker": {
             "line": {
              "color": "#E5ECF6",
              "width": 0.5
             },
             "pattern": {
              "fillmode": "overlay",
              "size": 10,
              "solidity": 0.2
             }
            },
            "type": "barpolar"
           }
          ],
          "carpet": [
           {
            "aaxis": {
             "endlinecolor": "#2a3f5f",
             "gridcolor": "white",
             "linecolor": "white",
             "minorgridcolor": "white",
             "startlinecolor": "#2a3f5f"
            },
            "baxis": {
             "endlinecolor": "#2a3f5f",
             "gridcolor": "white",
             "linecolor": "white",
             "minorgridcolor": "white",
             "startlinecolor": "#2a3f5f"
            },
            "type": "carpet"
           }
          ],
          "choropleth": [
           {
            "colorbar": {
             "outlinewidth": 0,
             "ticks": ""
            },
            "type": "choropleth"
           }
          ],
          "contour": [
           {
            "colorbar": {
             "outlinewidth": 0,
             "ticks": ""
            },
            "colorscale": [
             [
              0,
              "#0d0887"
             ],
             [
              0.1111111111111111,
              "#46039f"
             ],
             [
              0.2222222222222222,
              "#7201a8"
             ],
             [
              0.3333333333333333,
              "#9c179e"
             ],
             [
              0.4444444444444444,
              "#bd3786"
             ],
             [
              0.5555555555555556,
              "#d8576b"
             ],
             [
              0.6666666666666666,
              "#ed7953"
             ],
             [
              0.7777777777777778,
              "#fb9f3a"
             ],
             [
              0.8888888888888888,
              "#fdca26"
             ],
             [
              1,
              "#f0f921"
             ]
            ],
            "type": "contour"
           }
          ],
          "contourcarpet": [
           {
            "colorbar": {
             "outlinewidth": 0,
             "ticks": ""
            },
            "type": "contourcarpet"
           }
          ],
          "heatmap": [
           {
            "colorbar": {
             "outlinewidth": 0,
             "ticks": ""
            },
            "colorscale": [
             [
              0,
              "#0d0887"
             ],
             [
              0.1111111111111111,
              "#46039f"
             ],
             [
              0.2222222222222222,
              "#7201a8"
             ],
             [
              0.3333333333333333,
              "#9c179e"
             ],
             [
              0.4444444444444444,
              "#bd3786"
             ],
             [
              0.5555555555555556,
              "#d8576b"
             ],
             [
              0.6666666666666666,
              "#ed7953"
             ],
             [
              0.7777777777777778,
              "#fb9f3a"
             ],
             [
              0.8888888888888888,
              "#fdca26"
             ],
             [
              1,
              "#f0f921"
             ]
            ],
            "type": "heatmap"
           }
          ],
          "heatmapgl": [
           {
            "colorbar": {
             "outlinewidth": 0,
             "ticks": ""
            },
            "colorscale": [
             [
              0,
              "#0d0887"
             ],
             [
              0.1111111111111111,
              "#46039f"
             ],
             [
              0.2222222222222222,
              "#7201a8"
             ],
             [
              0.3333333333333333,
              "#9c179e"
             ],
             [
              0.4444444444444444,
              "#bd3786"
             ],
             [
              0.5555555555555556,
              "#d8576b"
             ],
             [
              0.6666666666666666,
              "#ed7953"
             ],
             [
              0.7777777777777778,
              "#fb9f3a"
             ],
             [
              0.8888888888888888,
              "#fdca26"
             ],
             [
              1,
              "#f0f921"
             ]
            ],
            "type": "heatmapgl"
           }
          ],
          "histogram": [
           {
            "marker": {
             "pattern": {
              "fillmode": "overlay",
              "size": 10,
              "solidity": 0.2
             }
            },
            "type": "histogram"
           }
          ],
          "histogram2d": [
           {
            "colorbar": {
             "outlinewidth": 0,
             "ticks": ""
            },
            "colorscale": [
             [
              0,
              "#0d0887"
             ],
             [
              0.1111111111111111,
              "#46039f"
             ],
             [
              0.2222222222222222,
              "#7201a8"
             ],
             [
              0.3333333333333333,
              "#9c179e"
             ],
             [
              0.4444444444444444,
              "#bd3786"
             ],
             [
              0.5555555555555556,
              "#d8576b"
             ],
             [
              0.6666666666666666,
              "#ed7953"
             ],
             [
              0.7777777777777778,
              "#fb9f3a"
             ],
             [
              0.8888888888888888,
              "#fdca26"
             ],
             [
              1,
              "#f0f921"
             ]
            ],
            "type": "histogram2d"
           }
          ],
          "histogram2dcontour": [
           {
            "colorbar": {
             "outlinewidth": 0,
             "ticks": ""
            },
            "colorscale": [
             [
              0,
              "#0d0887"
             ],
             [
              0.1111111111111111,
              "#46039f"
             ],
             [
              0.2222222222222222,
              "#7201a8"
             ],
             [
              0.3333333333333333,
              "#9c179e"
             ],
             [
              0.4444444444444444,
              "#bd3786"
             ],
             [
              0.5555555555555556,
              "#d8576b"
             ],
             [
              0.6666666666666666,
              "#ed7953"
             ],
             [
              0.7777777777777778,
              "#fb9f3a"
             ],
             [
              0.8888888888888888,
              "#fdca26"
             ],
             [
              1,
              "#f0f921"
             ]
            ],
            "type": "histogram2dcontour"
           }
          ],
          "mesh3d": [
           {
            "colorbar": {
             "outlinewidth": 0,
             "ticks": ""
            },
            "type": "mesh3d"
           }
          ],
          "parcoords": [
           {
            "line": {
             "colorbar": {
              "outlinewidth": 0,
              "ticks": ""
             }
            },
            "type": "parcoords"
           }
          ],
          "pie": [
           {
            "automargin": true,
            "type": "pie"
           }
          ],
          "scatter": [
           {
            "fillpattern": {
             "fillmode": "overlay",
             "size": 10,
             "solidity": 0.2
            },
            "type": "scatter"
           }
          ],
          "scatter3d": [
           {
            "line": {
             "colorbar": {
              "outlinewidth": 0,
              "ticks": ""
             }
            },
            "marker": {
             "colorbar": {
              "outlinewidth": 0,
              "ticks": ""
             }
            },
            "type": "scatter3d"
           }
          ],
          "scattercarpet": [
           {
            "marker": {
             "colorbar": {
              "outlinewidth": 0,
              "ticks": ""
             }
            },
            "type": "scattercarpet"
           }
          ],
          "scattergeo": [
           {
            "marker": {
             "colorbar": {
              "outlinewidth": 0,
              "ticks": ""
             }
            },
            "type": "scattergeo"
           }
          ],
          "scattergl": [
           {
            "marker": {
             "colorbar": {
              "outlinewidth": 0,
              "ticks": ""
             }
            },
            "type": "scattergl"
           }
          ],
          "scattermapbox": [
           {
            "marker": {
             "colorbar": {
              "outlinewidth": 0,
              "ticks": ""
             }
            },
            "type": "scattermapbox"
           }
          ],
          "scatterpolar": [
           {
            "marker": {
             "colorbar": {
              "outlinewidth": 0,
              "ticks": ""
             }
            },
            "type": "scatterpolar"
           }
          ],
          "scatterpolargl": [
           {
            "marker": {
             "colorbar": {
              "outlinewidth": 0,
              "ticks": ""
             }
            },
            "type": "scatterpolargl"
           }
          ],
          "scatterternary": [
           {
            "marker": {
             "colorbar": {
              "outlinewidth": 0,
              "ticks": ""
             }
            },
            "type": "scatterternary"
           }
          ],
          "surface": [
           {
            "colorbar": {
             "outlinewidth": 0,
             "ticks": ""
            },
            "colorscale": [
             [
              0,
              "#0d0887"
             ],
             [
              0.1111111111111111,
              "#46039f"
             ],
             [
              0.2222222222222222,
              "#7201a8"
             ],
             [
              0.3333333333333333,
              "#9c179e"
             ],
             [
              0.4444444444444444,
              "#bd3786"
             ],
             [
              0.5555555555555556,
              "#d8576b"
             ],
             [
              0.6666666666666666,
              "#ed7953"
             ],
             [
              0.7777777777777778,
              "#fb9f3a"
             ],
             [
              0.8888888888888888,
              "#fdca26"
             ],
             [
              1,
              "#f0f921"
             ]
            ],
            "type": "surface"
           }
          ],
          "table": [
           {
            "cells": {
             "fill": {
              "color": "#EBF0F8"
             },
             "line": {
              "color": "white"
             }
            },
            "header": {
             "fill": {
              "color": "#C8D4E3"
             },
             "line": {
              "color": "white"
             }
            },
            "type": "table"
           }
          ]
         },
         "layout": {
          "annotationdefaults": {
           "arrowcolor": "#2a3f5f",
           "arrowhead": 0,
           "arrowwidth": 1
          },
          "autotypenumbers": "strict",
          "coloraxis": {
           "colorbar": {
            "outlinewidth": 0,
            "ticks": ""
           }
          },
          "colorscale": {
           "diverging": [
            [
             0,
             "#8e0152"
            ],
            [
             0.1,
             "#c51b7d"
            ],
            [
             0.2,
             "#de77ae"
            ],
            [
             0.3,
             "#f1b6da"
            ],
            [
             0.4,
             "#fde0ef"
            ],
            [
             0.5,
             "#f7f7f7"
            ],
            [
             0.6,
             "#e6f5d0"
            ],
            [
             0.7,
             "#b8e186"
            ],
            [
             0.8,
             "#7fbc41"
            ],
            [
             0.9,
             "#4d9221"
            ],
            [
             1,
             "#276419"
            ]
           ],
           "sequential": [
            [
             0,
             "#0d0887"
            ],
            [
             0.1111111111111111,
             "#46039f"
            ],
            [
             0.2222222222222222,
             "#7201a8"
            ],
            [
             0.3333333333333333,
             "#9c179e"
            ],
            [
             0.4444444444444444,
             "#bd3786"
            ],
            [
             0.5555555555555556,
             "#d8576b"
            ],
            [
             0.6666666666666666,
             "#ed7953"
            ],
            [
             0.7777777777777778,
             "#fb9f3a"
            ],
            [
             0.8888888888888888,
             "#fdca26"
            ],
            [
             1,
             "#f0f921"
            ]
           ],
           "sequentialminus": [
            [
             0,
             "#0d0887"
            ],
            [
             0.1111111111111111,
             "#46039f"
            ],
            [
             0.2222222222222222,
             "#7201a8"
            ],
            [
             0.3333333333333333,
             "#9c179e"
            ],
            [
             0.4444444444444444,
             "#bd3786"
            ],
            [
             0.5555555555555556,
             "#d8576b"
            ],
            [
             0.6666666666666666,
             "#ed7953"
            ],
            [
             0.7777777777777778,
             "#fb9f3a"
            ],
            [
             0.8888888888888888,
             "#fdca26"
            ],
            [
             1,
             "#f0f921"
            ]
           ]
          },
          "colorway": [
           "#636efa",
           "#EF553B",
           "#00cc96",
           "#ab63fa",
           "#FFA15A",
           "#19d3f3",
           "#FF6692",
           "#B6E880",
           "#FF97FF",
           "#FECB52"
          ],
          "font": {
           "color": "#2a3f5f"
          },
          "geo": {
           "bgcolor": "white",
           "lakecolor": "white",
           "landcolor": "#E5ECF6",
           "showlakes": true,
           "showland": true,
           "subunitcolor": "white"
          },
          "hoverlabel": {
           "align": "left"
          },
          "hovermode": "closest",
          "mapbox": {
           "style": "light"
          },
          "paper_bgcolor": "white",
          "plot_bgcolor": "#E5ECF6",
          "polar": {
           "angularaxis": {
            "gridcolor": "white",
            "linecolor": "white",
            "ticks": ""
           },
           "bgcolor": "#E5ECF6",
           "radialaxis": {
            "gridcolor": "white",
            "linecolor": "white",
            "ticks": ""
           }
          },
          "scene": {
           "xaxis": {
            "backgroundcolor": "#E5ECF6",
            "gridcolor": "white",
            "gridwidth": 2,
            "linecolor": "white",
            "showbackground": true,
            "ticks": "",
            "zerolinecolor": "white"
           },
           "yaxis": {
            "backgroundcolor": "#E5ECF6",
            "gridcolor": "white",
            "gridwidth": 2,
            "linecolor": "white",
            "showbackground": true,
            "ticks": "",
            "zerolinecolor": "white"
           },
           "zaxis": {
            "backgroundcolor": "#E5ECF6",
            "gridcolor": "white",
            "gridwidth": 2,
            "linecolor": "white",
            "showbackground": true,
            "ticks": "",
            "zerolinecolor": "white"
           }
          },
          "shapedefaults": {
           "line": {
            "color": "#2a3f5f"
           }
          },
          "ternary": {
           "aaxis": {
            "gridcolor": "white",
            "linecolor": "white",
            "ticks": ""
           },
           "baxis": {
            "gridcolor": "white",
            "linecolor": "white",
            "ticks": ""
           },
           "bgcolor": "#E5ECF6",
           "caxis": {
            "gridcolor": "white",
            "linecolor": "white",
            "ticks": ""
           }
          },
          "title": {
           "x": 0.05
          },
          "xaxis": {
           "automargin": true,
           "gridcolor": "white",
           "linecolor": "white",
           "ticks": "",
           "title": {
            "standoff": 15
           },
           "zerolinecolor": "white",
           "zerolinewidth": 2
          },
          "yaxis": {
           "automargin": true,
           "gridcolor": "white",
           "linecolor": "white",
           "ticks": "",
           "title": {
            "standoff": 15
           },
           "zerolinecolor": "white",
           "zerolinewidth": 2
          }
         }
        },
        "xaxis": {
         "anchor": "y",
         "domain": [
          0,
          1
         ],
         "title": {
          "text": "method"
         }
        },
        "yaxis": {
         "anchor": "x",
         "domain": [
          0,
          1
         ],
         "title": {
          "text": "ARI"
         }
        }
       }
      }
     },
     "metadata": {},
     "output_type": "display_data"
    }
   ],
   "source": [
    "fig = px.strip(df_results, x='method', y='ARI', color = \"true_col\")\n",
    "fig.show()"
   ]
  },
  {
   "cell_type": "code",
   "execution_count": 50,
   "id": "ff34ff41",
   "metadata": {},
   "outputs": [
    {
     "data": {
      "application/vnd.plotly.v1+json": {
       "config": {
        "plotlyServerURL": "https://plot.ly"
       },
       "data": [
        {
         "alignmentgroup": "True",
         "boxpoints": "all",
         "fillcolor": "rgba(255,255,255,0)",
         "hoveron": "points",
         "hovertemplate": "true_col=label<br>method=%{x}<br>FMS=%{y}<extra></extra>",
         "legendgroup": "label",
         "line": {
          "color": "rgba(255,255,255,0)"
         },
         "marker": {
          "color": "#636efa"
         },
         "name": "label",
         "offsetgroup": "label",
         "orientation": "v",
         "pointpos": 0,
         "showlegend": true,
         "type": "box",
         "x": [
          "pca"
         ],
         "x0": " ",
         "xaxis": "x",
         "y": [
          0.2425260390827969
         ],
         "y0": " ",
         "yaxis": "y"
        }
       ],
       "layout": {
        "boxmode": "group",
        "legend": {
         "title": {
          "text": "true_col"
         },
         "tracegroupgap": 0
        },
        "margin": {
         "t": 60
        },
        "template": {
         "data": {
          "bar": [
           {
            "error_x": {
             "color": "#2a3f5f"
            },
            "error_y": {
             "color": "#2a3f5f"
            },
            "marker": {
             "line": {
              "color": "#E5ECF6",
              "width": 0.5
             },
             "pattern": {
              "fillmode": "overlay",
              "size": 10,
              "solidity": 0.2
             }
            },
            "type": "bar"
           }
          ],
          "barpolar": [
           {
            "marker": {
             "line": {
              "color": "#E5ECF6",
              "width": 0.5
             },
             "pattern": {
              "fillmode": "overlay",
              "size": 10,
              "solidity": 0.2
             }
            },
            "type": "barpolar"
           }
          ],
          "carpet": [
           {
            "aaxis": {
             "endlinecolor": "#2a3f5f",
             "gridcolor": "white",
             "linecolor": "white",
             "minorgridcolor": "white",
             "startlinecolor": "#2a3f5f"
            },
            "baxis": {
             "endlinecolor": "#2a3f5f",
             "gridcolor": "white",
             "linecolor": "white",
             "minorgridcolor": "white",
             "startlinecolor": "#2a3f5f"
            },
            "type": "carpet"
           }
          ],
          "choropleth": [
           {
            "colorbar": {
             "outlinewidth": 0,
             "ticks": ""
            },
            "type": "choropleth"
           }
          ],
          "contour": [
           {
            "colorbar": {
             "outlinewidth": 0,
             "ticks": ""
            },
            "colorscale": [
             [
              0,
              "#0d0887"
             ],
             [
              0.1111111111111111,
              "#46039f"
             ],
             [
              0.2222222222222222,
              "#7201a8"
             ],
             [
              0.3333333333333333,
              "#9c179e"
             ],
             [
              0.4444444444444444,
              "#bd3786"
             ],
             [
              0.5555555555555556,
              "#d8576b"
             ],
             [
              0.6666666666666666,
              "#ed7953"
             ],
             [
              0.7777777777777778,
              "#fb9f3a"
             ],
             [
              0.8888888888888888,
              "#fdca26"
             ],
             [
              1,
              "#f0f921"
             ]
            ],
            "type": "contour"
           }
          ],
          "contourcarpet": [
           {
            "colorbar": {
             "outlinewidth": 0,
             "ticks": ""
            },
            "type": "contourcarpet"
           }
          ],
          "heatmap": [
           {
            "colorbar": {
             "outlinewidth": 0,
             "ticks": ""
            },
            "colorscale": [
             [
              0,
              "#0d0887"
             ],
             [
              0.1111111111111111,
              "#46039f"
             ],
             [
              0.2222222222222222,
              "#7201a8"
             ],
             [
              0.3333333333333333,
              "#9c179e"
             ],
             [
              0.4444444444444444,
              "#bd3786"
             ],
             [
              0.5555555555555556,
              "#d8576b"
             ],
             [
              0.6666666666666666,
              "#ed7953"
             ],
             [
              0.7777777777777778,
              "#fb9f3a"
             ],
             [
              0.8888888888888888,
              "#fdca26"
             ],
             [
              1,
              "#f0f921"
             ]
            ],
            "type": "heatmap"
           }
          ],
          "heatmapgl": [
           {
            "colorbar": {
             "outlinewidth": 0,
             "ticks": ""
            },
            "colorscale": [
             [
              0,
              "#0d0887"
             ],
             [
              0.1111111111111111,
              "#46039f"
             ],
             [
              0.2222222222222222,
              "#7201a8"
             ],
             [
              0.3333333333333333,
              "#9c179e"
             ],
             [
              0.4444444444444444,
              "#bd3786"
             ],
             [
              0.5555555555555556,
              "#d8576b"
             ],
             [
              0.6666666666666666,
              "#ed7953"
             ],
             [
              0.7777777777777778,
              "#fb9f3a"
             ],
             [
              0.8888888888888888,
              "#fdca26"
             ],
             [
              1,
              "#f0f921"
             ]
            ],
            "type": "heatmapgl"
           }
          ],
          "histogram": [
           {
            "marker": {
             "pattern": {
              "fillmode": "overlay",
              "size": 10,
              "solidity": 0.2
             }
            },
            "type": "histogram"
           }
          ],
          "histogram2d": [
           {
            "colorbar": {
             "outlinewidth": 0,
             "ticks": ""
            },
            "colorscale": [
             [
              0,
              "#0d0887"
             ],
             [
              0.1111111111111111,
              "#46039f"
             ],
             [
              0.2222222222222222,
              "#7201a8"
             ],
             [
              0.3333333333333333,
              "#9c179e"
             ],
             [
              0.4444444444444444,
              "#bd3786"
             ],
             [
              0.5555555555555556,
              "#d8576b"
             ],
             [
              0.6666666666666666,
              "#ed7953"
             ],
             [
              0.7777777777777778,
              "#fb9f3a"
             ],
             [
              0.8888888888888888,
              "#fdca26"
             ],
             [
              1,
              "#f0f921"
             ]
            ],
            "type": "histogram2d"
           }
          ],
          "histogram2dcontour": [
           {
            "colorbar": {
             "outlinewidth": 0,
             "ticks": ""
            },
            "colorscale": [
             [
              0,
              "#0d0887"
             ],
             [
              0.1111111111111111,
              "#46039f"
             ],
             [
              0.2222222222222222,
              "#7201a8"
             ],
             [
              0.3333333333333333,
              "#9c179e"
             ],
             [
              0.4444444444444444,
              "#bd3786"
             ],
             [
              0.5555555555555556,
              "#d8576b"
             ],
             [
              0.6666666666666666,
              "#ed7953"
             ],
             [
              0.7777777777777778,
              "#fb9f3a"
             ],
             [
              0.8888888888888888,
              "#fdca26"
             ],
             [
              1,
              "#f0f921"
             ]
            ],
            "type": "histogram2dcontour"
           }
          ],
          "mesh3d": [
           {
            "colorbar": {
             "outlinewidth": 0,
             "ticks": ""
            },
            "type": "mesh3d"
           }
          ],
          "parcoords": [
           {
            "line": {
             "colorbar": {
              "outlinewidth": 0,
              "ticks": ""
             }
            },
            "type": "parcoords"
           }
          ],
          "pie": [
           {
            "automargin": true,
            "type": "pie"
           }
          ],
          "scatter": [
           {
            "fillpattern": {
             "fillmode": "overlay",
             "size": 10,
             "solidity": 0.2
            },
            "type": "scatter"
           }
          ],
          "scatter3d": [
           {
            "line": {
             "colorbar": {
              "outlinewidth": 0,
              "ticks": ""
             }
            },
            "marker": {
             "colorbar": {
              "outlinewidth": 0,
              "ticks": ""
             }
            },
            "type": "scatter3d"
           }
          ],
          "scattercarpet": [
           {
            "marker": {
             "colorbar": {
              "outlinewidth": 0,
              "ticks": ""
             }
            },
            "type": "scattercarpet"
           }
          ],
          "scattergeo": [
           {
            "marker": {
             "colorbar": {
              "outlinewidth": 0,
              "ticks": ""
             }
            },
            "type": "scattergeo"
           }
          ],
          "scattergl": [
           {
            "marker": {
             "colorbar": {
              "outlinewidth": 0,
              "ticks": ""
             }
            },
            "type": "scattergl"
           }
          ],
          "scattermapbox": [
           {
            "marker": {
             "colorbar": {
              "outlinewidth": 0,
              "ticks": ""
             }
            },
            "type": "scattermapbox"
           }
          ],
          "scatterpolar": [
           {
            "marker": {
             "colorbar": {
              "outlinewidth": 0,
              "ticks": ""
             }
            },
            "type": "scatterpolar"
           }
          ],
          "scatterpolargl": [
           {
            "marker": {
             "colorbar": {
              "outlinewidth": 0,
              "ticks": ""
             }
            },
            "type": "scatterpolargl"
           }
          ],
          "scatterternary": [
           {
            "marker": {
             "colorbar": {
              "outlinewidth": 0,
              "ticks": ""
             }
            },
            "type": "scatterternary"
           }
          ],
          "surface": [
           {
            "colorbar": {
             "outlinewidth": 0,
             "ticks": ""
            },
            "colorscale": [
             [
              0,
              "#0d0887"
             ],
             [
              0.1111111111111111,
              "#46039f"
             ],
             [
              0.2222222222222222,
              "#7201a8"
             ],
             [
              0.3333333333333333,
              "#9c179e"
             ],
             [
              0.4444444444444444,
              "#bd3786"
             ],
             [
              0.5555555555555556,
              "#d8576b"
             ],
             [
              0.6666666666666666,
              "#ed7953"
             ],
             [
              0.7777777777777778,
              "#fb9f3a"
             ],
             [
              0.8888888888888888,
              "#fdca26"
             ],
             [
              1,
              "#f0f921"
             ]
            ],
            "type": "surface"
           }
          ],
          "table": [
           {
            "cells": {
             "fill": {
              "color": "#EBF0F8"
             },
             "line": {
              "color": "white"
             }
            },
            "header": {
             "fill": {
              "color": "#C8D4E3"
             },
             "line": {
              "color": "white"
             }
            },
            "type": "table"
           }
          ]
         },
         "layout": {
          "annotationdefaults": {
           "arrowcolor": "#2a3f5f",
           "arrowhead": 0,
           "arrowwidth": 1
          },
          "autotypenumbers": "strict",
          "coloraxis": {
           "colorbar": {
            "outlinewidth": 0,
            "ticks": ""
           }
          },
          "colorscale": {
           "diverging": [
            [
             0,
             "#8e0152"
            ],
            [
             0.1,
             "#c51b7d"
            ],
            [
             0.2,
             "#de77ae"
            ],
            [
             0.3,
             "#f1b6da"
            ],
            [
             0.4,
             "#fde0ef"
            ],
            [
             0.5,
             "#f7f7f7"
            ],
            [
             0.6,
             "#e6f5d0"
            ],
            [
             0.7,
             "#b8e186"
            ],
            [
             0.8,
             "#7fbc41"
            ],
            [
             0.9,
             "#4d9221"
            ],
            [
             1,
             "#276419"
            ]
           ],
           "sequential": [
            [
             0,
             "#0d0887"
            ],
            [
             0.1111111111111111,
             "#46039f"
            ],
            [
             0.2222222222222222,
             "#7201a8"
            ],
            [
             0.3333333333333333,
             "#9c179e"
            ],
            [
             0.4444444444444444,
             "#bd3786"
            ],
            [
             0.5555555555555556,
             "#d8576b"
            ],
            [
             0.6666666666666666,
             "#ed7953"
            ],
            [
             0.7777777777777778,
             "#fb9f3a"
            ],
            [
             0.8888888888888888,
             "#fdca26"
            ],
            [
             1,
             "#f0f921"
            ]
           ],
           "sequentialminus": [
            [
             0,
             "#0d0887"
            ],
            [
             0.1111111111111111,
             "#46039f"
            ],
            [
             0.2222222222222222,
             "#7201a8"
            ],
            [
             0.3333333333333333,
             "#9c179e"
            ],
            [
             0.4444444444444444,
             "#bd3786"
            ],
            [
             0.5555555555555556,
             "#d8576b"
            ],
            [
             0.6666666666666666,
             "#ed7953"
            ],
            [
             0.7777777777777778,
             "#fb9f3a"
            ],
            [
             0.8888888888888888,
             "#fdca26"
            ],
            [
             1,
             "#f0f921"
            ]
           ]
          },
          "colorway": [
           "#636efa",
           "#EF553B",
           "#00cc96",
           "#ab63fa",
           "#FFA15A",
           "#19d3f3",
           "#FF6692",
           "#B6E880",
           "#FF97FF",
           "#FECB52"
          ],
          "font": {
           "color": "#2a3f5f"
          },
          "geo": {
           "bgcolor": "white",
           "lakecolor": "white",
           "landcolor": "#E5ECF6",
           "showlakes": true,
           "showland": true,
           "subunitcolor": "white"
          },
          "hoverlabel": {
           "align": "left"
          },
          "hovermode": "closest",
          "mapbox": {
           "style": "light"
          },
          "paper_bgcolor": "white",
          "plot_bgcolor": "#E5ECF6",
          "polar": {
           "angularaxis": {
            "gridcolor": "white",
            "linecolor": "white",
            "ticks": ""
           },
           "bgcolor": "#E5ECF6",
           "radialaxis": {
            "gridcolor": "white",
            "linecolor": "white",
            "ticks": ""
           }
          },
          "scene": {
           "xaxis": {
            "backgroundcolor": "#E5ECF6",
            "gridcolor": "white",
            "gridwidth": 2,
            "linecolor": "white",
            "showbackground": true,
            "ticks": "",
            "zerolinecolor": "white"
           },
           "yaxis": {
            "backgroundcolor": "#E5ECF6",
            "gridcolor": "white",
            "gridwidth": 2,
            "linecolor": "white",
            "showbackground": true,
            "ticks": "",
            "zerolinecolor": "white"
           },
           "zaxis": {
            "backgroundcolor": "#E5ECF6",
            "gridcolor": "white",
            "gridwidth": 2,
            "linecolor": "white",
            "showbackground": true,
            "ticks": "",
            "zerolinecolor": "white"
           }
          },
          "shapedefaults": {
           "line": {
            "color": "#2a3f5f"
           }
          },
          "ternary": {
           "aaxis": {
            "gridcolor": "white",
            "linecolor": "white",
            "ticks": ""
           },
           "baxis": {
            "gridcolor": "white",
            "linecolor": "white",
            "ticks": ""
           },
           "bgcolor": "#E5ECF6",
           "caxis": {
            "gridcolor": "white",
            "linecolor": "white",
            "ticks": ""
           }
          },
          "title": {
           "x": 0.05
          },
          "xaxis": {
           "automargin": true,
           "gridcolor": "white",
           "linecolor": "white",
           "ticks": "",
           "title": {
            "standoff": 15
           },
           "zerolinecolor": "white",
           "zerolinewidth": 2
          },
          "yaxis": {
           "automargin": true,
           "gridcolor": "white",
           "linecolor": "white",
           "ticks": "",
           "title": {
            "standoff": 15
           },
           "zerolinecolor": "white",
           "zerolinewidth": 2
          }
         }
        },
        "xaxis": {
         "anchor": "y",
         "domain": [
          0,
          1
         ],
         "title": {
          "text": "method"
         }
        },
        "yaxis": {
         "anchor": "x",
         "domain": [
          0,
          1
         ],
         "title": {
          "text": "FMS"
         }
        }
       }
      }
     },
     "metadata": {},
     "output_type": "display_data"
    }
   ],
   "source": [
    "fig = px.strip(df_results, x='method', y='FMS', color = \"true_col\")\n",
    "fig.show()"
   ]
  },
  {
   "cell_type": "code",
   "execution_count": 51,
   "id": "51566401",
   "metadata": {},
   "outputs": [
    {
     "data": {
      "application/vnd.plotly.v1+json": {
       "config": {
        "plotlyServerURL": "https://plot.ly"
       },
       "data": [
        {
         "alignmentgroup": "True",
         "boxpoints": "all",
         "fillcolor": "rgba(255,255,255,0)",
         "hoveron": "points",
         "hovertemplate": "method=%{x}<br>y=%{y}<extra></extra>",
         "legendgroup": "",
         "line": {
          "color": "rgba(255,255,255,0)"
         },
         "marker": {
          "color": "#636efa"
         },
         "name": "",
         "offsetgroup": "",
         "orientation": "v",
         "pointpos": 0,
         "showlegend": false,
         "type": "box",
         "x": [
          null
         ],
         "x0": " ",
         "xaxis": "x",
         "y": [
          "corr"
         ],
         "y0": " ",
         "yaxis": "y"
        }
       ],
       "layout": {
        "boxmode": "group",
        "legend": {
         "tracegroupgap": 0
        },
        "margin": {
         "t": 60
        },
        "template": {
         "data": {
          "bar": [
           {
            "error_x": {
             "color": "#2a3f5f"
            },
            "error_y": {
             "color": "#2a3f5f"
            },
            "marker": {
             "line": {
              "color": "#E5ECF6",
              "width": 0.5
             },
             "pattern": {
              "fillmode": "overlay",
              "size": 10,
              "solidity": 0.2
             }
            },
            "type": "bar"
           }
          ],
          "barpolar": [
           {
            "marker": {
             "line": {
              "color": "#E5ECF6",
              "width": 0.5
             },
             "pattern": {
              "fillmode": "overlay",
              "size": 10,
              "solidity": 0.2
             }
            },
            "type": "barpolar"
           }
          ],
          "carpet": [
           {
            "aaxis": {
             "endlinecolor": "#2a3f5f",
             "gridcolor": "white",
             "linecolor": "white",
             "minorgridcolor": "white",
             "startlinecolor": "#2a3f5f"
            },
            "baxis": {
             "endlinecolor": "#2a3f5f",
             "gridcolor": "white",
             "linecolor": "white",
             "minorgridcolor": "white",
             "startlinecolor": "#2a3f5f"
            },
            "type": "carpet"
           }
          ],
          "choropleth": [
           {
            "colorbar": {
             "outlinewidth": 0,
             "ticks": ""
            },
            "type": "choropleth"
           }
          ],
          "contour": [
           {
            "colorbar": {
             "outlinewidth": 0,
             "ticks": ""
            },
            "colorscale": [
             [
              0,
              "#0d0887"
             ],
             [
              0.1111111111111111,
              "#46039f"
             ],
             [
              0.2222222222222222,
              "#7201a8"
             ],
             [
              0.3333333333333333,
              "#9c179e"
             ],
             [
              0.4444444444444444,
              "#bd3786"
             ],
             [
              0.5555555555555556,
              "#d8576b"
             ],
             [
              0.6666666666666666,
              "#ed7953"
             ],
             [
              0.7777777777777778,
              "#fb9f3a"
             ],
             [
              0.8888888888888888,
              "#fdca26"
             ],
             [
              1,
              "#f0f921"
             ]
            ],
            "type": "contour"
           }
          ],
          "contourcarpet": [
           {
            "colorbar": {
             "outlinewidth": 0,
             "ticks": ""
            },
            "type": "contourcarpet"
           }
          ],
          "heatmap": [
           {
            "colorbar": {
             "outlinewidth": 0,
             "ticks": ""
            },
            "colorscale": [
             [
              0,
              "#0d0887"
             ],
             [
              0.1111111111111111,
              "#46039f"
             ],
             [
              0.2222222222222222,
              "#7201a8"
             ],
             [
              0.3333333333333333,
              "#9c179e"
             ],
             [
              0.4444444444444444,
              "#bd3786"
             ],
             [
              0.5555555555555556,
              "#d8576b"
             ],
             [
              0.6666666666666666,
              "#ed7953"
             ],
             [
              0.7777777777777778,
              "#fb9f3a"
             ],
             [
              0.8888888888888888,
              "#fdca26"
             ],
             [
              1,
              "#f0f921"
             ]
            ],
            "type": "heatmap"
           }
          ],
          "heatmapgl": [
           {
            "colorbar": {
             "outlinewidth": 0,
             "ticks": ""
            },
            "colorscale": [
             [
              0,
              "#0d0887"
             ],
             [
              0.1111111111111111,
              "#46039f"
             ],
             [
              0.2222222222222222,
              "#7201a8"
             ],
             [
              0.3333333333333333,
              "#9c179e"
             ],
             [
              0.4444444444444444,
              "#bd3786"
             ],
             [
              0.5555555555555556,
              "#d8576b"
             ],
             [
              0.6666666666666666,
              "#ed7953"
             ],
             [
              0.7777777777777778,
              "#fb9f3a"
             ],
             [
              0.8888888888888888,
              "#fdca26"
             ],
             [
              1,
              "#f0f921"
             ]
            ],
            "type": "heatmapgl"
           }
          ],
          "histogram": [
           {
            "marker": {
             "pattern": {
              "fillmode": "overlay",
              "size": 10,
              "solidity": 0.2
             }
            },
            "type": "histogram"
           }
          ],
          "histogram2d": [
           {
            "colorbar": {
             "outlinewidth": 0,
             "ticks": ""
            },
            "colorscale": [
             [
              0,
              "#0d0887"
             ],
             [
              0.1111111111111111,
              "#46039f"
             ],
             [
              0.2222222222222222,
              "#7201a8"
             ],
             [
              0.3333333333333333,
              "#9c179e"
             ],
             [
              0.4444444444444444,
              "#bd3786"
             ],
             [
              0.5555555555555556,
              "#d8576b"
             ],
             [
              0.6666666666666666,
              "#ed7953"
             ],
             [
              0.7777777777777778,
              "#fb9f3a"
             ],
             [
              0.8888888888888888,
              "#fdca26"
             ],
             [
              1,
              "#f0f921"
             ]
            ],
            "type": "histogram2d"
           }
          ],
          "histogram2dcontour": [
           {
            "colorbar": {
             "outlinewidth": 0,
             "ticks": ""
            },
            "colorscale": [
             [
              0,
              "#0d0887"
             ],
             [
              0.1111111111111111,
              "#46039f"
             ],
             [
              0.2222222222222222,
              "#7201a8"
             ],
             [
              0.3333333333333333,
              "#9c179e"
             ],
             [
              0.4444444444444444,
              "#bd3786"
             ],
             [
              0.5555555555555556,
              "#d8576b"
             ],
             [
              0.6666666666666666,
              "#ed7953"
             ],
             [
              0.7777777777777778,
              "#fb9f3a"
             ],
             [
              0.8888888888888888,
              "#fdca26"
             ],
             [
              1,
              "#f0f921"
             ]
            ],
            "type": "histogram2dcontour"
           }
          ],
          "mesh3d": [
           {
            "colorbar": {
             "outlinewidth": 0,
             "ticks": ""
            },
            "type": "mesh3d"
           }
          ],
          "parcoords": [
           {
            "line": {
             "colorbar": {
              "outlinewidth": 0,
              "ticks": ""
             }
            },
            "type": "parcoords"
           }
          ],
          "pie": [
           {
            "automargin": true,
            "type": "pie"
           }
          ],
          "scatter": [
           {
            "fillpattern": {
             "fillmode": "overlay",
             "size": 10,
             "solidity": 0.2
            },
            "type": "scatter"
           }
          ],
          "scatter3d": [
           {
            "line": {
             "colorbar": {
              "outlinewidth": 0,
              "ticks": ""
             }
            },
            "marker": {
             "colorbar": {
              "outlinewidth": 0,
              "ticks": ""
             }
            },
            "type": "scatter3d"
           }
          ],
          "scattercarpet": [
           {
            "marker": {
             "colorbar": {
              "outlinewidth": 0,
              "ticks": ""
             }
            },
            "type": "scattercarpet"
           }
          ],
          "scattergeo": [
           {
            "marker": {
             "colorbar": {
              "outlinewidth": 0,
              "ticks": ""
             }
            },
            "type": "scattergeo"
           }
          ],
          "scattergl": [
           {
            "marker": {
             "colorbar": {
              "outlinewidth": 0,
              "ticks": ""
             }
            },
            "type": "scattergl"
           }
          ],
          "scattermapbox": [
           {
            "marker": {
             "colorbar": {
              "outlinewidth": 0,
              "ticks": ""
             }
            },
            "type": "scattermapbox"
           }
          ],
          "scatterpolar": [
           {
            "marker": {
             "colorbar": {
              "outlinewidth": 0,
              "ticks": ""
             }
            },
            "type": "scatterpolar"
           }
          ],
          "scatterpolargl": [
           {
            "marker": {
             "colorbar": {
              "outlinewidth": 0,
              "ticks": ""
             }
            },
            "type": "scatterpolargl"
           }
          ],
          "scatterternary": [
           {
            "marker": {
             "colorbar": {
              "outlinewidth": 0,
              "ticks": ""
             }
            },
            "type": "scatterternary"
           }
          ],
          "surface": [
           {
            "colorbar": {
             "outlinewidth": 0,
             "ticks": ""
            },
            "colorscale": [
             [
              0,
              "#0d0887"
             ],
             [
              0.1111111111111111,
              "#46039f"
             ],
             [
              0.2222222222222222,
              "#7201a8"
             ],
             [
              0.3333333333333333,
              "#9c179e"
             ],
             [
              0.4444444444444444,
              "#bd3786"
             ],
             [
              0.5555555555555556,
              "#d8576b"
             ],
             [
              0.6666666666666666,
              "#ed7953"
             ],
             [
              0.7777777777777778,
              "#fb9f3a"
             ],
             [
              0.8888888888888888,
              "#fdca26"
             ],
             [
              1,
              "#f0f921"
             ]
            ],
            "type": "surface"
           }
          ],
          "table": [
           {
            "cells": {
             "fill": {
              "color": "#EBF0F8"
             },
             "line": {
              "color": "white"
             }
            },
            "header": {
             "fill": {
              "color": "#C8D4E3"
             },
             "line": {
              "color": "white"
             }
            },
            "type": "table"
           }
          ]
         },
         "layout": {
          "annotationdefaults": {
           "arrowcolor": "#2a3f5f",
           "arrowhead": 0,
           "arrowwidth": 1
          },
          "autotypenumbers": "strict",
          "coloraxis": {
           "colorbar": {
            "outlinewidth": 0,
            "ticks": ""
           }
          },
          "colorscale": {
           "diverging": [
            [
             0,
             "#8e0152"
            ],
            [
             0.1,
             "#c51b7d"
            ],
            [
             0.2,
             "#de77ae"
            ],
            [
             0.3,
             "#f1b6da"
            ],
            [
             0.4,
             "#fde0ef"
            ],
            [
             0.5,
             "#f7f7f7"
            ],
            [
             0.6,
             "#e6f5d0"
            ],
            [
             0.7,
             "#b8e186"
            ],
            [
             0.8,
             "#7fbc41"
            ],
            [
             0.9,
             "#4d9221"
            ],
            [
             1,
             "#276419"
            ]
           ],
           "sequential": [
            [
             0,
             "#0d0887"
            ],
            [
             0.1111111111111111,
             "#46039f"
            ],
            [
             0.2222222222222222,
             "#7201a8"
            ],
            [
             0.3333333333333333,
             "#9c179e"
            ],
            [
             0.4444444444444444,
             "#bd3786"
            ],
            [
             0.5555555555555556,
             "#d8576b"
            ],
            [
             0.6666666666666666,
             "#ed7953"
            ],
            [
             0.7777777777777778,
             "#fb9f3a"
            ],
            [
             0.8888888888888888,
             "#fdca26"
            ],
            [
             1,
             "#f0f921"
            ]
           ],
           "sequentialminus": [
            [
             0,
             "#0d0887"
            ],
            [
             0.1111111111111111,
             "#46039f"
            ],
            [
             0.2222222222222222,
             "#7201a8"
            ],
            [
             0.3333333333333333,
             "#9c179e"
            ],
            [
             0.4444444444444444,
             "#bd3786"
            ],
            [
             0.5555555555555556,
             "#d8576b"
            ],
            [
             0.6666666666666666,
             "#ed7953"
            ],
            [
             0.7777777777777778,
             "#fb9f3a"
            ],
            [
             0.8888888888888888,
             "#fdca26"
            ],
            [
             1,
             "#f0f921"
            ]
           ]
          },
          "colorway": [
           "#636efa",
           "#EF553B",
           "#00cc96",
           "#ab63fa",
           "#FFA15A",
           "#19d3f3",
           "#FF6692",
           "#B6E880",
           "#FF97FF",
           "#FECB52"
          ],
          "font": {
           "color": "#2a3f5f"
          },
          "geo": {
           "bgcolor": "white",
           "lakecolor": "white",
           "landcolor": "#E5ECF6",
           "showlakes": true,
           "showland": true,
           "subunitcolor": "white"
          },
          "hoverlabel": {
           "align": "left"
          },
          "hovermode": "closest",
          "mapbox": {
           "style": "light"
          },
          "paper_bgcolor": "white",
          "plot_bgcolor": "#E5ECF6",
          "polar": {
           "angularaxis": {
            "gridcolor": "white",
            "linecolor": "white",
            "ticks": ""
           },
           "bgcolor": "#E5ECF6",
           "radialaxis": {
            "gridcolor": "white",
            "linecolor": "white",
            "ticks": ""
           }
          },
          "scene": {
           "xaxis": {
            "backgroundcolor": "#E5ECF6",
            "gridcolor": "white",
            "gridwidth": 2,
            "linecolor": "white",
            "showbackground": true,
            "ticks": "",
            "zerolinecolor": "white"
           },
           "yaxis": {
            "backgroundcolor": "#E5ECF6",
            "gridcolor": "white",
            "gridwidth": 2,
            "linecolor": "white",
            "showbackground": true,
            "ticks": "",
            "zerolinecolor": "white"
           },
           "zaxis": {
            "backgroundcolor": "#E5ECF6",
            "gridcolor": "white",
            "gridwidth": 2,
            "linecolor": "white",
            "showbackground": true,
            "ticks": "",
            "zerolinecolor": "white"
           }
          },
          "shapedefaults": {
           "line": {
            "color": "#2a3f5f"
           }
          },
          "ternary": {
           "aaxis": {
            "gridcolor": "white",
            "linecolor": "white",
            "ticks": ""
           },
           "baxis": {
            "gridcolor": "white",
            "linecolor": "white",
            "ticks": ""
           },
           "bgcolor": "#E5ECF6",
           "caxis": {
            "gridcolor": "white",
            "linecolor": "white",
            "ticks": ""
           }
          },
          "title": {
           "x": 0.05
          },
          "xaxis": {
           "automargin": true,
           "gridcolor": "white",
           "linecolor": "white",
           "ticks": "",
           "title": {
            "standoff": 15
           },
           "zerolinecolor": "white",
           "zerolinewidth": 2
          },
          "yaxis": {
           "automargin": true,
           "gridcolor": "white",
           "linecolor": "white",
           "ticks": "",
           "title": {
            "standoff": 15
           },
           "zerolinecolor": "white",
           "zerolinewidth": 2
          }
         }
        },
        "xaxis": {
         "anchor": "y",
         "domain": [
          0,
          1
         ],
         "title": {
          "text": "method"
         }
        },
        "yaxis": {
         "anchor": "x",
         "domain": [
          0,
          1
         ],
         "title": {
          "text": "y"
         }
        }
       }
      }
     },
     "metadata": {},
     "output_type": "display_data"
    }
   ],
   "source": [
    "fig = px.strip(df_results[df_results.true_col==\"tree1\"], x='method', y=['corr'])\n",
    "fig.show()"
   ]
  },
  {
   "cell_type": "code",
   "execution_count": 52,
   "id": "7875ba12",
   "metadata": {},
   "outputs": [
    {
     "data": {
      "application/vnd.plotly.v1+json": {
       "config": {
        "plotlyServerURL": "https://plot.ly"
       },
       "data": [
        {
         "alignmentgroup": "True",
         "boxpoints": "all",
         "fillcolor": "rgba(255,255,255,0)",
         "hoveron": "points",
         "hovertemplate": "method=%{x}<br>value=%{y}<extra></extra>",
         "legendgroup": "",
         "line": {
          "color": "rgba(255,255,255,0)"
         },
         "marker": {
          "color": "#636efa"
         },
         "name": "",
         "offsetgroup": "",
         "orientation": "v",
         "pointpos": 0,
         "showlegend": false,
         "type": "box",
         "x": [],
         "x0": " ",
         "xaxis": "x",
         "y": [],
         "y0": " ",
         "yaxis": "y"
        }
       ],
       "layout": {
        "boxmode": "group",
        "legend": {
         "tracegroupgap": 0
        },
        "margin": {
         "t": 60
        },
        "template": {
         "data": {
          "bar": [
           {
            "error_x": {
             "color": "#2a3f5f"
            },
            "error_y": {
             "color": "#2a3f5f"
            },
            "marker": {
             "line": {
              "color": "#E5ECF6",
              "width": 0.5
             },
             "pattern": {
              "fillmode": "overlay",
              "size": 10,
              "solidity": 0.2
             }
            },
            "type": "bar"
           }
          ],
          "barpolar": [
           {
            "marker": {
             "line": {
              "color": "#E5ECF6",
              "width": 0.5
             },
             "pattern": {
              "fillmode": "overlay",
              "size": 10,
              "solidity": 0.2
             }
            },
            "type": "barpolar"
           }
          ],
          "carpet": [
           {
            "aaxis": {
             "endlinecolor": "#2a3f5f",
             "gridcolor": "white",
             "linecolor": "white",
             "minorgridcolor": "white",
             "startlinecolor": "#2a3f5f"
            },
            "baxis": {
             "endlinecolor": "#2a3f5f",
             "gridcolor": "white",
             "linecolor": "white",
             "minorgridcolor": "white",
             "startlinecolor": "#2a3f5f"
            },
            "type": "carpet"
           }
          ],
          "choropleth": [
           {
            "colorbar": {
             "outlinewidth": 0,
             "ticks": ""
            },
            "type": "choropleth"
           }
          ],
          "contour": [
           {
            "colorbar": {
             "outlinewidth": 0,
             "ticks": ""
            },
            "colorscale": [
             [
              0,
              "#0d0887"
             ],
             [
              0.1111111111111111,
              "#46039f"
             ],
             [
              0.2222222222222222,
              "#7201a8"
             ],
             [
              0.3333333333333333,
              "#9c179e"
             ],
             [
              0.4444444444444444,
              "#bd3786"
             ],
             [
              0.5555555555555556,
              "#d8576b"
             ],
             [
              0.6666666666666666,
              "#ed7953"
             ],
             [
              0.7777777777777778,
              "#fb9f3a"
             ],
             [
              0.8888888888888888,
              "#fdca26"
             ],
             [
              1,
              "#f0f921"
             ]
            ],
            "type": "contour"
           }
          ],
          "contourcarpet": [
           {
            "colorbar": {
             "outlinewidth": 0,
             "ticks": ""
            },
            "type": "contourcarpet"
           }
          ],
          "heatmap": [
           {
            "colorbar": {
             "outlinewidth": 0,
             "ticks": ""
            },
            "colorscale": [
             [
              0,
              "#0d0887"
             ],
             [
              0.1111111111111111,
              "#46039f"
             ],
             [
              0.2222222222222222,
              "#7201a8"
             ],
             [
              0.3333333333333333,
              "#9c179e"
             ],
             [
              0.4444444444444444,
              "#bd3786"
             ],
             [
              0.5555555555555556,
              "#d8576b"
             ],
             [
              0.6666666666666666,
              "#ed7953"
             ],
             [
              0.7777777777777778,
              "#fb9f3a"
             ],
             [
              0.8888888888888888,
              "#fdca26"
             ],
             [
              1,
              "#f0f921"
             ]
            ],
            "type": "heatmap"
           }
          ],
          "heatmapgl": [
           {
            "colorbar": {
             "outlinewidth": 0,
             "ticks": ""
            },
            "colorscale": [
             [
              0,
              "#0d0887"
             ],
             [
              0.1111111111111111,
              "#46039f"
             ],
             [
              0.2222222222222222,
              "#7201a8"
             ],
             [
              0.3333333333333333,
              "#9c179e"
             ],
             [
              0.4444444444444444,
              "#bd3786"
             ],
             [
              0.5555555555555556,
              "#d8576b"
             ],
             [
              0.6666666666666666,
              "#ed7953"
             ],
             [
              0.7777777777777778,
              "#fb9f3a"
             ],
             [
              0.8888888888888888,
              "#fdca26"
             ],
             [
              1,
              "#f0f921"
             ]
            ],
            "type": "heatmapgl"
           }
          ],
          "histogram": [
           {
            "marker": {
             "pattern": {
              "fillmode": "overlay",
              "size": 10,
              "solidity": 0.2
             }
            },
            "type": "histogram"
           }
          ],
          "histogram2d": [
           {
            "colorbar": {
             "outlinewidth": 0,
             "ticks": ""
            },
            "colorscale": [
             [
              0,
              "#0d0887"
             ],
             [
              0.1111111111111111,
              "#46039f"
             ],
             [
              0.2222222222222222,
              "#7201a8"
             ],
             [
              0.3333333333333333,
              "#9c179e"
             ],
             [
              0.4444444444444444,
              "#bd3786"
             ],
             [
              0.5555555555555556,
              "#d8576b"
             ],
             [
              0.6666666666666666,
              "#ed7953"
             ],
             [
              0.7777777777777778,
              "#fb9f3a"
             ],
             [
              0.8888888888888888,
              "#fdca26"
             ],
             [
              1,
              "#f0f921"
             ]
            ],
            "type": "histogram2d"
           }
          ],
          "histogram2dcontour": [
           {
            "colorbar": {
             "outlinewidth": 0,
             "ticks": ""
            },
            "colorscale": [
             [
              0,
              "#0d0887"
             ],
             [
              0.1111111111111111,
              "#46039f"
             ],
             [
              0.2222222222222222,
              "#7201a8"
             ],
             [
              0.3333333333333333,
              "#9c179e"
             ],
             [
              0.4444444444444444,
              "#bd3786"
             ],
             [
              0.5555555555555556,
              "#d8576b"
             ],
             [
              0.6666666666666666,
              "#ed7953"
             ],
             [
              0.7777777777777778,
              "#fb9f3a"
             ],
             [
              0.8888888888888888,
              "#fdca26"
             ],
             [
              1,
              "#f0f921"
             ]
            ],
            "type": "histogram2dcontour"
           }
          ],
          "mesh3d": [
           {
            "colorbar": {
             "outlinewidth": 0,
             "ticks": ""
            },
            "type": "mesh3d"
           }
          ],
          "parcoords": [
           {
            "line": {
             "colorbar": {
              "outlinewidth": 0,
              "ticks": ""
             }
            },
            "type": "parcoords"
           }
          ],
          "pie": [
           {
            "automargin": true,
            "type": "pie"
           }
          ],
          "scatter": [
           {
            "fillpattern": {
             "fillmode": "overlay",
             "size": 10,
             "solidity": 0.2
            },
            "type": "scatter"
           }
          ],
          "scatter3d": [
           {
            "line": {
             "colorbar": {
              "outlinewidth": 0,
              "ticks": ""
             }
            },
            "marker": {
             "colorbar": {
              "outlinewidth": 0,
              "ticks": ""
             }
            },
            "type": "scatter3d"
           }
          ],
          "scattercarpet": [
           {
            "marker": {
             "colorbar": {
              "outlinewidth": 0,
              "ticks": ""
             }
            },
            "type": "scattercarpet"
           }
          ],
          "scattergeo": [
           {
            "marker": {
             "colorbar": {
              "outlinewidth": 0,
              "ticks": ""
             }
            },
            "type": "scattergeo"
           }
          ],
          "scattergl": [
           {
            "marker": {
             "colorbar": {
              "outlinewidth": 0,
              "ticks": ""
             }
            },
            "type": "scattergl"
           }
          ],
          "scattermapbox": [
           {
            "marker": {
             "colorbar": {
              "outlinewidth": 0,
              "ticks": ""
             }
            },
            "type": "scattermapbox"
           }
          ],
          "scatterpolar": [
           {
            "marker": {
             "colorbar": {
              "outlinewidth": 0,
              "ticks": ""
             }
            },
            "type": "scatterpolar"
           }
          ],
          "scatterpolargl": [
           {
            "marker": {
             "colorbar": {
              "outlinewidth": 0,
              "ticks": ""
             }
            },
            "type": "scatterpolargl"
           }
          ],
          "scatterternary": [
           {
            "marker": {
             "colorbar": {
              "outlinewidth": 0,
              "ticks": ""
             }
            },
            "type": "scatterternary"
           }
          ],
          "surface": [
           {
            "colorbar": {
             "outlinewidth": 0,
             "ticks": ""
            },
            "colorscale": [
             [
              0,
              "#0d0887"
             ],
             [
              0.1111111111111111,
              "#46039f"
             ],
             [
              0.2222222222222222,
              "#7201a8"
             ],
             [
              0.3333333333333333,
              "#9c179e"
             ],
             [
              0.4444444444444444,
              "#bd3786"
             ],
             [
              0.5555555555555556,
              "#d8576b"
             ],
             [
              0.6666666666666666,
              "#ed7953"
             ],
             [
              0.7777777777777778,
              "#fb9f3a"
             ],
             [
              0.8888888888888888,
              "#fdca26"
             ],
             [
              1,
              "#f0f921"
             ]
            ],
            "type": "surface"
           }
          ],
          "table": [
           {
            "cells": {
             "fill": {
              "color": "#EBF0F8"
             },
             "line": {
              "color": "white"
             }
            },
            "header": {
             "fill": {
              "color": "#C8D4E3"
             },
             "line": {
              "color": "white"
             }
            },
            "type": "table"
           }
          ]
         },
         "layout": {
          "annotationdefaults": {
           "arrowcolor": "#2a3f5f",
           "arrowhead": 0,
           "arrowwidth": 1
          },
          "autotypenumbers": "strict",
          "coloraxis": {
           "colorbar": {
            "outlinewidth": 0,
            "ticks": ""
           }
          },
          "colorscale": {
           "diverging": [
            [
             0,
             "#8e0152"
            ],
            [
             0.1,
             "#c51b7d"
            ],
            [
             0.2,
             "#de77ae"
            ],
            [
             0.3,
             "#f1b6da"
            ],
            [
             0.4,
             "#fde0ef"
            ],
            [
             0.5,
             "#f7f7f7"
            ],
            [
             0.6,
             "#e6f5d0"
            ],
            [
             0.7,
             "#b8e186"
            ],
            [
             0.8,
             "#7fbc41"
            ],
            [
             0.9,
             "#4d9221"
            ],
            [
             1,
             "#276419"
            ]
           ],
           "sequential": [
            [
             0,
             "#0d0887"
            ],
            [
             0.1111111111111111,
             "#46039f"
            ],
            [
             0.2222222222222222,
             "#7201a8"
            ],
            [
             0.3333333333333333,
             "#9c179e"
            ],
            [
             0.4444444444444444,
             "#bd3786"
            ],
            [
             0.5555555555555556,
             "#d8576b"
            ],
            [
             0.6666666666666666,
             "#ed7953"
            ],
            [
             0.7777777777777778,
             "#fb9f3a"
            ],
            [
             0.8888888888888888,
             "#fdca26"
            ],
            [
             1,
             "#f0f921"
            ]
           ],
           "sequentialminus": [
            [
             0,
             "#0d0887"
            ],
            [
             0.1111111111111111,
             "#46039f"
            ],
            [
             0.2222222222222222,
             "#7201a8"
            ],
            [
             0.3333333333333333,
             "#9c179e"
            ],
            [
             0.4444444444444444,
             "#bd3786"
            ],
            [
             0.5555555555555556,
             "#d8576b"
            ],
            [
             0.6666666666666666,
             "#ed7953"
            ],
            [
             0.7777777777777778,
             "#fb9f3a"
            ],
            [
             0.8888888888888888,
             "#fdca26"
            ],
            [
             1,
             "#f0f921"
            ]
           ]
          },
          "colorway": [
           "#636efa",
           "#EF553B",
           "#00cc96",
           "#ab63fa",
           "#FFA15A",
           "#19d3f3",
           "#FF6692",
           "#B6E880",
           "#FF97FF",
           "#FECB52"
          ],
          "font": {
           "color": "#2a3f5f"
          },
          "geo": {
           "bgcolor": "white",
           "lakecolor": "white",
           "landcolor": "#E5ECF6",
           "showlakes": true,
           "showland": true,
           "subunitcolor": "white"
          },
          "hoverlabel": {
           "align": "left"
          },
          "hovermode": "closest",
          "mapbox": {
           "style": "light"
          },
          "paper_bgcolor": "white",
          "plot_bgcolor": "#E5ECF6",
          "polar": {
           "angularaxis": {
            "gridcolor": "white",
            "linecolor": "white",
            "ticks": ""
           },
           "bgcolor": "#E5ECF6",
           "radialaxis": {
            "gridcolor": "white",
            "linecolor": "white",
            "ticks": ""
           }
          },
          "scene": {
           "xaxis": {
            "backgroundcolor": "#E5ECF6",
            "gridcolor": "white",
            "gridwidth": 2,
            "linecolor": "white",
            "showbackground": true,
            "ticks": "",
            "zerolinecolor": "white"
           },
           "yaxis": {
            "backgroundcolor": "#E5ECF6",
            "gridcolor": "white",
            "gridwidth": 2,
            "linecolor": "white",
            "showbackground": true,
            "ticks": "",
            "zerolinecolor": "white"
           },
           "zaxis": {
            "backgroundcolor": "#E5ECF6",
            "gridcolor": "white",
            "gridwidth": 2,
            "linecolor": "white",
            "showbackground": true,
            "ticks": "",
            "zerolinecolor": "white"
           }
          },
          "shapedefaults": {
           "line": {
            "color": "#2a3f5f"
           }
          },
          "ternary": {
           "aaxis": {
            "gridcolor": "white",
            "linecolor": "white",
            "ticks": ""
           },
           "baxis": {
            "gridcolor": "white",
            "linecolor": "white",
            "ticks": ""
           },
           "bgcolor": "#E5ECF6",
           "caxis": {
            "gridcolor": "white",
            "linecolor": "white",
            "ticks": ""
           }
          },
          "title": {
           "x": 0.05
          },
          "xaxis": {
           "automargin": true,
           "gridcolor": "white",
           "linecolor": "white",
           "ticks": "",
           "title": {
            "standoff": 15
           },
           "zerolinecolor": "white",
           "zerolinewidth": 2
          },
          "yaxis": {
           "automargin": true,
           "gridcolor": "white",
           "linecolor": "white",
           "ticks": "",
           "title": {
            "standoff": 15
           },
           "zerolinecolor": "white",
           "zerolinewidth": 2
          }
         }
        },
        "xaxis": {
         "anchor": "y",
         "domain": [
          0,
          1
         ],
         "title": {
          "text": "method"
         }
        },
        "yaxis": {
         "anchor": "x",
         "domain": [
          0,
          1
         ],
         "title": {
          "text": "value"
         }
        }
       }
      }
     },
     "metadata": {},
     "output_type": "display_data"
    }
   ],
   "source": [
    "fig = px.strip(df_results[df_results.true_col==\"tree1\"], x='method', y=['Qglobal'])\n",
    "fig.show()"
   ]
  },
  {
   "cell_type": "code",
   "execution_count": 53,
   "id": "a5125b2e",
   "metadata": {},
   "outputs": [
    {
     "data": {
      "application/vnd.plotly.v1+json": {
       "config": {
        "plotlyServerURL": "https://plot.ly"
       },
       "data": [
        {
         "alignmentgroup": "True",
         "boxpoints": "all",
         "fillcolor": "rgba(255,255,255,0)",
         "hoveron": "points",
         "hovertemplate": "method=%{x}<br>value=%{y}<extra></extra>",
         "legendgroup": "",
         "line": {
          "color": "rgba(255,255,255,0)"
         },
         "marker": {
          "color": "#636efa"
         },
         "name": "",
         "offsetgroup": "",
         "orientation": "v",
         "pointpos": 0,
         "showlegend": false,
         "type": "box",
         "x": [],
         "x0": " ",
         "xaxis": "x",
         "y": [],
         "y0": " ",
         "yaxis": "y"
        }
       ],
       "layout": {
        "boxmode": "group",
        "legend": {
         "tracegroupgap": 0
        },
        "margin": {
         "t": 60
        },
        "template": {
         "data": {
          "bar": [
           {
            "error_x": {
             "color": "#2a3f5f"
            },
            "error_y": {
             "color": "#2a3f5f"
            },
            "marker": {
             "line": {
              "color": "#E5ECF6",
              "width": 0.5
             },
             "pattern": {
              "fillmode": "overlay",
              "size": 10,
              "solidity": 0.2
             }
            },
            "type": "bar"
           }
          ],
          "barpolar": [
           {
            "marker": {
             "line": {
              "color": "#E5ECF6",
              "width": 0.5
             },
             "pattern": {
              "fillmode": "overlay",
              "size": 10,
              "solidity": 0.2
             }
            },
            "type": "barpolar"
           }
          ],
          "carpet": [
           {
            "aaxis": {
             "endlinecolor": "#2a3f5f",
             "gridcolor": "white",
             "linecolor": "white",
             "minorgridcolor": "white",
             "startlinecolor": "#2a3f5f"
            },
            "baxis": {
             "endlinecolor": "#2a3f5f",
             "gridcolor": "white",
             "linecolor": "white",
             "minorgridcolor": "white",
             "startlinecolor": "#2a3f5f"
            },
            "type": "carpet"
           }
          ],
          "choropleth": [
           {
            "colorbar": {
             "outlinewidth": 0,
             "ticks": ""
            },
            "type": "choropleth"
           }
          ],
          "contour": [
           {
            "colorbar": {
             "outlinewidth": 0,
             "ticks": ""
            },
            "colorscale": [
             [
              0,
              "#0d0887"
             ],
             [
              0.1111111111111111,
              "#46039f"
             ],
             [
              0.2222222222222222,
              "#7201a8"
             ],
             [
              0.3333333333333333,
              "#9c179e"
             ],
             [
              0.4444444444444444,
              "#bd3786"
             ],
             [
              0.5555555555555556,
              "#d8576b"
             ],
             [
              0.6666666666666666,
              "#ed7953"
             ],
             [
              0.7777777777777778,
              "#fb9f3a"
             ],
             [
              0.8888888888888888,
              "#fdca26"
             ],
             [
              1,
              "#f0f921"
             ]
            ],
            "type": "contour"
           }
          ],
          "contourcarpet": [
           {
            "colorbar": {
             "outlinewidth": 0,
             "ticks": ""
            },
            "type": "contourcarpet"
           }
          ],
          "heatmap": [
           {
            "colorbar": {
             "outlinewidth": 0,
             "ticks": ""
            },
            "colorscale": [
             [
              0,
              "#0d0887"
             ],
             [
              0.1111111111111111,
              "#46039f"
             ],
             [
              0.2222222222222222,
              "#7201a8"
             ],
             [
              0.3333333333333333,
              "#9c179e"
             ],
             [
              0.4444444444444444,
              "#bd3786"
             ],
             [
              0.5555555555555556,
              "#d8576b"
             ],
             [
              0.6666666666666666,
              "#ed7953"
             ],
             [
              0.7777777777777778,
              "#fb9f3a"
             ],
             [
              0.8888888888888888,
              "#fdca26"
             ],
             [
              1,
              "#f0f921"
             ]
            ],
            "type": "heatmap"
           }
          ],
          "heatmapgl": [
           {
            "colorbar": {
             "outlinewidth": 0,
             "ticks": ""
            },
            "colorscale": [
             [
              0,
              "#0d0887"
             ],
             [
              0.1111111111111111,
              "#46039f"
             ],
             [
              0.2222222222222222,
              "#7201a8"
             ],
             [
              0.3333333333333333,
              "#9c179e"
             ],
             [
              0.4444444444444444,
              "#bd3786"
             ],
             [
              0.5555555555555556,
              "#d8576b"
             ],
             [
              0.6666666666666666,
              "#ed7953"
             ],
             [
              0.7777777777777778,
              "#fb9f3a"
             ],
             [
              0.8888888888888888,
              "#fdca26"
             ],
             [
              1,
              "#f0f921"
             ]
            ],
            "type": "heatmapgl"
           }
          ],
          "histogram": [
           {
            "marker": {
             "pattern": {
              "fillmode": "overlay",
              "size": 10,
              "solidity": 0.2
             }
            },
            "type": "histogram"
           }
          ],
          "histogram2d": [
           {
            "colorbar": {
             "outlinewidth": 0,
             "ticks": ""
            },
            "colorscale": [
             [
              0,
              "#0d0887"
             ],
             [
              0.1111111111111111,
              "#46039f"
             ],
             [
              0.2222222222222222,
              "#7201a8"
             ],
             [
              0.3333333333333333,
              "#9c179e"
             ],
             [
              0.4444444444444444,
              "#bd3786"
             ],
             [
              0.5555555555555556,
              "#d8576b"
             ],
             [
              0.6666666666666666,
              "#ed7953"
             ],
             [
              0.7777777777777778,
              "#fb9f3a"
             ],
             [
              0.8888888888888888,
              "#fdca26"
             ],
             [
              1,
              "#f0f921"
             ]
            ],
            "type": "histogram2d"
           }
          ],
          "histogram2dcontour": [
           {
            "colorbar": {
             "outlinewidth": 0,
             "ticks": ""
            },
            "colorscale": [
             [
              0,
              "#0d0887"
             ],
             [
              0.1111111111111111,
              "#46039f"
             ],
             [
              0.2222222222222222,
              "#7201a8"
             ],
             [
              0.3333333333333333,
              "#9c179e"
             ],
             [
              0.4444444444444444,
              "#bd3786"
             ],
             [
              0.5555555555555556,
              "#d8576b"
             ],
             [
              0.6666666666666666,
              "#ed7953"
             ],
             [
              0.7777777777777778,
              "#fb9f3a"
             ],
             [
              0.8888888888888888,
              "#fdca26"
             ],
             [
              1,
              "#f0f921"
             ]
            ],
            "type": "histogram2dcontour"
           }
          ],
          "mesh3d": [
           {
            "colorbar": {
             "outlinewidth": 0,
             "ticks": ""
            },
            "type": "mesh3d"
           }
          ],
          "parcoords": [
           {
            "line": {
             "colorbar": {
              "outlinewidth": 0,
              "ticks": ""
             }
            },
            "type": "parcoords"
           }
          ],
          "pie": [
           {
            "automargin": true,
            "type": "pie"
           }
          ],
          "scatter": [
           {
            "fillpattern": {
             "fillmode": "overlay",
             "size": 10,
             "solidity": 0.2
            },
            "type": "scatter"
           }
          ],
          "scatter3d": [
           {
            "line": {
             "colorbar": {
              "outlinewidth": 0,
              "ticks": ""
             }
            },
            "marker": {
             "colorbar": {
              "outlinewidth": 0,
              "ticks": ""
             }
            },
            "type": "scatter3d"
           }
          ],
          "scattercarpet": [
           {
            "marker": {
             "colorbar": {
              "outlinewidth": 0,
              "ticks": ""
             }
            },
            "type": "scattercarpet"
           }
          ],
          "scattergeo": [
           {
            "marker": {
             "colorbar": {
              "outlinewidth": 0,
              "ticks": ""
             }
            },
            "type": "scattergeo"
           }
          ],
          "scattergl": [
           {
            "marker": {
             "colorbar": {
              "outlinewidth": 0,
              "ticks": ""
             }
            },
            "type": "scattergl"
           }
          ],
          "scattermapbox": [
           {
            "marker": {
             "colorbar": {
              "outlinewidth": 0,
              "ticks": ""
             }
            },
            "type": "scattermapbox"
           }
          ],
          "scatterpolar": [
           {
            "marker": {
             "colorbar": {
              "outlinewidth": 0,
              "ticks": ""
             }
            },
            "type": "scatterpolar"
           }
          ],
          "scatterpolargl": [
           {
            "marker": {
             "colorbar": {
              "outlinewidth": 0,
              "ticks": ""
             }
            },
            "type": "scatterpolargl"
           }
          ],
          "scatterternary": [
           {
            "marker": {
             "colorbar": {
              "outlinewidth": 0,
              "ticks": ""
             }
            },
            "type": "scatterternary"
           }
          ],
          "surface": [
           {
            "colorbar": {
             "outlinewidth": 0,
             "ticks": ""
            },
            "colorscale": [
             [
              0,
              "#0d0887"
             ],
             [
              0.1111111111111111,
              "#46039f"
             ],
             [
              0.2222222222222222,
              "#7201a8"
             ],
             [
              0.3333333333333333,
              "#9c179e"
             ],
             [
              0.4444444444444444,
              "#bd3786"
             ],
             [
              0.5555555555555556,
              "#d8576b"
             ],
             [
              0.6666666666666666,
              "#ed7953"
             ],
             [
              0.7777777777777778,
              "#fb9f3a"
             ],
             [
              0.8888888888888888,
              "#fdca26"
             ],
             [
              1,
              "#f0f921"
             ]
            ],
            "type": "surface"
           }
          ],
          "table": [
           {
            "cells": {
             "fill": {
              "color": "#EBF0F8"
             },
             "line": {
              "color": "white"
             }
            },
            "header": {
             "fill": {
              "color": "#C8D4E3"
             },
             "line": {
              "color": "white"
             }
            },
            "type": "table"
           }
          ]
         },
         "layout": {
          "annotationdefaults": {
           "arrowcolor": "#2a3f5f",
           "arrowhead": 0,
           "arrowwidth": 1
          },
          "autotypenumbers": "strict",
          "coloraxis": {
           "colorbar": {
            "outlinewidth": 0,
            "ticks": ""
           }
          },
          "colorscale": {
           "diverging": [
            [
             0,
             "#8e0152"
            ],
            [
             0.1,
             "#c51b7d"
            ],
            [
             0.2,
             "#de77ae"
            ],
            [
             0.3,
             "#f1b6da"
            ],
            [
             0.4,
             "#fde0ef"
            ],
            [
             0.5,
             "#f7f7f7"
            ],
            [
             0.6,
             "#e6f5d0"
            ],
            [
             0.7,
             "#b8e186"
            ],
            [
             0.8,
             "#7fbc41"
            ],
            [
             0.9,
             "#4d9221"
            ],
            [
             1,
             "#276419"
            ]
           ],
           "sequential": [
            [
             0,
             "#0d0887"
            ],
            [
             0.1111111111111111,
             "#46039f"
            ],
            [
             0.2222222222222222,
             "#7201a8"
            ],
            [
             0.3333333333333333,
             "#9c179e"
            ],
            [
             0.4444444444444444,
             "#bd3786"
            ],
            [
             0.5555555555555556,
             "#d8576b"
            ],
            [
             0.6666666666666666,
             "#ed7953"
            ],
            [
             0.7777777777777778,
             "#fb9f3a"
            ],
            [
             0.8888888888888888,
             "#fdca26"
            ],
            [
             1,
             "#f0f921"
            ]
           ],
           "sequentialminus": [
            [
             0,
             "#0d0887"
            ],
            [
             0.1111111111111111,
             "#46039f"
            ],
            [
             0.2222222222222222,
             "#7201a8"
            ],
            [
             0.3333333333333333,
             "#9c179e"
            ],
            [
             0.4444444444444444,
             "#bd3786"
            ],
            [
             0.5555555555555556,
             "#d8576b"
            ],
            [
             0.6666666666666666,
             "#ed7953"
            ],
            [
             0.7777777777777778,
             "#fb9f3a"
            ],
            [
             0.8888888888888888,
             "#fdca26"
            ],
            [
             1,
             "#f0f921"
            ]
           ]
          },
          "colorway": [
           "#636efa",
           "#EF553B",
           "#00cc96",
           "#ab63fa",
           "#FFA15A",
           "#19d3f3",
           "#FF6692",
           "#B6E880",
           "#FF97FF",
           "#FECB52"
          ],
          "font": {
           "color": "#2a3f5f"
          },
          "geo": {
           "bgcolor": "white",
           "lakecolor": "white",
           "landcolor": "#E5ECF6",
           "showlakes": true,
           "showland": true,
           "subunitcolor": "white"
          },
          "hoverlabel": {
           "align": "left"
          },
          "hovermode": "closest",
          "mapbox": {
           "style": "light"
          },
          "paper_bgcolor": "white",
          "plot_bgcolor": "#E5ECF6",
          "polar": {
           "angularaxis": {
            "gridcolor": "white",
            "linecolor": "white",
            "ticks": ""
           },
           "bgcolor": "#E5ECF6",
           "radialaxis": {
            "gridcolor": "white",
            "linecolor": "white",
            "ticks": ""
           }
          },
          "scene": {
           "xaxis": {
            "backgroundcolor": "#E5ECF6",
            "gridcolor": "white",
            "gridwidth": 2,
            "linecolor": "white",
            "showbackground": true,
            "ticks": "",
            "zerolinecolor": "white"
           },
           "yaxis": {
            "backgroundcolor": "#E5ECF6",
            "gridcolor": "white",
            "gridwidth": 2,
            "linecolor": "white",
            "showbackground": true,
            "ticks": "",
            "zerolinecolor": "white"
           },
           "zaxis": {
            "backgroundcolor": "#E5ECF6",
            "gridcolor": "white",
            "gridwidth": 2,
            "linecolor": "white",
            "showbackground": true,
            "ticks": "",
            "zerolinecolor": "white"
           }
          },
          "shapedefaults": {
           "line": {
            "color": "#2a3f5f"
           }
          },
          "ternary": {
           "aaxis": {
            "gridcolor": "white",
            "linecolor": "white",
            "ticks": ""
           },
           "baxis": {
            "gridcolor": "white",
            "linecolor": "white",
            "ticks": ""
           },
           "bgcolor": "#E5ECF6",
           "caxis": {
            "gridcolor": "white",
            "linecolor": "white",
            "ticks": ""
           }
          },
          "title": {
           "x": 0.05
          },
          "xaxis": {
           "automargin": true,
           "gridcolor": "white",
           "linecolor": "white",
           "ticks": "",
           "title": {
            "standoff": 15
           },
           "zerolinecolor": "white",
           "zerolinewidth": 2
          },
          "yaxis": {
           "automargin": true,
           "gridcolor": "white",
           "linecolor": "white",
           "ticks": "",
           "title": {
            "standoff": 15
           },
           "zerolinecolor": "white",
           "zerolinewidth": 2
          }
         }
        },
        "xaxis": {
         "anchor": "y",
         "domain": [
          0,
          1
         ],
         "title": {
          "text": "method"
         }
        },
        "yaxis": {
         "anchor": "x",
         "domain": [
          0,
          1
         ],
         "title": {
          "text": "value"
         }
        }
       }
      }
     },
     "metadata": {},
     "output_type": "display_data"
    }
   ],
   "source": [
    "fig = px.strip(df_results[df_results.true_col==\"tree1\"], x='method', y=['Qlocal'])\n",
    "fig.show()"
   ]
  },
  {
   "cell_type": "markdown",
   "id": "42051939",
   "metadata": {},
   "source": [
    "# Plots"
   ]
  },
  {
   "cell_type": "markdown",
   "id": "1a899260",
   "metadata": {},
   "source": [
    "## PoincaréMSA"
   ]
  },
  {
   "cell_type": "code",
   "execution_count": 54,
   "id": "1c258e75",
   "metadata": {},
   "outputs": [
    {
     "data": {
      "application/vnd.plotly.v1+json": {
       "config": {
        "plotlyServerURL": "https://plot.ly"
       },
       "data": [
        {
         "customdata": [
          [
           "A0A087WZU1 CC1_PTP_PTPRB_PTPRQ",
           "P09923",
           "AP",
           0.39406527208147357,
           -0.13580097906078156,
           -13.577935218811035,
           18.563528060913086,
           0.7684699296951294,
           2.9484095573425293,
           0.2343632342402308,
           -0.001157083549768056,
           "5",
           "2",
           "0",
           "1",
           "0"
          ],
          [
           "O14522|2 CC1_PTP_PTPRK_PTPRT",
           "Q9Y6W6",
           "CC1",
           -0.20929632511173793,
           -0.04741823446501389,
           3.9593544006347656,
           19.28791618347168,
           -0.627122700214386,
           2.6864402294158936,
           -0.07693028069212429,
           -0.2215573397093682,
           "5",
           "1",
           "0",
           "1",
           "3"
          ],
          [
           "P08575|2 CC1_PTP_PTPRC_PTPRC",
           "Q8WUK0",
           "CC1",
           0.3793747149417062,
           0.1752360634798929,
           13.907369613647461,
           -49.56660079956055,
           -14.849628448486328,
           11.205303192138672,
           0.43947149529744434,
           0.4523811072531017,
           "5",
           "4",
           "3",
           "3",
           "7"
          ],
          [
           "P10586|2 CC1_PTP_PTPRD_PTPRF",
           "Q76I76",
           "CC1",
           0.3088552293242015,
           -0.17680606230352408,
           -24.34139060974121,
           -38.230064392089844,
           -8.626289367675781,
           6.196300983428955,
           0.25606879274587185,
           0.22780257049389568,
           "5",
           "2",
           "7",
           "4",
           "1"
          ],
          [
           "P17706 CC1_PTP_PTPN1_PTPN2",
           "A4FU01",
           "CC1",
           -0.11168288390772649,
           0.15374380230220222,
           28.94235610961914,
           -16.501846313476562,
           13.651588439941406,
           3.3653900623321533,
           -0.371227180296006,
           0.1779243902995352,
           "5",
           "3",
           "2",
           "0",
           "5"
          ],
          [
           "P18031 CC1_PTP_PTPN1_PTPN1",
           "Q9C0I1",
           "CC1",
           -0.11853296219818917,
           0.13280329003778482,
           31.218795776367188,
           -4.505599021911621,
           14.215697288513184,
           1.9806034564971924,
           -0.37380873204442944,
           0.12174898177476973,
           "5",
           "3",
           "2",
           "0",
           "5"
          ],
          [
           "P18433|2 CC1_PTP_PTPRA_PTPRA",
           "Q13615",
           "CC1",
           -0.12134554517187622,
           0.12478061128989296,
           32.79302978515625,
           -3.9130373001098633,
           14.584327697753906,
           1.7198559045791626,
           -0.3690059006326476,
           0.09964204618937778,
           "5",
           "3",
           "2",
           "0",
           "5"
          ],
          [
           "P23467 CC1_PTP_PTPRB_PTPRB",
           "Q9NYA4",
           "CC1",
           0.2803075774402305,
           0.10285781386501816,
           1.862034559249878,
           -51.95248031616211,
           -10.574894905090332,
           -2.2311599254608154,
           0.3959894743030237,
           0.2529248216557176,
           "5",
           "4",
           "3",
           "4",
           "7"
          ],
          [
           "P23469|2 CC1_PTP_PTPRA_PTPRE",
           "Q86WG5",
           "CC1",
           0.08673637171271287,
           0.34320468416474104,
           -63.39363479614258,
           -0.7440983653068542,
           17.714900970458984,
           21.68308448791504,
           -0.006900519826812575,
           0.3544970322233218,
           "5",
           "7",
           "9",
           "6",
           "8"
          ],
          [
           "P23470|2 CC1_PTP_PTPRG_PTPRG",
           "Q9Y216",
           "CC1",
           -0.21996516177224276,
           -0.2825943756093985,
           -40.531227111816406,
           -17.212739944458008,
           0.3374808430671692,
           -3.538588047027588,
           0.2491428470569094,
           -0.21423614846964456,
           "5",
           "0",
           "4",
           "1",
           "2"
          ],
          [
           "P23471|2 CC1_PTP_PTPRG_PTPRZ1",
           "Q96QG7",
           "CC1",
           0.08869538405511004,
           0.31505452030476555,
           -63.9754753112793,
           0.4647691249847412,
           17.6829833984375,
           21.71499252319336,
           -0.0015742862020990637,
           0.31124839978158153,
           "5",
           "7",
           "9",
           "6",
           "8"
          ],
          [
           "P26045 CC1_PTP_PTPN3_PTPN3",
           "Q9ULE6|2",
           "CC1",
           0.15769062591295063,
           -0.07531928171236449,
           -20.237764358520508,
           -15.486600875854492,
           0.6421800255775452,
           24.807201385498047,
           0.24604096305463957,
           -0.10986632448648571,
           "5",
           "6",
           "1",
           "5",
           "0"
          ],
          [
           "P28827|2 CC1_PTP_PTPRK_PTPRM",
           "P60484",
           "CC1",
           0.062395478385139716,
           -0.2859621690459345,
           -5.704402446746826,
           13.448845863342285,
           0.19132201373577118,
           2.627312660217285,
           0.22083172576068702,
           -0.04301441142627427,
           "5",
           "9",
           "0",
           "1",
           "0"
          ],
          [
           "P29074 CC1_PTP_PTPN3_PTPN4",
           "Q9HBL0",
           "CC1",
           -0.175076689816113,
           0.0397660499279705,
           10.127635955810547,
           16.655235290527344,
           -1.350386381149292,
           2.382683277130127,
           -0.14128289729512175,
           0.015722056154266143,
           "5",
           "1",
           "0",
           "1",
           "3"
          ],
          [
           "P35236 CC1_PTP_PTPN5RR_PTPN7",
           "Q6XPS3",
           "CC1",
           -0.10232209180485273,
           0.1433181458643876,
           25.565385818481445,
           -21.717538833618164,
           12.731820106506348,
           4.440719127655029,
           -0.3602322972382545,
           0.1393652686246788,
           "5",
           "3",
           "2",
           "0",
           "5"
          ],
          [
           "P54829 CC1_PTP_PTPN5RR_PTPN5",
           "Q4JDL3",
           "CC1",
           -0.10967843510797884,
           0.12618691826384063,
           23.656166076660156,
           -7.23985481262207,
           13.130021095275879,
           2.17535662651062,
           -0.3615864165571715,
           0.11698826412678978,
           "5",
           "3",
           "2",
           "0",
           "5"
          ],
          [
           "Q05209 CC1_PTP_PTPN12_PTPN12",
           "Q06124",
           "CC1",
           -0.009000896748336847,
           0.18545115443696325,
           38.706626892089844,
           30.75931167602539,
           16.963125228881836,
           10.357707023620605,
           -0.16207721753902657,
           0.0922276061979301,
           "5",
           "3",
           "5",
           "0",
           "3"
          ],
          [
           "Q12913 CC1_PTP_PTPRB_PTPRJ",
           "P23469|1",
           "CC1",
           0.20581130851658608,
           -0.34394748433117484,
           -14.17437744140625,
           -29.685197830200195,
           3.7014687061309814,
           -10.130059242248535,
           0.2707480962961251,
           0.1262149825505305,
           "5",
           "8",
           "7",
           "9",
           "6"
          ],
          [
           "Q12923 CC1_PTP_PTPN13_PTPN13",
           "P23469|2",
           "CC1",
           0.2592373750056762,
           -0.18640382397220234,
           -23.38063621520996,
           -36.276344299316406,
           -8.676823616027832,
           6.151309490203857,
           0.23056901860948315,
           0.19021927633130992,
           "5",
           "2",
           "7",
           "4",
           "1"
          ],
          [
           "Q13332|2 CC1_PTP_PTPRD_PTPRS",
           "A0A087WZU1",
           "CC1",
           0.2786675639743538,
           0.09373741256012037,
           0.924155056476593,
           -53.6642951965332,
           -10.52191162109375,
           -2.1776816844940186,
           0.3906177312119118,
           0.19379136659888918,
           "5",
           "4",
           "3",
           "4",
           "7"
          ],
          [
           "Q15256 CC1_PTP_PTPN5RR_PTPRR",
           "P10586|1",
           "CC1",
           -0.0704413301858156,
           -0.06348459850945001,
           -11.366439819335938,
           38.56742477416992,
           2.6015307903289795,
           13.839886665344238,
           -0.029291245542828512,
           -0.3687503447157364,
           "5",
           "1",
           "8",
           "2",
           "4"
          ],
          [
           "Q15678 CC1_PTP_PTPN14_PTPN14",
           "P10586|2",
           "CC1",
           -0.2226553907861609,
           -0.28698879228034546,
           -41.17645263671875,
           -17.24155044555664,
           0.43978801369667053,
           -3.4610180854797363,
           0.25015640493586055,
           -0.21154217356160135,
           "5",
           "0",
           "4",
           "1",
           "2"
          ],
          [
           "Q16825 CC1_PTP_PTPN14_PTPN21",
           "P23470|2",
           "CC1",
           0.14827906055092302,
           -0.23392712161640047,
           -21.44788932800293,
           -35.945472717285156,
           -8.971076965332031,
           5.850844383239746,
           0.21007238598261016,
           0.01271447278430301,
           "5",
           "6",
           "7",
           "4",
           "1"
          ],
          [
           "Q16827 CC1_PTP_PTPRB_PTPRO",
           "P23471|1",
           "CC1",
           -0.045762690073659996,
           0.017271531478900416,
           -4.2899651527404785,
           20.0598201751709,
           0.31884777545928955,
           2.614514112472534,
           -0.10824190594824534,
           -0.16558646197466792,
           "5",
           "1",
           "0",
           "1",
           "4"
          ],
          [
           "Q16849 CC1_PTP_PTPRN_PTPRN",
           "Q5TG12|2",
           "CC1",
           -0.037372160204980395,
           -0.0054013831879684395,
           -6.207345485687256,
           21.918434143066406,
           0.5544209480285645,
           2.376174211502075,
           -0.0759053543348136,
           -0.22709813041108115,
           "5",
           "1",
           "0",
           "1",
           "4"
          ],
          [
           "Q2HXI4|2 CC1_PTP_PTPRD_PTPRD",
           "O14522|2",
           "CC1",
           0.014116023971544437,
           0.18647505299249223,
           42.43513107299805,
           27.5242862701416,
           17.267948150634766,
           10.691051483154297,
           -0.12928213028572497,
           0.12097691849368201,
           "5",
           "3",
           "5",
           "0",
           "3"
          ],
          [
           "Q4JDL3 CC1_PTP_PTPN13_PTPN20",
           "Q16849",
           "CC1",
           0.09831891832156972,
           -0.15682531396881388,
           -38.2098388671875,
           15.909730911254883,
           8.629830360412598,
           -3.081617832183838,
           0.21950347693157418,
           -0.08167411269646097,
           "5",
           "6",
           "6",
           "8",
           "1"
          ],
          [
           "Q53XS4 CC1_PTP_PTPN6_PTPN6",
           "Q92932",
           "CC1",
           -0.07375194565224591,
           -0.0650715481272954,
           -9.480886459350586,
           40.45320129394531,
           2.38948392868042,
           13.682540893554688,
           -0.026698796863061973,
           -0.36248972301578647,
           "5",
           "1",
           "8",
           "2",
           "4"
          ],
          [
           "Q5TG12|2 CC1_PTP_PTPRK_PTPRK",
           "O43426",
           "CC1",
           -0.17022506918907843,
           -0.32936764382095884,
           -45.3795166015625,
           -19.890708923339844,
           0.777711808681488,
           -4.097326278686523,
           0.27320263162477515,
           0.14409250293956427,
           "5",
           "0",
           "4",
           "1",
           "2"
          ],
          [
           "Q6IQ43 CC1_PTP_PTPN9_PTPN9",
           "Q99502",
           "HAD",
           -0.24015899235280458,
           -0.2788265184090773,
           -44.19853591918945,
           -14.928682327270508,
           1.0336018800735474,
           -3.7581686973571777,
           0.2373434955345441,
           -0.14913283849654155,
           "5",
           "0",
           "4",
           "1",
           "2"
          ],
          [
           "Q92729|2 CC1_PTP_PTPRK_PTPRU",
           "Q8N0Y7",
           "HP",
           0.22631487414235066,
           -0.20228178238551728,
           -22.68285369873047,
           -36.270084381103516,
           -8.8638916015625,
           5.959141731262207,
           0.22443118253650776,
           0.1313464909979303,
           "5",
           "2",
           "7",
           "4",
           "1"
          ],
          [
           "Q92932 CC1_PTP_PTPRN_PTPRN2",
           "Q96HS1",
           "HP",
           0.30950284443347487,
           0.14896470924647406,
           17.195714950561523,
           -49.694183349609375,
           -14.962265014648438,
           11.121419906616211,
           0.41535589209408497,
           0.3599611356454526,
           "5",
           "4",
           "3",
           "3",
           "7"
          ],
          [
           "Q99952 CC1_PTP_PTPN12_PTPN18",
           "B7WPL9",
           "HP",
           -0.11426033027189732,
           -0.012862700981581708,
           -1.1660139560699463,
           19.25931739807129,
           -0.23376226425170898,
           2.7193784713745117,
           -0.12870415186837264,
           -0.23796120448627522,
           "5",
           "1",
           "0",
           "1",
           "4"
          ],
          [
           "Q9H3S7 CC1_PTP_PTPN23_PTPN23",
           "O15297",
           "PPM",
           -0.1627415276900159,
           0.01709958449895114,
           8.96694278717041,
           16.685909271240234,
           -1.2599620819091797,
           2.4635844230651855,
           -0.17673928198737235,
           -0.12311196797899004,
           "5",
           "1",
           "0",
           "1",
           "3"
          ],
          [
           "Q9HD43 CC1_PTP_PTPRB_PTPRH",
           "O15355",
           "PPM",
           -0.07498573686165493,
           -0.06730353909638981,
           -11.09049129486084,
           38.31818389892578,
           2.4725217819213867,
           13.944747924804688,
           -0.030175553382961965,
           -0.3741777025439731,
           "5",
           "1",
           "8",
           "2",
           "4"
          ],
          [
           "Q9Y2R2 CC1_PTP_PTPN12_PTPN22",
           "O00743",
           "PPPL",
           0.004968801578689282,
           0.21483537053068477,
           42.242488861083984,
           27.764904022216797,
           17.217649459838867,
           10.643949508666992,
           -0.13425713030980202,
           0.15065537811456867,
           "5",
           "3",
           "5",
           "0",
           "3"
          ]
         ],
         "hovertemplate": "<b>%{hovertext}</b><br><br>clust_poincare=%{customdata[11]}<br>pm1=%{x}<br>pm2=%{y}<br>proteins_id=%{customdata[0]}<br>accession=%{customdata[1]}<br>label=%{customdata[2]}<br>x1_mds=%{customdata[3]}<br>x2_mds=%{customdata[4]}<br>x1_tsne=%{customdata[5]}<br>x2_tsne=%{customdata[6]}<br>x1_umap=%{customdata[7]}<br>x2_umap=%{customdata[8]}<br>x1_pca=%{customdata[9]}<br>x2_pca=%{customdata[10]}<br>clust_mds=%{customdata[12]}<br>clust_tsne=%{customdata[13]}<br>clust_umap=%{customdata[14]}<br>clust_pca=%{customdata[15]}<extra></extra>",
         "hovertext": [
          "5",
          "5",
          "5",
          "5",
          "5",
          "5",
          "5",
          "5",
          "5",
          "5",
          "5",
          "5",
          "5",
          "5",
          "5",
          "5",
          "5",
          "5",
          "5",
          "5",
          "5",
          "5",
          "5",
          "5",
          "5",
          "5",
          "5",
          "5",
          "5",
          "5",
          "5",
          "5",
          "5",
          "5",
          "5",
          "5"
         ],
         "legendgroup": "5",
         "marker": {
          "color": "#636efa",
          "symbol": "circle"
         },
         "mode": "markers",
         "name": "5",
         "orientation": "v",
         "showlegend": true,
         "type": "scatter",
         "x": [
          -0.5640215,
          -0.75492316,
          -0.69616723,
          -0.5527717,
          -0.41395172,
          -0.41678914,
          -0.6004947,
          -0.55190456,
          -0.6441586,
          -0.7573887,
          -0.7707859,
          -0.5016862,
          -0.7624637,
          -0.5701031,
          -0.5292359,
          -0.55712575,
          -0.39843956,
          -0.5456516,
          -0.6164135,
          -0.5503272,
          -0.6026752,
          -0.6627868,
          -0.63597524,
          -0.5477214,
          -0.49334058,
          -0.56873065,
          -0.609811,
          -0.6467022,
          -0.7419898,
          -0.6021601,
          -0.75166464,
          -0.51752204,
          -0.3996163,
          -0.7209664,
          -0.51974165,
          -0.419615
         ],
         "xaxis": "x",
         "y": [
          0.5210652,
          0.38356012,
          0.50146157,
          0.6525214,
          0.47151458,
          0.56101805,
          0.58273154,
          0.5640939,
          0.5477148,
          0.41040066,
          0.38071606,
          0.4517305,
          0.39586812,
          0.4199476,
          0.51348025,
          0.4742391,
          0.5475358,
          0.6044782,
          0.4757993,
          0.6769369,
          0.51919067,
          0.4956477,
          0.44017297,
          0.55304146,
          0.5833253,
          0.6398385,
          0.49836263,
          0.5736772,
          0.3690871,
          0.6054889,
          0.39278576,
          0.5810277,
          0.5212898,
          0.41986775,
          0.5548564,
          0.50298166
         ],
         "yaxis": "y"
        },
        {
         "customdata": [
          [
           "A0A087WZV0 HP_HP2_PPIP5K_PPIP5K2",
           "P05186",
           "AP",
           -0.12116419357020246,
           0.14428949972421057,
           37.64039993286133,
           -11.254087448120117,
           14.76640510559082,
           2.675262212753296,
           -0.37178105962159447,
           0.1541742963390788,
           "7",
           "3",
           "2",
           "0",
           "5"
          ],
          [
           "B7WPL9 HP_HP2_PPIP5K_PPIP5K1",
           "P28562",
           "CC1",
           0.304041628059513,
           0.1009555834725653,
           -0.46212732791900635,
           -52.546226501464844,
           -10.582496643066406,
           -2.238878011703491,
           0.4000651870978187,
           0.23271216818381307,
           "7",
           "4",
           "3",
           "4",
           "7"
          ],
          [
           "P05186 AP_AP_AP_ALPL",
           "Q93096",
           "CC1",
           0.2866734493878284,
           0.11257531663319781,
           2.5382227897644043,
           -54.298622131347656,
           -10.356918334960938,
           -2.013278007507324,
           0.38303524659731664,
           0.23954338966041286,
           "7",
           "4",
           "3",
           "4",
           "7"
          ],
          [
           "P05187 AP_AP_AP_ALPP",
           "Q12974",
           "CC1",
           -0.13497583627999238,
           0.1220216822543901,
           46.3270378112793,
           -5.982365608215332,
           16.332338333129883,
           3.0379276275634766,
           -0.36408056361640795,
           0.08238358423306924,
           "7",
           "3",
           "2",
           "0",
           "5"
          ],
          [
           "P09923 AP_AP_AP_ALPI",
           "O60942",
           "CC1",
           -0.05201892534000841,
           -0.044129466904382846,
           -18.429122924804688,
           40.92417526245117,
           3.4922425746917725,
           14.013668060302734,
           -0.03935615094484038,
           -0.30583724285636954,
           "7",
           "1",
           "8",
           "2",
           "4"
          ],
          [
           "P10696 AP_AP_AP_ALPPL2",
           "Q8TE77",
           "CC1",
           0.0026174549907437054,
           0.24629224352250095,
           42.588321685791016,
           28.24728012084961,
           17.27605438232422,
           10.701096534729004,
           -0.11376499248590304,
           0.151652675930132,
           "7",
           "3",
           "5",
           "0",
           "3"
          ],
          [
           "P11117 HP_HP2_ACP2_ACP2",
           "Q8WUJ0",
           "CC1",
           0.09561610486833579,
           -0.1659714538031565,
           -38.067745208740234,
           16.667089462280273,
           8.679981231689453,
           -3.1317367553710938,
           0.21987531751893674,
           -0.0946955648160726,
           "7",
           "6",
           "6",
           "8",
           "1"
          ],
          [
           "P15309 HP_HP2_ACP2_ACPP",
           "Q13613",
           "CC1",
           -0.10642392087316811,
           0.14336539617555483,
           28.7596378326416,
           -16.61699676513672,
           13.509231567382812,
           3.2726738452911377,
           -0.3656327228352562,
           0.15396171951217313,
           "7",
           "3",
           "2",
           "0",
           "5"
          ],
          [
           "Q8TE99 HP_HP2_PXYLP1_PXYLP1",
           "Q9H008",
           "HAD",
           0.08310500635255526,
           0.2707547434184275,
           -61.555686950683594,
           0.06640500575304031,
           17.795408248901367,
           21.602535247802734,
           -0.019727429453926186,
           0.2892626549229094,
           "7",
           "7",
           "9",
           "6",
           "8"
          ],
          [
           "Q9BZG2 HP_HP2_ACP2_ACPT",
           "Q9P2J9",
           "PPM",
           -0.24897772828733622,
           -0.2982724572903424,
           -44.5467643737793,
           -13.338207244873047,
           1.2680495977401733,
           -3.6699776649475098,
           0.24357705250756043,
           -0.1729535349859914,
           "7",
           "0",
           "4",
           "1",
           "2"
          ],
          [
           "Q9NPH0 HP_HP2_ACP6_ACP6",
           "Q5JR12",
           "PPM",
           -0.19223769513753455,
           -0.03792915873057178,
           4.007887363433838,
           19.271970748901367,
           -0.676163375377655,
           2.6656494140625,
           -0.08730396264341084,
           -0.19888652106355448,
           "7",
           "1",
           "0",
           "1",
           "3"
          ],
          [
           "Q9UNW1 HP_HP2_MINPP1_MINPP1",
           "P16298",
           "PPPL",
           0.13511601162253123,
           -0.02213343954014911,
           3.7775676250457764,
           39.502197265625,
           1.3390148878097534,
           11.241613388061523,
           0.12062266226979644,
           -0.14547606329035012,
           "7",
           "6",
           "8",
           "2",
           "0"
          ]
         ],
         "hovertemplate": "<b>%{hovertext}</b><br><br>clust_poincare=%{customdata[11]}<br>pm1=%{x}<br>pm2=%{y}<br>proteins_id=%{customdata[0]}<br>accession=%{customdata[1]}<br>label=%{customdata[2]}<br>x1_mds=%{customdata[3]}<br>x2_mds=%{customdata[4]}<br>x1_tsne=%{customdata[5]}<br>x2_tsne=%{customdata[6]}<br>x1_umap=%{customdata[7]}<br>x2_umap=%{customdata[8]}<br>x1_pca=%{customdata[9]}<br>x2_pca=%{customdata[10]}<br>clust_mds=%{customdata[12]}<br>clust_tsne=%{customdata[13]}<br>clust_umap=%{customdata[14]}<br>clust_pca=%{customdata[15]}<extra></extra>",
         "hovertext": [
          "7",
          "7",
          "7",
          "7",
          "7",
          "7",
          "7",
          "7",
          "7",
          "7",
          "7",
          "7"
         ],
         "legendgroup": "7",
         "marker": {
          "color": "#EF553B",
          "symbol": "circle"
         },
         "mode": "markers",
         "name": "7",
         "orientation": "v",
         "showlegend": true,
         "type": "scatter",
         "x": [
          0.01709411,
          0.024839578,
          0.061509985,
          0.05515973,
          0.053707626,
          0.06115805,
          0.03694572,
          0.021643603,
          0.02361448,
          0.018909143,
          0.012029636,
          0.030218631
         ],
         "xaxis": "x",
         "y": [
          -0.9486228,
          -0.9507751,
          -0.9255761,
          -0.9198266,
          -0.91255933,
          -0.9159358,
          -0.9269911,
          -0.91066146,
          -0.9392023,
          -0.93404394,
          -0.93754685,
          -0.9429493
         ],
         "yaxis": "y"
        },
        {
         "customdata": [
          [
           "A0A0S2Z3Q2 HAD_EYA_EYA_EYA4",
           "P05187",
           "AP",
           -0.19363696394434068,
           0.06502286844825403,
           35.54990005493164,
           32.273338317871094,
           16.798986434936523,
           10.19430923461914,
           -0.16041070448632083,
           0.04372744636377765,
           "4",
           "1",
           "5",
           "0",
           "3"
          ],
          [
           "A6NDG6 HAD_NagD_PGP_PGP",
           "O60729|2",
           "CC1",
           0.17571770044156612,
           -0.14450680109467198,
           -30.176088333129883,
           14.970078468322754,
           2.352212429046631,
           4.84210729598999,
           0.2774211503061684,
           -0.031090916378976367,
           "4",
           "6",
           "6",
           "1",
           "1"
          ],
          [
           "O00167 HAD_EYA_EYA_EYA2",
           "Q05923",
           "CC1",
           -0.03995349239409593,
           -0.04983880661728633,
           -15.692673683166504,
           35.681549072265625,
           2.9567508697509766,
           13.544147491455078,
           -0.03081548607088416,
           -0.2970727769463409,
           "4",
           "1",
           "8",
           "2",
           "4"
          ],
          [
           "O14595 HAD_FCP_SCP_SCP2",
           "O75319",
           "CC1",
           0.018290366745397153,
           -0.275926522141179,
           -9.899653434753418,
           -5.232009410858154,
           14.261653900146484,
           -17.667179107666016,
           0.2638740047707418,
           -0.20682478001362076,
           "4",
           "9",
           "1",
           "7",
           "0"
          ],
          [
           "O15194 HAD_FCP_SCP_SCP3",
           "Q4G0W2",
           "CC1",
           -0.23475266176181694,
           -0.28347167655341576,
           -43.89098358154297,
           -15.590290069580078,
           0.8554020524024963,
           -3.8389484882354736,
           0.24492058911923348,
           -0.1616294322175688,
           "4",
           "0",
           "4",
           "1",
           "2"
          ],
          [
           "O95476 HAD_FCP_DULLARD_Dullard",
           "O95278",
           "CC1",
           -0.11850655844718683,
           0.14132774042509402,
           34.75740051269531,
           -9.642971992492676,
           14.425265312194824,
           2.7830991744995117,
           -0.3734072796957107,
           0.1479899915413292,
           "4",
           "3",
           "2",
           "0",
           "5"
          ],
          [
           "Q05D32 HAD_FCP_CTDSPL2_CTDSPL2",
           "Q6IQ43",
           "CC1",
           -0.10207077349376871,
           0.13932708714411476,
           24.599010467529297,
           -21.313251495361328,
           12.76225471496582,
           4.421763896942139,
           -0.3602195332981733,
           0.14063715537655963,
           "4",
           "3",
           "2",
           "0",
           "5"
          ],
          [
           "Q3ZCQ8 HAD_FCP_TIM50_TIMM50",
           "Q92729|1",
           "CC1",
           0.32413123687907924,
           -0.09737757866875464,
           -17.842369079589844,
           -7.377681732177734,
           -11.786418914794922,
           16.18862533569336,
           0.32602848486828734,
           0.044436176625140385,
           "4",
           "2",
           "1",
           "3",
           "0"
          ],
          [
           "Q8WVY7 HAD_FCP_UBLCP1_UBLCP1",
           "Q16875",
           "HP",
           0.09696021854910802,
           -0.16601540593065042,
           -37.3935546875,
           16.470407485961914,
           8.539929389953613,
           -2.9916555881500244,
           0.22332078666438873,
           -0.09862968604705412,
           "4",
           "6",
           "6",
           "8",
           "1"
          ],
          [
           "Q96GD0 HAD_NagD_PGP_CIN",
           "Q9NQ88",
           "HP",
           -0.07555146316728034,
           -0.07577113481459058,
           -2.5777432918548584,
           46.29780578613281,
           1.5070414543151855,
           11.812609672546387,
           -0.012784110744759962,
           -0.3639420312655023,
           "4",
           "1",
           "8",
           "2",
           "4"
          ],
          [
           "Q99502 HAD_EYA_EYA_EYA1",
           "Q9NPH0",
           "HP",
           -0.25512314901357386,
           -0.3026619336301697,
           -45.048458099365234,
           -12.85400390625,
           1.3345508575439453,
           -3.7564022541046143,
           0.24118296636905603,
           -0.1948586995164522,
           "4",
           "0",
           "4",
           "1",
           "2"
          ],
          [
           "Q99504 HAD_EYA_EYA_EYA3",
           "Q9UNW1",
           "HP",
           0.3475514497557814,
           0.16806590864520052,
           15.700787544250488,
           -49.63506317138672,
           -14.979690551757812,
           11.086609840393066,
           0.43958345559299833,
           0.44498804029181865,
           "4",
           "4",
           "3",
           "3",
           "7"
          ],
          [
           "Q9BXW7 HAD_NagD_CUT_CECR5",
           "Q9H0C8",
           "PPM",
           -0.11901884809904735,
           0.1396763514222561,
           30.80086898803711,
           -9.188352584838867,
           14.075982093811035,
           2.6017959117889404,
           -0.3745618266279611,
           0.14076680707381656,
           "4",
           "3",
           "2",
           "0",
           "5"
          ],
          [
           "Q9GZU7 HAD_FCP_SCP_SCP1",
           "Q6ZVD8",
           "PPM",
           0.315830753850649,
           0.15455242127099839,
           16.891582489013672,
           -50.218570709228516,
           -14.929372787475586,
           11.142105102539062,
           0.4167894213733931,
           0.37720620784711184,
           "4",
           "4",
           "3",
           "3",
           "7"
          ],
          [
           "Q9H008 HAD_NagD_LHPP_LHPP",
           "A8MPX8",
           "PPM",
           0.19787888585872357,
           -0.06670513811839907,
           -20.528675079345703,
           -14.792052268981934,
           0.5951680541038513,
           24.76039695739746,
           0.2577739408150885,
           -0.07219168831118235,
           "4",
           "6",
           "1",
           "5",
           "0"
          ],
          [
           "Q9H0R4 HAD_NagD_LHPP_HDHD2",
           "O75688",
           "PPM",
           -0.06317576343741893,
           0.01188641807282311,
           -2.297584295272827,
           19.53257179260254,
           -0.11826130002737045,
           2.6995582580566406,
           -0.10450874756940984,
           -0.17606508134722132,
           "4",
           "1",
           "0",
           "1",
           "4"
          ],
          [
           "Q9Y5B0 HAD_FCP_FCP1_FCP1",
           "O14829",
           "PPPL",
           -0.18928048364407485,
           -0.3035041104884567,
           -45.19319152832031,
           -19.3529052734375,
           0.7704811692237854,
           -4.086792945861816,
           0.2655151157083296,
           0.060942420668789875,
           "4",
           "0",
           "4",
           "1",
           "2"
          ]
         ],
         "hovertemplate": "<b>%{hovertext}</b><br><br>clust_poincare=%{customdata[11]}<br>pm1=%{x}<br>pm2=%{y}<br>proteins_id=%{customdata[0]}<br>accession=%{customdata[1]}<br>label=%{customdata[2]}<br>x1_mds=%{customdata[3]}<br>x2_mds=%{customdata[4]}<br>x1_tsne=%{customdata[5]}<br>x2_tsne=%{customdata[6]}<br>x1_umap=%{customdata[7]}<br>x2_umap=%{customdata[8]}<br>x1_pca=%{customdata[9]}<br>x2_pca=%{customdata[10]}<br>clust_mds=%{customdata[12]}<br>clust_tsne=%{customdata[13]}<br>clust_umap=%{customdata[14]}<br>clust_pca=%{customdata[15]}<extra></extra>",
         "hovertext": [
          "4",
          "4",
          "4",
          "4",
          "4",
          "4",
          "4",
          "4",
          "4",
          "4",
          "4",
          "4",
          "4",
          "4",
          "4",
          "4",
          "4"
         ],
         "legendgroup": "4",
         "marker": {
          "color": "#00cc96",
          "symbol": "circle"
         },
         "mode": "markers",
         "name": "4",
         "orientation": "v",
         "showlegend": true,
         "type": "scatter",
         "x": [
          0.30295306,
          0.21589603,
          0.29293472,
          0.37708774,
          0.39781368,
          0.36411822,
          0.37402028,
          0.3587511,
          0.3413505,
          0.17964438,
          0.3151739,
          0.2990016,
          0.25756648,
          0.39764258,
          0.22807358,
          0.2188353,
          0.30334908
         ],
         "xaxis": "x",
         "y": [
          0.82578236,
          0.8282612,
          0.8331704,
          0.72239465,
          0.7480649,
          0.7391856,
          0.75173795,
          0.72434944,
          0.6827758,
          0.7937747,
          0.8357647,
          0.8469036,
          0.83249086,
          0.73232126,
          0.80683523,
          0.7929055,
          0.7711279
         ],
         "yaxis": "y"
        },
        {
         "customdata": [
          [
           "A0A2R8YDJ8|1 CC1_DSP_CDC14_CDC14A",
           "P10696",
           "AP",
           -0.19773453962260748,
           0.058642335261938634,
           35.59490203857422,
           29.49940299987793,
           16.61186408996582,
           10.013760566711426,
           -0.16184246144996384,
           0.019322624397187158,
           "1",
           "1",
           "5",
           "0",
           "3"
          ],
          [
           "A0A2R8YDJ8|2 CC1_DSP_CDC14_CDC14A",
           "A0A2R8YDJ8|1",
           "CC1",
           -0.19580899574290989,
           0.05892237545035134,
           34.88264465332031,
           30.972091674804688,
           16.56679344177246,
           9.96064281463623,
           -0.1637473009160131,
           0.021070180579484763,
           "1",
           "1",
           "5",
           "0",
           "3"
          ],
          [
           "A2A3K4 CC1_DSP_PTPDC1_PTPDC1",
           "A0A2R8YDJ8|2",
           "CC1",
           0.17102472766162613,
           -0.237755327358922,
           -21.557783126831055,
           -35.23467254638672,
           -8.931730270385742,
           5.890714168548584,
           0.21551180945605317,
           0.0436830974099957,
           "1",
           "6",
           "7",
           "4",
           "1"
          ],
          [
           "O14976 CC1_PTEN_Auxilin_GAK",
           "Q8NEJ0",
           "CC1",
           -0.11496332331518604,
           0.1431555295024327,
           27.578535079956055,
           -13.209853172302246,
           13.659929275512695,
           2.755101442337036,
           -0.367126113054171,
           0.14450144033032478,
           "1",
           "3",
           "2",
           "0",
           "5"
          ],
          [
           "O60729|1 CC1_DSP_CDC14_CDC14B",
           "Q68J44",
           "CC1",
           -0.10039287706263479,
           0.13687111860766454,
           21.651453018188477,
           -7.7616167068481445,
           13.09569263458252,
           2.1338911056518555,
           -0.3501576299497906,
           0.14988141818556547,
           "1",
           "3",
           "2",
           "0",
           "5"
          ],
          [
           "O60729|2 CC1_DSP_CDC14_CDC14B",
           "Q9UII6",
           "CC1",
           -0.10248381382216494,
           0.1393907945017468,
           24.86290740966797,
           -21.8739013671875,
           12.757733345031738,
           4.419912815093994,
           -0.36093598714945063,
           0.1395515717371606,
           "1",
           "3",
           "2",
           "0",
           "5"
          ],
          [
           "O60942 CC1_DSP_RNGTT_RNGTT",
           "Q5VZP5",
           "CC1",
           0.32644045039974995,
           -0.09384048645396849,
           -17.461647033691406,
           -7.945047855377197,
           -11.742782592773438,
           16.144739151000977,
           0.32929821131086845,
           0.058687653103698785,
           "1",
           "2",
           "1",
           "3",
           "0"
          ],
          [
           "O75061 CC1_PTEN_Auxilin_DNAJC6",
           "P51452",
           "CC1",
           0.19671895181539212,
           -0.09343588926600567,
           -28.565645217895508,
           16.037059783935547,
           2.463364601135254,
           4.952416896820068,
           0.2603770662357054,
           0.05301689852373076,
           "1",
           "6",
           "6",
           "1",
           "1"
          ],
          [
           "O75319 CC1_DSP_DSP11_DUSP11",
           "Q16828",
           "CC1",
           0.0961584827498201,
           -0.15830923732529412,
           -37.55303192138672,
           15.737985610961914,
           8.628739356994629,
           -3.0802903175354004,
           0.21836172351895095,
           -0.08881900657796703,
           "1",
           "6",
           "6",
           "8",
           "1"
          ],
          [
           "O75365 CC1_DSP_PRL_PTP4A3",
           "Q16829",
           "CC1",
           -0.03384633972723376,
           -0.0038220137076627357,
           -6.0539703369140625,
           22.392805099487305,
           0.6075761318206787,
           2.4263761043548584,
           -0.07235030155819214,
           -0.22000270708565448,
           "1",
           "1",
           "0",
           "1",
           "4"
          ],
          [
           "O95278 CC1_DSP_Laforin_Laforin",
           "Q13202",
           "CC1",
           -0.11665985055800893,
           0.12917307251302873,
           28.611061096191406,
           -4.161194801330566,
           14.227032661437988,
           2.038465738296509,
           -0.3729559019814361,
           0.11635926712007155,
           "1",
           "3",
           "2",
           "0",
           "5"
          ],
          [
           "P13686 PPPL_PAP_ACP5_ACP5",
           "Q9Y6J8",
           "CC1",
           -0.1361680876164431,
           0.12455626132239743,
           45.89529037475586,
           -6.282133102416992,
           16.177217483520508,
           2.9409449100494385,
           -0.36784528342733486,
           0.08733383864462883,
           "1",
           "3",
           "2",
           "0",
           "5"
          ],
          [
           "P56180 CC1_PTEN_VSP_TPTE",
           "Q15678",
           "CC1",
           -0.13320739222119818,
           0.12417520854693159,
           45.2596435546875,
           -5.953919410705566,
           16.075233459472656,
           2.88459849357605,
           -0.3683143187083819,
           0.08896047559046999,
           "1",
           "3",
           "2",
           "0",
           "5"
          ],
          [
           "P60484 CC1_PTEN_PTEN_PTEN",
           "Q9H3S7",
           "CC1",
           -0.12662271647105464,
           0.12344363919685089,
           43.76995086669922,
           -6.015519618988037,
           16.025407791137695,
           2.8522655963897705,
           -0.37041064598224177,
           0.09264920048293905,
           "1",
           "3",
           "2",
           "0",
           "5"
          ],
          [
           "Q12974 CC1_DSP_PRL_PTP4A2",
           "P23467",
           "CC1",
           -0.027692706207530705,
           -0.02473260675779286,
           -7.895833492279053,
           22.642745971679688,
           0.7624759078025818,
           2.395383596420288,
           -0.039807548259936695,
           -0.2582703425707761,
           "1",
           "1",
           "0",
           "1",
           "4"
          ],
          [
           "Q16667 CC1_DSP_CDKN3_CDKN3",
           "Q13332|2",
           "CC1",
           -0.012054389046313216,
           -0.30795270817957865,
           -7.471632957458496,
           -5.465569496154785,
           14.074934959411621,
           -17.868236541748047,
           0.282993585640406,
           -0.2013162534945945,
           "1",
           "9",
           "1",
           "7",
           "0"
          ],
          [
           "Q63HR2 CC1_PTEN_Tensin_TNS2",
           "P24666",
           "CC2",
           -0.057689989680950925,
           -0.05361060067954358,
           -1.6519238948822021,
           46.862770080566406,
           1.6078659296035767,
           11.774301528930664,
           -0.027785037251538504,
           -0.3328343698222088,
           "1",
           "1",
           "8",
           "2",
           "4"
          ],
          [
           "Q68CZ2 CC1_PTEN_Tensin_TNS3",
           "Q9NP77",
           "CC2",
           0.04772205642913492,
           -0.12618043610820429,
           3.565882921218872,
           39.91206359863281,
           1.3843562602996826,
           11.173431396484375,
           0.10722811776369408,
           -0.17285258896394343,
           "1",
           "6",
           "8",
           "2",
           "0"
          ],
          [
           "Q6XPS3 CC1_PTEN_VSP_TPTE2",
           "O00167",
           "HAD",
           -0.08778052731610445,
           -0.06922177375944702,
           -5.774290561676025,
           41.851219177246094,
           2.3009235858917236,
           13.305381774902344,
           -0.03759531195211012,
           -0.3776102191503312,
           "1",
           "1",
           "8",
           "2",
           "4"
          ],
          [
           "Q8IXW5 RTR1_RTR1_RTR1_RPAP2",
           "Q9Y5B0",
           "HAD",
           -0.11989293043523536,
           0.12731930434581373,
           32.519832611083984,
           -4.61078405380249,
           14.438138961791992,
           1.7742477655410767,
           -0.36822429529130457,
           0.10734862354420154,
           "1",
           "3",
           "2",
           "0",
           "5"
          ],
          [
           "Q8WUK0 CC1_DSP_PTPMT1_PTPMT1",
           "O60825",
           "HP",
           0.37769679381726684,
           0.191120389806397,
           15.136777877807617,
           -49.84217834472656,
           -14.997122764587402,
           11.048212051391602,
           0.4474948740630013,
           0.49804926893059703,
           "1",
           "4",
           "3",
           "3",
           "7"
          ],
          [
           "Q93096 CC1_DSP_PRL_PTP4A1",
           "P57075",
           "HP",
           -0.1399761856496051,
           0.12227877225479804,
           48.04255676269531,
           -5.974546909332275,
           16.509973526000977,
           3.117363452911377,
           -0.36355918529335235,
           0.07844365215488579,
           "1",
           "3",
           "2",
           "0",
           "5"
          ],
          [
           "Q9BVJ7 CC1_DSP_DSP23_DUSP23",
           "Q9NRX4",
           "PHP",
           0.20055241875575236,
           -0.11419712040071191,
           -29.747314453125,
           15.714239120483398,
           2.3919718265533447,
           4.880616188049316,
           0.2720022853270897,
           0.05107649386947366,
           "1",
           "6",
           "6",
           "1",
           "1"
          ],
          [
           "Q9HBL0 CC1_PTEN_Tensin_TNS1",
           "P49593",
           "PPM",
           -0.2203541139122776,
           -0.28342408090190635,
           -40.81855010986328,
           -16.62942886352539,
           0.27821335196495056,
           -3.5905487537384033,
           0.2489535848394078,
           -0.2190454620032924,
           "1",
           "0",
           "4",
           "1",
           "2"
          ]
         ],
         "hovertemplate": "<b>%{hovertext}</b><br><br>clust_poincare=%{customdata[11]}<br>pm1=%{x}<br>pm2=%{y}<br>proteins_id=%{customdata[0]}<br>accession=%{customdata[1]}<br>label=%{customdata[2]}<br>x1_mds=%{customdata[3]}<br>x2_mds=%{customdata[4]}<br>x1_tsne=%{customdata[5]}<br>x2_tsne=%{customdata[6]}<br>x1_umap=%{customdata[7]}<br>x2_umap=%{customdata[8]}<br>x1_pca=%{customdata[9]}<br>x2_pca=%{customdata[10]}<br>clust_mds=%{customdata[12]}<br>clust_tsne=%{customdata[13]}<br>clust_umap=%{customdata[14]}<br>clust_pca=%{customdata[15]}<extra></extra>",
         "hovertext": [
          "1",
          "1",
          "1",
          "1",
          "1",
          "1",
          "1",
          "1",
          "1",
          "1",
          "1",
          "1",
          "1",
          "1",
          "1",
          "1",
          "1",
          "1",
          "1",
          "1",
          "1",
          "1",
          "1",
          "1"
         ],
         "legendgroup": "1",
         "marker": {
          "color": "#ab63fa",
          "symbol": "circle"
         },
         "mode": "markers",
         "name": "1",
         "orientation": "v",
         "showlegend": true,
         "type": "scatter",
         "x": [
          0.67355424,
          0.48754296,
          0.42983866,
          0.63105774,
          0.67604786,
          0.5566882,
          0.30384353,
          0.6478941,
          0.39294633,
          0.20037735,
          0.09755537,
          0.60533756,
          0.65757215,
          0.6749091,
          0.22716261,
          0.14510491,
          0.6636972,
          0.5964165,
          0.6659332,
          0.26133052,
          0.14479336,
          0.29405186,
          0.18124144,
          0.55000925
         ],
         "xaxis": "x",
         "y": [
          0.32228374,
          0.045928113,
          0.12698267,
          0.2598205,
          0.31754792,
          0.04436687,
          0.20897551,
          0.27084732,
          0.007532761,
          0.120061964,
          0.08101316,
          -0.10742089,
          0.30226934,
          0.23052467,
          0.12019806,
          0.12751855,
          0.29086795,
          0.20755066,
          0.2970051,
          0.39572385,
          0.07912033,
          0.0970808,
          0.028593611,
          0.15221208
         ],
         "yaxis": "y"
        },
        {
         "customdata": [
          [
           "A4FU01 CC1_Myotubularin_MTMR10_MTMR11",
           "O60729|1",
           "CC1",
           -0.22690683803050843,
           -0.2734259249773164,
           -42.982975006103516,
           -15.938305854797363,
           0.8404507637023926,
           -3.799001693725586,
           0.23998863340052784,
           -0.18518479425990356,
           "0",
           "0",
           "4",
           "1",
           "2"
          ],
          [
           "O15056 CC1_Sac_Synaptojanin_SYNJ2",
           "Q9H596",
           "CC1",
           -0.1149494116932923,
           0.1367610961600533,
           29.6793270111084,
           -8.819014549255371,
           13.890706062316895,
           2.4947121143341064,
           -0.36702806331620186,
           0.13006941102589528,
           "0",
           "3",
           "2",
           "0",
           "5"
          ],
          [
           "O43426 CC1_Sac_Synaptojanin_SYNJ1",
           "Q8WTR2",
           "CC1",
           -0.11924843739831557,
           0.1300384948893071,
           28.662372589111328,
           -4.118212699890137,
           14.238180160522461,
           2.0136585235595703,
           -0.3734854458754759,
           0.11935696705618228,
           "0",
           "3",
           "2",
           "0",
           "5"
          ],
          [
           "O95248 CC1_Myotubularin_MTMR5_SBF1",
           "Q9BY84",
           "CC1",
           0.37426309128507124,
           0.2320815613697237,
           13.788187980651855,
           -47.497955322265625,
           -15.03158950805664,
           11.03182601928711,
           0.3775028404650214,
           0.4376004973967752,
           "0",
           "4",
           "3",
           "3",
           "7"
          ],
          [
           "Q13496 CC1_Myotubularin_MTMR1_MTM1",
           "P08575|1",
           "CC1",
           -0.03504692514734019,
           0.32047372401373847,
           41.89957809448242,
           30.78795623779297,
           17.147380828857422,
           10.570853233337402,
           -0.13318682371169188,
           0.283406282845231,
           "0",
           "7",
           "5",
           "0",
           "8"
          ],
          [
           "Q13613 CC1_Myotubularin_MTMR1_MTMR1",
           "P08575|2",
           "CC1",
           0.08589295468244369,
           0.3141735129885995,
           -63.322906494140625,
           0.054367925971746445,
           17.781112670898438,
           21.61707878112793,
           -0.005039708805526986,
           0.3073555675482336,
           "0",
           "7",
           "9",
           "6",
           "8"
          ],
          [
           "Q13614 CC1_Myotubularin_MTMR1_MTMR2",
           "Q2HXI4|1",
           "CC1",
           0.20631707822586792,
           -0.34299792348410324,
           -15.072364807128906,
           -29.971988677978516,
           3.6869800090789795,
           -10.115476608276367,
           0.27035228473612505,
           0.1281533578733966,
           "0",
           "8",
           "7",
           "9",
           "6"
          ],
          [
           "Q13615 CC1_Myotubularin_MTMR3_MTMR3",
           "Q2HXI4|2",
           "CC1",
           0.15493397380151952,
           -0.1730488958851066,
           -34.85377502441406,
           16.241621017456055,
           2.793131113052368,
           5.281044960021973,
           0.2652738329030564,
           -0.02333676861893219,
           "0",
           "6",
           "6",
           "1",
           "1"
          ],
          [
           "Q86WG5 CC1_Myotubularin_MTMR5_SBF2",
           "O95476",
           "HAD",
           -0.12145198515082468,
           0.12088987210509093,
           38.36678695678711,
           -3.0369277000427246,
           15.117622375488281,
           1.8641613721847534,
           -0.3673282382252244,
           0.09012073717133462,
           "0",
           "3",
           "2",
           "0",
           "5"
          ],
          [
           "Q8NCE2 CC1_Myotubularin_MTMR14_MTMR14",
           "Q3ZCQ8",
           "HAD",
           -0.1312674827266533,
           0.1431617636592966,
           42.764156341552734,
           -10.586363792419434,
           15.582918167114258,
           2.9319345951080322,
           -0.3683379355211994,
           0.14623428839202907,
           "0",
           "3",
           "2",
           "0",
           "5"
          ],
          [
           "Q92562 CC1_Sac_FIG4_FIG4",
           "Q6FHU2",
           "HP",
           -0.07973103086361231,
           -0.07119624748170371,
           -12.539443969726562,
           44.236942291259766,
           2.841660737991333,
           14.225985527038574,
           -0.02520802757983227,
           -0.38000960440695736,
           "0",
           "1",
           "8",
           "2",
           "4"
          ],
          [
           "Q96EF0 CC1_Myotubularin_MTMR6_MTMR8",
           "Q8TF42",
           "HP",
           -0.124004765412582,
           0.1340503446132161,
           40.457393646240234,
           -8.701658248901367,
           15.289595603942871,
           2.8489301204681396,
           -0.3693845294138837,
           0.1297384635254298,
           "0",
           "3",
           "2",
           "0",
           "5"
          ],
          [
           "Q96QG7 CC1_Myotubularin_MTMR9_MTMR9",
           "Q9BZG2",
           "HP",
           -0.059803088792238425,
           -0.04860789333724108,
           -16.33067512512207,
           44.11888885498047,
           3.2753851413726807,
           14.360358238220215,
           -0.031909351481994475,
           -0.32276429035301807,
           "0",
           "1",
           "8",
           "2",
           "4"
          ],
          [
           "Q9C0I1 CC1_Myotubularin_MTMR10_MTMR12",
           "O60346",
           "PPM",
           -0.04570440045887746,
           -0.3168620462848531,
           -6.110902309417725,
           -5.506038665771484,
           14.00307559967041,
           -17.946744918823242,
           0.25825373001162466,
           -0.28176781451300686,
           "0",
           "9",
           "1",
           "7",
           "0"
          ],
          [
           "Q9NTJ5 CC1_Sac_SAC1_SACM1L",
           "Q8NI37",
           "PPM",
           -0.04814960717194001,
           -0.31429365343013016,
           -5.756698131561279,
           -6.165825366973877,
           13.948661804199219,
           -18.002899169921875,
           0.2521254794724468,
           -0.2927120919021069,
           "0",
           "9",
           "1",
           "7",
           "0"
          ],
          [
           "Q9NXD2 CC1_Myotubularin_MTMR10_MTMR10",
           "Q15750",
           "PPM",
           -0.11462500632103506,
           0.131015073069175,
           30.045705795288086,
           -8.987170219421387,
           13.640868186950684,
           2.405564785003662,
           -0.368934030448934,
           0.11711822187571944,
           "0",
           "3",
           "2",
           "0",
           "5"
          ],
          [
           "Q9NYA4 CC1_Myotubularin_MTMR3_MTMR4",
           "P13686",
           "PPPL",
           0.18718193972523095,
           -0.06744158814347419,
           -19.789094924926758,
           -14.639511108398438,
           0.5946228504180908,
           24.75985336303711,
           0.26164274661919773,
           -0.0627828723593974,
           "0",
           "6",
           "1",
           "5",
           "0"
          ],
          [
           "Q9ULE6|1 CC1_Paladin_Paladin_PALD1",
           "P36873",
           "PPPL",
           -0.12329394035389615,
           0.18316178603510422,
           30.446155548095703,
           -16.71927261352539,
           13.597265243530273,
           3.338383674621582,
           -0.35767749346314226,
           0.21343379205362656,
           "0",
           "3",
           "2",
           "0",
           "5"
          ],
          [
           "Q9ULE6|2 CC1_Paladin_Paladin_PALD1",
           "P67775",
           "PPPL",
           -0.03827366740288889,
           -0.008054005524965852,
           -6.6028571128845215,
           22.189067840576172,
           0.5413918495178223,
           2.409715175628662,
           -0.07281254563370393,
           -0.23410593185971143,
           "0",
           "1",
           "0",
           "1",
           "4"
          ],
          [
           "Q9Y216 CC1_Myotubularin_MTMR6_MTMR7",
           "P48454",
           "PPPL",
           -0.030922727069256715,
           0.027853633397334494,
           -4.300020217895508,
           20.185396194458008,
           0.3192563056945801,
           2.5872676372528076,
           -0.10511183642270462,
           -0.12751498601008018,
           "0",
           "1",
           "0",
           "1",
           "4"
          ],
          [
           "Q9Y217 CC1_Myotubularin_MTMR6_MTMR6",
           "P60510",
           "PPPL",
           -0.05510272107154627,
           -0.04639828140436293,
           -14.53555965423584,
           39.1134033203125,
           2.946751832962036,
           13.857808113098145,
           -0.033400012969763006,
           -0.32808073996325005,
           "0",
           "1",
           "8",
           "2",
           "4"
          ],
          [
           "Q9Y2H2 CC1_Sac_INPP5F_INPP5F",
           "P53041",
           "PPPL",
           -0.047815574689253064,
           -0.30818074741934914,
           -6.3887248039245605,
           -6.554407596588135,
           13.961328506469727,
           -17.990549087524414,
           0.2501520298013921,
           -0.2927711890812621,
           "0",
           "9",
           "1",
           "7",
           "0"
          ]
         ],
         "hovertemplate": "<b>%{hovertext}</b><br><br>clust_poincare=%{customdata[11]}<br>pm1=%{x}<br>pm2=%{y}<br>proteins_id=%{customdata[0]}<br>accession=%{customdata[1]}<br>label=%{customdata[2]}<br>x1_mds=%{customdata[3]}<br>x2_mds=%{customdata[4]}<br>x1_tsne=%{customdata[5]}<br>x2_tsne=%{customdata[6]}<br>x1_umap=%{customdata[7]}<br>x2_umap=%{customdata[8]}<br>x1_pca=%{customdata[9]}<br>x2_pca=%{customdata[10]}<br>clust_mds=%{customdata[12]}<br>clust_tsne=%{customdata[13]}<br>clust_umap=%{customdata[14]}<br>clust_pca=%{customdata[15]}<extra></extra>",
         "hovertext": [
          "0",
          "0",
          "0",
          "0",
          "0",
          "0",
          "0",
          "0",
          "0",
          "0",
          "0",
          "0",
          "0",
          "0",
          "0",
          "0",
          "0",
          "0",
          "0",
          "0",
          "0",
          "0"
         ],
         "legendgroup": "0",
         "marker": {
          "color": "#FFA15A",
          "symbol": "circle"
         },
         "mode": "markers",
         "name": "0",
         "orientation": "v",
         "showlegend": true,
         "type": "scatter",
         "x": [
          0.91000617,
          0.95099026,
          0.95517546,
          0.9125941,
          0.8516997,
          0.8801645,
          0.8745721,
          0.8951511,
          0.9129792,
          0.8670918,
          0.947034,
          0.8718762,
          0.8811302,
          0.9058596,
          0.9512168,
          0.89661175,
          0.89726716,
          0.94762474,
          0.9401879,
          0.88680714,
          0.87415045,
          0.9512972
         ],
         "xaxis": "x",
         "y": [
          0.23994876,
          0.18030119,
          0.17876756,
          0.24743813,
          0.26956823,
          0.2689856,
          0.2884669,
          0.2518515,
          0.25347444,
          0.25312665,
          0.1755388,
          0.27900988,
          0.24877442,
          0.22716005,
          0.17450829,
          0.23694597,
          0.260358,
          0.18045415,
          0.18388472,
          0.27669212,
          0.26504168,
          0.18463881
         ],
         "yaxis": "y"
        },
        {
         "customdata": [
          [
           "A8MPX8 PPM_PPM_PP2D1_PP2D1",
           "Q16667",
           "CC1",
           -0.15154861339646788,
           0.014898060994705508,
           8.75581169128418,
           17.793066024780273,
           -1.1425360441207886,
           2.474431037902832,
           -0.15806928908387433,
           -0.1227060170277096,
           "6",
           "1",
           "0",
           "1",
           "3"
          ],
          [
           "O15297 PPM_PPM_PPM1D_PPM1D",
           "Q9H1R2",
           "CC1",
           -0.2892333698487094,
           0.19175058159174999,
           11.138652801513672,
           13.278311729431152,
           -1.5675123929977417,
           2.3788766860961914,
           -0.15038701398897086,
           0.05067063306269707,
           "6",
           "5",
           "0",
           "1",
           "9"
          ],
          [
           "O15355 PPM_PPM_PPM1G_PPM1G",
           "Q9NRW4",
           "CC1",
           -0.10184418881079156,
           0.13736057293580373,
           24.495376586914062,
           -22.162254333496094,
           12.677740097045898,
           4.505109786987305,
           -0.36028200606967176,
           0.13679974771002626,
           "6",
           "3",
           "2",
           "0",
           "5"
          ],
          [
           "O60346 PPM_PPM_PHLPP_PHLPP1",
           "Q9BVJ7",
           "CC1",
           -0.25382033585546365,
           -0.30374421709876076,
           -45.34511947631836,
           -13.567440032958984,
           1.3096494674682617,
           -3.668200969696045,
           0.24473866400488672,
           -0.16572384226706,
           "6",
           "0",
           "4",
           "1",
           "2"
          ],
          [
           "O75688 PPM_PPM_PPM1A_PPM1B",
           "Q99956",
           "CC1",
           -0.10955936506632381,
           0.1278652077991338,
           26.25913429260254,
           -9.700044631958008,
           13.375044822692871,
           2.431464910507202,
           -0.3646343327978863,
           0.1115016461227072,
           "6",
           "3",
           "2",
           "0",
           "5"
          ],
          [
           "P35813 PPM_PPM_PPM1A_PPM1A",
           "P18031",
           "CC1",
           -0.1099030948289313,
           0.1231471940374257,
           23.956466674804688,
           -7.30940055847168,
           13.273301124572754,
           2.306668519973755,
           -0.36216117127015035,
           0.10615942442941437,
           "6",
           "3",
           "2",
           "0",
           "5"
          ],
          [
           "P49593 PPM_PPM_PPM1E_PPM1F",
           "Q99952",
           "CC1",
           0.3048699767859708,
           -0.09547910208148402,
           -16.891443252563477,
           -7.560449600219727,
           -11.804238319396973,
           16.20629119873047,
           0.32190431974378486,
           0.023014804440371087,
           "6",
           "2",
           "1",
           "3",
           "0"
          ],
          [
           "Q15750 PPM_PPM_TAB1_TAB1",
           "Q13332|1",
           "CC1",
           0.28552173702017625,
           0.09555753879479072,
           0.6311473250389099,
           -53.24477005004883,
           -10.604207038879395,
           -2.2601993083953857,
           0.39989130304257337,
           0.21483045967864217,
           "6",
           "4",
           "3",
           "4",
           "7"
          ],
          [
           "Q5JR12 PPM_PPM_PPM1H_PPM1J",
           "Q92562",
           "CC1",
           -0.3316348202519518,
           -0.1048403327274197,
           -27.523174285888672,
           16.370941162109375,
           2.4799511432647705,
           4.965363502502441,
           0.19608938803360917,
           0.09000114173937353,
           "6",
           "0",
           "6",
           "1",
           "0"
          ],
          [
           "Q5SGD2 PPM_PPM_PPM1L_PPM1L",
           "Q9Y2H2",
           "CC1",
           0.1756964527733533,
           -0.16790541771867348,
           -34.0355339050293,
           15.564586639404297,
           2.744816303253174,
           5.23275899887085,
           0.26845941449166455,
           0.020517291452759705,
           "6",
           "6",
           "6",
           "1",
           "1"
          ],
          [
           "Q6ZVD8 PPM_PPM_PHLPP_PHLPP2",
           "A0A0S2Z3Q2",
           "HAD",
           0.01063838579560421,
           -0.25712996288393336,
           -9.313322067260742,
           -5.897730350494385,
           14.319330215454102,
           -17.61312484741211,
           0.279616167516653,
           -0.20484283671917758,
           "6",
           "9",
           "1",
           "7",
           "0"
          ],
          [
           "Q8N3J5 PPM_PPM_PPM1K_PPM1K",
           "O14595",
           "HAD",
           -0.11621227061426685,
           0.13831143145246175,
           36.3269157409668,
           -9.353252410888672,
           14.481837272644043,
           2.5200958251953125,
           -0.3717876111404386,
           0.13725341561728457,
           "6",
           "3",
           "2",
           "0",
           "5"
          ],
          [
           "Q8N819 PPM_PPM_PPM1A_PPM1N",
           "O15194",
           "HAD",
           0.0006083228318278788,
           0.1281333584729343,
           10.570282936096191,
           16.856277465820312,
           -1.3754959106445312,
           2.3226864337921143,
           -0.14199111426462,
           0.03121827319020926,
           "6",
           "3",
           "0",
           "1",
           "3"
          ],
          [
           "Q8NI37 PPM_PPM_PTC7_PPTC7",
           "Q9BXW7",
           "HAD",
           -0.01887432494468598,
           -0.2893635985135036,
           -8.583550453186035,
           -5.517700672149658,
           14.200794219970703,
           -17.735185623168945,
           0.2619368818603242,
           -0.26656295169534233,
           "6",
           "9",
           "1",
           "7",
           "0"
          ],
          [
           "Q8WY54 PPM_PPM_PPM1E_PPM1E",
           "Q16877",
           "HP",
           0.3296624180830775,
           0.16179822651534875,
           16.057254791259766,
           -49.048702239990234,
           -15.010212898254395,
           11.058570861816406,
           0.42646655628506014,
           0.4195476072822508,
           "6",
           "4",
           "3",
           "3",
           "7"
          ],
          [
           "Q96MI6 PPM_PPM_PPM1H_PPM1M",
           "P15309",
           "HP",
           0.2876210304805218,
           0.12862214203920627,
           3.4092867374420166,
           -56.18830108642578,
           -10.194267272949219,
           -1.8513917922973633,
           0.3701059831600082,
           0.2525172588949016,
           "6",
           "4",
           "3",
           "4",
           "7"
          ],
          [
           "Q9H0C8 PPM_PPM_ILKAP_ILKAP",
           "P35813",
           "PPM",
           0.01509946584522685,
           0.02619264178017918,
           -9.188058853149414,
           23.0535831451416,
           0.9563515186309814,
           2.5573809146881104,
           -0.04329821855541877,
           -0.1437378974606361,
           "6",
           "1",
           "0",
           "1",
           "4"
          ],
          [
           "Q9P0J1 PPM_PPM_PDPc_PDP1",
           "Q6ZNF0",
           "PPPL",
           -0.10687903217369286,
           0.12952905451942723,
           21.9213924407959,
           -6.513594150543213,
           13.024232864379883,
           2.072953939437866,
           -0.3564107790160075,
           0.12703332160687514,
           "6",
           "3",
           "2",
           "0",
           "5"
          ],
          [
           "Q9P2J9 PPM_PPM_PDPc_PDP2",
           "P62136",
           "PPPL",
           0.26090509565197173,
           -0.17137511074518488,
           -23.59600067138672,
           -37.076515197753906,
           -8.749129295349121,
           6.07510232925415,
           0.24511437696260943,
           0.18611980069111328,
           "6",
           "2",
           "7",
           "4",
           "1"
          ],
          [
           "Q9ULR3 PPM_PPM_PPM1H_PPM1H",
           "P62714",
           "PPPL",
           -0.12158327476922003,
           0.12226990586155333,
           38.6439094543457,
           -3.427443265914917,
           15.169492721557617,
           1.8479927778244019,
           -0.3673491462614032,
           0.09650014033921671,
           "6",
           "3",
           "2",
           "0",
           "5"
          ]
         ],
         "hovertemplate": "<b>%{hovertext}</b><br><br>clust_poincare=%{customdata[11]}<br>pm1=%{x}<br>pm2=%{y}<br>proteins_id=%{customdata[0]}<br>accession=%{customdata[1]}<br>label=%{customdata[2]}<br>x1_mds=%{customdata[3]}<br>x2_mds=%{customdata[4]}<br>x1_tsne=%{customdata[5]}<br>x2_tsne=%{customdata[6]}<br>x1_umap=%{customdata[7]}<br>x2_umap=%{customdata[8]}<br>x1_pca=%{customdata[9]}<br>x2_pca=%{customdata[10]}<br>clust_mds=%{customdata[12]}<br>clust_tsne=%{customdata[13]}<br>clust_umap=%{customdata[14]}<br>clust_pca=%{customdata[15]}<extra></extra>",
         "hovertext": [
          "6",
          "6",
          "6",
          "6",
          "6",
          "6",
          "6",
          "6",
          "6",
          "6",
          "6",
          "6",
          "6",
          "6",
          "6",
          "6",
          "6",
          "6",
          "6",
          "6"
         ],
         "legendgroup": "6",
         "marker": {
          "color": "#19d3f3",
          "symbol": "circle"
         },
         "mode": "markers",
         "name": "6",
         "orientation": "v",
         "showlegend": true,
         "type": "scatter",
         "x": [
          -0.52600425,
          -0.57989615,
          -0.5499563,
          -0.6552539,
          -0.64442515,
          -0.6628551,
          -0.66549796,
          -0.586245,
          -0.5604025,
          -0.6549987,
          -0.6639564,
          -0.65678775,
          -0.65117955,
          -0.6764071,
          -0.6646821,
          -0.5654784,
          -0.6362169,
          -0.5607094,
          -0.571806,
          -0.54711074
         ],
         "xaxis": "x",
         "y": [
          -0.68303365,
          -0.66578865,
          -0.6811802,
          -0.6726144,
          -0.6369932,
          -0.6307128,
          -0.654515,
          -0.7019163,
          -0.7008652,
          -0.66226214,
          -0.6696629,
          -0.65272695,
          -0.64472777,
          -0.63840693,
          -0.64299184,
          -0.6939357,
          -0.6612239,
          -0.72002804,
          -0.7160855,
          -0.7042581
         ],
         "yaxis": "y"
        },
        {
         "customdata": [
          [
           "O00743 PPPL_PPP_PPP6C_PPP6C",
           "Q13115",
           "CC1",
           -0.008772711464420792,
           0.03802396606521717,
           -9.570722579956055,
           23.189464569091797,
           0.946465790271759,
           2.572017192840576,
           -0.09459800397487628,
           -0.12439309874258989,
           "2",
           "1",
           "0",
           "1",
           "4"
          ],
          [
           "O14829 PPPL_PPP_PPP7C_PPEF1",
           "Q9UNI6",
           "CC1",
           -0.012042035155429644,
           0.1978836165996754,
           38.81767272949219,
           30.730310440063477,
           16.953516006469727,
           10.360122680664062,
           -0.16332412425112916,
           0.10996836428457493,
           "2",
           "3",
           "5",
           "0",
           "3"
          ],
          [
           "O14830 PPPL_PPP_PPP7C_PPEF2",
           "Q6FI36",
           "CC1",
           0.2988172220807842,
           0.12138984690291411,
           3.0337092876434326,
           -52.874752044677734,
           -10.441754341125488,
           -2.096231698989868,
           0.39921159905902,
           0.2948177249178932,
           "2",
           "4",
           "3",
           "4",
           "7"
          ],
          [
           "P16298 PPPL_PPP_PPP3C_PPP3CB",
           "Q9NXD2",
           "CC1",
           -0.24461273069031683,
           0.017822291689657967,
           35.66857147216797,
           33.320823669433594,
           16.78082847595215,
           10.174823760986328,
           -0.06650298027079245,
           -0.030586299196914,
           "2",
           "1",
           "5",
           "0",
           "3"
          ],
          [
           "P36873 PPPL_PPP_PPP1C_PPP1CC",
           "P17706",
           "CC1",
           0.037760427661654,
           -0.17763187362695812,
           -14.769988059997559,
           19.72917366027832,
           1.1876728534698486,
           3.01558256149292,
           0.16234477672390316,
           -0.12981449188896968,
           "2",
           "6",
           "0",
           "1",
           "0"
          ],
          [
           "P48454 PPPL_PPP_PPP3C_PPP3CC",
           "Q05209",
           "CC1",
           -0.03408480325504493,
           -0.2859737897959713,
           -7.036436557769775,
           -6.00582218170166,
           14.119799613952637,
           -17.824045181274414,
           0.2559321818040165,
           -0.25723270337462023,
           "2",
           "9",
           "1",
           "7",
           "0"
          ],
          [
           "P53041 PPPL_PPP_PPP5C_PPP5C",
           "Q12923",
           "CC1",
           0.3051792604070864,
           -0.051219403969265734,
           -20.037567138671875,
           -13.746102333068848,
           0.522162914276123,
           24.687313079833984,
           0.29905059927343824,
           0.10281368322073421,
           "2",
           "2",
           "1",
           "5",
           "0"
          ],
          [
           "P60510 PPPL_PPP_PPP4C_PPP4C",
           "P26045",
           "CC1",
           -0.14357814633404684,
           0.1248087796179952,
           48.065643310546875,
           -6.598777770996094,
           16.55413246154785,
           3.1563332080841064,
           -0.3646810062918772,
           0.07943012606360647,
           "2",
           "3",
           "2",
           "0",
           "5"
          ],
          [
           "P62136 PPPL_PPP_PPP1C_PPP1CA",
           "P29074",
           "CC1",
           0.08574640251014269,
           0.30073032125420707,
           -64.63610076904297,
           0.05069436505436897,
           17.726463317871094,
           21.671463012695312,
           -0.0035001064967015976,
           0.28050003806539664,
           "2",
           "7",
           "9",
           "6",
           "8"
          ],
          [
           "P62140 PPPL_PPP_PPP1C_PPP1CB",
           "P54829",
           "CC1",
           -0.07391311512047803,
           -0.05801210483032433,
           -1.280993103981018,
           45.3625602722168,
           1.4016326665878296,
           11.900031089782715,
           -0.034285988453801534,
           -0.34137955735528497,
           "2",
           "1",
           "8",
           "2",
           "4"
          ],
          [
           "P62714 PPPL_PPP_PPP2C_PPP2CB",
           "P35236",
           "CC1",
           -0.0637170230732095,
           -0.06126885542612942,
           -15.679732322692871,
           43.83854293823242,
           3.207008123397827,
           14.342292785644531,
           -0.02474045149170471,
           -0.35202838756730964,
           "2",
           "1",
           "8",
           "2",
           "4"
          ],
          [
           "P67775 PPPL_PPP_PPP2C_PPP2CA",
           "Q15256",
           "CC1",
           -0.11214215872542115,
           -0.011606049295245295,
           -1.0967063903808594,
           19.244518280029297,
           -0.2371072620153427,
           2.7367560863494873,
           -0.1257086768682323,
           -0.23300780242074273,
           "2",
           "1",
           "0",
           "1",
           "4"
          ],
          [
           "Q08209 PPPL_PPP_PPP3C_PPP3CA",
           "P18433|2",
           "CC1",
           -0.13092369907838458,
           0.12682325917075973,
           43.07533264160156,
           -7.703249454498291,
           15.840729713439941,
           2.780168294906616,
           -0.36725761241115257,
           0.10273260271273169,
           "2",
           "3",
           "2",
           "0",
           "5"
          ],
          [
           "Q6ZNF0 PPPL_PAP_PAPL_PAPL",
           "Q99504",
           "HAD",
           -0.12532510276592843,
           0.14563786131589174,
           37.96492004394531,
           -11.274701118469238,
           14.885635375976562,
           2.7285690307617188,
           -0.3748866117624096,
           0.15345582786902046,
           "2",
           "3",
           "2",
           "0",
           "5"
          ]
         ],
         "hovertemplate": "<b>%{hovertext}</b><br><br>clust_poincare=%{customdata[11]}<br>pm1=%{x}<br>pm2=%{y}<br>proteins_id=%{customdata[0]}<br>accession=%{customdata[1]}<br>label=%{customdata[2]}<br>x1_mds=%{customdata[3]}<br>x2_mds=%{customdata[4]}<br>x1_tsne=%{customdata[5]}<br>x2_tsne=%{customdata[6]}<br>x1_umap=%{customdata[7]}<br>x2_umap=%{customdata[8]}<br>x1_pca=%{customdata[9]}<br>x2_pca=%{customdata[10]}<br>clust_mds=%{customdata[12]}<br>clust_tsne=%{customdata[13]}<br>clust_umap=%{customdata[14]}<br>clust_pca=%{customdata[15]}<extra></extra>",
         "hovertext": [
          "2",
          "2",
          "2",
          "2",
          "2",
          "2",
          "2",
          "2",
          "2",
          "2",
          "2",
          "2",
          "2",
          "2"
         ],
         "legendgroup": "2",
         "marker": {
          "color": "#FF6692",
          "symbol": "circle"
         },
         "mode": "markers",
         "name": "2",
         "orientation": "v",
         "showlegend": true,
         "type": "scatter",
         "x": [
          0.7884546,
          0.78244865,
          0.8020336,
          0.7845501,
          0.8402469,
          0.7736453,
          0.8023969,
          0.8075144,
          0.8341099,
          0.83838403,
          0.8167859,
          0.82195044,
          0.8006459,
          0.73736787
         ],
         "xaxis": "x",
         "y": [
          -0.36313272,
          -0.38968065,
          -0.3990983,
          -0.32280546,
          -0.3511664,
          -0.34158912,
          -0.3834047,
          -0.3585474,
          -0.3590032,
          -0.36822048,
          -0.3433443,
          -0.3741104,
          -0.3117351,
          -0.24251243
         ],
         "yaxis": "y"
        },
        {
         "customdata": [
          [
           "O14522|1 CC1_PTP_PTPRK_PTPRT",
           "Q16690",
           "CC1",
           -0.19719957364979762,
           0.057486070202589015,
           34.27497482299805,
           30.434797286987305,
           16.4310245513916,
           9.824585914611816,
           -0.16202140152456,
           0.017309315096436125,
           "9",
           "1",
           "5",
           "0",
           "3"
          ],
          [
           "P08575|1 CC1_PTP_PTPRC_PTPRC",
           "A2A3K4",
           "CC1",
           -0.06901458129624811,
           -0.06743965430060124,
           -2.7588419914245605,
           45.064571380615234,
           1.5289521217346191,
           11.98646068572998,
           -0.025986604680319485,
           -0.3568907198966081,
           "9",
           "1",
           "8",
           "2",
           "4"
          ],
          [
           "P10586|1 CC1_PTP_PTPRD_PTPRF",
           "Q8WYL5",
           "CC1",
           0.3299665851522681,
           0.14897480578135225,
           16.84459114074707,
           -48.25481414794922,
           -14.942848205566406,
           11.127178192138672,
           0.41906969430444135,
           0.3860539195902343,
           "9",
           "4",
           "3",
           "3",
           "7"
          ],
          [
           "P18433|1 CC1_PTP_PTPRA_PTPRA",
           "Q8NCE2",
           "CC1",
           -0.024382856259679044,
           -0.010050513842405373,
           -5.9308600425720215,
           23.513286590576172,
           0.598212480545044,
           2.4550843238830566,
           -0.0611002030080417,
           -0.2246810593251487,
           "9",
           "1",
           "0",
           "1",
           "4"
          ],
          [
           "P23469|1 CC1_PTP_PTPRA_PTPRE",
           "O95248",
           "CC1",
           -0.07020817064389703,
           -0.06921928733109323,
           -2.004357099533081,
           45.87776184082031,
           1.5429019927978516,
           11.811663627624512,
           -0.02029874161233635,
           -0.3584101794744059,
           "9",
           "1",
           "8",
           "2",
           "4"
          ],
          [
           "P23470|1 CC1_PTP_PTPRG_PTPRG",
           "Q9Y217",
           "CC1",
           -0.053849210564152095,
           0.21708008728102232,
           10.015557289123535,
           17.903526306152344,
           -1.2721890211105347,
           2.359394073486328,
           -0.16993309862749112,
           0.018500010011229053,
           "9",
           "3",
           "0",
           "1",
           "3"
          ],
          [
           "P23471|1 CC1_PTP_PTPRG_PTPRZ1",
           "Q96EF0",
           "CC1",
           -0.08094659285280717,
           -0.0696140681074066,
           -12.60284423828125,
           43.64911651611328,
           2.8420772552490234,
           14.20486068725586,
           -0.02986570180660055,
           -0.3832124621400561,
           "9",
           "1",
           "8",
           "2",
           "4"
          ],
          [
           "P28827|1 CC1_PTP_PTPRK_PTPRM",
           "O14976",
           "CC1",
           0.29897895416242354,
           -0.16964541812560635,
           -24.648738861083984,
           -37.883853912353516,
           -8.639935493469238,
           6.182944297790527,
           0.24676347775358873,
           0.22773190761305243,
           "9",
           "2",
           "7",
           "4",
           "1"
          ],
          [
           "Q06124 CC1_PTP_PTPN6_PTPN11",
           "P18433|1",
           "CC1",
           -0.19570473097776675,
           0.05709421336556985,
           34.41516876220703,
           29.388559341430664,
           16.50505256652832,
           9.905359268188477,
           -0.1643508382813422,
           0.014372047123886898,
           "9",
           "1",
           "5",
           "0",
           "3"
          ],
          [
           "Q13332|1 CC1_PTP_PTPRD_PTPRS",
           "Q16827",
           "CC1",
           0.08420046303213854,
           0.31898987532079803,
           -61.71746063232422,
           0.5002849698066711,
           17.795089721679688,
           21.60279655456543,
           -0.014788594107929222,
           0.33567791271463804,
           "9",
           "7",
           "9",
           "6",
           "8"
          ],
          [
           "Q2HXI4|1 CC1_PTP_PTPRD_PTPRD",
           "O14522|1",
           "CC1",
           -0.1469846516847771,
           0.13199570763375817,
           48.68328857421875,
           -6.278623104095459,
           16.598051071166992,
           3.1850762367248535,
           -0.37084272284602593,
           0.09333733453929934,
           "9",
           "3",
           "2",
           "0",
           "5"
          ],
          [
           "Q5TG12|1 CC1_PTP_PTPRK_PTPRK",
           "Q9NTJ5",
           "CC1",
           0.1758969002602487,
           0.019750103138149525,
           -14.539701461791992,
           19.502649307250977,
           1.0911900997161865,
           2.941876173019409,
           0.17766252272557184,
           0.03142896840105298,
           "9",
           "6",
           "0",
           "1",
           "0"
          ],
          [
           "Q92729|1 CC1_PTP_PTPRK_PTPRU",
           "P15259",
           "HP",
           0.3119096399025022,
           0.2031417084868191,
           15.249707221984863,
           -47.41117477416992,
           -15.130784034729004,
           10.936162948608398,
           0.3669334477282911,
           0.42535414867560745,
           "9",
           "4",
           "3",
           "3",
           "7"
          ]
         ],
         "hovertemplate": "<b>%{hovertext}</b><br><br>clust_poincare=%{customdata[11]}<br>pm1=%{x}<br>pm2=%{y}<br>proteins_id=%{customdata[0]}<br>accession=%{customdata[1]}<br>label=%{customdata[2]}<br>x1_mds=%{customdata[3]}<br>x2_mds=%{customdata[4]}<br>x1_tsne=%{customdata[5]}<br>x2_tsne=%{customdata[6]}<br>x1_umap=%{customdata[7]}<br>x2_umap=%{customdata[8]}<br>x1_pca=%{customdata[9]}<br>x2_pca=%{customdata[10]}<br>clust_mds=%{customdata[12]}<br>clust_tsne=%{customdata[13]}<br>clust_umap=%{customdata[14]}<br>clust_pca=%{customdata[15]}<extra></extra>",
         "hovertext": [
          "9",
          "9",
          "9",
          "9",
          "9",
          "9",
          "9",
          "9",
          "9",
          "9",
          "9",
          "9",
          "9"
         ],
         "legendgroup": "9",
         "marker": {
          "color": "#B6E880",
          "symbol": "circle"
         },
         "mode": "markers",
         "name": "9",
         "orientation": "v",
         "showlegend": true,
         "type": "scatter",
         "x": [
          -0.60036445,
          -0.61967254,
          -0.6127095,
          -0.59916717,
          -0.621538,
          -0.6402564,
          -0.632904,
          -0.6059954,
          -0.6455713,
          -0.6180837,
          -0.6057797,
          -0.59107286,
          -0.57974094
         ],
         "xaxis": "x",
         "y": [
          0.7035699,
          0.6465737,
          0.70581573,
          0.67761916,
          0.6733216,
          0.65745145,
          0.6576741,
          0.69663113,
          0.6203123,
          0.70158684,
          0.7085636,
          0.7090083,
          0.6909802
         ],
         "yaxis": "y"
        },
        {
         "customdata": [
          [
           "O60825 HP_HP1_PFKFB_PFKFB2",
           "Q9BV47",
           "CC1",
           0.20129018852561548,
           -0.3439931456641459,
           -14.768391609191895,
           -29.377788543701172,
           3.7196426391601562,
           -10.148927688598633,
           0.2688753131866823,
           0.12145238635370166,
           "8",
           "8",
           "7",
           "9",
           "6"
          ],
          [
           "P07738 HP_HP1_PGAM_BPGM",
           "O75365",
           "CC1",
           -0.1285295726259588,
           0.1434856391504327,
           42.80752944946289,
           -10.427135467529297,
           15.629719734191895,
           2.9867947101593018,
           -0.37142155166857976,
           0.15228343860908752,
           "8",
           "3",
           "2",
           "0",
           "5"
          ],
          [
           "P15259 HP_HP1_PGAM_PGAM2",
           "Q13496",
           "CC1",
           -0.07541099287465948,
           -0.054956151583430576,
           -9.391240119934082,
           41.55999755859375,
           2.420534372329712,
           13.676769256591797,
           -0.04369161164408906,
           -0.3494218376984481,
           "8",
           "1",
           "8",
           "2",
           "4"
          ],
          [
           "P16118 HP_HP1_PFKFB_PFKFB1",
           "Q13614",
           "CC1",
           -0.0757067102338616,
           -0.06310363565947316,
           -10.550823211669922,
           40.45188522338867,
           2.512993335723877,
           13.732820510864258,
           -0.032038961944868376,
           -0.3703733683922994,
           "8",
           "1",
           "8",
           "2",
           "4"
          ],
          [
           "P57075 HP_HP1_STS_UBASH3A",
           "Q16825",
           "CC1",
           -0.11197911657889441,
           0.11995407193673764,
           22.228092193603516,
           -6.134368896484375,
           13.004837036132812,
           2.0517897605895996,
           -0.35691984871871435,
           0.09448882434832635,
           "8",
           "3",
           "2",
           "0",
           "5"
          ],
          [
           "Q16875 HP_HP1_PFKFB_PFKFB3",
           "P28827|1",
           "CC1",
           -0.10595101821436355,
           0.157138096961545,
           26.247055053710938,
           -23.148509979248047,
           12.695474624633789,
           4.484399795532227,
           -0.36056251698968217,
           0.15857720930035338,
           "8",
           "3",
           "2",
           "0",
           "5"
          ],
          [
           "Q16877 HP_HP1_PFKFB_PFKFB4",
           "P28827|2",
           "CC1",
           -0.07855067175162535,
           -0.06539651696115598,
           -10.200319290161133,
           40.693946838378906,
           2.4229519367218018,
           13.618200302124023,
           -0.03103619688114948,
           -0.3699121243389295,
           "8",
           "1",
           "8",
           "2",
           "4"
          ],
          [
           "Q6FHU2 HP_HP1_PGAM_PGAM1",
           "P30305",
           "CC3",
           0.2776613711423893,
           0.104995642664623,
           1.9817554950714111,
           -54.46836471557617,
           -10.342265129089355,
           -1.9988088607788086,
           0.38883738019239306,
           0.22165053341512575,
           "8",
           "4",
           "3",
           "4",
           "7"
          ],
          [
           "Q8N0Y7 HP_HP1_PGAM_PGAM4",
           "Q9GZU7",
           "HAD",
           -0.20341902853407481,
           -0.27391797828289727,
           -44.979759216308594,
           -18.67843246459961,
           0.8195858001708984,
           -3.987873077392578,
           0.2578864603165778,
           -0.06423843618998121,
           "8",
           "0",
           "4",
           "1",
           "2"
          ],
          [
           "Q8TF42 HP_HP1_STS_UBASH3B",
           "Q96GD0",
           "HAD",
           0.0837613658206564,
           0.30979161209548517,
           -64.16687774658203,
           -0.5687207579612732,
           17.693008422851562,
           21.705062866210938,
           -0.007932166872452968,
           0.30111748630404667,
           "8",
           "7",
           "9",
           "6",
           "8"
          ],
          [
           "Q96HS1 HP_HP1_PGAM5_PGAM5",
           "P11117",
           "HP",
           -0.07879611763839248,
           -0.06870716620184282,
           -12.073278427124023,
           43.388736724853516,
           2.8104217052459717,
           14.129911422729492,
           -0.029502407961282118,
           -0.38172983072687877,
           "8",
           "1",
           "8",
           "2",
           "4"
          ],
          [
           "Q9NQ88 HP_HP1_TIGAR_TIGAR",
           "Q96MI6",
           "PPM",
           0.1919763079467139,
           -0.11884177873930125,
           -30.065326690673828,
           15.790800094604492,
           2.3186891078948975,
           4.803195476531982,
           0.2694678321268582,
           0.03612181457753298,
           "8",
           "6",
           "6",
           "1",
           "1"
          ],
          [
           "Q9NRX4 PHP_PHP_PHP_PHPT1",
           "Q5SGD2",
           "PPM",
           -0.11088375171509757,
           0.12866898859815287,
           26.225208282470703,
           -9.73654556274414,
           13.454415321350098,
           2.5938005447387695,
           -0.3655025576417094,
           0.11651385946191767,
           "8",
           "3",
           "2",
           "0",
           "5"
          ]
         ],
         "hovertemplate": "<b>%{hovertext}</b><br><br>clust_poincare=%{customdata[11]}<br>pm1=%{x}<br>pm2=%{y}<br>proteins_id=%{customdata[0]}<br>accession=%{customdata[1]}<br>label=%{customdata[2]}<br>x1_mds=%{customdata[3]}<br>x2_mds=%{customdata[4]}<br>x1_tsne=%{customdata[5]}<br>x2_tsne=%{customdata[6]}<br>x1_umap=%{customdata[7]}<br>x2_umap=%{customdata[8]}<br>x1_pca=%{customdata[9]}<br>x2_pca=%{customdata[10]}<br>clust_mds=%{customdata[12]}<br>clust_tsne=%{customdata[13]}<br>clust_umap=%{customdata[14]}<br>clust_pca=%{customdata[15]}<extra></extra>",
         "hovertext": [
          "8",
          "8",
          "8",
          "8",
          "8",
          "8",
          "8",
          "8",
          "8",
          "8",
          "8",
          "8",
          "8"
         ],
         "legendgroup": "8",
         "marker": {
          "color": "#FF97FF",
          "symbol": "circle"
         },
         "mode": "markers",
         "name": "8",
         "orientation": "v",
         "showlegend": true,
         "type": "scatter",
         "x": [
          -0.12738454,
          -0.20978634,
          -0.19895469,
          -0.15676963,
          -0.23312074,
          -0.17889611,
          -0.15936878,
          -0.17411558,
          -0.1701493,
          -0.21376567,
          -0.18321623,
          -0.2784523,
          -0.25402185
         ],
         "xaxis": "x",
         "y": [
          -0.8358726,
          -0.82621783,
          -0.79651093,
          -0.8311753,
          -0.7434925,
          -0.843825,
          -0.8499952,
          -0.82060033,
          -0.79607654,
          -0.7340785,
          -0.751227,
          -0.7570063,
          -0.6690279
         ],
         "yaxis": "y"
        },
        {
         "customdata": [
          [
           "P24666 CC2_LMWPTP_LMWPTP_LMWPTP",
           "Q9ULE6|1",
           "CC1",
           -0.01078539519301056,
           0.15622245286287195,
           34.99988555908203,
           29.039793014526367,
           16.488319396972656,
           9.889632225036621,
           -0.16409662140943168,
           0.011428743554754858,
           "3",
           "3",
           "5",
           "0",
           "3"
          ],
          [
           "P28562 CC1_DSP_DSP1_DUSP1",
           "O75061",
           "CC1",
           -0.12043085894005165,
           0.13507551177182994,
           36.11131286621094,
           -9.512604713439941,
           14.58840274810791,
           2.7163679599761963,
           -0.3747199984673947,
           0.12879934095037449,
           "3",
           "3",
           "2",
           "0",
           "5"
          ],
          [
           "P30304 CC3_CDC25_CDC25_CDC25A",
           "Q63HR2",
           "CC1",
           -0.12131788270119598,
           0.12433592200027453,
           38.183353424072266,
           -3.5182719230651855,
           15.08930778503418,
           1.9106600284576416,
           -0.36988555654233674,
           0.10194325019791105,
           "3",
           "3",
           "2",
           "0",
           "5"
          ],
          [
           "P30305 CC3_CDC25_CDC25_CDC25B",
           "Q68CZ2",
           "CC1",
           -0.11874191172039532,
           0.13731331602583685,
           30.866291046142578,
           -2.8447763919830322,
           14.272981643676758,
           1.8409968614578247,
           -0.3646180414724745,
           0.13098725019429225,
           "3",
           "3",
           "2",
           "0",
           "5"
          ],
          [
           "P30307 CC3_CDC25_CDC25_CDC25C",
           "P56180",
           "CC1",
           0.15763316271379998,
           -0.18278468562375572,
           -34.83496856689453,
           15.533649444580078,
           2.8259079456329346,
           5.3136420249938965,
           0.2724305115334574,
           -0.030018073921021796,
           "3",
           "6",
           "6",
           "1",
           "1"
          ],
          [
           "P51452 CC1_DSP_DSP3_DUSP3",
           "Q9Y2R2",
           "CC1",
           -0.10175020251654462,
           0.15313828677716684,
           26.22071075439453,
           -23.53720474243164,
           12.653482437133789,
           4.529600620269775,
           -0.3522959699249535,
           0.1425093453188382,
           "3",
           "3",
           "2",
           "0",
           "5"
          ],
          [
           "Q05923 CC1_DSP_DSP1_DUSP2",
           "Q53XS4",
           "CC1",
           -0.11056020955090186,
           0.13837127650872838,
           27.62346839904785,
           -13.384956359863281,
           13.57767391204834,
           2.9116883277893066,
           -0.36329375675190034,
           0.13854017934355337,
           "3",
           "3",
           "2",
           "0",
           "5"
          ],
          [
           "Q13115 CC1_DSP_DSP1_DUSP4",
           "Q9HD43",
           "CC1",
           -0.02241891272508302,
           0.08858870540611816,
           9.105993270874023,
           18.1702823638916,
           -1.1186602115631104,
           2.5296618938446045,
           -0.1606086108531197,
           -0.07495130209758741,
           "3",
           "3",
           "0",
           "1",
           "3"
          ],
          [
           "Q13202 CC1_DSP_DSP8_DUSP8",
           "Q12913",
           "CC1",
           0.07179283493790603,
           -0.11101767072977682,
           4.010383605957031,
           39.88941192626953,
           1.3260300159454346,
           11.224810600280762,
           0.11562643511501976,
           -0.17359356504970258,
           "3",
           "6",
           "8",
           "2",
           "0"
          ],
          [
           "Q16690 CC1_DSP_DSP1_DUSP5",
           "P23470|1",
           "CC1",
           -0.0410918540866995,
           -0.05897431501301612,
           -15.758755683898926,
           35.69671630859375,
           3.003244400024414,
           13.637913703918457,
           -0.018010978078320795,
           -0.2986062106438997,
           "3",
           "1",
           "8",
           "2",
           "4"
          ],
          [
           "Q16828 CC1_DSP_DSP6_DUSP6",
           "P23471|2",
           "CC1",
           0.2807108680002701,
           0.10504177787194528,
           2.1705832481384277,
           -52.17838668823242,
           -10.594141006469727,
           -2.249844551086426,
           0.39763047220381476,
           0.2624998567453168,
           "3",
           "4",
           "3",
           "4",
           "7"
          ],
          [
           "Q16829 CC1_DSP_DSP6_DUSP7",
           "Q5TG12|1",
           "CC1",
           -0.1345987350355398,
           0.1361281192047808,
           42.79460144042969,
           -8.034784317016602,
           15.698854446411133,
           2.8243091106414795,
           -0.377288461910782,
           0.1209758272319824,
           "3",
           "3",
           "2",
           "0",
           "5"
          ],
          [
           "Q4G0W2 CC1_DSP_DSP14_DUSP28",
           "Q92729|2",
           "CC1",
           -0.03917911532403795,
           0.3085888152199655,
           41.92578887939453,
           30.761642456054688,
           17.070661544799805,
           10.494584083557129,
           -0.1439955026013288,
           0.26067010262899354,
           "3",
           "7",
           "5",
           "0",
           "8"
          ],
          [
           "Q5VZP5 CC1_DSP_DSP3_DUSP27",
           "O15056",
           "CC1",
           -0.0728991579624709,
           -0.06276390712631738,
           -12.189252853393555,
           40.520137786865234,
           2.6246304512023926,
           13.606871604919434,
           -0.032967722181319825,
           -0.3562550964870643,
           "3",
           "1",
           "8",
           "2",
           "4"
          ],
          [
           "Q68J44 CC1_DSP_DSP3_DUPD1",
           "P30304",
           "CC3",
           0.1584592019281169,
           -0.17470926362696343,
           -34.21385192871094,
           16.292606353759766,
           2.7530007362365723,
           5.24080228805542,
           0.26997470445149957,
           -0.024476452929058493,
           "3",
           "6",
           "6",
           "1",
           "1"
          ],
          [
           "Q6FI36 CC1_DSP_DSP14_DUSP14",
           "P30307",
           "CC3",
           -0.12124453766663469,
           0.1296731910957415,
           32.139617919921875,
           -3.849363327026367,
           14.376507759094238,
           1.88755464553833,
           -0.37134459345526344,
           0.11521965232720342,
           "3",
           "3",
           "2",
           "0",
           "5"
          ],
          [
           "Q76I76 CC1_DSP_Slingshot_SSH2",
           "Q05D32",
           "HAD",
           -0.06039699135727621,
           -0.053310456956950726,
           -17.05349349975586,
           40.63958740234375,
           3.453681707382202,
           13.970980644226074,
           -0.0301811925616,
           -0.33556522168441943,
           "3",
           "1",
           "8",
           "2",
           "4"
          ],
          [
           "Q8NEJ0 CC1_DSP_DSP14_DUSP18",
           "Q8WVY7",
           "HAD",
           0.3016357307723443,
           0.05552704540427179,
           0.04130832478404045,
           -55.13908004760742,
           -10.507795333862305,
           -2.1638622283935547,
           0.37629384629026763,
           0.14055114862821017,
           "3",
           "4",
           "3",
           "4",
           "7"
          ],
          [
           "Q8TE77 CC1_DSP_Slingshot_SSH3",
           "Q9H0R4",
           "HAD",
           -0.06398135150802234,
           -0.05679176205687847,
           -16.082622528076172,
           39.97144317626953,
           3.2508041858673096,
           13.898199081420898,
           -0.03224157829499801,
           -0.34879923409927366,
           "3",
           "1",
           "8",
           "2",
           "4"
          ],
          [
           "Q8WTR2 CC1_DSP_DSP19_DUSP19",
           "A6NDG6",
           "HAD",
           0.17138392855782544,
           -0.07549425895384088,
           -19.595823287963867,
           -15.3678560256958,
           0.6391379237174988,
           24.80427360534668,
           0.24781793405708472,
           -0.10115106910021308,
           "3",
           "6",
           "1",
           "5",
           "0"
          ],
          [
           "Q8WUJ0 CC1_DSP_STYX_STYX",
           "P16118",
           "HP",
           -0.27498539307996384,
           0.1760692605570763,
           11.13967227935791,
           13.26913833618164,
           -1.5260192155838013,
           2.387639284133911,
           -0.16450609031875452,
           0.03786647020358212,
           "3",
           "5",
           "0",
           "1",
           "9"
          ],
          [
           "Q8WYL5 CC1_DSP_Slingshot_SSH1",
           "P07738",
           "HP",
           0.28267255587232804,
           0.12734785476978436,
           3.542172908782959,
           -56.45831298828125,
           -10.212456703186035,
           -1.86958909034729,
           0.36796198439955163,
           0.24909299883926717,
           "3",
           "4",
           "3",
           "4",
           "7"
          ],
          [
           "Q99956 CC1_DSP_DSP6_DUSP9",
           "A0A087WZV0",
           "HP",
           0.33134359805697355,
           -0.09990386131594231,
           -17.27936363220215,
           -6.994754314422607,
           -11.784384727478027,
           16.186498641967773,
           0.3312732718044425,
           0.04927195373550809,
           "3",
           "2",
           "1",
           "3",
           "0"
          ],
          [
           "Q9BV47 CC1_DSP_DSP3_DUSP26",
           "Q8TE99",
           "HP",
           -0.06408365490218086,
           -0.05352565268236729,
           -17.272241592407227,
           40.96394729614258,
           3.4931790828704834,
           14.035687446594238,
           -0.03257006779708364,
           -0.33841332919996187,
           "3",
           "1",
           "8",
           "2",
           "4"
          ],
          [
           "Q9BY84 CC1_DSP_DSP8_DUSP16",
           "Q9P0J1",
           "PPM",
           -0.06916781146004147,
           -0.06001544428445349,
           -13.731289863586426,
           43.390281677246094,
           3.0864105224609375,
           14.169261932373047,
           -0.030299804440940926,
           -0.3609635373552336,
           "3",
           "1",
           "8",
           "2",
           "4"
          ],
          [
           "Q9H1R2 CC1_DSP_DSP15_DUSP15",
           "Q8N819",
           "PPM",
           0.20221712025115657,
           -0.3560037592034934,
           -14.480244636535645,
           -30.279064178466797,
           3.6923389434814453,
           -10.12075424194336,
           0.26816637146817834,
           0.12182890696507082,
           "3",
           "8",
           "7",
           "9",
           "6"
          ],
          [
           "Q9H596 CC1_DSP_DSP14_DUSP21",
           "Q8WY54",
           "PPM",
           -0.0773111879903829,
           -0.06656610608825465,
           -4.762364864349365,
           42.86634063720703,
           2.1489627361297607,
           13.107701301574707,
           -0.03150498302836898,
           -0.36685019718646766,
           "3",
           "1",
           "8",
           "2",
           "4"
          ],
          [
           "Q9NP77 CC2_SSU72_SSU72_SSU72",
           "Q9ULR3",
           "PPM",
           0.19656519007594025,
           -0.22631610942539615,
           -22.25710105895996,
           -35.35655212402344,
           -8.89856243133545,
           5.924291133880615,
           0.22380844530333868,
           0.07372980786147121,
           "3",
           "6",
           "7",
           "4",
           "1"
          ],
          [
           "Q9NRW4 CC1_DSP_DSP15_DUSP22",
           "Q8N3J5",
           "PPM",
           -0.011249566599131976,
           0.16070577683949652,
           35.24732208251953,
           30.445608139038086,
           16.46054458618164,
           9.857080459594727,
           -0.16631258763527762,
           0.029220225293846366,
           "3",
           "3",
           "5",
           "0",
           "3"
          ],
          [
           "Q9UII6 CC1_DSP_DSP3_DUSP13",
           "P62140",
           "PPPL",
           -0.015134334861820897,
           -0.3355139884045467,
           -5.708059787750244,
           13.416204452514648,
           0.3142510950565338,
           -3.4402878284454346,
           0.20904627621402103,
           -0.1190359200445981,
           "3",
           "9",
           "0",
           "1",
           "0"
          ],
          [
           "Q9UNI6 CC1_DSP_DSP12_DUSP12",
           "Q08209",
           "PPPL",
           -0.08733171761510618,
           -0.07056051401285919,
           -5.655394554138184,
           42.00244140625,
           2.1934468746185303,
           13.198296546936035,
           -0.03479978934854373,
           -0.379074793871307,
           "3",
           "1",
           "8",
           "2",
           "4"
          ],
          [
           "Q9Y6J8 CC1_DSP_STYXL1_STYXL1",
           "O14830",
           "PPPL",
           -0.23738882436118564,
           -0.278457412849826,
           -43.58089828491211,
           -14.849620819091797,
           0.9200119972229004,
           -3.8242387771606445,
           0.2387659077182304,
           -0.1578391550905434,
           "3",
           "0",
           "4",
           "1",
           "2"
          ],
          [
           "Q9Y6W6 CC1_DSP_DSP10_DUSP10",
           "Q8IXW5",
           "RTR1",
           -0.10043059466174244,
           0.1581027935192423,
           27.568490982055664,
           -18.39691734313965,
           13.24182415008545,
           3.688070774078369,
           -0.3471904735664185,
           0.16590847751787086,
           "3",
           "3",
           "2",
           "0",
           "5"
          ]
         ],
         "hovertemplate": "<b>%{hovertext}</b><br><br>clust_poincare=%{customdata[11]}<br>pm1=%{x}<br>pm2=%{y}<br>proteins_id=%{customdata[0]}<br>accession=%{customdata[1]}<br>label=%{customdata[2]}<br>x1_mds=%{customdata[3]}<br>x2_mds=%{customdata[4]}<br>x1_tsne=%{customdata[5]}<br>x2_tsne=%{customdata[6]}<br>x1_umap=%{customdata[7]}<br>x2_umap=%{customdata[8]}<br>x1_pca=%{customdata[9]}<br>x2_pca=%{customdata[10]}<br>clust_mds=%{customdata[12]}<br>clust_tsne=%{customdata[13]}<br>clust_umap=%{customdata[14]}<br>clust_pca=%{customdata[15]}<extra></extra>",
         "hovertext": [
          "3",
          "3",
          "3",
          "3",
          "3",
          "3",
          "3",
          "3",
          "3",
          "3",
          "3",
          "3",
          "3",
          "3",
          "3",
          "3",
          "3",
          "3",
          "3",
          "3",
          "3",
          "3",
          "3",
          "3",
          "3",
          "3",
          "3",
          "3",
          "3",
          "3",
          "3",
          "3",
          "3"
         ],
         "legendgroup": "3",
         "marker": {
          "color": "#FECB52",
          "symbol": "circle"
         },
         "mode": "markers",
         "name": "3",
         "orientation": "v",
         "showlegend": true,
         "type": "scatter",
         "x": [
          -0.101301745,
          0.04869342,
          0.39003512,
          0.4101298,
          0.41175136,
          0.28660527,
          0.09535728,
          0.09743762,
          -0.061813086,
          -0.0664071,
          0.039029248,
          0.052628316,
          -0.086594574,
          0.2774833,
          0.3058356,
          -0.11515746,
          0.096983,
          -0.15220235,
          0.16378304,
          -0.039393578,
          0.029701095,
          0.09118893,
          0.028875714,
          0.29077107,
          -0.021195538,
          -0.1273388,
          -0.1669096,
          -0.18335952,
          -0.13338125,
          0.29577935,
          -0.17407101,
          -0.17453498,
          0.11112319
         ],
         "xaxis": "x",
         "y": [
          -0.56757843,
          -0.34557095,
          -0.2384672,
          -0.16694161,
          -0.17180125,
          -0.45934647,
          -0.34191898,
          -0.35698256,
          -0.3396779,
          -0.30185482,
          -0.3811124,
          -0.36486515,
          -0.15524276,
          -0.42699242,
          -0.43105403,
          -0.25532705,
          -0.39865708,
          -0.2816678,
          -0.41333723,
          -0.31611392,
          -0.18724956,
          -0.40209988,
          -0.35732156,
          -0.4541558,
          -0.40442365,
          -0.28393605,
          -0.27515045,
          -0.6230404,
          -0.31214204,
          -0.3765529,
          -0.38422275,
          -0.29072037,
          -0.43764082
         ],
         "yaxis": "y"
        }
       ],
       "layout": {
        "font": {
         "size": 11
        },
        "height": 800,
        "legend": {
         "title": {
          "text": "clust_poincare"
         },
         "tracegroupgap": 0
        },
        "margin": {
         "t": 60
        },
        "plot_bgcolor": "rgba(0, 0, 0, 0)",
        "shapes": [
         {
          "line": {
           "color": "black",
           "dash": "dot"
          },
          "opacity": 0.15,
          "type": "circle",
          "x0": -0.47058823529411764,
          "x1": 0.47058823529411764,
          "y0": -0.47058823529411764,
          "y1": 0.47058823529411764
         },
         {
          "line": {
           "color": "black",
           "dash": "dot"
          },
          "opacity": 0.15,
          "type": "circle",
          "x0": -0.644736842105263,
          "x1": 0.644736842105263,
          "y0": -0.644736842105263,
          "y1": 0.644736842105263
         },
         {
          "line": {
           "color": "black",
           "dash": "dot"
          },
          "opacity": 0.15,
          "type": "circle",
          "x0": -0.7705382436260623,
          "x1": 0.7705382436260623,
          "y0": -0.7705382436260623,
          "y1": 0.7705382436260623
         },
         {
          "line": {
           "color": "black",
           "dash": "dot"
          },
          "opacity": 0.15,
          "type": "circle",
          "x0": -0.8557007125890735,
          "x1": 0.8557007125890735,
          "y0": -0.8557007125890735,
          "y1": 0.8557007125890735
         },
         {
          "line": {
           "color": "black",
           "dash": "dot"
          },
          "opacity": 0.15,
          "type": "circle",
          "x0": -0.9108474990827932,
          "x1": 0.9108474990827932,
          "y0": -0.9108474990827932,
          "y1": 0.9108474990827932
         },
         {
          "line": {
           "color": "black",
           "dash": "dot"
          },
          "opacity": 0.15,
          "type": "circle",
          "x0": -0.9455374041239167,
          "x1": 0.9455374041239167,
          "y0": -0.9455374041239167,
          "y1": 0.9455374041239167
         },
         {
          "line": {
           "color": "Black"
          },
          "type": "circle",
          "x0": -1,
          "x1": 1,
          "xref": "x",
          "y0": -1,
          "y1": 1,
          "yref": "y"
         },
         {
          "fillcolor": "Black",
          "line": {
           "color": "Black"
          },
          "type": "circle",
          "x0": -0.005,
          "x1": 0.005,
          "xref": "x",
          "y0": -0.005,
          "y1": 0.005,
          "yref": "y"
         }
        ],
        "template": {
         "data": {
          "bar": [
           {
            "error_x": {
             "color": "#2a3f5f"
            },
            "error_y": {
             "color": "#2a3f5f"
            },
            "marker": {
             "line": {
              "color": "#E5ECF6",
              "width": 0.5
             },
             "pattern": {
              "fillmode": "overlay",
              "size": 10,
              "solidity": 0.2
             }
            },
            "type": "bar"
           }
          ],
          "barpolar": [
           {
            "marker": {
             "line": {
              "color": "#E5ECF6",
              "width": 0.5
             },
             "pattern": {
              "fillmode": "overlay",
              "size": 10,
              "solidity": 0.2
             }
            },
            "type": "barpolar"
           }
          ],
          "carpet": [
           {
            "aaxis": {
             "endlinecolor": "#2a3f5f",
             "gridcolor": "white",
             "linecolor": "white",
             "minorgridcolor": "white",
             "startlinecolor": "#2a3f5f"
            },
            "baxis": {
             "endlinecolor": "#2a3f5f",
             "gridcolor": "white",
             "linecolor": "white",
             "minorgridcolor": "white",
             "startlinecolor": "#2a3f5f"
            },
            "type": "carpet"
           }
          ],
          "choropleth": [
           {
            "colorbar": {
             "outlinewidth": 0,
             "ticks": ""
            },
            "type": "choropleth"
           }
          ],
          "contour": [
           {
            "colorbar": {
             "outlinewidth": 0,
             "ticks": ""
            },
            "colorscale": [
             [
              0,
              "#0d0887"
             ],
             [
              0.1111111111111111,
              "#46039f"
             ],
             [
              0.2222222222222222,
              "#7201a8"
             ],
             [
              0.3333333333333333,
              "#9c179e"
             ],
             [
              0.4444444444444444,
              "#bd3786"
             ],
             [
              0.5555555555555556,
              "#d8576b"
             ],
             [
              0.6666666666666666,
              "#ed7953"
             ],
             [
              0.7777777777777778,
              "#fb9f3a"
             ],
             [
              0.8888888888888888,
              "#fdca26"
             ],
             [
              1,
              "#f0f921"
             ]
            ],
            "type": "contour"
           }
          ],
          "contourcarpet": [
           {
            "colorbar": {
             "outlinewidth": 0,
             "ticks": ""
            },
            "type": "contourcarpet"
           }
          ],
          "heatmap": [
           {
            "colorbar": {
             "outlinewidth": 0,
             "ticks": ""
            },
            "colorscale": [
             [
              0,
              "#0d0887"
             ],
             [
              0.1111111111111111,
              "#46039f"
             ],
             [
              0.2222222222222222,
              "#7201a8"
             ],
             [
              0.3333333333333333,
              "#9c179e"
             ],
             [
              0.4444444444444444,
              "#bd3786"
             ],
             [
              0.5555555555555556,
              "#d8576b"
             ],
             [
              0.6666666666666666,
              "#ed7953"
             ],
             [
              0.7777777777777778,
              "#fb9f3a"
             ],
             [
              0.8888888888888888,
              "#fdca26"
             ],
             [
              1,
              "#f0f921"
             ]
            ],
            "type": "heatmap"
           }
          ],
          "heatmapgl": [
           {
            "colorbar": {
             "outlinewidth": 0,
             "ticks": ""
            },
            "colorscale": [
             [
              0,
              "#0d0887"
             ],
             [
              0.1111111111111111,
              "#46039f"
             ],
             [
              0.2222222222222222,
              "#7201a8"
             ],
             [
              0.3333333333333333,
              "#9c179e"
             ],
             [
              0.4444444444444444,
              "#bd3786"
             ],
             [
              0.5555555555555556,
              "#d8576b"
             ],
             [
              0.6666666666666666,
              "#ed7953"
             ],
             [
              0.7777777777777778,
              "#fb9f3a"
             ],
             [
              0.8888888888888888,
              "#fdca26"
             ],
             [
              1,
              "#f0f921"
             ]
            ],
            "type": "heatmapgl"
           }
          ],
          "histogram": [
           {
            "marker": {
             "pattern": {
              "fillmode": "overlay",
              "size": 10,
              "solidity": 0.2
             }
            },
            "type": "histogram"
           }
          ],
          "histogram2d": [
           {
            "colorbar": {
             "outlinewidth": 0,
             "ticks": ""
            },
            "colorscale": [
             [
              0,
              "#0d0887"
             ],
             [
              0.1111111111111111,
              "#46039f"
             ],
             [
              0.2222222222222222,
              "#7201a8"
             ],
             [
              0.3333333333333333,
              "#9c179e"
             ],
             [
              0.4444444444444444,
              "#bd3786"
             ],
             [
              0.5555555555555556,
              "#d8576b"
             ],
             [
              0.6666666666666666,
              "#ed7953"
             ],
             [
              0.7777777777777778,
              "#fb9f3a"
             ],
             [
              0.8888888888888888,
              "#fdca26"
             ],
             [
              1,
              "#f0f921"
             ]
            ],
            "type": "histogram2d"
           }
          ],
          "histogram2dcontour": [
           {
            "colorbar": {
             "outlinewidth": 0,
             "ticks": ""
            },
            "colorscale": [
             [
              0,
              "#0d0887"
             ],
             [
              0.1111111111111111,
              "#46039f"
             ],
             [
              0.2222222222222222,
              "#7201a8"
             ],
             [
              0.3333333333333333,
              "#9c179e"
             ],
             [
              0.4444444444444444,
              "#bd3786"
             ],
             [
              0.5555555555555556,
              "#d8576b"
             ],
             [
              0.6666666666666666,
              "#ed7953"
             ],
             [
              0.7777777777777778,
              "#fb9f3a"
             ],
             [
              0.8888888888888888,
              "#fdca26"
             ],
             [
              1,
              "#f0f921"
             ]
            ],
            "type": "histogram2dcontour"
           }
          ],
          "mesh3d": [
           {
            "colorbar": {
             "outlinewidth": 0,
             "ticks": ""
            },
            "type": "mesh3d"
           }
          ],
          "parcoords": [
           {
            "line": {
             "colorbar": {
              "outlinewidth": 0,
              "ticks": ""
             }
            },
            "type": "parcoords"
           }
          ],
          "pie": [
           {
            "automargin": true,
            "type": "pie"
           }
          ],
          "scatter": [
           {
            "fillpattern": {
             "fillmode": "overlay",
             "size": 10,
             "solidity": 0.2
            },
            "type": "scatter"
           }
          ],
          "scatter3d": [
           {
            "line": {
             "colorbar": {
              "outlinewidth": 0,
              "ticks": ""
             }
            },
            "marker": {
             "colorbar": {
              "outlinewidth": 0,
              "ticks": ""
             }
            },
            "type": "scatter3d"
           }
          ],
          "scattercarpet": [
           {
            "marker": {
             "colorbar": {
              "outlinewidth": 0,
              "ticks": ""
             }
            },
            "type": "scattercarpet"
           }
          ],
          "scattergeo": [
           {
            "marker": {
             "colorbar": {
              "outlinewidth": 0,
              "ticks": ""
             }
            },
            "type": "scattergeo"
           }
          ],
          "scattergl": [
           {
            "marker": {
             "colorbar": {
              "outlinewidth": 0,
              "ticks": ""
             }
            },
            "type": "scattergl"
           }
          ],
          "scattermapbox": [
           {
            "marker": {
             "colorbar": {
              "outlinewidth": 0,
              "ticks": ""
             }
            },
            "type": "scattermapbox"
           }
          ],
          "scatterpolar": [
           {
            "marker": {
             "colorbar": {
              "outlinewidth": 0,
              "ticks": ""
             }
            },
            "type": "scatterpolar"
           }
          ],
          "scatterpolargl": [
           {
            "marker": {
             "colorbar": {
              "outlinewidth": 0,
              "ticks": ""
             }
            },
            "type": "scatterpolargl"
           }
          ],
          "scatterternary": [
           {
            "marker": {
             "colorbar": {
              "outlinewidth": 0,
              "ticks": ""
             }
            },
            "type": "scatterternary"
           }
          ],
          "surface": [
           {
            "colorbar": {
             "outlinewidth": 0,
             "ticks": ""
            },
            "colorscale": [
             [
              0,
              "#0d0887"
             ],
             [
              0.1111111111111111,
              "#46039f"
             ],
             [
              0.2222222222222222,
              "#7201a8"
             ],
             [
              0.3333333333333333,
              "#9c179e"
             ],
             [
              0.4444444444444444,
              "#bd3786"
             ],
             [
              0.5555555555555556,
              "#d8576b"
             ],
             [
              0.6666666666666666,
              "#ed7953"
             ],
             [
              0.7777777777777778,
              "#fb9f3a"
             ],
             [
              0.8888888888888888,
              "#fdca26"
             ],
             [
              1,
              "#f0f921"
             ]
            ],
            "type": "surface"
           }
          ],
          "table": [
           {
            "cells": {
             "fill": {
              "color": "#EBF0F8"
             },
             "line": {
              "color": "white"
             }
            },
            "header": {
             "fill": {
              "color": "#C8D4E3"
             },
             "line": {
              "color": "white"
             }
            },
            "type": "table"
           }
          ]
         },
         "layout": {
          "annotationdefaults": {
           "arrowcolor": "#2a3f5f",
           "arrowhead": 0,
           "arrowwidth": 1
          },
          "autotypenumbers": "strict",
          "coloraxis": {
           "colorbar": {
            "outlinewidth": 0,
            "ticks": ""
           }
          },
          "colorscale": {
           "diverging": [
            [
             0,
             "#8e0152"
            ],
            [
             0.1,
             "#c51b7d"
            ],
            [
             0.2,
             "#de77ae"
            ],
            [
             0.3,
             "#f1b6da"
            ],
            [
             0.4,
             "#fde0ef"
            ],
            [
             0.5,
             "#f7f7f7"
            ],
            [
             0.6,
             "#e6f5d0"
            ],
            [
             0.7,
             "#b8e186"
            ],
            [
             0.8,
             "#7fbc41"
            ],
            [
             0.9,
             "#4d9221"
            ],
            [
             1,
             "#276419"
            ]
           ],
           "sequential": [
            [
             0,
             "#0d0887"
            ],
            [
             0.1111111111111111,
             "#46039f"
            ],
            [
             0.2222222222222222,
             "#7201a8"
            ],
            [
             0.3333333333333333,
             "#9c179e"
            ],
            [
             0.4444444444444444,
             "#bd3786"
            ],
            [
             0.5555555555555556,
             "#d8576b"
            ],
            [
             0.6666666666666666,
             "#ed7953"
            ],
            [
             0.7777777777777778,
             "#fb9f3a"
            ],
            [
             0.8888888888888888,
             "#fdca26"
            ],
            [
             1,
             "#f0f921"
            ]
           ],
           "sequentialminus": [
            [
             0,
             "#0d0887"
            ],
            [
             0.1111111111111111,
             "#46039f"
            ],
            [
             0.2222222222222222,
             "#7201a8"
            ],
            [
             0.3333333333333333,
             "#9c179e"
            ],
            [
             0.4444444444444444,
             "#bd3786"
            ],
            [
             0.5555555555555556,
             "#d8576b"
            ],
            [
             0.6666666666666666,
             "#ed7953"
            ],
            [
             0.7777777777777778,
             "#fb9f3a"
            ],
            [
             0.8888888888888888,
             "#fdca26"
            ],
            [
             1,
             "#f0f921"
            ]
           ]
          },
          "colorway": [
           "#636efa",
           "#EF553B",
           "#00cc96",
           "#ab63fa",
           "#FFA15A",
           "#19d3f3",
           "#FF6692",
           "#B6E880",
           "#FF97FF",
           "#FECB52"
          ],
          "font": {
           "color": "#2a3f5f"
          },
          "geo": {
           "bgcolor": "white",
           "lakecolor": "white",
           "landcolor": "#E5ECF6",
           "showlakes": true,
           "showland": true,
           "subunitcolor": "white"
          },
          "hoverlabel": {
           "align": "left"
          },
          "hovermode": "closest",
          "mapbox": {
           "style": "light"
          },
          "paper_bgcolor": "white",
          "plot_bgcolor": "#E5ECF6",
          "polar": {
           "angularaxis": {
            "gridcolor": "white",
            "linecolor": "white",
            "ticks": ""
           },
           "bgcolor": "#E5ECF6",
           "radialaxis": {
            "gridcolor": "white",
            "linecolor": "white",
            "ticks": ""
           }
          },
          "scene": {
           "xaxis": {
            "backgroundcolor": "#E5ECF6",
            "gridcolor": "white",
            "gridwidth": 2,
            "linecolor": "white",
            "showbackground": true,
            "ticks": "",
            "zerolinecolor": "white"
           },
           "yaxis": {
            "backgroundcolor": "#E5ECF6",
            "gridcolor": "white",
            "gridwidth": 2,
            "linecolor": "white",
            "showbackground": true,
            "ticks": "",
            "zerolinecolor": "white"
           },
           "zaxis": {
            "backgroundcolor": "#E5ECF6",
            "gridcolor": "white",
            "gridwidth": 2,
            "linecolor": "white",
            "showbackground": true,
            "ticks": "",
            "zerolinecolor": "white"
           }
          },
          "shapedefaults": {
           "line": {
            "color": "#2a3f5f"
           }
          },
          "ternary": {
           "aaxis": {
            "gridcolor": "white",
            "linecolor": "white",
            "ticks": ""
           },
           "baxis": {
            "gridcolor": "white",
            "linecolor": "white",
            "ticks": ""
           },
           "bgcolor": "#E5ECF6",
           "caxis": {
            "gridcolor": "white",
            "linecolor": "white",
            "ticks": ""
           }
          },
          "title": {
           "x": 0.05
          },
          "xaxis": {
           "automargin": true,
           "gridcolor": "white",
           "linecolor": "white",
           "ticks": "",
           "title": {
            "standoff": 15
           },
           "zerolinecolor": "white",
           "zerolinewidth": 2
          },
          "yaxis": {
           "automargin": true,
           "gridcolor": "white",
           "linecolor": "white",
           "ticks": "",
           "title": {
            "standoff": 15
           },
           "zerolinecolor": "white",
           "zerolinewidth": 2
          }
         }
        },
        "title": {
         "x": 0.5
        },
        "xaxis": {
         "anchor": "y",
         "constrain": "domain",
         "domain": [
          0,
          1
         ],
         "range": [
          -1.1,
          1.1
         ],
         "title": {
          "text": "pm1"
         }
        },
        "yaxis": {
         "anchor": "x",
         "domain": [
          0,
          1
         ],
         "scaleanchor": "x",
         "scaleratio": 1,
         "title": {
          "text": "pm2"
         }
        },
        "yaxis2": {
         "layer": "below traces",
         "matches": "y",
         "overlaying": "y"
        }
       }
      }
     },
     "metadata": {},
     "output_type": "display_data"
    }
   ],
   "source": [
    "fig = plot_embedding_interactive(df_embedding, \n",
    "                                 labels_name = \"clust_poincare\",\n",
    "                                 #second_labels_name = second_labels_name, \n",
    "                                 #show_text = show_text,\n",
    "                                 #labels_text = labels_text,\n",
    "                                 color_palette = None,\n",
    "                                 #color_discrete_sequence = px.colors.qualitative.Alphabet,\n",
    "                                 #color_discrete_map=phosphatase_cols,\n",
    "                                 #title = title, \n",
    "                                 fontsize = 11)\n",
    "fig.show()\n",
    "\n",
    "\n",
    "        #        scores.append(s)\n",
    "#        titles.append(t)\n",
    "\n",
    "#for cname in ['spectral', 'agglomerative', 'kmedoids']:\n",
    " #       s, t = detect_cluster(model.get_distances(), \n",
    "  #                            n_clusters=nc, clustering_name=cname, k=15, distances='raw')\n",
    "        #scores.append(s)\n",
    "        #titles.append(t)"
   ]
  },
  {
   "cell_type": "markdown",
   "id": "18b4c354",
   "metadata": {},
   "source": [
    "## MDS"
   ]
  },
  {
   "cell_type": "code",
   "execution_count": 55,
   "id": "323bd81d",
   "metadata": {},
   "outputs": [
    {
     "data": {
      "application/vnd.plotly.v1+json": {
       "config": {
        "plotlyServerURL": "https://plot.ly"
       },
       "data": [
        {
         "hovertemplate": "clust_mds=2<br>x1_mds=%{x}<br>x2_mds=%{y}<extra></extra>",
         "legendgroup": "2",
         "marker": {
          "color": "#C4451C",
          "symbol": "circle"
         },
         "mode": "markers",
         "name": "2",
         "orientation": "v",
         "showlegend": true,
         "type": "scatter",
         "x": [
          0.39406527208147357,
          0.32644045039974995,
          0.3088552293242015,
          0.29897895416242354,
          0.3048699767859708,
          0.3051792604070864,
          0.2592373750056762,
          0.32413123687907924,
          0.22631487414235066,
          0.33134359805697355,
          0.26090509565197173
         ],
         "xaxis": "x",
         "y": [
          -0.13580097906078156,
          -0.09384048645396849,
          -0.17680606230352408,
          -0.16964541812560635,
          -0.09547910208148402,
          -0.051219403969265734,
          -0.18640382397220234,
          -0.09737757866875464,
          -0.20228178238551728,
          -0.09990386131594231,
          -0.17137511074518488
         ],
         "yaxis": "y"
        },
        {
         "hovertemplate": "clust_mds=3<br>x1_mds=%{x}<br>x2_mds=%{y}<extra></extra>",
         "legendgroup": "3",
         "marker": {
          "color": "#DEA0FD",
          "symbol": "circle"
         },
         "mode": "markers",
         "name": "3",
         "orientation": "v",
         "showlegend": true,
         "type": "scatter",
         "x": [
          -0.12116419357020246,
          -0.012042035155429644,
          -0.11496332331518604,
          -0.1149494116932923,
          -0.10184418881079156,
          -0.11924843739831557,
          -0.10039287706263479,
          -0.10248381382216494,
          -0.10955936506632381,
          -0.11665985055800893,
          -0.11850655844718683,
          -0.13497583627999238,
          -0.1285295726259588,
          0.0026174549907437054,
          -0.1361680876164431,
          -0.10642392087316811,
          -0.11168288390772649,
          -0.11853296219818917,
          -0.12134554517187622,
          -0.053849210564152095,
          -0.01078539519301056,
          -0.12043085894005165,
          -0.12131788270119598,
          -0.11874191172039532,
          -0.10232209180485273,
          -0.1099030948289313,
          -0.10175020251654462,
          -0.10967843510797884,
          -0.13320739222119818,
          -0.11197911657889441,
          -0.12662271647105464,
          -0.14357814633404684,
          -0.009000896748336847,
          -0.11056020955090186,
          -0.10207077349376871,
          -0.13092369907838458,
          -0.02241891272508302,
          -0.1345987350355398,
          -0.10595101821436355,
          -0.1469846516847771,
          0.014116023971544437,
          -0.12124453766663469,
          -0.12532510276592843,
          -0.12145198515082468,
          -0.11989293043523536,
          -0.11621227061426685,
          0.0006083228318278788,
          -0.1312674827266533,
          -0.1399761856496051,
          -0.124004765412582,
          -0.11901884809904735,
          -0.011249566599131976,
          -0.11088375171509757,
          -0.11462500632103506,
          -0.10687903217369286,
          -0.12329394035389615,
          -0.12158327476922003,
          0.004968801578689282,
          -0.10043059466174244
         ],
         "xaxis": "x",
         "y": [
          0.14428949972421057,
          0.1978836165996754,
          0.1431555295024327,
          0.1367610961600533,
          0.13736057293580373,
          0.1300384948893071,
          0.13687111860766454,
          0.1393907945017468,
          0.1278652077991338,
          0.12917307251302873,
          0.14132774042509402,
          0.1220216822543901,
          0.1434856391504327,
          0.24629224352250095,
          0.12455626132239743,
          0.14336539617555483,
          0.15374380230220222,
          0.13280329003778482,
          0.12478061128989296,
          0.21708008728102232,
          0.15622245286287195,
          0.13507551177182994,
          0.12433592200027453,
          0.13731331602583685,
          0.1433181458643876,
          0.1231471940374257,
          0.15313828677716684,
          0.12618691826384063,
          0.12417520854693159,
          0.11995407193673764,
          0.12344363919685089,
          0.1248087796179952,
          0.18545115443696325,
          0.13837127650872838,
          0.13932708714411476,
          0.12682325917075973,
          0.08858870540611816,
          0.1361281192047808,
          0.157138096961545,
          0.13199570763375817,
          0.18647505299249223,
          0.1296731910957415,
          0.14563786131589174,
          0.12088987210509093,
          0.12731930434581373,
          0.13831143145246175,
          0.1281333584729343,
          0.1431617636592966,
          0.12227877225479804,
          0.1340503446132161,
          0.1396763514222561,
          0.16070577683949652,
          0.12866898859815287,
          0.131015073069175,
          0.12952905451942723,
          0.18316178603510422,
          0.12226990586155333,
          0.21483537053068477,
          0.1581027935192423
         ],
         "yaxis": "y"
        },
        {
         "hovertemplate": "clust_mds=1<br>x1_mds=%{x}<br>x2_mds=%{y}<extra></extra>",
         "legendgroup": "1",
         "marker": {
          "color": "#FE00FA",
          "symbol": "circle"
         },
         "mode": "markers",
         "name": "1",
         "orientation": "v",
         "showlegend": true,
         "type": "scatter",
         "x": [
          -0.19363696394434068,
          -0.19773453962260748,
          -0.19580899574290989,
          -0.15154861339646788,
          -0.03995349239409593,
          -0.008772711464420792,
          -0.19719957364979762,
          -0.20929632511173793,
          -0.03384633972723376,
          -0.06901458129624811,
          -0.05201892534000841,
          -0.07541099287465948,
          -0.0757067102338616,
          -0.24461273069031683,
          -0.024382856259679044,
          -0.07020817064389703,
          -0.08094659285280717,
          -0.175076689816113,
          -0.07391311512047803,
          -0.0637170230732095,
          -0.11214215872542115,
          -0.19570473097776675,
          -0.027692706207530705,
          -0.0704413301858156,
          -0.0410918540866995,
          -0.045762690073659996,
          -0.037372160204980395,
          -0.07855067175162535,
          -0.07375194565224591,
          -0.0728991579624709,
          -0.057689989680950925,
          -0.08778052731610445,
          -0.06039699135727621,
          -0.06398135150802234,
          -0.07973103086361231,
          -0.07555146316728034,
          -0.07879611763839248,
          -0.059803088792238425,
          -0.11426033027189732,
          -0.06408365490218086,
          -0.06916781146004147,
          0.01509946584522685,
          -0.06317576343741893,
          -0.1627415276900159,
          -0.0773111879903829,
          -0.07498573686165493,
          -0.19223769513753455,
          -0.03827366740288889,
          -0.08733171761510618,
          -0.030922727069256715,
          -0.05510272107154627
         ],
         "xaxis": "x",
         "y": [
          0.06502286844825403,
          0.058642335261938634,
          0.05892237545035134,
          0.014898060994705508,
          -0.04983880661728633,
          0.03802396606521717,
          0.057486070202589015,
          -0.04741823446501389,
          -0.0038220137076627357,
          -0.06743965430060124,
          -0.044129466904382846,
          -0.054956151583430576,
          -0.06310363565947316,
          0.017822291689657967,
          -0.010050513842405373,
          -0.06921928733109323,
          -0.0696140681074066,
          0.0397660499279705,
          -0.05801210483032433,
          -0.06126885542612942,
          -0.011606049295245295,
          0.05709421336556985,
          -0.02473260675779286,
          -0.06348459850945001,
          -0.05897431501301612,
          0.017271531478900416,
          -0.0054013831879684395,
          -0.06539651696115598,
          -0.0650715481272954,
          -0.06276390712631738,
          -0.05361060067954358,
          -0.06922177375944702,
          -0.053310456956950726,
          -0.05679176205687847,
          -0.07119624748170371,
          -0.07577113481459058,
          -0.06870716620184282,
          -0.04860789333724108,
          -0.012862700981581708,
          -0.05352565268236729,
          -0.06001544428445349,
          0.02619264178017918,
          0.01188641807282311,
          0.01709958449895114,
          -0.06656610608825465,
          -0.06730353909638981,
          -0.03792915873057178,
          -0.008054005524965852,
          -0.07056051401285919,
          0.027853633397334494,
          -0.04639828140436293
         ],
         "yaxis": "y"
        },
        {
         "hovertemplate": "clust_mds=6<br>x1_mds=%{x}<br>x2_mds=%{y}<extra></extra>",
         "legendgroup": "6",
         "marker": {
          "color": "#325A9B",
          "symbol": "circle"
         },
         "mode": "markers",
         "name": "6",
         "orientation": "v",
         "showlegend": true,
         "type": "scatter",
         "x": [
          0.17102472766162613,
          0.17571770044156612,
          0.19671895181539212,
          0.0961584827498201,
          0.09561610486833579,
          0.15769062591295063,
          0.15763316271379998,
          0.037760427661654,
          0.07179283493790603,
          0.15493397380151952,
          0.14827906055092302,
          0.09831891832156972,
          0.1756964527733533,
          0.1758969002602487,
          0.04772205642913492,
          0.1584592019281169,
          0.17138392855782544,
          0.09696021854910802,
          0.20055241875575236,
          0.19787888585872357,
          0.19656519007594025,
          0.1919763079467139,
          0.18718193972523095,
          0.13511601162253123
         ],
         "xaxis": "x",
         "y": [
          -0.237755327358922,
          -0.14450680109467198,
          -0.09343588926600567,
          -0.15830923732529412,
          -0.1659714538031565,
          -0.07531928171236449,
          -0.18278468562375572,
          -0.17763187362695812,
          -0.11101767072977682,
          -0.1730488958851066,
          -0.23392712161640047,
          -0.15682531396881388,
          -0.16790541771867348,
          0.019750103138149525,
          -0.12618043610820429,
          -0.17470926362696343,
          -0.07549425895384088,
          -0.16601540593065042,
          -0.11419712040071191,
          -0.06670513811839907,
          -0.22631610942539615,
          -0.11884177873930125,
          -0.06744158814347419,
          -0.02213343954014911
         ],
         "yaxis": "y"
        },
        {
         "hovertemplate": "clust_mds=0<br>x1_mds=%{x}<br>x2_mds=%{y}<extra></extra>",
         "legendgroup": "0",
         "marker": {
          "color": "#FEAF16",
          "symbol": "circle"
         },
         "mode": "markers",
         "name": "0",
         "orientation": "v",
         "showlegend": true,
         "type": "scatter",
         "x": [
          -0.22690683803050843,
          -0.23475266176181694,
          -0.25382033585546365,
          -0.21996516177224276,
          -0.2226553907861609,
          -0.3316348202519518,
          -0.17022506918907843,
          -0.24015899235280458,
          -0.20341902853407481,
          -0.25512314901357386,
          -0.24897772828733622,
          -0.2203541139122776,
          -0.18928048364407485,
          -0.23738882436118564
         ],
         "xaxis": "x",
         "y": [
          -0.2734259249773164,
          -0.28347167655341576,
          -0.30374421709876076,
          -0.2825943756093985,
          -0.28698879228034546,
          -0.1048403327274197,
          -0.32936764382095884,
          -0.2788265184090773,
          -0.27391797828289727,
          -0.3026619336301697,
          -0.2982724572903424,
          -0.28342408090190635,
          -0.3035041104884567,
          -0.278457412849826
         ],
         "yaxis": "y"
        },
        {
         "hovertemplate": "clust_mds=4<br>x1_mds=%{x}<br>x2_mds=%{y}<extra></extra>",
         "legendgroup": "4",
         "marker": {
          "color": "#F8A19F",
          "symbol": "circle"
         },
         "mode": "markers",
         "name": "4",
         "orientation": "v",
         "showlegend": true,
         "type": "scatter",
         "x": [
          0.304041628059513,
          0.2988172220807842,
          0.37426309128507124,
          0.2866734493878284,
          0.3793747149417062,
          0.3299665851522681,
          0.2803075774402305,
          0.2786675639743538,
          0.28552173702017625,
          0.2807108680002701,
          0.2776613711423893,
          0.3016357307723443,
          0.37769679381726684,
          0.3296624180830775,
          0.28267255587232804,
          0.3119096399025022,
          0.30950284443347487,
          0.2876210304805218,
          0.3475514497557814,
          0.315830753850649
         ],
         "xaxis": "x",
         "y": [
          0.1009555834725653,
          0.12138984690291411,
          0.2320815613697237,
          0.11257531663319781,
          0.1752360634798929,
          0.14897480578135225,
          0.10285781386501816,
          0.09373741256012037,
          0.09555753879479072,
          0.10504177787194528,
          0.104995642664623,
          0.05552704540427179,
          0.191120389806397,
          0.16179822651534875,
          0.12734785476978436,
          0.2031417084868191,
          0.14896470924647406,
          0.12862214203920627,
          0.16806590864520052,
          0.15455242127099839
         ],
         "yaxis": "y"
        },
        {
         "hovertemplate": "clust_mds=9<br>x1_mds=%{x}<br>x2_mds=%{y}<extra></extra>",
         "legendgroup": "9",
         "marker": {
          "color": "#90AD1C",
          "symbol": "circle"
         },
         "mode": "markers",
         "name": "9",
         "orientation": "v",
         "showlegend": true,
         "type": "scatter",
         "x": [
          0.018290366745397153,
          0.062395478385139716,
          -0.03408480325504493,
          -0.012054389046313216,
          0.01063838579560421,
          -0.01887432494468598,
          -0.04570440045887746,
          -0.04814960717194001,
          -0.015134334861820897,
          -0.047815574689253064
         ],
         "xaxis": "x",
         "y": [
          -0.275926522141179,
          -0.2859621690459345,
          -0.2859737897959713,
          -0.30795270817957865,
          -0.25712996288393336,
          -0.2893635985135036,
          -0.3168620462848531,
          -0.31429365343013016,
          -0.3355139884045467,
          -0.30818074741934914
         ],
         "yaxis": "y"
        },
        {
         "hovertemplate": "clust_mds=5<br>x1_mds=%{x}<br>x2_mds=%{y}<extra></extra>",
         "legendgroup": "5",
         "marker": {
          "color": "#F6222E",
          "symbol": "circle"
         },
         "mode": "markers",
         "name": "5",
         "orientation": "v",
         "showlegend": true,
         "type": "scatter",
         "x": [
          -0.2892333698487094,
          -0.27498539307996384
         ],
         "xaxis": "x",
         "y": [
          0.19175058159174999,
          0.1760692605570763
         ],
         "yaxis": "y"
        },
        {
         "hovertemplate": "clust_mds=8<br>x1_mds=%{x}<br>x2_mds=%{y}<extra></extra>",
         "legendgroup": "8",
         "marker": {
          "color": "#1CFFCE",
          "symbol": "circle"
         },
         "mode": "markers",
         "name": "8",
         "orientation": "v",
         "showlegend": true,
         "type": "scatter",
         "x": [
          0.20129018852561548,
          0.20581130851658608,
          0.20631707822586792,
          0.20221712025115657
         ],
         "xaxis": "x",
         "y": [
          -0.3439931456641459,
          -0.34394748433117484,
          -0.34299792348410324,
          -0.3560037592034934
         ],
         "yaxis": "y"
        },
        {
         "hovertemplate": "clust_mds=7<br>x1_mds=%{x}<br>x2_mds=%{y}<extra></extra>",
         "legendgroup": "7",
         "marker": {
          "color": "#2ED9FF",
          "symbol": "circle"
         },
         "mode": "markers",
         "name": "7",
         "orientation": "v",
         "showlegend": true,
         "type": "scatter",
         "x": [
          0.08673637171271287,
          0.08869538405511004,
          0.08574640251014269,
          0.08420046303213854,
          -0.03504692514734019,
          0.08589295468244369,
          -0.03917911532403795,
          0.08310500635255526,
          0.0837613658206564
         ],
         "xaxis": "x",
         "y": [
          0.34320468416474104,
          0.31505452030476555,
          0.30073032125420707,
          0.31898987532079803,
          0.32047372401373847,
          0.3141735129885995,
          0.3085888152199655,
          0.2707547434184275,
          0.30979161209548517
         ],
         "yaxis": "y"
        }
       ],
       "layout": {
        "legend": {
         "title": {
          "text": "clust_mds"
         },
         "tracegroupgap": 0
        },
        "margin": {
         "t": 60
        },
        "template": {
         "data": {
          "bar": [
           {
            "error_x": {
             "color": "#2a3f5f"
            },
            "error_y": {
             "color": "#2a3f5f"
            },
            "marker": {
             "line": {
              "color": "#E5ECF6",
              "width": 0.5
             },
             "pattern": {
              "fillmode": "overlay",
              "size": 10,
              "solidity": 0.2
             }
            },
            "type": "bar"
           }
          ],
          "barpolar": [
           {
            "marker": {
             "line": {
              "color": "#E5ECF6",
              "width": 0.5
             },
             "pattern": {
              "fillmode": "overlay",
              "size": 10,
              "solidity": 0.2
             }
            },
            "type": "barpolar"
           }
          ],
          "carpet": [
           {
            "aaxis": {
             "endlinecolor": "#2a3f5f",
             "gridcolor": "white",
             "linecolor": "white",
             "minorgridcolor": "white",
             "startlinecolor": "#2a3f5f"
            },
            "baxis": {
             "endlinecolor": "#2a3f5f",
             "gridcolor": "white",
             "linecolor": "white",
             "minorgridcolor": "white",
             "startlinecolor": "#2a3f5f"
            },
            "type": "carpet"
           }
          ],
          "choropleth": [
           {
            "colorbar": {
             "outlinewidth": 0,
             "ticks": ""
            },
            "type": "choropleth"
           }
          ],
          "contour": [
           {
            "colorbar": {
             "outlinewidth": 0,
             "ticks": ""
            },
            "colorscale": [
             [
              0,
              "#0d0887"
             ],
             [
              0.1111111111111111,
              "#46039f"
             ],
             [
              0.2222222222222222,
              "#7201a8"
             ],
             [
              0.3333333333333333,
              "#9c179e"
             ],
             [
              0.4444444444444444,
              "#bd3786"
             ],
             [
              0.5555555555555556,
              "#d8576b"
             ],
             [
              0.6666666666666666,
              "#ed7953"
             ],
             [
              0.7777777777777778,
              "#fb9f3a"
             ],
             [
              0.8888888888888888,
              "#fdca26"
             ],
             [
              1,
              "#f0f921"
             ]
            ],
            "type": "contour"
           }
          ],
          "contourcarpet": [
           {
            "colorbar": {
             "outlinewidth": 0,
             "ticks": ""
            },
            "type": "contourcarpet"
           }
          ],
          "heatmap": [
           {
            "colorbar": {
             "outlinewidth": 0,
             "ticks": ""
            },
            "colorscale": [
             [
              0,
              "#0d0887"
             ],
             [
              0.1111111111111111,
              "#46039f"
             ],
             [
              0.2222222222222222,
              "#7201a8"
             ],
             [
              0.3333333333333333,
              "#9c179e"
             ],
             [
              0.4444444444444444,
              "#bd3786"
             ],
             [
              0.5555555555555556,
              "#d8576b"
             ],
             [
              0.6666666666666666,
              "#ed7953"
             ],
             [
              0.7777777777777778,
              "#fb9f3a"
             ],
             [
              0.8888888888888888,
              "#fdca26"
             ],
             [
              1,
              "#f0f921"
             ]
            ],
            "type": "heatmap"
           }
          ],
          "heatmapgl": [
           {
            "colorbar": {
             "outlinewidth": 0,
             "ticks": ""
            },
            "colorscale": [
             [
              0,
              "#0d0887"
             ],
             [
              0.1111111111111111,
              "#46039f"
             ],
             [
              0.2222222222222222,
              "#7201a8"
             ],
             [
              0.3333333333333333,
              "#9c179e"
             ],
             [
              0.4444444444444444,
              "#bd3786"
             ],
             [
              0.5555555555555556,
              "#d8576b"
             ],
             [
              0.6666666666666666,
              "#ed7953"
             ],
             [
              0.7777777777777778,
              "#fb9f3a"
             ],
             [
              0.8888888888888888,
              "#fdca26"
             ],
             [
              1,
              "#f0f921"
             ]
            ],
            "type": "heatmapgl"
           }
          ],
          "histogram": [
           {
            "marker": {
             "pattern": {
              "fillmode": "overlay",
              "size": 10,
              "solidity": 0.2
             }
            },
            "type": "histogram"
           }
          ],
          "histogram2d": [
           {
            "colorbar": {
             "outlinewidth": 0,
             "ticks": ""
            },
            "colorscale": [
             [
              0,
              "#0d0887"
             ],
             [
              0.1111111111111111,
              "#46039f"
             ],
             [
              0.2222222222222222,
              "#7201a8"
             ],
             [
              0.3333333333333333,
              "#9c179e"
             ],
             [
              0.4444444444444444,
              "#bd3786"
             ],
             [
              0.5555555555555556,
              "#d8576b"
             ],
             [
              0.6666666666666666,
              "#ed7953"
             ],
             [
              0.7777777777777778,
              "#fb9f3a"
             ],
             [
              0.8888888888888888,
              "#fdca26"
             ],
             [
              1,
              "#f0f921"
             ]
            ],
            "type": "histogram2d"
           }
          ],
          "histogram2dcontour": [
           {
            "colorbar": {
             "outlinewidth": 0,
             "ticks": ""
            },
            "colorscale": [
             [
              0,
              "#0d0887"
             ],
             [
              0.1111111111111111,
              "#46039f"
             ],
             [
              0.2222222222222222,
              "#7201a8"
             ],
             [
              0.3333333333333333,
              "#9c179e"
             ],
             [
              0.4444444444444444,
              "#bd3786"
             ],
             [
              0.5555555555555556,
              "#d8576b"
             ],
             [
              0.6666666666666666,
              "#ed7953"
             ],
             [
              0.7777777777777778,
              "#fb9f3a"
             ],
             [
              0.8888888888888888,
              "#fdca26"
             ],
             [
              1,
              "#f0f921"
             ]
            ],
            "type": "histogram2dcontour"
           }
          ],
          "mesh3d": [
           {
            "colorbar": {
             "outlinewidth": 0,
             "ticks": ""
            },
            "type": "mesh3d"
           }
          ],
          "parcoords": [
           {
            "line": {
             "colorbar": {
              "outlinewidth": 0,
              "ticks": ""
             }
            },
            "type": "parcoords"
           }
          ],
          "pie": [
           {
            "automargin": true,
            "type": "pie"
           }
          ],
          "scatter": [
           {
            "fillpattern": {
             "fillmode": "overlay",
             "size": 10,
             "solidity": 0.2
            },
            "type": "scatter"
           }
          ],
          "scatter3d": [
           {
            "line": {
             "colorbar": {
              "outlinewidth": 0,
              "ticks": ""
             }
            },
            "marker": {
             "colorbar": {
              "outlinewidth": 0,
              "ticks": ""
             }
            },
            "type": "scatter3d"
           }
          ],
          "scattercarpet": [
           {
            "marker": {
             "colorbar": {
              "outlinewidth": 0,
              "ticks": ""
             }
            },
            "type": "scattercarpet"
           }
          ],
          "scattergeo": [
           {
            "marker": {
             "colorbar": {
              "outlinewidth": 0,
              "ticks": ""
             }
            },
            "type": "scattergeo"
           }
          ],
          "scattergl": [
           {
            "marker": {
             "colorbar": {
              "outlinewidth": 0,
              "ticks": ""
             }
            },
            "type": "scattergl"
           }
          ],
          "scattermapbox": [
           {
            "marker": {
             "colorbar": {
              "outlinewidth": 0,
              "ticks": ""
             }
            },
            "type": "scattermapbox"
           }
          ],
          "scatterpolar": [
           {
            "marker": {
             "colorbar": {
              "outlinewidth": 0,
              "ticks": ""
             }
            },
            "type": "scatterpolar"
           }
          ],
          "scatterpolargl": [
           {
            "marker": {
             "colorbar": {
              "outlinewidth": 0,
              "ticks": ""
             }
            },
            "type": "scatterpolargl"
           }
          ],
          "scatterternary": [
           {
            "marker": {
             "colorbar": {
              "outlinewidth": 0,
              "ticks": ""
             }
            },
            "type": "scatterternary"
           }
          ],
          "surface": [
           {
            "colorbar": {
             "outlinewidth": 0,
             "ticks": ""
            },
            "colorscale": [
             [
              0,
              "#0d0887"
             ],
             [
              0.1111111111111111,
              "#46039f"
             ],
             [
              0.2222222222222222,
              "#7201a8"
             ],
             [
              0.3333333333333333,
              "#9c179e"
             ],
             [
              0.4444444444444444,
              "#bd3786"
             ],
             [
              0.5555555555555556,
              "#d8576b"
             ],
             [
              0.6666666666666666,
              "#ed7953"
             ],
             [
              0.7777777777777778,
              "#fb9f3a"
             ],
             [
              0.8888888888888888,
              "#fdca26"
             ],
             [
              1,
              "#f0f921"
             ]
            ],
            "type": "surface"
           }
          ],
          "table": [
           {
            "cells": {
             "fill": {
              "color": "#EBF0F8"
             },
             "line": {
              "color": "white"
             }
            },
            "header": {
             "fill": {
              "color": "#C8D4E3"
             },
             "line": {
              "color": "white"
             }
            },
            "type": "table"
           }
          ]
         },
         "layout": {
          "annotationdefaults": {
           "arrowcolor": "#2a3f5f",
           "arrowhead": 0,
           "arrowwidth": 1
          },
          "autotypenumbers": "strict",
          "coloraxis": {
           "colorbar": {
            "outlinewidth": 0,
            "ticks": ""
           }
          },
          "colorscale": {
           "diverging": [
            [
             0,
             "#8e0152"
            ],
            [
             0.1,
             "#c51b7d"
            ],
            [
             0.2,
             "#de77ae"
            ],
            [
             0.3,
             "#f1b6da"
            ],
            [
             0.4,
             "#fde0ef"
            ],
            [
             0.5,
             "#f7f7f7"
            ],
            [
             0.6,
             "#e6f5d0"
            ],
            [
             0.7,
             "#b8e186"
            ],
            [
             0.8,
             "#7fbc41"
            ],
            [
             0.9,
             "#4d9221"
            ],
            [
             1,
             "#276419"
            ]
           ],
           "sequential": [
            [
             0,
             "#0d0887"
            ],
            [
             0.1111111111111111,
             "#46039f"
            ],
            [
             0.2222222222222222,
             "#7201a8"
            ],
            [
             0.3333333333333333,
             "#9c179e"
            ],
            [
             0.4444444444444444,
             "#bd3786"
            ],
            [
             0.5555555555555556,
             "#d8576b"
            ],
            [
             0.6666666666666666,
             "#ed7953"
            ],
            [
             0.7777777777777778,
             "#fb9f3a"
            ],
            [
             0.8888888888888888,
             "#fdca26"
            ],
            [
             1,
             "#f0f921"
            ]
           ],
           "sequentialminus": [
            [
             0,
             "#0d0887"
            ],
            [
             0.1111111111111111,
             "#46039f"
            ],
            [
             0.2222222222222222,
             "#7201a8"
            ],
            [
             0.3333333333333333,
             "#9c179e"
            ],
            [
             0.4444444444444444,
             "#bd3786"
            ],
            [
             0.5555555555555556,
             "#d8576b"
            ],
            [
             0.6666666666666666,
             "#ed7953"
            ],
            [
             0.7777777777777778,
             "#fb9f3a"
            ],
            [
             0.8888888888888888,
             "#fdca26"
            ],
            [
             1,
             "#f0f921"
            ]
           ]
          },
          "colorway": [
           "#636efa",
           "#EF553B",
           "#00cc96",
           "#ab63fa",
           "#FFA15A",
           "#19d3f3",
           "#FF6692",
           "#B6E880",
           "#FF97FF",
           "#FECB52"
          ],
          "font": {
           "color": "#2a3f5f"
          },
          "geo": {
           "bgcolor": "white",
           "lakecolor": "white",
           "landcolor": "#E5ECF6",
           "showlakes": true,
           "showland": true,
           "subunitcolor": "white"
          },
          "hoverlabel": {
           "align": "left"
          },
          "hovermode": "closest",
          "mapbox": {
           "style": "light"
          },
          "paper_bgcolor": "white",
          "plot_bgcolor": "#E5ECF6",
          "polar": {
           "angularaxis": {
            "gridcolor": "white",
            "linecolor": "white",
            "ticks": ""
           },
           "bgcolor": "#E5ECF6",
           "radialaxis": {
            "gridcolor": "white",
            "linecolor": "white",
            "ticks": ""
           }
          },
          "scene": {
           "xaxis": {
            "backgroundcolor": "#E5ECF6",
            "gridcolor": "white",
            "gridwidth": 2,
            "linecolor": "white",
            "showbackground": true,
            "ticks": "",
            "zerolinecolor": "white"
           },
           "yaxis": {
            "backgroundcolor": "#E5ECF6",
            "gridcolor": "white",
            "gridwidth": 2,
            "linecolor": "white",
            "showbackground": true,
            "ticks": "",
            "zerolinecolor": "white"
           },
           "zaxis": {
            "backgroundcolor": "#E5ECF6",
            "gridcolor": "white",
            "gridwidth": 2,
            "linecolor": "white",
            "showbackground": true,
            "ticks": "",
            "zerolinecolor": "white"
           }
          },
          "shapedefaults": {
           "line": {
            "color": "#2a3f5f"
           }
          },
          "ternary": {
           "aaxis": {
            "gridcolor": "white",
            "linecolor": "white",
            "ticks": ""
           },
           "baxis": {
            "gridcolor": "white",
            "linecolor": "white",
            "ticks": ""
           },
           "bgcolor": "#E5ECF6",
           "caxis": {
            "gridcolor": "white",
            "linecolor": "white",
            "ticks": ""
           }
          },
          "title": {
           "x": 0.05
          },
          "xaxis": {
           "automargin": true,
           "gridcolor": "white",
           "linecolor": "white",
           "ticks": "",
           "title": {
            "standoff": 15
           },
           "zerolinecolor": "white",
           "zerolinewidth": 2
          },
          "yaxis": {
           "automargin": true,
           "gridcolor": "white",
           "linecolor": "white",
           "ticks": "",
           "title": {
            "standoff": 15
           },
           "zerolinecolor": "white",
           "zerolinewidth": 2
          }
         }
        },
        "xaxis": {
         "anchor": "y",
         "constrain": "domain",
         "domain": [
          0,
          1
         ],
         "range": [
          -0.7,
          0.7
         ],
         "title": {
          "text": "x1_mds"
         }
        },
        "yaxis": {
         "anchor": "x",
         "constrain": "domain",
         "domain": [
          0,
          1
         ],
         "range": [
          -0.7,
          0.7
         ],
         "scaleanchor": "x",
         "scaleratio": 1,
         "title": {
          "text": "x2_mds"
         }
        }
       }
      }
     },
     "metadata": {},
     "output_type": "display_data"
    },
    {
     "data": {
      "application/vnd.plotly.v1+json": {
       "config": {
        "plotlyServerURL": "https://plot.ly"
       },
       "data": [
        {
         "hovertemplate": "label=AP<br>x1_mds=%{x}<br>x2_mds=%{y}<extra></extra>",
         "legendgroup": "AP",
         "marker": {
          "color": "#C4451C",
          "symbol": "circle"
         },
         "mode": "markers",
         "name": "AP",
         "orientation": "v",
         "showlegend": true,
         "type": "scatter",
         "x": [
          0.39406527208147357,
          -0.12116419357020246,
          -0.19363696394434068,
          -0.19773453962260748
         ],
         "xaxis": "x",
         "y": [
          -0.13580097906078156,
          0.14428949972421057,
          0.06502286844825403,
          0.058642335261938634
         ],
         "yaxis": "y"
        },
        {
         "hovertemplate": "label=CC1<br>x1_mds=%{x}<br>x2_mds=%{y}<extra></extra>",
         "legendgroup": "CC1",
         "marker": {
          "color": "#DEA0FD",
          "symbol": "circle"
         },
         "mode": "markers",
         "name": "CC1",
         "orientation": "v",
         "showlegend": true,
         "type": "scatter",
         "x": [
          -0.19580899574290989,
          0.17102472766162613,
          -0.22690683803050843,
          0.17571770044156612,
          -0.15154861339646788,
          0.304041628059513,
          -0.03995349239409593,
          -0.008772711464420792,
          -0.19719957364979762,
          -0.20929632511173793,
          0.018290366745397153,
          -0.012042035155429644,
          0.2988172220807842,
          -0.11496332331518604,
          -0.1149494116932923,
          -0.23475266176181694,
          -0.2892333698487094,
          -0.10184418881079156,
          -0.11924843739831557,
          -0.25382033585546365,
          -0.10039287706263479,
          -0.10248381382216494,
          0.20129018852561548,
          0.32644045039974995,
          0.19671895181539212,
          0.0961584827498201,
          -0.03384633972723376,
          -0.10955936506632381,
          0.37426309128507124,
          -0.11665985055800893,
          -0.11850655844718683,
          0.2866734493878284,
          -0.13497583627999238,
          -0.1285295726259588,
          -0.06901458129624811,
          0.3793747149417062,
          -0.05201892534000841,
          0.3299665851522681,
          0.3088552293242015,
          0.0026174549907437054,
          0.09561610486833579,
          -0.1361680876164431,
          -0.07541099287465948,
          -0.10642392087316811,
          -0.0757067102338616,
          -0.24461273069031683,
          -0.11168288390772649,
          -0.11853296219818917,
          -0.024382856259679044,
          -0.12134554517187622,
          0.2803075774402305,
          -0.07020817064389703,
          0.08673637171271287,
          -0.053849210564152095,
          -0.21996516177224276,
          -0.08094659285280717,
          0.08869538405511004,
          -0.01078539519301056,
          0.15769062591295063,
          -0.12043085894005165,
          0.29897895416242354,
          0.062395478385139716,
          -0.175076689816113,
          -0.12131788270119598,
          -0.11874191172039532,
          0.15763316271379998,
          -0.10232209180485273,
          -0.1099030948289313,
          0.037760427661654,
          -0.03408480325504493,
          0.3048699767859708,
          -0.10175020251654462,
          0.3051792604070864,
          -0.10967843510797884,
          -0.13320739222119818,
          -0.11197911657889441,
          -0.12662271647105464,
          -0.14357814633404684,
          0.08574640251014269,
          -0.07391311512047803,
          -0.0637170230732095,
          -0.11214215872542115,
          -0.009000896748336847,
          -0.11056020955090186,
          -0.10207077349376871,
          -0.19570473097776675,
          -0.13092369907838458,
          0.20581130851658608,
          0.2592373750056762,
          -0.027692706207530705,
          -0.02241891272508302,
          0.07179283493790603,
          0.08420046303213854,
          0.2786675639743538,
          -0.03504692514734019,
          0.08589295468244369,
          0.20631707822586792,
          0.15493397380151952,
          -0.0704413301858156,
          -0.2226553907861609,
          0.28552173702017625,
          -0.012054389046313216,
          -0.0410918540866995,
          0.14827906055092302,
          -0.045762690073659996,
          0.2807108680002701,
          -0.1345987350355398,
          -0.037372160204980395,
          -0.10595101821436355,
          -0.07855067175162535,
          -0.1469846516847771,
          0.014116023971544437,
          0.32413123687907924,
          -0.03917911532403795,
          0.09831891832156972,
          -0.07375194565224591,
          -0.3316348202519518,
          0.1756964527733533,
          0.1758969002602487,
          -0.17022506918907843,
          -0.0728991579624709
         ],
         "xaxis": "x",
         "y": [
          0.05892237545035134,
          -0.237755327358922,
          -0.2734259249773164,
          -0.14450680109467198,
          0.014898060994705508,
          0.1009555834725653,
          -0.04983880661728633,
          0.03802396606521717,
          0.057486070202589015,
          -0.04741823446501389,
          -0.275926522141179,
          0.1978836165996754,
          0.12138984690291411,
          0.1431555295024327,
          0.1367610961600533,
          -0.28347167655341576,
          0.19175058159174999,
          0.13736057293580373,
          0.1300384948893071,
          -0.30374421709876076,
          0.13687111860766454,
          0.1393907945017468,
          -0.3439931456641459,
          -0.09384048645396849,
          -0.09343588926600567,
          -0.15830923732529412,
          -0.0038220137076627357,
          0.1278652077991338,
          0.2320815613697237,
          0.12917307251302873,
          0.14132774042509402,
          0.11257531663319781,
          0.1220216822543901,
          0.1434856391504327,
          -0.06743965430060124,
          0.1752360634798929,
          -0.044129466904382846,
          0.14897480578135225,
          -0.17680606230352408,
          0.24629224352250095,
          -0.1659714538031565,
          0.12455626132239743,
          -0.054956151583430576,
          0.14336539617555483,
          -0.06310363565947316,
          0.017822291689657967,
          0.15374380230220222,
          0.13280329003778482,
          -0.010050513842405373,
          0.12478061128989296,
          0.10285781386501816,
          -0.06921928733109323,
          0.34320468416474104,
          0.21708008728102232,
          -0.2825943756093985,
          -0.0696140681074066,
          0.31505452030476555,
          0.15622245286287195,
          -0.07531928171236449,
          0.13507551177182994,
          -0.16964541812560635,
          -0.2859621690459345,
          0.0397660499279705,
          0.12433592200027453,
          0.13731331602583685,
          -0.18278468562375572,
          0.1433181458643876,
          0.1231471940374257,
          -0.17763187362695812,
          -0.2859737897959713,
          -0.09547910208148402,
          0.15313828677716684,
          -0.051219403969265734,
          0.12618691826384063,
          0.12417520854693159,
          0.11995407193673764,
          0.12344363919685089,
          0.1248087796179952,
          0.30073032125420707,
          -0.05801210483032433,
          -0.06126885542612942,
          -0.011606049295245295,
          0.18545115443696325,
          0.13837127650872838,
          0.13932708714411476,
          0.05709421336556985,
          0.12682325917075973,
          -0.34394748433117484,
          -0.18640382397220234,
          -0.02473260675779286,
          0.08858870540611816,
          -0.11101767072977682,
          0.31898987532079803,
          0.09373741256012037,
          0.32047372401373847,
          0.3141735129885995,
          -0.34299792348410324,
          -0.1730488958851066,
          -0.06348459850945001,
          -0.28698879228034546,
          0.09555753879479072,
          -0.30795270817957865,
          -0.05897431501301612,
          -0.23392712161640047,
          0.017271531478900416,
          0.10504177787194528,
          0.1361281192047808,
          -0.0054013831879684395,
          0.157138096961545,
          -0.06539651696115598,
          0.13199570763375817,
          0.18647505299249223,
          -0.09737757866875464,
          0.3085888152199655,
          -0.15682531396881388,
          -0.0650715481272954,
          -0.1048403327274197,
          -0.16790541771867348,
          0.019750103138149525,
          -0.32936764382095884,
          -0.06276390712631738
         ],
         "yaxis": "y"
        },
        {
         "hovertemplate": "label=CC2<br>x1_mds=%{x}<br>x2_mds=%{y}<extra></extra>",
         "legendgroup": "CC2",
         "marker": {
          "color": "#FE00FA",
          "symbol": "circle"
         },
         "mode": "markers",
         "name": "CC2",
         "orientation": "v",
         "showlegend": true,
         "type": "scatter",
         "x": [
          -0.057689989680950925,
          0.04772205642913492
         ],
         "xaxis": "x",
         "y": [
          -0.05361060067954358,
          -0.12618043610820429
         ],
         "yaxis": "y"
        },
        {
         "hovertemplate": "label=CC3<br>x1_mds=%{x}<br>x2_mds=%{y}<extra></extra>",
         "legendgroup": "CC3",
         "marker": {
          "color": "#325A9B",
          "symbol": "circle"
         },
         "mode": "markers",
         "name": "CC3",
         "orientation": "v",
         "showlegend": true,
         "type": "scatter",
         "x": [
          0.1584592019281169,
          0.2776613711423893,
          -0.12124453766663469
         ],
         "xaxis": "x",
         "y": [
          -0.17470926362696343,
          0.104995642664623,
          0.1296731910957415
         ],
         "yaxis": "y"
        },
        {
         "hovertemplate": "label=HAD<br>x1_mds=%{x}<br>x2_mds=%{y}<extra></extra>",
         "legendgroup": "HAD",
         "marker": {
          "color": "#FEAF16",
          "symbol": "circle"
         },
         "mode": "markers",
         "name": "HAD",
         "orientation": "v",
         "showlegend": true,
         "type": "scatter",
         "x": [
          -0.24015899235280458,
          -0.08778052731610445,
          -0.12532510276592843,
          0.01063838579560421,
          -0.06039699135727621,
          -0.12145198515082468,
          -0.11989293043523536,
          -0.20341902853407481,
          -0.11621227061426685,
          0.0006083228318278788,
          -0.1312674827266533,
          0.3016357307723443,
          -0.01887432494468598,
          -0.06398135150802234,
          0.08310500635255526,
          0.0837613658206564,
          0.17138392855782544
         ],
         "xaxis": "x",
         "y": [
          -0.2788265184090773,
          -0.06922177375944702,
          0.14563786131589174,
          -0.25712996288393336,
          -0.053310456956950726,
          0.12088987210509093,
          0.12731930434581373,
          -0.27391797828289727,
          0.13831143145246175,
          0.1281333584729343,
          0.1431617636592966,
          0.05552704540427179,
          -0.2893635985135036,
          -0.05679176205687847,
          0.2707547434184275,
          0.30979161209548517,
          -0.07549425895384088
         ],
         "yaxis": "y"
        },
        {
         "hovertemplate": "label=HP<br>x1_mds=%{x}<br>x2_mds=%{y}<extra></extra>",
         "legendgroup": "HP",
         "marker": {
          "color": "#F8A19F",
          "symbol": "circle"
         },
         "mode": "markers",
         "name": "HP",
         "orientation": "v",
         "showlegend": true,
         "type": "scatter",
         "x": [
          -0.27498539307996384,
          0.37769679381726684,
          0.09696021854910802,
          0.3296624180830775,
          0.28267255587232804,
          -0.07973103086361231,
          0.3119096399025022,
          0.22631487414235066,
          0.30950284443347487,
          -0.1399761856496051,
          -0.124004765412582,
          -0.07555146316728034,
          -0.07879611763839248,
          0.2876210304805218,
          -0.059803088792238425,
          -0.25512314901357386,
          0.3475514497557814,
          -0.11426033027189732,
          0.33134359805697355,
          -0.06408365490218086
         ],
         "xaxis": "x",
         "y": [
          0.1760692605570763,
          0.191120389806397,
          -0.16601540593065042,
          0.16179822651534875,
          0.12734785476978436,
          -0.07119624748170371,
          0.2031417084868191,
          -0.20228178238551728,
          0.14896470924647406,
          0.12227877225479804,
          0.1340503446132161,
          -0.07577113481459058,
          -0.06870716620184282,
          0.12862214203920627,
          -0.04860789333724108,
          -0.3026619336301697,
          0.16806590864520052,
          -0.012862700981581708,
          -0.09990386131594231,
          -0.05352565268236729
         ],
         "yaxis": "y"
        },
        {
         "hovertemplate": "label=PHP<br>x1_mds=%{x}<br>x2_mds=%{y}<extra></extra>",
         "legendgroup": "PHP",
         "marker": {
          "color": "#90AD1C",
          "symbol": "circle"
         },
         "mode": "markers",
         "name": "PHP",
         "orientation": "v",
         "showlegend": true,
         "type": "scatter",
         "x": [
          0.20055241875575236
         ],
         "xaxis": "x",
         "y": [
          -0.11419712040071191
         ],
         "yaxis": "y"
        },
        {
         "hovertemplate": "label=PPM<br>x1_mds=%{x}<br>x2_mds=%{y}<extra></extra>",
         "legendgroup": "PPM",
         "marker": {
          "color": "#F6222E",
          "symbol": "circle"
         },
         "mode": "markers",
         "name": "PPM",
         "orientation": "v",
         "showlegend": true,
         "type": "scatter",
         "x": [
          -0.11901884809904735,
          -0.06916781146004147,
          -0.24897772828733622,
          -0.04570440045887746,
          0.315830753850649,
          0.19787888585872357,
          0.01509946584522685,
          -0.06317576343741893,
          0.20221712025115657,
          -0.1627415276900159,
          -0.0773111879903829,
          -0.2203541139122776,
          -0.07498573686165493,
          0.19656519007594025,
          -0.19223769513753455,
          0.1919763079467139,
          -0.011249566599131976,
          -0.11088375171509757,
          -0.04814960717194001,
          -0.11462500632103506
         ],
         "xaxis": "x",
         "y": [
          0.1396763514222561,
          -0.06001544428445349,
          -0.2982724572903424,
          -0.3168620462848531,
          0.15455242127099839,
          -0.06670513811839907,
          0.02619264178017918,
          0.01188641807282311,
          -0.3560037592034934,
          0.01709958449895114,
          -0.06656610608825465,
          -0.28342408090190635,
          -0.06730353909638981,
          -0.22631610942539615,
          -0.03792915873057178,
          -0.11884177873930125,
          0.16070577683949652,
          0.12866898859815287,
          -0.31429365343013016,
          0.131015073069175
         ],
         "yaxis": "y"
        },
        {
         "hovertemplate": "label=PPPL<br>x1_mds=%{x}<br>x2_mds=%{y}<extra></extra>",
         "legendgroup": "PPPL",
         "marker": {
          "color": "#1CFFCE",
          "symbol": "circle"
         },
         "mode": "markers",
         "name": "PPPL",
         "orientation": "v",
         "showlegend": true,
         "type": "scatter",
         "x": [
          0.18718193972523095,
          -0.10687903217369286,
          0.26090509565197173,
          -0.015134334861820897,
          -0.12329394035389615,
          -0.03827366740288889,
          -0.12158327476922003,
          -0.08733171761510618,
          0.13511601162253123,
          -0.030922727069256715,
          -0.05510272107154627,
          -0.047815574689253064,
          0.004968801578689282,
          -0.18928048364407485,
          -0.23738882436118564
         ],
         "xaxis": "x",
         "y": [
          -0.06744158814347419,
          0.12952905451942723,
          -0.17137511074518488,
          -0.3355139884045467,
          0.18316178603510422,
          -0.008054005524965852,
          0.12226990586155333,
          -0.07056051401285919,
          -0.02213343954014911,
          0.027853633397334494,
          -0.04639828140436293,
          -0.30818074741934914,
          0.21483537053068477,
          -0.3035041104884567,
          -0.278457412849826
         ],
         "yaxis": "y"
        },
        {
         "hovertemplate": "label=RTR1<br>x1_mds=%{x}<br>x2_mds=%{y}<extra></extra>",
         "legendgroup": "RTR1",
         "marker": {
          "color": "#2ED9FF",
          "symbol": "circle"
         },
         "mode": "markers",
         "name": "RTR1",
         "orientation": "v",
         "showlegend": true,
         "type": "scatter",
         "x": [
          -0.10043059466174244
         ],
         "xaxis": "x",
         "y": [
          0.1581027935192423
         ],
         "yaxis": "y"
        }
       ],
       "layout": {
        "legend": {
         "title": {
          "text": "label"
         },
         "tracegroupgap": 0
        },
        "margin": {
         "t": 60
        },
        "template": {
         "data": {
          "bar": [
           {
            "error_x": {
             "color": "#2a3f5f"
            },
            "error_y": {
             "color": "#2a3f5f"
            },
            "marker": {
             "line": {
              "color": "#E5ECF6",
              "width": 0.5
             },
             "pattern": {
              "fillmode": "overlay",
              "size": 10,
              "solidity": 0.2
             }
            },
            "type": "bar"
           }
          ],
          "barpolar": [
           {
            "marker": {
             "line": {
              "color": "#E5ECF6",
              "width": 0.5
             },
             "pattern": {
              "fillmode": "overlay",
              "size": 10,
              "solidity": 0.2
             }
            },
            "type": "barpolar"
           }
          ],
          "carpet": [
           {
            "aaxis": {
             "endlinecolor": "#2a3f5f",
             "gridcolor": "white",
             "linecolor": "white",
             "minorgridcolor": "white",
             "startlinecolor": "#2a3f5f"
            },
            "baxis": {
             "endlinecolor": "#2a3f5f",
             "gridcolor": "white",
             "linecolor": "white",
             "minorgridcolor": "white",
             "startlinecolor": "#2a3f5f"
            },
            "type": "carpet"
           }
          ],
          "choropleth": [
           {
            "colorbar": {
             "outlinewidth": 0,
             "ticks": ""
            },
            "type": "choropleth"
           }
          ],
          "contour": [
           {
            "colorbar": {
             "outlinewidth": 0,
             "ticks": ""
            },
            "colorscale": [
             [
              0,
              "#0d0887"
             ],
             [
              0.1111111111111111,
              "#46039f"
             ],
             [
              0.2222222222222222,
              "#7201a8"
             ],
             [
              0.3333333333333333,
              "#9c179e"
             ],
             [
              0.4444444444444444,
              "#bd3786"
             ],
             [
              0.5555555555555556,
              "#d8576b"
             ],
             [
              0.6666666666666666,
              "#ed7953"
             ],
             [
              0.7777777777777778,
              "#fb9f3a"
             ],
             [
              0.8888888888888888,
              "#fdca26"
             ],
             [
              1,
              "#f0f921"
             ]
            ],
            "type": "contour"
           }
          ],
          "contourcarpet": [
           {
            "colorbar": {
             "outlinewidth": 0,
             "ticks": ""
            },
            "type": "contourcarpet"
           }
          ],
          "heatmap": [
           {
            "colorbar": {
             "outlinewidth": 0,
             "ticks": ""
            },
            "colorscale": [
             [
              0,
              "#0d0887"
             ],
             [
              0.1111111111111111,
              "#46039f"
             ],
             [
              0.2222222222222222,
              "#7201a8"
             ],
             [
              0.3333333333333333,
              "#9c179e"
             ],
             [
              0.4444444444444444,
              "#bd3786"
             ],
             [
              0.5555555555555556,
              "#d8576b"
             ],
             [
              0.6666666666666666,
              "#ed7953"
             ],
             [
              0.7777777777777778,
              "#fb9f3a"
             ],
             [
              0.8888888888888888,
              "#fdca26"
             ],
             [
              1,
              "#f0f921"
             ]
            ],
            "type": "heatmap"
           }
          ],
          "heatmapgl": [
           {
            "colorbar": {
             "outlinewidth": 0,
             "ticks": ""
            },
            "colorscale": [
             [
              0,
              "#0d0887"
             ],
             [
              0.1111111111111111,
              "#46039f"
             ],
             [
              0.2222222222222222,
              "#7201a8"
             ],
             [
              0.3333333333333333,
              "#9c179e"
             ],
             [
              0.4444444444444444,
              "#bd3786"
             ],
             [
              0.5555555555555556,
              "#d8576b"
             ],
             [
              0.6666666666666666,
              "#ed7953"
             ],
             [
              0.7777777777777778,
              "#fb9f3a"
             ],
             [
              0.8888888888888888,
              "#fdca26"
             ],
             [
              1,
              "#f0f921"
             ]
            ],
            "type": "heatmapgl"
           }
          ],
          "histogram": [
           {
            "marker": {
             "pattern": {
              "fillmode": "overlay",
              "size": 10,
              "solidity": 0.2
             }
            },
            "type": "histogram"
           }
          ],
          "histogram2d": [
           {
            "colorbar": {
             "outlinewidth": 0,
             "ticks": ""
            },
            "colorscale": [
             [
              0,
              "#0d0887"
             ],
             [
              0.1111111111111111,
              "#46039f"
             ],
             [
              0.2222222222222222,
              "#7201a8"
             ],
             [
              0.3333333333333333,
              "#9c179e"
             ],
             [
              0.4444444444444444,
              "#bd3786"
             ],
             [
              0.5555555555555556,
              "#d8576b"
             ],
             [
              0.6666666666666666,
              "#ed7953"
             ],
             [
              0.7777777777777778,
              "#fb9f3a"
             ],
             [
              0.8888888888888888,
              "#fdca26"
             ],
             [
              1,
              "#f0f921"
             ]
            ],
            "type": "histogram2d"
           }
          ],
          "histogram2dcontour": [
           {
            "colorbar": {
             "outlinewidth": 0,
             "ticks": ""
            },
            "colorscale": [
             [
              0,
              "#0d0887"
             ],
             [
              0.1111111111111111,
              "#46039f"
             ],
             [
              0.2222222222222222,
              "#7201a8"
             ],
             [
              0.3333333333333333,
              "#9c179e"
             ],
             [
              0.4444444444444444,
              "#bd3786"
             ],
             [
              0.5555555555555556,
              "#d8576b"
             ],
             [
              0.6666666666666666,
              "#ed7953"
             ],
             [
              0.7777777777777778,
              "#fb9f3a"
             ],
             [
              0.8888888888888888,
              "#fdca26"
             ],
             [
              1,
              "#f0f921"
             ]
            ],
            "type": "histogram2dcontour"
           }
          ],
          "mesh3d": [
           {
            "colorbar": {
             "outlinewidth": 0,
             "ticks": ""
            },
            "type": "mesh3d"
           }
          ],
          "parcoords": [
           {
            "line": {
             "colorbar": {
              "outlinewidth": 0,
              "ticks": ""
             }
            },
            "type": "parcoords"
           }
          ],
          "pie": [
           {
            "automargin": true,
            "type": "pie"
           }
          ],
          "scatter": [
           {
            "fillpattern": {
             "fillmode": "overlay",
             "size": 10,
             "solidity": 0.2
            },
            "type": "scatter"
           }
          ],
          "scatter3d": [
           {
            "line": {
             "colorbar": {
              "outlinewidth": 0,
              "ticks": ""
             }
            },
            "marker": {
             "colorbar": {
              "outlinewidth": 0,
              "ticks": ""
             }
            },
            "type": "scatter3d"
           }
          ],
          "scattercarpet": [
           {
            "marker": {
             "colorbar": {
              "outlinewidth": 0,
              "ticks": ""
             }
            },
            "type": "scattercarpet"
           }
          ],
          "scattergeo": [
           {
            "marker": {
             "colorbar": {
              "outlinewidth": 0,
              "ticks": ""
             }
            },
            "type": "scattergeo"
           }
          ],
          "scattergl": [
           {
            "marker": {
             "colorbar": {
              "outlinewidth": 0,
              "ticks": ""
             }
            },
            "type": "scattergl"
           }
          ],
          "scattermapbox": [
           {
            "marker": {
             "colorbar": {
              "outlinewidth": 0,
              "ticks": ""
             }
            },
            "type": "scattermapbox"
           }
          ],
          "scatterpolar": [
           {
            "marker": {
             "colorbar": {
              "outlinewidth": 0,
              "ticks": ""
             }
            },
            "type": "scatterpolar"
           }
          ],
          "scatterpolargl": [
           {
            "marker": {
             "colorbar": {
              "outlinewidth": 0,
              "ticks": ""
             }
            },
            "type": "scatterpolargl"
           }
          ],
          "scatterternary": [
           {
            "marker": {
             "colorbar": {
              "outlinewidth": 0,
              "ticks": ""
             }
            },
            "type": "scatterternary"
           }
          ],
          "surface": [
           {
            "colorbar": {
             "outlinewidth": 0,
             "ticks": ""
            },
            "colorscale": [
             [
              0,
              "#0d0887"
             ],
             [
              0.1111111111111111,
              "#46039f"
             ],
             [
              0.2222222222222222,
              "#7201a8"
             ],
             [
              0.3333333333333333,
              "#9c179e"
             ],
             [
              0.4444444444444444,
              "#bd3786"
             ],
             [
              0.5555555555555556,
              "#d8576b"
             ],
             [
              0.6666666666666666,
              "#ed7953"
             ],
             [
              0.7777777777777778,
              "#fb9f3a"
             ],
             [
              0.8888888888888888,
              "#fdca26"
             ],
             [
              1,
              "#f0f921"
             ]
            ],
            "type": "surface"
           }
          ],
          "table": [
           {
            "cells": {
             "fill": {
              "color": "#EBF0F8"
             },
             "line": {
              "color": "white"
             }
            },
            "header": {
             "fill": {
              "color": "#C8D4E3"
             },
             "line": {
              "color": "white"
             }
            },
            "type": "table"
           }
          ]
         },
         "layout": {
          "annotationdefaults": {
           "arrowcolor": "#2a3f5f",
           "arrowhead": 0,
           "arrowwidth": 1
          },
          "autotypenumbers": "strict",
          "coloraxis": {
           "colorbar": {
            "outlinewidth": 0,
            "ticks": ""
           }
          },
          "colorscale": {
           "diverging": [
            [
             0,
             "#8e0152"
            ],
            [
             0.1,
             "#c51b7d"
            ],
            [
             0.2,
             "#de77ae"
            ],
            [
             0.3,
             "#f1b6da"
            ],
            [
             0.4,
             "#fde0ef"
            ],
            [
             0.5,
             "#f7f7f7"
            ],
            [
             0.6,
             "#e6f5d0"
            ],
            [
             0.7,
             "#b8e186"
            ],
            [
             0.8,
             "#7fbc41"
            ],
            [
             0.9,
             "#4d9221"
            ],
            [
             1,
             "#276419"
            ]
           ],
           "sequential": [
            [
             0,
             "#0d0887"
            ],
            [
             0.1111111111111111,
             "#46039f"
            ],
            [
             0.2222222222222222,
             "#7201a8"
            ],
            [
             0.3333333333333333,
             "#9c179e"
            ],
            [
             0.4444444444444444,
             "#bd3786"
            ],
            [
             0.5555555555555556,
             "#d8576b"
            ],
            [
             0.6666666666666666,
             "#ed7953"
            ],
            [
             0.7777777777777778,
             "#fb9f3a"
            ],
            [
             0.8888888888888888,
             "#fdca26"
            ],
            [
             1,
             "#f0f921"
            ]
           ],
           "sequentialminus": [
            [
             0,
             "#0d0887"
            ],
            [
             0.1111111111111111,
             "#46039f"
            ],
            [
             0.2222222222222222,
             "#7201a8"
            ],
            [
             0.3333333333333333,
             "#9c179e"
            ],
            [
             0.4444444444444444,
             "#bd3786"
            ],
            [
             0.5555555555555556,
             "#d8576b"
            ],
            [
             0.6666666666666666,
             "#ed7953"
            ],
            [
             0.7777777777777778,
             "#fb9f3a"
            ],
            [
             0.8888888888888888,
             "#fdca26"
            ],
            [
             1,
             "#f0f921"
            ]
           ]
          },
          "colorway": [
           "#636efa",
           "#EF553B",
           "#00cc96",
           "#ab63fa",
           "#FFA15A",
           "#19d3f3",
           "#FF6692",
           "#B6E880",
           "#FF97FF",
           "#FECB52"
          ],
          "font": {
           "color": "#2a3f5f"
          },
          "geo": {
           "bgcolor": "white",
           "lakecolor": "white",
           "landcolor": "#E5ECF6",
           "showlakes": true,
           "showland": true,
           "subunitcolor": "white"
          },
          "hoverlabel": {
           "align": "left"
          },
          "hovermode": "closest",
          "mapbox": {
           "style": "light"
          },
          "paper_bgcolor": "white",
          "plot_bgcolor": "#E5ECF6",
          "polar": {
           "angularaxis": {
            "gridcolor": "white",
            "linecolor": "white",
            "ticks": ""
           },
           "bgcolor": "#E5ECF6",
           "radialaxis": {
            "gridcolor": "white",
            "linecolor": "white",
            "ticks": ""
           }
          },
          "scene": {
           "xaxis": {
            "backgroundcolor": "#E5ECF6",
            "gridcolor": "white",
            "gridwidth": 2,
            "linecolor": "white",
            "showbackground": true,
            "ticks": "",
            "zerolinecolor": "white"
           },
           "yaxis": {
            "backgroundcolor": "#E5ECF6",
            "gridcolor": "white",
            "gridwidth": 2,
            "linecolor": "white",
            "showbackground": true,
            "ticks": "",
            "zerolinecolor": "white"
           },
           "zaxis": {
            "backgroundcolor": "#E5ECF6",
            "gridcolor": "white",
            "gridwidth": 2,
            "linecolor": "white",
            "showbackground": true,
            "ticks": "",
            "zerolinecolor": "white"
           }
          },
          "shapedefaults": {
           "line": {
            "color": "#2a3f5f"
           }
          },
          "ternary": {
           "aaxis": {
            "gridcolor": "white",
            "linecolor": "white",
            "ticks": ""
           },
           "baxis": {
            "gridcolor": "white",
            "linecolor": "white",
            "ticks": ""
           },
           "bgcolor": "#E5ECF6",
           "caxis": {
            "gridcolor": "white",
            "linecolor": "white",
            "ticks": ""
           }
          },
          "title": {
           "x": 0.05
          },
          "xaxis": {
           "automargin": true,
           "gridcolor": "white",
           "linecolor": "white",
           "ticks": "",
           "title": {
            "standoff": 15
           },
           "zerolinecolor": "white",
           "zerolinewidth": 2
          },
          "yaxis": {
           "automargin": true,
           "gridcolor": "white",
           "linecolor": "white",
           "ticks": "",
           "title": {
            "standoff": 15
           },
           "zerolinecolor": "white",
           "zerolinewidth": 2
          }
         }
        },
        "xaxis": {
         "anchor": "y",
         "constrain": "domain",
         "domain": [
          0,
          1
         ],
         "range": [
          -0.7,
          0.7
         ],
         "title": {
          "text": "x1_mds"
         }
        },
        "yaxis": {
         "anchor": "x",
         "constrain": "domain",
         "domain": [
          0,
          1
         ],
         "range": [
          -0.7,
          0.7
         ],
         "scaleanchor": "x",
         "scaleratio": 1,
         "title": {
          "text": "x2_mds"
         }
        }
       }
      }
     },
     "metadata": {},
     "output_type": "display_data"
    }
   ],
   "source": [
    "plt = px.scatter(df_embedding, x = 'x1_mds', y = 'x2_mds',\n",
    "                    color = df_embedding[\"clust_mds\"],\n",
    "                    color_discrete_sequence = px.colors.qualitative.Alphabet,\n",
    "                    color_discrete_map=phosphatase_cols,\n",
    "                    #color_continuous_scale = \"Turbo\",\n",
    "                    ##labels={'color': labels}, \n",
    "                    #hover_name=labels_name,\n",
    "                    #hover_data=df.columns[2:],\n",
    "                    #height = 800,\n",
    "                    #title = title,\n",
    "                )\n",
    "plt.update_xaxes(range = [-0.7, 0.7], constrain=\"domain\")\n",
    "plt.update_yaxes(range = [-0.7, 0.7], constrain=\"domain\")\n",
    "\n",
    "plt.update_yaxes(scaleanchor = \"x\", scaleratio = 1)\n",
    "plt.show()\n",
    "\n",
    "plt = px.scatter(df_embedding, x = 'x1_mds', y = 'x2_mds',\n",
    "                    color = df_embedding[true_col],\n",
    "                    color_discrete_sequence = px.colors.qualitative.Alphabet,\n",
    "                    color_discrete_map=phosphatase_cols,\n",
    "                    #color_continuous_scale = \"Turbo\",\n",
    "                    ##labels={'color': labels}, \n",
    "                    #hover_name=labels_name,\n",
    "                    #hover_data=df.columns[2:],\n",
    "                    #height = 800,\n",
    "                    #title = title,\n",
    "                )\n",
    "plt.update_xaxes(range = [-0.7, 0.7], constrain=\"domain\")\n",
    "plt.update_yaxes(range = [-0.7, 0.7], constrain=\"domain\")\n",
    "\n",
    "plt.update_yaxes(scaleanchor = \"x\", scaleratio = 1)\n",
    "plt.show()"
   ]
  },
  {
   "cell_type": "markdown",
   "id": "bd043b34",
   "metadata": {},
   "source": [
    "## tSNE"
   ]
  },
  {
   "cell_type": "code",
   "execution_count": 56,
   "id": "be0dfef0",
   "metadata": {},
   "outputs": [
    {
     "data": {
      "application/vnd.plotly.v1+json": {
       "config": {
        "plotlyServerURL": "https://plot.ly"
       },
       "data": [
        {
         "hovertemplate": "clust_tsne=0<br>x1_tsne=%{x}<br>x2_tsne=%{y}<extra></extra>",
         "legendgroup": "0",
         "marker": {
          "color": "#C4451C",
          "symbol": "circle"
         },
         "mode": "markers",
         "name": "0",
         "orientation": "v",
         "showlegend": true,
         "type": "scatter",
         "x": [
          -13.577935218811035,
          8.75581169128418,
          -9.570722579956055,
          3.9593544006347656,
          11.138652801513672,
          -6.0539703369140625,
          -5.9308600425720215,
          10.015557289123535,
          -5.704402446746826,
          10.127635955810547,
          -14.769988059997559,
          -1.0967063903808594,
          -7.895833492279053,
          9.105993270874023,
          -4.2899651527404785,
          -6.207345485687256,
          -14.539701461791992,
          10.570282936096191,
          11.13967227935791,
          -1.1660139560699463,
          -9.188058853149414,
          -2.297584295272827,
          8.96694278717041,
          4.007887363433838,
          -5.708059787750244,
          -6.6028571128845215,
          -4.300020217895508
         ],
         "xaxis": "x",
         "y": [
          18.563528060913086,
          17.793066024780273,
          23.189464569091797,
          19.28791618347168,
          13.278311729431152,
          22.392805099487305,
          23.513286590576172,
          17.903526306152344,
          13.448845863342285,
          16.655235290527344,
          19.72917366027832,
          19.244518280029297,
          22.642745971679688,
          18.1702823638916,
          20.0598201751709,
          21.918434143066406,
          19.502649307250977,
          16.856277465820312,
          13.26913833618164,
          19.25931739807129,
          23.0535831451416,
          19.53257179260254,
          16.685909271240234,
          19.271970748901367,
          13.416204452514648,
          22.189067840576172,
          20.185396194458008
         ],
         "yaxis": "y"
        },
        {
         "hovertemplate": "clust_tsne=2<br>x1_tsne=%{x}<br>x2_tsne=%{y}<extra></extra>",
         "legendgroup": "2",
         "marker": {
          "color": "#DEA0FD",
          "symbol": "circle"
         },
         "mode": "markers",
         "name": "2",
         "orientation": "v",
         "showlegend": true,
         "type": "scatter",
         "x": [
          37.64039993286133,
          27.578535079956055,
          29.6793270111084,
          24.495376586914062,
          28.662372589111328,
          21.651453018188477,
          24.86290740966797,
          26.25913429260254,
          28.611061096191406,
          34.75740051269531,
          46.3270378112793,
          42.80752944946289,
          45.89529037475586,
          28.7596378326416,
          28.94235610961914,
          31.218795776367188,
          32.79302978515625,
          36.11131286621094,
          38.183353424072266,
          30.866291046142578,
          25.565385818481445,
          23.956466674804688,
          26.22071075439453,
          23.656166076660156,
          45.2596435546875,
          22.228092193603516,
          43.76995086669922,
          48.065643310546875,
          27.62346839904785,
          24.599010467529297,
          43.07533264160156,
          42.79460144042969,
          26.247055053710938,
          48.68328857421875,
          32.139617919921875,
          37.96492004394531,
          38.36678695678711,
          32.519832611083984,
          36.3269157409668,
          42.764156341552734,
          48.04255676269531,
          40.457393646240234,
          30.80086898803711,
          26.225208282470703,
          30.045705795288086,
          21.9213924407959,
          30.446155548095703,
          38.6439094543457,
          27.568490982055664
         ],
         "xaxis": "x",
         "y": [
          -11.254087448120117,
          -13.209853172302246,
          -8.819014549255371,
          -22.162254333496094,
          -4.118212699890137,
          -7.7616167068481445,
          -21.8739013671875,
          -9.700044631958008,
          -4.161194801330566,
          -9.642971992492676,
          -5.982365608215332,
          -10.427135467529297,
          -6.282133102416992,
          -16.61699676513672,
          -16.501846313476562,
          -4.505599021911621,
          -3.9130373001098633,
          -9.512604713439941,
          -3.5182719230651855,
          -2.8447763919830322,
          -21.717538833618164,
          -7.30940055847168,
          -23.53720474243164,
          -7.23985481262207,
          -5.953919410705566,
          -6.134368896484375,
          -6.015519618988037,
          -6.598777770996094,
          -13.384956359863281,
          -21.313251495361328,
          -7.703249454498291,
          -8.034784317016602,
          -23.148509979248047,
          -6.278623104095459,
          -3.849363327026367,
          -11.274701118469238,
          -3.0369277000427246,
          -4.61078405380249,
          -9.353252410888672,
          -10.586363792419434,
          -5.974546909332275,
          -8.701658248901367,
          -9.188352584838867,
          -9.73654556274414,
          -8.987170219421387,
          -6.513594150543213,
          -16.71927261352539,
          -3.427443265914917,
          -18.39691734313965
         ],
         "yaxis": "y"
        },
        {
         "hovertemplate": "clust_tsne=5<br>x1_tsne=%{x}<br>x2_tsne=%{y}<extra></extra>",
         "legendgroup": "5",
         "marker": {
          "color": "#FE00FA",
          "symbol": "circle"
         },
         "mode": "markers",
         "name": "5",
         "orientation": "v",
         "showlegend": true,
         "type": "scatter",
         "x": [
          35.54990005493164,
          35.59490203857422,
          34.88264465332031,
          34.27497482299805,
          38.81767272949219,
          42.588321685791016,
          35.66857147216797,
          34.99988555908203,
          38.706626892089844,
          34.41516876220703,
          41.89957809448242,
          42.43513107299805,
          41.92578887939453,
          35.24732208251953,
          42.242488861083984
         ],
         "xaxis": "x",
         "y": [
          32.273338317871094,
          29.49940299987793,
          30.972091674804688,
          30.434797286987305,
          30.730310440063477,
          28.24728012084961,
          33.320823669433594,
          29.039793014526367,
          30.75931167602539,
          29.388559341430664,
          30.78795623779297,
          27.5242862701416,
          30.761642456054688,
          30.445608139038086,
          27.764904022216797
         ],
         "yaxis": "y"
        },
        {
         "hovertemplate": "clust_tsne=7<br>x1_tsne=%{x}<br>x2_tsne=%{y}<extra></extra>",
         "legendgroup": "7",
         "marker": {
          "color": "#325A9B",
          "symbol": "circle"
         },
         "mode": "markers",
         "name": "7",
         "orientation": "v",
         "showlegend": true,
         "type": "scatter",
         "x": [
          -21.557783126831055,
          -14.768391609191895,
          -24.34139060974121,
          -24.648738861083984,
          -14.17437744140625,
          -23.38063621520996,
          -15.072364807128906,
          -21.44788932800293,
          -22.68285369873047,
          -14.480244636535645,
          -22.25710105895996,
          -23.59600067138672
         ],
         "xaxis": "x",
         "y": [
          -35.23467254638672,
          -29.377788543701172,
          -38.230064392089844,
          -37.883853912353516,
          -29.685197830200195,
          -36.276344299316406,
          -29.971988677978516,
          -35.945472717285156,
          -36.270084381103516,
          -30.279064178466797,
          -35.35655212402344,
          -37.076515197753906
         ],
         "yaxis": "y"
        },
        {
         "hovertemplate": "clust_tsne=4<br>x1_tsne=%{x}<br>x2_tsne=%{y}<extra></extra>",
         "legendgroup": "4",
         "marker": {
          "color": "#FEAF16",
          "symbol": "circle"
         },
         "mode": "markers",
         "name": "4",
         "orientation": "v",
         "showlegend": true,
         "type": "scatter",
         "x": [
          -42.982975006103516,
          -43.89098358154297,
          -45.34511947631836,
          -40.531227111816406,
          -41.17645263671875,
          -45.3795166015625,
          -44.19853591918945,
          -44.979759216308594,
          -45.048458099365234,
          -44.5467643737793,
          -40.81855010986328,
          -45.19319152832031,
          -43.58089828491211
         ],
         "xaxis": "x",
         "y": [
          -15.938305854797363,
          -15.590290069580078,
          -13.567440032958984,
          -17.212739944458008,
          -17.24155044555664,
          -19.890708923339844,
          -14.928682327270508,
          -18.67843246459961,
          -12.85400390625,
          -13.338207244873047,
          -16.62942886352539,
          -19.3529052734375,
          -14.849620819091797
         ],
         "yaxis": "y"
        },
        {
         "hovertemplate": "clust_tsne=6<br>x1_tsne=%{x}<br>x2_tsne=%{y}<extra></extra>",
         "legendgroup": "6",
         "marker": {
          "color": "#F8A19F",
          "symbol": "circle"
         },
         "mode": "markers",
         "name": "6",
         "orientation": "v",
         "showlegend": true,
         "type": "scatter",
         "x": [
          -30.176088333129883,
          -28.565645217895508,
          -37.55303192138672,
          -38.067745208740234,
          -34.83496856689453,
          -34.85377502441406,
          -38.2098388671875,
          -27.523174285888672,
          -34.0355339050293,
          -34.21385192871094,
          -37.3935546875,
          -29.747314453125,
          -30.065326690673828
         ],
         "xaxis": "x",
         "y": [
          14.970078468322754,
          16.037059783935547,
          15.737985610961914,
          16.667089462280273,
          15.533649444580078,
          16.241621017456055,
          15.909730911254883,
          16.370941162109375,
          15.564586639404297,
          16.292606353759766,
          16.470407485961914,
          15.714239120483398,
          15.790800094604492
         ],
         "yaxis": "y"
        },
        {
         "hovertemplate": "clust_tsne=3<br>x1_tsne=%{x}<br>x2_tsne=%{y}<extra></extra>",
         "legendgroup": "3",
         "marker": {
          "color": "#90AD1C",
          "symbol": "circle"
         },
         "mode": "markers",
         "name": "3",
         "orientation": "v",
         "showlegend": true,
         "type": "scatter",
         "x": [
          -0.46212732791900635,
          3.0337092876434326,
          13.788187980651855,
          2.5382227897644043,
          13.907369613647461,
          16.84459114074707,
          1.862034559249878,
          0.924155056476593,
          0.6311473250389099,
          2.1705832481384277,
          1.9817554950714111,
          0.04130832478404045,
          15.136777877807617,
          16.057254791259766,
          3.542172908782959,
          15.249707221984863,
          17.195714950561523,
          3.4092867374420166,
          15.700787544250488,
          16.891582489013672
         ],
         "xaxis": "x",
         "y": [
          -52.546226501464844,
          -52.874752044677734,
          -47.497955322265625,
          -54.298622131347656,
          -49.56660079956055,
          -48.25481414794922,
          -51.95248031616211,
          -53.6642951965332,
          -53.24477005004883,
          -52.17838668823242,
          -54.46836471557617,
          -55.13908004760742,
          -49.84217834472656,
          -49.048702239990234,
          -56.45831298828125,
          -47.41117477416992,
          -49.694183349609375,
          -56.18830108642578,
          -49.63506317138672,
          -50.218570709228516
         ],
         "yaxis": "y"
        },
        {
         "hovertemplate": "clust_tsne=8<br>x1_tsne=%{x}<br>x2_tsne=%{y}<extra></extra>",
         "legendgroup": "8",
         "marker": {
          "color": "#F6222E",
          "symbol": "circle"
         },
         "mode": "markers",
         "name": "8",
         "orientation": "v",
         "showlegend": true,
         "type": "scatter",
         "x": [
          -15.692673683166504,
          -2.7588419914245605,
          -18.429122924804688,
          -9.391240119934082,
          -10.550823211669922,
          -2.004357099533081,
          -12.60284423828125,
          -1.280993103981018,
          -15.679732322692871,
          4.010383605957031,
          -11.366439819335938,
          -15.758755683898926,
          -10.200319290161133,
          -9.480886459350586,
          -12.189252853393555,
          -1.6519238948822021,
          3.565882921218872,
          -5.774290561676025,
          -17.05349349975586,
          -16.082622528076172,
          -12.539443969726562,
          -2.5777432918548584,
          -12.073278427124023,
          -16.33067512512207,
          -17.272241592407227,
          -13.731289863586426,
          -4.762364864349365,
          -11.09049129486084,
          -5.655394554138184,
          3.7775676250457764,
          -14.53555965423584
         ],
         "xaxis": "x",
         "y": [
          35.681549072265625,
          45.064571380615234,
          40.92417526245117,
          41.55999755859375,
          40.45188522338867,
          45.87776184082031,
          43.64911651611328,
          45.3625602722168,
          43.83854293823242,
          39.88941192626953,
          38.56742477416992,
          35.69671630859375,
          40.693946838378906,
          40.45320129394531,
          40.520137786865234,
          46.862770080566406,
          39.91206359863281,
          41.851219177246094,
          40.63958740234375,
          39.97144317626953,
          44.236942291259766,
          46.29780578613281,
          43.388736724853516,
          44.11888885498047,
          40.96394729614258,
          43.390281677246094,
          42.86634063720703,
          38.31818389892578,
          42.00244140625,
          39.502197265625,
          39.1134033203125
         ],
         "yaxis": "y"
        },
        {
         "hovertemplate": "clust_tsne=1<br>x1_tsne=%{x}<br>x2_tsne=%{y}<extra></extra>",
         "legendgroup": "1",
         "marker": {
          "color": "#1CFFCE",
          "symbol": "circle"
         },
         "mode": "markers",
         "name": "1",
         "orientation": "v",
         "showlegend": true,
         "type": "scatter",
         "x": [
          -9.899653434753418,
          -17.461647033691406,
          -20.237764358520508,
          -7.036436557769775,
          -16.891443252563477,
          -20.037567138671875,
          -7.471632957458496,
          -17.842369079589844,
          -9.313322067260742,
          -8.583550453186035,
          -19.595823287963867,
          -17.27936363220215,
          -6.110902309417725,
          -20.528675079345703,
          -5.756698131561279,
          -19.789094924926758,
          -6.3887248039245605
         ],
         "xaxis": "x",
         "y": [
          -5.232009410858154,
          -7.945047855377197,
          -15.486600875854492,
          -6.00582218170166,
          -7.560449600219727,
          -13.746102333068848,
          -5.465569496154785,
          -7.377681732177734,
          -5.897730350494385,
          -5.517700672149658,
          -15.3678560256958,
          -6.994754314422607,
          -5.506038665771484,
          -14.792052268981934,
          -6.165825366973877,
          -14.639511108398438,
          -6.554407596588135
         ],
         "yaxis": "y"
        },
        {
         "hovertemplate": "clust_tsne=9<br>x1_tsne=%{x}<br>x2_tsne=%{y}<extra></extra>",
         "legendgroup": "9",
         "marker": {
          "color": "#2ED9FF",
          "symbol": "circle"
         },
         "mode": "markers",
         "name": "9",
         "orientation": "v",
         "showlegend": true,
         "type": "scatter",
         "x": [
          -63.39363479614258,
          -63.9754753112793,
          -64.63610076904297,
          -61.71746063232422,
          -63.322906494140625,
          -61.555686950683594,
          -64.16687774658203
         ],
         "xaxis": "x",
         "y": [
          -0.7440983653068542,
          0.4647691249847412,
          0.05069436505436897,
          0.5002849698066711,
          0.054367925971746445,
          0.06640500575304031,
          -0.5687207579612732
         ],
         "yaxis": "y"
        }
       ],
       "layout": {
        "legend": {
         "title": {
          "text": "clust_tsne"
         },
         "tracegroupgap": 0
        },
        "margin": {
         "t": 60
        },
        "template": {
         "data": {
          "bar": [
           {
            "error_x": {
             "color": "#2a3f5f"
            },
            "error_y": {
             "color": "#2a3f5f"
            },
            "marker": {
             "line": {
              "color": "#E5ECF6",
              "width": 0.5
             },
             "pattern": {
              "fillmode": "overlay",
              "size": 10,
              "solidity": 0.2
             }
            },
            "type": "bar"
           }
          ],
          "barpolar": [
           {
            "marker": {
             "line": {
              "color": "#E5ECF6",
              "width": 0.5
             },
             "pattern": {
              "fillmode": "overlay",
              "size": 10,
              "solidity": 0.2
             }
            },
            "type": "barpolar"
           }
          ],
          "carpet": [
           {
            "aaxis": {
             "endlinecolor": "#2a3f5f",
             "gridcolor": "white",
             "linecolor": "white",
             "minorgridcolor": "white",
             "startlinecolor": "#2a3f5f"
            },
            "baxis": {
             "endlinecolor": "#2a3f5f",
             "gridcolor": "white",
             "linecolor": "white",
             "minorgridcolor": "white",
             "startlinecolor": "#2a3f5f"
            },
            "type": "carpet"
           }
          ],
          "choropleth": [
           {
            "colorbar": {
             "outlinewidth": 0,
             "ticks": ""
            },
            "type": "choropleth"
           }
          ],
          "contour": [
           {
            "colorbar": {
             "outlinewidth": 0,
             "ticks": ""
            },
            "colorscale": [
             [
              0,
              "#0d0887"
             ],
             [
              0.1111111111111111,
              "#46039f"
             ],
             [
              0.2222222222222222,
              "#7201a8"
             ],
             [
              0.3333333333333333,
              "#9c179e"
             ],
             [
              0.4444444444444444,
              "#bd3786"
             ],
             [
              0.5555555555555556,
              "#d8576b"
             ],
             [
              0.6666666666666666,
              "#ed7953"
             ],
             [
              0.7777777777777778,
              "#fb9f3a"
             ],
             [
              0.8888888888888888,
              "#fdca26"
             ],
             [
              1,
              "#f0f921"
             ]
            ],
            "type": "contour"
           }
          ],
          "contourcarpet": [
           {
            "colorbar": {
             "outlinewidth": 0,
             "ticks": ""
            },
            "type": "contourcarpet"
           }
          ],
          "heatmap": [
           {
            "colorbar": {
             "outlinewidth": 0,
             "ticks": ""
            },
            "colorscale": [
             [
              0,
              "#0d0887"
             ],
             [
              0.1111111111111111,
              "#46039f"
             ],
             [
              0.2222222222222222,
              "#7201a8"
             ],
             [
              0.3333333333333333,
              "#9c179e"
             ],
             [
              0.4444444444444444,
              "#bd3786"
             ],
             [
              0.5555555555555556,
              "#d8576b"
             ],
             [
              0.6666666666666666,
              "#ed7953"
             ],
             [
              0.7777777777777778,
              "#fb9f3a"
             ],
             [
              0.8888888888888888,
              "#fdca26"
             ],
             [
              1,
              "#f0f921"
             ]
            ],
            "type": "heatmap"
           }
          ],
          "heatmapgl": [
           {
            "colorbar": {
             "outlinewidth": 0,
             "ticks": ""
            },
            "colorscale": [
             [
              0,
              "#0d0887"
             ],
             [
              0.1111111111111111,
              "#46039f"
             ],
             [
              0.2222222222222222,
              "#7201a8"
             ],
             [
              0.3333333333333333,
              "#9c179e"
             ],
             [
              0.4444444444444444,
              "#bd3786"
             ],
             [
              0.5555555555555556,
              "#d8576b"
             ],
             [
              0.6666666666666666,
              "#ed7953"
             ],
             [
              0.7777777777777778,
              "#fb9f3a"
             ],
             [
              0.8888888888888888,
              "#fdca26"
             ],
             [
              1,
              "#f0f921"
             ]
            ],
            "type": "heatmapgl"
           }
          ],
          "histogram": [
           {
            "marker": {
             "pattern": {
              "fillmode": "overlay",
              "size": 10,
              "solidity": 0.2
             }
            },
            "type": "histogram"
           }
          ],
          "histogram2d": [
           {
            "colorbar": {
             "outlinewidth": 0,
             "ticks": ""
            },
            "colorscale": [
             [
              0,
              "#0d0887"
             ],
             [
              0.1111111111111111,
              "#46039f"
             ],
             [
              0.2222222222222222,
              "#7201a8"
             ],
             [
              0.3333333333333333,
              "#9c179e"
             ],
             [
              0.4444444444444444,
              "#bd3786"
             ],
             [
              0.5555555555555556,
              "#d8576b"
             ],
             [
              0.6666666666666666,
              "#ed7953"
             ],
             [
              0.7777777777777778,
              "#fb9f3a"
             ],
             [
              0.8888888888888888,
              "#fdca26"
             ],
             [
              1,
              "#f0f921"
             ]
            ],
            "type": "histogram2d"
           }
          ],
          "histogram2dcontour": [
           {
            "colorbar": {
             "outlinewidth": 0,
             "ticks": ""
            },
            "colorscale": [
             [
              0,
              "#0d0887"
             ],
             [
              0.1111111111111111,
              "#46039f"
             ],
             [
              0.2222222222222222,
              "#7201a8"
             ],
             [
              0.3333333333333333,
              "#9c179e"
             ],
             [
              0.4444444444444444,
              "#bd3786"
             ],
             [
              0.5555555555555556,
              "#d8576b"
             ],
             [
              0.6666666666666666,
              "#ed7953"
             ],
             [
              0.7777777777777778,
              "#fb9f3a"
             ],
             [
              0.8888888888888888,
              "#fdca26"
             ],
             [
              1,
              "#f0f921"
             ]
            ],
            "type": "histogram2dcontour"
           }
          ],
          "mesh3d": [
           {
            "colorbar": {
             "outlinewidth": 0,
             "ticks": ""
            },
            "type": "mesh3d"
           }
          ],
          "parcoords": [
           {
            "line": {
             "colorbar": {
              "outlinewidth": 0,
              "ticks": ""
             }
            },
            "type": "parcoords"
           }
          ],
          "pie": [
           {
            "automargin": true,
            "type": "pie"
           }
          ],
          "scatter": [
           {
            "fillpattern": {
             "fillmode": "overlay",
             "size": 10,
             "solidity": 0.2
            },
            "type": "scatter"
           }
          ],
          "scatter3d": [
           {
            "line": {
             "colorbar": {
              "outlinewidth": 0,
              "ticks": ""
             }
            },
            "marker": {
             "colorbar": {
              "outlinewidth": 0,
              "ticks": ""
             }
            },
            "type": "scatter3d"
           }
          ],
          "scattercarpet": [
           {
            "marker": {
             "colorbar": {
              "outlinewidth": 0,
              "ticks": ""
             }
            },
            "type": "scattercarpet"
           }
          ],
          "scattergeo": [
           {
            "marker": {
             "colorbar": {
              "outlinewidth": 0,
              "ticks": ""
             }
            },
            "type": "scattergeo"
           }
          ],
          "scattergl": [
           {
            "marker": {
             "colorbar": {
              "outlinewidth": 0,
              "ticks": ""
             }
            },
            "type": "scattergl"
           }
          ],
          "scattermapbox": [
           {
            "marker": {
             "colorbar": {
              "outlinewidth": 0,
              "ticks": ""
             }
            },
            "type": "scattermapbox"
           }
          ],
          "scatterpolar": [
           {
            "marker": {
             "colorbar": {
              "outlinewidth": 0,
              "ticks": ""
             }
            },
            "type": "scatterpolar"
           }
          ],
          "scatterpolargl": [
           {
            "marker": {
             "colorbar": {
              "outlinewidth": 0,
              "ticks": ""
             }
            },
            "type": "scatterpolargl"
           }
          ],
          "scatterternary": [
           {
            "marker": {
             "colorbar": {
              "outlinewidth": 0,
              "ticks": ""
             }
            },
            "type": "scatterternary"
           }
          ],
          "surface": [
           {
            "colorbar": {
             "outlinewidth": 0,
             "ticks": ""
            },
            "colorscale": [
             [
              0,
              "#0d0887"
             ],
             [
              0.1111111111111111,
              "#46039f"
             ],
             [
              0.2222222222222222,
              "#7201a8"
             ],
             [
              0.3333333333333333,
              "#9c179e"
             ],
             [
              0.4444444444444444,
              "#bd3786"
             ],
             [
              0.5555555555555556,
              "#d8576b"
             ],
             [
              0.6666666666666666,
              "#ed7953"
             ],
             [
              0.7777777777777778,
              "#fb9f3a"
             ],
             [
              0.8888888888888888,
              "#fdca26"
             ],
             [
              1,
              "#f0f921"
             ]
            ],
            "type": "surface"
           }
          ],
          "table": [
           {
            "cells": {
             "fill": {
              "color": "#EBF0F8"
             },
             "line": {
              "color": "white"
             }
            },
            "header": {
             "fill": {
              "color": "#C8D4E3"
             },
             "line": {
              "color": "white"
             }
            },
            "type": "table"
           }
          ]
         },
         "layout": {
          "annotationdefaults": {
           "arrowcolor": "#2a3f5f",
           "arrowhead": 0,
           "arrowwidth": 1
          },
          "autotypenumbers": "strict",
          "coloraxis": {
           "colorbar": {
            "outlinewidth": 0,
            "ticks": ""
           }
          },
          "colorscale": {
           "diverging": [
            [
             0,
             "#8e0152"
            ],
            [
             0.1,
             "#c51b7d"
            ],
            [
             0.2,
             "#de77ae"
            ],
            [
             0.3,
             "#f1b6da"
            ],
            [
             0.4,
             "#fde0ef"
            ],
            [
             0.5,
             "#f7f7f7"
            ],
            [
             0.6,
             "#e6f5d0"
            ],
            [
             0.7,
             "#b8e186"
            ],
            [
             0.8,
             "#7fbc41"
            ],
            [
             0.9,
             "#4d9221"
            ],
            [
             1,
             "#276419"
            ]
           ],
           "sequential": [
            [
             0,
             "#0d0887"
            ],
            [
             0.1111111111111111,
             "#46039f"
            ],
            [
             0.2222222222222222,
             "#7201a8"
            ],
            [
             0.3333333333333333,
             "#9c179e"
            ],
            [
             0.4444444444444444,
             "#bd3786"
            ],
            [
             0.5555555555555556,
             "#d8576b"
            ],
            [
             0.6666666666666666,
             "#ed7953"
            ],
            [
             0.7777777777777778,
             "#fb9f3a"
            ],
            [
             0.8888888888888888,
             "#fdca26"
            ],
            [
             1,
             "#f0f921"
            ]
           ],
           "sequentialminus": [
            [
             0,
             "#0d0887"
            ],
            [
             0.1111111111111111,
             "#46039f"
            ],
            [
             0.2222222222222222,
             "#7201a8"
            ],
            [
             0.3333333333333333,
             "#9c179e"
            ],
            [
             0.4444444444444444,
             "#bd3786"
            ],
            [
             0.5555555555555556,
             "#d8576b"
            ],
            [
             0.6666666666666666,
             "#ed7953"
            ],
            [
             0.7777777777777778,
             "#fb9f3a"
            ],
            [
             0.8888888888888888,
             "#fdca26"
            ],
            [
             1,
             "#f0f921"
            ]
           ]
          },
          "colorway": [
           "#636efa",
           "#EF553B",
           "#00cc96",
           "#ab63fa",
           "#FFA15A",
           "#19d3f3",
           "#FF6692",
           "#B6E880",
           "#FF97FF",
           "#FECB52"
          ],
          "font": {
           "color": "#2a3f5f"
          },
          "geo": {
           "bgcolor": "white",
           "lakecolor": "white",
           "landcolor": "#E5ECF6",
           "showlakes": true,
           "showland": true,
           "subunitcolor": "white"
          },
          "hoverlabel": {
           "align": "left"
          },
          "hovermode": "closest",
          "mapbox": {
           "style": "light"
          },
          "paper_bgcolor": "white",
          "plot_bgcolor": "#E5ECF6",
          "polar": {
           "angularaxis": {
            "gridcolor": "white",
            "linecolor": "white",
            "ticks": ""
           },
           "bgcolor": "#E5ECF6",
           "radialaxis": {
            "gridcolor": "white",
            "linecolor": "white",
            "ticks": ""
           }
          },
          "scene": {
           "xaxis": {
            "backgroundcolor": "#E5ECF6",
            "gridcolor": "white",
            "gridwidth": 2,
            "linecolor": "white",
            "showbackground": true,
            "ticks": "",
            "zerolinecolor": "white"
           },
           "yaxis": {
            "backgroundcolor": "#E5ECF6",
            "gridcolor": "white",
            "gridwidth": 2,
            "linecolor": "white",
            "showbackground": true,
            "ticks": "",
            "zerolinecolor": "white"
           },
           "zaxis": {
            "backgroundcolor": "#E5ECF6",
            "gridcolor": "white",
            "gridwidth": 2,
            "linecolor": "white",
            "showbackground": true,
            "ticks": "",
            "zerolinecolor": "white"
           }
          },
          "shapedefaults": {
           "line": {
            "color": "#2a3f5f"
           }
          },
          "ternary": {
           "aaxis": {
            "gridcolor": "white",
            "linecolor": "white",
            "ticks": ""
           },
           "baxis": {
            "gridcolor": "white",
            "linecolor": "white",
            "ticks": ""
           },
           "bgcolor": "#E5ECF6",
           "caxis": {
            "gridcolor": "white",
            "linecolor": "white",
            "ticks": ""
           }
          },
          "title": {
           "x": 0.05
          },
          "xaxis": {
           "automargin": true,
           "gridcolor": "white",
           "linecolor": "white",
           "ticks": "",
           "title": {
            "standoff": 15
           },
           "zerolinecolor": "white",
           "zerolinewidth": 2
          },
          "yaxis": {
           "automargin": true,
           "gridcolor": "white",
           "linecolor": "white",
           "ticks": "",
           "title": {
            "standoff": 15
           },
           "zerolinecolor": "white",
           "zerolinewidth": 2
          }
         }
        },
        "xaxis": {
         "anchor": "y",
         "domain": [
          0,
          1
         ],
         "title": {
          "text": "x1_tsne"
         }
        },
        "yaxis": {
         "anchor": "x",
         "domain": [
          0,
          1
         ],
         "scaleanchor": "x",
         "scaleratio": 1,
         "title": {
          "text": "x2_tsne"
         }
        }
       }
      }
     },
     "metadata": {},
     "output_type": "display_data"
    },
    {
     "data": {
      "application/vnd.plotly.v1+json": {
       "config": {
        "plotlyServerURL": "https://plot.ly"
       },
       "data": [
        {
         "hovertemplate": "label=AP<br>x1_tsne=%{x}<br>x2_tsne=%{y}<extra></extra>",
         "legendgroup": "AP",
         "marker": {
          "color": "#C4451C",
          "symbol": "circle"
         },
         "mode": "markers",
         "name": "AP",
         "orientation": "v",
         "showlegend": true,
         "type": "scatter",
         "x": [
          -13.577935218811035,
          37.64039993286133,
          35.54990005493164,
          35.59490203857422
         ],
         "xaxis": "x",
         "y": [
          18.563528060913086,
          -11.254087448120117,
          32.273338317871094,
          29.49940299987793
         ],
         "yaxis": "y"
        },
        {
         "hovertemplate": "label=CC1<br>x1_tsne=%{x}<br>x2_tsne=%{y}<extra></extra>",
         "legendgroup": "CC1",
         "marker": {
          "color": "#DEA0FD",
          "symbol": "circle"
         },
         "mode": "markers",
         "name": "CC1",
         "orientation": "v",
         "showlegend": true,
         "type": "scatter",
         "x": [
          34.88264465332031,
          -21.557783126831055,
          -42.982975006103516,
          -30.176088333129883,
          8.75581169128418,
          -0.46212732791900635,
          -15.692673683166504,
          -9.570722579956055,
          34.27497482299805,
          3.9593544006347656,
          -9.899653434753418,
          38.81767272949219,
          3.0337092876434326,
          27.578535079956055,
          29.6793270111084,
          -43.89098358154297,
          11.138652801513672,
          24.495376586914062,
          28.662372589111328,
          -45.34511947631836,
          21.651453018188477,
          24.86290740966797,
          -14.768391609191895,
          -17.461647033691406,
          -28.565645217895508,
          -37.55303192138672,
          -6.0539703369140625,
          26.25913429260254,
          13.788187980651855,
          28.611061096191406,
          34.75740051269531,
          2.5382227897644043,
          46.3270378112793,
          42.80752944946289,
          -2.7588419914245605,
          13.907369613647461,
          -18.429122924804688,
          16.84459114074707,
          -24.34139060974121,
          42.588321685791016,
          -38.067745208740234,
          45.89529037475586,
          -9.391240119934082,
          28.7596378326416,
          -10.550823211669922,
          35.66857147216797,
          28.94235610961914,
          31.218795776367188,
          -5.9308600425720215,
          32.79302978515625,
          1.862034559249878,
          -2.004357099533081,
          -63.39363479614258,
          10.015557289123535,
          -40.531227111816406,
          -12.60284423828125,
          -63.9754753112793,
          34.99988555908203,
          -20.237764358520508,
          36.11131286621094,
          -24.648738861083984,
          -5.704402446746826,
          10.127635955810547,
          38.183353424072266,
          30.866291046142578,
          -34.83496856689453,
          25.565385818481445,
          23.956466674804688,
          -14.769988059997559,
          -7.036436557769775,
          -16.891443252563477,
          26.22071075439453,
          -20.037567138671875,
          23.656166076660156,
          45.2596435546875,
          22.228092193603516,
          43.76995086669922,
          48.065643310546875,
          -64.63610076904297,
          -1.280993103981018,
          -15.679732322692871,
          -1.0967063903808594,
          38.706626892089844,
          27.62346839904785,
          24.599010467529297,
          34.41516876220703,
          43.07533264160156,
          -14.17437744140625,
          -23.38063621520996,
          -7.895833492279053,
          9.105993270874023,
          4.010383605957031,
          -61.71746063232422,
          0.924155056476593,
          41.89957809448242,
          -63.322906494140625,
          -15.072364807128906,
          -34.85377502441406,
          -11.366439819335938,
          -41.17645263671875,
          0.6311473250389099,
          -7.471632957458496,
          -15.758755683898926,
          -21.44788932800293,
          -4.2899651527404785,
          2.1705832481384277,
          42.79460144042969,
          -6.207345485687256,
          26.247055053710938,
          -10.200319290161133,
          48.68328857421875,
          42.43513107299805,
          -17.842369079589844,
          41.92578887939453,
          -38.2098388671875,
          -9.480886459350586,
          -27.523174285888672,
          -34.0355339050293,
          -14.539701461791992,
          -45.3795166015625,
          -12.189252853393555
         ],
         "xaxis": "x",
         "y": [
          30.972091674804688,
          -35.23467254638672,
          -15.938305854797363,
          14.970078468322754,
          17.793066024780273,
          -52.546226501464844,
          35.681549072265625,
          23.189464569091797,
          30.434797286987305,
          19.28791618347168,
          -5.232009410858154,
          30.730310440063477,
          -52.874752044677734,
          -13.209853172302246,
          -8.819014549255371,
          -15.590290069580078,
          13.278311729431152,
          -22.162254333496094,
          -4.118212699890137,
          -13.567440032958984,
          -7.7616167068481445,
          -21.8739013671875,
          -29.377788543701172,
          -7.945047855377197,
          16.037059783935547,
          15.737985610961914,
          22.392805099487305,
          -9.700044631958008,
          -47.497955322265625,
          -4.161194801330566,
          -9.642971992492676,
          -54.298622131347656,
          -5.982365608215332,
          -10.427135467529297,
          45.064571380615234,
          -49.56660079956055,
          40.92417526245117,
          -48.25481414794922,
          -38.230064392089844,
          28.24728012084961,
          16.667089462280273,
          -6.282133102416992,
          41.55999755859375,
          -16.61699676513672,
          40.45188522338867,
          33.320823669433594,
          -16.501846313476562,
          -4.505599021911621,
          23.513286590576172,
          -3.9130373001098633,
          -51.95248031616211,
          45.87776184082031,
          -0.7440983653068542,
          17.903526306152344,
          -17.212739944458008,
          43.64911651611328,
          0.4647691249847412,
          29.039793014526367,
          -15.486600875854492,
          -9.512604713439941,
          -37.883853912353516,
          13.448845863342285,
          16.655235290527344,
          -3.5182719230651855,
          -2.8447763919830322,
          15.533649444580078,
          -21.717538833618164,
          -7.30940055847168,
          19.72917366027832,
          -6.00582218170166,
          -7.560449600219727,
          -23.53720474243164,
          -13.746102333068848,
          -7.23985481262207,
          -5.953919410705566,
          -6.134368896484375,
          -6.015519618988037,
          -6.598777770996094,
          0.05069436505436897,
          45.3625602722168,
          43.83854293823242,
          19.244518280029297,
          30.75931167602539,
          -13.384956359863281,
          -21.313251495361328,
          29.388559341430664,
          -7.703249454498291,
          -29.685197830200195,
          -36.276344299316406,
          22.642745971679688,
          18.1702823638916,
          39.88941192626953,
          0.5002849698066711,
          -53.6642951965332,
          30.78795623779297,
          0.054367925971746445,
          -29.971988677978516,
          16.241621017456055,
          38.56742477416992,
          -17.24155044555664,
          -53.24477005004883,
          -5.465569496154785,
          35.69671630859375,
          -35.945472717285156,
          20.0598201751709,
          -52.17838668823242,
          -8.034784317016602,
          21.918434143066406,
          -23.148509979248047,
          40.693946838378906,
          -6.278623104095459,
          27.5242862701416,
          -7.377681732177734,
          30.761642456054688,
          15.909730911254883,
          40.45320129394531,
          16.370941162109375,
          15.564586639404297,
          19.502649307250977,
          -19.890708923339844,
          40.520137786865234
         ],
         "yaxis": "y"
        },
        {
         "hovertemplate": "label=CC2<br>x1_tsne=%{x}<br>x2_tsne=%{y}<extra></extra>",
         "legendgroup": "CC2",
         "marker": {
          "color": "#FE00FA",
          "symbol": "circle"
         },
         "mode": "markers",
         "name": "CC2",
         "orientation": "v",
         "showlegend": true,
         "type": "scatter",
         "x": [
          -1.6519238948822021,
          3.565882921218872
         ],
         "xaxis": "x",
         "y": [
          46.862770080566406,
          39.91206359863281
         ],
         "yaxis": "y"
        },
        {
         "hovertemplate": "label=CC3<br>x1_tsne=%{x}<br>x2_tsne=%{y}<extra></extra>",
         "legendgroup": "CC3",
         "marker": {
          "color": "#325A9B",
          "symbol": "circle"
         },
         "mode": "markers",
         "name": "CC3",
         "orientation": "v",
         "showlegend": true,
         "type": "scatter",
         "x": [
          -34.21385192871094,
          1.9817554950714111,
          32.139617919921875
         ],
         "xaxis": "x",
         "y": [
          16.292606353759766,
          -54.46836471557617,
          -3.849363327026367
         ],
         "yaxis": "y"
        },
        {
         "hovertemplate": "label=HAD<br>x1_tsne=%{x}<br>x2_tsne=%{y}<extra></extra>",
         "legendgroup": "HAD",
         "marker": {
          "color": "#FEAF16",
          "symbol": "circle"
         },
         "mode": "markers",
         "name": "HAD",
         "orientation": "v",
         "showlegend": true,
         "type": "scatter",
         "x": [
          -44.19853591918945,
          -5.774290561676025,
          37.96492004394531,
          -9.313322067260742,
          -17.05349349975586,
          38.36678695678711,
          32.519832611083984,
          -44.979759216308594,
          36.3269157409668,
          10.570282936096191,
          42.764156341552734,
          0.04130832478404045,
          -8.583550453186035,
          -16.082622528076172,
          -61.555686950683594,
          -64.16687774658203,
          -19.595823287963867
         ],
         "xaxis": "x",
         "y": [
          -14.928682327270508,
          41.851219177246094,
          -11.274701118469238,
          -5.897730350494385,
          40.63958740234375,
          -3.0369277000427246,
          -4.61078405380249,
          -18.67843246459961,
          -9.353252410888672,
          16.856277465820312,
          -10.586363792419434,
          -55.13908004760742,
          -5.517700672149658,
          39.97144317626953,
          0.06640500575304031,
          -0.5687207579612732,
          -15.3678560256958
         ],
         "yaxis": "y"
        },
        {
         "hovertemplate": "label=HP<br>x1_tsne=%{x}<br>x2_tsne=%{y}<extra></extra>",
         "legendgroup": "HP",
         "marker": {
          "color": "#F8A19F",
          "symbol": "circle"
         },
         "mode": "markers",
         "name": "HP",
         "orientation": "v",
         "showlegend": true,
         "type": "scatter",
         "x": [
          11.13967227935791,
          15.136777877807617,
          -37.3935546875,
          16.057254791259766,
          3.542172908782959,
          -12.539443969726562,
          15.249707221984863,
          -22.68285369873047,
          17.195714950561523,
          48.04255676269531,
          40.457393646240234,
          -2.5777432918548584,
          -12.073278427124023,
          3.4092867374420166,
          -16.33067512512207,
          -45.048458099365234,
          15.700787544250488,
          -1.1660139560699463,
          -17.27936363220215,
          -17.272241592407227
         ],
         "xaxis": "x",
         "y": [
          13.26913833618164,
          -49.84217834472656,
          16.470407485961914,
          -49.048702239990234,
          -56.45831298828125,
          44.236942291259766,
          -47.41117477416992,
          -36.270084381103516,
          -49.694183349609375,
          -5.974546909332275,
          -8.701658248901367,
          46.29780578613281,
          43.388736724853516,
          -56.18830108642578,
          44.11888885498047,
          -12.85400390625,
          -49.63506317138672,
          19.25931739807129,
          -6.994754314422607,
          40.96394729614258
         ],
         "yaxis": "y"
        },
        {
         "hovertemplate": "label=PHP<br>x1_tsne=%{x}<br>x2_tsne=%{y}<extra></extra>",
         "legendgroup": "PHP",
         "marker": {
          "color": "#90AD1C",
          "symbol": "circle"
         },
         "mode": "markers",
         "name": "PHP",
         "orientation": "v",
         "showlegend": true,
         "type": "scatter",
         "x": [
          -29.747314453125
         ],
         "xaxis": "x",
         "y": [
          15.714239120483398
         ],
         "yaxis": "y"
        },
        {
         "hovertemplate": "label=PPM<br>x1_tsne=%{x}<br>x2_tsne=%{y}<extra></extra>",
         "legendgroup": "PPM",
         "marker": {
          "color": "#F6222E",
          "symbol": "circle"
         },
         "mode": "markers",
         "name": "PPM",
         "orientation": "v",
         "showlegend": true,
         "type": "scatter",
         "x": [
          30.80086898803711,
          -13.731289863586426,
          -44.5467643737793,
          -6.110902309417725,
          16.891582489013672,
          -20.528675079345703,
          -9.188058853149414,
          -2.297584295272827,
          -14.480244636535645,
          8.96694278717041,
          -4.762364864349365,
          -40.81855010986328,
          -11.09049129486084,
          -22.25710105895996,
          4.007887363433838,
          -30.065326690673828,
          35.24732208251953,
          26.225208282470703,
          -5.756698131561279,
          30.045705795288086
         ],
         "xaxis": "x",
         "y": [
          -9.188352584838867,
          43.390281677246094,
          -13.338207244873047,
          -5.506038665771484,
          -50.218570709228516,
          -14.792052268981934,
          23.0535831451416,
          19.53257179260254,
          -30.279064178466797,
          16.685909271240234,
          42.86634063720703,
          -16.62942886352539,
          38.31818389892578,
          -35.35655212402344,
          19.271970748901367,
          15.790800094604492,
          30.445608139038086,
          -9.73654556274414,
          -6.165825366973877,
          -8.987170219421387
         ],
         "yaxis": "y"
        },
        {
         "hovertemplate": "label=PPPL<br>x1_tsne=%{x}<br>x2_tsne=%{y}<extra></extra>",
         "legendgroup": "PPPL",
         "marker": {
          "color": "#1CFFCE",
          "symbol": "circle"
         },
         "mode": "markers",
         "name": "PPPL",
         "orientation": "v",
         "showlegend": true,
         "type": "scatter",
         "x": [
          -19.789094924926758,
          21.9213924407959,
          -23.59600067138672,
          -5.708059787750244,
          30.446155548095703,
          -6.6028571128845215,
          38.6439094543457,
          -5.655394554138184,
          3.7775676250457764,
          -4.300020217895508,
          -14.53555965423584,
          -6.3887248039245605,
          42.242488861083984,
          -45.19319152832031,
          -43.58089828491211
         ],
         "xaxis": "x",
         "y": [
          -14.639511108398438,
          -6.513594150543213,
          -37.076515197753906,
          13.416204452514648,
          -16.71927261352539,
          22.189067840576172,
          -3.427443265914917,
          42.00244140625,
          39.502197265625,
          20.185396194458008,
          39.1134033203125,
          -6.554407596588135,
          27.764904022216797,
          -19.3529052734375,
          -14.849620819091797
         ],
         "yaxis": "y"
        },
        {
         "hovertemplate": "label=RTR1<br>x1_tsne=%{x}<br>x2_tsne=%{y}<extra></extra>",
         "legendgroup": "RTR1",
         "marker": {
          "color": "#2ED9FF",
          "symbol": "circle"
         },
         "mode": "markers",
         "name": "RTR1",
         "orientation": "v",
         "showlegend": true,
         "type": "scatter",
         "x": [
          27.568490982055664
         ],
         "xaxis": "x",
         "y": [
          -18.39691734313965
         ],
         "yaxis": "y"
        }
       ],
       "layout": {
        "legend": {
         "title": {
          "text": "label"
         },
         "tracegroupgap": 0
        },
        "margin": {
         "t": 60
        },
        "template": {
         "data": {
          "bar": [
           {
            "error_x": {
             "color": "#2a3f5f"
            },
            "error_y": {
             "color": "#2a3f5f"
            },
            "marker": {
             "line": {
              "color": "#E5ECF6",
              "width": 0.5
             },
             "pattern": {
              "fillmode": "overlay",
              "size": 10,
              "solidity": 0.2
             }
            },
            "type": "bar"
           }
          ],
          "barpolar": [
           {
            "marker": {
             "line": {
              "color": "#E5ECF6",
              "width": 0.5
             },
             "pattern": {
              "fillmode": "overlay",
              "size": 10,
              "solidity": 0.2
             }
            },
            "type": "barpolar"
           }
          ],
          "carpet": [
           {
            "aaxis": {
             "endlinecolor": "#2a3f5f",
             "gridcolor": "white",
             "linecolor": "white",
             "minorgridcolor": "white",
             "startlinecolor": "#2a3f5f"
            },
            "baxis": {
             "endlinecolor": "#2a3f5f",
             "gridcolor": "white",
             "linecolor": "white",
             "minorgridcolor": "white",
             "startlinecolor": "#2a3f5f"
            },
            "type": "carpet"
           }
          ],
          "choropleth": [
           {
            "colorbar": {
             "outlinewidth": 0,
             "ticks": ""
            },
            "type": "choropleth"
           }
          ],
          "contour": [
           {
            "colorbar": {
             "outlinewidth": 0,
             "ticks": ""
            },
            "colorscale": [
             [
              0,
              "#0d0887"
             ],
             [
              0.1111111111111111,
              "#46039f"
             ],
             [
              0.2222222222222222,
              "#7201a8"
             ],
             [
              0.3333333333333333,
              "#9c179e"
             ],
             [
              0.4444444444444444,
              "#bd3786"
             ],
             [
              0.5555555555555556,
              "#d8576b"
             ],
             [
              0.6666666666666666,
              "#ed7953"
             ],
             [
              0.7777777777777778,
              "#fb9f3a"
             ],
             [
              0.8888888888888888,
              "#fdca26"
             ],
             [
              1,
              "#f0f921"
             ]
            ],
            "type": "contour"
           }
          ],
          "contourcarpet": [
           {
            "colorbar": {
             "outlinewidth": 0,
             "ticks": ""
            },
            "type": "contourcarpet"
           }
          ],
          "heatmap": [
           {
            "colorbar": {
             "outlinewidth": 0,
             "ticks": ""
            },
            "colorscale": [
             [
              0,
              "#0d0887"
             ],
             [
              0.1111111111111111,
              "#46039f"
             ],
             [
              0.2222222222222222,
              "#7201a8"
             ],
             [
              0.3333333333333333,
              "#9c179e"
             ],
             [
              0.4444444444444444,
              "#bd3786"
             ],
             [
              0.5555555555555556,
              "#d8576b"
             ],
             [
              0.6666666666666666,
              "#ed7953"
             ],
             [
              0.7777777777777778,
              "#fb9f3a"
             ],
             [
              0.8888888888888888,
              "#fdca26"
             ],
             [
              1,
              "#f0f921"
             ]
            ],
            "type": "heatmap"
           }
          ],
          "heatmapgl": [
           {
            "colorbar": {
             "outlinewidth": 0,
             "ticks": ""
            },
            "colorscale": [
             [
              0,
              "#0d0887"
             ],
             [
              0.1111111111111111,
              "#46039f"
             ],
             [
              0.2222222222222222,
              "#7201a8"
             ],
             [
              0.3333333333333333,
              "#9c179e"
             ],
             [
              0.4444444444444444,
              "#bd3786"
             ],
             [
              0.5555555555555556,
              "#d8576b"
             ],
             [
              0.6666666666666666,
              "#ed7953"
             ],
             [
              0.7777777777777778,
              "#fb9f3a"
             ],
             [
              0.8888888888888888,
              "#fdca26"
             ],
             [
              1,
              "#f0f921"
             ]
            ],
            "type": "heatmapgl"
           }
          ],
          "histogram": [
           {
            "marker": {
             "pattern": {
              "fillmode": "overlay",
              "size": 10,
              "solidity": 0.2
             }
            },
            "type": "histogram"
           }
          ],
          "histogram2d": [
           {
            "colorbar": {
             "outlinewidth": 0,
             "ticks": ""
            },
            "colorscale": [
             [
              0,
              "#0d0887"
             ],
             [
              0.1111111111111111,
              "#46039f"
             ],
             [
              0.2222222222222222,
              "#7201a8"
             ],
             [
              0.3333333333333333,
              "#9c179e"
             ],
             [
              0.4444444444444444,
              "#bd3786"
             ],
             [
              0.5555555555555556,
              "#d8576b"
             ],
             [
              0.6666666666666666,
              "#ed7953"
             ],
             [
              0.7777777777777778,
              "#fb9f3a"
             ],
             [
              0.8888888888888888,
              "#fdca26"
             ],
             [
              1,
              "#f0f921"
             ]
            ],
            "type": "histogram2d"
           }
          ],
          "histogram2dcontour": [
           {
            "colorbar": {
             "outlinewidth": 0,
             "ticks": ""
            },
            "colorscale": [
             [
              0,
              "#0d0887"
             ],
             [
              0.1111111111111111,
              "#46039f"
             ],
             [
              0.2222222222222222,
              "#7201a8"
             ],
             [
              0.3333333333333333,
              "#9c179e"
             ],
             [
              0.4444444444444444,
              "#bd3786"
             ],
             [
              0.5555555555555556,
              "#d8576b"
             ],
             [
              0.6666666666666666,
              "#ed7953"
             ],
             [
              0.7777777777777778,
              "#fb9f3a"
             ],
             [
              0.8888888888888888,
              "#fdca26"
             ],
             [
              1,
              "#f0f921"
             ]
            ],
            "type": "histogram2dcontour"
           }
          ],
          "mesh3d": [
           {
            "colorbar": {
             "outlinewidth": 0,
             "ticks": ""
            },
            "type": "mesh3d"
           }
          ],
          "parcoords": [
           {
            "line": {
             "colorbar": {
              "outlinewidth": 0,
              "ticks": ""
             }
            },
            "type": "parcoords"
           }
          ],
          "pie": [
           {
            "automargin": true,
            "type": "pie"
           }
          ],
          "scatter": [
           {
            "fillpattern": {
             "fillmode": "overlay",
             "size": 10,
             "solidity": 0.2
            },
            "type": "scatter"
           }
          ],
          "scatter3d": [
           {
            "line": {
             "colorbar": {
              "outlinewidth": 0,
              "ticks": ""
             }
            },
            "marker": {
             "colorbar": {
              "outlinewidth": 0,
              "ticks": ""
             }
            },
            "type": "scatter3d"
           }
          ],
          "scattercarpet": [
           {
            "marker": {
             "colorbar": {
              "outlinewidth": 0,
              "ticks": ""
             }
            },
            "type": "scattercarpet"
           }
          ],
          "scattergeo": [
           {
            "marker": {
             "colorbar": {
              "outlinewidth": 0,
              "ticks": ""
             }
            },
            "type": "scattergeo"
           }
          ],
          "scattergl": [
           {
            "marker": {
             "colorbar": {
              "outlinewidth": 0,
              "ticks": ""
             }
            },
            "type": "scattergl"
           }
          ],
          "scattermapbox": [
           {
            "marker": {
             "colorbar": {
              "outlinewidth": 0,
              "ticks": ""
             }
            },
            "type": "scattermapbox"
           }
          ],
          "scatterpolar": [
           {
            "marker": {
             "colorbar": {
              "outlinewidth": 0,
              "ticks": ""
             }
            },
            "type": "scatterpolar"
           }
          ],
          "scatterpolargl": [
           {
            "marker": {
             "colorbar": {
              "outlinewidth": 0,
              "ticks": ""
             }
            },
            "type": "scatterpolargl"
           }
          ],
          "scatterternary": [
           {
            "marker": {
             "colorbar": {
              "outlinewidth": 0,
              "ticks": ""
             }
            },
            "type": "scatterternary"
           }
          ],
          "surface": [
           {
            "colorbar": {
             "outlinewidth": 0,
             "ticks": ""
            },
            "colorscale": [
             [
              0,
              "#0d0887"
             ],
             [
              0.1111111111111111,
              "#46039f"
             ],
             [
              0.2222222222222222,
              "#7201a8"
             ],
             [
              0.3333333333333333,
              "#9c179e"
             ],
             [
              0.4444444444444444,
              "#bd3786"
             ],
             [
              0.5555555555555556,
              "#d8576b"
             ],
             [
              0.6666666666666666,
              "#ed7953"
             ],
             [
              0.7777777777777778,
              "#fb9f3a"
             ],
             [
              0.8888888888888888,
              "#fdca26"
             ],
             [
              1,
              "#f0f921"
             ]
            ],
            "type": "surface"
           }
          ],
          "table": [
           {
            "cells": {
             "fill": {
              "color": "#EBF0F8"
             },
             "line": {
              "color": "white"
             }
            },
            "header": {
             "fill": {
              "color": "#C8D4E3"
             },
             "line": {
              "color": "white"
             }
            },
            "type": "table"
           }
          ]
         },
         "layout": {
          "annotationdefaults": {
           "arrowcolor": "#2a3f5f",
           "arrowhead": 0,
           "arrowwidth": 1
          },
          "autotypenumbers": "strict",
          "coloraxis": {
           "colorbar": {
            "outlinewidth": 0,
            "ticks": ""
           }
          },
          "colorscale": {
           "diverging": [
            [
             0,
             "#8e0152"
            ],
            [
             0.1,
             "#c51b7d"
            ],
            [
             0.2,
             "#de77ae"
            ],
            [
             0.3,
             "#f1b6da"
            ],
            [
             0.4,
             "#fde0ef"
            ],
            [
             0.5,
             "#f7f7f7"
            ],
            [
             0.6,
             "#e6f5d0"
            ],
            [
             0.7,
             "#b8e186"
            ],
            [
             0.8,
             "#7fbc41"
            ],
            [
             0.9,
             "#4d9221"
            ],
            [
             1,
             "#276419"
            ]
           ],
           "sequential": [
            [
             0,
             "#0d0887"
            ],
            [
             0.1111111111111111,
             "#46039f"
            ],
            [
             0.2222222222222222,
             "#7201a8"
            ],
            [
             0.3333333333333333,
             "#9c179e"
            ],
            [
             0.4444444444444444,
             "#bd3786"
            ],
            [
             0.5555555555555556,
             "#d8576b"
            ],
            [
             0.6666666666666666,
             "#ed7953"
            ],
            [
             0.7777777777777778,
             "#fb9f3a"
            ],
            [
             0.8888888888888888,
             "#fdca26"
            ],
            [
             1,
             "#f0f921"
            ]
           ],
           "sequentialminus": [
            [
             0,
             "#0d0887"
            ],
            [
             0.1111111111111111,
             "#46039f"
            ],
            [
             0.2222222222222222,
             "#7201a8"
            ],
            [
             0.3333333333333333,
             "#9c179e"
            ],
            [
             0.4444444444444444,
             "#bd3786"
            ],
            [
             0.5555555555555556,
             "#d8576b"
            ],
            [
             0.6666666666666666,
             "#ed7953"
            ],
            [
             0.7777777777777778,
             "#fb9f3a"
            ],
            [
             0.8888888888888888,
             "#fdca26"
            ],
            [
             1,
             "#f0f921"
            ]
           ]
          },
          "colorway": [
           "#636efa",
           "#EF553B",
           "#00cc96",
           "#ab63fa",
           "#FFA15A",
           "#19d3f3",
           "#FF6692",
           "#B6E880",
           "#FF97FF",
           "#FECB52"
          ],
          "font": {
           "color": "#2a3f5f"
          },
          "geo": {
           "bgcolor": "white",
           "lakecolor": "white",
           "landcolor": "#E5ECF6",
           "showlakes": true,
           "showland": true,
           "subunitcolor": "white"
          },
          "hoverlabel": {
           "align": "left"
          },
          "hovermode": "closest",
          "mapbox": {
           "style": "light"
          },
          "paper_bgcolor": "white",
          "plot_bgcolor": "#E5ECF6",
          "polar": {
           "angularaxis": {
            "gridcolor": "white",
            "linecolor": "white",
            "ticks": ""
           },
           "bgcolor": "#E5ECF6",
           "radialaxis": {
            "gridcolor": "white",
            "linecolor": "white",
            "ticks": ""
           }
          },
          "scene": {
           "xaxis": {
            "backgroundcolor": "#E5ECF6",
            "gridcolor": "white",
            "gridwidth": 2,
            "linecolor": "white",
            "showbackground": true,
            "ticks": "",
            "zerolinecolor": "white"
           },
           "yaxis": {
            "backgroundcolor": "#E5ECF6",
            "gridcolor": "white",
            "gridwidth": 2,
            "linecolor": "white",
            "showbackground": true,
            "ticks": "",
            "zerolinecolor": "white"
           },
           "zaxis": {
            "backgroundcolor": "#E5ECF6",
            "gridcolor": "white",
            "gridwidth": 2,
            "linecolor": "white",
            "showbackground": true,
            "ticks": "",
            "zerolinecolor": "white"
           }
          },
          "shapedefaults": {
           "line": {
            "color": "#2a3f5f"
           }
          },
          "ternary": {
           "aaxis": {
            "gridcolor": "white",
            "linecolor": "white",
            "ticks": ""
           },
           "baxis": {
            "gridcolor": "white",
            "linecolor": "white",
            "ticks": ""
           },
           "bgcolor": "#E5ECF6",
           "caxis": {
            "gridcolor": "white",
            "linecolor": "white",
            "ticks": ""
           }
          },
          "title": {
           "x": 0.05
          },
          "xaxis": {
           "automargin": true,
           "gridcolor": "white",
           "linecolor": "white",
           "ticks": "",
           "title": {
            "standoff": 15
           },
           "zerolinecolor": "white",
           "zerolinewidth": 2
          },
          "yaxis": {
           "automargin": true,
           "gridcolor": "white",
           "linecolor": "white",
           "ticks": "",
           "title": {
            "standoff": 15
           },
           "zerolinecolor": "white",
           "zerolinewidth": 2
          }
         }
        },
        "xaxis": {
         "anchor": "y",
         "domain": [
          0,
          1
         ],
         "title": {
          "text": "x1_tsne"
         }
        },
        "yaxis": {
         "anchor": "x",
         "domain": [
          0,
          1
         ],
         "scaleanchor": "x",
         "scaleratio": 1,
         "title": {
          "text": "x2_tsne"
         }
        }
       }
      }
     },
     "metadata": {},
     "output_type": "display_data"
    }
   ],
   "source": [
    "\n",
    "plt = px.scatter(df_embedding, x = 'x1_tsne', y = 'x2_tsne',\n",
    "                    color = df_embedding[\"clust_tsne\"],\n",
    "                    color_discrete_sequence = px.colors.qualitative.Alphabet,\n",
    "                    color_discrete_map=phosphatase_cols,\n",
    "                    #color_continuous_scale = \"Turbo\",\n",
    "                    ##labels={'color': labels}, \n",
    "                    #hover_name=labels_name,\n",
    "                    #hover_data=df.columns[2:],\n",
    "                    #height = 800,\n",
    "                    #title = title,\n",
    "                )\n",
    "#plt.update_xaxes(range = [-10 50], constrain=\"domain\")\n",
    "#plt.update_yaxes(range = [-0.5, 0.5], constrain=\"domain\")\n",
    "\n",
    "plt.update_yaxes(scaleanchor = \"x\", scaleratio = 1)\n",
    "plt.show()\n",
    "\n",
    "plt = px.scatter(df_embedding, x = 'x1_tsne', y = 'x2_tsne',\n",
    "                    color = df_embedding[true_col],\n",
    "                    color_discrete_sequence = px.colors.qualitative.Alphabet,\n",
    "                    color_discrete_map=phosphatase_cols,\n",
    "                    #color_continuous_scale = \"Turbo\",\n",
    "                    ##labels={'color': labels}, \n",
    "                    #hover_name=labels_name,\n",
    "                    #hover_data=df.columns[2:],\n",
    "                    #height = 800,\n",
    "                    #title = title,\n",
    "                )\n",
    "#plt.update_xaxes(range = [-60, 50], constrain=\"domain\")\n",
    "#plt.update_yaxes(range = [-0.5, 0.5], constrain=\"domain\")\n",
    "\n",
    "plt.update_yaxes(scaleanchor = \"x\", scaleratio = 1)\n",
    "plt.show()"
   ]
  },
  {
   "cell_type": "markdown",
   "id": "02bfd981",
   "metadata": {},
   "source": [
    "## UMAP"
   ]
  },
  {
   "cell_type": "code",
   "execution_count": 57,
   "id": "86c48b06",
   "metadata": {},
   "outputs": [
    {
     "data": {
      "application/vnd.plotly.v1+json": {
       "config": {
        "plotlyServerURL": "https://plot.ly"
       },
       "data": [
        {
         "hovertemplate": "clust_umap=1<br>x1_umap=%{x}<br>x2_umap=%{y}<extra></extra>",
         "legendgroup": "1",
         "marker": {
          "color": "#C4451C",
          "symbol": "circle"
         },
         "mode": "markers",
         "name": "1",
         "orientation": "v",
         "showlegend": true,
         "type": "scatter",
         "x": [
          0.7684699296951294,
          0.8404507637023926,
          2.352212429046631,
          -1.1425360441207886,
          0.946465790271759,
          -0.627122700214386,
          0.8554020524024963,
          -1.5675123929977417,
          1.3096494674682617,
          2.463364601135254,
          0.6075761318206787,
          0.598212480545044,
          -1.2721890211105347,
          0.3374808430671692,
          0.19132201373577118,
          -1.350386381149292,
          2.8259079456329346,
          1.1876728534698486,
          -0.2371072620153427,
          0.7624759078025818,
          -1.1186602115631104,
          2.793131113052368,
          0.43978801369667053,
          0.31884777545928955,
          0.5544209480285645,
          2.4799511432647705,
          2.744816303253174,
          1.0911900997161865,
          0.777711808681488,
          2.7530007362365723,
          1.0336018800735474,
          0.8195858001708984,
          -1.3754959106445312,
          -1.5260192155838013,
          1.3345508575439453,
          -0.23376226425170898,
          2.3919718265533447,
          1.2680495977401733,
          0.9563515186309814,
          -0.11826130002737045,
          -1.2599620819091797,
          0.27821335196495056,
          -0.676163375377655,
          2.3186891078948975,
          0.3142510950565338,
          0.5413918495178223,
          0.3192563056945801,
          0.7704811692237854,
          0.9200119972229004
         ],
         "xaxis": "x",
         "y": [
          2.9484095573425293,
          -3.799001693725586,
          4.84210729598999,
          2.474431037902832,
          2.572017192840576,
          2.6864402294158936,
          -3.8389484882354736,
          2.3788766860961914,
          -3.668200969696045,
          4.952416896820068,
          2.4263761043548584,
          2.4550843238830566,
          2.359394073486328,
          -3.538588047027588,
          2.627312660217285,
          2.382683277130127,
          5.3136420249938965,
          3.01558256149292,
          2.7367560863494873,
          2.395383596420288,
          2.5296618938446045,
          5.281044960021973,
          -3.4610180854797363,
          2.614514112472534,
          2.376174211502075,
          4.965363502502441,
          5.23275899887085,
          2.941876173019409,
          -4.097326278686523,
          5.24080228805542,
          -3.7581686973571777,
          -3.987873077392578,
          2.3226864337921143,
          2.387639284133911,
          -3.7564022541046143,
          2.7193784713745117,
          4.880616188049316,
          -3.6699776649475098,
          2.5573809146881104,
          2.6995582580566406,
          2.4635844230651855,
          -3.5905487537384033,
          2.6656494140625,
          4.803195476531982,
          -3.4402878284454346,
          2.409715175628662,
          2.5872676372528076,
          -4.086792945861816,
          -3.8242387771606445
         ],
         "yaxis": "y"
        },
        {
         "hovertemplate": "clust_umap=0<br>x1_umap=%{x}<br>x2_umap=%{y}<extra></extra>",
         "legendgroup": "0",
         "marker": {
          "color": "#DEA0FD",
          "symbol": "circle"
         },
         "mode": "markers",
         "name": "0",
         "orientation": "v",
         "showlegend": true,
         "type": "scatter",
         "x": [
          14.76640510559082,
          16.798986434936523,
          16.61186408996582,
          16.56679344177246,
          16.4310245513916,
          16.953516006469727,
          13.659929275512695,
          13.890706062316895,
          12.677740097045898,
          14.238180160522461,
          13.09569263458252,
          12.757733345031738,
          13.375044822692871,
          14.227032661437988,
          14.425265312194824,
          16.332338333129883,
          15.629719734191895,
          17.27605438232422,
          16.177217483520508,
          13.509231567382812,
          16.78082847595215,
          13.651588439941406,
          14.215697288513184,
          14.584327697753906,
          16.488319396972656,
          14.58840274810791,
          15.08930778503418,
          14.272981643676758,
          12.731820106506348,
          13.273301124572754,
          12.653482437133789,
          13.130021095275879,
          16.075233459472656,
          13.004837036132812,
          16.025407791137695,
          16.55413246154785,
          16.963125228881836,
          13.57767391204834,
          12.76225471496582,
          16.50505256652832,
          15.840729713439941,
          17.147380828857422,
          15.698854446411133,
          12.695474624633789,
          16.598051071166992,
          17.267948150634766,
          17.070661544799805,
          14.376507759094238,
          14.885635375976562,
          15.117622375488281,
          14.438138961791992,
          14.481837272644043,
          15.582918167114258,
          16.509973526000977,
          15.289595603942871,
          14.075982093811035,
          16.46054458618164,
          13.454415321350098,
          13.640868186950684,
          13.024232864379883,
          13.597265243530273,
          15.169492721557617,
          17.217649459838867,
          13.24182415008545
         ],
         "xaxis": "x",
         "y": [
          2.675262212753296,
          10.19430923461914,
          10.013760566711426,
          9.96064281463623,
          9.824585914611816,
          10.360122680664062,
          2.755101442337036,
          2.4947121143341064,
          4.505109786987305,
          2.0136585235595703,
          2.1338911056518555,
          4.419912815093994,
          2.431464910507202,
          2.038465738296509,
          2.7830991744995117,
          3.0379276275634766,
          2.9867947101593018,
          10.701096534729004,
          2.9409449100494385,
          3.2726738452911377,
          10.174823760986328,
          3.3653900623321533,
          1.9806034564971924,
          1.7198559045791626,
          9.889632225036621,
          2.7163679599761963,
          1.9106600284576416,
          1.8409968614578247,
          4.440719127655029,
          2.306668519973755,
          4.529600620269775,
          2.17535662651062,
          2.88459849357605,
          2.0517897605895996,
          2.8522655963897705,
          3.1563332080841064,
          10.357707023620605,
          2.9116883277893066,
          4.421763896942139,
          9.905359268188477,
          2.780168294906616,
          10.570853233337402,
          2.8243091106414795,
          4.484399795532227,
          3.1850762367248535,
          10.691051483154297,
          10.494584083557129,
          1.88755464553833,
          2.7285690307617188,
          1.8641613721847534,
          1.7742477655410767,
          2.5200958251953125,
          2.9319345951080322,
          3.117363452911377,
          2.8489301204681396,
          2.6017959117889404,
          9.857080459594727,
          2.5938005447387695,
          2.405564785003662,
          2.072953939437866,
          3.338383674621582,
          1.8479927778244019,
          10.643949508666992,
          3.688070774078369
         ],
         "yaxis": "y"
        },
        {
         "hovertemplate": "clust_umap=4<br>x1_umap=%{x}<br>x2_umap=%{y}<extra></extra>",
         "legendgroup": "4",
         "marker": {
          "color": "#FE00FA",
          "symbol": "circle"
         },
         "mode": "markers",
         "name": "4",
         "orientation": "v",
         "showlegend": true,
         "type": "scatter",
         "x": [
          -8.931730270385742,
          -10.582496643066406,
          -10.441754341125488,
          -10.356918334960938,
          -8.626289367675781,
          -10.574894905090332,
          -8.639935493469238,
          -8.676823616027832,
          -10.52191162109375,
          -10.604207038879395,
          -8.971076965332031,
          -10.594141006469727,
          -10.342265129089355,
          -10.507795333862305,
          -10.212456703186035,
          -8.8638916015625,
          -10.194267272949219,
          -8.89856243133545,
          -8.749129295349121
         ],
         "xaxis": "x",
         "y": [
          5.890714168548584,
          -2.238878011703491,
          -2.096231698989868,
          -2.013278007507324,
          6.196300983428955,
          -2.2311599254608154,
          6.182944297790527,
          6.151309490203857,
          -2.1776816844940186,
          -2.2601993083953857,
          5.850844383239746,
          -2.249844551086426,
          -1.9988088607788086,
          -2.1638622283935547,
          -1.86958909034729,
          5.959141731262207,
          -1.8513917922973633,
          5.924291133880615,
          6.07510232925415
         ],
         "yaxis": "y"
        },
        {
         "hovertemplate": "clust_umap=2<br>x1_umap=%{x}<br>x2_umap=%{y}<extra></extra>",
         "legendgroup": "2",
         "marker": {
          "color": "#325A9B",
          "symbol": "circle"
         },
         "mode": "markers",
         "name": "2",
         "orientation": "v",
         "showlegend": true,
         "type": "scatter",
         "x": [
          2.9567508697509766,
          1.5289521217346191,
          3.4922425746917725,
          2.420534372329712,
          2.512993335723877,
          1.5429019927978516,
          2.8420772552490234,
          1.4016326665878296,
          3.207008123397827,
          1.3260300159454346,
          2.6015307903289795,
          3.003244400024414,
          2.4229519367218018,
          2.38948392868042,
          2.6246304512023926,
          1.6078659296035767,
          1.3843562602996826,
          2.3009235858917236,
          3.453681707382202,
          3.2508041858673096,
          2.841660737991333,
          1.5070414543151855,
          2.8104217052459717,
          3.2753851413726807,
          3.4931790828704834,
          3.0864105224609375,
          2.1489627361297607,
          2.4725217819213867,
          2.1934468746185303,
          1.3390148878097534,
          2.946751832962036
         ],
         "xaxis": "x",
         "y": [
          13.544147491455078,
          11.98646068572998,
          14.013668060302734,
          13.676769256591797,
          13.732820510864258,
          11.811663627624512,
          14.20486068725586,
          11.900031089782715,
          14.342292785644531,
          11.224810600280762,
          13.839886665344238,
          13.637913703918457,
          13.618200302124023,
          13.682540893554688,
          13.606871604919434,
          11.774301528930664,
          11.173431396484375,
          13.305381774902344,
          13.970980644226074,
          13.898199081420898,
          14.225985527038574,
          11.812609672546387,
          14.129911422729492,
          14.360358238220215,
          14.035687446594238,
          14.169261932373047,
          13.107701301574707,
          13.944747924804688,
          13.198296546936035,
          11.241613388061523,
          13.857808113098145
         ],
         "yaxis": "y"
        },
        {
         "hovertemplate": "clust_umap=7<br>x1_umap=%{x}<br>x2_umap=%{y}<extra></extra>",
         "legendgroup": "7",
         "marker": {
          "color": "#FEAF16",
          "symbol": "circle"
         },
         "mode": "markers",
         "name": "7",
         "orientation": "v",
         "showlegend": true,
         "type": "scatter",
         "x": [
          14.261653900146484,
          14.119799613952637,
          14.074934959411621,
          14.319330215454102,
          14.200794219970703,
          14.00307559967041,
          13.948661804199219,
          13.961328506469727
         ],
         "xaxis": "x",
         "y": [
          -17.667179107666016,
          -17.824045181274414,
          -17.868236541748047,
          -17.61312484741211,
          -17.735185623168945,
          -17.946744918823242,
          -18.002899169921875,
          -17.990549087524414
         ],
         "yaxis": "y"
        },
        {
         "hovertemplate": "clust_umap=9<br>x1_umap=%{x}<br>x2_umap=%{y}<extra></extra>",
         "legendgroup": "9",
         "marker": {
          "color": "#F8A19F",
          "symbol": "circle"
         },
         "mode": "markers",
         "name": "9",
         "orientation": "v",
         "showlegend": true,
         "type": "scatter",
         "x": [
          3.7196426391601562,
          3.7014687061309814,
          3.6869800090789795,
          3.6923389434814453
         ],
         "xaxis": "x",
         "y": [
          -10.148927688598633,
          -10.130059242248535,
          -10.115476608276367,
          -10.12075424194336
         ],
         "yaxis": "y"
        },
        {
         "hovertemplate": "clust_umap=3<br>x1_umap=%{x}<br>x2_umap=%{y}<extra></extra>",
         "legendgroup": "3",
         "marker": {
          "color": "#90AD1C",
          "symbol": "circle"
         },
         "mode": "markers",
         "name": "3",
         "orientation": "v",
         "showlegend": true,
         "type": "scatter",
         "x": [
          -11.742782592773438,
          -15.03158950805664,
          -14.849628448486328,
          -14.942848205566406,
          -11.804238319396973,
          -11.786418914794922,
          -14.997122764587402,
          -15.010212898254395,
          -15.130784034729004,
          -14.962265014648438,
          -14.979690551757812,
          -11.784384727478027,
          -14.929372787475586
         ],
         "xaxis": "x",
         "y": [
          16.144739151000977,
          11.03182601928711,
          11.205303192138672,
          11.127178192138672,
          16.20629119873047,
          16.18862533569336,
          11.048212051391602,
          11.058570861816406,
          10.936162948608398,
          11.121419906616211,
          11.086609840393066,
          16.186498641967773,
          11.142105102539062
         ],
         "yaxis": "y"
        },
        {
         "hovertemplate": "clust_umap=8<br>x1_umap=%{x}<br>x2_umap=%{y}<extra></extra>",
         "legendgroup": "8",
         "marker": {
          "color": "#F6222E",
          "symbol": "circle"
         },
         "mode": "markers",
         "name": "8",
         "orientation": "v",
         "showlegend": true,
         "type": "scatter",
         "x": [
          8.628739356994629,
          8.679981231689453,
          8.629830360412598,
          8.539929389953613
         ],
         "xaxis": "x",
         "y": [
          -3.0802903175354004,
          -3.1317367553710938,
          -3.081617832183838,
          -2.9916555881500244
         ],
         "yaxis": "y"
        },
        {
         "hovertemplate": "clust_umap=6<br>x1_umap=%{x}<br>x2_umap=%{y}<extra></extra>",
         "legendgroup": "6",
         "marker": {
          "color": "#1CFFCE",
          "symbol": "circle"
         },
         "mode": "markers",
         "name": "6",
         "orientation": "v",
         "showlegend": true,
         "type": "scatter",
         "x": [
          17.714900970458984,
          17.6829833984375,
          17.726463317871094,
          17.795089721679688,
          17.781112670898438,
          17.795408248901367,
          17.693008422851562
         ],
         "xaxis": "x",
         "y": [
          21.68308448791504,
          21.71499252319336,
          21.671463012695312,
          21.60279655456543,
          21.61707878112793,
          21.602535247802734,
          21.705062866210938
         ],
         "yaxis": "y"
        },
        {
         "hovertemplate": "clust_umap=5<br>x1_umap=%{x}<br>x2_umap=%{y}<extra></extra>",
         "legendgroup": "5",
         "marker": {
          "color": "#2ED9FF",
          "symbol": "circle"
         },
         "mode": "markers",
         "name": "5",
         "orientation": "v",
         "showlegend": true,
         "type": "scatter",
         "x": [
          0.6421800255775452,
          0.522162914276123,
          0.6391379237174988,
          0.5951680541038513,
          0.5946228504180908
         ],
         "xaxis": "x",
         "y": [
          24.807201385498047,
          24.687313079833984,
          24.80427360534668,
          24.76039695739746,
          24.75985336303711
         ],
         "yaxis": "y"
        }
       ],
       "layout": {
        "legend": {
         "title": {
          "text": "clust_umap"
         },
         "tracegroupgap": 0
        },
        "margin": {
         "t": 60
        },
        "template": {
         "data": {
          "bar": [
           {
            "error_x": {
             "color": "#2a3f5f"
            },
            "error_y": {
             "color": "#2a3f5f"
            },
            "marker": {
             "line": {
              "color": "#E5ECF6",
              "width": 0.5
             },
             "pattern": {
              "fillmode": "overlay",
              "size": 10,
              "solidity": 0.2
             }
            },
            "type": "bar"
           }
          ],
          "barpolar": [
           {
            "marker": {
             "line": {
              "color": "#E5ECF6",
              "width": 0.5
             },
             "pattern": {
              "fillmode": "overlay",
              "size": 10,
              "solidity": 0.2
             }
            },
            "type": "barpolar"
           }
          ],
          "carpet": [
           {
            "aaxis": {
             "endlinecolor": "#2a3f5f",
             "gridcolor": "white",
             "linecolor": "white",
             "minorgridcolor": "white",
             "startlinecolor": "#2a3f5f"
            },
            "baxis": {
             "endlinecolor": "#2a3f5f",
             "gridcolor": "white",
             "linecolor": "white",
             "minorgridcolor": "white",
             "startlinecolor": "#2a3f5f"
            },
            "type": "carpet"
           }
          ],
          "choropleth": [
           {
            "colorbar": {
             "outlinewidth": 0,
             "ticks": ""
            },
            "type": "choropleth"
           }
          ],
          "contour": [
           {
            "colorbar": {
             "outlinewidth": 0,
             "ticks": ""
            },
            "colorscale": [
             [
              0,
              "#0d0887"
             ],
             [
              0.1111111111111111,
              "#46039f"
             ],
             [
              0.2222222222222222,
              "#7201a8"
             ],
             [
              0.3333333333333333,
              "#9c179e"
             ],
             [
              0.4444444444444444,
              "#bd3786"
             ],
             [
              0.5555555555555556,
              "#d8576b"
             ],
             [
              0.6666666666666666,
              "#ed7953"
             ],
             [
              0.7777777777777778,
              "#fb9f3a"
             ],
             [
              0.8888888888888888,
              "#fdca26"
             ],
             [
              1,
              "#f0f921"
             ]
            ],
            "type": "contour"
           }
          ],
          "contourcarpet": [
           {
            "colorbar": {
             "outlinewidth": 0,
             "ticks": ""
            },
            "type": "contourcarpet"
           }
          ],
          "heatmap": [
           {
            "colorbar": {
             "outlinewidth": 0,
             "ticks": ""
            },
            "colorscale": [
             [
              0,
              "#0d0887"
             ],
             [
              0.1111111111111111,
              "#46039f"
             ],
             [
              0.2222222222222222,
              "#7201a8"
             ],
             [
              0.3333333333333333,
              "#9c179e"
             ],
             [
              0.4444444444444444,
              "#bd3786"
             ],
             [
              0.5555555555555556,
              "#d8576b"
             ],
             [
              0.6666666666666666,
              "#ed7953"
             ],
             [
              0.7777777777777778,
              "#fb9f3a"
             ],
             [
              0.8888888888888888,
              "#fdca26"
             ],
             [
              1,
              "#f0f921"
             ]
            ],
            "type": "heatmap"
           }
          ],
          "heatmapgl": [
           {
            "colorbar": {
             "outlinewidth": 0,
             "ticks": ""
            },
            "colorscale": [
             [
              0,
              "#0d0887"
             ],
             [
              0.1111111111111111,
              "#46039f"
             ],
             [
              0.2222222222222222,
              "#7201a8"
             ],
             [
              0.3333333333333333,
              "#9c179e"
             ],
             [
              0.4444444444444444,
              "#bd3786"
             ],
             [
              0.5555555555555556,
              "#d8576b"
             ],
             [
              0.6666666666666666,
              "#ed7953"
             ],
             [
              0.7777777777777778,
              "#fb9f3a"
             ],
             [
              0.8888888888888888,
              "#fdca26"
             ],
             [
              1,
              "#f0f921"
             ]
            ],
            "type": "heatmapgl"
           }
          ],
          "histogram": [
           {
            "marker": {
             "pattern": {
              "fillmode": "overlay",
              "size": 10,
              "solidity": 0.2
             }
            },
            "type": "histogram"
           }
          ],
          "histogram2d": [
           {
            "colorbar": {
             "outlinewidth": 0,
             "ticks": ""
            },
            "colorscale": [
             [
              0,
              "#0d0887"
             ],
             [
              0.1111111111111111,
              "#46039f"
             ],
             [
              0.2222222222222222,
              "#7201a8"
             ],
             [
              0.3333333333333333,
              "#9c179e"
             ],
             [
              0.4444444444444444,
              "#bd3786"
             ],
             [
              0.5555555555555556,
              "#d8576b"
             ],
             [
              0.6666666666666666,
              "#ed7953"
             ],
             [
              0.7777777777777778,
              "#fb9f3a"
             ],
             [
              0.8888888888888888,
              "#fdca26"
             ],
             [
              1,
              "#f0f921"
             ]
            ],
            "type": "histogram2d"
           }
          ],
          "histogram2dcontour": [
           {
            "colorbar": {
             "outlinewidth": 0,
             "ticks": ""
            },
            "colorscale": [
             [
              0,
              "#0d0887"
             ],
             [
              0.1111111111111111,
              "#46039f"
             ],
             [
              0.2222222222222222,
              "#7201a8"
             ],
             [
              0.3333333333333333,
              "#9c179e"
             ],
             [
              0.4444444444444444,
              "#bd3786"
             ],
             [
              0.5555555555555556,
              "#d8576b"
             ],
             [
              0.6666666666666666,
              "#ed7953"
             ],
             [
              0.7777777777777778,
              "#fb9f3a"
             ],
             [
              0.8888888888888888,
              "#fdca26"
             ],
             [
              1,
              "#f0f921"
             ]
            ],
            "type": "histogram2dcontour"
           }
          ],
          "mesh3d": [
           {
            "colorbar": {
             "outlinewidth": 0,
             "ticks": ""
            },
            "type": "mesh3d"
           }
          ],
          "parcoords": [
           {
            "line": {
             "colorbar": {
              "outlinewidth": 0,
              "ticks": ""
             }
            },
            "type": "parcoords"
           }
          ],
          "pie": [
           {
            "automargin": true,
            "type": "pie"
           }
          ],
          "scatter": [
           {
            "fillpattern": {
             "fillmode": "overlay",
             "size": 10,
             "solidity": 0.2
            },
            "type": "scatter"
           }
          ],
          "scatter3d": [
           {
            "line": {
             "colorbar": {
              "outlinewidth": 0,
              "ticks": ""
             }
            },
            "marker": {
             "colorbar": {
              "outlinewidth": 0,
              "ticks": ""
             }
            },
            "type": "scatter3d"
           }
          ],
          "scattercarpet": [
           {
            "marker": {
             "colorbar": {
              "outlinewidth": 0,
              "ticks": ""
             }
            },
            "type": "scattercarpet"
           }
          ],
          "scattergeo": [
           {
            "marker": {
             "colorbar": {
              "outlinewidth": 0,
              "ticks": ""
             }
            },
            "type": "scattergeo"
           }
          ],
          "scattergl": [
           {
            "marker": {
             "colorbar": {
              "outlinewidth": 0,
              "ticks": ""
             }
            },
            "type": "scattergl"
           }
          ],
          "scattermapbox": [
           {
            "marker": {
             "colorbar": {
              "outlinewidth": 0,
              "ticks": ""
             }
            },
            "type": "scattermapbox"
           }
          ],
          "scatterpolar": [
           {
            "marker": {
             "colorbar": {
              "outlinewidth": 0,
              "ticks": ""
             }
            },
            "type": "scatterpolar"
           }
          ],
          "scatterpolargl": [
           {
            "marker": {
             "colorbar": {
              "outlinewidth": 0,
              "ticks": ""
             }
            },
            "type": "scatterpolargl"
           }
          ],
          "scatterternary": [
           {
            "marker": {
             "colorbar": {
              "outlinewidth": 0,
              "ticks": ""
             }
            },
            "type": "scatterternary"
           }
          ],
          "surface": [
           {
            "colorbar": {
             "outlinewidth": 0,
             "ticks": ""
            },
            "colorscale": [
             [
              0,
              "#0d0887"
             ],
             [
              0.1111111111111111,
              "#46039f"
             ],
             [
              0.2222222222222222,
              "#7201a8"
             ],
             [
              0.3333333333333333,
              "#9c179e"
             ],
             [
              0.4444444444444444,
              "#bd3786"
             ],
             [
              0.5555555555555556,
              "#d8576b"
             ],
             [
              0.6666666666666666,
              "#ed7953"
             ],
             [
              0.7777777777777778,
              "#fb9f3a"
             ],
             [
              0.8888888888888888,
              "#fdca26"
             ],
             [
              1,
              "#f0f921"
             ]
            ],
            "type": "surface"
           }
          ],
          "table": [
           {
            "cells": {
             "fill": {
              "color": "#EBF0F8"
             },
             "line": {
              "color": "white"
             }
            },
            "header": {
             "fill": {
              "color": "#C8D4E3"
             },
             "line": {
              "color": "white"
             }
            },
            "type": "table"
           }
          ]
         },
         "layout": {
          "annotationdefaults": {
           "arrowcolor": "#2a3f5f",
           "arrowhead": 0,
           "arrowwidth": 1
          },
          "autotypenumbers": "strict",
          "coloraxis": {
           "colorbar": {
            "outlinewidth": 0,
            "ticks": ""
           }
          },
          "colorscale": {
           "diverging": [
            [
             0,
             "#8e0152"
            ],
            [
             0.1,
             "#c51b7d"
            ],
            [
             0.2,
             "#de77ae"
            ],
            [
             0.3,
             "#f1b6da"
            ],
            [
             0.4,
             "#fde0ef"
            ],
            [
             0.5,
             "#f7f7f7"
            ],
            [
             0.6,
             "#e6f5d0"
            ],
            [
             0.7,
             "#b8e186"
            ],
            [
             0.8,
             "#7fbc41"
            ],
            [
             0.9,
             "#4d9221"
            ],
            [
             1,
             "#276419"
            ]
           ],
           "sequential": [
            [
             0,
             "#0d0887"
            ],
            [
             0.1111111111111111,
             "#46039f"
            ],
            [
             0.2222222222222222,
             "#7201a8"
            ],
            [
             0.3333333333333333,
             "#9c179e"
            ],
            [
             0.4444444444444444,
             "#bd3786"
            ],
            [
             0.5555555555555556,
             "#d8576b"
            ],
            [
             0.6666666666666666,
             "#ed7953"
            ],
            [
             0.7777777777777778,
             "#fb9f3a"
            ],
            [
             0.8888888888888888,
             "#fdca26"
            ],
            [
             1,
             "#f0f921"
            ]
           ],
           "sequentialminus": [
            [
             0,
             "#0d0887"
            ],
            [
             0.1111111111111111,
             "#46039f"
            ],
            [
             0.2222222222222222,
             "#7201a8"
            ],
            [
             0.3333333333333333,
             "#9c179e"
            ],
            [
             0.4444444444444444,
             "#bd3786"
            ],
            [
             0.5555555555555556,
             "#d8576b"
            ],
            [
             0.6666666666666666,
             "#ed7953"
            ],
            [
             0.7777777777777778,
             "#fb9f3a"
            ],
            [
             0.8888888888888888,
             "#fdca26"
            ],
            [
             1,
             "#f0f921"
            ]
           ]
          },
          "colorway": [
           "#636efa",
           "#EF553B",
           "#00cc96",
           "#ab63fa",
           "#FFA15A",
           "#19d3f3",
           "#FF6692",
           "#B6E880",
           "#FF97FF",
           "#FECB52"
          ],
          "font": {
           "color": "#2a3f5f"
          },
          "geo": {
           "bgcolor": "white",
           "lakecolor": "white",
           "landcolor": "#E5ECF6",
           "showlakes": true,
           "showland": true,
           "subunitcolor": "white"
          },
          "hoverlabel": {
           "align": "left"
          },
          "hovermode": "closest",
          "mapbox": {
           "style": "light"
          },
          "paper_bgcolor": "white",
          "plot_bgcolor": "#E5ECF6",
          "polar": {
           "angularaxis": {
            "gridcolor": "white",
            "linecolor": "white",
            "ticks": ""
           },
           "bgcolor": "#E5ECF6",
           "radialaxis": {
            "gridcolor": "white",
            "linecolor": "white",
            "ticks": ""
           }
          },
          "scene": {
           "xaxis": {
            "backgroundcolor": "#E5ECF6",
            "gridcolor": "white",
            "gridwidth": 2,
            "linecolor": "white",
            "showbackground": true,
            "ticks": "",
            "zerolinecolor": "white"
           },
           "yaxis": {
            "backgroundcolor": "#E5ECF6",
            "gridcolor": "white",
            "gridwidth": 2,
            "linecolor": "white",
            "showbackground": true,
            "ticks": "",
            "zerolinecolor": "white"
           },
           "zaxis": {
            "backgroundcolor": "#E5ECF6",
            "gridcolor": "white",
            "gridwidth": 2,
            "linecolor": "white",
            "showbackground": true,
            "ticks": "",
            "zerolinecolor": "white"
           }
          },
          "shapedefaults": {
           "line": {
            "color": "#2a3f5f"
           }
          },
          "ternary": {
           "aaxis": {
            "gridcolor": "white",
            "linecolor": "white",
            "ticks": ""
           },
           "baxis": {
            "gridcolor": "white",
            "linecolor": "white",
            "ticks": ""
           },
           "bgcolor": "#E5ECF6",
           "caxis": {
            "gridcolor": "white",
            "linecolor": "white",
            "ticks": ""
           }
          },
          "title": {
           "x": 0.05
          },
          "xaxis": {
           "automargin": true,
           "gridcolor": "white",
           "linecolor": "white",
           "ticks": "",
           "title": {
            "standoff": 15
           },
           "zerolinecolor": "white",
           "zerolinewidth": 2
          },
          "yaxis": {
           "automargin": true,
           "gridcolor": "white",
           "linecolor": "white",
           "ticks": "",
           "title": {
            "standoff": 15
           },
           "zerolinecolor": "white",
           "zerolinewidth": 2
          }
         }
        },
        "xaxis": {
         "anchor": "y",
         "domain": [
          0,
          1
         ],
         "title": {
          "text": "x1_umap"
         }
        },
        "yaxis": {
         "anchor": "x",
         "domain": [
          0,
          1
         ],
         "scaleanchor": "x",
         "scaleratio": 1,
         "title": {
          "text": "x2_umap"
         }
        }
       }
      }
     },
     "metadata": {},
     "output_type": "display_data"
    },
    {
     "data": {
      "application/vnd.plotly.v1+json": {
       "config": {
        "plotlyServerURL": "https://plot.ly"
       },
       "data": [
        {
         "hovertemplate": "label=AP<br>x1_umap=%{x}<br>x2_umap=%{y}<extra></extra>",
         "legendgroup": "AP",
         "marker": {
          "color": "#C4451C",
          "symbol": "circle"
         },
         "mode": "markers",
         "name": "AP",
         "orientation": "v",
         "showlegend": true,
         "type": "scatter",
         "x": [
          0.7684699296951294,
          14.76640510559082,
          16.798986434936523,
          16.61186408996582
         ],
         "xaxis": "x",
         "y": [
          2.9484095573425293,
          2.675262212753296,
          10.19430923461914,
          10.013760566711426
         ],
         "yaxis": "y"
        },
        {
         "hovertemplate": "label=CC1<br>x1_umap=%{x}<br>x2_umap=%{y}<extra></extra>",
         "legendgroup": "CC1",
         "marker": {
          "color": "#DEA0FD",
          "symbol": "circle"
         },
         "mode": "markers",
         "name": "CC1",
         "orientation": "v",
         "showlegend": true,
         "type": "scatter",
         "x": [
          16.56679344177246,
          -8.931730270385742,
          0.8404507637023926,
          2.352212429046631,
          -1.1425360441207886,
          -10.582496643066406,
          2.9567508697509766,
          0.946465790271759,
          16.4310245513916,
          -0.627122700214386,
          14.261653900146484,
          16.953516006469727,
          -10.441754341125488,
          13.659929275512695,
          13.890706062316895,
          0.8554020524024963,
          -1.5675123929977417,
          12.677740097045898,
          14.238180160522461,
          1.3096494674682617,
          13.09569263458252,
          12.757733345031738,
          3.7196426391601562,
          -11.742782592773438,
          2.463364601135254,
          8.628739356994629,
          0.6075761318206787,
          13.375044822692871,
          -15.03158950805664,
          14.227032661437988,
          14.425265312194824,
          -10.356918334960938,
          16.332338333129883,
          15.629719734191895,
          1.5289521217346191,
          -14.849628448486328,
          3.4922425746917725,
          -14.942848205566406,
          -8.626289367675781,
          17.27605438232422,
          8.679981231689453,
          16.177217483520508,
          2.420534372329712,
          13.509231567382812,
          2.512993335723877,
          16.78082847595215,
          13.651588439941406,
          14.215697288513184,
          0.598212480545044,
          14.584327697753906,
          -10.574894905090332,
          1.5429019927978516,
          17.714900970458984,
          -1.2721890211105347,
          0.3374808430671692,
          2.8420772552490234,
          17.6829833984375,
          16.488319396972656,
          0.6421800255775452,
          14.58840274810791,
          -8.639935493469238,
          0.19132201373577118,
          -1.350386381149292,
          15.08930778503418,
          14.272981643676758,
          2.8259079456329346,
          12.731820106506348,
          13.273301124572754,
          1.1876728534698486,
          14.119799613952637,
          -11.804238319396973,
          12.653482437133789,
          0.522162914276123,
          13.130021095275879,
          16.075233459472656,
          13.004837036132812,
          16.025407791137695,
          16.55413246154785,
          17.726463317871094,
          1.4016326665878296,
          3.207008123397827,
          -0.2371072620153427,
          16.963125228881836,
          13.57767391204834,
          12.76225471496582,
          16.50505256652832,
          15.840729713439941,
          3.7014687061309814,
          -8.676823616027832,
          0.7624759078025818,
          -1.1186602115631104,
          1.3260300159454346,
          17.795089721679688,
          -10.52191162109375,
          17.147380828857422,
          17.781112670898438,
          3.6869800090789795,
          2.793131113052368,
          2.6015307903289795,
          0.43978801369667053,
          -10.604207038879395,
          14.074934959411621,
          3.003244400024414,
          -8.971076965332031,
          0.31884777545928955,
          -10.594141006469727,
          15.698854446411133,
          0.5544209480285645,
          12.695474624633789,
          2.4229519367218018,
          16.598051071166992,
          17.267948150634766,
          -11.786418914794922,
          17.070661544799805,
          8.629830360412598,
          2.38948392868042,
          2.4799511432647705,
          2.744816303253174,
          1.0911900997161865,
          0.777711808681488,
          2.6246304512023926
         ],
         "xaxis": "x",
         "y": [
          9.96064281463623,
          5.890714168548584,
          -3.799001693725586,
          4.84210729598999,
          2.474431037902832,
          -2.238878011703491,
          13.544147491455078,
          2.572017192840576,
          9.824585914611816,
          2.6864402294158936,
          -17.667179107666016,
          10.360122680664062,
          -2.096231698989868,
          2.755101442337036,
          2.4947121143341064,
          -3.8389484882354736,
          2.3788766860961914,
          4.505109786987305,
          2.0136585235595703,
          -3.668200969696045,
          2.1338911056518555,
          4.419912815093994,
          -10.148927688598633,
          16.144739151000977,
          4.952416896820068,
          -3.0802903175354004,
          2.4263761043548584,
          2.431464910507202,
          11.03182601928711,
          2.038465738296509,
          2.7830991744995117,
          -2.013278007507324,
          3.0379276275634766,
          2.9867947101593018,
          11.98646068572998,
          11.205303192138672,
          14.013668060302734,
          11.127178192138672,
          6.196300983428955,
          10.701096534729004,
          -3.1317367553710938,
          2.9409449100494385,
          13.676769256591797,
          3.2726738452911377,
          13.732820510864258,
          10.174823760986328,
          3.3653900623321533,
          1.9806034564971924,
          2.4550843238830566,
          1.7198559045791626,
          -2.2311599254608154,
          11.811663627624512,
          21.68308448791504,
          2.359394073486328,
          -3.538588047027588,
          14.20486068725586,
          21.71499252319336,
          9.889632225036621,
          24.807201385498047,
          2.7163679599761963,
          6.182944297790527,
          2.627312660217285,
          2.382683277130127,
          1.9106600284576416,
          1.8409968614578247,
          5.3136420249938965,
          4.440719127655029,
          2.306668519973755,
          3.01558256149292,
          -17.824045181274414,
          16.20629119873047,
          4.529600620269775,
          24.687313079833984,
          2.17535662651062,
          2.88459849357605,
          2.0517897605895996,
          2.8522655963897705,
          3.1563332080841064,
          21.671463012695312,
          11.900031089782715,
          14.342292785644531,
          2.7367560863494873,
          10.357707023620605,
          2.9116883277893066,
          4.421763896942139,
          9.905359268188477,
          2.780168294906616,
          -10.130059242248535,
          6.151309490203857,
          2.395383596420288,
          2.5296618938446045,
          11.224810600280762,
          21.60279655456543,
          -2.1776816844940186,
          10.570853233337402,
          21.61707878112793,
          -10.115476608276367,
          5.281044960021973,
          13.839886665344238,
          -3.4610180854797363,
          -2.2601993083953857,
          -17.868236541748047,
          13.637913703918457,
          5.850844383239746,
          2.614514112472534,
          -2.249844551086426,
          2.8243091106414795,
          2.376174211502075,
          4.484399795532227,
          13.618200302124023,
          3.1850762367248535,
          10.691051483154297,
          16.18862533569336,
          10.494584083557129,
          -3.081617832183838,
          13.682540893554688,
          4.965363502502441,
          5.23275899887085,
          2.941876173019409,
          -4.097326278686523,
          13.606871604919434
         ],
         "yaxis": "y"
        },
        {
         "hovertemplate": "label=CC2<br>x1_umap=%{x}<br>x2_umap=%{y}<extra></extra>",
         "legendgroup": "CC2",
         "marker": {
          "color": "#FE00FA",
          "symbol": "circle"
         },
         "mode": "markers",
         "name": "CC2",
         "orientation": "v",
         "showlegend": true,
         "type": "scatter",
         "x": [
          1.6078659296035767,
          1.3843562602996826
         ],
         "xaxis": "x",
         "y": [
          11.774301528930664,
          11.173431396484375
         ],
         "yaxis": "y"
        },
        {
         "hovertemplate": "label=CC3<br>x1_umap=%{x}<br>x2_umap=%{y}<extra></extra>",
         "legendgroup": "CC3",
         "marker": {
          "color": "#325A9B",
          "symbol": "circle"
         },
         "mode": "markers",
         "name": "CC3",
         "orientation": "v",
         "showlegend": true,
         "type": "scatter",
         "x": [
          2.7530007362365723,
          -10.342265129089355,
          14.376507759094238
         ],
         "xaxis": "x",
         "y": [
          5.24080228805542,
          -1.9988088607788086,
          1.88755464553833
         ],
         "yaxis": "y"
        },
        {
         "hovertemplate": "label=HAD<br>x1_umap=%{x}<br>x2_umap=%{y}<extra></extra>",
         "legendgroup": "HAD",
         "marker": {
          "color": "#FEAF16",
          "symbol": "circle"
         },
         "mode": "markers",
         "name": "HAD",
         "orientation": "v",
         "showlegend": true,
         "type": "scatter",
         "x": [
          1.0336018800735474,
          2.3009235858917236,
          14.885635375976562,
          14.319330215454102,
          3.453681707382202,
          15.117622375488281,
          14.438138961791992,
          0.8195858001708984,
          14.481837272644043,
          -1.3754959106445312,
          15.582918167114258,
          -10.507795333862305,
          14.200794219970703,
          3.2508041858673096,
          17.795408248901367,
          17.693008422851562,
          0.6391379237174988
         ],
         "xaxis": "x",
         "y": [
          -3.7581686973571777,
          13.305381774902344,
          2.7285690307617188,
          -17.61312484741211,
          13.970980644226074,
          1.8641613721847534,
          1.7742477655410767,
          -3.987873077392578,
          2.5200958251953125,
          2.3226864337921143,
          2.9319345951080322,
          -2.1638622283935547,
          -17.735185623168945,
          13.898199081420898,
          21.602535247802734,
          21.705062866210938,
          24.80427360534668
         ],
         "yaxis": "y"
        },
        {
         "hovertemplate": "label=HP<br>x1_umap=%{x}<br>x2_umap=%{y}<extra></extra>",
         "legendgroup": "HP",
         "marker": {
          "color": "#F8A19F",
          "symbol": "circle"
         },
         "mode": "markers",
         "name": "HP",
         "orientation": "v",
         "showlegend": true,
         "type": "scatter",
         "x": [
          -1.5260192155838013,
          -14.997122764587402,
          8.539929389953613,
          -15.010212898254395,
          -10.212456703186035,
          2.841660737991333,
          -15.130784034729004,
          -8.8638916015625,
          -14.962265014648438,
          16.509973526000977,
          15.289595603942871,
          1.5070414543151855,
          2.8104217052459717,
          -10.194267272949219,
          3.2753851413726807,
          1.3345508575439453,
          -14.979690551757812,
          -0.23376226425170898,
          -11.784384727478027,
          3.4931790828704834
         ],
         "xaxis": "x",
         "y": [
          2.387639284133911,
          11.048212051391602,
          -2.9916555881500244,
          11.058570861816406,
          -1.86958909034729,
          14.225985527038574,
          10.936162948608398,
          5.959141731262207,
          11.121419906616211,
          3.117363452911377,
          2.8489301204681396,
          11.812609672546387,
          14.129911422729492,
          -1.8513917922973633,
          14.360358238220215,
          -3.7564022541046143,
          11.086609840393066,
          2.7193784713745117,
          16.186498641967773,
          14.035687446594238
         ],
         "yaxis": "y"
        },
        {
         "hovertemplate": "label=PHP<br>x1_umap=%{x}<br>x2_umap=%{y}<extra></extra>",
         "legendgroup": "PHP",
         "marker": {
          "color": "#90AD1C",
          "symbol": "circle"
         },
         "mode": "markers",
         "name": "PHP",
         "orientation": "v",
         "showlegend": true,
         "type": "scatter",
         "x": [
          2.3919718265533447
         ],
         "xaxis": "x",
         "y": [
          4.880616188049316
         ],
         "yaxis": "y"
        },
        {
         "hovertemplate": "label=PPM<br>x1_umap=%{x}<br>x2_umap=%{y}<extra></extra>",
         "legendgroup": "PPM",
         "marker": {
          "color": "#F6222E",
          "symbol": "circle"
         },
         "mode": "markers",
         "name": "PPM",
         "orientation": "v",
         "showlegend": true,
         "type": "scatter",
         "x": [
          14.075982093811035,
          3.0864105224609375,
          1.2680495977401733,
          14.00307559967041,
          -14.929372787475586,
          0.5951680541038513,
          0.9563515186309814,
          -0.11826130002737045,
          3.6923389434814453,
          -1.2599620819091797,
          2.1489627361297607,
          0.27821335196495056,
          2.4725217819213867,
          -8.89856243133545,
          -0.676163375377655,
          2.3186891078948975,
          16.46054458618164,
          13.454415321350098,
          13.948661804199219,
          13.640868186950684
         ],
         "xaxis": "x",
         "y": [
          2.6017959117889404,
          14.169261932373047,
          -3.6699776649475098,
          -17.946744918823242,
          11.142105102539062,
          24.76039695739746,
          2.5573809146881104,
          2.6995582580566406,
          -10.12075424194336,
          2.4635844230651855,
          13.107701301574707,
          -3.5905487537384033,
          13.944747924804688,
          5.924291133880615,
          2.6656494140625,
          4.803195476531982,
          9.857080459594727,
          2.5938005447387695,
          -18.002899169921875,
          2.405564785003662
         ],
         "yaxis": "y"
        },
        {
         "hovertemplate": "label=PPPL<br>x1_umap=%{x}<br>x2_umap=%{y}<extra></extra>",
         "legendgroup": "PPPL",
         "marker": {
          "color": "#1CFFCE",
          "symbol": "circle"
         },
         "mode": "markers",
         "name": "PPPL",
         "orientation": "v",
         "showlegend": true,
         "type": "scatter",
         "x": [
          0.5946228504180908,
          13.024232864379883,
          -8.749129295349121,
          0.3142510950565338,
          13.597265243530273,
          0.5413918495178223,
          15.169492721557617,
          2.1934468746185303,
          1.3390148878097534,
          0.3192563056945801,
          2.946751832962036,
          13.961328506469727,
          17.217649459838867,
          0.7704811692237854,
          0.9200119972229004
         ],
         "xaxis": "x",
         "y": [
          24.75985336303711,
          2.072953939437866,
          6.07510232925415,
          -3.4402878284454346,
          3.338383674621582,
          2.409715175628662,
          1.8479927778244019,
          13.198296546936035,
          11.241613388061523,
          2.5872676372528076,
          13.857808113098145,
          -17.990549087524414,
          10.643949508666992,
          -4.086792945861816,
          -3.8242387771606445
         ],
         "yaxis": "y"
        },
        {
         "hovertemplate": "label=RTR1<br>x1_umap=%{x}<br>x2_umap=%{y}<extra></extra>",
         "legendgroup": "RTR1",
         "marker": {
          "color": "#2ED9FF",
          "symbol": "circle"
         },
         "mode": "markers",
         "name": "RTR1",
         "orientation": "v",
         "showlegend": true,
         "type": "scatter",
         "x": [
          13.24182415008545
         ],
         "xaxis": "x",
         "y": [
          3.688070774078369
         ],
         "yaxis": "y"
        }
       ],
       "layout": {
        "legend": {
         "title": {
          "text": "label"
         },
         "tracegroupgap": 0
        },
        "margin": {
         "t": 60
        },
        "template": {
         "data": {
          "bar": [
           {
            "error_x": {
             "color": "#2a3f5f"
            },
            "error_y": {
             "color": "#2a3f5f"
            },
            "marker": {
             "line": {
              "color": "#E5ECF6",
              "width": 0.5
             },
             "pattern": {
              "fillmode": "overlay",
              "size": 10,
              "solidity": 0.2
             }
            },
            "type": "bar"
           }
          ],
          "barpolar": [
           {
            "marker": {
             "line": {
              "color": "#E5ECF6",
              "width": 0.5
             },
             "pattern": {
              "fillmode": "overlay",
              "size": 10,
              "solidity": 0.2
             }
            },
            "type": "barpolar"
           }
          ],
          "carpet": [
           {
            "aaxis": {
             "endlinecolor": "#2a3f5f",
             "gridcolor": "white",
             "linecolor": "white",
             "minorgridcolor": "white",
             "startlinecolor": "#2a3f5f"
            },
            "baxis": {
             "endlinecolor": "#2a3f5f",
             "gridcolor": "white",
             "linecolor": "white",
             "minorgridcolor": "white",
             "startlinecolor": "#2a3f5f"
            },
            "type": "carpet"
           }
          ],
          "choropleth": [
           {
            "colorbar": {
             "outlinewidth": 0,
             "ticks": ""
            },
            "type": "choropleth"
           }
          ],
          "contour": [
           {
            "colorbar": {
             "outlinewidth": 0,
             "ticks": ""
            },
            "colorscale": [
             [
              0,
              "#0d0887"
             ],
             [
              0.1111111111111111,
              "#46039f"
             ],
             [
              0.2222222222222222,
              "#7201a8"
             ],
             [
              0.3333333333333333,
              "#9c179e"
             ],
             [
              0.4444444444444444,
              "#bd3786"
             ],
             [
              0.5555555555555556,
              "#d8576b"
             ],
             [
              0.6666666666666666,
              "#ed7953"
             ],
             [
              0.7777777777777778,
              "#fb9f3a"
             ],
             [
              0.8888888888888888,
              "#fdca26"
             ],
             [
              1,
              "#f0f921"
             ]
            ],
            "type": "contour"
           }
          ],
          "contourcarpet": [
           {
            "colorbar": {
             "outlinewidth": 0,
             "ticks": ""
            },
            "type": "contourcarpet"
           }
          ],
          "heatmap": [
           {
            "colorbar": {
             "outlinewidth": 0,
             "ticks": ""
            },
            "colorscale": [
             [
              0,
              "#0d0887"
             ],
             [
              0.1111111111111111,
              "#46039f"
             ],
             [
              0.2222222222222222,
              "#7201a8"
             ],
             [
              0.3333333333333333,
              "#9c179e"
             ],
             [
              0.4444444444444444,
              "#bd3786"
             ],
             [
              0.5555555555555556,
              "#d8576b"
             ],
             [
              0.6666666666666666,
              "#ed7953"
             ],
             [
              0.7777777777777778,
              "#fb9f3a"
             ],
             [
              0.8888888888888888,
              "#fdca26"
             ],
             [
              1,
              "#f0f921"
             ]
            ],
            "type": "heatmap"
           }
          ],
          "heatmapgl": [
           {
            "colorbar": {
             "outlinewidth": 0,
             "ticks": ""
            },
            "colorscale": [
             [
              0,
              "#0d0887"
             ],
             [
              0.1111111111111111,
              "#46039f"
             ],
             [
              0.2222222222222222,
              "#7201a8"
             ],
             [
              0.3333333333333333,
              "#9c179e"
             ],
             [
              0.4444444444444444,
              "#bd3786"
             ],
             [
              0.5555555555555556,
              "#d8576b"
             ],
             [
              0.6666666666666666,
              "#ed7953"
             ],
             [
              0.7777777777777778,
              "#fb9f3a"
             ],
             [
              0.8888888888888888,
              "#fdca26"
             ],
             [
              1,
              "#f0f921"
             ]
            ],
            "type": "heatmapgl"
           }
          ],
          "histogram": [
           {
            "marker": {
             "pattern": {
              "fillmode": "overlay",
              "size": 10,
              "solidity": 0.2
             }
            },
            "type": "histogram"
           }
          ],
          "histogram2d": [
           {
            "colorbar": {
             "outlinewidth": 0,
             "ticks": ""
            },
            "colorscale": [
             [
              0,
              "#0d0887"
             ],
             [
              0.1111111111111111,
              "#46039f"
             ],
             [
              0.2222222222222222,
              "#7201a8"
             ],
             [
              0.3333333333333333,
              "#9c179e"
             ],
             [
              0.4444444444444444,
              "#bd3786"
             ],
             [
              0.5555555555555556,
              "#d8576b"
             ],
             [
              0.6666666666666666,
              "#ed7953"
             ],
             [
              0.7777777777777778,
              "#fb9f3a"
             ],
             [
              0.8888888888888888,
              "#fdca26"
             ],
             [
              1,
              "#f0f921"
             ]
            ],
            "type": "histogram2d"
           }
          ],
          "histogram2dcontour": [
           {
            "colorbar": {
             "outlinewidth": 0,
             "ticks": ""
            },
            "colorscale": [
             [
              0,
              "#0d0887"
             ],
             [
              0.1111111111111111,
              "#46039f"
             ],
             [
              0.2222222222222222,
              "#7201a8"
             ],
             [
              0.3333333333333333,
              "#9c179e"
             ],
             [
              0.4444444444444444,
              "#bd3786"
             ],
             [
              0.5555555555555556,
              "#d8576b"
             ],
             [
              0.6666666666666666,
              "#ed7953"
             ],
             [
              0.7777777777777778,
              "#fb9f3a"
             ],
             [
              0.8888888888888888,
              "#fdca26"
             ],
             [
              1,
              "#f0f921"
             ]
            ],
            "type": "histogram2dcontour"
           }
          ],
          "mesh3d": [
           {
            "colorbar": {
             "outlinewidth": 0,
             "ticks": ""
            },
            "type": "mesh3d"
           }
          ],
          "parcoords": [
           {
            "line": {
             "colorbar": {
              "outlinewidth": 0,
              "ticks": ""
             }
            },
            "type": "parcoords"
           }
          ],
          "pie": [
           {
            "automargin": true,
            "type": "pie"
           }
          ],
          "scatter": [
           {
            "fillpattern": {
             "fillmode": "overlay",
             "size": 10,
             "solidity": 0.2
            },
            "type": "scatter"
           }
          ],
          "scatter3d": [
           {
            "line": {
             "colorbar": {
              "outlinewidth": 0,
              "ticks": ""
             }
            },
            "marker": {
             "colorbar": {
              "outlinewidth": 0,
              "ticks": ""
             }
            },
            "type": "scatter3d"
           }
          ],
          "scattercarpet": [
           {
            "marker": {
             "colorbar": {
              "outlinewidth": 0,
              "ticks": ""
             }
            },
            "type": "scattercarpet"
           }
          ],
          "scattergeo": [
           {
            "marker": {
             "colorbar": {
              "outlinewidth": 0,
              "ticks": ""
             }
            },
            "type": "scattergeo"
           }
          ],
          "scattergl": [
           {
            "marker": {
             "colorbar": {
              "outlinewidth": 0,
              "ticks": ""
             }
            },
            "type": "scattergl"
           }
          ],
          "scattermapbox": [
           {
            "marker": {
             "colorbar": {
              "outlinewidth": 0,
              "ticks": ""
             }
            },
            "type": "scattermapbox"
           }
          ],
          "scatterpolar": [
           {
            "marker": {
             "colorbar": {
              "outlinewidth": 0,
              "ticks": ""
             }
            },
            "type": "scatterpolar"
           }
          ],
          "scatterpolargl": [
           {
            "marker": {
             "colorbar": {
              "outlinewidth": 0,
              "ticks": ""
             }
            },
            "type": "scatterpolargl"
           }
          ],
          "scatterternary": [
           {
            "marker": {
             "colorbar": {
              "outlinewidth": 0,
              "ticks": ""
             }
            },
            "type": "scatterternary"
           }
          ],
          "surface": [
           {
            "colorbar": {
             "outlinewidth": 0,
             "ticks": ""
            },
            "colorscale": [
             [
              0,
              "#0d0887"
             ],
             [
              0.1111111111111111,
              "#46039f"
             ],
             [
              0.2222222222222222,
              "#7201a8"
             ],
             [
              0.3333333333333333,
              "#9c179e"
             ],
             [
              0.4444444444444444,
              "#bd3786"
             ],
             [
              0.5555555555555556,
              "#d8576b"
             ],
             [
              0.6666666666666666,
              "#ed7953"
             ],
             [
              0.7777777777777778,
              "#fb9f3a"
             ],
             [
              0.8888888888888888,
              "#fdca26"
             ],
             [
              1,
              "#f0f921"
             ]
            ],
            "type": "surface"
           }
          ],
          "table": [
           {
            "cells": {
             "fill": {
              "color": "#EBF0F8"
             },
             "line": {
              "color": "white"
             }
            },
            "header": {
             "fill": {
              "color": "#C8D4E3"
             },
             "line": {
              "color": "white"
             }
            },
            "type": "table"
           }
          ]
         },
         "layout": {
          "annotationdefaults": {
           "arrowcolor": "#2a3f5f",
           "arrowhead": 0,
           "arrowwidth": 1
          },
          "autotypenumbers": "strict",
          "coloraxis": {
           "colorbar": {
            "outlinewidth": 0,
            "ticks": ""
           }
          },
          "colorscale": {
           "diverging": [
            [
             0,
             "#8e0152"
            ],
            [
             0.1,
             "#c51b7d"
            ],
            [
             0.2,
             "#de77ae"
            ],
            [
             0.3,
             "#f1b6da"
            ],
            [
             0.4,
             "#fde0ef"
            ],
            [
             0.5,
             "#f7f7f7"
            ],
            [
             0.6,
             "#e6f5d0"
            ],
            [
             0.7,
             "#b8e186"
            ],
            [
             0.8,
             "#7fbc41"
            ],
            [
             0.9,
             "#4d9221"
            ],
            [
             1,
             "#276419"
            ]
           ],
           "sequential": [
            [
             0,
             "#0d0887"
            ],
            [
             0.1111111111111111,
             "#46039f"
            ],
            [
             0.2222222222222222,
             "#7201a8"
            ],
            [
             0.3333333333333333,
             "#9c179e"
            ],
            [
             0.4444444444444444,
             "#bd3786"
            ],
            [
             0.5555555555555556,
             "#d8576b"
            ],
            [
             0.6666666666666666,
             "#ed7953"
            ],
            [
             0.7777777777777778,
             "#fb9f3a"
            ],
            [
             0.8888888888888888,
             "#fdca26"
            ],
            [
             1,
             "#f0f921"
            ]
           ],
           "sequentialminus": [
            [
             0,
             "#0d0887"
            ],
            [
             0.1111111111111111,
             "#46039f"
            ],
            [
             0.2222222222222222,
             "#7201a8"
            ],
            [
             0.3333333333333333,
             "#9c179e"
            ],
            [
             0.4444444444444444,
             "#bd3786"
            ],
            [
             0.5555555555555556,
             "#d8576b"
            ],
            [
             0.6666666666666666,
             "#ed7953"
            ],
            [
             0.7777777777777778,
             "#fb9f3a"
            ],
            [
             0.8888888888888888,
             "#fdca26"
            ],
            [
             1,
             "#f0f921"
            ]
           ]
          },
          "colorway": [
           "#636efa",
           "#EF553B",
           "#00cc96",
           "#ab63fa",
           "#FFA15A",
           "#19d3f3",
           "#FF6692",
           "#B6E880",
           "#FF97FF",
           "#FECB52"
          ],
          "font": {
           "color": "#2a3f5f"
          },
          "geo": {
           "bgcolor": "white",
           "lakecolor": "white",
           "landcolor": "#E5ECF6",
           "showlakes": true,
           "showland": true,
           "subunitcolor": "white"
          },
          "hoverlabel": {
           "align": "left"
          },
          "hovermode": "closest",
          "mapbox": {
           "style": "light"
          },
          "paper_bgcolor": "white",
          "plot_bgcolor": "#E5ECF6",
          "polar": {
           "angularaxis": {
            "gridcolor": "white",
            "linecolor": "white",
            "ticks": ""
           },
           "bgcolor": "#E5ECF6",
           "radialaxis": {
            "gridcolor": "white",
            "linecolor": "white",
            "ticks": ""
           }
          },
          "scene": {
           "xaxis": {
            "backgroundcolor": "#E5ECF6",
            "gridcolor": "white",
            "gridwidth": 2,
            "linecolor": "white",
            "showbackground": true,
            "ticks": "",
            "zerolinecolor": "white"
           },
           "yaxis": {
            "backgroundcolor": "#E5ECF6",
            "gridcolor": "white",
            "gridwidth": 2,
            "linecolor": "white",
            "showbackground": true,
            "ticks": "",
            "zerolinecolor": "white"
           },
           "zaxis": {
            "backgroundcolor": "#E5ECF6",
            "gridcolor": "white",
            "gridwidth": 2,
            "linecolor": "white",
            "showbackground": true,
            "ticks": "",
            "zerolinecolor": "white"
           }
          },
          "shapedefaults": {
           "line": {
            "color": "#2a3f5f"
           }
          },
          "ternary": {
           "aaxis": {
            "gridcolor": "white",
            "linecolor": "white",
            "ticks": ""
           },
           "baxis": {
            "gridcolor": "white",
            "linecolor": "white",
            "ticks": ""
           },
           "bgcolor": "#E5ECF6",
           "caxis": {
            "gridcolor": "white",
            "linecolor": "white",
            "ticks": ""
           }
          },
          "title": {
           "x": 0.05
          },
          "xaxis": {
           "automargin": true,
           "gridcolor": "white",
           "linecolor": "white",
           "ticks": "",
           "title": {
            "standoff": 15
           },
           "zerolinecolor": "white",
           "zerolinewidth": 2
          },
          "yaxis": {
           "automargin": true,
           "gridcolor": "white",
           "linecolor": "white",
           "ticks": "",
           "title": {
            "standoff": 15
           },
           "zerolinecolor": "white",
           "zerolinewidth": 2
          }
         }
        },
        "xaxis": {
         "anchor": "y",
         "domain": [
          0,
          1
         ],
         "title": {
          "text": "x1_umap"
         }
        },
        "yaxis": {
         "anchor": "x",
         "domain": [
          0,
          1
         ],
         "scaleanchor": "x",
         "scaleratio": 1,
         "title": {
          "text": "x2_umap"
         }
        }
       }
      }
     },
     "metadata": {},
     "output_type": "display_data"
    }
   ],
   "source": [
    "plt = px.scatter(df_embedding, x = 'x1_umap', y = 'x2_umap',\n",
    "                    color = df_embedding[\"clust_umap\"],\n",
    "                    color_discrete_sequence = px.colors.qualitative.Alphabet,\n",
    "                    color_discrete_map=phosphatase_cols,\n",
    "                    #color_continuous_scale = \"Turbo\",\n",
    "                    ##labels={'color': labels}, \n",
    "                    #hover_name=labels_name,\n",
    "                    #hover_data=df.columns[2:],\n",
    "                    #height = 800,\n",
    "                    #title = title,\n",
    "                )\n",
    "#plt.update_xaxes(range = [-10 50], constrain=\"domain\")\n",
    "#plt.update_yaxes(range = [-0.5, 0.5], constrain=\"domain\")\n",
    "\n",
    "plt.update_yaxes(scaleanchor = \"x\", scaleratio = 1)\n",
    "plt.show()\n",
    "\n",
    "plt = px.scatter(df_embedding, x = 'x1_umap', y = 'x2_umap',\n",
    "                    color = df_embedding[true_col],\n",
    "                    color_discrete_sequence = px.colors.qualitative.Alphabet,\n",
    "                    color_discrete_map=phosphatase_cols,\n",
    "                    #color_continuous_scale = \"Turbo\",\n",
    "                    ##labels={'color': labels}, \n",
    "                    #hover_name=labels_name,\n",
    "                    #hover_data=df.columns[2:],\n",
    "                    #height = 800,\n",
    "                    #title = title,\n",
    "                )\n",
    "#plt.update_xaxes(range = [-60, 50], constrain=\"domain\")\n",
    "#plt.update_yaxes(range = [-0.5, 0.5], constrain=\"domain\")\n",
    "\n",
    "plt.update_yaxes(scaleanchor = \"x\", scaleratio = 1)\n",
    "plt.show()"
   ]
  },
  {
   "cell_type": "markdown",
   "id": "684e8f9c",
   "metadata": {},
   "source": [
    "## PCA"
   ]
  },
  {
   "cell_type": "code",
   "execution_count": 58,
   "id": "106d160d",
   "metadata": {},
   "outputs": [
    {
     "data": {
      "application/vnd.plotly.v1+json": {
       "config": {
        "plotlyServerURL": "https://plot.ly"
       },
       "data": [
        {
         "hovertemplate": "clust_pca=0<br>x1_pca=%{x}<br>x2_pca=%{y}<extra></extra>",
         "legendgroup": "0",
         "marker": {
          "color": "#C4451C",
          "symbol": "circle"
         },
         "mode": "markers",
         "name": "0",
         "orientation": "v",
         "showlegend": true,
         "type": "scatter",
         "x": [
          0.2343632342402308,
          0.2638740047707418,
          0.32929821131086845,
          0.24604096305463957,
          0.22083172576068702,
          0.16234477672390316,
          0.2559321818040165,
          0.32190431974378486,
          0.29905059927343824,
          0.11562643511501976,
          0.282993585640406,
          0.32602848486828734,
          0.19608938803360917,
          0.17766252272557184,
          0.10722811776369408,
          0.279616167516653,
          0.2619368818603242,
          0.24781793405708472,
          0.3312732718044425,
          0.25825373001162466,
          0.2577739408150885,
          0.2521254794724468,
          0.26164274661919773,
          0.20904627621402103,
          0.12062266226979644,
          0.2501520298013921
         ],
         "xaxis": "x",
         "y": [
          -0.001157083549768056,
          -0.20682478001362076,
          0.058687653103698785,
          -0.10986632448648571,
          -0.04301441142627427,
          -0.12981449188896968,
          -0.25723270337462023,
          0.023014804440371087,
          0.10281368322073421,
          -0.17359356504970258,
          -0.2013162534945945,
          0.044436176625140385,
          0.09000114173937353,
          0.03142896840105298,
          -0.17285258896394343,
          -0.20484283671917758,
          -0.26656295169534233,
          -0.10115106910021308,
          0.04927195373550809,
          -0.28176781451300686,
          -0.07219168831118235,
          -0.2927120919021069,
          -0.0627828723593974,
          -0.1190359200445981,
          -0.14547606329035012,
          -0.2927711890812621
         ],
         "yaxis": "y"
        },
        {
         "hovertemplate": "clust_pca=5<br>x1_pca=%{x}<br>x2_pca=%{y}<extra></extra>",
         "legendgroup": "5",
         "marker": {
          "color": "#DEA0FD",
          "symbol": "circle"
         },
         "mode": "markers",
         "name": "5",
         "orientation": "v",
         "showlegend": true,
         "type": "scatter",
         "x": [
          -0.37178105962159447,
          -0.367126113054171,
          -0.36702806331620186,
          -0.36028200606967176,
          -0.3734854458754759,
          -0.3501576299497906,
          -0.36093598714945063,
          -0.3646343327978863,
          -0.3729559019814361,
          -0.3734072796957107,
          -0.36408056361640795,
          -0.37142155166857976,
          -0.36784528342733486,
          -0.3656327228352562,
          -0.371227180296006,
          -0.37380873204442944,
          -0.3690059006326476,
          -0.3747199984673947,
          -0.36988555654233674,
          -0.3646180414724745,
          -0.3602322972382545,
          -0.36216117127015035,
          -0.3522959699249535,
          -0.3615864165571715,
          -0.3683143187083819,
          -0.35691984871871435,
          -0.37041064598224177,
          -0.3646810062918772,
          -0.36329375675190034,
          -0.3602195332981733,
          -0.36725761241115257,
          -0.377288461910782,
          -0.36056251698968217,
          -0.37084272284602593,
          -0.37134459345526344,
          -0.3748866117624096,
          -0.3673282382252244,
          -0.36822429529130457,
          -0.3717876111404386,
          -0.3683379355211994,
          -0.36355918529335235,
          -0.3693845294138837,
          -0.3745618266279611,
          -0.3655025576417094,
          -0.368934030448934,
          -0.3564107790160075,
          -0.35767749346314226,
          -0.3673491462614032,
          -0.3471904735664185
         ],
         "xaxis": "x",
         "y": [
          0.1541742963390788,
          0.14450144033032478,
          0.13006941102589528,
          0.13679974771002626,
          0.11935696705618228,
          0.14988141818556547,
          0.1395515717371606,
          0.1115016461227072,
          0.11635926712007155,
          0.1479899915413292,
          0.08238358423306924,
          0.15228343860908752,
          0.08733383864462883,
          0.15396171951217313,
          0.1779243902995352,
          0.12174898177476973,
          0.09964204618937778,
          0.12879934095037449,
          0.10194325019791105,
          0.13098725019429225,
          0.1393652686246788,
          0.10615942442941437,
          0.1425093453188382,
          0.11698826412678978,
          0.08896047559046999,
          0.09448882434832635,
          0.09264920048293905,
          0.07943012606360647,
          0.13854017934355337,
          0.14063715537655963,
          0.10273260271273169,
          0.1209758272319824,
          0.15857720930035338,
          0.09333733453929934,
          0.11521965232720342,
          0.15345582786902046,
          0.09012073717133462,
          0.10734862354420154,
          0.13725341561728457,
          0.14623428839202907,
          0.07844365215488579,
          0.1297384635254298,
          0.14076680707381656,
          0.11651385946191767,
          0.11711822187571944,
          0.12703332160687514,
          0.21343379205362656,
          0.09650014033921671,
          0.16590847751787086
         ],
         "yaxis": "y"
        },
        {
         "hovertemplate": "clust_pca=3<br>x1_pca=%{x}<br>x2_pca=%{y}<extra></extra>",
         "legendgroup": "3",
         "marker": {
          "color": "#FE00FA",
          "symbol": "circle"
         },
         "mode": "markers",
         "name": "3",
         "orientation": "v",
         "showlegend": true,
         "type": "scatter",
         "x": [
          -0.16041070448632083,
          -0.16184246144996384,
          -0.1637473009160131,
          -0.15806928908387433,
          -0.16202140152456,
          -0.07693028069212429,
          -0.16332412425112916,
          -0.11376499248590304,
          -0.06650298027079245,
          -0.16993309862749112,
          -0.16409662140943168,
          -0.14128289729512175,
          -0.16207721753902657,
          -0.1643508382813422,
          -0.1606086108531197,
          -0.12928213028572497,
          -0.14199111426462,
          -0.17673928198737235,
          -0.08730396264341084,
          -0.16631258763527762,
          -0.13425713030980202
         ],
         "xaxis": "x",
         "y": [
          0.04372744636377765,
          0.019322624397187158,
          0.021070180579484763,
          -0.1227060170277096,
          0.017309315096436125,
          -0.2215573397093682,
          0.10996836428457493,
          0.151652675930132,
          -0.030586299196914,
          0.018500010011229053,
          0.011428743554754858,
          0.015722056154266143,
          0.0922276061979301,
          0.014372047123886898,
          -0.07495130209758741,
          0.12097691849368201,
          0.03121827319020926,
          -0.12311196797899004,
          -0.19888652106355448,
          0.029220225293846366,
          0.15065537811456867
         ],
         "yaxis": "y"
        },
        {
         "hovertemplate": "clust_pca=1<br>x1_pca=%{x}<br>x2_pca=%{y}<extra></extra>",
         "legendgroup": "1",
         "marker": {
          "color": "#325A9B",
          "symbol": "circle"
         },
         "mode": "markers",
         "name": "1",
         "orientation": "v",
         "showlegend": true,
         "type": "scatter",
         "x": [
          0.21551180945605317,
          0.2774211503061684,
          0.2603770662357054,
          0.21836172351895095,
          0.25606879274587185,
          0.21987531751893674,
          0.24676347775358873,
          0.2724305115334574,
          0.23056901860948315,
          0.2652738329030564,
          0.21007238598261016,
          0.21950347693157418,
          0.26845941449166455,
          0.26997470445149957,
          0.22332078666438873,
          0.22443118253650776,
          0.2720022853270897,
          0.22380844530333868,
          0.2694678321268582,
          0.24511437696260943
         ],
         "xaxis": "x",
         "y": [
          0.0436830974099957,
          -0.031090916378976367,
          0.05301689852373076,
          -0.08881900657796703,
          0.22780257049389568,
          -0.0946955648160726,
          0.22773190761305243,
          -0.030018073921021796,
          0.19021927633130992,
          -0.02333676861893219,
          0.01271447278430301,
          -0.08167411269646097,
          0.020517291452759705,
          -0.024476452929058493,
          -0.09862968604705412,
          0.1313464909979303,
          0.05107649386947366,
          0.07372980786147121,
          0.03612181457753298,
          0.18611980069111328
         ],
         "yaxis": "y"
        },
        {
         "hovertemplate": "clust_pca=2<br>x1_pca=%{x}<br>x2_pca=%{y}<extra></extra>",
         "legendgroup": "2",
         "marker": {
          "color": "#FEAF16",
          "symbol": "circle"
         },
         "mode": "markers",
         "name": "2",
         "orientation": "v",
         "showlegend": true,
         "type": "scatter",
         "x": [
          0.23998863340052784,
          0.24492058911923348,
          0.24473866400488672,
          0.2491428470569094,
          0.25015640493586055,
          0.27320263162477515,
          0.2373434955345441,
          0.2578864603165778,
          0.24118296636905603,
          0.24357705250756043,
          0.2489535848394078,
          0.2655151157083296,
          0.2387659077182304
         ],
         "xaxis": "x",
         "y": [
          -0.18518479425990356,
          -0.1616294322175688,
          -0.16572384226706,
          -0.21423614846964456,
          -0.21154217356160135,
          0.14409250293956427,
          -0.14913283849654155,
          -0.06423843618998121,
          -0.1948586995164522,
          -0.1729535349859914,
          -0.2190454620032924,
          0.060942420668789875,
          -0.1578391550905434
         ],
         "yaxis": "y"
        },
        {
         "hovertemplate": "clust_pca=7<br>x1_pca=%{x}<br>x2_pca=%{y}<extra></extra>",
         "legendgroup": "7",
         "marker": {
          "color": "#F8A19F",
          "symbol": "circle"
         },
         "mode": "markers",
         "name": "7",
         "orientation": "v",
         "showlegend": true,
         "type": "scatter",
         "x": [
          0.4000651870978187,
          0.39921159905902,
          0.3775028404650214,
          0.38303524659731664,
          0.43947149529744434,
          0.41906969430444135,
          0.3959894743030237,
          0.3906177312119118,
          0.39989130304257337,
          0.39763047220381476,
          0.38883738019239306,
          0.37629384629026763,
          0.4474948740630013,
          0.42646655628506014,
          0.36796198439955163,
          0.3669334477282911,
          0.41535589209408497,
          0.3701059831600082,
          0.43958345559299833,
          0.4167894213733931
         ],
         "xaxis": "x",
         "y": [
          0.23271216818381307,
          0.2948177249178932,
          0.4376004973967752,
          0.23954338966041286,
          0.4523811072531017,
          0.3860539195902343,
          0.2529248216557176,
          0.19379136659888918,
          0.21483045967864217,
          0.2624998567453168,
          0.22165053341512575,
          0.14055114862821017,
          0.49804926893059703,
          0.4195476072822508,
          0.24909299883926717,
          0.42535414867560745,
          0.3599611356454526,
          0.2525172588949016,
          0.44498804029181865,
          0.37720620784711184
         ],
         "yaxis": "y"
        },
        {
         "hovertemplate": "clust_pca=4<br>x1_pca=%{x}<br>x2_pca=%{y}<extra></extra>",
         "legendgroup": "4",
         "marker": {
          "color": "#90AD1C",
          "symbol": "circle"
         },
         "mode": "markers",
         "name": "4",
         "orientation": "v",
         "showlegend": true,
         "type": "scatter",
         "x": [
          -0.03081548607088416,
          -0.09459800397487628,
          -0.07235030155819214,
          -0.025986604680319485,
          -0.03935615094484038,
          -0.04369161164408906,
          -0.032038961944868376,
          -0.0611002030080417,
          -0.02029874161233635,
          -0.02986570180660055,
          -0.034285988453801534,
          -0.02474045149170471,
          -0.1257086768682323,
          -0.039807548259936695,
          -0.029291245542828512,
          -0.018010978078320795,
          -0.10824190594824534,
          -0.0759053543348136,
          -0.03103619688114948,
          -0.026698796863061973,
          -0.032967722181319825,
          -0.027785037251538504,
          -0.03759531195211012,
          -0.0301811925616,
          -0.03224157829499801,
          -0.02520802757983227,
          -0.012784110744759962,
          -0.029502407961282118,
          -0.031909351481994475,
          -0.12870415186837264,
          -0.03257006779708364,
          -0.030299804440940926,
          -0.04329821855541877,
          -0.10450874756940984,
          -0.03150498302836898,
          -0.030175553382961965,
          -0.07281254563370393,
          -0.03479978934854373,
          -0.10511183642270462,
          -0.033400012969763006
         ],
         "xaxis": "x",
         "y": [
          -0.2970727769463409,
          -0.12439309874258989,
          -0.22000270708565448,
          -0.3568907198966081,
          -0.30583724285636954,
          -0.3494218376984481,
          -0.3703733683922994,
          -0.2246810593251487,
          -0.3584101794744059,
          -0.3832124621400561,
          -0.34137955735528497,
          -0.35202838756730964,
          -0.23300780242074273,
          -0.2582703425707761,
          -0.3687503447157364,
          -0.2986062106438997,
          -0.16558646197466792,
          -0.22709813041108115,
          -0.3699121243389295,
          -0.36248972301578647,
          -0.3562550964870643,
          -0.3328343698222088,
          -0.3776102191503312,
          -0.33556522168441943,
          -0.34879923409927366,
          -0.38000960440695736,
          -0.3639420312655023,
          -0.38172983072687877,
          -0.32276429035301807,
          -0.23796120448627522,
          -0.33841332919996187,
          -0.3609635373552336,
          -0.1437378974606361,
          -0.17606508134722132,
          -0.36685019718646766,
          -0.3741777025439731,
          -0.23410593185971143,
          -0.379074793871307,
          -0.12751498601008018,
          -0.32808073996325005
         ],
         "yaxis": "y"
        },
        {
         "hovertemplate": "clust_pca=9<br>x1_pca=%{x}<br>x2_pca=%{y}<extra></extra>",
         "legendgroup": "9",
         "marker": {
          "color": "#F6222E",
          "symbol": "circle"
         },
         "mode": "markers",
         "name": "9",
         "orientation": "v",
         "showlegend": true,
         "type": "scatter",
         "x": [
          -0.15038701398897086,
          -0.16450609031875452
         ],
         "xaxis": "x",
         "y": [
          0.05067063306269707,
          0.03786647020358212
         ],
         "yaxis": "y"
        },
        {
         "hovertemplate": "clust_pca=6<br>x1_pca=%{x}<br>x2_pca=%{y}<extra></extra>",
         "legendgroup": "6",
         "marker": {
          "color": "#1CFFCE",
          "symbol": "circle"
         },
         "mode": "markers",
         "name": "6",
         "orientation": "v",
         "showlegend": true,
         "type": "scatter",
         "x": [
          0.2688753131866823,
          0.2707480962961251,
          0.27035228473612505,
          0.26816637146817834
         ],
         "xaxis": "x",
         "y": [
          0.12145238635370166,
          0.1262149825505305,
          0.1281533578733966,
          0.12182890696507082
         ],
         "yaxis": "y"
        },
        {
         "hovertemplate": "clust_pca=8<br>x1_pca=%{x}<br>x2_pca=%{y}<extra></extra>",
         "legendgroup": "8",
         "marker": {
          "color": "#2ED9FF",
          "symbol": "circle"
         },
         "mode": "markers",
         "name": "8",
         "orientation": "v",
         "showlegend": true,
         "type": "scatter",
         "x": [
          -0.006900519826812575,
          -0.0015742862020990637,
          -0.0035001064967015976,
          -0.014788594107929222,
          -0.13318682371169188,
          -0.005039708805526986,
          -0.1439955026013288,
          -0.019727429453926186,
          -0.007932166872452968
         ],
         "xaxis": "x",
         "y": [
          0.3544970322233218,
          0.31124839978158153,
          0.28050003806539664,
          0.33567791271463804,
          0.283406282845231,
          0.3073555675482336,
          0.26067010262899354,
          0.2892626549229094,
          0.30111748630404667
         ],
         "yaxis": "y"
        }
       ],
       "layout": {
        "legend": {
         "title": {
          "text": "clust_pca"
         },
         "tracegroupgap": 0
        },
        "margin": {
         "t": 60
        },
        "template": {
         "data": {
          "bar": [
           {
            "error_x": {
             "color": "#2a3f5f"
            },
            "error_y": {
             "color": "#2a3f5f"
            },
            "marker": {
             "line": {
              "color": "#E5ECF6",
              "width": 0.5
             },
             "pattern": {
              "fillmode": "overlay",
              "size": 10,
              "solidity": 0.2
             }
            },
            "type": "bar"
           }
          ],
          "barpolar": [
           {
            "marker": {
             "line": {
              "color": "#E5ECF6",
              "width": 0.5
             },
             "pattern": {
              "fillmode": "overlay",
              "size": 10,
              "solidity": 0.2
             }
            },
            "type": "barpolar"
           }
          ],
          "carpet": [
           {
            "aaxis": {
             "endlinecolor": "#2a3f5f",
             "gridcolor": "white",
             "linecolor": "white",
             "minorgridcolor": "white",
             "startlinecolor": "#2a3f5f"
            },
            "baxis": {
             "endlinecolor": "#2a3f5f",
             "gridcolor": "white",
             "linecolor": "white",
             "minorgridcolor": "white",
             "startlinecolor": "#2a3f5f"
            },
            "type": "carpet"
           }
          ],
          "choropleth": [
           {
            "colorbar": {
             "outlinewidth": 0,
             "ticks": ""
            },
            "type": "choropleth"
           }
          ],
          "contour": [
           {
            "colorbar": {
             "outlinewidth": 0,
             "ticks": ""
            },
            "colorscale": [
             [
              0,
              "#0d0887"
             ],
             [
              0.1111111111111111,
              "#46039f"
             ],
             [
              0.2222222222222222,
              "#7201a8"
             ],
             [
              0.3333333333333333,
              "#9c179e"
             ],
             [
              0.4444444444444444,
              "#bd3786"
             ],
             [
              0.5555555555555556,
              "#d8576b"
             ],
             [
              0.6666666666666666,
              "#ed7953"
             ],
             [
              0.7777777777777778,
              "#fb9f3a"
             ],
             [
              0.8888888888888888,
              "#fdca26"
             ],
             [
              1,
              "#f0f921"
             ]
            ],
            "type": "contour"
           }
          ],
          "contourcarpet": [
           {
            "colorbar": {
             "outlinewidth": 0,
             "ticks": ""
            },
            "type": "contourcarpet"
           }
          ],
          "heatmap": [
           {
            "colorbar": {
             "outlinewidth": 0,
             "ticks": ""
            },
            "colorscale": [
             [
              0,
              "#0d0887"
             ],
             [
              0.1111111111111111,
              "#46039f"
             ],
             [
              0.2222222222222222,
              "#7201a8"
             ],
             [
              0.3333333333333333,
              "#9c179e"
             ],
             [
              0.4444444444444444,
              "#bd3786"
             ],
             [
              0.5555555555555556,
              "#d8576b"
             ],
             [
              0.6666666666666666,
              "#ed7953"
             ],
             [
              0.7777777777777778,
              "#fb9f3a"
             ],
             [
              0.8888888888888888,
              "#fdca26"
             ],
             [
              1,
              "#f0f921"
             ]
            ],
            "type": "heatmap"
           }
          ],
          "heatmapgl": [
           {
            "colorbar": {
             "outlinewidth": 0,
             "ticks": ""
            },
            "colorscale": [
             [
              0,
              "#0d0887"
             ],
             [
              0.1111111111111111,
              "#46039f"
             ],
             [
              0.2222222222222222,
              "#7201a8"
             ],
             [
              0.3333333333333333,
              "#9c179e"
             ],
             [
              0.4444444444444444,
              "#bd3786"
             ],
             [
              0.5555555555555556,
              "#d8576b"
             ],
             [
              0.6666666666666666,
              "#ed7953"
             ],
             [
              0.7777777777777778,
              "#fb9f3a"
             ],
             [
              0.8888888888888888,
              "#fdca26"
             ],
             [
              1,
              "#f0f921"
             ]
            ],
            "type": "heatmapgl"
           }
          ],
          "histogram": [
           {
            "marker": {
             "pattern": {
              "fillmode": "overlay",
              "size": 10,
              "solidity": 0.2
             }
            },
            "type": "histogram"
           }
          ],
          "histogram2d": [
           {
            "colorbar": {
             "outlinewidth": 0,
             "ticks": ""
            },
            "colorscale": [
             [
              0,
              "#0d0887"
             ],
             [
              0.1111111111111111,
              "#46039f"
             ],
             [
              0.2222222222222222,
              "#7201a8"
             ],
             [
              0.3333333333333333,
              "#9c179e"
             ],
             [
              0.4444444444444444,
              "#bd3786"
             ],
             [
              0.5555555555555556,
              "#d8576b"
             ],
             [
              0.6666666666666666,
              "#ed7953"
             ],
             [
              0.7777777777777778,
              "#fb9f3a"
             ],
             [
              0.8888888888888888,
              "#fdca26"
             ],
             [
              1,
              "#f0f921"
             ]
            ],
            "type": "histogram2d"
           }
          ],
          "histogram2dcontour": [
           {
            "colorbar": {
             "outlinewidth": 0,
             "ticks": ""
            },
            "colorscale": [
             [
              0,
              "#0d0887"
             ],
             [
              0.1111111111111111,
              "#46039f"
             ],
             [
              0.2222222222222222,
              "#7201a8"
             ],
             [
              0.3333333333333333,
              "#9c179e"
             ],
             [
              0.4444444444444444,
              "#bd3786"
             ],
             [
              0.5555555555555556,
              "#d8576b"
             ],
             [
              0.6666666666666666,
              "#ed7953"
             ],
             [
              0.7777777777777778,
              "#fb9f3a"
             ],
             [
              0.8888888888888888,
              "#fdca26"
             ],
             [
              1,
              "#f0f921"
             ]
            ],
            "type": "histogram2dcontour"
           }
          ],
          "mesh3d": [
           {
            "colorbar": {
             "outlinewidth": 0,
             "ticks": ""
            },
            "type": "mesh3d"
           }
          ],
          "parcoords": [
           {
            "line": {
             "colorbar": {
              "outlinewidth": 0,
              "ticks": ""
             }
            },
            "type": "parcoords"
           }
          ],
          "pie": [
           {
            "automargin": true,
            "type": "pie"
           }
          ],
          "scatter": [
           {
            "fillpattern": {
             "fillmode": "overlay",
             "size": 10,
             "solidity": 0.2
            },
            "type": "scatter"
           }
          ],
          "scatter3d": [
           {
            "line": {
             "colorbar": {
              "outlinewidth": 0,
              "ticks": ""
             }
            },
            "marker": {
             "colorbar": {
              "outlinewidth": 0,
              "ticks": ""
             }
            },
            "type": "scatter3d"
           }
          ],
          "scattercarpet": [
           {
            "marker": {
             "colorbar": {
              "outlinewidth": 0,
              "ticks": ""
             }
            },
            "type": "scattercarpet"
           }
          ],
          "scattergeo": [
           {
            "marker": {
             "colorbar": {
              "outlinewidth": 0,
              "ticks": ""
             }
            },
            "type": "scattergeo"
           }
          ],
          "scattergl": [
           {
            "marker": {
             "colorbar": {
              "outlinewidth": 0,
              "ticks": ""
             }
            },
            "type": "scattergl"
           }
          ],
          "scattermapbox": [
           {
            "marker": {
             "colorbar": {
              "outlinewidth": 0,
              "ticks": ""
             }
            },
            "type": "scattermapbox"
           }
          ],
          "scatterpolar": [
           {
            "marker": {
             "colorbar": {
              "outlinewidth": 0,
              "ticks": ""
             }
            },
            "type": "scatterpolar"
           }
          ],
          "scatterpolargl": [
           {
            "marker": {
             "colorbar": {
              "outlinewidth": 0,
              "ticks": ""
             }
            },
            "type": "scatterpolargl"
           }
          ],
          "scatterternary": [
           {
            "marker": {
             "colorbar": {
              "outlinewidth": 0,
              "ticks": ""
             }
            },
            "type": "scatterternary"
           }
          ],
          "surface": [
           {
            "colorbar": {
             "outlinewidth": 0,
             "ticks": ""
            },
            "colorscale": [
             [
              0,
              "#0d0887"
             ],
             [
              0.1111111111111111,
              "#46039f"
             ],
             [
              0.2222222222222222,
              "#7201a8"
             ],
             [
              0.3333333333333333,
              "#9c179e"
             ],
             [
              0.4444444444444444,
              "#bd3786"
             ],
             [
              0.5555555555555556,
              "#d8576b"
             ],
             [
              0.6666666666666666,
              "#ed7953"
             ],
             [
              0.7777777777777778,
              "#fb9f3a"
             ],
             [
              0.8888888888888888,
              "#fdca26"
             ],
             [
              1,
              "#f0f921"
             ]
            ],
            "type": "surface"
           }
          ],
          "table": [
           {
            "cells": {
             "fill": {
              "color": "#EBF0F8"
             },
             "line": {
              "color": "white"
             }
            },
            "header": {
             "fill": {
              "color": "#C8D4E3"
             },
             "line": {
              "color": "white"
             }
            },
            "type": "table"
           }
          ]
         },
         "layout": {
          "annotationdefaults": {
           "arrowcolor": "#2a3f5f",
           "arrowhead": 0,
           "arrowwidth": 1
          },
          "autotypenumbers": "strict",
          "coloraxis": {
           "colorbar": {
            "outlinewidth": 0,
            "ticks": ""
           }
          },
          "colorscale": {
           "diverging": [
            [
             0,
             "#8e0152"
            ],
            [
             0.1,
             "#c51b7d"
            ],
            [
             0.2,
             "#de77ae"
            ],
            [
             0.3,
             "#f1b6da"
            ],
            [
             0.4,
             "#fde0ef"
            ],
            [
             0.5,
             "#f7f7f7"
            ],
            [
             0.6,
             "#e6f5d0"
            ],
            [
             0.7,
             "#b8e186"
            ],
            [
             0.8,
             "#7fbc41"
            ],
            [
             0.9,
             "#4d9221"
            ],
            [
             1,
             "#276419"
            ]
           ],
           "sequential": [
            [
             0,
             "#0d0887"
            ],
            [
             0.1111111111111111,
             "#46039f"
            ],
            [
             0.2222222222222222,
             "#7201a8"
            ],
            [
             0.3333333333333333,
             "#9c179e"
            ],
            [
             0.4444444444444444,
             "#bd3786"
            ],
            [
             0.5555555555555556,
             "#d8576b"
            ],
            [
             0.6666666666666666,
             "#ed7953"
            ],
            [
             0.7777777777777778,
             "#fb9f3a"
            ],
            [
             0.8888888888888888,
             "#fdca26"
            ],
            [
             1,
             "#f0f921"
            ]
           ],
           "sequentialminus": [
            [
             0,
             "#0d0887"
            ],
            [
             0.1111111111111111,
             "#46039f"
            ],
            [
             0.2222222222222222,
             "#7201a8"
            ],
            [
             0.3333333333333333,
             "#9c179e"
            ],
            [
             0.4444444444444444,
             "#bd3786"
            ],
            [
             0.5555555555555556,
             "#d8576b"
            ],
            [
             0.6666666666666666,
             "#ed7953"
            ],
            [
             0.7777777777777778,
             "#fb9f3a"
            ],
            [
             0.8888888888888888,
             "#fdca26"
            ],
            [
             1,
             "#f0f921"
            ]
           ]
          },
          "colorway": [
           "#636efa",
           "#EF553B",
           "#00cc96",
           "#ab63fa",
           "#FFA15A",
           "#19d3f3",
           "#FF6692",
           "#B6E880",
           "#FF97FF",
           "#FECB52"
          ],
          "font": {
           "color": "#2a3f5f"
          },
          "geo": {
           "bgcolor": "white",
           "lakecolor": "white",
           "landcolor": "#E5ECF6",
           "showlakes": true,
           "showland": true,
           "subunitcolor": "white"
          },
          "hoverlabel": {
           "align": "left"
          },
          "hovermode": "closest",
          "mapbox": {
           "style": "light"
          },
          "paper_bgcolor": "white",
          "plot_bgcolor": "#E5ECF6",
          "polar": {
           "angularaxis": {
            "gridcolor": "white",
            "linecolor": "white",
            "ticks": ""
           },
           "bgcolor": "#E5ECF6",
           "radialaxis": {
            "gridcolor": "white",
            "linecolor": "white",
            "ticks": ""
           }
          },
          "scene": {
           "xaxis": {
            "backgroundcolor": "#E5ECF6",
            "gridcolor": "white",
            "gridwidth": 2,
            "linecolor": "white",
            "showbackground": true,
            "ticks": "",
            "zerolinecolor": "white"
           },
           "yaxis": {
            "backgroundcolor": "#E5ECF6",
            "gridcolor": "white",
            "gridwidth": 2,
            "linecolor": "white",
            "showbackground": true,
            "ticks": "",
            "zerolinecolor": "white"
           },
           "zaxis": {
            "backgroundcolor": "#E5ECF6",
            "gridcolor": "white",
            "gridwidth": 2,
            "linecolor": "white",
            "showbackground": true,
            "ticks": "",
            "zerolinecolor": "white"
           }
          },
          "shapedefaults": {
           "line": {
            "color": "#2a3f5f"
           }
          },
          "ternary": {
           "aaxis": {
            "gridcolor": "white",
            "linecolor": "white",
            "ticks": ""
           },
           "baxis": {
            "gridcolor": "white",
            "linecolor": "white",
            "ticks": ""
           },
           "bgcolor": "#E5ECF6",
           "caxis": {
            "gridcolor": "white",
            "linecolor": "white",
            "ticks": ""
           }
          },
          "title": {
           "x": 0.05
          },
          "xaxis": {
           "automargin": true,
           "gridcolor": "white",
           "linecolor": "white",
           "ticks": "",
           "title": {
            "standoff": 15
           },
           "zerolinecolor": "white",
           "zerolinewidth": 2
          },
          "yaxis": {
           "automargin": true,
           "gridcolor": "white",
           "linecolor": "white",
           "ticks": "",
           "title": {
            "standoff": 15
           },
           "zerolinecolor": "white",
           "zerolinewidth": 2
          }
         }
        },
        "xaxis": {
         "anchor": "y",
         "domain": [
          0,
          1
         ],
         "title": {
          "text": "x1_pca"
         }
        },
        "yaxis": {
         "anchor": "x",
         "domain": [
          0,
          1
         ],
         "scaleanchor": "x",
         "scaleratio": 1,
         "title": {
          "text": "x2_pca"
         }
        }
       }
      }
     },
     "metadata": {},
     "output_type": "display_data"
    }
   ],
   "source": [
    "plt = px.scatter(df_embedding, x = 'x1_pca', y = 'x2_pca',\n",
    "                    color = df_embedding[\"clust_pca\"],\n",
    "                    color_discrete_sequence = px.colors.qualitative.Alphabet,\n",
    "                    color_discrete_map=phosphatase_cols,\n",
    "                    #color_continuous_scale = \"Turbo\",\n",
    "                    ##labels={'color': labels}, \n",
    "                    #hover_name=labels_name,\n",
    "                    #hover_data=df.columns[2:],\n",
    "                    #height = 800,\n",
    "                    #title = title,\n",
    "                )\n",
    "\n",
    "\n",
    "plt.update_yaxes(scaleanchor = \"x\", scaleratio = 1)\n",
    "plt.show()"
   ]
  },
  {
   "cell_type": "code",
   "execution_count": 59,
   "id": "14d20d2c",
   "metadata": {},
   "outputs": [
    {
     "data": {
      "application/vnd.plotly.v1+json": {
       "config": {
        "plotlyServerURL": "https://plot.ly"
       },
       "data": [
        {
         "hovertemplate": "label=AP<br>x1_pca=%{x}<br>x2_pca=%{y}<extra></extra>",
         "legendgroup": "AP",
         "marker": {
          "color": "#C4451C",
          "symbol": "circle"
         },
         "mode": "markers",
         "name": "AP",
         "orientation": "v",
         "showlegend": true,
         "type": "scatter",
         "x": [
          0.2343632342402308,
          -0.37178105962159447,
          -0.16041070448632083,
          -0.16184246144996384
         ],
         "xaxis": "x",
         "y": [
          -0.001157083549768056,
          0.1541742963390788,
          0.04372744636377765,
          0.019322624397187158
         ],
         "yaxis": "y"
        },
        {
         "hovertemplate": "label=CC1<br>x1_pca=%{x}<br>x2_pca=%{y}<extra></extra>",
         "legendgroup": "CC1",
         "marker": {
          "color": "#DEA0FD",
          "symbol": "circle"
         },
         "mode": "markers",
         "name": "CC1",
         "orientation": "v",
         "showlegend": true,
         "type": "scatter",
         "x": [
          -0.1637473009160131,
          0.21551180945605317,
          0.23998863340052784,
          0.2774211503061684,
          -0.15806928908387433,
          0.4000651870978187,
          -0.03081548607088416,
          -0.09459800397487628,
          -0.16202140152456,
          -0.07693028069212429,
          0.2638740047707418,
          -0.16332412425112916,
          0.39921159905902,
          -0.367126113054171,
          -0.36702806331620186,
          0.24492058911923348,
          -0.15038701398897086,
          -0.36028200606967176,
          -0.3734854458754759,
          0.24473866400488672,
          -0.3501576299497906,
          -0.36093598714945063,
          0.2688753131866823,
          0.32929821131086845,
          0.2603770662357054,
          0.21836172351895095,
          -0.07235030155819214,
          -0.3646343327978863,
          0.3775028404650214,
          -0.3729559019814361,
          -0.3734072796957107,
          0.38303524659731664,
          -0.36408056361640795,
          -0.37142155166857976,
          -0.025986604680319485,
          0.43947149529744434,
          -0.03935615094484038,
          0.41906969430444135,
          0.25606879274587185,
          -0.11376499248590304,
          0.21987531751893674,
          -0.36784528342733486,
          -0.04369161164408906,
          -0.3656327228352562,
          -0.032038961944868376,
          -0.06650298027079245,
          -0.371227180296006,
          -0.37380873204442944,
          -0.0611002030080417,
          -0.3690059006326476,
          0.3959894743030237,
          -0.02029874161233635,
          -0.006900519826812575,
          -0.16993309862749112,
          0.2491428470569094,
          -0.02986570180660055,
          -0.0015742862020990637,
          -0.16409662140943168,
          0.24604096305463957,
          -0.3747199984673947,
          0.24676347775358873,
          0.22083172576068702,
          -0.14128289729512175,
          -0.36988555654233674,
          -0.3646180414724745,
          0.2724305115334574,
          -0.3602322972382545,
          -0.36216117127015035,
          0.16234477672390316,
          0.2559321818040165,
          0.32190431974378486,
          -0.3522959699249535,
          0.29905059927343824,
          -0.3615864165571715,
          -0.3683143187083819,
          -0.35691984871871435,
          -0.37041064598224177,
          -0.3646810062918772,
          -0.0035001064967015976,
          -0.034285988453801534,
          -0.02474045149170471,
          -0.1257086768682323,
          -0.16207721753902657,
          -0.36329375675190034,
          -0.3602195332981733,
          -0.1643508382813422,
          -0.36725761241115257,
          0.2707480962961251,
          0.23056901860948315,
          -0.039807548259936695,
          -0.1606086108531197,
          0.11562643511501976,
          -0.014788594107929222,
          0.3906177312119118,
          -0.13318682371169188,
          -0.005039708805526986,
          0.27035228473612505,
          0.2652738329030564,
          -0.029291245542828512,
          0.25015640493586055,
          0.39989130304257337,
          0.282993585640406,
          -0.018010978078320795,
          0.21007238598261016,
          -0.10824190594824534,
          0.39763047220381476,
          -0.377288461910782,
          -0.0759053543348136,
          -0.36056251698968217,
          -0.03103619688114948,
          -0.37084272284602593,
          -0.12928213028572497,
          0.32602848486828734,
          -0.1439955026013288,
          0.21950347693157418,
          -0.026698796863061973,
          0.19608938803360917,
          0.26845941449166455,
          0.17766252272557184,
          0.27320263162477515,
          -0.032967722181319825
         ],
         "xaxis": "x",
         "y": [
          0.021070180579484763,
          0.0436830974099957,
          -0.18518479425990356,
          -0.031090916378976367,
          -0.1227060170277096,
          0.23271216818381307,
          -0.2970727769463409,
          -0.12439309874258989,
          0.017309315096436125,
          -0.2215573397093682,
          -0.20682478001362076,
          0.10996836428457493,
          0.2948177249178932,
          0.14450144033032478,
          0.13006941102589528,
          -0.1616294322175688,
          0.05067063306269707,
          0.13679974771002626,
          0.11935696705618228,
          -0.16572384226706,
          0.14988141818556547,
          0.1395515717371606,
          0.12145238635370166,
          0.058687653103698785,
          0.05301689852373076,
          -0.08881900657796703,
          -0.22000270708565448,
          0.1115016461227072,
          0.4376004973967752,
          0.11635926712007155,
          0.1479899915413292,
          0.23954338966041286,
          0.08238358423306924,
          0.15228343860908752,
          -0.3568907198966081,
          0.4523811072531017,
          -0.30583724285636954,
          0.3860539195902343,
          0.22780257049389568,
          0.151652675930132,
          -0.0946955648160726,
          0.08733383864462883,
          -0.3494218376984481,
          0.15396171951217313,
          -0.3703733683922994,
          -0.030586299196914,
          0.1779243902995352,
          0.12174898177476973,
          -0.2246810593251487,
          0.09964204618937778,
          0.2529248216557176,
          -0.3584101794744059,
          0.3544970322233218,
          0.018500010011229053,
          -0.21423614846964456,
          -0.3832124621400561,
          0.31124839978158153,
          0.011428743554754858,
          -0.10986632448648571,
          0.12879934095037449,
          0.22773190761305243,
          -0.04301441142627427,
          0.015722056154266143,
          0.10194325019791105,
          0.13098725019429225,
          -0.030018073921021796,
          0.1393652686246788,
          0.10615942442941437,
          -0.12981449188896968,
          -0.25723270337462023,
          0.023014804440371087,
          0.1425093453188382,
          0.10281368322073421,
          0.11698826412678978,
          0.08896047559046999,
          0.09448882434832635,
          0.09264920048293905,
          0.07943012606360647,
          0.28050003806539664,
          -0.34137955735528497,
          -0.35202838756730964,
          -0.23300780242074273,
          0.0922276061979301,
          0.13854017934355337,
          0.14063715537655963,
          0.014372047123886898,
          0.10273260271273169,
          0.1262149825505305,
          0.19021927633130992,
          -0.2582703425707761,
          -0.07495130209758741,
          -0.17359356504970258,
          0.33567791271463804,
          0.19379136659888918,
          0.283406282845231,
          0.3073555675482336,
          0.1281533578733966,
          -0.02333676861893219,
          -0.3687503447157364,
          -0.21154217356160135,
          0.21483045967864217,
          -0.2013162534945945,
          -0.2986062106438997,
          0.01271447278430301,
          -0.16558646197466792,
          0.2624998567453168,
          0.1209758272319824,
          -0.22709813041108115,
          0.15857720930035338,
          -0.3699121243389295,
          0.09333733453929934,
          0.12097691849368201,
          0.044436176625140385,
          0.26067010262899354,
          -0.08167411269646097,
          -0.36248972301578647,
          0.09000114173937353,
          0.020517291452759705,
          0.03142896840105298,
          0.14409250293956427,
          -0.3562550964870643
         ],
         "yaxis": "y"
        },
        {
         "hovertemplate": "label=CC2<br>x1_pca=%{x}<br>x2_pca=%{y}<extra></extra>",
         "legendgroup": "CC2",
         "marker": {
          "color": "#FE00FA",
          "symbol": "circle"
         },
         "mode": "markers",
         "name": "CC2",
         "orientation": "v",
         "showlegend": true,
         "type": "scatter",
         "x": [
          -0.027785037251538504,
          0.10722811776369408
         ],
         "xaxis": "x",
         "y": [
          -0.3328343698222088,
          -0.17285258896394343
         ],
         "yaxis": "y"
        },
        {
         "hovertemplate": "label=CC3<br>x1_pca=%{x}<br>x2_pca=%{y}<extra></extra>",
         "legendgroup": "CC3",
         "marker": {
          "color": "#325A9B",
          "symbol": "circle"
         },
         "mode": "markers",
         "name": "CC3",
         "orientation": "v",
         "showlegend": true,
         "type": "scatter",
         "x": [
          0.26997470445149957,
          0.38883738019239306,
          -0.37134459345526344
         ],
         "xaxis": "x",
         "y": [
          -0.024476452929058493,
          0.22165053341512575,
          0.11521965232720342
         ],
         "yaxis": "y"
        },
        {
         "hovertemplate": "label=HAD<br>x1_pca=%{x}<br>x2_pca=%{y}<extra></extra>",
         "legendgroup": "HAD",
         "marker": {
          "color": "#FEAF16",
          "symbol": "circle"
         },
         "mode": "markers",
         "name": "HAD",
         "orientation": "v",
         "showlegend": true,
         "type": "scatter",
         "x": [
          0.2373434955345441,
          -0.03759531195211012,
          -0.3748866117624096,
          0.279616167516653,
          -0.0301811925616,
          -0.3673282382252244,
          -0.36822429529130457,
          0.2578864603165778,
          -0.3717876111404386,
          -0.14199111426462,
          -0.3683379355211994,
          0.37629384629026763,
          0.2619368818603242,
          -0.03224157829499801,
          -0.019727429453926186,
          -0.007932166872452968,
          0.24781793405708472
         ],
         "xaxis": "x",
         "y": [
          -0.14913283849654155,
          -0.3776102191503312,
          0.15345582786902046,
          -0.20484283671917758,
          -0.33556522168441943,
          0.09012073717133462,
          0.10734862354420154,
          -0.06423843618998121,
          0.13725341561728457,
          0.03121827319020926,
          0.14623428839202907,
          0.14055114862821017,
          -0.26656295169534233,
          -0.34879923409927366,
          0.2892626549229094,
          0.30111748630404667,
          -0.10115106910021308
         ],
         "yaxis": "y"
        },
        {
         "hovertemplate": "label=HP<br>x1_pca=%{x}<br>x2_pca=%{y}<extra></extra>",
         "legendgroup": "HP",
         "marker": {
          "color": "#F8A19F",
          "symbol": "circle"
         },
         "mode": "markers",
         "name": "HP",
         "orientation": "v",
         "showlegend": true,
         "type": "scatter",
         "x": [
          -0.16450609031875452,
          0.4474948740630013,
          0.22332078666438873,
          0.42646655628506014,
          0.36796198439955163,
          -0.02520802757983227,
          0.3669334477282911,
          0.22443118253650776,
          0.41535589209408497,
          -0.36355918529335235,
          -0.3693845294138837,
          -0.012784110744759962,
          -0.029502407961282118,
          0.3701059831600082,
          -0.031909351481994475,
          0.24118296636905603,
          0.43958345559299833,
          -0.12870415186837264,
          0.3312732718044425,
          -0.03257006779708364
         ],
         "xaxis": "x",
         "y": [
          0.03786647020358212,
          0.49804926893059703,
          -0.09862968604705412,
          0.4195476072822508,
          0.24909299883926717,
          -0.38000960440695736,
          0.42535414867560745,
          0.1313464909979303,
          0.3599611356454526,
          0.07844365215488579,
          0.1297384635254298,
          -0.3639420312655023,
          -0.38172983072687877,
          0.2525172588949016,
          -0.32276429035301807,
          -0.1948586995164522,
          0.44498804029181865,
          -0.23796120448627522,
          0.04927195373550809,
          -0.33841332919996187
         ],
         "yaxis": "y"
        },
        {
         "hovertemplate": "label=PHP<br>x1_pca=%{x}<br>x2_pca=%{y}<extra></extra>",
         "legendgroup": "PHP",
         "marker": {
          "color": "#90AD1C",
          "symbol": "circle"
         },
         "mode": "markers",
         "name": "PHP",
         "orientation": "v",
         "showlegend": true,
         "type": "scatter",
         "x": [
          0.2720022853270897
         ],
         "xaxis": "x",
         "y": [
          0.05107649386947366
         ],
         "yaxis": "y"
        },
        {
         "hovertemplate": "label=PPM<br>x1_pca=%{x}<br>x2_pca=%{y}<extra></extra>",
         "legendgroup": "PPM",
         "marker": {
          "color": "#F6222E",
          "symbol": "circle"
         },
         "mode": "markers",
         "name": "PPM",
         "orientation": "v",
         "showlegend": true,
         "type": "scatter",
         "x": [
          -0.3745618266279611,
          -0.030299804440940926,
          0.24357705250756043,
          0.25825373001162466,
          0.4167894213733931,
          0.2577739408150885,
          -0.04329821855541877,
          -0.10450874756940984,
          0.26816637146817834,
          -0.17673928198737235,
          -0.03150498302836898,
          0.2489535848394078,
          -0.030175553382961965,
          0.22380844530333868,
          -0.08730396264341084,
          0.2694678321268582,
          -0.16631258763527762,
          -0.3655025576417094,
          0.2521254794724468,
          -0.368934030448934
         ],
         "xaxis": "x",
         "y": [
          0.14076680707381656,
          -0.3609635373552336,
          -0.1729535349859914,
          -0.28176781451300686,
          0.37720620784711184,
          -0.07219168831118235,
          -0.1437378974606361,
          -0.17606508134722132,
          0.12182890696507082,
          -0.12311196797899004,
          -0.36685019718646766,
          -0.2190454620032924,
          -0.3741777025439731,
          0.07372980786147121,
          -0.19888652106355448,
          0.03612181457753298,
          0.029220225293846366,
          0.11651385946191767,
          -0.2927120919021069,
          0.11711822187571944
         ],
         "yaxis": "y"
        },
        {
         "hovertemplate": "label=PPPL<br>x1_pca=%{x}<br>x2_pca=%{y}<extra></extra>",
         "legendgroup": "PPPL",
         "marker": {
          "color": "#1CFFCE",
          "symbol": "circle"
         },
         "mode": "markers",
         "name": "PPPL",
         "orientation": "v",
         "showlegend": true,
         "type": "scatter",
         "x": [
          0.26164274661919773,
          -0.3564107790160075,
          0.24511437696260943,
          0.20904627621402103,
          -0.35767749346314226,
          -0.07281254563370393,
          -0.3673491462614032,
          -0.03479978934854373,
          0.12062266226979644,
          -0.10511183642270462,
          -0.033400012969763006,
          0.2501520298013921,
          -0.13425713030980202,
          0.2655151157083296,
          0.2387659077182304
         ],
         "xaxis": "x",
         "y": [
          -0.0627828723593974,
          0.12703332160687514,
          0.18611980069111328,
          -0.1190359200445981,
          0.21343379205362656,
          -0.23410593185971143,
          0.09650014033921671,
          -0.379074793871307,
          -0.14547606329035012,
          -0.12751498601008018,
          -0.32808073996325005,
          -0.2927711890812621,
          0.15065537811456867,
          0.060942420668789875,
          -0.1578391550905434
         ],
         "yaxis": "y"
        },
        {
         "hovertemplate": "label=RTR1<br>x1_pca=%{x}<br>x2_pca=%{y}<extra></extra>",
         "legendgroup": "RTR1",
         "marker": {
          "color": "#2ED9FF",
          "symbol": "circle"
         },
         "mode": "markers",
         "name": "RTR1",
         "orientation": "v",
         "showlegend": true,
         "type": "scatter",
         "x": [
          -0.3471904735664185
         ],
         "xaxis": "x",
         "y": [
          0.16590847751787086
         ],
         "yaxis": "y"
        }
       ],
       "layout": {
        "legend": {
         "title": {
          "text": "label"
         },
         "tracegroupgap": 0
        },
        "margin": {
         "t": 60
        },
        "template": {
         "data": {
          "bar": [
           {
            "error_x": {
             "color": "#2a3f5f"
            },
            "error_y": {
             "color": "#2a3f5f"
            },
            "marker": {
             "line": {
              "color": "#E5ECF6",
              "width": 0.5
             },
             "pattern": {
              "fillmode": "overlay",
              "size": 10,
              "solidity": 0.2
             }
            },
            "type": "bar"
           }
          ],
          "barpolar": [
           {
            "marker": {
             "line": {
              "color": "#E5ECF6",
              "width": 0.5
             },
             "pattern": {
              "fillmode": "overlay",
              "size": 10,
              "solidity": 0.2
             }
            },
            "type": "barpolar"
           }
          ],
          "carpet": [
           {
            "aaxis": {
             "endlinecolor": "#2a3f5f",
             "gridcolor": "white",
             "linecolor": "white",
             "minorgridcolor": "white",
             "startlinecolor": "#2a3f5f"
            },
            "baxis": {
             "endlinecolor": "#2a3f5f",
             "gridcolor": "white",
             "linecolor": "white",
             "minorgridcolor": "white",
             "startlinecolor": "#2a3f5f"
            },
            "type": "carpet"
           }
          ],
          "choropleth": [
           {
            "colorbar": {
             "outlinewidth": 0,
             "ticks": ""
            },
            "type": "choropleth"
           }
          ],
          "contour": [
           {
            "colorbar": {
             "outlinewidth": 0,
             "ticks": ""
            },
            "colorscale": [
             [
              0,
              "#0d0887"
             ],
             [
              0.1111111111111111,
              "#46039f"
             ],
             [
              0.2222222222222222,
              "#7201a8"
             ],
             [
              0.3333333333333333,
              "#9c179e"
             ],
             [
              0.4444444444444444,
              "#bd3786"
             ],
             [
              0.5555555555555556,
              "#d8576b"
             ],
             [
              0.6666666666666666,
              "#ed7953"
             ],
             [
              0.7777777777777778,
              "#fb9f3a"
             ],
             [
              0.8888888888888888,
              "#fdca26"
             ],
             [
              1,
              "#f0f921"
             ]
            ],
            "type": "contour"
           }
          ],
          "contourcarpet": [
           {
            "colorbar": {
             "outlinewidth": 0,
             "ticks": ""
            },
            "type": "contourcarpet"
           }
          ],
          "heatmap": [
           {
            "colorbar": {
             "outlinewidth": 0,
             "ticks": ""
            },
            "colorscale": [
             [
              0,
              "#0d0887"
             ],
             [
              0.1111111111111111,
              "#46039f"
             ],
             [
              0.2222222222222222,
              "#7201a8"
             ],
             [
              0.3333333333333333,
              "#9c179e"
             ],
             [
              0.4444444444444444,
              "#bd3786"
             ],
             [
              0.5555555555555556,
              "#d8576b"
             ],
             [
              0.6666666666666666,
              "#ed7953"
             ],
             [
              0.7777777777777778,
              "#fb9f3a"
             ],
             [
              0.8888888888888888,
              "#fdca26"
             ],
             [
              1,
              "#f0f921"
             ]
            ],
            "type": "heatmap"
           }
          ],
          "heatmapgl": [
           {
            "colorbar": {
             "outlinewidth": 0,
             "ticks": ""
            },
            "colorscale": [
             [
              0,
              "#0d0887"
             ],
             [
              0.1111111111111111,
              "#46039f"
             ],
             [
              0.2222222222222222,
              "#7201a8"
             ],
             [
              0.3333333333333333,
              "#9c179e"
             ],
             [
              0.4444444444444444,
              "#bd3786"
             ],
             [
              0.5555555555555556,
              "#d8576b"
             ],
             [
              0.6666666666666666,
              "#ed7953"
             ],
             [
              0.7777777777777778,
              "#fb9f3a"
             ],
             [
              0.8888888888888888,
              "#fdca26"
             ],
             [
              1,
              "#f0f921"
             ]
            ],
            "type": "heatmapgl"
           }
          ],
          "histogram": [
           {
            "marker": {
             "pattern": {
              "fillmode": "overlay",
              "size": 10,
              "solidity": 0.2
             }
            },
            "type": "histogram"
           }
          ],
          "histogram2d": [
           {
            "colorbar": {
             "outlinewidth": 0,
             "ticks": ""
            },
            "colorscale": [
             [
              0,
              "#0d0887"
             ],
             [
              0.1111111111111111,
              "#46039f"
             ],
             [
              0.2222222222222222,
              "#7201a8"
             ],
             [
              0.3333333333333333,
              "#9c179e"
             ],
             [
              0.4444444444444444,
              "#bd3786"
             ],
             [
              0.5555555555555556,
              "#d8576b"
             ],
             [
              0.6666666666666666,
              "#ed7953"
             ],
             [
              0.7777777777777778,
              "#fb9f3a"
             ],
             [
              0.8888888888888888,
              "#fdca26"
             ],
             [
              1,
              "#f0f921"
             ]
            ],
            "type": "histogram2d"
           }
          ],
          "histogram2dcontour": [
           {
            "colorbar": {
             "outlinewidth": 0,
             "ticks": ""
            },
            "colorscale": [
             [
              0,
              "#0d0887"
             ],
             [
              0.1111111111111111,
              "#46039f"
             ],
             [
              0.2222222222222222,
              "#7201a8"
             ],
             [
              0.3333333333333333,
              "#9c179e"
             ],
             [
              0.4444444444444444,
              "#bd3786"
             ],
             [
              0.5555555555555556,
              "#d8576b"
             ],
             [
              0.6666666666666666,
              "#ed7953"
             ],
             [
              0.7777777777777778,
              "#fb9f3a"
             ],
             [
              0.8888888888888888,
              "#fdca26"
             ],
             [
              1,
              "#f0f921"
             ]
            ],
            "type": "histogram2dcontour"
           }
          ],
          "mesh3d": [
           {
            "colorbar": {
             "outlinewidth": 0,
             "ticks": ""
            },
            "type": "mesh3d"
           }
          ],
          "parcoords": [
           {
            "line": {
             "colorbar": {
              "outlinewidth": 0,
              "ticks": ""
             }
            },
            "type": "parcoords"
           }
          ],
          "pie": [
           {
            "automargin": true,
            "type": "pie"
           }
          ],
          "scatter": [
           {
            "fillpattern": {
             "fillmode": "overlay",
             "size": 10,
             "solidity": 0.2
            },
            "type": "scatter"
           }
          ],
          "scatter3d": [
           {
            "line": {
             "colorbar": {
              "outlinewidth": 0,
              "ticks": ""
             }
            },
            "marker": {
             "colorbar": {
              "outlinewidth": 0,
              "ticks": ""
             }
            },
            "type": "scatter3d"
           }
          ],
          "scattercarpet": [
           {
            "marker": {
             "colorbar": {
              "outlinewidth": 0,
              "ticks": ""
             }
            },
            "type": "scattercarpet"
           }
          ],
          "scattergeo": [
           {
            "marker": {
             "colorbar": {
              "outlinewidth": 0,
              "ticks": ""
             }
            },
            "type": "scattergeo"
           }
          ],
          "scattergl": [
           {
            "marker": {
             "colorbar": {
              "outlinewidth": 0,
              "ticks": ""
             }
            },
            "type": "scattergl"
           }
          ],
          "scattermapbox": [
           {
            "marker": {
             "colorbar": {
              "outlinewidth": 0,
              "ticks": ""
             }
            },
            "type": "scattermapbox"
           }
          ],
          "scatterpolar": [
           {
            "marker": {
             "colorbar": {
              "outlinewidth": 0,
              "ticks": ""
             }
            },
            "type": "scatterpolar"
           }
          ],
          "scatterpolargl": [
           {
            "marker": {
             "colorbar": {
              "outlinewidth": 0,
              "ticks": ""
             }
            },
            "type": "scatterpolargl"
           }
          ],
          "scatterternary": [
           {
            "marker": {
             "colorbar": {
              "outlinewidth": 0,
              "ticks": ""
             }
            },
            "type": "scatterternary"
           }
          ],
          "surface": [
           {
            "colorbar": {
             "outlinewidth": 0,
             "ticks": ""
            },
            "colorscale": [
             [
              0,
              "#0d0887"
             ],
             [
              0.1111111111111111,
              "#46039f"
             ],
             [
              0.2222222222222222,
              "#7201a8"
             ],
             [
              0.3333333333333333,
              "#9c179e"
             ],
             [
              0.4444444444444444,
              "#bd3786"
             ],
             [
              0.5555555555555556,
              "#d8576b"
             ],
             [
              0.6666666666666666,
              "#ed7953"
             ],
             [
              0.7777777777777778,
              "#fb9f3a"
             ],
             [
              0.8888888888888888,
              "#fdca26"
             ],
             [
              1,
              "#f0f921"
             ]
            ],
            "type": "surface"
           }
          ],
          "table": [
           {
            "cells": {
             "fill": {
              "color": "#EBF0F8"
             },
             "line": {
              "color": "white"
             }
            },
            "header": {
             "fill": {
              "color": "#C8D4E3"
             },
             "line": {
              "color": "white"
             }
            },
            "type": "table"
           }
          ]
         },
         "layout": {
          "annotationdefaults": {
           "arrowcolor": "#2a3f5f",
           "arrowhead": 0,
           "arrowwidth": 1
          },
          "autotypenumbers": "strict",
          "coloraxis": {
           "colorbar": {
            "outlinewidth": 0,
            "ticks": ""
           }
          },
          "colorscale": {
           "diverging": [
            [
             0,
             "#8e0152"
            ],
            [
             0.1,
             "#c51b7d"
            ],
            [
             0.2,
             "#de77ae"
            ],
            [
             0.3,
             "#f1b6da"
            ],
            [
             0.4,
             "#fde0ef"
            ],
            [
             0.5,
             "#f7f7f7"
            ],
            [
             0.6,
             "#e6f5d0"
            ],
            [
             0.7,
             "#b8e186"
            ],
            [
             0.8,
             "#7fbc41"
            ],
            [
             0.9,
             "#4d9221"
            ],
            [
             1,
             "#276419"
            ]
           ],
           "sequential": [
            [
             0,
             "#0d0887"
            ],
            [
             0.1111111111111111,
             "#46039f"
            ],
            [
             0.2222222222222222,
             "#7201a8"
            ],
            [
             0.3333333333333333,
             "#9c179e"
            ],
            [
             0.4444444444444444,
             "#bd3786"
            ],
            [
             0.5555555555555556,
             "#d8576b"
            ],
            [
             0.6666666666666666,
             "#ed7953"
            ],
            [
             0.7777777777777778,
             "#fb9f3a"
            ],
            [
             0.8888888888888888,
             "#fdca26"
            ],
            [
             1,
             "#f0f921"
            ]
           ],
           "sequentialminus": [
            [
             0,
             "#0d0887"
            ],
            [
             0.1111111111111111,
             "#46039f"
            ],
            [
             0.2222222222222222,
             "#7201a8"
            ],
            [
             0.3333333333333333,
             "#9c179e"
            ],
            [
             0.4444444444444444,
             "#bd3786"
            ],
            [
             0.5555555555555556,
             "#d8576b"
            ],
            [
             0.6666666666666666,
             "#ed7953"
            ],
            [
             0.7777777777777778,
             "#fb9f3a"
            ],
            [
             0.8888888888888888,
             "#fdca26"
            ],
            [
             1,
             "#f0f921"
            ]
           ]
          },
          "colorway": [
           "#636efa",
           "#EF553B",
           "#00cc96",
           "#ab63fa",
           "#FFA15A",
           "#19d3f3",
           "#FF6692",
           "#B6E880",
           "#FF97FF",
           "#FECB52"
          ],
          "font": {
           "color": "#2a3f5f"
          },
          "geo": {
           "bgcolor": "white",
           "lakecolor": "white",
           "landcolor": "#E5ECF6",
           "showlakes": true,
           "showland": true,
           "subunitcolor": "white"
          },
          "hoverlabel": {
           "align": "left"
          },
          "hovermode": "closest",
          "mapbox": {
           "style": "light"
          },
          "paper_bgcolor": "white",
          "plot_bgcolor": "#E5ECF6",
          "polar": {
           "angularaxis": {
            "gridcolor": "white",
            "linecolor": "white",
            "ticks": ""
           },
           "bgcolor": "#E5ECF6",
           "radialaxis": {
            "gridcolor": "white",
            "linecolor": "white",
            "ticks": ""
           }
          },
          "scene": {
           "xaxis": {
            "backgroundcolor": "#E5ECF6",
            "gridcolor": "white",
            "gridwidth": 2,
            "linecolor": "white",
            "showbackground": true,
            "ticks": "",
            "zerolinecolor": "white"
           },
           "yaxis": {
            "backgroundcolor": "#E5ECF6",
            "gridcolor": "white",
            "gridwidth": 2,
            "linecolor": "white",
            "showbackground": true,
            "ticks": "",
            "zerolinecolor": "white"
           },
           "zaxis": {
            "backgroundcolor": "#E5ECF6",
            "gridcolor": "white",
            "gridwidth": 2,
            "linecolor": "white",
            "showbackground": true,
            "ticks": "",
            "zerolinecolor": "white"
           }
          },
          "shapedefaults": {
           "line": {
            "color": "#2a3f5f"
           }
          },
          "ternary": {
           "aaxis": {
            "gridcolor": "white",
            "linecolor": "white",
            "ticks": ""
           },
           "baxis": {
            "gridcolor": "white",
            "linecolor": "white",
            "ticks": ""
           },
           "bgcolor": "#E5ECF6",
           "caxis": {
            "gridcolor": "white",
            "linecolor": "white",
            "ticks": ""
           }
          },
          "title": {
           "x": 0.05
          },
          "xaxis": {
           "automargin": true,
           "gridcolor": "white",
           "linecolor": "white",
           "ticks": "",
           "title": {
            "standoff": 15
           },
           "zerolinecolor": "white",
           "zerolinewidth": 2
          },
          "yaxis": {
           "automargin": true,
           "gridcolor": "white",
           "linecolor": "white",
           "ticks": "",
           "title": {
            "standoff": 15
           },
           "zerolinecolor": "white",
           "zerolinewidth": 2
          }
         }
        },
        "xaxis": {
         "anchor": "y",
         "domain": [
          0,
          1
         ],
         "title": {
          "text": "x1_pca"
         }
        },
        "yaxis": {
         "anchor": "x",
         "domain": [
          0,
          1
         ],
         "scaleanchor": "x",
         "scaleratio": 1,
         "title": {
          "text": "x2_pca"
         }
        }
       }
      }
     },
     "metadata": {},
     "output_type": "display_data"
    }
   ],
   "source": [
    "\n",
    "    \n",
    "plt = px.scatter(df_embedding, x = 'x1_pca', y = 'x2_pca',\n",
    "                     color = df_embedding[true_col],\n",
    "                     color_discrete_sequence = px.colors.qualitative.Alphabet,\n",
    "                     color_discrete_map=phosphatase_cols,\n",
    "                     #color_continuous_scale = \"Turbo\",\n",
    "                     ##labels={'color': labels}, \n",
    "                     #hover_name=labels_name,\n",
    "                     #hover_data=df.columns[2:],\n",
    "                     #height = 800,\n",
    "                     #title = title,\n",
    "                 )\n",
    "#plt.update_xaxes(range = [-60, 50], constrain=\"domain\")\n",
    "#plt.update_yaxes(range = [-0.5, 0.5], constrain=\"domain\")\n",
    "\n",
    "plt.update_yaxes(scaleanchor = \"x\", scaleratio = 1)\n",
    "plt.show()"
   ]
  },
  {
   "cell_type": "code",
   "execution_count": null,
   "id": "bef56d85",
   "metadata": {},
   "outputs": [],
   "source": []
  }
 ],
 "metadata": {
  "kernelspec": {
   "display_name": "poincare",
   "language": "python",
   "name": "python3"
  },
  "language_info": {
   "codemirror_mode": {
    "name": "ipython",
    "version": 3
   },
   "file_extension": ".py",
   "mimetype": "text/x-python",
   "name": "python",
   "nbconvert_exporter": "python",
   "pygments_lexer": "ipython3",
   "version": "3.12.2"
  }
 },
 "nbformat": 4,
 "nbformat_minor": 5
}
