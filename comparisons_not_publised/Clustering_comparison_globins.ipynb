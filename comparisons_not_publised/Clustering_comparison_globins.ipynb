{
 "cells": [
  {
   "cell_type": "code",
   "execution_count": null,
   "id": "046b8e30",
   "metadata": {},
   "outputs": [
    {
     "name": "stdout",
     "output_type": "stream",
     "text": [
      "/Users/gabrielduval/Desktop/Paris_Cite/Year2/Projet_Long/PoincareMSA\n",
      "/Users/gabrielduval/Desktop/Paris_Cite/Year2/Projet_Long/PoincareMSA/scripts/visualize_projection\n",
      "/Users/gabrielduval/Desktop/Paris_Cite/Year2/Projet_Long/PoincareMSA/scripts/build_poincare_map\n",
      "/Users/gabrielduval/Desktop/Paris_Cite/Year2/Projet_Long/PoincareMSA\n"
     ]
    }
   ],
   "source": [
    "%cd ~/Desktop/Paris_Cite/Year2/Projet_Long/PoincareMSA\n",
    "\n",
    "#Load outside module dependencies\n",
    "import os\n",
    "import numpy as np\n",
    "import pandas as pd\n",
    "import subprocess\n",
    "import json\n",
    "import warnings\n",
    "warnings.filterwarnings('ignore')\n",
    "import scipy\n",
    "\n",
    "from sklearn.manifold import MDS\n",
    "from sklearn.manifold import TSNE\n",
    "from sklearn.decomposition import KernelPCA\n",
    "\n",
    "\n",
    "from sklearn.metrics import pairwise_distances\n",
    "from scipy.spatial.distance import cosine\n",
    "import plotly.express as px\n",
    "import umap\n",
    "\n",
    "#Import local functions\n",
    "%cd scripts/visualize_projection/\n",
    "from pplots_new import read_embeddings, plot_embedding, plot_embedding_interactive, rotate, get_colors\n",
    "%matplotlib inline\n",
    "\n",
    "%cd ../build_poincare_map\n",
    "from poincare_maps import *\n",
    "from embedding_quality_score import *\n",
    "\n",
    "# Return to main directory\n",
    "%cd ../../"
   ]
  },
  {
   "cell_type": "code",
   "execution_count": null,
   "id": "ea7f93e2",
   "metadata": {},
   "outputs": [
    {
     "name": "stdout",
     "output_type": "stream",
     "text": [
      "/Users/gabrielduval/Desktop/Paris_Cite/Year2/Projet_Long/PoincareMSA\n"
     ]
    }
   ],
   "source": [
    "#from scripts.build_poincare_map.kmedoids import *\n",
    "from sklearn import metrics\n",
    "from sklearn.cluster import *\n",
    "\n",
    "def get_scores(t_labels, labels):\n",
    "    ARS = metrics.adjusted_rand_score(t_labels, labels)\n",
    "    FMS = metrics.fowlkes_mallows_score(t_labels, labels)\n",
    "    \n",
    "    return ARS, FMS\n",
    "\n",
    "def detect_cluster(D, n_clusters=2, clustering_name='spectral', k=5, class_exclude = \"OTHER\"): #distances='Poincaré',\n",
    "    if clustering_name == 'spectral':\n",
    "        similarity = np.exp(-D**2)\n",
    "        clustering = SpectralClustering(n_clusters=n_clusters, eigen_solver='arpack', \n",
    "                                        affinity='precomputed', n_neighbors=k).fit(similarity)\n",
    "        labels = clustering.labels_\n",
    "    elif clustering_name == 'kmedoids':\n",
    "        clustering = kMedoids(D, n_clusters, tmax=10000)\n",
    "        labels = clustering\n",
    "    else:\n",
    "        #clustering = AgglomerativeClustering(linkage='average', n_clusters=n_clusters, \n",
    "        #                                     affinity='precomputed').fit(D)\n",
    "        clustering = AgglomerativeClustering(linkage='average', n_clusters=n_clusters, \n",
    "                                             affinity='precomputed').fit(D)\n",
    "        labels = clustering.labels_\n",
    "            \n",
    "    return labels"
   ]
  },
  {
   "cell_type": "markdown",
   "id": "588b27d1",
   "metadata": {},
   "source": [
    "Labels and number of clusters:"
   ]
  },
  {
   "cell_type": "code",
   "execution_count": 19,
   "id": "54911aaf",
   "metadata": {},
   "outputs": [
    {
     "ename": "FileNotFoundError",
     "evalue": "[Errno 2] No such file or directory: 'globins_data/projections/PM5sigma=1.00gamma=2.00cosinepca=0_seed0.csv'",
     "output_type": "error",
     "traceback": [
      "\u001b[0;31m---------------------------------------------------------------------------\u001b[0m",
      "\u001b[0;31mFileNotFoundError\u001b[0m                         Traceback (most recent call last)",
      "Cell \u001b[0;32mIn[19], line 12\u001b[0m\n\u001b[1;32m     10\u001b[0m path_annotation \u001b[38;5;241m=\u001b[39m \u001b[38;5;124m\"\u001b[39m\u001b[38;5;124mexamples/globins/globin_colors_new1.csv\u001b[39m\u001b[38;5;124m\"\u001b[39m\n\u001b[1;32m     11\u001b[0m path_embedding \u001b[38;5;241m=\u001b[39m \u001b[38;5;124mf\u001b[39m\u001b[38;5;124m\"\u001b[39m\u001b[38;5;132;01m{\u001b[39;00mout_name\u001b[38;5;132;01m}\u001b[39;00m\u001b[38;5;124m/projections/PM\u001b[39m\u001b[38;5;132;01m{\u001b[39;00mknn\u001b[38;5;132;01m:\u001b[39;00m\u001b[38;5;124m1.0f\u001b[39m\u001b[38;5;132;01m}\u001b[39;00m\u001b[38;5;124msigma=\u001b[39m\u001b[38;5;132;01m{\u001b[39;00msigma\u001b[38;5;132;01m:\u001b[39;00m\u001b[38;5;124m2.2f\u001b[39m\u001b[38;5;132;01m}\u001b[39;00m\u001b[38;5;124mgamma=\u001b[39m\u001b[38;5;132;01m{\u001b[39;00mgamma\u001b[38;5;132;01m:\u001b[39;00m\u001b[38;5;124m2.2f\u001b[39m\u001b[38;5;132;01m}\u001b[39;00m\u001b[38;5;124mcosinepca=\u001b[39m\u001b[38;5;132;01m{\u001b[39;00mcospca\u001b[38;5;132;01m:\u001b[39;00m\u001b[38;5;124m1.0f\u001b[39m\u001b[38;5;132;01m}\u001b[39;00m\u001b[38;5;124m_seed\u001b[39m\u001b[38;5;132;01m{\u001b[39;00mseed\u001b[38;5;132;01m:\u001b[39;00m\u001b[38;5;124m1.0f\u001b[39m\u001b[38;5;132;01m}\u001b[39;00m\u001b[38;5;124m.csv\u001b[39m\u001b[38;5;124m\"\u001b[39m\n\u001b[0;32m---> 12\u001b[0m df_embedding \u001b[38;5;241m=\u001b[39m \u001b[43mread_embeddings\u001b[49m\u001b[43m(\u001b[49m\u001b[43mpath_embedding\u001b[49m\u001b[43m,\u001b[49m\u001b[43m \u001b[49m\u001b[43mpath_annotation\u001b[49m\u001b[43m,\u001b[49m\u001b[43m \u001b[49m\u001b[43mwithroot\u001b[49m\u001b[38;5;241;43m=\u001b[39;49m\u001b[38;5;28;43;01mFalse\u001b[39;49;00m\u001b[43m)\u001b[49m\n\u001b[1;32m     13\u001b[0m \u001b[38;5;28mprint\u001b[39m(df_embedding)\n\u001b[1;32m     14\u001b[0m df_embedding\u001b[38;5;241m.\u001b[39mreplace(\u001b[38;5;124m\"\u001b[39m\u001b[38;5;124mOther\u001b[39m\u001b[38;5;124m\"\u001b[39m, \u001b[38;5;124m\"\u001b[39m\u001b[38;5;124mOTHER\u001b[39m\u001b[38;5;124m\"\u001b[39m)\n",
      "File \u001b[0;32m~/Desktop/Paris_Cite/Year2/Projet_Long/PoincareMSA/scripts/visualize_projection/pplots_new.py:78\u001b[0m, in \u001b[0;36mread_embeddings\u001b[0;34m(path_embedding, path_annotation, withroot)\u001b[0m\n\u001b[1;32m     74\u001b[0m \u001b[38;5;28;01mdef\u001b[39;00m \u001b[38;5;21mread_embeddings\u001b[39m(path_embedding, path_annotation\u001b[38;5;241m=\u001b[39m\u001b[38;5;28;01mNone\u001b[39;00m, withroot\u001b[38;5;241m=\u001b[39m\u001b[38;5;28;01mTrue\u001b[39;00m):\n\u001b[1;32m     75\u001b[0m \u001b[38;5;250m    \u001b[39m\u001b[38;5;124;03m\"\"\"\u001b[39;00m\n\u001b[1;32m     76\u001b[0m \u001b[38;5;124;03m    Prepare the plot data by concatenating the two dataframes.\u001b[39;00m\n\u001b[1;32m     77\u001b[0m \u001b[38;5;124;03m    \"\"\"\u001b[39;00m\n\u001b[0;32m---> 78\u001b[0m     df_embeddings \u001b[38;5;241m=\u001b[39m \u001b[43mpd\u001b[49m\u001b[38;5;241;43m.\u001b[39;49m\u001b[43mread_csv\u001b[49m\u001b[43m(\u001b[49m\u001b[43mpath_embedding\u001b[49m\u001b[43m)\u001b[49m\n\u001b[1;32m     79\u001b[0m     df_embeddings\u001b[38;5;241m.\u001b[39msort_values([\u001b[38;5;124m\"\u001b[39m\u001b[38;5;124mproteins_id\u001b[39m\u001b[38;5;124m\"\u001b[39m], ignore_index\u001b[38;5;241m=\u001b[39m\u001b[38;5;28;01mTrue\u001b[39;00m, ascending\u001b[38;5;241m=\u001b[39m\u001b[38;5;28;01mTrue\u001b[39;00m, inplace\u001b[38;5;241m=\u001b[39m\u001b[38;5;28;01mTrue\u001b[39;00m)\n\u001b[1;32m     81\u001b[0m     \u001b[38;5;66;03m#If an annotation file is provided\u001b[39;00m\n",
      "File \u001b[0;32m~/miniconda3/envs/poincare/lib/python3.12/site-packages/pandas/io/parsers/readers.py:1026\u001b[0m, in \u001b[0;36mread_csv\u001b[0;34m(filepath_or_buffer, sep, delimiter, header, names, index_col, usecols, dtype, engine, converters, true_values, false_values, skipinitialspace, skiprows, skipfooter, nrows, na_values, keep_default_na, na_filter, verbose, skip_blank_lines, parse_dates, infer_datetime_format, keep_date_col, date_parser, date_format, dayfirst, cache_dates, iterator, chunksize, compression, thousands, decimal, lineterminator, quotechar, quoting, doublequote, escapechar, comment, encoding, encoding_errors, dialect, on_bad_lines, delim_whitespace, low_memory, memory_map, float_precision, storage_options, dtype_backend)\u001b[0m\n\u001b[1;32m   1013\u001b[0m kwds_defaults \u001b[38;5;241m=\u001b[39m _refine_defaults_read(\n\u001b[1;32m   1014\u001b[0m     dialect,\n\u001b[1;32m   1015\u001b[0m     delimiter,\n\u001b[0;32m   (...)\u001b[0m\n\u001b[1;32m   1022\u001b[0m     dtype_backend\u001b[38;5;241m=\u001b[39mdtype_backend,\n\u001b[1;32m   1023\u001b[0m )\n\u001b[1;32m   1024\u001b[0m kwds\u001b[38;5;241m.\u001b[39mupdate(kwds_defaults)\n\u001b[0;32m-> 1026\u001b[0m \u001b[38;5;28;01mreturn\u001b[39;00m \u001b[43m_read\u001b[49m\u001b[43m(\u001b[49m\u001b[43mfilepath_or_buffer\u001b[49m\u001b[43m,\u001b[49m\u001b[43m \u001b[49m\u001b[43mkwds\u001b[49m\u001b[43m)\u001b[49m\n",
      "File \u001b[0;32m~/miniconda3/envs/poincare/lib/python3.12/site-packages/pandas/io/parsers/readers.py:620\u001b[0m, in \u001b[0;36m_read\u001b[0;34m(filepath_or_buffer, kwds)\u001b[0m\n\u001b[1;32m    617\u001b[0m _validate_names(kwds\u001b[38;5;241m.\u001b[39mget(\u001b[38;5;124m\"\u001b[39m\u001b[38;5;124mnames\u001b[39m\u001b[38;5;124m\"\u001b[39m, \u001b[38;5;28;01mNone\u001b[39;00m))\n\u001b[1;32m    619\u001b[0m \u001b[38;5;66;03m# Create the parser.\u001b[39;00m\n\u001b[0;32m--> 620\u001b[0m parser \u001b[38;5;241m=\u001b[39m \u001b[43mTextFileReader\u001b[49m\u001b[43m(\u001b[49m\u001b[43mfilepath_or_buffer\u001b[49m\u001b[43m,\u001b[49m\u001b[43m \u001b[49m\u001b[38;5;241;43m*\u001b[39;49m\u001b[38;5;241;43m*\u001b[39;49m\u001b[43mkwds\u001b[49m\u001b[43m)\u001b[49m\n\u001b[1;32m    622\u001b[0m \u001b[38;5;28;01mif\u001b[39;00m chunksize \u001b[38;5;129;01mor\u001b[39;00m iterator:\n\u001b[1;32m    623\u001b[0m     \u001b[38;5;28;01mreturn\u001b[39;00m parser\n",
      "File \u001b[0;32m~/miniconda3/envs/poincare/lib/python3.12/site-packages/pandas/io/parsers/readers.py:1620\u001b[0m, in \u001b[0;36mTextFileReader.__init__\u001b[0;34m(self, f, engine, **kwds)\u001b[0m\n\u001b[1;32m   1617\u001b[0m     \u001b[38;5;28mself\u001b[39m\u001b[38;5;241m.\u001b[39moptions[\u001b[38;5;124m\"\u001b[39m\u001b[38;5;124mhas_index_names\u001b[39m\u001b[38;5;124m\"\u001b[39m] \u001b[38;5;241m=\u001b[39m kwds[\u001b[38;5;124m\"\u001b[39m\u001b[38;5;124mhas_index_names\u001b[39m\u001b[38;5;124m\"\u001b[39m]\n\u001b[1;32m   1619\u001b[0m \u001b[38;5;28mself\u001b[39m\u001b[38;5;241m.\u001b[39mhandles: IOHandles \u001b[38;5;241m|\u001b[39m \u001b[38;5;28;01mNone\u001b[39;00m \u001b[38;5;241m=\u001b[39m \u001b[38;5;28;01mNone\u001b[39;00m\n\u001b[0;32m-> 1620\u001b[0m \u001b[38;5;28mself\u001b[39m\u001b[38;5;241m.\u001b[39m_engine \u001b[38;5;241m=\u001b[39m \u001b[38;5;28;43mself\u001b[39;49m\u001b[38;5;241;43m.\u001b[39;49m\u001b[43m_make_engine\u001b[49m\u001b[43m(\u001b[49m\u001b[43mf\u001b[49m\u001b[43m,\u001b[49m\u001b[43m \u001b[49m\u001b[38;5;28;43mself\u001b[39;49m\u001b[38;5;241;43m.\u001b[39;49m\u001b[43mengine\u001b[49m\u001b[43m)\u001b[49m\n",
      "File \u001b[0;32m~/miniconda3/envs/poincare/lib/python3.12/site-packages/pandas/io/parsers/readers.py:1880\u001b[0m, in \u001b[0;36mTextFileReader._make_engine\u001b[0;34m(self, f, engine)\u001b[0m\n\u001b[1;32m   1878\u001b[0m     \u001b[38;5;28;01mif\u001b[39;00m \u001b[38;5;124m\"\u001b[39m\u001b[38;5;124mb\u001b[39m\u001b[38;5;124m\"\u001b[39m \u001b[38;5;129;01mnot\u001b[39;00m \u001b[38;5;129;01min\u001b[39;00m mode:\n\u001b[1;32m   1879\u001b[0m         mode \u001b[38;5;241m+\u001b[39m\u001b[38;5;241m=\u001b[39m \u001b[38;5;124m\"\u001b[39m\u001b[38;5;124mb\u001b[39m\u001b[38;5;124m\"\u001b[39m\n\u001b[0;32m-> 1880\u001b[0m \u001b[38;5;28mself\u001b[39m\u001b[38;5;241m.\u001b[39mhandles \u001b[38;5;241m=\u001b[39m \u001b[43mget_handle\u001b[49m\u001b[43m(\u001b[49m\n\u001b[1;32m   1881\u001b[0m \u001b[43m    \u001b[49m\u001b[43mf\u001b[49m\u001b[43m,\u001b[49m\n\u001b[1;32m   1882\u001b[0m \u001b[43m    \u001b[49m\u001b[43mmode\u001b[49m\u001b[43m,\u001b[49m\n\u001b[1;32m   1883\u001b[0m \u001b[43m    \u001b[49m\u001b[43mencoding\u001b[49m\u001b[38;5;241;43m=\u001b[39;49m\u001b[38;5;28;43mself\u001b[39;49m\u001b[38;5;241;43m.\u001b[39;49m\u001b[43moptions\u001b[49m\u001b[38;5;241;43m.\u001b[39;49m\u001b[43mget\u001b[49m\u001b[43m(\u001b[49m\u001b[38;5;124;43m\"\u001b[39;49m\u001b[38;5;124;43mencoding\u001b[39;49m\u001b[38;5;124;43m\"\u001b[39;49m\u001b[43m,\u001b[49m\u001b[43m \u001b[49m\u001b[38;5;28;43;01mNone\u001b[39;49;00m\u001b[43m)\u001b[49m\u001b[43m,\u001b[49m\n\u001b[1;32m   1884\u001b[0m \u001b[43m    \u001b[49m\u001b[43mcompression\u001b[49m\u001b[38;5;241;43m=\u001b[39;49m\u001b[38;5;28;43mself\u001b[39;49m\u001b[38;5;241;43m.\u001b[39;49m\u001b[43moptions\u001b[49m\u001b[38;5;241;43m.\u001b[39;49m\u001b[43mget\u001b[49m\u001b[43m(\u001b[49m\u001b[38;5;124;43m\"\u001b[39;49m\u001b[38;5;124;43mcompression\u001b[39;49m\u001b[38;5;124;43m\"\u001b[39;49m\u001b[43m,\u001b[49m\u001b[43m \u001b[49m\u001b[38;5;28;43;01mNone\u001b[39;49;00m\u001b[43m)\u001b[49m\u001b[43m,\u001b[49m\n\u001b[1;32m   1885\u001b[0m \u001b[43m    \u001b[49m\u001b[43mmemory_map\u001b[49m\u001b[38;5;241;43m=\u001b[39;49m\u001b[38;5;28;43mself\u001b[39;49m\u001b[38;5;241;43m.\u001b[39;49m\u001b[43moptions\u001b[49m\u001b[38;5;241;43m.\u001b[39;49m\u001b[43mget\u001b[49m\u001b[43m(\u001b[49m\u001b[38;5;124;43m\"\u001b[39;49m\u001b[38;5;124;43mmemory_map\u001b[39;49m\u001b[38;5;124;43m\"\u001b[39;49m\u001b[43m,\u001b[49m\u001b[43m \u001b[49m\u001b[38;5;28;43;01mFalse\u001b[39;49;00m\u001b[43m)\u001b[49m\u001b[43m,\u001b[49m\n\u001b[1;32m   1886\u001b[0m \u001b[43m    \u001b[49m\u001b[43mis_text\u001b[49m\u001b[38;5;241;43m=\u001b[39;49m\u001b[43mis_text\u001b[49m\u001b[43m,\u001b[49m\n\u001b[1;32m   1887\u001b[0m \u001b[43m    \u001b[49m\u001b[43merrors\u001b[49m\u001b[38;5;241;43m=\u001b[39;49m\u001b[38;5;28;43mself\u001b[39;49m\u001b[38;5;241;43m.\u001b[39;49m\u001b[43moptions\u001b[49m\u001b[38;5;241;43m.\u001b[39;49m\u001b[43mget\u001b[49m\u001b[43m(\u001b[49m\u001b[38;5;124;43m\"\u001b[39;49m\u001b[38;5;124;43mencoding_errors\u001b[39;49m\u001b[38;5;124;43m\"\u001b[39;49m\u001b[43m,\u001b[49m\u001b[43m \u001b[49m\u001b[38;5;124;43m\"\u001b[39;49m\u001b[38;5;124;43mstrict\u001b[39;49m\u001b[38;5;124;43m\"\u001b[39;49m\u001b[43m)\u001b[49m\u001b[43m,\u001b[49m\n\u001b[1;32m   1888\u001b[0m \u001b[43m    \u001b[49m\u001b[43mstorage_options\u001b[49m\u001b[38;5;241;43m=\u001b[39;49m\u001b[38;5;28;43mself\u001b[39;49m\u001b[38;5;241;43m.\u001b[39;49m\u001b[43moptions\u001b[49m\u001b[38;5;241;43m.\u001b[39;49m\u001b[43mget\u001b[49m\u001b[43m(\u001b[49m\u001b[38;5;124;43m\"\u001b[39;49m\u001b[38;5;124;43mstorage_options\u001b[39;49m\u001b[38;5;124;43m\"\u001b[39;49m\u001b[43m,\u001b[49m\u001b[43m \u001b[49m\u001b[38;5;28;43;01mNone\u001b[39;49;00m\u001b[43m)\u001b[49m\u001b[43m,\u001b[49m\n\u001b[1;32m   1889\u001b[0m \u001b[43m\u001b[49m\u001b[43m)\u001b[49m\n\u001b[1;32m   1890\u001b[0m \u001b[38;5;28;01massert\u001b[39;00m \u001b[38;5;28mself\u001b[39m\u001b[38;5;241m.\u001b[39mhandles \u001b[38;5;129;01mis\u001b[39;00m \u001b[38;5;129;01mnot\u001b[39;00m \u001b[38;5;28;01mNone\u001b[39;00m\n\u001b[1;32m   1891\u001b[0m f \u001b[38;5;241m=\u001b[39m \u001b[38;5;28mself\u001b[39m\u001b[38;5;241m.\u001b[39mhandles\u001b[38;5;241m.\u001b[39mhandle\n",
      "File \u001b[0;32m~/miniconda3/envs/poincare/lib/python3.12/site-packages/pandas/io/common.py:873\u001b[0m, in \u001b[0;36mget_handle\u001b[0;34m(path_or_buf, mode, encoding, compression, memory_map, is_text, errors, storage_options)\u001b[0m\n\u001b[1;32m    868\u001b[0m \u001b[38;5;28;01melif\u001b[39;00m \u001b[38;5;28misinstance\u001b[39m(handle, \u001b[38;5;28mstr\u001b[39m):\n\u001b[1;32m    869\u001b[0m     \u001b[38;5;66;03m# Check whether the filename is to be opened in binary mode.\u001b[39;00m\n\u001b[1;32m    870\u001b[0m     \u001b[38;5;66;03m# Binary mode does not support 'encoding' and 'newline'.\u001b[39;00m\n\u001b[1;32m    871\u001b[0m     \u001b[38;5;28;01mif\u001b[39;00m ioargs\u001b[38;5;241m.\u001b[39mencoding \u001b[38;5;129;01mand\u001b[39;00m \u001b[38;5;124m\"\u001b[39m\u001b[38;5;124mb\u001b[39m\u001b[38;5;124m\"\u001b[39m \u001b[38;5;129;01mnot\u001b[39;00m \u001b[38;5;129;01min\u001b[39;00m ioargs\u001b[38;5;241m.\u001b[39mmode:\n\u001b[1;32m    872\u001b[0m         \u001b[38;5;66;03m# Encoding\u001b[39;00m\n\u001b[0;32m--> 873\u001b[0m         handle \u001b[38;5;241m=\u001b[39m \u001b[38;5;28;43mopen\u001b[39;49m\u001b[43m(\u001b[49m\n\u001b[1;32m    874\u001b[0m \u001b[43m            \u001b[49m\u001b[43mhandle\u001b[49m\u001b[43m,\u001b[49m\n\u001b[1;32m    875\u001b[0m \u001b[43m            \u001b[49m\u001b[43mioargs\u001b[49m\u001b[38;5;241;43m.\u001b[39;49m\u001b[43mmode\u001b[49m\u001b[43m,\u001b[49m\n\u001b[1;32m    876\u001b[0m \u001b[43m            \u001b[49m\u001b[43mencoding\u001b[49m\u001b[38;5;241;43m=\u001b[39;49m\u001b[43mioargs\u001b[49m\u001b[38;5;241;43m.\u001b[39;49m\u001b[43mencoding\u001b[49m\u001b[43m,\u001b[49m\n\u001b[1;32m    877\u001b[0m \u001b[43m            \u001b[49m\u001b[43merrors\u001b[49m\u001b[38;5;241;43m=\u001b[39;49m\u001b[43merrors\u001b[49m\u001b[43m,\u001b[49m\n\u001b[1;32m    878\u001b[0m \u001b[43m            \u001b[49m\u001b[43mnewline\u001b[49m\u001b[38;5;241;43m=\u001b[39;49m\u001b[38;5;124;43m\"\u001b[39;49m\u001b[38;5;124;43m\"\u001b[39;49m\u001b[43m,\u001b[49m\n\u001b[1;32m    879\u001b[0m \u001b[43m        \u001b[49m\u001b[43m)\u001b[49m\n\u001b[1;32m    880\u001b[0m     \u001b[38;5;28;01melse\u001b[39;00m:\n\u001b[1;32m    881\u001b[0m         \u001b[38;5;66;03m# Binary mode\u001b[39;00m\n\u001b[1;32m    882\u001b[0m         handle \u001b[38;5;241m=\u001b[39m \u001b[38;5;28mopen\u001b[39m(handle, ioargs\u001b[38;5;241m.\u001b[39mmode)\n",
      "\u001b[0;31mFileNotFoundError\u001b[0m: [Errno 2] No such file or directory: 'globins_data/projections/PM5sigma=1.00gamma=2.00cosinepca=0_seed0.csv'"
     ]
    }
   ],
   "source": [
    "knn = 5\n",
    "gamma = 2\n",
    "sigma = 1\n",
    "cospca = 0\n",
    "batchs = 4\n",
    "epochs = 1000\n",
    "seed = 0\n",
    "\n",
    "out_name = \"globins_data\"\n",
    "path_annotation = \"examples/globins/globin_colors_new1.csv\"\n",
    "path_embedding = f\"{out_name}/projections/PM{knn:1.0f}sigma={sigma:2.2f}gamma={gamma:2.2f}cosinepca={cospca:1.0f}_seed{seed:1.0f}.csv\"\n",
    "df_embedding = read_embeddings(path_embedding, path_annotation, withroot=False)\n",
    "print(df_embedding)\n",
    "df_embedding.replace(\"Other\", \"OTHER\")"
   ]
  },
  {
   "cell_type": "code",
   "execution_count": null,
   "id": "4765a4fd",
   "metadata": {},
   "outputs": [],
   "source": [
    "poincare_coord = pd.read_csv(path_embedding, sep=',').sort_values(by=[\"proteins_id\"])\n",
    "poincare_coord = poincare_coord.values[:,:2]\n",
    "print(path_embedding)\n",
    "model = PoincareMaps(poincare_coord)\n",
    "model.get_distances()"
   ]
  },
  {
   "cell_type": "markdown",
   "id": "edc8b57f",
   "metadata": {},
   "source": [
    "# Comparison of different scores for Poincaré vs other methods"
   ]
  },
  {
   "cell_type": "markdown",
   "id": "94c660aa",
   "metadata": {},
   "source": [
    "Prepare feature file for other methods."
   ]
  },
  {
   "cell_type": "code",
   "execution_count": 4,
   "id": "0691f7ba",
   "metadata": {},
   "outputs": [],
   "source": [
    "n_proteins = df_embedding.shape[0]\n",
    "x = np.array(np.loadtxt(out_name + \"/fasta0.9/1.aamtx\").reshape(-1))\n",
    "len_prot = len(x)\n",
    "\n",
    "features = np.zeros([n_proteins, len_prot])\n",
    "\n",
    "for i in range(n_proteins):\n",
    "    #print(out_name + \"/fasta0.9/\" + str(i) + \".aamtx\")\n",
    "    x = np.array(np.loadtxt(out_name + \"/fasta0.9/\" + str(i+1) + \".aamtx\").reshape(-1))\n",
    "    features[i,:] = x\n"
   ]
  },
  {
   "cell_type": "markdown",
   "id": "ce5df078",
   "metadata": {},
   "source": [
    "Calculate original distances:"
   ]
  },
  {
   "cell_type": "code",
   "execution_count": 5,
   "id": "9929ed23",
   "metadata": {},
   "outputs": [
    {
     "name": "stdout",
     "output_type": "stream",
     "text": [
      "[0.1755 0.0183 0.2771 ... 0.0109 0.0768 0.0382]\n",
      "(252, 252)\n",
      "Index(['proteins_id', 'pm1', 'pm2', 'tree1', 'tree2', 'tree3', 'tree4',\n",
      "       'full_name', 'short_name', 'full_species', 'short_species',\n",
      "       'evo_distance', 'Color_species', 'Domain', 'Kingdom', 'Phylum',\n",
      "       'Subphylum', 'Class', 'Genus'],\n",
      "      dtype='object')\n"
     ]
    }
   ],
   "source": [
    "D_raw = pairwise_distances(features, metric=\"cosine\")\n",
    "print(features[0,:])\n",
    "print(D_raw.shape)\n",
    "\n",
    "print(df_embedding.columns)"
   ]
  },
  {
   "cell_type": "markdown",
   "id": "a70f52ef",
   "metadata": {},
   "source": [
    "# SET PARAMETERS"
   ]
  },
  {
   "cell_type": "code",
   "execution_count": 72,
   "id": "55908d4b",
   "metadata": {},
   "outputs": [],
   "source": [
    "df_results_clust = pd.DataFrame()"
   ]
  },
  {
   "cell_type": "code",
   "execution_count": 191,
   "id": "f84725c2",
   "metadata": {},
   "outputs": [
    {
     "name": "stdout",
     "output_type": "stream",
     "text": [
      "Number of expected classes:  26\n"
     ]
    }
   ],
   "source": [
    "k_neigh = knn\n",
    "\n",
    "# by names/family\n",
    "true_col = \"short_name\"# \"short_species\"# \n",
    "other = \"Uncharacterized\" \n",
    "\n",
    "# by phylogenetic cluster\n",
    "#true_col = \"tree4\"\n",
    "#other = -1 \n",
    "\n",
    "# by new annotation\n",
    "#true_col = \"Phylum\"\n",
    "#other = \"OTHER\" \n",
    "\n",
    "\n",
    "remove_others = True\n",
    "remove_outliers = True\n",
    "\n",
    "#print(df_embedding[df_embedding[true_col]!=other].shape)\n",
    "\n",
    "expected_nc = df_embedding[true_col].unique().size\n",
    "\n",
    "#print(df_embedding[true_col].value_counts())\n",
    "#print(df_embedding[df_embedding[true_col].duplicated(keep=False)])\n",
    "\n",
    "# Remove classes of size 1\n",
    "no_outliers = df_embedding[true_col].duplicated(keep=False)\n",
    "#print(df_embedding[no_outliers].shape)\n",
    "nc =  expected_nc\n",
    "\n",
    "print(\"Number of expected classes: \", expected_nc)"
   ]
  },
  {
   "cell_type": "code",
   "execution_count": 192,
   "id": "7c63cb30",
   "metadata": {},
   "outputs": [],
   "source": [
    "# Construction of custom color palette \n",
    "globin_palette = {'Echinodermata': '#086b75', 'Arthropoda': '#0b237c', 'Mollusca': '#512ff8', 'Annelida': '#a191f3', 'Chordata': '#26c9d9', 'Cnidaria': '#ad288b', 'Porifera': '#fdb7fd', 'Placozoa': '#e9bd6b', 'Bacteria': '#f10000', 'Nematoda': '#5d78e3', 'Hemichordata': '#b0ffe8', 'Fungi': '#a0e361', 'Viridiplantae': '#4d9b03'}"
   ]
  },
  {
   "cell_type": "markdown",
   "id": "b4691933",
   "metadata": {},
   "source": [
    "# ALL TOGETHER"
   ]
  },
  {
   "cell_type": "markdown",
   "id": "62849987",
   "metadata": {},
   "source": [
    "## Evaluate clustering"
   ]
  },
  {
   "cell_type": "code",
   "execution_count": 193,
   "id": "681f7376",
   "metadata": {},
   "outputs": [
    {
     "name": "stdout",
     "output_type": "stream",
     "text": [
      "Connecting 2\n",
      "Connecting 2\n",
      "Connecting 2\n",
      "Connecting 2\n",
      "Connecting 2\n",
      "Connecting 2\n",
      "Connecting 2\n",
      "Connecting 2\n",
      "Connecting 2\n",
      "Connecting 2\n",
      "Connecting 2\n",
      "Connecting 2\n",
      "Connecting 2\n",
      "Connecting 2\n",
      "Connecting 2\n",
      "Connecting 2\n",
      "Connecting 2\n",
      "Connecting 2\n",
      "Connecting 2\n",
      "Connecting 2\n",
      "Connecting 2\n",
      "Connecting 2\n",
      "Connecting 2\n",
      "Connecting 2\n",
      "Connecting 2\n"
     ]
    }
   ],
   "source": [
    "cname = 'agglomerative'\n",
    "setting = \"manifold\" # \"global\" # \n",
    "\n",
    "for seed in range(5):\n",
    "    # read poincare and annotations\n",
    "    path_embedding = f\"{out_name}/projections/PM{knn:1.0f}sigma={sigma:2.2f}gamma={gamma:2.2f}cosinepca={cospca:1.0f}_seed{seed:1.0f}.csv\"\n",
    "    df_embedding = read_embeddings(path_embedding, path_annotation, withroot=False)\n",
    "    df_embedding.replace(\"Other\", \"OTHER\")\n",
    "    # calculate poincare distances\n",
    "    poincare_coord = df_embedding[[\"pm1\",\"pm2\"]]\n",
    "    poincare_coord = poincare_coord.values\n",
    "    #print(poincare_coord)\n",
    "    model = PoincareMaps(poincare_coord)\n",
    "    model.get_distances()\n",
    "    # poincare scores\n",
    "    clusters = detect_cluster(model.distances, n_clusters=nc, clustering_name=cname)\n",
    "    df_embedding[\"clust_poincare\"] = clusters\n",
    "    df_embedding[\"clust_poincare\"] = df_embedding[\"clust_poincare\"].astype(\"string\")\n",
    "    # MDS scores\n",
    "    X_cosine = pairwise_distances(features,metric='cosine')\n",
    "    X_mds = MDS(metric=True,dissimilarity='precomputed', random_state = seed).fit_transform(X_cosine)\n",
    "    df_embedding[\"x1_mds\"] = X_mds[:,0]\n",
    "    df_embedding[\"x2_mds\"] = X_mds[:,1]\n",
    "    D = pairwise_distances(X_mds)\n",
    "    clusters = detect_cluster(D, n_clusters=nc, clustering_name=cname)\n",
    "    df_embedding[\"clust_mds\"] = clusters\n",
    "    df_embedding[\"clust_mds\"] = df_embedding[\"clust_mds\"].astype(\"string\")\n",
    "    # tSNE scores\n",
    "    X_tsne = TSNE(random_state = seed, metric = \"cosine\", perplexity=k_neigh).fit_transform(features)\n",
    "    df_embedding[\"x1_tsne\"] = X_tsne[:,0]\n",
    "    df_embedding[\"x2_tsne\"] = X_tsne[:,1]\n",
    "    D = pairwise_distances(X_tsne)\n",
    "    clusters = detect_cluster(D, n_clusters=nc, clustering_name=cname)\n",
    "    df_embedding[\"clust_tsne\"] = clusters\n",
    "    df_embedding[\"clust_tsne\"] = df_embedding[\"clust_tsne\"].astype(\"string\")\n",
    "    # UMAP scores\n",
    "    X_umap = umap.UMAP(random_state = seed, metric = \"cosine\", n_neighbors = k_neigh).fit_transform(features)\n",
    "    df_embedding[\"x1_umap\"] = X_umap[:,0]\n",
    "    df_embedding[\"x2_umap\"] = X_umap[:,1]\n",
    "    D = pairwise_distances(X_umap)\n",
    "    clusters = detect_cluster(D, n_clusters=nc, clustering_name=cname)\n",
    "    df_embedding[\"clust_umap\"] = clusters\n",
    "    df_embedding[\"clust_umap\"] = df_embedding[\"clust_umap\"].astype(\"string\")\n",
    "    # PCA scores\n",
    "    X_pca = KernelPCA(kernel='cosine', random_state = seed).fit_transform(features)\n",
    "    df_embedding[\"x1_pca\"] = X_pca[:,0]\n",
    "    df_embedding[\"x2_pca\"] = X_pca[:,1]\n",
    "    D = pairwise_distances(X_pca)\n",
    "    clusters = detect_cluster(D, n_clusters=nc, clustering_name=cname)#, k=15)\n",
    "    df_embedding[\"clust_pca\"] = clusters\n",
    "    df_embedding[\"clust_pca\"] = df_embedding[\"clust_pca\"].astype(\"string\")\n",
    "    \n",
    "    # clustering\n",
    "    if remove_outliers:\n",
    "        df_noothers = df_embedding[no_outliers]\n",
    "    if remove_others:\n",
    "        df_noothers = df_noothers[df_embedding[true_col]!=other]\n",
    "    \n",
    "    for clust_meth in [\"poincare\", \"mds\", \"tsne\", \"umap\", \"pca\"]:\n",
    "\n",
    "        ARI, FMS = get_scores(df_noothers[true_col], df_noothers[\"clust_\" + clust_meth])\n",
    "\n",
    "        if clust_meth == \"poincare\":\n",
    "            D = model.distances\n",
    "            Qlocal, Qglobal, Kmax, df_Q = get_quality_metrics(coord_high = features, coord_low = model.coordinates, distance=\"poincare\", setting=setting, k_neighbours=5)\n",
    "        else:\n",
    "            D = pairwise_distances(df_embedding.loc[:, \"x1_\"+clust_meth:\"x2_\"+clust_meth])\n",
    "            Qlocal, Qglobal, Kmax, df_Q = get_quality_metrics(coord_high = features, coord_low = df_embedding.loc[:, \"x1_\"+clust_meth:\"x2_\"+clust_meth], distance=\"euclidean\", setting=setting, k_neighbours=5)\n",
    "\n",
    "        corr = scipy.stats.spearmanr(D_raw.ravel(), D.ravel(), axis = 0)\n",
    "    \n",
    "        df = pd.DataFrame({\"method\": [clust_meth], \"seed\": [seed], \"nc\": [nc], \"true_col\": [true_col], \"ARI\": [ARI], \"FMS\": [FMS]})\n",
    "        df_results_clust = df_results_clust.append(df)\n",
    "        \n",
    "        # print(df_Q.Qnx.to_numpy())\n",
    "        \n",
    "        df = pd.DataFrame({\"method\": [clust_meth], \"seed\": [seed], \"Qlocal\": [Qlocal], \"Qglobal\": [Qglobal], \"Kmax\": [Kmax], \"Qnx\": [df_Q.Qnx.to_numpy()]})\n",
    "        df_results_proj = df_results_proj.append(df)\n",
    "\n",
    "#print(df_results)"
   ]
  },
  {
   "cell_type": "code",
   "execution_count": 236,
   "id": "1f5c6cb4",
   "metadata": {},
   "outputs": [
    {
     "data": {
      "application/vnd.plotly.v1+json": {
       "config": {
        "plotlyServerURL": "https://plot.ly"
       },
       "data": [
        {
         "alignmentgroup": "True",
         "boxpoints": "all",
         "fillcolor": "rgba(255,255,255,0)",
         "hoveron": "points",
         "hovertemplate": "true_col=tree1<br>method=%{x}<br>FMS=%{y}<extra></extra>",
         "legendgroup": "tree1",
         "line": {
          "color": "rgba(255,255,255,0)"
         },
         "marker": {
          "color": "#636efa"
         },
         "name": "tree1",
         "offsetgroup": "tree1",
         "orientation": "v",
         "pointpos": 0,
         "showlegend": true,
         "type": "box",
         "x": [
          "poincare",
          "poincare",
          "mds",
          "tsne",
          "umap",
          "pca",
          "poincare",
          "mds",
          "tsne",
          "umap",
          "pca",
          "poincare",
          "mds",
          "tsne",
          "umap",
          "pca",
          "poincare",
          "mds",
          "tsne",
          "umap",
          "pca",
          "poincare",
          "mds",
          "tsne",
          "umap",
          "pca"
         ],
         "x0": " ",
         "xaxis": "x",
         "y": [
          0.696964397766638,
          0.696964397766638,
          0.7205398719712048,
          0.6953653679353451,
          0.6796180579054872,
          0.6616477747093069,
          0.6992362474022578,
          0.690733620511288,
          0.6953653679353451,
          0.6992467608749974,
          0.6616477747093069,
          0.722220052927455,
          0.6491361125489232,
          0.6953653679353451,
          0.6812381270884044,
          0.6616477747093069,
          0.7078030677563522,
          0.73909588277009,
          0.7227191947733121,
          0.668157752277926,
          0.6616477747093069,
          0.7228004822081163,
          0.7394048731173045,
          0.727025404843965,
          0.702686249518278,
          0.6616477747093069
         ],
         "y0": " ",
         "yaxis": "y"
        },
        {
         "alignmentgroup": "True",
         "boxpoints": "all",
         "fillcolor": "rgba(255,255,255,0)",
         "hoveron": "points",
         "hovertemplate": "true_col=tree2<br>method=%{x}<br>FMS=%{y}<extra></extra>",
         "legendgroup": "tree2",
         "line": {
          "color": "rgba(255,255,255,0)"
         },
         "marker": {
          "color": "#EF553B"
         },
         "name": "tree2",
         "offsetgroup": "tree2",
         "orientation": "v",
         "pointpos": 0,
         "showlegend": true,
         "type": "box",
         "x": [
          "poincare",
          "mds",
          "tsne",
          "umap",
          "pca",
          "poincare",
          "mds",
          "tsne",
          "umap",
          "pca",
          "poincare",
          "mds",
          "tsne",
          "umap",
          "pca",
          "poincare",
          "mds",
          "tsne",
          "umap",
          "pca",
          "poincare",
          "mds",
          "tsne",
          "umap",
          "pca"
         ],
         "x0": " ",
         "xaxis": "x",
         "y": [
          0.6576778264811466,
          0.6507969702892049,
          0.682308546523322,
          0.6432546933120479,
          0.7556393700783312,
          0.6841188497340708,
          0.7911695666713678,
          0.7171807523272501,
          0.6256185640144425,
          0.7556393700783312,
          0.6465953619768436,
          0.7631076229186115,
          0.7253051484048276,
          0.6511107299812929,
          0.7556393700783312,
          0.6364103059955556,
          0.6860279597521829,
          0.7136083772331446,
          0.645691148434262,
          0.7556393700783312,
          0.6455634575786746,
          0.7604146491667584,
          0.7253051484048276,
          0.655875445354523,
          0.7556393700783312
         ],
         "y0": " ",
         "yaxis": "y"
        },
        {
         "alignmentgroup": "True",
         "boxpoints": "all",
         "fillcolor": "rgba(255,255,255,0)",
         "hoveron": "points",
         "hovertemplate": "true_col=tree3<br>method=%{x}<br>FMS=%{y}<extra></extra>",
         "legendgroup": "tree3",
         "line": {
          "color": "rgba(255,255,255,0)"
         },
         "marker": {
          "color": "#00cc96"
         },
         "name": "tree3",
         "offsetgroup": "tree3",
         "orientation": "v",
         "pointpos": 0,
         "showlegend": true,
         "type": "box",
         "x": [
          "poincare",
          "mds",
          "tsne",
          "umap",
          "pca",
          "poincare",
          "mds",
          "tsne",
          "umap",
          "pca",
          "poincare",
          "mds",
          "tsne",
          "umap",
          "pca",
          "poincare",
          "mds",
          "tsne",
          "umap",
          "pca",
          "poincare",
          "mds",
          "tsne",
          "umap",
          "pca"
         ],
         "x0": " ",
         "xaxis": "x",
         "y": [
          0.6242054752368835,
          0.5874233111517202,
          0.6094160151006025,
          0.6168753677824437,
          0.7802722549338489,
          0.6267415064710453,
          0.6499148284081397,
          0.5957111984317456,
          0.5908129885245402,
          0.7802722549338489,
          0.646923576137722,
          0.5844063531683805,
          0.6385606123042452,
          0.6002481943573117,
          0.7802722549338489,
          0.6099800646888868,
          0.6136971595131664,
          0.6093862013750969,
          0.582709419251288,
          0.7802722549338489,
          0.6085378651048993,
          0.6485774520911614,
          0.6039360548280691,
          0.5613342428219518,
          0.7802722549338489
         ],
         "y0": " ",
         "yaxis": "y"
        },
        {
         "alignmentgroup": "True",
         "boxpoints": "all",
         "fillcolor": "rgba(255,255,255,0)",
         "hoveron": "points",
         "hovertemplate": "true_col=tree4<br>method=%{x}<br>FMS=%{y}<extra></extra>",
         "legendgroup": "tree4",
         "line": {
          "color": "rgba(255,255,255,0)"
         },
         "marker": {
          "color": "#ab63fa"
         },
         "name": "tree4",
         "offsetgroup": "tree4",
         "orientation": "v",
         "pointpos": 0,
         "showlegend": true,
         "type": "box",
         "x": [
          "poincare",
          "mds",
          "tsne",
          "umap",
          "pca",
          "poincare",
          "mds",
          "tsne",
          "umap",
          "pca",
          "poincare",
          "mds",
          "tsne",
          "umap",
          "pca",
          "poincare",
          "mds",
          "tsne",
          "umap",
          "pca",
          "poincare",
          "mds",
          "tsne",
          "umap",
          "pca",
          "poincare",
          "mds",
          "tsne",
          "umap",
          "pca",
          "poincare",
          "mds",
          "tsne",
          "umap",
          "pca",
          "poincare",
          "mds",
          "tsne",
          "umap",
          "pca",
          "poincare",
          "mds",
          "tsne",
          "umap",
          "pca",
          "poincare",
          "mds",
          "tsne",
          "umap",
          "pca"
         ],
         "x0": " ",
         "xaxis": "x",
         "y": [
          0.6521494247866604,
          0.46421653602792406,
          0.6514303262844295,
          0.6337938087134454,
          0.565276291962682,
          0.6684379158477678,
          0.4897133211876594,
          0.6425970154869698,
          0.6286299220928813,
          0.565276291962682,
          0.6454268066178661,
          0.53852100945054,
          0.6641627282784055,
          0.6448757962863817,
          0.565276291962682,
          0.639366398398042,
          0.491834659924376,
          0.7091539002367586,
          0.633187027737985,
          0.565276291962682,
          0.6486041264423682,
          0.4946580934666536,
          0.6615005305725776,
          0.665074100804345,
          0.565276291962682,
          0.6521494247866604,
          0.46421653602792406,
          0.6514303262844295,
          0.6337938087134454,
          0.565276291962682,
          0.6684379158477678,
          0.4897133211876594,
          0.6425970154869698,
          0.6286299220928813,
          0.565276291962682,
          0.6454268066178661,
          0.53852100945054,
          0.6641627282784055,
          0.6448757962863817,
          0.565276291962682,
          0.639366398398042,
          0.491834659924376,
          0.7091539002367586,
          0.633187027737985,
          0.565276291962682,
          0.6486041264423682,
          0.4946580934666536,
          0.6615005305725776,
          0.665074100804345,
          0.565276291962682
         ],
         "y0": " ",
         "yaxis": "y"
        },
        {
         "alignmentgroup": "True",
         "boxpoints": "all",
         "fillcolor": "rgba(255,255,255,0)",
         "hoveron": "points",
         "hovertemplate": "true_col=Genus<br>method=%{x}<br>FMS=%{y}<extra></extra>",
         "legendgroup": "Genus",
         "line": {
          "color": "rgba(255,255,255,0)"
         },
         "marker": {
          "color": "#FFA15A"
         },
         "name": "Genus",
         "offsetgroup": "Genus",
         "orientation": "v",
         "pointpos": 0,
         "showlegend": true,
         "type": "box",
         "x": [
          "poincare",
          "mds",
          "tsne",
          "umap",
          "pca",
          "poincare",
          "mds",
          "tsne",
          "umap",
          "pca",
          "poincare",
          "mds",
          "tsne",
          "umap",
          "pca",
          "poincare",
          "mds",
          "tsne",
          "umap",
          "pca",
          "poincare",
          "mds",
          "tsne",
          "umap",
          "pca"
         ],
         "x0": " ",
         "xaxis": "x",
         "y": [
          0.4333271522690046,
          0.32191698499729143,
          0.4372814594950627,
          0.4817447517009151,
          0.7288479914550656,
          0.43447346973686796,
          0.3428732105505103,
          0.4356038058120143,
          0.493075493393708,
          0.7288479914550656,
          0.4479699961902531,
          0.32791421745124383,
          0.44256455724227234,
          0.4087398628023655,
          0.7288479914550656,
          0.427285834696512,
          0.3142539524173397,
          0.45962376791579357,
          0.47167435048704975,
          0.7288479914550656,
          0.45072676064807693,
          0.31153019044588753,
          0.4569769645216292,
          0.5928544151340894,
          0.7288479914550656
         ],
         "y0": " ",
         "yaxis": "y"
        },
        {
         "alignmentgroup": "True",
         "boxpoints": "all",
         "fillcolor": "rgba(255,255,255,0)",
         "hoveron": "points",
         "hovertemplate": "true_col=Class<br>method=%{x}<br>FMS=%{y}<extra></extra>",
         "legendgroup": "Class",
         "line": {
          "color": "rgba(255,255,255,0)"
         },
         "marker": {
          "color": "#19d3f3"
         },
         "name": "Class",
         "offsetgroup": "Class",
         "orientation": "v",
         "pointpos": 0,
         "showlegend": true,
         "type": "box",
         "x": [
          "poincare",
          "mds",
          "tsne",
          "umap",
          "pca",
          "poincare",
          "mds",
          "tsne",
          "umap",
          "pca",
          "poincare",
          "mds",
          "tsne",
          "umap",
          "pca",
          "poincare",
          "mds",
          "tsne",
          "umap",
          "pca",
          "poincare",
          "mds",
          "tsne",
          "umap",
          "pca"
         ],
         "x0": " ",
         "xaxis": "x",
         "y": [
          0.3000220808475246,
          0.2948570189125256,
          0.3440422626961651,
          0.34531341417852845,
          0.337369459249012,
          0.34273838197211415,
          0.30429327543086826,
          0.3184785173421545,
          0.30096623912709364,
          0.337369459249012,
          0.2985807359442809,
          0.31227292512923327,
          0.35203791247788774,
          0.2970863071566932,
          0.337369459249012,
          0.3116334816278964,
          0.3196196057554338,
          0.33278877398943285,
          0.33986117317571474,
          0.337369459249012,
          0.34903238010005827,
          0.2955970844884032,
          0.322806746549033,
          0.34123568507675855,
          0.337369459249012
         ],
         "y0": " ",
         "yaxis": "y"
        },
        {
         "alignmentgroup": "True",
         "boxpoints": "all",
         "fillcolor": "rgba(255,255,255,0)",
         "hoveron": "points",
         "hovertemplate": "true_col=Subphylum<br>method=%{x}<br>FMS=%{y}<extra></extra>",
         "legendgroup": "Subphylum",
         "line": {
          "color": "rgba(255,255,255,0)"
         },
         "marker": {
          "color": "#FF6692"
         },
         "name": "Subphylum",
         "offsetgroup": "Subphylum",
         "orientation": "v",
         "pointpos": 0,
         "showlegend": true,
         "type": "box",
         "x": [
          "poincare",
          "mds",
          "tsne",
          "umap",
          "pca",
          "poincare",
          "mds",
          "tsne",
          "umap",
          "pca",
          "poincare",
          "mds",
          "tsne",
          "umap",
          "pca",
          "poincare",
          "mds",
          "tsne",
          "umap",
          "pca",
          "poincare",
          "mds",
          "tsne",
          "umap",
          "pca"
         ],
         "x0": " ",
         "xaxis": "x",
         "y": [
          0.41846806803378617,
          0.34944596530224015,
          0.44663963553338,
          0.33248058877070014,
          0.466860310949493,
          0.43180093166832817,
          0.373545903940787,
          0.5023853604731526,
          0.3171636583135992,
          0.466860310949493,
          0.3394265269118165,
          0.36668756017769727,
          0.49504668772231475,
          0.355859932665637,
          0.466860310949493,
          0.4062734363988492,
          0.37480655907276744,
          0.4826249969685341,
          0.36080172905612556,
          0.466860310949493,
          0.40967181090765664,
          0.3735154666979971,
          0.4479434514977007,
          0.43321956815518925,
          0.466860310949493
         ],
         "y0": " ",
         "yaxis": "y"
        },
        {
         "alignmentgroup": "True",
         "boxpoints": "all",
         "fillcolor": "rgba(255,255,255,0)",
         "hoveron": "points",
         "hovertemplate": "true_col=Phylum<br>method=%{x}<br>FMS=%{y}<extra></extra>",
         "legendgroup": "Phylum",
         "line": {
          "color": "rgba(255,255,255,0)"
         },
         "marker": {
          "color": "#B6E880"
         },
         "name": "Phylum",
         "offsetgroup": "Phylum",
         "orientation": "v",
         "pointpos": 0,
         "showlegend": true,
         "type": "box",
         "x": [
          "poincare",
          "mds",
          "tsne",
          "umap",
          "pca",
          "poincare",
          "mds",
          "tsne",
          "umap",
          "pca",
          "poincare",
          "mds",
          "tsne",
          "umap",
          "pca",
          "poincare",
          "mds",
          "tsne",
          "umap",
          "pca",
          "poincare",
          "mds",
          "tsne",
          "umap",
          "pca"
         ],
         "x0": " ",
         "xaxis": "x",
         "y": [
          0.36979796943242493,
          0.36709112796032034,
          0.42578400725106497,
          0.37101883899927074,
          0.4109298241502566,
          0.3929415122474096,
          0.34598261173422323,
          0.35693936376043633,
          0.3552267150974673,
          0.4109298241502566,
          0.3968013192816107,
          0.34623860029475995,
          0.3528786960877054,
          0.3271644053492525,
          0.4109298241502566,
          0.36282112826890883,
          0.3539509092186781,
          0.40146082837314523,
          0.36288292337891426,
          0.4109298241502566,
          0.39853261538738183,
          0.32348498526207603,
          0.364152018913255,
          0.32936422589701114,
          0.4109298241502566
         ],
         "y0": " ",
         "yaxis": "y"
        },
        {
         "alignmentgroup": "True",
         "boxpoints": "all",
         "fillcolor": "rgba(255,255,255,0)",
         "hoveron": "points",
         "hovertemplate": "true_col=short_name<br>method=%{x}<br>FMS=%{y}<extra></extra>",
         "legendgroup": "short_name",
         "line": {
          "color": "rgba(255,255,255,0)"
         },
         "marker": {
          "color": "#FF97FF"
         },
         "name": "short_name",
         "offsetgroup": "short_name",
         "orientation": "v",
         "pointpos": 0,
         "showlegend": true,
         "type": "box",
         "x": [
          "poincare",
          "mds",
          "tsne",
          "umap",
          "pca",
          "poincare",
          "mds",
          "tsne",
          "umap",
          "pca",
          "poincare",
          "mds",
          "tsne",
          "umap",
          "pca",
          "poincare",
          "mds",
          "tsne",
          "umap",
          "pca",
          "poincare",
          "mds",
          "tsne",
          "umap",
          "pca"
         ],
         "x0": " ",
         "xaxis": "x",
         "y": [
          0.2999523453480302,
          0.31960734233664756,
          0.2892508578673745,
          0.2846859653114032,
          0.34287604535762617,
          0.30996932746954536,
          0.3256764314968693,
          0.3031724009403931,
          0.289597012751257,
          0.34287604535762617,
          0.3038906743072865,
          0.3210393560522319,
          0.2953958423308005,
          0.29257209241852283,
          0.34287604535762617,
          0.3042924320101242,
          0.33774572130700276,
          0.28142832613014346,
          0.282080497664802,
          0.34287604535762617,
          0.3154873003166408,
          0.3225673777360057,
          0.2955985626207341,
          0.2891992483945131,
          0.34287604535762617
         ],
         "y0": " ",
         "yaxis": "y"
        }
       ],
       "layout": {
        "boxmode": "group",
        "legend": {
         "title": {
          "text": "true_col"
         },
         "tracegroupgap": 0
        },
        "margin": {
         "t": 60
        },
        "template": {
         "data": {
          "bar": [
           {
            "error_x": {
             "color": "#2a3f5f"
            },
            "error_y": {
             "color": "#2a3f5f"
            },
            "marker": {
             "line": {
              "color": "#E5ECF6",
              "width": 0.5
             },
             "pattern": {
              "fillmode": "overlay",
              "size": 10,
              "solidity": 0.2
             }
            },
            "type": "bar"
           }
          ],
          "barpolar": [
           {
            "marker": {
             "line": {
              "color": "#E5ECF6",
              "width": 0.5
             },
             "pattern": {
              "fillmode": "overlay",
              "size": 10,
              "solidity": 0.2
             }
            },
            "type": "barpolar"
           }
          ],
          "carpet": [
           {
            "aaxis": {
             "endlinecolor": "#2a3f5f",
             "gridcolor": "white",
             "linecolor": "white",
             "minorgridcolor": "white",
             "startlinecolor": "#2a3f5f"
            },
            "baxis": {
             "endlinecolor": "#2a3f5f",
             "gridcolor": "white",
             "linecolor": "white",
             "minorgridcolor": "white",
             "startlinecolor": "#2a3f5f"
            },
            "type": "carpet"
           }
          ],
          "choropleth": [
           {
            "colorbar": {
             "outlinewidth": 0,
             "ticks": ""
            },
            "type": "choropleth"
           }
          ],
          "contour": [
           {
            "colorbar": {
             "outlinewidth": 0,
             "ticks": ""
            },
            "colorscale": [
             [
              0,
              "#0d0887"
             ],
             [
              0.1111111111111111,
              "#46039f"
             ],
             [
              0.2222222222222222,
              "#7201a8"
             ],
             [
              0.3333333333333333,
              "#9c179e"
             ],
             [
              0.4444444444444444,
              "#bd3786"
             ],
             [
              0.5555555555555556,
              "#d8576b"
             ],
             [
              0.6666666666666666,
              "#ed7953"
             ],
             [
              0.7777777777777778,
              "#fb9f3a"
             ],
             [
              0.8888888888888888,
              "#fdca26"
             ],
             [
              1,
              "#f0f921"
             ]
            ],
            "type": "contour"
           }
          ],
          "contourcarpet": [
           {
            "colorbar": {
             "outlinewidth": 0,
             "ticks": ""
            },
            "type": "contourcarpet"
           }
          ],
          "heatmap": [
           {
            "colorbar": {
             "outlinewidth": 0,
             "ticks": ""
            },
            "colorscale": [
             [
              0,
              "#0d0887"
             ],
             [
              0.1111111111111111,
              "#46039f"
             ],
             [
              0.2222222222222222,
              "#7201a8"
             ],
             [
              0.3333333333333333,
              "#9c179e"
             ],
             [
              0.4444444444444444,
              "#bd3786"
             ],
             [
              0.5555555555555556,
              "#d8576b"
             ],
             [
              0.6666666666666666,
              "#ed7953"
             ],
             [
              0.7777777777777778,
              "#fb9f3a"
             ],
             [
              0.8888888888888888,
              "#fdca26"
             ],
             [
              1,
              "#f0f921"
             ]
            ],
            "type": "heatmap"
           }
          ],
          "heatmapgl": [
           {
            "colorbar": {
             "outlinewidth": 0,
             "ticks": ""
            },
            "colorscale": [
             [
              0,
              "#0d0887"
             ],
             [
              0.1111111111111111,
              "#46039f"
             ],
             [
              0.2222222222222222,
              "#7201a8"
             ],
             [
              0.3333333333333333,
              "#9c179e"
             ],
             [
              0.4444444444444444,
              "#bd3786"
             ],
             [
              0.5555555555555556,
              "#d8576b"
             ],
             [
              0.6666666666666666,
              "#ed7953"
             ],
             [
              0.7777777777777778,
              "#fb9f3a"
             ],
             [
              0.8888888888888888,
              "#fdca26"
             ],
             [
              1,
              "#f0f921"
             ]
            ],
            "type": "heatmapgl"
           }
          ],
          "histogram": [
           {
            "marker": {
             "pattern": {
              "fillmode": "overlay",
              "size": 10,
              "solidity": 0.2
             }
            },
            "type": "histogram"
           }
          ],
          "histogram2d": [
           {
            "colorbar": {
             "outlinewidth": 0,
             "ticks": ""
            },
            "colorscale": [
             [
              0,
              "#0d0887"
             ],
             [
              0.1111111111111111,
              "#46039f"
             ],
             [
              0.2222222222222222,
              "#7201a8"
             ],
             [
              0.3333333333333333,
              "#9c179e"
             ],
             [
              0.4444444444444444,
              "#bd3786"
             ],
             [
              0.5555555555555556,
              "#d8576b"
             ],
             [
              0.6666666666666666,
              "#ed7953"
             ],
             [
              0.7777777777777778,
              "#fb9f3a"
             ],
             [
              0.8888888888888888,
              "#fdca26"
             ],
             [
              1,
              "#f0f921"
             ]
            ],
            "type": "histogram2d"
           }
          ],
          "histogram2dcontour": [
           {
            "colorbar": {
             "outlinewidth": 0,
             "ticks": ""
            },
            "colorscale": [
             [
              0,
              "#0d0887"
             ],
             [
              0.1111111111111111,
              "#46039f"
             ],
             [
              0.2222222222222222,
              "#7201a8"
             ],
             [
              0.3333333333333333,
              "#9c179e"
             ],
             [
              0.4444444444444444,
              "#bd3786"
             ],
             [
              0.5555555555555556,
              "#d8576b"
             ],
             [
              0.6666666666666666,
              "#ed7953"
             ],
             [
              0.7777777777777778,
              "#fb9f3a"
             ],
             [
              0.8888888888888888,
              "#fdca26"
             ],
             [
              1,
              "#f0f921"
             ]
            ],
            "type": "histogram2dcontour"
           }
          ],
          "mesh3d": [
           {
            "colorbar": {
             "outlinewidth": 0,
             "ticks": ""
            },
            "type": "mesh3d"
           }
          ],
          "parcoords": [
           {
            "line": {
             "colorbar": {
              "outlinewidth": 0,
              "ticks": ""
             }
            },
            "type": "parcoords"
           }
          ],
          "pie": [
           {
            "automargin": true,
            "type": "pie"
           }
          ],
          "scatter": [
           {
            "fillpattern": {
             "fillmode": "overlay",
             "size": 10,
             "solidity": 0.2
            },
            "type": "scatter"
           }
          ],
          "scatter3d": [
           {
            "line": {
             "colorbar": {
              "outlinewidth": 0,
              "ticks": ""
             }
            },
            "marker": {
             "colorbar": {
              "outlinewidth": 0,
              "ticks": ""
             }
            },
            "type": "scatter3d"
           }
          ],
          "scattercarpet": [
           {
            "marker": {
             "colorbar": {
              "outlinewidth": 0,
              "ticks": ""
             }
            },
            "type": "scattercarpet"
           }
          ],
          "scattergeo": [
           {
            "marker": {
             "colorbar": {
              "outlinewidth": 0,
              "ticks": ""
             }
            },
            "type": "scattergeo"
           }
          ],
          "scattergl": [
           {
            "marker": {
             "colorbar": {
              "outlinewidth": 0,
              "ticks": ""
             }
            },
            "type": "scattergl"
           }
          ],
          "scattermapbox": [
           {
            "marker": {
             "colorbar": {
              "outlinewidth": 0,
              "ticks": ""
             }
            },
            "type": "scattermapbox"
           }
          ],
          "scatterpolar": [
           {
            "marker": {
             "colorbar": {
              "outlinewidth": 0,
              "ticks": ""
             }
            },
            "type": "scatterpolar"
           }
          ],
          "scatterpolargl": [
           {
            "marker": {
             "colorbar": {
              "outlinewidth": 0,
              "ticks": ""
             }
            },
            "type": "scatterpolargl"
           }
          ],
          "scatterternary": [
           {
            "marker": {
             "colorbar": {
              "outlinewidth": 0,
              "ticks": ""
             }
            },
            "type": "scatterternary"
           }
          ],
          "surface": [
           {
            "colorbar": {
             "outlinewidth": 0,
             "ticks": ""
            },
            "colorscale": [
             [
              0,
              "#0d0887"
             ],
             [
              0.1111111111111111,
              "#46039f"
             ],
             [
              0.2222222222222222,
              "#7201a8"
             ],
             [
              0.3333333333333333,
              "#9c179e"
             ],
             [
              0.4444444444444444,
              "#bd3786"
             ],
             [
              0.5555555555555556,
              "#d8576b"
             ],
             [
              0.6666666666666666,
              "#ed7953"
             ],
             [
              0.7777777777777778,
              "#fb9f3a"
             ],
             [
              0.8888888888888888,
              "#fdca26"
             ],
             [
              1,
              "#f0f921"
             ]
            ],
            "type": "surface"
           }
          ],
          "table": [
           {
            "cells": {
             "fill": {
              "color": "#EBF0F8"
             },
             "line": {
              "color": "white"
             }
            },
            "header": {
             "fill": {
              "color": "#C8D4E3"
             },
             "line": {
              "color": "white"
             }
            },
            "type": "table"
           }
          ]
         },
         "layout": {
          "annotationdefaults": {
           "arrowcolor": "#2a3f5f",
           "arrowhead": 0,
           "arrowwidth": 1
          },
          "autotypenumbers": "strict",
          "coloraxis": {
           "colorbar": {
            "outlinewidth": 0,
            "ticks": ""
           }
          },
          "colorscale": {
           "diverging": [
            [
             0,
             "#8e0152"
            ],
            [
             0.1,
             "#c51b7d"
            ],
            [
             0.2,
             "#de77ae"
            ],
            [
             0.3,
             "#f1b6da"
            ],
            [
             0.4,
             "#fde0ef"
            ],
            [
             0.5,
             "#f7f7f7"
            ],
            [
             0.6,
             "#e6f5d0"
            ],
            [
             0.7,
             "#b8e186"
            ],
            [
             0.8,
             "#7fbc41"
            ],
            [
             0.9,
             "#4d9221"
            ],
            [
             1,
             "#276419"
            ]
           ],
           "sequential": [
            [
             0,
             "#0d0887"
            ],
            [
             0.1111111111111111,
             "#46039f"
            ],
            [
             0.2222222222222222,
             "#7201a8"
            ],
            [
             0.3333333333333333,
             "#9c179e"
            ],
            [
             0.4444444444444444,
             "#bd3786"
            ],
            [
             0.5555555555555556,
             "#d8576b"
            ],
            [
             0.6666666666666666,
             "#ed7953"
            ],
            [
             0.7777777777777778,
             "#fb9f3a"
            ],
            [
             0.8888888888888888,
             "#fdca26"
            ],
            [
             1,
             "#f0f921"
            ]
           ],
           "sequentialminus": [
            [
             0,
             "#0d0887"
            ],
            [
             0.1111111111111111,
             "#46039f"
            ],
            [
             0.2222222222222222,
             "#7201a8"
            ],
            [
             0.3333333333333333,
             "#9c179e"
            ],
            [
             0.4444444444444444,
             "#bd3786"
            ],
            [
             0.5555555555555556,
             "#d8576b"
            ],
            [
             0.6666666666666666,
             "#ed7953"
            ],
            [
             0.7777777777777778,
             "#fb9f3a"
            ],
            [
             0.8888888888888888,
             "#fdca26"
            ],
            [
             1,
             "#f0f921"
            ]
           ]
          },
          "colorway": [
           "#636efa",
           "#EF553B",
           "#00cc96",
           "#ab63fa",
           "#FFA15A",
           "#19d3f3",
           "#FF6692",
           "#B6E880",
           "#FF97FF",
           "#FECB52"
          ],
          "font": {
           "color": "#2a3f5f"
          },
          "geo": {
           "bgcolor": "white",
           "lakecolor": "white",
           "landcolor": "#E5ECF6",
           "showlakes": true,
           "showland": true,
           "subunitcolor": "white"
          },
          "hoverlabel": {
           "align": "left"
          },
          "hovermode": "closest",
          "mapbox": {
           "style": "light"
          },
          "paper_bgcolor": "white",
          "plot_bgcolor": "#E5ECF6",
          "polar": {
           "angularaxis": {
            "gridcolor": "white",
            "linecolor": "white",
            "ticks": ""
           },
           "bgcolor": "#E5ECF6",
           "radialaxis": {
            "gridcolor": "white",
            "linecolor": "white",
            "ticks": ""
           }
          },
          "scene": {
           "xaxis": {
            "backgroundcolor": "#E5ECF6",
            "gridcolor": "white",
            "gridwidth": 2,
            "linecolor": "white",
            "showbackground": true,
            "ticks": "",
            "zerolinecolor": "white"
           },
           "yaxis": {
            "backgroundcolor": "#E5ECF6",
            "gridcolor": "white",
            "gridwidth": 2,
            "linecolor": "white",
            "showbackground": true,
            "ticks": "",
            "zerolinecolor": "white"
           },
           "zaxis": {
            "backgroundcolor": "#E5ECF6",
            "gridcolor": "white",
            "gridwidth": 2,
            "linecolor": "white",
            "showbackground": true,
            "ticks": "",
            "zerolinecolor": "white"
           }
          },
          "shapedefaults": {
           "line": {
            "color": "#2a3f5f"
           }
          },
          "ternary": {
           "aaxis": {
            "gridcolor": "white",
            "linecolor": "white",
            "ticks": ""
           },
           "baxis": {
            "gridcolor": "white",
            "linecolor": "white",
            "ticks": ""
           },
           "bgcolor": "#E5ECF6",
           "caxis": {
            "gridcolor": "white",
            "linecolor": "white",
            "ticks": ""
           }
          },
          "title": {
           "x": 0.05
          },
          "xaxis": {
           "automargin": true,
           "gridcolor": "white",
           "linecolor": "white",
           "ticks": "",
           "title": {
            "standoff": 15
           },
           "zerolinecolor": "white",
           "zerolinewidth": 2
          },
          "yaxis": {
           "automargin": true,
           "gridcolor": "white",
           "linecolor": "white",
           "ticks": "",
           "title": {
            "standoff": 15
           },
           "zerolinecolor": "white",
           "zerolinewidth": 2
          }
         }
        },
        "xaxis": {
         "anchor": "y",
         "domain": [
          0,
          1
         ],
         "title": {
          "text": "method"
         }
        },
        "yaxis": {
         "anchor": "x",
         "domain": [
          0,
          1
         ],
         "range": [
          0,
          1
         ],
         "title": {
          "text": "FMS"
         }
        }
       }
      },
      "text/html": [
       "<div>                            <div id=\"1b7fae37-e567-493d-ba1c-517ea2a937d3\" class=\"plotly-graph-div\" style=\"height:525px; width:100%;\"></div>            <script type=\"text/javascript\">                require([\"plotly\"], function(Plotly) {                    window.PLOTLYENV=window.PLOTLYENV || {};                                    if (document.getElementById(\"1b7fae37-e567-493d-ba1c-517ea2a937d3\")) {                    Plotly.newPlot(                        \"1b7fae37-e567-493d-ba1c-517ea2a937d3\",                        [{\"alignmentgroup\":\"True\",\"boxpoints\":\"all\",\"fillcolor\":\"rgba(255,255,255,0)\",\"hoveron\":\"points\",\"hovertemplate\":\"true_col=tree1<br>method=%{x}<br>FMS=%{y}<extra></extra>\",\"legendgroup\":\"tree1\",\"line\":{\"color\":\"rgba(255,255,255,0)\"},\"marker\":{\"color\":\"#636efa\"},\"name\":\"tree1\",\"offsetgroup\":\"tree1\",\"orientation\":\"v\",\"pointpos\":0,\"showlegend\":true,\"x\":[\"poincare\",\"poincare\",\"mds\",\"tsne\",\"umap\",\"pca\",\"poincare\",\"mds\",\"tsne\",\"umap\",\"pca\",\"poincare\",\"mds\",\"tsne\",\"umap\",\"pca\",\"poincare\",\"mds\",\"tsne\",\"umap\",\"pca\",\"poincare\",\"mds\",\"tsne\",\"umap\",\"pca\"],\"x0\":\" \",\"xaxis\":\"x\",\"y\":[0.696964397766638,0.696964397766638,0.7205398719712048,0.6953653679353451,0.6796180579054872,0.6616477747093069,0.6992362474022578,0.690733620511288,0.6953653679353451,0.6992467608749974,0.6616477747093069,0.722220052927455,0.6491361125489232,0.6953653679353451,0.6812381270884044,0.6616477747093069,0.7078030677563522,0.73909588277009,0.7227191947733121,0.668157752277926,0.6616477747093069,0.7228004822081163,0.7394048731173045,0.727025404843965,0.702686249518278,0.6616477747093069],\"y0\":\" \",\"yaxis\":\"y\",\"type\":\"box\"},{\"alignmentgroup\":\"True\",\"boxpoints\":\"all\",\"fillcolor\":\"rgba(255,255,255,0)\",\"hoveron\":\"points\",\"hovertemplate\":\"true_col=tree2<br>method=%{x}<br>FMS=%{y}<extra></extra>\",\"legendgroup\":\"tree2\",\"line\":{\"color\":\"rgba(255,255,255,0)\"},\"marker\":{\"color\":\"#EF553B\"},\"name\":\"tree2\",\"offsetgroup\":\"tree2\",\"orientation\":\"v\",\"pointpos\":0,\"showlegend\":true,\"x\":[\"poincare\",\"mds\",\"tsne\",\"umap\",\"pca\",\"poincare\",\"mds\",\"tsne\",\"umap\",\"pca\",\"poincare\",\"mds\",\"tsne\",\"umap\",\"pca\",\"poincare\",\"mds\",\"tsne\",\"umap\",\"pca\",\"poincare\",\"mds\",\"tsne\",\"umap\",\"pca\"],\"x0\":\" \",\"xaxis\":\"x\",\"y\":[0.6576778264811466,0.6507969702892049,0.682308546523322,0.6432546933120479,0.7556393700783312,0.6841188497340708,0.7911695666713678,0.7171807523272501,0.6256185640144425,0.7556393700783312,0.6465953619768436,0.7631076229186115,0.7253051484048276,0.6511107299812929,0.7556393700783312,0.6364103059955556,0.6860279597521829,0.7136083772331446,0.645691148434262,0.7556393700783312,0.6455634575786746,0.7604146491667584,0.7253051484048276,0.655875445354523,0.7556393700783312],\"y0\":\" \",\"yaxis\":\"y\",\"type\":\"box\"},{\"alignmentgroup\":\"True\",\"boxpoints\":\"all\",\"fillcolor\":\"rgba(255,255,255,0)\",\"hoveron\":\"points\",\"hovertemplate\":\"true_col=tree3<br>method=%{x}<br>FMS=%{y}<extra></extra>\",\"legendgroup\":\"tree3\",\"line\":{\"color\":\"rgba(255,255,255,0)\"},\"marker\":{\"color\":\"#00cc96\"},\"name\":\"tree3\",\"offsetgroup\":\"tree3\",\"orientation\":\"v\",\"pointpos\":0,\"showlegend\":true,\"x\":[\"poincare\",\"mds\",\"tsne\",\"umap\",\"pca\",\"poincare\",\"mds\",\"tsne\",\"umap\",\"pca\",\"poincare\",\"mds\",\"tsne\",\"umap\",\"pca\",\"poincare\",\"mds\",\"tsne\",\"umap\",\"pca\",\"poincare\",\"mds\",\"tsne\",\"umap\",\"pca\"],\"x0\":\" \",\"xaxis\":\"x\",\"y\":[0.6242054752368835,0.5874233111517202,0.6094160151006025,0.6168753677824437,0.7802722549338489,0.6267415064710453,0.6499148284081397,0.5957111984317456,0.5908129885245402,0.7802722549338489,0.646923576137722,0.5844063531683805,0.6385606123042452,0.6002481943573117,0.7802722549338489,0.6099800646888868,0.6136971595131664,0.6093862013750969,0.582709419251288,0.7802722549338489,0.6085378651048993,0.6485774520911614,0.6039360548280691,0.5613342428219518,0.7802722549338489],\"y0\":\" \",\"yaxis\":\"y\",\"type\":\"box\"},{\"alignmentgroup\":\"True\",\"boxpoints\":\"all\",\"fillcolor\":\"rgba(255,255,255,0)\",\"hoveron\":\"points\",\"hovertemplate\":\"true_col=tree4<br>method=%{x}<br>FMS=%{y}<extra></extra>\",\"legendgroup\":\"tree4\",\"line\":{\"color\":\"rgba(255,255,255,0)\"},\"marker\":{\"color\":\"#ab63fa\"},\"name\":\"tree4\",\"offsetgroup\":\"tree4\",\"orientation\":\"v\",\"pointpos\":0,\"showlegend\":true,\"x\":[\"poincare\",\"mds\",\"tsne\",\"umap\",\"pca\",\"poincare\",\"mds\",\"tsne\",\"umap\",\"pca\",\"poincare\",\"mds\",\"tsne\",\"umap\",\"pca\",\"poincare\",\"mds\",\"tsne\",\"umap\",\"pca\",\"poincare\",\"mds\",\"tsne\",\"umap\",\"pca\",\"poincare\",\"mds\",\"tsne\",\"umap\",\"pca\",\"poincare\",\"mds\",\"tsne\",\"umap\",\"pca\",\"poincare\",\"mds\",\"tsne\",\"umap\",\"pca\",\"poincare\",\"mds\",\"tsne\",\"umap\",\"pca\",\"poincare\",\"mds\",\"tsne\",\"umap\",\"pca\"],\"x0\":\" \",\"xaxis\":\"x\",\"y\":[0.6521494247866604,0.46421653602792406,0.6514303262844295,0.6337938087134454,0.565276291962682,0.6684379158477678,0.4897133211876594,0.6425970154869698,0.6286299220928813,0.565276291962682,0.6454268066178661,0.53852100945054,0.6641627282784055,0.6448757962863817,0.565276291962682,0.639366398398042,0.491834659924376,0.7091539002367586,0.633187027737985,0.565276291962682,0.6486041264423682,0.4946580934666536,0.6615005305725776,0.665074100804345,0.565276291962682,0.6521494247866604,0.46421653602792406,0.6514303262844295,0.6337938087134454,0.565276291962682,0.6684379158477678,0.4897133211876594,0.6425970154869698,0.6286299220928813,0.565276291962682,0.6454268066178661,0.53852100945054,0.6641627282784055,0.6448757962863817,0.565276291962682,0.639366398398042,0.491834659924376,0.7091539002367586,0.633187027737985,0.565276291962682,0.6486041264423682,0.4946580934666536,0.6615005305725776,0.665074100804345,0.565276291962682],\"y0\":\" \",\"yaxis\":\"y\",\"type\":\"box\"},{\"alignmentgroup\":\"True\",\"boxpoints\":\"all\",\"fillcolor\":\"rgba(255,255,255,0)\",\"hoveron\":\"points\",\"hovertemplate\":\"true_col=Genus<br>method=%{x}<br>FMS=%{y}<extra></extra>\",\"legendgroup\":\"Genus\",\"line\":{\"color\":\"rgba(255,255,255,0)\"},\"marker\":{\"color\":\"#FFA15A\"},\"name\":\"Genus\",\"offsetgroup\":\"Genus\",\"orientation\":\"v\",\"pointpos\":0,\"showlegend\":true,\"x\":[\"poincare\",\"mds\",\"tsne\",\"umap\",\"pca\",\"poincare\",\"mds\",\"tsne\",\"umap\",\"pca\",\"poincare\",\"mds\",\"tsne\",\"umap\",\"pca\",\"poincare\",\"mds\",\"tsne\",\"umap\",\"pca\",\"poincare\",\"mds\",\"tsne\",\"umap\",\"pca\"],\"x0\":\" \",\"xaxis\":\"x\",\"y\":[0.4333271522690046,0.32191698499729143,0.4372814594950627,0.4817447517009151,0.7288479914550656,0.43447346973686796,0.3428732105505103,0.4356038058120143,0.493075493393708,0.7288479914550656,0.4479699961902531,0.32791421745124383,0.44256455724227234,0.4087398628023655,0.7288479914550656,0.427285834696512,0.3142539524173397,0.45962376791579357,0.47167435048704975,0.7288479914550656,0.45072676064807693,0.31153019044588753,0.4569769645216292,0.5928544151340894,0.7288479914550656],\"y0\":\" \",\"yaxis\":\"y\",\"type\":\"box\"},{\"alignmentgroup\":\"True\",\"boxpoints\":\"all\",\"fillcolor\":\"rgba(255,255,255,0)\",\"hoveron\":\"points\",\"hovertemplate\":\"true_col=Class<br>method=%{x}<br>FMS=%{y}<extra></extra>\",\"legendgroup\":\"Class\",\"line\":{\"color\":\"rgba(255,255,255,0)\"},\"marker\":{\"color\":\"#19d3f3\"},\"name\":\"Class\",\"offsetgroup\":\"Class\",\"orientation\":\"v\",\"pointpos\":0,\"showlegend\":true,\"x\":[\"poincare\",\"mds\",\"tsne\",\"umap\",\"pca\",\"poincare\",\"mds\",\"tsne\",\"umap\",\"pca\",\"poincare\",\"mds\",\"tsne\",\"umap\",\"pca\",\"poincare\",\"mds\",\"tsne\",\"umap\",\"pca\",\"poincare\",\"mds\",\"tsne\",\"umap\",\"pca\"],\"x0\":\" \",\"xaxis\":\"x\",\"y\":[0.3000220808475246,0.2948570189125256,0.3440422626961651,0.34531341417852845,0.337369459249012,0.34273838197211415,0.30429327543086826,0.3184785173421545,0.30096623912709364,0.337369459249012,0.2985807359442809,0.31227292512923327,0.35203791247788774,0.2970863071566932,0.337369459249012,0.3116334816278964,0.3196196057554338,0.33278877398943285,0.33986117317571474,0.337369459249012,0.34903238010005827,0.2955970844884032,0.322806746549033,0.34123568507675855,0.337369459249012],\"y0\":\" \",\"yaxis\":\"y\",\"type\":\"box\"},{\"alignmentgroup\":\"True\",\"boxpoints\":\"all\",\"fillcolor\":\"rgba(255,255,255,0)\",\"hoveron\":\"points\",\"hovertemplate\":\"true_col=Subphylum<br>method=%{x}<br>FMS=%{y}<extra></extra>\",\"legendgroup\":\"Subphylum\",\"line\":{\"color\":\"rgba(255,255,255,0)\"},\"marker\":{\"color\":\"#FF6692\"},\"name\":\"Subphylum\",\"offsetgroup\":\"Subphylum\",\"orientation\":\"v\",\"pointpos\":0,\"showlegend\":true,\"x\":[\"poincare\",\"mds\",\"tsne\",\"umap\",\"pca\",\"poincare\",\"mds\",\"tsne\",\"umap\",\"pca\",\"poincare\",\"mds\",\"tsne\",\"umap\",\"pca\",\"poincare\",\"mds\",\"tsne\",\"umap\",\"pca\",\"poincare\",\"mds\",\"tsne\",\"umap\",\"pca\"],\"x0\":\" \",\"xaxis\":\"x\",\"y\":[0.41846806803378617,0.34944596530224015,0.44663963553338,0.33248058877070014,0.466860310949493,0.43180093166832817,0.373545903940787,0.5023853604731526,0.3171636583135992,0.466860310949493,0.3394265269118165,0.36668756017769727,0.49504668772231475,0.355859932665637,0.466860310949493,0.4062734363988492,0.37480655907276744,0.4826249969685341,0.36080172905612556,0.466860310949493,0.40967181090765664,0.3735154666979971,0.4479434514977007,0.43321956815518925,0.466860310949493],\"y0\":\" \",\"yaxis\":\"y\",\"type\":\"box\"},{\"alignmentgroup\":\"True\",\"boxpoints\":\"all\",\"fillcolor\":\"rgba(255,255,255,0)\",\"hoveron\":\"points\",\"hovertemplate\":\"true_col=Phylum<br>method=%{x}<br>FMS=%{y}<extra></extra>\",\"legendgroup\":\"Phylum\",\"line\":{\"color\":\"rgba(255,255,255,0)\"},\"marker\":{\"color\":\"#B6E880\"},\"name\":\"Phylum\",\"offsetgroup\":\"Phylum\",\"orientation\":\"v\",\"pointpos\":0,\"showlegend\":true,\"x\":[\"poincare\",\"mds\",\"tsne\",\"umap\",\"pca\",\"poincare\",\"mds\",\"tsne\",\"umap\",\"pca\",\"poincare\",\"mds\",\"tsne\",\"umap\",\"pca\",\"poincare\",\"mds\",\"tsne\",\"umap\",\"pca\",\"poincare\",\"mds\",\"tsne\",\"umap\",\"pca\"],\"x0\":\" \",\"xaxis\":\"x\",\"y\":[0.36979796943242493,0.36709112796032034,0.42578400725106497,0.37101883899927074,0.4109298241502566,0.3929415122474096,0.34598261173422323,0.35693936376043633,0.3552267150974673,0.4109298241502566,0.3968013192816107,0.34623860029475995,0.3528786960877054,0.3271644053492525,0.4109298241502566,0.36282112826890883,0.3539509092186781,0.40146082837314523,0.36288292337891426,0.4109298241502566,0.39853261538738183,0.32348498526207603,0.364152018913255,0.32936422589701114,0.4109298241502566],\"y0\":\" \",\"yaxis\":\"y\",\"type\":\"box\"},{\"alignmentgroup\":\"True\",\"boxpoints\":\"all\",\"fillcolor\":\"rgba(255,255,255,0)\",\"hoveron\":\"points\",\"hovertemplate\":\"true_col=short_name<br>method=%{x}<br>FMS=%{y}<extra></extra>\",\"legendgroup\":\"short_name\",\"line\":{\"color\":\"rgba(255,255,255,0)\"},\"marker\":{\"color\":\"#FF97FF\"},\"name\":\"short_name\",\"offsetgroup\":\"short_name\",\"orientation\":\"v\",\"pointpos\":0,\"showlegend\":true,\"x\":[\"poincare\",\"mds\",\"tsne\",\"umap\",\"pca\",\"poincare\",\"mds\",\"tsne\",\"umap\",\"pca\",\"poincare\",\"mds\",\"tsne\",\"umap\",\"pca\",\"poincare\",\"mds\",\"tsne\",\"umap\",\"pca\",\"poincare\",\"mds\",\"tsne\",\"umap\",\"pca\"],\"x0\":\" \",\"xaxis\":\"x\",\"y\":[0.2999523453480302,0.31960734233664756,0.2892508578673745,0.2846859653114032,0.34287604535762617,0.30996932746954536,0.3256764314968693,0.3031724009403931,0.289597012751257,0.34287604535762617,0.3038906743072865,0.3210393560522319,0.2953958423308005,0.29257209241852283,0.34287604535762617,0.3042924320101242,0.33774572130700276,0.28142832613014346,0.282080497664802,0.34287604535762617,0.3154873003166408,0.3225673777360057,0.2955985626207341,0.2891992483945131,0.34287604535762617],\"y0\":\" \",\"yaxis\":\"y\",\"type\":\"box\"}],                        {\"template\":{\"data\":{\"histogram2dcontour\":[{\"type\":\"histogram2dcontour\",\"colorbar\":{\"outlinewidth\":0,\"ticks\":\"\"},\"colorscale\":[[0.0,\"#0d0887\"],[0.1111111111111111,\"#46039f\"],[0.2222222222222222,\"#7201a8\"],[0.3333333333333333,\"#9c179e\"],[0.4444444444444444,\"#bd3786\"],[0.5555555555555556,\"#d8576b\"],[0.6666666666666666,\"#ed7953\"],[0.7777777777777778,\"#fb9f3a\"],[0.8888888888888888,\"#fdca26\"],[1.0,\"#f0f921\"]]}],\"choropleth\":[{\"type\":\"choropleth\",\"colorbar\":{\"outlinewidth\":0,\"ticks\":\"\"}}],\"histogram2d\":[{\"type\":\"histogram2d\",\"colorbar\":{\"outlinewidth\":0,\"ticks\":\"\"},\"colorscale\":[[0.0,\"#0d0887\"],[0.1111111111111111,\"#46039f\"],[0.2222222222222222,\"#7201a8\"],[0.3333333333333333,\"#9c179e\"],[0.4444444444444444,\"#bd3786\"],[0.5555555555555556,\"#d8576b\"],[0.6666666666666666,\"#ed7953\"],[0.7777777777777778,\"#fb9f3a\"],[0.8888888888888888,\"#fdca26\"],[1.0,\"#f0f921\"]]}],\"heatmap\":[{\"type\":\"heatmap\",\"colorbar\":{\"outlinewidth\":0,\"ticks\":\"\"},\"colorscale\":[[0.0,\"#0d0887\"],[0.1111111111111111,\"#46039f\"],[0.2222222222222222,\"#7201a8\"],[0.3333333333333333,\"#9c179e\"],[0.4444444444444444,\"#bd3786\"],[0.5555555555555556,\"#d8576b\"],[0.6666666666666666,\"#ed7953\"],[0.7777777777777778,\"#fb9f3a\"],[0.8888888888888888,\"#fdca26\"],[1.0,\"#f0f921\"]]}],\"heatmapgl\":[{\"type\":\"heatmapgl\",\"colorbar\":{\"outlinewidth\":0,\"ticks\":\"\"},\"colorscale\":[[0.0,\"#0d0887\"],[0.1111111111111111,\"#46039f\"],[0.2222222222222222,\"#7201a8\"],[0.3333333333333333,\"#9c179e\"],[0.4444444444444444,\"#bd3786\"],[0.5555555555555556,\"#d8576b\"],[0.6666666666666666,\"#ed7953\"],[0.7777777777777778,\"#fb9f3a\"],[0.8888888888888888,\"#fdca26\"],[1.0,\"#f0f921\"]]}],\"contourcarpet\":[{\"type\":\"contourcarpet\",\"colorbar\":{\"outlinewidth\":0,\"ticks\":\"\"}}],\"contour\":[{\"type\":\"contour\",\"colorbar\":{\"outlinewidth\":0,\"ticks\":\"\"},\"colorscale\":[[0.0,\"#0d0887\"],[0.1111111111111111,\"#46039f\"],[0.2222222222222222,\"#7201a8\"],[0.3333333333333333,\"#9c179e\"],[0.4444444444444444,\"#bd3786\"],[0.5555555555555556,\"#d8576b\"],[0.6666666666666666,\"#ed7953\"],[0.7777777777777778,\"#fb9f3a\"],[0.8888888888888888,\"#fdca26\"],[1.0,\"#f0f921\"]]}],\"surface\":[{\"type\":\"surface\",\"colorbar\":{\"outlinewidth\":0,\"ticks\":\"\"},\"colorscale\":[[0.0,\"#0d0887\"],[0.1111111111111111,\"#46039f\"],[0.2222222222222222,\"#7201a8\"],[0.3333333333333333,\"#9c179e\"],[0.4444444444444444,\"#bd3786\"],[0.5555555555555556,\"#d8576b\"],[0.6666666666666666,\"#ed7953\"],[0.7777777777777778,\"#fb9f3a\"],[0.8888888888888888,\"#fdca26\"],[1.0,\"#f0f921\"]]}],\"mesh3d\":[{\"type\":\"mesh3d\",\"colorbar\":{\"outlinewidth\":0,\"ticks\":\"\"}}],\"scatter\":[{\"fillpattern\":{\"fillmode\":\"overlay\",\"size\":10,\"solidity\":0.2},\"type\":\"scatter\"}],\"parcoords\":[{\"type\":\"parcoords\",\"line\":{\"colorbar\":{\"outlinewidth\":0,\"ticks\":\"\"}}}],\"scatterpolargl\":[{\"type\":\"scatterpolargl\",\"marker\":{\"colorbar\":{\"outlinewidth\":0,\"ticks\":\"\"}}}],\"bar\":[{\"error_x\":{\"color\":\"#2a3f5f\"},\"error_y\":{\"color\":\"#2a3f5f\"},\"marker\":{\"line\":{\"color\":\"#E5ECF6\",\"width\":0.5},\"pattern\":{\"fillmode\":\"overlay\",\"size\":10,\"solidity\":0.2}},\"type\":\"bar\"}],\"scattergeo\":[{\"type\":\"scattergeo\",\"marker\":{\"colorbar\":{\"outlinewidth\":0,\"ticks\":\"\"}}}],\"scatterpolar\":[{\"type\":\"scatterpolar\",\"marker\":{\"colorbar\":{\"outlinewidth\":0,\"ticks\":\"\"}}}],\"histogram\":[{\"marker\":{\"pattern\":{\"fillmode\":\"overlay\",\"size\":10,\"solidity\":0.2}},\"type\":\"histogram\"}],\"scattergl\":[{\"type\":\"scattergl\",\"marker\":{\"colorbar\":{\"outlinewidth\":0,\"ticks\":\"\"}}}],\"scatter3d\":[{\"type\":\"scatter3d\",\"line\":{\"colorbar\":{\"outlinewidth\":0,\"ticks\":\"\"}},\"marker\":{\"colorbar\":{\"outlinewidth\":0,\"ticks\":\"\"}}}],\"scattermapbox\":[{\"type\":\"scattermapbox\",\"marker\":{\"colorbar\":{\"outlinewidth\":0,\"ticks\":\"\"}}}],\"scatterternary\":[{\"type\":\"scatterternary\",\"marker\":{\"colorbar\":{\"outlinewidth\":0,\"ticks\":\"\"}}}],\"scattercarpet\":[{\"type\":\"scattercarpet\",\"marker\":{\"colorbar\":{\"outlinewidth\":0,\"ticks\":\"\"}}}],\"carpet\":[{\"aaxis\":{\"endlinecolor\":\"#2a3f5f\",\"gridcolor\":\"white\",\"linecolor\":\"white\",\"minorgridcolor\":\"white\",\"startlinecolor\":\"#2a3f5f\"},\"baxis\":{\"endlinecolor\":\"#2a3f5f\",\"gridcolor\":\"white\",\"linecolor\":\"white\",\"minorgridcolor\":\"white\",\"startlinecolor\":\"#2a3f5f\"},\"type\":\"carpet\"}],\"table\":[{\"cells\":{\"fill\":{\"color\":\"#EBF0F8\"},\"line\":{\"color\":\"white\"}},\"header\":{\"fill\":{\"color\":\"#C8D4E3\"},\"line\":{\"color\":\"white\"}},\"type\":\"table\"}],\"barpolar\":[{\"marker\":{\"line\":{\"color\":\"#E5ECF6\",\"width\":0.5},\"pattern\":{\"fillmode\":\"overlay\",\"size\":10,\"solidity\":0.2}},\"type\":\"barpolar\"}],\"pie\":[{\"automargin\":true,\"type\":\"pie\"}]},\"layout\":{\"autotypenumbers\":\"strict\",\"colorway\":[\"#636efa\",\"#EF553B\",\"#00cc96\",\"#ab63fa\",\"#FFA15A\",\"#19d3f3\",\"#FF6692\",\"#B6E880\",\"#FF97FF\",\"#FECB52\"],\"font\":{\"color\":\"#2a3f5f\"},\"hovermode\":\"closest\",\"hoverlabel\":{\"align\":\"left\"},\"paper_bgcolor\":\"white\",\"plot_bgcolor\":\"#E5ECF6\",\"polar\":{\"bgcolor\":\"#E5ECF6\",\"angularaxis\":{\"gridcolor\":\"white\",\"linecolor\":\"white\",\"ticks\":\"\"},\"radialaxis\":{\"gridcolor\":\"white\",\"linecolor\":\"white\",\"ticks\":\"\"}},\"ternary\":{\"bgcolor\":\"#E5ECF6\",\"aaxis\":{\"gridcolor\":\"white\",\"linecolor\":\"white\",\"ticks\":\"\"},\"baxis\":{\"gridcolor\":\"white\",\"linecolor\":\"white\",\"ticks\":\"\"},\"caxis\":{\"gridcolor\":\"white\",\"linecolor\":\"white\",\"ticks\":\"\"}},\"coloraxis\":{\"colorbar\":{\"outlinewidth\":0,\"ticks\":\"\"}},\"colorscale\":{\"sequential\":[[0.0,\"#0d0887\"],[0.1111111111111111,\"#46039f\"],[0.2222222222222222,\"#7201a8\"],[0.3333333333333333,\"#9c179e\"],[0.4444444444444444,\"#bd3786\"],[0.5555555555555556,\"#d8576b\"],[0.6666666666666666,\"#ed7953\"],[0.7777777777777778,\"#fb9f3a\"],[0.8888888888888888,\"#fdca26\"],[1.0,\"#f0f921\"]],\"sequentialminus\":[[0.0,\"#0d0887\"],[0.1111111111111111,\"#46039f\"],[0.2222222222222222,\"#7201a8\"],[0.3333333333333333,\"#9c179e\"],[0.4444444444444444,\"#bd3786\"],[0.5555555555555556,\"#d8576b\"],[0.6666666666666666,\"#ed7953\"],[0.7777777777777778,\"#fb9f3a\"],[0.8888888888888888,\"#fdca26\"],[1.0,\"#f0f921\"]],\"diverging\":[[0,\"#8e0152\"],[0.1,\"#c51b7d\"],[0.2,\"#de77ae\"],[0.3,\"#f1b6da\"],[0.4,\"#fde0ef\"],[0.5,\"#f7f7f7\"],[0.6,\"#e6f5d0\"],[0.7,\"#b8e186\"],[0.8,\"#7fbc41\"],[0.9,\"#4d9221\"],[1,\"#276419\"]]},\"xaxis\":{\"gridcolor\":\"white\",\"linecolor\":\"white\",\"ticks\":\"\",\"title\":{\"standoff\":15},\"zerolinecolor\":\"white\",\"automargin\":true,\"zerolinewidth\":2},\"yaxis\":{\"gridcolor\":\"white\",\"linecolor\":\"white\",\"ticks\":\"\",\"title\":{\"standoff\":15},\"zerolinecolor\":\"white\",\"automargin\":true,\"zerolinewidth\":2},\"scene\":{\"xaxis\":{\"backgroundcolor\":\"#E5ECF6\",\"gridcolor\":\"white\",\"linecolor\":\"white\",\"showbackground\":true,\"ticks\":\"\",\"zerolinecolor\":\"white\",\"gridwidth\":2},\"yaxis\":{\"backgroundcolor\":\"#E5ECF6\",\"gridcolor\":\"white\",\"linecolor\":\"white\",\"showbackground\":true,\"ticks\":\"\",\"zerolinecolor\":\"white\",\"gridwidth\":2},\"zaxis\":{\"backgroundcolor\":\"#E5ECF6\",\"gridcolor\":\"white\",\"linecolor\":\"white\",\"showbackground\":true,\"ticks\":\"\",\"zerolinecolor\":\"white\",\"gridwidth\":2}},\"shapedefaults\":{\"line\":{\"color\":\"#2a3f5f\"}},\"annotationdefaults\":{\"arrowcolor\":\"#2a3f5f\",\"arrowhead\":0,\"arrowwidth\":1},\"geo\":{\"bgcolor\":\"white\",\"landcolor\":\"#E5ECF6\",\"subunitcolor\":\"white\",\"showland\":true,\"showlakes\":true,\"lakecolor\":\"white\"},\"title\":{\"x\":0.05},\"mapbox\":{\"style\":\"light\"}}},\"xaxis\":{\"anchor\":\"y\",\"domain\":[0.0,1.0],\"title\":{\"text\":\"method\"}},\"yaxis\":{\"anchor\":\"x\",\"domain\":[0.0,1.0],\"title\":{\"text\":\"FMS\"},\"range\":[0,1]},\"legend\":{\"title\":{\"text\":\"true_col\"},\"tracegroupgap\":0},\"margin\":{\"t\":60},\"boxmode\":\"group\"},                        {\"responsive\": true}                    ).then(function(){\n",
       "                            \n",
       "var gd = document.getElementById('1b7fae37-e567-493d-ba1c-517ea2a937d3');\n",
       "var x = new MutationObserver(function (mutations, observer) {{\n",
       "        var display = window.getComputedStyle(gd).display;\n",
       "        if (!display || display === 'none') {{\n",
       "            console.log([gd, 'removed!']);\n",
       "            Plotly.purge(gd);\n",
       "            observer.disconnect();\n",
       "        }}\n",
       "}});\n",
       "\n",
       "// Listen for the removal of the full notebook cells\n",
       "var notebookContainer = gd.closest('#notebook-container');\n",
       "if (notebookContainer) {{\n",
       "    x.observe(notebookContainer, {childList: true});\n",
       "}}\n",
       "\n",
       "// Listen for the clearing of the current output cell\n",
       "var outputEl = gd.closest('.output');\n",
       "if (outputEl) {{\n",
       "    x.observe(outputEl, {childList: true});\n",
       "}}\n",
       "\n",
       "                        })                };                });            </script>        </div>"
      ]
     },
     "metadata": {},
     "output_type": "display_data"
    }
   ],
   "source": [
    "fig = px.strip(df_results_clust, x='method', y='FMS', color = \"true_col\")\n",
    "fig.update_yaxes(range = [0,1])\n",
    "fig.show()"
   ]
  },
  {
   "cell_type": "code",
   "execution_count": 237,
   "id": "7a04df26",
   "metadata": {},
   "outputs": [],
   "source": [
    "fig.write_image(\"FMS_globins.pdf\")"
   ]
  },
  {
   "cell_type": "markdown",
   "id": "eeaa78ee",
   "metadata": {},
   "source": [
    "## Evaluate projection"
   ]
  },
  {
   "cell_type": "code",
   "execution_count": 238,
   "id": "7017be53",
   "metadata": {},
   "outputs": [],
   "source": [
    "df_results_proj = pd.DataFrame()"
   ]
  },
  {
   "cell_type": "code",
   "execution_count": 239,
   "id": "4693cfb7",
   "metadata": {},
   "outputs": [
    {
     "name": "stdout",
     "output_type": "stream",
     "text": [
      "Connecting 2\n",
      "Connecting 2\n",
      "Connecting 2\n",
      "Connecting 2\n",
      "Connecting 2\n",
      "Connecting 2\n",
      "Connecting 2\n",
      "Connecting 2\n",
      "Connecting 2\n",
      "Connecting 2\n",
      "Connecting 2\n",
      "Connecting 2\n",
      "Connecting 2\n",
      "Connecting 2\n",
      "Connecting 2\n",
      "Connecting 2\n",
      "Connecting 2\n",
      "Connecting 2\n",
      "Connecting 2\n",
      "Connecting 2\n",
      "Connecting 2\n",
      "Connecting 2\n",
      "Connecting 2\n",
      "Connecting 2\n",
      "Connecting 2\n"
     ]
    }
   ],
   "source": [
    "cname = 'agglomerative'\n",
    "setting = \"manifold\" # \"global\" # \n",
    "\n",
    "for seed in range(5):\n",
    "    # read poincare and annotations\n",
    "    path_embedding = f\"{out_name}/projections/PM{knn:1.0f}sigma={sigma:2.2f}gamma={gamma:2.2f}cosinepca={cospca:1.0f}_seed{seed:1.0f}.csv\"\n",
    "    df_embedding = read_embeddings(path_embedding, path_annotation, withroot=False)\n",
    "    df_embedding.replace(\"Other\", \"OTHER\")\n",
    "    # calculate poincare distances\n",
    "    poincare_coord = df_embedding[[\"pm1\",\"pm2\"]]\n",
    "    poincare_coord = poincare_coord.values\n",
    "    #print(poincare_coord)\n",
    "    model = PoincareMaps(poincare_coord)\n",
    "    model.get_distances()\n",
    "    # MDS scores\n",
    "    X_cosine = pairwise_distances(features,metric='cosine')\n",
    "    X_mds = MDS(metric=True,dissimilarity='precomputed', random_state = seed).fit_transform(X_cosine)\n",
    "    df_embedding[\"x1_mds\"] = X_mds[:,0]\n",
    "    df_embedding[\"x2_mds\"] = X_mds[:,1]\n",
    "    # tSNE scores\n",
    "    X_tsne = TSNE(random_state = seed, metric = \"cosine\", perplexity=k_neigh).fit_transform(features)\n",
    "    df_embedding[\"x1_tsne\"] = X_tsne[:,0]\n",
    "    df_embedding[\"x2_tsne\"] = X_tsne[:,1]\n",
    "    # UMAP scores\n",
    "    X_umap = umap.UMAP(random_state = seed, metric = \"cosine\", n_neighbors = k_neigh).fit_transform(features)\n",
    "    df_embedding[\"x1_umap\"] = X_umap[:,0]\n",
    "    df_embedding[\"x2_umap\"] = X_umap[:,1]\n",
    "    # PCA scores\n",
    "    X_pca = KernelPCA(kernel='cosine', random_state = seed).fit_transform(features)\n",
    "    df_embedding[\"x1_pca\"] = X_pca[:,0]\n",
    "    df_embedding[\"x2_pca\"] = X_pca[:,1]\n",
    "    \n",
    "    \n",
    "    for clust_meth in [\"poincare\", \"mds\", \"tsne\", \"umap\", \"pca\"]:\n",
    "\n",
    "        if clust_meth == \"poincare\":\n",
    "            D = model.distances\n",
    "            Qlocal, Qglobal, Kmax, df_Q = get_quality_metrics(coord_high = features, coord_low = model.coordinates, distance=\"poincare\", setting=setting, k_neighbours=5)\n",
    "        else:\n",
    "            D = pairwise_distances(df_embedding.loc[:, \"x1_\"+clust_meth:\"x2_\"+clust_meth])\n",
    "            Qlocal, Qglobal, Kmax, df_Q = get_quality_metrics(coord_high = features, coord_low = df_embedding.loc[:, \"x1_\"+clust_meth:\"x2_\"+clust_meth], distance=\"euclidean\", setting=setting, k_neighbours=5)\n",
    "\n",
    "        corr = scipy.stats.spearmanr(D_raw.ravel(), D.ravel(), axis = 0)\n",
    "    \n",
    "        \n",
    "        df = pd.DataFrame({\"method\": [clust_meth], \"seed\": [seed], \"Qlocal\": [Qlocal], \"Qglobal\": [Qglobal], \"Kmax\": [Kmax], \"Qnx\": [df_Q.Qnx.to_numpy()]})\n",
    "        df_results_proj = df_results_proj.append(df)\n",
    "\n",
    "#print(df_results)"
   ]
  },
  {
   "cell_type": "code",
   "execution_count": 240,
   "id": "df8273c7",
   "metadata": {},
   "outputs": [],
   "source": [
    "import seaborn as sns\n",
    "import matplotlib.pyplot as plt\n",
    "%matplotlib inline"
   ]
  },
  {
   "cell_type": "code",
   "execution_count": 241,
   "id": "0da8da63",
   "metadata": {
    "scrolled": true
   },
   "outputs": [
    {
     "name": "stdout",
     "output_type": "stream",
     "text": [
      "['#4c72b0', '#dd8452', '#55a868', '#c44e52', '#8172b3']\n",
      "{'poincare': '#4c72b0', 'mds': '#dd8452', 'tsne': '#55a868', 'umap': '#c44e52', 'pca': '#8172b3'}\n"
     ]
    }
   ],
   "source": [
    "print(sns.color_palette(palette=None, n_colors=5).as_hex())\n",
    "meth_palette = dict(zip([\"poincare\", \"mds\", \"tsne\", \"umap\", \"pca\"], sns.color_palette(palette=None, n_colors=5).as_hex()))\n",
    "print(meth_palette)"
   ]
  },
  {
   "cell_type": "code",
   "execution_count": 263,
   "id": "b658347a",
   "metadata": {},
   "outputs": [
    {
     "name": "stdout",
     "output_type": "stream",
     "text": [
      "poincare 0.83, 0.01\n",
      "mds 0.66, 0.01\n",
      "tsne 0.75, 0.01\n",
      "umap 0.72, 0.02\n",
      "pca 0.67, 0.00\n"
     ]
    },
    {
     "ename": "AttributeError",
     "evalue": "'Figure' object has no attribute 'xlabel'",
     "output_type": "error",
     "traceback": [
      "\u001b[0;31m---------------------------------------------------------------------------\u001b[0m",
      "\u001b[0;31mAttributeError\u001b[0m                            Traceback (most recent call last)",
      "\u001b[0;32m/tmp/ipykernel_2815519/363725070.py\u001b[0m in \u001b[0;36m<module>\u001b[0;34m\u001b[0m\n\u001b[1;32m     15\u001b[0m \u001b[0;34m\u001b[0m\u001b[0m\n\u001b[1;32m     16\u001b[0m \u001b[0;31m#plt.legend()\u001b[0m\u001b[0;34m\u001b[0m\u001b[0;34m\u001b[0m\u001b[0;34m\u001b[0m\u001b[0m\n\u001b[0;32m---> 17\u001b[0;31m \u001b[0mplt\u001b[0m\u001b[0;34m.\u001b[0m\u001b[0mxlabel\u001b[0m\u001b[0;34m(\u001b[0m\u001b[0;34m\"K\"\u001b[0m\u001b[0;34m)\u001b[0m\u001b[0;34m\u001b[0m\u001b[0;34m\u001b[0m\u001b[0m\n\u001b[0m\u001b[1;32m     18\u001b[0m \u001b[0mplt\u001b[0m\u001b[0;34m.\u001b[0m\u001b[0mylabel\u001b[0m\u001b[0;34m(\u001b[0m\u001b[0;34m\"Qnx\"\u001b[0m\u001b[0;34m)\u001b[0m\u001b[0;34m\u001b[0m\u001b[0;34m\u001b[0m\u001b[0m\n\u001b[1;32m     19\u001b[0m \u001b[0mplt\u001b[0m\u001b[0;34m.\u001b[0m\u001b[0mylim\u001b[0m\u001b[0;34m(\u001b[0m\u001b[0;34m[\u001b[0m\u001b[0;36m0\u001b[0m\u001b[0;34m,\u001b[0m\u001b[0;36m1.1\u001b[0m\u001b[0;34m]\u001b[0m\u001b[0;34m)\u001b[0m\u001b[0;34m\u001b[0m\u001b[0;34m\u001b[0m\u001b[0m\n",
      "\u001b[0;31mAttributeError\u001b[0m: 'Figure' object has no attribute 'xlabel'"
     ]
    },
    {
     "data": {
      "image/png": "[encoded data removed]",
      "text/plain": [
       "<Figure size 432x288 with 1 Axes>"
      ]
     },
     "metadata": {
      "needs_background": "light"
     },
     "output_type": "display_data"
    }
   ],
   "source": [
    "for clust_meth in [\"poincare\", \"mds\", \"tsne\", \"umap\", \"pca\"]:\n",
    "    Qnx_mean = []\n",
    "\n",
    "    for seed in range(5):\n",
    "        xx = df_results_proj[(df_results_proj.method==clust_meth)&(df_results_proj.seed==seed)].Qnx.values\n",
    "        xx = xx.squeeze()[()]\n",
    "        Qnx_mean.append(xx.mean())\n",
    "        #print(len(xx))\n",
    "        #fig = px.line(x = range(1,len(xx)+1), y= xx)\n",
    "        if seed == 0:\n",
    "            sns.lineplot(range(1,len(xx)+1), xx, color = meth_palette[clust_meth], label = clust_meth)\n",
    "        else:\n",
    "            sns.lineplot(range(1,len(xx)+1), xx, color = meth_palette[clust_meth])#, label = clust_meth)\n",
    "    print(clust_meth, \"%2.2f, %2.2f\"%(np.mean(Qnx_mean), np.std(Qnx_mean)))\n",
    "\n",
    "#plt.legend()\n",
    "plt.xlabel(\"K\")\n",
    "plt.ylabel(\"Qnx\")\n",
    "plt.ylim([0,1.1])\n",
    "plt.savefig(\"Qnx_global_kinases.pdf\")\n",
    "plt.show()"
   ]
  },
  {
   "cell_type": "code",
   "execution_count": 262,
   "id": "14370aae",
   "metadata": {},
   "outputs": [
    {
     "name": "stdout",
     "output_type": "stream",
     "text": [
      "Local\n",
      "poincare 0.60, 0.02\n",
      "mds 0.37, 0.02\n",
      "tsne 0.81, 0.01\n",
      "umap 0.59, 0.02\n",
      "pca 0.32, 0.00\n",
      "Global\n",
      "poincare 0.83, 0.01\n",
      "mds 0.67, 0.01\n",
      "tsne 0.75, 0.01\n",
      "umap 0.72, 0.02\n",
      "pca 0.69, 0.00\n"
     ]
    }
   ],
   "source": [
    "print(\"Local\")\n",
    "for clust_meth in [\"poincare\", \"mds\", \"tsne\", \"umap\", \"pca\"]:\n",
    "    print(clust_meth, \"%2.2f, %2.2f\"%(df_results_proj[(df_results_proj.method==clust_meth)].Qlocal.values.mean(), df_results_proj[(df_results_proj.method==clust_meth)].Qlocal.values.std()))\n",
    "    \n",
    "print(\"Global\")   \n",
    "for clust_meth in [\"poincare\", \"mds\", \"tsne\", \"umap\", \"pca\"]:\n",
    "    print(clust_meth, \"%2.2f, %2.2f\"%(df_results_proj[(df_results_proj.method==clust_meth)].Qglobal.values.mean(), df_results_proj[(df_results_proj.method==clust_meth)].Qglobal.values.std()))"
   ]
  },
  {
   "cell_type": "markdown",
   "id": "cf1c4555",
   "metadata": {},
   "source": [
    "# \n",
    "# \n",
    "# "
   ]
  },
  {
   "cell_type": "markdown",
   "id": "c44a5395",
   "metadata": {},
   "source": [
    "### Poincaré distances hyperboliques "
   ]
  },
  {
   "cell_type": "code",
   "execution_count": null,
   "id": "6a046d7d",
   "metadata": {},
   "outputs": [],
   "source": [
    "for cname in ['agglomerative']:#, 'spectral']:#, 'agglomerative', 'kmedoids']:\n",
    "    clusters = detect_cluster(model.distances, n_clusters=nc, clustering_name=cname)#, k=15)\n",
    "    df_embedding[\"clust_poincare\"] = clusters\n",
    "    df_embedding[\"clust_poincare\"] = df_embedding[\"clust_poincare\"].astype(\"string\")"
   ]
  },
  {
   "cell_type": "markdown",
   "id": "0673ef36",
   "metadata": {},
   "source": [
    "### MDS"
   ]
  },
  {
   "cell_type": "code",
   "execution_count": null,
   "id": "a1dc7620",
   "metadata": {},
   "outputs": [],
   "source": [
    "X_cosine = pairwise_distances(features,metric='cosine')\n",
    "X_mds = MDS(metric=True,dissimilarity='precomputed', random_state = seed).fit_transform(X_cosine)\n",
    "df_embedding[\"x1_mds\"] = X_mds[:,0]\n",
    "df_embedding[\"x2_mds\"] = X_mds[:,1]"
   ]
  },
  {
   "cell_type": "code",
   "execution_count": null,
   "id": "0dd16047",
   "metadata": {},
   "outputs": [],
   "source": [
    "D = pairwise_distances(X_mds)\n",
    "print(D.shape)\n",
    "\n",
    "for cname in ['agglomerative']:#,'spectral']:#, 'agglomerative', 'kmedoids']:\n",
    "    clusters = detect_cluster(D, n_clusters=nc, clustering_name=cname)#, k=15)\n",
    "    df_embedding[\"clust_mds\"] = clusters\n",
    "    df_embedding[\"clust_mds\"] = df_embedding[\"clust_mds\"].astype(\"string\")"
   ]
  },
  {
   "cell_type": "markdown",
   "id": "6194b28a",
   "metadata": {},
   "source": [
    "### t-SNE"
   ]
  },
  {
   "cell_type": "code",
   "execution_count": null,
   "id": "7be536dc",
   "metadata": {},
   "outputs": [],
   "source": [
    "X_tsne = TSNE(random_state = seed, metric = \"cosine\", perplexity=k_neigh).fit_transform(features)\n",
    "df_embedding[\"x1_tsne\"] = X_tsne[:,0]\n",
    "df_embedding[\"x2_tsne\"] = X_tsne[:,1]"
   ]
  },
  {
   "cell_type": "code",
   "execution_count": null,
   "id": "164184fc",
   "metadata": {},
   "outputs": [],
   "source": [
    "D = pairwise_distances(X_tsne)\n",
    "\n",
    "for cname in ['agglomerative']:#, 'spectral']:#, 'agglomerative', 'kmedoids']:\n",
    "    clusters = detect_cluster(D, n_clusters=nc, clustering_name=cname)#, k=15)\n",
    "    df_embedding[\"clust_tsne\"] = clusters\n",
    "    df_embedding[\"clust_tsne\"] = df_embedding[\"clust_tsne\"].astype(\"string\")"
   ]
  },
  {
   "cell_type": "markdown",
   "id": "10713114",
   "metadata": {},
   "source": [
    "### UMAP"
   ]
  },
  {
   "cell_type": "code",
   "execution_count": null,
   "id": "394d3894",
   "metadata": {},
   "outputs": [],
   "source": [
    "X_umap = umap.UMAP(random_state = seed, metric = \"cosine\", n_neighbors = k_neigh).fit_transform(features)\n",
    "df_embedding[\"x1_umap\"] = X_umap[:,0]\n",
    "df_embedding[\"x2_umap\"] = X_umap[:,1]"
   ]
  },
  {
   "cell_type": "code",
   "execution_count": null,
   "id": "dad7f6ad",
   "metadata": {},
   "outputs": [],
   "source": [
    "D = pairwise_distances(X_umap)\n",
    "print(D.shape)\n",
    "\n",
    "for cname in ['agglomerative']:#, 'spectral']:#, 'agglomerative', 'kmedoids']:\n",
    "    clusters = detect_cluster(D, n_clusters=nc, clustering_name=cname)#, k=15)\n",
    "    df_embedding[\"clust_umap\"] = clusters\n",
    "    df_embedding[\"clust_umap\"] = df_embedding[\"clust_umap\"].astype(\"string\")"
   ]
  },
  {
   "cell_type": "markdown",
   "id": "5371c05f",
   "metadata": {},
   "source": [
    "### PCA"
   ]
  },
  {
   "cell_type": "code",
   "execution_count": null,
   "id": "de84325d",
   "metadata": {},
   "outputs": [],
   "source": [
    "X_pca = KernelPCA(kernel='cosine', random_state = seed).fit_transform(features)\n",
    "df_embedding[\"x1_pca\"] = X_pca[:,0]\n",
    "df_embedding[\"x2_pca\"] = X_pca[:,1]"
   ]
  },
  {
   "cell_type": "code",
   "execution_count": null,
   "id": "0887077d",
   "metadata": {},
   "outputs": [],
   "source": [
    "D = pairwise_distances(X_pca)\n",
    "print(D.shape)\n",
    "\n",
    "\n",
    "for cname in ['agglomerative']:#, 'spectral']:#, 'agglomerative', 'kmedoids']:\n",
    "    clusters = detect_cluster(D, n_clusters=nc, clustering_name=cname)#, k=15)\n",
    "    df_embedding[\"clust_pca\"] = clusters\n",
    "    df_embedding[\"clust_pca\"] = df_embedding[\"clust_pca\"].astype(\"string\")"
   ]
  },
  {
   "cell_type": "markdown",
   "id": "6324832a",
   "metadata": {},
   "source": [
    "## Compare scores for clustering"
   ]
  },
  {
   "cell_type": "code",
   "execution_count": null,
   "id": "4b37c04e",
   "metadata": {},
   "outputs": [],
   "source": [
    "if remove_outliers:\n",
    "    df_noothers = df_embedding[no_outliers]\n",
    "if remove_others:\n",
    "    df_noothers = df_noothers[df_embedding[true_col]!=other]\n",
    "        \n",
    "print(df_embedding.shape, df_noothers.shape)\n",
    "\n",
    "for clust_meth in [\"poincare\", \"mds\", \"tsne\", \"umap\", \"pca\"]:\n",
    "\n",
    "    ARI, FMS = get_scores(df_noothers[true_col], df_noothers[\"clust_\" + clust_meth])\n",
    "\n",
    "    if clust_meth == \"poincare\":\n",
    "        D = model.distances\n",
    "        Qlocal, Qglobal, Kmax = get_quality_metrics(coord_high = features, coord_low = model.coordinates, distance=\"poincare\", setting=\"manifold\", k_neighbours=5)\n",
    "    else:\n",
    "        D = pairwise_distances(df_embedding.loc[:, \"x1_\"+clust_meth:\"x2_\"+clust_meth])\n",
    "        Qlocal, Qglobal, Kmax = get_quality_metrics(coord_high = features, coord_low = df_embedding.loc[:, \"x1_\"+clust_meth:\"x2_\"+clust_meth], distance=\"euclidean\", setting=\"manifold\", k_neighbours=5)\n",
    "\n",
    "    corr = scipy.stats.spearmanr(D_raw.ravel(), D.ravel(), axis = 0)\n",
    "    \n",
    "    df = pd.DataFrame({\"method\": [clust_meth], \"seed\": [seed], \"Qlocal\": [Qlocal], \"Qglobal\": [Qglobal], \"true_col\": [true_col], \"ARI\": [ARI], \"FMS\": [FMS]})\n",
    "    df_results = df_results.append(df)\n",
    "    print(clust_meth + \": \" + f\"{ARI:.2f} \" + f\"{FMS:.2f} \" + f\"{corr.correlation:.2f} \" + f\"{Qlocal:.2f} \"+f\"{Qglobal:.2f} \")\n",
    "#print(scipy.stats.spearmanr(D_raw.ravel(), D.ravel(), axis = 0))"
   ]
  },
  {
   "cell_type": "code",
   "execution_count": null,
   "id": "20679a06",
   "metadata": {},
   "outputs": [],
   "source": [
    "print(df_results)"
   ]
  },
  {
   "cell_type": "code",
   "execution_count": null,
   "id": "19deb2ec",
   "metadata": {},
   "outputs": [],
   "source": [
    "clust_meth = \"tsne\"\n",
    "k_neigh = 5\n",
    "X_tsne = TSNE(random_state = seed, metric = \"cosine\", perplexity=k_neigh).fit_transform(features)\n",
    "df_embedding[\"x1_tsne\"] = X_tsne[:,0]\n",
    "df_embedding[\"x2_tsne\"] = X_tsne[:,1]\n",
    "Qlocalt, Qglobalt, Kmaxt, df_q = get_quality_metrics(coord_high = features, coord_low = df_embedding.loc[:, \"x1_\"+clust_meth:\"x2_\"+clust_meth], distance=\"euclidean\", setting=\"manifold\", k_neighbours=5, my_metric = \"cosine\")\n",
    "print(Qlocalt, Qglobalt)"
   ]
  },
  {
   "cell_type": "code",
   "execution_count": null,
   "id": "5a801bfb",
   "metadata": {},
   "outputs": [],
   "source": [
    "df_q"
   ]
  },
  {
   "cell_type": "code",
   "execution_count": null,
   "id": "4f9b0af3",
   "metadata": {},
   "outputs": [],
   "source": [
    "clust_meth = \"umap\"\n",
    "k_neigh = 5\n",
    "X_umap = umap.UMAP(random_state = seed, metric = \"cosine\", n_neighbors = k_neigh).fit_transform(features)\n",
    "df_embedding[\"x1_umap\"] = X_umap[:,0]\n",
    "df_embedding[\"x2_umap\"] = X_umap[:,1]\n",
    "Qlocal, Qglobal, Kmax, df_qumap = get_quality_metrics(coord_high = features, coord_low = df_embedding.loc[:, \"x1_\"+clust_meth:\"x2_\"+clust_meth], distance=\"euclidean\", setting=\"manifold\", k_neighbours=5)\n",
    "print(Qlocal, Qglobal)"
   ]
  },
  {
   "cell_type": "code",
   "execution_count": null,
   "id": "1312cf4b",
   "metadata": {},
   "outputs": [],
   "source": [
    "df_qumap"
   ]
  },
  {
   "cell_type": "code",
   "execution_count": null,
   "id": "1f37abcc",
   "metadata": {},
   "outputs": [],
   "source": [
    "import matplotlib.pyplot as plt\n",
    "%matplotlib inline\n",
    "\n",
    "plt.plot(df_qumap.Qnx, label=\"umap\")\n",
    "plt.plot(df_q.Qnx, label = \"tsne\")\n",
    "plt.legend()\n",
    "#plt.show()"
   ]
  },
  {
   "cell_type": "code",
   "execution_count": null,
   "id": "b731e1c5",
   "metadata": {},
   "outputs": [],
   "source": [
    "plt.scatter(X_tsne[:,0], X_tsne[:,1])"
   ]
  },
  {
   "cell_type": "code",
   "execution_count": null,
   "id": "da75f776",
   "metadata": {},
   "outputs": [],
   "source": [
    "plt.scatter(X_umap[:,0], X_umap[:,1])"
   ]
  },
  {
   "cell_type": "code",
   "execution_count": null,
   "id": "248caf70",
   "metadata": {},
   "outputs": [],
   "source": [
    "poincare_coord = pd.read_csv(path_embedding, sep=',').sort_values(by=[\"proteins_id\"])\n",
    "poincare_coord = poincare_coord.values[:,:2]\n",
    "model = PoincareMaps(poincare_coord)\n",
    "model.get_distances()\n",
    "clust_meth = \"poincare\"\n",
    "k_neigh = 5\n",
    "Qlocalp, Qglobalp, Kmaxp, df_qumapoin = get_quality_metrics(coord_high = features, coord_low = model.coordinates, distance=\"poincare\", setting=\"manifold\", k_neighbours=5)\n",
    "print(Qlocalp, Qglobalp)"
   ]
  },
  {
   "cell_type": "code",
   "execution_count": null,
   "id": "e803c5bc",
   "metadata": {},
   "outputs": [],
   "source": [
    "import matplotlib.pyplot as plt\n",
    "%matplotlib inline\n",
    "\n",
    "plt.plot(df_qumap.Qnx, label=\"umap\")\n",
    "plt.plot(df_q.Qnx, label = \"tsne\")\n",
    "plt.plot(df_qumapoin.Qnx, label=\"pm\")\n",
    "plt.legend()"
   ]
  },
  {
   "cell_type": "code",
   "execution_count": null,
   "id": "fd8326f7",
   "metadata": {},
   "outputs": [],
   "source": [
    "print(Qlocal, Qglobal)\n",
    "print(Qlocalt, Qglobalt)"
   ]
  },
  {
   "cell_type": "code",
   "execution_count": null,
   "id": "c50af9e0",
   "metadata": {},
   "outputs": [],
   "source": [
    "\n",
    "plt.plot(df_qumap.Qnx, label=\"umap\")\n",
    "plt.legend()"
   ]
  },
  {
   "cell_type": "code",
   "execution_count": null,
   "id": "477ab158",
   "metadata": {},
   "outputs": [],
   "source": [
    "fig = px.strip(df_results, x='method', y='ARI', color = \"true_col\")\n",
    "fig.show()"
   ]
  },
  {
   "cell_type": "code",
   "execution_count": null,
   "id": "ff34ff41",
   "metadata": {},
   "outputs": [],
   "source": [
    "fig = px.strip(df_results, x='method', y='FMS', color = \"true_col\")\n",
    "fig.show()"
   ]
  },
  {
   "cell_type": "code",
   "execution_count": null,
   "id": "51566401",
   "metadata": {},
   "outputs": [],
   "source": [
    "fig = px.strip(df_results[df_results.true_col==\"tree1\"], x='method', y=['corr'])\n",
    "fig.show()"
   ]
  },
  {
   "cell_type": "code",
   "execution_count": null,
   "id": "7875ba12",
   "metadata": {},
   "outputs": [],
   "source": [
    "fig = px.strip(df_results[df_results.true_col==\"tree1\"], x='method', y=['Qglobal'])\n",
    "fig.show()"
   ]
  },
  {
   "cell_type": "code",
   "execution_count": null,
   "id": "a5125b2e",
   "metadata": {},
   "outputs": [],
   "source": [
    "fig = px.strip(df_results[df_results.true_col==\"tree1\"], x='method', y=['Qlocal'])\n",
    "fig.show()"
   ]
  },
  {
   "cell_type": "markdown",
   "id": "42051939",
   "metadata": {},
   "source": [
    "# Plots"
   ]
  },
  {
   "cell_type": "markdown",
   "id": "1a899260",
   "metadata": {},
   "source": [
    "## PoincaréMSA"
   ]
  },
  {
   "cell_type": "code",
   "execution_count": null,
   "id": "1c258e75",
   "metadata": {},
   "outputs": [],
   "source": [
    "    fig = plot_embedding_interactive(df_embedding, \n",
    "                                 labels_name = \"clust_poincare\",\n",
    "                                 #second_labels_name = second_labels_name, \n",
    "                                 #show_text = show_text,\n",
    "                                 #labels_text = labels_text,\n",
    "                                 color_palette = None,\n",
    "                                 #color_discrete_sequence = px.colors.qualitative.Alphabet,\n",
    "                                 #color_discrete_map=globin_palette,\n",
    "                                 #title = title, \n",
    "                                 fontsize = 11)\n",
    "    fig.show()\n",
    "\n",
    "\n",
    "        #        scores.append(s)\n",
    "#        titles.append(t)\n",
    "\n",
    "#for cname in ['spectral', 'agglomerative', 'kmedoids']:\n",
    " #       s, t = detect_cluster(model.get_distances(), \n",
    "  #                            n_clusters=nc, clustering_name=cname, k=15, distances='raw')\n",
    "        #scores.append(s)\n",
    "        #titles.append(t)"
   ]
  },
  {
   "cell_type": "markdown",
   "id": "18b4c354",
   "metadata": {},
   "source": [
    "## MDS"
   ]
  },
  {
   "cell_type": "code",
   "execution_count": null,
   "id": "323bd81d",
   "metadata": {},
   "outputs": [],
   "source": [
    "    plt = px.scatter(df_embedding, x = 'x1_mds', y = 'x2_mds',\n",
    "                     color = df_embedding[\"clust_mds\"],\n",
    "                     color_discrete_sequence = px.colors.qualitative.Alphabet,\n",
    "                     color_discrete_map=globin_palette,\n",
    "                     #color_continuous_scale = \"Turbo\",\n",
    "                     ##labels={'color': labels}, \n",
    "                     #hover_name=labels_name,\n",
    "                     #hover_data=df.columns[2:],\n",
    "                     #height = 800,\n",
    "                     #title = title,\n",
    "                 )\n",
    "    plt.update_xaxes(range = [-0.7, 0.7], constrain=\"domain\")\n",
    "    plt.update_yaxes(range = [-0.7, 0.7], constrain=\"domain\")\n",
    "\n",
    "    plt.update_yaxes(scaleanchor = \"x\", scaleratio = 1)\n",
    "    plt.show()\n",
    "    \n",
    "    plt = px.scatter(df_embedding, x = 'x1_mds', y = 'x2_mds',\n",
    "                     color = df_embedding[true_col],\n",
    "                     color_discrete_sequence = px.colors.qualitative.Alphabet,\n",
    "                     color_discrete_map=globin_palette,\n",
    "                     #color_continuous_scale = \"Turbo\",\n",
    "                     ##labels={'color': labels}, \n",
    "                     #hover_name=labels_name,\n",
    "                     #hover_data=df.columns[2:],\n",
    "                     #height = 800,\n",
    "                     #title = title,\n",
    "                 )\n",
    "    plt.update_xaxes(range = [-0.7, 0.7], constrain=\"domain\")\n",
    "    plt.update_yaxes(range = [-0.7, 0.7], constrain=\"domain\")\n",
    "\n",
    "    plt.update_yaxes(scaleanchor = \"x\", scaleratio = 1)\n",
    "    plt.show()"
   ]
  },
  {
   "cell_type": "markdown",
   "id": "bd043b34",
   "metadata": {},
   "source": [
    "## tSNE"
   ]
  },
  {
   "cell_type": "code",
   "execution_count": null,
   "id": "be0dfef0",
   "metadata": {},
   "outputs": [],
   "source": [
    "\n",
    "    plt = px.scatter(df_embedding, x = 'x1_tsne', y = 'x2_tsne',\n",
    "                     color = df_embedding[\"clust_tsne\"],\n",
    "                     color_discrete_sequence = px.colors.qualitative.Alphabet,\n",
    "                     color_discrete_map=globin_palette,\n",
    "                     #color_continuous_scale = \"Turbo\",\n",
    "                     ##labels={'color': labels}, \n",
    "                     #hover_name=labels_name,\n",
    "                     #hover_data=df.columns[2:],\n",
    "                     #height = 800,\n",
    "                     #title = title,\n",
    "                 )\n",
    "    #plt.update_xaxes(range = [-10 50], constrain=\"domain\")\n",
    "    #plt.update_yaxes(range = [-0.5, 0.5], constrain=\"domain\")\n",
    "\n",
    "    plt.update_yaxes(scaleanchor = \"x\", scaleratio = 1)\n",
    "    plt.show()\n",
    "    \n",
    "    plt = px.scatter(df_embedding, x = 'x1_tsne', y = 'x2_tsne',\n",
    "                     color = df_embedding[true_col],\n",
    "                     color_discrete_sequence = px.colors.qualitative.Alphabet,\n",
    "                     color_discrete_map=globin_palette,\n",
    "                     #color_continuous_scale = \"Turbo\",\n",
    "                     ##labels={'color': labels}, \n",
    "                     #hover_name=labels_name,\n",
    "                     #hover_data=df.columns[2:],\n",
    "                     #height = 800,\n",
    "                     #title = title,\n",
    "                 )\n",
    "    #plt.update_xaxes(range = [-60, 50], constrain=\"domain\")\n",
    "    #plt.update_yaxes(range = [-0.5, 0.5], constrain=\"domain\")\n",
    "\n",
    "    plt.update_yaxes(scaleanchor = \"x\", scaleratio = 1)\n",
    "    plt.show()"
   ]
  },
  {
   "cell_type": "markdown",
   "id": "02bfd981",
   "metadata": {},
   "source": [
    "## UMAP"
   ]
  },
  {
   "cell_type": "code",
   "execution_count": null,
   "id": "86c48b06",
   "metadata": {},
   "outputs": [],
   "source": [
    "    plt = px.scatter(df_embedding, x = 'x1_umap', y = 'x2_umap',\n",
    "                     color = df_embedding[\"clust_umap\"],\n",
    "                     color_discrete_sequence = px.colors.qualitative.Alphabet,\n",
    "                     color_discrete_map=globin_palette,\n",
    "                     #color_continuous_scale = \"Turbo\",\n",
    "                     ##labels={'color': labels}, \n",
    "                     #hover_name=labels_name,\n",
    "                     #hover_data=df.columns[2:],\n",
    "                     #height = 800,\n",
    "                     #title = title,\n",
    "                 )\n",
    "    #plt.update_xaxes(range = [-10 50], constrain=\"domain\")\n",
    "    #plt.update_yaxes(range = [-0.5, 0.5], constrain=\"domain\")\n",
    "\n",
    "    plt.update_yaxes(scaleanchor = \"x\", scaleratio = 1)\n",
    "    plt.show()\n",
    "    \n",
    "plt = px.scatter(df_embedding, x = 'x1_umap', y = 'x2_umap',\n",
    "                     color = df_embedding[true_col],\n",
    "                     color_discrete_sequence = px.colors.qualitative.Alphabet,\n",
    "                     color_discrete_map=globin_palette,\n",
    "                     #color_continuous_scale = \"Turbo\",\n",
    "                     ##labels={'color': labels}, \n",
    "                     #hover_name=labels_name,\n",
    "                     #hover_data=df.columns[2:],\n",
    "                     #height = 800,\n",
    "                     #title = title,\n",
    "                 )\n",
    "    #plt.update_xaxes(range = [-60, 50], constrain=\"domain\")\n",
    "    #plt.update_yaxes(range = [-0.5, 0.5], constrain=\"domain\")\n",
    "\n",
    "plt.update_yaxes(scaleanchor = \"x\", scaleratio = 1)\n",
    "plt.show()"
   ]
  },
  {
   "cell_type": "markdown",
   "id": "684e8f9c",
   "metadata": {},
   "source": [
    "## PCA"
   ]
  },
  {
   "cell_type": "code",
   "execution_count": null,
   "id": "106d160d",
   "metadata": {},
   "outputs": [],
   "source": [
    "    plt = px.scatter(df_embedding, x = 'x1_pca', y = 'x2_pca',\n",
    "                     color = df_embedding[\"clust_pca\"],\n",
    "                     color_discrete_sequence = px.colors.qualitative.Alphabet,\n",
    "                     color_discrete_map=globin_palette,\n",
    "                     #color_continuous_scale = \"Turbo\",\n",
    "                     ##labels={'color': labels}, \n",
    "                     #hover_name=labels_name,\n",
    "                     #hover_data=df.columns[2:],\n",
    "                     #height = 800,\n",
    "                     #title = title,\n",
    "                 )\n",
    "\n",
    "\n",
    "    plt.update_yaxes(scaleanchor = \"x\", scaleratio = 1)\n",
    "    plt.show()"
   ]
  },
  {
   "cell_type": "code",
   "execution_count": 244,
   "id": "14d20d2c",
   "metadata": {},
   "outputs": [
    {
     "data": {
      "application/vnd.plotly.v1+json": {
       "config": {
        "plotlyServerURL": "https://plot.ly"
       },
       "data": [
        {
         "hovertemplate": "short_name=Globin<br>x1_pca=%{x}<br>x2_pca=%{y}<extra></extra>",
         "legendgroup": "Globin",
         "marker": {
          "color": "#325A9B",
          "symbol": "circle"
         },
         "mode": "markers",
         "name": "Globin",
         "orientation": "v",
         "showlegend": true,
         "type": "scatter",
         "x": [
          -0.06305513543529705,
          -0.047890224876186924,
          -0.04873664252816814,
          -0.04275430098107574,
          -0.03753501061564372,
          -0.016198549615379764,
          -0.02955129510049442,
          -0.05515824512042926,
          -0.028494506348439988,
          -0.14127706371897386,
          -0.11989941944813569,
          -0.027183944690529205,
          0.006618384540131856,
          -0.04023450649632306,
          -0.07815151312457555,
          -0.09777956119853269,
          -0.11833594430483999,
          -0.11937159351021166,
          -0.06909988018658215,
          -0.07326851172118487,
          -0.09272376880718558,
          -0.09942000416625289,
          -0.10476892501630138,
          -0.10223028919867537,
          -0.09416667329261424,
          -0.029676633067923314,
          -0.03684296325169658,
          -0.05466653041897247,
          0.10097876463694526,
          0.10633055016448534,
          -0.06749113993975074,
          -0.05668800416641973,
          -0.061505767911672775,
          0.009693065980410849,
          -0.041769823577510704,
          0.027435336310265946,
          -0.014065181241908628,
          -0.0437045279315498,
          -0.09273827219614131,
          -0.04295525851027714,
          0.0070038861496882305,
          -0.07472975645440626
         ],
         "xaxis": "x",
         "y": [
          0.025768270147098375,
          0.11512167725684129,
          0.050540838672906686,
          0.10339704242876618,
          -0.04939448766621087,
          0.16460502039034827,
          0.10897576101570959,
          0.1484596853996582,
          0.046878281087304075,
          -0.011936376748639729,
          -0.0157330491389618,
          -0.041031762398789626,
          0.012710606977624883,
          0.031239488162077115,
          0.08395686239499725,
          0.08421382530619916,
          0.10267068508544572,
          0.10173425150109743,
          0.0802201899819211,
          0.10240069897359044,
          0.09709511513348816,
          0.1218042056767957,
          0.07211137024814146,
          0.09222358702137913,
          -0.23561872977650736,
          -0.02282919767620729,
          -0.014423803545790733,
          -0.03195918370696134,
          -0.03841858236882538,
          -0.023932000640384768,
          -0.0006703517314304837,
          0.008091521485649587,
          0.13094633961369978,
          0.07274324811339912,
          0.11232920639987824,
          0.01369585364158714,
          -0.038889183270874185,
          -0.015301241874962157,
          0.14837213822213866,
          -0.009067978457223647,
          -0.04053776110438962,
          -0.016260584017884935
         ],
         "yaxis": "y"
        },
        {
         "hovertemplate": "short_name=Uncharacterized<br>x1_pca=%{x}<br>x2_pca=%{y}<extra></extra>",
         "legendgroup": "Uncharacterized",
         "marker": {
          "color": "#FEAF16",
          "symbol": "circle"
         },
         "mode": "markers",
         "name": "Uncharacterized",
         "orientation": "v",
         "showlegend": true,
         "type": "scatter",
         "x": [
          -0.04988053408458242,
          -0.10927588824165939,
          -0.08923303043351993,
          -0.021000258903738134,
          -0.025282158747100082,
          -0.036979139325575075,
          0.016513208860970637,
          -0.027229269075419654,
          -0.08280832020008216,
          -0.0703540709639968,
          0.011318772842352096,
          0.02657762906223067,
          -0.023477029611348208,
          -0.006987737252995124,
          0.03948645057385685,
          -0.11231163480481675,
          -0.03164176426156349,
          0.555556287748349,
          0.48206767053826005,
          0.4872335580863562,
          0.47810697893173704,
          0.43398462325038706,
          0.4716947253606287,
          0.5081305212178188,
          0.5357527355398343,
          0.5364121442551457,
          0.48766017313322163,
          0.5228114268860902,
          0.3838480128491915,
          -0.14061934044395902,
          -0.1314079032499188,
          -0.09744313276978611,
          -0.09999076627248123,
          -0.13845896999628485,
          0.05123017514563875,
          -0.21928636802299595,
          -0.17263389371864302,
          -0.17879620424747836,
          -0.2036314445889982,
          -0.20899154495508998,
          -0.1849019354010933,
          -0.21321601351531455,
          -0.20938557834050084,
          -0.0511607575770477,
          -0.03476708668194305,
          -0.021051318939777693,
          -0.020729361236341896,
          0.1576504192760543,
          0.1570485738465714,
          0.14279841614223035,
          0.045888708006101966,
          0.11311441499007394,
          0.11076636656145501,
          0.12970880808480093,
          -0.11274683159038926,
          -0.03638993293851541,
          -0.014961685939238365,
          -0.06794952881163778,
          -0.06088079944669605,
          -0.13376387462585632,
          -0.1897353017746474,
          -0.1730402072254903,
          -0.1717741176457864,
          -0.18009537344027673,
          -0.13808409803074023,
          0.020552568994721382,
          -0.06565318010105986,
          -0.04072299762894262,
          -0.13206879219496878,
          -0.06136273632734722,
          -0.0545225050394865,
          -0.10539874230994581,
          -0.12257474326642917,
          -0.04937151112301548,
          -0.04614012487607399,
          -0.10853841482933115,
          0.0593199149251588,
          -0.10915454225201263,
          -0.09270123754613774,
          -0.04160013277493042,
          -0.020217888625862934,
          -0.02335334103678952,
          -0.14908005424399004,
          -0.17179188433561138,
          -0.15921471948232357,
          -0.15791831000733053,
          -0.08566998776592696
         ],
         "xaxis": "x",
         "y": [
          -0.012098617979128111,
          0.02965602954343198,
          0.04153506910239288,
          -0.03656319513603923,
          -0.01668066304599519,
          0.043721504093926986,
          0.005799350671566802,
          -0.012576791122183673,
          -0.0034421493772437,
          0.0030685352242907768,
          -0.0711438935610157,
          -0.054621852977227096,
          0.16494682709825195,
          0.03739879233789081,
          0.044781768291274386,
          -0.03450919818780353,
          0.07536074093958212,
          -0.06859758244393761,
          -0.05988413784464822,
          -0.04173245036610609,
          -0.06122130676075118,
          -0.09186142078848737,
          -0.04777023401396465,
          -0.08100992877969504,
          -0.0793226716350136,
          -0.06949623587058347,
          -0.08632087099691406,
          -0.06693703602904022,
          -0.04896386135763627,
          -0.3052874705844647,
          -0.3041966827906932,
          -0.23519508232076028,
          -0.2010113476291815,
          -0.25040770471698187,
          0.025538123882007668,
          -0.36010352401541634,
          -0.3359598567095359,
          -0.3441609534484203,
          -0.38853392526693187,
          -0.32654117407216315,
          -0.31604275221001865,
          -0.3948690594157531,
          -0.35860552577026833,
          -0.039033724902257115,
          -0.01788891651862358,
          -0.037407103595283576,
          0.01274421678978787,
          0.006486365229904017,
          -0.024614028387597887,
          -0.023085577505579522,
          0.047310473141698624,
          -0.029782432729874565,
          -0.032505133550617384,
          -0.011176791064764349,
          -0.23604286617536857,
          0.031614203472951116,
          0.0000743354971669738,
          -0.05572253907941788,
          -0.07242719096507755,
          -0.06905015824561869,
          -0.07404849361738627,
          -0.07182932959914998,
          -0.06659267263355279,
          -0.05203036792967607,
          -0.07908084732926973,
          0.05492248609667506,
          0.2246882829554232,
          -0.027101598234702276,
          -0.2625224377148011,
          -0.1986213704587655,
          -0.007450002924429957,
          0.0533690870672092,
          -0.15008970626707963,
          -0.0030070563451927036,
          -0.0428108791251286,
          -0.06681728147176051,
          0.05924224877985236,
          -0.06189375155867063,
          -0.06556992705672236,
          0.008152918420472728,
          0.04284966389976379,
          0.07918792801651459,
          -0.050804520472812344,
          -0.03912912169360329,
          -0.08894377843736896,
          -0.042392597856354505,
          -0.06675740602862928
         ],
         "yaxis": "y"
        },
        {
         "hovertemplate": "short_name=Hemoglobin<br>x1_pca=%{x}<br>x2_pca=%{y}<extra></extra>",
         "legendgroup": "Hemoglobin",
         "marker": {
          "color": "#F8A19F",
          "symbol": "circle"
         },
         "mode": "markers",
         "name": "Hemoglobin",
         "orientation": "v",
         "showlegend": true,
         "type": "scatter",
         "x": [
          -0.09035834527841348,
          -0.027106358770712265,
          -0.019381271970467302,
          -0.028667342052379554,
          -0.02005902970939926,
          -0.025501448696127926,
          -0.04188400385899126,
          -0.060242565447247744,
          -0.11176485218310239,
          0.16866886124536715,
          0.04019589370252034,
          0.08871079656776708,
          -0.04502461706094699,
          -0.048055383577114016,
          -0.05321593638305679,
          -0.07303605012311376,
          -0.03230306131008507,
          -0.04945986556448109,
          -0.05038240136294149,
          -0.0482281558790311,
          -0.056367859462070874,
          0.011809735046207906,
          -0.12414382846520561,
          -0.10841611185268306,
          -0.07705581617245592,
          -0.055623539196175735,
          -0.08302558003254214,
          -0.07908714808753693,
          -0.05842994263544869,
          -0.041081856654286875,
          -0.04977900948868585,
          -0.08432527564160927,
          -0.08679098762499049,
          -0.10320373080591942,
          -0.11212637609395565,
          -0.10049725396366364,
          -0.09840711439423189,
          -0.06860936531484466,
          -0.04540380102537223,
          -0.050234109154095985,
          -0.056797541001831965,
          -0.03607818644722406,
          -0.09234731792579697,
          -0.06957378857485383
         ],
         "xaxis": "x",
         "y": [
          0.024373949386005095,
          0.0529158320640915,
          0.009112157482108337,
          -0.002570403435165274,
          -0.009756522803733823,
          0.07093988143170389,
          0.039117292376919244,
          0.06601541317728638,
          0.20098343136901015,
          -0.000023650589760482772,
          0.02032832196170674,
          -0.01676356007633344,
          0.543303761251235,
          0.5361051976876927,
          0.5453403336608692,
          0.5035728282670011,
          0.08216493041528417,
          0.5032058064760708,
          0.5252008263023058,
          0.5085769030173533,
          0.17756267824149086,
          0.04262579961866446,
          0.03428476419496668,
          0.1218354937984296,
          0.5063002706968972,
          0.5161023421709934,
          0.5013617139186565,
          0.5041820376025224,
          0.5053952625784133,
          0.4853427195753106,
          0.4952190537602517,
          0.06841977300909163,
          0.055485615331538805,
          0.0880351307383211,
          0.0768822763703543,
          0.08649946363355998,
          0.04845921011908528,
          0.027614904379191365,
          0.03033534668401522,
          0.1535216486231341,
          0.3085464011842162,
          0.023282448132761223,
          0.12831215776478225,
          0.05961579281692508
         ],
         "yaxis": "y"
        },
        {
         "hovertemplate": "short_name=Globin,<br>x1_pca=%{x}<br>x2_pca=%{y}<extra></extra>",
         "legendgroup": "Globin,",
         "marker": {
          "color": "#90AD1C",
          "symbol": "circle"
         },
         "mode": "markers",
         "name": "Globin,",
         "orientation": "v",
         "showlegend": true,
         "type": "scatter",
         "x": [
          -0.052619751455446125,
          -0.03271072535335355
         ],
         "xaxis": "x",
         "y": [
          0.047692656676883875,
          0.01352422543549924
         ],
         "yaxis": "y"
        },
        {
         "hovertemplate": "short_name=ACYPI007228<br>x1_pca=%{x}<br>x2_pca=%{y}<extra></extra>",
         "legendgroup": "ACYPI007228",
         "marker": {
          "color": "#F6222E",
          "symbol": "circle"
         },
         "mode": "markers",
         "name": "ACYPI007228",
         "orientation": "v",
         "showlegend": true,
         "type": "scatter",
         "x": [
          -0.10942683637461416
         ],
         "xaxis": "x",
         "y": [
          0.03631039436378775
         ],
         "yaxis": "y"
        },
        {
         "hovertemplate": "short_name=Neuroglobin<br>x1_pca=%{x}<br>x2_pca=%{y}<extra></extra>",
         "legendgroup": "Neuroglobin",
         "marker": {
          "color": "#1CFFCE",
          "symbol": "circle"
         },
         "mode": "markers",
         "name": "Neuroglobin",
         "orientation": "v",
         "showlegend": true,
         "type": "scatter",
         "x": [
          -0.19356945701982756,
          -0.21058469132817023,
          -0.11325195878459472,
          -0.14168271561689483,
          -0.16372804426239576,
          -0.1664263295279295,
          -0.1891519938500998,
          -0.19158791046869586,
          -0.15268903324015187,
          -0.20221520681285157,
          -0.17347761524581434,
          -0.02589718998949665,
          -0.2059467786495107,
          -0.13014928675520931
         ],
         "xaxis": "x",
         "y": [
          -0.07407923135909718,
          -0.360461847969311,
          -0.22983057811263052,
          -0.302026677067705,
          -0.06905525976522257,
          -0.05795703856649754,
          -0.06685954401603687,
          -0.05879658608599936,
          -0.0477015665187009,
          -0.06957436345510329,
          -0.07430424534914858,
          -0.034173726015164545,
          -0.05350478484500076,
          -0.16478990183042125
         ],
         "yaxis": "y"
        },
        {
         "hovertemplate": "short_name=Predicted<br>x1_pca=%{x}<br>x2_pca=%{y}<extra></extra>",
         "legendgroup": "Predicted",
         "marker": {
          "color": "#2ED9FF",
          "symbol": "circle"
         },
         "mode": "markers",
         "name": "Predicted",
         "orientation": "v",
         "showlegend": true,
         "type": "scatter",
         "x": [
          -0.13473888808566883,
          -0.07828877952510785,
          -0.05939333154007223,
          -0.05540625581773883,
          -0.04320181592906433,
          -0.13403275829975553
         ],
         "xaxis": "x",
         "y": [
          -0.1271220981528469,
          -0.11805133489601109,
          -0.08417567261882428,
          -0.09252628983433313,
          -0.09284557996636872,
          -0.031775148113283976
         ],
         "yaxis": "y"
        },
        {
         "hovertemplate": "short_name=Putative<br>x1_pca=%{x}<br>x2_pca=%{y}<extra></extra>",
         "legendgroup": "Putative",
         "marker": {
          "color": "#B10DA1",
          "symbol": "circle"
         },
         "mode": "markers",
         "name": "Putative",
         "orientation": "v",
         "showlegend": true,
         "type": "scatter",
         "x": [
          -0.023673860220310986,
          -0.0021068617414563037,
          -0.07272750191649445,
          -0.05407188314225431,
          -0.06606527817814668,
          -0.09207247944199852,
          -0.030212393622860618,
          -0.05107897749575774,
          -0.0575485034464442,
          -0.08419830645052301
         ],
         "xaxis": "x",
         "y": [
          0.12203073509844878,
          -0.031664854971658205,
          -0.096931062303886,
          0.10331989648412244,
          0.22266554600233787,
          0.1781621481392533,
          -0.07212949984384458,
          -0.03831061099311759,
          0.5253895435267258,
          0.22112876113450194
         ],
         "yaxis": "y"
        },
        {
         "hovertemplate": "short_name=Cygb2_0<br>x1_pca=%{x}<br>x2_pca=%{y}<extra></extra>",
         "legendgroup": "Cygb2_0",
         "marker": {
          "color": "#C075A6",
          "symbol": "circle"
         },
         "mode": "markers",
         "name": "Cygb2_0",
         "orientation": "v",
         "showlegend": true,
         "type": "scatter",
         "x": [
          -0.026498477773560295
         ],
         "xaxis": "x",
         "y": [
          0.1630007504202451
         ],
         "yaxis": "y"
        },
        {
         "hovertemplate": "short_name=Cytoglobin<br>x1_pca=%{x}<br>x2_pca=%{y}<extra></extra>",
         "legendgroup": "Cytoglobin",
         "marker": {
          "color": "#FC1CBF",
          "symbol": "circle"
         },
         "mode": "markers",
         "name": "Cytoglobin",
         "orientation": "v",
         "showlegend": true,
         "type": "scatter",
         "x": [
          -0.05223953751959447,
          -0.007863770159582116,
          -0.03119762152778937,
          -0.13052661092230863,
          -0.0838554827343312,
          0.48603327273093244,
          0.5383643903522208,
          0.42644372826374005,
          0.5087315815603521,
          0.5020687510782713,
          0.5437819818273412,
          0.5118020194372768,
          0.5088125589823762,
          0.5339797265457323,
          0.5148607493591655,
          0.4965884966564764,
          0.49044280963467746,
          0.3935942799223168,
          0.42197901209981364,
          0.3758522994849239,
          0.3912797256802285,
          -0.16501144530161496,
          -0.20107793442905206,
          -0.03275055183431165,
          0.5294124959776358,
          -0.033427252619485294,
          0.44731732699789556,
          -0.05069478142654706,
          -0.04067783487998445
         ],
         "xaxis": "x",
         "y": [
          0.12378441187286024,
          0.1455622031160232,
          0.026657185765175114,
          -0.27430128102263795,
          0.013750145233289685,
          -0.060442015825248455,
          -0.04956323298031903,
          -0.02809443467518674,
          -0.05273810207844797,
          -0.06664831132978731,
          -0.0578291646337634,
          -0.06577028186845084,
          -0.07543408785660706,
          -0.062021523226053275,
          -0.05763571710940258,
          -0.0626012243395639,
          -0.08313395908574517,
          -0.0685688175958918,
          -0.05619917169658043,
          -0.0315987687277957,
          -0.027475806296123142,
          -0.3670898450841518,
          -0.3770389606451872,
          -0.04674419551316197,
          -0.07069502403991546,
          -0.02765719161044954,
          -0.09949379719045799,
          0.06677664784330849,
          -0.002166271486853566
         ],
         "yaxis": "y"
        },
        {
         "hovertemplate": "short_name=Cygb2<br>x1_pca=%{x}<br>x2_pca=%{y}<extra></extra>",
         "legendgroup": "Cygb2",
         "marker": {
          "color": "#B00068",
          "symbol": "circle"
         },
         "mode": "markers",
         "name": "Cygb2",
         "orientation": "v",
         "showlegend": true,
         "type": "scatter",
         "x": [
          0.5329283754148677
         ],
         "xaxis": "x",
         "y": [
          -0.06059418883282036
         ],
         "yaxis": "y"
        },
        {
         "hovertemplate": "short_name=ACYPI001485<br>x1_pca=%{x}<br>x2_pca=%{y}<extra></extra>",
         "legendgroup": "ACYPI001485",
         "marker": {
          "color": "#FBE426",
          "symbol": "circle"
         },
         "mode": "markers",
         "name": "ACYPI001485",
         "orientation": "v",
         "showlegend": true,
         "type": "scatter",
         "x": [
          -0.14883069612413585
         ],
         "xaxis": "x",
         "y": [
          -0.2651613516734962
         ],
         "yaxis": "y"
        },
        {
         "hovertemplate": "short_name=Hemin<br>x1_pca=%{x}<br>x2_pca=%{y}<extra></extra>",
         "legendgroup": "Hemin",
         "marker": {
          "color": "#FA0087",
          "symbol": "circle"
         },
         "mode": "markers",
         "name": "Hemin",
         "orientation": "v",
         "showlegend": true,
         "type": "scatter",
         "x": [
          -0.10628644199029423
         ],
         "xaxis": "x",
         "y": [
          -0.018534994538454107
         ],
         "yaxis": "y"
        },
        {
         "hovertemplate": "short_name=GbX1<br>x1_pca=%{x}<br>x2_pca=%{y}<extra></extra>",
         "legendgroup": "GbX1",
         "marker": {
          "color": "#AA0DFE",
          "symbol": "circle"
         },
         "mode": "markers",
         "name": "GbX1",
         "orientation": "v",
         "showlegend": true,
         "type": "scatter",
         "x": [
          -0.18843531127446692
         ],
         "xaxis": "x",
         "y": [
          -0.359850583845479
         ],
         "yaxis": "y"
        },
        {
         "hovertemplate": "short_name=GbX2<br>x1_pca=%{x}<br>x2_pca=%{y}<extra></extra>",
         "legendgroup": "GbX2",
         "marker": {
          "color": "#3283FE",
          "symbol": "circle"
         },
         "mode": "markers",
         "name": "GbX2",
         "orientation": "v",
         "showlegend": true,
         "type": "scatter",
         "x": [
          -0.18345972304353744
         ],
         "xaxis": "x",
         "y": [
          -0.31340070493259514
         ],
         "yaxis": "y"
        },
        {
         "hovertemplate": "short_name=Chromosome<br>x1_pca=%{x}<br>x2_pca=%{y}<extra></extra>",
         "legendgroup": "Chromosome",
         "marker": {
          "color": "#85660D",
          "symbol": "circle"
         },
         "mode": "markers",
         "name": "Chromosome",
         "orientation": "v",
         "showlegend": true,
         "type": "scatter",
         "x": [
          -0.20963195831634254
         ],
         "xaxis": "x",
         "y": [
          -0.35331166090073063
         ],
         "yaxis": "y"
        },
        {
         "hovertemplate": "short_name=Xgb<br>x1_pca=%{x}<br>x2_pca=%{y}<extra></extra>",
         "legendgroup": "Xgb",
         "marker": {
          "color": "#782AB6",
          "symbol": "circle"
         },
         "mode": "markers",
         "name": "Xgb",
         "orientation": "v",
         "showlegend": true,
         "type": "scatter",
         "x": [
          -0.22420389481863948
         ],
         "xaxis": "x",
         "y": [
          -0.3746441135452887
         ],
         "yaxis": "y"
        },
        {
         "hovertemplate": "short_name=ORF<br>x1_pca=%{x}<br>x2_pca=%{y}<extra></extra>",
         "legendgroup": "ORF",
         "marker": {
          "color": "#565656",
          "symbol": "circle"
         },
         "mode": "markers",
         "name": "ORF",
         "orientation": "v",
         "showlegend": true,
         "type": "scatter",
         "x": [
          -0.08246436367499206
         ],
         "xaxis": "x",
         "y": [
          0.1038047630989136
         ],
         "yaxis": "y"
        },
        {
         "hovertemplate": "short_name=Extracellular<br>x1_pca=%{x}<br>x2_pca=%{y}<extra></extra>",
         "legendgroup": "Extracellular",
         "marker": {
          "color": "#1C8356",
          "symbol": "circle"
         },
         "mode": "markers",
         "name": "Extracellular",
         "orientation": "v",
         "showlegend": true,
         "type": "scatter",
         "x": [
          -0.08461355653133992
         ],
         "xaxis": "x",
         "y": [
          0.09074646650621312
         ],
         "yaxis": "y"
        },
        {
         "hovertemplate": "short_name=Inactive<br>x1_pca=%{x}<br>x2_pca=%{y}<extra></extra>",
         "legendgroup": "Inactive",
         "marker": {
          "color": "#16FF32",
          "symbol": "circle"
         },
         "mode": "markers",
         "name": "Inactive",
         "orientation": "v",
         "showlegend": true,
         "type": "scatter",
         "x": [
          0.4893655598411731
         ],
         "xaxis": "x",
         "y": [
          -0.05055578947703276
         ],
         "yaxis": "y"
        },
        {
         "hovertemplate": "short_name=ARAD1D45562p<br>x1_pca=%{x}<br>x2_pca=%{y}<extra></extra>",
         "legendgroup": "ARAD1D45562p",
         "marker": {
          "color": "#F7E1A0",
          "symbol": "circle"
         },
         "mode": "markers",
         "name": "ARAD1D45562p",
         "orientation": "v",
         "showlegend": true,
         "type": "scatter",
         "x": [
          -0.09342873784012153
         ],
         "xaxis": "x",
         "y": [
          -0.0018894314994740216
         ],
         "yaxis": "y"
        },
        {
         "hovertemplate": "short_name=Nacrein<br>x1_pca=%{x}<br>x2_pca=%{y}<extra></extra>",
         "legendgroup": "Nacrein",
         "marker": {
          "color": "#E2E2E2",
          "symbol": "circle"
         },
         "mode": "markers",
         "name": "Nacrein",
         "orientation": "v",
         "showlegend": true,
         "type": "scatter",
         "x": [
          -0.11263823111252821
         ],
         "xaxis": "x",
         "y": [
          -0.27142159577072045
         ],
         "yaxis": "y"
        },
        {
         "hovertemplate": "short_name=CYFA0S05e02454g1_1<br>x1_pca=%{x}<br>x2_pca=%{y}<extra></extra>",
         "legendgroup": "CYFA0S05e02454g1_1",
         "marker": {
          "color": "#1CBE4F",
          "symbol": "circle"
         },
         "mode": "markers",
         "name": "CYFA0S05e02454g1_1",
         "orientation": "v",
         "showlegend": true,
         "type": "scatter",
         "x": [
          -0.11334685018990491
         ],
         "xaxis": "x",
         "y": [
          0.013672173021518956
         ],
         "yaxis": "y"
        },
        {
         "hovertemplate": "short_name=Protein<br>x1_pca=%{x}<br>x2_pca=%{y}<extra></extra>",
         "legendgroup": "Protein",
         "marker": {
          "color": "#C4451C",
          "symbol": "circle"
         },
         "mode": "markers",
         "name": "Protein",
         "orientation": "v",
         "showlegend": true,
         "type": "scatter",
         "x": [
          -0.08740872064421834
         ],
         "xaxis": "x",
         "y": [
          -0.055721095206008694
         ],
         "yaxis": "y"
        },
        {
         "hovertemplate": "short_name=Cre<br>x1_pca=%{x}<br>x2_pca=%{y}<extra></extra>",
         "legendgroup": "Cre",
         "marker": {
          "color": "#DEA0FD",
          "symbol": "circle"
         },
         "mode": "markers",
         "name": "Cre",
         "orientation": "v",
         "showlegend": true,
         "type": "scatter",
         "x": [
          -0.05579045298709854
         ],
         "xaxis": "x",
         "y": [
          -0.07214627941864817
         ],
         "yaxis": "y"
        },
        {
         "hovertemplate": "short_name=Metalloendopeptidase<br>x1_pca=%{x}<br>x2_pca=%{y}<extra></extra>",
         "legendgroup": "Metalloendopeptidase",
         "marker": {
          "color": "#FE00FA",
          "symbol": "circle"
         },
         "mode": "markers",
         "name": "Metalloendopeptidase",
         "orientation": "v",
         "showlegend": true,
         "type": "scatter",
         "x": [
          -0.12041841152175643
         ],
         "xaxis": "x",
         "y": [
          -0.03537488996219339
         ],
         "yaxis": "y"
        }
       ],
       "layout": {
        "legend": {
         "title": {
          "text": "short_name"
         },
         "tracegroupgap": 0
        },
        "margin": {
         "t": 60
        },
        "template": {
         "data": {
          "bar": [
           {
            "error_x": {
             "color": "#2a3f5f"
            },
            "error_y": {
             "color": "#2a3f5f"
            },
            "marker": {
             "line": {
              "color": "#E5ECF6",
              "width": 0.5
             },
             "pattern": {
              "fillmode": "overlay",
              "size": 10,
              "solidity": 0.2
             }
            },
            "type": "bar"
           }
          ],
          "barpolar": [
           {
            "marker": {
             "line": {
              "color": "#E5ECF6",
              "width": 0.5
             },
             "pattern": {
              "fillmode": "overlay",
              "size": 10,
              "solidity": 0.2
             }
            },
            "type": "barpolar"
           }
          ],
          "carpet": [
           {
            "aaxis": {
             "endlinecolor": "#2a3f5f",
             "gridcolor": "white",
             "linecolor": "white",
             "minorgridcolor": "white",
             "startlinecolor": "#2a3f5f"
            },
            "baxis": {
             "endlinecolor": "#2a3f5f",
             "gridcolor": "white",
             "linecolor": "white",
             "minorgridcolor": "white",
             "startlinecolor": "#2a3f5f"
            },
            "type": "carpet"
           }
          ],
          "choropleth": [
           {
            "colorbar": {
             "outlinewidth": 0,
             "ticks": ""
            },
            "type": "choropleth"
           }
          ],
          "contour": [
           {
            "colorbar": {
             "outlinewidth": 0,
             "ticks": ""
            },
            "colorscale": [
             [
              0,
              "#0d0887"
             ],
             [
              0.1111111111111111,
              "#46039f"
             ],
             [
              0.2222222222222222,
              "#7201a8"
             ],
             [
              0.3333333333333333,
              "#9c179e"
             ],
             [
              0.4444444444444444,
              "#bd3786"
             ],
             [
              0.5555555555555556,
              "#d8576b"
             ],
             [
              0.6666666666666666,
              "#ed7953"
             ],
             [
              0.7777777777777778,
              "#fb9f3a"
             ],
             [
              0.8888888888888888,
              "#fdca26"
             ],
             [
              1,
              "#f0f921"
             ]
            ],
            "type": "contour"
           }
          ],
          "contourcarpet": [
           {
            "colorbar": {
             "outlinewidth": 0,
             "ticks": ""
            },
            "type": "contourcarpet"
           }
          ],
          "heatmap": [
           {
            "colorbar": {
             "outlinewidth": 0,
             "ticks": ""
            },
            "colorscale": [
             [
              0,
              "#0d0887"
             ],
             [
              0.1111111111111111,
              "#46039f"
             ],
             [
              0.2222222222222222,
              "#7201a8"
             ],
             [
              0.3333333333333333,
              "#9c179e"
             ],
             [
              0.4444444444444444,
              "#bd3786"
             ],
             [
              0.5555555555555556,
              "#d8576b"
             ],
             [
              0.6666666666666666,
              "#ed7953"
             ],
             [
              0.7777777777777778,
              "#fb9f3a"
             ],
             [
              0.8888888888888888,
              "#fdca26"
             ],
             [
              1,
              "#f0f921"
             ]
            ],
            "type": "heatmap"
           }
          ],
          "heatmapgl": [
           {
            "colorbar": {
             "outlinewidth": 0,
             "ticks": ""
            },
            "colorscale": [
             [
              0,
              "#0d0887"
             ],
             [
              0.1111111111111111,
              "#46039f"
             ],
             [
              0.2222222222222222,
              "#7201a8"
             ],
             [
              0.3333333333333333,
              "#9c179e"
             ],
             [
              0.4444444444444444,
              "#bd3786"
             ],
             [
              0.5555555555555556,
              "#d8576b"
             ],
             [
              0.6666666666666666,
              "#ed7953"
             ],
             [
              0.7777777777777778,
              "#fb9f3a"
             ],
             [
              0.8888888888888888,
              "#fdca26"
             ],
             [
              1,
              "#f0f921"
             ]
            ],
            "type": "heatmapgl"
           }
          ],
          "histogram": [
           {
            "marker": {
             "pattern": {
              "fillmode": "overlay",
              "size": 10,
              "solidity": 0.2
             }
            },
            "type": "histogram"
           }
          ],
          "histogram2d": [
           {
            "colorbar": {
             "outlinewidth": 0,
             "ticks": ""
            },
            "colorscale": [
             [
              0,
              "#0d0887"
             ],
             [
              0.1111111111111111,
              "#46039f"
             ],
             [
              0.2222222222222222,
              "#7201a8"
             ],
             [
              0.3333333333333333,
              "#9c179e"
             ],
             [
              0.4444444444444444,
              "#bd3786"
             ],
             [
              0.5555555555555556,
              "#d8576b"
             ],
             [
              0.6666666666666666,
              "#ed7953"
             ],
             [
              0.7777777777777778,
              "#fb9f3a"
             ],
             [
              0.8888888888888888,
              "#fdca26"
             ],
             [
              1,
              "#f0f921"
             ]
            ],
            "type": "histogram2d"
           }
          ],
          "histogram2dcontour": [
           {
            "colorbar": {
             "outlinewidth": 0,
             "ticks": ""
            },
            "colorscale": [
             [
              0,
              "#0d0887"
             ],
             [
              0.1111111111111111,
              "#46039f"
             ],
             [
              0.2222222222222222,
              "#7201a8"
             ],
             [
              0.3333333333333333,
              "#9c179e"
             ],
             [
              0.4444444444444444,
              "#bd3786"
             ],
             [
              0.5555555555555556,
              "#d8576b"
             ],
             [
              0.6666666666666666,
              "#ed7953"
             ],
             [
              0.7777777777777778,
              "#fb9f3a"
             ],
             [
              0.8888888888888888,
              "#fdca26"
             ],
             [
              1,
              "#f0f921"
             ]
            ],
            "type": "histogram2dcontour"
           }
          ],
          "mesh3d": [
           {
            "colorbar": {
             "outlinewidth": 0,
             "ticks": ""
            },
            "type": "mesh3d"
           }
          ],
          "parcoords": [
           {
            "line": {
             "colorbar": {
              "outlinewidth": 0,
              "ticks": ""
             }
            },
            "type": "parcoords"
           }
          ],
          "pie": [
           {
            "automargin": true,
            "type": "pie"
           }
          ],
          "scatter": [
           {
            "fillpattern": {
             "fillmode": "overlay",
             "size": 10,
             "solidity": 0.2
            },
            "type": "scatter"
           }
          ],
          "scatter3d": [
           {
            "line": {
             "colorbar": {
              "outlinewidth": 0,
              "ticks": ""
             }
            },
            "marker": {
             "colorbar": {
              "outlinewidth": 0,
              "ticks": ""
             }
            },
            "type": "scatter3d"
           }
          ],
          "scattercarpet": [
           {
            "marker": {
             "colorbar": {
              "outlinewidth": 0,
              "ticks": ""
             }
            },
            "type": "scattercarpet"
           }
          ],
          "scattergeo": [
           {
            "marker": {
             "colorbar": {
              "outlinewidth": 0,
              "ticks": ""
             }
            },
            "type": "scattergeo"
           }
          ],
          "scattergl": [
           {
            "marker": {
             "colorbar": {
              "outlinewidth": 0,
              "ticks": ""
             }
            },
            "type": "scattergl"
           }
          ],
          "scattermapbox": [
           {
            "marker": {
             "colorbar": {
              "outlinewidth": 0,
              "ticks": ""
             }
            },
            "type": "scattermapbox"
           }
          ],
          "scatterpolar": [
           {
            "marker": {
             "colorbar": {
              "outlinewidth": 0,
              "ticks": ""
             }
            },
            "type": "scatterpolar"
           }
          ],
          "scatterpolargl": [
           {
            "marker": {
             "colorbar": {
              "outlinewidth": 0,
              "ticks": ""
             }
            },
            "type": "scatterpolargl"
           }
          ],
          "scatterternary": [
           {
            "marker": {
             "colorbar": {
              "outlinewidth": 0,
              "ticks": ""
             }
            },
            "type": "scatterternary"
           }
          ],
          "surface": [
           {
            "colorbar": {
             "outlinewidth": 0,
             "ticks": ""
            },
            "colorscale": [
             [
              0,
              "#0d0887"
             ],
             [
              0.1111111111111111,
              "#46039f"
             ],
             [
              0.2222222222222222,
              "#7201a8"
             ],
             [
              0.3333333333333333,
              "#9c179e"
             ],
             [
              0.4444444444444444,
              "#bd3786"
             ],
             [
              0.5555555555555556,
              "#d8576b"
             ],
             [
              0.6666666666666666,
              "#ed7953"
             ],
             [
              0.7777777777777778,
              "#fb9f3a"
             ],
             [
              0.8888888888888888,
              "#fdca26"
             ],
             [
              1,
              "#f0f921"
             ]
            ],
            "type": "surface"
           }
          ],
          "table": [
           {
            "cells": {
             "fill": {
              "color": "#EBF0F8"
             },
             "line": {
              "color": "white"
             }
            },
            "header": {
             "fill": {
              "color": "#C8D4E3"
             },
             "line": {
              "color": "white"
             }
            },
            "type": "table"
           }
          ]
         },
         "layout": {
          "annotationdefaults": {
           "arrowcolor": "#2a3f5f",
           "arrowhead": 0,
           "arrowwidth": 1
          },
          "autotypenumbers": "strict",
          "coloraxis": {
           "colorbar": {
            "outlinewidth": 0,
            "ticks": ""
           }
          },
          "colorscale": {
           "diverging": [
            [
             0,
             "#8e0152"
            ],
            [
             0.1,
             "#c51b7d"
            ],
            [
             0.2,
             "#de77ae"
            ],
            [
             0.3,
             "#f1b6da"
            ],
            [
             0.4,
             "#fde0ef"
            ],
            [
             0.5,
             "#f7f7f7"
            ],
            [
             0.6,
             "#e6f5d0"
            ],
            [
             0.7,
             "#b8e186"
            ],
            [
             0.8,
             "#7fbc41"
            ],
            [
             0.9,
             "#4d9221"
            ],
            [
             1,
             "#276419"
            ]
           ],
           "sequential": [
            [
             0,
             "#0d0887"
            ],
            [
             0.1111111111111111,
             "#46039f"
            ],
            [
             0.2222222222222222,
             "#7201a8"
            ],
            [
             0.3333333333333333,
             "#9c179e"
            ],
            [
             0.4444444444444444,
             "#bd3786"
            ],
            [
             0.5555555555555556,
             "#d8576b"
            ],
            [
             0.6666666666666666,
             "#ed7953"
            ],
            [
             0.7777777777777778,
             "#fb9f3a"
            ],
            [
             0.8888888888888888,
             "#fdca26"
            ],
            [
             1,
             "#f0f921"
            ]
           ],
           "sequentialminus": [
            [
             0,
             "#0d0887"
            ],
            [
             0.1111111111111111,
             "#46039f"
            ],
            [
             0.2222222222222222,
             "#7201a8"
            ],
            [
             0.3333333333333333,
             "#9c179e"
            ],
            [
             0.4444444444444444,
             "#bd3786"
            ],
            [
             0.5555555555555556,
             "#d8576b"
            ],
            [
             0.6666666666666666,
             "#ed7953"
            ],
            [
             0.7777777777777778,
             "#fb9f3a"
            ],
            [
             0.8888888888888888,
             "#fdca26"
            ],
            [
             1,
             "#f0f921"
            ]
           ]
          },
          "colorway": [
           "#636efa",
           "#EF553B",
           "#00cc96",
           "#ab63fa",
           "#FFA15A",
           "#19d3f3",
           "#FF6692",
           "#B6E880",
           "#FF97FF",
           "#FECB52"
          ],
          "font": {
           "color": "#2a3f5f"
          },
          "geo": {
           "bgcolor": "white",
           "lakecolor": "white",
           "landcolor": "#E5ECF6",
           "showlakes": true,
           "showland": true,
           "subunitcolor": "white"
          },
          "hoverlabel": {
           "align": "left"
          },
          "hovermode": "closest",
          "mapbox": {
           "style": "light"
          },
          "paper_bgcolor": "white",
          "plot_bgcolor": "#E5ECF6",
          "polar": {
           "angularaxis": {
            "gridcolor": "white",
            "linecolor": "white",
            "ticks": ""
           },
           "bgcolor": "#E5ECF6",
           "radialaxis": {
            "gridcolor": "white",
            "linecolor": "white",
            "ticks": ""
           }
          },
          "scene": {
           "xaxis": {
            "backgroundcolor": "#E5ECF6",
            "gridcolor": "white",
            "gridwidth": 2,
            "linecolor": "white",
            "showbackground": true,
            "ticks": "",
            "zerolinecolor": "white"
           },
           "yaxis": {
            "backgroundcolor": "#E5ECF6",
            "gridcolor": "white",
            "gridwidth": 2,
            "linecolor": "white",
            "showbackground": true,
            "ticks": "",
            "zerolinecolor": "white"
           },
           "zaxis": {
            "backgroundcolor": "#E5ECF6",
            "gridcolor": "white",
            "gridwidth": 2,
            "linecolor": "white",
            "showbackground": true,
            "ticks": "",
            "zerolinecolor": "white"
           }
          },
          "shapedefaults": {
           "line": {
            "color": "#2a3f5f"
           }
          },
          "ternary": {
           "aaxis": {
            "gridcolor": "white",
            "linecolor": "white",
            "ticks": ""
           },
           "baxis": {
            "gridcolor": "white",
            "linecolor": "white",
            "ticks": ""
           },
           "bgcolor": "#E5ECF6",
           "caxis": {
            "gridcolor": "white",
            "linecolor": "white",
            "ticks": ""
           }
          },
          "title": {
           "x": 0.05
          },
          "xaxis": {
           "automargin": true,
           "gridcolor": "white",
           "linecolor": "white",
           "ticks": "",
           "title": {
            "standoff": 15
           },
           "zerolinecolor": "white",
           "zerolinewidth": 2
          },
          "yaxis": {
           "automargin": true,
           "gridcolor": "white",
           "linecolor": "white",
           "ticks": "",
           "title": {
            "standoff": 15
           },
           "zerolinecolor": "white",
           "zerolinewidth": 2
          }
         }
        },
        "xaxis": {
         "anchor": "y",
         "domain": [
          0,
          1
         ],
         "title": {
          "text": "x1_pca"
         }
        },
        "yaxis": {
         "anchor": "x",
         "domain": [
          0,
          1
         ],
         "scaleanchor": "x",
         "scaleratio": 1,
         "title": {
          "text": "x2_pca"
         }
        }
       }
      },
      "text/html": [
       "<div>                            <div id=\"729df524-c2b1-4a78-b29e-57cf469cd80d\" class=\"plotly-graph-div\" style=\"height:525px; width:100%;\"></div>            <script type=\"text/javascript\">                require([\"plotly\"], function(Plotly) {                    window.PLOTLYENV=window.PLOTLYENV || {};                                    if (document.getElementById(\"729df524-c2b1-4a78-b29e-57cf469cd80d\")) {                    Plotly.newPlot(                        \"729df524-c2b1-4a78-b29e-57cf469cd80d\",                        [{\"hovertemplate\":\"short_name=Globin<br>x1_pca=%{x}<br>x2_pca=%{y}<extra></extra>\",\"legendgroup\":\"Globin\",\"marker\":{\"color\":\"#325A9B\",\"symbol\":\"circle\"},\"mode\":\"markers\",\"name\":\"Globin\",\"orientation\":\"v\",\"showlegend\":true,\"x\":[-0.06305513543529705,-0.047890224876186924,-0.04873664252816814,-0.04275430098107574,-0.03753501061564372,-0.016198549615379764,-0.02955129510049442,-0.05515824512042926,-0.028494506348439988,-0.14127706371897386,-0.11989941944813569,-0.027183944690529205,0.006618384540131856,-0.04023450649632306,-0.07815151312457555,-0.09777956119853269,-0.11833594430483999,-0.11937159351021166,-0.06909988018658215,-0.07326851172118487,-0.09272376880718558,-0.09942000416625289,-0.10476892501630138,-0.10223028919867537,-0.09416667329261424,-0.029676633067923314,-0.03684296325169658,-0.05466653041897247,0.10097876463694526,0.10633055016448534,-0.06749113993975074,-0.05668800416641973,-0.061505767911672775,0.009693065980410849,-0.041769823577510704,0.027435336310265946,-0.014065181241908628,-0.0437045279315498,-0.09273827219614131,-0.04295525851027714,0.0070038861496882305,-0.07472975645440626],\"xaxis\":\"x\",\"y\":[0.025768270147098375,0.11512167725684129,0.050540838672906686,0.10339704242876618,-0.04939448766621087,0.16460502039034827,0.10897576101570959,0.1484596853996582,0.046878281087304075,-0.011936376748639729,-0.0157330491389618,-0.041031762398789626,0.012710606977624883,0.031239488162077115,0.08395686239499725,0.08421382530619916,0.10267068508544572,0.10173425150109743,0.0802201899819211,0.10240069897359044,0.09709511513348816,0.1218042056767957,0.07211137024814146,0.09222358702137913,-0.23561872977650736,-0.02282919767620729,-0.014423803545790733,-0.03195918370696134,-0.03841858236882538,-0.023932000640384768,-0.0006703517314304837,0.008091521485649587,0.13094633961369978,0.07274324811339912,0.11232920639987824,0.01369585364158714,-0.038889183270874185,-0.015301241874962157,0.14837213822213866,-0.009067978457223647,-0.04053776110438962,-0.016260584017884935],\"yaxis\":\"y\",\"type\":\"scatter\"},{\"hovertemplate\":\"short_name=Uncharacterized<br>x1_pca=%{x}<br>x2_pca=%{y}<extra></extra>\",\"legendgroup\":\"Uncharacterized\",\"marker\":{\"color\":\"#FEAF16\",\"symbol\":\"circle\"},\"mode\":\"markers\",\"name\":\"Uncharacterized\",\"orientation\":\"v\",\"showlegend\":true,\"x\":[-0.04988053408458242,-0.10927588824165939,-0.08923303043351993,-0.021000258903738134,-0.025282158747100082,-0.036979139325575075,0.016513208860970637,-0.027229269075419654,-0.08280832020008216,-0.0703540709639968,0.011318772842352096,0.02657762906223067,-0.023477029611348208,-0.006987737252995124,0.03948645057385685,-0.11231163480481675,-0.03164176426156349,0.555556287748349,0.48206767053826005,0.4872335580863562,0.47810697893173704,0.43398462325038706,0.4716947253606287,0.5081305212178188,0.5357527355398343,0.5364121442551457,0.48766017313322163,0.5228114268860902,0.3838480128491915,-0.14061934044395902,-0.1314079032499188,-0.09744313276978611,-0.09999076627248123,-0.13845896999628485,0.05123017514563875,-0.21928636802299595,-0.17263389371864302,-0.17879620424747836,-0.2036314445889982,-0.20899154495508998,-0.1849019354010933,-0.21321601351531455,-0.20938557834050084,-0.0511607575770477,-0.03476708668194305,-0.021051318939777693,-0.020729361236341896,0.1576504192760543,0.1570485738465714,0.14279841614223035,0.045888708006101966,0.11311441499007394,0.11076636656145501,0.12970880808480093,-0.11274683159038926,-0.03638993293851541,-0.014961685939238365,-0.06794952881163778,-0.06088079944669605,-0.13376387462585632,-0.1897353017746474,-0.1730402072254903,-0.1717741176457864,-0.18009537344027673,-0.13808409803074023,0.020552568994721382,-0.06565318010105986,-0.04072299762894262,-0.13206879219496878,-0.06136273632734722,-0.0545225050394865,-0.10539874230994581,-0.12257474326642917,-0.04937151112301548,-0.04614012487607399,-0.10853841482933115,0.0593199149251588,-0.10915454225201263,-0.09270123754613774,-0.04160013277493042,-0.020217888625862934,-0.02335334103678952,-0.14908005424399004,-0.17179188433561138,-0.15921471948232357,-0.15791831000733053,-0.08566998776592696],\"xaxis\":\"x\",\"y\":[-0.012098617979128111,0.02965602954343198,0.04153506910239288,-0.03656319513603923,-0.01668066304599519,0.043721504093926986,0.005799350671566802,-0.012576791122183673,-0.0034421493772437,0.0030685352242907768,-0.0711438935610157,-0.054621852977227096,0.16494682709825195,0.03739879233789081,0.044781768291274386,-0.03450919818780353,0.07536074093958212,-0.06859758244393761,-0.05988413784464822,-0.04173245036610609,-0.06122130676075118,-0.09186142078848737,-0.04777023401396465,-0.08100992877969504,-0.0793226716350136,-0.06949623587058347,-0.08632087099691406,-0.06693703602904022,-0.04896386135763627,-0.3052874705844647,-0.3041966827906932,-0.23519508232076028,-0.2010113476291815,-0.25040770471698187,0.025538123882007668,-0.36010352401541634,-0.3359598567095359,-0.3441609534484203,-0.38853392526693187,-0.32654117407216315,-0.31604275221001865,-0.3948690594157531,-0.35860552577026833,-0.039033724902257115,-0.01788891651862358,-0.037407103595283576,0.01274421678978787,0.006486365229904017,-0.024614028387597887,-0.023085577505579522,0.047310473141698624,-0.029782432729874565,-0.032505133550617384,-0.011176791064764349,-0.23604286617536857,0.031614203472951116,7.43354971669738e-05,-0.05572253907941788,-0.07242719096507755,-0.06905015824561869,-0.07404849361738627,-0.07182932959914998,-0.06659267263355279,-0.05203036792967607,-0.07908084732926973,0.05492248609667506,0.2246882829554232,-0.027101598234702276,-0.2625224377148011,-0.1986213704587655,-0.007450002924429957,0.0533690870672092,-0.15008970626707963,-0.0030070563451927036,-0.0428108791251286,-0.06681728147176051,0.05924224877985236,-0.06189375155867063,-0.06556992705672236,0.008152918420472728,0.04284966389976379,0.07918792801651459,-0.050804520472812344,-0.03912912169360329,-0.08894377843736896,-0.042392597856354505,-0.06675740602862928],\"yaxis\":\"y\",\"type\":\"scatter\"},{\"hovertemplate\":\"short_name=Hemoglobin<br>x1_pca=%{x}<br>x2_pca=%{y}<extra></extra>\",\"legendgroup\":\"Hemoglobin\",\"marker\":{\"color\":\"#F8A19F\",\"symbol\":\"circle\"},\"mode\":\"markers\",\"name\":\"Hemoglobin\",\"orientation\":\"v\",\"showlegend\":true,\"x\":[-0.09035834527841348,-0.027106358770712265,-0.019381271970467302,-0.028667342052379554,-0.02005902970939926,-0.025501448696127926,-0.04188400385899126,-0.060242565447247744,-0.11176485218310239,0.16866886124536715,0.04019589370252034,0.08871079656776708,-0.04502461706094699,-0.048055383577114016,-0.05321593638305679,-0.07303605012311376,-0.03230306131008507,-0.04945986556448109,-0.05038240136294149,-0.0482281558790311,-0.056367859462070874,0.011809735046207906,-0.12414382846520561,-0.10841611185268306,-0.07705581617245592,-0.055623539196175735,-0.08302558003254214,-0.07908714808753693,-0.05842994263544869,-0.041081856654286875,-0.04977900948868585,-0.08432527564160927,-0.08679098762499049,-0.10320373080591942,-0.11212637609395565,-0.10049725396366364,-0.09840711439423189,-0.06860936531484466,-0.04540380102537223,-0.050234109154095985,-0.056797541001831965,-0.03607818644722406,-0.09234731792579697,-0.06957378857485383],\"xaxis\":\"x\",\"y\":[0.024373949386005095,0.0529158320640915,0.009112157482108337,-0.002570403435165274,-0.009756522803733823,0.07093988143170389,0.039117292376919244,0.06601541317728638,0.20098343136901015,-2.3650589760482772e-05,0.02032832196170674,-0.01676356007633344,0.543303761251235,0.5361051976876927,0.5453403336608692,0.5035728282670011,0.08216493041528417,0.5032058064760708,0.5252008263023058,0.5085769030173533,0.17756267824149086,0.04262579961866446,0.03428476419496668,0.1218354937984296,0.5063002706968972,0.5161023421709934,0.5013617139186565,0.5041820376025224,0.5053952625784133,0.4853427195753106,0.4952190537602517,0.06841977300909163,0.055485615331538805,0.0880351307383211,0.0768822763703543,0.08649946363355998,0.04845921011908528,0.027614904379191365,0.03033534668401522,0.1535216486231341,0.3085464011842162,0.023282448132761223,0.12831215776478225,0.05961579281692508],\"yaxis\":\"y\",\"type\":\"scatter\"},{\"hovertemplate\":\"short_name=Globin,<br>x1_pca=%{x}<br>x2_pca=%{y}<extra></extra>\",\"legendgroup\":\"Globin,\",\"marker\":{\"color\":\"#90AD1C\",\"symbol\":\"circle\"},\"mode\":\"markers\",\"name\":\"Globin,\",\"orientation\":\"v\",\"showlegend\":true,\"x\":[-0.052619751455446125,-0.03271072535335355],\"xaxis\":\"x\",\"y\":[0.047692656676883875,0.01352422543549924],\"yaxis\":\"y\",\"type\":\"scatter\"},{\"hovertemplate\":\"short_name=ACYPI007228<br>x1_pca=%{x}<br>x2_pca=%{y}<extra></extra>\",\"legendgroup\":\"ACYPI007228\",\"marker\":{\"color\":\"#F6222E\",\"symbol\":\"circle\"},\"mode\":\"markers\",\"name\":\"ACYPI007228\",\"orientation\":\"v\",\"showlegend\":true,\"x\":[-0.10942683637461416],\"xaxis\":\"x\",\"y\":[0.03631039436378775],\"yaxis\":\"y\",\"type\":\"scatter\"},{\"hovertemplate\":\"short_name=Neuroglobin<br>x1_pca=%{x}<br>x2_pca=%{y}<extra></extra>\",\"legendgroup\":\"Neuroglobin\",\"marker\":{\"color\":\"#1CFFCE\",\"symbol\":\"circle\"},\"mode\":\"markers\",\"name\":\"Neuroglobin\",\"orientation\":\"v\",\"showlegend\":true,\"x\":[-0.19356945701982756,-0.21058469132817023,-0.11325195878459472,-0.14168271561689483,-0.16372804426239576,-0.1664263295279295,-0.1891519938500998,-0.19158791046869586,-0.15268903324015187,-0.20221520681285157,-0.17347761524581434,-0.02589718998949665,-0.2059467786495107,-0.13014928675520931],\"xaxis\":\"x\",\"y\":[-0.07407923135909718,-0.360461847969311,-0.22983057811263052,-0.302026677067705,-0.06905525976522257,-0.05795703856649754,-0.06685954401603687,-0.05879658608599936,-0.0477015665187009,-0.06957436345510329,-0.07430424534914858,-0.034173726015164545,-0.05350478484500076,-0.16478990183042125],\"yaxis\":\"y\",\"type\":\"scatter\"},{\"hovertemplate\":\"short_name=Predicted<br>x1_pca=%{x}<br>x2_pca=%{y}<extra></extra>\",\"legendgroup\":\"Predicted\",\"marker\":{\"color\":\"#2ED9FF\",\"symbol\":\"circle\"},\"mode\":\"markers\",\"name\":\"Predicted\",\"orientation\":\"v\",\"showlegend\":true,\"x\":[-0.13473888808566883,-0.07828877952510785,-0.05939333154007223,-0.05540625581773883,-0.04320181592906433,-0.13403275829975553],\"xaxis\":\"x\",\"y\":[-0.1271220981528469,-0.11805133489601109,-0.08417567261882428,-0.09252628983433313,-0.09284557996636872,-0.031775148113283976],\"yaxis\":\"y\",\"type\":\"scatter\"},{\"hovertemplate\":\"short_name=Putative<br>x1_pca=%{x}<br>x2_pca=%{y}<extra></extra>\",\"legendgroup\":\"Putative\",\"marker\":{\"color\":\"#B10DA1\",\"symbol\":\"circle\"},\"mode\":\"markers\",\"name\":\"Putative\",\"orientation\":\"v\",\"showlegend\":true,\"x\":[-0.023673860220310986,-0.0021068617414563037,-0.07272750191649445,-0.05407188314225431,-0.06606527817814668,-0.09207247944199852,-0.030212393622860618,-0.05107897749575774,-0.0575485034464442,-0.08419830645052301],\"xaxis\":\"x\",\"y\":[0.12203073509844878,-0.031664854971658205,-0.096931062303886,0.10331989648412244,0.22266554600233787,0.1781621481392533,-0.07212949984384458,-0.03831061099311759,0.5253895435267258,0.22112876113450194],\"yaxis\":\"y\",\"type\":\"scatter\"},{\"hovertemplate\":\"short_name=Cygb2_0<br>x1_pca=%{x}<br>x2_pca=%{y}<extra></extra>\",\"legendgroup\":\"Cygb2_0\",\"marker\":{\"color\":\"#C075A6\",\"symbol\":\"circle\"},\"mode\":\"markers\",\"name\":\"Cygb2_0\",\"orientation\":\"v\",\"showlegend\":true,\"x\":[-0.026498477773560295],\"xaxis\":\"x\",\"y\":[0.1630007504202451],\"yaxis\":\"y\",\"type\":\"scatter\"},{\"hovertemplate\":\"short_name=Cytoglobin<br>x1_pca=%{x}<br>x2_pca=%{y}<extra></extra>\",\"legendgroup\":\"Cytoglobin\",\"marker\":{\"color\":\"#FC1CBF\",\"symbol\":\"circle\"},\"mode\":\"markers\",\"name\":\"Cytoglobin\",\"orientation\":\"v\",\"showlegend\":true,\"x\":[-0.05223953751959447,-0.007863770159582116,-0.03119762152778937,-0.13052661092230863,-0.0838554827343312,0.48603327273093244,0.5383643903522208,0.42644372826374005,0.5087315815603521,0.5020687510782713,0.5437819818273412,0.5118020194372768,0.5088125589823762,0.5339797265457323,0.5148607493591655,0.4965884966564764,0.49044280963467746,0.3935942799223168,0.42197901209981364,0.3758522994849239,0.3912797256802285,-0.16501144530161496,-0.20107793442905206,-0.03275055183431165,0.5294124959776358,-0.033427252619485294,0.44731732699789556,-0.05069478142654706,-0.04067783487998445],\"xaxis\":\"x\",\"y\":[0.12378441187286024,0.1455622031160232,0.026657185765175114,-0.27430128102263795,0.013750145233289685,-0.060442015825248455,-0.04956323298031903,-0.02809443467518674,-0.05273810207844797,-0.06664831132978731,-0.0578291646337634,-0.06577028186845084,-0.07543408785660706,-0.062021523226053275,-0.05763571710940258,-0.0626012243395639,-0.08313395908574517,-0.0685688175958918,-0.05619917169658043,-0.0315987687277957,-0.027475806296123142,-0.3670898450841518,-0.3770389606451872,-0.04674419551316197,-0.07069502403991546,-0.02765719161044954,-0.09949379719045799,0.06677664784330849,-0.002166271486853566],\"yaxis\":\"y\",\"type\":\"scatter\"},{\"hovertemplate\":\"short_name=Cygb2<br>x1_pca=%{x}<br>x2_pca=%{y}<extra></extra>\",\"legendgroup\":\"Cygb2\",\"marker\":{\"color\":\"#B00068\",\"symbol\":\"circle\"},\"mode\":\"markers\",\"name\":\"Cygb2\",\"orientation\":\"v\",\"showlegend\":true,\"x\":[0.5329283754148677],\"xaxis\":\"x\",\"y\":[-0.06059418883282036],\"yaxis\":\"y\",\"type\":\"scatter\"},{\"hovertemplate\":\"short_name=ACYPI001485<br>x1_pca=%{x}<br>x2_pca=%{y}<extra></extra>\",\"legendgroup\":\"ACYPI001485\",\"marker\":{\"color\":\"#FBE426\",\"symbol\":\"circle\"},\"mode\":\"markers\",\"name\":\"ACYPI001485\",\"orientation\":\"v\",\"showlegend\":true,\"x\":[-0.14883069612413585],\"xaxis\":\"x\",\"y\":[-0.2651613516734962],\"yaxis\":\"y\",\"type\":\"scatter\"},{\"hovertemplate\":\"short_name=Hemin<br>x1_pca=%{x}<br>x2_pca=%{y}<extra></extra>\",\"legendgroup\":\"Hemin\",\"marker\":{\"color\":\"#FA0087\",\"symbol\":\"circle\"},\"mode\":\"markers\",\"name\":\"Hemin\",\"orientation\":\"v\",\"showlegend\":true,\"x\":[-0.10628644199029423],\"xaxis\":\"x\",\"y\":[-0.018534994538454107],\"yaxis\":\"y\",\"type\":\"scatter\"},{\"hovertemplate\":\"short_name=GbX1<br>x1_pca=%{x}<br>x2_pca=%{y}<extra></extra>\",\"legendgroup\":\"GbX1\",\"marker\":{\"color\":\"#AA0DFE\",\"symbol\":\"circle\"},\"mode\":\"markers\",\"name\":\"GbX1\",\"orientation\":\"v\",\"showlegend\":true,\"x\":[-0.18843531127446692],\"xaxis\":\"x\",\"y\":[-0.359850583845479],\"yaxis\":\"y\",\"type\":\"scatter\"},{\"hovertemplate\":\"short_name=GbX2<br>x1_pca=%{x}<br>x2_pca=%{y}<extra></extra>\",\"legendgroup\":\"GbX2\",\"marker\":{\"color\":\"#3283FE\",\"symbol\":\"circle\"},\"mode\":\"markers\",\"name\":\"GbX2\",\"orientation\":\"v\",\"showlegend\":true,\"x\":[-0.18345972304353744],\"xaxis\":\"x\",\"y\":[-0.31340070493259514],\"yaxis\":\"y\",\"type\":\"scatter\"},{\"hovertemplate\":\"short_name=Chromosome<br>x1_pca=%{x}<br>x2_pca=%{y}<extra></extra>\",\"legendgroup\":\"Chromosome\",\"marker\":{\"color\":\"#85660D\",\"symbol\":\"circle\"},\"mode\":\"markers\",\"name\":\"Chromosome\",\"orientation\":\"v\",\"showlegend\":true,\"x\":[-0.20963195831634254],\"xaxis\":\"x\",\"y\":[-0.35331166090073063],\"yaxis\":\"y\",\"type\":\"scatter\"},{\"hovertemplate\":\"short_name=Xgb<br>x1_pca=%{x}<br>x2_pca=%{y}<extra></extra>\",\"legendgroup\":\"Xgb\",\"marker\":{\"color\":\"#782AB6\",\"symbol\":\"circle\"},\"mode\":\"markers\",\"name\":\"Xgb\",\"orientation\":\"v\",\"showlegend\":true,\"x\":[-0.22420389481863948],\"xaxis\":\"x\",\"y\":[-0.3746441135452887],\"yaxis\":\"y\",\"type\":\"scatter\"},{\"hovertemplate\":\"short_name=ORF<br>x1_pca=%{x}<br>x2_pca=%{y}<extra></extra>\",\"legendgroup\":\"ORF\",\"marker\":{\"color\":\"#565656\",\"symbol\":\"circle\"},\"mode\":\"markers\",\"name\":\"ORF\",\"orientation\":\"v\",\"showlegend\":true,\"x\":[-0.08246436367499206],\"xaxis\":\"x\",\"y\":[0.1038047630989136],\"yaxis\":\"y\",\"type\":\"scatter\"},{\"hovertemplate\":\"short_name=Extracellular<br>x1_pca=%{x}<br>x2_pca=%{y}<extra></extra>\",\"legendgroup\":\"Extracellular\",\"marker\":{\"color\":\"#1C8356\",\"symbol\":\"circle\"},\"mode\":\"markers\",\"name\":\"Extracellular\",\"orientation\":\"v\",\"showlegend\":true,\"x\":[-0.08461355653133992],\"xaxis\":\"x\",\"y\":[0.09074646650621312],\"yaxis\":\"y\",\"type\":\"scatter\"},{\"hovertemplate\":\"short_name=Inactive<br>x1_pca=%{x}<br>x2_pca=%{y}<extra></extra>\",\"legendgroup\":\"Inactive\",\"marker\":{\"color\":\"#16FF32\",\"symbol\":\"circle\"},\"mode\":\"markers\",\"name\":\"Inactive\",\"orientation\":\"v\",\"showlegend\":true,\"x\":[0.4893655598411731],\"xaxis\":\"x\",\"y\":[-0.05055578947703276],\"yaxis\":\"y\",\"type\":\"scatter\"},{\"hovertemplate\":\"short_name=ARAD1D45562p<br>x1_pca=%{x}<br>x2_pca=%{y}<extra></extra>\",\"legendgroup\":\"ARAD1D45562p\",\"marker\":{\"color\":\"#F7E1A0\",\"symbol\":\"circle\"},\"mode\":\"markers\",\"name\":\"ARAD1D45562p\",\"orientation\":\"v\",\"showlegend\":true,\"x\":[-0.09342873784012153],\"xaxis\":\"x\",\"y\":[-0.0018894314994740216],\"yaxis\":\"y\",\"type\":\"scatter\"},{\"hovertemplate\":\"short_name=Nacrein<br>x1_pca=%{x}<br>x2_pca=%{y}<extra></extra>\",\"legendgroup\":\"Nacrein\",\"marker\":{\"color\":\"#E2E2E2\",\"symbol\":\"circle\"},\"mode\":\"markers\",\"name\":\"Nacrein\",\"orientation\":\"v\",\"showlegend\":true,\"x\":[-0.11263823111252821],\"xaxis\":\"x\",\"y\":[-0.27142159577072045],\"yaxis\":\"y\",\"type\":\"scatter\"},{\"hovertemplate\":\"short_name=CYFA0S05e02454g1_1<br>x1_pca=%{x}<br>x2_pca=%{y}<extra></extra>\",\"legendgroup\":\"CYFA0S05e02454g1_1\",\"marker\":{\"color\":\"#1CBE4F\",\"symbol\":\"circle\"},\"mode\":\"markers\",\"name\":\"CYFA0S05e02454g1_1\",\"orientation\":\"v\",\"showlegend\":true,\"x\":[-0.11334685018990491],\"xaxis\":\"x\",\"y\":[0.013672173021518956],\"yaxis\":\"y\",\"type\":\"scatter\"},{\"hovertemplate\":\"short_name=Protein<br>x1_pca=%{x}<br>x2_pca=%{y}<extra></extra>\",\"legendgroup\":\"Protein\",\"marker\":{\"color\":\"#C4451C\",\"symbol\":\"circle\"},\"mode\":\"markers\",\"name\":\"Protein\",\"orientation\":\"v\",\"showlegend\":true,\"x\":[-0.08740872064421834],\"xaxis\":\"x\",\"y\":[-0.055721095206008694],\"yaxis\":\"y\",\"type\":\"scatter\"},{\"hovertemplate\":\"short_name=Cre<br>x1_pca=%{x}<br>x2_pca=%{y}<extra></extra>\",\"legendgroup\":\"Cre\",\"marker\":{\"color\":\"#DEA0FD\",\"symbol\":\"circle\"},\"mode\":\"markers\",\"name\":\"Cre\",\"orientation\":\"v\",\"showlegend\":true,\"x\":[-0.05579045298709854],\"xaxis\":\"x\",\"y\":[-0.07214627941864817],\"yaxis\":\"y\",\"type\":\"scatter\"},{\"hovertemplate\":\"short_name=Metalloendopeptidase<br>x1_pca=%{x}<br>x2_pca=%{y}<extra></extra>\",\"legendgroup\":\"Metalloendopeptidase\",\"marker\":{\"color\":\"#FE00FA\",\"symbol\":\"circle\"},\"mode\":\"markers\",\"name\":\"Metalloendopeptidase\",\"orientation\":\"v\",\"showlegend\":true,\"x\":[-0.12041841152175643],\"xaxis\":\"x\",\"y\":[-0.03537488996219339],\"yaxis\":\"y\",\"type\":\"scatter\"}],                        {\"template\":{\"data\":{\"histogram2dcontour\":[{\"type\":\"histogram2dcontour\",\"colorbar\":{\"outlinewidth\":0,\"ticks\":\"\"},\"colorscale\":[[0.0,\"#0d0887\"],[0.1111111111111111,\"#46039f\"],[0.2222222222222222,\"#7201a8\"],[0.3333333333333333,\"#9c179e\"],[0.4444444444444444,\"#bd3786\"],[0.5555555555555556,\"#d8576b\"],[0.6666666666666666,\"#ed7953\"],[0.7777777777777778,\"#fb9f3a\"],[0.8888888888888888,\"#fdca26\"],[1.0,\"#f0f921\"]]}],\"choropleth\":[{\"type\":\"choropleth\",\"colorbar\":{\"outlinewidth\":0,\"ticks\":\"\"}}],\"histogram2d\":[{\"type\":\"histogram2d\",\"colorbar\":{\"outlinewidth\":0,\"ticks\":\"\"},\"colorscale\":[[0.0,\"#0d0887\"],[0.1111111111111111,\"#46039f\"],[0.2222222222222222,\"#7201a8\"],[0.3333333333333333,\"#9c179e\"],[0.4444444444444444,\"#bd3786\"],[0.5555555555555556,\"#d8576b\"],[0.6666666666666666,\"#ed7953\"],[0.7777777777777778,\"#fb9f3a\"],[0.8888888888888888,\"#fdca26\"],[1.0,\"#f0f921\"]]}],\"heatmap\":[{\"type\":\"heatmap\",\"colorbar\":{\"outlinewidth\":0,\"ticks\":\"\"},\"colorscale\":[[0.0,\"#0d0887\"],[0.1111111111111111,\"#46039f\"],[0.2222222222222222,\"#7201a8\"],[0.3333333333333333,\"#9c179e\"],[0.4444444444444444,\"#bd3786\"],[0.5555555555555556,\"#d8576b\"],[0.6666666666666666,\"#ed7953\"],[0.7777777777777778,\"#fb9f3a\"],[0.8888888888888888,\"#fdca26\"],[1.0,\"#f0f921\"]]}],\"heatmapgl\":[{\"type\":\"heatmapgl\",\"colorbar\":{\"outlinewidth\":0,\"ticks\":\"\"},\"colorscale\":[[0.0,\"#0d0887\"],[0.1111111111111111,\"#46039f\"],[0.2222222222222222,\"#7201a8\"],[0.3333333333333333,\"#9c179e\"],[0.4444444444444444,\"#bd3786\"],[0.5555555555555556,\"#d8576b\"],[0.6666666666666666,\"#ed7953\"],[0.7777777777777778,\"#fb9f3a\"],[0.8888888888888888,\"#fdca26\"],[1.0,\"#f0f921\"]]}],\"contourcarpet\":[{\"type\":\"contourcarpet\",\"colorbar\":{\"outlinewidth\":0,\"ticks\":\"\"}}],\"contour\":[{\"type\":\"contour\",\"colorbar\":{\"outlinewidth\":0,\"ticks\":\"\"},\"colorscale\":[[0.0,\"#0d0887\"],[0.1111111111111111,\"#46039f\"],[0.2222222222222222,\"#7201a8\"],[0.3333333333333333,\"#9c179e\"],[0.4444444444444444,\"#bd3786\"],[0.5555555555555556,\"#d8576b\"],[0.6666666666666666,\"#ed7953\"],[0.7777777777777778,\"#fb9f3a\"],[0.8888888888888888,\"#fdca26\"],[1.0,\"#f0f921\"]]}],\"surface\":[{\"type\":\"surface\",\"colorbar\":{\"outlinewidth\":0,\"ticks\":\"\"},\"colorscale\":[[0.0,\"#0d0887\"],[0.1111111111111111,\"#46039f\"],[0.2222222222222222,\"#7201a8\"],[0.3333333333333333,\"#9c179e\"],[0.4444444444444444,\"#bd3786\"],[0.5555555555555556,\"#d8576b\"],[0.6666666666666666,\"#ed7953\"],[0.7777777777777778,\"#fb9f3a\"],[0.8888888888888888,\"#fdca26\"],[1.0,\"#f0f921\"]]}],\"mesh3d\":[{\"type\":\"mesh3d\",\"colorbar\":{\"outlinewidth\":0,\"ticks\":\"\"}}],\"scatter\":[{\"fillpattern\":{\"fillmode\":\"overlay\",\"size\":10,\"solidity\":0.2},\"type\":\"scatter\"}],\"parcoords\":[{\"type\":\"parcoords\",\"line\":{\"colorbar\":{\"outlinewidth\":0,\"ticks\":\"\"}}}],\"scatterpolargl\":[{\"type\":\"scatterpolargl\",\"marker\":{\"colorbar\":{\"outlinewidth\":0,\"ticks\":\"\"}}}],\"bar\":[{\"error_x\":{\"color\":\"#2a3f5f\"},\"error_y\":{\"color\":\"#2a3f5f\"},\"marker\":{\"line\":{\"color\":\"#E5ECF6\",\"width\":0.5},\"pattern\":{\"fillmode\":\"overlay\",\"size\":10,\"solidity\":0.2}},\"type\":\"bar\"}],\"scattergeo\":[{\"type\":\"scattergeo\",\"marker\":{\"colorbar\":{\"outlinewidth\":0,\"ticks\":\"\"}}}],\"scatterpolar\":[{\"type\":\"scatterpolar\",\"marker\":{\"colorbar\":{\"outlinewidth\":0,\"ticks\":\"\"}}}],\"histogram\":[{\"marker\":{\"pattern\":{\"fillmode\":\"overlay\",\"size\":10,\"solidity\":0.2}},\"type\":\"histogram\"}],\"scattergl\":[{\"type\":\"scattergl\",\"marker\":{\"colorbar\":{\"outlinewidth\":0,\"ticks\":\"\"}}}],\"scatter3d\":[{\"type\":\"scatter3d\",\"line\":{\"colorbar\":{\"outlinewidth\":0,\"ticks\":\"\"}},\"marker\":{\"colorbar\":{\"outlinewidth\":0,\"ticks\":\"\"}}}],\"scattermapbox\":[{\"type\":\"scattermapbox\",\"marker\":{\"colorbar\":{\"outlinewidth\":0,\"ticks\":\"\"}}}],\"scatterternary\":[{\"type\":\"scatterternary\",\"marker\":{\"colorbar\":{\"outlinewidth\":0,\"ticks\":\"\"}}}],\"scattercarpet\":[{\"type\":\"scattercarpet\",\"marker\":{\"colorbar\":{\"outlinewidth\":0,\"ticks\":\"\"}}}],\"carpet\":[{\"aaxis\":{\"endlinecolor\":\"#2a3f5f\",\"gridcolor\":\"white\",\"linecolor\":\"white\",\"minorgridcolor\":\"white\",\"startlinecolor\":\"#2a3f5f\"},\"baxis\":{\"endlinecolor\":\"#2a3f5f\",\"gridcolor\":\"white\",\"linecolor\":\"white\",\"minorgridcolor\":\"white\",\"startlinecolor\":\"#2a3f5f\"},\"type\":\"carpet\"}],\"table\":[{\"cells\":{\"fill\":{\"color\":\"#EBF0F8\"},\"line\":{\"color\":\"white\"}},\"header\":{\"fill\":{\"color\":\"#C8D4E3\"},\"line\":{\"color\":\"white\"}},\"type\":\"table\"}],\"barpolar\":[{\"marker\":{\"line\":{\"color\":\"#E5ECF6\",\"width\":0.5},\"pattern\":{\"fillmode\":\"overlay\",\"size\":10,\"solidity\":0.2}},\"type\":\"barpolar\"}],\"pie\":[{\"automargin\":true,\"type\":\"pie\"}]},\"layout\":{\"autotypenumbers\":\"strict\",\"colorway\":[\"#636efa\",\"#EF553B\",\"#00cc96\",\"#ab63fa\",\"#FFA15A\",\"#19d3f3\",\"#FF6692\",\"#B6E880\",\"#FF97FF\",\"#FECB52\"],\"font\":{\"color\":\"#2a3f5f\"},\"hovermode\":\"closest\",\"hoverlabel\":{\"align\":\"left\"},\"paper_bgcolor\":\"white\",\"plot_bgcolor\":\"#E5ECF6\",\"polar\":{\"bgcolor\":\"#E5ECF6\",\"angularaxis\":{\"gridcolor\":\"white\",\"linecolor\":\"white\",\"ticks\":\"\"},\"radialaxis\":{\"gridcolor\":\"white\",\"linecolor\":\"white\",\"ticks\":\"\"}},\"ternary\":{\"bgcolor\":\"#E5ECF6\",\"aaxis\":{\"gridcolor\":\"white\",\"linecolor\":\"white\",\"ticks\":\"\"},\"baxis\":{\"gridcolor\":\"white\",\"linecolor\":\"white\",\"ticks\":\"\"},\"caxis\":{\"gridcolor\":\"white\",\"linecolor\":\"white\",\"ticks\":\"\"}},\"coloraxis\":{\"colorbar\":{\"outlinewidth\":0,\"ticks\":\"\"}},\"colorscale\":{\"sequential\":[[0.0,\"#0d0887\"],[0.1111111111111111,\"#46039f\"],[0.2222222222222222,\"#7201a8\"],[0.3333333333333333,\"#9c179e\"],[0.4444444444444444,\"#bd3786\"],[0.5555555555555556,\"#d8576b\"],[0.6666666666666666,\"#ed7953\"],[0.7777777777777778,\"#fb9f3a\"],[0.8888888888888888,\"#fdca26\"],[1.0,\"#f0f921\"]],\"sequentialminus\":[[0.0,\"#0d0887\"],[0.1111111111111111,\"#46039f\"],[0.2222222222222222,\"#7201a8\"],[0.3333333333333333,\"#9c179e\"],[0.4444444444444444,\"#bd3786\"],[0.5555555555555556,\"#d8576b\"],[0.6666666666666666,\"#ed7953\"],[0.7777777777777778,\"#fb9f3a\"],[0.8888888888888888,\"#fdca26\"],[1.0,\"#f0f921\"]],\"diverging\":[[0,\"#8e0152\"],[0.1,\"#c51b7d\"],[0.2,\"#de77ae\"],[0.3,\"#f1b6da\"],[0.4,\"#fde0ef\"],[0.5,\"#f7f7f7\"],[0.6,\"#e6f5d0\"],[0.7,\"#b8e186\"],[0.8,\"#7fbc41\"],[0.9,\"#4d9221\"],[1,\"#276419\"]]},\"xaxis\":{\"gridcolor\":\"white\",\"linecolor\":\"white\",\"ticks\":\"\",\"title\":{\"standoff\":15},\"zerolinecolor\":\"white\",\"automargin\":true,\"zerolinewidth\":2},\"yaxis\":{\"gridcolor\":\"white\",\"linecolor\":\"white\",\"ticks\":\"\",\"title\":{\"standoff\":15},\"zerolinecolor\":\"white\",\"automargin\":true,\"zerolinewidth\":2},\"scene\":{\"xaxis\":{\"backgroundcolor\":\"#E5ECF6\",\"gridcolor\":\"white\",\"linecolor\":\"white\",\"showbackground\":true,\"ticks\":\"\",\"zerolinecolor\":\"white\",\"gridwidth\":2},\"yaxis\":{\"backgroundcolor\":\"#E5ECF6\",\"gridcolor\":\"white\",\"linecolor\":\"white\",\"showbackground\":true,\"ticks\":\"\",\"zerolinecolor\":\"white\",\"gridwidth\":2},\"zaxis\":{\"backgroundcolor\":\"#E5ECF6\",\"gridcolor\":\"white\",\"linecolor\":\"white\",\"showbackground\":true,\"ticks\":\"\",\"zerolinecolor\":\"white\",\"gridwidth\":2}},\"shapedefaults\":{\"line\":{\"color\":\"#2a3f5f\"}},\"annotationdefaults\":{\"arrowcolor\":\"#2a3f5f\",\"arrowhead\":0,\"arrowwidth\":1},\"geo\":{\"bgcolor\":\"white\",\"landcolor\":\"#E5ECF6\",\"subunitcolor\":\"white\",\"showland\":true,\"showlakes\":true,\"lakecolor\":\"white\"},\"title\":{\"x\":0.05},\"mapbox\":{\"style\":\"light\"}}},\"xaxis\":{\"anchor\":\"y\",\"domain\":[0.0,1.0],\"title\":{\"text\":\"x1_pca\"}},\"yaxis\":{\"anchor\":\"x\",\"domain\":[0.0,1.0],\"title\":{\"text\":\"x2_pca\"},\"scaleanchor\":\"x\",\"scaleratio\":1},\"legend\":{\"title\":{\"text\":\"short_name\"},\"tracegroupgap\":0},\"margin\":{\"t\":60}},                        {\"responsive\": true}                    ).then(function(){\n",
       "                            \n",
       "var gd = document.getElementById('729df524-c2b1-4a78-b29e-57cf469cd80d');\n",
       "var x = new MutationObserver(function (mutations, observer) {{\n",
       "        var display = window.getComputedStyle(gd).display;\n",
       "        if (!display || display === 'none') {{\n",
       "            console.log([gd, 'removed!']);\n",
       "            Plotly.purge(gd);\n",
       "            observer.disconnect();\n",
       "        }}\n",
       "}});\n",
       "\n",
       "// Listen for the removal of the full notebook cells\n",
       "var notebookContainer = gd.closest('#notebook-container');\n",
       "if (notebookContainer) {{\n",
       "    x.observe(notebookContainer, {childList: true});\n",
       "}}\n",
       "\n",
       "// Listen for the clearing of the current output cell\n",
       "var outputEl = gd.closest('.output');\n",
       "if (outputEl) {{\n",
       "    x.observe(outputEl, {childList: true});\n",
       "}}\n",
       "\n",
       "                        })                };                });            </script>        </div>"
      ]
     },
     "metadata": {},
     "output_type": "display_data"
    }
   ],
   "source": [
    "\n",
    "    \n",
    "plt = px.scatter(df_embedding, x = 'x1_pca', y = 'x2_pca',\n",
    "                     color = df_embedding[true_col],\n",
    "                     color_discrete_sequence = px.colors.qualitative.Alphabet,\n",
    "                     color_discrete_map=globin_palette,\n",
    "                     #color_continuous_scale = \"Turbo\",\n",
    "                     ##labels={'color': labels}, \n",
    "                     #hover_name=labels_name,\n",
    "                     #hover_data=df.columns[2:],\n",
    "                     #height = 800,\n",
    "                     #title = title,\n",
    "                 )\n",
    "#plt.update_xaxes(range = [-60, 50], constrain=\"domain\")\n",
    "#plt.update_yaxes(range = [-0.5, 0.5], constrain=\"domain\")\n",
    "\n",
    "plt.update_yaxes(scaleanchor = \"x\", scaleratio = 1)\n",
    "plt.show()"
   ]
  },
  {
   "cell_type": "code",
   "execution_count": null,
   "id": "bef56d85",
   "metadata": {},
   "outputs": [],
   "source": []
  }
 ],
 "metadata": {
  "kernelspec": {
   "display_name": "poincare",
   "language": "python",
   "name": "python3"
  },
  "language_info": {
   "codemirror_mode": {
    "name": "ipython",
    "version": 3
   },
   "file_extension": ".py",
   "mimetype": "text/x-python",
   "name": "python",
   "nbconvert_exporter": "python",
   "pygments_lexer": "ipython3",
   "version": "3.12.2"
  }
 },
 "nbformat": 4,
 "nbformat_minor": 5
}
