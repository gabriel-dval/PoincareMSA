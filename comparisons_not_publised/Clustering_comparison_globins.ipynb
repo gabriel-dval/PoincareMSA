{
 "cells": [
  {
   "cell_type": "code",
   "execution_count": 1,
   "id": "046b8e30",
   "metadata": {},
   "outputs": [
    {
     "name": "stdout",
     "output_type": "stream",
     "text": [
      "/Users/gabrielduval/Desktop/Paris_Cite/Year2/Projet_Long/PoincareMSA\n"
     ]
    }
   ],
   "source": [
    "%cd ~/Desktop/Paris_Cite/Year2/Projet_Long/PoincareMSA\n",
    "\n",
    "#Load outside module dependencies\n",
    "import os\n",
    "import numpy as np\n",
    "import pandas as pd\n",
    "import subprocess\n",
    "import json\n",
    "import warnings\n",
    "warnings.filterwarnings('ignore')\n",
    "import scipy\n",
    "\n",
    "from sklearn.manifold import MDS\n",
    "from sklearn.manifold import TSNE\n",
    "from sklearn.decomposition import KernelPCA\n",
    "\n",
    "from sklearn.metrics import pairwise_distances\n",
    "from scipy.spatial.distance import cosine\n",
    "import plotly.express as px\n",
    "import umap\n",
    "\n",
    "#Import local functions\n",
    "from scripts.visualize_projection.pplots_new import read_embeddings, plot_embedding, plot_embedding_interactive, rotate, get_colors\n",
    "from scripts.build_poincare_map.data import construct_tensor_from_embedding, prepare_embedding_data, prepare_data\n",
    "%matplotlib inline\n",
    "\n",
    "from scripts.build_poincare_map.poincare_maps import *\n",
    "from scripts.build_poincare_map.embedding_quality_score import *"
   ]
  },
  {
   "cell_type": "code",
   "execution_count": 2,
   "id": "ea7f93e2",
   "metadata": {},
   "outputs": [],
   "source": [
    "#from scripts.build_poincare_map.kmedoids import *\n",
    "from sklearn import metrics\n",
    "from sklearn.cluster import *\n",
    "\n",
    "def get_scores(t_labels, labels):\n",
    "    ARS = metrics.adjusted_rand_score(t_labels, labels)\n",
    "    FMS = metrics.fowlkes_mallows_score(t_labels, labels)\n",
    "    \n",
    "    return ARS, FMS\n",
    "\n",
    "def detect_cluster(D, n_clusters=2, clustering_name='spectral', k=5, class_exclude = \"OTHER\"): #distances='Poincaré',\n",
    "    if clustering_name == 'spectral':\n",
    "        similarity = np.exp(-D**2)\n",
    "        clustering = SpectralClustering(n_clusters=n_clusters, eigen_solver='arpack', \n",
    "                                        affinity='precomputed', n_neighbors=k).fit(similarity)\n",
    "        labels = clustering.labels_\n",
    "    elif clustering_name == 'kmedoids':\n",
    "        clustering = kMedoids(D, n_clusters, tmax=10000)\n",
    "        labels = clustering\n",
    "    else:\n",
    "        #clustering = AgglomerativeClustering(linkage='average', n_clusters=n_clusters, \n",
    "        #                                     affinity='precomputed').fit(D)\n",
    "        clustering = AgglomerativeClustering(linkage='average', n_clusters=n_clusters).fit(D)\n",
    "        labels = clustering.labels_\n",
    "            \n",
    "    return labels"
   ]
  },
  {
   "cell_type": "markdown",
   "id": "588b27d1",
   "metadata": {},
   "source": [
    "Labels and number of clusters:"
   ]
  },
  {
   "cell_type": "code",
   "execution_count": 12,
   "id": "54911aaf",
   "metadata": {},
   "outputs": [
    {
     "name": "stdout",
     "output_type": "stream",
     "text": [
      "          pm1       pm2  proteins_id\n",
      "0    0.165887  0.005420            1\n",
      "1   -0.020971 -0.228163            2\n",
      "2    0.134721 -0.211576            3\n",
      "3    0.308206 -0.367629            4\n",
      "4    0.233765 -0.321833            5\n",
      "..        ...       ...          ...\n",
      "247  0.189355  0.761364          248\n",
      "248  0.229197  0.729397          249\n",
      "249  0.186366  0.717289          250\n",
      "250  0.175210  0.725011          251\n",
      "251  0.798315  0.290697          252\n",
      "\n",
      "[252 rows x 3 columns]\n",
      "                  pm1       pm2 proteins_id tree1 tree2 tree3 tree4  \\\n",
      "proteins_id                                                           \n",
      "1            0.165887  0.005420           1     5     3     3     2   \n",
      "2           -0.020971 -0.228163           2    -1    28    18    10   \n",
      "3            0.134721 -0.211576           3    -1    27    18    10   \n",
      "4            0.308206 -0.367629           4    37    27    18    10   \n",
      "5            0.233765 -0.321833           5    37    27    18    10   \n",
      "...               ...       ...         ...   ...   ...   ...   ...   \n",
      "248          0.189355  0.761364         248    14    10     9     3   \n",
      "249          0.229197  0.729397         249    -1    10     9     3   \n",
      "250          0.186366  0.717289         250    14    10     9     3   \n",
      "251          0.175210  0.725011         251    14    10     9     3   \n",
      "252          0.798315  0.290697         252    -1    25    15     8   \n",
      "\n",
      "                           full_name       short_name  \\\n",
      "proteins_id                                             \n",
      "1                 Globin C, coelomic           Globin   \n",
      "2                  Globin (Fragment)           Globin   \n",
      "3            Uncharacterized protein  Uncharacterized   \n",
      "4            Uncharacterized protein  Uncharacterized   \n",
      "5            Uncharacterized protein  Uncharacterized   \n",
      "...                              ...              ...   \n",
      "248          Uncharacterized protein  Uncharacterized   \n",
      "249          Uncharacterized protein  Uncharacterized   \n",
      "250          Uncharacterized protein  Uncharacterized   \n",
      "251          Uncharacterized protein  Uncharacterized   \n",
      "252          Uncharacterized protein  Uncharacterized   \n",
      "\n",
      "                              full_species       short_species  evo_distance  \\\n",
      "proteins_id                                                                    \n",
      "1                        Caudina arenicola             Caudina      2.101128   \n",
      "2                    Stegodyphus mimosarum         Stegodyphus      1.757280   \n",
      "3                       Strigamia maritima           Strigamia      2.041487   \n",
      "4                          Scylla olivacea              Scylla      2.318169   \n",
      "5                          Scylla olivacea              Scylla      2.170775   \n",
      "...                                    ...                 ...           ...   \n",
      "248          Strongylocentrotus purpuratus  Strongylocentrotus      2.586926   \n",
      "249          Strongylocentrotus purpuratus  Strongylocentrotus      2.519191   \n",
      "250          Strongylocentrotus purpuratus  Strongylocentrotus      2.276065   \n",
      "251          Strongylocentrotus purpuratus  Strongylocentrotus      2.867471   \n",
      "252              Strongyloides stercoralis       Strongyloides      3.192954   \n",
      "\n",
      "             Color_species     Domain  Kingdom         Phylum    Subphylum  \\\n",
      "proteins_id                                                                  \n",
      "1            Echinodermata  Eukaryota  Metazoa  Echinodermata        Other   \n",
      "2               Arthropoda  Eukaryota  Metazoa     Arthropoda  Chelicerata   \n",
      "3               Arthropoda  Eukaryota  Metazoa     Arthropoda        Other   \n",
      "4               Arthropoda  Eukaryota  Metazoa     Arthropoda    Crustacea   \n",
      "5               Arthropoda  Eukaryota  Metazoa     Arthropoda    Crustacea   \n",
      "...                    ...        ...      ...            ...          ...   \n",
      "248          Echinodermata  Eukaryota  Metazoa  Echinodermata        Other   \n",
      "249          Echinodermata  Eukaryota  Metazoa  Echinodermata        Other   \n",
      "250          Echinodermata  Eukaryota  Metazoa  Echinodermata        Other   \n",
      "251          Echinodermata  Eukaryota  Metazoa  Echinodermata        Other   \n",
      "252               Nematoda  Eukaryota  Metazoa       Nematoda        Other   \n",
      "\n",
      "                    Class               Genus  \n",
      "proteins_id                                    \n",
      "1                   Other               Other  \n",
      "2               Arachnida               Other  \n",
      "3                   Other               Other  \n",
      "4            Malacostraca               Other  \n",
      "5            Malacostraca               Other  \n",
      "...                   ...                 ...  \n",
      "248            Echinoidea  Strongylocentrotus  \n",
      "249            Echinoidea  Strongylocentrotus  \n",
      "250            Echinoidea  Strongylocentrotus  \n",
      "251            Echinoidea  Strongylocentrotus  \n",
      "252           Chromadorea               Other  \n",
      "\n",
      "[252 rows x 19 columns]\n"
     ]
    },
    {
     "data": {
      "text/html": [
       "<div>\n",
       "<style scoped>\n",
       "    .dataframe tbody tr th:only-of-type {\n",
       "        vertical-align: middle;\n",
       "    }\n",
       "\n",
       "    .dataframe tbody tr th {\n",
       "        vertical-align: top;\n",
       "    }\n",
       "\n",
       "    .dataframe thead th {\n",
       "        text-align: right;\n",
       "    }\n",
       "</style>\n",
       "<table border=\"1\" class=\"dataframe\">\n",
       "  <thead>\n",
       "    <tr style=\"text-align: right;\">\n",
       "      <th></th>\n",
       "      <th>pm1</th>\n",
       "      <th>pm2</th>\n",
       "      <th>proteins_id</th>\n",
       "      <th>tree1</th>\n",
       "      <th>tree2</th>\n",
       "      <th>tree3</th>\n",
       "      <th>tree4</th>\n",
       "      <th>full_name</th>\n",
       "      <th>short_name</th>\n",
       "      <th>full_species</th>\n",
       "      <th>short_species</th>\n",
       "      <th>evo_distance</th>\n",
       "      <th>Color_species</th>\n",
       "      <th>Domain</th>\n",
       "      <th>Kingdom</th>\n",
       "      <th>Phylum</th>\n",
       "      <th>Subphylum</th>\n",
       "      <th>Class</th>\n",
       "      <th>Genus</th>\n",
       "    </tr>\n",
       "    <tr>\n",
       "      <th>proteins_id</th>\n",
       "      <th></th>\n",
       "      <th></th>\n",
       "      <th></th>\n",
       "      <th></th>\n",
       "      <th></th>\n",
       "      <th></th>\n",
       "      <th></th>\n",
       "      <th></th>\n",
       "      <th></th>\n",
       "      <th></th>\n",
       "      <th></th>\n",
       "      <th></th>\n",
       "      <th></th>\n",
       "      <th></th>\n",
       "      <th></th>\n",
       "      <th></th>\n",
       "      <th></th>\n",
       "      <th></th>\n",
       "      <th></th>\n",
       "    </tr>\n",
       "  </thead>\n",
       "  <tbody>\n",
       "    <tr>\n",
       "      <th>1</th>\n",
       "      <td>0.165887</td>\n",
       "      <td>0.005420</td>\n",
       "      <td>1</td>\n",
       "      <td>5</td>\n",
       "      <td>3</td>\n",
       "      <td>3</td>\n",
       "      <td>2</td>\n",
       "      <td>Globin C, coelomic</td>\n",
       "      <td>Globin</td>\n",
       "      <td>Caudina arenicola</td>\n",
       "      <td>Caudina</td>\n",
       "      <td>2.101128</td>\n",
       "      <td>Echinodermata</td>\n",
       "      <td>Eukaryota</td>\n",
       "      <td>Metazoa</td>\n",
       "      <td>Echinodermata</td>\n",
       "      <td>OTHER</td>\n",
       "      <td>OTHER</td>\n",
       "      <td>OTHER</td>\n",
       "    </tr>\n",
       "    <tr>\n",
       "      <th>2</th>\n",
       "      <td>-0.020971</td>\n",
       "      <td>-0.228163</td>\n",
       "      <td>2</td>\n",
       "      <td>-1</td>\n",
       "      <td>28</td>\n",
       "      <td>18</td>\n",
       "      <td>10</td>\n",
       "      <td>Globin (Fragment)</td>\n",
       "      <td>Globin</td>\n",
       "      <td>Stegodyphus mimosarum</td>\n",
       "      <td>Stegodyphus</td>\n",
       "      <td>1.757280</td>\n",
       "      <td>Arthropoda</td>\n",
       "      <td>Eukaryota</td>\n",
       "      <td>Metazoa</td>\n",
       "      <td>Arthropoda</td>\n",
       "      <td>Chelicerata</td>\n",
       "      <td>Arachnida</td>\n",
       "      <td>OTHER</td>\n",
       "    </tr>\n",
       "    <tr>\n",
       "      <th>3</th>\n",
       "      <td>0.134721</td>\n",
       "      <td>-0.211576</td>\n",
       "      <td>3</td>\n",
       "      <td>-1</td>\n",
       "      <td>27</td>\n",
       "      <td>18</td>\n",
       "      <td>10</td>\n",
       "      <td>Uncharacterized protein</td>\n",
       "      <td>Uncharacterized</td>\n",
       "      <td>Strigamia maritima</td>\n",
       "      <td>Strigamia</td>\n",
       "      <td>2.041487</td>\n",
       "      <td>Arthropoda</td>\n",
       "      <td>Eukaryota</td>\n",
       "      <td>Metazoa</td>\n",
       "      <td>Arthropoda</td>\n",
       "      <td>OTHER</td>\n",
       "      <td>OTHER</td>\n",
       "      <td>OTHER</td>\n",
       "    </tr>\n",
       "    <tr>\n",
       "      <th>4</th>\n",
       "      <td>0.308206</td>\n",
       "      <td>-0.367629</td>\n",
       "      <td>4</td>\n",
       "      <td>37</td>\n",
       "      <td>27</td>\n",
       "      <td>18</td>\n",
       "      <td>10</td>\n",
       "      <td>Uncharacterized protein</td>\n",
       "      <td>Uncharacterized</td>\n",
       "      <td>Scylla olivacea</td>\n",
       "      <td>Scylla</td>\n",
       "      <td>2.318169</td>\n",
       "      <td>Arthropoda</td>\n",
       "      <td>Eukaryota</td>\n",
       "      <td>Metazoa</td>\n",
       "      <td>Arthropoda</td>\n",
       "      <td>Crustacea</td>\n",
       "      <td>Malacostraca</td>\n",
       "      <td>OTHER</td>\n",
       "    </tr>\n",
       "    <tr>\n",
       "      <th>5</th>\n",
       "      <td>0.233765</td>\n",
       "      <td>-0.321833</td>\n",
       "      <td>5</td>\n",
       "      <td>37</td>\n",
       "      <td>27</td>\n",
       "      <td>18</td>\n",
       "      <td>10</td>\n",
       "      <td>Uncharacterized protein</td>\n",
       "      <td>Uncharacterized</td>\n",
       "      <td>Scylla olivacea</td>\n",
       "      <td>Scylla</td>\n",
       "      <td>2.170775</td>\n",
       "      <td>Arthropoda</td>\n",
       "      <td>Eukaryota</td>\n",
       "      <td>Metazoa</td>\n",
       "      <td>Arthropoda</td>\n",
       "      <td>Crustacea</td>\n",
       "      <td>Malacostraca</td>\n",
       "      <td>OTHER</td>\n",
       "    </tr>\n",
       "    <tr>\n",
       "      <th>...</th>\n",
       "      <td>...</td>\n",
       "      <td>...</td>\n",
       "      <td>...</td>\n",
       "      <td>...</td>\n",
       "      <td>...</td>\n",
       "      <td>...</td>\n",
       "      <td>...</td>\n",
       "      <td>...</td>\n",
       "      <td>...</td>\n",
       "      <td>...</td>\n",
       "      <td>...</td>\n",
       "      <td>...</td>\n",
       "      <td>...</td>\n",
       "      <td>...</td>\n",
       "      <td>...</td>\n",
       "      <td>...</td>\n",
       "      <td>...</td>\n",
       "      <td>...</td>\n",
       "      <td>...</td>\n",
       "    </tr>\n",
       "    <tr>\n",
       "      <th>248</th>\n",
       "      <td>0.189355</td>\n",
       "      <td>0.761364</td>\n",
       "      <td>248</td>\n",
       "      <td>14</td>\n",
       "      <td>10</td>\n",
       "      <td>9</td>\n",
       "      <td>3</td>\n",
       "      <td>Uncharacterized protein</td>\n",
       "      <td>Uncharacterized</td>\n",
       "      <td>Strongylocentrotus purpuratus</td>\n",
       "      <td>Strongylocentrotus</td>\n",
       "      <td>2.586926</td>\n",
       "      <td>Echinodermata</td>\n",
       "      <td>Eukaryota</td>\n",
       "      <td>Metazoa</td>\n",
       "      <td>Echinodermata</td>\n",
       "      <td>OTHER</td>\n",
       "      <td>Echinoidea</td>\n",
       "      <td>Strongylocentrotus</td>\n",
       "    </tr>\n",
       "    <tr>\n",
       "      <th>249</th>\n",
       "      <td>0.229197</td>\n",
       "      <td>0.729397</td>\n",
       "      <td>249</td>\n",
       "      <td>-1</td>\n",
       "      <td>10</td>\n",
       "      <td>9</td>\n",
       "      <td>3</td>\n",
       "      <td>Uncharacterized protein</td>\n",
       "      <td>Uncharacterized</td>\n",
       "      <td>Strongylocentrotus purpuratus</td>\n",
       "      <td>Strongylocentrotus</td>\n",
       "      <td>2.519191</td>\n",
       "      <td>Echinodermata</td>\n",
       "      <td>Eukaryota</td>\n",
       "      <td>Metazoa</td>\n",
       "      <td>Echinodermata</td>\n",
       "      <td>OTHER</td>\n",
       "      <td>Echinoidea</td>\n",
       "      <td>Strongylocentrotus</td>\n",
       "    </tr>\n",
       "    <tr>\n",
       "      <th>250</th>\n",
       "      <td>0.186366</td>\n",
       "      <td>0.717289</td>\n",
       "      <td>250</td>\n",
       "      <td>14</td>\n",
       "      <td>10</td>\n",
       "      <td>9</td>\n",
       "      <td>3</td>\n",
       "      <td>Uncharacterized protein</td>\n",
       "      <td>Uncharacterized</td>\n",
       "      <td>Strongylocentrotus purpuratus</td>\n",
       "      <td>Strongylocentrotus</td>\n",
       "      <td>2.276065</td>\n",
       "      <td>Echinodermata</td>\n",
       "      <td>Eukaryota</td>\n",
       "      <td>Metazoa</td>\n",
       "      <td>Echinodermata</td>\n",
       "      <td>OTHER</td>\n",
       "      <td>Echinoidea</td>\n",
       "      <td>Strongylocentrotus</td>\n",
       "    </tr>\n",
       "    <tr>\n",
       "      <th>251</th>\n",
       "      <td>0.175210</td>\n",
       "      <td>0.725011</td>\n",
       "      <td>251</td>\n",
       "      <td>14</td>\n",
       "      <td>10</td>\n",
       "      <td>9</td>\n",
       "      <td>3</td>\n",
       "      <td>Uncharacterized protein</td>\n",
       "      <td>Uncharacterized</td>\n",
       "      <td>Strongylocentrotus purpuratus</td>\n",
       "      <td>Strongylocentrotus</td>\n",
       "      <td>2.867471</td>\n",
       "      <td>Echinodermata</td>\n",
       "      <td>Eukaryota</td>\n",
       "      <td>Metazoa</td>\n",
       "      <td>Echinodermata</td>\n",
       "      <td>OTHER</td>\n",
       "      <td>Echinoidea</td>\n",
       "      <td>Strongylocentrotus</td>\n",
       "    </tr>\n",
       "    <tr>\n",
       "      <th>252</th>\n",
       "      <td>0.798315</td>\n",
       "      <td>0.290697</td>\n",
       "      <td>252</td>\n",
       "      <td>-1</td>\n",
       "      <td>25</td>\n",
       "      <td>15</td>\n",
       "      <td>8</td>\n",
       "      <td>Uncharacterized protein</td>\n",
       "      <td>Uncharacterized</td>\n",
       "      <td>Strongyloides stercoralis</td>\n",
       "      <td>Strongyloides</td>\n",
       "      <td>3.192954</td>\n",
       "      <td>Nematoda</td>\n",
       "      <td>Eukaryota</td>\n",
       "      <td>Metazoa</td>\n",
       "      <td>Nematoda</td>\n",
       "      <td>OTHER</td>\n",
       "      <td>Chromadorea</td>\n",
       "      <td>OTHER</td>\n",
       "    </tr>\n",
       "  </tbody>\n",
       "</table>\n",
       "<p>252 rows × 19 columns</p>\n",
       "</div>"
      ],
      "text/plain": [
       "                  pm1       pm2 proteins_id tree1 tree2 tree3 tree4  \\\n",
       "proteins_id                                                           \n",
       "1            0.165887  0.005420           1     5     3     3     2   \n",
       "2           -0.020971 -0.228163           2    -1    28    18    10   \n",
       "3            0.134721 -0.211576           3    -1    27    18    10   \n",
       "4            0.308206 -0.367629           4    37    27    18    10   \n",
       "5            0.233765 -0.321833           5    37    27    18    10   \n",
       "...               ...       ...         ...   ...   ...   ...   ...   \n",
       "248          0.189355  0.761364         248    14    10     9     3   \n",
       "249          0.229197  0.729397         249    -1    10     9     3   \n",
       "250          0.186366  0.717289         250    14    10     9     3   \n",
       "251          0.175210  0.725011         251    14    10     9     3   \n",
       "252          0.798315  0.290697         252    -1    25    15     8   \n",
       "\n",
       "                           full_name       short_name  \\\n",
       "proteins_id                                             \n",
       "1                 Globin C, coelomic           Globin   \n",
       "2                  Globin (Fragment)           Globin   \n",
       "3            Uncharacterized protein  Uncharacterized   \n",
       "4            Uncharacterized protein  Uncharacterized   \n",
       "5            Uncharacterized protein  Uncharacterized   \n",
       "...                              ...              ...   \n",
       "248          Uncharacterized protein  Uncharacterized   \n",
       "249          Uncharacterized protein  Uncharacterized   \n",
       "250          Uncharacterized protein  Uncharacterized   \n",
       "251          Uncharacterized protein  Uncharacterized   \n",
       "252          Uncharacterized protein  Uncharacterized   \n",
       "\n",
       "                              full_species       short_species  evo_distance  \\\n",
       "proteins_id                                                                    \n",
       "1                        Caudina arenicola             Caudina      2.101128   \n",
       "2                    Stegodyphus mimosarum         Stegodyphus      1.757280   \n",
       "3                       Strigamia maritima           Strigamia      2.041487   \n",
       "4                          Scylla olivacea              Scylla      2.318169   \n",
       "5                          Scylla olivacea              Scylla      2.170775   \n",
       "...                                    ...                 ...           ...   \n",
       "248          Strongylocentrotus purpuratus  Strongylocentrotus      2.586926   \n",
       "249          Strongylocentrotus purpuratus  Strongylocentrotus      2.519191   \n",
       "250          Strongylocentrotus purpuratus  Strongylocentrotus      2.276065   \n",
       "251          Strongylocentrotus purpuratus  Strongylocentrotus      2.867471   \n",
       "252              Strongyloides stercoralis       Strongyloides      3.192954   \n",
       "\n",
       "             Color_species     Domain  Kingdom         Phylum    Subphylum  \\\n",
       "proteins_id                                                                  \n",
       "1            Echinodermata  Eukaryota  Metazoa  Echinodermata        OTHER   \n",
       "2               Arthropoda  Eukaryota  Metazoa     Arthropoda  Chelicerata   \n",
       "3               Arthropoda  Eukaryota  Metazoa     Arthropoda        OTHER   \n",
       "4               Arthropoda  Eukaryota  Metazoa     Arthropoda    Crustacea   \n",
       "5               Arthropoda  Eukaryota  Metazoa     Arthropoda    Crustacea   \n",
       "...                    ...        ...      ...            ...          ...   \n",
       "248          Echinodermata  Eukaryota  Metazoa  Echinodermata        OTHER   \n",
       "249          Echinodermata  Eukaryota  Metazoa  Echinodermata        OTHER   \n",
       "250          Echinodermata  Eukaryota  Metazoa  Echinodermata        OTHER   \n",
       "251          Echinodermata  Eukaryota  Metazoa  Echinodermata        OTHER   \n",
       "252               Nematoda  Eukaryota  Metazoa       Nematoda        OTHER   \n",
       "\n",
       "                    Class               Genus  \n",
       "proteins_id                                    \n",
       "1                   OTHER               OTHER  \n",
       "2               Arachnida               OTHER  \n",
       "3                   OTHER               OTHER  \n",
       "4            Malacostraca               OTHER  \n",
       "5            Malacostraca               OTHER  \n",
       "...                   ...                 ...  \n",
       "248            Echinoidea  Strongylocentrotus  \n",
       "249            Echinoidea  Strongylocentrotus  \n",
       "250            Echinoidea  Strongylocentrotus  \n",
       "251            Echinoidea  Strongylocentrotus  \n",
       "252           Chromadorea               OTHER  \n",
       "\n",
       "[252 rows x 19 columns]"
      ]
     },
     "execution_count": 12,
     "metadata": {},
     "output_type": "execute_result"
    }
   ],
   "source": [
    "knn = 5\n",
    "gamma = 2\n",
    "sigma = 1\n",
    "cospca = 0\n",
    "batchs = 4\n",
    "epochs = 1000\n",
    "seed = 0\n",
    "\n",
    "out_name = \"results/globins/with_mfasta\"\n",
    "path_annotation = \"examples/globins/globin_colors_new.csv\"\n",
    "path_embedding = f\"{out_name}/PM{knn:1.0f}sigma={sigma:2.2f}gamma={gamma:2.2f}cosinepca={cospca:1.0f}_seed{seed:1.0f}.csv\"\n",
    "df_embedding = read_embeddings(path_embedding, path_annotation, withroot=False)\n",
    "print(df_embedding)\n",
    "df_embedding.replace(\"Other\", \"OTHER\")"
   ]
  },
  {
   "cell_type": "code",
   "execution_count": 4,
   "id": "4765a4fd",
   "metadata": {},
   "outputs": [
    {
     "name": "stdout",
     "output_type": "stream",
     "text": [
      "0.16588654\n"
     ]
    }
   ],
   "source": [
    "poincare_coord = pd.read_csv(path_embedding, sep=',').sort_values(by=[\"proteins_id\"])\n",
    "poincare_coord = poincare_coord.values[:,:2]\n",
    "print(poincare_coord[0, 0])\n",
    "model = PoincareMaps(poincare_coord)\n",
    "model.get_distances()"
   ]
  },
  {
   "cell_type": "markdown",
   "id": "edc8b57f",
   "metadata": {},
   "source": [
    "# Comparison of different scores for Poincaré vs other methods"
   ]
  },
  {
   "cell_type": "markdown",
   "id": "94c660aa",
   "metadata": {},
   "source": [
    "Prepare feature file for other methods."
   ]
  },
  {
   "cell_type": "code",
   "execution_count": 13,
   "id": "0691f7ba",
   "metadata": {},
   "outputs": [],
   "source": [
    "# VERY IMPORTANT - Features must be loaded in sorted python order, because the read_embedding\n",
    "# function sorts the results csv based on protein id. \n",
    "\n",
    "# For mfasta poincare\n",
    "fasta_files = 'examples/globins/globins_data'\n",
    "\n",
    "n_proteins = df_embedding.shape[0]\n",
    "x = np.array(np.loadtxt(fasta_files + \"/fasta0.9/1.aamtx\").reshape(-1))\n",
    "len_prot = len(x)\n",
    "\n",
    "features = np.zeros([n_proteins, len_prot])\n",
    "\n",
    "for i in range(n_proteins):\n",
    "    #print(out_name + \"/fasta0.9/\" + str(i) + \".aamtx\")\n",
    "    x = np.array(np.loadtxt(fasta_files + \"/fasta0.9/\" + str(i+1) + \".aamtx\").reshape(-1))\n",
    "    features[i,:] = x\n",
    "\n",
    "# For embedding poincare\n",
    "# out_name = 'examples/globins/globins_data'\n",
    "\n",
    "# n_proteins = df_embedding.shape[0]\n",
    "# x = np.array(np.loadtxt(out_name + \"/fasta0.9/1.aamtx\").reshape(-1))\n",
    "# len_prot = len(x)\n",
    "\n",
    "# features = np.zeros([n_proteins, len_prot])\n",
    "\n",
    "# for i in range(n_proteins):\n",
    "#     #print(out_name + \"/fasta0.9/\" + str(i) + \".aamtx\")\n",
    "#     x = np.array(np.loadtxt(out_name + \"/fasta0.9/\" + str(i+1) + \".aamtx\").reshape(-1))\n",
    "#     features[i,:] = x"
   ]
  },
  {
   "cell_type": "markdown",
   "id": "ce5df078",
   "metadata": {},
   "source": [
    "Calculate original distances:"
   ]
  },
  {
   "cell_type": "code",
   "execution_count": 14,
   "id": "9929ed23",
   "metadata": {},
   "outputs": [
    {
     "name": "stdout",
     "output_type": "stream",
     "text": [
      "proteins_id\n",
      "1      0.165887\n",
      "2     -0.020971\n",
      "3      0.134721\n",
      "4      0.308206\n",
      "5      0.233765\n",
      "         ...   \n",
      "248    0.189355\n",
      "249    0.229197\n",
      "250    0.186366\n",
      "251    0.175210\n",
      "252    0.798315\n",
      "Name: pm1, Length: 252, dtype: float64\n"
     ]
    }
   ],
   "source": [
    "D_raw = pairwise_distances(features, metric=\"cosine\")\n",
    "print(df_embedding['pm1'])"
   ]
  },
  {
   "cell_type": "markdown",
   "id": "a70f52ef",
   "metadata": {},
   "source": [
    "# SET PARAMETERS"
   ]
  },
  {
   "cell_type": "code",
   "execution_count": 15,
   "id": "55908d4b",
   "metadata": {},
   "outputs": [],
   "source": [
    "df_results_clust = pd.DataFrame()\n",
    "df_results_proj = pd.DataFrame()"
   ]
  },
  {
   "cell_type": "code",
   "execution_count": 16,
   "id": "f84725c2",
   "metadata": {},
   "outputs": [
    {
     "name": "stdout",
     "output_type": "stream",
     "text": [
      "Number of expected classes:  26\n"
     ]
    }
   ],
   "source": [
    "k_neigh = knn\n",
    "\n",
    "# by names/family\n",
    "true_col = \"short_name\"# \"short_species\"# \n",
    "other = \"Uncharacterized\" \n",
    "\n",
    "# by phylogenetic cluster\n",
    "#true_col = \"tree4\"\n",
    "#other = -1 \n",
    "\n",
    "# by new annotation\n",
    "#true_col = \"Phylum\"\n",
    "#other = \"OTHER\" \n",
    "\n",
    "\n",
    "remove_others = True\n",
    "remove_outliers = True\n",
    "\n",
    "#print(df_embedding[df_embedding[true_col]!=other].shape)\n",
    "\n",
    "expected_nc = df_embedding[true_col].unique().size\n",
    "\n",
    "#print(df_embedding[true_col].value_counts())\n",
    "#print(df_embedding[df_embedding[true_col].duplicated(keep=False)])\n",
    "\n",
    "# Remove classes of size 1\n",
    "no_outliers = df_embedding[true_col].duplicated(keep=False)\n",
    "#print(df_embedding[no_outliers].shape)\n",
    "nc =  expected_nc\n",
    "\n",
    "print(\"Number of expected classes: \", expected_nc)"
   ]
  },
  {
   "cell_type": "code",
   "execution_count": 17,
   "id": "7c63cb30",
   "metadata": {},
   "outputs": [],
   "source": [
    "# Construction of custom color palette \n",
    "globin_palette = {'Echinodermata': '#086b75', 'Arthropoda': '#0b237c', 'Mollusca': '#512ff8', 'Annelida': '#a191f3', 'Chordata': '#26c9d9', 'Cnidaria': '#ad288b', 'Porifera': '#fdb7fd', 'Placozoa': '#e9bd6b', 'Bacteria': '#f10000', 'Nematoda': '#5d78e3', 'Hemichordata': '#b0ffe8', 'Fungi': '#a0e361', 'Viridiplantae': '#4d9b03'}"
   ]
  },
  {
   "cell_type": "markdown",
   "id": "b4691933",
   "metadata": {},
   "source": [
    "# ALL TOGETHER"
   ]
  },
  {
   "cell_type": "markdown",
   "id": "62849987",
   "metadata": {},
   "source": [
    "## Evaluate clustering"
   ]
  },
  {
   "cell_type": "code",
   "execution_count": 18,
   "id": "681f7376",
   "metadata": {},
   "outputs": [
    {
     "name": "stdout",
     "output_type": "stream",
     "text": [
      "          pm1       pm2  proteins_id\n",
      "0    0.165887  0.005420            1\n",
      "1   -0.020971 -0.228163            2\n",
      "2    0.134721 -0.211576            3\n",
      "3    0.308206 -0.367629            4\n",
      "4    0.233765 -0.321833            5\n",
      "..        ...       ...          ...\n",
      "247  0.189355  0.761364          248\n",
      "248  0.229197  0.729397          249\n",
      "249  0.186366  0.717289          250\n",
      "250  0.175210  0.725011          251\n",
      "251  0.798315  0.290697          252\n",
      "\n",
      "[252 rows x 3 columns]\n",
      "Connecting 2\n",
      "Connecting 2\n",
      "Connecting 2\n",
      "Connecting 2\n",
      "Connecting 2\n",
      "          pm1       pm2  proteins_id\n",
      "0   -0.198498 -0.202702            1\n",
      "1   -0.303557 -0.007796            2\n",
      "2   -0.421813 -0.107958            3\n",
      "3   -0.637956 -0.090386            4\n",
      "4   -0.558838 -0.123564            5\n",
      "..        ...       ...          ...\n",
      "247  0.816202 -0.016961          248\n",
      "248  0.853925 -0.047275          249\n",
      "249  0.810471 -0.053826          250\n",
      "250  0.838430 -0.101526          251\n",
      "251  0.407965  0.727344          252\n",
      "\n",
      "[252 rows x 3 columns]\n",
      "Connecting 2\n",
      "Connecting 2\n",
      "Connecting 2\n",
      "Connecting 2\n",
      "Connecting 2\n",
      "          pm1       pm2  proteins_id\n",
      "0    0.034833 -0.271933            1\n",
      "1   -0.284894 -0.213750            2\n",
      "2   -0.384936 -0.419007            3\n",
      "3   -0.451641 -0.575870            4\n",
      "4   -0.442605 -0.498519            5\n",
      "..        ...       ...          ...\n",
      "247  0.565338  0.093796          248\n",
      "248  0.548950  0.056099          249\n",
      "249  0.516189  0.079195          250\n",
      "250  0.513157  0.098289          251\n",
      "251  0.626138 -0.615828          252\n",
      "\n",
      "[252 rows x 3 columns]\n",
      "Connecting 2\n",
      "Connecting 2\n",
      "Connecting 2\n",
      "Connecting 2\n",
      "Connecting 2\n",
      "          pm1       pm2  proteins_id\n",
      "0    0.273027  0.037641            1\n",
      "1    0.085091 -0.215046            2\n",
      "2    0.260862 -0.185030            3\n",
      "3    0.463097 -0.326367            4\n",
      "4    0.376413 -0.297370            5\n",
      "..        ...       ...          ...\n",
      "247 -0.096593  0.736500          248\n",
      "248 -0.035715  0.737580          249\n",
      "249 -0.069265  0.691860          250\n",
      "250 -0.071180  0.709146          251\n",
      "251  0.395975  0.812294          252\n",
      "\n",
      "[252 rows x 3 columns]\n",
      "Connecting 2\n",
      "Connecting 2\n",
      "Connecting 2\n",
      "Connecting 2\n",
      "Connecting 2\n",
      "          pm1       pm2  proteins_id\n",
      "0   -0.245916  0.289038            1\n",
      "1   -0.029145  0.286246            2\n",
      "2   -0.163523  0.421000            3\n",
      "3   -0.125249  0.632812            4\n",
      "4   -0.157460  0.554477            5\n",
      "..        ...       ...          ...\n",
      "247 -0.046035 -0.809826          248\n",
      "248 -0.077151 -0.847736          249\n",
      "249 -0.082826 -0.802489          250\n",
      "250 -0.133493 -0.830384          251\n",
      "251  0.702021 -0.473028          252\n",
      "\n",
      "[252 rows x 3 columns]\n",
      "Connecting 2\n",
      "Connecting 2\n",
      "Connecting 2\n",
      "Connecting 2\n",
      "Connecting 2\n"
     ]
    }
   ],
   "source": [
    "cname = 'agglomerative'\n",
    "setting = \"manifold\" # \"global\" # \n",
    "\n",
    "for seed in range(5):\n",
    "    # read poincare and annotations\n",
    "    path_embedding = f\"{out_name}/PM{knn:1.0f}sigma={sigma:2.2f}gamma={gamma:2.2f}cosinepca={cospca:1.0f}_seed{seed:1.0f}.csv\"\n",
    "    df_embedding = read_embeddings(path_embedding, path_annotation, withroot=False)\n",
    "    df_embedding.replace(\"Other\", \"OTHER\")\n",
    "    # calculate poincare distances\n",
    "    poincare_coord = df_embedding[[\"pm1\",\"pm2\"]]\n",
    "    poincare_coord = poincare_coord.values\n",
    "    #print(poincare_coord)\n",
    "    model = PoincareMaps(poincare_coord)\n",
    "    model.get_distances()\n",
    "    # poincare scores\n",
    "    clusters = detect_cluster(model.distances, n_clusters=nc, clustering_name=cname)\n",
    "    df_embedding[\"clust_poincare\"] = clusters\n",
    "    df_embedding[\"clust_poincare\"] = df_embedding[\"clust_poincare\"].astype(\"string\")\n",
    "    # MDS scores\n",
    "    X_cosine = pairwise_distances(features,metric='cosine')\n",
    "    X_mds = MDS(metric=True,dissimilarity='precomputed', random_state = seed).fit_transform(X_cosine)\n",
    "    df_embedding[\"x1_mds\"] = X_mds[:,0]\n",
    "    df_embedding[\"x2_mds\"] = X_mds[:,1]\n",
    "    D = pairwise_distances(X_mds)\n",
    "    clusters = detect_cluster(D, n_clusters=nc, clustering_name=cname)\n",
    "    df_embedding[\"clust_mds\"] = clusters\n",
    "    df_embedding[\"clust_mds\"] = df_embedding[\"clust_mds\"].astype(\"string\")\n",
    "    # tSNE scores\n",
    "    X_tsne = TSNE(random_state = seed, metric = \"cosine\", perplexity=k_neigh).fit_transform(features)\n",
    "    df_embedding[\"x1_tsne\"] = X_tsne[:,0]\n",
    "    df_embedding[\"x2_tsne\"] = X_tsne[:,1]\n",
    "    D = pairwise_distances(X_tsne)\n",
    "    clusters = detect_cluster(D, n_clusters=nc, clustering_name=cname)\n",
    "    df_embedding[\"clust_tsne\"] = clusters\n",
    "    df_embedding[\"clust_tsne\"] = df_embedding[\"clust_tsne\"].astype(\"string\")\n",
    "    # UMAP scores\n",
    "    X_umap = umap.UMAP(random_state = seed, metric = \"cosine\", n_neighbors = k_neigh).fit_transform(features)\n",
    "    df_embedding[\"x1_umap\"] = X_umap[:,0]\n",
    "    df_embedding[\"x2_umap\"] = X_umap[:,1]\n",
    "    D = pairwise_distances(X_umap)\n",
    "    clusters = detect_cluster(D, n_clusters=nc, clustering_name=cname)\n",
    "    df_embedding[\"clust_umap\"] = clusters\n",
    "    df_embedding[\"clust_umap\"] = df_embedding[\"clust_umap\"].astype(\"string\")\n",
    "    # PCA scores\n",
    "    X_pca = KernelPCA(kernel='cosine', random_state = seed).fit_transform(features)\n",
    "    df_embedding[\"x1_pca\"] = X_pca[:,0]\n",
    "    df_embedding[\"x2_pca\"] = X_pca[:,1]\n",
    "    D = pairwise_distances(X_pca)\n",
    "    clusters = detect_cluster(D, n_clusters=nc, clustering_name=cname)#, k=15)\n",
    "    df_embedding[\"clust_pca\"] = clusters\n",
    "    df_embedding[\"clust_pca\"] = df_embedding[\"clust_pca\"].astype(\"string\")\n",
    "    \n",
    "    # clustering\n",
    "    if remove_outliers:\n",
    "        df_noothers = df_embedding[no_outliers]\n",
    "    if remove_others:\n",
    "        df_noothers = df_noothers[df_embedding[true_col]!=other]\n",
    "    \n",
    "    for clust_meth in [\"poincare\", \"mds\", \"tsne\", \"umap\", \"pca\"]:\n",
    "\n",
    "        ARI, FMS = get_scores(df_noothers[true_col], df_noothers[\"clust_\" + clust_meth])\n",
    "\n",
    "        if clust_meth == \"poincare\":\n",
    "            D = model.distances\n",
    "            Qlocal, Qglobal, Kmax, df_Q = get_quality_metrics(coord_high = features, coord_low = model.coordinates, distance=\"poincare\", setting=setting, k_neighbours=5)\n",
    "        else:\n",
    "            D = pairwise_distances(df_embedding.loc[:, \"x1_\"+clust_meth:\"x2_\"+clust_meth])\n",
    "            Qlocal, Qglobal, Kmax, df_Q = get_quality_metrics(coord_high = features, coord_low = df_embedding.loc[:, \"x1_\"+clust_meth:\"x2_\"+clust_meth], distance=\"euclidean\", setting=setting, k_neighbours=5)\n",
    "\n",
    "        corr = scipy.stats.spearmanr(D_raw.ravel(), D.ravel(), axis = 0)\n",
    "    \n",
    "        df = pd.DataFrame({\"method\": [clust_meth], \"seed\": [seed], \"nc\": [nc], \"true_col\": [true_col], \"ARI\": [ARI], \"FMS\": [FMS]})\n",
    "        df_results_clust = pd.concat([df_results_clust, df])\n",
    "        \n",
    "        # print(df_Q.Qnx.to_numpy())\n",
    "        \n",
    "        df = pd.DataFrame({\"method\": [clust_meth], \"seed\": [seed], \"Qlocal\": [Qlocal], \"Qglobal\": [Qglobal], \"Kmax\": [Kmax], \"Qnx\": [df_Q.Qnx.to_numpy()]})\n",
    "        df_results_proj = pd.concat([df_results_proj, df])\n",
    "\n",
    "\n",
    "#print(df_results)"
   ]
  },
  {
   "cell_type": "code",
   "execution_count": 19,
   "id": "c180e355",
   "metadata": {},
   "outputs": [
    {
     "name": "stdout",
     "output_type": "stream",
     "text": [
      "     method  seed    Qlocal   Qglobal  Kmax  \\\n",
      "0  poincare     0  0.580677  0.837846     5   \n",
      "0       mds     0  0.348434  0.659643     6   \n",
      "0      tsne     0  0.809524  0.747712     0   \n",
      "0      umap     0  0.583675  0.755817     5   \n",
      "0       pca     0  0.322498  0.688014    13   \n",
      "0  poincare     1  0.610527  0.840275     6   \n",
      "0       mds     1  0.378293  0.682376     9   \n",
      "0      tsne     1  0.809524  0.747184     0   \n",
      "0      umap     1  0.600997  0.748568     6   \n",
      "0       pca     1  0.322498  0.688014    13   \n",
      "\n",
      "                                                 Qnx  \n",
      "0  [0.3611111111111111, 0.4642857142857143, 0.579...  \n",
      "0  [0.21031746031746032, 0.30753968253968256, 0.3...  \n",
      "0  [0.8095238095238095, 0.7698412698412699, 0.743...  \n",
      "0  [0.3253968253968254, 0.5099206349206349, 0.621...  \n",
      "0  [0.09523809523809523, 0.2003968253968254, 0.24...  \n",
      "0  [0.36904761904761907, 0.49603174603174605, 0.5...  \n",
      "0  [0.2857142857142857, 0.32936507936507936, 0.35...  \n",
      "0  [0.8095238095238095, 0.7757936507936508, 0.748...  \n",
      "0  [0.373015873015873, 0.5079365079365079, 0.6309...  \n",
      "0  [0.09523809523809523, 0.2003968253968254, 0.24...  \n"
     ]
    }
   ],
   "source": [
    "print(df_results_proj.head(10))"
   ]
  },
  {
   "cell_type": "code",
   "execution_count": 18,
   "id": "1f5c6cb4",
   "metadata": {},
   "outputs": [
    {
     "data": {
      "application/vnd.plotly.v1+json": {
       "config": {
        "plotlyServerURL": "https://plot.ly"
       },
       "data": [
        {
         "alignmentgroup": "True",
         "boxpoints": "all",
         "fillcolor": "rgba(255,255,255,0)",
         "hoveron": "points",
         "hovertemplate": "true_col=short_name<br>method=%{x}<br>FMS=%{y}<extra></extra>",
         "legendgroup": "short_name",
         "line": {
          "color": "rgba(255,255,255,0)"
         },
         "marker": {
          "color": "#636efa"
         },
         "name": "short_name",
         "offsetgroup": "short_name",
         "orientation": "v",
         "pointpos": 0,
         "showlegend": true,
         "type": "box",
         "x": [
          "poincare",
          "mds",
          "tsne",
          "umap",
          "pca",
          "poincare",
          "mds",
          "tsne",
          "umap",
          "pca",
          "poincare",
          "mds",
          "tsne",
          "umap",
          "pca",
          "poincare",
          "mds",
          "tsne",
          "umap",
          "pca",
          "poincare",
          "mds",
          "tsne",
          "umap",
          "pca"
         ],
         "x0": " ",
         "xaxis": "x",
         "y": [
          0.3174157605488225,
          0.31951747983620127,
          0.2970475643218296,
          0.2890635423884301,
          0.3576408488192953,
          0.3186933823278845,
          0.322981961229112,
          0.2876853587343322,
          0.2858069035377958,
          0.3576408488192953,
          0.30476302464842175,
          0.32586549519116415,
          0.3035160541804189,
          0.27140895343890137,
          0.3576408488192953,
          0.2641421570545295,
          0.3252806080889756,
          0.29426523393157406,
          0.3025469060127214,
          0.3576408488192953,
          0.30098561819344066,
          0.33192251921550275,
          0.28215624931332184,
          0.29042640923548596,
          0.3576408488192953
         ],
         "y0": " ",
         "yaxis": "y"
        }
       ],
       "layout": {
        "boxmode": "group",
        "legend": {
         "title": {
          "text": "true_col"
         },
         "tracegroupgap": 0
        },
        "margin": {
         "t": 60
        },
        "template": {
         "data": {
          "bar": [
           {
            "error_x": {
             "color": "#2a3f5f"
            },
            "error_y": {
             "color": "#2a3f5f"
            },
            "marker": {
             "line": {
              "color": "#E5ECF6",
              "width": 0.5
             },
             "pattern": {
              "fillmode": "overlay",
              "size": 10,
              "solidity": 0.2
             }
            },
            "type": "bar"
           }
          ],
          "barpolar": [
           {
            "marker": {
             "line": {
              "color": "#E5ECF6",
              "width": 0.5
             },
             "pattern": {
              "fillmode": "overlay",
              "size": 10,
              "solidity": 0.2
             }
            },
            "type": "barpolar"
           }
          ],
          "carpet": [
           {
            "aaxis": {
             "endlinecolor": "#2a3f5f",
             "gridcolor": "white",
             "linecolor": "white",
             "minorgridcolor": "white",
             "startlinecolor": "#2a3f5f"
            },
            "baxis": {
             "endlinecolor": "#2a3f5f",
             "gridcolor": "white",
             "linecolor": "white",
             "minorgridcolor": "white",
             "startlinecolor": "#2a3f5f"
            },
            "type": "carpet"
           }
          ],
          "choropleth": [
           {
            "colorbar": {
             "outlinewidth": 0,
             "ticks": ""
            },
            "type": "choropleth"
           }
          ],
          "contour": [
           {
            "colorbar": {
             "outlinewidth": 0,
             "ticks": ""
            },
            "colorscale": [
             [
              0,
              "#0d0887"
             ],
             [
              0.1111111111111111,
              "#46039f"
             ],
             [
              0.2222222222222222,
              "#7201a8"
             ],
             [
              0.3333333333333333,
              "#9c179e"
             ],
             [
              0.4444444444444444,
              "#bd3786"
             ],
             [
              0.5555555555555556,
              "#d8576b"
             ],
             [
              0.6666666666666666,
              "#ed7953"
             ],
             [
              0.7777777777777778,
              "#fb9f3a"
             ],
             [
              0.8888888888888888,
              "#fdca26"
             ],
             [
              1,
              "#f0f921"
             ]
            ],
            "type": "contour"
           }
          ],
          "contourcarpet": [
           {
            "colorbar": {
             "outlinewidth": 0,
             "ticks": ""
            },
            "type": "contourcarpet"
           }
          ],
          "heatmap": [
           {
            "colorbar": {
             "outlinewidth": 0,
             "ticks": ""
            },
            "colorscale": [
             [
              0,
              "#0d0887"
             ],
             [
              0.1111111111111111,
              "#46039f"
             ],
             [
              0.2222222222222222,
              "#7201a8"
             ],
             [
              0.3333333333333333,
              "#9c179e"
             ],
             [
              0.4444444444444444,
              "#bd3786"
             ],
             [
              0.5555555555555556,
              "#d8576b"
             ],
             [
              0.6666666666666666,
              "#ed7953"
             ],
             [
              0.7777777777777778,
              "#fb9f3a"
             ],
             [
              0.8888888888888888,
              "#fdca26"
             ],
             [
              1,
              "#f0f921"
             ]
            ],
            "type": "heatmap"
           }
          ],
          "heatmapgl": [
           {
            "colorbar": {
             "outlinewidth": 0,
             "ticks": ""
            },
            "colorscale": [
             [
              0,
              "#0d0887"
             ],
             [
              0.1111111111111111,
              "#46039f"
             ],
             [
              0.2222222222222222,
              "#7201a8"
             ],
             [
              0.3333333333333333,
              "#9c179e"
             ],
             [
              0.4444444444444444,
              "#bd3786"
             ],
             [
              0.5555555555555556,
              "#d8576b"
             ],
             [
              0.6666666666666666,
              "#ed7953"
             ],
             [
              0.7777777777777778,
              "#fb9f3a"
             ],
             [
              0.8888888888888888,
              "#fdca26"
             ],
             [
              1,
              "#f0f921"
             ]
            ],
            "type": "heatmapgl"
           }
          ],
          "histogram": [
           {
            "marker": {
             "pattern": {
              "fillmode": "overlay",
              "size": 10,
              "solidity": 0.2
             }
            },
            "type": "histogram"
           }
          ],
          "histogram2d": [
           {
            "colorbar": {
             "outlinewidth": 0,
             "ticks": ""
            },
            "colorscale": [
             [
              0,
              "#0d0887"
             ],
             [
              0.1111111111111111,
              "#46039f"
             ],
             [
              0.2222222222222222,
              "#7201a8"
             ],
             [
              0.3333333333333333,
              "#9c179e"
             ],
             [
              0.4444444444444444,
              "#bd3786"
             ],
             [
              0.5555555555555556,
              "#d8576b"
             ],
             [
              0.6666666666666666,
              "#ed7953"
             ],
             [
              0.7777777777777778,
              "#fb9f3a"
             ],
             [
              0.8888888888888888,
              "#fdca26"
             ],
             [
              1,
              "#f0f921"
             ]
            ],
            "type": "histogram2d"
           }
          ],
          "histogram2dcontour": [
           {
            "colorbar": {
             "outlinewidth": 0,
             "ticks": ""
            },
            "colorscale": [
             [
              0,
              "#0d0887"
             ],
             [
              0.1111111111111111,
              "#46039f"
             ],
             [
              0.2222222222222222,
              "#7201a8"
             ],
             [
              0.3333333333333333,
              "#9c179e"
             ],
             [
              0.4444444444444444,
              "#bd3786"
             ],
             [
              0.5555555555555556,
              "#d8576b"
             ],
             [
              0.6666666666666666,
              "#ed7953"
             ],
             [
              0.7777777777777778,
              "#fb9f3a"
             ],
             [
              0.8888888888888888,
              "#fdca26"
             ],
             [
              1,
              "#f0f921"
             ]
            ],
            "type": "histogram2dcontour"
           }
          ],
          "mesh3d": [
           {
            "colorbar": {
             "outlinewidth": 0,
             "ticks": ""
            },
            "type": "mesh3d"
           }
          ],
          "parcoords": [
           {
            "line": {
             "colorbar": {
              "outlinewidth": 0,
              "ticks": ""
             }
            },
            "type": "parcoords"
           }
          ],
          "pie": [
           {
            "automargin": true,
            "type": "pie"
           }
          ],
          "scatter": [
           {
            "fillpattern": {
             "fillmode": "overlay",
             "size": 10,
             "solidity": 0.2
            },
            "type": "scatter"
           }
          ],
          "scatter3d": [
           {
            "line": {
             "colorbar": {
              "outlinewidth": 0,
              "ticks": ""
             }
            },
            "marker": {
             "colorbar": {
              "outlinewidth": 0,
              "ticks": ""
             }
            },
            "type": "scatter3d"
           }
          ],
          "scattercarpet": [
           {
            "marker": {
             "colorbar": {
              "outlinewidth": 0,
              "ticks": ""
             }
            },
            "type": "scattercarpet"
           }
          ],
          "scattergeo": [
           {
            "marker": {
             "colorbar": {
              "outlinewidth": 0,
              "ticks": ""
             }
            },
            "type": "scattergeo"
           }
          ],
          "scattergl": [
           {
            "marker": {
             "colorbar": {
              "outlinewidth": 0,
              "ticks": ""
             }
            },
            "type": "scattergl"
           }
          ],
          "scattermapbox": [
           {
            "marker": {
             "colorbar": {
              "outlinewidth": 0,
              "ticks": ""
             }
            },
            "type": "scattermapbox"
           }
          ],
          "scatterpolar": [
           {
            "marker": {
             "colorbar": {
              "outlinewidth": 0,
              "ticks": ""
             }
            },
            "type": "scatterpolar"
           }
          ],
          "scatterpolargl": [
           {
            "marker": {
             "colorbar": {
              "outlinewidth": 0,
              "ticks": ""
             }
            },
            "type": "scatterpolargl"
           }
          ],
          "scatterternary": [
           {
            "marker": {
             "colorbar": {
              "outlinewidth": 0,
              "ticks": ""
             }
            },
            "type": "scatterternary"
           }
          ],
          "surface": [
           {
            "colorbar": {
             "outlinewidth": 0,
             "ticks": ""
            },
            "colorscale": [
             [
              0,
              "#0d0887"
             ],
             [
              0.1111111111111111,
              "#46039f"
             ],
             [
              0.2222222222222222,
              "#7201a8"
             ],
             [
              0.3333333333333333,
              "#9c179e"
             ],
             [
              0.4444444444444444,
              "#bd3786"
             ],
             [
              0.5555555555555556,
              "#d8576b"
             ],
             [
              0.6666666666666666,
              "#ed7953"
             ],
             [
              0.7777777777777778,
              "#fb9f3a"
             ],
             [
              0.8888888888888888,
              "#fdca26"
             ],
             [
              1,
              "#f0f921"
             ]
            ],
            "type": "surface"
           }
          ],
          "table": [
           {
            "cells": {
             "fill": {
              "color": "#EBF0F8"
             },
             "line": {
              "color": "white"
             }
            },
            "header": {
             "fill": {
              "color": "#C8D4E3"
             },
             "line": {
              "color": "white"
             }
            },
            "type": "table"
           }
          ]
         },
         "layout": {
          "annotationdefaults": {
           "arrowcolor": "#2a3f5f",
           "arrowhead": 0,
           "arrowwidth": 1
          },
          "autotypenumbers": "strict",
          "coloraxis": {
           "colorbar": {
            "outlinewidth": 0,
            "ticks": ""
           }
          },
          "colorscale": {
           "diverging": [
            [
             0,
             "#8e0152"
            ],
            [
             0.1,
             "#c51b7d"
            ],
            [
             0.2,
             "#de77ae"
            ],
            [
             0.3,
             "#f1b6da"
            ],
            [
             0.4,
             "#fde0ef"
            ],
            [
             0.5,
             "#f7f7f7"
            ],
            [
             0.6,
             "#e6f5d0"
            ],
            [
             0.7,
             "#b8e186"
            ],
            [
             0.8,
             "#7fbc41"
            ],
            [
             0.9,
             "#4d9221"
            ],
            [
             1,
             "#276419"
            ]
           ],
           "sequential": [
            [
             0,
             "#0d0887"
            ],
            [
             0.1111111111111111,
             "#46039f"
            ],
            [
             0.2222222222222222,
             "#7201a8"
            ],
            [
             0.3333333333333333,
             "#9c179e"
            ],
            [
             0.4444444444444444,
             "#bd3786"
            ],
            [
             0.5555555555555556,
             "#d8576b"
            ],
            [
             0.6666666666666666,
             "#ed7953"
            ],
            [
             0.7777777777777778,
             "#fb9f3a"
            ],
            [
             0.8888888888888888,
             "#fdca26"
            ],
            [
             1,
             "#f0f921"
            ]
           ],
           "sequentialminus": [
            [
             0,
             "#0d0887"
            ],
            [
             0.1111111111111111,
             "#46039f"
            ],
            [
             0.2222222222222222,
             "#7201a8"
            ],
            [
             0.3333333333333333,
             "#9c179e"
            ],
            [
             0.4444444444444444,
             "#bd3786"
            ],
            [
             0.5555555555555556,
             "#d8576b"
            ],
            [
             0.6666666666666666,
             "#ed7953"
            ],
            [
             0.7777777777777778,
             "#fb9f3a"
            ],
            [
             0.8888888888888888,
             "#fdca26"
            ],
            [
             1,
             "#f0f921"
            ]
           ]
          },
          "colorway": [
           "#636efa",
           "#EF553B",
           "#00cc96",
           "#ab63fa",
           "#FFA15A",
           "#19d3f3",
           "#FF6692",
           "#B6E880",
           "#FF97FF",
           "#FECB52"
          ],
          "font": {
           "color": "#2a3f5f"
          },
          "geo": {
           "bgcolor": "white",
           "lakecolor": "white",
           "landcolor": "#E5ECF6",
           "showlakes": true,
           "showland": true,
           "subunitcolor": "white"
          },
          "hoverlabel": {
           "align": "left"
          },
          "hovermode": "closest",
          "mapbox": {
           "style": "light"
          },
          "paper_bgcolor": "white",
          "plot_bgcolor": "#E5ECF6",
          "polar": {
           "angularaxis": {
            "gridcolor": "white",
            "linecolor": "white",
            "ticks": ""
           },
           "bgcolor": "#E5ECF6",
           "radialaxis": {
            "gridcolor": "white",
            "linecolor": "white",
            "ticks": ""
           }
          },
          "scene": {
           "xaxis": {
            "backgroundcolor": "#E5ECF6",
            "gridcolor": "white",
            "gridwidth": 2,
            "linecolor": "white",
            "showbackground": true,
            "ticks": "",
            "zerolinecolor": "white"
           },
           "yaxis": {
            "backgroundcolor": "#E5ECF6",
            "gridcolor": "white",
            "gridwidth": 2,
            "linecolor": "white",
            "showbackground": true,
            "ticks": "",
            "zerolinecolor": "white"
           },
           "zaxis": {
            "backgroundcolor": "#E5ECF6",
            "gridcolor": "white",
            "gridwidth": 2,
            "linecolor": "white",
            "showbackground": true,
            "ticks": "",
            "zerolinecolor": "white"
           }
          },
          "shapedefaults": {
           "line": {
            "color": "#2a3f5f"
           }
          },
          "ternary": {
           "aaxis": {
            "gridcolor": "white",
            "linecolor": "white",
            "ticks": ""
           },
           "baxis": {
            "gridcolor": "white",
            "linecolor": "white",
            "ticks": ""
           },
           "bgcolor": "#E5ECF6",
           "caxis": {
            "gridcolor": "white",
            "linecolor": "white",
            "ticks": ""
           }
          },
          "title": {
           "x": 0.05
          },
          "xaxis": {
           "automargin": true,
           "gridcolor": "white",
           "linecolor": "white",
           "ticks": "",
           "title": {
            "standoff": 15
           },
           "zerolinecolor": "white",
           "zerolinewidth": 2
          },
          "yaxis": {
           "automargin": true,
           "gridcolor": "white",
           "linecolor": "white",
           "ticks": "",
           "title": {
            "standoff": 15
           },
           "zerolinecolor": "white",
           "zerolinewidth": 2
          }
         }
        },
        "xaxis": {
         "anchor": "y",
         "domain": [
          0,
          1
         ],
         "title": {
          "text": "method"
         }
        },
        "yaxis": {
         "anchor": "x",
         "domain": [
          0,
          1
         ],
         "range": [
          0,
          1
         ],
         "title": {
          "text": "FMS"
         }
        }
       }
      }
     },
     "metadata": {},
     "output_type": "display_data"
    }
   ],
   "source": [
    "fig = px.strip(df_results_clust, x='method', y='FMS', color = \"true_col\")\n",
    "fig.update_yaxes(range = [0,1])\n",
    "fig.show()"
   ]
  },
  {
   "cell_type": "code",
   "execution_count": 237,
   "id": "7a04df26",
   "metadata": {},
   "outputs": [],
   "source": [
    "fig.write_image(\"FMS_globins.pdf\")"
   ]
  },
  {
   "cell_type": "markdown",
   "id": "eeaa78ee",
   "metadata": {},
   "source": [
    "## Evaluate projection"
   ]
  },
  {
   "cell_type": "code",
   "execution_count": 26,
   "id": "7017be53",
   "metadata": {},
   "outputs": [],
   "source": [
    "df_results_proj = pd.DataFrame()"
   ]
  },
  {
   "cell_type": "code",
   "execution_count": 27,
   "id": "4693cfb7",
   "metadata": {},
   "outputs": [
    {
     "name": "stdout",
     "output_type": "stream",
     "text": [
      "          pm1       pm2  proteins_id\n",
      "0    0.165887  0.005420            1\n",
      "1   -0.020971 -0.228163            2\n",
      "2    0.134721 -0.211576            3\n",
      "3    0.308206 -0.367629            4\n",
      "4    0.233765 -0.321833            5\n",
      "..        ...       ...          ...\n",
      "247  0.189355  0.761364          248\n",
      "248  0.229197  0.729397          249\n",
      "249  0.186366  0.717289          250\n",
      "250  0.175210  0.725011          251\n",
      "251  0.798315  0.290697          252\n",
      "\n",
      "[252 rows x 3 columns]\n",
      "Connecting 2\n",
      "Connecting 2\n",
      "Connecting 2\n",
      "Connecting 2\n",
      "Connecting 2\n",
      "          pm1       pm2  proteins_id\n",
      "0   -0.198498 -0.202702            1\n",
      "1   -0.303557 -0.007796            2\n",
      "2   -0.421813 -0.107958            3\n",
      "3   -0.637956 -0.090386            4\n",
      "4   -0.558838 -0.123564            5\n",
      "..        ...       ...          ...\n",
      "247  0.816202 -0.016961          248\n",
      "248  0.853925 -0.047275          249\n",
      "249  0.810471 -0.053826          250\n",
      "250  0.838430 -0.101526          251\n",
      "251  0.407965  0.727344          252\n",
      "\n",
      "[252 rows x 3 columns]\n",
      "Connecting 2\n",
      "Connecting 2\n",
      "Connecting 2\n",
      "Connecting 2\n",
      "Connecting 2\n",
      "          pm1       pm2  proteins_id\n",
      "0    0.034833 -0.271933            1\n",
      "1   -0.284894 -0.213750            2\n",
      "2   -0.384936 -0.419007            3\n",
      "3   -0.451641 -0.575870            4\n",
      "4   -0.442605 -0.498519            5\n",
      "..        ...       ...          ...\n",
      "247  0.565338  0.093796          248\n",
      "248  0.548950  0.056099          249\n",
      "249  0.516189  0.079195          250\n",
      "250  0.513157  0.098289          251\n",
      "251  0.626138 -0.615828          252\n",
      "\n",
      "[252 rows x 3 columns]\n",
      "Connecting 2\n",
      "Connecting 2\n",
      "Connecting 2\n",
      "Connecting 2\n",
      "Connecting 2\n",
      "          pm1       pm2  proteins_id\n",
      "0    0.273027  0.037641            1\n",
      "1    0.085091 -0.215046            2\n",
      "2    0.260862 -0.185030            3\n",
      "3    0.463097 -0.326367            4\n",
      "4    0.376413 -0.297370            5\n",
      "..        ...       ...          ...\n",
      "247 -0.096593  0.736500          248\n",
      "248 -0.035715  0.737580          249\n",
      "249 -0.069265  0.691860          250\n",
      "250 -0.071180  0.709146          251\n",
      "251  0.395975  0.812294          252\n",
      "\n",
      "[252 rows x 3 columns]\n",
      "Connecting 2\n",
      "Connecting 2\n",
      "Connecting 2\n",
      "Connecting 2\n",
      "Connecting 2\n",
      "          pm1       pm2  proteins_id\n",
      "0   -0.245916  0.289038            1\n",
      "1   -0.029145  0.286246            2\n",
      "2   -0.163523  0.421000            3\n",
      "3   -0.125249  0.632812            4\n",
      "4   -0.157460  0.554477            5\n",
      "..        ...       ...          ...\n",
      "247 -0.046035 -0.809826          248\n",
      "248 -0.077151 -0.847736          249\n",
      "249 -0.082826 -0.802489          250\n",
      "250 -0.133493 -0.830384          251\n",
      "251  0.702021 -0.473028          252\n",
      "\n",
      "[252 rows x 3 columns]\n",
      "Connecting 2\n",
      "Connecting 2\n",
      "Connecting 2\n",
      "Connecting 2\n",
      "Connecting 2\n"
     ]
    }
   ],
   "source": [
    "cname = 'agglomerative'\n",
    "setting = \"manifold\" # \"global\" # \n",
    "\n",
    "for seed in range(5):\n",
    "    # read poincare and annotations\n",
    "    path_embedding = f\"{out_name}/PM{knn:1.0f}sigma={sigma:2.2f}gamma={gamma:2.2f}cosinepca={cospca:1.0f}_seed{seed:1.0f}.csv\"\n",
    "    df_embedding = read_embeddings(path_embedding, path_annotation, withroot=False)\n",
    "    df_embedding.replace(\"Other\", \"OTHER\")\n",
    "    # calculate poincare distances\n",
    "    poincare_coord = df_embedding[[\"pm1\",\"pm2\"]]\n",
    "    poincare_coord = poincare_coord.values\n",
    "    #print(poincare_coord)\n",
    "    model = PoincareMaps(poincare_coord)\n",
    "    model.get_distances()\n",
    "    # MDS scores\n",
    "    X_cosine = pairwise_distances(features,metric='cosine')\n",
    "    X_mds = MDS(metric=True,dissimilarity='precomputed', random_state = seed).fit_transform(X_cosine)\n",
    "    df_embedding[\"x1_mds\"] = X_mds[:,0]\n",
    "    df_embedding[\"x2_mds\"] = X_mds[:,1]\n",
    "    # tSNE scores\n",
    "    X_tsne = TSNE(random_state = seed, metric = \"cosine\", perplexity=k_neigh).fit_transform(features)\n",
    "    df_embedding[\"x1_tsne\"] = X_tsne[:,0]\n",
    "    df_embedding[\"x2_tsne\"] = X_tsne[:,1]\n",
    "    # UMAP scores\n",
    "    X_umap = umap.UMAP(random_state = seed, metric = \"cosine\", n_neighbors = k_neigh).fit_transform(features)\n",
    "    df_embedding[\"x1_umap\"] = X_umap[:,0]\n",
    "    df_embedding[\"x2_umap\"] = X_umap[:,1]\n",
    "    # PCA scores\n",
    "    X_pca = KernelPCA(kernel='cosine', random_state = seed).fit_transform(features)\n",
    "    df_embedding[\"x1_pca\"] = X_pca[:,0]\n",
    "    df_embedding[\"x2_pca\"] = X_pca[:,1]\n",
    "    \n",
    "    \n",
    "    for clust_meth in [\"poincare\", \"mds\", \"tsne\", \"umap\", \"pca\"]:\n",
    "\n",
    "        if clust_meth == \"poincare\":\n",
    "            D = model.distances\n",
    "            Qlocal, Qglobal, Kmax, df_Q = get_quality_metrics(coord_high = features, coord_low = model.coordinates, distance=\"poincare\", setting=setting, k_neighbours=5)\n",
    "        else:\n",
    "            D = pairwise_distances(df_embedding.loc[:, \"x1_\"+clust_meth:\"x2_\"+clust_meth])\n",
    "            Qlocal, Qglobal, Kmax, df_Q = get_quality_metrics(coord_high = features, coord_low = df_embedding.loc[:, \"x1_\"+clust_meth:\"x2_\"+clust_meth], distance=\"euclidean\", setting=setting, k_neighbours=5)\n",
    "\n",
    "        corr = scipy.stats.spearmanr(D_raw.ravel(), D.ravel(), axis = 0)\n",
    "    \n",
    "        \n",
    "        df = pd.DataFrame({\"method\": [clust_meth], \"seed\": [seed], \"Qlocal\": [Qlocal], \"Qglobal\": [Qglobal], \"Kmax\": [Kmax], \"Qnx\": [df_Q.Qnx.to_numpy()]})\n",
    "        df_results_proj = pd.concat([df_results_clust, df])\n",
    "\n",
    "#print(df_results)"
   ]
  },
  {
   "cell_type": "code",
   "execution_count": 21,
   "id": "df8273c7",
   "metadata": {},
   "outputs": [],
   "source": [
    "import seaborn as sns\n",
    "import matplotlib.pyplot as plt\n",
    "%matplotlib inline"
   ]
  },
  {
   "cell_type": "code",
   "execution_count": 22,
   "id": "0da8da63",
   "metadata": {
    "scrolled": true
   },
   "outputs": [
    {
     "name": "stdout",
     "output_type": "stream",
     "text": [
      "['#4c72b0', '#dd8452', '#55a868', '#c44e52', '#8172b3']\n",
      "{'poincare': '#4c72b0', 'mds': '#dd8452', 'tsne': '#55a868', 'umap': '#c44e52', 'pca': '#8172b3'}\n"
     ]
    }
   ],
   "source": [
    "print(sns.color_palette(palette=None, n_colors=5).as_hex())\n",
    "meth_palette = dict(zip([\"poincare\", \"mds\", \"tsne\", \"umap\", \"pca\"], sns.color_palette(palette=None, n_colors=5).as_hex()))\n",
    "print(meth_palette)"
   ]
  },
  {
   "cell_type": "code",
   "execution_count": 25,
   "id": "b658347a",
   "metadata": {},
   "outputs": [
    {
     "name": "stdout",
     "output_type": "stream",
     "text": [
      "poincare 0.83, 0.01\n",
      "mds 0.66, 0.01\n",
      "tsne 0.75, 0.00\n",
      "umap 0.72, 0.02\n",
      "pca 0.67, 0.00\n"
     ]
    },
    {
     "data": {
      "image/png": "[encoded data removed]",
      "text/plain": [
       "<Figure size 640x480 with 1 Axes>"
      ]
     },
     "metadata": {},
     "output_type": "display_data"
    }
   ],
   "source": [
    "for clust_meth in [\"poincare\", \"mds\", \"tsne\", \"umap\", \"pca\"]:\n",
    "    Qnx_mean = []\n",
    "\n",
    "    for seed in range(5):\n",
    "        xx = df_results_proj[(df_results_proj.method==clust_meth)&(df_results_proj.seed==seed)].Qnx.values\n",
    "        xx = xx.squeeze()[()]\n",
    "        Qnx_mean.append(xx.mean())\n",
    "        #print(len(xx))\n",
    "        #fig = px.line(x = range(1,len(xx)+1), y= xx)\n",
    "        if seed == 0:\n",
    "            sns.lineplot(x = range(1,len(xx)+1), y = xx, color = meth_palette[clust_meth], label = clust_meth)\n",
    "        else:\n",
    "            sns.lineplot(x = range(1,len(xx)+1), y = xx, color = meth_palette[clust_meth])#, label = clust_meth)\n",
    "    print(clust_meth, \"%2.2f, %2.2f\"%(np.mean(Qnx_mean), np.std(Qnx_mean)))\n",
    "\n",
    "#plt.legend()\n",
    "plt.xlabel(\"K\")\n",
    "plt.ylabel(\"Qnx\")\n",
    "plt.ylim([0,1.1])\n",
    "#plt.savefig(\"Qnx_global_kinases.pdf\")\n",
    "plt.show()"
   ]
  },
  {
   "cell_type": "code",
   "execution_count": 262,
   "id": "14370aae",
   "metadata": {},
   "outputs": [
    {
     "name": "stdout",
     "output_type": "stream",
     "text": [
      "Local\n",
      "poincare 0.60, 0.02\n",
      "mds 0.37, 0.02\n",
      "tsne 0.81, 0.01\n",
      "umap 0.59, 0.02\n",
      "pca 0.32, 0.00\n",
      "Global\n",
      "poincare 0.83, 0.01\n",
      "mds 0.67, 0.01\n",
      "tsne 0.75, 0.01\n",
      "umap 0.72, 0.02\n",
      "pca 0.69, 0.00\n"
     ]
    }
   ],
   "source": [
    "print(\"Local\")\n",
    "for clust_meth in [\"poincare\", \"mds\", \"tsne\", \"umap\", \"pca\"]:\n",
    "    print(clust_meth, \"%2.2f, %2.2f\"%(df_results_proj[(df_results_proj.method==clust_meth)].Qlocal.values.mean(), df_results_proj[(df_results_proj.method==clust_meth)].Qlocal.values.std()))\n",
    "    \n",
    "print(\"Global\")   \n",
    "for clust_meth in [\"poincare\", \"mds\", \"tsne\", \"umap\", \"pca\"]:\n",
    "    print(clust_meth, \"%2.2f, %2.2f\"%(df_results_proj[(df_results_proj.method==clust_meth)].Qglobal.values.mean(), df_results_proj[(df_results_proj.method==clust_meth)].Qglobal.values.std()))"
   ]
  },
  {
   "cell_type": "markdown",
   "id": "cf1c4555",
   "metadata": {},
   "source": [
    "# \n",
    "# \n",
    "# "
   ]
  },
  {
   "cell_type": "markdown",
   "id": "c44a5395",
   "metadata": {},
   "source": [
    "### Poincaré distances hyperboliques "
   ]
  },
  {
   "cell_type": "code",
   "execution_count": null,
   "id": "6a046d7d",
   "metadata": {},
   "outputs": [],
   "source": [
    "for cname in ['agglomerative']:#, 'spectral']:#, 'agglomerative', 'kmedoids']:\n",
    "    clusters = detect_cluster(model.distances, n_clusters=nc, clustering_name=cname)#, k=15)\n",
    "    df_embedding[\"clust_poincare\"] = clusters\n",
    "    df_embedding[\"clust_poincare\"] = df_embedding[\"clust_poincare\"].astype(\"string\")"
   ]
  },
  {
   "cell_type": "markdown",
   "id": "0673ef36",
   "metadata": {},
   "source": [
    "### MDS"
   ]
  },
  {
   "cell_type": "code",
   "execution_count": null,
   "id": "a1dc7620",
   "metadata": {},
   "outputs": [],
   "source": [
    "X_cosine = pairwise_distances(features,metric='cosine')\n",
    "X_mds = MDS(metric=True,dissimilarity='precomputed', random_state = seed).fit_transform(X_cosine)\n",
    "df_embedding[\"x1_mds\"] = X_mds[:,0]\n",
    "df_embedding[\"x2_mds\"] = X_mds[:,1]"
   ]
  },
  {
   "cell_type": "code",
   "execution_count": null,
   "id": "0dd16047",
   "metadata": {},
   "outputs": [],
   "source": [
    "D = pairwise_distances(X_mds)\n",
    "print(D.shape)\n",
    "\n",
    "for cname in ['agglomerative']:#,'spectral']:#, 'agglomerative', 'kmedoids']:\n",
    "    clusters = detect_cluster(D, n_clusters=nc, clustering_name=cname)#, k=15)\n",
    "    df_embedding[\"clust_mds\"] = clusters\n",
    "    df_embedding[\"clust_mds\"] = df_embedding[\"clust_mds\"].astype(\"string\")"
   ]
  },
  {
   "cell_type": "markdown",
   "id": "6194b28a",
   "metadata": {},
   "source": [
    "### t-SNE"
   ]
  },
  {
   "cell_type": "code",
   "execution_count": null,
   "id": "7be536dc",
   "metadata": {},
   "outputs": [],
   "source": [
    "X_tsne = TSNE(random_state = seed, metric = \"cosine\", perplexity=k_neigh).fit_transform(features)\n",
    "df_embedding[\"x1_tsne\"] = X_tsne[:,0]\n",
    "df_embedding[\"x2_tsne\"] = X_tsne[:,1]"
   ]
  },
  {
   "cell_type": "code",
   "execution_count": null,
   "id": "164184fc",
   "metadata": {},
   "outputs": [],
   "source": [
    "D = pairwise_distances(X_tsne)\n",
    "\n",
    "for cname in ['agglomerative']:#, 'spectral']:#, 'agglomerative', 'kmedoids']:\n",
    "    clusters = detect_cluster(D, n_clusters=nc, clustering_name=cname)#, k=15)\n",
    "    df_embedding[\"clust_tsne\"] = clusters\n",
    "    df_embedding[\"clust_tsne\"] = df_embedding[\"clust_tsne\"].astype(\"string\")"
   ]
  },
  {
   "cell_type": "markdown",
   "id": "10713114",
   "metadata": {},
   "source": [
    "### UMAP"
   ]
  },
  {
   "cell_type": "code",
   "execution_count": null,
   "id": "394d3894",
   "metadata": {},
   "outputs": [],
   "source": [
    "X_umap = umap.UMAP(random_state = seed, metric = \"cosine\", n_neighbors = k_neigh).fit_transform(features)\n",
    "df_embedding[\"x1_umap\"] = X_umap[:,0]\n",
    "df_embedding[\"x2_umap\"] = X_umap[:,1]"
   ]
  },
  {
   "cell_type": "code",
   "execution_count": null,
   "id": "dad7f6ad",
   "metadata": {},
   "outputs": [],
   "source": [
    "D = pairwise_distances(X_umap)\n",
    "print(D.shape)\n",
    "\n",
    "for cname in ['agglomerative']:#, 'spectral']:#, 'agglomerative', 'kmedoids']:\n",
    "    clusters = detect_cluster(D, n_clusters=nc, clustering_name=cname)#, k=15)\n",
    "    df_embedding[\"clust_umap\"] = clusters\n",
    "    df_embedding[\"clust_umap\"] = df_embedding[\"clust_umap\"].astype(\"string\")"
   ]
  },
  {
   "cell_type": "markdown",
   "id": "5371c05f",
   "metadata": {},
   "source": [
    "### PCA"
   ]
  },
  {
   "cell_type": "code",
   "execution_count": null,
   "id": "de84325d",
   "metadata": {},
   "outputs": [],
   "source": [
    "X_pca = KernelPCA(kernel='cosine', random_state = seed).fit_transform(features)\n",
    "df_embedding[\"x1_pca\"] = X_pca[:,0]\n",
    "df_embedding[\"x2_pca\"] = X_pca[:,1]"
   ]
  },
  {
   "cell_type": "code",
   "execution_count": null,
   "id": "0887077d",
   "metadata": {},
   "outputs": [],
   "source": [
    "D = pairwise_distances(X_pca)\n",
    "print(D.shape)\n",
    "\n",
    "\n",
    "for cname in ['agglomerative']:#, 'spectral']:#, 'agglomerative', 'kmedoids']:\n",
    "    clusters = detect_cluster(D, n_clusters=nc, clustering_name=cname)#, k=15)\n",
    "    df_embedding[\"clust_pca\"] = clusters\n",
    "    df_embedding[\"clust_pca\"] = df_embedding[\"clust_pca\"].astype(\"string\")"
   ]
  },
  {
   "cell_type": "markdown",
   "id": "6324832a",
   "metadata": {},
   "source": [
    "## Compare scores for clustering"
   ]
  },
  {
   "cell_type": "code",
   "execution_count": null,
   "id": "4b37c04e",
   "metadata": {},
   "outputs": [],
   "source": [
    "if remove_outliers:\n",
    "    df_noothers = df_embedding[no_outliers]\n",
    "if remove_others:\n",
    "    df_noothers = df_noothers[df_embedding[true_col]!=other]\n",
    "        \n",
    "print(df_embedding.shape, df_noothers.shape)\n",
    "\n",
    "for clust_meth in [\"poincare\", \"mds\", \"tsne\", \"umap\", \"pca\"]:\n",
    "\n",
    "    ARI, FMS = get_scores(df_noothers[true_col], df_noothers[\"clust_\" + clust_meth])\n",
    "\n",
    "    if clust_meth == \"poincare\":\n",
    "        D = model.distances\n",
    "        Qlocal, Qglobal, Kmax = get_quality_metrics(coord_high = features, coord_low = model.coordinates, distance=\"poincare\", setting=\"manifold\", k_neighbours=5)\n",
    "    else:\n",
    "        D = pairwise_distances(df_embedding.loc[:, \"x1_\"+clust_meth:\"x2_\"+clust_meth])\n",
    "        Qlocal, Qglobal, Kmax = get_quality_metrics(coord_high = features, coord_low = df_embedding.loc[:, \"x1_\"+clust_meth:\"x2_\"+clust_meth], distance=\"euclidean\", setting=\"manifold\", k_neighbours=5)\n",
    "\n",
    "    corr = scipy.stats.spearmanr(D_raw.ravel(), D.ravel(), axis = 0)\n",
    "    \n",
    "    df = pd.DataFrame({\"method\": [clust_meth], \"seed\": [seed], \"Qlocal\": [Qlocal], \"Qglobal\": [Qglobal], \"true_col\": [true_col], \"ARI\": [ARI], \"FMS\": [FMS]})\n",
    "    df_results = df_results.append(df)\n",
    "    print(clust_meth + \": \" + f\"{ARI:.2f} \" + f\"{FMS:.2f} \" + f\"{corr.correlation:.2f} \" + f\"{Qlocal:.2f} \"+f\"{Qglobal:.2f} \")\n",
    "#print(scipy.stats.spearmanr(D_raw.ravel(), D.ravel(), axis = 0))"
   ]
  },
  {
   "cell_type": "code",
   "execution_count": null,
   "id": "20679a06",
   "metadata": {},
   "outputs": [],
   "source": [
    "print(df_results)"
   ]
  },
  {
   "cell_type": "code",
   "execution_count": null,
   "id": "19deb2ec",
   "metadata": {},
   "outputs": [],
   "source": [
    "clust_meth = \"tsne\"\n",
    "k_neigh = 5\n",
    "X_tsne = TSNE(random_state = seed, metric = \"cosine\", perplexity=k_neigh).fit_transform(features)\n",
    "df_embedding[\"x1_tsne\"] = X_tsne[:,0]\n",
    "df_embedding[\"x2_tsne\"] = X_tsne[:,1]\n",
    "Qlocalt, Qglobalt, Kmaxt, df_q = get_quality_metrics(coord_high = features, coord_low = df_embedding.loc[:, \"x1_\"+clust_meth:\"x2_\"+clust_meth], distance=\"euclidean\", setting=\"manifold\", k_neighbours=5, my_metric = \"cosine\")\n",
    "print(Qlocalt, Qglobalt)"
   ]
  },
  {
   "cell_type": "code",
   "execution_count": null,
   "id": "5a801bfb",
   "metadata": {},
   "outputs": [],
   "source": [
    "df_q"
   ]
  },
  {
   "cell_type": "code",
   "execution_count": null,
   "id": "4f9b0af3",
   "metadata": {},
   "outputs": [],
   "source": [
    "clust_meth = \"umap\"\n",
    "k_neigh = 5\n",
    "X_umap = umap.UMAP(random_state = seed, metric = \"cosine\", n_neighbors = k_neigh).fit_transform(features)\n",
    "df_embedding[\"x1_umap\"] = X_umap[:,0]\n",
    "df_embedding[\"x2_umap\"] = X_umap[:,1]\n",
    "Qlocal, Qglobal, Kmax, df_qumap = get_quality_metrics(coord_high = features, coord_low = df_embedding.loc[:, \"x1_\"+clust_meth:\"x2_\"+clust_meth], distance=\"euclidean\", setting=\"manifold\", k_neighbours=5)\n",
    "print(Qlocal, Qglobal)"
   ]
  },
  {
   "cell_type": "code",
   "execution_count": null,
   "id": "1312cf4b",
   "metadata": {},
   "outputs": [],
   "source": [
    "df_qumap"
   ]
  },
  {
   "cell_type": "code",
   "execution_count": null,
   "id": "1f37abcc",
   "metadata": {},
   "outputs": [],
   "source": [
    "import matplotlib.pyplot as plt\n",
    "%matplotlib inline\n",
    "\n",
    "plt.plot(df_qumap.Qnx, label=\"umap\")\n",
    "plt.plot(df_q.Qnx, label = \"tsne\")\n",
    "plt.legend()\n",
    "#plt.show()"
   ]
  },
  {
   "cell_type": "code",
   "execution_count": null,
   "id": "b731e1c5",
   "metadata": {},
   "outputs": [],
   "source": [
    "plt.scatter(X_tsne[:,0], X_tsne[:,1])"
   ]
  },
  {
   "cell_type": "code",
   "execution_count": null,
   "id": "da75f776",
   "metadata": {},
   "outputs": [],
   "source": [
    "plt.scatter(X_umap[:,0], X_umap[:,1])"
   ]
  },
  {
   "cell_type": "code",
   "execution_count": null,
   "id": "248caf70",
   "metadata": {},
   "outputs": [],
   "source": [
    "poincare_coord = pd.read_csv(path_embedding, sep=',').sort_values(by=[\"proteins_id\"])\n",
    "poincare_coord = poincare_coord.values[:,:2]\n",
    "model = PoincareMaps(poincare_coord)\n",
    "model.get_distances()\n",
    "clust_meth = \"poincare\"\n",
    "k_neigh = 5\n",
    "Qlocalp, Qglobalp, Kmaxp, df_qumapoin = get_quality_metrics(coord_high = features, coord_low = model.coordinates, distance=\"poincare\", setting=\"manifold\", k_neighbours=5)\n",
    "print(Qlocalp, Qglobalp)"
   ]
  },
  {
   "cell_type": "code",
   "execution_count": null,
   "id": "e803c5bc",
   "metadata": {},
   "outputs": [],
   "source": [
    "import matplotlib.pyplot as plt\n",
    "%matplotlib inline\n",
    "\n",
    "plt.plot(df_qumap.Qnx, label=\"umap\")\n",
    "plt.plot(df_q.Qnx, label = \"tsne\")\n",
    "plt.plot(df_qumapoin.Qnx, label=\"pm\")\n",
    "plt.legend()"
   ]
  },
  {
   "cell_type": "code",
   "execution_count": null,
   "id": "fd8326f7",
   "metadata": {},
   "outputs": [],
   "source": [
    "print(Qlocal, Qglobal)\n",
    "print(Qlocalt, Qglobalt)"
   ]
  },
  {
   "cell_type": "code",
   "execution_count": null,
   "id": "c50af9e0",
   "metadata": {},
   "outputs": [],
   "source": [
    "\n",
    "plt.plot(df_qumap.Qnx, label=\"umap\")\n",
    "plt.legend()"
   ]
  },
  {
   "cell_type": "code",
   "execution_count": null,
   "id": "477ab158",
   "metadata": {},
   "outputs": [],
   "source": [
    "fig = px.strip(df_results, x='method', y='ARI', color = \"true_col\")\n",
    "fig.show()"
   ]
  },
  {
   "cell_type": "code",
   "execution_count": null,
   "id": "ff34ff41",
   "metadata": {},
   "outputs": [],
   "source": [
    "fig = px.strip(df_results, x='method', y='FMS', color = \"true_col\")\n",
    "fig.show()"
   ]
  },
  {
   "cell_type": "code",
   "execution_count": null,
   "id": "51566401",
   "metadata": {},
   "outputs": [],
   "source": [
    "fig = px.strip(df_results[df_results.true_col==\"tree1\"], x='method', y=['corr'])\n",
    "fig.show()"
   ]
  },
  {
   "cell_type": "code",
   "execution_count": null,
   "id": "7875ba12",
   "metadata": {},
   "outputs": [],
   "source": [
    "fig = px.strip(df_results[df_results.true_col==\"tree1\"], x='method', y=['Qglobal'])\n",
    "fig.show()"
   ]
  },
  {
   "cell_type": "code",
   "execution_count": null,
   "id": "a5125b2e",
   "metadata": {},
   "outputs": [],
   "source": [
    "fig = px.strip(df_results[df_results.true_col==\"tree1\"], x='method', y=['Qlocal'])\n",
    "fig.show()"
   ]
  },
  {
   "cell_type": "markdown",
   "id": "42051939",
   "metadata": {},
   "source": [
    "# Plots"
   ]
  },
  {
   "cell_type": "markdown",
   "id": "1a899260",
   "metadata": {},
   "source": [
    "## PoincaréMSA"
   ]
  },
  {
   "cell_type": "code",
   "execution_count": null,
   "id": "1c258e75",
   "metadata": {},
   "outputs": [],
   "source": [
    "    fig = plot_embedding_interactive(df_embedding, \n",
    "                                 labels_name = \"clust_poincare\",\n",
    "                                 #second_labels_name = second_labels_name, \n",
    "                                 #show_text = show_text,\n",
    "                                 #labels_text = labels_text,\n",
    "                                 color_palette = None,\n",
    "                                 #color_discrete_sequence = px.colors.qualitative.Alphabet,\n",
    "                                 #color_discrete_map=globin_palette,\n",
    "                                 #title = title, \n",
    "                                 fontsize = 11)\n",
    "    fig.show()\n",
    "\n",
    "\n",
    "        #        scores.append(s)\n",
    "#        titles.append(t)\n",
    "\n",
    "#for cname in ['spectral', 'agglomerative', 'kmedoids']:\n",
    " #       s, t = detect_cluster(model.get_distances(), \n",
    "  #                            n_clusters=nc, clustering_name=cname, k=15, distances='raw')\n",
    "        #scores.append(s)\n",
    "        #titles.append(t)"
   ]
  },
  {
   "cell_type": "markdown",
   "id": "18b4c354",
   "metadata": {},
   "source": [
    "## MDS"
   ]
  },
  {
   "cell_type": "code",
   "execution_count": null,
   "id": "323bd81d",
   "metadata": {},
   "outputs": [],
   "source": [
    "    plt = px.scatter(df_embedding, x = 'x1_mds', y = 'x2_mds',\n",
    "                     color = df_embedding[\"clust_mds\"],\n",
    "                     color_discrete_sequence = px.colors.qualitative.Alphabet,\n",
    "                     color_discrete_map=globin_palette,\n",
    "                     #color_continuous_scale = \"Turbo\",\n",
    "                     ##labels={'color': labels}, \n",
    "                     #hover_name=labels_name,\n",
    "                     #hover_data=df.columns[2:],\n",
    "                     #height = 800,\n",
    "                     #title = title,\n",
    "                 )\n",
    "    plt.update_xaxes(range = [-0.7, 0.7], constrain=\"domain\")\n",
    "    plt.update_yaxes(range = [-0.7, 0.7], constrain=\"domain\")\n",
    "\n",
    "    plt.update_yaxes(scaleanchor = \"x\", scaleratio = 1)\n",
    "    plt.show()\n",
    "    \n",
    "    plt = px.scatter(df_embedding, x = 'x1_mds', y = 'x2_mds',\n",
    "                     color = df_embedding[true_col],\n",
    "                     color_discrete_sequence = px.colors.qualitative.Alphabet,\n",
    "                     color_discrete_map=globin_palette,\n",
    "                     #color_continuous_scale = \"Turbo\",\n",
    "                     ##labels={'color': labels}, \n",
    "                     #hover_name=labels_name,\n",
    "                     #hover_data=df.columns[2:],\n",
    "                     #height = 800,\n",
    "                     #title = title,\n",
    "                 )\n",
    "    plt.update_xaxes(range = [-0.7, 0.7], constrain=\"domain\")\n",
    "    plt.update_yaxes(range = [-0.7, 0.7], constrain=\"domain\")\n",
    "\n",
    "    plt.update_yaxes(scaleanchor = \"x\", scaleratio = 1)\n",
    "    plt.show()"
   ]
  },
  {
   "cell_type": "markdown",
   "id": "bd043b34",
   "metadata": {},
   "source": [
    "## tSNE"
   ]
  },
  {
   "cell_type": "code",
   "execution_count": null,
   "id": "be0dfef0",
   "metadata": {},
   "outputs": [],
   "source": [
    "\n",
    "    plt = px.scatter(df_embedding, x = 'x1_tsne', y = 'x2_tsne',\n",
    "                     color = df_embedding[\"clust_tsne\"],\n",
    "                     color_discrete_sequence = px.colors.qualitative.Alphabet,\n",
    "                     color_discrete_map=globin_palette,\n",
    "                     #color_continuous_scale = \"Turbo\",\n",
    "                     ##labels={'color': labels}, \n",
    "                     #hover_name=labels_name,\n",
    "                     #hover_data=df.columns[2:],\n",
    "                     #height = 800,\n",
    "                     #title = title,\n",
    "                 )\n",
    "    #plt.update_xaxes(range = [-10 50], constrain=\"domain\")\n",
    "    #plt.update_yaxes(range = [-0.5, 0.5], constrain=\"domain\")\n",
    "\n",
    "    plt.update_yaxes(scaleanchor = \"x\", scaleratio = 1)\n",
    "    plt.show()\n",
    "    \n",
    "    plt = px.scatter(df_embedding, x = 'x1_tsne', y = 'x2_tsne',\n",
    "                     color = df_embedding[true_col],\n",
    "                     color_discrete_sequence = px.colors.qualitative.Alphabet,\n",
    "                     color_discrete_map=globin_palette,\n",
    "                     #color_continuous_scale = \"Turbo\",\n",
    "                     ##labels={'color': labels}, \n",
    "                     #hover_name=labels_name,\n",
    "                     #hover_data=df.columns[2:],\n",
    "                     #height = 800,\n",
    "                     #title = title,\n",
    "                 )\n",
    "    #plt.update_xaxes(range = [-60, 50], constrain=\"domain\")\n",
    "    #plt.update_yaxes(range = [-0.5, 0.5], constrain=\"domain\")\n",
    "\n",
    "    plt.update_yaxes(scaleanchor = \"x\", scaleratio = 1)\n",
    "    plt.show()"
   ]
  },
  {
   "cell_type": "markdown",
   "id": "02bfd981",
   "metadata": {},
   "source": [
    "## UMAP"
   ]
  },
  {
   "cell_type": "code",
   "execution_count": null,
   "id": "86c48b06",
   "metadata": {},
   "outputs": [],
   "source": [
    "    plt = px.scatter(df_embedding, x = 'x1_umap', y = 'x2_umap',\n",
    "                     color = df_embedding[\"clust_umap\"],\n",
    "                     color_discrete_sequence = px.colors.qualitative.Alphabet,\n",
    "                     color_discrete_map=globin_palette,\n",
    "                     #color_continuous_scale = \"Turbo\",\n",
    "                     ##labels={'color': labels}, \n",
    "                     #hover_name=labels_name,\n",
    "                     #hover_data=df.columns[2:],\n",
    "                     #height = 800,\n",
    "                     #title = title,\n",
    "                 )\n",
    "    #plt.update_xaxes(range = [-10 50], constrain=\"domain\")\n",
    "    #plt.update_yaxes(range = [-0.5, 0.5], constrain=\"domain\")\n",
    "\n",
    "    plt.update_yaxes(scaleanchor = \"x\", scaleratio = 1)\n",
    "    plt.show()\n",
    "    \n",
    "plt = px.scatter(df_embedding, x = 'x1_umap', y = 'x2_umap',\n",
    "                     color = df_embedding[true_col],\n",
    "                     color_discrete_sequence = px.colors.qualitative.Alphabet,\n",
    "                     color_discrete_map=globin_palette,\n",
    "                     #color_continuous_scale = \"Turbo\",\n",
    "                     ##labels={'color': labels}, \n",
    "                     #hover_name=labels_name,\n",
    "                     #hover_data=df.columns[2:],\n",
    "                     #height = 800,\n",
    "                     #title = title,\n",
    "                 )\n",
    "    #plt.update_xaxes(range = [-60, 50], constrain=\"domain\")\n",
    "    #plt.update_yaxes(range = [-0.5, 0.5], constrain=\"domain\")\n",
    "\n",
    "plt.update_yaxes(scaleanchor = \"x\", scaleratio = 1)\n",
    "plt.show()"
   ]
  },
  {
   "cell_type": "markdown",
   "id": "684e8f9c",
   "metadata": {},
   "source": [
    "## PCA"
   ]
  },
  {
   "cell_type": "code",
   "execution_count": null,
   "id": "106d160d",
   "metadata": {},
   "outputs": [],
   "source": [
    "    plt = px.scatter(df_embedding, x = 'x1_pca', y = 'x2_pca',\n",
    "                     color = df_embedding[\"clust_pca\"],\n",
    "                     color_discrete_sequence = px.colors.qualitative.Alphabet,\n",
    "                     color_discrete_map=globin_palette,\n",
    "                     #color_continuous_scale = \"Turbo\",\n",
    "                     ##labels={'color': labels}, \n",
    "                     #hover_name=labels_name,\n",
    "                     #hover_data=df.columns[2:],\n",
    "                     #height = 800,\n",
    "                     #title = title,\n",
    "                 )\n",
    "\n",
    "\n",
    "    plt.update_yaxes(scaleanchor = \"x\", scaleratio = 1)\n",
    "    plt.show()"
   ]
  },
  {
   "cell_type": "code",
   "execution_count": 244,
   "id": "14d20d2c",
   "metadata": {},
   "outputs": [
    {
     "data": {
      "application/vnd.plotly.v1+json": {
       "config": {
        "plotlyServerURL": "https://plot.ly"
       },
       "data": [
        {
         "hovertemplate": "short_name=Globin<br>x1_pca=%{x}<br>x2_pca=%{y}<extra></extra>",
         "legendgroup": "Globin",
         "marker": {
          "color": "#325A9B",
          "symbol": "circle"
         },
         "mode": "markers",
         "name": "Globin",
         "orientation": "v",
         "showlegend": true,
         "type": "scatter",
         "x": [
          -0.06305513543529705,
          -0.047890224876186924,
          -0.04873664252816814,
          -0.04275430098107574,
          -0.03753501061564372,
          -0.016198549615379764,
          -0.02955129510049442,
          -0.05515824512042926,
          -0.028494506348439988,
          -0.14127706371897386,
          -0.11989941944813569,
          -0.027183944690529205,
          0.006618384540131856,
          -0.04023450649632306,
          -0.07815151312457555,
          -0.09777956119853269,
          -0.11833594430483999,
          -0.11937159351021166,
          -0.06909988018658215,
          -0.07326851172118487,
          -0.09272376880718558,
          -0.09942000416625289,
          -0.10476892501630138,
          -0.10223028919867537,
          -0.09416667329261424,
          -0.029676633067923314,
          -0.03684296325169658,
          -0.05466653041897247,
          0.10097876463694526,
          0.10633055016448534,
          -0.06749113993975074,
          -0.05668800416641973,
          -0.061505767911672775,
          0.009693065980410849,
          -0.041769823577510704,
          0.027435336310265946,
          -0.014065181241908628,
          -0.0437045279315498,
          -0.09273827219614131,
          -0.04295525851027714,
          0.0070038861496882305,
          -0.07472975645440626
         ],
         "xaxis": "x",
         "y": [
          0.025768270147098375,
          0.11512167725684129,
          0.050540838672906686,
          0.10339704242876618,
          -0.04939448766621087,
          0.16460502039034827,
          0.10897576101570959,
          0.1484596853996582,
          0.046878281087304075,
          -0.011936376748639729,
          -0.0157330491389618,
          -0.041031762398789626,
          0.012710606977624883,
          0.031239488162077115,
          0.08395686239499725,
          0.08421382530619916,
          0.10267068508544572,
          0.10173425150109743,
          0.0802201899819211,
          0.10240069897359044,
          0.09709511513348816,
          0.1218042056767957,
          0.07211137024814146,
          0.09222358702137913,
          -0.23561872977650736,
          -0.02282919767620729,
          -0.014423803545790733,
          -0.03195918370696134,
          -0.03841858236882538,
          -0.023932000640384768,
          -0.0006703517314304837,
          0.008091521485649587,
          0.13094633961369978,
          0.07274324811339912,
          0.11232920639987824,
          0.01369585364158714,
          -0.038889183270874185,
          -0.015301241874962157,
          0.14837213822213866,
          -0.009067978457223647,
          -0.04053776110438962,
          -0.016260584017884935
         ],
         "yaxis": "y"
        },
        {
         "hovertemplate": "short_name=Uncharacterized<br>x1_pca=%{x}<br>x2_pca=%{y}<extra></extra>",
         "legendgroup": "Uncharacterized",
         "marker": {
          "color": "#FEAF16",
          "symbol": "circle"
         },
         "mode": "markers",
         "name": "Uncharacterized",
         "orientation": "v",
         "showlegend": true,
         "type": "scatter",
         "x": [
          -0.04988053408458242,
          -0.10927588824165939,
          -0.08923303043351993,
          -0.021000258903738134,
          -0.025282158747100082,
          -0.036979139325575075,
          0.016513208860970637,
          -0.027229269075419654,
          -0.08280832020008216,
          -0.0703540709639968,
          0.011318772842352096,
          0.02657762906223067,
          -0.023477029611348208,
          -0.006987737252995124,
          0.03948645057385685,
          -0.11231163480481675,
          -0.03164176426156349,
          0.555556287748349,
          0.48206767053826005,
          0.4872335580863562,
          0.47810697893173704,
          0.43398462325038706,
          0.4716947253606287,
          0.5081305212178188,
          0.5357527355398343,
          0.5364121442551457,
          0.48766017313322163,
          0.5228114268860902,
          0.3838480128491915,
          -0.14061934044395902,
          -0.1314079032499188,
          -0.09744313276978611,
          -0.09999076627248123,
          -0.13845896999628485,
          0.05123017514563875,
          -0.21928636802299595,
          -0.17263389371864302,
          -0.17879620424747836,
          -0.2036314445889982,
          -0.20899154495508998,
          -0.1849019354010933,
          -0.21321601351531455,
          -0.20938557834050084,
          -0.0511607575770477,
          -0.03476708668194305,
          -0.021051318939777693,
          -0.020729361236341896,
          0.1576504192760543,
          0.1570485738465714,
          0.14279841614223035,
          0.045888708006101966,
          0.11311441499007394,
          0.11076636656145501,
          0.12970880808480093,
          -0.11274683159038926,
          -0.03638993293851541,
          -0.014961685939238365,
          -0.06794952881163778,
          -0.06088079944669605,
          -0.13376387462585632,
          -0.1897353017746474,
          -0.1730402072254903,
          -0.1717741176457864,
          -0.18009537344027673,
          -0.13808409803074023,
          0.020552568994721382,
          -0.06565318010105986,
          -0.04072299762894262,
          -0.13206879219496878,
          -0.06136273632734722,
          -0.0545225050394865,
          -0.10539874230994581,
          -0.12257474326642917,
          -0.04937151112301548,
          -0.04614012487607399,
          -0.10853841482933115,
          0.0593199149251588,
          -0.10915454225201263,
          -0.09270123754613774,
          -0.04160013277493042,
          -0.020217888625862934,
          -0.02335334103678952,
          -0.14908005424399004,
          -0.17179188433561138,
          -0.15921471948232357,
          -0.15791831000733053,
          -0.08566998776592696
         ],
         "xaxis": "x",
         "y": [
          -0.012098617979128111,
          0.02965602954343198,
          0.04153506910239288,
          -0.03656319513603923,
          -0.01668066304599519,
          0.043721504093926986,
          0.005799350671566802,
          -0.012576791122183673,
          -0.0034421493772437,
          0.0030685352242907768,
          -0.0711438935610157,
          -0.054621852977227096,
          0.16494682709825195,
          0.03739879233789081,
          0.044781768291274386,
          -0.03450919818780353,
          0.07536074093958212,
          -0.06859758244393761,
          -0.05988413784464822,
          -0.04173245036610609,
          -0.06122130676075118,
          -0.09186142078848737,
          -0.04777023401396465,
          -0.08100992877969504,
          -0.0793226716350136,
          -0.06949623587058347,
          -0.08632087099691406,
          -0.06693703602904022,
          -0.04896386135763627,
          -0.3052874705844647,
          -0.3041966827906932,
          -0.23519508232076028,
          -0.2010113476291815,
          -0.25040770471698187,
          0.025538123882007668,
          -0.36010352401541634,
          -0.3359598567095359,
          -0.3441609534484203,
          -0.38853392526693187,
          -0.32654117407216315,
          -0.31604275221001865,
          -0.3948690594157531,
          -0.35860552577026833,
          -0.039033724902257115,
          -0.01788891651862358,
          -0.037407103595283576,
          0.01274421678978787,
          0.006486365229904017,
          -0.024614028387597887,
          -0.023085577505579522,
          0.047310473141698624,
          -0.029782432729874565,
          -0.032505133550617384,
          -0.011176791064764349,
          -0.23604286617536857,
          0.031614203472951116,
          0.0000743354971669738,
          -0.05572253907941788,
          -0.07242719096507755,
          -0.06905015824561869,
          -0.07404849361738627,
          -0.07182932959914998,
          -0.06659267263355279,
          -0.05203036792967607,
          -0.07908084732926973,
          0.05492248609667506,
          0.2246882829554232,
          -0.027101598234702276,
          -0.2625224377148011,
          -0.1986213704587655,
          -0.007450002924429957,
          0.0533690870672092,
          -0.15008970626707963,
          -0.0030070563451927036,
          -0.0428108791251286,
          -0.06681728147176051,
          0.05924224877985236,
          -0.06189375155867063,
          -0.06556992705672236,
          0.008152918420472728,
          0.04284966389976379,
          0.07918792801651459,
          -0.050804520472812344,
          -0.03912912169360329,
          -0.08894377843736896,
          -0.042392597856354505,
          -0.06675740602862928
         ],
         "yaxis": "y"
        },
        {
         "hovertemplate": "short_name=Hemoglobin<br>x1_pca=%{x}<br>x2_pca=%{y}<extra></extra>",
         "legendgroup": "Hemoglobin",
         "marker": {
          "color": "#F8A19F",
          "symbol": "circle"
         },
         "mode": "markers",
         "name": "Hemoglobin",
         "orientation": "v",
         "showlegend": true,
         "type": "scatter",
         "x": [
          -0.09035834527841348,
          -0.027106358770712265,
          -0.019381271970467302,
          -0.028667342052379554,
          -0.02005902970939926,
          -0.025501448696127926,
          -0.04188400385899126,
          -0.060242565447247744,
          -0.11176485218310239,
          0.16866886124536715,
          0.04019589370252034,
          0.08871079656776708,
          -0.04502461706094699,
          -0.048055383577114016,
          -0.05321593638305679,
          -0.07303605012311376,
          -0.03230306131008507,
          -0.04945986556448109,
          -0.05038240136294149,
          -0.0482281558790311,
          -0.056367859462070874,
          0.011809735046207906,
          -0.12414382846520561,
          -0.10841611185268306,
          -0.07705581617245592,
          -0.055623539196175735,
          -0.08302558003254214,
          -0.07908714808753693,
          -0.05842994263544869,
          -0.041081856654286875,
          -0.04977900948868585,
          -0.08432527564160927,
          -0.08679098762499049,
          -0.10320373080591942,
          -0.11212637609395565,
          -0.10049725396366364,
          -0.09840711439423189,
          -0.06860936531484466,
          -0.04540380102537223,
          -0.050234109154095985,
          -0.056797541001831965,
          -0.03607818644722406,
          -0.09234731792579697,
          -0.06957378857485383
         ],
         "xaxis": "x",
         "y": [
          0.024373949386005095,
          0.0529158320640915,
          0.009112157482108337,
          -0.002570403435165274,
          -0.009756522803733823,
          0.07093988143170389,
          0.039117292376919244,
          0.06601541317728638,
          0.20098343136901015,
          -0.000023650589760482772,
          0.02032832196170674,
          -0.01676356007633344,
          0.543303761251235,
          0.5361051976876927,
          0.5453403336608692,
          0.5035728282670011,
          0.08216493041528417,
          0.5032058064760708,
          0.5252008263023058,
          0.5085769030173533,
          0.17756267824149086,
          0.04262579961866446,
          0.03428476419496668,
          0.1218354937984296,
          0.5063002706968972,
          0.5161023421709934,
          0.5013617139186565,
          0.5041820376025224,
          0.5053952625784133,
          0.4853427195753106,
          0.4952190537602517,
          0.06841977300909163,
          0.055485615331538805,
          0.0880351307383211,
          0.0768822763703543,
          0.08649946363355998,
          0.04845921011908528,
          0.027614904379191365,
          0.03033534668401522,
          0.1535216486231341,
          0.3085464011842162,
          0.023282448132761223,
          0.12831215776478225,
          0.05961579281692508
         ],
         "yaxis": "y"
        },
        {
         "hovertemplate": "short_name=Globin,<br>x1_pca=%{x}<br>x2_pca=%{y}<extra></extra>",
         "legendgroup": "Globin,",
         "marker": {
          "color": "#90AD1C",
          "symbol": "circle"
         },
         "mode": "markers",
         "name": "Globin,",
         "orientation": "v",
         "showlegend": true,
         "type": "scatter",
         "x": [
          -0.052619751455446125,
          -0.03271072535335355
         ],
         "xaxis": "x",
         "y": [
          0.047692656676883875,
          0.01352422543549924
         ],
         "yaxis": "y"
        },
        {
         "hovertemplate": "short_name=ACYPI007228<br>x1_pca=%{x}<br>x2_pca=%{y}<extra></extra>",
         "legendgroup": "ACYPI007228",
         "marker": {
          "color": "#F6222E",
          "symbol": "circle"
         },
         "mode": "markers",
         "name": "ACYPI007228",
         "orientation": "v",
         "showlegend": true,
         "type": "scatter",
         "x": [
          -0.10942683637461416
         ],
         "xaxis": "x",
         "y": [
          0.03631039436378775
         ],
         "yaxis": "y"
        },
        {
         "hovertemplate": "short_name=Neuroglobin<br>x1_pca=%{x}<br>x2_pca=%{y}<extra></extra>",
         "legendgroup": "Neuroglobin",
         "marker": {
          "color": "#1CFFCE",
          "symbol": "circle"
         },
         "mode": "markers",
         "name": "Neuroglobin",
         "orientation": "v",
         "showlegend": true,
         "type": "scatter",
         "x": [
          -0.19356945701982756,
          -0.21058469132817023,
          -0.11325195878459472,
          -0.14168271561689483,
          -0.16372804426239576,
          -0.1664263295279295,
          -0.1891519938500998,
          -0.19158791046869586,
          -0.15268903324015187,
          -0.20221520681285157,
          -0.17347761524581434,
          -0.02589718998949665,
          -0.2059467786495107,
          -0.13014928675520931
         ],
         "xaxis": "x",
         "y": [
          -0.07407923135909718,
          -0.360461847969311,
          -0.22983057811263052,
          -0.302026677067705,
          -0.06905525976522257,
          -0.05795703856649754,
          -0.06685954401603687,
          -0.05879658608599936,
          -0.0477015665187009,
          -0.06957436345510329,
          -0.07430424534914858,
          -0.034173726015164545,
          -0.05350478484500076,
          -0.16478990183042125
         ],
         "yaxis": "y"
        },
        {
         "hovertemplate": "short_name=Predicted<br>x1_pca=%{x}<br>x2_pca=%{y}<extra></extra>",
         "legendgroup": "Predicted",
         "marker": {
          "color": "#2ED9FF",
          "symbol": "circle"
         },
         "mode": "markers",
         "name": "Predicted",
         "orientation": "v",
         "showlegend": true,
         "type": "scatter",
         "x": [
          -0.13473888808566883,
          -0.07828877952510785,
          -0.05939333154007223,
          -0.05540625581773883,
          -0.04320181592906433,
          -0.13403275829975553
         ],
         "xaxis": "x",
         "y": [
          -0.1271220981528469,
          -0.11805133489601109,
          -0.08417567261882428,
          -0.09252628983433313,
          -0.09284557996636872,
          -0.031775148113283976
         ],
         "yaxis": "y"
        },
        {
         "hovertemplate": "short_name=Putative<br>x1_pca=%{x}<br>x2_pca=%{y}<extra></extra>",
         "legendgroup": "Putative",
         "marker": {
          "color": "#B10DA1",
          "symbol": "circle"
         },
         "mode": "markers",
         "name": "Putative",
         "orientation": "v",
         "showlegend": true,
         "type": "scatter",
         "x": [
          -0.023673860220310986,
          -0.0021068617414563037,
          -0.07272750191649445,
          -0.05407188314225431,
          -0.06606527817814668,
          -0.09207247944199852,
          -0.030212393622860618,
          -0.05107897749575774,
          -0.0575485034464442,
          -0.08419830645052301
         ],
         "xaxis": "x",
         "y": [
          0.12203073509844878,
          -0.031664854971658205,
          -0.096931062303886,
          0.10331989648412244,
          0.22266554600233787,
          0.1781621481392533,
          -0.07212949984384458,
          -0.03831061099311759,
          0.5253895435267258,
          0.22112876113450194
         ],
         "yaxis": "y"
        },
        {
         "hovertemplate": "short_name=Cygb2_0<br>x1_pca=%{x}<br>x2_pca=%{y}<extra></extra>",
         "legendgroup": "Cygb2_0",
         "marker": {
          "color": "#C075A6",
          "symbol": "circle"
         },
         "mode": "markers",
         "name": "Cygb2_0",
         "orientation": "v",
         "showlegend": true,
         "type": "scatter",
         "x": [
          -0.026498477773560295
         ],
         "xaxis": "x",
         "y": [
          0.1630007504202451
         ],
         "yaxis": "y"
        },
        {
         "hovertemplate": "short_name=Cytoglobin<br>x1_pca=%{x}<br>x2_pca=%{y}<extra></extra>",
         "legendgroup": "Cytoglobin",
         "marker": {
          "color": "#FC1CBF",
          "symbol": "circle"
         },
         "mode": "markers",
         "name": "Cytoglobin",
         "orientation": "v",
         "showlegend": true,
         "type": "scatter",
         "x": [
          -0.05223953751959447,
          -0.007863770159582116,
          -0.03119762152778937,
          -0.13052661092230863,
          -0.0838554827343312,
          0.48603327273093244,
          0.5383643903522208,
          0.42644372826374005,
          0.5087315815603521,
          0.5020687510782713,
          0.5437819818273412,
          0.5118020194372768,
          0.5088125589823762,
          0.5339797265457323,
          0.5148607493591655,
          0.4965884966564764,
          0.49044280963467746,
          0.3935942799223168,
          0.42197901209981364,
          0.3758522994849239,
          0.3912797256802285,
          -0.16501144530161496,
          -0.20107793442905206,
          -0.03275055183431165,
          0.5294124959776358,
          -0.033427252619485294,
          0.44731732699789556,
          -0.05069478142654706,
          -0.04067783487998445
         ],
         "xaxis": "x",
         "y": [
          0.12378441187286024,
          0.1455622031160232,
          0.026657185765175114,
          -0.27430128102263795,
          0.013750145233289685,
          -0.060442015825248455,
          -0.04956323298031903,
          -0.02809443467518674,
          -0.05273810207844797,
          -0.06664831132978731,
          -0.0578291646337634,
          -0.06577028186845084,
          -0.07543408785660706,
          -0.062021523226053275,
          -0.05763571710940258,
          -0.0626012243395639,
          -0.08313395908574517,
          -0.0685688175958918,
          -0.05619917169658043,
          -0.0315987687277957,
          -0.027475806296123142,
          -0.3670898450841518,
          -0.3770389606451872,
          -0.04674419551316197,
          -0.07069502403991546,
          -0.02765719161044954,
          -0.09949379719045799,
          0.06677664784330849,
          -0.002166271486853566
         ],
         "yaxis": "y"
        },
        {
         "hovertemplate": "short_name=Cygb2<br>x1_pca=%{x}<br>x2_pca=%{y}<extra></extra>",
         "legendgroup": "Cygb2",
         "marker": {
          "color": "#B00068",
          "symbol": "circle"
         },
         "mode": "markers",
         "name": "Cygb2",
         "orientation": "v",
         "showlegend": true,
         "type": "scatter",
         "x": [
          0.5329283754148677
         ],
         "xaxis": "x",
         "y": [
          -0.06059418883282036
         ],
         "yaxis": "y"
        },
        {
         "hovertemplate": "short_name=ACYPI001485<br>x1_pca=%{x}<br>x2_pca=%{y}<extra></extra>",
         "legendgroup": "ACYPI001485",
         "marker": {
          "color": "#FBE426",
          "symbol": "circle"
         },
         "mode": "markers",
         "name": "ACYPI001485",
         "orientation": "v",
         "showlegend": true,
         "type": "scatter",
         "x": [
          -0.14883069612413585
         ],
         "xaxis": "x",
         "y": [
          -0.2651613516734962
         ],
         "yaxis": "y"
        },
        {
         "hovertemplate": "short_name=Hemin<br>x1_pca=%{x}<br>x2_pca=%{y}<extra></extra>",
         "legendgroup": "Hemin",
         "marker": {
          "color": "#FA0087",
          "symbol": "circle"
         },
         "mode": "markers",
         "name": "Hemin",
         "orientation": "v",
         "showlegend": true,
         "type": "scatter",
         "x": [
          -0.10628644199029423
         ],
         "xaxis": "x",
         "y": [
          -0.018534994538454107
         ],
         "yaxis": "y"
        },
        {
         "hovertemplate": "short_name=GbX1<br>x1_pca=%{x}<br>x2_pca=%{y}<extra></extra>",
         "legendgroup": "GbX1",
         "marker": {
          "color": "#AA0DFE",
          "symbol": "circle"
         },
         "mode": "markers",
         "name": "GbX1",
         "orientation": "v",
         "showlegend": true,
         "type": "scatter",
         "x": [
          -0.18843531127446692
         ],
         "xaxis": "x",
         "y": [
          -0.359850583845479
         ],
         "yaxis": "y"
        },
        {
         "hovertemplate": "short_name=GbX2<br>x1_pca=%{x}<br>x2_pca=%{y}<extra></extra>",
         "legendgroup": "GbX2",
         "marker": {
          "color": "#3283FE",
          "symbol": "circle"
         },
         "mode": "markers",
         "name": "GbX2",
         "orientation": "v",
         "showlegend": true,
         "type": "scatter",
         "x": [
          -0.18345972304353744
         ],
         "xaxis": "x",
         "y": [
          -0.31340070493259514
         ],
         "yaxis": "y"
        },
        {
         "hovertemplate": "short_name=Chromosome<br>x1_pca=%{x}<br>x2_pca=%{y}<extra></extra>",
         "legendgroup": "Chromosome",
         "marker": {
          "color": "#85660D",
          "symbol": "circle"
         },
         "mode": "markers",
         "name": "Chromosome",
         "orientation": "v",
         "showlegend": true,
         "type": "scatter",
         "x": [
          -0.20963195831634254
         ],
         "xaxis": "x",
         "y": [
          -0.35331166090073063
         ],
         "yaxis": "y"
        },
        {
         "hovertemplate": "short_name=Xgb<br>x1_pca=%{x}<br>x2_pca=%{y}<extra></extra>",
         "legendgroup": "Xgb",
         "marker": {
          "color": "#782AB6",
          "symbol": "circle"
         },
         "mode": "markers",
         "name": "Xgb",
         "orientation": "v",
         "showlegend": true,
         "type": "scatter",
         "x": [
          -0.22420389481863948
         ],
         "xaxis": "x",
         "y": [
          -0.3746441135452887
         ],
         "yaxis": "y"
        },
        {
         "hovertemplate": "short_name=ORF<br>x1_pca=%{x}<br>x2_pca=%{y}<extra></extra>",
         "legendgroup": "ORF",
         "marker": {
          "color": "#565656",
          "symbol": "circle"
         },
         "mode": "markers",
         "name": "ORF",
         "orientation": "v",
         "showlegend": true,
         "type": "scatter",
         "x": [
          -0.08246436367499206
         ],
         "xaxis": "x",
         "y": [
          0.1038047630989136
         ],
         "yaxis": "y"
        },
        {
         "hovertemplate": "short_name=Extracellular<br>x1_pca=%{x}<br>x2_pca=%{y}<extra></extra>",
         "legendgroup": "Extracellular",
         "marker": {
          "color": "#1C8356",
          "symbol": "circle"
         },
         "mode": "markers",
         "name": "Extracellular",
         "orientation": "v",
         "showlegend": true,
         "type": "scatter",
         "x": [
          -0.08461355653133992
         ],
         "xaxis": "x",
         "y": [
          0.09074646650621312
         ],
         "yaxis": "y"
        },
        {
         "hovertemplate": "short_name=Inactive<br>x1_pca=%{x}<br>x2_pca=%{y}<extra></extra>",
         "legendgroup": "Inactive",
         "marker": {
          "color": "#16FF32",
          "symbol": "circle"
         },
         "mode": "markers",
         "name": "Inactive",
         "orientation": "v",
         "showlegend": true,
         "type": "scatter",
         "x": [
          0.4893655598411731
         ],
         "xaxis": "x",
         "y": [
          -0.05055578947703276
         ],
         "yaxis": "y"
        },
        {
         "hovertemplate": "short_name=ARAD1D45562p<br>x1_pca=%{x}<br>x2_pca=%{y}<extra></extra>",
         "legendgroup": "ARAD1D45562p",
         "marker": {
          "color": "#F7E1A0",
          "symbol": "circle"
         },
         "mode": "markers",
         "name": "ARAD1D45562p",
         "orientation": "v",
         "showlegend": true,
         "type": "scatter",
         "x": [
          -0.09342873784012153
         ],
         "xaxis": "x",
         "y": [
          -0.0018894314994740216
         ],
         "yaxis": "y"
        },
        {
         "hovertemplate": "short_name=Nacrein<br>x1_pca=%{x}<br>x2_pca=%{y}<extra></extra>",
         "legendgroup": "Nacrein",
         "marker": {
          "color": "#E2E2E2",
          "symbol": "circle"
         },
         "mode": "markers",
         "name": "Nacrein",
         "orientation": "v",
         "showlegend": true,
         "type": "scatter",
         "x": [
          -0.11263823111252821
         ],
         "xaxis": "x",
         "y": [
          -0.27142159577072045
         ],
         "yaxis": "y"
        },
        {
         "hovertemplate": "short_name=CYFA0S05e02454g1_1<br>x1_pca=%{x}<br>x2_pca=%{y}<extra></extra>",
         "legendgroup": "CYFA0S05e02454g1_1",
         "marker": {
          "color": "#1CBE4F",
          "symbol": "circle"
         },
         "mode": "markers",
         "name": "CYFA0S05e02454g1_1",
         "orientation": "v",
         "showlegend": true,
         "type": "scatter",
         "x": [
          -0.11334685018990491
         ],
         "xaxis": "x",
         "y": [
          0.013672173021518956
         ],
         "yaxis": "y"
        },
        {
         "hovertemplate": "short_name=Protein<br>x1_pca=%{x}<br>x2_pca=%{y}<extra></extra>",
         "legendgroup": "Protein",
         "marker": {
          "color": "#C4451C",
          "symbol": "circle"
         },
         "mode": "markers",
         "name": "Protein",
         "orientation": "v",
         "showlegend": true,
         "type": "scatter",
         "x": [
          -0.08740872064421834
         ],
         "xaxis": "x",
         "y": [
          -0.055721095206008694
         ],
         "yaxis": "y"
        },
        {
         "hovertemplate": "short_name=Cre<br>x1_pca=%{x}<br>x2_pca=%{y}<extra></extra>",
         "legendgroup": "Cre",
         "marker": {
          "color": "#DEA0FD",
          "symbol": "circle"
         },
         "mode": "markers",
         "name": "Cre",
         "orientation": "v",
         "showlegend": true,
         "type": "scatter",
         "x": [
          -0.05579045298709854
         ],
         "xaxis": "x",
         "y": [
          -0.07214627941864817
         ],
         "yaxis": "y"
        },
        {
         "hovertemplate": "short_name=Metalloendopeptidase<br>x1_pca=%{x}<br>x2_pca=%{y}<extra></extra>",
         "legendgroup": "Metalloendopeptidase",
         "marker": {
          "color": "#FE00FA",
          "symbol": "circle"
         },
         "mode": "markers",
         "name": "Metalloendopeptidase",
         "orientation": "v",
         "showlegend": true,
         "type": "scatter",
         "x": [
          -0.12041841152175643
         ],
         "xaxis": "x",
         "y": [
          -0.03537488996219339
         ],
         "yaxis": "y"
        }
       ],
       "layout": {
        "legend": {
         "title": {
          "text": "short_name"
         },
         "tracegroupgap": 0
        },
        "margin": {
         "t": 60
        },
        "template": {
         "data": {
          "bar": [
           {
            "error_x": {
             "color": "#2a3f5f"
            },
            "error_y": {
             "color": "#2a3f5f"
            },
            "marker": {
             "line": {
              "color": "#E5ECF6",
              "width": 0.5
             },
             "pattern": {
              "fillmode": "overlay",
              "size": 10,
              "solidity": 0.2
             }
            },
            "type": "bar"
           }
          ],
          "barpolar": [
           {
            "marker": {
             "line": {
              "color": "#E5ECF6",
              "width": 0.5
             },
             "pattern": {
              "fillmode": "overlay",
              "size": 10,
              "solidity": 0.2
             }
            },
            "type": "barpolar"
           }
          ],
          "carpet": [
           {
            "aaxis": {
             "endlinecolor": "#2a3f5f",
             "gridcolor": "white",
             "linecolor": "white",
             "minorgridcolor": "white",
             "startlinecolor": "#2a3f5f"
            },
            "baxis": {
             "endlinecolor": "#2a3f5f",
             "gridcolor": "white",
             "linecolor": "white",
             "minorgridcolor": "white",
             "startlinecolor": "#2a3f5f"
            },
            "type": "carpet"
           }
          ],
          "choropleth": [
           {
            "colorbar": {
             "outlinewidth": 0,
             "ticks": ""
            },
            "type": "choropleth"
           }
          ],
          "contour": [
           {
            "colorbar": {
             "outlinewidth": 0,
             "ticks": ""
            },
            "colorscale": [
             [
              0,
              "#0d0887"
             ],
             [
              0.1111111111111111,
              "#46039f"
             ],
             [
              0.2222222222222222,
              "#7201a8"
             ],
             [
              0.3333333333333333,
              "#9c179e"
             ],
             [
              0.4444444444444444,
              "#bd3786"
             ],
             [
              0.5555555555555556,
              "#d8576b"
             ],
             [
              0.6666666666666666,
              "#ed7953"
             ],
             [
              0.7777777777777778,
              "#fb9f3a"
             ],
             [
              0.8888888888888888,
              "#fdca26"
             ],
             [
              1,
              "#f0f921"
             ]
            ],
            "type": "contour"
           }
          ],
          "contourcarpet": [
           {
            "colorbar": {
             "outlinewidth": 0,
             "ticks": ""
            },
            "type": "contourcarpet"
           }
          ],
          "heatmap": [
           {
            "colorbar": {
             "outlinewidth": 0,
             "ticks": ""
            },
            "colorscale": [
             [
              0,
              "#0d0887"
             ],
             [
              0.1111111111111111,
              "#46039f"
             ],
             [
              0.2222222222222222,
              "#7201a8"
             ],
             [
              0.3333333333333333,
              "#9c179e"
             ],
             [
              0.4444444444444444,
              "#bd3786"
             ],
             [
              0.5555555555555556,
              "#d8576b"
             ],
             [
              0.6666666666666666,
              "#ed7953"
             ],
             [
              0.7777777777777778,
              "#fb9f3a"
             ],
             [
              0.8888888888888888,
              "#fdca26"
             ],
             [
              1,
              "#f0f921"
             ]
            ],
            "type": "heatmap"
           }
          ],
          "heatmapgl": [
           {
            "colorbar": {
             "outlinewidth": 0,
             "ticks": ""
            },
            "colorscale": [
             [
              0,
              "#0d0887"
             ],
             [
              0.1111111111111111,
              "#46039f"
             ],
             [
              0.2222222222222222,
              "#7201a8"
             ],
             [
              0.3333333333333333,
              "#9c179e"
             ],
             [
              0.4444444444444444,
              "#bd3786"
             ],
             [
              0.5555555555555556,
              "#d8576b"
             ],
             [
              0.6666666666666666,
              "#ed7953"
             ],
             [
              0.7777777777777778,
              "#fb9f3a"
             ],
             [
              0.8888888888888888,
              "#fdca26"
             ],
             [
              1,
              "#f0f921"
             ]
            ],
            "type": "heatmapgl"
           }
          ],
          "histogram": [
           {
            "marker": {
             "pattern": {
              "fillmode": "overlay",
              "size": 10,
              "solidity": 0.2
             }
            },
            "type": "histogram"
           }
          ],
          "histogram2d": [
           {
            "colorbar": {
             "outlinewidth": 0,
             "ticks": ""
            },
            "colorscale": [
             [
              0,
              "#0d0887"
             ],
             [
              0.1111111111111111,
              "#46039f"
             ],
             [
              0.2222222222222222,
              "#7201a8"
             ],
             [
              0.3333333333333333,
              "#9c179e"
             ],
             [
              0.4444444444444444,
              "#bd3786"
             ],
             [
              0.5555555555555556,
              "#d8576b"
             ],
             [
              0.6666666666666666,
              "#ed7953"
             ],
             [
              0.7777777777777778,
              "#fb9f3a"
             ],
             [
              0.8888888888888888,
              "#fdca26"
             ],
             [
              1,
              "#f0f921"
             ]
            ],
            "type": "histogram2d"
           }
          ],
          "histogram2dcontour": [
           {
            "colorbar": {
             "outlinewidth": 0,
             "ticks": ""
            },
            "colorscale": [
             [
              0,
              "#0d0887"
             ],
             [
              0.1111111111111111,
              "#46039f"
             ],
             [
              0.2222222222222222,
              "#7201a8"
             ],
             [
              0.3333333333333333,
              "#9c179e"
             ],
             [
              0.4444444444444444,
              "#bd3786"
             ],
             [
              0.5555555555555556,
              "#d8576b"
             ],
             [
              0.6666666666666666,
              "#ed7953"
             ],
             [
              0.7777777777777778,
              "#fb9f3a"
             ],
             [
              0.8888888888888888,
              "#fdca26"
             ],
             [
              1,
              "#f0f921"
             ]
            ],
            "type": "histogram2dcontour"
           }
          ],
          "mesh3d": [
           {
            "colorbar": {
             "outlinewidth": 0,
             "ticks": ""
            },
            "type": "mesh3d"
           }
          ],
          "parcoords": [
           {
            "line": {
             "colorbar": {
              "outlinewidth": 0,
              "ticks": ""
             }
            },
            "type": "parcoords"
           }
          ],
          "pie": [
           {
            "automargin": true,
            "type": "pie"
           }
          ],
          "scatter": [
           {
            "fillpattern": {
             "fillmode": "overlay",
             "size": 10,
             "solidity": 0.2
            },
            "type": "scatter"
           }
          ],
          "scatter3d": [
           {
            "line": {
             "colorbar": {
              "outlinewidth": 0,
              "ticks": ""
             }
            },
            "marker": {
             "colorbar": {
              "outlinewidth": 0,
              "ticks": ""
             }
            },
            "type": "scatter3d"
           }
          ],
          "scattercarpet": [
           {
            "marker": {
             "colorbar": {
              "outlinewidth": 0,
              "ticks": ""
             }
            },
            "type": "scattercarpet"
           }
          ],
          "scattergeo": [
           {
            "marker": {
             "colorbar": {
              "outlinewidth": 0,
              "ticks": ""
             }
            },
            "type": "scattergeo"
           }
          ],
          "scattergl": [
           {
            "marker": {
             "colorbar": {
              "outlinewidth": 0,
              "ticks": ""
             }
            },
            "type": "scattergl"
           }
          ],
          "scattermapbox": [
           {
            "marker": {
             "colorbar": {
              "outlinewidth": 0,
              "ticks": ""
             }
            },
            "type": "scattermapbox"
           }
          ],
          "scatterpolar": [
           {
            "marker": {
             "colorbar": {
              "outlinewidth": 0,
              "ticks": ""
             }
            },
            "type": "scatterpolar"
           }
          ],
          "scatterpolargl": [
           {
            "marker": {
             "colorbar": {
              "outlinewidth": 0,
              "ticks": ""
             }
            },
            "type": "scatterpolargl"
           }
          ],
          "scatterternary": [
           {
            "marker": {
             "colorbar": {
              "outlinewidth": 0,
              "ticks": ""
             }
            },
            "type": "scatterternary"
           }
          ],
          "surface": [
           {
            "colorbar": {
             "outlinewidth": 0,
             "ticks": ""
            },
            "colorscale": [
             [
              0,
              "#0d0887"
             ],
             [
              0.1111111111111111,
              "#46039f"
             ],
             [
              0.2222222222222222,
              "#7201a8"
             ],
             [
              0.3333333333333333,
              "#9c179e"
             ],
             [
              0.4444444444444444,
              "#bd3786"
             ],
             [
              0.5555555555555556,
              "#d8576b"
             ],
             [
              0.6666666666666666,
              "#ed7953"
             ],
             [
              0.7777777777777778,
              "#fb9f3a"
             ],
             [
              0.8888888888888888,
              "#fdca26"
             ],
             [
              1,
              "#f0f921"
             ]
            ],
            "type": "surface"
           }
          ],
          "table": [
           {
            "cells": {
             "fill": {
              "color": "#EBF0F8"
             },
             "line": {
              "color": "white"
             }
            },
            "header": {
             "fill": {
              "color": "#C8D4E3"
             },
             "line": {
              "color": "white"
             }
            },
            "type": "table"
           }
          ]
         },
         "layout": {
          "annotationdefaults": {
           "arrowcolor": "#2a3f5f",
           "arrowhead": 0,
           "arrowwidth": 1
          },
          "autotypenumbers": "strict",
          "coloraxis": {
           "colorbar": {
            "outlinewidth": 0,
            "ticks": ""
           }
          },
          "colorscale": {
           "diverging": [
            [
             0,
             "#8e0152"
            ],
            [
             0.1,
             "#c51b7d"
            ],
            [
             0.2,
             "#de77ae"
            ],
            [
             0.3,
             "#f1b6da"
            ],
            [
             0.4,
             "#fde0ef"
            ],
            [
             0.5,
             "#f7f7f7"
            ],
            [
             0.6,
             "#e6f5d0"
            ],
            [
             0.7,
             "#b8e186"
            ],
            [
             0.8,
             "#7fbc41"
            ],
            [
             0.9,
             "#4d9221"
            ],
            [
             1,
             "#276419"
            ]
           ],
           "sequential": [
            [
             0,
             "#0d0887"
            ],
            [
             0.1111111111111111,
             "#46039f"
            ],
            [
             0.2222222222222222,
             "#7201a8"
            ],
            [
             0.3333333333333333,
             "#9c179e"
            ],
            [
             0.4444444444444444,
             "#bd3786"
            ],
            [
             0.5555555555555556,
             "#d8576b"
            ],
            [
             0.6666666666666666,
             "#ed7953"
            ],
            [
             0.7777777777777778,
             "#fb9f3a"
            ],
            [
             0.8888888888888888,
             "#fdca26"
            ],
            [
             1,
             "#f0f921"
            ]
           ],
           "sequentialminus": [
            [
             0,
             "#0d0887"
            ],
            [
             0.1111111111111111,
             "#46039f"
            ],
            [
             0.2222222222222222,
             "#7201a8"
            ],
            [
             0.3333333333333333,
             "#9c179e"
            ],
            [
             0.4444444444444444,
             "#bd3786"
            ],
            [
             0.5555555555555556,
             "#d8576b"
            ],
            [
             0.6666666666666666,
             "#ed7953"
            ],
            [
             0.7777777777777778,
             "#fb9f3a"
            ],
            [
             0.8888888888888888,
             "#fdca26"
            ],
            [
             1,
             "#f0f921"
            ]
           ]
          },
          "colorway": [
           "#636efa",
           "#EF553B",
           "#00cc96",
           "#ab63fa",
           "#FFA15A",
           "#19d3f3",
           "#FF6692",
           "#B6E880",
           "#FF97FF",
           "#FECB52"
          ],
          "font": {
           "color": "#2a3f5f"
          },
          "geo": {
           "bgcolor": "white",
           "lakecolor": "white",
           "landcolor": "#E5ECF6",
           "showlakes": true,
           "showland": true,
           "subunitcolor": "white"
          },
          "hoverlabel": {
           "align": "left"
          },
          "hovermode": "closest",
          "mapbox": {
           "style": "light"
          },
          "paper_bgcolor": "white",
          "plot_bgcolor": "#E5ECF6",
          "polar": {
           "angularaxis": {
            "gridcolor": "white",
            "linecolor": "white",
            "ticks": ""
           },
           "bgcolor": "#E5ECF6",
           "radialaxis": {
            "gridcolor": "white",
            "linecolor": "white",
            "ticks": ""
           }
          },
          "scene": {
           "xaxis": {
            "backgroundcolor": "#E5ECF6",
            "gridcolor": "white",
            "gridwidth": 2,
            "linecolor": "white",
            "showbackground": true,
            "ticks": "",
            "zerolinecolor": "white"
           },
           "yaxis": {
            "backgroundcolor": "#E5ECF6",
            "gridcolor": "white",
            "gridwidth": 2,
            "linecolor": "white",
            "showbackground": true,
            "ticks": "",
            "zerolinecolor": "white"
           },
           "zaxis": {
            "backgroundcolor": "#E5ECF6",
            "gridcolor": "white",
            "gridwidth": 2,
            "linecolor": "white",
            "showbackground": true,
            "ticks": "",
            "zerolinecolor": "white"
           }
          },
          "shapedefaults": {
           "line": {
            "color": "#2a3f5f"
           }
          },
          "ternary": {
           "aaxis": {
            "gridcolor": "white",
            "linecolor": "white",
            "ticks": ""
           },
           "baxis": {
            "gridcolor": "white",
            "linecolor": "white",
            "ticks": ""
           },
           "bgcolor": "#E5ECF6",
           "caxis": {
            "gridcolor": "white",
            "linecolor": "white",
            "ticks": ""
           }
          },
          "title": {
           "x": 0.05
          },
          "xaxis": {
           "automargin": true,
           "gridcolor": "white",
           "linecolor": "white",
           "ticks": "",
           "title": {
            "standoff": 15
           },
           "zerolinecolor": "white",
           "zerolinewidth": 2
          },
          "yaxis": {
           "automargin": true,
           "gridcolor": "white",
           "linecolor": "white",
           "ticks": "",
           "title": {
            "standoff": 15
           },
           "zerolinecolor": "white",
           "zerolinewidth": 2
          }
         }
        },
        "xaxis": {
         "anchor": "y",
         "domain": [
          0,
          1
         ],
         "title": {
          "text": "x1_pca"
         }
        },
        "yaxis": {
         "anchor": "x",
         "domain": [
          0,
          1
         ],
         "scaleanchor": "x",
         "scaleratio": 1,
         "title": {
          "text": "x2_pca"
         }
        }
       }
      },
      "text/html": [
       "<div>                            <div id=\"729df524-c2b1-4a78-b29e-57cf469cd80d\" class=\"plotly-graph-div\" style=\"height:525px; width:100%;\"></div>            <script type=\"text/javascript\">                require([\"plotly\"], function(Plotly) {                    window.PLOTLYENV=window.PLOTLYENV || {};                                    if (document.getElementById(\"729df524-c2b1-4a78-b29e-57cf469cd80d\")) {                    Plotly.newPlot(                        \"729df524-c2b1-4a78-b29e-57cf469cd80d\",                        [{\"hovertemplate\":\"short_name=Globin<br>x1_pca=%{x}<br>x2_pca=%{y}<extra></extra>\",\"legendgroup\":\"Globin\",\"marker\":{\"color\":\"#325A9B\",\"symbol\":\"circle\"},\"mode\":\"markers\",\"name\":\"Globin\",\"orientation\":\"v\",\"showlegend\":true,\"x\":[-0.06305513543529705,-0.047890224876186924,-0.04873664252816814,-0.04275430098107574,-0.03753501061564372,-0.016198549615379764,-0.02955129510049442,-0.05515824512042926,-0.028494506348439988,-0.14127706371897386,-0.11989941944813569,-0.027183944690529205,0.006618384540131856,-0.04023450649632306,-0.07815151312457555,-0.09777956119853269,-0.11833594430483999,-0.11937159351021166,-0.06909988018658215,-0.07326851172118487,-0.09272376880718558,-0.09942000416625289,-0.10476892501630138,-0.10223028919867537,-0.09416667329261424,-0.029676633067923314,-0.03684296325169658,-0.05466653041897247,0.10097876463694526,0.10633055016448534,-0.06749113993975074,-0.05668800416641973,-0.061505767911672775,0.009693065980410849,-0.041769823577510704,0.027435336310265946,-0.014065181241908628,-0.0437045279315498,-0.09273827219614131,-0.04295525851027714,0.0070038861496882305,-0.07472975645440626],\"xaxis\":\"x\",\"y\":[0.025768270147098375,0.11512167725684129,0.050540838672906686,0.10339704242876618,-0.04939448766621087,0.16460502039034827,0.10897576101570959,0.1484596853996582,0.046878281087304075,-0.011936376748639729,-0.0157330491389618,-0.041031762398789626,0.012710606977624883,0.031239488162077115,0.08395686239499725,0.08421382530619916,0.10267068508544572,0.10173425150109743,0.0802201899819211,0.10240069897359044,0.09709511513348816,0.1218042056767957,0.07211137024814146,0.09222358702137913,-0.23561872977650736,-0.02282919767620729,-0.014423803545790733,-0.03195918370696134,-0.03841858236882538,-0.023932000640384768,-0.0006703517314304837,0.008091521485649587,0.13094633961369978,0.07274324811339912,0.11232920639987824,0.01369585364158714,-0.038889183270874185,-0.015301241874962157,0.14837213822213866,-0.009067978457223647,-0.04053776110438962,-0.016260584017884935],\"yaxis\":\"y\",\"type\":\"scatter\"},{\"hovertemplate\":\"short_name=Uncharacterized<br>x1_pca=%{x}<br>x2_pca=%{y}<extra></extra>\",\"legendgroup\":\"Uncharacterized\",\"marker\":{\"color\":\"#FEAF16\",\"symbol\":\"circle\"},\"mode\":\"markers\",\"name\":\"Uncharacterized\",\"orientation\":\"v\",\"showlegend\":true,\"x\":[-0.04988053408458242,-0.10927588824165939,-0.08923303043351993,-0.021000258903738134,-0.025282158747100082,-0.036979139325575075,0.016513208860970637,-0.027229269075419654,-0.08280832020008216,-0.0703540709639968,0.011318772842352096,0.02657762906223067,-0.023477029611348208,-0.006987737252995124,0.03948645057385685,-0.11231163480481675,-0.03164176426156349,0.555556287748349,0.48206767053826005,0.4872335580863562,0.47810697893173704,0.43398462325038706,0.4716947253606287,0.5081305212178188,0.5357527355398343,0.5364121442551457,0.48766017313322163,0.5228114268860902,0.3838480128491915,-0.14061934044395902,-0.1314079032499188,-0.09744313276978611,-0.09999076627248123,-0.13845896999628485,0.05123017514563875,-0.21928636802299595,-0.17263389371864302,-0.17879620424747836,-0.2036314445889982,-0.20899154495508998,-0.1849019354010933,-0.21321601351531455,-0.20938557834050084,-0.0511607575770477,-0.03476708668194305,-0.021051318939777693,-0.020729361236341896,0.1576504192760543,0.1570485738465714,0.14279841614223035,0.045888708006101966,0.11311441499007394,0.11076636656145501,0.12970880808480093,-0.11274683159038926,-0.03638993293851541,-0.014961685939238365,-0.06794952881163778,-0.06088079944669605,-0.13376387462585632,-0.1897353017746474,-0.1730402072254903,-0.1717741176457864,-0.18009537344027673,-0.13808409803074023,0.020552568994721382,-0.06565318010105986,-0.04072299762894262,-0.13206879219496878,-0.06136273632734722,-0.0545225050394865,-0.10539874230994581,-0.12257474326642917,-0.04937151112301548,-0.04614012487607399,-0.10853841482933115,0.0593199149251588,-0.10915454225201263,-0.09270123754613774,-0.04160013277493042,-0.020217888625862934,-0.02335334103678952,-0.14908005424399004,-0.17179188433561138,-0.15921471948232357,-0.15791831000733053,-0.08566998776592696],\"xaxis\":\"x\",\"y\":[-0.012098617979128111,0.02965602954343198,0.04153506910239288,-0.03656319513603923,-0.01668066304599519,0.043721504093926986,0.005799350671566802,-0.012576791122183673,-0.0034421493772437,0.0030685352242907768,-0.0711438935610157,-0.054621852977227096,0.16494682709825195,0.03739879233789081,0.044781768291274386,-0.03450919818780353,0.07536074093958212,-0.06859758244393761,-0.05988413784464822,-0.04173245036610609,-0.06122130676075118,-0.09186142078848737,-0.04777023401396465,-0.08100992877969504,-0.0793226716350136,-0.06949623587058347,-0.08632087099691406,-0.06693703602904022,-0.04896386135763627,-0.3052874705844647,-0.3041966827906932,-0.23519508232076028,-0.2010113476291815,-0.25040770471698187,0.025538123882007668,-0.36010352401541634,-0.3359598567095359,-0.3441609534484203,-0.38853392526693187,-0.32654117407216315,-0.31604275221001865,-0.3948690594157531,-0.35860552577026833,-0.039033724902257115,-0.01788891651862358,-0.037407103595283576,0.01274421678978787,0.006486365229904017,-0.024614028387597887,-0.023085577505579522,0.047310473141698624,-0.029782432729874565,-0.032505133550617384,-0.011176791064764349,-0.23604286617536857,0.031614203472951116,7.43354971669738e-05,-0.05572253907941788,-0.07242719096507755,-0.06905015824561869,-0.07404849361738627,-0.07182932959914998,-0.06659267263355279,-0.05203036792967607,-0.07908084732926973,0.05492248609667506,0.2246882829554232,-0.027101598234702276,-0.2625224377148011,-0.1986213704587655,-0.007450002924429957,0.0533690870672092,-0.15008970626707963,-0.0030070563451927036,-0.0428108791251286,-0.06681728147176051,0.05924224877985236,-0.06189375155867063,-0.06556992705672236,0.008152918420472728,0.04284966389976379,0.07918792801651459,-0.050804520472812344,-0.03912912169360329,-0.08894377843736896,-0.042392597856354505,-0.06675740602862928],\"yaxis\":\"y\",\"type\":\"scatter\"},{\"hovertemplate\":\"short_name=Hemoglobin<br>x1_pca=%{x}<br>x2_pca=%{y}<extra></extra>\",\"legendgroup\":\"Hemoglobin\",\"marker\":{\"color\":\"#F8A19F\",\"symbol\":\"circle\"},\"mode\":\"markers\",\"name\":\"Hemoglobin\",\"orientation\":\"v\",\"showlegend\":true,\"x\":[-0.09035834527841348,-0.027106358770712265,-0.019381271970467302,-0.028667342052379554,-0.02005902970939926,-0.025501448696127926,-0.04188400385899126,-0.060242565447247744,-0.11176485218310239,0.16866886124536715,0.04019589370252034,0.08871079656776708,-0.04502461706094699,-0.048055383577114016,-0.05321593638305679,-0.07303605012311376,-0.03230306131008507,-0.04945986556448109,-0.05038240136294149,-0.0482281558790311,-0.056367859462070874,0.011809735046207906,-0.12414382846520561,-0.10841611185268306,-0.07705581617245592,-0.055623539196175735,-0.08302558003254214,-0.07908714808753693,-0.05842994263544869,-0.041081856654286875,-0.04977900948868585,-0.08432527564160927,-0.08679098762499049,-0.10320373080591942,-0.11212637609395565,-0.10049725396366364,-0.09840711439423189,-0.06860936531484466,-0.04540380102537223,-0.050234109154095985,-0.056797541001831965,-0.03607818644722406,-0.09234731792579697,-0.06957378857485383],\"xaxis\":\"x\",\"y\":[0.024373949386005095,0.0529158320640915,0.009112157482108337,-0.002570403435165274,-0.009756522803733823,0.07093988143170389,0.039117292376919244,0.06601541317728638,0.20098343136901015,-2.3650589760482772e-05,0.02032832196170674,-0.01676356007633344,0.543303761251235,0.5361051976876927,0.5453403336608692,0.5035728282670011,0.08216493041528417,0.5032058064760708,0.5252008263023058,0.5085769030173533,0.17756267824149086,0.04262579961866446,0.03428476419496668,0.1218354937984296,0.5063002706968972,0.5161023421709934,0.5013617139186565,0.5041820376025224,0.5053952625784133,0.4853427195753106,0.4952190537602517,0.06841977300909163,0.055485615331538805,0.0880351307383211,0.0768822763703543,0.08649946363355998,0.04845921011908528,0.027614904379191365,0.03033534668401522,0.1535216486231341,0.3085464011842162,0.023282448132761223,0.12831215776478225,0.05961579281692508],\"yaxis\":\"y\",\"type\":\"scatter\"},{\"hovertemplate\":\"short_name=Globin,<br>x1_pca=%{x}<br>x2_pca=%{y}<extra></extra>\",\"legendgroup\":\"Globin,\",\"marker\":{\"color\":\"#90AD1C\",\"symbol\":\"circle\"},\"mode\":\"markers\",\"name\":\"Globin,\",\"orientation\":\"v\",\"showlegend\":true,\"x\":[-0.052619751455446125,-0.03271072535335355],\"xaxis\":\"x\",\"y\":[0.047692656676883875,0.01352422543549924],\"yaxis\":\"y\",\"type\":\"scatter\"},{\"hovertemplate\":\"short_name=ACYPI007228<br>x1_pca=%{x}<br>x2_pca=%{y}<extra></extra>\",\"legendgroup\":\"ACYPI007228\",\"marker\":{\"color\":\"#F6222E\",\"symbol\":\"circle\"},\"mode\":\"markers\",\"name\":\"ACYPI007228\",\"orientation\":\"v\",\"showlegend\":true,\"x\":[-0.10942683637461416],\"xaxis\":\"x\",\"y\":[0.03631039436378775],\"yaxis\":\"y\",\"type\":\"scatter\"},{\"hovertemplate\":\"short_name=Neuroglobin<br>x1_pca=%{x}<br>x2_pca=%{y}<extra></extra>\",\"legendgroup\":\"Neuroglobin\",\"marker\":{\"color\":\"#1CFFCE\",\"symbol\":\"circle\"},\"mode\":\"markers\",\"name\":\"Neuroglobin\",\"orientation\":\"v\",\"showlegend\":true,\"x\":[-0.19356945701982756,-0.21058469132817023,-0.11325195878459472,-0.14168271561689483,-0.16372804426239576,-0.1664263295279295,-0.1891519938500998,-0.19158791046869586,-0.15268903324015187,-0.20221520681285157,-0.17347761524581434,-0.02589718998949665,-0.2059467786495107,-0.13014928675520931],\"xaxis\":\"x\",\"y\":[-0.07407923135909718,-0.360461847969311,-0.22983057811263052,-0.302026677067705,-0.06905525976522257,-0.05795703856649754,-0.06685954401603687,-0.05879658608599936,-0.0477015665187009,-0.06957436345510329,-0.07430424534914858,-0.034173726015164545,-0.05350478484500076,-0.16478990183042125],\"yaxis\":\"y\",\"type\":\"scatter\"},{\"hovertemplate\":\"short_name=Predicted<br>x1_pca=%{x}<br>x2_pca=%{y}<extra></extra>\",\"legendgroup\":\"Predicted\",\"marker\":{\"color\":\"#2ED9FF\",\"symbol\":\"circle\"},\"mode\":\"markers\",\"name\":\"Predicted\",\"orientation\":\"v\",\"showlegend\":true,\"x\":[-0.13473888808566883,-0.07828877952510785,-0.05939333154007223,-0.05540625581773883,-0.04320181592906433,-0.13403275829975553],\"xaxis\":\"x\",\"y\":[-0.1271220981528469,-0.11805133489601109,-0.08417567261882428,-0.09252628983433313,-0.09284557996636872,-0.031775148113283976],\"yaxis\":\"y\",\"type\":\"scatter\"},{\"hovertemplate\":\"short_name=Putative<br>x1_pca=%{x}<br>x2_pca=%{y}<extra></extra>\",\"legendgroup\":\"Putative\",\"marker\":{\"color\":\"#B10DA1\",\"symbol\":\"circle\"},\"mode\":\"markers\",\"name\":\"Putative\",\"orientation\":\"v\",\"showlegend\":true,\"x\":[-0.023673860220310986,-0.0021068617414563037,-0.07272750191649445,-0.05407188314225431,-0.06606527817814668,-0.09207247944199852,-0.030212393622860618,-0.05107897749575774,-0.0575485034464442,-0.08419830645052301],\"xaxis\":\"x\",\"y\":[0.12203073509844878,-0.031664854971658205,-0.096931062303886,0.10331989648412244,0.22266554600233787,0.1781621481392533,-0.07212949984384458,-0.03831061099311759,0.5253895435267258,0.22112876113450194],\"yaxis\":\"y\",\"type\":\"scatter\"},{\"hovertemplate\":\"short_name=Cygb2_0<br>x1_pca=%{x}<br>x2_pca=%{y}<extra></extra>\",\"legendgroup\":\"Cygb2_0\",\"marker\":{\"color\":\"#C075A6\",\"symbol\":\"circle\"},\"mode\":\"markers\",\"name\":\"Cygb2_0\",\"orientation\":\"v\",\"showlegend\":true,\"x\":[-0.026498477773560295],\"xaxis\":\"x\",\"y\":[0.1630007504202451],\"yaxis\":\"y\",\"type\":\"scatter\"},{\"hovertemplate\":\"short_name=Cytoglobin<br>x1_pca=%{x}<br>x2_pca=%{y}<extra></extra>\",\"legendgroup\":\"Cytoglobin\",\"marker\":{\"color\":\"#FC1CBF\",\"symbol\":\"circle\"},\"mode\":\"markers\",\"name\":\"Cytoglobin\",\"orientation\":\"v\",\"showlegend\":true,\"x\":[-0.05223953751959447,-0.007863770159582116,-0.03119762152778937,-0.13052661092230863,-0.0838554827343312,0.48603327273093244,0.5383643903522208,0.42644372826374005,0.5087315815603521,0.5020687510782713,0.5437819818273412,0.5118020194372768,0.5088125589823762,0.5339797265457323,0.5148607493591655,0.4965884966564764,0.49044280963467746,0.3935942799223168,0.42197901209981364,0.3758522994849239,0.3912797256802285,-0.16501144530161496,-0.20107793442905206,-0.03275055183431165,0.5294124959776358,-0.033427252619485294,0.44731732699789556,-0.05069478142654706,-0.04067783487998445],\"xaxis\":\"x\",\"y\":[0.12378441187286024,0.1455622031160232,0.026657185765175114,-0.27430128102263795,0.013750145233289685,-0.060442015825248455,-0.04956323298031903,-0.02809443467518674,-0.05273810207844797,-0.06664831132978731,-0.0578291646337634,-0.06577028186845084,-0.07543408785660706,-0.062021523226053275,-0.05763571710940258,-0.0626012243395639,-0.08313395908574517,-0.0685688175958918,-0.05619917169658043,-0.0315987687277957,-0.027475806296123142,-0.3670898450841518,-0.3770389606451872,-0.04674419551316197,-0.07069502403991546,-0.02765719161044954,-0.09949379719045799,0.06677664784330849,-0.002166271486853566],\"yaxis\":\"y\",\"type\":\"scatter\"},{\"hovertemplate\":\"short_name=Cygb2<br>x1_pca=%{x}<br>x2_pca=%{y}<extra></extra>\",\"legendgroup\":\"Cygb2\",\"marker\":{\"color\":\"#B00068\",\"symbol\":\"circle\"},\"mode\":\"markers\",\"name\":\"Cygb2\",\"orientation\":\"v\",\"showlegend\":true,\"x\":[0.5329283754148677],\"xaxis\":\"x\",\"y\":[-0.06059418883282036],\"yaxis\":\"y\",\"type\":\"scatter\"},{\"hovertemplate\":\"short_name=ACYPI001485<br>x1_pca=%{x}<br>x2_pca=%{y}<extra></extra>\",\"legendgroup\":\"ACYPI001485\",\"marker\":{\"color\":\"#FBE426\",\"symbol\":\"circle\"},\"mode\":\"markers\",\"name\":\"ACYPI001485\",\"orientation\":\"v\",\"showlegend\":true,\"x\":[-0.14883069612413585],\"xaxis\":\"x\",\"y\":[-0.2651613516734962],\"yaxis\":\"y\",\"type\":\"scatter\"},{\"hovertemplate\":\"short_name=Hemin<br>x1_pca=%{x}<br>x2_pca=%{y}<extra></extra>\",\"legendgroup\":\"Hemin\",\"marker\":{\"color\":\"#FA0087\",\"symbol\":\"circle\"},\"mode\":\"markers\",\"name\":\"Hemin\",\"orientation\":\"v\",\"showlegend\":true,\"x\":[-0.10628644199029423],\"xaxis\":\"x\",\"y\":[-0.018534994538454107],\"yaxis\":\"y\",\"type\":\"scatter\"},{\"hovertemplate\":\"short_name=GbX1<br>x1_pca=%{x}<br>x2_pca=%{y}<extra></extra>\",\"legendgroup\":\"GbX1\",\"marker\":{\"color\":\"#AA0DFE\",\"symbol\":\"circle\"},\"mode\":\"markers\",\"name\":\"GbX1\",\"orientation\":\"v\",\"showlegend\":true,\"x\":[-0.18843531127446692],\"xaxis\":\"x\",\"y\":[-0.359850583845479],\"yaxis\":\"y\",\"type\":\"scatter\"},{\"hovertemplate\":\"short_name=GbX2<br>x1_pca=%{x}<br>x2_pca=%{y}<extra></extra>\",\"legendgroup\":\"GbX2\",\"marker\":{\"color\":\"#3283FE\",\"symbol\":\"circle\"},\"mode\":\"markers\",\"name\":\"GbX2\",\"orientation\":\"v\",\"showlegend\":true,\"x\":[-0.18345972304353744],\"xaxis\":\"x\",\"y\":[-0.31340070493259514],\"yaxis\":\"y\",\"type\":\"scatter\"},{\"hovertemplate\":\"short_name=Chromosome<br>x1_pca=%{x}<br>x2_pca=%{y}<extra></extra>\",\"legendgroup\":\"Chromosome\",\"marker\":{\"color\":\"#85660D\",\"symbol\":\"circle\"},\"mode\":\"markers\",\"name\":\"Chromosome\",\"orientation\":\"v\",\"showlegend\":true,\"x\":[-0.20963195831634254],\"xaxis\":\"x\",\"y\":[-0.35331166090073063],\"yaxis\":\"y\",\"type\":\"scatter\"},{\"hovertemplate\":\"short_name=Xgb<br>x1_pca=%{x}<br>x2_pca=%{y}<extra></extra>\",\"legendgroup\":\"Xgb\",\"marker\":{\"color\":\"#782AB6\",\"symbol\":\"circle\"},\"mode\":\"markers\",\"name\":\"Xgb\",\"orientation\":\"v\",\"showlegend\":true,\"x\":[-0.22420389481863948],\"xaxis\":\"x\",\"y\":[-0.3746441135452887],\"yaxis\":\"y\",\"type\":\"scatter\"},{\"hovertemplate\":\"short_name=ORF<br>x1_pca=%{x}<br>x2_pca=%{y}<extra></extra>\",\"legendgroup\":\"ORF\",\"marker\":{\"color\":\"#565656\",\"symbol\":\"circle\"},\"mode\":\"markers\",\"name\":\"ORF\",\"orientation\":\"v\",\"showlegend\":true,\"x\":[-0.08246436367499206],\"xaxis\":\"x\",\"y\":[0.1038047630989136],\"yaxis\":\"y\",\"type\":\"scatter\"},{\"hovertemplate\":\"short_name=Extracellular<br>x1_pca=%{x}<br>x2_pca=%{y}<extra></extra>\",\"legendgroup\":\"Extracellular\",\"marker\":{\"color\":\"#1C8356\",\"symbol\":\"circle\"},\"mode\":\"markers\",\"name\":\"Extracellular\",\"orientation\":\"v\",\"showlegend\":true,\"x\":[-0.08461355653133992],\"xaxis\":\"x\",\"y\":[0.09074646650621312],\"yaxis\":\"y\",\"type\":\"scatter\"},{\"hovertemplate\":\"short_name=Inactive<br>x1_pca=%{x}<br>x2_pca=%{y}<extra></extra>\",\"legendgroup\":\"Inactive\",\"marker\":{\"color\":\"#16FF32\",\"symbol\":\"circle\"},\"mode\":\"markers\",\"name\":\"Inactive\",\"orientation\":\"v\",\"showlegend\":true,\"x\":[0.4893655598411731],\"xaxis\":\"x\",\"y\":[-0.05055578947703276],\"yaxis\":\"y\",\"type\":\"scatter\"},{\"hovertemplate\":\"short_name=ARAD1D45562p<br>x1_pca=%{x}<br>x2_pca=%{y}<extra></extra>\",\"legendgroup\":\"ARAD1D45562p\",\"marker\":{\"color\":\"#F7E1A0\",\"symbol\":\"circle\"},\"mode\":\"markers\",\"name\":\"ARAD1D45562p\",\"orientation\":\"v\",\"showlegend\":true,\"x\":[-0.09342873784012153],\"xaxis\":\"x\",\"y\":[-0.0018894314994740216],\"yaxis\":\"y\",\"type\":\"scatter\"},{\"hovertemplate\":\"short_name=Nacrein<br>x1_pca=%{x}<br>x2_pca=%{y}<extra></extra>\",\"legendgroup\":\"Nacrein\",\"marker\":{\"color\":\"#E2E2E2\",\"symbol\":\"circle\"},\"mode\":\"markers\",\"name\":\"Nacrein\",\"orientation\":\"v\",\"showlegend\":true,\"x\":[-0.11263823111252821],\"xaxis\":\"x\",\"y\":[-0.27142159577072045],\"yaxis\":\"y\",\"type\":\"scatter\"},{\"hovertemplate\":\"short_name=CYFA0S05e02454g1_1<br>x1_pca=%{x}<br>x2_pca=%{y}<extra></extra>\",\"legendgroup\":\"CYFA0S05e02454g1_1\",\"marker\":{\"color\":\"#1CBE4F\",\"symbol\":\"circle\"},\"mode\":\"markers\",\"name\":\"CYFA0S05e02454g1_1\",\"orientation\":\"v\",\"showlegend\":true,\"x\":[-0.11334685018990491],\"xaxis\":\"x\",\"y\":[0.013672173021518956],\"yaxis\":\"y\",\"type\":\"scatter\"},{\"hovertemplate\":\"short_name=Protein<br>x1_pca=%{x}<br>x2_pca=%{y}<extra></extra>\",\"legendgroup\":\"Protein\",\"marker\":{\"color\":\"#C4451C\",\"symbol\":\"circle\"},\"mode\":\"markers\",\"name\":\"Protein\",\"orientation\":\"v\",\"showlegend\":true,\"x\":[-0.08740872064421834],\"xaxis\":\"x\",\"y\":[-0.055721095206008694],\"yaxis\":\"y\",\"type\":\"scatter\"},{\"hovertemplate\":\"short_name=Cre<br>x1_pca=%{x}<br>x2_pca=%{y}<extra></extra>\",\"legendgroup\":\"Cre\",\"marker\":{\"color\":\"#DEA0FD\",\"symbol\":\"circle\"},\"mode\":\"markers\",\"name\":\"Cre\",\"orientation\":\"v\",\"showlegend\":true,\"x\":[-0.05579045298709854],\"xaxis\":\"x\",\"y\":[-0.07214627941864817],\"yaxis\":\"y\",\"type\":\"scatter\"},{\"hovertemplate\":\"short_name=Metalloendopeptidase<br>x1_pca=%{x}<br>x2_pca=%{y}<extra></extra>\",\"legendgroup\":\"Metalloendopeptidase\",\"marker\":{\"color\":\"#FE00FA\",\"symbol\":\"circle\"},\"mode\":\"markers\",\"name\":\"Metalloendopeptidase\",\"orientation\":\"v\",\"showlegend\":true,\"x\":[-0.12041841152175643],\"xaxis\":\"x\",\"y\":[-0.03537488996219339],\"yaxis\":\"y\",\"type\":\"scatter\"}],                        {\"template\":{\"data\":{\"histogram2dcontour\":[{\"type\":\"histogram2dcontour\",\"colorbar\":{\"outlinewidth\":0,\"ticks\":\"\"},\"colorscale\":[[0.0,\"#0d0887\"],[0.1111111111111111,\"#46039f\"],[0.2222222222222222,\"#7201a8\"],[0.3333333333333333,\"#9c179e\"],[0.4444444444444444,\"#bd3786\"],[0.5555555555555556,\"#d8576b\"],[0.6666666666666666,\"#ed7953\"],[0.7777777777777778,\"#fb9f3a\"],[0.8888888888888888,\"#fdca26\"],[1.0,\"#f0f921\"]]}],\"choropleth\":[{\"type\":\"choropleth\",\"colorbar\":{\"outlinewidth\":0,\"ticks\":\"\"}}],\"histogram2d\":[{\"type\":\"histogram2d\",\"colorbar\":{\"outlinewidth\":0,\"ticks\":\"\"},\"colorscale\":[[0.0,\"#0d0887\"],[0.1111111111111111,\"#46039f\"],[0.2222222222222222,\"#7201a8\"],[0.3333333333333333,\"#9c179e\"],[0.4444444444444444,\"#bd3786\"],[0.5555555555555556,\"#d8576b\"],[0.6666666666666666,\"#ed7953\"],[0.7777777777777778,\"#fb9f3a\"],[0.8888888888888888,\"#fdca26\"],[1.0,\"#f0f921\"]]}],\"heatmap\":[{\"type\":\"heatmap\",\"colorbar\":{\"outlinewidth\":0,\"ticks\":\"\"},\"colorscale\":[[0.0,\"#0d0887\"],[0.1111111111111111,\"#46039f\"],[0.2222222222222222,\"#7201a8\"],[0.3333333333333333,\"#9c179e\"],[0.4444444444444444,\"#bd3786\"],[0.5555555555555556,\"#d8576b\"],[0.6666666666666666,\"#ed7953\"],[0.7777777777777778,\"#fb9f3a\"],[0.8888888888888888,\"#fdca26\"],[1.0,\"#f0f921\"]]}],\"heatmapgl\":[{\"type\":\"heatmapgl\",\"colorbar\":{\"outlinewidth\":0,\"ticks\":\"\"},\"colorscale\":[[0.0,\"#0d0887\"],[0.1111111111111111,\"#46039f\"],[0.2222222222222222,\"#7201a8\"],[0.3333333333333333,\"#9c179e\"],[0.4444444444444444,\"#bd3786\"],[0.5555555555555556,\"#d8576b\"],[0.6666666666666666,\"#ed7953\"],[0.7777777777777778,\"#fb9f3a\"],[0.8888888888888888,\"#fdca26\"],[1.0,\"#f0f921\"]]}],\"contourcarpet\":[{\"type\":\"contourcarpet\",\"colorbar\":{\"outlinewidth\":0,\"ticks\":\"\"}}],\"contour\":[{\"type\":\"contour\",\"colorbar\":{\"outlinewidth\":0,\"ticks\":\"\"},\"colorscale\":[[0.0,\"#0d0887\"],[0.1111111111111111,\"#46039f\"],[0.2222222222222222,\"#7201a8\"],[0.3333333333333333,\"#9c179e\"],[0.4444444444444444,\"#bd3786\"],[0.5555555555555556,\"#d8576b\"],[0.6666666666666666,\"#ed7953\"],[0.7777777777777778,\"#fb9f3a\"],[0.8888888888888888,\"#fdca26\"],[1.0,\"#f0f921\"]]}],\"surface\":[{\"type\":\"surface\",\"colorbar\":{\"outlinewidth\":0,\"ticks\":\"\"},\"colorscale\":[[0.0,\"#0d0887\"],[0.1111111111111111,\"#46039f\"],[0.2222222222222222,\"#7201a8\"],[0.3333333333333333,\"#9c179e\"],[0.4444444444444444,\"#bd3786\"],[0.5555555555555556,\"#d8576b\"],[0.6666666666666666,\"#ed7953\"],[0.7777777777777778,\"#fb9f3a\"],[0.8888888888888888,\"#fdca26\"],[1.0,\"#f0f921\"]]}],\"mesh3d\":[{\"type\":\"mesh3d\",\"colorbar\":{\"outlinewidth\":0,\"ticks\":\"\"}}],\"scatter\":[{\"fillpattern\":{\"fillmode\":\"overlay\",\"size\":10,\"solidity\":0.2},\"type\":\"scatter\"}],\"parcoords\":[{\"type\":\"parcoords\",\"line\":{\"colorbar\":{\"outlinewidth\":0,\"ticks\":\"\"}}}],\"scatterpolargl\":[{\"type\":\"scatterpolargl\",\"marker\":{\"colorbar\":{\"outlinewidth\":0,\"ticks\":\"\"}}}],\"bar\":[{\"error_x\":{\"color\":\"#2a3f5f\"},\"error_y\":{\"color\":\"#2a3f5f\"},\"marker\":{\"line\":{\"color\":\"#E5ECF6\",\"width\":0.5},\"pattern\":{\"fillmode\":\"overlay\",\"size\":10,\"solidity\":0.2}},\"type\":\"bar\"}],\"scattergeo\":[{\"type\":\"scattergeo\",\"marker\":{\"colorbar\":{\"outlinewidth\":0,\"ticks\":\"\"}}}],\"scatterpolar\":[{\"type\":\"scatterpolar\",\"marker\":{\"colorbar\":{\"outlinewidth\":0,\"ticks\":\"\"}}}],\"histogram\":[{\"marker\":{\"pattern\":{\"fillmode\":\"overlay\",\"size\":10,\"solidity\":0.2}},\"type\":\"histogram\"}],\"scattergl\":[{\"type\":\"scattergl\",\"marker\":{\"colorbar\":{\"outlinewidth\":0,\"ticks\":\"\"}}}],\"scatter3d\":[{\"type\":\"scatter3d\",\"line\":{\"colorbar\":{\"outlinewidth\":0,\"ticks\":\"\"}},\"marker\":{\"colorbar\":{\"outlinewidth\":0,\"ticks\":\"\"}}}],\"scattermapbox\":[{\"type\":\"scattermapbox\",\"marker\":{\"colorbar\":{\"outlinewidth\":0,\"ticks\":\"\"}}}],\"scatterternary\":[{\"type\":\"scatterternary\",\"marker\":{\"colorbar\":{\"outlinewidth\":0,\"ticks\":\"\"}}}],\"scattercarpet\":[{\"type\":\"scattercarpet\",\"marker\":{\"colorbar\":{\"outlinewidth\":0,\"ticks\":\"\"}}}],\"carpet\":[{\"aaxis\":{\"endlinecolor\":\"#2a3f5f\",\"gridcolor\":\"white\",\"linecolor\":\"white\",\"minorgridcolor\":\"white\",\"startlinecolor\":\"#2a3f5f\"},\"baxis\":{\"endlinecolor\":\"#2a3f5f\",\"gridcolor\":\"white\",\"linecolor\":\"white\",\"minorgridcolor\":\"white\",\"startlinecolor\":\"#2a3f5f\"},\"type\":\"carpet\"}],\"table\":[{\"cells\":{\"fill\":{\"color\":\"#EBF0F8\"},\"line\":{\"color\":\"white\"}},\"header\":{\"fill\":{\"color\":\"#C8D4E3\"},\"line\":{\"color\":\"white\"}},\"type\":\"table\"}],\"barpolar\":[{\"marker\":{\"line\":{\"color\":\"#E5ECF6\",\"width\":0.5},\"pattern\":{\"fillmode\":\"overlay\",\"size\":10,\"solidity\":0.2}},\"type\":\"barpolar\"}],\"pie\":[{\"automargin\":true,\"type\":\"pie\"}]},\"layout\":{\"autotypenumbers\":\"strict\",\"colorway\":[\"#636efa\",\"#EF553B\",\"#00cc96\",\"#ab63fa\",\"#FFA15A\",\"#19d3f3\",\"#FF6692\",\"#B6E880\",\"#FF97FF\",\"#FECB52\"],\"font\":{\"color\":\"#2a3f5f\"},\"hovermode\":\"closest\",\"hoverlabel\":{\"align\":\"left\"},\"paper_bgcolor\":\"white\",\"plot_bgcolor\":\"#E5ECF6\",\"polar\":{\"bgcolor\":\"#E5ECF6\",\"angularaxis\":{\"gridcolor\":\"white\",\"linecolor\":\"white\",\"ticks\":\"\"},\"radialaxis\":{\"gridcolor\":\"white\",\"linecolor\":\"white\",\"ticks\":\"\"}},\"ternary\":{\"bgcolor\":\"#E5ECF6\",\"aaxis\":{\"gridcolor\":\"white\",\"linecolor\":\"white\",\"ticks\":\"\"},\"baxis\":{\"gridcolor\":\"white\",\"linecolor\":\"white\",\"ticks\":\"\"},\"caxis\":{\"gridcolor\":\"white\",\"linecolor\":\"white\",\"ticks\":\"\"}},\"coloraxis\":{\"colorbar\":{\"outlinewidth\":0,\"ticks\":\"\"}},\"colorscale\":{\"sequential\":[[0.0,\"#0d0887\"],[0.1111111111111111,\"#46039f\"],[0.2222222222222222,\"#7201a8\"],[0.3333333333333333,\"#9c179e\"],[0.4444444444444444,\"#bd3786\"],[0.5555555555555556,\"#d8576b\"],[0.6666666666666666,\"#ed7953\"],[0.7777777777777778,\"#fb9f3a\"],[0.8888888888888888,\"#fdca26\"],[1.0,\"#f0f921\"]],\"sequentialminus\":[[0.0,\"#0d0887\"],[0.1111111111111111,\"#46039f\"],[0.2222222222222222,\"#7201a8\"],[0.3333333333333333,\"#9c179e\"],[0.4444444444444444,\"#bd3786\"],[0.5555555555555556,\"#d8576b\"],[0.6666666666666666,\"#ed7953\"],[0.7777777777777778,\"#fb9f3a\"],[0.8888888888888888,\"#fdca26\"],[1.0,\"#f0f921\"]],\"diverging\":[[0,\"#8e0152\"],[0.1,\"#c51b7d\"],[0.2,\"#de77ae\"],[0.3,\"#f1b6da\"],[0.4,\"#fde0ef\"],[0.5,\"#f7f7f7\"],[0.6,\"#e6f5d0\"],[0.7,\"#b8e186\"],[0.8,\"#7fbc41\"],[0.9,\"#4d9221\"],[1,\"#276419\"]]},\"xaxis\":{\"gridcolor\":\"white\",\"linecolor\":\"white\",\"ticks\":\"\",\"title\":{\"standoff\":15},\"zerolinecolor\":\"white\",\"automargin\":true,\"zerolinewidth\":2},\"yaxis\":{\"gridcolor\":\"white\",\"linecolor\":\"white\",\"ticks\":\"\",\"title\":{\"standoff\":15},\"zerolinecolor\":\"white\",\"automargin\":true,\"zerolinewidth\":2},\"scene\":{\"xaxis\":{\"backgroundcolor\":\"#E5ECF6\",\"gridcolor\":\"white\",\"linecolor\":\"white\",\"showbackground\":true,\"ticks\":\"\",\"zerolinecolor\":\"white\",\"gridwidth\":2},\"yaxis\":{\"backgroundcolor\":\"#E5ECF6\",\"gridcolor\":\"white\",\"linecolor\":\"white\",\"showbackground\":true,\"ticks\":\"\",\"zerolinecolor\":\"white\",\"gridwidth\":2},\"zaxis\":{\"backgroundcolor\":\"#E5ECF6\",\"gridcolor\":\"white\",\"linecolor\":\"white\",\"showbackground\":true,\"ticks\":\"\",\"zerolinecolor\":\"white\",\"gridwidth\":2}},\"shapedefaults\":{\"line\":{\"color\":\"#2a3f5f\"}},\"annotationdefaults\":{\"arrowcolor\":\"#2a3f5f\",\"arrowhead\":0,\"arrowwidth\":1},\"geo\":{\"bgcolor\":\"white\",\"landcolor\":\"#E5ECF6\",\"subunitcolor\":\"white\",\"showland\":true,\"showlakes\":true,\"lakecolor\":\"white\"},\"title\":{\"x\":0.05},\"mapbox\":{\"style\":\"light\"}}},\"xaxis\":{\"anchor\":\"y\",\"domain\":[0.0,1.0],\"title\":{\"text\":\"x1_pca\"}},\"yaxis\":{\"anchor\":\"x\",\"domain\":[0.0,1.0],\"title\":{\"text\":\"x2_pca\"},\"scaleanchor\":\"x\",\"scaleratio\":1},\"legend\":{\"title\":{\"text\":\"short_name\"},\"tracegroupgap\":0},\"margin\":{\"t\":60}},                        {\"responsive\": true}                    ).then(function(){\n",
       "                            \n",
       "var gd = document.getElementById('729df524-c2b1-4a78-b29e-57cf469cd80d');\n",
       "var x = new MutationObserver(function (mutations, observer) {{\n",
       "        var display = window.getComputedStyle(gd).display;\n",
       "        if (!display || display === 'none') {{\n",
       "            console.log([gd, 'removed!']);\n",
       "            Plotly.purge(gd);\n",
       "            observer.disconnect();\n",
       "        }}\n",
       "}});\n",
       "\n",
       "// Listen for the removal of the full notebook cells\n",
       "var notebookContainer = gd.closest('#notebook-container');\n",
       "if (notebookContainer) {{\n",
       "    x.observe(notebookContainer, {childList: true});\n",
       "}}\n",
       "\n",
       "// Listen for the clearing of the current output cell\n",
       "var outputEl = gd.closest('.output');\n",
       "if (outputEl) {{\n",
       "    x.observe(outputEl, {childList: true});\n",
       "}}\n",
       "\n",
       "                        })                };                });            </script>        </div>"
      ]
     },
     "metadata": {},
     "output_type": "display_data"
    }
   ],
   "source": [
    "\n",
    "    \n",
    "plt = px.scatter(df_embedding, x = 'x1_pca', y = 'x2_pca',\n",
    "                     color = df_embedding[true_col],\n",
    "                     color_discrete_sequence = px.colors.qualitative.Alphabet,\n",
    "                     color_discrete_map=globin_palette,\n",
    "                     #color_continuous_scale = \"Turbo\",\n",
    "                     ##labels={'color': labels}, \n",
    "                     #hover_name=labels_name,\n",
    "                     #hover_data=df.columns[2:],\n",
    "                     #height = 800,\n",
    "                     #title = title,\n",
    "                 )\n",
    "#plt.update_xaxes(range = [-60, 50], constrain=\"domain\")\n",
    "#plt.update_yaxes(range = [-0.5, 0.5], constrain=\"domain\")\n",
    "\n",
    "plt.update_yaxes(scaleanchor = \"x\", scaleratio = 1)\n",
    "plt.show()"
   ]
  },
  {
   "cell_type": "code",
   "execution_count": null,
   "id": "bef56d85",
   "metadata": {},
   "outputs": [],
   "source": []
  }
 ],
 "metadata": {
  "kernelspec": {
   "display_name": "poincare",
   "language": "python",
   "name": "python3"
  },
  "language_info": {
   "codemirror_mode": {
    "name": "ipython",
    "version": 3
   },
   "file_extension": ".py",
   "mimetype": "text/x-python",
   "name": "python",
   "nbconvert_exporter": "python",
   "pygments_lexer": "ipython3",
   "version": "3.12.2"
  }
 },
 "nbformat": 4,
 "nbformat_minor": 5
}
