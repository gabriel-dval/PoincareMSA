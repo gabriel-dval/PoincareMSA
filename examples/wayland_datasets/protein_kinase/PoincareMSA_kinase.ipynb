{
 "cells": [
  {
   "cell_type": "markdown",
   "metadata": {
    "id": "view-in-github"
   },
   "source": [
    "[![Open In Colab](https://colab.research.google.com/assets/colab-badge.svg)](https://colab.research.google.com/github/DSIMB/PoincareMSA/blob/master/PoincareMSA_colab.ipynb)"
   ]
  },
  {
   "cell_type": "markdown",
   "metadata": {
    "id": "W5FTaqy0xqw2"
   },
   "source": [
    "<img src=\"https://github.com/DSIMB/PoincareMSA/blob/master/.github/PoincareMSA_small_logo.png?raw=true\" height=\"100\" style=\"height:100px;margin-left: 0px;\">\n",
    "\n",
    "# Poincaré maps for visualization of large protein famillies\n",
    "\n",
    "**Authors**: Anna Klimovskaia Susmelj, Yani Ren, Yann Vander Meersche, Jean-Christophe Gelly and Tatiana Galochkina\n",
    "\n",
    "PoincaréMSA builds an interactive projection of an input protein multiple sequence alignemnt (MSA) using a method based on Poincaré maps described by Klimovskaia et al [1]. It reproduces both local proximities of protein sequences and hierarchy contained in give data. Thus, sequences located closer to the center of projection correspond to the proteins sharing the most general functional properites and/or appearing at the earlier stages of evolution. Source code is available at https://github.com/DSIMB/PoincareMSA.\n",
    "\n",
    "[1] Klimovskaia, A., Lopez-Paz, D., Bottou, L. et al. Poincaré maps for analyzing complex hierarchies in single-cell data. Nat Commun 11, 2966 (2020)."
   ]
  },
  {
   "cell_type": "markdown",
   "metadata": {
    "id": "Oa7Rrq-YzfQB"
   },
   "source": [
    "# Notebook initialization"
   ]
  },
  {
   "cell_type": "code",
   "execution_count": 1,
   "metadata": {},
   "outputs": [
    {
     "name": "stdout",
     "output_type": "stream",
     "text": [
      "/Users/gabrielduval/Desktop/Paris_Cite/Year2/Projet_Long/PoincareMSA\n"
     ]
    }
   ],
   "source": [
    "# Update working directory\n",
    "\n",
    "%cd ../../../"
   ]
  },
  {
   "cell_type": "code",
   "execution_count": 2,
   "metadata": {
    "cellView": "form",
    "colab": {
     "base_uri": "https://localhost:8080/"
    },
    "id": "X_SO37g-kQq7",
    "outputId": "c30184db-2ef2-4a87-fd43-db8fd3ed5379"
   },
   "outputs": [],
   "source": [
    "#Load dependencies\n",
    "import os\n",
    "import numpy as np\n",
    "import pandas as pd\n",
    "import subprocess\n",
    "import json\n",
    "import warnings\n",
    "warnings.filterwarnings('ignore')\n",
    "\n",
    "#Import visualization functions\n",
    "from scripts.visualize_projection.pplots_new import read_embeddings, plot_embedding, plot_embedding_interactive, rotate, get_colors\n",
    "from scripts.prepare_data.mmseqs2_api import run_mmseqs2\n",
    "from scripts.prepare_data.uniprot_idmapping_api import submit_id_mapping, check_id_mapping_results_ready, get_id_mapping_results_link, get_id_mapping_results_search\n",
    "%matplotlib inline\n",
    "\n",
    "#Create optional variables\n",
    "path_annotation = \"\""
   ]
  },
  {
   "cell_type": "markdown",
   "metadata": {
    "id": "IPi6cky3wgC8"
   },
   "source": [
    "# Data import"
   ]
  },
  {
   "cell_type": "code",
   "execution_count": 16,
   "metadata": {
    "cellView": "form",
    "colab": {
     "base_uri": "https://localhost:8080/",
     "height": 75,
     "resources": {
      "http://localhost:8080/nbextensions/google.colab/files.js": {
       "data": "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",
       "headers": [
        [
         "content-type",
         "application/javascript"
        ]
       ],
       "ok": true,
       "status": 200,
       "status_text": "OK"
      }
     }
    },
    "id": "GcbgnooHwIGh",
    "outputId": "dc30ce27-d01c-4953-cdb7-9d5fe599ad6d"
   },
   "outputs": [
    {
     "name": "stdout",
     "output_type": "stream",
     "text": [
      "\n",
      "Number of sequences found: 558.\n",
      "\n",
      "Annotation file correctly loaded.\n",
      "3 annotations found: ['proteins_id', 'accession', 'label'].\n"
     ]
    }
   ],
   "source": [
    "# OPTIONS =================================================\n",
    "# Path to MSA in mfasta format OR folder containing the embeddings - leave the other one as None\n",
    "mfasta = None\n",
    "embedding_path = 'embeddings/ankh_base_protein_kinase/'\n",
    "\n",
    "#Annotation file (.csv) or UniProt ID list. (Emtpy strings for no annotations)\n",
    "path_annotation_csv = \"examples/wayland_datasets/protein_kinase/kinase_labels.csv\"   # Path or \"\"\n",
    "# OR\n",
    "path_uniprot_list = \"\"   # Path or \"\"\n",
    "#==========================================================\n",
    "\n",
    "\n",
    "#Check files\n",
    "#Check files\n",
    "#mfasta\n",
    "nb_seq = 0\n",
    "if mfasta is not None and embedding_path is not None:\n",
    "    print('You cannot import both an mfasta and an embedding folder ! Choose one and leave the other as None.')\n",
    "elif mfasta is not None:\n",
    "    if os.path.isfile(mfasta):\n",
    "        with open(mfasta, \"r\") as f_in:\n",
    "            for line in f_in:\n",
    "                if line[0] == \">\":\n",
    "                    nb_seq += 1\n",
    "        print(f\"\\nNumber of sequences found: {nb_seq}.\")\n",
    "    else:\n",
    "        print(f\"File {mfasta} not found.\")\n",
    "elif embedding_path is not None:\n",
    "    if os.path.exists(embedding_path):\n",
    "        nb_seq = len([s for s in os.listdir(embedding_path) if '.pt' in s])\n",
    "        print(f\"\\nNumber of sequences found: {nb_seq}.\")\n",
    "    else:\n",
    "        print(f\"Folder {embedding_path} not found.\")\n",
    "else:\n",
    "    print('Neither a valid mfasta or embedding folder has been provided')\n",
    "\n",
    "#Check that only one path is selected\n",
    "if path_annotation_csv and path_uniprot_list:\n",
    "    raise ValueError(\"Use only one file path (path_annotation_csv OR path_uniprot_list).\")\n",
    "\n",
    "if path_annotation_csv:\n",
    "    if os.path.isfile(path_annotation_csv):\n",
    "        try:\n",
    "            df_annotation = pd.read_csv(path_annotation_csv)\n",
    "        except:\n",
    "            raise ValueError(\"Annotation file is not in .csv format.\")\n",
    "        else:\n",
    "            if len(df_annotation) != nb_seq:\n",
    "                raise ValueError(\"Annotation file doesn't match the .mfasta file length.\")\n",
    "\n",
    "        #Add id column\n",
    "        if \"proteins_id\" not in df_annotation.columns:\n",
    "            df_annotation.insert(0, \"proteins_id\", range(len(df_annotation)))\n",
    "        path_annotation = path_annotation_csv\n",
    "            \n",
    "        print(\"\\nAnnotation file correctly loaded.\")\n",
    "        annotation_names = list(df_annotation.columns)\n",
    "        print(f\"{len(annotation_names)} annotations found: {annotation_names}.\")\n",
    "    else:\n",
    "        print(f\"File {path_annotation_csv} not found.\")\n",
    "\n",
    "elif path_uniprot_list:\n",
    "    if os.path.isfile(path_uniprot_list):\n",
    "        try:\n",
    "            UnP_ids = np.genfromtxt(path_uniprot_list, dtype=\"str\")\n",
    "        except:\n",
    "            raise ValueError(\"UniProt IDs file is not in a valid format.\")\n",
    "        else:\n",
    "            if len(UnP_ids) != nb_seq:\n",
    "                raise ValueError(\"UniProt IDs file doesn't match the .mfasta file length.\")     \n",
    "\n",
    "            #Split UniProtKB and UniParc IDs\n",
    "            uniparc_ids = []\n",
    "            uniprot_ids = []\n",
    "            for unp in UnP_ids:\n",
    "                if len(unp) == 13 and unp[:2] == \"UP\":\n",
    "                    uniparc_ids.append(unp)\n",
    "                else:\n",
    "                    uniprot_ids.append(unp)\n",
    "\n",
    "            #Fetch UniProtKB annotations\n",
    "            job_id = submit_id_mapping(\n",
    "                from_db=\"UniProtKB_AC-ID\", to_db=\"UniParc\", ids=uniprot_ids\n",
    "            )\n",
    "\n",
    "            if check_id_mapping_results_ready(job_id):\n",
    "                link = get_id_mapping_results_link(job_id)\n",
    "                results = get_id_mapping_results_search(link)\n",
    "\n",
    "            #Fetch UniParc annotations\n",
    "            job_id = submit_id_mapping(\n",
    "                from_db=\"UniParc\", to_db=\"UniParc\", ids=uniparc_ids\n",
    "            )\n",
    "\n",
    "            if check_id_mapping_results_ready(job_id):\n",
    "                link = get_id_mapping_results_link(job_id)\n",
    "                results2 = get_id_mapping_results_search(link)\n",
    "\n",
    "            #Create annotation dataframe\n",
    "            df_annotation = pd.DataFrame(UnP_ids, columns=[\"UnP_ID\"])\n",
    "            df_annotation[[\"organism\", \"proteinName\", \"taxonId\", \"species\", \"genus\", \\\n",
    "                           \"family\", \"order\", \"class\", \"phylum\", \"clade\", \"superkingdom\"]] = \"\"\n",
    "\n",
    "            #Fill the annotation DataFrame\n",
    "            for dict_res in results[\"results\"] + results2[\"results\"]:\n",
    "                try:\n",
    "                    unp = dict_res[\"from\"]\n",
    "                    prot_name = dict_res[\"to\"][\"uniParcCrossReferences\"][0][\"proteinName\"]\n",
    "                    df_annotation.loc[df_annotation[\"UnP_ID\"] == unp, \"proteinName\"] = prot_name\n",
    "                    scientific_name = dict_res[\"to\"][\"uniParcCrossReferences\"][0][\"organism\"][\"scientificName\"]\n",
    "                    taxid = dict_res[\"to\"][\"uniParcCrossReferences\"][0][\"organism\"][\"taxonId\"]\n",
    "                    df_annotation.loc[df_annotation[\"UnP_ID\"] == unp, \"organism\"] = scientific_name\n",
    "                    df_annotation.loc[df_annotation[\"UnP_ID\"] == unp, \"taxonId\"] = taxid\n",
    "                except KeyError:\n",
    "                    continue\n",
    "\n",
    "            #Add lineage from NCBI Taxonomist\n",
    "            taxon_ids = df_annotation.loc[df_annotation[\"taxonId\"].notnull(), 'taxonId'].to_numpy()\n",
    "            taxon_ids = list(set(taxon_ids))\n",
    "            taxon_ids = list(map(str, taxon_ids))\n",
    "            bash_command = f\"ncbi-taxonomist resolve -t {','.join(taxon_ids)}\"\n",
    "            list_taxon = subprocess.run(bash_command, shell=True, capture_output=True, text=True).stdout.strip().split(\"\\n\")\n",
    "\n",
    "            if list_taxon != [\"\"]:\n",
    "                for taxon in list_taxon:\n",
    "                    jsonString = taxon\n",
    "                    taxon_dict = json.loads(jsonString)\n",
    "                    query = taxon_dict[\"query\"]\n",
    "                    for lineage in taxon_dict[\"lineage\"]:\n",
    "                        rank = lineage[\"rank\"]\n",
    "                        if rank in [\"species\", \"genus\", \"family\", \"order\", \"class\", \"phylum\", \"clade\", \"superkingdom\"]:\n",
    "                            name = lineage[\"name\"]\n",
    "                            df_annotation.loc[df_annotation[\"taxonId\"] == int(query), rank] = name\n",
    "\n",
    "            #Add id column\n",
    "            if \"proteins_id\" not in df_annotation.columns:\n",
    "                df_annotation.insert(0, \"proteins_id\", range(len(df_annotation)))\n",
    "\n",
    "            #Save annotation to csv\n",
    "            path_annotation = \"auto_annot.csv\"\n",
    "            df_annotation.to_csv(path_annotation, index=False)\n",
    "\n",
    "            print(\"\\nAnnotation correctly fetched.\")\n",
    "            annotation_names = list(df_annotation.columns)\n",
    "            print(f\"{len(annotation_names)} annotations found: {annotation_names}.\")\n",
    "    else:\n",
    "        print(f\"File {path_uniprot_list} not found.\")\n",
    "else:\n",
    "    print(\"No annotation file selected.\")\n",
    "    path_annotation = \"\""
   ]
  },
  {
   "cell_type": "markdown",
   "metadata": {
    "id": "_H2vnIt_3kUz"
   },
   "source": [
    "# Data preparation\n",
    "Here we clean the input .mfasta alignment and translate each sequence to a vector ready for projection."
   ]
  },
  {
   "cell_type": "markdown",
   "metadata": {},
   "source": [
    "### Parameters for data preparation"
   ]
  },
  {
   "cell_type": "code",
   "execution_count": 4,
   "metadata": {
    "cellView": "form",
    "id": "9hLq_MgX6hFC"
   },
   "outputs": [
    {
     "name": "stdout",
     "output_type": "stream",
     "text": [
      "Input file: examples/wayland_datasets/protein_kinase/kinase.mfasta\n",
      "Name of the protein family: kinase\n",
      "1 X aa replaced by gaps in 558 sequences\n",
      "filter_gaps finished for examples/wayland_datasets/protein_kinase/kinase.mfasta\n",
      "mfasta2fasta finished for protein_kinase_data/protein_kinase_data.clean0.9.mfasta\n",
      "1 X aa replaced by gaps in 558 sequences\n"
     ]
    }
   ],
   "source": [
    "# OPTIONS =================================================\n",
    "# Job name\n",
    "#Name for the output folder\n",
    "out_name = \"protein_kinase_data\"\n",
    "#----------------------------------------------------------\n",
    "# Threshold for filtering gapped positions\n",
    "#Positions with proportion of gaps above the given threshold are removed from the alignment.\n",
    "#If your alignment is very gapped, you may want to increase this value.\n",
    "gapth = 0.9 \n",
    "#==========================================================\n",
    "\n",
    "\n",
    "# Run data preparation\n",
    "#Data preparation consists in `.mfasta` cleaning according to a gap threshold and\n",
    "#translation of each sequence to the PSSM profile.\n",
    "prep_parameters = \"scripts/prepare_data\" + \" \" + mfasta + \" \" + out_name + \" \" + out_name + \" \" + str(gapth)\n",
    "bash_projection = \"bash scripts/prepare_data/create_projection.sh \" + prep_parameters\n",
    "!{bash_projection}"
   ]
  },
  {
   "cell_type": "markdown",
   "metadata": {
    "id": "Dv0lg4Jn-dfG"
   },
   "source": [
    "# Projection"
   ]
  },
  {
   "cell_type": "markdown",
   "metadata": {},
   "source": [
    "### Projection parameters (without embeddings)"
   ]
  },
  {
   "cell_type": "code",
   "execution_count": 5,
   "metadata": {},
   "outputs": [
    {
     "name": "stdout",
     "output_type": "stream",
     "text": [
      "CUDA: False\n",
      "Random seed set as 0\n",
      "558 proteins found in folder protein_kinase_data/fasta0.9.\n",
      "No root detected\n",
      "289.txt\n",
      "Prepare data: tensor construction\n",
      "Prepare data: successfully terminated\n",
      "Computing laplacian...\n",
      "Laplacian computed in 0.28 sec\n",
      "Computing RFA...\n",
      "RFA computed in 0.02 sec\n",
      "Starting training...\n",
      "loss: 0.25026:  80%|████████████████████     | 801/1000 [01:29<00:36,  5.49it/s]\n",
      "Stopped at epoch 801\n",
      "loss: 0.25026:  80%|████████████████████     | 801/1000 [01:29<00:22,  8.96it/s]\n",
      "PM computed in 89.36 sec\n",
      "\n",
      "loss = 2.503e-01\n",
      "time = 1.501 min\n"
     ]
    }
   ],
   "source": [
    "# OPTIONS =================================================\n",
    "#Here you control different parameters of Poincaré maps.\n",
    "#In our computational experiments the best results were achieved for the following values provided by default.\n",
    "#The impact of different parameters is analyzed in the original paper [1].\n",
    "knn = 5\n",
    "gamma = 2\n",
    "sigma = 1\n",
    "cospca = 0\n",
    "batchs = 4\n",
    "epochs = 1000\n",
    "seed = 0\n",
    "#==========================================================\n",
    "\n",
    "\n",
    "# Building projection and preparing data for visualization\n",
    "#This step creates a projection of encoded sequences to a Poincaré disk.\n",
    "bash_pm = \"python3 \"+ \"scripts/build_poincare_map/main.py --input_path \" + out_name + \"/fasta\" + str(gapth) + \" --output_path \" + out_name + \"/projections/ --gamma \"+ str(gamma) +\" --pca \"+ str(cospca) + \" --epochs \"+ str(epochs) +\" --seed \"+ str(seed) + \" --knn \" + str(knn)\n",
    "!{bash_pm}"
   ]
  },
  {
   "cell_type": "markdown",
   "metadata": {},
   "source": [
    "### Projection parameters (with embeddings)"
   ]
  },
  {
   "cell_type": "code",
   "execution_count": 5,
   "metadata": {},
   "outputs": [
    {
     "name": "stdout",
     "output_type": "stream",
     "text": [
      "CUDA: False\n",
      "Random seed set as 0\n",
      "558 proteins found in folder embeddings/ankh_base_protein_kinase/.\n",
      "['Q96GX5 ePK_AGC_MAST_GWL.pt', 'P16066 ePK_RGC__ANPRA.pt', 'Q13555 ePK_CAMK_CAMK2_KCC2G.pt', 'Q9H2K8 ePK_STE_STE20_TAOK3.pt', 'P22694 ePK_AGC_PKA_KAPCB.pt', 'O60674|2 ePK_TK_Jak-b_JAK2.pt', 'Q96MK3 Atypical__FAM20_FA20A.pt', 'Q9Y6E0 ePK_STE_STE20_STK24.pt', 'Q9BVS4 eLK__RIO_RIOK2.pt', 'Q9UBS0 ePK_AGC_RSK_KS6B2.pt', 'Q16539 ePK_CMGC_MAPK_MK14.pt', 'Q9UK32|1 ePK_AGC_RSK_KS6A6.pt', 'Q8NE63 ePK_CMGC_DYRK_HIPK4.pt', 'P07949 ePK_TK_Ret_RET.pt', 'O75962 ePK_CAMK_Trio_TRIO.pt', 'P33981 ePK_Other_TTK_TTK.pt', 'Q6VAB6 ePK_TKL_RAF_KSR2.pt', 'Q02763 ePK_TK_Tie_TIE2.pt', 'O00141 ePK_AGC_SGK_SGK1.pt', 'Q8TBX8 Atypical__PIPK_PI42C.pt', 'P41743 ePK_AGC_PKC_KPCI.pt', 'Q7Z7A4 ePK_Other_Slob_PXK.pt', 'P04626 ePK_TK_EGFR_ERBB2.pt', 'P54646 ePK_CAMK_CAMKL_AAPK2.pt', 'O14733 ePK_STE_STE7_MP2K7.pt', 'Q9H0K1 ePK_CAMK_CAMKL_SIK2.pt', 'P36897 ePK_TKL_STKR_TGFR1.pt', 'O14936 ePK_CAMK_CASK_CSKP.pt', 'O75747 Atypical__PIKK_P3C2G.pt', 'Q16644 ePK_CAMK_MAPKAPK_MAPK3.pt', 'Q99759 ePK_STE_STE11_M3K3.pt', 'Q8IW41 ePK_CAMK_MAPKAPK_MAPK5.pt', 'Q86SG6 ePK_NEK_NEK8_NEK8.pt', 'Q8NEV4 ePK_STE_STE20_MYO3A.pt', 'P35916 ePK_TK_VEGFR_VGFR3.pt', 'Q92772 ePK_CMGC_CDKL_CDKL2.pt', 'P68400 ePK_CMGC_CK2_CSK21.pt', 'Q8TD19 ePK_NEK_NEK9_NEK9.pt', 'Q00537 ePK_CMGC_CDK_CDK17.pt', 'Q86V86 ePK_CAMK_PIM_PIM3.pt', 'Q9UK32|2 ePK_CAMK_RSK-b_KS6A6.pt', 'Q52WX2 ePK_Other_NKF1_SBK1.pt', 'Q13535 Atypical__PIKK_ATR.pt', 'Q9Y463 ePK_CMGC_DYRK_DYR1B.pt', 'P48426 Atypical__PIPK_PI42A.pt', 'Q9BXM7 ePK_Other_NKF2_PINK1.pt', 'Q02846 ePK_RGC__GUC2D.pt', 'Q9HA64 eLK__KT3K_KT3K.pt', 'P41240 ePK_TK_Csk_CSK.pt', 'Q9H479 eLK__FN3K_FN3K.pt', 'P49840 ePK_CMGC_GSK_GSK3A.pt', 'Q86UE8 ePK_Other_TLK_TLK2.pt', 'P52333|2 ePK_TK_Jak-b_JAK3.pt', 'Q96PY6 ePK_NEK_NEK1_NEK1.pt', 'O60566 ePK_Other_BUB_BUB1B.pt', 'Q96QP1 Atypical__Alpha_ALPK1.pt', 'P20594 ePK_RGC__ANPRB.pt', 'P37173 ePK_TKL_STKR_TGFR2.pt', 'Q8TDC3 ePK_CAMK_CAMKL_BRSK1.pt', 'P27448 ePK_CAMK_CAMKL_MARK3.pt', 'P32298 ePK_AGC_GRK_GRK4.pt', 'Q13882 ePK_TK_Src_PTK6.pt', 'Q9BUB5 ePK_CAMK_MAPKAPK_MKNK1.pt', 'Q9Y2U5 ePK_STE_STE11_M3K2.pt', 'P06213 ePK_TK_InsR_INSR.pt', 'O14920 ePK_Other_IKK_IKKB.pt', 'Q96S53 ePK_TKL_TESK_TESK2.pt', 'O43318 ePK_TKL_MLK_M3K7.pt', 'O00443 Atypical__PIKK_P3C2A.pt', 'Q5TCX8 ePK_TKL_MLK_M3K21.pt', 'O14757 ePK_CAMK_CAMKL_CHK1.pt', 'P45983 ePK_CMGC_MAPK_MK08.pt', 'P51812|2 ePK_CAMK_RSK-b_KS6A3.pt', 'Q9HC98 ePK_NEK_NEK6_NEK6.pt', 'Q15418|1 ePK_AGC_RSK_KS6A1.pt', 'P17612 ePK_AGC_PKA_KAPCA.pt', 'Q38SD2 ePK_TKL_LRRK_LRRK1.pt', 'Q14164 ePK_Other_IKK_IKKE.pt', 'Q8WZ42 ePK_CAMK_MLCK_TITIN.pt', 'Q8IXL6 Atypical__FAM20_FA20C.pt', 'O15197 ePK_TK_Eph_EPHB6.pt', 'Q04759 ePK_AGC_PKC_KPCT.pt', 'P49759 ePK_CMGC_CLK_CLK1.pt', 'P23458|2 ePK_TK_Jak-b_JAK1.pt', 'Q9P1W9 ePK_CAMK_PIM_PIM2.pt', 'Q05655 ePK_AGC_PKC_KPCD.pt', 'P08581 ePK_TK_Met_MET.pt', 'P29317 ePK_TK_Eph_EPHA2.pt', 'P51451 ePK_TK_Src_BLK.pt', 'Q8IZE3 ePK_Other_SCY1_PACE1.pt', 'P49674 ePK_CK1_CK1-D_KC1E.pt', 'Q15208 ePK_AGC_NDR_STK38.pt', 'P00519 ePK_TK_Abl_ABL1.pt', 'Q15349|2 ePK_CAMK_RSK-b_KS6A2.pt', 'Q15131 ePK_CMGC_CDK_CDK10.pt', 'Q13557 ePK_CAMK_CAMK2_KCC2D.pt', 'Q9NQU5 ePK_STE_STE20_PAK6.pt', 'Q8IZL9 ePK_CMGC_CDK_CDK20.pt', 'Q9HBY8 ePK_AGC_SGK_SGK2.pt', 'P34925 ePK_TK_Ryk_RYK.pt', 'Q9NWZ3 ePK_TKL_IRAK_IRAK4.pt', 'Q13164 ePK_CMGC_MAPK_MK07.pt', 'O75716 ePK_Other_NAK_STK16.pt', 'Q9NY57 ePK_AGC_YANK_ST32B.pt', 'O75582|1 ePK_AGC_RSK_KS6A5.pt', 'Q16816 ePK_CAMK_PHK_PHKG1.pt', 'P22455 ePK_TK_FGFR_FGFR4.pt', 'Q9Y572 ePK_TKL_RIPK_RIPK3.pt', 'P30291 ePK_Other_WEE_WEE1.pt', 'Q5VT25 ePK_AGC_DMPK_MRCKA.pt', 'Q05397 ePK_TK_FAK_FAK1.pt', 'P23458|1 ePK_TK_Jak_JAK1.pt', 'Q8N165 ePK_Other_NKF4_PDK1L.pt', 'P08922 ePK_TK_Sev_ROS1.pt', 'Q13177 ePK_STE_STE20_PAK2.pt', 'O75116 ePK_AGC_DMPK_ROCK2.pt', 'Q7RTN6 ePK_STE_STE20_STRAA.pt', 'Q05513 ePK_AGC_PKC_KPCZ.pt', 'Q13163 ePK_STE_STE7_MP2K5.pt', 'P51955 ePK_NEK_NEK2_NEK2.pt', 'Q99640 ePK_Other_WEE_PMYT1.pt', 'O75385 ePK_Other_ULK_ULK1.pt', 'P42685 ePK_TK_Src_FRK.pt', 'Q92519 ePK_CAMK_Trbl_TRIB2.pt', 'P34947 ePK_AGC_GRK_GRK5.pt', 'P06241 ePK_TK_Src_FYN.pt', 'Q15759 ePK_CMGC_MAPK_MK11.pt', 'P49137 ePK_CAMK_MAPKAPK_MAPK2.pt', 'Q13705 ePK_TKL_STKR_AVR2B.pt', 'Q01974 ePK_TK_Ror_ROR2.pt', 'Q96Q04 ePK_TK_Lmr_LMTK3.pt', 'Q9NZJ5 ePK_Other_PEK_E2AK3.pt', 'Q9Y2H9 ePK_AGC_MAST_MAST1.pt', 'Q14680 ePK_CAMK_CAMKL_MELK.pt', 'Q9BYT3 ePK_CAMK_STK33_STK33.pt', 'Q13308 ePK_TK_CCK4_PTK7.pt', 'Q96DU7 Atypical__IPK_IP3KC.pt', 'P23677 Atypical__IPK_IP3KA.pt', 'P35626 ePK_AGC_GRK_ARBK2.pt', 'Q5TCY1 ePK_CK1_TTBK_TTBK1.pt', 'P10721 ePK_TK_PDGFR_KIT.pt', 'P78527 Atypical__PIKK_PRKDC.pt', 'P29597|1 ePK_TK_Jak_TYK2.pt', 'Q96SB4 ePK_CMGC_SRPK_SRPK1.pt', 'P25098 ePK_AGC_GRK_ARBK1.pt', 'P53778 ePK_CMGC_MAPK_MK12.pt', 'Q96S38 ePK_AGC_RSKL_KS6C1.pt', 'Q8IYT8 ePK_Other_ULK_ULK2.pt', 'Q13315 Atypical__PIKK_ATM.pt', 'P54764 ePK_TK_Eph_EPHA4.pt', 'O95747 ePK_STE_STE20_OXSR1.pt', 'Q96S44 eLK__Bud32_PRPK.pt', 'P12931 ePK_TK_Src_SRC.pt', 'Q9BXA7 ePK_CAMK_TSSK_TSSK1.pt', 'P35968 ePK_TK_VEGFR_VGFR2.pt', 'P53671 ePK_TKL_LIMK_LIMK2.pt', 'Q14289 ePK_TK_FAK_FAK2.pt', 'Q9BXU1 ePK_Other_STK31_STK31.pt', 'P27037 ePK_TKL_STKR_AVR2A.pt', 'Q13418 ePK_TKL_MLK_ILK.pt', 'O14986 Atypical__PIPK_PI51B.pt', 'Q8TCG2 Atypical__PI4K_P4K2B.pt', 'Q9Y616 ePK_TKL_IRAK_IRAK3.pt', 'Q9Y2H1 ePK_AGC_NDR_ST38L.pt', 'Q9H1R3 ePK_CAMK_MLCK_MYLK2.pt', 'Q9NYL2 ePK_TKL_MLK_M3K20.pt', 'Q9H3Y6 ePK_TK_Src_SRMS.pt', 'Q8NEV1 ePK_CMGC_CK23_CSK23.pt', 'Q5T9C9 Atypical__PIPK_PI5L1.pt', 'O75460 ePK_Other_IRE_ERN1.pt', 'Q8TDX7 ePK_NEK_NEK6_NEK7.pt', 'Q8IU85 ePK_CAMK_CAMK1_KCC1D.pt', 'P54762 ePK_TK_Eph_EPHB1.pt', 'P00533 ePK_TK_EGFR_EGFR.pt', 'Q01973 ePK_TK_Ror_ROR1.pt', 'Q9NYY3 ePK_Other_PLK_PLK2.pt', 'O96017 ePK_CAMK_RAD53_CHK2.pt', 'O95382 ePK_STE_STE11_M3K6.pt', 'Q04912 ePK_TK_Met_RON.pt', 'Q9UEE5 ePK_CAMK_DAPK_ST17A.pt', 'Q13237 ePK_AGC_PKG_KGP2.pt', 'Q96RU8 ePK_CAMK_Trbl_TRIB1.pt', 'Q96D53 eLK__ABC1_COQ8B.pt', 'Q8NE28 ePK_Other_SgK071_STKL1.pt', 'P43250 ePK_AGC_GRK_GRK6.pt', 'Q9UHY1 ePK_Other_NRBP_NRBP.pt', 'Q9H8X2 Atypical___IPPK.pt', 'P80192 ePK_TKL_MLK_M3K9.pt', 'Q9H093 ePK_CAMK_CAMKL_NUAK2.pt', 'Q13976 ePK_AGC_PKG_KGP1.pt', 'Q9HAZ1 ePK_CMGC_CLK_CLK4.pt', 'Q16512 ePK_AGC_PKN_PKN1.pt', 'Q05823 ePK_Other_RNAseL_RN5A.pt', 'Q96Q15 Atypical__PIKK_SMG1.pt', 'O15021 ePK_AGC_MAST_MAST4.pt', 'Q6P5Z2 ePK_AGC_PKN_PKN3.pt', 'Q15746 ePK_CAMK_MLCK_MYLK.pt', 'Q99683 ePK_STE_STE11_M3K5.pt', 'Q96L34 ePK_CAMK_CAMKL_MARK4.pt', 'O00750 Atypical__PIKK_P3C2B.pt', 'P16234 ePK_TK_PDGFR_PGFRA.pt', 'Q6XUX3 ePK_Other_Dusty_DUSTY.pt', 'P09619 ePK_TK_PDGFR_PGFRB.pt', 'Q6SA08 ePK_CAMK_TSSK_TSSK4.pt', 'Q8TD08 ePK_CMGC_MAPK_MK15.pt', 'Q8N752 ePK_CK1_CK1-A_KC1AL.pt', 'O00238 ePK_TKL_STKR_BMR1B.pt', 'Q8IWQ3 ePK_CAMK_CAMKL_BRSK2.pt', 'O43353 ePK_TKL_RIPK_RIPK2.pt', 'O43683 ePK_Other_BUB_BUB1.pt', 'O43283 ePK_TKL_MLK_M3K13.pt', 'Q9Y259 eLK__CHK_CHKB.pt', 'Q04771 ePK_TKL_STKR_ACVR1.pt', 'P42679 ePK_TK_Csk_MATK.pt', 'Q96PC2 Atypical__IPK_IP6K3.pt', 'P10398 ePK_TKL_RAF_ARAF.pt', 'Q7L7X3 ePK_STE_STE20_TAOK1.pt', 'P28482 ePK_CMGC_MAPK_MK01.pt', 'P0C264 ePK_Other_NKF1_SBK3.pt', 'Q9Y6M4 ePK_CK1_CK1-G_KC1G3.pt', 'P31751 ePK_AGC_Akt_AKT2.pt', 'Q99755 Atypical__PIPK_PI51A.pt', 'Q12852 ePK_TKL_MLK_M3K12.pt', 'Q6P0Q8 ePK_AGC_MAST_MAST2.pt', 'O75582|2 ePK_CAMK_RSK-b_KS6A5.pt', 'Q96LW2 ePK_AGC_RSKR_KS6R.pt', 'Q9BYP7 ePK_Other_WNK_WNK3.pt', 'Q00534 ePK_CMGC_CDK_CDK6.pt', 'Q96J92 ePK_Other_WNK_WNK4.pt', 'Q12851 ePK_STE_STE20_M4K2.pt', 'P49841 ePK_CMGC_GSK_GSK3B.pt', 'P24723 ePK_AGC_PKC_KPCL.pt', 'O00311 ePK_Other_CDC7_CDC7.pt', 'Q07912 ePK_TK_Ack_ACK1.pt', 'O75914 ePK_STE_STE20_PAK3.pt', 'O00444 ePK_Other_PLK_PLK4.pt', 'O14578 ePK_AGC_DMPK_CTRO.pt', 'Q9H422 ePK_CMGC_DYRK_HIPK3.pt', 'O15111 ePK_Other_IKK_IKKA.pt', 'Q99558 ePK_STE_NIK_M3K14.pt', 'Q15772|1 ePK_CAMK_Trio_SPEG.pt', 'Q9H2G2 ePK_STE_STE20_SLK.pt', 'P06493 ePK_CMGC_CDK_CDK1.pt', 'Q496M5 ePK_Other_PLK_PLK5.pt', 'Q9UF33 ePK_TK_Eph_EPHA6.pt', 'Q5JZY3 ePK_TK_Eph_EPHAA.pt', 'P54753 ePK_TK_Eph_EPHB3.pt', 'O00329 Atypical__PIKK_PK3CD.pt', 'Q9BX84 Atypical__Alpha_TRPM6.pt', 'Q9C098 ePK_CAMK_DCAMKL_DCLK3.pt', 'P42684 ePK_TK_Abl_ABL2.pt', 'Q96BR1 ePK_AGC_SGK_SGK3.pt', 'Q8NEB9 Atypical__PIKK_PK3C3.pt', 'P35590 ePK_TK_Tie_TIE1.pt', 'Q13043 ePK_STE_STE20_STK4.pt', 'Q13546 ePK_TKL_RIPK_RIPK1.pt', 'Q8IVT5 ePK_TKL_RAF_KSR1.pt', 'Q96KB5 ePK_Other_TOPK_TOPK.pt', 'Q14012 ePK_CAMK_CAMK1_KCC1A.pt', 'Q15418|2 ePK_CAMK_RSK-b_KS6A1.pt', 'P53350 ePK_Other_PLK_PLK1.pt', 'A2RU49 eLK__HYKK_HYKK.pt', 'P50613 ePK_CMGC_CDK_CDK7.pt', 'P57078 ePK_TKL_RIPK_RIPK4.pt', 'P15056 ePK_TKL_RAF_BRAF.pt', 'Q96GD4 ePK_Other_Aur_AURKB.pt', 'Q59H18 ePK_TKL_MLK_TNI3K.pt', 'Q8IV63 ePK_CK1_VRK_VRK3.pt', 'Q15569 ePK_TKL_TESK_TESK1.pt', 'Q9Y6R4 ePK_STE_STE11_M3K4.pt', 'P17948 ePK_TK_VEGFR_VGFR1.pt', 'O15264 ePK_CMGC_MAPK_MK13.pt', 'Q9UQ07 ePK_CMGC_RCK_MOK.pt', 'P78368 ePK_CK1_CK1-G_KC1G2.pt', 'Q00526 ePK_CMGC_CDK_CDK3.pt', 'P53779 ePK_CMGC_MAPK_MK10.pt', 'Q8IY84 ePK_CAMK_CAMKL_NIM1.pt', 'Q9NRP7 ePK_Other_ULK_STK36.pt', 'P31152 ePK_CMGC_MAPK_MK04.pt', 'Q8NB16 ePK_TKL_MLKL_MLKL.pt', 'P04049 ePK_TKL_RAF_RAF1.pt', 'O94768 ePK_CAMK_DAPK_ST17B.pt', 'P54760 ePK_TK_Eph_EPHB4.pt', 'P25092 ePK_RGC__GUC2C.pt', 'P0C263 ePK_Other_NKF1_SBK2.pt', 'Q86Y07 ePK_CK1_VRK_VRK2.pt', 'Q5MAI5 ePK_CMGC_CDKL_CDKL4.pt', 'Q76MJ5 ePK_Other_IRE_ERN2.pt', 'P36894 ePK_TKL_STKR_BMR1A.pt', 'Q9HBH9 ePK_CAMK_MAPKAPK_MKNK2.pt', 'Q96RR4 ePK_Other_CAMKK_KKCC2.pt', 'Q8IWB6 ePK_Other_NKF5_TEX14.pt', 'Q86TW2 eLK__ABC1_ADCK1.pt', 'P78356 Atypical__PIPK_PI42B.pt', 'P07333 ePK_TK_PDGFR_CSF1R.pt', 'Q8NFD2 ePK_TKL_RIPK_ANKK1.pt', 'P00540 ePK_Other_MOS_MOS.pt', 'O43293 ePK_CAMK_DAPK_DAPK3.pt', 'Q709F0 eLK__ACD_ACD11.pt', 'Q96KG9 ePK_Other_SCY1_SCYL1.pt', 'Q9UL54 ePK_STE_STE20_TAOK2.pt', 'Q5S007 ePK_TKL_LRRK_LRRK2.pt', 'O75676|1 ePK_AGC_RSK_KS6A4.pt', 'O75676|2 ePK_CAMK_RSK-b_KS6A4.pt', 'Q9Y243 ePK_AGC_Akt_AKT3.pt', 'P57059 ePK_CAMK_CAMKL_SIK1.pt', 'Q9P2K8|2 ePK_Other_PEK_E2AK4.pt', 'Q9C0K7 ePK_STE_STE20_STRAB.pt', 'Q9UPZ9 ePK_CMGC_RCK_ICK.pt', 'Q9UKE5 ePK_STE_STE20_TNIK.pt', 'Q6P2M8 ePK_CAMK_CAMK1_KCC1B.pt', 'O14965 ePK_Other_Aur_AURKA.pt', 'Q06187 ePK_TK_Tec_BTK.pt', 'Q96RG2 ePK_CAMK_CAMKL_PASK.pt', 'P29597|2 ePK_TK_Jak-b_TYK2.pt', 'Q56UN5 ePK_STE_STE11_M3K19.pt', 'P48736 Atypical__PIKK_PK3CG.pt', 'Q9Y2K2 ePK_CAMK_CAMKL_SIK3.pt', 'Q32MK0 ePK_CAMK_MLCK_MYLK3.pt', 'Q9BVL4 Atypical___SELO.pt', 'P07948 ePK_TK_Src_LYN.pt', 'Q9NYV4 ePK_CMGC_CDK_CDK12.pt', 'Q8N2I9 ePK_CAMK_SgK495_STK40.pt', 'Q5VST9|1 ePK_CAMK_Trio_OBSCN.pt', 'Q8IVW4 ePK_CMGC_CDKL_CDKL3.pt', 'Q9P0L2 ePK_CAMK_CAMKL_MARK1.pt', 'Q9UHH9 Atypical__IPK_IP6K2.pt', 'P49760 ePK_CMGC_CLK_CLK2.pt', 'Q15349|1 ePK_AGC_RSK_KS6A2.pt', 'Q92918 ePK_STE_STE20_M4K1.pt', 'O95835 ePK_AGC_NDR_LATS1.pt', 'Q8TF76 ePK_Other_Haspin_HASP.pt', 'Q8IWU2 ePK_TK_Lmr_LMTK2.pt', 'P78362 ePK_CMGC_SRPK_SRPK2.pt', 'P42336 Atypical__PIKK_PK3CA.pt', 'Q9UM73 ePK_TK_ALK_ALK.pt', 'P21802 ePK_TK_FGFR_FGFR2.pt', 'P11309 ePK_CAMK_PIM_PIM1.pt', 'P36507 ePK_STE_STE7_MP2K2.pt', 'P05129 ePK_AGC_PKC_KPCG.pt', 'Q15375 ePK_TK_Eph_EPHA7.pt', 'Q7KZI7 ePK_CAMK_CAMKL_MARK2.pt', 'Q9H5K3 ePK_Other_POMK_SG196.pt', 'Q96C45 ePK_Other_ULK_ULK4.pt', 'P43403 ePK_TK_Syk_ZAP70.pt', 'Q9Y4A5 Atypical__PIKK_TRRAP.pt', 'Q8WTQ7 ePK_AGC_GRK_GRK7.pt', 'Q6P3R8 ePK_NEK_NEK1_NEK5.pt', 'Q15303 ePK_TK_EGFR_ERBB4.pt', 'P52564 ePK_STE_STE7_MP2K6.pt', 'P48729 ePK_CK1_CK1-A_KC1A.pt', 'Q9UQM7 ePK_CAMK_CAMK2_KCC2A.pt', 'Q15831 ePK_CAMK_CAMKL_STK11.pt', 'Q08881 ePK_TK_Tec_ITK.pt', 'P36896 ePK_TKL_STKR_ACV1B.pt', 'O14730 eLK__RIO_RIOK3.pt', 'Q13554 ePK_CAMK_CAMK2_KCC2B.pt', 'O94804 ePK_STE_STE20_STK10.pt', 'Q96QS6 ePK_CAMK_PSK_KPSH2.pt', 'P11801 ePK_CAMK_PSK_KPSH1.pt', 'P54756 ePK_TK_Eph_EPHA5.pt', 'P05771 ePK_AGC_PKC_KPCB.pt', 'O94921 ePK_CMGC_CDK_CDK14.pt', 'O76039 ePK_CMGC_CDKL_CDKL5.pt', 'Q13464 ePK_AGC_DMPK_ROCK1.pt', 'Q8N4C8 ePK_STE_STE20_MINK1.pt', 'Q09013 ePK_AGC_DMPK_DMPK.pt', 'Q13131 ePK_CAMK_CAMKL_AAPK1.pt', 'O60674|1 ePK_TK_Jak_JAK2.pt', 'Q16584 ePK_TKL_MLK_M3K11.pt', 'Q9NRH2 ePK_CAMK_CAMKL_SNRK.pt', 'P53667 ePK_TKL_LIMK_LIMK1.pt', 'O43781 ePK_CMGC_DYRK_DYRK3.pt', 'Q9NR20 ePK_CMGC_DYRK_DYRK4.pt', 'P51817 ePK_AGC_PKA_PRKX.pt', 'Q86YV5 ePK_Other_NKF3_PRAG1.pt', 'Q9UEW8 ePK_STE_STE20_STK39.pt', 'Q9Y2I7 Atypical__PIPK_FYV1.pt', 'O60229 ePK_CAMK_Trio_KALRN.pt', 'P35790 eLK__CHK_CHKA.pt', 'Q5VST9|2 ePK_CAMK_Trio_OBSCN.pt', 'Q6J9G0 ePK_TK_STYK_STYK1.pt', 'P51812|1 ePK_AGC_RSK_KS6A3.pt', 'Q07002 ePK_CMGC_CDK_CDK18.pt', 'Q504Y2 ePK_Other_SgK493_PKDCC.pt', 'P20794 ePK_CMGC_RCK_MAK.pt', 'Q00532 ePK_CMGC_CDKL_CDKL1.pt', 'Q16832 ePK_TK_DDR_DDR2.pt', 'P51956 ePK_NEK_NEK1_NEK3.pt', 'Q8NFU5 Atypical__IPK_IPMK.pt', 'P29376 ePK_TK_ALK_LTK.pt', 'Q8TAS1 ePK_Other_KIS_UHMK1.pt', 'Q9P289 ePK_STE_STE20_STK26.pt', 'Q6ZS72 ePK_Other_NKF3_PEAK3.pt', 'P42681 ePK_TK_Tec_TXK.pt', 'Q86Z02 ePK_CMGC_DYRK_HIPK1.pt', 'Q8WU08 ePK_AGC_YANK_ST32A.pt', 'Q08345 ePK_TK_DDR_DDR1.pt', 'Q9NRM7 ePK_AGC_NDR_LATS2.pt', 'Q8IVH8 ePK_STE_STE20_M4K3.pt', 'P31749 ePK_AGC_Akt_AKT1.pt', 'Q8NI60 eLK__ABC1_COQ8A.pt', 'Q99986 ePK_CK1_VRK_VRK1.pt', 'Q16671 ePK_TKL_STKR_AMHR2.pt', 'O15530 ePK_AGC_PDK1_PDPK1.pt', 'Q00536 ePK_CMGC_CDK_CDK16.pt', 'Q06418 ePK_TK_Axl_TYRO3.pt', 'Q6IQ55 ePK_CK1_TTBK_TTBK2.pt', 'Q9NVF9 eLK__EKI_EKI2.pt', 'Q96NX5 ePK_CAMK_CAMK1_KCC1G.pt', 'Q15139 ePK_CAMK_PKD_KPCD1.pt', 'Q9BRS2 eLK__RIO_RIOK1.pt', 'Q9HBU6 eLK__EKI_EKI1.pt', 'Q8TDR2 ePK_Other_NKF4_STK35.pt', 'P42345 Atypical__PIKK_MTOR.pt', 'Q9P2K8|1 ePK_Other_PEK_E2AK4.pt', 'P48730 ePK_CK1_CK1-D_KC1D.pt', 'O15075 ePK_CAMK_DCAMKL_DCLK1.pt', 'Q99570 ePK_Other_VPS15_PI3R4.pt', 'P29322 ePK_TK_Eph_EPHA8.pt', 'Q96PF2 ePK_CAMK_TSSK_TSSK2.pt', 'Q16513 ePK_AGC_PKN_PKN2.pt', 'Q9H4B4 ePK_Other_PLK_PLK3.pt', 'O60307 ePK_AGC_MAST_MAST3.pt', 'Q9BWU1 ePK_CMGC_CDK_CDK19.pt', 'Q9Y5S2 ePK_AGC_DMPK_MRCKB.pt', 'P45984 ePK_CMGC_MAPK_MK09.pt', 'Q9BTU6 Atypical__PI4K_P4K2A.pt', 'Q8WXR4 ePK_STE_STE20_MYO3B.pt', 'Q96RU7 ePK_CAMK_Trbl_TRIB3.pt', 'P45985 ePK_STE_STE7_MP2K4.pt', 'P51813 ePK_TK_Tec_BMX.pt', 'Q9UBE8 ePK_CMGC_MAPK_NLK.pt', 'P23443 ePK_AGC_RSK_KS6B1.pt', 'Q6JQN1 eLK__ACD_ACD10.pt', 'P11802 ePK_CMGC_CDK_CDK4.pt', 'Q16620 ePK_TK_Trk_NTRK2.pt', 'P42338 Atypical__PIKK_PK3CB.pt', 'Q13873 ePK_TKL_STKR_BMPR2.pt', 'P57058 ePK_CAMK_CAMKL_HUNK.pt', 'P22612 ePK_AGC_PKA_KAPCG.pt', 'Q16659 ePK_CMGC_MAPK_MK06.pt', 'Q9NSY0 ePK_Other_NRBP_NRBP2.pt', 'P41279 ePK_STE_COT_M3K8.pt', 'O94806 ePK_CAMK_PKD_KPCD3.pt', 'P11362 ePK_TK_FGFR_FGFR1.pt', 'Q9UPE1 ePK_CMGC_SRPK_SRPK3.pt', 'Q8TEA7 ePK_Other_TBCK_TBCK.pt', 'Q8NER5 ePK_TKL_STKR_ACV1C.pt', 'Q6ZN16 ePK_STE_STE11_M3K15.pt', 'Q9NSY1 ePK_Other_NAK_BMP2K.pt', 'Q9Y4K4 ePK_STE_STE20_M4K5.pt', 'Q9BXA6 ePK_CAMK_TSSK_TSSK6.pt', 'Q16566 ePK_CAMK_CAMK1_KCC4.pt', 'P08631 ePK_TK_Src_HCK.pt', 'O00418 Atypical__Alpha_EF2K.pt', 'A0A0B4J2F2 ePK_CAMK_SIK1B_SIK1B.pt', 'O95819 ePK_STE_STE20_M4K4.pt', 'Q9Y6S9 ePK_AGC_RSKL_RPKL1.pt', 'P52333|1 ePK_TK_Jak_JAK3.pt', 'Q9UQB9 ePK_Other_Aur_AURKC.pt', 'P19784 ePK_CMGC_CK2_CSK22.pt', 'Q2M2I8 ePK_Other_NAK_AAK1.pt', 'Q00535 ePK_CMGC_CDK_CDK5.pt', 'P42680 ePK_TK_Tec_TEC.pt', 'Q12866 ePK_TK_Axl_MERTK.pt', 'P08069 ePK_TK_InsR_IGF1R.pt', 'Q02779 ePK_TKL_MLK_M3K10.pt', 'Q13627 ePK_CMGC_DYRK_DYR1A.pt', 'P51841 ePK_RGC__GUC2F.pt', 'P51617 ePK_TKL_IRAK_IRAK1.pt', 'P07332 ePK_TK_Fer_FES.pt', 'Q7Z2Y5 ePK_STE_STE20_NRK.pt', 'Q9H4A3 ePK_Other_WNK_WNK1.pt', 'Q13153 ePK_STE_STE20_PAK1.pt', 'Q6A1A2 ePK_AGC_PDPK2_PDPK2.pt', 'P09769 ePK_TK_Src_FGR.pt', 'P53355 ePK_CAMK_DAPK_DAPK1.pt', 'Q13523 ePK_CMGC_DYRK_PRP4B.pt', 'Q9UQ88 ePK_CMGC_CDK_CD11A.pt', 'Q86TB3 Atypical__Alpha_ALPK2.pt', 'Q9BQI3 ePK_Other_PEK_E2AK1.pt', 'Q9H792 ePK_Other_NKF3_PEAK1.pt', 'Q86UX6 ePK_AGC_YANK_ST32C.pt', 'Q02750 ePK_STE_STE7_MP2K1.pt', 'P37023 ePK_TKL_STKR_ACVL1.pt', 'Q9UBF8 Atypical__PIKK_PI4KB.pt', 'Q15772|2 ePK_CAMK_Trio_SPEG.pt', 'P14616 ePK_TK_InsR_INSRR.pt', 'O75063 Atypical__FAM20_XYLK.pt', 'Q6PHR2 ePK_Other_ULK_ULK3.pt', 'O60285 ePK_CAMK_CAMKL_NUAK1.pt', 'Q96PN8 ePK_CAMK_TSSK_TSSK3.pt', 'P19525 ePK_Other_PEK_E2AK2.pt', 'Q13470 ePK_TK_Ack_TNK1.pt', 'P46734 ePK_STE_STE7_MP2K3.pt', 'Q13233 ePK_STE_STE11_M3K1.pt', 'Q9Y3S1 ePK_Other_WNK_WNK2.pt', 'P29320 ePK_TK_Eph_EPHA3.pt', 'Q15835 ePK_AGC_GRK_GRK1.pt', 'Q6ZMQ8 ePK_TK_Lmr_LMTK1.pt', 'Q8NCB2 ePK_CAMK_CAMKV_CAMKV.pt', 'P06239 ePK_TK_Src_LCK.pt', 'P0C1S8 ePK_Other_WEE_WEE2.pt', 'O60331 Atypical__PIPK_PI51C.pt', 'P16591 ePK_TK_Fer_FER.pt', 'O14976 ePK_Other_NAK_GAK.pt', 'Q3MIX3 eLK__ABC1_ADCK5.pt', 'P27361 ePK_CMGC_MAPK_MK03.pt', 'Q92551 Atypical__IPK_IP6K1.pt', 'Q6P3W7 ePK_Other_SCY1_SCYL2.pt', 'O00506 ePK_STE_STE20_STK25.pt', 'Q9H2X6 ePK_CMGC_DYRK_HIPK2.pt', 'P15735 ePK_CAMK_PHK_PHKG2.pt', 'P29323 ePK_TK_Eph_EPHB2.pt', 'Q7Z695 eLK__ABC1_ADCK2.pt', 'Q9UKI8 ePK_Other_TLK_TLK1.pt', 'O43930 ePK_AGC_PKA_PRKY.pt', 'Q96QT4 Atypical__Alpha_TRPM7.pt', 'Q8N5S9 ePK_Other_CAMKK_KKCC1.pt', 'P21127 ePK_CMGC_CDK_CD11B.pt', 'Q8N568 ePK_CAMK_DCAMKL_DCLK2.pt', 'Q86YV6 ePK_CAMK_MLCK_MYLK4.pt', 'P04629 ePK_TK_Trk_NTRK1.pt', 'P07947 ePK_TK_Src_YES.pt', 'Q16288 ePK_TK_Trk_NTRK3.pt', 'Q14004 ePK_CMGC_CDK_CDK13.pt', 'Q96L96 Atypical__Alpha_ALPK3.pt', 'O96013 ePK_STE_STE20_PAK4.pt', 'P21709 ePK_TK_Eph_EPHA1.pt', 'Q96Q40 ePK_CMGC_CDK_CDK15.pt', 'P49336 ePK_CMGC_CDK_CDK8.pt', 'Q9P286 ePK_STE_STE20_PAK5.pt', 'P24941 ePK_CMGC_CDK_CDK2.pt', 'Q58A45 ePK_Other_PAN3_PAN3.pt', 'O43187 ePK_TKL_IRAK_IRAK2.pt', 'P30530 ePK_TK_Axl_UFO.pt', 'P51957 ePK_NEK_NEK4_NEK4.pt', 'P21860 ePK_TK_EGFR_ERBB3.pt', 'Q6ZWH5 ePK_NEK_NEK10_NEK10.pt', 'P36888 ePK_TK_PDGFR_FLT3.pt', 'Q9HCP0 ePK_CK1_CK1-G_KC1G1.pt', 'O15146 ePK_TK_Musk_MUSK.pt', 'P50750 ePK_CMGC_CDK_CDK9.pt', 'P49761 ePK_CMGC_CLK_CLK3.pt', 'Q02156 ePK_AGC_PKC_KPCE.pt', 'Q8NG66 ePK_NEK_NEK11_NEK11.pt', 'Q9UIK4 ePK_CAMK_DAPK_DAPK2.pt', 'Q6DT37 ePK_AGC_DMPK_MRCKG.pt', 'P42356 Atypical__PIKK_PI4KA.pt', 'Q92630 ePK_CMGC_DYRK_DYRK2.pt', 'P43405 ePK_TK_Syk_KSYK.pt', 'Q9BZL6 ePK_CAMK_PKD_KPCD2.pt', 'Q13188 ePK_STE_STE20_STK3.pt', 'P22607 ePK_TK_FGFR_FGFR3.pt', 'Q9UHD2 ePK_Other_IKK_TBK1.pt', 'P17252 ePK_AGC_PKC_KPCA.pt', 'P27987 Atypical__IPK_IP3KB.pt']\n",
      "Q96GX5 ePK_AGC_MAST_GWL.pt\n",
      "Prepare data: tensor construction\n",
      "Prepare data: successfully terminated\n",
      "labels: ['Q96GX5 ePK_AGC_MAST_GWL' 'P16066 ePK_RGC__ANPRA'\n",
      " 'Q13555 ePK_CAMK_CAMK2_KCC2G' 'Q9H2K8 ePK_STE_STE20_TAOK3'\n",
      " 'P22694 ePK_AGC_PKA_KAPCB' 'O60674|2 ePK_TK_Jak-b_JAK2'\n",
      " 'Q96MK3 Atypical__FAM20_FA20A' 'Q9Y6E0 ePK_STE_STE20_STK24'\n",
      " 'Q9BVS4 eLK__RIO_RIOK2' 'Q9UBS0 ePK_AGC_RSK_KS6B2'\n",
      " 'Q16539 ePK_CMGC_MAPK_MK14' 'Q9UK32|1 ePK_AGC_RSK_KS6A6'\n",
      " 'Q8NE63 ePK_CMGC_DYRK_HIPK4' 'P07949 ePK_TK_Ret_RET'\n",
      " 'O75962 ePK_CAMK_Trio_TRIO' 'P33981 ePK_Other_TTK_TTK'\n",
      " 'Q6VAB6 ePK_TKL_RAF_KSR2' 'Q02763 ePK_TK_Tie_TIE2'\n",
      " 'O00141 ePK_AGC_SGK_SGK1' 'Q8TBX8 Atypical__PIPK_PI42C'\n",
      " 'P41743 ePK_AGC_PKC_KPCI' 'Q7Z7A4 ePK_Other_Slob_PXK'\n",
      " 'P04626 ePK_TK_EGFR_ERBB2' 'P54646 ePK_CAMK_CAMKL_AAPK2'\n",
      " 'O14733 ePK_STE_STE7_MP2K7' 'Q9H0K1 ePK_CAMK_CAMKL_SIK2'\n",
      " 'P36897 ePK_TKL_STKR_TGFR1' 'O14936 ePK_CAMK_CASK_CSKP'\n",
      " 'O75747 Atypical__PIKK_P3C2G' 'Q16644 ePK_CAMK_MAPKAPK_MAPK3'\n",
      " 'Q99759 ePK_STE_STE11_M3K3' 'Q8IW41 ePK_CAMK_MAPKAPK_MAPK5'\n",
      " 'Q86SG6 ePK_NEK_NEK8_NEK8' 'Q8NEV4 ePK_STE_STE20_MYO3A'\n",
      " 'P35916 ePK_TK_VEGFR_VGFR3' 'Q92772 ePK_CMGC_CDKL_CDKL2'\n",
      " 'P68400 ePK_CMGC_CK2_CSK21' 'Q8TD19 ePK_NEK_NEK9_NEK9'\n",
      " 'Q00537 ePK_CMGC_CDK_CDK17' 'Q86V86 ePK_CAMK_PIM_PIM3'\n",
      " 'Q9UK32|2 ePK_CAMK_RSK-b_KS6A6' 'Q52WX2 ePK_Other_NKF1_SBK1'\n",
      " 'Q13535 Atypical__PIKK_ATR' 'Q9Y463 ePK_CMGC_DYRK_DYR1B'\n",
      " 'P48426 Atypical__PIPK_PI42A' 'Q9BXM7 ePK_Other_NKF2_PINK1'\n",
      " 'Q02846 ePK_RGC__GUC2D' 'Q9HA64 eLK__KT3K_KT3K' 'P41240 ePK_TK_Csk_CSK'\n",
      " 'Q9H479 eLK__FN3K_FN3K' 'P49840 ePK_CMGC_GSK_GSK3A'\n",
      " 'Q86UE8 ePK_Other_TLK_TLK2' 'P52333|2 ePK_TK_Jak-b_JAK3'\n",
      " 'Q96PY6 ePK_NEK_NEK1_NEK1' 'O60566 ePK_Other_BUB_BUB1B'\n",
      " 'Q96QP1 Atypical__Alpha_ALPK1' 'P20594 ePK_RGC__ANPRB'\n",
      " 'P37173 ePK_TKL_STKR_TGFR2' 'Q8TDC3 ePK_CAMK_CAMKL_BRSK1'\n",
      " 'P27448 ePK_CAMK_CAMKL_MARK3' 'P32298 ePK_AGC_GRK_GRK4'\n",
      " 'Q13882 ePK_TK_Src_PTK6' 'Q9BUB5 ePK_CAMK_MAPKAPK_MKNK1'\n",
      " 'Q9Y2U5 ePK_STE_STE11_M3K2' 'P06213 ePK_TK_InsR_INSR'\n",
      " 'O14920 ePK_Other_IKK_IKKB' 'Q96S53 ePK_TKL_TESK_TESK2'\n",
      " 'O43318 ePK_TKL_MLK_M3K7' 'O00443 Atypical__PIKK_P3C2A'\n",
      " 'Q5TCX8 ePK_TKL_MLK_M3K21' 'O14757 ePK_CAMK_CAMKL_CHK1'\n",
      " 'P45983 ePK_CMGC_MAPK_MK08' 'P51812|2 ePK_CAMK_RSK-b_KS6A3'\n",
      " 'Q9HC98 ePK_NEK_NEK6_NEK6' 'Q15418|1 ePK_AGC_RSK_KS6A1'\n",
      " 'P17612 ePK_AGC_PKA_KAPCA' 'Q38SD2 ePK_TKL_LRRK_LRRK1'\n",
      " 'Q14164 ePK_Other_IKK_IKKE' 'Q8WZ42 ePK_CAMK_MLCK_TITIN'\n",
      " 'Q8IXL6 Atypical__FAM20_FA20C' 'O15197 ePK_TK_Eph_EPHB6'\n",
      " 'Q04759 ePK_AGC_PKC_KPCT' 'P49759 ePK_CMGC_CLK_CLK1'\n",
      " 'P23458|2 ePK_TK_Jak-b_JAK1' 'Q9P1W9 ePK_CAMK_PIM_PIM2'\n",
      " 'Q05655 ePK_AGC_PKC_KPCD' 'P08581 ePK_TK_Met_MET'\n",
      " 'P29317 ePK_TK_Eph_EPHA2' 'P51451 ePK_TK_Src_BLK'\n",
      " 'Q8IZE3 ePK_Other_SCY1_PACE1' 'P49674 ePK_CK1_CK1-D_KC1E'\n",
      " 'Q15208 ePK_AGC_NDR_STK38' 'P00519 ePK_TK_Abl_ABL1'\n",
      " 'Q15349|2 ePK_CAMK_RSK-b_KS6A2' 'Q15131 ePK_CMGC_CDK_CDK10'\n",
      " 'Q13557 ePK_CAMK_CAMK2_KCC2D' 'Q9NQU5 ePK_STE_STE20_PAK6'\n",
      " 'Q8IZL9 ePK_CMGC_CDK_CDK20' 'Q9HBY8 ePK_AGC_SGK_SGK2'\n",
      " 'P34925 ePK_TK_Ryk_RYK' 'Q9NWZ3 ePK_TKL_IRAK_IRAK4'\n",
      " 'Q13164 ePK_CMGC_MAPK_MK07' 'O75716 ePK_Other_NAK_STK16'\n",
      " 'Q9NY57 ePK_AGC_YANK_ST32B' 'O75582|1 ePK_AGC_RSK_KS6A5'\n",
      " 'Q16816 ePK_CAMK_PHK_PHKG1' 'P22455 ePK_TK_FGFR_FGFR4'\n",
      " 'Q9Y572 ePK_TKL_RIPK_RIPK3' 'P30291 ePK_Other_WEE_WEE1'\n",
      " 'Q5VT25 ePK_AGC_DMPK_MRCKA' 'Q05397 ePK_TK_FAK_FAK1'\n",
      " 'P23458|1 ePK_TK_Jak_JAK1' 'Q8N165 ePK_Other_NKF4_PDK1L'\n",
      " 'P08922 ePK_TK_Sev_ROS1' 'Q13177 ePK_STE_STE20_PAK2'\n",
      " 'O75116 ePK_AGC_DMPK_ROCK2' 'Q7RTN6 ePK_STE_STE20_STRAA'\n",
      " 'Q05513 ePK_AGC_PKC_KPCZ' 'Q13163 ePK_STE_STE7_MP2K5'\n",
      " 'P51955 ePK_NEK_NEK2_NEK2' 'Q99640 ePK_Other_WEE_PMYT1'\n",
      " 'O75385 ePK_Other_ULK_ULK1' 'P42685 ePK_TK_Src_FRK'\n",
      " 'Q92519 ePK_CAMK_Trbl_TRIB2' 'P34947 ePK_AGC_GRK_GRK5'\n",
      " 'P06241 ePK_TK_Src_FYN' 'Q15759 ePK_CMGC_MAPK_MK11'\n",
      " 'P49137 ePK_CAMK_MAPKAPK_MAPK2' 'Q13705 ePK_TKL_STKR_AVR2B'\n",
      " 'Q01974 ePK_TK_Ror_ROR2' 'Q96Q04 ePK_TK_Lmr_LMTK3'\n",
      " 'Q9NZJ5 ePK_Other_PEK_E2AK3' 'Q9Y2H9 ePK_AGC_MAST_MAST1'\n",
      " 'Q14680 ePK_CAMK_CAMKL_MELK' 'Q9BYT3 ePK_CAMK_STK33_STK33'\n",
      " 'Q13308 ePK_TK_CCK4_PTK7' 'Q96DU7 Atypical__IPK_IP3KC'\n",
      " 'P23677 Atypical__IPK_IP3KA' 'P35626 ePK_AGC_GRK_ARBK2'\n",
      " 'Q5TCY1 ePK_CK1_TTBK_TTBK1' 'P10721 ePK_TK_PDGFR_KIT'\n",
      " 'P78527 Atypical__PIKK_PRKDC' 'P29597|1 ePK_TK_Jak_TYK2'\n",
      " 'Q96SB4 ePK_CMGC_SRPK_SRPK1' 'P25098 ePK_AGC_GRK_ARBK1'\n",
      " 'P53778 ePK_CMGC_MAPK_MK12' 'Q96S38 ePK_AGC_RSKL_KS6C1'\n",
      " 'Q8IYT8 ePK_Other_ULK_ULK2' 'Q13315 Atypical__PIKK_ATM'\n",
      " 'P54764 ePK_TK_Eph_EPHA4' 'O95747 ePK_STE_STE20_OXSR1'\n",
      " 'Q96S44 eLK__Bud32_PRPK' 'P12931 ePK_TK_Src_SRC'\n",
      " 'Q9BXA7 ePK_CAMK_TSSK_TSSK1' 'P35968 ePK_TK_VEGFR_VGFR2'\n",
      " 'P53671 ePK_TKL_LIMK_LIMK2' 'Q14289 ePK_TK_FAK_FAK2'\n",
      " 'Q9BXU1 ePK_Other_STK31_STK31' 'P27037 ePK_TKL_STKR_AVR2A'\n",
      " 'Q13418 ePK_TKL_MLK_ILK' 'O14986 Atypical__PIPK_PI51B'\n",
      " 'Q8TCG2 Atypical__PI4K_P4K2B' 'Q9Y616 ePK_TKL_IRAK_IRAK3'\n",
      " 'Q9Y2H1 ePK_AGC_NDR_ST38L' 'Q9H1R3 ePK_CAMK_MLCK_MYLK2'\n",
      " 'Q9NYL2 ePK_TKL_MLK_M3K20' 'Q9H3Y6 ePK_TK_Src_SRMS'\n",
      " 'Q8NEV1 ePK_CMGC_CK23_CSK23' 'Q5T9C9 Atypical__PIPK_PI5L1'\n",
      " 'O75460 ePK_Other_IRE_ERN1' 'Q8TDX7 ePK_NEK_NEK6_NEK7'\n",
      " 'Q8IU85 ePK_CAMK_CAMK1_KCC1D' 'P54762 ePK_TK_Eph_EPHB1'\n",
      " 'P00533 ePK_TK_EGFR_EGFR' 'Q01973 ePK_TK_Ror_ROR1'\n",
      " 'Q9NYY3 ePK_Other_PLK_PLK2' 'O96017 ePK_CAMK_RAD53_CHK2'\n",
      " 'O95382 ePK_STE_STE11_M3K6' 'Q04912 ePK_TK_Met_RON'\n",
      " 'Q9UEE5 ePK_CAMK_DAPK_ST17A' 'Q13237 ePK_AGC_PKG_KGP2'\n",
      " 'Q96RU8 ePK_CAMK_Trbl_TRIB1' 'Q96D53 eLK__ABC1_COQ8B'\n",
      " 'Q8NE28 ePK_Other_SgK071_STKL1' 'P43250 ePK_AGC_GRK_GRK6'\n",
      " 'Q9UHY1 ePK_Other_NRBP_NRBP' 'Q9H8X2 Atypical___IPPK'\n",
      " 'P80192 ePK_TKL_MLK_M3K9' 'Q9H093 ePK_CAMK_CAMKL_NUAK2'\n",
      " 'Q13976 ePK_AGC_PKG_KGP1' 'Q9HAZ1 ePK_CMGC_CLK_CLK4'\n",
      " 'Q16512 ePK_AGC_PKN_PKN1' 'Q05823 ePK_Other_RNAseL_RN5A'\n",
      " 'Q96Q15 Atypical__PIKK_SMG1' 'O15021 ePK_AGC_MAST_MAST4'\n",
      " 'Q6P5Z2 ePK_AGC_PKN_PKN3' 'Q15746 ePK_CAMK_MLCK_MYLK'\n",
      " 'Q99683 ePK_STE_STE11_M3K5' 'Q96L34 ePK_CAMK_CAMKL_MARK4'\n",
      " 'O00750 Atypical__PIKK_P3C2B' 'P16234 ePK_TK_PDGFR_PGFRA'\n",
      " 'Q6XUX3 ePK_Other_Dusty_DUSTY' 'P09619 ePK_TK_PDGFR_PGFRB'\n",
      " 'Q6SA08 ePK_CAMK_TSSK_TSSK4' 'Q8TD08 ePK_CMGC_MAPK_MK15'\n",
      " 'Q8N752 ePK_CK1_CK1-A_KC1AL' 'O00238 ePK_TKL_STKR_BMR1B'\n",
      " 'Q8IWQ3 ePK_CAMK_CAMKL_BRSK2' 'O43353 ePK_TKL_RIPK_RIPK2'\n",
      " 'O43683 ePK_Other_BUB_BUB1' 'O43283 ePK_TKL_MLK_M3K13'\n",
      " 'Q9Y259 eLK__CHK_CHKB' 'Q04771 ePK_TKL_STKR_ACVR1'\n",
      " 'P42679 ePK_TK_Csk_MATK' 'Q96PC2 Atypical__IPK_IP6K3'\n",
      " 'P10398 ePK_TKL_RAF_ARAF' 'Q7L7X3 ePK_STE_STE20_TAOK1'\n",
      " 'P28482 ePK_CMGC_MAPK_MK01' 'P0C264 ePK_Other_NKF1_SBK3'\n",
      " 'Q9Y6M4 ePK_CK1_CK1-G_KC1G3' 'P31751 ePK_AGC_Akt_AKT2'\n",
      " 'Q99755 Atypical__PIPK_PI51A' 'Q12852 ePK_TKL_MLK_M3K12'\n",
      " 'Q6P0Q8 ePK_AGC_MAST_MAST2' 'O75582|2 ePK_CAMK_RSK-b_KS6A5'\n",
      " 'Q96LW2 ePK_AGC_RSKR_KS6R' 'Q9BYP7 ePK_Other_WNK_WNK3'\n",
      " 'Q00534 ePK_CMGC_CDK_CDK6' 'Q96J92 ePK_Other_WNK_WNK4'\n",
      " 'Q12851 ePK_STE_STE20_M4K2' 'P49841 ePK_CMGC_GSK_GSK3B'\n",
      " 'P24723 ePK_AGC_PKC_KPCL' 'O00311 ePK_Other_CDC7_CDC7'\n",
      " 'Q07912 ePK_TK_Ack_ACK1' 'O75914 ePK_STE_STE20_PAK3'\n",
      " 'O00444 ePK_Other_PLK_PLK4' 'O14578 ePK_AGC_DMPK_CTRO'\n",
      " 'Q9H422 ePK_CMGC_DYRK_HIPK3' 'O15111 ePK_Other_IKK_IKKA'\n",
      " 'Q99558 ePK_STE_NIK_M3K14' 'Q15772|1 ePK_CAMK_Trio_SPEG'\n",
      " 'Q9H2G2 ePK_STE_STE20_SLK' 'P06493 ePK_CMGC_CDK_CDK1'\n",
      " 'Q496M5 ePK_Other_PLK_PLK5' 'Q9UF33 ePK_TK_Eph_EPHA6'\n",
      " 'Q5JZY3 ePK_TK_Eph_EPHAA' 'P54753 ePK_TK_Eph_EPHB3'\n",
      " 'O00329 Atypical__PIKK_PK3CD' 'Q9BX84 Atypical__Alpha_TRPM6'\n",
      " 'Q9C098 ePK_CAMK_DCAMKL_DCLK3' 'P42684 ePK_TK_Abl_ABL2'\n",
      " 'Q96BR1 ePK_AGC_SGK_SGK3' 'Q8NEB9 Atypical__PIKK_PK3C3'\n",
      " 'P35590 ePK_TK_Tie_TIE1' 'Q13043 ePK_STE_STE20_STK4'\n",
      " 'Q13546 ePK_TKL_RIPK_RIPK1' 'Q8IVT5 ePK_TKL_RAF_KSR1'\n",
      " 'Q96KB5 ePK_Other_TOPK_TOPK' 'Q14012 ePK_CAMK_CAMK1_KCC1A'\n",
      " 'Q15418|2 ePK_CAMK_RSK-b_KS6A1' 'P53350 ePK_Other_PLK_PLK1'\n",
      " 'A2RU49 eLK__HYKK_HYKK' 'P50613 ePK_CMGC_CDK_CDK7'\n",
      " 'P57078 ePK_TKL_RIPK_RIPK4' 'P15056 ePK_TKL_RAF_BRAF'\n",
      " 'Q96GD4 ePK_Other_Aur_AURKB' 'Q59H18 ePK_TKL_MLK_TNI3K'\n",
      " 'Q8IV63 ePK_CK1_VRK_VRK3' 'Q15569 ePK_TKL_TESK_TESK1'\n",
      " 'Q9Y6R4 ePK_STE_STE11_M3K4' 'P17948 ePK_TK_VEGFR_VGFR1'\n",
      " 'O15264 ePK_CMGC_MAPK_MK13' 'Q9UQ07 ePK_CMGC_RCK_MOK'\n",
      " 'P78368 ePK_CK1_CK1-G_KC1G2' 'Q00526 ePK_CMGC_CDK_CDK3'\n",
      " 'P53779 ePK_CMGC_MAPK_MK10' 'Q8IY84 ePK_CAMK_CAMKL_NIM1'\n",
      " 'Q9NRP7 ePK_Other_ULK_STK36' 'P31152 ePK_CMGC_MAPK_MK04'\n",
      " 'Q8NB16 ePK_TKL_MLKL_MLKL' 'P04049 ePK_TKL_RAF_RAF1'\n",
      " 'O94768 ePK_CAMK_DAPK_ST17B' 'P54760 ePK_TK_Eph_EPHB4'\n",
      " 'P25092 ePK_RGC__GUC2C' 'P0C263 ePK_Other_NKF1_SBK2'\n",
      " 'Q86Y07 ePK_CK1_VRK_VRK2' 'Q5MAI5 ePK_CMGC_CDKL_CDKL4'\n",
      " 'Q76MJ5 ePK_Other_IRE_ERN2' 'P36894 ePK_TKL_STKR_BMR1A'\n",
      " 'Q9HBH9 ePK_CAMK_MAPKAPK_MKNK2' 'Q96RR4 ePK_Other_CAMKK_KKCC2'\n",
      " 'Q8IWB6 ePK_Other_NKF5_TEX14' 'Q86TW2 eLK__ABC1_ADCK1'\n",
      " 'P78356 Atypical__PIPK_PI42B' 'P07333 ePK_TK_PDGFR_CSF1R'\n",
      " 'Q8NFD2 ePK_TKL_RIPK_ANKK1' 'P00540 ePK_Other_MOS_MOS'\n",
      " 'O43293 ePK_CAMK_DAPK_DAPK3' 'Q709F0 eLK__ACD_ACD11'\n",
      " 'Q96KG9 ePK_Other_SCY1_SCYL1' 'Q9UL54 ePK_STE_STE20_TAOK2'\n",
      " 'Q5S007 ePK_TKL_LRRK_LRRK2' 'O75676|1 ePK_AGC_RSK_KS6A4'\n",
      " 'O75676|2 ePK_CAMK_RSK-b_KS6A4' 'Q9Y243 ePK_AGC_Akt_AKT3'\n",
      " 'P57059 ePK_CAMK_CAMKL_SIK1' 'Q9P2K8|2 ePK_Other_PEK_E2AK4'\n",
      " 'Q9C0K7 ePK_STE_STE20_STRAB' 'Q9UPZ9 ePK_CMGC_RCK_ICK'\n",
      " 'Q9UKE5 ePK_STE_STE20_TNIK' 'Q6P2M8 ePK_CAMK_CAMK1_KCC1B'\n",
      " 'O14965 ePK_Other_Aur_AURKA' 'Q06187 ePK_TK_Tec_BTK'\n",
      " 'Q96RG2 ePK_CAMK_CAMKL_PASK' 'P29597|2 ePK_TK_Jak-b_TYK2'\n",
      " 'Q56UN5 ePK_STE_STE11_M3K19' 'P48736 Atypical__PIKK_PK3CG'\n",
      " 'Q9Y2K2 ePK_CAMK_CAMKL_SIK3' 'Q32MK0 ePK_CAMK_MLCK_MYLK3'\n",
      " 'Q9BVL4 Atypical___SELO' 'P07948 ePK_TK_Src_LYN'\n",
      " 'Q9NYV4 ePK_CMGC_CDK_CDK12' 'Q8N2I9 ePK_CAMK_SgK495_STK40'\n",
      " 'Q5VST9|1 ePK_CAMK_Trio_OBSCN' 'Q8IVW4 ePK_CMGC_CDKL_CDKL3'\n",
      " 'Q9P0L2 ePK_CAMK_CAMKL_MARK1' 'Q9UHH9 Atypical__IPK_IP6K2'\n",
      " 'P49760 ePK_CMGC_CLK_CLK2' 'Q15349|1 ePK_AGC_RSK_KS6A2'\n",
      " 'Q92918 ePK_STE_STE20_M4K1' 'O95835 ePK_AGC_NDR_LATS1'\n",
      " 'Q8TF76 ePK_Other_Haspin_HASP' 'Q8IWU2 ePK_TK_Lmr_LMTK2'\n",
      " 'P78362 ePK_CMGC_SRPK_SRPK2' 'P42336 Atypical__PIKK_PK3CA'\n",
      " 'Q9UM73 ePK_TK_ALK_ALK' 'P21802 ePK_TK_FGFR_FGFR2'\n",
      " 'P11309 ePK_CAMK_PIM_PIM1' 'P36507 ePK_STE_STE7_MP2K2'\n",
      " 'P05129 ePK_AGC_PKC_KPCG' 'Q15375 ePK_TK_Eph_EPHA7'\n",
      " 'Q7KZI7 ePK_CAMK_CAMKL_MARK2' 'Q9H5K3 ePK_Other_POMK_SG196'\n",
      " 'Q96C45 ePK_Other_ULK_ULK4' 'P43403 ePK_TK_Syk_ZAP70'\n",
      " 'Q9Y4A5 Atypical__PIKK_TRRAP' 'Q8WTQ7 ePK_AGC_GRK_GRK7'\n",
      " 'Q6P3R8 ePK_NEK_NEK1_NEK5' 'Q15303 ePK_TK_EGFR_ERBB4'\n",
      " 'P52564 ePK_STE_STE7_MP2K6' 'P48729 ePK_CK1_CK1-A_KC1A'\n",
      " 'Q9UQM7 ePK_CAMK_CAMK2_KCC2A' 'Q15831 ePK_CAMK_CAMKL_STK11'\n",
      " 'Q08881 ePK_TK_Tec_ITK' 'P36896 ePK_TKL_STKR_ACV1B'\n",
      " 'O14730 eLK__RIO_RIOK3' 'Q13554 ePK_CAMK_CAMK2_KCC2B'\n",
      " 'O94804 ePK_STE_STE20_STK10' 'Q96QS6 ePK_CAMK_PSK_KPSH2'\n",
      " 'P11801 ePK_CAMK_PSK_KPSH1' 'P54756 ePK_TK_Eph_EPHA5'\n",
      " 'P05771 ePK_AGC_PKC_KPCB' 'O94921 ePK_CMGC_CDK_CDK14'\n",
      " 'O76039 ePK_CMGC_CDKL_CDKL5' 'Q13464 ePK_AGC_DMPK_ROCK1'\n",
      " 'Q8N4C8 ePK_STE_STE20_MINK1' 'Q09013 ePK_AGC_DMPK_DMPK'\n",
      " 'Q13131 ePK_CAMK_CAMKL_AAPK1' 'O60674|1 ePK_TK_Jak_JAK2'\n",
      " 'Q16584 ePK_TKL_MLK_M3K11' 'Q9NRH2 ePK_CAMK_CAMKL_SNRK'\n",
      " 'P53667 ePK_TKL_LIMK_LIMK1' 'O43781 ePK_CMGC_DYRK_DYRK3'\n",
      " 'Q9NR20 ePK_CMGC_DYRK_DYRK4' 'P51817 ePK_AGC_PKA_PRKX'\n",
      " 'Q86YV5 ePK_Other_NKF3_PRAG1' 'Q9UEW8 ePK_STE_STE20_STK39'\n",
      " 'Q9Y2I7 Atypical__PIPK_FYV1' 'O60229 ePK_CAMK_Trio_KALRN'\n",
      " 'P35790 eLK__CHK_CHKA' 'Q5VST9|2 ePK_CAMK_Trio_OBSCN'\n",
      " 'Q6J9G0 ePK_TK_STYK_STYK1' 'P51812|1 ePK_AGC_RSK_KS6A3'\n",
      " 'Q07002 ePK_CMGC_CDK_CDK18' 'Q504Y2 ePK_Other_SgK493_PKDCC'\n",
      " 'P20794 ePK_CMGC_RCK_MAK' 'Q00532 ePK_CMGC_CDKL_CDKL1'\n",
      " 'Q16832 ePK_TK_DDR_DDR2' 'P51956 ePK_NEK_NEK1_NEK3'\n",
      " 'Q8NFU5 Atypical__IPK_IPMK' 'P29376 ePK_TK_ALK_LTK'\n",
      " 'Q8TAS1 ePK_Other_KIS_UHMK1' 'Q9P289 ePK_STE_STE20_STK26'\n",
      " 'Q6ZS72 ePK_Other_NKF3_PEAK3' 'P42681 ePK_TK_Tec_TXK'\n",
      " 'Q86Z02 ePK_CMGC_DYRK_HIPK1' 'Q8WU08 ePK_AGC_YANK_ST32A'\n",
      " 'Q08345 ePK_TK_DDR_DDR1' 'Q9NRM7 ePK_AGC_NDR_LATS2'\n",
      " 'Q8IVH8 ePK_STE_STE20_M4K3' 'P31749 ePK_AGC_Akt_AKT1'\n",
      " 'Q8NI60 eLK__ABC1_COQ8A' 'Q99986 ePK_CK1_VRK_VRK1'\n",
      " 'Q16671 ePK_TKL_STKR_AMHR2' 'O15530 ePK_AGC_PDK1_PDPK1'\n",
      " 'Q00536 ePK_CMGC_CDK_CDK16' 'Q06418 ePK_TK_Axl_TYRO3'\n",
      " 'Q6IQ55 ePK_CK1_TTBK_TTBK2' 'Q9NVF9 eLK__EKI_EKI2'\n",
      " 'Q96NX5 ePK_CAMK_CAMK1_KCC1G' 'Q15139 ePK_CAMK_PKD_KPCD1'\n",
      " 'Q9BRS2 eLK__RIO_RIOK1' 'Q9HBU6 eLK__EKI_EKI1'\n",
      " 'Q8TDR2 ePK_Other_NKF4_STK35' 'P42345 Atypical__PIKK_MTOR'\n",
      " 'Q9P2K8|1 ePK_Other_PEK_E2AK4' 'P48730 ePK_CK1_CK1-D_KC1D'\n",
      " 'O15075 ePK_CAMK_DCAMKL_DCLK1' 'Q99570 ePK_Other_VPS15_PI3R4'\n",
      " 'P29322 ePK_TK_Eph_EPHA8' 'Q96PF2 ePK_CAMK_TSSK_TSSK2'\n",
      " 'Q16513 ePK_AGC_PKN_PKN2' 'Q9H4B4 ePK_Other_PLK_PLK3'\n",
      " 'O60307 ePK_AGC_MAST_MAST3' 'Q9BWU1 ePK_CMGC_CDK_CDK19'\n",
      " 'Q9Y5S2 ePK_AGC_DMPK_MRCKB' 'P45984 ePK_CMGC_MAPK_MK09'\n",
      " 'Q9BTU6 Atypical__PI4K_P4K2A' 'Q8WXR4 ePK_STE_STE20_MYO3B'\n",
      " 'Q96RU7 ePK_CAMK_Trbl_TRIB3' 'P45985 ePK_STE_STE7_MP2K4'\n",
      " 'P51813 ePK_TK_Tec_BMX' 'Q9UBE8 ePK_CMGC_MAPK_NLK'\n",
      " 'P23443 ePK_AGC_RSK_KS6B1' 'Q6JQN1 eLK__ACD_ACD10'\n",
      " 'P11802 ePK_CMGC_CDK_CDK4' 'Q16620 ePK_TK_Trk_NTRK2'\n",
      " 'P42338 Atypical__PIKK_PK3CB' 'Q13873 ePK_TKL_STKR_BMPR2'\n",
      " 'P57058 ePK_CAMK_CAMKL_HUNK' 'P22612 ePK_AGC_PKA_KAPCG'\n",
      " 'Q16659 ePK_CMGC_MAPK_MK06' 'Q9NSY0 ePK_Other_NRBP_NRBP2'\n",
      " 'P41279 ePK_STE_COT_M3K8' 'O94806 ePK_CAMK_PKD_KPCD3'\n",
      " 'P11362 ePK_TK_FGFR_FGFR1' 'Q9UPE1 ePK_CMGC_SRPK_SRPK3'\n",
      " 'Q8TEA7 ePK_Other_TBCK_TBCK' 'Q8NER5 ePK_TKL_STKR_ACV1C'\n",
      " 'Q6ZN16 ePK_STE_STE11_M3K15' 'Q9NSY1 ePK_Other_NAK_BMP2K'\n",
      " 'Q9Y4K4 ePK_STE_STE20_M4K5' 'Q9BXA6 ePK_CAMK_TSSK_TSSK6'\n",
      " 'Q16566 ePK_CAMK_CAMK1_KCC4' 'P08631 ePK_TK_Src_HCK'\n",
      " 'O00418 Atypical__Alpha_EF2K' 'A0A0B4J2F2 ePK_CAMK_SIK1B_SIK1B'\n",
      " 'O95819 ePK_STE_STE20_M4K4' 'Q9Y6S9 ePK_AGC_RSKL_RPKL1'\n",
      " 'P52333|1 ePK_TK_Jak_JAK3' 'Q9UQB9 ePK_Other_Aur_AURKC'\n",
      " 'P19784 ePK_CMGC_CK2_CSK22' 'Q2M2I8 ePK_Other_NAK_AAK1'\n",
      " 'Q00535 ePK_CMGC_CDK_CDK5' 'P42680 ePK_TK_Tec_TEC'\n",
      " 'Q12866 ePK_TK_Axl_MERTK' 'P08069 ePK_TK_InsR_IGF1R'\n",
      " 'Q02779 ePK_TKL_MLK_M3K10' 'Q13627 ePK_CMGC_DYRK_DYR1A'\n",
      " 'P51841 ePK_RGC__GUC2F' 'P51617 ePK_TKL_IRAK_IRAK1'\n",
      " 'P07332 ePK_TK_Fer_FES' 'Q7Z2Y5 ePK_STE_STE20_NRK'\n",
      " 'Q9H4A3 ePK_Other_WNK_WNK1' 'Q13153 ePK_STE_STE20_PAK1'\n",
      " 'Q6A1A2 ePK_AGC_PDPK2_PDPK2' 'P09769 ePK_TK_Src_FGR'\n",
      " 'P53355 ePK_CAMK_DAPK_DAPK1' 'Q13523 ePK_CMGC_DYRK_PRP4B'\n",
      " 'Q9UQ88 ePK_CMGC_CDK_CD11A' 'Q86TB3 Atypical__Alpha_ALPK2'\n",
      " 'Q9BQI3 ePK_Other_PEK_E2AK1' 'Q9H792 ePK_Other_NKF3_PEAK1'\n",
      " 'Q86UX6 ePK_AGC_YANK_ST32C' 'Q02750 ePK_STE_STE7_MP2K1'\n",
      " 'P37023 ePK_TKL_STKR_ACVL1' 'Q9UBF8 Atypical__PIKK_PI4KB'\n",
      " 'Q15772|2 ePK_CAMK_Trio_SPEG' 'P14616 ePK_TK_InsR_INSRR'\n",
      " 'O75063 Atypical__FAM20_XYLK' 'Q6PHR2 ePK_Other_ULK_ULK3'\n",
      " 'O60285 ePK_CAMK_CAMKL_NUAK1' 'Q96PN8 ePK_CAMK_TSSK_TSSK3'\n",
      " 'P19525 ePK_Other_PEK_E2AK2' 'Q13470 ePK_TK_Ack_TNK1'\n",
      " 'P46734 ePK_STE_STE7_MP2K3' 'Q13233 ePK_STE_STE11_M3K1'\n",
      " 'Q9Y3S1 ePK_Other_WNK_WNK2' 'P29320 ePK_TK_Eph_EPHA3'\n",
      " 'Q15835 ePK_AGC_GRK_GRK1' 'Q6ZMQ8 ePK_TK_Lmr_LMTK1'\n",
      " 'Q8NCB2 ePK_CAMK_CAMKV_CAMKV' 'P06239 ePK_TK_Src_LCK'\n",
      " 'P0C1S8 ePK_Other_WEE_WEE2' 'O60331 Atypical__PIPK_PI51C'\n",
      " 'P16591 ePK_TK_Fer_FER' 'O14976 ePK_Other_NAK_GAK'\n",
      " 'Q3MIX3 eLK__ABC1_ADCK5' 'P27361 ePK_CMGC_MAPK_MK03'\n",
      " 'Q92551 Atypical__IPK_IP6K1' 'Q6P3W7 ePK_Other_SCY1_SCYL2'\n",
      " 'O00506 ePK_STE_STE20_STK25' 'Q9H2X6 ePK_CMGC_DYRK_HIPK2'\n",
      " 'P15735 ePK_CAMK_PHK_PHKG2' 'P29323 ePK_TK_Eph_EPHB2'\n",
      " 'Q7Z695 eLK__ABC1_ADCK2' 'Q9UKI8 ePK_Other_TLK_TLK1'\n",
      " 'O43930 ePK_AGC_PKA_PRKY' 'Q96QT4 Atypical__Alpha_TRPM7'\n",
      " 'Q8N5S9 ePK_Other_CAMKK_KKCC1' 'P21127 ePK_CMGC_CDK_CD11B'\n",
      " 'Q8N568 ePK_CAMK_DCAMKL_DCLK2' 'Q86YV6 ePK_CAMK_MLCK_MYLK4'\n",
      " 'P04629 ePK_TK_Trk_NTRK1' 'P07947 ePK_TK_Src_YES'\n",
      " 'Q16288 ePK_TK_Trk_NTRK3' 'Q14004 ePK_CMGC_CDK_CDK13'\n",
      " 'Q96L96 Atypical__Alpha_ALPK3' 'O96013 ePK_STE_STE20_PAK4'\n",
      " 'P21709 ePK_TK_Eph_EPHA1' 'Q96Q40 ePK_CMGC_CDK_CDK15'\n",
      " 'P49336 ePK_CMGC_CDK_CDK8' 'Q9P286 ePK_STE_STE20_PAK5'\n",
      " 'P24941 ePK_CMGC_CDK_CDK2' 'Q58A45 ePK_Other_PAN3_PAN3'\n",
      " 'O43187 ePK_TKL_IRAK_IRAK2' 'P30530 ePK_TK_Axl_UFO'\n",
      " 'P51957 ePK_NEK_NEK4_NEK4' 'P21860 ePK_TK_EGFR_ERBB3'\n",
      " 'Q6ZWH5 ePK_NEK_NEK10_NEK10' 'P36888 ePK_TK_PDGFR_FLT3'\n",
      " 'Q9HCP0 ePK_CK1_CK1-G_KC1G1' 'O15146 ePK_TK_Musk_MUSK'\n",
      " 'P50750 ePK_CMGC_CDK_CDK9' 'P49761 ePK_CMGC_CLK_CLK3'\n",
      " 'Q02156 ePK_AGC_PKC_KPCE' 'Q8NG66 ePK_NEK_NEK11_NEK11'\n",
      " 'Q9UIK4 ePK_CAMK_DAPK_DAPK2' 'Q6DT37 ePK_AGC_DMPK_MRCKG'\n",
      " 'P42356 Atypical__PIKK_PI4KA' 'Q92630 ePK_CMGC_DYRK_DYRK2'\n",
      " 'P43405 ePK_TK_Syk_KSYK' 'Q9BZL6 ePK_CAMK_PKD_KPCD2'\n",
      " 'Q13188 ePK_STE_STE20_STK3' 'P22607 ePK_TK_FGFR_FGFR3'\n",
      " 'Q9UHD2 ePK_Other_IKK_TBK1' 'P17252 ePK_AGC_PKC_KPCA'\n",
      " 'P27987 Atypical__IPK_IP3KB']\n",
      "features CSV file saved to protein_kinase_data/with_plm_embeddings/features.csv\n",
      "labels CSV file saved to protein_kinase_data/with_plm_embeddings/labels.csv\n",
      "KNN matrix CSV file saved to protein_kinase_data/with_plm_embeddings/KNN_matrix.csv\n",
      "Computing laplacian...\n",
      "Laplacian computed in 0.34 sec\n",
      "Computing RFA...\n",
      "RFA computed in 0.01 sec\n",
      "tensor([[2.1134e-01, 1.6429e-05, 8.0716e-06,  ..., 2.3070e-03, 8.2887e-07,\n",
      "         1.6713e-07],\n",
      "        [1.6429e-05, 2.1385e-01, 3.1912e-07,  ..., 6.1498e-05, 1.6864e-08,\n",
      "         1.4515e-07],\n",
      "        [8.0716e-06, 3.1912e-07, 2.2233e-01,  ..., 6.1419e-05, 1.4917e-06,\n",
      "         3.2465e-09],\n",
      "        ...,\n",
      "        [2.3070e-03, 6.1498e-05, 6.1419e-05,  ..., 1.7838e-01, 2.7185e-06,\n",
      "         6.2562e-07],\n",
      "        [8.2887e-07, 1.6864e-08, 1.4917e-06,  ..., 2.7185e-06, 1.6834e-01,\n",
      "         1.7156e-10],\n",
      "        [1.6713e-07, 1.4515e-07, 3.2465e-09,  ..., 6.2562e-07, 1.7156e-10,\n",
      "         2.5963e-01]])\n",
      "RFA matrix CSV file saved to protein_kinase_data/with_plm_embeddings/RFA_matrix.csv\n",
      "Starting training...\n",
      "loss: 0.32081:  74%|██████████████████▌      | 741/1000 [01:30<00:26,  9.60it/s]\n",
      "Stopped at epoch 741\n",
      "loss: 0.32081:  74%|██████████████████▌      | 741/1000 [01:30<00:31,  8.18it/s]\n",
      "PM computed in 90.63 sec\n",
      "\n",
      "loss = 3.208e-01\n",
      "time = 1.532 min\n"
     ]
    }
   ],
   "source": [
    "### Projection parameters (with embeddings)\n",
    "# EMBEDDING SELECTION\n",
    "in_name = 'embeddings/ankh_base_protein_kinase/'  # Input here the name of folder with the embeddings\n",
    "mid_output = 'protein_kinase_data/with_plm_embeddings/'  # Input name of desired folder for intermediary results\n",
    "out_name = 'results/protein_kinase/with_plm_embeddings/' # Input desired name of output folder\n",
    "\n",
    "\n",
    "# OPTIONS =================================================\n",
    "#Here you control different parameters of Poincaré maps.\n",
    "#In our computational experiments the best results were achieved for the following values provided by default.\n",
    "#The impact of different parameters is analyzed in the original paper [1].\n",
    "knn = 5\n",
    "gamma = 2\n",
    "sigma = 1\n",
    "cospca = 0\n",
    "batchs = 4\n",
    "epochs = 1000\n",
    "seed = 0\n",
    "#==========================================================\n",
    "\n",
    "\n",
    "# Building projection and preparing data for visualization\n",
    "#This step creates a projection of encoded sequences to a Poincaré disk.\n",
    "bash_pm = \"python \"+ \"scripts/build_poincare_map/main.py --input_path \" + in_name + \\\n",
    "          \" --output_path \" + out_name + \" --plm_embedding True\" +  \" --matrices_output_path \" + mid_output \\\n",
    "          + \" --gamma \"+ str(gamma) +\" --pca \"+ str(cospca) + \" --epochs \"+ str(epochs) +\" --seed \"\\\n",
    "          + str(seed) + \" --knn \" + str(knn)\n",
    "!{bash_pm}"
   ]
  },
  {
   "cell_type": "markdown",
   "metadata": {
    "id": "gRxHHfjX7CHF"
   },
   "source": [
    "# Projection visualization"
   ]
  },
  {
   "cell_type": "markdown",
   "metadata": {},
   "source": [
    "### Prepare data for visualization"
   ]
  },
  {
   "cell_type": "code",
   "execution_count": null,
   "metadata": {
    "cellView": "form",
    "colab": {
     "base_uri": "https://localhost:8080/"
    },
    "id": "A2I17cpYXGoB",
    "outputId": "a1b01a51-2182-4f97-a653-eedc42405a80"
   },
   "outputs": [
    {
     "name": "stdout",
     "output_type": "stream",
     "text": [
      "          pm1       pm2                      proteins_id\n",
      "0    0.350709  0.907489  A0A0B4J2F2 ePK_CAMK_SIK1B_SIK1B\n",
      "1    0.925575  0.063415            A2RU49 eLK__HYKK_HYKK\n",
      "2   -0.373011  0.862949          O00141 ePK_AGC_SGK_SGK1\n",
      "3    0.066619 -0.943579        O00238 ePK_TKL_STKR_BMR1B\n",
      "4   -0.530152 -0.311605       O00311 ePK_Other_CDC7_CDC7\n",
      "..        ...       ...                              ...\n",
      "553  0.212355 -0.882481        Q9Y616 ePK_TKL_IRAK_IRAK3\n",
      "554 -0.802689  0.509038       Q9Y6E0 ePK_STE_STE20_STK24\n",
      "555 -0.446267 -0.806218       Q9Y6M4 ePK_CK1_CK1-G_KC1G3\n",
      "556 -0.831341  0.215735        Q9Y6R4 ePK_STE_STE11_M3K4\n",
      "557 -0.499498 -0.309348        Q9Y6S9 ePK_AGC_RSKL_RPKL1\n",
      "\n",
      "[558 rows x 3 columns]\n",
      "3 annotations found: ['proteins_id', 'accession', 'label'].\n",
      "proteins_id\n",
      "A0A0B4J2F2 ePK_CAMK_SIK1B_SIK1B        CAMK\n",
      "A2RU49 eLK__HYKK_HYKK              outgroup\n",
      "O00141 ePK_AGC_SGK_SGK1                 AGC\n",
      "O00238 ePK_TKL_STKR_BMR1B               TKL\n",
      "O00311 ePK_Other_CDC7_CDC7              nan\n",
      "                                     ...   \n",
      "Q9Y616 ePK_TKL_IRAK_IRAK3               TKL\n",
      "Q9Y6E0 ePK_STE_STE20_STK24              STE\n",
      "Q9Y6M4 ePK_CK1_CK1-G_KC1G3              CK1\n",
      "Q9Y6R4 ePK_STE_STE11_M3K4               STE\n",
      "Q9Y6S9 ePK_AGC_RSKL_RPKL1               AGC\n",
      "Name: label, Length: 558, dtype: object\n"
     ]
    }
   ],
   "source": [
    "# Prepare data for visualization\n",
    "out_name = 'results/protein_kinase/with_plm_embeddings'\n",
    "\n",
    "#Check that an annotation file was provided. Create a dummy one instead\n",
    "if not path_annotation:\n",
    "    df_annotation = pd.DataFrame(list(zip(list(range(1,nb_seq+1)), np.full(nb_seq, \"-\", dtype=object))), columns=[\"id\", \"default\"])\n",
    "    df_annotation.to_csv(\"dummy_annotation.csv\", index=False)\n",
    "    path_annotation = \"dummy_annotation.csv\"\n",
    "    annotation_names = [\"proteins_id\"]\n",
    "\n",
    "path_embedding = f\"{out_name}/PM{knn:1.0f}sigma={sigma:2.2f}gamma={gamma:2.2f}cosinepca={cospca:1.0f}_seed{seed:1.0f}.csv\"\n",
    "df_embedding = read_embeddings(path_embedding, path_annotation, withroot=False, ordered = False)\n",
    "\n",
    "#Here are different labels found in your annotation file (if one uploaded):\n",
    "print(f\"{len(annotation_names)} annotations found: {annotation_names}.\")\n",
    "print(df_embedding['label'])"
   ]
  },
  {
   "cell_type": "markdown",
   "metadata": {},
   "source": [
    "### Create interactive plot"
   ]
  },
  {
   "cell_type": "code",
   "execution_count": 13,
   "metadata": {},
   "outputs": [],
   "source": [
    "# Construction of custom color palette  \n",
    "\n",
    "# Load existing colour palette (must be a .json file)\n",
    "colour_json = 'examples/wayland_datasets/protein_kinase/kinase_colors.json'\n",
    "with open(colour_json, 'r') as file:\n",
    "    colour_palette = json.load(file)\n",
    "\n",
    "# Also the option of manually creating your own colour palette\n"
   ]
  },
  {
   "cell_type": "code",
   "execution_count": 17,
   "metadata": {
    "cellView": "form",
    "colab": {
     "base_uri": "https://localhost:8080/",
     "height": 886
    },
    "id": "zLb9h9S4eKUD",
    "outputId": "58e8c73a-4869-4305-ecfb-bccc80d06db1"
   },
   "outputs": [
    {
     "data": {
      "application/vnd.plotly.v1+json": {
       "config": {
        "plotlyServerURL": "https://plot.ly"
       },
       "data": [
        {
         "customdata": [
          [
           "A0A0B4J2F2 ePK_CAMK_SIK1B_SIK1B",
           "A0A0B4J2F2",
           "CAMK"
          ],
          [
           "O14757 ePK_CAMK_CAMKL_CHK1",
           "O14757",
           "CAMK"
          ],
          [
           "O14936 ePK_CAMK_CASK_CSKP",
           "O14936",
           "CAMK"
          ],
          [
           "O15075 ePK_CAMK_DCAMKL_DCLK1",
           "O15075",
           "CAMK"
          ],
          [
           "O43293 ePK_CAMK_DAPK_DAPK3",
           "O43293",
           "CAMK"
          ],
          [
           "O60229 ePK_CAMK_Trio_KALRN",
           "O60229",
           "CAMK"
          ],
          [
           "O60285 ePK_CAMK_CAMKL_NUAK1",
           "O60285",
           "CAMK"
          ],
          [
           "O75582|2 ePK_CAMK_RSK-b_KS6A5",
           "O75582|2",
           "CAMK"
          ],
          [
           "O75676|2 ePK_CAMK_RSK-b_KS6A4",
           "O75676|2",
           "CAMK"
          ],
          [
           "O75962 ePK_CAMK_Trio_TRIO",
           "O75962",
           "CAMK"
          ],
          [
           "O94768 ePK_CAMK_DAPK_ST17B",
           "O94768",
           "CAMK"
          ],
          [
           "O94806 ePK_CAMK_PKD_KPCD3",
           "O94806",
           "CAMK"
          ],
          [
           "O96017 ePK_CAMK_RAD53_CHK2",
           "O96017",
           "CAMK"
          ],
          [
           "P11309 ePK_CAMK_PIM_PIM1",
           "P11309",
           "CAMK"
          ],
          [
           "P11801 ePK_CAMK_PSK_KPSH1",
           "P11801",
           "CAMK"
          ],
          [
           "P15735 ePK_CAMK_PHK_PHKG2",
           "P15735",
           "CAMK"
          ],
          [
           "P27448 ePK_CAMK_CAMKL_MARK3",
           "P27448",
           "CAMK"
          ],
          [
           "P49137 ePK_CAMK_MAPKAPK_MAPK2",
           "P49137",
           "CAMK"
          ],
          [
           "P51812|2 ePK_CAMK_RSK-b_KS6A3",
           "P51812|2",
           "CAMK"
          ],
          [
           "P53355 ePK_CAMK_DAPK_DAPK1",
           "P53355",
           "CAMK"
          ],
          [
           "P54646 ePK_CAMK_CAMKL_AAPK2",
           "P54646",
           "CAMK"
          ],
          [
           "P57058 ePK_CAMK_CAMKL_HUNK",
           "P57058",
           "CAMK"
          ],
          [
           "P57059 ePK_CAMK_CAMKL_SIK1",
           "P57059",
           "CAMK"
          ],
          [
           "Q13131 ePK_CAMK_CAMKL_AAPK1",
           "Q13131",
           "CAMK"
          ],
          [
           "Q13554 ePK_CAMK_CAMK2_KCC2B",
           "Q13554",
           "CAMK"
          ],
          [
           "Q13555 ePK_CAMK_CAMK2_KCC2G",
           "Q13555",
           "CAMK"
          ],
          [
           "Q13557 ePK_CAMK_CAMK2_KCC2D",
           "Q13557",
           "CAMK"
          ],
          [
           "Q14012 ePK_CAMK_CAMK1_KCC1A",
           "Q14012",
           "CAMK"
          ],
          [
           "Q14680 ePK_CAMK_CAMKL_MELK",
           "Q14680",
           "CAMK"
          ],
          [
           "Q15139 ePK_CAMK_PKD_KPCD1",
           "Q15139",
           "CAMK"
          ],
          [
           "Q15349|2 ePK_CAMK_RSK-b_KS6A2",
           "Q15349|2",
           "CAMK"
          ],
          [
           "Q15418|2 ePK_CAMK_RSK-b_KS6A1",
           "Q15418|2",
           "CAMK"
          ],
          [
           "Q15746 ePK_CAMK_MLCK_MYLK",
           "Q15746",
           "CAMK"
          ],
          [
           "Q15772|1 ePK_CAMK_Trio_SPEG",
           "Q15772|1",
           "CAMK"
          ],
          [
           "Q15772|2 ePK_CAMK_Trio_SPEG",
           "Q15772|2",
           "CAMK"
          ],
          [
           "Q15831 ePK_CAMK_CAMKL_STK11",
           "Q15831",
           "CAMK"
          ],
          [
           "Q16566 ePK_CAMK_CAMK1_KCC4",
           "Q16566",
           "CAMK"
          ],
          [
           "Q16644 ePK_CAMK_MAPKAPK_MAPK3",
           "Q16644",
           "CAMK"
          ],
          [
           "Q16816 ePK_CAMK_PHK_PHKG1",
           "Q16816",
           "CAMK"
          ],
          [
           "Q32MK0 ePK_CAMK_MLCK_MYLK3",
           "Q32MK0",
           "CAMK"
          ],
          [
           "Q5VST9|1 ePK_CAMK_Trio_OBSCN",
           "Q5VST9|1",
           "CAMK"
          ],
          [
           "Q5VST9|2 ePK_CAMK_Trio_OBSCN",
           "Q5VST9|2",
           "CAMK"
          ],
          [
           "Q6P2M8 ePK_CAMK_CAMK1_KCC1B",
           "Q6P2M8",
           "CAMK"
          ],
          [
           "Q6SA08 ePK_CAMK_TSSK_TSSK4",
           "Q6SA08",
           "CAMK"
          ],
          [
           "Q7KZI7 ePK_CAMK_CAMKL_MARK2",
           "Q7KZI7",
           "CAMK"
          ],
          [
           "Q86V86 ePK_CAMK_PIM_PIM3",
           "Q86V86",
           "CAMK"
          ],
          [
           "Q86YV6 ePK_CAMK_MLCK_MYLK4",
           "Q86YV6",
           "CAMK"
          ],
          [
           "Q8IU85 ePK_CAMK_CAMK1_KCC1D",
           "Q8IU85",
           "CAMK"
          ],
          [
           "Q8IW41 ePK_CAMK_MAPKAPK_MAPK5",
           "Q8IW41",
           "CAMK"
          ],
          [
           "Q8IWQ3 ePK_CAMK_CAMKL_BRSK2",
           "Q8IWQ3",
           "CAMK"
          ],
          [
           "Q8IY84 ePK_CAMK_CAMKL_NIM1",
           "Q8IY84",
           "CAMK"
          ],
          [
           "Q8N2I9 ePK_CAMK_SgK495_STK40",
           "Q8N2I9",
           "CAMK"
          ],
          [
           "Q8N568 ePK_CAMK_DCAMKL_DCLK2",
           "Q8N568",
           "CAMK"
          ],
          [
           "Q8NCB2 ePK_CAMK_CAMKV_CAMKV",
           "Q8NCB2",
           "CAMK"
          ],
          [
           "Q8TDC3 ePK_CAMK_CAMKL_BRSK1",
           "Q8TDC3",
           "CAMK"
          ],
          [
           "Q8WZ42 ePK_CAMK_MLCK_TITIN",
           "Q8WZ42",
           "CAMK"
          ],
          [
           "Q92519 ePK_CAMK_Trbl_TRIB2",
           "Q92519",
           "CAMK"
          ],
          [
           "Q96L34 ePK_CAMK_CAMKL_MARK4",
           "Q96L34",
           "CAMK"
          ],
          [
           "Q96NX5 ePK_CAMK_CAMK1_KCC1G",
           "Q96NX5",
           "CAMK"
          ],
          [
           "Q96PF2 ePK_CAMK_TSSK_TSSK2",
           "Q96PF2",
           "CAMK"
          ],
          [
           "Q96PN8 ePK_CAMK_TSSK_TSSK3",
           "Q96PN8",
           "CAMK"
          ],
          [
           "Q96QS6 ePK_CAMK_PSK_KPSH2",
           "Q96QS6",
           "CAMK"
          ],
          [
           "Q96RG2 ePK_CAMK_CAMKL_PASK",
           "Q96RG2",
           "CAMK"
          ],
          [
           "Q96RU7 ePK_CAMK_Trbl_TRIB3",
           "Q96RU7",
           "CAMK"
          ],
          [
           "Q96RU8 ePK_CAMK_Trbl_TRIB1",
           "Q96RU8",
           "CAMK"
          ],
          [
           "Q9BUB5 ePK_CAMK_MAPKAPK_MKNK1",
           "Q9BUB5",
           "CAMK"
          ],
          [
           "Q9BXA6 ePK_CAMK_TSSK_TSSK6",
           "Q9BXA6",
           "CAMK"
          ],
          [
           "Q9BXA7 ePK_CAMK_TSSK_TSSK1",
           "Q9BXA7",
           "CAMK"
          ],
          [
           "Q9BYT3 ePK_CAMK_STK33_STK33",
           "Q9BYT3",
           "CAMK"
          ],
          [
           "Q9BZL6 ePK_CAMK_PKD_KPCD2",
           "Q9BZL6",
           "CAMK"
          ],
          [
           "Q9C098 ePK_CAMK_DCAMKL_DCLK3",
           "Q9C098",
           "CAMK"
          ],
          [
           "Q9H093 ePK_CAMK_CAMKL_NUAK2",
           "Q9H093",
           "CAMK"
          ],
          [
           "Q9H0K1 ePK_CAMK_CAMKL_SIK2",
           "Q9H0K1",
           "CAMK"
          ],
          [
           "Q9H1R3 ePK_CAMK_MLCK_MYLK2",
           "Q9H1R3",
           "CAMK"
          ],
          [
           "Q9HBH9 ePK_CAMK_MAPKAPK_MKNK2",
           "Q9HBH9",
           "CAMK"
          ],
          [
           "Q9NRH2 ePK_CAMK_CAMKL_SNRK",
           "Q9NRH2",
           "CAMK"
          ],
          [
           "Q9P0L2 ePK_CAMK_CAMKL_MARK1",
           "Q9P0L2",
           "CAMK"
          ],
          [
           "Q9P1W9 ePK_CAMK_PIM_PIM2",
           "Q9P1W9",
           "CAMK"
          ],
          [
           "Q9UEE5 ePK_CAMK_DAPK_ST17A",
           "Q9UEE5",
           "CAMK"
          ],
          [
           "Q9UIK4 ePK_CAMK_DAPK_DAPK2",
           "Q9UIK4",
           "CAMK"
          ],
          [
           "Q9UK32|2 ePK_CAMK_RSK-b_KS6A6",
           "Q9UK32|2",
           "CAMK"
          ],
          [
           "Q9UQM7 ePK_CAMK_CAMK2_KCC2A",
           "Q9UQM7",
           "CAMK"
          ],
          [
           "Q9Y2K2 ePK_CAMK_CAMKL_SIK3",
           "Q9Y2K2",
           "CAMK"
          ]
         ],
         "hovertemplate": "<b>%{hovertext}</b><br><br>label=%{customdata[2]}<br>pm1=%{x}<br>pm2=%{y}<br>proteins_id=%{customdata[0]}<br>accession=%{customdata[1]}<extra></extra>",
         "hovertext": [
          "CAMK",
          "CAMK",
          "CAMK",
          "CAMK",
          "CAMK",
          "CAMK",
          "CAMK",
          "CAMK",
          "CAMK",
          "CAMK",
          "CAMK",
          "CAMK",
          "CAMK",
          "CAMK",
          "CAMK",
          "CAMK",
          "CAMK",
          "CAMK",
          "CAMK",
          "CAMK",
          "CAMK",
          "CAMK",
          "CAMK",
          "CAMK",
          "CAMK",
          "CAMK",
          "CAMK",
          "CAMK",
          "CAMK",
          "CAMK",
          "CAMK",
          "CAMK",
          "CAMK",
          "CAMK",
          "CAMK",
          "CAMK",
          "CAMK",
          "CAMK",
          "CAMK",
          "CAMK",
          "CAMK",
          "CAMK",
          "CAMK",
          "CAMK",
          "CAMK",
          "CAMK",
          "CAMK",
          "CAMK",
          "CAMK",
          "CAMK",
          "CAMK",
          "CAMK",
          "CAMK",
          "CAMK",
          "CAMK",
          "CAMK",
          "CAMK",
          "CAMK",
          "CAMK",
          "CAMK",
          "CAMK",
          "CAMK",
          "CAMK",
          "CAMK",
          "CAMK",
          "CAMK",
          "CAMK",
          "CAMK",
          "CAMK",
          "CAMK",
          "CAMK",
          "CAMK",
          "CAMK",
          "CAMK",
          "CAMK",
          "CAMK",
          "CAMK",
          "CAMK",
          "CAMK",
          "CAMK",
          "CAMK",
          "CAMK",
          "CAMK"
         ],
         "legendgroup": "CAMK",
         "marker": {
          "color": "#EF553B",
          "symbol": "circle"
         },
         "mode": "markers",
         "name": "CAMK",
         "orientation": "v",
         "showlegend": true,
         "type": "scatter",
         "x": [
          0.35070932,
          0.38123268,
          0.12539397,
          0.1254698,
          0.40121105,
          0.08852659,
          0.3368909,
          0.029436741,
          0.07029896,
          0.084270485,
          0.14264476,
          -0.0014746666,
          0.10215743,
          -0.031744827,
          0.11332764,
          0.07532955,
          0.35163206,
          -0.06377428,
          0.0846231,
          0.40977728,
          0.28939047,
          0.36374757,
          0.34545708,
          0.28659523,
          0.21300474,
          0.19066314,
          0.21434242,
          0.14376095,
          0.3207311,
          -0.047958106,
          0.040254105,
          0.04989201,
          0.3523365,
          0.0420046,
          0.077233106,
          0.38763845,
          0.15902859,
          -0.013868451,
          0.04196105,
          0.3224831,
          0.07289481,
          0.066633835,
          0.1565981,
          0.38659218,
          0.35412067,
          -0.03441084,
          0.37478313,
          0.14859276,
          -0.004959068,
          0.30264437,
          0.3415209,
          -0.00265592,
          0.1353108,
          0.056960326,
          0.30468443,
          0.22770147,
          -0.04804481,
          0.35550818,
          0.13237134,
          0.37015346,
          0.38320303,
          0.09287478,
          0.12540792,
          -0.04277301,
          -0.057471335,
          -0.024303533,
          0.37942895,
          0.35933444,
          0.041337386,
          0.032955956,
          0.12534323,
          0.3470272,
          0.3477807,
          0.35997406,
          -0.00149256,
          0.32511055,
          0.35231724,
          -0.034424428,
          0.31135002,
          0.39231429,
          0.057285283,
          0.19126432,
          0.35024112
         ],
         "xaxis": "x",
         "y": [
          0.9074893,
          0.79400116,
          0.88478786,
          0.90179485,
          0.66005576,
          0.5407338,
          0.9052028,
          0.82868963,
          0.786298,
          0.51851094,
          0.5808109,
          0.5900618,
          0.9152121,
          0.74388325,
          0.89750195,
          0.8436874,
          0.9180931,
          0.78368,
          0.868337,
          0.65496236,
          0.8734954,
          0.8243808,
          0.9104775,
          0.88612914,
          0.8905492,
          0.9097687,
          0.9024444,
          0.9245369,
          0.85553885,
          0.58733046,
          0.85045016,
          0.8369408,
          0.6539237,
          0.3949225,
          0.4646243,
          0.74925125,
          0.89406526,
          0.81049025,
          0.81414837,
          0.6048961,
          0.480027,
          0.45029628,
          0.9075156,
          0.8389473,
          0.9169297,
          0.7551133,
          0.63348544,
          0.91697794,
          0.8629745,
          0.8827923,
          0.9011115,
          0.13959025,
          0.88959,
          0.8913469,
          0.8750663,
          0.5620089,
          0.3242203,
          0.91299266,
          0.91036546,
          0.8326004,
          0.827157,
          0.89680064,
          0.6343988,
          0.3027421,
          0.39936486,
          0.8580573,
          0.84001666,
          0.8411747,
          0.64109915,
          0.5783084,
          0.92145056,
          0.8986062,
          0.91682357,
          0.62689734,
          0.84232104,
          0.8825901,
          0.9136852,
          0.7550194,
          0.62039715,
          0.65170616,
          0.8531896,
          0.9004357,
          0.9147439
         ],
         "yaxis": "y"
        },
        {
         "customdata": [
          [
           "A2RU49 eLK__HYKK_HYKK",
           "A2RU49",
           "outgroup"
          ],
          [
           "O00329 Atypical__PIKK_PK3CD",
           "O00329",
           "outgroup"
          ],
          [
           "O00418 Atypical__Alpha_EF2K",
           "O00418",
           "outgroup"
          ],
          [
           "O00443 Atypical__PIKK_P3C2A",
           "O00443",
           "outgroup"
          ],
          [
           "O00750 Atypical__PIKK_P3C2B",
           "O00750",
           "outgroup"
          ],
          [
           "O14730 eLK__RIO_RIOK3",
           "O14730",
           "outgroup"
          ],
          [
           "O14986 Atypical__PIPK_PI51B",
           "O14986",
           "outgroup"
          ],
          [
           "O60331 Atypical__PIPK_PI51C",
           "O60331",
           "outgroup"
          ],
          [
           "O75063 Atypical__FAM20_XYLK",
           "O75063",
           "outgroup"
          ],
          [
           "O75747 Atypical__PIKK_P3C2G",
           "O75747",
           "outgroup"
          ],
          [
           "P23677 Atypical__IPK_IP3KA",
           "P23677",
           "outgroup"
          ],
          [
           "P27987 Atypical__IPK_IP3KB",
           "P27987",
           "outgroup"
          ],
          [
           "P35790 eLK__CHK_CHKA",
           "P35790",
           "outgroup"
          ],
          [
           "P42336 Atypical__PIKK_PK3CA",
           "P42336",
           "outgroup"
          ],
          [
           "P42338 Atypical__PIKK_PK3CB",
           "P42338",
           "outgroup"
          ],
          [
           "P42345 Atypical__PIKK_MTOR",
           "P42345",
           "outgroup"
          ],
          [
           "P42356 Atypical__PIKK_PI4KA",
           "P42356",
           "outgroup"
          ],
          [
           "P48426 Atypical__PIPK_PI42A",
           "P48426",
           "outgroup"
          ],
          [
           "P48736 Atypical__PIKK_PK3CG",
           "P48736",
           "outgroup"
          ],
          [
           "P78356 Atypical__PIPK_PI42B",
           "P78356",
           "outgroup"
          ],
          [
           "P78527 Atypical__PIKK_PRKDC",
           "P78527",
           "outgroup"
          ],
          [
           "Q13315 Atypical__PIKK_ATM",
           "Q13315",
           "outgroup"
          ],
          [
           "Q13535 Atypical__PIKK_ATR",
           "Q13535",
           "outgroup"
          ],
          [
           "Q3MIX3 eLK__ABC1_ADCK5",
           "Q3MIX3",
           "outgroup"
          ],
          [
           "Q5T9C9 Atypical__PIPK_PI5L1",
           "Q5T9C9",
           "outgroup"
          ],
          [
           "Q6JQN1 eLK__ACD_ACD10",
           "Q6JQN1",
           "outgroup"
          ],
          [
           "Q709F0 eLK__ACD_ACD11",
           "Q709F0",
           "outgroup"
          ],
          [
           "Q7Z695 eLK__ABC1_ADCK2",
           "Q7Z695",
           "outgroup"
          ],
          [
           "Q86TB3 Atypical__Alpha_ALPK2",
           "Q86TB3",
           "outgroup"
          ],
          [
           "Q86TW2 eLK__ABC1_ADCK1",
           "Q86TW2",
           "outgroup"
          ],
          [
           "Q8IXL6 Atypical__FAM20_FA20C",
           "Q8IXL6",
           "outgroup"
          ],
          [
           "Q8NEB9 Atypical__PIKK_PK3C3",
           "Q8NEB9",
           "outgroup"
          ],
          [
           "Q8NFU5 Atypical__IPK_IPMK",
           "Q8NFU5",
           "outgroup"
          ],
          [
           "Q8NI60 eLK__ABC1_COQ8A",
           "Q8NI60",
           "outgroup"
          ],
          [
           "Q8TBX8 Atypical__PIPK_PI42C",
           "Q8TBX8",
           "outgroup"
          ],
          [
           "Q8TCG2 Atypical__PI4K_P4K2B",
           "Q8TCG2",
           "outgroup"
          ],
          [
           "Q92551 Atypical__IPK_IP6K1",
           "Q92551",
           "outgroup"
          ],
          [
           "Q96D53 eLK__ABC1_COQ8B",
           "Q96D53",
           "outgroup"
          ],
          [
           "Q96DU7 Atypical__IPK_IP3KC",
           "Q96DU7",
           "outgroup"
          ],
          [
           "Q96L96 Atypical__Alpha_ALPK3",
           "Q96L96",
           "outgroup"
          ],
          [
           "Q96MK3 Atypical__FAM20_FA20A",
           "Q96MK3",
           "outgroup"
          ],
          [
           "Q96PC2 Atypical__IPK_IP6K3",
           "Q96PC2",
           "outgroup"
          ],
          [
           "Q96Q15 Atypical__PIKK_SMG1",
           "Q96Q15",
           "outgroup"
          ],
          [
           "Q96QP1 Atypical__Alpha_ALPK1",
           "Q96QP1",
           "outgroup"
          ],
          [
           "Q96QT4 Atypical__Alpha_TRPM7",
           "Q96QT4",
           "outgroup"
          ],
          [
           "Q96S44 eLK__Bud32_PRPK",
           "Q96S44",
           "outgroup"
          ],
          [
           "Q99755 Atypical__PIPK_PI51A",
           "Q99755",
           "outgroup"
          ],
          [
           "Q9BRS2 eLK__RIO_RIOK1",
           "Q9BRS2",
           "outgroup"
          ],
          [
           "Q9BTU6 Atypical__PI4K_P4K2A",
           "Q9BTU6",
           "outgroup"
          ],
          [
           "Q9BVL4 Atypical___SELO",
           "Q9BVL4",
           "outgroup"
          ],
          [
           "Q9BVS4 eLK__RIO_RIOK2",
           "Q9BVS4",
           "outgroup"
          ],
          [
           "Q9BX84 Atypical__Alpha_TRPM6",
           "Q9BX84",
           "outgroup"
          ],
          [
           "Q9H479 eLK__FN3K_FN3K",
           "Q9H479",
           "outgroup"
          ],
          [
           "Q9H8X2 Atypical___IPPK",
           "Q9H8X2",
           "outgroup"
          ],
          [
           "Q9HA64 eLK__KT3K_KT3K",
           "Q9HA64",
           "outgroup"
          ],
          [
           "Q9HBU6 eLK__EKI_EKI1",
           "Q9HBU6",
           "outgroup"
          ],
          [
           "Q9NVF9 eLK__EKI_EKI2",
           "Q9NVF9",
           "outgroup"
          ],
          [
           "Q9UBF8 Atypical__PIKK_PI4KB",
           "Q9UBF8",
           "outgroup"
          ],
          [
           "Q9UHH9 Atypical__IPK_IP6K2",
           "Q9UHH9",
           "outgroup"
          ],
          [
           "Q9Y259 eLK__CHK_CHKB",
           "Q9Y259",
           "outgroup"
          ],
          [
           "Q9Y2I7 Atypical__PIPK_FYV1",
           "Q9Y2I7",
           "outgroup"
          ],
          [
           "Q9Y4A5 Atypical__PIKK_TRRAP",
           "Q9Y4A5",
           "outgroup"
          ]
         ],
         "hovertemplate": "<b>%{hovertext}</b><br><br>label=%{customdata[2]}<br>pm1=%{x}<br>pm2=%{y}<br>proteins_id=%{customdata[0]}<br>accession=%{customdata[1]}<extra></extra>",
         "hovertext": [
          "outgroup",
          "outgroup",
          "outgroup",
          "outgroup",
          "outgroup",
          "outgroup",
          "outgroup",
          "outgroup",
          "outgroup",
          "outgroup",
          "outgroup",
          "outgroup",
          "outgroup",
          "outgroup",
          "outgroup",
          "outgroup",
          "outgroup",
          "outgroup",
          "outgroup",
          "outgroup",
          "outgroup",
          "outgroup",
          "outgroup",
          "outgroup",
          "outgroup",
          "outgroup",
          "outgroup",
          "outgroup",
          "outgroup",
          "outgroup",
          "outgroup",
          "outgroup",
          "outgroup",
          "outgroup",
          "outgroup",
          "outgroup",
          "outgroup",
          "outgroup",
          "outgroup",
          "outgroup",
          "outgroup",
          "outgroup",
          "outgroup",
          "outgroup",
          "outgroup",
          "outgroup",
          "outgroup",
          "outgroup",
          "outgroup",
          "outgroup",
          "outgroup",
          "outgroup",
          "outgroup",
          "outgroup",
          "outgroup",
          "outgroup",
          "outgroup",
          "outgroup",
          "outgroup",
          "outgroup",
          "outgroup",
          "outgroup"
         ],
         "legendgroup": "outgroup",
         "marker": {
          "color": "#00cc96",
          "symbol": "circle"
         },
         "mode": "markers",
         "name": "outgroup",
         "orientation": "v",
         "showlegend": true,
         "type": "scatter",
         "x": [
          0.92557484,
          0.92827874,
          0.9413505,
          0.9196891,
          0.9099579,
          0.9270656,
          0.8657462,
          -0.9638014,
          0.8571417,
          0.9149294,
          0.91708595,
          0.92028683,
          0.9239908,
          0.92086476,
          0.9309394,
          0.91045594,
          0.89349276,
          0.87057245,
          0.92121476,
          0.87071705,
          0.9220755,
          0.925463,
          0.927192,
          0.94568616,
          0.8781679,
          0.94809586,
          0.9496875,
          0.95112216,
          0.9313894,
          0.94571745,
          0.86339414,
          0.90984374,
          0.9173291,
          0.95500714,
          0.86832285,
          0.8331848,
          0.91583896,
          0.9545274,
          0.9232619,
          -0.48731872,
          0.8513345,
          0.9091982,
          0.92243344,
          0.9384811,
          0.9391682,
          0.9304013,
          -0.18911804,
          0.9345998,
          0.85354686,
          0.9100391,
          0.94689655,
          0.93040013,
          0.9364238,
          0.9276622,
          0.93290156,
          0.93426114,
          0.94180894,
          0.8892835,
          0.9221244,
          0.91130817,
          -0.19830658,
          0.9292997
         ],
         "xaxis": "x",
         "y": [
          0.06341545,
          -0.18432455,
          0.20050712,
          -0.20985642,
          -0.19320455,
          0.164675,
          0.35378313,
          0.03024353,
          -0.23930202,
          -0.19765925,
          0.2895738,
          0.29513913,
          0.08585552,
          -0.181134,
          -0.19449294,
          -0.25189793,
          -0.18851343,
          0.35439655,
          -0.19264695,
          0.34878045,
          -0.24198148,
          -0.25293154,
          -0.24768141,
          0.16225623,
          0.3531307,
          0.071631454,
          0.080094606,
          0.17058115,
          0.21120478,
          0.15597945,
          -0.25692728,
          -0.18530273,
          0.27426586,
          0.15520236,
          0.3603995,
          -0.22619249,
          0.28507352,
          0.16104437,
          0.28898233,
          -0.122980624,
          -0.24506259,
          0.29316944,
          -0.24980778,
          0.20897332,
          0.21494406,
          0.113703094,
          -0.91511524,
          0.14645375,
          -0.23260409,
          -0.16916019,
          0.14352833,
          0.19848666,
          0.069765665,
          0.22622642,
          0.0781313,
          0.085384645,
          0.08954656,
          -0.20962803,
          0.28380752,
          0.07567814,
          -0.9040856,
          -0.23986776
         ],
         "yaxis": "y"
        },
        {
         "customdata": [
          [
           "O00141 ePK_AGC_SGK_SGK1",
           "O00141",
           "AGC"
          ],
          [
           "O14578 ePK_AGC_DMPK_CTRO",
           "O14578",
           "AGC"
          ],
          [
           "O15021 ePK_AGC_MAST_MAST4",
           "O15021",
           "AGC"
          ],
          [
           "O15530 ePK_AGC_PDK1_PDPK1",
           "O15530",
           "AGC"
          ],
          [
           "O43930 ePK_AGC_PKA_PRKY",
           "O43930",
           "AGC"
          ],
          [
           "O60307 ePK_AGC_MAST_MAST3",
           "O60307",
           "AGC"
          ],
          [
           "O75116 ePK_AGC_DMPK_ROCK2",
           "O75116",
           "AGC"
          ],
          [
           "O75582|1 ePK_AGC_RSK_KS6A5",
           "O75582|1",
           "AGC"
          ],
          [
           "O75676|1 ePK_AGC_RSK_KS6A4",
           "O75676|1",
           "AGC"
          ],
          [
           "O95835 ePK_AGC_NDR_LATS1",
           "O95835",
           "AGC"
          ],
          [
           "P05129 ePK_AGC_PKC_KPCG",
           "P05129",
           "AGC"
          ],
          [
           "P05771 ePK_AGC_PKC_KPCB",
           "P05771",
           "AGC"
          ],
          [
           "P17252 ePK_AGC_PKC_KPCA",
           "P17252",
           "AGC"
          ],
          [
           "P17612 ePK_AGC_PKA_KAPCA",
           "P17612",
           "AGC"
          ],
          [
           "P22612 ePK_AGC_PKA_KAPCG",
           "P22612",
           "AGC"
          ],
          [
           "P22694 ePK_AGC_PKA_KAPCB",
           "P22694",
           "AGC"
          ],
          [
           "P23443 ePK_AGC_RSK_KS6B1",
           "P23443",
           "AGC"
          ],
          [
           "P24723 ePK_AGC_PKC_KPCL",
           "P24723",
           "AGC"
          ],
          [
           "P25098 ePK_AGC_GRK_ARBK1",
           "P25098",
           "AGC"
          ],
          [
           "P31749 ePK_AGC_Akt_AKT1",
           "P31749",
           "AGC"
          ],
          [
           "P31751 ePK_AGC_Akt_AKT2",
           "P31751",
           "AGC"
          ],
          [
           "P32298 ePK_AGC_GRK_GRK4",
           "P32298",
           "AGC"
          ],
          [
           "P34947 ePK_AGC_GRK_GRK5",
           "P34947",
           "AGC"
          ],
          [
           "P35626 ePK_AGC_GRK_ARBK2",
           "P35626",
           "AGC"
          ],
          [
           "P41743 ePK_AGC_PKC_KPCI",
           "P41743",
           "AGC"
          ],
          [
           "P43250 ePK_AGC_GRK_GRK6",
           "P43250",
           "AGC"
          ],
          [
           "P51812|1 ePK_AGC_RSK_KS6A3",
           "P51812|1",
           "AGC"
          ],
          [
           "P51817 ePK_AGC_PKA_PRKX",
           "P51817",
           "AGC"
          ],
          [
           "Q02156 ePK_AGC_PKC_KPCE",
           "Q02156",
           "AGC"
          ],
          [
           "Q04759 ePK_AGC_PKC_KPCT",
           "Q04759",
           "AGC"
          ],
          [
           "Q05513 ePK_AGC_PKC_KPCZ",
           "Q05513",
           "AGC"
          ],
          [
           "Q05655 ePK_AGC_PKC_KPCD",
           "Q05655",
           "AGC"
          ],
          [
           "Q09013 ePK_AGC_DMPK_DMPK",
           "Q09013",
           "AGC"
          ],
          [
           "Q13237 ePK_AGC_PKG_KGP2",
           "Q13237",
           "AGC"
          ],
          [
           "Q13464 ePK_AGC_DMPK_ROCK1",
           "Q13464",
           "AGC"
          ],
          [
           "Q13976 ePK_AGC_PKG_KGP1",
           "Q13976",
           "AGC"
          ],
          [
           "Q15208 ePK_AGC_NDR_STK38",
           "Q15208",
           "AGC"
          ],
          [
           "Q15349|1 ePK_AGC_RSK_KS6A2",
           "Q15349|1",
           "AGC"
          ],
          [
           "Q15418|1 ePK_AGC_RSK_KS6A1",
           "Q15418|1",
           "AGC"
          ],
          [
           "Q15835 ePK_AGC_GRK_GRK1",
           "Q15835",
           "AGC"
          ],
          [
           "Q16512 ePK_AGC_PKN_PKN1",
           "Q16512",
           "AGC"
          ],
          [
           "Q16513 ePK_AGC_PKN_PKN2",
           "Q16513",
           "AGC"
          ],
          [
           "Q5VT25 ePK_AGC_DMPK_MRCKA",
           "Q5VT25",
           "AGC"
          ],
          [
           "Q6A1A2 ePK_AGC_PDPK2_PDPK2",
           "Q6A1A2",
           "AGC"
          ],
          [
           "Q6DT37 ePK_AGC_DMPK_MRCKG",
           "Q6DT37",
           "AGC"
          ],
          [
           "Q6P0Q8 ePK_AGC_MAST_MAST2",
           "Q6P0Q8",
           "AGC"
          ],
          [
           "Q6P5Z2 ePK_AGC_PKN_PKN3",
           "Q6P5Z2",
           "AGC"
          ],
          [
           "Q86UX6 ePK_AGC_YANK_ST32C",
           "Q86UX6",
           "AGC"
          ],
          [
           "Q8WTQ7 ePK_AGC_GRK_GRK7",
           "Q8WTQ7",
           "AGC"
          ],
          [
           "Q8WU08 ePK_AGC_YANK_ST32A",
           "Q8WU08",
           "AGC"
          ],
          [
           "Q96BR1 ePK_AGC_SGK_SGK3",
           "Q96BR1",
           "AGC"
          ],
          [
           "Q96GX5 ePK_AGC_MAST_GWL",
           "Q96GX5",
           "AGC"
          ],
          [
           "Q96LW2 ePK_AGC_RSKR_KS6R",
           "Q96LW2",
           "AGC"
          ],
          [
           "Q96S38 ePK_AGC_RSKL_KS6C1",
           "Q96S38",
           "AGC"
          ],
          [
           "Q9HBY8 ePK_AGC_SGK_SGK2",
           "Q9HBY8",
           "AGC"
          ],
          [
           "Q9NRM7 ePK_AGC_NDR_LATS2",
           "Q9NRM7",
           "AGC"
          ],
          [
           "Q9NY57 ePK_AGC_YANK_ST32B",
           "Q9NY57",
           "AGC"
          ],
          [
           "Q9UBS0 ePK_AGC_RSK_KS6B2",
           "Q9UBS0",
           "AGC"
          ],
          [
           "Q9UK32|1 ePK_AGC_RSK_KS6A6",
           "Q9UK32|1",
           "AGC"
          ],
          [
           "Q9Y243 ePK_AGC_Akt_AKT3",
           "Q9Y243",
           "AGC"
          ],
          [
           "Q9Y2H1 ePK_AGC_NDR_ST38L",
           "Q9Y2H1",
           "AGC"
          ],
          [
           "Q9Y2H9 ePK_AGC_MAST_MAST1",
           "Q9Y2H9",
           "AGC"
          ],
          [
           "Q9Y5S2 ePK_AGC_DMPK_MRCKB",
           "Q9Y5S2",
           "AGC"
          ],
          [
           "Q9Y6S9 ePK_AGC_RSKL_RPKL1",
           "Q9Y6S9",
           "AGC"
          ]
         ],
         "hovertemplate": "<b>%{hovertext}</b><br><br>label=%{customdata[2]}<br>pm1=%{x}<br>pm2=%{y}<br>proteins_id=%{customdata[0]}<br>accession=%{customdata[1]}<extra></extra>",
         "hovertext": [
          "AGC",
          "AGC",
          "AGC",
          "AGC",
          "AGC",
          "AGC",
          "AGC",
          "AGC",
          "AGC",
          "AGC",
          "AGC",
          "AGC",
          "AGC",
          "AGC",
          "AGC",
          "AGC",
          "AGC",
          "AGC",
          "AGC",
          "AGC",
          "AGC",
          "AGC",
          "AGC",
          "AGC",
          "AGC",
          "AGC",
          "AGC",
          "AGC",
          "AGC",
          "AGC",
          "AGC",
          "AGC",
          "AGC",
          "AGC",
          "AGC",
          "AGC",
          "AGC",
          "AGC",
          "AGC",
          "AGC",
          "AGC",
          "AGC",
          "AGC",
          "AGC",
          "AGC",
          "AGC",
          "AGC",
          "AGC",
          "AGC",
          "AGC",
          "AGC",
          "AGC",
          "AGC",
          "AGC",
          "AGC",
          "AGC",
          "AGC",
          "AGC",
          "AGC",
          "AGC",
          "AGC",
          "AGC",
          "AGC",
          "AGC"
         ],
         "legendgroup": "AGC",
         "marker": {
          "color": "#ab63fa",
          "symbol": "circle"
         },
         "mode": "markers",
         "name": "AGC",
         "orientation": "v",
         "showlegend": true,
         "type": "scatter",
         "x": [
          -0.37301114,
          -0.34995413,
          -0.40555674,
          -0.3947505,
          -0.30183902,
          -0.41101414,
          -0.35195574,
          -0.34338507,
          -0.3409375,
          -0.36064273,
          -0.40335688,
          -0.4011028,
          -0.39528728,
          -0.31097177,
          -0.309948,
          -0.31031176,
          -0.33971843,
          -0.41083193,
          -0.46501726,
          -0.3752067,
          -0.36624673,
          -0.47215527,
          -0.47671098,
          -0.47444323,
          -0.39697263,
          -0.4792359,
          -0.33245334,
          -0.30473793,
          -0.40007597,
          -0.40423015,
          -0.40396652,
          -0.40566912,
          -0.35447317,
          -0.344027,
          -0.3528842,
          -0.3402485,
          -0.35504338,
          -0.33556476,
          -0.34774667,
          -0.45893365,
          -0.41686413,
          -0.4144917,
          -0.35148337,
          -0.38574618,
          -0.35166013,
          -0.40720555,
          -0.42147043,
          -0.4712722,
          -0.47035897,
          -0.46682486,
          -0.37831983,
          -0.51484096,
          -0.45593566,
          -0.5115508,
          -0.36834726,
          -0.3564385,
          -0.4646754,
          -0.33785415,
          -0.32542202,
          -0.38646513,
          -0.3517332,
          -0.40929118,
          -0.35434455,
          -0.49949756
         ],
         "xaxis": "x",
         "y": [
          0.8629486,
          0.9237776,
          0.8948971,
          0.81634945,
          0.88281274,
          0.89200413,
          0.9244926,
          0.8968742,
          0.88540065,
          0.91325504,
          0.88109696,
          0.8846459,
          0.8856487,
          0.88161176,
          0.8767541,
          0.885995,
          0.87910354,
          0.8763704,
          0.8342221,
          0.87101185,
          0.870058,
          0.8260826,
          0.82226855,
          0.8369059,
          0.8924983,
          0.8286796,
          0.88133913,
          0.8713377,
          0.8804076,
          0.8658265,
          0.8901445,
          0.8776129,
          0.9212823,
          0.82295775,
          0.9232904,
          0.8455452,
          0.9118434,
          0.8744431,
          0.86760706,
          0.8198543,
          0.8752288,
          0.8831617,
          0.9200272,
          0.8177121,
          0.9229997,
          0.8939466,
          0.86923265,
          0.84379756,
          0.8329143,
          0.8450118,
          0.84859556,
          -0.3141733,
          0.8483849,
          -0.31146464,
          0.86399055,
          0.91643053,
          0.84172964,
          0.8726637,
          0.86841166,
          0.8689727,
          0.91241986,
          0.89254683,
          0.9239408,
          -0.30934766
         ],
         "yaxis": "y"
        },
        {
         "customdata": [
          [
           "O00238 ePK_TKL_STKR_BMR1B",
           "O00238",
           "TKL"
          ],
          [
           "O43187 ePK_TKL_IRAK_IRAK2",
           "O43187",
           "TKL"
          ],
          [
           "O43283 ePK_TKL_MLK_M3K13",
           "O43283",
           "TKL"
          ],
          [
           "O43318 ePK_TKL_MLK_M3K7",
           "O43318",
           "TKL"
          ],
          [
           "O43353 ePK_TKL_RIPK_RIPK2",
           "O43353",
           "TKL"
          ],
          [
           "P04049 ePK_TKL_RAF_RAF1",
           "P04049",
           "TKL"
          ],
          [
           "P10398 ePK_TKL_RAF_ARAF",
           "P10398",
           "TKL"
          ],
          [
           "P15056 ePK_TKL_RAF_BRAF",
           "P15056",
           "TKL"
          ],
          [
           "P27037 ePK_TKL_STKR_AVR2A",
           "P27037",
           "TKL"
          ],
          [
           "P36894 ePK_TKL_STKR_BMR1A",
           "P36894",
           "TKL"
          ],
          [
           "P36896 ePK_TKL_STKR_ACV1B",
           "P36896",
           "TKL"
          ],
          [
           "P36897 ePK_TKL_STKR_TGFR1",
           "P36897",
           "TKL"
          ],
          [
           "P37023 ePK_TKL_STKR_ACVL1",
           "P37023",
           "TKL"
          ],
          [
           "P37173 ePK_TKL_STKR_TGFR2",
           "P37173",
           "TKL"
          ],
          [
           "P51617 ePK_TKL_IRAK_IRAK1",
           "P51617",
           "TKL"
          ],
          [
           "P53667 ePK_TKL_LIMK_LIMK1",
           "P53667",
           "TKL"
          ],
          [
           "P53671 ePK_TKL_LIMK_LIMK2",
           "P53671",
           "TKL"
          ],
          [
           "P57078 ePK_TKL_RIPK_RIPK4",
           "P57078",
           "TKL"
          ],
          [
           "P80192 ePK_TKL_MLK_M3K9",
           "P80192",
           "TKL"
          ],
          [
           "Q02779 ePK_TKL_MLK_M3K10",
           "Q02779",
           "TKL"
          ],
          [
           "Q04771 ePK_TKL_STKR_ACVR1",
           "Q04771",
           "TKL"
          ],
          [
           "Q12852 ePK_TKL_MLK_M3K12",
           "Q12852",
           "TKL"
          ],
          [
           "Q13418 ePK_TKL_MLK_ILK",
           "Q13418",
           "TKL"
          ],
          [
           "Q13546 ePK_TKL_RIPK_RIPK1",
           "Q13546",
           "TKL"
          ],
          [
           "Q13705 ePK_TKL_STKR_AVR2B",
           "Q13705",
           "TKL"
          ],
          [
           "Q13873 ePK_TKL_STKR_BMPR2",
           "Q13873",
           "TKL"
          ],
          [
           "Q15569 ePK_TKL_TESK_TESK1",
           "Q15569",
           "TKL"
          ],
          [
           "Q16584 ePK_TKL_MLK_M3K11",
           "Q16584",
           "TKL"
          ],
          [
           "Q16671 ePK_TKL_STKR_AMHR2",
           "Q16671",
           "TKL"
          ],
          [
           "Q38SD2 ePK_TKL_LRRK_LRRK1",
           "Q38SD2",
           "TKL"
          ],
          [
           "Q59H18 ePK_TKL_MLK_TNI3K",
           "Q59H18",
           "TKL"
          ],
          [
           "Q5S007 ePK_TKL_LRRK_LRRK2",
           "Q5S007",
           "TKL"
          ],
          [
           "Q5TCX8 ePK_TKL_MLK_M3K21",
           "Q5TCX8",
           "TKL"
          ],
          [
           "Q6VAB6 ePK_TKL_RAF_KSR2",
           "Q6VAB6",
           "TKL"
          ],
          [
           "Q8IVT5 ePK_TKL_RAF_KSR1",
           "Q8IVT5",
           "TKL"
          ],
          [
           "Q8NB16 ePK_TKL_MLKL_MLKL",
           "Q8NB16",
           "TKL"
          ],
          [
           "Q8NER5 ePK_TKL_STKR_ACV1C",
           "Q8NER5",
           "TKL"
          ],
          [
           "Q8NFD2 ePK_TKL_RIPK_ANKK1",
           "Q8NFD2",
           "TKL"
          ],
          [
           "Q96S53 ePK_TKL_TESK_TESK2",
           "Q96S53",
           "TKL"
          ],
          [
           "Q9NWZ3 ePK_TKL_IRAK_IRAK4",
           "Q9NWZ3",
           "TKL"
          ],
          [
           "Q9NYL2 ePK_TKL_MLK_M3K20",
           "Q9NYL2",
           "TKL"
          ],
          [
           "Q9Y572 ePK_TKL_RIPK_RIPK3",
           "Q9Y572",
           "TKL"
          ],
          [
           "Q9Y616 ePK_TKL_IRAK_IRAK3",
           "Q9Y616",
           "TKL"
          ]
         ],
         "hovertemplate": "<b>%{hovertext}</b><br><br>label=%{customdata[2]}<br>pm1=%{x}<br>pm2=%{y}<br>proteins_id=%{customdata[0]}<br>accession=%{customdata[1]}<extra></extra>",
         "hovertext": [
          "TKL",
          "TKL",
          "TKL",
          "TKL",
          "TKL",
          "TKL",
          "TKL",
          "TKL",
          "TKL",
          "TKL",
          "TKL",
          "TKL",
          "TKL",
          "TKL",
          "TKL",
          "TKL",
          "TKL",
          "TKL",
          "TKL",
          "TKL",
          "TKL",
          "TKL",
          "TKL",
          "TKL",
          "TKL",
          "TKL",
          "TKL",
          "TKL",
          "TKL",
          "TKL",
          "TKL",
          "TKL",
          "TKL",
          "TKL",
          "TKL",
          "TKL",
          "TKL",
          "TKL",
          "TKL",
          "TKL",
          "TKL",
          "TKL",
          "TKL"
         ],
         "legendgroup": "TKL",
         "marker": {
          "color": "#FFA15A",
          "symbol": "circle"
         },
         "mode": "markers",
         "name": "TKL",
         "orientation": "v",
         "showlegend": true,
         "type": "scatter",
         "x": [
          0.066619165,
          0.2080348,
          0.28972176,
          0.30066898,
          0.2771196,
          0.27033943,
          0.27240354,
          0.2919072,
          0.050557423,
          0.06207074,
          0.07153612,
          0.0631313,
          0.063552566,
          0.058584455,
          0.21459784,
          0.26151395,
          0.26283497,
          0.23005354,
          0.3044731,
          0.30634046,
          0.05749911,
          0.28460664,
          0.29171628,
          0.24591504,
          0.076348364,
          0.067673095,
          0.2675751,
          0.30825672,
          0.0746701,
          0.19645289,
          0.30905983,
          0.20305823,
          0.31238875,
          0.26913354,
          0.256188,
          0.22745413,
          0.0538024,
          0.23387301,
          0.26685143,
          0.22204109,
          0.29531038,
          0.1706802,
          0.2123552
         ],
         "xaxis": "x",
         "y": [
          -0.94357854,
          -0.88441986,
          -0.8859796,
          -0.88747174,
          -0.835116,
          -0.8584974,
          -0.87081164,
          -0.8602146,
          -0.9270287,
          -0.9496581,
          -0.9482139,
          -0.9549449,
          -0.93589914,
          -0.920116,
          -0.8863309,
          -0.89733577,
          -0.89514637,
          -0.85630137,
          -0.8968808,
          -0.9025546,
          -0.94193834,
          -0.8978534,
          -0.767711,
          -0.7982959,
          -0.929852,
          -0.9218943,
          -0.89996374,
          -0.9008082,
          -0.89188427,
          -0.805067,
          -0.8775216,
          -0.7664594,
          -0.89644825,
          -0.8073204,
          -0.7616558,
          -0.7971066,
          -0.94815475,
          -0.8319319,
          -0.9049904,
          -0.8929983,
          -0.9013286,
          -0.8102463,
          -0.88248134
         ],
         "yaxis": "y"
        },
        {
         "customdata": [
          [
           "O00311 ePK_Other_CDC7_CDC7",
           "O00311",
           "nan"
          ],
          [
           "O00444 ePK_Other_PLK_PLK4",
           "O00444",
           "nan"
          ],
          [
           "O14920 ePK_Other_IKK_IKKB",
           "O14920",
           "nan"
          ],
          [
           "O14965 ePK_Other_Aur_AURKA",
           "O14965",
           "nan"
          ],
          [
           "O14976 ePK_Other_NAK_GAK",
           "O14976",
           "nan"
          ],
          [
           "O15111 ePK_Other_IKK_IKKA",
           "O15111",
           "nan"
          ],
          [
           "O43683 ePK_Other_BUB_BUB1",
           "O43683",
           "nan"
          ],
          [
           "O60566 ePK_Other_BUB_BUB1B",
           "O60566",
           "nan"
          ],
          [
           "O75385 ePK_Other_ULK_ULK1",
           "O75385",
           "nan"
          ],
          [
           "O75460 ePK_Other_IRE_ERN1",
           "O75460",
           "nan"
          ],
          [
           "O75716 ePK_Other_NAK_STK16",
           "O75716",
           "nan"
          ],
          [
           "P00540 ePK_Other_MOS_MOS",
           "P00540",
           "nan"
          ],
          [
           "P0C1S8 ePK_Other_WEE_WEE2",
           "P0C1S8",
           "nan"
          ],
          [
           "P0C263 ePK_Other_NKF1_SBK2",
           "P0C263",
           "nan"
          ],
          [
           "P0C264 ePK_Other_NKF1_SBK3",
           "P0C264",
           "nan"
          ],
          [
           "P19525 ePK_Other_PEK_E2AK2",
           "P19525",
           "nan"
          ],
          [
           "P30291 ePK_Other_WEE_WEE1",
           "P30291",
           "nan"
          ],
          [
           "P33981 ePK_Other_TTK_TTK",
           "P33981",
           "nan"
          ],
          [
           "P53350 ePK_Other_PLK_PLK1",
           "P53350",
           "nan"
          ],
          [
           "Q05823 ePK_Other_RNAseL_RN5A",
           "Q05823",
           "nan"
          ],
          [
           "Q14164 ePK_Other_IKK_IKKE",
           "Q14164",
           "nan"
          ],
          [
           "Q2M2I8 ePK_Other_NAK_AAK1",
           "Q2M2I8",
           "nan"
          ],
          [
           "Q496M5 ePK_Other_PLK_PLK5",
           "Q496M5",
           "nan"
          ],
          [
           "Q504Y2 ePK_Other_SgK493_PKDCC",
           "Q504Y2",
           "nan"
          ],
          [
           "Q52WX2 ePK_Other_NKF1_SBK1",
           "Q52WX2",
           "nan"
          ],
          [
           "Q58A45 ePK_Other_PAN3_PAN3",
           "Q58A45",
           "nan"
          ],
          [
           "Q6P3W7 ePK_Other_SCY1_SCYL2",
           "Q6P3W7",
           "nan"
          ],
          [
           "Q6PHR2 ePK_Other_ULK_ULK3",
           "Q6PHR2",
           "nan"
          ],
          [
           "Q6XUX3 ePK_Other_Dusty_DUSTY",
           "Q6XUX3",
           "nan"
          ],
          [
           "Q6ZS72 ePK_Other_NKF3_PEAK3",
           "Q6ZS72",
           "nan"
          ],
          [
           "Q76MJ5 ePK_Other_IRE_ERN2",
           "Q76MJ5",
           "nan"
          ],
          [
           "Q7Z7A4 ePK_Other_Slob_PXK",
           "Q7Z7A4",
           "nan"
          ],
          [
           "Q86UE8 ePK_Other_TLK_TLK2",
           "Q86UE8",
           "nan"
          ],
          [
           "Q86YV5 ePK_Other_NKF3_PRAG1",
           "Q86YV5",
           "nan"
          ],
          [
           "Q8IWB6 ePK_Other_NKF5_TEX14",
           "Q8IWB6",
           "nan"
          ],
          [
           "Q8IYT8 ePK_Other_ULK_ULK2",
           "Q8IYT8",
           "nan"
          ],
          [
           "Q8IZE3 ePK_Other_SCY1_PACE1",
           "Q8IZE3",
           "nan"
          ],
          [
           "Q8N165 ePK_Other_NKF4_PDK1L",
           "Q8N165",
           "nan"
          ],
          [
           "Q8N5S9 ePK_Other_CAMKK_KKCC1",
           "Q8N5S9",
           "nan"
          ],
          [
           "Q8NE28 ePK_Other_SgK071_STKL1",
           "Q8NE28",
           "nan"
          ],
          [
           "Q8TAS1 ePK_Other_KIS_UHMK1",
           "Q8TAS1",
           "nan"
          ],
          [
           "Q8TDR2 ePK_Other_NKF4_STK35",
           "Q8TDR2",
           "nan"
          ],
          [
           "Q8TEA7 ePK_Other_TBCK_TBCK",
           "Q8TEA7",
           "nan"
          ],
          [
           "Q8TF76 ePK_Other_Haspin_HASP",
           "Q8TF76",
           "nan"
          ],
          [
           "Q96C45 ePK_Other_ULK_ULK4",
           "Q96C45",
           "nan"
          ],
          [
           "Q96GD4 ePK_Other_Aur_AURKB",
           "Q96GD4",
           "nan"
          ],
          [
           "Q96J92 ePK_Other_WNK_WNK4",
           "Q96J92",
           "nan"
          ],
          [
           "Q96KB5 ePK_Other_TOPK_TOPK",
           "Q96KB5",
           "nan"
          ],
          [
           "Q96KG9 ePK_Other_SCY1_SCYL1",
           "Q96KG9",
           "nan"
          ],
          [
           "Q96RR4 ePK_Other_CAMKK_KKCC2",
           "Q96RR4",
           "nan"
          ],
          [
           "Q99570 ePK_Other_VPS15_PI3R4",
           "Q99570",
           "nan"
          ],
          [
           "Q99640 ePK_Other_WEE_PMYT1",
           "Q99640",
           "nan"
          ],
          [
           "Q9BQI3 ePK_Other_PEK_E2AK1",
           "Q9BQI3",
           "nan"
          ],
          [
           "Q9BXM7 ePK_Other_NKF2_PINK1",
           "Q9BXM7",
           "nan"
          ],
          [
           "Q9BXU1 ePK_Other_STK31_STK31",
           "Q9BXU1",
           "nan"
          ],
          [
           "Q9BYP7 ePK_Other_WNK_WNK3",
           "Q9BYP7",
           "nan"
          ],
          [
           "Q9H4A3 ePK_Other_WNK_WNK1",
           "Q9H4A3",
           "nan"
          ],
          [
           "Q9H4B4 ePK_Other_PLK_PLK3",
           "Q9H4B4",
           "nan"
          ],
          [
           "Q9H5K3 ePK_Other_POMK_SG196",
           "Q9H5K3",
           "nan"
          ],
          [
           "Q9H792 ePK_Other_NKF3_PEAK1",
           "Q9H792",
           "nan"
          ],
          [
           "Q9NRP7 ePK_Other_ULK_STK36",
           "Q9NRP7",
           "nan"
          ],
          [
           "Q9NSY0 ePK_Other_NRBP_NRBP2",
           "Q9NSY0",
           "nan"
          ],
          [
           "Q9NSY1 ePK_Other_NAK_BMP2K",
           "Q9NSY1",
           "nan"
          ],
          [
           "Q9NYY3 ePK_Other_PLK_PLK2",
           "Q9NYY3",
           "nan"
          ],
          [
           "Q9NZJ5 ePK_Other_PEK_E2AK3",
           "Q9NZJ5",
           "nan"
          ],
          [
           "Q9P2K8|1 ePK_Other_PEK_E2AK4",
           "Q9P2K8|1",
           "nan"
          ],
          [
           "Q9P2K8|2 ePK_Other_PEK_E2AK4",
           "Q9P2K8|2",
           "nan"
          ],
          [
           "Q9UHD2 ePK_Other_IKK_TBK1",
           "Q9UHD2",
           "nan"
          ],
          [
           "Q9UHY1 ePK_Other_NRBP_NRBP",
           "Q9UHY1",
           "nan"
          ],
          [
           "Q9UKI8 ePK_Other_TLK_TLK1",
           "Q9UKI8",
           "nan"
          ],
          [
           "Q9UQB9 ePK_Other_Aur_AURKC",
           "Q9UQB9",
           "nan"
          ],
          [
           "Q9Y3S1 ePK_Other_WNK_WNK2",
           "Q9Y3S1",
           "nan"
          ]
         ],
         "hovertemplate": "<b>%{hovertext}</b><br><br>label=%{customdata[2]}<br>pm1=%{x}<br>pm2=%{y}<br>proteins_id=%{customdata[0]}<br>accession=%{customdata[1]}<extra></extra>",
         "hovertext": [
          "nan",
          "nan",
          "nan",
          "nan",
          "nan",
          "nan",
          "nan",
          "nan",
          "nan",
          "nan",
          "nan",
          "nan",
          "nan",
          "nan",
          "nan",
          "nan",
          "nan",
          "nan",
          "nan",
          "nan",
          "nan",
          "nan",
          "nan",
          "nan",
          "nan",
          "nan",
          "nan",
          "nan",
          "nan",
          "nan",
          "nan",
          "nan",
          "nan",
          "nan",
          "nan",
          "nan",
          "nan",
          "nan",
          "nan",
          "nan",
          "nan",
          "nan",
          "nan",
          "nan",
          "nan",
          "nan",
          "nan",
          "nan",
          "nan",
          "nan",
          "nan",
          "nan",
          "nan",
          "nan",
          "nan",
          "nan",
          "nan",
          "nan",
          "nan",
          "nan",
          "nan",
          "nan",
          "nan",
          "nan",
          "nan",
          "nan",
          "nan",
          "nan",
          "nan",
          "nan",
          "nan",
          "nan"
         ],
         "legendgroup": "nan",
         "marker": {
          "color": "#19d3f3",
          "symbol": "circle"
         },
         "mode": "markers",
         "name": "nan",
         "orientation": "v",
         "showlegend": true,
         "type": "scatter",
         "x": [
          -0.53015244,
          -0.22364673,
          -0.19672957,
          -0.36516058,
          0.2348414,
          -0.1995126,
          -0.22407952,
          -0.4654672,
          -0.048075493,
          0.014865252,
          -0.025336392,
          0.20227559,
          -0.17189638,
          -0.063042134,
          -0.06596561,
          -0.19707875,
          -0.08062467,
          -0.037369348,
          -0.29495034,
          -0.41291693,
          -0.061164897,
          0.41751528,
          0.10864927,
          0.124651566,
          -0.060501274,
          -0.43878472,
          -0.39818227,
          -0.0814541,
          0.17680769,
          -0.47853237,
          -0.11560507,
          -0.45823774,
          -0.0044458504,
          -0.4794791,
          0.20910251,
          -0.06577954,
          -0.45496917,
          -0.31639132,
          0.42545876,
          -0.35939348,
          -0.7200187,
          -0.33700585,
          -0.38438472,
          0.087877825,
          -0.26072478,
          -0.40126768,
          -0.46096075,
          0.22389407,
          -0.45135778,
          0.4170608,
          -0.12620236,
          -0.11865698,
          -0.478868,
          -0.3627863,
          -0.47501665,
          -0.47654766,
          -0.5400301,
          -0.2525847,
          0.24689904,
          -0.45524848,
          0.531686,
          -0.45772225,
          0.45385614,
          -0.28611797,
          -0.5288487,
          -0.470761,
          -0.51295006,
          -0.059399452,
          -0.46994388,
          -0.010011439,
          -0.3481839,
          -0.46520886
         ],
         "xaxis": "x",
         "y": [
          -0.31160498,
          0.6525325,
          -0.02325831,
          0.65075207,
          0.004642515,
          0.10120066,
          -0.3374299,
          -0.058649603,
          0.5661721,
          -0.106030166,
          -0.07639312,
          -0.8220925,
          -0.1044295,
          0.24269344,
          0.24077961,
          -0.19729961,
          -0.10988169,
          -0.07614329,
          0.6360404,
          -0.030007867,
          0.06777825,
          0.11865856,
          0.4209383,
          -0.71363074,
          0.22686525,
          0.072886236,
          0.12071772,
          0.55751044,
          -0.7627246,
          -0.11494566,
          0.044983204,
          0.06644908,
          0.010175725,
          -0.17544456,
          -0.82915175,
          0.5048675,
          0.109339416,
          -0.16159846,
          0.6884883,
          -0.026534647,
          -0.16369036,
          -0.14690655,
          0.057592355,
          -0.33353013,
          0.22949378,
          0.6062324,
          0.59156555,
          -0.75079376,
          0.11935111,
          0.6902086,
          -0.16105768,
          -0.018248178,
          -0.29056397,
          -0.12708446,
          -0.08811104,
          0.59279436,
          0.58792114,
          0.627509,
          -0.7343228,
          -0.20536013,
          0.081243545,
          0.21064661,
          0.08232422,
          0.6424442,
          -0.30326992,
          0.1500706,
          -0.2797812,
          0.064975105,
          0.49266607,
          -0.021736344,
          0.62039906,
          0.57544917
         ],
         "yaxis": "y"
        },
        {
         "customdata": [
          [
           "O00506 ePK_STE_STE20_STK25",
           "O00506",
           "STE"
          ],
          [
           "O14733 ePK_STE_STE7_MP2K7",
           "O14733",
           "STE"
          ],
          [
           "O75914 ePK_STE_STE20_PAK3",
           "O75914",
           "STE"
          ],
          [
           "O94804 ePK_STE_STE20_STK10",
           "O94804",
           "STE"
          ],
          [
           "O95382 ePK_STE_STE11_M3K6",
           "O95382",
           "STE"
          ],
          [
           "O95747 ePK_STE_STE20_OXSR1",
           "O95747",
           "STE"
          ],
          [
           "O95819 ePK_STE_STE20_M4K4",
           "O95819",
           "STE"
          ],
          [
           "O96013 ePK_STE_STE20_PAK4",
           "O96013",
           "STE"
          ],
          [
           "P36507 ePK_STE_STE7_MP2K2",
           "P36507",
           "STE"
          ],
          [
           "P41279 ePK_STE_COT_M3K8",
           "P41279",
           "STE"
          ],
          [
           "P45985 ePK_STE_STE7_MP2K4",
           "P45985",
           "STE"
          ],
          [
           "P46734 ePK_STE_STE7_MP2K3",
           "P46734",
           "STE"
          ],
          [
           "P52564 ePK_STE_STE7_MP2K6",
           "P52564",
           "STE"
          ],
          [
           "Q02750 ePK_STE_STE7_MP2K1",
           "Q02750",
           "STE"
          ],
          [
           "Q12851 ePK_STE_STE20_M4K2",
           "Q12851",
           "STE"
          ],
          [
           "Q13043 ePK_STE_STE20_STK4",
           "Q13043",
           "STE"
          ],
          [
           "Q13153 ePK_STE_STE20_PAK1",
           "Q13153",
           "STE"
          ],
          [
           "Q13163 ePK_STE_STE7_MP2K5",
           "Q13163",
           "STE"
          ],
          [
           "Q13177 ePK_STE_STE20_PAK2",
           "Q13177",
           "STE"
          ],
          [
           "Q13188 ePK_STE_STE20_STK3",
           "Q13188",
           "STE"
          ],
          [
           "Q13233 ePK_STE_STE11_M3K1",
           "Q13233",
           "STE"
          ],
          [
           "Q56UN5 ePK_STE_STE11_M3K19",
           "Q56UN5",
           "STE"
          ],
          [
           "Q6ZN16 ePK_STE_STE11_M3K15",
           "Q6ZN16",
           "STE"
          ],
          [
           "Q7L7X3 ePK_STE_STE20_TAOK1",
           "Q7L7X3",
           "STE"
          ],
          [
           "Q7RTN6 ePK_STE_STE20_STRAA",
           "Q7RTN6",
           "STE"
          ],
          [
           "Q7Z2Y5 ePK_STE_STE20_NRK",
           "Q7Z2Y5",
           "STE"
          ],
          [
           "Q8IVH8 ePK_STE_STE20_M4K3",
           "Q8IVH8",
           "STE"
          ],
          [
           "Q8N4C8 ePK_STE_STE20_MINK1",
           "Q8N4C8",
           "STE"
          ],
          [
           "Q8NEV4 ePK_STE_STE20_MYO3A",
           "Q8NEV4",
           "STE"
          ],
          [
           "Q8WXR4 ePK_STE_STE20_MYO3B",
           "Q8WXR4",
           "STE"
          ],
          [
           "Q92918 ePK_STE_STE20_M4K1",
           "Q92918",
           "STE"
          ],
          [
           "Q99558 ePK_STE_NIK_M3K14",
           "Q99558",
           "STE"
          ],
          [
           "Q99683 ePK_STE_STE11_M3K5",
           "Q99683",
           "STE"
          ],
          [
           "Q99759 ePK_STE_STE11_M3K3",
           "Q99759",
           "STE"
          ],
          [
           "Q9C0K7 ePK_STE_STE20_STRAB",
           "Q9C0K7",
           "STE"
          ],
          [
           "Q9H2G2 ePK_STE_STE20_SLK",
           "Q9H2G2",
           "STE"
          ],
          [
           "Q9H2K8 ePK_STE_STE20_TAOK3",
           "Q9H2K8",
           "STE"
          ],
          [
           "Q9NQU5 ePK_STE_STE20_PAK6",
           "Q9NQU5",
           "STE"
          ],
          [
           "Q9P286 ePK_STE_STE20_PAK5",
           "Q9P286",
           "STE"
          ],
          [
           "Q9P289 ePK_STE_STE20_STK26",
           "Q9P289",
           "STE"
          ],
          [
           "Q9UEW8 ePK_STE_STE20_STK39",
           "Q9UEW8",
           "STE"
          ],
          [
           "Q9UKE5 ePK_STE_STE20_TNIK",
           "Q9UKE5",
           "STE"
          ],
          [
           "Q9UL54 ePK_STE_STE20_TAOK2",
           "Q9UL54",
           "STE"
          ],
          [
           "Q9Y2U5 ePK_STE_STE11_M3K2",
           "Q9Y2U5",
           "STE"
          ],
          [
           "Q9Y4K4 ePK_STE_STE20_M4K5",
           "Q9Y4K4",
           "STE"
          ],
          [
           "Q9Y6E0 ePK_STE_STE20_STK24",
           "Q9Y6E0",
           "STE"
          ],
          [
           "Q9Y6R4 ePK_STE_STE11_M3K4",
           "Q9Y6R4",
           "STE"
          ]
         ],
         "hovertemplate": "<b>%{hovertext}</b><br><br>label=%{customdata[2]}<br>pm1=%{x}<br>pm2=%{y}<br>proteins_id=%{customdata[0]}<br>accession=%{customdata[1]}<extra></extra>",
         "hovertext": [
          "STE",
          "STE",
          "STE",
          "STE",
          "STE",
          "STE",
          "STE",
          "STE",
          "STE",
          "STE",
          "STE",
          "STE",
          "STE",
          "STE",
          "STE",
          "STE",
          "STE",
          "STE",
          "STE",
          "STE",
          "STE",
          "STE",
          "STE",
          "STE",
          "STE",
          "STE",
          "STE",
          "STE",
          "STE",
          "STE",
          "STE",
          "STE",
          "STE",
          "STE",
          "STE",
          "STE",
          "STE",
          "STE",
          "STE",
          "STE",
          "STE",
          "STE",
          "STE",
          "STE",
          "STE",
          "STE",
          "STE"
         ],
         "legendgroup": "STE",
         "marker": {
          "color": "#FF6692",
          "symbol": "circle"
         },
         "mode": "markers",
         "name": "STE",
         "orientation": "v",
         "showlegend": true,
         "type": "scatter",
         "x": [
          -0.8065792,
          -0.8588561,
          -0.80957156,
          -0.7793996,
          -0.8492164,
          -0.8318682,
          -0.7303961,
          -0.8244142,
          -0.85250473,
          -0.70933276,
          -0.85540205,
          -0.85049266,
          -0.84352016,
          -0.84422976,
          -0.7623091,
          -0.7973006,
          -0.816771,
          -0.84672636,
          -0.8207654,
          -0.7857508,
          -0.8118028,
          -0.8576855,
          -0.86564827,
          -0.8106802,
          -0.8284503,
          -0.75487,
          -0.7491527,
          -0.73831385,
          -0.7129531,
          -0.7456098,
          -0.76724946,
          -0.66019547,
          -0.86391526,
          -0.8643601,
          -0.8401865,
          -0.76493305,
          -0.81169385,
          -0.8307592,
          -0.8199055,
          -0.7923274,
          -0.8275869,
          -0.72832614,
          -0.8182123,
          -0.8474241,
          -0.7760036,
          -0.8026888,
          -0.83134115
         ],
         "xaxis": "x",
         "y": [
          0.513406,
          0.4021374,
          0.5014,
          0.532193,
          0.23084308,
          0.4632647,
          0.55359966,
          0.47043198,
          0.39054596,
          0.19549198,
          0.40792012,
          0.4186688,
          0.412714,
          0.3961119,
          0.54605484,
          0.49969974,
          0.49987233,
          0.40147448,
          0.49355215,
          0.4898119,
          0.2581047,
          0.2559439,
          0.23137835,
          0.45426202,
          0.3970213,
          0.5659042,
          0.528552,
          0.56590676,
          0.55471575,
          0.5539702,
          0.55257434,
          0.20735018,
          0.21825276,
          0.2442778,
          0.3688239,
          0.5361149,
          0.4707614,
          0.474758,
          0.47900352,
          0.5086735,
          0.45338127,
          0.5643633,
          0.46620056,
          0.24117848,
          0.5462574,
          0.5090375,
          0.21573466
         ],
         "yaxis": "y"
        },
        {
         "customdata": [
          [
           "O15146 ePK_TK_Musk_MUSK",
           "O15146",
           "TK"
          ],
          [
           "O15197 ePK_TK_Eph_EPHB6",
           "O15197",
           "TK"
          ],
          [
           "O60674|1 ePK_TK_Jak_JAK2",
           "O60674|1",
           "TK"
          ],
          [
           "O60674|2 ePK_TK_Jak-b_JAK2",
           "O60674|2",
           "TK"
          ],
          [
           "P00519 ePK_TK_Abl_ABL1",
           "P00519",
           "TK"
          ],
          [
           "P00533 ePK_TK_EGFR_EGFR",
           "P00533",
           "TK"
          ],
          [
           "P04626 ePK_TK_EGFR_ERBB2",
           "P04626",
           "TK"
          ],
          [
           "P04629 ePK_TK_Trk_NTRK1",
           "P04629",
           "TK"
          ],
          [
           "P06213 ePK_TK_InsR_INSR",
           "P06213",
           "TK"
          ],
          [
           "P06239 ePK_TK_Src_LCK",
           "P06239",
           "TK"
          ],
          [
           "P06241 ePK_TK_Src_FYN",
           "P06241",
           "TK"
          ],
          [
           "P07332 ePK_TK_Fer_FES",
           "P07332",
           "TK"
          ],
          [
           "P07333 ePK_TK_PDGFR_CSF1R",
           "P07333",
           "TK"
          ],
          [
           "P07947 ePK_TK_Src_YES",
           "P07947",
           "TK"
          ],
          [
           "P07948 ePK_TK_Src_LYN",
           "P07948",
           "TK"
          ],
          [
           "P07949 ePK_TK_Ret_RET",
           "P07949",
           "TK"
          ],
          [
           "P08069 ePK_TK_InsR_IGF1R",
           "P08069",
           "TK"
          ],
          [
           "P08581 ePK_TK_Met_MET",
           "P08581",
           "TK"
          ],
          [
           "P08631 ePK_TK_Src_HCK",
           "P08631",
           "TK"
          ],
          [
           "P08922 ePK_TK_Sev_ROS1",
           "P08922",
           "TK"
          ],
          [
           "P09619 ePK_TK_PDGFR_PGFRB",
           "P09619",
           "TK"
          ],
          [
           "P09769 ePK_TK_Src_FGR",
           "P09769",
           "TK"
          ],
          [
           "P10721 ePK_TK_PDGFR_KIT",
           "P10721",
           "TK"
          ],
          [
           "P11362 ePK_TK_FGFR_FGFR1",
           "P11362",
           "TK"
          ],
          [
           "P12931 ePK_TK_Src_SRC",
           "P12931",
           "TK"
          ],
          [
           "P14616 ePK_TK_InsR_INSRR",
           "P14616",
           "TK"
          ],
          [
           "P16234 ePK_TK_PDGFR_PGFRA",
           "P16234",
           "TK"
          ],
          [
           "P16591 ePK_TK_Fer_FER",
           "P16591",
           "TK"
          ],
          [
           "P17948 ePK_TK_VEGFR_VGFR1",
           "P17948",
           "TK"
          ],
          [
           "P21709 ePK_TK_Eph_EPHA1",
           "P21709",
           "TK"
          ],
          [
           "P21802 ePK_TK_FGFR_FGFR2",
           "P21802",
           "TK"
          ],
          [
           "P21860 ePK_TK_EGFR_ERBB3",
           "P21860",
           "TK"
          ],
          [
           "P22455 ePK_TK_FGFR_FGFR4",
           "P22455",
           "TK"
          ],
          [
           "P22607 ePK_TK_FGFR_FGFR3",
           "P22607",
           "TK"
          ],
          [
           "P23458|1 ePK_TK_Jak_JAK1",
           "P23458|1",
           "TK"
          ],
          [
           "P23458|2 ePK_TK_Jak-b_JAK1",
           "P23458|2",
           "TK"
          ],
          [
           "P29317 ePK_TK_Eph_EPHA2",
           "P29317",
           "TK"
          ],
          [
           "P29320 ePK_TK_Eph_EPHA3",
           "P29320",
           "TK"
          ],
          [
           "P29322 ePK_TK_Eph_EPHA8",
           "P29322",
           "TK"
          ],
          [
           "P29323 ePK_TK_Eph_EPHB2",
           "P29323",
           "TK"
          ],
          [
           "P29376 ePK_TK_ALK_LTK",
           "P29376",
           "TK"
          ],
          [
           "P29597|1 ePK_TK_Jak_TYK2",
           "P29597|1",
           "TK"
          ],
          [
           "P29597|2 ePK_TK_Jak-b_TYK2",
           "P29597|2",
           "TK"
          ],
          [
           "P30530 ePK_TK_Axl_UFO",
           "P30530",
           "TK"
          ],
          [
           "P34925 ePK_TK_Ryk_RYK",
           "P34925",
           "TK"
          ],
          [
           "P35590 ePK_TK_Tie_TIE1",
           "P35590",
           "TK"
          ],
          [
           "P35916 ePK_TK_VEGFR_VGFR3",
           "P35916",
           "TK"
          ],
          [
           "P35968 ePK_TK_VEGFR_VGFR2",
           "P35968",
           "TK"
          ],
          [
           "P36888 ePK_TK_PDGFR_FLT3",
           "P36888",
           "TK"
          ],
          [
           "P41240 ePK_TK_Csk_CSK",
           "P41240",
           "TK"
          ],
          [
           "P42679 ePK_TK_Csk_MATK",
           "P42679",
           "TK"
          ],
          [
           "P42680 ePK_TK_Tec_TEC",
           "P42680",
           "TK"
          ],
          [
           "P42681 ePK_TK_Tec_TXK",
           "P42681",
           "TK"
          ],
          [
           "P42684 ePK_TK_Abl_ABL2",
           "P42684",
           "TK"
          ],
          [
           "P42685 ePK_TK_Src_FRK",
           "P42685",
           "TK"
          ],
          [
           "P43403 ePK_TK_Syk_ZAP70",
           "P43403",
           "TK"
          ],
          [
           "P43405 ePK_TK_Syk_KSYK",
           "P43405",
           "TK"
          ],
          [
           "P51451 ePK_TK_Src_BLK",
           "P51451",
           "TK"
          ],
          [
           "P51813 ePK_TK_Tec_BMX",
           "P51813",
           "TK"
          ],
          [
           "P52333|1 ePK_TK_Jak_JAK3",
           "P52333|1",
           "TK"
          ],
          [
           "P52333|2 ePK_TK_Jak-b_JAK3",
           "P52333|2",
           "TK"
          ],
          [
           "P54753 ePK_TK_Eph_EPHB3",
           "P54753",
           "TK"
          ],
          [
           "P54756 ePK_TK_Eph_EPHA5",
           "P54756",
           "TK"
          ],
          [
           "P54760 ePK_TK_Eph_EPHB4",
           "P54760",
           "TK"
          ],
          [
           "P54762 ePK_TK_Eph_EPHB1",
           "P54762",
           "TK"
          ],
          [
           "P54764 ePK_TK_Eph_EPHA4",
           "P54764",
           "TK"
          ],
          [
           "Q01973 ePK_TK_Ror_ROR1",
           "Q01973",
           "TK"
          ],
          [
           "Q01974 ePK_TK_Ror_ROR2",
           "Q01974",
           "TK"
          ],
          [
           "Q02763 ePK_TK_Tie_TIE2",
           "Q02763",
           "TK"
          ],
          [
           "Q04912 ePK_TK_Met_RON",
           "Q04912",
           "TK"
          ],
          [
           "Q05397 ePK_TK_FAK_FAK1",
           "Q05397",
           "TK"
          ],
          [
           "Q06187 ePK_TK_Tec_BTK",
           "Q06187",
           "TK"
          ],
          [
           "Q06418 ePK_TK_Axl_TYRO3",
           "Q06418",
           "TK"
          ],
          [
           "Q07912 ePK_TK_Ack_ACK1",
           "Q07912",
           "TK"
          ],
          [
           "Q08345 ePK_TK_DDR_DDR1",
           "Q08345",
           "TK"
          ],
          [
           "Q08881 ePK_TK_Tec_ITK",
           "Q08881",
           "TK"
          ],
          [
           "Q12866 ePK_TK_Axl_MERTK",
           "Q12866",
           "TK"
          ],
          [
           "Q13308 ePK_TK_CCK4_PTK7",
           "Q13308",
           "TK"
          ],
          [
           "Q13470 ePK_TK_Ack_TNK1",
           "Q13470",
           "TK"
          ],
          [
           "Q13882 ePK_TK_Src_PTK6",
           "Q13882",
           "TK"
          ],
          [
           "Q14289 ePK_TK_FAK_FAK2",
           "Q14289",
           "TK"
          ],
          [
           "Q15303 ePK_TK_EGFR_ERBB4",
           "Q15303",
           "TK"
          ],
          [
           "Q15375 ePK_TK_Eph_EPHA7",
           "Q15375",
           "TK"
          ],
          [
           "Q16288 ePK_TK_Trk_NTRK3",
           "Q16288",
           "TK"
          ],
          [
           "Q16620 ePK_TK_Trk_NTRK2",
           "Q16620",
           "TK"
          ],
          [
           "Q16832 ePK_TK_DDR_DDR2",
           "Q16832",
           "TK"
          ],
          [
           "Q5JZY3 ePK_TK_Eph_EPHAA",
           "Q5JZY3",
           "TK"
          ],
          [
           "Q6J9G0 ePK_TK_STYK_STYK1",
           "Q6J9G0",
           "TK"
          ],
          [
           "Q6ZMQ8 ePK_TK_Lmr_LMTK1",
           "Q6ZMQ8",
           "TK"
          ],
          [
           "Q8IWU2 ePK_TK_Lmr_LMTK2",
           "Q8IWU2",
           "TK"
          ],
          [
           "Q96Q04 ePK_TK_Lmr_LMTK3",
           "Q96Q04",
           "TK"
          ],
          [
           "Q9H3Y6 ePK_TK_Src_SRMS",
           "Q9H3Y6",
           "TK"
          ],
          [
           "Q9UF33 ePK_TK_Eph_EPHA6",
           "Q9UF33",
           "TK"
          ],
          [
           "Q9UM73 ePK_TK_ALK_ALK",
           "Q9UM73",
           "TK"
          ]
         ],
         "hovertemplate": "<b>%{hovertext}</b><br><br>label=%{customdata[2]}<br>pm1=%{x}<br>pm2=%{y}<br>proteins_id=%{customdata[0]}<br>accession=%{customdata[1]}<extra></extra>",
         "hovertext": [
          "TK",
          "TK",
          "TK",
          "TK",
          "TK",
          "TK",
          "TK",
          "TK",
          "TK",
          "TK",
          "TK",
          "TK",
          "TK",
          "TK",
          "TK",
          "TK",
          "TK",
          "TK",
          "TK",
          "TK",
          "TK",
          "TK",
          "TK",
          "TK",
          "TK",
          "TK",
          "TK",
          "TK",
          "TK",
          "TK",
          "TK",
          "TK",
          "TK",
          "TK",
          "TK",
          "TK",
          "TK",
          "TK",
          "TK",
          "TK",
          "TK",
          "TK",
          "TK",
          "TK",
          "TK",
          "TK",
          "TK",
          "TK",
          "TK",
          "TK",
          "TK",
          "TK",
          "TK",
          "TK",
          "TK",
          "TK",
          "TK",
          "TK",
          "TK",
          "TK",
          "TK",
          "TK",
          "TK",
          "TK",
          "TK",
          "TK",
          "TK",
          "TK",
          "TK",
          "TK",
          "TK",
          "TK",
          "TK",
          "TK",
          "TK",
          "TK",
          "TK",
          "TK",
          "TK",
          "TK",
          "TK",
          "TK",
          "TK",
          "TK",
          "TK",
          "TK",
          "TK",
          "TK",
          "TK",
          "TK",
          "TK",
          "TK",
          "TK",
          "TK"
         ],
         "legendgroup": "TK",
         "marker": {
          "color": "#B6E880",
          "symbol": "circle"
         },
         "mode": "markers",
         "name": "TK",
         "orientation": "v",
         "showlegend": true,
         "type": "scatter",
         "x": [
          0.6156954,
          0.5527334,
          0.43604246,
          0.5184415,
          0.53479224,
          0.57429624,
          0.573142,
          0.6168154,
          0.6827567,
          0.5214652,
          0.5208654,
          0.5466882,
          0.6769963,
          0.5213723,
          0.5262561,
          0.67980736,
          0.67830175,
          0.65549374,
          0.5247352,
          0.6791742,
          0.6792051,
          0.515989,
          0.6775213,
          0.68881536,
          0.5175506,
          0.6842616,
          0.6792622,
          0.5524923,
          0.67538965,
          0.5762087,
          0.6874436,
          0.55601877,
          0.69141847,
          0.68560785,
          0.41902557,
          0.49675408,
          0.59011686,
          0.59344065,
          0.59670407,
          0.5958711,
          0.68792516,
          0.3572886,
          0.5345326,
          0.664364,
          0.6237567,
          0.6686662,
          0.6756887,
          0.67659765,
          0.6775841,
          0.5394055,
          0.543307,
          0.5489153,
          0.55549526,
          0.5392498,
          0.5276015,
          0.53336775,
          0.53021157,
          0.51440316,
          0.5462435,
          0.3990022,
          0.54038715,
          0.5910747,
          0.5980395,
          0.58616567,
          0.59275174,
          0.5953842,
          0.61206514,
          0.59963286,
          0.6622804,
          0.63955456,
          0.5766116,
          0.5490466,
          0.6524207,
          0.5791819,
          0.6099768,
          0.5511701,
          0.66443586,
          0.6379373,
          0.5517591,
          0.5567181,
          0.56790316,
          0.5724564,
          0.59998345,
          0.6155232,
          0.6234255,
          0.6179899,
          0.56757116,
          0.557851,
          0.59082454,
          0.5332033,
          0.5767442,
          0.5300587,
          0.61076736,
          0.69154805
         ],
         "xaxis": "x",
         "y": [
          -0.69698423,
          -0.73240244,
          -0.68334407,
          -0.72782975,
          -0.80933505,
          -0.7846758,
          -0.7829321,
          -0.70787287,
          -0.67577314,
          -0.8171302,
          -0.822215,
          -0.76774925,
          -0.7210973,
          -0.82441676,
          -0.81630635,
          -0.6955044,
          -0.66320986,
          -0.66544443,
          -0.82234025,
          -0.64752996,
          -0.7213725,
          -0.8243045,
          -0.72032475,
          -0.6904413,
          -0.821178,
          -0.65766156,
          -0.7198423,
          -0.77098197,
          -0.72127455,
          -0.76189625,
          -0.6872964,
          -0.7445927,
          -0.68553495,
          -0.6897331,
          -0.70247275,
          -0.7183421,
          -0.7694285,
          -0.7622985,
          -0.7557017,
          -0.7605671,
          -0.6461802,
          -0.7065853,
          -0.69432026,
          -0.6643202,
          -0.6336121,
          -0.68025,
          -0.72276264,
          -0.71813905,
          -0.72222674,
          -0.7755876,
          -0.7710112,
          -0.78872126,
          -0.7984483,
          -0.8088921,
          -0.8031807,
          -0.749497,
          -0.75571203,
          -0.8160473,
          -0.80290097,
          -0.6896404,
          -0.712132,
          -0.75719786,
          -0.7649144,
          -0.7595227,
          -0.7649324,
          -0.7659034,
          -0.67709905,
          -0.6723823,
          -0.6742677,
          -0.66999793,
          -0.7741712,
          -0.8005717,
          -0.65034145,
          -0.76164126,
          -0.70316994,
          -0.7961536,
          -0.65393233,
          -0.66035676,
          -0.73556983,
          -0.75939566,
          -0.7891522,
          -0.78395987,
          -0.76277,
          -0.70197093,
          -0.69569755,
          -0.69788,
          -0.73504543,
          -0.69004,
          -0.6413005,
          -0.6337538,
          -0.6669496,
          -0.77227163,
          -0.7284509,
          -0.6651934
         ],
         "yaxis": "y"
        },
        {
         "customdata": [
          [
           "O15264 ePK_CMGC_MAPK_MK13",
           "O15264",
           "CMGC"
          ],
          [
           "O43781 ePK_CMGC_DYRK_DYRK3",
           "O43781",
           "CMGC"
          ],
          [
           "O76039 ePK_CMGC_CDKL_CDKL5",
           "O76039",
           "CMGC"
          ],
          [
           "O94921 ePK_CMGC_CDK_CDK14",
           "O94921",
           "CMGC"
          ],
          [
           "P06493 ePK_CMGC_CDK_CDK1",
           "P06493",
           "CMGC"
          ],
          [
           "P11802 ePK_CMGC_CDK_CDK4",
           "P11802",
           "CMGC"
          ],
          [
           "P19784 ePK_CMGC_CK2_CSK22",
           "P19784",
           "CMGC"
          ],
          [
           "P20794 ePK_CMGC_RCK_MAK",
           "P20794",
           "CMGC"
          ],
          [
           "P21127 ePK_CMGC_CDK_CD11B",
           "P21127",
           "CMGC"
          ],
          [
           "P24941 ePK_CMGC_CDK_CDK2",
           "P24941",
           "CMGC"
          ],
          [
           "P27361 ePK_CMGC_MAPK_MK03",
           "P27361",
           "CMGC"
          ],
          [
           "P28482 ePK_CMGC_MAPK_MK01",
           "P28482",
           "CMGC"
          ],
          [
           "P31152 ePK_CMGC_MAPK_MK04",
           "P31152",
           "CMGC"
          ],
          [
           "P45983 ePK_CMGC_MAPK_MK08",
           "P45983",
           "CMGC"
          ],
          [
           "P45984 ePK_CMGC_MAPK_MK09",
           "P45984",
           "CMGC"
          ],
          [
           "P49336 ePK_CMGC_CDK_CDK8",
           "P49336",
           "CMGC"
          ],
          [
           "P49759 ePK_CMGC_CLK_CLK1",
           "P49759",
           "CMGC"
          ],
          [
           "P49760 ePK_CMGC_CLK_CLK2",
           "P49760",
           "CMGC"
          ],
          [
           "P49761 ePK_CMGC_CLK_CLK3",
           "P49761",
           "CMGC"
          ],
          [
           "P49840 ePK_CMGC_GSK_GSK3A",
           "P49840",
           "CMGC"
          ],
          [
           "P49841 ePK_CMGC_GSK_GSK3B",
           "P49841",
           "CMGC"
          ],
          [
           "P50613 ePK_CMGC_CDK_CDK7",
           "P50613",
           "CMGC"
          ],
          [
           "P50750 ePK_CMGC_CDK_CDK9",
           "P50750",
           "CMGC"
          ],
          [
           "P53778 ePK_CMGC_MAPK_MK12",
           "P53778",
           "CMGC"
          ],
          [
           "P53779 ePK_CMGC_MAPK_MK10",
           "P53779",
           "CMGC"
          ],
          [
           "P68400 ePK_CMGC_CK2_CSK21",
           "P68400",
           "CMGC"
          ],
          [
           "P78362 ePK_CMGC_SRPK_SRPK2",
           "P78362",
           "CMGC"
          ],
          [
           "Q00526 ePK_CMGC_CDK_CDK3",
           "Q00526",
           "CMGC"
          ],
          [
           "Q00532 ePK_CMGC_CDKL_CDKL1",
           "Q00532",
           "CMGC"
          ],
          [
           "Q00534 ePK_CMGC_CDK_CDK6",
           "Q00534",
           "CMGC"
          ],
          [
           "Q00535 ePK_CMGC_CDK_CDK5",
           "Q00535",
           "CMGC"
          ],
          [
           "Q00536 ePK_CMGC_CDK_CDK16",
           "Q00536",
           "CMGC"
          ],
          [
           "Q00537 ePK_CMGC_CDK_CDK17",
           "Q00537",
           "CMGC"
          ],
          [
           "Q07002 ePK_CMGC_CDK_CDK18",
           "Q07002",
           "CMGC"
          ],
          [
           "Q13164 ePK_CMGC_MAPK_MK07",
           "Q13164",
           "CMGC"
          ],
          [
           "Q13523 ePK_CMGC_DYRK_PRP4B",
           "Q13523",
           "CMGC"
          ],
          [
           "Q13627 ePK_CMGC_DYRK_DYR1A",
           "Q13627",
           "CMGC"
          ],
          [
           "Q14004 ePK_CMGC_CDK_CDK13",
           "Q14004",
           "CMGC"
          ],
          [
           "Q15131 ePK_CMGC_CDK_CDK10",
           "Q15131",
           "CMGC"
          ],
          [
           "Q15759 ePK_CMGC_MAPK_MK11",
           "Q15759",
           "CMGC"
          ],
          [
           "Q16539 ePK_CMGC_MAPK_MK14",
           "Q16539",
           "CMGC"
          ],
          [
           "Q16659 ePK_CMGC_MAPK_MK06",
           "Q16659",
           "CMGC"
          ],
          [
           "Q5MAI5 ePK_CMGC_CDKL_CDKL4",
           "Q5MAI5",
           "CMGC"
          ],
          [
           "Q86Z02 ePK_CMGC_DYRK_HIPK1",
           "Q86Z02",
           "CMGC"
          ],
          [
           "Q8IVW4 ePK_CMGC_CDKL_CDKL3",
           "Q8IVW4",
           "CMGC"
          ],
          [
           "Q8IZL9 ePK_CMGC_CDK_CDK20",
           "Q8IZL9",
           "CMGC"
          ],
          [
           "Q8NE63 ePK_CMGC_DYRK_HIPK4",
           "Q8NE63",
           "CMGC"
          ],
          [
           "Q8NEV1 ePK_CMGC_CK23_CSK23",
           "Q8NEV1",
           "CMGC"
          ],
          [
           "Q8TD08 ePK_CMGC_MAPK_MK15",
           "Q8TD08",
           "CMGC"
          ],
          [
           "Q92630 ePK_CMGC_DYRK_DYRK2",
           "Q92630",
           "CMGC"
          ],
          [
           "Q92772 ePK_CMGC_CDKL_CDKL2",
           "Q92772",
           "CMGC"
          ],
          [
           "Q96Q40 ePK_CMGC_CDK_CDK15",
           "Q96Q40",
           "CMGC"
          ],
          [
           "Q96SB4 ePK_CMGC_SRPK_SRPK1",
           "Q96SB4",
           "CMGC"
          ],
          [
           "Q9BWU1 ePK_CMGC_CDK_CDK19",
           "Q9BWU1",
           "CMGC"
          ],
          [
           "Q9H2X6 ePK_CMGC_DYRK_HIPK2",
           "Q9H2X6",
           "CMGC"
          ],
          [
           "Q9H422 ePK_CMGC_DYRK_HIPK3",
           "Q9H422",
           "CMGC"
          ],
          [
           "Q9HAZ1 ePK_CMGC_CLK_CLK4",
           "Q9HAZ1",
           "CMGC"
          ],
          [
           "Q9NR20 ePK_CMGC_DYRK_DYRK4",
           "Q9NR20",
           "CMGC"
          ],
          [
           "Q9NYV4 ePK_CMGC_CDK_CDK12",
           "Q9NYV4",
           "CMGC"
          ],
          [
           "Q9UBE8 ePK_CMGC_MAPK_NLK",
           "Q9UBE8",
           "CMGC"
          ],
          [
           "Q9UPE1 ePK_CMGC_SRPK_SRPK3",
           "Q9UPE1",
           "CMGC"
          ],
          [
           "Q9UPZ9 ePK_CMGC_RCK_ICK",
           "Q9UPZ9",
           "CMGC"
          ],
          [
           "Q9UQ07 ePK_CMGC_RCK_MOK",
           "Q9UQ07",
           "CMGC"
          ],
          [
           "Q9UQ88 ePK_CMGC_CDK_CD11A",
           "Q9UQ88",
           "CMGC"
          ],
          [
           "Q9Y463 ePK_CMGC_DYRK_DYR1B",
           "Q9Y463",
           "CMGC"
          ]
         ],
         "hovertemplate": "<b>%{hovertext}</b><br><br>label=%{customdata[2]}<br>pm1=%{x}<br>pm2=%{y}<br>proteins_id=%{customdata[0]}<br>accession=%{customdata[1]}<extra></extra>",
         "hovertext": [
          "CMGC",
          "CMGC",
          "CMGC",
          "CMGC",
          "CMGC",
          "CMGC",
          "CMGC",
          "CMGC",
          "CMGC",
          "CMGC",
          "CMGC",
          "CMGC",
          "CMGC",
          "CMGC",
          "CMGC",
          "CMGC",
          "CMGC",
          "CMGC",
          "CMGC",
          "CMGC",
          "CMGC",
          "CMGC",
          "CMGC",
          "CMGC",
          "CMGC",
          "CMGC",
          "CMGC",
          "CMGC",
          "CMGC",
          "CMGC",
          "CMGC",
          "CMGC",
          "CMGC",
          "CMGC",
          "CMGC",
          "CMGC",
          "CMGC",
          "CMGC",
          "CMGC",
          "CMGC",
          "CMGC",
          "CMGC",
          "CMGC",
          "CMGC",
          "CMGC",
          "CMGC",
          "CMGC",
          "CMGC",
          "CMGC",
          "CMGC",
          "CMGC",
          "CMGC",
          "CMGC",
          "CMGC",
          "CMGC",
          "CMGC",
          "CMGC",
          "CMGC",
          "CMGC",
          "CMGC",
          "CMGC",
          "CMGC",
          "CMGC",
          "CMGC",
          "CMGC"
         ],
         "legendgroup": "CMGC",
         "marker": {
          "color": "#FF97FF",
          "symbol": "circle"
         },
         "mode": "markers",
         "name": "CMGC",
         "orientation": "v",
         "showlegend": true,
         "type": "scatter",
         "x": [
          -0.85110193,
          -0.87754726,
          -0.8318693,
          -0.80020314,
          -0.7867132,
          -0.80943596,
          -0.8302139,
          -0.8305863,
          -0.80925936,
          -0.78507835,
          -0.8546288,
          -0.8552679,
          -0.8283393,
          -0.8521671,
          -0.85265964,
          -0.82214457,
          -0.87171566,
          -0.8613481,
          -0.8491,
          -0.8457843,
          -0.84923446,
          -0.81560934,
          -0.8097976,
          -0.85021466,
          -0.85383147,
          -0.842606,
          -0.58913606,
          -0.7880838,
          -0.8378115,
          -0.7968111,
          -0.79113,
          -0.79728585,
          -0.7946506,
          -0.7983719,
          -0.852971,
          -0.83509314,
          -0.8743235,
          -0.8026195,
          -0.80743396,
          -0.85127723,
          -0.85360426,
          -0.82732904,
          -0.84642714,
          -0.8709418,
          -0.8486598,
          -0.8133201,
          -0.82984513,
          -0.8351063,
          -0.84530646,
          -0.8855747,
          -0.8263261,
          -0.80417395,
          -0.58942443,
          -0.8173584,
          -0.8749554,
          -0.8604501,
          -0.86091226,
          -0.8918626,
          -0.80478334,
          -0.85231656,
          -0.83682036,
          -0.83722717,
          -0.83988434,
          -0.81182903,
          -0.8658615
         ],
         "xaxis": "x",
         "y": [
          -0.5009656,
          -0.1874317,
          -0.4307057,
          -0.5263378,
          -0.5290709,
          -0.50533164,
          -0.4021791,
          -0.44349808,
          -0.5352124,
          -0.5400204,
          -0.49735072,
          -0.49630398,
          -0.49144804,
          -0.5038424,
          -0.5027225,
          -0.456115,
          -0.2788625,
          -0.27547288,
          -0.26880977,
          -0.44919586,
          -0.44761017,
          -0.51266915,
          -0.53990084,
          -0.50252384,
          -0.50272083,
          -0.4147155,
          -0.29075605,
          -0.53551626,
          -0.4426291,
          -0.4923769,
          -0.5227196,
          -0.5330967,
          -0.53632575,
          -0.5259565,
          -0.49524105,
          -0.30046904,
          -0.17869566,
          -0.54434466,
          -0.52707845,
          -0.49793684,
          -0.49990714,
          -0.50284183,
          -0.4410391,
          -0.22381437,
          -0.43243596,
          -0.4946972,
          -0.2557288,
          -0.41633555,
          -0.49780402,
          -0.19880147,
          -0.436049,
          -0.5177408,
          -0.29087356,
          -0.4539646,
          -0.26123503,
          -0.25235406,
          -0.28422326,
          -0.19166356,
          -0.54181546,
          -0.49689084,
          -0.15752734,
          -0.4491887,
          -0.42564207,
          -0.5297709,
          -0.1925033
         ],
         "yaxis": "y"
        },
        {
         "customdata": [
          [
           "P16066 ePK_RGC__ANPRA",
           "P16066",
           "RGC"
          ],
          [
           "P20594 ePK_RGC__ANPRB",
           "P20594",
           "RGC"
          ],
          [
           "P25092 ePK_RGC__GUC2C",
           "P25092",
           "RGC"
          ],
          [
           "P51841 ePK_RGC__GUC2F",
           "P51841",
           "RGC"
          ],
          [
           "Q02846 ePK_RGC__GUC2D",
           "Q02846",
           "RGC"
          ]
         ],
         "hovertemplate": "<b>%{hovertext}</b><br><br>label=%{customdata[2]}<br>pm1=%{x}<br>pm2=%{y}<br>proteins_id=%{customdata[0]}<br>accession=%{customdata[1]}<extra></extra>",
         "hovertext": [
          "RGC",
          "RGC",
          "RGC",
          "RGC",
          "RGC"
         ],
         "legendgroup": "RGC",
         "marker": {
          "color": "#FECB52",
          "symbol": "circle"
         },
         "mode": "markers",
         "name": "RGC",
         "orientation": "v",
         "showlegend": true,
         "type": "scatter",
         "x": [
          0.32711765,
          0.32546026,
          0.3422851,
          0.30983168,
          0.19864324
         ],
         "xaxis": "x",
         "y": [
          -0.7974712,
          -0.79530114,
          -0.7770609,
          -0.7821818,
          -0.79634225
         ],
         "yaxis": "y"
        },
        {
         "customdata": [
          [
           "P48729 ePK_CK1_CK1-A_KC1A",
           "P48729",
           "CK1"
          ],
          [
           "P48730 ePK_CK1_CK1-D_KC1D",
           "P48730",
           "CK1"
          ],
          [
           "P49674 ePK_CK1_CK1-D_KC1E",
           "P49674",
           "CK1"
          ],
          [
           "P78368 ePK_CK1_CK1-G_KC1G2",
           "P78368",
           "CK1"
          ],
          [
           "Q5TCY1 ePK_CK1_TTBK_TTBK1",
           "Q5TCY1",
           "CK1"
          ],
          [
           "Q6IQ55 ePK_CK1_TTBK_TTBK2",
           "Q6IQ55",
           "CK1"
          ],
          [
           "Q86Y07 ePK_CK1_VRK_VRK2",
           "Q86Y07",
           "CK1"
          ],
          [
           "Q8IV63 ePK_CK1_VRK_VRK3",
           "Q8IV63",
           "CK1"
          ],
          [
           "Q8N752 ePK_CK1_CK1-A_KC1AL",
           "Q8N752",
           "CK1"
          ],
          [
           "Q99986 ePK_CK1_VRK_VRK1",
           "Q99986",
           "CK1"
          ],
          [
           "Q9HCP0 ePK_CK1_CK1-G_KC1G1",
           "Q9HCP0",
           "CK1"
          ],
          [
           "Q9Y6M4 ePK_CK1_CK1-G_KC1G3",
           "Q9Y6M4",
           "CK1"
          ]
         ],
         "hovertemplate": "<b>%{hovertext}</b><br><br>label=%{customdata[2]}<br>pm1=%{x}<br>pm2=%{y}<br>proteins_id=%{customdata[0]}<br>accession=%{customdata[1]}<extra></extra>",
         "hovertext": [
          "CK1",
          "CK1",
          "CK1",
          "CK1",
          "CK1",
          "CK1",
          "CK1",
          "CK1",
          "CK1",
          "CK1",
          "CK1",
          "CK1"
         ],
         "legendgroup": "CK1",
         "marker": {
          "color": "#636efa",
          "symbol": "circle"
         },
         "mode": "markers",
         "name": "CK1",
         "orientation": "v",
         "showlegend": true,
         "type": "scatter",
         "x": [
          -0.4379442,
          -0.42831585,
          -0.44677415,
          -0.4563723,
          -0.44019368,
          -0.4604394,
          -0.47504458,
          -0.44882855,
          -0.4389558,
          -0.45527327,
          -0.44687617,
          -0.44626656
         ],
         "xaxis": "x",
         "y": [
          -0.8354092,
          -0.83005106,
          -0.8345158,
          -0.8291027,
          -0.76669174,
          -0.77407354,
          -0.76823926,
          -0.72930276,
          -0.82576406,
          -0.7613227,
          -0.82571954,
          -0.8062184
         ],
         "yaxis": "y"
        },
        {
         "customdata": [
          [
           "P51955 ePK_NEK_NEK2_NEK2",
           "P51955",
           "NEK"
          ],
          [
           "P51956 ePK_NEK_NEK1_NEK3",
           "P51956",
           "NEK"
          ],
          [
           "P51957 ePK_NEK_NEK4_NEK4",
           "P51957",
           "NEK"
          ],
          [
           "Q6P3R8 ePK_NEK_NEK1_NEK5",
           "Q6P3R8",
           "NEK"
          ],
          [
           "Q6ZWH5 ePK_NEK_NEK10_NEK10",
           "Q6ZWH5",
           "NEK"
          ],
          [
           "Q86SG6 ePK_NEK_NEK8_NEK8",
           "Q86SG6",
           "NEK"
          ],
          [
           "Q8NG66 ePK_NEK_NEK11_NEK11",
           "Q8NG66",
           "NEK"
          ],
          [
           "Q8TD19 ePK_NEK_NEK9_NEK9",
           "Q8TD19",
           "NEK"
          ],
          [
           "Q8TDX7 ePK_NEK_NEK6_NEK7",
           "Q8TDX7",
           "NEK"
          ],
          [
           "Q96PY6 ePK_NEK_NEK1_NEK1",
           "Q96PY6",
           "NEK"
          ],
          [
           "Q9HC98 ePK_NEK_NEK6_NEK6",
           "Q9HC98",
           "NEK"
          ]
         ],
         "hovertemplate": "<b>%{hovertext}</b><br><br>label=%{customdata[2]}<br>pm1=%{x}<br>pm2=%{y}<br>proteins_id=%{customdata[0]}<br>accession=%{customdata[1]}<extra></extra>",
         "hovertext": [
          "NEK",
          "NEK",
          "NEK",
          "NEK",
          "NEK",
          "NEK",
          "NEK",
          "NEK",
          "NEK",
          "NEK",
          "NEK"
         ],
         "legendgroup": "NEK",
         "marker": {
          "color": "#EF553B",
          "symbol": "circle"
         },
         "mode": "markers",
         "name": "NEK",
         "orientation": "v",
         "showlegend": true,
         "type": "scatter",
         "x": [
          0.53117424,
          0.53033155,
          0.5310414,
          0.5319629,
          0.51844543,
          0.53284454,
          0.53091645,
          0.5308708,
          0.5303482,
          0.52757704,
          0.530426
         ],
         "xaxis": "x",
         "y": [
          0.080653094,
          0.078206256,
          0.08243182,
          0.081308365,
          0.069491245,
          0.08180294,
          0.0808895,
          0.08062128,
          0.08062837,
          0.08299846,
          0.08085107
         ],
         "yaxis": "y"
        }
       ],
       "layout": {
        "font": {
         "size": 11
        },
        "height": 800,
        "legend": {
         "title": {
          "text": "label"
         },
         "tracegroupgap": 0
        },
        "plot_bgcolor": "rgba(0, 0, 0, 0)",
        "shapes": [
         {
          "line": {
           "color": "black",
           "dash": "dot"
          },
          "opacity": 0.15,
          "type": "circle",
          "x0": -0.47058823529411764,
          "x1": 0.47058823529411764,
          "y0": -0.47058823529411764,
          "y1": 0.47058823529411764
         },
         {
          "line": {
           "color": "black",
           "dash": "dot"
          },
          "opacity": 0.15,
          "type": "circle",
          "x0": -0.644736842105263,
          "x1": 0.644736842105263,
          "y0": -0.644736842105263,
          "y1": 0.644736842105263
         },
         {
          "line": {
           "color": "black",
           "dash": "dot"
          },
          "opacity": 0.15,
          "type": "circle",
          "x0": -0.7705382436260623,
          "x1": 0.7705382436260623,
          "y0": -0.7705382436260623,
          "y1": 0.7705382436260623
         },
         {
          "line": {
           "color": "black",
           "dash": "dot"
          },
          "opacity": 0.15,
          "type": "circle",
          "x0": -0.8557007125890735,
          "x1": 0.8557007125890735,
          "y0": -0.8557007125890735,
          "y1": 0.8557007125890735
         },
         {
          "line": {
           "color": "black",
           "dash": "dot"
          },
          "opacity": 0.15,
          "type": "circle",
          "x0": -0.9108474990827932,
          "x1": 0.9108474990827932,
          "y0": -0.9108474990827932,
          "y1": 0.9108474990827932
         },
         {
          "line": {
           "color": "black",
           "dash": "dot"
          },
          "opacity": 0.15,
          "type": "circle",
          "x0": -0.9455374041239167,
          "x1": 0.9455374041239167,
          "y0": -0.9455374041239167,
          "y1": 0.9455374041239167
         },
         {
          "line": {
           "color": "Black"
          },
          "type": "circle",
          "x0": -1,
          "x1": 1,
          "xref": "x",
          "y0": -1,
          "y1": 1,
          "yref": "y"
         },
         {
          "fillcolor": "Black",
          "line": {
           "color": "Black"
          },
          "type": "circle",
          "x0": -0.005,
          "x1": 0.005,
          "xref": "x",
          "y0": -0.005,
          "y1": 0.005,
          "yref": "y"
         }
        ],
        "template": {
         "data": {
          "bar": [
           {
            "error_x": {
             "color": "#2a3f5f"
            },
            "error_y": {
             "color": "#2a3f5f"
            },
            "marker": {
             "line": {
              "color": "#E5ECF6",
              "width": 0.5
             },
             "pattern": {
              "fillmode": "overlay",
              "size": 10,
              "solidity": 0.2
             }
            },
            "type": "bar"
           }
          ],
          "barpolar": [
           {
            "marker": {
             "line": {
              "color": "#E5ECF6",
              "width": 0.5
             },
             "pattern": {
              "fillmode": "overlay",
              "size": 10,
              "solidity": 0.2
             }
            },
            "type": "barpolar"
           }
          ],
          "carpet": [
           {
            "aaxis": {
             "endlinecolor": "#2a3f5f",
             "gridcolor": "white",
             "linecolor": "white",
             "minorgridcolor": "white",
             "startlinecolor": "#2a3f5f"
            },
            "baxis": {
             "endlinecolor": "#2a3f5f",
             "gridcolor": "white",
             "linecolor": "white",
             "minorgridcolor": "white",
             "startlinecolor": "#2a3f5f"
            },
            "type": "carpet"
           }
          ],
          "choropleth": [
           {
            "colorbar": {
             "outlinewidth": 0,
             "ticks": ""
            },
            "type": "choropleth"
           }
          ],
          "contour": [
           {
            "colorbar": {
             "outlinewidth": 0,
             "ticks": ""
            },
            "colorscale": [
             [
              0,
              "#0d0887"
             ],
             [
              0.1111111111111111,
              "#46039f"
             ],
             [
              0.2222222222222222,
              "#7201a8"
             ],
             [
              0.3333333333333333,
              "#9c179e"
             ],
             [
              0.4444444444444444,
              "#bd3786"
             ],
             [
              0.5555555555555556,
              "#d8576b"
             ],
             [
              0.6666666666666666,
              "#ed7953"
             ],
             [
              0.7777777777777778,
              "#fb9f3a"
             ],
             [
              0.8888888888888888,
              "#fdca26"
             ],
             [
              1,
              "#f0f921"
             ]
            ],
            "type": "contour"
           }
          ],
          "contourcarpet": [
           {
            "colorbar": {
             "outlinewidth": 0,
             "ticks": ""
            },
            "type": "contourcarpet"
           }
          ],
          "heatmap": [
           {
            "colorbar": {
             "outlinewidth": 0,
             "ticks": ""
            },
            "colorscale": [
             [
              0,
              "#0d0887"
             ],
             [
              0.1111111111111111,
              "#46039f"
             ],
             [
              0.2222222222222222,
              "#7201a8"
             ],
             [
              0.3333333333333333,
              "#9c179e"
             ],
             [
              0.4444444444444444,
              "#bd3786"
             ],
             [
              0.5555555555555556,
              "#d8576b"
             ],
             [
              0.6666666666666666,
              "#ed7953"
             ],
             [
              0.7777777777777778,
              "#fb9f3a"
             ],
             [
              0.8888888888888888,
              "#fdca26"
             ],
             [
              1,
              "#f0f921"
             ]
            ],
            "type": "heatmap"
           }
          ],
          "heatmapgl": [
           {
            "colorbar": {
             "outlinewidth": 0,
             "ticks": ""
            },
            "colorscale": [
             [
              0,
              "#0d0887"
             ],
             [
              0.1111111111111111,
              "#46039f"
             ],
             [
              0.2222222222222222,
              "#7201a8"
             ],
             [
              0.3333333333333333,
              "#9c179e"
             ],
             [
              0.4444444444444444,
              "#bd3786"
             ],
             [
              0.5555555555555556,
              "#d8576b"
             ],
             [
              0.6666666666666666,
              "#ed7953"
             ],
             [
              0.7777777777777778,
              "#fb9f3a"
             ],
             [
              0.8888888888888888,
              "#fdca26"
             ],
             [
              1,
              "#f0f921"
             ]
            ],
            "type": "heatmapgl"
           }
          ],
          "histogram": [
           {
            "marker": {
             "pattern": {
              "fillmode": "overlay",
              "size": 10,
              "solidity": 0.2
             }
            },
            "type": "histogram"
           }
          ],
          "histogram2d": [
           {
            "colorbar": {
             "outlinewidth": 0,
             "ticks": ""
            },
            "colorscale": [
             [
              0,
              "#0d0887"
             ],
             [
              0.1111111111111111,
              "#46039f"
             ],
             [
              0.2222222222222222,
              "#7201a8"
             ],
             [
              0.3333333333333333,
              "#9c179e"
             ],
             [
              0.4444444444444444,
              "#bd3786"
             ],
             [
              0.5555555555555556,
              "#d8576b"
             ],
             [
              0.6666666666666666,
              "#ed7953"
             ],
             [
              0.7777777777777778,
              "#fb9f3a"
             ],
             [
              0.8888888888888888,
              "#fdca26"
             ],
             [
              1,
              "#f0f921"
             ]
            ],
            "type": "histogram2d"
           }
          ],
          "histogram2dcontour": [
           {
            "colorbar": {
             "outlinewidth": 0,
             "ticks": ""
            },
            "colorscale": [
             [
              0,
              "#0d0887"
             ],
             [
              0.1111111111111111,
              "#46039f"
             ],
             [
              0.2222222222222222,
              "#7201a8"
             ],
             [
              0.3333333333333333,
              "#9c179e"
             ],
             [
              0.4444444444444444,
              "#bd3786"
             ],
             [
              0.5555555555555556,
              "#d8576b"
             ],
             [
              0.6666666666666666,
              "#ed7953"
             ],
             [
              0.7777777777777778,
              "#fb9f3a"
             ],
             [
              0.8888888888888888,
              "#fdca26"
             ],
             [
              1,
              "#f0f921"
             ]
            ],
            "type": "histogram2dcontour"
           }
          ],
          "mesh3d": [
           {
            "colorbar": {
             "outlinewidth": 0,
             "ticks": ""
            },
            "type": "mesh3d"
           }
          ],
          "parcoords": [
           {
            "line": {
             "colorbar": {
              "outlinewidth": 0,
              "ticks": ""
             }
            },
            "type": "parcoords"
           }
          ],
          "pie": [
           {
            "automargin": true,
            "type": "pie"
           }
          ],
          "scatter": [
           {
            "fillpattern": {
             "fillmode": "overlay",
             "size": 10,
             "solidity": 0.2
            },
            "type": "scatter"
           }
          ],
          "scatter3d": [
           {
            "line": {
             "colorbar": {
              "outlinewidth": 0,
              "ticks": ""
             }
            },
            "marker": {
             "colorbar": {
              "outlinewidth": 0,
              "ticks": ""
             }
            },
            "type": "scatter3d"
           }
          ],
          "scattercarpet": [
           {
            "marker": {
             "colorbar": {
              "outlinewidth": 0,
              "ticks": ""
             }
            },
            "type": "scattercarpet"
           }
          ],
          "scattergeo": [
           {
            "marker": {
             "colorbar": {
              "outlinewidth": 0,
              "ticks": ""
             }
            },
            "type": "scattergeo"
           }
          ],
          "scattergl": [
           {
            "marker": {
             "colorbar": {
              "outlinewidth": 0,
              "ticks": ""
             }
            },
            "type": "scattergl"
           }
          ],
          "scattermapbox": [
           {
            "marker": {
             "colorbar": {
              "outlinewidth": 0,
              "ticks": ""
             }
            },
            "type": "scattermapbox"
           }
          ],
          "scatterpolar": [
           {
            "marker": {
             "colorbar": {
              "outlinewidth": 0,
              "ticks": ""
             }
            },
            "type": "scatterpolar"
           }
          ],
          "scatterpolargl": [
           {
            "marker": {
             "colorbar": {
              "outlinewidth": 0,
              "ticks": ""
             }
            },
            "type": "scatterpolargl"
           }
          ],
          "scatterternary": [
           {
            "marker": {
             "colorbar": {
              "outlinewidth": 0,
              "ticks": ""
             }
            },
            "type": "scatterternary"
           }
          ],
          "surface": [
           {
            "colorbar": {
             "outlinewidth": 0,
             "ticks": ""
            },
            "colorscale": [
             [
              0,
              "#0d0887"
             ],
             [
              0.1111111111111111,
              "#46039f"
             ],
             [
              0.2222222222222222,
              "#7201a8"
             ],
             [
              0.3333333333333333,
              "#9c179e"
             ],
             [
              0.4444444444444444,
              "#bd3786"
             ],
             [
              0.5555555555555556,
              "#d8576b"
             ],
             [
              0.6666666666666666,
              "#ed7953"
             ],
             [
              0.7777777777777778,
              "#fb9f3a"
             ],
             [
              0.8888888888888888,
              "#fdca26"
             ],
             [
              1,
              "#f0f921"
             ]
            ],
            "type": "surface"
           }
          ],
          "table": [
           {
            "cells": {
             "fill": {
              "color": "#EBF0F8"
             },
             "line": {
              "color": "white"
             }
            },
            "header": {
             "fill": {
              "color": "#C8D4E3"
             },
             "line": {
              "color": "white"
             }
            },
            "type": "table"
           }
          ]
         },
         "layout": {
          "annotationdefaults": {
           "arrowcolor": "#2a3f5f",
           "arrowhead": 0,
           "arrowwidth": 1
          },
          "autotypenumbers": "strict",
          "coloraxis": {
           "colorbar": {
            "outlinewidth": 0,
            "ticks": ""
           }
          },
          "colorscale": {
           "diverging": [
            [
             0,
             "#8e0152"
            ],
            [
             0.1,
             "#c51b7d"
            ],
            [
             0.2,
             "#de77ae"
            ],
            [
             0.3,
             "#f1b6da"
            ],
            [
             0.4,
             "#fde0ef"
            ],
            [
             0.5,
             "#f7f7f7"
            ],
            [
             0.6,
             "#e6f5d0"
            ],
            [
             0.7,
             "#b8e186"
            ],
            [
             0.8,
             "#7fbc41"
            ],
            [
             0.9,
             "#4d9221"
            ],
            [
             1,
             "#276419"
            ]
           ],
           "sequential": [
            [
             0,
             "#0d0887"
            ],
            [
             0.1111111111111111,
             "#46039f"
            ],
            [
             0.2222222222222222,
             "#7201a8"
            ],
            [
             0.3333333333333333,
             "#9c179e"
            ],
            [
             0.4444444444444444,
             "#bd3786"
            ],
            [
             0.5555555555555556,
             "#d8576b"
            ],
            [
             0.6666666666666666,
             "#ed7953"
            ],
            [
             0.7777777777777778,
             "#fb9f3a"
            ],
            [
             0.8888888888888888,
             "#fdca26"
            ],
            [
             1,
             "#f0f921"
            ]
           ],
           "sequentialminus": [
            [
             0,
             "#0d0887"
            ],
            [
             0.1111111111111111,
             "#46039f"
            ],
            [
             0.2222222222222222,
             "#7201a8"
            ],
            [
             0.3333333333333333,
             "#9c179e"
            ],
            [
             0.4444444444444444,
             "#bd3786"
            ],
            [
             0.5555555555555556,
             "#d8576b"
            ],
            [
             0.6666666666666666,
             "#ed7953"
            ],
            [
             0.7777777777777778,
             "#fb9f3a"
            ],
            [
             0.8888888888888888,
             "#fdca26"
            ],
            [
             1,
             "#f0f921"
            ]
           ]
          },
          "colorway": [
           "#636efa",
           "#EF553B",
           "#00cc96",
           "#ab63fa",
           "#FFA15A",
           "#19d3f3",
           "#FF6692",
           "#B6E880",
           "#FF97FF",
           "#FECB52"
          ],
          "font": {
           "color": "#2a3f5f"
          },
          "geo": {
           "bgcolor": "white",
           "lakecolor": "white",
           "landcolor": "#E5ECF6",
           "showlakes": true,
           "showland": true,
           "subunitcolor": "white"
          },
          "hoverlabel": {
           "align": "left"
          },
          "hovermode": "closest",
          "mapbox": {
           "style": "light"
          },
          "paper_bgcolor": "white",
          "plot_bgcolor": "#E5ECF6",
          "polar": {
           "angularaxis": {
            "gridcolor": "white",
            "linecolor": "white",
            "ticks": ""
           },
           "bgcolor": "#E5ECF6",
           "radialaxis": {
            "gridcolor": "white",
            "linecolor": "white",
            "ticks": ""
           }
          },
          "scene": {
           "xaxis": {
            "backgroundcolor": "#E5ECF6",
            "gridcolor": "white",
            "gridwidth": 2,
            "linecolor": "white",
            "showbackground": true,
            "ticks": "",
            "zerolinecolor": "white"
           },
           "yaxis": {
            "backgroundcolor": "#E5ECF6",
            "gridcolor": "white",
            "gridwidth": 2,
            "linecolor": "white",
            "showbackground": true,
            "ticks": "",
            "zerolinecolor": "white"
           },
           "zaxis": {
            "backgroundcolor": "#E5ECF6",
            "gridcolor": "white",
            "gridwidth": 2,
            "linecolor": "white",
            "showbackground": true,
            "ticks": "",
            "zerolinecolor": "white"
           }
          },
          "shapedefaults": {
           "line": {
            "color": "#2a3f5f"
           }
          },
          "ternary": {
           "aaxis": {
            "gridcolor": "white",
            "linecolor": "white",
            "ticks": ""
           },
           "baxis": {
            "gridcolor": "white",
            "linecolor": "white",
            "ticks": ""
           },
           "bgcolor": "#E5ECF6",
           "caxis": {
            "gridcolor": "white",
            "linecolor": "white",
            "ticks": ""
           }
          },
          "title": {
           "x": 0.05
          },
          "xaxis": {
           "automargin": true,
           "gridcolor": "white",
           "linecolor": "white",
           "ticks": "",
           "title": {
            "standoff": 15
           },
           "zerolinecolor": "white",
           "zerolinewidth": 2
          },
          "yaxis": {
           "automargin": true,
           "gridcolor": "white",
           "linecolor": "white",
           "ticks": "",
           "title": {
            "standoff": 15
           },
           "zerolinecolor": "white",
           "zerolinewidth": 2
          }
         }
        },
        "title": {
         "text": "PM projection of kinases with embeddings",
         "x": 0.5
        },
        "xaxis": {
         "anchor": "y",
         "constrain": "domain",
         "domain": [
          0,
          1
         ],
         "range": [
          -1.1,
          1.1
         ],
         "title": {
          "text": "pm1"
         }
        },
        "yaxis": {
         "anchor": "x",
         "domain": [
          0,
          1
         ],
         "scaleanchor": "x",
         "scaleratio": 1,
         "title": {
          "text": "pm2"
         }
        },
        "yaxis2": {
         "layer": "below traces",
         "matches": "y",
         "overlaying": "y"
        }
       }
      }
     },
     "metadata": {},
     "output_type": "display_data"
    }
   ],
   "source": [
    "# OPTIONS =================================================\n",
    "#Here you can set different parameters to color & annotate the resulting projection:\n",
    "title = \"PM projection of kinases with embeddings\" \n",
    "#----------------------------------------------------------\n",
    "# Select the coloring from annotation .csv file:\n",
    "labels_name = \"label\"\n",
    "# Select classes to label among the \"labels_name\" or \"second_labels_name\" column (comma separated list):\n",
    "second_labels_name = \"\"\n",
    "labels_text = []\n",
    "show_text = False\n",
    "#----------------------------------------------------------\n",
    "# Use a custom color palette:\n",
    "color_palette = colour_palette #Default: None\n",
    "use_custom_palette = True\n",
    "#==========================================================\n",
    "\n",
    "\n",
    "#Check projection visualization parameters\n",
    "#Labels name\n",
    "if labels_name == \"\":\n",
    "    labels_name = None\n",
    "elif labels_name not in annotation_names:\n",
    "    raise NameError(f\"labels_name {labels_name} is not in the availables annotations.\\nAvailables annotations: {annotation_names}\")\n",
    "#Second labels name\n",
    "if second_labels_name == \"\":\n",
    "    second_labels_name = None\n",
    "elif second_labels_name not in annotation_names:\n",
    "    raise NameError(f'\"second_labels_name\" {second_labels_name} is not in the availables annotations.\\nAvailables annotations: {annotation_names}')\n",
    "\n",
    "if not use_custom_palette:\n",
    "    color_palette = None\n",
    "\n",
    "#Plot graph\n",
    "fig = plot_embedding_interactive(df_embedding, \n",
    "                                 labels_name = labels_name,\n",
    "                                 second_labels_name = second_labels_name, \n",
    "                                 show_text = show_text,\n",
    "                                 labels_text = labels_text,\n",
    "                                 color_palette = color_palette, \n",
    "                                 title = title, \n",
    "                                 fontsize = 11)\n",
    "fig.show()"
   ]
  },
  {
   "cell_type": "code",
   "execution_count": null,
   "metadata": {},
   "outputs": [],
   "source": [
    "# OPTIONS =================================================\n",
    "#Here you can set different parameters to color & annotate the resulting projection:\n",
    "title = \"PM projection of thioredoxins colored by species\"\n",
    "#----------------------------------------------------------\n",
    "# Select the coloring from annotation .csv file:\n",
    "labels_name = \"Species\"\n",
    "# Select classes to label among the \"labels_name\" or \"second_labels_name\" column (comma separated list):\n",
    "second_labels_name = \"\"\n",
    "labels_text = []\n",
    "show_text = False\n",
    "#----------------------------------------------------------\n",
    "# Use a custom color palette:\n",
    "color_palette = trx_palette #Default: None\n",
    "use_custom_palette = True\n",
    "#==========================================================\n",
    "\n",
    "\n",
    "#Check projection visualization parameters\n",
    "#Labels name\n",
    "if labels_name == \"\":\n",
    "    labels_name = None\n",
    "elif labels_name not in annotation_names:\n",
    "    raise NameError(f\"labels_name {labels_name} is not in the availables annotations.\\nAvailables annotations: {annotation_names}\")\n",
    "#Second labels name\n",
    "if second_labels_name == \"\":\n",
    "    second_labels_name = None\n",
    "elif second_labels_name not in annotation_names:\n",
    "    raise NameError(f'\"second_labels_name\" {second_labels_name} is not in the availables annotations.\\nAvailables annotations: {annotation_names}')\n",
    "\n",
    "if not use_custom_palette:\n",
    "    color_palette = None\n",
    "\n",
    "#Plot graph\n",
    "fig = plot_embedding_interactive(df_embedding, \n",
    "                                 labels_name = labels_name,\n",
    "                                 second_labels_name = second_labels_name, \n",
    "                                 show_text = show_text,\n",
    "                                 labels_text = labels_text,\n",
    "                                 color_palette = color_palette, \n",
    "                                 title = title, \n",
    "                                 fontsize = 11)\n",
    "fig.show()"
   ]
  },
  {
   "cell_type": "markdown",
   "metadata": {},
   "source": [
    "### Save plot to file"
   ]
  },
  {
   "cell_type": "code",
   "execution_count": 18,
   "metadata": {},
   "outputs": [],
   "source": [
    "# OPTIONS =================================================\n",
    "output_name = \"kinase_w_embeddings\"\n",
    "output_format = \"html\" #Format availables: [\"png\", \"html\", \"pdf\", \"svg\"]\n",
    "#==========================================================\n",
    "\n",
    "\n",
    "if output_format != \"html\":\n",
    "    fig.write_image(f\"{output_name}.{output_format}\", engine=\"kaleido\")\n",
    "else:\n",
    "    fig.write_html(f\"{output_name}.{output_format}\")"
   ]
  },
  {
   "cell_type": "code",
   "execution_count": null,
   "metadata": {},
   "outputs": [],
   "source": []
  }
 ],
 "metadata": {
  "accelerator": "GPU",
  "colab": {
   "provenance": []
  },
  "gpuClass": "standard",
  "kernelspec": {
   "display_name": "poincare",
   "language": "python",
   "name": "python3"
  },
  "language_info": {
   "codemirror_mode": {
    "name": "ipython",
    "version": 3
   },
   "file_extension": ".py",
   "mimetype": "text/x-python",
   "name": "python",
   "nbconvert_exporter": "python",
   "pygments_lexer": "ipython3",
   "version": "3.12.2"
  }
 },
 "nbformat": 4,
 "nbformat_minor": 1
}
