{
 "cells": [
  {
   "cell_type": "markdown",
   "metadata": {
    "id": "view-in-github"
   },
   "source": [
    "[![Open In Colab](https://colab.research.google.com/assets/colab-badge.svg)](https://colab.research.google.com/github/DSIMB/PoincareMSA/blob/master/PoincareMSA_colab.ipynb)"
   ]
  },
  {
   "cell_type": "markdown",
   "metadata": {
    "id": "W5FTaqy0xqw2"
   },
   "source": [
    "<img src=\"https://github.com/DSIMB/PoincareMSA/blob/master/.github/PoincareMSA_small_logo.png?raw=true\" height=\"100\" style=\"height:100px;margin-left: 0px;\">\n",
    "\n",
    "# Poincaré maps for visualization of large protein famillies\n",
    "\n",
    "**Authors**: Anna Klimovskaia Susmelj, Yani Ren, Yann Vander Meersche, Jean-Christophe Gelly and Tatiana Galochkina\n",
    "\n",
    "PoincaréMSA builds an interactive projection of an input protein multiple sequence alignemnt (MSA) using a method based on Poincaré maps described by Klimovskaia et al [1]. It reproduces both local proximities of protein sequences and hierarchy contained in give data. Thus, sequences located closer to the center of projection correspond to the proteins sharing the most general functional properites and/or appearing at the earlier stages of evolution. Source code is available at https://github.com/DSIMB/PoincareMSA.\n",
    "\n",
    "[1] Klimovskaia, A., Lopez-Paz, D., Bottou, L. et al. Poincaré maps for analyzing complex hierarchies in single-cell data. Nat Commun 11, 2966 (2020)."
   ]
  },
  {
   "cell_type": "markdown",
   "metadata": {
    "id": "Oa7Rrq-YzfQB"
   },
   "source": [
    "# Notebook initialization"
   ]
  },
  {
   "cell_type": "code",
   "execution_count": 1,
   "metadata": {},
   "outputs": [
    {
     "name": "stdout",
     "output_type": "stream",
     "text": [
      "/Users/gabrielduval/Desktop/Paris_Cite/Year2/Projet_Long/PoincareMSA\n"
     ]
    }
   ],
   "source": [
    "# Update working directory\n",
    "\n",
    "%cd ../../../"
   ]
  },
  {
   "cell_type": "code",
   "execution_count": 2,
   "metadata": {
    "cellView": "form",
    "colab": {
     "base_uri": "https://localhost:8080/"
    },
    "id": "X_SO37g-kQq7",
    "outputId": "c30184db-2ef2-4a87-fd43-db8fd3ed5379"
   },
   "outputs": [],
   "source": [
    "#Load dependencies\n",
    "import os\n",
    "import numpy as np\n",
    "import pandas as pd\n",
    "import subprocess\n",
    "import json\n",
    "import warnings\n",
    "warnings.filterwarnings('ignore')\n",
    "\n",
    "#Import visualization functions\n",
    "from scripts.visualize_projection.pplots_new import read_embeddings, plot_embedding, plot_embedding_interactive, rotate, get_colors\n",
    "from scripts.prepare_data.mmseqs2_api import run_mmseqs2\n",
    "from scripts.prepare_data.uniprot_idmapping_api import submit_id_mapping, check_id_mapping_results_ready, get_id_mapping_results_link, get_id_mapping_results_search\n",
    "%matplotlib inline\n",
    "\n",
    "#Create optional variables\n",
    "path_annotation = \"\""
   ]
  },
  {
   "cell_type": "markdown",
   "metadata": {
    "id": "IPi6cky3wgC8"
   },
   "source": [
    "# Data import"
   ]
  },
  {
   "cell_type": "code",
   "execution_count": 3,
   "metadata": {
    "cellView": "form",
    "colab": {
     "base_uri": "https://localhost:8080/",
     "height": 75,
     "resources": {
      "http://localhost:8080/nbextensions/google.colab/files.js": {
       "data": "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",
       "headers": [
        [
         "content-type",
         "application/javascript"
        ]
       ],
       "ok": true,
       "status": 200,
       "status_text": "OK"
      }
     }
    },
    "id": "GcbgnooHwIGh",
    "outputId": "dc30ce27-d01c-4953-cdb7-9d5fe599ad6d"
   },
   "outputs": [
    {
     "name": "stdout",
     "output_type": "stream",
     "text": [
      "\n",
      "Number of sequences found: 558.\n",
      "\n",
      "Annotation file correctly loaded.\n",
      "3 annotations found: ['proteins_id', 'accession', 'label'].\n"
     ]
    }
   ],
   "source": [
    "# OPTIONS =================================================\n",
    "# Path to MSA in mfasta format OR folder containing the embeddings - leave the other one as None\n",
    "mfasta = 'examples/wayland_datasets/protein_kinase/kinase.mfasta' \n",
    "embedding_path = None #'embeddings/ankh_base_protein_kinase/'\n",
    "\n",
    "#Annotation file (.csv) or UniProt ID list. (Emtpy strings for no annotations)\n",
    "path_annotation_csv = \"examples/wayland_datasets/protein_kinase/kinase_labels.csv\"   # Path or \"\"\n",
    "# OR\n",
    "path_uniprot_list = \"\"   # Path or \"\"\n",
    "#==========================================================\n",
    "\n",
    "\n",
    "#Check files\n",
    "#Check files\n",
    "#mfasta\n",
    "nb_seq = 0\n",
    "if mfasta is not None and embedding_path is not None:\n",
    "    print('You cannot import both an mfasta and an embedding folder ! Choose one and leave the other as None.')\n",
    "elif mfasta is not None:\n",
    "    if os.path.isfile(mfasta):\n",
    "        with open(mfasta, \"r\") as f_in:\n",
    "            for line in f_in:\n",
    "                if line[0] == \">\":\n",
    "                    nb_seq += 1\n",
    "        print(f\"\\nNumber of sequences found: {nb_seq}.\")\n",
    "    else:\n",
    "        print(f\"File {mfasta} not found.\")\n",
    "elif embedding_path is not None:\n",
    "    if os.path.exists(embedding_path):\n",
    "        nb_seq = len([s for s in os.listdir(embedding_path) if '.pt' in s])\n",
    "        print(f\"\\nNumber of sequences found: {nb_seq}.\")\n",
    "    else:\n",
    "        print(f\"Folder {embedding_path} not found.\")\n",
    "else:\n",
    "    print('Neither a valid mfasta or embedding folder has been provided')\n",
    "\n",
    "#Check that only one path is selected\n",
    "if path_annotation_csv and path_uniprot_list:\n",
    "    raise ValueError(\"Use only one file path (path_annotation_csv OR path_uniprot_list).\")\n",
    "\n",
    "if path_annotation_csv:\n",
    "    if os.path.isfile(path_annotation_csv):\n",
    "        try:\n",
    "            df_annotation = pd.read_csv(path_annotation_csv)\n",
    "        except:\n",
    "            raise ValueError(\"Annotation file is not in .csv format.\")\n",
    "        else:\n",
    "            if len(df_annotation) != nb_seq:\n",
    "                raise ValueError(\"Annotation file doesn't match the .mfasta file length.\")\n",
    "\n",
    "        #Add id column\n",
    "        if \"proteins_id\" not in df_annotation.columns:\n",
    "            df_annotation.insert(0, \"proteins_id\", range(len(df_annotation)))\n",
    "        path_annotation = path_annotation_csv\n",
    "            \n",
    "        print(\"\\nAnnotation file correctly loaded.\")\n",
    "        annotation_names = list(df_annotation.columns)\n",
    "        print(f\"{len(annotation_names)} annotations found: {annotation_names}.\")\n",
    "    else:\n",
    "        print(f\"File {path_annotation_csv} not found.\")\n",
    "\n",
    "elif path_uniprot_list:\n",
    "    if os.path.isfile(path_uniprot_list):\n",
    "        try:\n",
    "            UnP_ids = np.genfromtxt(path_uniprot_list, dtype=\"str\")\n",
    "        except:\n",
    "            raise ValueError(\"UniProt IDs file is not in a valid format.\")\n",
    "        else:\n",
    "            if len(UnP_ids) != nb_seq:\n",
    "                raise ValueError(\"UniProt IDs file doesn't match the .mfasta file length.\")     \n",
    "\n",
    "            #Split UniProtKB and UniParc IDs\n",
    "            uniparc_ids = []\n",
    "            uniprot_ids = []\n",
    "            for unp in UnP_ids:\n",
    "                if len(unp) == 13 and unp[:2] == \"UP\":\n",
    "                    uniparc_ids.append(unp)\n",
    "                else:\n",
    "                    uniprot_ids.append(unp)\n",
    "\n",
    "            #Fetch UniProtKB annotations\n",
    "            job_id = submit_id_mapping(\n",
    "                from_db=\"UniProtKB_AC-ID\", to_db=\"UniParc\", ids=uniprot_ids\n",
    "            )\n",
    "\n",
    "            if check_id_mapping_results_ready(job_id):\n",
    "                link = get_id_mapping_results_link(job_id)\n",
    "                results = get_id_mapping_results_search(link)\n",
    "\n",
    "            #Fetch UniParc annotations\n",
    "            job_id = submit_id_mapping(\n",
    "                from_db=\"UniParc\", to_db=\"UniParc\", ids=uniparc_ids\n",
    "            )\n",
    "\n",
    "            if check_id_mapping_results_ready(job_id):\n",
    "                link = get_id_mapping_results_link(job_id)\n",
    "                results2 = get_id_mapping_results_search(link)\n",
    "\n",
    "            #Create annotation dataframe\n",
    "            df_annotation = pd.DataFrame(UnP_ids, columns=[\"UnP_ID\"])\n",
    "            df_annotation[[\"organism\", \"proteinName\", \"taxonId\", \"species\", \"genus\", \\\n",
    "                           \"family\", \"order\", \"class\", \"phylum\", \"clade\", \"superkingdom\"]] = \"\"\n",
    "\n",
    "            #Fill the annotation DataFrame\n",
    "            for dict_res in results[\"results\"] + results2[\"results\"]:\n",
    "                try:\n",
    "                    unp = dict_res[\"from\"]\n",
    "                    prot_name = dict_res[\"to\"][\"uniParcCrossReferences\"][0][\"proteinName\"]\n",
    "                    df_annotation.loc[df_annotation[\"UnP_ID\"] == unp, \"proteinName\"] = prot_name\n",
    "                    scientific_name = dict_res[\"to\"][\"uniParcCrossReferences\"][0][\"organism\"][\"scientificName\"]\n",
    "                    taxid = dict_res[\"to\"][\"uniParcCrossReferences\"][0][\"organism\"][\"taxonId\"]\n",
    "                    df_annotation.loc[df_annotation[\"UnP_ID\"] == unp, \"organism\"] = scientific_name\n",
    "                    df_annotation.loc[df_annotation[\"UnP_ID\"] == unp, \"taxonId\"] = taxid\n",
    "                except KeyError:\n",
    "                    continue\n",
    "\n",
    "            #Add lineage from NCBI Taxonomist\n",
    "            taxon_ids = df_annotation.loc[df_annotation[\"taxonId\"].notnull(), 'taxonId'].to_numpy()\n",
    "            taxon_ids = list(set(taxon_ids))\n",
    "            taxon_ids = list(map(str, taxon_ids))\n",
    "            bash_command = f\"ncbi-taxonomist resolve -t {','.join(taxon_ids)}\"\n",
    "            list_taxon = subprocess.run(bash_command, shell=True, capture_output=True, text=True).stdout.strip().split(\"\\n\")\n",
    "\n",
    "            if list_taxon != [\"\"]:\n",
    "                for taxon in list_taxon:\n",
    "                    jsonString = taxon\n",
    "                    taxon_dict = json.loads(jsonString)\n",
    "                    query = taxon_dict[\"query\"]\n",
    "                    for lineage in taxon_dict[\"lineage\"]:\n",
    "                        rank = lineage[\"rank\"]\n",
    "                        if rank in [\"species\", \"genus\", \"family\", \"order\", \"class\", \"phylum\", \"clade\", \"superkingdom\"]:\n",
    "                            name = lineage[\"name\"]\n",
    "                            df_annotation.loc[df_annotation[\"taxonId\"] == int(query), rank] = name\n",
    "\n",
    "            #Add id column\n",
    "            if \"proteins_id\" not in df_annotation.columns:\n",
    "                df_annotation.insert(0, \"proteins_id\", range(len(df_annotation)))\n",
    "\n",
    "            #Save annotation to csv\n",
    "            path_annotation = \"auto_annot.csv\"\n",
    "            df_annotation.to_csv(path_annotation, index=False)\n",
    "\n",
    "            print(\"\\nAnnotation correctly fetched.\")\n",
    "            annotation_names = list(df_annotation.columns)\n",
    "            print(f\"{len(annotation_names)} annotations found: {annotation_names}.\")\n",
    "    else:\n",
    "        print(f\"File {path_uniprot_list} not found.\")\n",
    "else:\n",
    "    print(\"No annotation file selected.\")\n",
    "    path_annotation = \"\""
   ]
  },
  {
   "cell_type": "markdown",
   "metadata": {
    "id": "_H2vnIt_3kUz"
   },
   "source": [
    "# Data preparation\n",
    "Here we clean the input .mfasta alignment and translate each sequence to a vector ready for projection."
   ]
  },
  {
   "cell_type": "markdown",
   "metadata": {},
   "source": [
    "### Parameters for data preparation"
   ]
  },
  {
   "cell_type": "code",
   "execution_count": 4,
   "metadata": {
    "cellView": "form",
    "id": "9hLq_MgX6hFC"
   },
   "outputs": [
    {
     "name": "stdout",
     "output_type": "stream",
     "text": [
      "Input file: examples/wayland_datasets/protein_kinase/kinase.mfasta\n",
      "Name of the protein family: kinase\n",
      "1 X aa replaced by gaps in 558 sequences\n",
      "filter_gaps finished for examples/wayland_datasets/protein_kinase/kinase.mfasta\n",
      "mfasta2fasta finished for protein_kinase_data/protein_kinase_data.clean0.9.mfasta\n",
      "1 X aa replaced by gaps in 558 sequences\n"
     ]
    }
   ],
   "source": [
    "# OPTIONS =================================================\n",
    "# Job name\n",
    "#Name for the output folder\n",
    "out_name = \"protein_kinase_data\"\n",
    "#----------------------------------------------------------\n",
    "# Threshold for filtering gapped positions\n",
    "#Positions with proportion of gaps above the given threshold are removed from the alignment.\n",
    "#If your alignment is very gapped, you may want to increase this value.\n",
    "gapth = 0.9 \n",
    "#==========================================================\n",
    "\n",
    "\n",
    "# Run data preparation\n",
    "#Data preparation consists in `.mfasta` cleaning according to a gap threshold and\n",
    "#translation of each sequence to the PSSM profile.\n",
    "prep_parameters = \"scripts/prepare_data\" + \" \" + mfasta + \" \" + out_name + \" \" + out_name + \" \" + str(gapth)\n",
    "bash_projection = \"bash scripts/prepare_data/create_projection.sh \" + prep_parameters\n",
    "!{bash_projection}"
   ]
  },
  {
   "cell_type": "markdown",
   "metadata": {
    "id": "Dv0lg4Jn-dfG"
   },
   "source": [
    "# Projection"
   ]
  },
  {
   "cell_type": "markdown",
   "metadata": {},
   "source": [
    "### Projection parameters (without embeddings)"
   ]
  },
  {
   "cell_type": "code",
   "execution_count": 8,
   "metadata": {},
   "outputs": [
    {
     "name": "stdout",
     "output_type": "stream",
     "text": [
      "CUDA: False\n",
      "Random seed set as 4\n",
      "558 proteins found in folder protein_kinase_data/fasta0.9/.\n",
      "No root detected\n",
      "142.aamtx\n",
      "Prepare data: tensor construction\n",
      "Prepare data: successfully terminated\n",
      "labels: ['142' '107' '55' '10' '243' '206' '436' '473' '326' '363' '95' '553'\n",
      " '182' '516' '283' '68' '302' '347' '497' '532' '267' '222' '71' '34'\n",
      " '166' '123' '387' '412' '457' '164' '121' '73' '36' '298' '265' '220'\n",
      " '199' '548' '378' '410' '455' '385' '495' '300' '345' '468' '258' '530'\n",
      " '159' '409' '324' '361' '281' '138' '551' '180' '514' '239' '97' '529'\n",
      " '241' '204' '57' '12' '140' '105' '434' '471' '319' '555' '184' '510'\n",
      " '93' '278' '285' '179' '398' '448' '320' '365' '430' '475' '8' '358'\n",
      " '488' '53' '16' '144' '101' '245' '200' '381' '339' '414' '451' '261'\n",
      " '224' '509' '160' '125' '77' '32' '118' '219' '534' '304' '341' '429'\n",
      " '491' '536' '48' '493' '306' '343' '416' '453' '383' '75' '30' '162'\n",
      " '127' '263' '88' '226' '432' '477' '247' '202' '146' '103' '51' '14'\n",
      " '287' '29' '91' '557' '186' '512' '322' '367' '259' '531' '158' '494'\n",
      " '344' '301' '469' '379' '454' '411' '384' '120' '165' '299' '37' '72'\n",
      " '221' '264' '198' '549' '470' '435' '318' '528' '205' '240' '13' '56'\n",
      " '104' '141' '280' '139' '515' '550' '181' '96' '238' '408' '360' '325'\n",
      " '94' '517' '552' '183' '69' '282' '362' '327' '472' '437' '106' '143'\n",
      " '11' '54' '207' '242' '386' '456' '413' '223' '266' '35' '70' '122' '167'\n",
      " '533' '346' '303' '496' '31' '74' '126' '163' '227' '89' '262' '452'\n",
      " '417' '382' '492' '342' '307' '537' '49' '366' '323' '28' '286' '90'\n",
      " '513' '556' '187' '203' '246' '102' '147' '15' '50' '476' '433' '17' '52'\n",
      " '100' '145' '201' '244' '474' '431' '9' '359' '489' '399' '449' '364'\n",
      " '321' '511' '554' '185' '279' '92' '284' '178' '340' '305' '428' '490'\n",
      " '119' '218' '535' '225' '260' '508' '124' '161' '33' '76' '380' '338'\n",
      " '450' '415' '541' '190' '504' '229' '87' '291' '128' '419' '334' '371'\n",
      " '424' '461' '309' '47' '150' '115' '539' '251' '214' '395' '368' '400'\n",
      " '445' '275' '230' '189' '558' '174' '131' '63' '26' '288' '149' '248'\n",
      " '520' '310' '355' '5' '478' '485' '522' '19' '487' '312' '357' '7' '402'\n",
      " '447' '397' '61' '24' '176' '133' '277' '232' '426' '463' '253' '216'\n",
      " '152' '117' '45' '293' '78' '85' '543' '192' '506' '336' '373' '156'\n",
      " '113' '41' '257' '212' '422' '467' '332' '377' '81' '547' '196' '502'\n",
      " '297' '39' '316' '353' '3' '483' '58' '526' '273' '98' '236' '65' '20'\n",
      " '172' '137' '393' '406' '443' '170' '135' '67' '22' '271' '234' '519'\n",
      " '329' '404' '441' '391' '481' '314' '351' '1' '439' '209' '524' '108'\n",
      " '458' '330' '375' '388' '295' '169' '545' '194' '500' '83' '268' '255'\n",
      " '210' '43' '154' '111' '498' '420' '465' '348' '25' '60' '132' '177'\n",
      " '233' '276' '446' '403' '396' '486' '356' '313' '6' '523' '18' '372'\n",
      " '337' '79' '292' '84' '507' '542' '193' '217' '252' '116' '153' '44'\n",
      " '462' '427' '46' '114' '151' '538' '215' '250' '460' '425' '308' '418'\n",
      " '370' '335' '505' '540' '191' '86' '228' '290' '129' '354' '311' '4'\n",
      " '479' '484' '148' '249' '521' '231' '274' '188' '130' '175' '289' '27'\n",
      " '62' '394' '369' '444' '401' '208' '525' '109' '480' '350' '315' '438'\n",
      " '328' '440' '405' '390' '134' '171' '23' '66' '235' '270' '518' '499'\n",
      " '464' '421' '349' '211' '254' '42' '110' '155' '294' '168' '501' '544'\n",
      " '195' '269' '82' '459' '374' '331' '389' '80' '503' '546' '197' '38'\n",
      " '296' '376' '333' '466' '423' '112' '157' '40' '213' '256' '392' '442'\n",
      " '407' '237' '99' '272' '21' '64' '136' '173' '59' '527' '352' '317' '2'\n",
      " '482']\n",
      "features CSV file saved to protein_kinase_data/with_mfasta/features.csv\n",
      "labels CSV file saved to protein_kinase_data/with_mfasta/labels.csv\n",
      "KNN matrix CSV file saved to protein_kinase_data/with_mfasta/KNN_matrix.csv\n",
      "Computing laplacian...\n",
      "Laplacian computed in 0.50 sec\n",
      "Computing RFA...\n",
      "RFA computed in 0.01 sec\n",
      "tensor([[2.8694e-01, 1.4208e-06, 1.2837e-09,  ..., 6.1058e-08, 7.8792e-08,\n",
      "         4.0749e-06],\n",
      "        [1.4208e-06, 2.7110e-01, 3.3222e-10,  ..., 2.4086e-07, 4.5681e-04,\n",
      "         1.9133e-05],\n",
      "        [1.2837e-09, 3.3222e-10, 2.7191e-01,  ..., 2.5149e-11, 1.7887e-11,\n",
      "         2.4063e-09],\n",
      "        ...,\n",
      "        [6.1058e-08, 2.4086e-07, 2.5149e-11,  ..., 2.4118e-01, 1.3004e-08,\n",
      "         2.5295e-05],\n",
      "        [7.8792e-08, 4.5681e-04, 1.7887e-11,  ..., 1.3004e-08, 2.9267e-01,\n",
      "         1.0304e-06],\n",
      "        [4.0749e-06, 1.9133e-05, 2.4063e-09,  ..., 2.5295e-05, 1.0304e-06,\n",
      "         1.9868e-01]])\n",
      "RFA matrix CSV file saved to protein_kinase_data/with_mfasta/RFA_matrix.csv\n",
      "Starting training...\n",
      "loss: 0.66627: 100%|████████████████████████| 1000/1000 [02:17<00:00,  7.28it/s]\n",
      "PM computed in 137.30 sec\n",
      "\n",
      "loss = 6.663e-01\n",
      "time = 2.306 min\n"
     ]
    }
   ],
   "source": [
    "# EMBEDDING SELECTION\n",
    "in_name = 'protein_kinase_data/fasta0.9/'  # Input here the name of folder with the fasta files\n",
    "mid_output = 'protein_kinase_data/with_mfasta/'  # Input name of desired folder for intermediary results\n",
    "out_name = 'results/protein_kinase/with_mfasta/' # Input desired name of output folder\n",
    "\n",
    "# OPTIONS =================================================\n",
    "#Here you control different parameters of Poincaré maps.\n",
    "#In our computational experiments the best results were achieved for the following values provided by default.\n",
    "#The impact of different parameters is analyzed in the original paper [1].\n",
    "knn = 5\n",
    "gamma = 2\n",
    "sigma = 1\n",
    "cospca = 0\n",
    "batchs = 4\n",
    "epochs = 1000\n",
    "seed = 4\n",
    "#==========================================================\n",
    "\n",
    "\n",
    "# Building projection and preparing data for visualization\n",
    "#This step creates a projection of encoded sequences to a Poincaré disk.\n",
    "bash_pm = \"python \"+ \"scripts/build_poincare_map/main.py --input_path \" + in_name + \\\n",
    "          \" --output_path \" + out_name + \" --plm_embedding False\" +  \" --matrices_output_path \" + mid_output \\\n",
    "          + \" --gamma \"+ str(gamma) +\" --pca \"+ str(cospca) + \" --epochs \"+ str(epochs) +\" --seed \"\\\n",
    "          + str(seed) + \" --knn \" + str(knn)\n",
    "!{bash_pm}"
   ]
  },
  {
   "cell_type": "markdown",
   "metadata": {},
   "source": [
    "### Projection parameters (with embeddings)"
   ]
  },
  {
   "cell_type": "code",
   "execution_count": 11,
   "metadata": {},
   "outputs": [
    {
     "name": "stdout",
     "output_type": "stream",
     "text": [
      "CUDA: False\n",
      "Random seed set as 4\n",
      "558 proteins found in folder embeddings/ankh_base_protein_kinase/.\n",
      "['479.pt', '19.pt', '539.pt', '428.pt', '48.pt', '366.pt', '226.pt', '337.pt', '277.pt', '115.pt', '284.pt', '395.pt', '144.pt', '243.pt', '303.pt', '183.pt', '212.pt', '352.pt', '170.pt', '121.pt', '131.pt', '160.pt', '342.pt', '202.pt', '193.pt', '313.pt', '253.pt', '154.pt', '385.pt', '294.pt', '105.pt', '267.pt', '327.pt', '236.pt', '376.pt', '58.pt', '438.pt', '529.pt', '469.pt', '509.pt', '29.pt', '449.pt', '558.pt', '78.pt', '418.pt', '216.pt', '187.pt', '356.pt', '247.pt', '307.pt', '125.pt', '174.pt', '333.pt', '273.pt', '362.pt', '222.pt', '391.pt', '140.pt', '280.pt', '111.pt', '101.pt', '290.pt', '150.pt', '381.pt', '232.pt', '372.pt', '263.pt', '323.pt', '164.pt', '135.pt', '317.pt', '257.pt', '346.pt', '197.pt', '206.pt', '408.pt', '548.pt', '68.pt', '459.pt', '519.pt', '39.pt', '4.pt', '28.pt', '508.pt', '448.pt', '79.pt', '419.pt', '186.pt', '217.pt', '357.pt', '246.pt', '306.pt', '124.pt', '175.pt', '332.pt', '272.pt', '363.pt', '223.pt', '390.pt', '141.pt', '110.pt', '281.pt', '291.pt', '100.pt', '151.pt', '380.pt', '233.pt', '373.pt', '262.pt', '322.pt', '165.pt', '134.pt', '316.pt', '256.pt', '347.pt', '207.pt', '196.pt', '409.pt', '69.pt', '549.pt', '458.pt', '38.pt', '518.pt', '5.pt', '478.pt', '538.pt', '18.pt', '429.pt', '49.pt', '367.pt', '227.pt', '336.pt', '276.pt', '285.pt', '114.pt', '394.pt', '145.pt', '242.pt', '302.pt', '213.pt', '182.pt', '353.pt', '171.pt', '120.pt', '130.pt', '161.pt', '343.pt', '192.pt', '203.pt', '312.pt', '252.pt', '155.pt', '384.pt', '104.pt', '295.pt', '266.pt', '326.pt', '237.pt', '377.pt', '59.pt', '439.pt', '528.pt', '468.pt', '1.pt', '249.pt', '309.pt', '218.pt', '189.pt', '358.pt', '76.pt', '556.pt', '416.pt', '27.pt', '507.pt', '447.pt', '85.pt', '473.pt', '13.pt', '533.pt', '422.pt', '42.pt', '480.pt', '490.pt', '52.pt', '432.pt', '523.pt', '463.pt', '95.pt', '457.pt', '37.pt', '517.pt', '406.pt', '66.pt', '546.pt', '348.pt', '199.pt', '208.pt', '319.pt', '259.pt', '339.pt', '279.pt', '368.pt', '228.pt', '426.pt', '46.pt', '477.pt', '537.pt', '17.pt', '484.pt', '503.pt', '23.pt', '443.pt', '552.pt', '72.pt', '412.pt', '81.pt', '91.pt', '402.pt', '542.pt', '62.pt', '453.pt', '513.pt', '33.pt', '494.pt', '527.pt', '467.pt', '56.pt', '436.pt', '238.pt', '378.pt', '269.pt', '329.pt', '338.pt', '278.pt', '369.pt', '229.pt', '427.pt', '47.pt', '476.pt', '16.pt', '536.pt', '485.pt', '22.pt', '502.pt', '442.pt', '73.pt', '553.pt', '413.pt', '80.pt', '90.pt', '403.pt', '63.pt', '543.pt', '452.pt', '32.pt', '512.pt', '495.pt', '526.pt', '466.pt', '57.pt', '437.pt', '239.pt', '379.pt', '268.pt', '328.pt', '248.pt', '308.pt', '188.pt', '219.pt', '359.pt', '557.pt', '77.pt', '417.pt', '506.pt', '26.pt', '446.pt', '84.pt', '472.pt', '532.pt', '12.pt', '423.pt', '43.pt', '481.pt', '491.pt', '53.pt', '433.pt', '522.pt', '462.pt', '94.pt', '456.pt', '516.pt', '36.pt', '407.pt', '547.pt', '67.pt', '349.pt', '209.pt', '198.pt', '318.pt', '258.pt', '119.pt', '288.pt', '399.pt', '148.pt', '486.pt', '475.pt', '15.pt', '535.pt', '424.pt', '44.pt', '83.pt', '70.pt', '550.pt', '410.pt', '21.pt', '501.pt', '441.pt', '451.pt', '31.pt', '511.pt', '400.pt', '60.pt', '540.pt', '93.pt', '54.pt', '434.pt', '525.pt', '465.pt', '496.pt', '158.pt', '389.pt', '298.pt', '109.pt', '129.pt', '178.pt', '87.pt', '505.pt', '25.pt', '445.pt', '554.pt', '74.pt', '414.pt', '482.pt', '420.pt', '40.pt', '471.pt', '531.pt', '11.pt', '521.pt', '461.pt', '50.pt', '430.pt', '492.pt', '404.pt', '544.pt', '64.pt', '455.pt', '515.pt', '35.pt', '8.pt', '97.pt', '168.pt', '139.pt', '128.pt', '179.pt', '86.pt', '24.pt', '504.pt', '444.pt', '75.pt', '555.pt', '415.pt', '483.pt', '421.pt', '41.pt', '470.pt', '10.pt', '530.pt', '520.pt', '460.pt', '51.pt', '431.pt', '493.pt', '405.pt', '65.pt', '545.pt', '454.pt', '34.pt', '514.pt', '9.pt', '96.pt', '169.pt', '138.pt', '289.pt', '118.pt', '398.pt', '149.pt', '487.pt', '474.pt', '534.pt', '14.pt', '425.pt', '45.pt', '82.pt', '551.pt', '71.pt', '411.pt', '500.pt', '20.pt', '440.pt', '450.pt', '510.pt', '30.pt', '401.pt', '541.pt', '61.pt', '92.pt', '55.pt', '435.pt', '524.pt', '464.pt', '497.pt', '159.pt', '388.pt', '108.pt', '299.pt', '89.pt', '176.pt', '127.pt', '245.pt', '305.pt', '214.pt', '185.pt', '354.pt', '282.pt', '113.pt', '393.pt', '142.pt', '360.pt', '220.pt', '331.pt', '271.pt', '261.pt', '321.pt', '230.pt', '370.pt', '152.pt', '383.pt', '103.pt', '292.pt', '344.pt', '195.pt', '204.pt', '315.pt', '255.pt', '137.pt', '166.pt', '99.pt', '6.pt', '488.pt', '397.pt', '146.pt', '117.pt', '286.pt', '335.pt', '275.pt', '364.pt', '224.pt', '123.pt', '172.pt', '181.pt', '210.pt', '350.pt', '241.pt', '301.pt', '311.pt', '251.pt', '340.pt', '200.pt', '191.pt', '162.pt', '133.pt', '234.pt', '374.pt', '265.pt', '325.pt', '296.pt', '107.pt', '156.pt', '387.pt', '498.pt', '2.pt', '489.pt', '396.pt', '147.pt', '287.pt', '116.pt', '334.pt', '274.pt', '365.pt', '225.pt', '122.pt', '173.pt', '211.pt', '180.pt', '351.pt', '240.pt', '300.pt', '310.pt', '250.pt', '341.pt', '190.pt', '201.pt', '163.pt', '132.pt', '235.pt', '375.pt', '264.pt', '324.pt', '106.pt', '297.pt', '157.pt', '386.pt', '499.pt', '3.pt', '88.pt', '177.pt', '126.pt', '244.pt', '304.pt', '184.pt', '215.pt', '355.pt', '112.pt', '283.pt', '392.pt', '143.pt', '361.pt', '221.pt', '330.pt', '270.pt', '260.pt', '320.pt', '231.pt', '371.pt', '153.pt', '382.pt', '293.pt', '102.pt', '345.pt', '205.pt', '194.pt', '314.pt', '254.pt', '136.pt', '167.pt', '98.pt', '7.pt']\n",
      "479.pt\n",
      "Prepare data: tensor construction\n",
      "Prepare data: successfully terminated\n",
      "labels: ['479' '19' '539' '428' '48' '366' '226' '337' '277' '115' '284' '395'\n",
      " '144' '243' '303' '183' '212' '352' '170' '121' '131' '160' '342' '202'\n",
      " '193' '313' '253' '154' '385' '294' '105' '267' '327' '236' '376' '58'\n",
      " '438' '529' '469' '509' '29' '449' '558' '78' '418' '216' '187' '356'\n",
      " '247' '307' '125' '174' '333' '273' '362' '222' '391' '140' '280' '111'\n",
      " '101' '290' '150' '381' '232' '372' '263' '323' '164' '135' '317' '257'\n",
      " '346' '197' '206' '408' '548' '68' '459' '519' '39' '4' '28' '508' '448'\n",
      " '79' '419' '186' '217' '357' '246' '306' '124' '175' '332' '272' '363'\n",
      " '223' '390' '141' '110' '281' '291' '100' '151' '380' '233' '373' '262'\n",
      " '322' '165' '134' '316' '256' '347' '207' '196' '409' '69' '549' '458'\n",
      " '38' '518' '5' '478' '538' '18' '429' '49' '367' '227' '336' '276' '285'\n",
      " '114' '394' '145' '242' '302' '213' '182' '353' '171' '120' '130' '161'\n",
      " '343' '192' '203' '312' '252' '155' '384' '104' '295' '266' '326' '237'\n",
      " '377' '59' '439' '528' '468' '1' '249' '309' '218' '189' '358' '76' '556'\n",
      " '416' '27' '507' '447' '85' '473' '13' '533' '422' '42' '480' '490' '52'\n",
      " '432' '523' '463' '95' '457' '37' '517' '406' '66' '546' '348' '199'\n",
      " '208' '319' '259' '339' '279' '368' '228' '426' '46' '477' '537' '17'\n",
      " '484' '503' '23' '443' '552' '72' '412' '81' '91' '402' '542' '62' '453'\n",
      " '513' '33' '494' '527' '467' '56' '436' '238' '378' '269' '329' '338'\n",
      " '278' '369' '229' '427' '47' '476' '16' '536' '485' '22' '502' '442' '73'\n",
      " '553' '413' '80' '90' '403' '63' '543' '452' '32' '512' '495' '526' '466'\n",
      " '57' '437' '239' '379' '268' '328' '248' '308' '188' '219' '359' '557'\n",
      " '77' '417' '506' '26' '446' '84' '472' '532' '12' '423' '43' '481' '491'\n",
      " '53' '433' '522' '462' '94' '456' '516' '36' '407' '547' '67' '349' '209'\n",
      " '198' '318' '258' '119' '288' '399' '148' '486' '475' '15' '535' '424'\n",
      " '44' '83' '70' '550' '410' '21' '501' '441' '451' '31' '511' '400' '60'\n",
      " '540' '93' '54' '434' '525' '465' '496' '158' '389' '298' '109' '129'\n",
      " '178' '87' '505' '25' '445' '554' '74' '414' '482' '420' '40' '471' '531'\n",
      " '11' '521' '461' '50' '430' '492' '404' '544' '64' '455' '515' '35' '8'\n",
      " '97' '168' '139' '128' '179' '86' '24' '504' '444' '75' '555' '415' '483'\n",
      " '421' '41' '470' '10' '530' '520' '460' '51' '431' '493' '405' '65' '545'\n",
      " '454' '34' '514' '9' '96' '169' '138' '289' '118' '398' '149' '487' '474'\n",
      " '534' '14' '425' '45' '82' '551' '71' '411' '500' '20' '440' '450' '510'\n",
      " '30' '401' '541' '61' '92' '55' '435' '524' '464' '497' '159' '388' '108'\n",
      " '299' '89' '176' '127' '245' '305' '214' '185' '354' '282' '113' '393'\n",
      " '142' '360' '220' '331' '271' '261' '321' '230' '370' '152' '383' '103'\n",
      " '292' '344' '195' '204' '315' '255' '137' '166' '99' '6' '488' '397'\n",
      " '146' '117' '286' '335' '275' '364' '224' '123' '172' '181' '210' '350'\n",
      " '241' '301' '311' '251' '340' '200' '191' '162' '133' '234' '374' '265'\n",
      " '325' '296' '107' '156' '387' '498' '2' '489' '396' '147' '287' '116'\n",
      " '334' '274' '365' '225' '122' '173' '211' '180' '351' '240' '300' '310'\n",
      " '250' '341' '190' '201' '163' '132' '235' '375' '264' '324' '106' '297'\n",
      " '157' '386' '499' '3' '88' '177' '126' '244' '304' '184' '215' '355'\n",
      " '112' '283' '392' '143' '361' '221' '330' '270' '260' '320' '231' '371'\n",
      " '153' '382' '293' '102' '345' '205' '194' '314' '254' '136' '167' '98'\n",
      " '7']\n",
      "features CSV file saved to protein_kinase_data/with_plm_embeddings/features.csv\n",
      "labels CSV file saved to protein_kinase_data/with_plm_embeddings/labels.csv\n",
      "KNN matrix CSV file saved to protein_kinase_data/with_plm_embeddings/KNN_matrix.csv\n",
      "Computing laplacian...\n",
      "Laplacian computed in 0.52 sec\n",
      "Computing RFA...\n",
      "RFA computed in 0.01 sec\n",
      "tensor([[2.0419e-01, 2.3667e-08, 2.4884e-03,  ..., 9.0703e-10, 1.6044e-09,\n",
      "         6.9309e-11],\n",
      "        [2.3667e-08, 2.0340e-01, 2.5817e-09,  ..., 2.5321e-05, 4.4790e-05,\n",
      "         1.9349e-06],\n",
      "        [2.4884e-03, 2.5817e-09, 2.0746e-01,  ..., 9.8942e-11, 1.7502e-10,\n",
      "         7.5605e-12],\n",
      "        ...,\n",
      "        [9.0703e-10, 2.5321e-05, 9.8942e-11,  ..., 1.9744e-01, 3.9293e-02,\n",
      "         1.7560e-05],\n",
      "        [1.6044e-09, 4.4790e-05, 1.7502e-10,  ..., 3.9293e-02, 2.2029e-01,\n",
      "         3.1061e-05],\n",
      "        [6.9309e-11, 1.9349e-06, 7.5605e-12,  ..., 1.7560e-05, 3.1061e-05,\n",
      "         1.6180e-01]])\n",
      "RFA matrix CSV file saved to protein_kinase_data/with_plm_embeddings/RFA_matrix.csv\n",
      "Starting training...\n",
      "loss: 0.25814:  50%|████████████▍            | 495/1000 [00:58<00:57,  8.84it/s]\n",
      "Stopped at epoch 495\n",
      "loss: 0.25814:  50%|████████████▍            | 495/1000 [00:58<00:59,  8.53it/s]\n",
      "PM computed in 58.01 sec\n",
      "\n",
      "loss = 2.581e-01\n",
      "time = 0.982 min\n"
     ]
    }
   ],
   "source": [
    "### Projection parameters (with embeddings)\n",
    "# EMBEDDING SELECTION\n",
    "in_name = 'embeddings/ankh_base_protein_kinase/'  # Input here the name of folder with the embeddings\n",
    "mid_output = 'protein_kinase_data/with_plm_embeddings/'  # Input name of desired folder for intermediary results\n",
    "out_name = 'results/protein_kinase/with_plm_embeddings/' # Input desired name of output folder\n",
    "\n",
    "\n",
    "# OPTIONS =================================================\n",
    "#Here you control different parameters of Poincaré maps.\n",
    "#In our computational experiments the best results were achieved for the following values provided by default.\n",
    "#The impact of different parameters is analyzed in the original paper [1].\n",
    "knn = 5\n",
    "gamma = 4\n",
    "sigma = 1\n",
    "cospca = 0\n",
    "batchs = 4\n",
    "epochs = 1000\n",
    "seed = 4\n",
    "#==========================================================\n",
    "\n",
    "\n",
    "# Building projection and preparing data for visualization\n",
    "#This step creates a projection of encoded sequences to a Poincaré disk.\n",
    "bash_pm = \"python \"+ \"scripts/build_poincare_map/main.py --input_path \" + in_name + \\\n",
    "          \" --output_path \" + out_name + \" --plm_embedding True\" +  \" --matrices_output_path \" + mid_output +\\\n",
    "          \" --distlocal minkowski\" + \" --gamma \"+ str(gamma) +\" --pca \"+ str(cospca) + \" --epochs \"+ str(epochs) +\" --seed \"\\\n",
    "          + str(seed) + \" --knn \" + str(knn)\n",
    "!{bash_pm}"
   ]
  },
  {
   "cell_type": "markdown",
   "metadata": {
    "id": "gRxHHfjX7CHF"
   },
   "source": [
    "# Projection visualization"
   ]
  },
  {
   "cell_type": "markdown",
   "metadata": {},
   "source": [
    "### Prepare data for visualization"
   ]
  },
  {
   "cell_type": "code",
   "execution_count": null,
   "metadata": {
    "cellView": "form",
    "colab": {
     "base_uri": "https://localhost:8080/"
    },
    "id": "A2I17cpYXGoB",
    "outputId": "a1b01a51-2182-4f97-a653-eedc42405a80"
   },
   "outputs": [
    {
     "name": "stdout",
     "output_type": "stream",
     "text": [
      "          pm1       pm2                      proteins_id\n",
      "0    0.350709  0.907489  A0A0B4J2F2 ePK_CAMK_SIK1B_SIK1B\n",
      "1    0.925575  0.063415            A2RU49 eLK__HYKK_HYKK\n",
      "2   -0.373011  0.862949          O00141 ePK_AGC_SGK_SGK1\n",
      "3    0.066619 -0.943579        O00238 ePK_TKL_STKR_BMR1B\n",
      "4   -0.530152 -0.311605       O00311 ePK_Other_CDC7_CDC7\n",
      "..        ...       ...                              ...\n",
      "553  0.212355 -0.882481        Q9Y616 ePK_TKL_IRAK_IRAK3\n",
      "554 -0.802689  0.509038       Q9Y6E0 ePK_STE_STE20_STK24\n",
      "555 -0.446267 -0.806218       Q9Y6M4 ePK_CK1_CK1-G_KC1G3\n",
      "556 -0.831341  0.215735        Q9Y6R4 ePK_STE_STE11_M3K4\n",
      "557 -0.499498 -0.309348        Q9Y6S9 ePK_AGC_RSKL_RPKL1\n",
      "\n",
      "[558 rows x 3 columns]\n",
      "3 annotations found: ['proteins_id', 'accession', 'label'].\n",
      "proteins_id\n",
      "A0A0B4J2F2 ePK_CAMK_SIK1B_SIK1B        CAMK\n",
      "A2RU49 eLK__HYKK_HYKK              outgroup\n",
      "O00141 ePK_AGC_SGK_SGK1                 AGC\n",
      "O00238 ePK_TKL_STKR_BMR1B               TKL\n",
      "O00311 ePK_Other_CDC7_CDC7              nan\n",
      "                                     ...   \n",
      "Q9Y616 ePK_TKL_IRAK_IRAK3               TKL\n",
      "Q9Y6E0 ePK_STE_STE20_STK24              STE\n",
      "Q9Y6M4 ePK_CK1_CK1-G_KC1G3              CK1\n",
      "Q9Y6R4 ePK_STE_STE11_M3K4               STE\n",
      "Q9Y6S9 ePK_AGC_RSKL_RPKL1               AGC\n",
      "Name: label, Length: 558, dtype: object\n"
     ]
    }
   ],
   "source": [
    "# Prepare data for visualization\n",
    "out_name = 'results/protein_kinase/with_plm_embeddings'\n",
    "\n",
    "#Check that an annotation file was provided. Create a dummy one instead\n",
    "if not path_annotation:\n",
    "    df_annotation = pd.DataFrame(list(zip(list(range(1,nb_seq+1)), np.full(nb_seq, \"-\", dtype=object))), columns=[\"id\", \"default\"])\n",
    "    df_annotation.to_csv(\"dummy_annotation.csv\", index=False)\n",
    "    path_annotation = \"dummy_annotation.csv\"\n",
    "    annotation_names = [\"proteins_id\"]\n",
    "\n",
    "path_embedding = f\"{out_name}/PM{knn:1.0f}sigma={sigma:2.2f}gamma={gamma:2.2f}cosinepca={cospca:1.0f}_seed{seed:1.0f}.csv\"\n",
    "df_embedding = read_embeddings(path_embedding, path_annotation, withroot=False)\n",
    "\n",
    "#Here are different labels found in your annotation file (if one uploaded):\n",
    "print(f\"{len(annotation_names)} annotations found: {annotation_names}.\")\n",
    "print(df_embedding['label'])"
   ]
  },
  {
   "cell_type": "markdown",
   "metadata": {},
   "source": [
    "### Create interactive plot"
   ]
  },
  {
   "cell_type": "code",
   "execution_count": 13,
   "metadata": {},
   "outputs": [],
   "source": [
    "# Construction of custom color palette  \n",
    "\n",
    "# Load existing colour palette (must be a .json file)\n",
    "colour_json = 'examples/wayland_datasets/protein_kinase/kinase_colors.json'\n",
    "with open(colour_json, 'r') as file:\n",
    "    colour_palette = json.load(file)\n",
    "\n",
    "# Also the option of manually creating your own colour palette\n"
   ]
  },
  {
   "cell_type": "code",
   "execution_count": 17,
   "metadata": {
    "cellView": "form",
    "colab": {
     "base_uri": "https://localhost:8080/",
     "height": 886
    },
    "id": "zLb9h9S4eKUD",
    "outputId": "58e8c73a-4869-4305-ecfb-bccc80d06db1"
   },
   "outputs": [
    {
     "data": {
      "application/vnd.plotly.v1+json": {
       "config": {
        "plotlyServerURL": "https://plot.ly"
       },
       "data": [
        {
         "customdata": [
          [
           "A0A0B4J2F2 ePK_CAMK_SIK1B_SIK1B",
           "A0A0B4J2F2",
           "CAMK"
          ],
          [
           "O14757 ePK_CAMK_CAMKL_CHK1",
           "O14757",
           "CAMK"
          ],
          [
           "O14936 ePK_CAMK_CASK_CSKP",
           "O14936",
           "CAMK"
          ],
          [
           "O15075 ePK_CAMK_DCAMKL_DCLK1",
           "O15075",
           "CAMK"
          ],
          [
           "O43293 ePK_CAMK_DAPK_DAPK3",
           "O43293",
           "CAMK"
          ],
          [
           "O60229 ePK_CAMK_Trio_KALRN",
           "O60229",
           "CAMK"
          ],
          [
           "O60285 ePK_CAMK_CAMKL_NUAK1",
           "O60285",
           "CAMK"
          ],
          [
           "O75582|2 ePK_CAMK_RSK-b_KS6A5",
           "O75582|2",
           "CAMK"
          ],
          [
           "O75676|2 ePK_CAMK_RSK-b_KS6A4",
           "O75676|2",
           "CAMK"
          ],
          [
           "O75962 ePK_CAMK_Trio_TRIO",
           "O75962",
           "CAMK"
          ],
          [
           "O94768 ePK_CAMK_DAPK_ST17B",
           "O94768",
           "CAMK"
          ],
          [
           "O94806 ePK_CAMK_PKD_KPCD3",
           "O94806",
           "CAMK"
          ],
          [
           "O96017 ePK_CAMK_RAD53_CHK2",
           "O96017",
           "CAMK"
          ],
          [
           "P11309 ePK_CAMK_PIM_PIM1",
           "P11309",
           "CAMK"
          ],
          [
           "P11801 ePK_CAMK_PSK_KPSH1",
           "P11801",
           "CAMK"
          ],
          [
           "P15735 ePK_CAMK_PHK_PHKG2",
           "P15735",
           "CAMK"
          ],
          [
           "P27448 ePK_CAMK_CAMKL_MARK3",
           "P27448",
           "CAMK"
          ],
          [
           "P49137 ePK_CAMK_MAPKAPK_MAPK2",
           "P49137",
           "CAMK"
          ],
          [
           "P51812|2 ePK_CAMK_RSK-b_KS6A3",
           "P51812|2",
           "CAMK"
          ],
          [
           "P53355 ePK_CAMK_DAPK_DAPK1",
           "P53355",
           "CAMK"
          ],
          [
           "P54646 ePK_CAMK_CAMKL_AAPK2",
           "P54646",
           "CAMK"
          ],
          [
           "P57058 ePK_CAMK_CAMKL_HUNK",
           "P57058",
           "CAMK"
          ],
          [
           "P57059 ePK_CAMK_CAMKL_SIK1",
           "P57059",
           "CAMK"
          ],
          [
           "Q13131 ePK_CAMK_CAMKL_AAPK1",
           "Q13131",
           "CAMK"
          ],
          [
           "Q13554 ePK_CAMK_CAMK2_KCC2B",
           "Q13554",
           "CAMK"
          ],
          [
           "Q13555 ePK_CAMK_CAMK2_KCC2G",
           "Q13555",
           "CAMK"
          ],
          [
           "Q13557 ePK_CAMK_CAMK2_KCC2D",
           "Q13557",
           "CAMK"
          ],
          [
           "Q14012 ePK_CAMK_CAMK1_KCC1A",
           "Q14012",
           "CAMK"
          ],
          [
           "Q14680 ePK_CAMK_CAMKL_MELK",
           "Q14680",
           "CAMK"
          ],
          [
           "Q15139 ePK_CAMK_PKD_KPCD1",
           "Q15139",
           "CAMK"
          ],
          [
           "Q15349|2 ePK_CAMK_RSK-b_KS6A2",
           "Q15349|2",
           "CAMK"
          ],
          [
           "Q15418|2 ePK_CAMK_RSK-b_KS6A1",
           "Q15418|2",
           "CAMK"
          ],
          [
           "Q15746 ePK_CAMK_MLCK_MYLK",
           "Q15746",
           "CAMK"
          ],
          [
           "Q15772|1 ePK_CAMK_Trio_SPEG",
           "Q15772|1",
           "CAMK"
          ],
          [
           "Q15772|2 ePK_CAMK_Trio_SPEG",
           "Q15772|2",
           "CAMK"
          ],
          [
           "Q15831 ePK_CAMK_CAMKL_STK11",
           "Q15831",
           "CAMK"
          ],
          [
           "Q16566 ePK_CAMK_CAMK1_KCC4",
           "Q16566",
           "CAMK"
          ],
          [
           "Q16644 ePK_CAMK_MAPKAPK_MAPK3",
           "Q16644",
           "CAMK"
          ],
          [
           "Q16816 ePK_CAMK_PHK_PHKG1",
           "Q16816",
           "CAMK"
          ],
          [
           "Q32MK0 ePK_CAMK_MLCK_MYLK3",
           "Q32MK0",
           "CAMK"
          ],
          [
           "Q5VST9|1 ePK_CAMK_Trio_OBSCN",
           "Q5VST9|1",
           "CAMK"
          ],
          [
           "Q5VST9|2 ePK_CAMK_Trio_OBSCN",
           "Q5VST9|2",
           "CAMK"
          ],
          [
           "Q6P2M8 ePK_CAMK_CAMK1_KCC1B",
           "Q6P2M8",
           "CAMK"
          ],
          [
           "Q6SA08 ePK_CAMK_TSSK_TSSK4",
           "Q6SA08",
           "CAMK"
          ],
          [
           "Q7KZI7 ePK_CAMK_CAMKL_MARK2",
           "Q7KZI7",
           "CAMK"
          ],
          [
           "Q86V86 ePK_CAMK_PIM_PIM3",
           "Q86V86",
           "CAMK"
          ],
          [
           "Q86YV6 ePK_CAMK_MLCK_MYLK4",
           "Q86YV6",
           "CAMK"
          ],
          [
           "Q8IU85 ePK_CAMK_CAMK1_KCC1D",
           "Q8IU85",
           "CAMK"
          ],
          [
           "Q8IW41 ePK_CAMK_MAPKAPK_MAPK5",
           "Q8IW41",
           "CAMK"
          ],
          [
           "Q8IWQ3 ePK_CAMK_CAMKL_BRSK2",
           "Q8IWQ3",
           "CAMK"
          ],
          [
           "Q8IY84 ePK_CAMK_CAMKL_NIM1",
           "Q8IY84",
           "CAMK"
          ],
          [
           "Q8N2I9 ePK_CAMK_SgK495_STK40",
           "Q8N2I9",
           "CAMK"
          ],
          [
           "Q8N568 ePK_CAMK_DCAMKL_DCLK2",
           "Q8N568",
           "CAMK"
          ],
          [
           "Q8NCB2 ePK_CAMK_CAMKV_CAMKV",
           "Q8NCB2",
           "CAMK"
          ],
          [
           "Q8TDC3 ePK_CAMK_CAMKL_BRSK1",
           "Q8TDC3",
           "CAMK"
          ],
          [
           "Q8WZ42 ePK_CAMK_MLCK_TITIN",
           "Q8WZ42",
           "CAMK"
          ],
          [
           "Q92519 ePK_CAMK_Trbl_TRIB2",
           "Q92519",
           "CAMK"
          ],
          [
           "Q96L34 ePK_CAMK_CAMKL_MARK4",
           "Q96L34",
           "CAMK"
          ],
          [
           "Q96NX5 ePK_CAMK_CAMK1_KCC1G",
           "Q96NX5",
           "CAMK"
          ],
          [
           "Q96PF2 ePK_CAMK_TSSK_TSSK2",
           "Q96PF2",
           "CAMK"
          ],
          [
           "Q96PN8 ePK_CAMK_TSSK_TSSK3",
           "Q96PN8",
           "CAMK"
          ],
          [
           "Q96QS6 ePK_CAMK_PSK_KPSH2",
           "Q96QS6",
           "CAMK"
          ],
          [
           "Q96RG2 ePK_CAMK_CAMKL_PASK",
           "Q96RG2",
           "CAMK"
          ],
          [
           "Q96RU7 ePK_CAMK_Trbl_TRIB3",
           "Q96RU7",
           "CAMK"
          ],
          [
           "Q96RU8 ePK_CAMK_Trbl_TRIB1",
           "Q96RU8",
           "CAMK"
          ],
          [
           "Q9BUB5 ePK_CAMK_MAPKAPK_MKNK1",
           "Q9BUB5",
           "CAMK"
          ],
          [
           "Q9BXA6 ePK_CAMK_TSSK_TSSK6",
           "Q9BXA6",
           "CAMK"
          ],
          [
           "Q9BXA7 ePK_CAMK_TSSK_TSSK1",
           "Q9BXA7",
           "CAMK"
          ],
          [
           "Q9BYT3 ePK_CAMK_STK33_STK33",
           "Q9BYT3",
           "CAMK"
          ],
          [
           "Q9BZL6 ePK_CAMK_PKD_KPCD2",
           "Q9BZL6",
           "CAMK"
          ],
          [
           "Q9C098 ePK_CAMK_DCAMKL_DCLK3",
           "Q9C098",
           "CAMK"
          ],
          [
           "Q9H093 ePK_CAMK_CAMKL_NUAK2",
           "Q9H093",
           "CAMK"
          ],
          [
           "Q9H0K1 ePK_CAMK_CAMKL_SIK2",
           "Q9H0K1",
           "CAMK"
          ],
          [
           "Q9H1R3 ePK_CAMK_MLCK_MYLK2",
           "Q9H1R3",
           "CAMK"
          ],
          [
           "Q9HBH9 ePK_CAMK_MAPKAPK_MKNK2",
           "Q9HBH9",
           "CAMK"
          ],
          [
           "Q9NRH2 ePK_CAMK_CAMKL_SNRK",
           "Q9NRH2",
           "CAMK"
          ],
          [
           "Q9P0L2 ePK_CAMK_CAMKL_MARK1",
           "Q9P0L2",
           "CAMK"
          ],
          [
           "Q9P1W9 ePK_CAMK_PIM_PIM2",
           "Q9P1W9",
           "CAMK"
          ],
          [
           "Q9UEE5 ePK_CAMK_DAPK_ST17A",
           "Q9UEE5",
           "CAMK"
          ],
          [
           "Q9UIK4 ePK_CAMK_DAPK_DAPK2",
           "Q9UIK4",
           "CAMK"
          ],
          [
           "Q9UK32|2 ePK_CAMK_RSK-b_KS6A6",
           "Q9UK32|2",
           "CAMK"
          ],
          [
           "Q9UQM7 ePK_CAMK_CAMK2_KCC2A",
           "Q9UQM7",
           "CAMK"
          ],
          [
           "Q9Y2K2 ePK_CAMK_CAMKL_SIK3",
           "Q9Y2K2",
           "CAMK"
          ]
         ],
         "hovertemplate": "<b>%{hovertext}</b><br><br>label=%{customdata[2]}<br>pm1=%{x}<br>pm2=%{y}<br>proteins_id=%{customdata[0]}<br>accession=%{customdata[1]}<extra></extra>",
         "hovertext": [
          "CAMK",
          "CAMK",
          "CAMK",
          "CAMK",
          "CAMK",
          "CAMK",
          "CAMK",
          "CAMK",
          "CAMK",
          "CAMK",
          "CAMK",
          "CAMK",
          "CAMK",
          "CAMK",
          "CAMK",
          "CAMK",
          "CAMK",
          "CAMK",
          "CAMK",
          "CAMK",
          "CAMK",
          "CAMK",
          "CAMK",
          "CAMK",
          "CAMK",
          "CAMK",
          "CAMK",
          "CAMK",
          "CAMK",
          "CAMK",
          "CAMK",
          "CAMK",
          "CAMK",
          "CAMK",
          "CAMK",
          "CAMK",
          "CAMK",
          "CAMK",
          "CAMK",
          "CAMK",
          "CAMK",
          "CAMK",
          "CAMK",
          "CAMK",
          "CAMK",
          "CAMK",
          "CAMK",
          "CAMK",
          "CAMK",
          "CAMK",
          "CAMK",
          "CAMK",
          "CAMK",
          "CAMK",
          "CAMK",
          "CAMK",
          "CAMK",
          "CAMK",
          "CAMK",
          "CAMK",
          "CAMK",
          "CAMK",
          "CAMK",
          "CAMK",
          "CAMK",
          "CAMK",
          "CAMK",
          "CAMK",
          "CAMK",
          "CAMK",
          "CAMK",
          "CAMK",
          "CAMK",
          "CAMK",
          "CAMK",
          "CAMK",
          "CAMK",
          "CAMK",
          "CAMK",
          "CAMK",
          "CAMK",
          "CAMK",
          "CAMK"
         ],
         "legendgroup": "CAMK",
         "marker": {
          "color": "#EF553B",
          "symbol": "circle"
         },
         "mode": "markers",
         "name": "CAMK",
         "orientation": "v",
         "showlegend": true,
         "type": "scatter",
         "x": [
          0.35070932,
          0.38123268,
          0.12539397,
          0.1254698,
          0.40121105,
          0.08852659,
          0.3368909,
          0.029436741,
          0.07029896,
          0.084270485,
          0.14264476,
          -0.0014746666,
          0.10215743,
          -0.031744827,
          0.11332764,
          0.07532955,
          0.35163206,
          -0.06377428,
          0.0846231,
          0.40977728,
          0.28939047,
          0.36374757,
          0.34545708,
          0.28659523,
          0.21300474,
          0.19066314,
          0.21434242,
          0.14376095,
          0.3207311,
          -0.047958106,
          0.040254105,
          0.04989201,
          0.3523365,
          0.0420046,
          0.077233106,
          0.38763845,
          0.15902859,
          -0.013868451,
          0.04196105,
          0.3224831,
          0.07289481,
          0.066633835,
          0.1565981,
          0.38659218,
          0.35412067,
          -0.03441084,
          0.37478313,
          0.14859276,
          -0.004959068,
          0.30264437,
          0.3415209,
          -0.00265592,
          0.1353108,
          0.056960326,
          0.30468443,
          0.22770147,
          -0.04804481,
          0.35550818,
          0.13237134,
          0.37015346,
          0.38320303,
          0.09287478,
          0.12540792,
          -0.04277301,
          -0.057471335,
          -0.024303533,
          0.37942895,
          0.35933444,
          0.041337386,
          0.032955956,
          0.12534323,
          0.3470272,
          0.3477807,
          0.35997406,
          -0.00149256,
          0.32511055,
          0.35231724,
          -0.034424428,
          0.31135002,
          0.39231429,
          0.057285283,
          0.19126432,
          0.35024112
         ],
         "xaxis": "x",
         "y": [
          0.9074893,
          0.79400116,
          0.88478786,
          0.90179485,
          0.66005576,
          0.5407338,
          0.9052028,
          0.82868963,
          0.786298,
          0.51851094,
          0.5808109,
          0.5900618,
          0.9152121,
          0.74388325,
          0.89750195,
          0.8436874,
          0.9180931,
          0.78368,
          0.868337,
          0.65496236,
          0.8734954,
          0.8243808,
          0.9104775,
          0.88612914,
          0.8905492,
          0.9097687,
          0.9024444,
          0.9245369,
          0.85553885,
          0.58733046,
          0.85045016,
          0.8369408,
          0.6539237,
          0.3949225,
          0.4646243,
          0.74925125,
          0.89406526,
          0.81049025,
          0.81414837,
          0.6048961,
          0.480027,
          0.45029628,
          0.9075156,
          0.8389473,
          0.9169297,
          0.7551133,
          0.63348544,
          0.91697794,
          0.8629745,
          0.8827923,
          0.9011115,
          0.13959025,
          0.88959,
          0.8913469,
          0.8750663,
          0.5620089,
          0.3242203,
          0.91299266,
          0.91036546,
          0.8326004,
          0.827157,
          0.89680064,
          0.6343988,
          0.3027421,
          0.39936486,
          0.8580573,
          0.84001666,
          0.8411747,
          0.64109915,
          0.5783084,
          0.92145056,
          0.8986062,
          0.91682357,
          0.62689734,
          0.84232104,
          0.8825901,
          0.9136852,
          0.7550194,
          0.62039715,
          0.65170616,
          0.8531896,
          0.9004357,
          0.9147439
         ],
         "yaxis": "y"
        },
        {
         "customdata": [
          [
           "A2RU49 eLK__HYKK_HYKK",
           "A2RU49",
           "outgroup"
          ],
          [
           "O00329 Atypical__PIKK_PK3CD",
           "O00329",
           "outgroup"
          ],
          [
           "O00418 Atypical__Alpha_EF2K",
           "O00418",
           "outgroup"
          ],
          [
           "O00443 Atypical__PIKK_P3C2A",
           "O00443",
           "outgroup"
          ],
          [
           "O00750 Atypical__PIKK_P3C2B",
           "O00750",
           "outgroup"
          ],
          [
           "O14730 eLK__RIO_RIOK3",
           "O14730",
           "outgroup"
          ],
          [
           "O14986 Atypical__PIPK_PI51B",
           "O14986",
           "outgroup"
          ],
          [
           "O60331 Atypical__PIPK_PI51C",
           "O60331",
           "outgroup"
          ],
          [
           "O75063 Atypical__FAM20_XYLK",
           "O75063",
           "outgroup"
          ],
          [
           "O75747 Atypical__PIKK_P3C2G",
           "O75747",
           "outgroup"
          ],
          [
           "P23677 Atypical__IPK_IP3KA",
           "P23677",
           "outgroup"
          ],
          [
           "P27987 Atypical__IPK_IP3KB",
           "P27987",
           "outgroup"
          ],
          [
           "P35790 eLK__CHK_CHKA",
           "P35790",
           "outgroup"
          ],
          [
           "P42336 Atypical__PIKK_PK3CA",
           "P42336",
           "outgroup"
          ],
          [
           "P42338 Atypical__PIKK_PK3CB",
           "P42338",
           "outgroup"
          ],
          [
           "P42345 Atypical__PIKK_MTOR",
           "P42345",
           "outgroup"
          ],
          [
           "P42356 Atypical__PIKK_PI4KA",
           "P42356",
           "outgroup"
          ],
          [
           "P48426 Atypical__PIPK_PI42A",
           "P48426",
           "outgroup"
          ],
          [
           "P48736 Atypical__PIKK_PK3CG",
           "P48736",
           "outgroup"
          ],
          [
           "P78356 Atypical__PIPK_PI42B",
           "P78356",
           "outgroup"
          ],
          [
           "P78527 Atypical__PIKK_PRKDC",
           "P78527",
           "outgroup"
          ],
          [
           "Q13315 Atypical__PIKK_ATM",
           "Q13315",
           "outgroup"
          ],
          [
           "Q13535 Atypical__PIKK_ATR",
           "Q13535",
           "outgroup"
          ],
          [
           "Q3MIX3 eLK__ABC1_ADCK5",
           "Q3MIX3",
           "outgroup"
          ],
          [
           "Q5T9C9 Atypical__PIPK_PI5L1",
           "Q5T9C9",
           "outgroup"
          ],
          [
           "Q6JQN1 eLK__ACD_ACD10",
           "Q6JQN1",
           "outgroup"
          ],
          [
           "Q709F0 eLK__ACD_ACD11",
           "Q709F0",
           "outgroup"
          ],
          [
           "Q7Z695 eLK__ABC1_ADCK2",
           "Q7Z695",
           "outgroup"
          ],
          [
           "Q86TB3 Atypical__Alpha_ALPK2",
           "Q86TB3",
           "outgroup"
          ],
          [
           "Q86TW2 eLK__ABC1_ADCK1",
           "Q86TW2",
           "outgroup"
          ],
          [
           "Q8IXL6 Atypical__FAM20_FA20C",
           "Q8IXL6",
           "outgroup"
          ],
          [
           "Q8NEB9 Atypical__PIKK_PK3C3",
           "Q8NEB9",
           "outgroup"
          ],
          [
           "Q8NFU5 Atypical__IPK_IPMK",
           "Q8NFU5",
           "outgroup"
          ],
          [
           "Q8NI60 eLK__ABC1_COQ8A",
           "Q8NI60",
           "outgroup"
          ],
          [
           "Q8TBX8 Atypical__PIPK_PI42C",
           "Q8TBX8",
           "outgroup"
          ],
          [
           "Q8TCG2 Atypical__PI4K_P4K2B",
           "Q8TCG2",
           "outgroup"
          ],
          [
           "Q92551 Atypical__IPK_IP6K1",
           "Q92551",
           "outgroup"
          ],
          [
           "Q96D53 eLK__ABC1_COQ8B",
           "Q96D53",
           "outgroup"
          ],
          [
           "Q96DU7 Atypical__IPK_IP3KC",
           "Q96DU7",
           "outgroup"
          ],
          [
           "Q96L96 Atypical__Alpha_ALPK3",
           "Q96L96",
           "outgroup"
          ],
          [
           "Q96MK3 Atypical__FAM20_FA20A",
           "Q96MK3",
           "outgroup"
          ],
          [
           "Q96PC2 Atypical__IPK_IP6K3",
           "Q96PC2",
           "outgroup"
          ],
          [
           "Q96Q15 Atypical__PIKK_SMG1",
           "Q96Q15",
           "outgroup"
          ],
          [
           "Q96QP1 Atypical__Alpha_ALPK1",
           "Q96QP1",
           "outgroup"
          ],
          [
           "Q96QT4 Atypical__Alpha_TRPM7",
           "Q96QT4",
           "outgroup"
          ],
          [
           "Q96S44 eLK__Bud32_PRPK",
           "Q96S44",
           "outgroup"
          ],
          [
           "Q99755 Atypical__PIPK_PI51A",
           "Q99755",
           "outgroup"
          ],
          [
           "Q9BRS2 eLK__RIO_RIOK1",
           "Q9BRS2",
           "outgroup"
          ],
          [
           "Q9BTU6 Atypical__PI4K_P4K2A",
           "Q9BTU6",
           "outgroup"
          ],
          [
           "Q9BVL4 Atypical___SELO",
           "Q9BVL4",
           "outgroup"
          ],
          [
           "Q9BVS4 eLK__RIO_RIOK2",
           "Q9BVS4",
           "outgroup"
          ],
          [
           "Q9BX84 Atypical__Alpha_TRPM6",
           "Q9BX84",
           "outgroup"
          ],
          [
           "Q9H479 eLK__FN3K_FN3K",
           "Q9H479",
           "outgroup"
          ],
          [
           "Q9H8X2 Atypical___IPPK",
           "Q9H8X2",
           "outgroup"
          ],
          [
           "Q9HA64 eLK__KT3K_KT3K",
           "Q9HA64",
           "outgroup"
          ],
          [
           "Q9HBU6 eLK__EKI_EKI1",
           "Q9HBU6",
           "outgroup"
          ],
          [
           "Q9NVF9 eLK__EKI_EKI2",
           "Q9NVF9",
           "outgroup"
          ],
          [
           "Q9UBF8 Atypical__PIKK_PI4KB",
           "Q9UBF8",
           "outgroup"
          ],
          [
           "Q9UHH9 Atypical__IPK_IP6K2",
           "Q9UHH9",
           "outgroup"
          ],
          [
           "Q9Y259 eLK__CHK_CHKB",
           "Q9Y259",
           "outgroup"
          ],
          [
           "Q9Y2I7 Atypical__PIPK_FYV1",
           "Q9Y2I7",
           "outgroup"
          ],
          [
           "Q9Y4A5 Atypical__PIKK_TRRAP",
           "Q9Y4A5",
           "outgroup"
          ]
         ],
         "hovertemplate": "<b>%{hovertext}</b><br><br>label=%{customdata[2]}<br>pm1=%{x}<br>pm2=%{y}<br>proteins_id=%{customdata[0]}<br>accession=%{customdata[1]}<extra></extra>",
         "hovertext": [
          "outgroup",
          "outgroup",
          "outgroup",
          "outgroup",
          "outgroup",
          "outgroup",
          "outgroup",
          "outgroup",
          "outgroup",
          "outgroup",
          "outgroup",
          "outgroup",
          "outgroup",
          "outgroup",
          "outgroup",
          "outgroup",
          "outgroup",
          "outgroup",
          "outgroup",
          "outgroup",
          "outgroup",
          "outgroup",
          "outgroup",
          "outgroup",
          "outgroup",
          "outgroup",
          "outgroup",
          "outgroup",
          "outgroup",
          "outgroup",
          "outgroup",
          "outgroup",
          "outgroup",
          "outgroup",
          "outgroup",
          "outgroup",
          "outgroup",
          "outgroup",
          "outgroup",
          "outgroup",
          "outgroup",
          "outgroup",
          "outgroup",
          "outgroup",
          "outgroup",
          "outgroup",
          "outgroup",
          "outgroup",
          "outgroup",
          "outgroup",
          "outgroup",
          "outgroup",
          "outgroup",
          "outgroup",
          "outgroup",
          "outgroup",
          "outgroup",
          "outgroup",
          "outgroup",
          "outgroup",
          "outgroup",
          "outgroup"
         ],
         "legendgroup": "outgroup",
         "marker": {
          "color": "#00cc96",
          "symbol": "circle"
         },
         "mode": "markers",
         "name": "outgroup",
         "orientation": "v",
         "showlegend": true,
         "type": "scatter",
         "x": [
          0.92557484,
          0.92827874,
          0.9413505,
          0.9196891,
          0.9099579,
          0.9270656,
          0.8657462,
          -0.9638014,
          0.8571417,
          0.9149294,
          0.91708595,
          0.92028683,
          0.9239908,
          0.92086476,
          0.9309394,
          0.91045594,
          0.89349276,
          0.87057245,
          0.92121476,
          0.87071705,
          0.9220755,
          0.925463,
          0.927192,
          0.94568616,
          0.8781679,
          0.94809586,
          0.9496875,
          0.95112216,
          0.9313894,
          0.94571745,
          0.86339414,
          0.90984374,
          0.9173291,
          0.95500714,
          0.86832285,
          0.8331848,
          0.91583896,
          0.9545274,
          0.9232619,
          -0.48731872,
          0.8513345,
          0.9091982,
          0.92243344,
          0.9384811,
          0.9391682,
          0.9304013,
          -0.18911804,
          0.9345998,
          0.85354686,
          0.9100391,
          0.94689655,
          0.93040013,
          0.9364238,
          0.9276622,
          0.93290156,
          0.93426114,
          0.94180894,
          0.8892835,
          0.9221244,
          0.91130817,
          -0.19830658,
          0.9292997
         ],
         "xaxis": "x",
         "y": [
          0.06341545,
          -0.18432455,
          0.20050712,
          -0.20985642,
          -0.19320455,
          0.164675,
          0.35378313,
          0.03024353,
          -0.23930202,
          -0.19765925,
          0.2895738,
          0.29513913,
          0.08585552,
          -0.181134,
          -0.19449294,
          -0.25189793,
          -0.18851343,
          0.35439655,
          -0.19264695,
          0.34878045,
          -0.24198148,
          -0.25293154,
          -0.24768141,
          0.16225623,
          0.3531307,
          0.071631454,
          0.080094606,
          0.17058115,
          0.21120478,
          0.15597945,
          -0.25692728,
          -0.18530273,
          0.27426586,
          0.15520236,
          0.3603995,
          -0.22619249,
          0.28507352,
          0.16104437,
          0.28898233,
          -0.122980624,
          -0.24506259,
          0.29316944,
          -0.24980778,
          0.20897332,
          0.21494406,
          0.113703094,
          -0.91511524,
          0.14645375,
          -0.23260409,
          -0.16916019,
          0.14352833,
          0.19848666,
          0.069765665,
          0.22622642,
          0.0781313,
          0.085384645,
          0.08954656,
          -0.20962803,
          0.28380752,
          0.07567814,
          -0.9040856,
          -0.23986776
         ],
         "yaxis": "y"
        },
        {
         "customdata": [
          [
           "O00141 ePK_AGC_SGK_SGK1",
           "O00141",
           "AGC"
          ],
          [
           "O14578 ePK_AGC_DMPK_CTRO",
           "O14578",
           "AGC"
          ],
          [
           "O15021 ePK_AGC_MAST_MAST4",
           "O15021",
           "AGC"
          ],
          [
           "O15530 ePK_AGC_PDK1_PDPK1",
           "O15530",
           "AGC"
          ],
          [
           "O43930 ePK_AGC_PKA_PRKY",
           "O43930",
           "AGC"
          ],
          [
           "O60307 ePK_AGC_MAST_MAST3",
           "O60307",
           "AGC"
          ],
          [
           "O75116 ePK_AGC_DMPK_ROCK2",
           "O75116",
           "AGC"
          ],
          [
           "O75582|1 ePK_AGC_RSK_KS6A5",
           "O75582|1",
           "AGC"
          ],
          [
           "O75676|1 ePK_AGC_RSK_KS6A4",
           "O75676|1",
           "AGC"
          ],
          [
           "O95835 ePK_AGC_NDR_LATS1",
           "O95835",
           "AGC"
          ],
          [
           "P05129 ePK_AGC_PKC_KPCG",
           "P05129",
           "AGC"
          ],
          [
           "P05771 ePK_AGC_PKC_KPCB",
           "P05771",
           "AGC"
          ],
          [
           "P17252 ePK_AGC_PKC_KPCA",
           "P17252",
           "AGC"
          ],
          [
           "P17612 ePK_AGC_PKA_KAPCA",
           "P17612",
           "AGC"
          ],
          [
           "P22612 ePK_AGC_PKA_KAPCG",
           "P22612",
           "AGC"
          ],
          [
           "P22694 ePK_AGC_PKA_KAPCB",
           "P22694",
           "AGC"
          ],
          [
           "P23443 ePK_AGC_RSK_KS6B1",
           "P23443",
           "AGC"
          ],
          [
           "P24723 ePK_AGC_PKC_KPCL",
           "P24723",
           "AGC"
          ],
          [
           "P25098 ePK_AGC_GRK_ARBK1",
           "P25098",
           "AGC"
          ],
          [
           "P31749 ePK_AGC_Akt_AKT1",
           "P31749",
           "AGC"
          ],
          [
           "P31751 ePK_AGC_Akt_AKT2",
           "P31751",
           "AGC"
          ],
          [
           "P32298 ePK_AGC_GRK_GRK4",
           "P32298",
           "AGC"
          ],
          [
           "P34947 ePK_AGC_GRK_GRK5",
           "P34947",
           "AGC"
          ],
          [
           "P35626 ePK_AGC_GRK_ARBK2",
           "P35626",
           "AGC"
          ],
          [
           "P41743 ePK_AGC_PKC_KPCI",
           "P41743",
           "AGC"
          ],
          [
           "P43250 ePK_AGC_GRK_GRK6",
           "P43250",
           "AGC"
          ],
          [
           "P51812|1 ePK_AGC_RSK_KS6A3",
           "P51812|1",
           "AGC"
          ],
          [
           "P51817 ePK_AGC_PKA_PRKX",
           "P51817",
           "AGC"
          ],
          [
           "Q02156 ePK_AGC_PKC_KPCE",
           "Q02156",
           "AGC"
          ],
          [
           "Q04759 ePK_AGC_PKC_KPCT",
           "Q04759",
           "AGC"
          ],
          [
           "Q05513 ePK_AGC_PKC_KPCZ",
           "Q05513",
           "AGC"
          ],
          [
           "Q05655 ePK_AGC_PKC_KPCD",
           "Q05655",
           "AGC"
          ],
          [
           "Q09013 ePK_AGC_DMPK_DMPK",
           "Q09013",
           "AGC"
          ],
          [
           "Q13237 ePK_AGC_PKG_KGP2",
           "Q13237",
           "AGC"
          ],
          [
           "Q13464 ePK_AGC_DMPK_ROCK1",
           "Q13464",
           "AGC"
          ],
          [
           "Q13976 ePK_AGC_PKG_KGP1",
           "Q13976",
           "AGC"
          ],
          [
           "Q15208 ePK_AGC_NDR_STK38",
           "Q15208",
           "AGC"
          ],
          [
           "Q15349|1 ePK_AGC_RSK_KS6A2",
           "Q15349|1",
           "AGC"
          ],
          [
           "Q15418|1 ePK_AGC_RSK_KS6A1",
           "Q15418|1",
           "AGC"
          ],
          [
           "Q15835 ePK_AGC_GRK_GRK1",
           "Q15835",
           "AGC"
          ],
          [
           "Q16512 ePK_AGC_PKN_PKN1",
           "Q16512",
           "AGC"
          ],
          [
           "Q16513 ePK_AGC_PKN_PKN2",
           "Q16513",
           "AGC"
          ],
          [
           "Q5VT25 ePK_AGC_DMPK_MRCKA",
           "Q5VT25",
           "AGC"
          ],
          [
           "Q6A1A2 ePK_AGC_PDPK2_PDPK2",
           "Q6A1A2",
           "AGC"
          ],
          [
           "Q6DT37 ePK_AGC_DMPK_MRCKG",
           "Q6DT37",
           "AGC"
          ],
          [
           "Q6P0Q8 ePK_AGC_MAST_MAST2",
           "Q6P0Q8",
           "AGC"
          ],
          [
           "Q6P5Z2 ePK_AGC_PKN_PKN3",
           "Q6P5Z2",
           "AGC"
          ],
          [
           "Q86UX6 ePK_AGC_YANK_ST32C",
           "Q86UX6",
           "AGC"
          ],
          [
           "Q8WTQ7 ePK_AGC_GRK_GRK7",
           "Q8WTQ7",
           "AGC"
          ],
          [
           "Q8WU08 ePK_AGC_YANK_ST32A",
           "Q8WU08",
           "AGC"
          ],
          [
           "Q96BR1 ePK_AGC_SGK_SGK3",
           "Q96BR1",
           "AGC"
          ],
          [
           "Q96GX5 ePK_AGC_MAST_GWL",
           "Q96GX5",
           "AGC"
          ],
          [
           "Q96LW2 ePK_AGC_RSKR_KS6R",
           "Q96LW2",
           "AGC"
          ],
          [
           "Q96S38 ePK_AGC_RSKL_KS6C1",
           "Q96S38",
           "AGC"
          ],
          [
           "Q9HBY8 ePK_AGC_SGK_SGK2",
           "Q9HBY8",
           "AGC"
          ],
          [
           "Q9NRM7 ePK_AGC_NDR_LATS2",
           "Q9NRM7",
           "AGC"
          ],
          [
           "Q9NY57 ePK_AGC_YANK_ST32B",
           "Q9NY57",
           "AGC"
          ],
          [
           "Q9UBS0 ePK_AGC_RSK_KS6B2",
           "Q9UBS0",
           "AGC"
          ],
          [
           "Q9UK32|1 ePK_AGC_RSK_KS6A6",
           "Q9UK32|1",
           "AGC"
          ],
          [
           "Q9Y243 ePK_AGC_Akt_AKT3",
           "Q9Y243",
           "AGC"
          ],
          [
           "Q9Y2H1 ePK_AGC_NDR_ST38L",
           "Q9Y2H1",
           "AGC"
          ],
          [
           "Q9Y2H9 ePK_AGC_MAST_MAST1",
           "Q9Y2H9",
           "AGC"
          ],
          [
           "Q9Y5S2 ePK_AGC_DMPK_MRCKB",
           "Q9Y5S2",
           "AGC"
          ],
          [
           "Q9Y6S9 ePK_AGC_RSKL_RPKL1",
           "Q9Y6S9",
           "AGC"
          ]
         ],
         "hovertemplate": "<b>%{hovertext}</b><br><br>label=%{customdata[2]}<br>pm1=%{x}<br>pm2=%{y}<br>proteins_id=%{customdata[0]}<br>accession=%{customdata[1]}<extra></extra>",
         "hovertext": [
          "AGC",
          "AGC",
          "AGC",
          "AGC",
          "AGC",
          "AGC",
          "AGC",
          "AGC",
          "AGC",
          "AGC",
          "AGC",
          "AGC",
          "AGC",
          "AGC",
          "AGC",
          "AGC",
          "AGC",
          "AGC",
          "AGC",
          "AGC",
          "AGC",
          "AGC",
          "AGC",
          "AGC",
          "AGC",
          "AGC",
          "AGC",
          "AGC",
          "AGC",
          "AGC",
          "AGC",
          "AGC",
          "AGC",
          "AGC",
          "AGC",
          "AGC",
          "AGC",
          "AGC",
          "AGC",
          "AGC",
          "AGC",
          "AGC",
          "AGC",
          "AGC",
          "AGC",
          "AGC",
          "AGC",
          "AGC",
          "AGC",
          "AGC",
          "AGC",
          "AGC",
          "AGC",
          "AGC",
          "AGC",
          "AGC",
          "AGC",
          "AGC",
          "AGC",
          "AGC",
          "AGC",
          "AGC",
          "AGC",
          "AGC"
         ],
         "legendgroup": "AGC",
         "marker": {
          "color": "#ab63fa",
          "symbol": "circle"
         },
         "mode": "markers",
         "name": "AGC",
         "orientation": "v",
         "showlegend": true,
         "type": "scatter",
         "x": [
          -0.37301114,
          -0.34995413,
          -0.40555674,
          -0.3947505,
          -0.30183902,
          -0.41101414,
          -0.35195574,
          -0.34338507,
          -0.3409375,
          -0.36064273,
          -0.40335688,
          -0.4011028,
          -0.39528728,
          -0.31097177,
          -0.309948,
          -0.31031176,
          -0.33971843,
          -0.41083193,
          -0.46501726,
          -0.3752067,
          -0.36624673,
          -0.47215527,
          -0.47671098,
          -0.47444323,
          -0.39697263,
          -0.4792359,
          -0.33245334,
          -0.30473793,
          -0.40007597,
          -0.40423015,
          -0.40396652,
          -0.40566912,
          -0.35447317,
          -0.344027,
          -0.3528842,
          -0.3402485,
          -0.35504338,
          -0.33556476,
          -0.34774667,
          -0.45893365,
          -0.41686413,
          -0.4144917,
          -0.35148337,
          -0.38574618,
          -0.35166013,
          -0.40720555,
          -0.42147043,
          -0.4712722,
          -0.47035897,
          -0.46682486,
          -0.37831983,
          -0.51484096,
          -0.45593566,
          -0.5115508,
          -0.36834726,
          -0.3564385,
          -0.4646754,
          -0.33785415,
          -0.32542202,
          -0.38646513,
          -0.3517332,
          -0.40929118,
          -0.35434455,
          -0.49949756
         ],
         "xaxis": "x",
         "y": [
          0.8629486,
          0.9237776,
          0.8948971,
          0.81634945,
          0.88281274,
          0.89200413,
          0.9244926,
          0.8968742,
          0.88540065,
          0.91325504,
          0.88109696,
          0.8846459,
          0.8856487,
          0.88161176,
          0.8767541,
          0.885995,
          0.87910354,
          0.8763704,
          0.8342221,
          0.87101185,
          0.870058,
          0.8260826,
          0.82226855,
          0.8369059,
          0.8924983,
          0.8286796,
          0.88133913,
          0.8713377,
          0.8804076,
          0.8658265,
          0.8901445,
          0.8776129,
          0.9212823,
          0.82295775,
          0.9232904,
          0.8455452,
          0.9118434,
          0.8744431,
          0.86760706,
          0.8198543,
          0.8752288,
          0.8831617,
          0.9200272,
          0.8177121,
          0.9229997,
          0.8939466,
          0.86923265,
          0.84379756,
          0.8329143,
          0.8450118,
          0.84859556,
          -0.3141733,
          0.8483849,
          -0.31146464,
          0.86399055,
          0.91643053,
          0.84172964,
          0.8726637,
          0.86841166,
          0.8689727,
          0.91241986,
          0.89254683,
          0.9239408,
          -0.30934766
         ],
         "yaxis": "y"
        },
        {
         "customdata": [
          [
           "O00238 ePK_TKL_STKR_BMR1B",
           "O00238",
           "TKL"
          ],
          [
           "O43187 ePK_TKL_IRAK_IRAK2",
           "O43187",
           "TKL"
          ],
          [
           "O43283 ePK_TKL_MLK_M3K13",
           "O43283",
           "TKL"
          ],
          [
           "O43318 ePK_TKL_MLK_M3K7",
           "O43318",
           "TKL"
          ],
          [
           "O43353 ePK_TKL_RIPK_RIPK2",
           "O43353",
           "TKL"
          ],
          [
           "P04049 ePK_TKL_RAF_RAF1",
           "P04049",
           "TKL"
          ],
          [
           "P10398 ePK_TKL_RAF_ARAF",
           "P10398",
           "TKL"
          ],
          [
           "P15056 ePK_TKL_RAF_BRAF",
           "P15056",
           "TKL"
          ],
          [
           "P27037 ePK_TKL_STKR_AVR2A",
           "P27037",
           "TKL"
          ],
          [
           "P36894 ePK_TKL_STKR_BMR1A",
           "P36894",
           "TKL"
          ],
          [
           "P36896 ePK_TKL_STKR_ACV1B",
           "P36896",
           "TKL"
          ],
          [
           "P36897 ePK_TKL_STKR_TGFR1",
           "P36897",
           "TKL"
          ],
          [
           "P37023 ePK_TKL_STKR_ACVL1",
           "P37023",
           "TKL"
          ],
          [
           "P37173 ePK_TKL_STKR_TGFR2",
           "P37173",
           "TKL"
          ],
          [
           "P51617 ePK_TKL_IRAK_IRAK1",
           "P51617",
           "TKL"
          ],
          [
           "P53667 ePK_TKL_LIMK_LIMK1",
           "P53667",
           "TKL"
          ],
          [
           "P53671 ePK_TKL_LIMK_LIMK2",
           "P53671",
           "TKL"
          ],
          [
           "P57078 ePK_TKL_RIPK_RIPK4",
           "P57078",
           "TKL"
          ],
          [
           "P80192 ePK_TKL_MLK_M3K9",
           "P80192",
           "TKL"
          ],
          [
           "Q02779 ePK_TKL_MLK_M3K10",
           "Q02779",
           "TKL"
          ],
          [
           "Q04771 ePK_TKL_STKR_ACVR1",
           "Q04771",
           "TKL"
          ],
          [
           "Q12852 ePK_TKL_MLK_M3K12",
           "Q12852",
           "TKL"
          ],
          [
           "Q13418 ePK_TKL_MLK_ILK",
           "Q13418",
           "TKL"
          ],
          [
           "Q13546 ePK_TKL_RIPK_RIPK1",
           "Q13546",
           "TKL"
          ],
          [
           "Q13705 ePK_TKL_STKR_AVR2B",
           "Q13705",
           "TKL"
          ],
          [
           "Q13873 ePK_TKL_STKR_BMPR2",
           "Q13873",
           "TKL"
          ],
          [
           "Q15569 ePK_TKL_TESK_TESK1",
           "Q15569",
           "TKL"
          ],
          [
           "Q16584 ePK_TKL_MLK_M3K11",
           "Q16584",
           "TKL"
          ],
          [
           "Q16671 ePK_TKL_STKR_AMHR2",
           "Q16671",
           "TKL"
          ],
          [
           "Q38SD2 ePK_TKL_LRRK_LRRK1",
           "Q38SD2",
           "TKL"
          ],
          [
           "Q59H18 ePK_TKL_MLK_TNI3K",
           "Q59H18",
           "TKL"
          ],
          [
           "Q5S007 ePK_TKL_LRRK_LRRK2",
           "Q5S007",
           "TKL"
          ],
          [
           "Q5TCX8 ePK_TKL_MLK_M3K21",
           "Q5TCX8",
           "TKL"
          ],
          [
           "Q6VAB6 ePK_TKL_RAF_KSR2",
           "Q6VAB6",
           "TKL"
          ],
          [
           "Q8IVT5 ePK_TKL_RAF_KSR1",
           "Q8IVT5",
           "TKL"
          ],
          [
           "Q8NB16 ePK_TKL_MLKL_MLKL",
           "Q8NB16",
           "TKL"
          ],
          [
           "Q8NER5 ePK_TKL_STKR_ACV1C",
           "Q8NER5",
           "TKL"
          ],
          [
           "Q8NFD2 ePK_TKL_RIPK_ANKK1",
           "Q8NFD2",
           "TKL"
          ],
          [
           "Q96S53 ePK_TKL_TESK_TESK2",
           "Q96S53",
           "TKL"
          ],
          [
           "Q9NWZ3 ePK_TKL_IRAK_IRAK4",
           "Q9NWZ3",
           "TKL"
          ],
          [
           "Q9NYL2 ePK_TKL_MLK_M3K20",
           "Q9NYL2",
           "TKL"
          ],
          [
           "Q9Y572 ePK_TKL_RIPK_RIPK3",
           "Q9Y572",
           "TKL"
          ],
          [
           "Q9Y616 ePK_TKL_IRAK_IRAK3",
           "Q9Y616",
           "TKL"
          ]
         ],
         "hovertemplate": "<b>%{hovertext}</b><br><br>label=%{customdata[2]}<br>pm1=%{x}<br>pm2=%{y}<br>proteins_id=%{customdata[0]}<br>accession=%{customdata[1]}<extra></extra>",
         "hovertext": [
          "TKL",
          "TKL",
          "TKL",
          "TKL",
          "TKL",
          "TKL",
          "TKL",
          "TKL",
          "TKL",
          "TKL",
          "TKL",
          "TKL",
          "TKL",
          "TKL",
          "TKL",
          "TKL",
          "TKL",
          "TKL",
          "TKL",
          "TKL",
          "TKL",
          "TKL",
          "TKL",
          "TKL",
          "TKL",
          "TKL",
          "TKL",
          "TKL",
          "TKL",
          "TKL",
          "TKL",
          "TKL",
          "TKL",
          "TKL",
          "TKL",
          "TKL",
          "TKL",
          "TKL",
          "TKL",
          "TKL",
          "TKL",
          "TKL",
          "TKL"
         ],
         "legendgroup": "TKL",
         "marker": {
          "color": "#FFA15A",
          "symbol": "circle"
         },
         "mode": "markers",
         "name": "TKL",
         "orientation": "v",
         "showlegend": true,
         "type": "scatter",
         "x": [
          0.066619165,
          0.2080348,
          0.28972176,
          0.30066898,
          0.2771196,
          0.27033943,
          0.27240354,
          0.2919072,
          0.050557423,
          0.06207074,
          0.07153612,
          0.0631313,
          0.063552566,
          0.058584455,
          0.21459784,
          0.26151395,
          0.26283497,
          0.23005354,
          0.3044731,
          0.30634046,
          0.05749911,
          0.28460664,
          0.29171628,
          0.24591504,
          0.076348364,
          0.067673095,
          0.2675751,
          0.30825672,
          0.0746701,
          0.19645289,
          0.30905983,
          0.20305823,
          0.31238875,
          0.26913354,
          0.256188,
          0.22745413,
          0.0538024,
          0.23387301,
          0.26685143,
          0.22204109,
          0.29531038,
          0.1706802,
          0.2123552
         ],
         "xaxis": "x",
         "y": [
          -0.94357854,
          -0.88441986,
          -0.8859796,
          -0.88747174,
          -0.835116,
          -0.8584974,
          -0.87081164,
          -0.8602146,
          -0.9270287,
          -0.9496581,
          -0.9482139,
          -0.9549449,
          -0.93589914,
          -0.920116,
          -0.8863309,
          -0.89733577,
          -0.89514637,
          -0.85630137,
          -0.8968808,
          -0.9025546,
          -0.94193834,
          -0.8978534,
          -0.767711,
          -0.7982959,
          -0.929852,
          -0.9218943,
          -0.89996374,
          -0.9008082,
          -0.89188427,
          -0.805067,
          -0.8775216,
          -0.7664594,
          -0.89644825,
          -0.8073204,
          -0.7616558,
          -0.7971066,
          -0.94815475,
          -0.8319319,
          -0.9049904,
          -0.8929983,
          -0.9013286,
          -0.8102463,
          -0.88248134
         ],
         "yaxis": "y"
        },
        {
         "customdata": [
          [
           "O00311 ePK_Other_CDC7_CDC7",
           "O00311",
           "nan"
          ],
          [
           "O00444 ePK_Other_PLK_PLK4",
           "O00444",
           "nan"
          ],
          [
           "O14920 ePK_Other_IKK_IKKB",
           "O14920",
           "nan"
          ],
          [
           "O14965 ePK_Other_Aur_AURKA",
           "O14965",
           "nan"
          ],
          [
           "O14976 ePK_Other_NAK_GAK",
           "O14976",
           "nan"
          ],
          [
           "O15111 ePK_Other_IKK_IKKA",
           "O15111",
           "nan"
          ],
          [
           "O43683 ePK_Other_BUB_BUB1",
           "O43683",
           "nan"
          ],
          [
           "O60566 ePK_Other_BUB_BUB1B",
           "O60566",
           "nan"
          ],
          [
           "O75385 ePK_Other_ULK_ULK1",
           "O75385",
           "nan"
          ],
          [
           "O75460 ePK_Other_IRE_ERN1",
           "O75460",
           "nan"
          ],
          [
           "O75716 ePK_Other_NAK_STK16",
           "O75716",
           "nan"
          ],
          [
           "P00540 ePK_Other_MOS_MOS",
           "P00540",
           "nan"
          ],
          [
           "P0C1S8 ePK_Other_WEE_WEE2",
           "P0C1S8",
           "nan"
          ],
          [
           "P0C263 ePK_Other_NKF1_SBK2",
           "P0C263",
           "nan"
          ],
          [
           "P0C264 ePK_Other_NKF1_SBK3",
           "P0C264",
           "nan"
          ],
          [
           "P19525 ePK_Other_PEK_E2AK2",
           "P19525",
           "nan"
          ],
          [
           "P30291 ePK_Other_WEE_WEE1",
           "P30291",
           "nan"
          ],
          [
           "P33981 ePK_Other_TTK_TTK",
           "P33981",
           "nan"
          ],
          [
           "P53350 ePK_Other_PLK_PLK1",
           "P53350",
           "nan"
          ],
          [
           "Q05823 ePK_Other_RNAseL_RN5A",
           "Q05823",
           "nan"
          ],
          [
           "Q14164 ePK_Other_IKK_IKKE",
           "Q14164",
           "nan"
          ],
          [
           "Q2M2I8 ePK_Other_NAK_AAK1",
           "Q2M2I8",
           "nan"
          ],
          [
           "Q496M5 ePK_Other_PLK_PLK5",
           "Q496M5",
           "nan"
          ],
          [
           "Q504Y2 ePK_Other_SgK493_PKDCC",
           "Q504Y2",
           "nan"
          ],
          [
           "Q52WX2 ePK_Other_NKF1_SBK1",
           "Q52WX2",
           "nan"
          ],
          [
           "Q58A45 ePK_Other_PAN3_PAN3",
           "Q58A45",
           "nan"
          ],
          [
           "Q6P3W7 ePK_Other_SCY1_SCYL2",
           "Q6P3W7",
           "nan"
          ],
          [
           "Q6PHR2 ePK_Other_ULK_ULK3",
           "Q6PHR2",
           "nan"
          ],
          [
           "Q6XUX3 ePK_Other_Dusty_DUSTY",
           "Q6XUX3",
           "nan"
          ],
          [
           "Q6ZS72 ePK_Other_NKF3_PEAK3",
           "Q6ZS72",
           "nan"
          ],
          [
           "Q76MJ5 ePK_Other_IRE_ERN2",
           "Q76MJ5",
           "nan"
          ],
          [
           "Q7Z7A4 ePK_Other_Slob_PXK",
           "Q7Z7A4",
           "nan"
          ],
          [
           "Q86UE8 ePK_Other_TLK_TLK2",
           "Q86UE8",
           "nan"
          ],
          [
           "Q86YV5 ePK_Other_NKF3_PRAG1",
           "Q86YV5",
           "nan"
          ],
          [
           "Q8IWB6 ePK_Other_NKF5_TEX14",
           "Q8IWB6",
           "nan"
          ],
          [
           "Q8IYT8 ePK_Other_ULK_ULK2",
           "Q8IYT8",
           "nan"
          ],
          [
           "Q8IZE3 ePK_Other_SCY1_PACE1",
           "Q8IZE3",
           "nan"
          ],
          [
           "Q8N165 ePK_Other_NKF4_PDK1L",
           "Q8N165",
           "nan"
          ],
          [
           "Q8N5S9 ePK_Other_CAMKK_KKCC1",
           "Q8N5S9",
           "nan"
          ],
          [
           "Q8NE28 ePK_Other_SgK071_STKL1",
           "Q8NE28",
           "nan"
          ],
          [
           "Q8TAS1 ePK_Other_KIS_UHMK1",
           "Q8TAS1",
           "nan"
          ],
          [
           "Q8TDR2 ePK_Other_NKF4_STK35",
           "Q8TDR2",
           "nan"
          ],
          [
           "Q8TEA7 ePK_Other_TBCK_TBCK",
           "Q8TEA7",
           "nan"
          ],
          [
           "Q8TF76 ePK_Other_Haspin_HASP",
           "Q8TF76",
           "nan"
          ],
          [
           "Q96C45 ePK_Other_ULK_ULK4",
           "Q96C45",
           "nan"
          ],
          [
           "Q96GD4 ePK_Other_Aur_AURKB",
           "Q96GD4",
           "nan"
          ],
          [
           "Q96J92 ePK_Other_WNK_WNK4",
           "Q96J92",
           "nan"
          ],
          [
           "Q96KB5 ePK_Other_TOPK_TOPK",
           "Q96KB5",
           "nan"
          ],
          [
           "Q96KG9 ePK_Other_SCY1_SCYL1",
           "Q96KG9",
           "nan"
          ],
          [
           "Q96RR4 ePK_Other_CAMKK_KKCC2",
           "Q96RR4",
           "nan"
          ],
          [
           "Q99570 ePK_Other_VPS15_PI3R4",
           "Q99570",
           "nan"
          ],
          [
           "Q99640 ePK_Other_WEE_PMYT1",
           "Q99640",
           "nan"
          ],
          [
           "Q9BQI3 ePK_Other_PEK_E2AK1",
           "Q9BQI3",
           "nan"
          ],
          [
           "Q9BXM7 ePK_Other_NKF2_PINK1",
           "Q9BXM7",
           "nan"
          ],
          [
           "Q9BXU1 ePK_Other_STK31_STK31",
           "Q9BXU1",
           "nan"
          ],
          [
           "Q9BYP7 ePK_Other_WNK_WNK3",
           "Q9BYP7",
           "nan"
          ],
          [
           "Q9H4A3 ePK_Other_WNK_WNK1",
           "Q9H4A3",
           "nan"
          ],
          [
           "Q9H4B4 ePK_Other_PLK_PLK3",
           "Q9H4B4",
           "nan"
          ],
          [
           "Q9H5K3 ePK_Other_POMK_SG196",
           "Q9H5K3",
           "nan"
          ],
          [
           "Q9H792 ePK_Other_NKF3_PEAK1",
           "Q9H792",
           "nan"
          ],
          [
           "Q9NRP7 ePK_Other_ULK_STK36",
           "Q9NRP7",
           "nan"
          ],
          [
           "Q9NSY0 ePK_Other_NRBP_NRBP2",
           "Q9NSY0",
           "nan"
          ],
          [
           "Q9NSY1 ePK_Other_NAK_BMP2K",
           "Q9NSY1",
           "nan"
          ],
          [
           "Q9NYY3 ePK_Other_PLK_PLK2",
           "Q9NYY3",
           "nan"
          ],
          [
           "Q9NZJ5 ePK_Other_PEK_E2AK3",
           "Q9NZJ5",
           "nan"
          ],
          [
           "Q9P2K8|1 ePK_Other_PEK_E2AK4",
           "Q9P2K8|1",
           "nan"
          ],
          [
           "Q9P2K8|2 ePK_Other_PEK_E2AK4",
           "Q9P2K8|2",
           "nan"
          ],
          [
           "Q9UHD2 ePK_Other_IKK_TBK1",
           "Q9UHD2",
           "nan"
          ],
          [
           "Q9UHY1 ePK_Other_NRBP_NRBP",
           "Q9UHY1",
           "nan"
          ],
          [
           "Q9UKI8 ePK_Other_TLK_TLK1",
           "Q9UKI8",
           "nan"
          ],
          [
           "Q9UQB9 ePK_Other_Aur_AURKC",
           "Q9UQB9",
           "nan"
          ],
          [
           "Q9Y3S1 ePK_Other_WNK_WNK2",
           "Q9Y3S1",
           "nan"
          ]
         ],
         "hovertemplate": "<b>%{hovertext}</b><br><br>label=%{customdata[2]}<br>pm1=%{x}<br>pm2=%{y}<br>proteins_id=%{customdata[0]}<br>accession=%{customdata[1]}<extra></extra>",
         "hovertext": [
          "nan",
          "nan",
          "nan",
          "nan",
          "nan",
          "nan",
          "nan",
          "nan",
          "nan",
          "nan",
          "nan",
          "nan",
          "nan",
          "nan",
          "nan",
          "nan",
          "nan",
          "nan",
          "nan",
          "nan",
          "nan",
          "nan",
          "nan",
          "nan",
          "nan",
          "nan",
          "nan",
          "nan",
          "nan",
          "nan",
          "nan",
          "nan",
          "nan",
          "nan",
          "nan",
          "nan",
          "nan",
          "nan",
          "nan",
          "nan",
          "nan",
          "nan",
          "nan",
          "nan",
          "nan",
          "nan",
          "nan",
          "nan",
          "nan",
          "nan",
          "nan",
          "nan",
          "nan",
          "nan",
          "nan",
          "nan",
          "nan",
          "nan",
          "nan",
          "nan",
          "nan",
          "nan",
          "nan",
          "nan",
          "nan",
          "nan",
          "nan",
          "nan",
          "nan",
          "nan",
          "nan",
          "nan"
         ],
         "legendgroup": "nan",
         "marker": {
          "color": "#19d3f3",
          "symbol": "circle"
         },
         "mode": "markers",
         "name": "nan",
         "orientation": "v",
         "showlegend": true,
         "type": "scatter",
         "x": [
          -0.53015244,
          -0.22364673,
          -0.19672957,
          -0.36516058,
          0.2348414,
          -0.1995126,
          -0.22407952,
          -0.4654672,
          -0.048075493,
          0.014865252,
          -0.025336392,
          0.20227559,
          -0.17189638,
          -0.063042134,
          -0.06596561,
          -0.19707875,
          -0.08062467,
          -0.037369348,
          -0.29495034,
          -0.41291693,
          -0.061164897,
          0.41751528,
          0.10864927,
          0.124651566,
          -0.060501274,
          -0.43878472,
          -0.39818227,
          -0.0814541,
          0.17680769,
          -0.47853237,
          -0.11560507,
          -0.45823774,
          -0.0044458504,
          -0.4794791,
          0.20910251,
          -0.06577954,
          -0.45496917,
          -0.31639132,
          0.42545876,
          -0.35939348,
          -0.7200187,
          -0.33700585,
          -0.38438472,
          0.087877825,
          -0.26072478,
          -0.40126768,
          -0.46096075,
          0.22389407,
          -0.45135778,
          0.4170608,
          -0.12620236,
          -0.11865698,
          -0.478868,
          -0.3627863,
          -0.47501665,
          -0.47654766,
          -0.5400301,
          -0.2525847,
          0.24689904,
          -0.45524848,
          0.531686,
          -0.45772225,
          0.45385614,
          -0.28611797,
          -0.5288487,
          -0.470761,
          -0.51295006,
          -0.059399452,
          -0.46994388,
          -0.010011439,
          -0.3481839,
          -0.46520886
         ],
         "xaxis": "x",
         "y": [
          -0.31160498,
          0.6525325,
          -0.02325831,
          0.65075207,
          0.004642515,
          0.10120066,
          -0.3374299,
          -0.058649603,
          0.5661721,
          -0.106030166,
          -0.07639312,
          -0.8220925,
          -0.1044295,
          0.24269344,
          0.24077961,
          -0.19729961,
          -0.10988169,
          -0.07614329,
          0.6360404,
          -0.030007867,
          0.06777825,
          0.11865856,
          0.4209383,
          -0.71363074,
          0.22686525,
          0.072886236,
          0.12071772,
          0.55751044,
          -0.7627246,
          -0.11494566,
          0.044983204,
          0.06644908,
          0.010175725,
          -0.17544456,
          -0.82915175,
          0.5048675,
          0.109339416,
          -0.16159846,
          0.6884883,
          -0.026534647,
          -0.16369036,
          -0.14690655,
          0.057592355,
          -0.33353013,
          0.22949378,
          0.6062324,
          0.59156555,
          -0.75079376,
          0.11935111,
          0.6902086,
          -0.16105768,
          -0.018248178,
          -0.29056397,
          -0.12708446,
          -0.08811104,
          0.59279436,
          0.58792114,
          0.627509,
          -0.7343228,
          -0.20536013,
          0.081243545,
          0.21064661,
          0.08232422,
          0.6424442,
          -0.30326992,
          0.1500706,
          -0.2797812,
          0.064975105,
          0.49266607,
          -0.021736344,
          0.62039906,
          0.57544917
         ],
         "yaxis": "y"
        },
        {
         "customdata": [
          [
           "O00506 ePK_STE_STE20_STK25",
           "O00506",
           "STE"
          ],
          [
           "O14733 ePK_STE_STE7_MP2K7",
           "O14733",
           "STE"
          ],
          [
           "O75914 ePK_STE_STE20_PAK3",
           "O75914",
           "STE"
          ],
          [
           "O94804 ePK_STE_STE20_STK10",
           "O94804",
           "STE"
          ],
          [
           "O95382 ePK_STE_STE11_M3K6",
           "O95382",
           "STE"
          ],
          [
           "O95747 ePK_STE_STE20_OXSR1",
           "O95747",
           "STE"
          ],
          [
           "O95819 ePK_STE_STE20_M4K4",
           "O95819",
           "STE"
          ],
          [
           "O96013 ePK_STE_STE20_PAK4",
           "O96013",
           "STE"
          ],
          [
           "P36507 ePK_STE_STE7_MP2K2",
           "P36507",
           "STE"
          ],
          [
           "P41279 ePK_STE_COT_M3K8",
           "P41279",
           "STE"
          ],
          [
           "P45985 ePK_STE_STE7_MP2K4",
           "P45985",
           "STE"
          ],
          [
           "P46734 ePK_STE_STE7_MP2K3",
           "P46734",
           "STE"
          ],
          [
           "P52564 ePK_STE_STE7_MP2K6",
           "P52564",
           "STE"
          ],
          [
           "Q02750 ePK_STE_STE7_MP2K1",
           "Q02750",
           "STE"
          ],
          [
           "Q12851 ePK_STE_STE20_M4K2",
           "Q12851",
           "STE"
          ],
          [
           "Q13043 ePK_STE_STE20_STK4",
           "Q13043",
           "STE"
          ],
          [
           "Q13153 ePK_STE_STE20_PAK1",
           "Q13153",
           "STE"
          ],
          [
           "Q13163 ePK_STE_STE7_MP2K5",
           "Q13163",
           "STE"
          ],
          [
           "Q13177 ePK_STE_STE20_PAK2",
           "Q13177",
           "STE"
          ],
          [
           "Q13188 ePK_STE_STE20_STK3",
           "Q13188",
           "STE"
          ],
          [
           "Q13233 ePK_STE_STE11_M3K1",
           "Q13233",
           "STE"
          ],
          [
           "Q56UN5 ePK_STE_STE11_M3K19",
           "Q56UN5",
           "STE"
          ],
          [
           "Q6ZN16 ePK_STE_STE11_M3K15",
           "Q6ZN16",
           "STE"
          ],
          [
           "Q7L7X3 ePK_STE_STE20_TAOK1",
           "Q7L7X3",
           "STE"
          ],
          [
           "Q7RTN6 ePK_STE_STE20_STRAA",
           "Q7RTN6",
           "STE"
          ],
          [
           "Q7Z2Y5 ePK_STE_STE20_NRK",
           "Q7Z2Y5",
           "STE"
          ],
          [
           "Q8IVH8 ePK_STE_STE20_M4K3",
           "Q8IVH8",
           "STE"
          ],
          [
           "Q8N4C8 ePK_STE_STE20_MINK1",
           "Q8N4C8",
           "STE"
          ],
          [
           "Q8NEV4 ePK_STE_STE20_MYO3A",
           "Q8NEV4",
           "STE"
          ],
          [
           "Q8WXR4 ePK_STE_STE20_MYO3B",
           "Q8WXR4",
           "STE"
          ],
          [
           "Q92918 ePK_STE_STE20_M4K1",
           "Q92918",
           "STE"
          ],
          [
           "Q99558 ePK_STE_NIK_M3K14",
           "Q99558",
           "STE"
          ],
          [
           "Q99683 ePK_STE_STE11_M3K5",
           "Q99683",
           "STE"
          ],
          [
           "Q99759 ePK_STE_STE11_M3K3",
           "Q99759",
           "STE"
          ],
          [
           "Q9C0K7 ePK_STE_STE20_STRAB",
           "Q9C0K7",
           "STE"
          ],
          [
           "Q9H2G2 ePK_STE_STE20_SLK",
           "Q9H2G2",
           "STE"
          ],
          [
           "Q9H2K8 ePK_STE_STE20_TAOK3",
           "Q9H2K8",
           "STE"
          ],
          [
           "Q9NQU5 ePK_STE_STE20_PAK6",
           "Q9NQU5",
           "STE"
          ],
          [
           "Q9P286 ePK_STE_STE20_PAK5",
           "Q9P286",
           "STE"
          ],
          [
           "Q9P289 ePK_STE_STE20_STK26",
           "Q9P289",
           "STE"
          ],
          [
           "Q9UEW8 ePK_STE_STE20_STK39",
           "Q9UEW8",
           "STE"
          ],
          [
           "Q9UKE5 ePK_STE_STE20_TNIK",
           "Q9UKE5",
           "STE"
          ],
          [
           "Q9UL54 ePK_STE_STE20_TAOK2",
           "Q9UL54",
           "STE"
          ],
          [
           "Q9Y2U5 ePK_STE_STE11_M3K2",
           "Q9Y2U5",
           "STE"
          ],
          [
           "Q9Y4K4 ePK_STE_STE20_M4K5",
           "Q9Y4K4",
           "STE"
          ],
          [
           "Q9Y6E0 ePK_STE_STE20_STK24",
           "Q9Y6E0",
           "STE"
          ],
          [
           "Q9Y6R4 ePK_STE_STE11_M3K4",
           "Q9Y6R4",
           "STE"
          ]
         ],
         "hovertemplate": "<b>%{hovertext}</b><br><br>label=%{customdata[2]}<br>pm1=%{x}<br>pm2=%{y}<br>proteins_id=%{customdata[0]}<br>accession=%{customdata[1]}<extra></extra>",
         "hovertext": [
          "STE",
          "STE",
          "STE",
          "STE",
          "STE",
          "STE",
          "STE",
          "STE",
          "STE",
          "STE",
          "STE",
          "STE",
          "STE",
          "STE",
          "STE",
          "STE",
          "STE",
          "STE",
          "STE",
          "STE",
          "STE",
          "STE",
          "STE",
          "STE",
          "STE",
          "STE",
          "STE",
          "STE",
          "STE",
          "STE",
          "STE",
          "STE",
          "STE",
          "STE",
          "STE",
          "STE",
          "STE",
          "STE",
          "STE",
          "STE",
          "STE",
          "STE",
          "STE",
          "STE",
          "STE",
          "STE",
          "STE"
         ],
         "legendgroup": "STE",
         "marker": {
          "color": "#FF6692",
          "symbol": "circle"
         },
         "mode": "markers",
         "name": "STE",
         "orientation": "v",
         "showlegend": true,
         "type": "scatter",
         "x": [
          -0.8065792,
          -0.8588561,
          -0.80957156,
          -0.7793996,
          -0.8492164,
          -0.8318682,
          -0.7303961,
          -0.8244142,
          -0.85250473,
          -0.70933276,
          -0.85540205,
          -0.85049266,
          -0.84352016,
          -0.84422976,
          -0.7623091,
          -0.7973006,
          -0.816771,
          -0.84672636,
          -0.8207654,
          -0.7857508,
          -0.8118028,
          -0.8576855,
          -0.86564827,
          -0.8106802,
          -0.8284503,
          -0.75487,
          -0.7491527,
          -0.73831385,
          -0.7129531,
          -0.7456098,
          -0.76724946,
          -0.66019547,
          -0.86391526,
          -0.8643601,
          -0.8401865,
          -0.76493305,
          -0.81169385,
          -0.8307592,
          -0.8199055,
          -0.7923274,
          -0.8275869,
          -0.72832614,
          -0.8182123,
          -0.8474241,
          -0.7760036,
          -0.8026888,
          -0.83134115
         ],
         "xaxis": "x",
         "y": [
          0.513406,
          0.4021374,
          0.5014,
          0.532193,
          0.23084308,
          0.4632647,
          0.55359966,
          0.47043198,
          0.39054596,
          0.19549198,
          0.40792012,
          0.4186688,
          0.412714,
          0.3961119,
          0.54605484,
          0.49969974,
          0.49987233,
          0.40147448,
          0.49355215,
          0.4898119,
          0.2581047,
          0.2559439,
          0.23137835,
          0.45426202,
          0.3970213,
          0.5659042,
          0.528552,
          0.56590676,
          0.55471575,
          0.5539702,
          0.55257434,
          0.20735018,
          0.21825276,
          0.2442778,
          0.3688239,
          0.5361149,
          0.4707614,
          0.474758,
          0.47900352,
          0.5086735,
          0.45338127,
          0.5643633,
          0.46620056,
          0.24117848,
          0.5462574,
          0.5090375,
          0.21573466
         ],
         "yaxis": "y"
        },
        {
         "customdata": [
          [
           "O15146 ePK_TK_Musk_MUSK",
           "O15146",
           "TK"
          ],
          [
           "O15197 ePK_TK_Eph_EPHB6",
           "O15197",
           "TK"
          ],
          [
           "O60674|1 ePK_TK_Jak_JAK2",
           "O60674|1",
           "TK"
          ],
          [
           "O60674|2 ePK_TK_Jak-b_JAK2",
           "O60674|2",
           "TK"
          ],
          [
           "P00519 ePK_TK_Abl_ABL1",
           "P00519",
           "TK"
          ],
          [
           "P00533 ePK_TK_EGFR_EGFR",
           "P00533",
           "TK"
          ],
          [
           "P04626 ePK_TK_EGFR_ERBB2",
           "P04626",
           "TK"
          ],
          [
           "P04629 ePK_TK_Trk_NTRK1",
           "P04629",
           "TK"
          ],
          [
           "P06213 ePK_TK_InsR_INSR",
           "P06213",
           "TK"
          ],
          [
           "P06239 ePK_TK_Src_LCK",
           "P06239",
           "TK"
          ],
          [
           "P06241 ePK_TK_Src_FYN",
           "P06241",
           "TK"
          ],
          [
           "P07332 ePK_TK_Fer_FES",
           "P07332",
           "TK"
          ],
          [
           "P07333 ePK_TK_PDGFR_CSF1R",
           "P07333",
           "TK"
          ],
          [
           "P07947 ePK_TK_Src_YES",
           "P07947",
           "TK"
          ],
          [
           "P07948 ePK_TK_Src_LYN",
           "P07948",
           "TK"
          ],
          [
           "P07949 ePK_TK_Ret_RET",
           "P07949",
           "TK"
          ],
          [
           "P08069 ePK_TK_InsR_IGF1R",
           "P08069",
           "TK"
          ],
          [
           "P08581 ePK_TK_Met_MET",
           "P08581",
           "TK"
          ],
          [
           "P08631 ePK_TK_Src_HCK",
           "P08631",
           "TK"
          ],
          [
           "P08922 ePK_TK_Sev_ROS1",
           "P08922",
           "TK"
          ],
          [
           "P09619 ePK_TK_PDGFR_PGFRB",
           "P09619",
           "TK"
          ],
          [
           "P09769 ePK_TK_Src_FGR",
           "P09769",
           "TK"
          ],
          [
           "P10721 ePK_TK_PDGFR_KIT",
           "P10721",
           "TK"
          ],
          [
           "P11362 ePK_TK_FGFR_FGFR1",
           "P11362",
           "TK"
          ],
          [
           "P12931 ePK_TK_Src_SRC",
           "P12931",
           "TK"
          ],
          [
           "P14616 ePK_TK_InsR_INSRR",
           "P14616",
           "TK"
          ],
          [
           "P16234 ePK_TK_PDGFR_PGFRA",
           "P16234",
           "TK"
          ],
          [
           "P16591 ePK_TK_Fer_FER",
           "P16591",
           "TK"
          ],
          [
           "P17948 ePK_TK_VEGFR_VGFR1",
           "P17948",
           "TK"
          ],
          [
           "P21709 ePK_TK_Eph_EPHA1",
           "P21709",
           "TK"
          ],
          [
           "P21802 ePK_TK_FGFR_FGFR2",
           "P21802",
           "TK"
          ],
          [
           "P21860 ePK_TK_EGFR_ERBB3",
           "P21860",
           "TK"
          ],
          [
           "P22455 ePK_TK_FGFR_FGFR4",
           "P22455",
           "TK"
          ],
          [
           "P22607 ePK_TK_FGFR_FGFR3",
           "P22607",
           "TK"
          ],
          [
           "P23458|1 ePK_TK_Jak_JAK1",
           "P23458|1",
           "TK"
          ],
          [
           "P23458|2 ePK_TK_Jak-b_JAK1",
           "P23458|2",
           "TK"
          ],
          [
           "P29317 ePK_TK_Eph_EPHA2",
           "P29317",
           "TK"
          ],
          [
           "P29320 ePK_TK_Eph_EPHA3",
           "P29320",
           "TK"
          ],
          [
           "P29322 ePK_TK_Eph_EPHA8",
           "P29322",
           "TK"
          ],
          [
           "P29323 ePK_TK_Eph_EPHB2",
           "P29323",
           "TK"
          ],
          [
           "P29376 ePK_TK_ALK_LTK",
           "P29376",
           "TK"
          ],
          [
           "P29597|1 ePK_TK_Jak_TYK2",
           "P29597|1",
           "TK"
          ],
          [
           "P29597|2 ePK_TK_Jak-b_TYK2",
           "P29597|2",
           "TK"
          ],
          [
           "P30530 ePK_TK_Axl_UFO",
           "P30530",
           "TK"
          ],
          [
           "P34925 ePK_TK_Ryk_RYK",
           "P34925",
           "TK"
          ],
          [
           "P35590 ePK_TK_Tie_TIE1",
           "P35590",
           "TK"
          ],
          [
           "P35916 ePK_TK_VEGFR_VGFR3",
           "P35916",
           "TK"
          ],
          [
           "P35968 ePK_TK_VEGFR_VGFR2",
           "P35968",
           "TK"
          ],
          [
           "P36888 ePK_TK_PDGFR_FLT3",
           "P36888",
           "TK"
          ],
          [
           "P41240 ePK_TK_Csk_CSK",
           "P41240",
           "TK"
          ],
          [
           "P42679 ePK_TK_Csk_MATK",
           "P42679",
           "TK"
          ],
          [
           "P42680 ePK_TK_Tec_TEC",
           "P42680",
           "TK"
          ],
          [
           "P42681 ePK_TK_Tec_TXK",
           "P42681",
           "TK"
          ],
          [
           "P42684 ePK_TK_Abl_ABL2",
           "P42684",
           "TK"
          ],
          [
           "P42685 ePK_TK_Src_FRK",
           "P42685",
           "TK"
          ],
          [
           "P43403 ePK_TK_Syk_ZAP70",
           "P43403",
           "TK"
          ],
          [
           "P43405 ePK_TK_Syk_KSYK",
           "P43405",
           "TK"
          ],
          [
           "P51451 ePK_TK_Src_BLK",
           "P51451",
           "TK"
          ],
          [
           "P51813 ePK_TK_Tec_BMX",
           "P51813",
           "TK"
          ],
          [
           "P52333|1 ePK_TK_Jak_JAK3",
           "P52333|1",
           "TK"
          ],
          [
           "P52333|2 ePK_TK_Jak-b_JAK3",
           "P52333|2",
           "TK"
          ],
          [
           "P54753 ePK_TK_Eph_EPHB3",
           "P54753",
           "TK"
          ],
          [
           "P54756 ePK_TK_Eph_EPHA5",
           "P54756",
           "TK"
          ],
          [
           "P54760 ePK_TK_Eph_EPHB4",
           "P54760",
           "TK"
          ],
          [
           "P54762 ePK_TK_Eph_EPHB1",
           "P54762",
           "TK"
          ],
          [
           "P54764 ePK_TK_Eph_EPHA4",
           "P54764",
           "TK"
          ],
          [
           "Q01973 ePK_TK_Ror_ROR1",
           "Q01973",
           "TK"
          ],
          [
           "Q01974 ePK_TK_Ror_ROR2",
           "Q01974",
           "TK"
          ],
          [
           "Q02763 ePK_TK_Tie_TIE2",
           "Q02763",
           "TK"
          ],
          [
           "Q04912 ePK_TK_Met_RON",
           "Q04912",
           "TK"
          ],
          [
           "Q05397 ePK_TK_FAK_FAK1",
           "Q05397",
           "TK"
          ],
          [
           "Q06187 ePK_TK_Tec_BTK",
           "Q06187",
           "TK"
          ],
          [
           "Q06418 ePK_TK_Axl_TYRO3",
           "Q06418",
           "TK"
          ],
          [
           "Q07912 ePK_TK_Ack_ACK1",
           "Q07912",
           "TK"
          ],
          [
           "Q08345 ePK_TK_DDR_DDR1",
           "Q08345",
           "TK"
          ],
          [
           "Q08881 ePK_TK_Tec_ITK",
           "Q08881",
           "TK"
          ],
          [
           "Q12866 ePK_TK_Axl_MERTK",
           "Q12866",
           "TK"
          ],
          [
           "Q13308 ePK_TK_CCK4_PTK7",
           "Q13308",
           "TK"
          ],
          [
           "Q13470 ePK_TK_Ack_TNK1",
           "Q13470",
           "TK"
          ],
          [
           "Q13882 ePK_TK_Src_PTK6",
           "Q13882",
           "TK"
          ],
          [
           "Q14289 ePK_TK_FAK_FAK2",
           "Q14289",
           "TK"
          ],
          [
           "Q15303 ePK_TK_EGFR_ERBB4",
           "Q15303",
           "TK"
          ],
          [
           "Q15375 ePK_TK_Eph_EPHA7",
           "Q15375",
           "TK"
          ],
          [
           "Q16288 ePK_TK_Trk_NTRK3",
           "Q16288",
           "TK"
          ],
          [
           "Q16620 ePK_TK_Trk_NTRK2",
           "Q16620",
           "TK"
          ],
          [
           "Q16832 ePK_TK_DDR_DDR2",
           "Q16832",
           "TK"
          ],
          [
           "Q5JZY3 ePK_TK_Eph_EPHAA",
           "Q5JZY3",
           "TK"
          ],
          [
           "Q6J9G0 ePK_TK_STYK_STYK1",
           "Q6J9G0",
           "TK"
          ],
          [
           "Q6ZMQ8 ePK_TK_Lmr_LMTK1",
           "Q6ZMQ8",
           "TK"
          ],
          [
           "Q8IWU2 ePK_TK_Lmr_LMTK2",
           "Q8IWU2",
           "TK"
          ],
          [
           "Q96Q04 ePK_TK_Lmr_LMTK3",
           "Q96Q04",
           "TK"
          ],
          [
           "Q9H3Y6 ePK_TK_Src_SRMS",
           "Q9H3Y6",
           "TK"
          ],
          [
           "Q9UF33 ePK_TK_Eph_EPHA6",
           "Q9UF33",
           "TK"
          ],
          [
           "Q9UM73 ePK_TK_ALK_ALK",
           "Q9UM73",
           "TK"
          ]
         ],
         "hovertemplate": "<b>%{hovertext}</b><br><br>label=%{customdata[2]}<br>pm1=%{x}<br>pm2=%{y}<br>proteins_id=%{customdata[0]}<br>accession=%{customdata[1]}<extra></extra>",
         "hovertext": [
          "TK",
          "TK",
          "TK",
          "TK",
          "TK",
          "TK",
          "TK",
          "TK",
          "TK",
          "TK",
          "TK",
          "TK",
          "TK",
          "TK",
          "TK",
          "TK",
          "TK",
          "TK",
          "TK",
          "TK",
          "TK",
          "TK",
          "TK",
          "TK",
          "TK",
          "TK",
          "TK",
          "TK",
          "TK",
          "TK",
          "TK",
          "TK",
          "TK",
          "TK",
          "TK",
          "TK",
          "TK",
          "TK",
          "TK",
          "TK",
          "TK",
          "TK",
          "TK",
          "TK",
          "TK",
          "TK",
          "TK",
          "TK",
          "TK",
          "TK",
          "TK",
          "TK",
          "TK",
          "TK",
          "TK",
          "TK",
          "TK",
          "TK",
          "TK",
          "TK",
          "TK",
          "TK",
          "TK",
          "TK",
          "TK",
          "TK",
          "TK",
          "TK",
          "TK",
          "TK",
          "TK",
          "TK",
          "TK",
          "TK",
          "TK",
          "TK",
          "TK",
          "TK",
          "TK",
          "TK",
          "TK",
          "TK",
          "TK",
          "TK",
          "TK",
          "TK",
          "TK",
          "TK",
          "TK",
          "TK",
          "TK",
          "TK",
          "TK",
          "TK"
         ],
         "legendgroup": "TK",
         "marker": {
          "color": "#B6E880",
          "symbol": "circle"
         },
         "mode": "markers",
         "name": "TK",
         "orientation": "v",
         "showlegend": true,
         "type": "scatter",
         "x": [
          0.6156954,
          0.5527334,
          0.43604246,
          0.5184415,
          0.53479224,
          0.57429624,
          0.573142,
          0.6168154,
          0.6827567,
          0.5214652,
          0.5208654,
          0.5466882,
          0.6769963,
          0.5213723,
          0.5262561,
          0.67980736,
          0.67830175,
          0.65549374,
          0.5247352,
          0.6791742,
          0.6792051,
          0.515989,
          0.6775213,
          0.68881536,
          0.5175506,
          0.6842616,
          0.6792622,
          0.5524923,
          0.67538965,
          0.5762087,
          0.6874436,
          0.55601877,
          0.69141847,
          0.68560785,
          0.41902557,
          0.49675408,
          0.59011686,
          0.59344065,
          0.59670407,
          0.5958711,
          0.68792516,
          0.3572886,
          0.5345326,
          0.664364,
          0.6237567,
          0.6686662,
          0.6756887,
          0.67659765,
          0.6775841,
          0.5394055,
          0.543307,
          0.5489153,
          0.55549526,
          0.5392498,
          0.5276015,
          0.53336775,
          0.53021157,
          0.51440316,
          0.5462435,
          0.3990022,
          0.54038715,
          0.5910747,
          0.5980395,
          0.58616567,
          0.59275174,
          0.5953842,
          0.61206514,
          0.59963286,
          0.6622804,
          0.63955456,
          0.5766116,
          0.5490466,
          0.6524207,
          0.5791819,
          0.6099768,
          0.5511701,
          0.66443586,
          0.6379373,
          0.5517591,
          0.5567181,
          0.56790316,
          0.5724564,
          0.59998345,
          0.6155232,
          0.6234255,
          0.6179899,
          0.56757116,
          0.557851,
          0.59082454,
          0.5332033,
          0.5767442,
          0.5300587,
          0.61076736,
          0.69154805
         ],
         "xaxis": "x",
         "y": [
          -0.69698423,
          -0.73240244,
          -0.68334407,
          -0.72782975,
          -0.80933505,
          -0.7846758,
          -0.7829321,
          -0.70787287,
          -0.67577314,
          -0.8171302,
          -0.822215,
          -0.76774925,
          -0.7210973,
          -0.82441676,
          -0.81630635,
          -0.6955044,
          -0.66320986,
          -0.66544443,
          -0.82234025,
          -0.64752996,
          -0.7213725,
          -0.8243045,
          -0.72032475,
          -0.6904413,
          -0.821178,
          -0.65766156,
          -0.7198423,
          -0.77098197,
          -0.72127455,
          -0.76189625,
          -0.6872964,
          -0.7445927,
          -0.68553495,
          -0.6897331,
          -0.70247275,
          -0.7183421,
          -0.7694285,
          -0.7622985,
          -0.7557017,
          -0.7605671,
          -0.6461802,
          -0.7065853,
          -0.69432026,
          -0.6643202,
          -0.6336121,
          -0.68025,
          -0.72276264,
          -0.71813905,
          -0.72222674,
          -0.7755876,
          -0.7710112,
          -0.78872126,
          -0.7984483,
          -0.8088921,
          -0.8031807,
          -0.749497,
          -0.75571203,
          -0.8160473,
          -0.80290097,
          -0.6896404,
          -0.712132,
          -0.75719786,
          -0.7649144,
          -0.7595227,
          -0.7649324,
          -0.7659034,
          -0.67709905,
          -0.6723823,
          -0.6742677,
          -0.66999793,
          -0.7741712,
          -0.8005717,
          -0.65034145,
          -0.76164126,
          -0.70316994,
          -0.7961536,
          -0.65393233,
          -0.66035676,
          -0.73556983,
          -0.75939566,
          -0.7891522,
          -0.78395987,
          -0.76277,
          -0.70197093,
          -0.69569755,
          -0.69788,
          -0.73504543,
          -0.69004,
          -0.6413005,
          -0.6337538,
          -0.6669496,
          -0.77227163,
          -0.7284509,
          -0.6651934
         ],
         "yaxis": "y"
        },
        {
         "customdata": [
          [
           "O15264 ePK_CMGC_MAPK_MK13",
           "O15264",
           "CMGC"
          ],
          [
           "O43781 ePK_CMGC_DYRK_DYRK3",
           "O43781",
           "CMGC"
          ],
          [
           "O76039 ePK_CMGC_CDKL_CDKL5",
           "O76039",
           "CMGC"
          ],
          [
           "O94921 ePK_CMGC_CDK_CDK14",
           "O94921",
           "CMGC"
          ],
          [
           "P06493 ePK_CMGC_CDK_CDK1",
           "P06493",
           "CMGC"
          ],
          [
           "P11802 ePK_CMGC_CDK_CDK4",
           "P11802",
           "CMGC"
          ],
          [
           "P19784 ePK_CMGC_CK2_CSK22",
           "P19784",
           "CMGC"
          ],
          [
           "P20794 ePK_CMGC_RCK_MAK",
           "P20794",
           "CMGC"
          ],
          [
           "P21127 ePK_CMGC_CDK_CD11B",
           "P21127",
           "CMGC"
          ],
          [
           "P24941 ePK_CMGC_CDK_CDK2",
           "P24941",
           "CMGC"
          ],
          [
           "P27361 ePK_CMGC_MAPK_MK03",
           "P27361",
           "CMGC"
          ],
          [
           "P28482 ePK_CMGC_MAPK_MK01",
           "P28482",
           "CMGC"
          ],
          [
           "P31152 ePK_CMGC_MAPK_MK04",
           "P31152",
           "CMGC"
          ],
          [
           "P45983 ePK_CMGC_MAPK_MK08",
           "P45983",
           "CMGC"
          ],
          [
           "P45984 ePK_CMGC_MAPK_MK09",
           "P45984",
           "CMGC"
          ],
          [
           "P49336 ePK_CMGC_CDK_CDK8",
           "P49336",
           "CMGC"
          ],
          [
           "P49759 ePK_CMGC_CLK_CLK1",
           "P49759",
           "CMGC"
          ],
          [
           "P49760 ePK_CMGC_CLK_CLK2",
           "P49760",
           "CMGC"
          ],
          [
           "P49761 ePK_CMGC_CLK_CLK3",
           "P49761",
           "CMGC"
          ],
          [
           "P49840 ePK_CMGC_GSK_GSK3A",
           "P49840",
           "CMGC"
          ],
          [
           "P49841 ePK_CMGC_GSK_GSK3B",
           "P49841",
           "CMGC"
          ],
          [
           "P50613 ePK_CMGC_CDK_CDK7",
           "P50613",
           "CMGC"
          ],
          [
           "P50750 ePK_CMGC_CDK_CDK9",
           "P50750",
           "CMGC"
          ],
          [
           "P53778 ePK_CMGC_MAPK_MK12",
           "P53778",
           "CMGC"
          ],
          [
           "P53779 ePK_CMGC_MAPK_MK10",
           "P53779",
           "CMGC"
          ],
          [
           "P68400 ePK_CMGC_CK2_CSK21",
           "P68400",
           "CMGC"
          ],
          [
           "P78362 ePK_CMGC_SRPK_SRPK2",
           "P78362",
           "CMGC"
          ],
          [
           "Q00526 ePK_CMGC_CDK_CDK3",
           "Q00526",
           "CMGC"
          ],
          [
           "Q00532 ePK_CMGC_CDKL_CDKL1",
           "Q00532",
           "CMGC"
          ],
          [
           "Q00534 ePK_CMGC_CDK_CDK6",
           "Q00534",
           "CMGC"
          ],
          [
           "Q00535 ePK_CMGC_CDK_CDK5",
           "Q00535",
           "CMGC"
          ],
          [
           "Q00536 ePK_CMGC_CDK_CDK16",
           "Q00536",
           "CMGC"
          ],
          [
           "Q00537 ePK_CMGC_CDK_CDK17",
           "Q00537",
           "CMGC"
          ],
          [
           "Q07002 ePK_CMGC_CDK_CDK18",
           "Q07002",
           "CMGC"
          ],
          [
           "Q13164 ePK_CMGC_MAPK_MK07",
           "Q13164",
           "CMGC"
          ],
          [
           "Q13523 ePK_CMGC_DYRK_PRP4B",
           "Q13523",
           "CMGC"
          ],
          [
           "Q13627 ePK_CMGC_DYRK_DYR1A",
           "Q13627",
           "CMGC"
          ],
          [
           "Q14004 ePK_CMGC_CDK_CDK13",
           "Q14004",
           "CMGC"
          ],
          [
           "Q15131 ePK_CMGC_CDK_CDK10",
           "Q15131",
           "CMGC"
          ],
          [
           "Q15759 ePK_CMGC_MAPK_MK11",
           "Q15759",
           "CMGC"
          ],
          [
           "Q16539 ePK_CMGC_MAPK_MK14",
           "Q16539",
           "CMGC"
          ],
          [
           "Q16659 ePK_CMGC_MAPK_MK06",
           "Q16659",
           "CMGC"
          ],
          [
           "Q5MAI5 ePK_CMGC_CDKL_CDKL4",
           "Q5MAI5",
           "CMGC"
          ],
          [
           "Q86Z02 ePK_CMGC_DYRK_HIPK1",
           "Q86Z02",
           "CMGC"
          ],
          [
           "Q8IVW4 ePK_CMGC_CDKL_CDKL3",
           "Q8IVW4",
           "CMGC"
          ],
          [
           "Q8IZL9 ePK_CMGC_CDK_CDK20",
           "Q8IZL9",
           "CMGC"
          ],
          [
           "Q8NE63 ePK_CMGC_DYRK_HIPK4",
           "Q8NE63",
           "CMGC"
          ],
          [
           "Q8NEV1 ePK_CMGC_CK23_CSK23",
           "Q8NEV1",
           "CMGC"
          ],
          [
           "Q8TD08 ePK_CMGC_MAPK_MK15",
           "Q8TD08",
           "CMGC"
          ],
          [
           "Q92630 ePK_CMGC_DYRK_DYRK2",
           "Q92630",
           "CMGC"
          ],
          [
           "Q92772 ePK_CMGC_CDKL_CDKL2",
           "Q92772",
           "CMGC"
          ],
          [
           "Q96Q40 ePK_CMGC_CDK_CDK15",
           "Q96Q40",
           "CMGC"
          ],
          [
           "Q96SB4 ePK_CMGC_SRPK_SRPK1",
           "Q96SB4",
           "CMGC"
          ],
          [
           "Q9BWU1 ePK_CMGC_CDK_CDK19",
           "Q9BWU1",
           "CMGC"
          ],
          [
           "Q9H2X6 ePK_CMGC_DYRK_HIPK2",
           "Q9H2X6",
           "CMGC"
          ],
          [
           "Q9H422 ePK_CMGC_DYRK_HIPK3",
           "Q9H422",
           "CMGC"
          ],
          [
           "Q9HAZ1 ePK_CMGC_CLK_CLK4",
           "Q9HAZ1",
           "CMGC"
          ],
          [
           "Q9NR20 ePK_CMGC_DYRK_DYRK4",
           "Q9NR20",
           "CMGC"
          ],
          [
           "Q9NYV4 ePK_CMGC_CDK_CDK12",
           "Q9NYV4",
           "CMGC"
          ],
          [
           "Q9UBE8 ePK_CMGC_MAPK_NLK",
           "Q9UBE8",
           "CMGC"
          ],
          [
           "Q9UPE1 ePK_CMGC_SRPK_SRPK3",
           "Q9UPE1",
           "CMGC"
          ],
          [
           "Q9UPZ9 ePK_CMGC_RCK_ICK",
           "Q9UPZ9",
           "CMGC"
          ],
          [
           "Q9UQ07 ePK_CMGC_RCK_MOK",
           "Q9UQ07",
           "CMGC"
          ],
          [
           "Q9UQ88 ePK_CMGC_CDK_CD11A",
           "Q9UQ88",
           "CMGC"
          ],
          [
           "Q9Y463 ePK_CMGC_DYRK_DYR1B",
           "Q9Y463",
           "CMGC"
          ]
         ],
         "hovertemplate": "<b>%{hovertext}</b><br><br>label=%{customdata[2]}<br>pm1=%{x}<br>pm2=%{y}<br>proteins_id=%{customdata[0]}<br>accession=%{customdata[1]}<extra></extra>",
         "hovertext": [
          "CMGC",
          "CMGC",
          "CMGC",
          "CMGC",
          "CMGC",
          "CMGC",
          "CMGC",
          "CMGC",
          "CMGC",
          "CMGC",
          "CMGC",
          "CMGC",
          "CMGC",
          "CMGC",
          "CMGC",
          "CMGC",
          "CMGC",
          "CMGC",
          "CMGC",
          "CMGC",
          "CMGC",
          "CMGC",
          "CMGC",
          "CMGC",
          "CMGC",
          "CMGC",
          "CMGC",
          "CMGC",
          "CMGC",
          "CMGC",
          "CMGC",
          "CMGC",
          "CMGC",
          "CMGC",
          "CMGC",
          "CMGC",
          "CMGC",
          "CMGC",
          "CMGC",
          "CMGC",
          "CMGC",
          "CMGC",
          "CMGC",
          "CMGC",
          "CMGC",
          "CMGC",
          "CMGC",
          "CMGC",
          "CMGC",
          "CMGC",
          "CMGC",
          "CMGC",
          "CMGC",
          "CMGC",
          "CMGC",
          "CMGC",
          "CMGC",
          "CMGC",
          "CMGC",
          "CMGC",
          "CMGC",
          "CMGC",
          "CMGC",
          "CMGC",
          "CMGC"
         ],
         "legendgroup": "CMGC",
         "marker": {
          "color": "#FF97FF",
          "symbol": "circle"
         },
         "mode": "markers",
         "name": "CMGC",
         "orientation": "v",
         "showlegend": true,
         "type": "scatter",
         "x": [
          -0.85110193,
          -0.87754726,
          -0.8318693,
          -0.80020314,
          -0.7867132,
          -0.80943596,
          -0.8302139,
          -0.8305863,
          -0.80925936,
          -0.78507835,
          -0.8546288,
          -0.8552679,
          -0.8283393,
          -0.8521671,
          -0.85265964,
          -0.82214457,
          -0.87171566,
          -0.8613481,
          -0.8491,
          -0.8457843,
          -0.84923446,
          -0.81560934,
          -0.8097976,
          -0.85021466,
          -0.85383147,
          -0.842606,
          -0.58913606,
          -0.7880838,
          -0.8378115,
          -0.7968111,
          -0.79113,
          -0.79728585,
          -0.7946506,
          -0.7983719,
          -0.852971,
          -0.83509314,
          -0.8743235,
          -0.8026195,
          -0.80743396,
          -0.85127723,
          -0.85360426,
          -0.82732904,
          -0.84642714,
          -0.8709418,
          -0.8486598,
          -0.8133201,
          -0.82984513,
          -0.8351063,
          -0.84530646,
          -0.8855747,
          -0.8263261,
          -0.80417395,
          -0.58942443,
          -0.8173584,
          -0.8749554,
          -0.8604501,
          -0.86091226,
          -0.8918626,
          -0.80478334,
          -0.85231656,
          -0.83682036,
          -0.83722717,
          -0.83988434,
          -0.81182903,
          -0.8658615
         ],
         "xaxis": "x",
         "y": [
          -0.5009656,
          -0.1874317,
          -0.4307057,
          -0.5263378,
          -0.5290709,
          -0.50533164,
          -0.4021791,
          -0.44349808,
          -0.5352124,
          -0.5400204,
          -0.49735072,
          -0.49630398,
          -0.49144804,
          -0.5038424,
          -0.5027225,
          -0.456115,
          -0.2788625,
          -0.27547288,
          -0.26880977,
          -0.44919586,
          -0.44761017,
          -0.51266915,
          -0.53990084,
          -0.50252384,
          -0.50272083,
          -0.4147155,
          -0.29075605,
          -0.53551626,
          -0.4426291,
          -0.4923769,
          -0.5227196,
          -0.5330967,
          -0.53632575,
          -0.5259565,
          -0.49524105,
          -0.30046904,
          -0.17869566,
          -0.54434466,
          -0.52707845,
          -0.49793684,
          -0.49990714,
          -0.50284183,
          -0.4410391,
          -0.22381437,
          -0.43243596,
          -0.4946972,
          -0.2557288,
          -0.41633555,
          -0.49780402,
          -0.19880147,
          -0.436049,
          -0.5177408,
          -0.29087356,
          -0.4539646,
          -0.26123503,
          -0.25235406,
          -0.28422326,
          -0.19166356,
          -0.54181546,
          -0.49689084,
          -0.15752734,
          -0.4491887,
          -0.42564207,
          -0.5297709,
          -0.1925033
         ],
         "yaxis": "y"
        },
        {
         "customdata": [
          [
           "P16066 ePK_RGC__ANPRA",
           "P16066",
           "RGC"
          ],
          [
           "P20594 ePK_RGC__ANPRB",
           "P20594",
           "RGC"
          ],
          [
           "P25092 ePK_RGC__GUC2C",
           "P25092",
           "RGC"
          ],
          [
           "P51841 ePK_RGC__GUC2F",
           "P51841",
           "RGC"
          ],
          [
           "Q02846 ePK_RGC__GUC2D",
           "Q02846",
           "RGC"
          ]
         ],
         "hovertemplate": "<b>%{hovertext}</b><br><br>label=%{customdata[2]}<br>pm1=%{x}<br>pm2=%{y}<br>proteins_id=%{customdata[0]}<br>accession=%{customdata[1]}<extra></extra>",
         "hovertext": [
          "RGC",
          "RGC",
          "RGC",
          "RGC",
          "RGC"
         ],
         "legendgroup": "RGC",
         "marker": {
          "color": "#FECB52",
          "symbol": "circle"
         },
         "mode": "markers",
         "name": "RGC",
         "orientation": "v",
         "showlegend": true,
         "type": "scatter",
         "x": [
          0.32711765,
          0.32546026,
          0.3422851,
          0.30983168,
          0.19864324
         ],
         "xaxis": "x",
         "y": [
          -0.7974712,
          -0.79530114,
          -0.7770609,
          -0.7821818,
          -0.79634225
         ],
         "yaxis": "y"
        },
        {
         "customdata": [
          [
           "P48729 ePK_CK1_CK1-A_KC1A",
           "P48729",
           "CK1"
          ],
          [
           "P48730 ePK_CK1_CK1-D_KC1D",
           "P48730",
           "CK1"
          ],
          [
           "P49674 ePK_CK1_CK1-D_KC1E",
           "P49674",
           "CK1"
          ],
          [
           "P78368 ePK_CK1_CK1-G_KC1G2",
           "P78368",
           "CK1"
          ],
          [
           "Q5TCY1 ePK_CK1_TTBK_TTBK1",
           "Q5TCY1",
           "CK1"
          ],
          [
           "Q6IQ55 ePK_CK1_TTBK_TTBK2",
           "Q6IQ55",
           "CK1"
          ],
          [
           "Q86Y07 ePK_CK1_VRK_VRK2",
           "Q86Y07",
           "CK1"
          ],
          [
           "Q8IV63 ePK_CK1_VRK_VRK3",
           "Q8IV63",
           "CK1"
          ],
          [
           "Q8N752 ePK_CK1_CK1-A_KC1AL",
           "Q8N752",
           "CK1"
          ],
          [
           "Q99986 ePK_CK1_VRK_VRK1",
           "Q99986",
           "CK1"
          ],
          [
           "Q9HCP0 ePK_CK1_CK1-G_KC1G1",
           "Q9HCP0",
           "CK1"
          ],
          [
           "Q9Y6M4 ePK_CK1_CK1-G_KC1G3",
           "Q9Y6M4",
           "CK1"
          ]
         ],
         "hovertemplate": "<b>%{hovertext}</b><br><br>label=%{customdata[2]}<br>pm1=%{x}<br>pm2=%{y}<br>proteins_id=%{customdata[0]}<br>accession=%{customdata[1]}<extra></extra>",
         "hovertext": [
          "CK1",
          "CK1",
          "CK1",
          "CK1",
          "CK1",
          "CK1",
          "CK1",
          "CK1",
          "CK1",
          "CK1",
          "CK1",
          "CK1"
         ],
         "legendgroup": "CK1",
         "marker": {
          "color": "#636efa",
          "symbol": "circle"
         },
         "mode": "markers",
         "name": "CK1",
         "orientation": "v",
         "showlegend": true,
         "type": "scatter",
         "x": [
          -0.4379442,
          -0.42831585,
          -0.44677415,
          -0.4563723,
          -0.44019368,
          -0.4604394,
          -0.47504458,
          -0.44882855,
          -0.4389558,
          -0.45527327,
          -0.44687617,
          -0.44626656
         ],
         "xaxis": "x",
         "y": [
          -0.8354092,
          -0.83005106,
          -0.8345158,
          -0.8291027,
          -0.76669174,
          -0.77407354,
          -0.76823926,
          -0.72930276,
          -0.82576406,
          -0.7613227,
          -0.82571954,
          -0.8062184
         ],
         "yaxis": "y"
        },
        {
         "customdata": [
          [
           "P51955 ePK_NEK_NEK2_NEK2",
           "P51955",
           "NEK"
          ],
          [
           "P51956 ePK_NEK_NEK1_NEK3",
           "P51956",
           "NEK"
          ],
          [
           "P51957 ePK_NEK_NEK4_NEK4",
           "P51957",
           "NEK"
          ],
          [
           "Q6P3R8 ePK_NEK_NEK1_NEK5",
           "Q6P3R8",
           "NEK"
          ],
          [
           "Q6ZWH5 ePK_NEK_NEK10_NEK10",
           "Q6ZWH5",
           "NEK"
          ],
          [
           "Q86SG6 ePK_NEK_NEK8_NEK8",
           "Q86SG6",
           "NEK"
          ],
          [
           "Q8NG66 ePK_NEK_NEK11_NEK11",
           "Q8NG66",
           "NEK"
          ],
          [
           "Q8TD19 ePK_NEK_NEK9_NEK9",
           "Q8TD19",
           "NEK"
          ],
          [
           "Q8TDX7 ePK_NEK_NEK6_NEK7",
           "Q8TDX7",
           "NEK"
          ],
          [
           "Q96PY6 ePK_NEK_NEK1_NEK1",
           "Q96PY6",
           "NEK"
          ],
          [
           "Q9HC98 ePK_NEK_NEK6_NEK6",
           "Q9HC98",
           "NEK"
          ]
         ],
         "hovertemplate": "<b>%{hovertext}</b><br><br>label=%{customdata[2]}<br>pm1=%{x}<br>pm2=%{y}<br>proteins_id=%{customdata[0]}<br>accession=%{customdata[1]}<extra></extra>",
         "hovertext": [
          "NEK",
          "NEK",
          "NEK",
          "NEK",
          "NEK",
          "NEK",
          "NEK",
          "NEK",
          "NEK",
          "NEK",
          "NEK"
         ],
         "legendgroup": "NEK",
         "marker": {
          "color": "#EF553B",
          "symbol": "circle"
         },
         "mode": "markers",
         "name": "NEK",
         "orientation": "v",
         "showlegend": true,
         "type": "scatter",
         "x": [
          0.53117424,
          0.53033155,
          0.5310414,
          0.5319629,
          0.51844543,
          0.53284454,
          0.53091645,
          0.5308708,
          0.5303482,
          0.52757704,
          0.530426
         ],
         "xaxis": "x",
         "y": [
          0.080653094,
          0.078206256,
          0.08243182,
          0.081308365,
          0.069491245,
          0.08180294,
          0.0808895,
          0.08062128,
          0.08062837,
          0.08299846,
          0.08085107
         ],
         "yaxis": "y"
        }
       ],
       "layout": {
        "font": {
         "size": 11
        },
        "height": 800,
        "legend": {
         "title": {
          "text": "label"
         },
         "tracegroupgap": 0
        },
        "plot_bgcolor": "rgba(0, 0, 0, 0)",
        "shapes": [
         {
          "line": {
           "color": "black",
           "dash": "dot"
          },
          "opacity": 0.15,
          "type": "circle",
          "x0": -0.47058823529411764,
          "x1": 0.47058823529411764,
          "y0": -0.47058823529411764,
          "y1": 0.47058823529411764
         },
         {
          "line": {
           "color": "black",
           "dash": "dot"
          },
          "opacity": 0.15,
          "type": "circle",
          "x0": -0.644736842105263,
          "x1": 0.644736842105263,
          "y0": -0.644736842105263,
          "y1": 0.644736842105263
         },
         {
          "line": {
           "color": "black",
           "dash": "dot"
          },
          "opacity": 0.15,
          "type": "circle",
          "x0": -0.7705382436260623,
          "x1": 0.7705382436260623,
          "y0": -0.7705382436260623,
          "y1": 0.7705382436260623
         },
         {
          "line": {
           "color": "black",
           "dash": "dot"
          },
          "opacity": 0.15,
          "type": "circle",
          "x0": -0.8557007125890735,
          "x1": 0.8557007125890735,
          "y0": -0.8557007125890735,
          "y1": 0.8557007125890735
         },
         {
          "line": {
           "color": "black",
           "dash": "dot"
          },
          "opacity": 0.15,
          "type": "circle",
          "x0": -0.9108474990827932,
          "x1": 0.9108474990827932,
          "y0": -0.9108474990827932,
          "y1": 0.9108474990827932
         },
         {
          "line": {
           "color": "black",
           "dash": "dot"
          },
          "opacity": 0.15,
          "type": "circle",
          "x0": -0.9455374041239167,
          "x1": 0.9455374041239167,
          "y0": -0.9455374041239167,
          "y1": 0.9455374041239167
         },
         {
          "line": {
           "color": "Black"
          },
          "type": "circle",
          "x0": -1,
          "x1": 1,
          "xref": "x",
          "y0": -1,
          "y1": 1,
          "yref": "y"
         },
         {
          "fillcolor": "Black",
          "line": {
           "color": "Black"
          },
          "type": "circle",
          "x0": -0.005,
          "x1": 0.005,
          "xref": "x",
          "y0": -0.005,
          "y1": 0.005,
          "yref": "y"
         }
        ],
        "template": {
         "data": {
          "bar": [
           {
            "error_x": {
             "color": "#2a3f5f"
            },
            "error_y": {
             "color": "#2a3f5f"
            },
            "marker": {
             "line": {
              "color": "#E5ECF6",
              "width": 0.5
             },
             "pattern": {
              "fillmode": "overlay",
              "size": 10,
              "solidity": 0.2
             }
            },
            "type": "bar"
           }
          ],
          "barpolar": [
           {
            "marker": {
             "line": {
              "color": "#E5ECF6",
              "width": 0.5
             },
             "pattern": {
              "fillmode": "overlay",
              "size": 10,
              "solidity": 0.2
             }
            },
            "type": "barpolar"
           }
          ],
          "carpet": [
           {
            "aaxis": {
             "endlinecolor": "#2a3f5f",
             "gridcolor": "white",
             "linecolor": "white",
             "minorgridcolor": "white",
             "startlinecolor": "#2a3f5f"
            },
            "baxis": {
             "endlinecolor": "#2a3f5f",
             "gridcolor": "white",
             "linecolor": "white",
             "minorgridcolor": "white",
             "startlinecolor": "#2a3f5f"
            },
            "type": "carpet"
           }
          ],
          "choropleth": [
           {
            "colorbar": {
             "outlinewidth": 0,
             "ticks": ""
            },
            "type": "choropleth"
           }
          ],
          "contour": [
           {
            "colorbar": {
             "outlinewidth": 0,
             "ticks": ""
            },
            "colorscale": [
             [
              0,
              "#0d0887"
             ],
             [
              0.1111111111111111,
              "#46039f"
             ],
             [
              0.2222222222222222,
              "#7201a8"
             ],
             [
              0.3333333333333333,
              "#9c179e"
             ],
             [
              0.4444444444444444,
              "#bd3786"
             ],
             [
              0.5555555555555556,
              "#d8576b"
             ],
             [
              0.6666666666666666,
              "#ed7953"
             ],
             [
              0.7777777777777778,
              "#fb9f3a"
             ],
             [
              0.8888888888888888,
              "#fdca26"
             ],
             [
              1,
              "#f0f921"
             ]
            ],
            "type": "contour"
           }
          ],
          "contourcarpet": [
           {
            "colorbar": {
             "outlinewidth": 0,
             "ticks": ""
            },
            "type": "contourcarpet"
           }
          ],
          "heatmap": [
           {
            "colorbar": {
             "outlinewidth": 0,
             "ticks": ""
            },
            "colorscale": [
             [
              0,
              "#0d0887"
             ],
             [
              0.1111111111111111,
              "#46039f"
             ],
             [
              0.2222222222222222,
              "#7201a8"
             ],
             [
              0.3333333333333333,
              "#9c179e"
             ],
             [
              0.4444444444444444,
              "#bd3786"
             ],
             [
              0.5555555555555556,
              "#d8576b"
             ],
             [
              0.6666666666666666,
              "#ed7953"
             ],
             [
              0.7777777777777778,
              "#fb9f3a"
             ],
             [
              0.8888888888888888,
              "#fdca26"
             ],
             [
              1,
              "#f0f921"
             ]
            ],
            "type": "heatmap"
           }
          ],
          "heatmapgl": [
           {
            "colorbar": {
             "outlinewidth": 0,
             "ticks": ""
            },
            "colorscale": [
             [
              0,
              "#0d0887"
             ],
             [
              0.1111111111111111,
              "#46039f"
             ],
             [
              0.2222222222222222,
              "#7201a8"
             ],
             [
              0.3333333333333333,
              "#9c179e"
             ],
             [
              0.4444444444444444,
              "#bd3786"
             ],
             [
              0.5555555555555556,
              "#d8576b"
             ],
             [
              0.6666666666666666,
              "#ed7953"
             ],
             [
              0.7777777777777778,
              "#fb9f3a"
             ],
             [
              0.8888888888888888,
              "#fdca26"
             ],
             [
              1,
              "#f0f921"
             ]
            ],
            "type": "heatmapgl"
           }
          ],
          "histogram": [
           {
            "marker": {
             "pattern": {
              "fillmode": "overlay",
              "size": 10,
              "solidity": 0.2
             }
            },
            "type": "histogram"
           }
          ],
          "histogram2d": [
           {
            "colorbar": {
             "outlinewidth": 0,
             "ticks": ""
            },
            "colorscale": [
             [
              0,
              "#0d0887"
             ],
             [
              0.1111111111111111,
              "#46039f"
             ],
             [
              0.2222222222222222,
              "#7201a8"
             ],
             [
              0.3333333333333333,
              "#9c179e"
             ],
             [
              0.4444444444444444,
              "#bd3786"
             ],
             [
              0.5555555555555556,
              "#d8576b"
             ],
             [
              0.6666666666666666,
              "#ed7953"
             ],
             [
              0.7777777777777778,
              "#fb9f3a"
             ],
             [
              0.8888888888888888,
              "#fdca26"
             ],
             [
              1,
              "#f0f921"
             ]
            ],
            "type": "histogram2d"
           }
          ],
          "histogram2dcontour": [
           {
            "colorbar": {
             "outlinewidth": 0,
             "ticks": ""
            },
            "colorscale": [
             [
              0,
              "#0d0887"
             ],
             [
              0.1111111111111111,
              "#46039f"
             ],
             [
              0.2222222222222222,
              "#7201a8"
             ],
             [
              0.3333333333333333,
              "#9c179e"
             ],
             [
              0.4444444444444444,
              "#bd3786"
             ],
             [
              0.5555555555555556,
              "#d8576b"
             ],
             [
              0.6666666666666666,
              "#ed7953"
             ],
             [
              0.7777777777777778,
              "#fb9f3a"
             ],
             [
              0.8888888888888888,
              "#fdca26"
             ],
             [
              1,
              "#f0f921"
             ]
            ],
            "type": "histogram2dcontour"
           }
          ],
          "mesh3d": [
           {
            "colorbar": {
             "outlinewidth": 0,
             "ticks": ""
            },
            "type": "mesh3d"
           }
          ],
          "parcoords": [
           {
            "line": {
             "colorbar": {
              "outlinewidth": 0,
              "ticks": ""
             }
            },
            "type": "parcoords"
           }
          ],
          "pie": [
           {
            "automargin": true,
            "type": "pie"
           }
          ],
          "scatter": [
           {
            "fillpattern": {
             "fillmode": "overlay",
             "size": 10,
             "solidity": 0.2
            },
            "type": "scatter"
           }
          ],
          "scatter3d": [
           {
            "line": {
             "colorbar": {
              "outlinewidth": 0,
              "ticks": ""
             }
            },
            "marker": {
             "colorbar": {
              "outlinewidth": 0,
              "ticks": ""
             }
            },
            "type": "scatter3d"
           }
          ],
          "scattercarpet": [
           {
            "marker": {
             "colorbar": {
              "outlinewidth": 0,
              "ticks": ""
             }
            },
            "type": "scattercarpet"
           }
          ],
          "scattergeo": [
           {
            "marker": {
             "colorbar": {
              "outlinewidth": 0,
              "ticks": ""
             }
            },
            "type": "scattergeo"
           }
          ],
          "scattergl": [
           {
            "marker": {
             "colorbar": {
              "outlinewidth": 0,
              "ticks": ""
             }
            },
            "type": "scattergl"
           }
          ],
          "scattermapbox": [
           {
            "marker": {
             "colorbar": {
              "outlinewidth": 0,
              "ticks": ""
             }
            },
            "type": "scattermapbox"
           }
          ],
          "scatterpolar": [
           {
            "marker": {
             "colorbar": {
              "outlinewidth": 0,
              "ticks": ""
             }
            },
            "type": "scatterpolar"
           }
          ],
          "scatterpolargl": [
           {
            "marker": {
             "colorbar": {
              "outlinewidth": 0,
              "ticks": ""
             }
            },
            "type": "scatterpolargl"
           }
          ],
          "scatterternary": [
           {
            "marker": {
             "colorbar": {
              "outlinewidth": 0,
              "ticks": ""
             }
            },
            "type": "scatterternary"
           }
          ],
          "surface": [
           {
            "colorbar": {
             "outlinewidth": 0,
             "ticks": ""
            },
            "colorscale": [
             [
              0,
              "#0d0887"
             ],
             [
              0.1111111111111111,
              "#46039f"
             ],
             [
              0.2222222222222222,
              "#7201a8"
             ],
             [
              0.3333333333333333,
              "#9c179e"
             ],
             [
              0.4444444444444444,
              "#bd3786"
             ],
             [
              0.5555555555555556,
              "#d8576b"
             ],
             [
              0.6666666666666666,
              "#ed7953"
             ],
             [
              0.7777777777777778,
              "#fb9f3a"
             ],
             [
              0.8888888888888888,
              "#fdca26"
             ],
             [
              1,
              "#f0f921"
             ]
            ],
            "type": "surface"
           }
          ],
          "table": [
           {
            "cells": {
             "fill": {
              "color": "#EBF0F8"
             },
             "line": {
              "color": "white"
             }
            },
            "header": {
             "fill": {
              "color": "#C8D4E3"
             },
             "line": {
              "color": "white"
             }
            },
            "type": "table"
           }
          ]
         },
         "layout": {
          "annotationdefaults": {
           "arrowcolor": "#2a3f5f",
           "arrowhead": 0,
           "arrowwidth": 1
          },
          "autotypenumbers": "strict",
          "coloraxis": {
           "colorbar": {
            "outlinewidth": 0,
            "ticks": ""
           }
          },
          "colorscale": {
           "diverging": [
            [
             0,
             "#8e0152"
            ],
            [
             0.1,
             "#c51b7d"
            ],
            [
             0.2,
             "#de77ae"
            ],
            [
             0.3,
             "#f1b6da"
            ],
            [
             0.4,
             "#fde0ef"
            ],
            [
             0.5,
             "#f7f7f7"
            ],
            [
             0.6,
             "#e6f5d0"
            ],
            [
             0.7,
             "#b8e186"
            ],
            [
             0.8,
             "#7fbc41"
            ],
            [
             0.9,
             "#4d9221"
            ],
            [
             1,
             "#276419"
            ]
           ],
           "sequential": [
            [
             0,
             "#0d0887"
            ],
            [
             0.1111111111111111,
             "#46039f"
            ],
            [
             0.2222222222222222,
             "#7201a8"
            ],
            [
             0.3333333333333333,
             "#9c179e"
            ],
            [
             0.4444444444444444,
             "#bd3786"
            ],
            [
             0.5555555555555556,
             "#d8576b"
            ],
            [
             0.6666666666666666,
             "#ed7953"
            ],
            [
             0.7777777777777778,
             "#fb9f3a"
            ],
            [
             0.8888888888888888,
             "#fdca26"
            ],
            [
             1,
             "#f0f921"
            ]
           ],
           "sequentialminus": [
            [
             0,
             "#0d0887"
            ],
            [
             0.1111111111111111,
             "#46039f"
            ],
            [
             0.2222222222222222,
             "#7201a8"
            ],
            [
             0.3333333333333333,
             "#9c179e"
            ],
            [
             0.4444444444444444,
             "#bd3786"
            ],
            [
             0.5555555555555556,
             "#d8576b"
            ],
            [
             0.6666666666666666,
             "#ed7953"
            ],
            [
             0.7777777777777778,
             "#fb9f3a"
            ],
            [
             0.8888888888888888,
             "#fdca26"
            ],
            [
             1,
             "#f0f921"
            ]
           ]
          },
          "colorway": [
           "#636efa",
           "#EF553B",
           "#00cc96",
           "#ab63fa",
           "#FFA15A",
           "#19d3f3",
           "#FF6692",
           "#B6E880",
           "#FF97FF",
           "#FECB52"
          ],
          "font": {
           "color": "#2a3f5f"
          },
          "geo": {
           "bgcolor": "white",
           "lakecolor": "white",
           "landcolor": "#E5ECF6",
           "showlakes": true,
           "showland": true,
           "subunitcolor": "white"
          },
          "hoverlabel": {
           "align": "left"
          },
          "hovermode": "closest",
          "mapbox": {
           "style": "light"
          },
          "paper_bgcolor": "white",
          "plot_bgcolor": "#E5ECF6",
          "polar": {
           "angularaxis": {
            "gridcolor": "white",
            "linecolor": "white",
            "ticks": ""
           },
           "bgcolor": "#E5ECF6",
           "radialaxis": {
            "gridcolor": "white",
            "linecolor": "white",
            "ticks": ""
           }
          },
          "scene": {
           "xaxis": {
            "backgroundcolor": "#E5ECF6",
            "gridcolor": "white",
            "gridwidth": 2,
            "linecolor": "white",
            "showbackground": true,
            "ticks": "",
            "zerolinecolor": "white"
           },
           "yaxis": {
            "backgroundcolor": "#E5ECF6",
            "gridcolor": "white",
            "gridwidth": 2,
            "linecolor": "white",
            "showbackground": true,
            "ticks": "",
            "zerolinecolor": "white"
           },
           "zaxis": {
            "backgroundcolor": "#E5ECF6",
            "gridcolor": "white",
            "gridwidth": 2,
            "linecolor": "white",
            "showbackground": true,
            "ticks": "",
            "zerolinecolor": "white"
           }
          },
          "shapedefaults": {
           "line": {
            "color": "#2a3f5f"
           }
          },
          "ternary": {
           "aaxis": {
            "gridcolor": "white",
            "linecolor": "white",
            "ticks": ""
           },
           "baxis": {
            "gridcolor": "white",
            "linecolor": "white",
            "ticks": ""
           },
           "bgcolor": "#E5ECF6",
           "caxis": {
            "gridcolor": "white",
            "linecolor": "white",
            "ticks": ""
           }
          },
          "title": {
           "x": 0.05
          },
          "xaxis": {
           "automargin": true,
           "gridcolor": "white",
           "linecolor": "white",
           "ticks": "",
           "title": {
            "standoff": 15
           },
           "zerolinecolor": "white",
           "zerolinewidth": 2
          },
          "yaxis": {
           "automargin": true,
           "gridcolor": "white",
           "linecolor": "white",
           "ticks": "",
           "title": {
            "standoff": 15
           },
           "zerolinecolor": "white",
           "zerolinewidth": 2
          }
         }
        },
        "title": {
         "text": "PM projection of kinases with embeddings",
         "x": 0.5
        },
        "xaxis": {
         "anchor": "y",
         "constrain": "domain",
         "domain": [
          0,
          1
         ],
         "range": [
          -1.1,
          1.1
         ],
         "title": {
          "text": "pm1"
         }
        },
        "yaxis": {
         "anchor": "x",
         "domain": [
          0,
          1
         ],
         "scaleanchor": "x",
         "scaleratio": 1,
         "title": {
          "text": "pm2"
         }
        },
        "yaxis2": {
         "layer": "below traces",
         "matches": "y",
         "overlaying": "y"
        }
       }
      }
     },
     "metadata": {},
     "output_type": "display_data"
    }
   ],
   "source": [
    "# OPTIONS =================================================\n",
    "#Here you can set different parameters to color & annotate the resulting projection:\n",
    "title = \"PM projection of kinases with embeddings\" \n",
    "#----------------------------------------------------------\n",
    "# Select the coloring from annotation .csv file:\n",
    "labels_name = \"label\"\n",
    "# Select classes to label among the \"labels_name\" or \"second_labels_name\" column (comma separated list):\n",
    "second_labels_name = \"\"\n",
    "labels_text = []\n",
    "show_text = False\n",
    "#----------------------------------------------------------\n",
    "# Use a custom color palette:\n",
    "color_palette = colour_palette #Default: None\n",
    "use_custom_palette = True\n",
    "#==========================================================\n",
    "\n",
    "\n",
    "#Check projection visualization parameters\n",
    "#Labels name\n",
    "if labels_name == \"\":\n",
    "    labels_name = None\n",
    "elif labels_name not in annotation_names:\n",
    "    raise NameError(f\"labels_name {labels_name} is not in the availables annotations.\\nAvailables annotations: {annotation_names}\")\n",
    "#Second labels name\n",
    "if second_labels_name == \"\":\n",
    "    second_labels_name = None\n",
    "elif second_labels_name not in annotation_names:\n",
    "    raise NameError(f'\"second_labels_name\" {second_labels_name} is not in the availables annotations.\\nAvailables annotations: {annotation_names}')\n",
    "\n",
    "if not use_custom_palette:\n",
    "    color_palette = None\n",
    "\n",
    "#Plot graph\n",
    "fig = plot_embedding_interactive(df_embedding, \n",
    "                                 labels_name = labels_name,\n",
    "                                 second_labels_name = second_labels_name, \n",
    "                                 show_text = show_text,\n",
    "                                 labels_text = labels_text,\n",
    "                                 color_palette = color_palette, \n",
    "                                 title = title, \n",
    "                                 fontsize = 11)\n",
    "fig.show()"
   ]
  },
  {
   "cell_type": "code",
   "execution_count": null,
   "metadata": {},
   "outputs": [],
   "source": [
    "# OPTIONS =================================================\n",
    "#Here you can set different parameters to color & annotate the resulting projection:\n",
    "title = \"PM projection of thioredoxins colored by species\"\n",
    "#----------------------------------------------------------\n",
    "# Select the coloring from annotation .csv file:\n",
    "labels_name = \"Species\"\n",
    "# Select classes to label among the \"labels_name\" or \"second_labels_name\" column (comma separated list):\n",
    "second_labels_name = \"\"\n",
    "labels_text = []\n",
    "show_text = False\n",
    "#----------------------------------------------------------\n",
    "# Use a custom color palette:\n",
    "color_palette = trx_palette #Default: None\n",
    "use_custom_palette = True\n",
    "#==========================================================\n",
    "\n",
    "\n",
    "#Check projection visualization parameters\n",
    "#Labels name\n",
    "if labels_name == \"\":\n",
    "    labels_name = None\n",
    "elif labels_name not in annotation_names:\n",
    "    raise NameError(f\"labels_name {labels_name} is not in the availables annotations.\\nAvailables annotations: {annotation_names}\")\n",
    "#Second labels name\n",
    "if second_labels_name == \"\":\n",
    "    second_labels_name = None\n",
    "elif second_labels_name not in annotation_names:\n",
    "    raise NameError(f'\"second_labels_name\" {second_labels_name} is not in the availables annotations.\\nAvailables annotations: {annotation_names}')\n",
    "\n",
    "if not use_custom_palette:\n",
    "    color_palette = None\n",
    "\n",
    "#Plot graph\n",
    "fig = plot_embedding_interactive(df_embedding, \n",
    "                                 labels_name = labels_name,\n",
    "                                 second_labels_name = second_labels_name, \n",
    "                                 show_text = show_text,\n",
    "                                 labels_text = labels_text,\n",
    "                                 color_palette = color_palette, \n",
    "                                 title = title, \n",
    "                                 fontsize = 11)\n",
    "fig.show()"
   ]
  },
  {
   "cell_type": "markdown",
   "metadata": {},
   "source": [
    "### Save plot to file"
   ]
  },
  {
   "cell_type": "code",
   "execution_count": 18,
   "metadata": {},
   "outputs": [],
   "source": [
    "# OPTIONS =================================================\n",
    "output_name = \"kinase_w_embeddings\"\n",
    "output_format = \"html\" #Format availables: [\"png\", \"html\", \"pdf\", \"svg\"]\n",
    "#==========================================================\n",
    "\n",
    "\n",
    "if output_format != \"html\":\n",
    "    fig.write_image(f\"{output_name}.{output_format}\", engine=\"kaleido\")\n",
    "else:\n",
    "    fig.write_html(f\"{output_name}.{output_format}\")"
   ]
  },
  {
   "cell_type": "code",
   "execution_count": null,
   "metadata": {},
   "outputs": [],
   "source": []
  }
 ],
 "metadata": {
  "accelerator": "GPU",
  "colab": {
   "provenance": []
  },
  "gpuClass": "standard",
  "kernelspec": {
   "display_name": "poincare",
   "language": "python",
   "name": "python3"
  },
  "language_info": {
   "codemirror_mode": {
    "name": "ipython",
    "version": 3
   },
   "file_extension": ".py",
   "mimetype": "text/x-python",
   "name": "python",
   "nbconvert_exporter": "python",
   "pygments_lexer": "ipython3",
   "version": "3.12.2"
  }
 },
 "nbformat": 4,
 "nbformat_minor": 1
}
