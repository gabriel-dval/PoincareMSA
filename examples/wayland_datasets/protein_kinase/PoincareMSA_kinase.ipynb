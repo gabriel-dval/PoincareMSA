{
 "cells": [
  {
   "cell_type": "markdown",
   "metadata": {
    "id": "view-in-github"
   },
   "source": [
    "[![Open In Colab](https://colab.research.google.com/assets/colab-badge.svg)](https://colab.research.google.com/github/DSIMB/PoincareMSA/blob/master/PoincareMSA_colab.ipynb)"
   ]
  },
  {
   "cell_type": "markdown",
   "metadata": {
    "id": "W5FTaqy0xqw2"
   },
   "source": [
    "<img src=\"https://github.com/DSIMB/PoincareMSA/blob/master/.github/PoincareMSA_small_logo.png?raw=true\" height=\"100\" style=\"height:100px;margin-left: 0px;\">\n",
    "\n",
    "# Poincaré maps for visualization of large protein famillies\n",
    "\n",
    "**Authors**: Anna Klimovskaia Susmelj, Yani Ren, Yann Vander Meersche, Jean-Christophe Gelly and Tatiana Galochkina\n",
    "\n",
    "PoincaréMSA builds an interactive projection of an input protein multiple sequence alignemnt (MSA) using a method based on Poincaré maps described by Klimovskaia et al [1]. It reproduces both local proximities of protein sequences and hierarchy contained in give data. Thus, sequences located closer to the center of projection correspond to the proteins sharing the most general functional properites and/or appearing at the earlier stages of evolution. Source code is available at https://github.com/DSIMB/PoincareMSA.\n",
    "\n",
    "[1] Klimovskaia, A., Lopez-Paz, D., Bottou, L. et al. Poincaré maps for analyzing complex hierarchies in single-cell data. Nat Commun 11, 2966 (2020)."
   ]
  },
  {
   "cell_type": "markdown",
   "metadata": {
    "id": "Oa7Rrq-YzfQB"
   },
   "source": [
    "# Notebook initialization"
   ]
  },
  {
   "cell_type": "code",
   "execution_count": 1,
   "metadata": {},
   "outputs": [
    {
     "name": "stdout",
     "output_type": "stream",
     "text": [
      "/Users/gabrielduval/Desktop/Paris_Cite/Year2/Projet_Long/PoincareMSA\n"
     ]
    }
   ],
   "source": [
    "# Update working directory\n",
    "\n",
    "%cd ../../../"
   ]
  },
  {
   "cell_type": "code",
   "execution_count": 2,
   "metadata": {
    "cellView": "form",
    "colab": {
     "base_uri": "https://localhost:8080/"
    },
    "id": "X_SO37g-kQq7",
    "outputId": "c30184db-2ef2-4a87-fd43-db8fd3ed5379"
   },
   "outputs": [],
   "source": [
    "#Load dependencies\n",
    "import os\n",
    "import numpy as np\n",
    "import pandas as pd\n",
    "import subprocess\n",
    "import json\n",
    "import warnings\n",
    "warnings.filterwarnings('ignore')\n",
    "\n",
    "#Import visualization functions\n",
    "from scripts.visualize_projection.pplots_new import read_embeddings, plot_embedding, plot_embedding_interactive, rotate, get_colors\n",
    "from scripts.prepare_data.mmseqs2_api import run_mmseqs2\n",
    "from scripts.prepare_data.uniprot_idmapping_api import submit_id_mapping, check_id_mapping_results_ready, get_id_mapping_results_link, get_id_mapping_results_search\n",
    "%matplotlib inline\n",
    "\n",
    "#Create optional variables\n",
    "path_annotation = \"\""
   ]
  },
  {
   "cell_type": "markdown",
   "metadata": {
    "id": "IPi6cky3wgC8"
   },
   "source": [
    "# Data import"
   ]
  },
  {
   "cell_type": "code",
   "execution_count": 11,
   "metadata": {
    "cellView": "form",
    "colab": {
     "base_uri": "https://localhost:8080/",
     "height": 75,
     "resources": {
      "http://localhost:8080/nbextensions/google.colab/files.js": {
       "data": "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",
       "headers": [
        [
         "content-type",
         "application/javascript"
        ]
       ],
       "ok": true,
       "status": 200,
       "status_text": "OK"
      }
     }
    },
    "id": "GcbgnooHwIGh",
    "outputId": "dc30ce27-d01c-4953-cdb7-9d5fe599ad6d"
   },
   "outputs": [
    {
     "name": "stdout",
     "output_type": "stream",
     "text": [
      "\n",
      "Number of sequences found: 558.\n",
      "\n",
      "Annotation file correctly loaded.\n",
      "3 annotations found: ['proteins_id', 'accession', 'label'].\n"
     ]
    }
   ],
   "source": [
    "# OPTIONS =================================================\n",
    "# Path to MSA in mfasta format OR folder containing the embeddings - leave the other one as None\n",
    "mfasta = 'examples/wayland_datasets/protein_kinase/kinase.mfasta' \n",
    "embedding_path = None #'embeddings/ankh_base_protein_kinase/'\n",
    "\n",
    "#Annotation file (.csv) or UniProt ID list. (Emtpy strings for no annotations)\n",
    "path_annotation_csv = \"examples/wayland_datasets/protein_kinase/kinase_labels.csv\"   # Path or \"\"\n",
    "# OR\n",
    "path_uniprot_list = \"\"   # Path or \"\"\n",
    "#==========================================================\n",
    "\n",
    "\n",
    "#Check files\n",
    "#Check files\n",
    "#mfasta\n",
    "nb_seq = 0\n",
    "if mfasta is not None and embedding_path is not None:\n",
    "    print('You cannot import both an mfasta and an embedding folder ! Choose one and leave the other as None.')\n",
    "elif mfasta is not None:\n",
    "    if os.path.isfile(mfasta):\n",
    "        with open(mfasta, \"r\") as f_in:\n",
    "            for line in f_in:\n",
    "                if line[0] == \">\":\n",
    "                    nb_seq += 1\n",
    "        print(f\"\\nNumber of sequences found: {nb_seq}.\")\n",
    "    else:\n",
    "        print(f\"File {mfasta} not found.\")\n",
    "elif embedding_path is not None:\n",
    "    if os.path.exists(embedding_path):\n",
    "        nb_seq = len([s for s in os.listdir(embedding_path) if '.pt' in s])\n",
    "        print(f\"\\nNumber of sequences found: {nb_seq}.\")\n",
    "    else:\n",
    "        print(f\"Folder {embedding_path} not found.\")\n",
    "else:\n",
    "    print('Neither a valid mfasta or embedding folder has been provided')\n",
    "\n",
    "#Check that only one path is selected\n",
    "if path_annotation_csv and path_uniprot_list:\n",
    "    raise ValueError(\"Use only one file path (path_annotation_csv OR path_uniprot_list).\")\n",
    "\n",
    "if path_annotation_csv:\n",
    "    if os.path.isfile(path_annotation_csv):\n",
    "        try:\n",
    "            df_annotation = pd.read_csv(path_annotation_csv)\n",
    "        except:\n",
    "            raise ValueError(\"Annotation file is not in .csv format.\")\n",
    "        else:\n",
    "            if len(df_annotation) != nb_seq:\n",
    "                raise ValueError(\"Annotation file doesn't match the .mfasta file length.\")\n",
    "\n",
    "        #Add id column\n",
    "        if \"proteins_id\" not in df_annotation.columns:\n",
    "            df_annotation.insert(0, \"proteins_id\", range(len(df_annotation)))\n",
    "        path_annotation = path_annotation_csv\n",
    "            \n",
    "        print(\"\\nAnnotation file correctly loaded.\")\n",
    "        annotation_names = list(df_annotation.columns)\n",
    "        print(f\"{len(annotation_names)} annotations found: {annotation_names}.\")\n",
    "    else:\n",
    "        print(f\"File {path_annotation_csv} not found.\")\n",
    "\n",
    "elif path_uniprot_list:\n",
    "    if os.path.isfile(path_uniprot_list):\n",
    "        try:\n",
    "            UnP_ids = np.genfromtxt(path_uniprot_list, dtype=\"str\")\n",
    "        except:\n",
    "            raise ValueError(\"UniProt IDs file is not in a valid format.\")\n",
    "        else:\n",
    "            if len(UnP_ids) != nb_seq:\n",
    "                raise ValueError(\"UniProt IDs file doesn't match the .mfasta file length.\")     \n",
    "\n",
    "            #Split UniProtKB and UniParc IDs\n",
    "            uniparc_ids = []\n",
    "            uniprot_ids = []\n",
    "            for unp in UnP_ids:\n",
    "                if len(unp) == 13 and unp[:2] == \"UP\":\n",
    "                    uniparc_ids.append(unp)\n",
    "                else:\n",
    "                    uniprot_ids.append(unp)\n",
    "\n",
    "            #Fetch UniProtKB annotations\n",
    "            job_id = submit_id_mapping(\n",
    "                from_db=\"UniProtKB_AC-ID\", to_db=\"UniParc\", ids=uniprot_ids\n",
    "            )\n",
    "\n",
    "            if check_id_mapping_results_ready(job_id):\n",
    "                link = get_id_mapping_results_link(job_id)\n",
    "                results = get_id_mapping_results_search(link)\n",
    "\n",
    "            #Fetch UniParc annotations\n",
    "            job_id = submit_id_mapping(\n",
    "                from_db=\"UniParc\", to_db=\"UniParc\", ids=uniparc_ids\n",
    "            )\n",
    "\n",
    "            if check_id_mapping_results_ready(job_id):\n",
    "                link = get_id_mapping_results_link(job_id)\n",
    "                results2 = get_id_mapping_results_search(link)\n",
    "\n",
    "            #Create annotation dataframe\n",
    "            df_annotation = pd.DataFrame(UnP_ids, columns=[\"UnP_ID\"])\n",
    "            df_annotation[[\"organism\", \"proteinName\", \"taxonId\", \"species\", \"genus\", \\\n",
    "                           \"family\", \"order\", \"class\", \"phylum\", \"clade\", \"superkingdom\"]] = \"\"\n",
    "\n",
    "            #Fill the annotation DataFrame\n",
    "            for dict_res in results[\"results\"] + results2[\"results\"]:\n",
    "                try:\n",
    "                    unp = dict_res[\"from\"]\n",
    "                    prot_name = dict_res[\"to\"][\"uniParcCrossReferences\"][0][\"proteinName\"]\n",
    "                    df_annotation.loc[df_annotation[\"UnP_ID\"] == unp, \"proteinName\"] = prot_name\n",
    "                    scientific_name = dict_res[\"to\"][\"uniParcCrossReferences\"][0][\"organism\"][\"scientificName\"]\n",
    "                    taxid = dict_res[\"to\"][\"uniParcCrossReferences\"][0][\"organism\"][\"taxonId\"]\n",
    "                    df_annotation.loc[df_annotation[\"UnP_ID\"] == unp, \"organism\"] = scientific_name\n",
    "                    df_annotation.loc[df_annotation[\"UnP_ID\"] == unp, \"taxonId\"] = taxid\n",
    "                except KeyError:\n",
    "                    continue\n",
    "\n",
    "            #Add lineage from NCBI Taxonomist\n",
    "            taxon_ids = df_annotation.loc[df_annotation[\"taxonId\"].notnull(), 'taxonId'].to_numpy()\n",
    "            taxon_ids = list(set(taxon_ids))\n",
    "            taxon_ids = list(map(str, taxon_ids))\n",
    "            bash_command = f\"ncbi-taxonomist resolve -t {','.join(taxon_ids)}\"\n",
    "            list_taxon = subprocess.run(bash_command, shell=True, capture_output=True, text=True).stdout.strip().split(\"\\n\")\n",
    "\n",
    "            if list_taxon != [\"\"]:\n",
    "                for taxon in list_taxon:\n",
    "                    jsonString = taxon\n",
    "                    taxon_dict = json.loads(jsonString)\n",
    "                    query = taxon_dict[\"query\"]\n",
    "                    for lineage in taxon_dict[\"lineage\"]:\n",
    "                        rank = lineage[\"rank\"]\n",
    "                        if rank in [\"species\", \"genus\", \"family\", \"order\", \"class\", \"phylum\", \"clade\", \"superkingdom\"]:\n",
    "                            name = lineage[\"name\"]\n",
    "                            df_annotation.loc[df_annotation[\"taxonId\"] == int(query), rank] = name\n",
    "\n",
    "            #Add id column\n",
    "            if \"proteins_id\" not in df_annotation.columns:\n",
    "                df_annotation.insert(0, \"proteins_id\", range(len(df_annotation)))\n",
    "\n",
    "            #Save annotation to csv\n",
    "            path_annotation = \"auto_annot.csv\"\n",
    "            df_annotation.to_csv(path_annotation, index=False)\n",
    "\n",
    "            print(\"\\nAnnotation correctly fetched.\")\n",
    "            annotation_names = list(df_annotation.columns)\n",
    "            print(f\"{len(annotation_names)} annotations found: {annotation_names}.\")\n",
    "    else:\n",
    "        print(f\"File {path_uniprot_list} not found.\")\n",
    "else:\n",
    "    print(\"No annotation file selected.\")\n",
    "    path_annotation = \"\""
   ]
  },
  {
   "cell_type": "markdown",
   "metadata": {
    "id": "_H2vnIt_3kUz"
   },
   "source": [
    "# Data preparation\n",
    "Here we clean the input .mfasta alignment and translate each sequence to a vector ready for projection."
   ]
  },
  {
   "cell_type": "markdown",
   "metadata": {},
   "source": [
    "### Parameters for data preparation"
   ]
  },
  {
   "cell_type": "code",
   "execution_count": 4,
   "metadata": {
    "cellView": "form",
    "id": "9hLq_MgX6hFC"
   },
   "outputs": [
    {
     "name": "stdout",
     "output_type": "stream",
     "text": [
      "Input file: examples/wayland_datasets/protein_kinase/kinase.mfasta\n",
      "Name of the protein family: kinase\n",
      "1 X aa replaced by gaps in 558 sequences\n",
      "filter_gaps finished for examples/wayland_datasets/protein_kinase/kinase.mfasta\n",
      "mfasta2fasta finished for protein_kinase_data/protein_kinase_data.clean0.9.mfasta\n",
      "1 X aa replaced by gaps in 558 sequences\n"
     ]
    }
   ],
   "source": [
    "# OPTIONS =================================================\n",
    "# Job name\n",
    "#Name for the output folder\n",
    "out_name = \"protein_kinase_data\"\n",
    "#----------------------------------------------------------\n",
    "# Threshold for filtering gapped positions\n",
    "#Positions with proportion of gaps above the given threshold are removed from the alignment.\n",
    "#If your alignment is very gapped, you may want to increase this value.\n",
    "gapth = 0.9 \n",
    "#==========================================================\n",
    "\n",
    "\n",
    "# Run data preparation\n",
    "#Data preparation consists in `.mfasta` cleaning according to a gap threshold and\n",
    "#translation of each sequence to the PSSM profile.\n",
    "prep_parameters = \"scripts/prepare_data\" + \" \" + mfasta + \" \" + out_name + \" \" + out_name + \" \" + str(gapth)\n",
    "bash_projection = \"bash scripts/prepare_data/create_projection.sh \" + prep_parameters\n",
    "!{bash_projection}"
   ]
  },
  {
   "cell_type": "markdown",
   "metadata": {
    "id": "Dv0lg4Jn-dfG"
   },
   "source": [
    "# Projection"
   ]
  },
  {
   "cell_type": "markdown",
   "metadata": {},
   "source": [
    "### Projection parameters (without embeddings)"
   ]
  },
  {
   "cell_type": "code",
   "execution_count": 12,
   "metadata": {},
   "outputs": [],
   "source": [
    "# EMBEDDING SELECTION\n",
    "in_name = 'protein_kinase_data/fasta0.9/'  # Input here the name of folder with the fasta files\n",
    "mid_output = 'protein_kinase_data/with_mfasta/'  # Input name of desired folder for intermediary results\n",
    "out_name = 'results/protein_kinase/with_mfasta/' # Input desired name of output folder\n",
    "\n",
    "# OPTIONS =================================================\n",
    "#Here you control different parameters of Poincaré maps.\n",
    "#In our computational experiments the best results were achieved for the following values provided by default.\n",
    "#The impact of different parameters is analyzed in the original paper [1].\n",
    "knn = 5\n",
    "gamma = 2\n",
    "sigma = 1\n",
    "cospca = 0\n",
    "batchs = 4\n",
    "epochs = 1000\n",
    "seed = 4\n",
    "#==========================================================\n",
    "\n",
    "\n",
    "# Building projection and preparing data for visualization\n",
    "#This step creates a projection of encoded sequences to a Poincaré disk.\n",
    "# bash_pm = \"python \"+ \"scripts/build_poincare_map/main.py --input_path \" + in_name + \\\n",
    "#           \" --output_path \" + out_name + \" --plm_embedding False\" +  \" --matrices_output_path \" + mid_output \\\n",
    "#           + \" --gamma \"+ str(gamma) +\" --pca \"+ str(cospca) + \" --epochs \"+ str(epochs) +\" --seed \"\\\n",
    "#           + str(seed) + \" --knn \" + str(knn)\n",
    "# !{bash_pm}"
   ]
  },
  {
   "cell_type": "markdown",
   "metadata": {},
   "source": [
    "### Projection parameters (with embeddings)"
   ]
  },
  {
   "cell_type": "code",
   "execution_count": 13,
   "metadata": {},
   "outputs": [],
   "source": [
    "### Projection parameters (with embeddings)\n",
    "# EMBEDDING SELECTION\n",
    "in_name = 'embeddings/ankh_base_protein_kinase/'  # Input here the name of folder with the embeddings\n",
    "mid_output = 'protein_kinase_data/with_plm_embeddings/'  # Input name of desired folder for intermediary results\n",
    "out_name = 'results/protein_kinase/with_plm_embeddings/' # Input desired name of output folder\n",
    "\n",
    "\n",
    "# OPTIONS =================================================\n",
    "#Here you control different parameters of Poincaré maps.\n",
    "#In our computational experiments the best results were achieved for the following values provided by default.\n",
    "#The impact of different parameters is analyzed in the original paper [1].\n",
    "knn = 5\n",
    "gamma = 2\n",
    "sigma = 1\n",
    "cospca = 0\n",
    "batchs = 4\n",
    "epochs = 1000\n",
    "seed = 0\n",
    "#==========================================================\n",
    "\n",
    "\n",
    "# Building projection and preparing data for visualization\n",
    "#This step creates a projection of encoded sequences to a Poincaré disk.\n",
    "# bash_pm = \"python \"+ \"scripts/build_poincare_map/main.py --input_path \" + in_name + \\\n",
    "#           \" --output_path \" + out_name + \" --plm_embedding True\" +  \" --matrices_output_path \" + mid_output +\\\n",
    "#           \" --distlocal minkowski\" + \" --gamma \"+ str(gamma) +\" --pca \"+ str(cospca) + \" --epochs \"+ str(epochs) +\" --seed \"\\\n",
    "#           + str(seed) + \" --knn \" + str(knn)\n",
    "# !{bash_pm}"
   ]
  },
  {
   "cell_type": "markdown",
   "metadata": {
    "id": "gRxHHfjX7CHF"
   },
   "source": [
    "# Projection visualization"
   ]
  },
  {
   "cell_type": "markdown",
   "metadata": {},
   "source": [
    "### Prepare data for visualization"
   ]
  },
  {
   "cell_type": "code",
   "execution_count": 14,
   "metadata": {
    "cellView": "form",
    "colab": {
     "base_uri": "https://localhost:8080/"
    },
    "id": "A2I17cpYXGoB",
    "outputId": "a1b01a51-2182-4f97-a653-eedc42405a80"
   },
   "outputs": [
    {
     "name": "stdout",
     "output_type": "stream",
     "text": [
      "3 annotations found: ['proteins_id', 'accession', 'label'].\n",
      "proteins_id\n",
      "1      outgroup\n",
      "2      outgroup\n",
      "3      outgroup\n",
      "4      outgroup\n",
      "5      outgroup\n",
      "         ...   \n",
      "554          TK\n",
      "555          TK\n",
      "556          TK\n",
      "557          TK\n",
      "558          TK\n",
      "Name: label, Length: 558, dtype: object\n"
     ]
    }
   ],
   "source": [
    "# Prepare data for visualization\n",
    "out_name = 'results/protein_kinase/with_plm_embeddings'\n",
    "\n",
    "#Check that an annotation file was provided. Create a dummy one instead\n",
    "if not path_annotation:\n",
    "    df_annotation = pd.DataFrame(list(zip(list(range(1,nb_seq+1)), np.full(nb_seq, \"-\", dtype=object))), columns=[\"id\", \"default\"])\n",
    "    df_annotation.to_csv(\"dummy_annotation.csv\", index=False)\n",
    "    path_annotation = \"dummy_annotation.csv\"\n",
    "    annotation_names = [\"proteins_id\"]\n",
    "\n",
    "path_embedding = f\"{out_name}/PM{knn:1.0f}sigma={sigma:2.2f}gamma={gamma:2.2f}cosinepca={cospca:1.0f}_seed{seed:1.0f}.csv\"\n",
    "df_embedding = read_embeddings(path_embedding, path_annotation, withroot=False)\n",
    "\n",
    "#Here are different labels found in your annotation file (if one uploaded):\n",
    "print(f\"{len(annotation_names)} annotations found: {annotation_names}.\")\n",
    "print(df_embedding['label'])"
   ]
  },
  {
   "cell_type": "markdown",
   "metadata": {},
   "source": [
    "### Create interactive plot"
   ]
  },
  {
   "cell_type": "code",
   "execution_count": 19,
   "metadata": {},
   "outputs": [
    {
     "name": "stdout",
     "output_type": "stream",
     "text": [
      "{'_TK_': 'red', '_TKL_': 'orange', '_RGC_': 'brown', '_NEK_': 'yellow', '_STE_': 'lime', '_CMGC_': 'green', '_CAMK_': 'violet', '_AGC_': 'blue', '_CK1_': 'cyan', ' Atypical_': 'grey', ' eLK_': 'grey'}\n",
      "dict_keys([-1, 'OTHER', 'None', 'NA', 'Uncharacterized', 'root', 'TYR', 'CMGC', 'TKL', 'STE', 'CK1', 'AGC', 'CAMK', 'NEK', 'RGC'])\n"
     ]
    }
   ],
   "source": [
    "# Construction of custom color palette  \n",
    "kinase_palette = {-1 : \"#c7c7c7\", \"OTHER\": \"#c7c7c7\", \"None\" :\"#c7c7c7\", \"NA\" : \"#c7c7c7\", \"Uncharacterized\" : \"#c7c7c7\", \"root\": \"#000000\",\n",
    "                  \"TYR\": \"#bd065f\", \"CMGC\": \"#d5c203\", \"TKL\": \"#997e73\",\"STE\": \"#80b412\", # kinase groups \n",
    "                  \"CK1\": \"#0dbae9\", \"AGC\": \"#00bba1\", \"CAMK\":  \"#1f6ed4\", \"NEK\": \"#8ce4fa\", \"RGC\":\"#f59a62\"}\n",
    "\n",
    "# Load existing colour palette (must be a .json file)\n",
    "colour_json = 'examples/wayland_datasets/protein_kinase/kinase_colors.json'\n",
    "with open(colour_json, 'r') as file:\n",
    "    colour_palette = json.load(file)\n",
    "\n",
    "# Also the option of manually creating your own colour palette\n",
    "print(colour_palette)\n",
    "print(kinase_palette.keys())\n",
    "\n",
    "# New palette\n",
    "true_palette = {'CAMK' : \"#1f6ed4\", 'TKL' : \"#997e73\", 'RGC' : \"#f59a62\", 'NEK' : \"#8ce4fa\",\n",
    "                'STE' : \"#80b412\", 'CMGC' : \"#d5c203\", 'AGC' : \"#00bba1\", 'TK' : 'orange', 'outgroup' : 'black',\n",
    "                'CK1' : \"#0dbae9\", 'eLK' : 'violet', 'nan' : \"#c7c7c7\"}\n"
   ]
  },
  {
   "cell_type": "code",
   "execution_count": 20,
   "metadata": {
    "cellView": "form",
    "colab": {
     "base_uri": "https://localhost:8080/",
     "height": 886
    },
    "id": "zLb9h9S4eKUD",
    "outputId": "58e8c73a-4869-4305-ecfb-bccc80d06db1"
   },
   "outputs": [
    {
     "data": {
      "application/vnd.plotly.v1+json": {
       "config": {
        "plotlyServerURL": "https://plot.ly"
       },
       "data": [
        {
         "customdata": [
          [
           1,
           "O00418",
           "outgroup"
          ],
          [
           2,
           "Q86TB3",
           "outgroup"
          ],
          [
           3,
           "Q96L96",
           "outgroup"
          ],
          [
           4,
           "Q96QP1",
           "outgroup"
          ],
          [
           5,
           "Q96QT4",
           "outgroup"
          ],
          [
           6,
           "Q9BX84",
           "outgroup"
          ],
          [
           7,
           "O75063",
           "outgroup"
          ],
          [
           8,
           "Q8IXL6",
           "outgroup"
          ],
          [
           9,
           "Q96MK3",
           "outgroup"
          ],
          [
           10,
           "P23677",
           "outgroup"
          ],
          [
           11,
           "P27987",
           "outgroup"
          ],
          [
           12,
           "Q8NFU5",
           "outgroup"
          ],
          [
           13,
           "Q92551",
           "outgroup"
          ],
          [
           14,
           "Q96DU7",
           "outgroup"
          ],
          [
           15,
           "Q96PC2",
           "outgroup"
          ],
          [
           16,
           "Q9UHH9",
           "outgroup"
          ],
          [
           17,
           "Q8TCG2",
           "outgroup"
          ],
          [
           18,
           "Q9BTU6",
           "outgroup"
          ],
          [
           19,
           "O00329",
           "outgroup"
          ],
          [
           20,
           "O00443",
           "outgroup"
          ],
          [
           21,
           "O00750",
           "outgroup"
          ],
          [
           22,
           "O75747",
           "outgroup"
          ],
          [
           23,
           "P42336",
           "outgroup"
          ],
          [
           24,
           "P42338",
           "outgroup"
          ],
          [
           25,
           "P42345",
           "outgroup"
          ],
          [
           26,
           "P42356",
           "outgroup"
          ],
          [
           27,
           "P48736",
           "outgroup"
          ],
          [
           28,
           "P78527",
           "outgroup"
          ],
          [
           29,
           "Q13315",
           "outgroup"
          ],
          [
           30,
           "Q13535",
           "outgroup"
          ],
          [
           31,
           "Q8NEB9",
           "outgroup"
          ],
          [
           32,
           "Q96Q15",
           "outgroup"
          ],
          [
           33,
           "Q9UBF8",
           "outgroup"
          ],
          [
           34,
           "Q9Y4A5",
           "outgroup"
          ],
          [
           35,
           "O14986",
           "outgroup"
          ],
          [
           36,
           "O60331",
           "outgroup"
          ],
          [
           37,
           "P48426",
           "outgroup"
          ],
          [
           38,
           "P78356",
           "outgroup"
          ],
          [
           39,
           "Q5T9C9",
           "outgroup"
          ],
          [
           40,
           "Q8TBX8",
           "outgroup"
          ],
          [
           41,
           "Q99755",
           "outgroup"
          ],
          [
           42,
           "Q9Y2I7",
           "outgroup"
          ],
          [
           43,
           "Q9BVL4",
           "outgroup"
          ],
          [
           44,
           "Q9H8X2",
           "outgroup"
          ],
          [
           45,
           "Q3MIX3",
           "outgroup"
          ],
          [
           46,
           "Q7Z695",
           "outgroup"
          ],
          [
           47,
           "Q86TW2",
           "outgroup"
          ],
          [
           48,
           "Q8NI60",
           "outgroup"
          ],
          [
           49,
           "Q96D53",
           "outgroup"
          ],
          [
           50,
           "Q6JQN1",
           "outgroup"
          ],
          [
           51,
           "Q709F0",
           "outgroup"
          ],
          [
           52,
           "Q96S44",
           "outgroup"
          ],
          [
           53,
           "P35790",
           "outgroup"
          ],
          [
           54,
           "Q9Y259",
           "outgroup"
          ],
          [
           55,
           "Q9HBU6",
           "outgroup"
          ],
          [
           56,
           "Q9NVF9",
           "outgroup"
          ],
          [
           57,
           "Q9H479",
           "outgroup"
          ],
          [
           58,
           "A2RU49",
           "outgroup"
          ],
          [
           59,
           "Q9HA64",
           "outgroup"
          ],
          [
           60,
           "O14730",
           "outgroup"
          ],
          [
           61,
           "Q9BRS2",
           "outgroup"
          ],
          [
           62,
           "Q9BVS4",
           "outgroup"
          ]
         ],
         "hovertemplate": "<b>%{hovertext}</b><br><br>label=%{customdata[2]}<br>pm1=%{x}<br>pm2=%{y}<br>proteins_id=%{customdata[0]}<br>accession=%{customdata[1]}<extra></extra>",
         "hovertext": [
          "outgroup",
          "outgroup",
          "outgroup",
          "outgroup",
          "outgroup",
          "outgroup",
          "outgroup",
          "outgroup",
          "outgroup",
          "outgroup",
          "outgroup",
          "outgroup",
          "outgroup",
          "outgroup",
          "outgroup",
          "outgroup",
          "outgroup",
          "outgroup",
          "outgroup",
          "outgroup",
          "outgroup",
          "outgroup",
          "outgroup",
          "outgroup",
          "outgroup",
          "outgroup",
          "outgroup",
          "outgroup",
          "outgroup",
          "outgroup",
          "outgroup",
          "outgroup",
          "outgroup",
          "outgroup",
          "outgroup",
          "outgroup",
          "outgroup",
          "outgroup",
          "outgroup",
          "outgroup",
          "outgroup",
          "outgroup",
          "outgroup",
          "outgroup",
          "outgroup",
          "outgroup",
          "outgroup",
          "outgroup",
          "outgroup",
          "outgroup",
          "outgroup",
          "outgroup",
          "outgroup",
          "outgroup",
          "outgroup",
          "outgroup",
          "outgroup",
          "outgroup",
          "outgroup",
          "outgroup",
          "outgroup",
          "outgroup"
         ],
         "legendgroup": "outgroup",
         "marker": {
          "color": "black",
          "symbol": "circle"
         },
         "mode": "markers",
         "name": "outgroup",
         "orientation": "v",
         "showlegend": true,
         "type": "scatter",
         "x": [
          0.8883525,
          0.9584526,
          0.9559461,
          0.94871396,
          0.821458,
          0.8367189,
          0.91592056,
          0.8949267,
          0.9596558,
          0.90717417,
          0.8150949,
          0.82763404,
          0.8470852,
          0.8062793,
          0.80137205,
          0.80025905,
          0.8245874,
          0.80802727,
          0.837523,
          0.95592743,
          0.95532537,
          0.8140687,
          0.9168563,
          0.8125262,
          0.8823131,
          0.90960926,
          0.85138977,
          0.72850853,
          0.84635377,
          0.9623201,
          0.88921434,
          0.94869435,
          0.81788045,
          0.84249187,
          0.9397474,
          0.9154897,
          0.7284577,
          0.89175546,
          0.83466524,
          0.6034488,
          0.83256954,
          0.91931516,
          0.8162365,
          0.82880825,
          0.9277418,
          0.8833803,
          0.84922093,
          0.8900667,
          0.9290334,
          0.9231174,
          0.8981475,
          0.72823536,
          0.9161212,
          0.9291643,
          0.8808632,
          0.8848461,
          0.8225857,
          0.82506394,
          0.8100746,
          0.818763,
          0.88374394,
          0.80891496
         ],
         "xaxis": "x",
         "y": [
          0.2651065,
          0.22706598,
          0.22482108,
          -0.18927857,
          0.44289953,
          0.44608027,
          -0.04304474,
          -0.33432502,
          0.22332576,
          -0.33574903,
          0.42033938,
          0.47084406,
          0.440657,
          0.48934072,
          0.46554875,
          0.45277336,
          0.44902423,
          0.45959702,
          0.48801026,
          0.23108855,
          0.23341788,
          -0.5269951,
          -0.19534771,
          -0.5197853,
          -0.43299574,
          0.14684732,
          0.4538871,
          -0.07374965,
          -0.47684896,
          0.22795959,
          -0.33655027,
          -0.19270012,
          0.47507477,
          -0.47596928,
          -0.18297194,
          -0.3325814,
          -0.07368515,
          0.42570707,
          -0.47258875,
          -0.10413361,
          0.47972304,
          0.15252192,
          0.4597303,
          0.4947951,
          0.16839527,
          -0.43586013,
          -0.4699456,
          0.41975367,
          0.15146866,
          0.17413133,
          -0.33914182,
          -0.07374135,
          -0.026129518,
          -0.035641056,
          -0.4392352,
          -0.44079366,
          0.50211966,
          0.5013218,
          0.49145472,
          0.5038173,
          -0.43904647,
          0.479691
         ],
         "yaxis": "y"
        },
        {
         "customdata": [
          [
           63,
           "P31749",
           "AGC"
          ],
          [
           64,
           "P31751",
           "AGC"
          ],
          [
           65,
           "Q9Y243",
           "AGC"
          ],
          [
           66,
           "O14578",
           "AGC"
          ],
          [
           67,
           "O75116",
           "AGC"
          ],
          [
           68,
           "Q09013",
           "AGC"
          ],
          [
           69,
           "Q13464",
           "AGC"
          ],
          [
           70,
           "Q5VT25",
           "AGC"
          ],
          [
           71,
           "Q6DT37",
           "AGC"
          ],
          [
           72,
           "Q9Y5S2",
           "AGC"
          ],
          [
           73,
           "P25098",
           "AGC"
          ],
          [
           74,
           "P32298",
           "AGC"
          ],
          [
           75,
           "P34947",
           "AGC"
          ],
          [
           76,
           "P35626",
           "AGC"
          ],
          [
           77,
           "P43250",
           "AGC"
          ],
          [
           78,
           "Q15835",
           "AGC"
          ],
          [
           79,
           "Q8WTQ7",
           "AGC"
          ],
          [
           80,
           "O15021",
           "AGC"
          ],
          [
           81,
           "O60307",
           "AGC"
          ],
          [
           82,
           "Q6P0Q8",
           "AGC"
          ],
          [
           83,
           "Q96GX5",
           "AGC"
          ],
          [
           84,
           "Q9Y2H9",
           "AGC"
          ],
          [
           85,
           "O95835",
           "AGC"
          ],
          [
           86,
           "Q15208",
           "AGC"
          ],
          [
           87,
           "Q9NRM7",
           "AGC"
          ],
          [
           88,
           "Q9Y2H1",
           "AGC"
          ],
          [
           89,
           "O15530",
           "AGC"
          ],
          [
           90,
           "Q6A1A2",
           "AGC"
          ],
          [
           91,
           "O43930",
           "AGC"
          ],
          [
           92,
           "P17612",
           "AGC"
          ],
          [
           93,
           "P22612",
           "AGC"
          ],
          [
           94,
           "P22694",
           "AGC"
          ],
          [
           95,
           "P51817",
           "AGC"
          ],
          [
           96,
           "P05129",
           "AGC"
          ],
          [
           97,
           "P05771",
           "AGC"
          ],
          [
           98,
           "P17252",
           "AGC"
          ],
          [
           99,
           "P24723",
           "AGC"
          ],
          [
           100,
           "P41743",
           "AGC"
          ],
          [
           101,
           "Q02156",
           "AGC"
          ],
          [
           102,
           "Q04759",
           "AGC"
          ],
          [
           103,
           "Q05513",
           "AGC"
          ],
          [
           104,
           "Q05655",
           "AGC"
          ],
          [
           105,
           "Q13237",
           "AGC"
          ],
          [
           106,
           "Q13976",
           "AGC"
          ],
          [
           107,
           "Q16512",
           "AGC"
          ],
          [
           108,
           "Q16513",
           "AGC"
          ],
          [
           109,
           "Q6P5Z2",
           "AGC"
          ],
          [
           110,
           "O75582|1",
           "AGC"
          ],
          [
           111,
           "O75676|1",
           "AGC"
          ],
          [
           112,
           "P23443",
           "AGC"
          ],
          [
           113,
           "P51812|1",
           "AGC"
          ],
          [
           114,
           "Q15349|1",
           "AGC"
          ],
          [
           115,
           "Q15418|1",
           "AGC"
          ],
          [
           116,
           "Q9UBS0",
           "AGC"
          ],
          [
           117,
           "Q9UK32|1",
           "AGC"
          ],
          [
           118,
           "Q96S38",
           "AGC"
          ],
          [
           119,
           "Q9Y6S9",
           "AGC"
          ],
          [
           120,
           "Q96LW2",
           "AGC"
          ],
          [
           121,
           "O00141",
           "AGC"
          ],
          [
           122,
           "Q96BR1",
           "AGC"
          ],
          [
           123,
           "Q9HBY8",
           "AGC"
          ],
          [
           124,
           "Q86UX6",
           "AGC"
          ],
          [
           125,
           "Q8WU08",
           "AGC"
          ],
          [
           126,
           "Q9NY57",
           "AGC"
          ]
         ],
         "hovertemplate": "<b>%{hovertext}</b><br><br>label=%{customdata[2]}<br>pm1=%{x}<br>pm2=%{y}<br>proteins_id=%{customdata[0]}<br>accession=%{customdata[1]}<extra></extra>",
         "hovertext": [
          "AGC",
          "AGC",
          "AGC",
          "AGC",
          "AGC",
          "AGC",
          "AGC",
          "AGC",
          "AGC",
          "AGC",
          "AGC",
          "AGC",
          "AGC",
          "AGC",
          "AGC",
          "AGC",
          "AGC",
          "AGC",
          "AGC",
          "AGC",
          "AGC",
          "AGC",
          "AGC",
          "AGC",
          "AGC",
          "AGC",
          "AGC",
          "AGC",
          "AGC",
          "AGC",
          "AGC",
          "AGC",
          "AGC",
          "AGC",
          "AGC",
          "AGC",
          "AGC",
          "AGC",
          "AGC",
          "AGC",
          "AGC",
          "AGC",
          "AGC",
          "AGC",
          "AGC",
          "AGC",
          "AGC",
          "AGC",
          "AGC",
          "AGC",
          "AGC",
          "AGC",
          "AGC",
          "AGC",
          "AGC",
          "AGC",
          "AGC",
          "AGC",
          "AGC",
          "AGC",
          "AGC",
          "AGC",
          "AGC",
          "AGC"
         ],
         "legendgroup": "AGC",
         "marker": {
          "color": "#00bba1",
          "symbol": "circle"
         },
         "mode": "markers",
         "name": "AGC",
         "orientation": "v",
         "showlegend": true,
         "type": "scatter",
         "x": [
          0.8190683,
          0.81918335,
          0.8236086,
          0.8823708,
          0.8365187,
          0.8146604,
          0.9311757,
          0.8462505,
          0.60159045,
          0.8299977,
          0.94434303,
          0.9614057,
          0.90244526,
          0.8482441,
          0.82890576,
          0.8854382,
          0.8986875,
          0.91319555,
          0.7334587,
          0.89499366,
          0.9126882,
          0.879943,
          0.88095963,
          0.90708286,
          0.92488265,
          0.9346501,
          0.8806397,
          0.8752068,
          0.950168,
          0.89674014,
          0.88603336,
          0.88423264,
          0.89121205,
          0.84129703,
          0.95889145,
          0.95301926,
          0.9373634,
          0.892475,
          0.7125212,
          0.927884,
          0.8439372,
          0.91603136,
          0.83727765,
          0.88673896,
          0.9270461,
          0.8355825,
          0.90546757,
          0.9050823,
          0.8348831,
          0.87489945,
          0.8938115,
          0.9180089,
          0.89421177,
          0.91892916,
          0.9037364,
          0.87236863,
          0.6031642,
          0.8893074,
          0.885025,
          0.92395824,
          0.89122796,
          0.9140036,
          0.80110514,
          0.9150505
         ],
         "xaxis": "x",
         "y": [
          0.49509013,
          0.4876645,
          0.48257717,
          -0.44066522,
          0.46313035,
          0.47981447,
          -0.21090585,
          -0.46224114,
          -0.100033395,
          0.47712344,
          -0.20570506,
          0.22986427,
          -0.33095643,
          0.45714226,
          0.4811509,
          0.24805276,
          0.25847724,
          0.012412256,
          -0.044687618,
          -0.3277655,
          -0.32539338,
          0.42358458,
          -0.44278434,
          -0.34026262,
          -0.2034055,
          0.15786615,
          -0.4308086,
          -0.3337533,
          -0.18589653,
          0.2749257,
          0.4185704,
          0.42271382,
          -0.34636977,
          -0.46142235,
          0.23287275,
          0.22836357,
          -0.036600556,
          0.42103332,
          -0.07847042,
          0.16281167,
          0.47660303,
          0.17548388,
          -0.476995,
          0.42134285,
          -0.19359446,
          -0.46603435,
          0.2629492,
          -0.3458499,
          -0.44291466,
          -0.43608987,
          -0.017325675,
          -0.0052550747,
          0.16147345,
          -0.2217518,
          0.23844238,
          0.28781226,
          -0.10141566,
          0.42255288,
          -0.4324951,
          -0.017811392,
          0.42339984,
          -0.32955143,
          0.493174,
          -0.33568087
         ],
         "yaxis": "y"
        },
        {
         "customdata": [
          [
           127,
           "Q14012",
           "CAMK"
          ],
          [
           128,
           "Q16566",
           "CAMK"
          ],
          [
           129,
           "Q6P2M8",
           "CAMK"
          ],
          [
           130,
           "Q8IU85",
           "CAMK"
          ],
          [
           131,
           "Q96NX5",
           "CAMK"
          ],
          [
           132,
           "Q13554",
           "CAMK"
          ],
          [
           133,
           "Q13555",
           "CAMK"
          ],
          [
           134,
           "Q13557",
           "CAMK"
          ],
          [
           135,
           "Q9UQM7",
           "CAMK"
          ],
          [
           136,
           "O14757",
           "CAMK"
          ],
          [
           137,
           "O60285",
           "CAMK"
          ],
          [
           138,
           "P27448",
           "CAMK"
          ],
          [
           139,
           "P54646",
           "CAMK"
          ],
          [
           140,
           "P57058",
           "CAMK"
          ],
          [
           141,
           "P57059",
           "CAMK"
          ],
          [
           142,
           "Q13131",
           "CAMK"
          ],
          [
           143,
           "Q14680",
           "CAMK"
          ],
          [
           144,
           "Q15831",
           "CAMK"
          ],
          [
           145,
           "Q7KZI7",
           "CAMK"
          ],
          [
           146,
           "Q8IWQ3",
           "CAMK"
          ],
          [
           147,
           "Q8IY84",
           "CAMK"
          ],
          [
           148,
           "Q8TDC3",
           "CAMK"
          ],
          [
           149,
           "Q96L34",
           "CAMK"
          ],
          [
           150,
           "Q96RG2",
           "CAMK"
          ],
          [
           151,
           "Q9H093",
           "CAMK"
          ],
          [
           152,
           "Q9H0K1",
           "CAMK"
          ],
          [
           153,
           "Q9NRH2",
           "CAMK"
          ],
          [
           154,
           "Q9P0L2",
           "CAMK"
          ],
          [
           155,
           "Q9Y2K2",
           "CAMK"
          ],
          [
           156,
           "Q8NCB2",
           "CAMK"
          ],
          [
           157,
           "O14936",
           "CAMK"
          ],
          [
           158,
           "O43293",
           "CAMK"
          ],
          [
           159,
           "O94768",
           "CAMK"
          ],
          [
           160,
           "P53355",
           "CAMK"
          ],
          [
           161,
           "Q9UEE5",
           "CAMK"
          ],
          [
           162,
           "Q9UIK4",
           "CAMK"
          ],
          [
           163,
           "O15075",
           "CAMK"
          ],
          [
           164,
           "Q8N568",
           "CAMK"
          ],
          [
           165,
           "Q9C098",
           "CAMK"
          ],
          [
           166,
           "P49137",
           "CAMK"
          ],
          [
           167,
           "Q16644",
           "CAMK"
          ],
          [
           168,
           "Q8IW41",
           "CAMK"
          ],
          [
           169,
           "Q9BUB5",
           "CAMK"
          ],
          [
           170,
           "Q9HBH9",
           "CAMK"
          ],
          [
           171,
           "Q15746",
           "CAMK"
          ],
          [
           172,
           "Q32MK0",
           "CAMK"
          ],
          [
           173,
           "Q86YV6",
           "CAMK"
          ],
          [
           174,
           "Q8WZ42",
           "CAMK"
          ],
          [
           175,
           "Q9H1R3",
           "CAMK"
          ],
          [
           176,
           "P15735",
           "CAMK"
          ],
          [
           177,
           "Q16816",
           "CAMK"
          ],
          [
           178,
           "P11309",
           "CAMK"
          ],
          [
           179,
           "Q86V86",
           "CAMK"
          ],
          [
           180,
           "Q9P1W9",
           "CAMK"
          ],
          [
           181,
           "O94806",
           "CAMK"
          ],
          [
           182,
           "Q15139",
           "CAMK"
          ],
          [
           183,
           "Q9BZL6",
           "CAMK"
          ],
          [
           184,
           "P11801",
           "CAMK"
          ],
          [
           185,
           "Q96QS6",
           "CAMK"
          ],
          [
           186,
           "O96017",
           "CAMK"
          ],
          [
           187,
           "O75582|2",
           "CAMK"
          ],
          [
           188,
           "O75676|2",
           "CAMK"
          ],
          [
           189,
           "P51812|2",
           "CAMK"
          ],
          [
           190,
           "Q15349|2",
           "CAMK"
          ],
          [
           191,
           "Q15418|2",
           "CAMK"
          ],
          [
           192,
           "Q9UK32|2",
           "CAMK"
          ],
          [
           193,
           "A0A0B4J2F2",
           "CAMK"
          ],
          [
           194,
           "Q9BYT3",
           "CAMK"
          ],
          [
           195,
           "Q8N2I9",
           "CAMK"
          ],
          [
           196,
           "Q6SA08",
           "CAMK"
          ],
          [
           197,
           "Q96PF2",
           "CAMK"
          ],
          [
           198,
           "Q96PN8",
           "CAMK"
          ],
          [
           199,
           "Q9BXA6",
           "CAMK"
          ],
          [
           200,
           "Q9BXA7",
           "CAMK"
          ],
          [
           201,
           "Q92519",
           "CAMK"
          ],
          [
           202,
           "Q96RU7",
           "CAMK"
          ],
          [
           203,
           "Q96RU8",
           "CAMK"
          ],
          [
           204,
           "O60229",
           "CAMK"
          ],
          [
           205,
           "O75962",
           "CAMK"
          ],
          [
           206,
           "Q15772|1",
           "CAMK"
          ],
          [
           207,
           "Q15772|2",
           "CAMK"
          ],
          [
           208,
           "Q5VST9|1",
           "CAMK"
          ],
          [
           209,
           "Q5VST9|2",
           "CAMK"
          ]
         ],
         "hovertemplate": "<b>%{hovertext}</b><br><br>label=%{customdata[2]}<br>pm1=%{x}<br>pm2=%{y}<br>proteins_id=%{customdata[0]}<br>accession=%{customdata[1]}<extra></extra>",
         "hovertext": [
          "CAMK",
          "CAMK",
          "CAMK",
          "CAMK",
          "CAMK",
          "CAMK",
          "CAMK",
          "CAMK",
          "CAMK",
          "CAMK",
          "CAMK",
          "CAMK",
          "CAMK",
          "CAMK",
          "CAMK",
          "CAMK",
          "CAMK",
          "CAMK",
          "CAMK",
          "CAMK",
          "CAMK",
          "CAMK",
          "CAMK",
          "CAMK",
          "CAMK",
          "CAMK",
          "CAMK",
          "CAMK",
          "CAMK",
          "CAMK",
          "CAMK",
          "CAMK",
          "CAMK",
          "CAMK",
          "CAMK",
          "CAMK",
          "CAMK",
          "CAMK",
          "CAMK",
          "CAMK",
          "CAMK",
          "CAMK",
          "CAMK",
          "CAMK",
          "CAMK",
          "CAMK",
          "CAMK",
          "CAMK",
          "CAMK",
          "CAMK",
          "CAMK",
          "CAMK",
          "CAMK",
          "CAMK",
          "CAMK",
          "CAMK",
          "CAMK",
          "CAMK",
          "CAMK",
          "CAMK",
          "CAMK",
          "CAMK",
          "CAMK",
          "CAMK",
          "CAMK",
          "CAMK",
          "CAMK",
          "CAMK",
          "CAMK",
          "CAMK",
          "CAMK",
          "CAMK",
          "CAMK",
          "CAMK",
          "CAMK",
          "CAMK",
          "CAMK",
          "CAMK",
          "CAMK",
          "CAMK",
          "CAMK",
          "CAMK",
          "CAMK"
         ],
         "legendgroup": "CAMK",
         "marker": {
          "color": "#1f6ed4",
          "symbol": "circle"
         },
         "mode": "markers",
         "name": "CAMK",
         "orientation": "v",
         "showlegend": true,
         "type": "scatter",
         "x": [
          0.8099685,
          0.9556201,
          0.9213794,
          0.8184373,
          0.8138921,
          0.72808176,
          0.73147553,
          0.9211118,
          0.9493249,
          0.9197682,
          0.9415946,
          0.88731045,
          0.8862963,
          0.60272443,
          0.60267997,
          0.9148113,
          0.85299003,
          0.844415,
          0.8902097,
          0.8803929,
          0.73353493,
          0.9475249,
          0.9327734,
          0.8949309,
          0.9319536,
          0.9576752,
          0.7310617,
          0.93416077,
          0.5943408,
          0.94067854,
          0.74580044,
          0.84982437,
          0.95089227,
          0.9075123,
          0.91201025,
          0.9623369,
          0.93166417,
          0.85136634,
          0.82858825,
          0.9314384,
          0.95943916,
          0.96054024,
          0.8182695,
          0.93690246,
          0.90777373,
          0.88888294,
          0.93809056,
          0.6951686,
          0.9594081,
          0.85543674,
          0.7337804,
          0.9228161,
          0.8417565,
          -0.5138985,
          -0.5192358,
          -0.549474,
          -0.5003056,
          -0.52401954,
          -0.5304821,
          -0.4995461,
          -0.5420479,
          -0.5471395,
          -0.55595875,
          -0.5443902,
          -0.54763263,
          -0.55091935,
          -0.47621372,
          -0.52521646,
          -0.31085768,
          -0.45295995,
          -0.44955912,
          -0.4485129,
          -0.4437409,
          -0.45778638,
          -0.397192,
          -0.41929576,
          -0.40129864,
          -0.48366413,
          -0.4948682,
          -0.4903549,
          -0.4776348,
          -0.4444764,
          -0.4663188
         ],
         "xaxis": "x",
         "y": [
          -0.5292196,
          0.22723351,
          -0.18556492,
          -0.5255671,
          -0.53230137,
          -0.07371791,
          -0.053382672,
          -0.17063005,
          0.23039185,
          0.17511445,
          -0.025673594,
          0.42417425,
          -0.43769825,
          -0.101356804,
          -0.10143681,
          0.15830523,
          0.45647955,
          -0.4699583,
          0.42714927,
          -0.43567666,
          -0.044796914,
          -0.1995584,
          -0.19732083,
          -0.3415196,
          -0.19173405,
          0.22979964,
          -0.05306222,
          -0.20368175,
          -0.10224355,
          -0.19562702,
          -0.04975899,
          -0.47527722,
          -0.19426633,
          0.14931628,
          0.16665196,
          0.22566102,
          -0.029674903,
          0.4515522,
          0.46153715,
          -0.021983271,
          0.22466399,
          0.23223378,
          -0.5299149,
          -0.21165495,
          0.18615597,
          0.42504245,
          -0.20008752,
          -0.05373239,
          0.22847068,
          0.4526952,
          -0.04475273,
          0.16239342,
          -0.47103095,
          -0.6192406,
          -0.60334045,
          -0.61008304,
          -0.61067855,
          -0.72559786,
          -0.6921356,
          -0.7043958,
          -0.7113716,
          -0.7096233,
          -0.70402145,
          -0.7185143,
          -0.7219901,
          -0.7166365,
          -0.7400312,
          -0.6668696,
          -0.33637726,
          -0.738282,
          -0.73511904,
          -0.7327059,
          -0.7346815,
          -0.7389299,
          -0.45981637,
          -0.41954136,
          -0.5319845,
          -0.5736997,
          -0.5546704,
          -0.46093407,
          -0.5200594,
          -0.5604442,
          -0.5151391
         ],
         "yaxis": "y"
        },
        {
         "customdata": [
          [
           210,
           "P48729",
           "CK1"
          ],
          [
           211,
           "Q8N752",
           "CK1"
          ],
          [
           212,
           "P48730",
           "CK1"
          ],
          [
           213,
           "P49674",
           "CK1"
          ],
          [
           214,
           "P78368",
           "CK1"
          ],
          [
           215,
           "Q9HCP0",
           "CK1"
          ],
          [
           216,
           "Q9Y6M4",
           "CK1"
          ],
          [
           217,
           "Q5TCY1",
           "CK1"
          ],
          [
           218,
           "Q6IQ55",
           "CK1"
          ],
          [
           219,
           "Q86Y07",
           "CK1"
          ],
          [
           220,
           "Q8IV63",
           "CK1"
          ],
          [
           221,
           "Q99986",
           "CK1"
          ]
         ],
         "hovertemplate": "<b>%{hovertext}</b><br><br>label=%{customdata[2]}<br>pm1=%{x}<br>pm2=%{y}<br>proteins_id=%{customdata[0]}<br>accession=%{customdata[1]}<extra></extra>",
         "hovertext": [
          "CK1",
          "CK1",
          "CK1",
          "CK1",
          "CK1",
          "CK1",
          "CK1",
          "CK1",
          "CK1",
          "CK1",
          "CK1",
          "CK1"
         ],
         "legendgroup": "CK1",
         "marker": {
          "color": "#0dbae9",
          "symbol": "circle"
         },
         "mode": "markers",
         "name": "CK1",
         "orientation": "v",
         "showlegend": true,
         "type": "scatter",
         "x": [
          0.28552425,
          0.2868342,
          0.2943192,
          0.28950745,
          0.27744028,
          0.2829098,
          0.2942972,
          0.30554214,
          0.31253183,
          0.32091606,
          0.31793138,
          0.3129396
         ],
         "xaxis": "x",
         "y": [
          0.9152588,
          0.908408,
          0.9137029,
          0.9114075,
          0.9106912,
          0.9089453,
          0.89748925,
          0.8752631,
          0.8825402,
          0.88147616,
          0.8583647,
          0.87475127
         ],
         "yaxis": "y"
        },
        {
         "customdata": [
          [
           222,
           "O94921",
           "CMGC"
          ],
          [
           223,
           "P06493",
           "CMGC"
          ],
          [
           224,
           "P11802",
           "CMGC"
          ],
          [
           225,
           "P21127",
           "CMGC"
          ],
          [
           226,
           "P24941",
           "CMGC"
          ],
          [
           227,
           "P49336",
           "CMGC"
          ],
          [
           228,
           "P50613",
           "CMGC"
          ],
          [
           229,
           "P50750",
           "CMGC"
          ],
          [
           230,
           "Q00526",
           "CMGC"
          ],
          [
           231,
           "Q00534",
           "CMGC"
          ],
          [
           232,
           "Q00535",
           "CMGC"
          ],
          [
           233,
           "Q00536",
           "CMGC"
          ],
          [
           234,
           "Q00537",
           "CMGC"
          ],
          [
           235,
           "Q07002",
           "CMGC"
          ],
          [
           236,
           "Q14004",
           "CMGC"
          ],
          [
           237,
           "Q15131",
           "CMGC"
          ],
          [
           238,
           "Q8IZL9",
           "CMGC"
          ],
          [
           239,
           "Q96Q40",
           "CMGC"
          ],
          [
           240,
           "Q9BWU1",
           "CMGC"
          ],
          [
           241,
           "Q9NYV4",
           "CMGC"
          ],
          [
           242,
           "Q9UQ88",
           "CMGC"
          ],
          [
           243,
           "O76039",
           "CMGC"
          ],
          [
           244,
           "Q00532",
           "CMGC"
          ],
          [
           245,
           "Q5MAI5",
           "CMGC"
          ],
          [
           246,
           "Q8IVW4",
           "CMGC"
          ],
          [
           247,
           "Q92772",
           "CMGC"
          ],
          [
           248,
           "P19784",
           "CMGC"
          ],
          [
           249,
           "P68400",
           "CMGC"
          ],
          [
           250,
           "Q8NEV1",
           "CMGC"
          ],
          [
           251,
           "P49759",
           "CMGC"
          ],
          [
           252,
           "P49760",
           "CMGC"
          ],
          [
           253,
           "P49761",
           "CMGC"
          ],
          [
           254,
           "Q9HAZ1",
           "CMGC"
          ],
          [
           255,
           "O43781",
           "CMGC"
          ],
          [
           256,
           "Q13523",
           "CMGC"
          ],
          [
           257,
           "Q13627",
           "CMGC"
          ],
          [
           258,
           "Q86Z02",
           "CMGC"
          ],
          [
           259,
           "Q8NE63",
           "CMGC"
          ],
          [
           260,
           "Q92630",
           "CMGC"
          ],
          [
           261,
           "Q9H2X6",
           "CMGC"
          ],
          [
           262,
           "Q9H422",
           "CMGC"
          ],
          [
           263,
           "Q9NR20",
           "CMGC"
          ],
          [
           264,
           "Q9Y463",
           "CMGC"
          ],
          [
           265,
           "P49840",
           "CMGC"
          ],
          [
           266,
           "P49841",
           "CMGC"
          ],
          [
           267,
           "O15264",
           "CMGC"
          ],
          [
           268,
           "P27361",
           "CMGC"
          ],
          [
           269,
           "P28482",
           "CMGC"
          ],
          [
           270,
           "P31152",
           "CMGC"
          ],
          [
           271,
           "P45983",
           "CMGC"
          ],
          [
           272,
           "P45984",
           "CMGC"
          ],
          [
           273,
           "P53778",
           "CMGC"
          ],
          [
           274,
           "P53779",
           "CMGC"
          ],
          [
           275,
           "Q13164",
           "CMGC"
          ],
          [
           276,
           "Q15759",
           "CMGC"
          ],
          [
           277,
           "Q16539",
           "CMGC"
          ],
          [
           278,
           "Q16659",
           "CMGC"
          ],
          [
           279,
           "Q8TD08",
           "CMGC"
          ],
          [
           280,
           "Q9UBE8",
           "CMGC"
          ],
          [
           281,
           "P20794",
           "CMGC"
          ],
          [
           282,
           "Q9UPZ9",
           "CMGC"
          ],
          [
           283,
           "Q9UQ07",
           "CMGC"
          ],
          [
           284,
           "P78362",
           "CMGC"
          ],
          [
           285,
           "Q96SB4",
           "CMGC"
          ],
          [
           286,
           "Q9UPE1",
           "CMGC"
          ]
         ],
         "hovertemplate": "<b>%{hovertext}</b><br><br>label=%{customdata[2]}<br>pm1=%{x}<br>pm2=%{y}<br>proteins_id=%{customdata[0]}<br>accession=%{customdata[1]}<extra></extra>",
         "hovertext": [
          "CMGC",
          "CMGC",
          "CMGC",
          "CMGC",
          "CMGC",
          "CMGC",
          "CMGC",
          "CMGC",
          "CMGC",
          "CMGC",
          "CMGC",
          "CMGC",
          "CMGC",
          "CMGC",
          "CMGC",
          "CMGC",
          "CMGC",
          "CMGC",
          "CMGC",
          "CMGC",
          "CMGC",
          "CMGC",
          "CMGC",
          "CMGC",
          "CMGC",
          "CMGC",
          "CMGC",
          "CMGC",
          "CMGC",
          "CMGC",
          "CMGC",
          "CMGC",
          "CMGC",
          "CMGC",
          "CMGC",
          "CMGC",
          "CMGC",
          "CMGC",
          "CMGC",
          "CMGC",
          "CMGC",
          "CMGC",
          "CMGC",
          "CMGC",
          "CMGC",
          "CMGC",
          "CMGC",
          "CMGC",
          "CMGC",
          "CMGC",
          "CMGC",
          "CMGC",
          "CMGC",
          "CMGC",
          "CMGC",
          "CMGC",
          "CMGC",
          "CMGC",
          "CMGC",
          "CMGC",
          "CMGC",
          "CMGC",
          "CMGC",
          "CMGC",
          "CMGC"
         ],
         "legendgroup": "CMGC",
         "marker": {
          "color": "#d5c203",
          "symbol": "circle"
         },
         "mode": "markers",
         "name": "CMGC",
         "orientation": "v",
         "showlegend": true,
         "type": "scatter",
         "x": [
          -0.214467,
          -0.20558915,
          -0.21343978,
          -0.22561122,
          -0.20758156,
          -0.16194421,
          -0.22496028,
          -0.22592294,
          -0.20963211,
          -0.19248648,
          -0.20742162,
          -0.21492834,
          -0.21367739,
          -0.21313837,
          -0.22212902,
          -0.22037196,
          -0.20979424,
          -0.21467714,
          -0.1621584,
          -0.22053224,
          -0.224673,
          -0.13213004,
          -0.14132795,
          -0.13301867,
          -0.12293613,
          -0.13614962,
          -0.09813097,
          -0.111816,
          -0.10550491,
          0.103394516,
          0.09924566,
          0.10295548,
          0.08717937,
          0.22570036,
          0.051450867,
          0.21349326,
          0.16678451,
          0.10219157,
          0.20153478,
          0.124982774,
          0.12890807,
          0.21168238,
          0.20125009,
          -0.14173014,
          -0.13748711,
          -0.2910736,
          -0.3008727,
          -0.3037592,
          -0.23752427,
          -0.29671195,
          -0.29406232,
          -0.2883062,
          -0.2922529,
          -0.2979252,
          -0.29183322,
          -0.29734173,
          -0.24368459,
          -0.27879247,
          -0.29544735,
          -0.14636135,
          -0.14672844,
          -0.121095516,
          0.31623414,
          0.29603606,
          0.25642967
         ],
         "xaxis": "x",
         "y": [
          -0.94406825,
          -0.94865143,
          -0.9240137,
          -0.94763815,
          -0.9539676,
          -0.9366948,
          -0.92772025,
          -0.9514481,
          -0.9516666,
          -0.93094325,
          -0.9440512,
          -0.9488675,
          -0.9512729,
          -0.94430614,
          -0.9529521,
          -0.9426816,
          -0.91272885,
          -0.9362462,
          -0.9291901,
          -0.9543307,
          -0.94331264,
          -0.91095877,
          -0.9302072,
          -0.938036,
          -0.93541175,
          -0.9220382,
          -0.900057,
          -0.91332304,
          -0.9218133,
          -0.8959827,
          -0.8829216,
          -0.867321,
          -0.8882614,
          -0.86104393,
          -0.86532575,
          -0.85586756,
          -0.8722188,
          -0.8414563,
          -0.8736275,
          -0.89161146,
          -0.8716902,
          -0.8793426,
          -0.85138136,
          -0.94317156,
          -0.9458033,
          -0.93003947,
          -0.9229275,
          -0.92457,
          -0.9048981,
          -0.93541956,
          -0.93439347,
          -0.9327612,
          -0.9362371,
          -0.9187793,
          -0.92350525,
          -0.929274,
          -0.9191726,
          -0.9210124,
          -0.92223054,
          -0.91492987,
          -0.9344852,
          -0.9211102,
          -0.71871436,
          -0.7164751,
          -0.81182873
         ],
         "yaxis": "y"
        },
        {
         "customdata": [
          [
           287,
           "P51956",
           "NEK"
          ],
          [
           288,
           "Q6P3R8",
           "NEK"
          ],
          [
           289,
           "Q96PY6",
           "NEK"
          ],
          [
           290,
           "Q6ZWH5",
           "NEK"
          ],
          [
           291,
           "Q8NG66",
           "NEK"
          ],
          [
           292,
           "P51955",
           "NEK"
          ],
          [
           293,
           "P51957",
           "NEK"
          ],
          [
           294,
           "Q8TDX7",
           "NEK"
          ],
          [
           295,
           "Q9HC98",
           "NEK"
          ],
          [
           296,
           "Q86SG6",
           "NEK"
          ],
          [
           297,
           "Q8TD19",
           "NEK"
          ]
         ],
         "hovertemplate": "<b>%{hovertext}</b><br><br>label=%{customdata[2]}<br>pm1=%{x}<br>pm2=%{y}<br>proteins_id=%{customdata[0]}<br>accession=%{customdata[1]}<extra></extra>",
         "hovertext": [
          "NEK",
          "NEK",
          "NEK",
          "NEK",
          "NEK",
          "NEK",
          "NEK",
          "NEK",
          "NEK",
          "NEK",
          "NEK"
         ],
         "legendgroup": "NEK",
         "marker": {
          "color": "#8ce4fa",
          "symbol": "circle"
         },
         "mode": "markers",
         "name": "NEK",
         "orientation": "v",
         "showlegend": true,
         "type": "scatter",
         "x": [
          0.13351414,
          0.13370506,
          0.119429834,
          0.17743897,
          0.15866818,
          0.1695604,
          0.14671703,
          0.14165863,
          0.14438346,
          0.14261596,
          0.16939138
         ],
         "xaxis": "x",
         "y": [
          0.6039005,
          0.6041406,
          0.5758891,
          0.5274134,
          0.5766912,
          0.5632267,
          0.5861847,
          0.5469956,
          0.56284714,
          0.59427905,
          0.57044834
         ],
         "yaxis": "y"
        },
        {
         "customdata": [
          [
           298,
           "O14965",
           "nan"
          ],
          [
           299,
           "Q96GD4",
           "nan"
          ],
          [
           300,
           "Q9UQB9",
           "nan"
          ],
          [
           301,
           "O43683",
           "nan"
          ],
          [
           302,
           "O60566",
           "nan"
          ],
          [
           303,
           "Q8N5S9",
           "nan"
          ],
          [
           304,
           "Q96RR4",
           "nan"
          ],
          [
           305,
           "O00311",
           "nan"
          ],
          [
           306,
           "Q6XUX3",
           "nan"
          ],
          [
           307,
           "Q8TF76",
           "nan"
          ],
          [
           308,
           "O14920",
           "nan"
          ],
          [
           309,
           "O15111",
           "nan"
          ],
          [
           310,
           "Q14164",
           "nan"
          ],
          [
           311,
           "Q9UHD2",
           "nan"
          ],
          [
           312,
           "O75460",
           "nan"
          ],
          [
           313,
           "Q76MJ5",
           "nan"
          ],
          [
           314,
           "Q8TAS1",
           "nan"
          ],
          [
           315,
           "P00540",
           "nan"
          ],
          [
           316,
           "O14976",
           "nan"
          ],
          [
           317,
           "O75716",
           "nan"
          ],
          [
           318,
           "Q2M2I8",
           "nan"
          ],
          [
           319,
           "Q9NSY1",
           "nan"
          ],
          [
           320,
           "P0C263",
           "nan"
          ],
          [
           321,
           "P0C264",
           "nan"
          ],
          [
           322,
           "Q52WX2",
           "nan"
          ],
          [
           323,
           "Q9BXM7",
           "nan"
          ],
          [
           324,
           "Q6ZS72",
           "nan"
          ],
          [
           325,
           "Q86YV5",
           "nan"
          ],
          [
           326,
           "Q9H792",
           "nan"
          ],
          [
           327,
           "Q8N165",
           "nan"
          ],
          [
           328,
           "Q8TDR2",
           "nan"
          ],
          [
           329,
           "Q8IWB6",
           "nan"
          ],
          [
           330,
           "Q9NSY0",
           "nan"
          ],
          [
           331,
           "Q9UHY1",
           "nan"
          ],
          [
           332,
           "Q58A45",
           "nan"
          ],
          [
           333,
           "P19525",
           "nan"
          ],
          [
           334,
           "Q9BQI3",
           "nan"
          ],
          [
           335,
           "Q9NZJ5",
           "nan"
          ],
          [
           336,
           "Q9P2K8|1",
           "nan"
          ],
          [
           337,
           "Q9P2K8|2",
           "nan"
          ],
          [
           338,
           "O00444",
           "nan"
          ],
          [
           339,
           "P53350",
           "nan"
          ],
          [
           340,
           "Q496M5",
           "nan"
          ],
          [
           341,
           "Q9H4B4",
           "nan"
          ],
          [
           342,
           "Q9NYY3",
           "nan"
          ],
          [
           343,
           "Q9H5K3",
           "nan"
          ],
          [
           344,
           "Q05823",
           "nan"
          ],
          [
           345,
           "Q6P3W7",
           "nan"
          ],
          [
           346,
           "Q8IZE3",
           "nan"
          ],
          [
           347,
           "Q96KG9",
           "nan"
          ],
          [
           348,
           "Q9BXU1",
           "nan"
          ],
          [
           349,
           "Q8NE28",
           "nan"
          ],
          [
           350,
           "Q504Y2",
           "nan"
          ],
          [
           351,
           "Q7Z7A4",
           "nan"
          ],
          [
           352,
           "Q8TEA7",
           "nan"
          ],
          [
           353,
           "Q86UE8",
           "nan"
          ],
          [
           354,
           "Q9UKI8",
           "nan"
          ],
          [
           355,
           "Q96KB5",
           "nan"
          ],
          [
           356,
           "P33981",
           "nan"
          ],
          [
           357,
           "O75385",
           "nan"
          ],
          [
           358,
           "Q6PHR2",
           "nan"
          ],
          [
           359,
           "Q8IYT8",
           "nan"
          ],
          [
           360,
           "Q96C45",
           "nan"
          ],
          [
           361,
           "Q9NRP7",
           "nan"
          ],
          [
           362,
           "Q99570",
           "nan"
          ],
          [
           363,
           "P0C1S8",
           "nan"
          ],
          [
           364,
           "P30291",
           "nan"
          ],
          [
           365,
           "Q99640",
           "nan"
          ],
          [
           366,
           "Q96J92",
           "nan"
          ],
          [
           367,
           "Q9BYP7",
           "nan"
          ],
          [
           368,
           "Q9H4A3",
           "nan"
          ],
          [
           369,
           "Q9Y3S1",
           "nan"
          ]
         ],
         "hovertemplate": "<b>%{hovertext}</b><br><br>label=%{customdata[2]}<br>pm1=%{x}<br>pm2=%{y}<br>proteins_id=%{customdata[0]}<br>accession=%{customdata[1]}<extra></extra>",
         "hovertext": [
          "nan",
          "nan",
          "nan",
          "nan",
          "nan",
          "nan",
          "nan",
          "nan",
          "nan",
          "nan",
          "nan",
          "nan",
          "nan",
          "nan",
          "nan",
          "nan",
          "nan",
          "nan",
          "nan",
          "nan",
          "nan",
          "nan",
          "nan",
          "nan",
          "nan",
          "nan",
          "nan",
          "nan",
          "nan",
          "nan",
          "nan",
          "nan",
          "nan",
          "nan",
          "nan",
          "nan",
          "nan",
          "nan",
          "nan",
          "nan",
          "nan",
          "nan",
          "nan",
          "nan",
          "nan",
          "nan",
          "nan",
          "nan",
          "nan",
          "nan",
          "nan",
          "nan",
          "nan",
          "nan",
          "nan",
          "nan",
          "nan",
          "nan",
          "nan",
          "nan",
          "nan",
          "nan",
          "nan",
          "nan",
          "nan",
          "nan",
          "nan",
          "nan",
          "nan",
          "nan",
          "nan",
          "nan"
         ],
         "legendgroup": "nan",
         "marker": {
          "color": "#c7c7c7",
          "symbol": "circle"
         },
         "mode": "markers",
         "name": "nan",
         "orientation": "v",
         "showlegend": true,
         "type": "scatter",
         "x": [
          -0.6476801,
          -0.6586754,
          -0.6431555,
          0.14887823,
          0.12258578,
          -0.5139433,
          -0.5139341,
          0.32437602,
          -0.4744156,
          -0.23016654,
          -0.13370948,
          -0.22614847,
          -0.2530726,
          -0.25318742,
          -0.27211,
          -0.38483447,
          0.025493491,
          -0.50367457,
          -0.001487244,
          -0.2138243,
          0.10298314,
          0.10348086,
          -0.40923893,
          -0.40858674,
          -0.38760537,
          0.053467687,
          0.15909928,
          0.18020912,
          0.18959367,
          0.035969008,
          0.045919865,
          -0.5135426,
          -0.12327846,
          -0.6714986,
          -0.04730489,
          0.012143241,
          0.26173556,
          0.30363983,
          -0.13270837,
          0.2816905,
          -0.6112095,
          -0.6251155,
          -0.5042483,
          -0.6158716,
          -0.6284077,
          -0.5397912,
          0.08013022,
          -0.09514034,
          -0.08659443,
          -0.08655521,
          0.13528174,
          -0.0043324498,
          -0.4077729,
          -0.05291754,
          -0.06245924,
          -0.20999995,
          -0.21214527,
          -0.521342,
          -0.18064651,
          -0.5299888,
          -0.5441899,
          -0.43392146,
          -0.28732175,
          0.15171942,
          -0.082934275,
          -0.08551601,
          -0.15601364,
          -0.36852443,
          -0.6737329,
          -0.678732,
          -0.6966815,
          -0.67846185
         ],
         "xaxis": "x",
         "y": [
          -0.6296375,
          -0.6149416,
          -0.62329125,
          -0.18608947,
          -0.34557265,
          -0.63957566,
          -0.6396395,
          -0.6725691,
          0.6153396,
          0.07903352,
          -0.26489407,
          -0.34162495,
          -0.263475,
          -0.2638992,
          -0.093785524,
          -0.20381075,
          -0.73653054,
          0.6751015,
          0.2205325,
          -0.09198449,
          0.48503914,
          0.48514798,
          -0.36676776,
          -0.3670334,
          -0.36116946,
          -0.4649877,
          -0.44419914,
          -0.49144724,
          -0.5179202,
          -0.38007298,
          -0.4172635,
          0.680492,
          -0.5057,
          -0.6482116,
          -0.47374663,
          -0.073237576,
          -0.5788991,
          -0.6500716,
          -0.48602748,
          -0.6182025,
          -0.6104381,
          -0.6390182,
          -0.48606846,
          -0.62045264,
          -0.62087035,
          0.5799369,
          -0.30705848,
          -0.43356705,
          -0.4824444,
          -0.48390427,
          -0.42164585,
          -0.34634826,
          0.5900471,
          -0.4711275,
          -0.42585304,
          -0.19975677,
          -0.16438027,
          0.602719,
          -0.12414678,
          -0.59358686,
          -0.5834,
          -0.62547237,
          -0.47916606,
          0.58417016,
          -0.15610367,
          -0.20402451,
          -0.10182324,
          -0.15193275,
          -0.6307987,
          -0.62756467,
          -0.6052091,
          -0.61964554
         ],
         "yaxis": "y"
        },
        {
         "customdata": [
          [
           370,
           "P16066",
           "RGC"
          ],
          [
           371,
           "P20594",
           "RGC"
          ],
          [
           372,
           "P25092",
           "RGC"
          ],
          [
           373,
           "P51841",
           "RGC"
          ],
          [
           374,
           "Q02846",
           "RGC"
          ]
         ],
         "hovertemplate": "<b>%{hovertext}</b><br><br>label=%{customdata[2]}<br>pm1=%{x}<br>pm2=%{y}<br>proteins_id=%{customdata[0]}<br>accession=%{customdata[1]}<extra></extra>",
         "hovertext": [
          "RGC",
          "RGC",
          "RGC",
          "RGC",
          "RGC"
         ],
         "legendgroup": "RGC",
         "marker": {
          "color": "#f59a62",
          "symbol": "circle"
         },
         "mode": "markers",
         "name": "RGC",
         "orientation": "v",
         "showlegend": true,
         "type": "scatter",
         "x": [
          -0.6328649,
          -0.62670815,
          -0.6392743,
          -0.60814303,
          -0.49187106
         ],
         "xaxis": "x",
         "y": [
          0.6240697,
          0.61827,
          0.59090847,
          0.6099581,
          0.6483557
         ],
         "yaxis": "y"
        },
        {
         "customdata": [
          [
           375,
           "P41279",
           "STE"
          ],
          [
           376,
           "Q99558",
           "STE"
          ],
          [
           377,
           "O95382",
           "STE"
          ],
          [
           378,
           "Q13233",
           "STE"
          ],
          [
           379,
           "Q56UN5",
           "STE"
          ],
          [
           380,
           "Q6ZN16",
           "STE"
          ],
          [
           381,
           "Q99683",
           "STE"
          ],
          [
           382,
           "Q99759",
           "STE"
          ],
          [
           383,
           "Q9Y2U5",
           "STE"
          ],
          [
           384,
           "Q9Y6R4",
           "STE"
          ],
          [
           385,
           "O00506",
           "STE"
          ],
          [
           386,
           "O75914",
           "STE"
          ],
          [
           387,
           "O94804",
           "STE"
          ],
          [
           388,
           "O95747",
           "STE"
          ],
          [
           389,
           "O95819",
           "STE"
          ],
          [
           390,
           "O96013",
           "STE"
          ],
          [
           391,
           "Q12851",
           "STE"
          ],
          [
           392,
           "Q13043",
           "STE"
          ],
          [
           393,
           "Q13153",
           "STE"
          ],
          [
           394,
           "Q13177",
           "STE"
          ],
          [
           395,
           "Q13188",
           "STE"
          ],
          [
           396,
           "Q7L7X3",
           "STE"
          ],
          [
           397,
           "Q7RTN6",
           "STE"
          ],
          [
           398,
           "Q7Z2Y5",
           "STE"
          ],
          [
           399,
           "Q8IVH8",
           "STE"
          ],
          [
           400,
           "Q8N4C8",
           "STE"
          ],
          [
           401,
           "Q8NEV4",
           "STE"
          ],
          [
           402,
           "Q8WXR4",
           "STE"
          ],
          [
           403,
           "Q92918",
           "STE"
          ],
          [
           404,
           "Q9C0K7",
           "STE"
          ],
          [
           405,
           "Q9H2G2",
           "STE"
          ],
          [
           406,
           "Q9H2K8",
           "STE"
          ],
          [
           407,
           "Q9NQU5",
           "STE"
          ],
          [
           408,
           "Q9P286",
           "STE"
          ],
          [
           409,
           "Q9P289",
           "STE"
          ],
          [
           410,
           "Q9UEW8",
           "STE"
          ],
          [
           411,
           "Q9UKE5",
           "STE"
          ],
          [
           412,
           "Q9UL54",
           "STE"
          ],
          [
           413,
           "Q9Y4K4",
           "STE"
          ],
          [
           414,
           "Q9Y6E0",
           "STE"
          ],
          [
           415,
           "O14733",
           "STE"
          ],
          [
           416,
           "P36507",
           "STE"
          ],
          [
           417,
           "P45985",
           "STE"
          ],
          [
           418,
           "P46734",
           "STE"
          ],
          [
           419,
           "P52564",
           "STE"
          ],
          [
           420,
           "Q02750",
           "STE"
          ],
          [
           421,
           "Q13163",
           "STE"
          ]
         ],
         "hovertemplate": "<b>%{hovertext}</b><br><br>label=%{customdata[2]}<br>pm1=%{x}<br>pm2=%{y}<br>proteins_id=%{customdata[0]}<br>accession=%{customdata[1]}<extra></extra>",
         "hovertext": [
          "STE",
          "STE",
          "STE",
          "STE",
          "STE",
          "STE",
          "STE",
          "STE",
          "STE",
          "STE",
          "STE",
          "STE",
          "STE",
          "STE",
          "STE",
          "STE",
          "STE",
          "STE",
          "STE",
          "STE",
          "STE",
          "STE",
          "STE",
          "STE",
          "STE",
          "STE",
          "STE",
          "STE",
          "STE",
          "STE",
          "STE",
          "STE",
          "STE",
          "STE",
          "STE",
          "STE",
          "STE",
          "STE",
          "STE",
          "STE",
          "STE",
          "STE",
          "STE",
          "STE",
          "STE",
          "STE",
          "STE"
         ],
         "legendgroup": "STE",
         "marker": {
          "color": "#80b412",
          "symbol": "circle"
         },
         "mode": "markers",
         "name": "STE",
         "orientation": "v",
         "showlegend": true,
         "type": "scatter",
         "x": [
          -0.6609491,
          -0.5953744,
          -0.8228786,
          -0.7873004,
          -0.8354063,
          -0.8396294,
          -0.8368487,
          -0.840927,
          -0.8226866,
          -0.80029976,
          -0.82226306,
          -0.8264109,
          -0.80907696,
          -0.83944994,
          -0.78307664,
          -0.83456016,
          -0.80393785,
          -0.8178559,
          -0.8314867,
          -0.83334005,
          -0.80911535,
          -0.82312196,
          -0.83029646,
          -0.7980428,
          -0.7901198,
          -0.78857946,
          -0.7729449,
          -0.79123497,
          -0.80019796,
          -0.8371845,
          -0.8005208,
          -0.825447,
          -0.83945626,
          -0.8320387,
          -0.8154523,
          -0.83566976,
          -0.78250104,
          -0.8296799,
          -0.8082854,
          -0.82502145,
          -0.8569013,
          -0.8500714,
          -0.8535471,
          -0.8507185,
          -0.8446072,
          -0.84286904,
          -0.8472635
         ],
         "xaxis": "x",
         "y": [
          -0.27582836,
          -0.25527915,
          -0.25328645,
          -0.28924367,
          -0.27766037,
          -0.2514226,
          -0.23820236,
          -0.26481315,
          -0.26416728,
          -0.24332738,
          -0.50695974,
          -0.501352,
          -0.5242186,
          -0.4723153,
          -0.5500777,
          -0.47816026,
          -0.53771114,
          -0.50133276,
          -0.5000826,
          -0.49512637,
          -0.49589273,
          -0.46745494,
          -0.4189683,
          -0.5466765,
          -0.525789,
          -0.5481299,
          -0.545475,
          -0.5410185,
          -0.53455305,
          -0.39297092,
          -0.52819026,
          -0.47952074,
          -0.48083758,
          -0.48479015,
          -0.5079068,
          -0.4651563,
          -0.54329157,
          -0.47561485,
          -0.533071,
          -0.50959295,
          -0.42109728,
          -0.41103995,
          -0.42559123,
          -0.43504694,
          -0.43057215,
          -0.41765982,
          -0.41975218
         ],
         "yaxis": "y"
        },
        {
         "customdata": [
          [
           422,
           "O43187",
           "TKL"
          ],
          [
           423,
           "P51617",
           "TKL"
          ],
          [
           424,
           "Q9NWZ3",
           "TKL"
          ],
          [
           425,
           "Q9Y616",
           "TKL"
          ],
          [
           426,
           "P53667",
           "TKL"
          ],
          [
           427,
           "P53671",
           "TKL"
          ],
          [
           428,
           "Q38SD2",
           "TKL"
          ],
          [
           429,
           "Q5S007",
           "TKL"
          ],
          [
           430,
           "O43283",
           "TKL"
          ],
          [
           431,
           "O43318",
           "TKL"
          ],
          [
           432,
           "P80192",
           "TKL"
          ],
          [
           433,
           "Q02779",
           "TKL"
          ],
          [
           434,
           "Q12852",
           "TKL"
          ],
          [
           435,
           "Q13418",
           "TKL"
          ],
          [
           436,
           "Q16584",
           "TKL"
          ],
          [
           437,
           "Q59H18",
           "TKL"
          ],
          [
           438,
           "Q5TCX8",
           "TKL"
          ],
          [
           439,
           "Q9NYL2",
           "TKL"
          ],
          [
           440,
           "P04049",
           "TKL"
          ],
          [
           441,
           "P10398",
           "TKL"
          ],
          [
           442,
           "P15056",
           "TKL"
          ],
          [
           443,
           "Q6VAB6",
           "TKL"
          ],
          [
           444,
           "Q8IVT5",
           "TKL"
          ],
          [
           445,
           "O43353",
           "TKL"
          ],
          [
           446,
           "P57078",
           "TKL"
          ],
          [
           447,
           "Q13546",
           "TKL"
          ],
          [
           448,
           "Q8NFD2",
           "TKL"
          ],
          [
           449,
           "Q9Y572",
           "TKL"
          ],
          [
           450,
           "O00238",
           "TKL"
          ],
          [
           451,
           "P27037",
           "TKL"
          ],
          [
           452,
           "P36894",
           "TKL"
          ],
          [
           453,
           "P36896",
           "TKL"
          ],
          [
           454,
           "P36897",
           "TKL"
          ],
          [
           455,
           "P37023",
           "TKL"
          ],
          [
           456,
           "P37173",
           "TKL"
          ],
          [
           457,
           "Q04771",
           "TKL"
          ],
          [
           458,
           "Q13705",
           "TKL"
          ],
          [
           459,
           "Q13873",
           "TKL"
          ],
          [
           460,
           "Q16671",
           "TKL"
          ],
          [
           461,
           "Q8NER5",
           "TKL"
          ],
          [
           462,
           "Q15569",
           "TKL"
          ],
          [
           463,
           "Q96S53",
           "TKL"
          ],
          [
           464,
           "Q8NB16",
           "TKL"
          ]
         ],
         "hovertemplate": "<b>%{hovertext}</b><br><br>label=%{customdata[2]}<br>pm1=%{x}<br>pm2=%{y}<br>proteins_id=%{customdata[0]}<br>accession=%{customdata[1]}<extra></extra>",
         "hovertext": [
          "TKL",
          "TKL",
          "TKL",
          "TKL",
          "TKL",
          "TKL",
          "TKL",
          "TKL",
          "TKL",
          "TKL",
          "TKL",
          "TKL",
          "TKL",
          "TKL",
          "TKL",
          "TKL",
          "TKL",
          "TKL",
          "TKL",
          "TKL",
          "TKL",
          "TKL",
          "TKL",
          "TKL",
          "TKL",
          "TKL",
          "TKL",
          "TKL",
          "TKL",
          "TKL",
          "TKL",
          "TKL",
          "TKL",
          "TKL",
          "TKL",
          "TKL",
          "TKL",
          "TKL",
          "TKL",
          "TKL",
          "TKL",
          "TKL",
          "TKL"
         ],
         "legendgroup": "TKL",
         "marker": {
          "color": "#997e73",
          "symbol": "circle"
         },
         "mode": "markers",
         "name": "TKL",
         "orientation": "v",
         "showlegend": true,
         "type": "scatter",
         "x": [
          -0.51593447,
          -0.525481,
          -0.5360749,
          -0.52191883,
          -0.57583255,
          -0.5768,
          -0.49796075,
          -0.5024278,
          -0.59984463,
          -0.61048555,
          -0.61587644,
          -0.6188679,
          -0.59790826,
          -0.5852455,
          -0.62067676,
          -0.6171566,
          -0.62368596,
          -0.6085462,
          -0.5778359,
          -0.57990277,
          -0.59882075,
          -0.5712309,
          -0.55091435,
          -0.5906492,
          -0.53627735,
          -0.54825056,
          -0.53888434,
          -0.46880898,
          -0.3257108,
          -0.32895014,
          -0.3277562,
          -0.3373977,
          -0.32071283,
          -0.33642194,
          -0.36150444,
          -0.34137756,
          -0.34813282,
          -0.34717685,
          -0.36218187,
          -0.31612152,
          -0.58232427,
          -0.5845805,
          -0.52777755
         ],
         "xaxis": "x",
         "y": [
          0.7423912,
          0.74203086,
          0.74688816,
          0.73674315,
          0.7384143,
          0.7348583,
          0.65742207,
          0.61703026,
          0.7189526,
          0.71812445,
          0.72641814,
          0.732606,
          0.7321449,
          0.5977282,
          0.72965175,
          0.706523,
          0.72386533,
          0.73364836,
          0.69529015,
          0.70875937,
          0.6932818,
          0.6465394,
          0.6050944,
          0.66705,
          0.7050379,
          0.64422494,
          0.6782602,
          0.668052,
          0.85389435,
          0.82887703,
          0.8663926,
          0.86748207,
          0.8724109,
          0.84753174,
          0.837284,
          0.85895264,
          0.83867633,
          0.82616186,
          0.7881917,
          0.8578099,
          0.73952156,
          0.74447864,
          0.64479905
         ],
         "yaxis": "y"
        },
        {
         "customdata": [
          [
           465,
           "P29376",
           "TK"
          ],
          [
           466,
           "Q9UM73",
           "TK"
          ],
          [
           467,
           "P00519",
           "TK"
          ],
          [
           468,
           "P42684",
           "TK"
          ],
          [
           469,
           "Q07912",
           "TK"
          ],
          [
           470,
           "Q13470",
           "TK"
          ],
          [
           471,
           "P30530",
           "TK"
          ],
          [
           472,
           "Q06418",
           "TK"
          ],
          [
           473,
           "Q12866",
           "TK"
          ],
          [
           474,
           "Q13308",
           "TK"
          ],
          [
           475,
           "P41240",
           "TK"
          ],
          [
           476,
           "P42679",
           "TK"
          ],
          [
           477,
           "Q08345",
           "TK"
          ],
          [
           478,
           "Q16832",
           "TK"
          ],
          [
           479,
           "P00533",
           "TK"
          ],
          [
           480,
           "P04626",
           "TK"
          ],
          [
           481,
           "P21860",
           "TK"
          ],
          [
           482,
           "Q15303",
           "TK"
          ],
          [
           483,
           "O15197",
           "TK"
          ],
          [
           484,
           "P21709",
           "TK"
          ],
          [
           485,
           "P29317",
           "TK"
          ],
          [
           486,
           "P29320",
           "TK"
          ],
          [
           487,
           "P29322",
           "TK"
          ],
          [
           488,
           "P29323",
           "TK"
          ],
          [
           489,
           "P54753",
           "TK"
          ],
          [
           490,
           "P54756",
           "TK"
          ],
          [
           491,
           "P54760",
           "TK"
          ],
          [
           492,
           "P54762",
           "TK"
          ],
          [
           493,
           "P54764",
           "TK"
          ],
          [
           494,
           "Q15375",
           "TK"
          ],
          [
           495,
           "Q5JZY3",
           "TK"
          ],
          [
           496,
           "Q9UF33",
           "TK"
          ],
          [
           497,
           "Q05397",
           "TK"
          ],
          [
           498,
           "Q14289",
           "TK"
          ],
          [
           499,
           "P11362",
           "TK"
          ],
          [
           500,
           "P21802",
           "TK"
          ],
          [
           501,
           "P22455",
           "TK"
          ],
          [
           502,
           "P22607",
           "TK"
          ],
          [
           503,
           "P07332",
           "TK"
          ],
          [
           504,
           "P16591",
           "TK"
          ],
          [
           505,
           "P06213",
           "TK"
          ],
          [
           506,
           "P08069",
           "TK"
          ],
          [
           507,
           "P14616",
           "TK"
          ],
          [
           508,
           "O60674|1",
           "TK"
          ],
          [
           509,
           "P23458|1",
           "TK"
          ],
          [
           510,
           "P29597|1",
           "TK"
          ],
          [
           511,
           "P52333|1",
           "TK"
          ],
          [
           512,
           "O60674|2",
           "TK"
          ],
          [
           513,
           "P23458|2",
           "TK"
          ],
          [
           514,
           "P29597|2",
           "TK"
          ],
          [
           515,
           "P52333|2",
           "TK"
          ],
          [
           516,
           "Q6ZMQ8",
           "TK"
          ],
          [
           517,
           "Q8IWU2",
           "TK"
          ],
          [
           518,
           "Q96Q04",
           "TK"
          ],
          [
           519,
           "P08581",
           "TK"
          ],
          [
           520,
           "Q04912",
           "TK"
          ],
          [
           521,
           "O15146",
           "TK"
          ],
          [
           522,
           "P07333",
           "TK"
          ],
          [
           523,
           "P09619",
           "TK"
          ],
          [
           524,
           "P10721",
           "TK"
          ],
          [
           525,
           "P16234",
           "TK"
          ],
          [
           526,
           "P36888",
           "TK"
          ],
          [
           527,
           "P07949",
           "TK"
          ],
          [
           528,
           "Q01973",
           "TK"
          ],
          [
           529,
           "Q01974",
           "TK"
          ],
          [
           530,
           "P34925",
           "TK"
          ],
          [
           531,
           "Q6J9G0",
           "TK"
          ],
          [
           532,
           "P08922",
           "TK"
          ],
          [
           533,
           "P06239",
           "TK"
          ],
          [
           534,
           "P06241",
           "TK"
          ],
          [
           535,
           "P07947",
           "TK"
          ],
          [
           536,
           "P07948",
           "TK"
          ],
          [
           537,
           "P08631",
           "TK"
          ],
          [
           538,
           "P09769",
           "TK"
          ],
          [
           539,
           "P12931",
           "TK"
          ],
          [
           540,
           "P42685",
           "TK"
          ],
          [
           541,
           "P51451",
           "TK"
          ],
          [
           542,
           "Q13882",
           "TK"
          ],
          [
           543,
           "Q9H3Y6",
           "TK"
          ],
          [
           544,
           "P43403",
           "TK"
          ],
          [
           545,
           "P43405",
           "TK"
          ],
          [
           546,
           "P42680",
           "TK"
          ],
          [
           547,
           "P42681",
           "TK"
          ],
          [
           548,
           "P51813",
           "TK"
          ],
          [
           549,
           "Q06187",
           "TK"
          ],
          [
           550,
           "Q08881",
           "TK"
          ],
          [
           551,
           "P35590",
           "TK"
          ],
          [
           552,
           "Q02763",
           "TK"
          ],
          [
           553,
           "P04629",
           "TK"
          ],
          [
           554,
           "Q16288",
           "TK"
          ],
          [
           555,
           "Q16620",
           "TK"
          ],
          [
           556,
           "P17948",
           "TK"
          ],
          [
           557,
           "P35916",
           "TK"
          ],
          [
           558,
           "P35968",
           "TK"
          ]
         ],
         "hovertemplate": "<b>%{hovertext}</b><br><br>label=%{customdata[2]}<br>pm1=%{x}<br>pm2=%{y}<br>proteins_id=%{customdata[0]}<br>accession=%{customdata[1]}<extra></extra>",
         "hovertext": [
          "TK",
          "TK",
          "TK",
          "TK",
          "TK",
          "TK",
          "TK",
          "TK",
          "TK",
          "TK",
          "TK",
          "TK",
          "TK",
          "TK",
          "TK",
          "TK",
          "TK",
          "TK",
          "TK",
          "TK",
          "TK",
          "TK",
          "TK",
          "TK",
          "TK",
          "TK",
          "TK",
          "TK",
          "TK",
          "TK",
          "TK",
          "TK",
          "TK",
          "TK",
          "TK",
          "TK",
          "TK",
          "TK",
          "TK",
          "TK",
          "TK",
          "TK",
          "TK",
          "TK",
          "TK",
          "TK",
          "TK",
          "TK",
          "TK",
          "TK",
          "TK",
          "TK",
          "TK",
          "TK",
          "TK",
          "TK",
          "TK",
          "TK",
          "TK",
          "TK",
          "TK",
          "TK",
          "TK",
          "TK",
          "TK",
          "TK",
          "TK",
          "TK",
          "TK",
          "TK",
          "TK",
          "TK",
          "TK",
          "TK",
          "TK",
          "TK",
          "TK",
          "TK",
          "TK",
          "TK",
          "TK",
          "TK",
          "TK",
          "TK",
          "TK",
          "TK",
          "TK",
          "TK",
          "TK",
          "TK",
          "TK",
          "TK",
          "TK",
          "TK"
         ],
         "legendgroup": "TK",
         "marker": {
          "color": "orange",
          "symbol": "circle"
         },
         "mode": "markers",
         "name": "TK",
         "orientation": "v",
         "showlegend": true,
         "type": "scatter",
         "x": [
          -0.85075516,
          -0.8614262,
          -0.91159403,
          -0.90769035,
          -0.8788179,
          -0.82819515,
          -0.8503401,
          -0.8401748,
          -0.8445584,
          -0.8454024,
          -0.9082756,
          -0.9014751,
          -0.8048374,
          -0.805888,
          -0.8612209,
          -0.8611714,
          -0.83343273,
          -0.86120385,
          -0.82721883,
          -0.88985944,
          -0.9034045,
          -0.89747405,
          -0.8918789,
          -0.8969885,
          -0.8893856,
          -0.90341926,
          -0.88897216,
          -0.9000346,
          -0.9026074,
          -0.90230095,
          -0.844361,
          -0.8634233,
          -0.8761009,
          -0.86312985,
          -0.87517774,
          -0.8736265,
          -0.8737066,
          -0.87546206,
          -0.88324165,
          -0.90420455,
          -0.8644345,
          -0.8552942,
          -0.85495657,
          -0.6789274,
          -0.6673143,
          -0.62052995,
          -0.67369795,
          -0.7796642,
          -0.74604535,
          -0.7737856,
          -0.7945984,
          -0.7832022,
          -0.7371088,
          -0.77753854,
          -0.84831476,
          -0.84859246,
          -0.80651736,
          -0.8963192,
          -0.89728624,
          -0.89746726,
          -0.8959001,
          -0.8957318,
          -0.87627393,
          -0.80369526,
          -0.81855774,
          -0.8153444,
          -0.802253,
          -0.84888697,
          -0.93011254,
          -0.94021326,
          -0.9372056,
          -0.9289823,
          -0.9385179,
          -0.9390811,
          -0.9350265,
          -0.92070216,
          -0.9278886,
          -0.8523443,
          -0.89484584,
          -0.8169878,
          -0.8232162,
          -0.8603218,
          -0.8718248,
          -0.8852382,
          -0.8832316,
          -0.8733159,
          -0.8608877,
          -0.85531116,
          -0.8097099,
          -0.8076271,
          -0.8120919,
          -0.8971879,
          -0.8959135,
          -0.89352125
         ],
         "xaxis": "x",
         "y": [
          0.45631,
          0.45082778,
          0.2192614,
          0.22318368,
          0.3188995,
          0.31979737,
          0.43620285,
          0.4354801,
          0.4422625,
          0.41440645,
          0.270335,
          0.27522135,
          0.40623927,
          0.41949296,
          0.2898578,
          0.2898805,
          0.30480066,
          0.2898769,
          0.32408446,
          0.3067757,
          0.31390563,
          0.32434005,
          0.3354288,
          0.32848096,
          0.3279019,
          0.32687315,
          0.3195718,
          0.32090512,
          0.32325524,
          0.33078808,
          0.33421394,
          0.36760673,
          0.30396134,
          0.27461785,
          0.44025725,
          0.4388827,
          0.44265917,
          0.43788537,
          0.27077514,
          0.2851744,
          0.4419403,
          0.44463718,
          0.44997597,
          0.45666632,
          0.47556934,
          0.51376516,
          0.50283074,
          0.2965168,
          0.3123,
          0.34382498,
          0.32994774,
          0.44827178,
          0.43951538,
          0.39950514,
          0.42868766,
          0.40716156,
          0.41665414,
          0.4188385,
          0.41707888,
          0.41896942,
          0.41731355,
          0.41947144,
          0.4313779,
          0.4317573,
          0.3980177,
          0.45263705,
          0.35925668,
          0.45157784,
          0.20849657,
          0.20743881,
          0.20662777,
          0.2155071,
          0.21312733,
          0.1990691,
          0.20188114,
          0.23542137,
          0.19793059,
          0.30521464,
          0.26634085,
          0.2717374,
          0.259243,
          0.23816624,
          0.22832547,
          0.21973799,
          0.22557476,
          0.23019077,
          0.43181777,
          0.42917734,
          0.40786985,
          0.41275325,
          0.42281622,
          0.420699,
          0.42121533,
          0.41951337
         ],
         "yaxis": "y"
        }
       ],
       "layout": {
        "font": {
         "size": 11
        },
        "height": 800,
        "legend": {
         "title": {
          "text": "label"
         },
         "tracegroupgap": 0
        },
        "plot_bgcolor": "rgba(0, 0, 0, 0)",
        "shapes": [
         {
          "line": {
           "color": "black",
           "dash": "dot"
          },
          "opacity": 0.15,
          "type": "circle",
          "x0": -0.47058823529411764,
          "x1": 0.47058823529411764,
          "y0": -0.47058823529411764,
          "y1": 0.47058823529411764
         },
         {
          "line": {
           "color": "black",
           "dash": "dot"
          },
          "opacity": 0.15,
          "type": "circle",
          "x0": -0.644736842105263,
          "x1": 0.644736842105263,
          "y0": -0.644736842105263,
          "y1": 0.644736842105263
         },
         {
          "line": {
           "color": "black",
           "dash": "dot"
          },
          "opacity": 0.15,
          "type": "circle",
          "x0": -0.7705382436260623,
          "x1": 0.7705382436260623,
          "y0": -0.7705382436260623,
          "y1": 0.7705382436260623
         },
         {
          "line": {
           "color": "black",
           "dash": "dot"
          },
          "opacity": 0.15,
          "type": "circle",
          "x0": -0.8557007125890735,
          "x1": 0.8557007125890735,
          "y0": -0.8557007125890735,
          "y1": 0.8557007125890735
         },
         {
          "line": {
           "color": "black",
           "dash": "dot"
          },
          "opacity": 0.15,
          "type": "circle",
          "x0": -0.9108474990827932,
          "x1": 0.9108474990827932,
          "y0": -0.9108474990827932,
          "y1": 0.9108474990827932
         },
         {
          "line": {
           "color": "black",
           "dash": "dot"
          },
          "opacity": 0.15,
          "type": "circle",
          "x0": -0.9455374041239167,
          "x1": 0.9455374041239167,
          "y0": -0.9455374041239167,
          "y1": 0.9455374041239167
         },
         {
          "line": {
           "color": "Black"
          },
          "type": "circle",
          "x0": -1,
          "x1": 1,
          "xref": "x",
          "y0": -1,
          "y1": 1,
          "yref": "y"
         },
         {
          "fillcolor": "Black",
          "line": {
           "color": "Black"
          },
          "type": "circle",
          "x0": -0.005,
          "x1": 0.005,
          "xref": "x",
          "y0": -0.005,
          "y1": 0.005,
          "yref": "y"
         }
        ],
        "template": {
         "data": {
          "bar": [
           {
            "error_x": {
             "color": "#2a3f5f"
            },
            "error_y": {
             "color": "#2a3f5f"
            },
            "marker": {
             "line": {
              "color": "#E5ECF6",
              "width": 0.5
             },
             "pattern": {
              "fillmode": "overlay",
              "size": 10,
              "solidity": 0.2
             }
            },
            "type": "bar"
           }
          ],
          "barpolar": [
           {
            "marker": {
             "line": {
              "color": "#E5ECF6",
              "width": 0.5
             },
             "pattern": {
              "fillmode": "overlay",
              "size": 10,
              "solidity": 0.2
             }
            },
            "type": "barpolar"
           }
          ],
          "carpet": [
           {
            "aaxis": {
             "endlinecolor": "#2a3f5f",
             "gridcolor": "white",
             "linecolor": "white",
             "minorgridcolor": "white",
             "startlinecolor": "#2a3f5f"
            },
            "baxis": {
             "endlinecolor": "#2a3f5f",
             "gridcolor": "white",
             "linecolor": "white",
             "minorgridcolor": "white",
             "startlinecolor": "#2a3f5f"
            },
            "type": "carpet"
           }
          ],
          "choropleth": [
           {
            "colorbar": {
             "outlinewidth": 0,
             "ticks": ""
            },
            "type": "choropleth"
           }
          ],
          "contour": [
           {
            "colorbar": {
             "outlinewidth": 0,
             "ticks": ""
            },
            "colorscale": [
             [
              0,
              "#0d0887"
             ],
             [
              0.1111111111111111,
              "#46039f"
             ],
             [
              0.2222222222222222,
              "#7201a8"
             ],
             [
              0.3333333333333333,
              "#9c179e"
             ],
             [
              0.4444444444444444,
              "#bd3786"
             ],
             [
              0.5555555555555556,
              "#d8576b"
             ],
             [
              0.6666666666666666,
              "#ed7953"
             ],
             [
              0.7777777777777778,
              "#fb9f3a"
             ],
             [
              0.8888888888888888,
              "#fdca26"
             ],
             [
              1,
              "#f0f921"
             ]
            ],
            "type": "contour"
           }
          ],
          "contourcarpet": [
           {
            "colorbar": {
             "outlinewidth": 0,
             "ticks": ""
            },
            "type": "contourcarpet"
           }
          ],
          "heatmap": [
           {
            "colorbar": {
             "outlinewidth": 0,
             "ticks": ""
            },
            "colorscale": [
             [
              0,
              "#0d0887"
             ],
             [
              0.1111111111111111,
              "#46039f"
             ],
             [
              0.2222222222222222,
              "#7201a8"
             ],
             [
              0.3333333333333333,
              "#9c179e"
             ],
             [
              0.4444444444444444,
              "#bd3786"
             ],
             [
              0.5555555555555556,
              "#d8576b"
             ],
             [
              0.6666666666666666,
              "#ed7953"
             ],
             [
              0.7777777777777778,
              "#fb9f3a"
             ],
             [
              0.8888888888888888,
              "#fdca26"
             ],
             [
              1,
              "#f0f921"
             ]
            ],
            "type": "heatmap"
           }
          ],
          "heatmapgl": [
           {
            "colorbar": {
             "outlinewidth": 0,
             "ticks": ""
            },
            "colorscale": [
             [
              0,
              "#0d0887"
             ],
             [
              0.1111111111111111,
              "#46039f"
             ],
             [
              0.2222222222222222,
              "#7201a8"
             ],
             [
              0.3333333333333333,
              "#9c179e"
             ],
             [
              0.4444444444444444,
              "#bd3786"
             ],
             [
              0.5555555555555556,
              "#d8576b"
             ],
             [
              0.6666666666666666,
              "#ed7953"
             ],
             [
              0.7777777777777778,
              "#fb9f3a"
             ],
             [
              0.8888888888888888,
              "#fdca26"
             ],
             [
              1,
              "#f0f921"
             ]
            ],
            "type": "heatmapgl"
           }
          ],
          "histogram": [
           {
            "marker": {
             "pattern": {
              "fillmode": "overlay",
              "size": 10,
              "solidity": 0.2
             }
            },
            "type": "histogram"
           }
          ],
          "histogram2d": [
           {
            "colorbar": {
             "outlinewidth": 0,
             "ticks": ""
            },
            "colorscale": [
             [
              0,
              "#0d0887"
             ],
             [
              0.1111111111111111,
              "#46039f"
             ],
             [
              0.2222222222222222,
              "#7201a8"
             ],
             [
              0.3333333333333333,
              "#9c179e"
             ],
             [
              0.4444444444444444,
              "#bd3786"
             ],
             [
              0.5555555555555556,
              "#d8576b"
             ],
             [
              0.6666666666666666,
              "#ed7953"
             ],
             [
              0.7777777777777778,
              "#fb9f3a"
             ],
             [
              0.8888888888888888,
              "#fdca26"
             ],
             [
              1,
              "#f0f921"
             ]
            ],
            "type": "histogram2d"
           }
          ],
          "histogram2dcontour": [
           {
            "colorbar": {
             "outlinewidth": 0,
             "ticks": ""
            },
            "colorscale": [
             [
              0,
              "#0d0887"
             ],
             [
              0.1111111111111111,
              "#46039f"
             ],
             [
              0.2222222222222222,
              "#7201a8"
             ],
             [
              0.3333333333333333,
              "#9c179e"
             ],
             [
              0.4444444444444444,
              "#bd3786"
             ],
             [
              0.5555555555555556,
              "#d8576b"
             ],
             [
              0.6666666666666666,
              "#ed7953"
             ],
             [
              0.7777777777777778,
              "#fb9f3a"
             ],
             [
              0.8888888888888888,
              "#fdca26"
             ],
             [
              1,
              "#f0f921"
             ]
            ],
            "type": "histogram2dcontour"
           }
          ],
          "mesh3d": [
           {
            "colorbar": {
             "outlinewidth": 0,
             "ticks": ""
            },
            "type": "mesh3d"
           }
          ],
          "parcoords": [
           {
            "line": {
             "colorbar": {
              "outlinewidth": 0,
              "ticks": ""
             }
            },
            "type": "parcoords"
           }
          ],
          "pie": [
           {
            "automargin": true,
            "type": "pie"
           }
          ],
          "scatter": [
           {
            "fillpattern": {
             "fillmode": "overlay",
             "size": 10,
             "solidity": 0.2
            },
            "type": "scatter"
           }
          ],
          "scatter3d": [
           {
            "line": {
             "colorbar": {
              "outlinewidth": 0,
              "ticks": ""
             }
            },
            "marker": {
             "colorbar": {
              "outlinewidth": 0,
              "ticks": ""
             }
            },
            "type": "scatter3d"
           }
          ],
          "scattercarpet": [
           {
            "marker": {
             "colorbar": {
              "outlinewidth": 0,
              "ticks": ""
             }
            },
            "type": "scattercarpet"
           }
          ],
          "scattergeo": [
           {
            "marker": {
             "colorbar": {
              "outlinewidth": 0,
              "ticks": ""
             }
            },
            "type": "scattergeo"
           }
          ],
          "scattergl": [
           {
            "marker": {
             "colorbar": {
              "outlinewidth": 0,
              "ticks": ""
             }
            },
            "type": "scattergl"
           }
          ],
          "scattermapbox": [
           {
            "marker": {
             "colorbar": {
              "outlinewidth": 0,
              "ticks": ""
             }
            },
            "type": "scattermapbox"
           }
          ],
          "scatterpolar": [
           {
            "marker": {
             "colorbar": {
              "outlinewidth": 0,
              "ticks": ""
             }
            },
            "type": "scatterpolar"
           }
          ],
          "scatterpolargl": [
           {
            "marker": {
             "colorbar": {
              "outlinewidth": 0,
              "ticks": ""
             }
            },
            "type": "scatterpolargl"
           }
          ],
          "scatterternary": [
           {
            "marker": {
             "colorbar": {
              "outlinewidth": 0,
              "ticks": ""
             }
            },
            "type": "scatterternary"
           }
          ],
          "surface": [
           {
            "colorbar": {
             "outlinewidth": 0,
             "ticks": ""
            },
            "colorscale": [
             [
              0,
              "#0d0887"
             ],
             [
              0.1111111111111111,
              "#46039f"
             ],
             [
              0.2222222222222222,
              "#7201a8"
             ],
             [
              0.3333333333333333,
              "#9c179e"
             ],
             [
              0.4444444444444444,
              "#bd3786"
             ],
             [
              0.5555555555555556,
              "#d8576b"
             ],
             [
              0.6666666666666666,
              "#ed7953"
             ],
             [
              0.7777777777777778,
              "#fb9f3a"
             ],
             [
              0.8888888888888888,
              "#fdca26"
             ],
             [
              1,
              "#f0f921"
             ]
            ],
            "type": "surface"
           }
          ],
          "table": [
           {
            "cells": {
             "fill": {
              "color": "#EBF0F8"
             },
             "line": {
              "color": "white"
             }
            },
            "header": {
             "fill": {
              "color": "#C8D4E3"
             },
             "line": {
              "color": "white"
             }
            },
            "type": "table"
           }
          ]
         },
         "layout": {
          "annotationdefaults": {
           "arrowcolor": "#2a3f5f",
           "arrowhead": 0,
           "arrowwidth": 1
          },
          "autotypenumbers": "strict",
          "coloraxis": {
           "colorbar": {
            "outlinewidth": 0,
            "ticks": ""
           }
          },
          "colorscale": {
           "diverging": [
            [
             0,
             "#8e0152"
            ],
            [
             0.1,
             "#c51b7d"
            ],
            [
             0.2,
             "#de77ae"
            ],
            [
             0.3,
             "#f1b6da"
            ],
            [
             0.4,
             "#fde0ef"
            ],
            [
             0.5,
             "#f7f7f7"
            ],
            [
             0.6,
             "#e6f5d0"
            ],
            [
             0.7,
             "#b8e186"
            ],
            [
             0.8,
             "#7fbc41"
            ],
            [
             0.9,
             "#4d9221"
            ],
            [
             1,
             "#276419"
            ]
           ],
           "sequential": [
            [
             0,
             "#0d0887"
            ],
            [
             0.1111111111111111,
             "#46039f"
            ],
            [
             0.2222222222222222,
             "#7201a8"
            ],
            [
             0.3333333333333333,
             "#9c179e"
            ],
            [
             0.4444444444444444,
             "#bd3786"
            ],
            [
             0.5555555555555556,
             "#d8576b"
            ],
            [
             0.6666666666666666,
             "#ed7953"
            ],
            [
             0.7777777777777778,
             "#fb9f3a"
            ],
            [
             0.8888888888888888,
             "#fdca26"
            ],
            [
             1,
             "#f0f921"
            ]
           ],
           "sequentialminus": [
            [
             0,
             "#0d0887"
            ],
            [
             0.1111111111111111,
             "#46039f"
            ],
            [
             0.2222222222222222,
             "#7201a8"
            ],
            [
             0.3333333333333333,
             "#9c179e"
            ],
            [
             0.4444444444444444,
             "#bd3786"
            ],
            [
             0.5555555555555556,
             "#d8576b"
            ],
            [
             0.6666666666666666,
             "#ed7953"
            ],
            [
             0.7777777777777778,
             "#fb9f3a"
            ],
            [
             0.8888888888888888,
             "#fdca26"
            ],
            [
             1,
             "#f0f921"
            ]
           ]
          },
          "colorway": [
           "#636efa",
           "#EF553B",
           "#00cc96",
           "#ab63fa",
           "#FFA15A",
           "#19d3f3",
           "#FF6692",
           "#B6E880",
           "#FF97FF",
           "#FECB52"
          ],
          "font": {
           "color": "#2a3f5f"
          },
          "geo": {
           "bgcolor": "white",
           "lakecolor": "white",
           "landcolor": "#E5ECF6",
           "showlakes": true,
           "showland": true,
           "subunitcolor": "white"
          },
          "hoverlabel": {
           "align": "left"
          },
          "hovermode": "closest",
          "mapbox": {
           "style": "light"
          },
          "paper_bgcolor": "white",
          "plot_bgcolor": "#E5ECF6",
          "polar": {
           "angularaxis": {
            "gridcolor": "white",
            "linecolor": "white",
            "ticks": ""
           },
           "bgcolor": "#E5ECF6",
           "radialaxis": {
            "gridcolor": "white",
            "linecolor": "white",
            "ticks": ""
           }
          },
          "scene": {
           "xaxis": {
            "backgroundcolor": "#E5ECF6",
            "gridcolor": "white",
            "gridwidth": 2,
            "linecolor": "white",
            "showbackground": true,
            "ticks": "",
            "zerolinecolor": "white"
           },
           "yaxis": {
            "backgroundcolor": "#E5ECF6",
            "gridcolor": "white",
            "gridwidth": 2,
            "linecolor": "white",
            "showbackground": true,
            "ticks": "",
            "zerolinecolor": "white"
           },
           "zaxis": {
            "backgroundcolor": "#E5ECF6",
            "gridcolor": "white",
            "gridwidth": 2,
            "linecolor": "white",
            "showbackground": true,
            "ticks": "",
            "zerolinecolor": "white"
           }
          },
          "shapedefaults": {
           "line": {
            "color": "#2a3f5f"
           }
          },
          "ternary": {
           "aaxis": {
            "gridcolor": "white",
            "linecolor": "white",
            "ticks": ""
           },
           "baxis": {
            "gridcolor": "white",
            "linecolor": "white",
            "ticks": ""
           },
           "bgcolor": "#E5ECF6",
           "caxis": {
            "gridcolor": "white",
            "linecolor": "white",
            "ticks": ""
           }
          },
          "title": {
           "x": 0.05
          },
          "xaxis": {
           "automargin": true,
           "gridcolor": "white",
           "linecolor": "white",
           "ticks": "",
           "title": {
            "standoff": 15
           },
           "zerolinecolor": "white",
           "zerolinewidth": 2
          },
          "yaxis": {
           "automargin": true,
           "gridcolor": "white",
           "linecolor": "white",
           "ticks": "",
           "title": {
            "standoff": 15
           },
           "zerolinecolor": "white",
           "zerolinewidth": 2
          }
         }
        },
        "title": {
         "text": "PM projection of kinases with embeddings",
         "x": 0.5
        },
        "xaxis": {
         "anchor": "y",
         "constrain": "domain",
         "domain": [
          0,
          1
         ],
         "range": [
          -1.1,
          1.1
         ],
         "title": {
          "text": "pm1"
         }
        },
        "yaxis": {
         "anchor": "x",
         "domain": [
          0,
          1
         ],
         "scaleanchor": "x",
         "scaleratio": 1,
         "title": {
          "text": "pm2"
         }
        },
        "yaxis2": {
         "layer": "below traces",
         "matches": "y",
         "overlaying": "y"
        }
       }
      }
     },
     "metadata": {},
     "output_type": "display_data"
    }
   ],
   "source": [
    "# OPTIONS =================================================\n",
    "#Here you can set different parameters to color & annotate the resulting projection:\n",
    "title = \"PM projection of kinases with embeddings\" \n",
    "#----------------------------------------------------------\n",
    "# Select the coloring from annotation .csv file:\n",
    "labels_name = \"label\"\n",
    "# Select classes to label among the \"labels_name\" or \"second_labels_name\" column (comma separated list):\n",
    "second_labels_name = \"\"\n",
    "labels_text = []\n",
    "show_text = False\n",
    "#----------------------------------------------------------\n",
    "# Use a custom color palette:\n",
    "color_palette = true_palette #Default: None\n",
    "use_custom_palette = True\n",
    "#==========================================================\n",
    "\n",
    "\n",
    "#Check projection visualization parameters\n",
    "#Labels name\n",
    "if labels_name == \"\":\n",
    "    labels_name = None\n",
    "elif labels_name not in annotation_names:\n",
    "    raise NameError(f\"labels_name {labels_name} is not in the availables annotations.\\nAvailables annotations: {annotation_names}\")\n",
    "#Second labels name\n",
    "if second_labels_name == \"\":\n",
    "    second_labels_name = None\n",
    "elif second_labels_name not in annotation_names:\n",
    "    raise NameError(f'\"second_labels_name\" {second_labels_name} is not in the availables annotations.\\nAvailables annotations: {annotation_names}')\n",
    "\n",
    "if not use_custom_palette:\n",
    "    color_palette = None\n",
    "\n",
    "#Plot graph\n",
    "fig = plot_embedding_interactive(df_embedding, \n",
    "                                 labels_name = labels_name,\n",
    "                                 second_labels_name = second_labels_name, \n",
    "                                 show_text = show_text,\n",
    "                                 labels_text = labels_text,\n",
    "                                 color_palette = color_palette, \n",
    "                                 title = title, \n",
    "                                 fontsize = 11)\n",
    "fig.show()"
   ]
  },
  {
   "cell_type": "code",
   "execution_count": null,
   "metadata": {},
   "outputs": [],
   "source": [
    "# OPTIONS =================================================\n",
    "#Here you can set different parameters to color & annotate the resulting projection:\n",
    "title = \"PM projection of thioredoxins colored by species\"\n",
    "#----------------------------------------------------------\n",
    "# Select the coloring from annotation .csv file:\n",
    "labels_name = \"Species\"\n",
    "# Select classes to label among the \"labels_name\" or \"second_labels_name\" column (comma separated list):\n",
    "second_labels_name = \"\"\n",
    "labels_text = []\n",
    "show_text = False\n",
    "#----------------------------------------------------------\n",
    "# Use a custom color palette:\n",
    "color_palette = trx_palette #Default: None\n",
    "use_custom_palette = True\n",
    "#==========================================================\n",
    "\n",
    "\n",
    "#Check projection visualization parameters\n",
    "#Labels name\n",
    "if labels_name == \"\":\n",
    "    labels_name = None\n",
    "elif labels_name not in annotation_names:\n",
    "    raise NameError(f\"labels_name {labels_name} is not in the availables annotations.\\nAvailables annotations: {annotation_names}\")\n",
    "#Second labels name\n",
    "if second_labels_name == \"\":\n",
    "    second_labels_name = None\n",
    "elif second_labels_name not in annotation_names:\n",
    "    raise NameError(f'\"second_labels_name\" {second_labels_name} is not in the availables annotations.\\nAvailables annotations: {annotation_names}')\n",
    "\n",
    "if not use_custom_palette:\n",
    "    color_palette = None\n",
    "\n",
    "#Plot graph\n",
    "fig = plot_embedding_interactive(df_embedding, \n",
    "                                 labels_name = labels_name,\n",
    "                                 second_labels_name = second_labels_name, \n",
    "                                 show_text = show_text,\n",
    "                                 labels_text = labels_text,\n",
    "                                 color_palette = color_palette, \n",
    "                                 title = title, \n",
    "                                 fontsize = 11)\n",
    "fig.show()"
   ]
  },
  {
   "cell_type": "markdown",
   "metadata": {},
   "source": [
    "### Save plot to file"
   ]
  },
  {
   "cell_type": "code",
   "execution_count": 18,
   "metadata": {},
   "outputs": [],
   "source": [
    "# OPTIONS =================================================\n",
    "output_name = \"kinase_w_embeddings\"\n",
    "output_format = \"html\" #Format availables: [\"png\", \"html\", \"pdf\", \"svg\"]\n",
    "#==========================================================\n",
    "\n",
    "\n",
    "if output_format != \"html\":\n",
    "    fig.write_image(f\"{output_name}.{output_format}\", engine=\"kaleido\")\n",
    "else:\n",
    "    fig.write_html(f\"{output_name}.{output_format}\")"
   ]
  },
  {
   "cell_type": "code",
   "execution_count": null,
   "metadata": {},
   "outputs": [],
   "source": []
  }
 ],
 "metadata": {
  "accelerator": "GPU",
  "colab": {
   "provenance": []
  },
  "gpuClass": "standard",
  "kernelspec": {
   "display_name": "poincare",
   "language": "python",
   "name": "python3"
  },
  "language_info": {
   "codemirror_mode": {
    "name": "ipython",
    "version": 3
   },
   "file_extension": ".py",
   "mimetype": "text/x-python",
   "name": "python",
   "nbconvert_exporter": "python",
   "pygments_lexer": "ipython3",
   "version": "3.12.2"
  }
 },
 "nbformat": 4,
 "nbformat_minor": 1
}
