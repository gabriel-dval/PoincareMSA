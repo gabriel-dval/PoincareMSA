{
 "cells": [
  {
   "cell_type": "markdown",
   "metadata": {
    "id": "view-in-github"
   },
   "source": [
    "[![Open In Colab](https://colab.research.google.com/assets/colab-badge.svg)](https://colab.research.google.com/github/DSIMB/PoincareMSA/blob/master/PoincareMSA_colab.ipynb)"
   ]
  },
  {
   "cell_type": "markdown",
   "metadata": {
    "id": "W5FTaqy0xqw2"
   },
   "source": [
    "<img src=\"https://github.com/DSIMB/PoincareMSA/blob/master/.github/PoincareMSA_small_logo.png?raw=true\" height=\"100\" style=\"height:100px;margin-left: 0px;\">\n",
    "\n",
    "# Poincaré maps for visualization of large protein famillies\n",
    "\n",
    "**Authors**: Anna Klimovskaia Susmelj, Yani Ren, Yann Vander Meersche, Jean-Christophe Gelly and Tatiana Galochkina\n",
    "\n",
    "PoincaréMSA builds an interactive projection of an input protein multiple sequence alignemnt (MSA) using a method based on Poincaré maps described by Klimovskaia et al [1]. It reproduces both local proximities of protein sequences and hierarchy contained in give data. Thus, sequences located closer to the center of projection correspond to the proteins sharing the most general functional properites and/or appearing at the earlier stages of evolution. Source code is available at https://github.com/DSIMB/PoincareMSA.\n",
    "\n",
    "[1] Klimovskaia, A., Lopez-Paz, D., Bottou, L. et al. Poincaré maps for analyzing complex hierarchies in single-cell data. Nat Commun 11, 2966 (2020)."
   ]
  },
  {
   "cell_type": "markdown",
   "metadata": {
    "id": "Oa7Rrq-YzfQB"
   },
   "source": [
    "# Notebook initialization"
   ]
  },
  {
   "cell_type": "code",
   "execution_count": 1,
   "metadata": {},
   "outputs": [
    {
     "name": "stdout",
     "output_type": "stream",
     "text": [
      "/Users/gabrielduval/Desktop/Paris_Cite/Year2/Projet_Long/PoincareMSA\n"
     ]
    }
   ],
   "source": [
    "# Update working directory\n",
    "\n",
    "%cd ../../../"
   ]
  },
  {
   "cell_type": "code",
   "execution_count": 2,
   "metadata": {
    "cellView": "form",
    "colab": {
     "base_uri": "https://localhost:8080/"
    },
    "id": "X_SO37g-kQq7",
    "outputId": "c30184db-2ef2-4a87-fd43-db8fd3ed5379"
   },
   "outputs": [],
   "source": [
    "#Load dependencies\n",
    "import os\n",
    "import numpy as np\n",
    "import pandas as pd\n",
    "import subprocess\n",
    "import json\n",
    "import warnings\n",
    "warnings.filterwarnings('ignore')\n",
    "\n",
    "#Import visualization functions\n",
    "from scripts.visualize_projection.pplots_new import read_embeddings, plot_embedding, plot_embedding_interactive, rotate, get_colors\n",
    "from scripts.prepare_data.mmseqs2_api import run_mmseqs2\n",
    "from scripts.prepare_data.uniprot_idmapping_api import submit_id_mapping, check_id_mapping_results_ready, get_id_mapping_results_link, get_id_mapping_results_search\n",
    "%matplotlib inline\n",
    "\n",
    "#Create optional variables\n",
    "path_annotation = \"\""
   ]
  },
  {
   "cell_type": "markdown",
   "metadata": {
    "id": "IPi6cky3wgC8"
   },
   "source": [
    "# Data import"
   ]
  },
  {
   "cell_type": "code",
   "execution_count": 11,
   "metadata": {
    "cellView": "form",
    "colab": {
     "base_uri": "https://localhost:8080/",
     "height": 75,
     "resources": {
      "http://localhost:8080/nbextensions/google.colab/files.js": {
       "data": "Ly8gQ29weXJpZ2h0IDIwMTcgR29vZ2xlIExMQwovLwovLyBMaWNlbnNlZCB1bmRlciB0aGUgQXBhY2hlIExpY2Vuc2UsIFZlcnNpb24gMi4wICh0aGUgIkxpY2Vuc2UiKTsKLy8geW91IG1heSBub3QgdXNlIHRoaXMgZmlsZSBleGNlcHQgaW4gY29tcGxpYW5jZSB3aXRoIHRoZSBMaWNlbnNlLgovLyBZb3UgbWF5IG9idGFpbiBhIGNvcHkgb2YgdGhlIExpY2Vuc2UgYXQKLy8KLy8gICAgICBodHRwOi8vd3d3LmFwYWNoZS5vcmcvbGljZW5zZXMvTElDRU5TRS0yLjAKLy8KLy8gVW5sZXNzIHJlcXVpcmVkIGJ5IGFwcGxpY2FibGUgbGF3IG9yIGFncmVlZCB0byBpbiB3cml0aW5nLCBzb2Z0d2FyZQovLyBkaXN0cmlidXRlZCB1bmRlciB0aGUgTGljZW5zZSBpcyBkaXN0cmlidXRlZCBvbiBhbiAiQVMgSVMiIEJBU0lTLAovLyBXSVRIT1VUIFdBUlJBTlRJRVMgT1IgQ09ORElUSU9OUyBPRiBBTlkgS0lORCwgZWl0aGVyIGV4cHJlc3Mgb3IgaW1wbGllZC4KLy8gU2VlIHRoZSBMaWNlbnNlIGZvciB0aGUgc3BlY2lmaWMgbGFuZ3VhZ2UgZ292ZXJuaW5nIHBlcm1pc3Npb25zIGFuZAovLyBsaW1pdGF0aW9ucyB1bmRlciB0aGUgTGljZW5zZS4KCi8qKgogKiBAZmlsZW92ZXJ2aWV3IEhlbHBlcnMgZm9yIGdvb2dsZS5jb2xhYiBQeXRob24gbW9kdWxlLgogKi8KKGZ1bmN0aW9uKHNjb3BlKSB7CmZ1bmN0aW9uIHNwYW4odGV4dCwgc3R5bGVBdHRyaWJ1dGVzID0ge30pIHsKICBjb25zdCBlbGVtZW50ID0gZG9jdW1lbnQuY3JlYXRlRWxlbWVudCgnc3BhbicpOwogIGVsZW1lbnQudGV4dENvbnRlbnQgPSB0ZXh0OwogIGZvciAoY29uc3Qga2V5IG9mIE9iamVjdC5rZXlzKHN0eWxlQXR0cmlidXRlcykpIHsKICAgIGVsZW1lbnQuc3R5bGVba2V5XSA9IHN0eWxlQXR0cmlidXRlc1trZXldOwogIH0KICByZXR1cm4gZWxlbWVudDsKfQoKLy8gTWF4IG51bWJlciBvZiBieXRlcyB3aGljaCB3aWxsIGJlIHVwbG9hZGVkIGF0IGEgdGltZS4KY29uc3QgTUFYX1BBWUxPQURfU0laRSA9IDEwMCAqIDEwMjQ7CgpmdW5jdGlvbiBfdXBsb2FkRmlsZXMoaW5wdXRJZCwgb3V0cHV0SWQpIHsKICBjb25zdCBzdGVwcyA9IHVwbG9hZEZpbGVzU3RlcChpbnB1dElkLCBvdXRwdXRJZCk7CiAgY29uc3Qgb3V0cHV0RWxlbWVudCA9IGRvY3VtZW50LmdldEVsZW1lbnRCeUlkKG91dHB1dElkKTsKICAvLyBDYWNoZSBzdGVwcyBvbiB0aGUgb3V0cHV0RWxlbWVudCB0byBtYWtlIGl0IGF2YWlsYWJsZSBmb3IgdGhlIG5leHQgY2FsbAogIC8vIHRvIHVwbG9hZEZpbGVzQ29udGludWUgZnJvbSBQeXRob24uCiAgb3V0cHV0RWxlbWVudC5zdGVwcyA9IHN0ZXBzOwoKICByZXR1cm4gX3VwbG9hZEZpbGVzQ29udGludWUob3V0cHV0SWQpOwp9CgovLyBUaGlzIGlzIHJvdWdobHkgYW4gYXN5bmMgZ2VuZXJhdG9yIChub3Qgc3VwcG9ydGVkIGluIHRoZSBicm93c2VyIHlldCksCi8vIHdoZXJlIHRoZXJlIGFyZSBtdWx0aXBsZSBhc3luY2hyb25vdXMgc3RlcHMgYW5kIHRoZSBQeXRob24gc2lkZSBpcyBnb2luZwovLyB0byBwb2xsIGZvciBjb21wbGV0aW9uIG9mIGVhY2ggc3RlcC4KLy8gVGhpcyB1c2VzIGEgUHJvbWlzZSB0byBibG9jayB0aGUgcHl0aG9uIHNpZGUgb24gY29tcGxldGlvbiBvZiBlYWNoIHN0ZXAsCi8vIHRoZW4gcGFzc2VzIHRoZSByZXN1bHQgb2YgdGhlIHByZXZpb3VzIHN0ZXAgYXMgdGhlIGlucHV0IHRvIHRoZSBuZXh0IHN0ZXAuCmZ1bmN0aW9uIF91cGxvYWRGaWxlc0NvbnRpbnVlKG91dHB1dElkKSB7CiAgY29uc3Qgb3V0cHV0RWxlbWVudCA9IGRvY3VtZW50LmdldEVsZW1lbnRCeUlkKG91dHB1dElkKTsKICBjb25zdCBzdGVwcyA9IG91dHB1dEVsZW1lbnQuc3RlcHM7CgogIGNvbnN0IG5leHQgPSBzdGVwcy5uZXh0KG91dHB1dEVsZW1lbnQubGFzdFByb21pc2VWYWx1ZSk7CiAgcmV0dXJuIFByb21pc2UucmVzb2x2ZShuZXh0LnZhbHVlLnByb21pc2UpLnRoZW4oKHZhbHVlKSA9PiB7CiAgICAvLyBDYWNoZSB0aGUgbGFzdCBwcm9taXNlIHZhbHVlIHRvIG1ha2UgaXQgYXZhaWxhYmxlIHRvIHRoZSBuZXh0CiAgICAvLyBzdGVwIG9mIHRoZSBnZW5lcmF0b3IuCiAgICBvdXRwdXRFbGVtZW50Lmxhc3RQcm9taXNlVmFsdWUgPSB2YWx1ZTsKICAgIHJldHVybiBuZXh0LnZhbHVlLnJlc3BvbnNlOwogIH0pOwp9CgovKioKICogR2VuZXJhdG9yIGZ1bmN0aW9uIHdoaWNoIGlzIGNhbGxlZCBiZXR3ZWVuIGVhY2ggYXN5bmMgc3RlcCBvZiB0aGUgdXBsb2FkCiAqIHByb2Nlc3MuCiAqIEBwYXJhbSB7c3RyaW5nfSBpbnB1dElkIEVsZW1lbnQgSUQgb2YgdGhlIGlucHV0IGZpbGUgcGlja2VyIGVsZW1lbnQuCiAqIEBwYXJhbSB7c3RyaW5nfSBvdXRwdXRJZCBFbGVtZW50IElEIG9mIHRoZSBvdXRwdXQgZGlzcGxheS4KICogQHJldHVybiB7IUl0ZXJhYmxlPCFPYmplY3Q+fSBJdGVyYWJsZSBvZiBuZXh0IHN0ZXBzLgogKi8KZnVuY3Rpb24qIHVwbG9hZEZpbGVzU3RlcChpbnB1dElkLCBvdXRwdXRJZCkgewogIGNvbnN0IGlucHV0RWxlbWVudCA9IGRvY3VtZW50LmdldEVsZW1lbnRCeUlkKGlucHV0SWQpOwogIGlucHV0RWxlbWVudC5kaXNhYmxlZCA9IGZhbHNlOwoKICBjb25zdCBvdXRwdXRFbGVtZW50ID0gZG9jdW1lbnQuZ2V0RWxlbWVudEJ5SWQob3V0cHV0SWQpOwogIG91dHB1dEVsZW1lbnQuaW5uZXJIVE1MID0gJyc7CgogIGNvbnN0IHBpY2tlZFByb21pc2UgPSBuZXcgUHJvbWlzZSgocmVzb2x2ZSkgPT4gewogICAgaW5wdXRFbGVtZW50LmFkZEV2ZW50TGlzdGVuZXIoJ2NoYW5nZScsIChlKSA9PiB7CiAgICAgIHJlc29sdmUoZS50YXJnZXQuZmlsZXMpOwogICAgfSk7CiAgfSk7CgogIGNvbnN0IGNhbmNlbCA9IGRvY3VtZW50LmNyZWF0ZUVsZW1lbnQoJ2J1dHRvbicpOwogIGlucHV0RWxlbWVudC5wYXJlbnRFbGVtZW50LmFwcGVuZENoaWxkKGNhbmNlbCk7CiAgY2FuY2VsLnRleHRDb250ZW50ID0gJ0NhbmNlbCB1cGxvYWQnOwogIGNvbnN0IGNhbmNlbFByb21pc2UgPSBuZXcgUHJvbWlzZSgocmVzb2x2ZSkgPT4gewogICAgY2FuY2VsLm9uY2xpY2sgPSAoKSA9PiB7CiAgICAgIHJlc29sdmUobnVsbCk7CiAgICB9OwogIH0pOwoKICAvLyBXYWl0IGZvciB0aGUgdXNlciB0byBwaWNrIHRoZSBmaWxlcy4KICBjb25zdCBmaWxlcyA9IHlpZWxkIHsKICAgIHByb21pc2U6IFByb21pc2UucmFjZShbcGlja2VkUHJvbWlzZSwgY2FuY2VsUHJvbWlzZV0pLAogICAgcmVzcG9uc2U6IHsKICAgICAgYWN0aW9uOiAnc3RhcnRpbmcnLAogICAgfQogIH07CgogIGNhbmNlbC5yZW1vdmUoKTsKCiAgLy8gRGlzYWJsZSB0aGUgaW5wdXQgZWxlbWVudCBzaW5jZSBmdXJ0aGVyIHBpY2tzIGFyZSBub3QgYWxsb3dlZC4KICBpbnB1dEVsZW1lbnQuZGlzYWJsZWQgPSB0cnVlOwoKICBpZiAoIWZpbGVzKSB7CiAgICByZXR1cm4gewogICAgICByZXNwb25zZTogewogICAgICAgIGFjdGlvbjogJ2NvbXBsZXRlJywKICAgICAgfQogICAgfTsKICB9CgogIGZvciAoY29uc3QgZmlsZSBvZiBmaWxlcykgewogICAgY29uc3QgbGkgPSBkb2N1bWVudC5jcmVhdGVFbGVtZW50KCdsaScpOwogICAgbGkuYXBwZW5kKHNwYW4oZmlsZS5uYW1lLCB7Zm9udFdlaWdodDogJ2JvbGQnfSkpOwogICAgbGkuYXBwZW5kKHNwYW4oCiAgICAgICAgYCgke2ZpbGUudHlwZSB8fCAnbi9hJ30pIC0gJHtmaWxlLnNpemV9IGJ5dGVzLCBgICsKICAgICAgICBgbGFzdCBtb2RpZmllZDogJHsKICAgICAgICAgICAgZmlsZS5sYXN0TW9kaWZpZWREYXRlID8gZmlsZS5sYXN0TW9kaWZpZWREYXRlLnRvTG9jYWxlRGF0ZVN0cmluZygpIDoKICAgICAgICAgICAgICAgICAgICAgICAgICAgICAgICAgICAgJ24vYSd9IC0gYCkpOwogICAgY29uc3QgcGVyY2VudCA9IHNwYW4oJzAlIGRvbmUnKTsKICAgIGxpLmFwcGVuZENoaWxkKHBlcmNlbnQpOwoKICAgIG91dHB1dEVsZW1lbnQuYXBwZW5kQ2hpbGQobGkpOwoKICAgIGNvbnN0IGZpbGVEYXRhUHJvbWlzZSA9IG5ldyBQcm9taXNlKChyZXNvbHZlKSA9PiB7CiAgICAgIGNvbnN0IHJlYWRlciA9IG5ldyBGaWxlUmVhZGVyKCk7CiAgICAgIHJlYWRlci5vbmxvYWQgPSAoZSkgPT4gewogICAgICAgIHJlc29sdmUoZS50YXJnZXQucmVzdWx0KTsKICAgICAgfTsKICAgICAgcmVhZGVyLnJlYWRBc0FycmF5QnVmZmVyKGZpbGUpOwogICAgfSk7CiAgICAvLyBXYWl0IGZvciB0aGUgZGF0YSB0byBiZSByZWFkeS4KICAgIGxldCBmaWxlRGF0YSA9IHlpZWxkIHsKICAgICAgcHJvbWlzZTogZmlsZURhdGFQcm9taXNlLAogICAgICByZXNwb25zZTogewogICAgICAgIGFjdGlvbjogJ2NvbnRpbnVlJywKICAgICAgfQogICAgfTsKCiAgICAvLyBVc2UgYSBjaHVua2VkIHNlbmRpbmcgdG8gYXZvaWQgbWVzc2FnZSBzaXplIGxpbWl0cy4gU2VlIGIvNjIxMTU2NjAuCiAgICBsZXQgcG9zaXRpb24gPSAwOwogICAgZG8gewogICAgICBjb25zdCBsZW5ndGggPSBNYXRoLm1pbihmaWxlRGF0YS5ieXRlTGVuZ3RoIC0gcG9zaXRpb24sIE1BWF9QQVlMT0FEX1NJWkUpOwogICAgICBjb25zdCBjaHVuayA9IG5ldyBVaW50OEFycmF5KGZpbGVEYXRhLCBwb3NpdGlvbiwgbGVuZ3RoKTsKICAgICAgcG9zaXRpb24gKz0gbGVuZ3RoOwoKICAgICAgY29uc3QgYmFzZTY0ID0gYnRvYShTdHJpbmcuZnJvbUNoYXJDb2RlLmFwcGx5KG51bGwsIGNodW5rKSk7CiAgICAgIHlpZWxkIHsKICAgICAgICByZXNwb25zZTogewogICAgICAgICAgYWN0aW9uOiAnYXBwZW5kJywKICAgICAgICAgIGZpbGU6IGZpbGUubmFtZSwKICAgICAgICAgIGRhdGE6IGJhc2U2NCwKICAgICAgICB9LAogICAgICB9OwoKICAgICAgbGV0IHBlcmNlbnREb25lID0gZmlsZURhdGEuYnl0ZUxlbmd0aCA9PT0gMCA/CiAgICAgICAgICAxMDAgOgogICAgICAgICAgTWF0aC5yb3VuZCgocG9zaXRpb24gLyBmaWxlRGF0YS5ieXRlTGVuZ3RoKSAqIDEwMCk7CiAgICAgIHBlcmNlbnQudGV4dENvbnRlbnQgPSBgJHtwZXJjZW50RG9uZX0lIGRvbmVgOwoKICAgIH0gd2hpbGUgKHBvc2l0aW9uIDwgZmlsZURhdGEuYnl0ZUxlbmd0aCk7CiAgfQoKICAvLyBBbGwgZG9uZS4KICB5aWVsZCB7CiAgICByZXNwb25zZTogewogICAgICBhY3Rpb246ICdjb21wbGV0ZScsCiAgICB9CiAgfTsKfQoKc2NvcGUuZ29vZ2xlID0gc2NvcGUuZ29vZ2xlIHx8IHt9OwpzY29wZS5nb29nbGUuY29sYWIgPSBzY29wZS5nb29nbGUuY29sYWIgfHwge307CnNjb3BlLmdvb2dsZS5jb2xhYi5fZmlsZXMgPSB7CiAgX3VwbG9hZEZpbGVzLAogIF91cGxvYWRGaWxlc0NvbnRpbnVlLAp9Owp9KShzZWxmKTsK",
       "headers": [
        [
         "content-type",
         "application/javascript"
        ]
       ],
       "ok": true,
       "status": 200,
       "status_text": "OK"
      }
     }
    },
    "id": "GcbgnooHwIGh",
    "outputId": "dc30ce27-d01c-4953-cdb7-9d5fe599ad6d"
   },
   "outputs": [
    {
     "name": "stdout",
     "output_type": "stream",
     "text": [
      "\n",
      "Number of sequences found: 558.\n",
      "\n",
      "Annotation file correctly loaded.\n",
      "3 annotations found: ['proteins_id', 'accession', 'label'].\n"
     ]
    }
   ],
   "source": [
    "# OPTIONS =================================================\n",
    "# Path to MSA in mfasta format OR folder containing the embeddings - leave the other one as None\n",
    "mfasta = 'examples/wayland_datasets/protein_kinase/kinase.mfasta' \n",
    "embedding_path = None #'embeddings/ankh_base_protein_kinase/'\n",
    "\n",
    "#Annotation file (.csv) or UniProt ID list. (Emtpy strings for no annotations)\n",
    "path_annotation_csv = \"examples/wayland_datasets/protein_kinase/kinase_labels.csv\"   # Path or \"\"\n",
    "# OR\n",
    "path_uniprot_list = \"\"   # Path or \"\"\n",
    "#==========================================================\n",
    "\n",
    "\n",
    "#Check files\n",
    "#Check files\n",
    "#mfasta\n",
    "nb_seq = 0\n",
    "if mfasta is not None and embedding_path is not None:\n",
    "    print('You cannot import both an mfasta and an embedding folder ! Choose one and leave the other as None.')\n",
    "elif mfasta is not None:\n",
    "    if os.path.isfile(mfasta):\n",
    "        with open(mfasta, \"r\") as f_in:\n",
    "            for line in f_in:\n",
    "                if line[0] == \">\":\n",
    "                    nb_seq += 1\n",
    "        print(f\"\\nNumber of sequences found: {nb_seq}.\")\n",
    "    else:\n",
    "        print(f\"File {mfasta} not found.\")\n",
    "elif embedding_path is not None:\n",
    "    if os.path.exists(embedding_path):\n",
    "        nb_seq = len([s for s in os.listdir(embedding_path) if '.pt' in s])\n",
    "        print(f\"\\nNumber of sequences found: {nb_seq}.\")\n",
    "    else:\n",
    "        print(f\"Folder {embedding_path} not found.\")\n",
    "else:\n",
    "    print('Neither a valid mfasta or embedding folder has been provided')\n",
    "\n",
    "#Check that only one path is selected\n",
    "if path_annotation_csv and path_uniprot_list:\n",
    "    raise ValueError(\"Use only one file path (path_annotation_csv OR path_uniprot_list).\")\n",
    "\n",
    "if path_annotation_csv:\n",
    "    if os.path.isfile(path_annotation_csv):\n",
    "        try:\n",
    "            df_annotation = pd.read_csv(path_annotation_csv)\n",
    "        except:\n",
    "            raise ValueError(\"Annotation file is not in .csv format.\")\n",
    "        else:\n",
    "            if len(df_annotation) != nb_seq:\n",
    "                raise ValueError(\"Annotation file doesn't match the .mfasta file length.\")\n",
    "\n",
    "        #Add id column\n",
    "        if \"proteins_id\" not in df_annotation.columns:\n",
    "            df_annotation.insert(0, \"proteins_id\", range(len(df_annotation)))\n",
    "        path_annotation = path_annotation_csv\n",
    "            \n",
    "        print(\"\\nAnnotation file correctly loaded.\")\n",
    "        annotation_names = list(df_annotation.columns)\n",
    "        print(f\"{len(annotation_names)} annotations found: {annotation_names}.\")\n",
    "    else:\n",
    "        print(f\"File {path_annotation_csv} not found.\")\n",
    "\n",
    "elif path_uniprot_list:\n",
    "    if os.path.isfile(path_uniprot_list):\n",
    "        try:\n",
    "            UnP_ids = np.genfromtxt(path_uniprot_list, dtype=\"str\")\n",
    "        except:\n",
    "            raise ValueError(\"UniProt IDs file is not in a valid format.\")\n",
    "        else:\n",
    "            if len(UnP_ids) != nb_seq:\n",
    "                raise ValueError(\"UniProt IDs file doesn't match the .mfasta file length.\")     \n",
    "\n",
    "            #Split UniProtKB and UniParc IDs\n",
    "            uniparc_ids = []\n",
    "            uniprot_ids = []\n",
    "            for unp in UnP_ids:\n",
    "                if len(unp) == 13 and unp[:2] == \"UP\":\n",
    "                    uniparc_ids.append(unp)\n",
    "                else:\n",
    "                    uniprot_ids.append(unp)\n",
    "\n",
    "            #Fetch UniProtKB annotations\n",
    "            job_id = submit_id_mapping(\n",
    "                from_db=\"UniProtKB_AC-ID\", to_db=\"UniParc\", ids=uniprot_ids\n",
    "            )\n",
    "\n",
    "            if check_id_mapping_results_ready(job_id):\n",
    "                link = get_id_mapping_results_link(job_id)\n",
    "                results = get_id_mapping_results_search(link)\n",
    "\n",
    "            #Fetch UniParc annotations\n",
    "            job_id = submit_id_mapping(\n",
    "                from_db=\"UniParc\", to_db=\"UniParc\", ids=uniparc_ids\n",
    "            )\n",
    "\n",
    "            if check_id_mapping_results_ready(job_id):\n",
    "                link = get_id_mapping_results_link(job_id)\n",
    "                results2 = get_id_mapping_results_search(link)\n",
    "\n",
    "            #Create annotation dataframe\n",
    "            df_annotation = pd.DataFrame(UnP_ids, columns=[\"UnP_ID\"])\n",
    "            df_annotation[[\"organism\", \"proteinName\", \"taxonId\", \"species\", \"genus\", \\\n",
    "                           \"family\", \"order\", \"class\", \"phylum\", \"clade\", \"superkingdom\"]] = \"\"\n",
    "\n",
    "            #Fill the annotation DataFrame\n",
    "            for dict_res in results[\"results\"] + results2[\"results\"]:\n",
    "                try:\n",
    "                    unp = dict_res[\"from\"]\n",
    "                    prot_name = dict_res[\"to\"][\"uniParcCrossReferences\"][0][\"proteinName\"]\n",
    "                    df_annotation.loc[df_annotation[\"UnP_ID\"] == unp, \"proteinName\"] = prot_name\n",
    "                    scientific_name = dict_res[\"to\"][\"uniParcCrossReferences\"][0][\"organism\"][\"scientificName\"]\n",
    "                    taxid = dict_res[\"to\"][\"uniParcCrossReferences\"][0][\"organism\"][\"taxonId\"]\n",
    "                    df_annotation.loc[df_annotation[\"UnP_ID\"] == unp, \"organism\"] = scientific_name\n",
    "                    df_annotation.loc[df_annotation[\"UnP_ID\"] == unp, \"taxonId\"] = taxid\n",
    "                except KeyError:\n",
    "                    continue\n",
    "\n",
    "            #Add lineage from NCBI Taxonomist\n",
    "            taxon_ids = df_annotation.loc[df_annotation[\"taxonId\"].notnull(), 'taxonId'].to_numpy()\n",
    "            taxon_ids = list(set(taxon_ids))\n",
    "            taxon_ids = list(map(str, taxon_ids))\n",
    "            bash_command = f\"ncbi-taxonomist resolve -t {','.join(taxon_ids)}\"\n",
    "            list_taxon = subprocess.run(bash_command, shell=True, capture_output=True, text=True).stdout.strip().split(\"\\n\")\n",
    "\n",
    "            if list_taxon != [\"\"]:\n",
    "                for taxon in list_taxon:\n",
    "                    jsonString = taxon\n",
    "                    taxon_dict = json.loads(jsonString)\n",
    "                    query = taxon_dict[\"query\"]\n",
    "                    for lineage in taxon_dict[\"lineage\"]:\n",
    "                        rank = lineage[\"rank\"]\n",
    "                        if rank in [\"species\", \"genus\", \"family\", \"order\", \"class\", \"phylum\", \"clade\", \"superkingdom\"]:\n",
    "                            name = lineage[\"name\"]\n",
    "                            df_annotation.loc[df_annotation[\"taxonId\"] == int(query), rank] = name\n",
    "\n",
    "            #Add id column\n",
    "            if \"proteins_id\" not in df_annotation.columns:\n",
    "                df_annotation.insert(0, \"proteins_id\", range(len(df_annotation)))\n",
    "\n",
    "            #Save annotation to csv\n",
    "            path_annotation = \"auto_annot.csv\"\n",
    "            df_annotation.to_csv(path_annotation, index=False)\n",
    "\n",
    "            print(\"\\nAnnotation correctly fetched.\")\n",
    "            annotation_names = list(df_annotation.columns)\n",
    "            print(f\"{len(annotation_names)} annotations found: {annotation_names}.\")\n",
    "    else:\n",
    "        print(f\"File {path_uniprot_list} not found.\")\n",
    "else:\n",
    "    print(\"No annotation file selected.\")\n",
    "    path_annotation = \"\""
   ]
  },
  {
   "cell_type": "markdown",
   "metadata": {
    "id": "_H2vnIt_3kUz"
   },
   "source": [
    "# Data preparation\n",
    "Here we clean the input .mfasta alignment and translate each sequence to a vector ready for projection."
   ]
  },
  {
   "cell_type": "markdown",
   "metadata": {},
   "source": [
    "### Parameters for data preparation"
   ]
  },
  {
   "cell_type": "code",
   "execution_count": 4,
   "metadata": {
    "cellView": "form",
    "id": "9hLq_MgX6hFC"
   },
   "outputs": [
    {
     "name": "stdout",
     "output_type": "stream",
     "text": [
      "Input file: examples/wayland_datasets/protein_kinase/kinase.mfasta\n",
      "Name of the protein family: kinase\n",
      "1 X aa replaced by gaps in 558 sequences\n",
      "filter_gaps finished for examples/wayland_datasets/protein_kinase/kinase.mfasta\n",
      "mfasta2fasta finished for protein_kinase_data/protein_kinase_data.clean0.9.mfasta\n",
      "1 X aa replaced by gaps in 558 sequences\n"
     ]
    }
   ],
   "source": [
    "# OPTIONS =================================================\n",
    "# Job name\n",
    "#Name for the output folder\n",
    "out_name = \"protein_kinase_data\"\n",
    "#----------------------------------------------------------\n",
    "# Threshold for filtering gapped positions\n",
    "#Positions with proportion of gaps above the given threshold are removed from the alignment.\n",
    "#If your alignment is very gapped, you may want to increase this value.\n",
    "gapth = 0.9 \n",
    "#==========================================================\n",
    "\n",
    "\n",
    "# Run data preparation\n",
    "#Data preparation consists in `.mfasta` cleaning according to a gap threshold and\n",
    "#translation of each sequence to the PSSM profile.\n",
    "prep_parameters = \"scripts/prepare_data\" + \" \" + mfasta + \" \" + out_name + \" \" + out_name + \" \" + str(gapth)\n",
    "bash_projection = \"bash scripts/prepare_data/create_projection.sh \" + prep_parameters\n",
    "!{bash_projection}"
   ]
  },
  {
   "cell_type": "markdown",
   "metadata": {
    "id": "Dv0lg4Jn-dfG"
   },
   "source": [
    "# Projection"
   ]
  },
  {
   "cell_type": "markdown",
   "metadata": {},
   "source": [
    "### Projection parameters (without embeddings)"
   ]
  },
  {
   "cell_type": "code",
   "execution_count": 12,
   "metadata": {},
   "outputs": [],
   "source": [
    "# EMBEDDING SELECTION\n",
    "in_name = 'protein_kinase_data/fasta0.9/'  # Input here the name of folder with the fasta files\n",
    "mid_output = 'protein_kinase_data/with_mfasta/'  # Input name of desired folder for intermediary results\n",
    "out_name = 'results/protein_kinase/with_mfasta/' # Input desired name of output folder\n",
    "\n",
    "# OPTIONS =================================================\n",
    "#Here you control different parameters of Poincaré maps.\n",
    "#In our computational experiments the best results were achieved for the following values provided by default.\n",
    "#The impact of different parameters is analyzed in the original paper [1].\n",
    "knn = 5\n",
    "gamma = 2\n",
    "sigma = 1\n",
    "cospca = 0\n",
    "batchs = 4\n",
    "epochs = 1000\n",
    "seed = 4\n",
    "#==========================================================\n",
    "\n",
    "\n",
    "# Building projection and preparing data for visualization\n",
    "#This step creates a projection of encoded sequences to a Poincaré disk.\n",
    "# bash_pm = \"python \"+ \"scripts/build_poincare_map/main.py --input_path \" + in_name + \\\n",
    "#           \" --output_path \" + out_name + \" --plm_embedding False\" +  \" --matrices_output_path \" + mid_output \\\n",
    "#           + \" --gamma \"+ str(gamma) +\" --pca \"+ str(cospca) + \" --epochs \"+ str(epochs) +\" --seed \"\\\n",
    "#           + str(seed) + \" --knn \" + str(knn)\n",
    "# !{bash_pm}"
   ]
  },
  {
   "cell_type": "markdown",
   "metadata": {},
   "source": [
    "### Projection parameters (with embeddings)"
   ]
  },
  {
   "cell_type": "code",
   "execution_count": 24,
   "metadata": {},
   "outputs": [],
   "source": [
    "### Projection parameters (with embeddings)\n",
    "# EMBEDDING SELECTION\n",
    "in_name = 'embeddings/ankh_base_protein_kinase/'  # Input here the name of folder with the embeddings\n",
    "mid_output = 'protein_kinase_data/with_plm_embeddings/'  # Input name of desired folder for intermediary results\n",
    "out_name = 'results/protein_kinase/with_plm_embeddings/' # Input desired name of output folder\n",
    "\n",
    "\n",
    "# OPTIONS =================================================\n",
    "#Here you control different parameters of Poincaré maps.\n",
    "#In our computational experiments the best results were achieved for the following values provided by default.\n",
    "#The impact of different parameters is analyzed in the original paper [1].\n",
    "knn = 5\n",
    "gamma = 2\n",
    "sigma = 1\n",
    "cospca = 0\n",
    "batchs = 4\n",
    "epochs = 1000\n",
    "seed = 4\n",
    "#==========================================================\n",
    "\n",
    "\n",
    "# Building projection and preparing data for visualization\n",
    "#This step creates a projection of encoded sequences to a Poincaré disk.\n",
    "# bash_pm = \"python \"+ \"scripts/build_poincare_map/main.py --input_path \" + in_name + \\\n",
    "#           \" --output_path \" + out_name + \" --plm_embedding True\" +  \" --matrices_output_path \" + mid_output +\\\n",
    "#           \" --distlocal minkowski\" + \" --gamma \"+ str(gamma) +\" --pca \"+ str(cospca) + \" --epochs \"+ str(epochs) +\" --seed \"\\\n",
    "#           + str(seed) + \" --knn \" + str(knn)\n",
    "# !{bash_pm}"
   ]
  },
  {
   "cell_type": "markdown",
   "metadata": {
    "id": "gRxHHfjX7CHF"
   },
   "source": [
    "# Projection visualization"
   ]
  },
  {
   "cell_type": "markdown",
   "metadata": {},
   "source": [
    "### Prepare data for visualization"
   ]
  },
  {
   "cell_type": "code",
   "execution_count": 25,
   "metadata": {
    "cellView": "form",
    "colab": {
     "base_uri": "https://localhost:8080/"
    },
    "id": "A2I17cpYXGoB",
    "outputId": "a1b01a51-2182-4f97-a653-eedc42405a80"
   },
   "outputs": [
    {
     "name": "stdout",
     "output_type": "stream",
     "text": [
      "3 annotations found: ['proteins_id', 'accession', 'label'].\n",
      "proteins_id\n",
      "1      outgroup\n",
      "2      outgroup\n",
      "3      outgroup\n",
      "4      outgroup\n",
      "5      outgroup\n",
      "         ...   \n",
      "554          TK\n",
      "555          TK\n",
      "556          TK\n",
      "557          TK\n",
      "558          TK\n",
      "Name: label, Length: 558, dtype: object\n"
     ]
    }
   ],
   "source": [
    "# Prepare data for visualization\n",
    "out_name = 'results/protein_kinase/with_plm_embeddings'\n",
    "\n",
    "#Check that an annotation file was provided. Create a dummy one instead\n",
    "if not path_annotation:\n",
    "    df_annotation = pd.DataFrame(list(zip(list(range(1,nb_seq+1)), np.full(nb_seq, \"-\", dtype=object))), columns=[\"id\", \"default\"])\n",
    "    df_annotation.to_csv(\"dummy_annotation.csv\", index=False)\n",
    "    path_annotation = \"dummy_annotation.csv\"\n",
    "    annotation_names = [\"proteins_id\"]\n",
    "\n",
    "path_embedding = f\"{out_name}/PM{knn:1.0f}sigma={sigma:2.2f}gamma={gamma:2.2f}cosinepca={cospca:1.0f}_seed{seed:1.0f}.csv\"\n",
    "df_embedding = read_embeddings(path_embedding, path_annotation, withroot=False)\n",
    "\n",
    "#Here are different labels found in your annotation file (if one uploaded):\n",
    "print(f\"{len(annotation_names)} annotations found: {annotation_names}.\")\n",
    "print(df_embedding['label'])"
   ]
  },
  {
   "cell_type": "markdown",
   "metadata": {},
   "source": [
    "### Create interactive plot"
   ]
  },
  {
   "cell_type": "code",
   "execution_count": 19,
   "metadata": {},
   "outputs": [
    {
     "name": "stdout",
     "output_type": "stream",
     "text": [
      "{'_TK_': 'red', '_TKL_': 'orange', '_RGC_': 'brown', '_NEK_': 'yellow', '_STE_': 'lime', '_CMGC_': 'green', '_CAMK_': 'violet', '_AGC_': 'blue', '_CK1_': 'cyan', ' Atypical_': 'grey', ' eLK_': 'grey'}\n",
      "dict_keys([-1, 'OTHER', 'None', 'NA', 'Uncharacterized', 'root', 'TYR', 'CMGC', 'TKL', 'STE', 'CK1', 'AGC', 'CAMK', 'NEK', 'RGC'])\n"
     ]
    }
   ],
   "source": [
    "# Construction of custom color palette  \n",
    "kinase_palette = {-1 : \"#c7c7c7\", \"OTHER\": \"#c7c7c7\", \"None\" :\"#c7c7c7\", \"NA\" : \"#c7c7c7\", \"Uncharacterized\" : \"#c7c7c7\", \"root\": \"#000000\",\n",
    "                  \"TYR\": \"#bd065f\", \"CMGC\": \"#d5c203\", \"TKL\": \"#997e73\",\"STE\": \"#80b412\", # kinase groups \n",
    "                  \"CK1\": \"#0dbae9\", \"AGC\": \"#00bba1\", \"CAMK\":  \"#1f6ed4\", \"NEK\": \"#8ce4fa\", \"RGC\":\"#f59a62\"}\n",
    "\n",
    "# Load existing colour palette (must be a .json file)\n",
    "colour_json = 'examples/wayland_datasets/protein_kinase/kinase_colors.json'\n",
    "with open(colour_json, 'r') as file:\n",
    "    colour_palette = json.load(file)\n",
    "\n",
    "# Also the option of manually creating your own colour palette\n",
    "print(colour_palette)\n",
    "print(kinase_palette.keys())\n",
    "\n",
    "# New palette\n",
    "true_palette = {'CAMK' : \"#1f6ed4\", 'TKL' : \"#997e73\", 'RGC' : \"#f59a62\", 'NEK' : \"#8ce4fa\",\n",
    "                'STE' : \"#80b412\", 'CMGC' : \"#d5c203\", 'AGC' : \"#00bba1\", 'TK' : 'orange', 'outgroup' : 'black',\n",
    "                'CK1' : \"#0dbae9\", 'eLK' : 'violet', 'nan' : \"#c7c7c7\"}\n"
   ]
  },
  {
   "cell_type": "code",
   "execution_count": 27,
   "metadata": {
    "cellView": "form",
    "colab": {
     "base_uri": "https://localhost:8080/",
     "height": 886
    },
    "id": "zLb9h9S4eKUD",
    "outputId": "58e8c73a-4869-4305-ecfb-bccc80d06db1"
   },
   "outputs": [
    {
     "data": {
      "application/vnd.plotly.v1+json": {
       "config": {
        "plotlyServerURL": "https://plot.ly"
       },
       "data": [
        {
         "customdata": [
          [
           1,
           "O00418",
           "outgroup"
          ],
          [
           2,
           "Q86TB3",
           "outgroup"
          ],
          [
           3,
           "Q96L96",
           "outgroup"
          ],
          [
           4,
           "Q96QP1",
           "outgroup"
          ],
          [
           5,
           "Q96QT4",
           "outgroup"
          ],
          [
           6,
           "Q9BX84",
           "outgroup"
          ],
          [
           7,
           "O75063",
           "outgroup"
          ],
          [
           8,
           "Q8IXL6",
           "outgroup"
          ],
          [
           9,
           "Q96MK3",
           "outgroup"
          ],
          [
           10,
           "P23677",
           "outgroup"
          ],
          [
           11,
           "P27987",
           "outgroup"
          ],
          [
           12,
           "Q8NFU5",
           "outgroup"
          ],
          [
           13,
           "Q92551",
           "outgroup"
          ],
          [
           14,
           "Q96DU7",
           "outgroup"
          ],
          [
           15,
           "Q96PC2",
           "outgroup"
          ],
          [
           16,
           "Q9UHH9",
           "outgroup"
          ],
          [
           17,
           "Q8TCG2",
           "outgroup"
          ],
          [
           18,
           "Q9BTU6",
           "outgroup"
          ],
          [
           19,
           "O00329",
           "outgroup"
          ],
          [
           20,
           "O00443",
           "outgroup"
          ],
          [
           21,
           "O00750",
           "outgroup"
          ],
          [
           22,
           "O75747",
           "outgroup"
          ],
          [
           23,
           "P42336",
           "outgroup"
          ],
          [
           24,
           "P42338",
           "outgroup"
          ],
          [
           25,
           "P42345",
           "outgroup"
          ],
          [
           26,
           "P42356",
           "outgroup"
          ],
          [
           27,
           "P48736",
           "outgroup"
          ],
          [
           28,
           "P78527",
           "outgroup"
          ],
          [
           29,
           "Q13315",
           "outgroup"
          ],
          [
           30,
           "Q13535",
           "outgroup"
          ],
          [
           31,
           "Q8NEB9",
           "outgroup"
          ],
          [
           32,
           "Q96Q15",
           "outgroup"
          ],
          [
           33,
           "Q9UBF8",
           "outgroup"
          ],
          [
           34,
           "Q9Y4A5",
           "outgroup"
          ],
          [
           35,
           "O14986",
           "outgroup"
          ],
          [
           36,
           "O60331",
           "outgroup"
          ],
          [
           37,
           "P48426",
           "outgroup"
          ],
          [
           38,
           "P78356",
           "outgroup"
          ],
          [
           39,
           "Q5T9C9",
           "outgroup"
          ],
          [
           40,
           "Q8TBX8",
           "outgroup"
          ],
          [
           41,
           "Q99755",
           "outgroup"
          ],
          [
           42,
           "Q9Y2I7",
           "outgroup"
          ],
          [
           43,
           "Q9BVL4",
           "outgroup"
          ],
          [
           44,
           "Q9H8X2",
           "outgroup"
          ],
          [
           45,
           "Q3MIX3",
           "outgroup"
          ],
          [
           46,
           "Q7Z695",
           "outgroup"
          ],
          [
           47,
           "Q86TW2",
           "outgroup"
          ],
          [
           48,
           "Q8NI60",
           "outgroup"
          ],
          [
           49,
           "Q96D53",
           "outgroup"
          ],
          [
           50,
           "Q6JQN1",
           "outgroup"
          ],
          [
           51,
           "Q709F0",
           "outgroup"
          ],
          [
           52,
           "Q96S44",
           "outgroup"
          ],
          [
           53,
           "P35790",
           "outgroup"
          ],
          [
           54,
           "Q9Y259",
           "outgroup"
          ],
          [
           55,
           "Q9HBU6",
           "outgroup"
          ],
          [
           56,
           "Q9NVF9",
           "outgroup"
          ],
          [
           57,
           "Q9H479",
           "outgroup"
          ],
          [
           58,
           "A2RU49",
           "outgroup"
          ],
          [
           59,
           "Q9HA64",
           "outgroup"
          ],
          [
           60,
           "O14730",
           "outgroup"
          ],
          [
           61,
           "Q9BRS2",
           "outgroup"
          ],
          [
           62,
           "Q9BVS4",
           "outgroup"
          ]
         ],
         "hovertemplate": "<b>%{hovertext}</b><br><br>label=%{customdata[2]}<br>pm1=%{x}<br>pm2=%{y}<br>proteins_id=%{customdata[0]}<br>accession=%{customdata[1]}<extra></extra>",
         "hovertext": [
          "outgroup",
          "outgroup",
          "outgroup",
          "outgroup",
          "outgroup",
          "outgroup",
          "outgroup",
          "outgroup",
          "outgroup",
          "outgroup",
          "outgroup",
          "outgroup",
          "outgroup",
          "outgroup",
          "outgroup",
          "outgroup",
          "outgroup",
          "outgroup",
          "outgroup",
          "outgroup",
          "outgroup",
          "outgroup",
          "outgroup",
          "outgroup",
          "outgroup",
          "outgroup",
          "outgroup",
          "outgroup",
          "outgroup",
          "outgroup",
          "outgroup",
          "outgroup",
          "outgroup",
          "outgroup",
          "outgroup",
          "outgroup",
          "outgroup",
          "outgroup",
          "outgroup",
          "outgroup",
          "outgroup",
          "outgroup",
          "outgroup",
          "outgroup",
          "outgroup",
          "outgroup",
          "outgroup",
          "outgroup",
          "outgroup",
          "outgroup",
          "outgroup",
          "outgroup",
          "outgroup",
          "outgroup",
          "outgroup",
          "outgroup",
          "outgroup",
          "outgroup",
          "outgroup",
          "outgroup",
          "outgroup",
          "outgroup"
         ],
         "legendgroup": "outgroup",
         "marker": {
          "color": "black",
          "symbol": "circle"
         },
         "mode": "markers",
         "name": "outgroup",
         "orientation": "v",
         "showlegend": true,
         "type": "scatter",
         "x": [
          0.64746326,
          0.63311845,
          0.6301097,
          0.26059064,
          0.7842369,
          0.79332733,
          0.358842,
          0.11367493,
          0.63066876,
          0.115320675,
          0.761208,
          0.81288904,
          0.7907717,
          0.819006,
          0.79506284,
          0.78383327,
          0.7914316,
          0.793248,
          0.8332733,
          0.6372672,
          0.6347532,
          -0.08577001,
          0.24244118,
          -0.07564724,
          0.025767,
          0.5435799,
          0.80374753,
          0.18408342,
          -0.02745472,
          0.63579756,
          0.105012685,
          0.2573303,
          0.8135221,
          -0.028414696,
          0.26220995,
          0.12115323,
          0.18344408,
          0.78814113,
          -0.029372592,
          0.062393986,
          0.82355946,
          0.54224676,
          0.7973706,
          0.8351337,
          0.5584454,
          0.023924211,
          -0.020884894,
          0.7859906,
          0.5438935,
          0.5659974,
          0.10776729,
          0.18435274,
          0.37483633,
          0.38626534,
          0.019867508,
          0.020681314,
          0.83840656,
          0.8389613,
          0.820708,
          0.8373304,
          0.021508133,
          0.8103927
         ],
         "xaxis": "x",
         "y": [
          0.65816474,
          0.7525119,
          0.75088245,
          0.9340306,
          0.5003538,
          0.5132282,
          0.83469594,
          0.9536644,
          0.75560224,
          0.96522623,
          0.5041031,
          0.49360037,
          0.5264015,
          0.46694785,
          0.47199884,
          0.47710174,
          0.50052875,
          0.48111594,
          0.492748,
          0.7482264,
          0.7483474,
          0.9713529,
          0.90987664,
          0.9655449,
          0.9829919,
          0.74506724,
          0.52576375,
          0.6983554,
          0.97673213,
          0.7560206,
          0.95379645,
          0.93794286,
          0.48306155,
          0.9734669,
          0.9237649,
          0.9699282,
          0.6988446,
          0.58882,
          0.96649516,
          0.63831335,
          0.49317625,
          0.7228229,
          0.48819697,
          0.48108307,
          0.71904117,
          0.985286,
          0.97598904,
          0.58328664,
          0.7260611,
          0.7170124,
          0.9614521,
          0.6987458,
          0.82377106,
          0.8407469,
          0.9849271,
          0.9889687,
          0.47055152,
          0.47366774,
          0.46202418,
          0.4655193,
          0.9871671,
          0.47097263
         ],
         "yaxis": "y"
        },
        {
         "customdata": [
          [
           63,
           "P31749",
           "AGC"
          ],
          [
           64,
           "P31751",
           "AGC"
          ],
          [
           65,
           "Q9Y243",
           "AGC"
          ],
          [
           66,
           "O14578",
           "AGC"
          ],
          [
           67,
           "O75116",
           "AGC"
          ],
          [
           68,
           "Q09013",
           "AGC"
          ],
          [
           69,
           "Q13464",
           "AGC"
          ],
          [
           70,
           "Q5VT25",
           "AGC"
          ],
          [
           71,
           "Q6DT37",
           "AGC"
          ],
          [
           72,
           "Q9Y5S2",
           "AGC"
          ],
          [
           73,
           "P25098",
           "AGC"
          ],
          [
           74,
           "P32298",
           "AGC"
          ],
          [
           75,
           "P34947",
           "AGC"
          ],
          [
           76,
           "P35626",
           "AGC"
          ],
          [
           77,
           "P43250",
           "AGC"
          ],
          [
           78,
           "Q15835",
           "AGC"
          ],
          [
           79,
           "Q8WTQ7",
           "AGC"
          ],
          [
           80,
           "O15021",
           "AGC"
          ],
          [
           81,
           "O60307",
           "AGC"
          ],
          [
           82,
           "Q6P0Q8",
           "AGC"
          ],
          [
           83,
           "Q96GX5",
           "AGC"
          ],
          [
           84,
           "Q9Y2H9",
           "AGC"
          ],
          [
           85,
           "O95835",
           "AGC"
          ],
          [
           86,
           "Q15208",
           "AGC"
          ],
          [
           87,
           "Q9NRM7",
           "AGC"
          ],
          [
           88,
           "Q9Y2H1",
           "AGC"
          ],
          [
           89,
           "O15530",
           "AGC"
          ],
          [
           90,
           "Q6A1A2",
           "AGC"
          ],
          [
           91,
           "O43930",
           "AGC"
          ],
          [
           92,
           "P17612",
           "AGC"
          ],
          [
           93,
           "P22612",
           "AGC"
          ],
          [
           94,
           "P22694",
           "AGC"
          ],
          [
           95,
           "P51817",
           "AGC"
          ],
          [
           96,
           "P05129",
           "AGC"
          ],
          [
           97,
           "P05771",
           "AGC"
          ],
          [
           98,
           "P17252",
           "AGC"
          ],
          [
           99,
           "P24723",
           "AGC"
          ],
          [
           100,
           "P41743",
           "AGC"
          ],
          [
           101,
           "Q02156",
           "AGC"
          ],
          [
           102,
           "Q04759",
           "AGC"
          ],
          [
           103,
           "Q05513",
           "AGC"
          ],
          [
           104,
           "Q05655",
           "AGC"
          ],
          [
           105,
           "Q13237",
           "AGC"
          ],
          [
           106,
           "Q13976",
           "AGC"
          ],
          [
           107,
           "Q16512",
           "AGC"
          ],
          [
           108,
           "Q16513",
           "AGC"
          ],
          [
           109,
           "Q6P5Z2",
           "AGC"
          ],
          [
           110,
           "O75582|1",
           "AGC"
          ],
          [
           111,
           "O75676|1",
           "AGC"
          ],
          [
           112,
           "P23443",
           "AGC"
          ],
          [
           113,
           "P51812|1",
           "AGC"
          ],
          [
           114,
           "Q15349|1",
           "AGC"
          ],
          [
           115,
           "Q15418|1",
           "AGC"
          ],
          [
           116,
           "Q9UBS0",
           "AGC"
          ],
          [
           117,
           "Q9UK32|1",
           "AGC"
          ],
          [
           118,
           "Q96S38",
           "AGC"
          ],
          [
           119,
           "Q9Y6S9",
           "AGC"
          ],
          [
           120,
           "Q96LW2",
           "AGC"
          ],
          [
           121,
           "O00141",
           "AGC"
          ],
          [
           122,
           "Q96BR1",
           "AGC"
          ],
          [
           123,
           "Q9HBY8",
           "AGC"
          ],
          [
           124,
           "Q86UX6",
           "AGC"
          ],
          [
           125,
           "Q8WU08",
           "AGC"
          ],
          [
           126,
           "Q9NY57",
           "AGC"
          ]
         ],
         "hovertemplate": "<b>%{hovertext}</b><br><br>label=%{customdata[2]}<br>pm1=%{x}<br>pm2=%{y}<br>proteins_id=%{customdata[0]}<br>accession=%{customdata[1]}<extra></extra>",
         "hovertext": [
          "AGC",
          "AGC",
          "AGC",
          "AGC",
          "AGC",
          "AGC",
          "AGC",
          "AGC",
          "AGC",
          "AGC",
          "AGC",
          "AGC",
          "AGC",
          "AGC",
          "AGC",
          "AGC",
          "AGC",
          "AGC",
          "AGC",
          "AGC",
          "AGC",
          "AGC",
          "AGC",
          "AGC",
          "AGC",
          "AGC",
          "AGC",
          "AGC",
          "AGC",
          "AGC",
          "AGC",
          "AGC",
          "AGC",
          "AGC",
          "AGC",
          "AGC",
          "AGC",
          "AGC",
          "AGC",
          "AGC",
          "AGC",
          "AGC",
          "AGC",
          "AGC",
          "AGC",
          "AGC",
          "AGC",
          "AGC",
          "AGC",
          "AGC",
          "AGC",
          "AGC",
          "AGC",
          "AGC",
          "AGC",
          "AGC",
          "AGC",
          "AGC",
          "AGC",
          "AGC",
          "AGC",
          "AGC",
          "AGC",
          "AGC"
         ],
         "legendgroup": "AGC",
         "marker": {
          "color": "#00bba1",
          "symbol": "circle"
         },
         "mode": "markers",
         "name": "AGC",
         "orientation": "v",
         "showlegend": true,
         "type": "scatter",
         "x": [
          0.8304242,
          0.8239054,
          0.8214077,
          0.019464988,
          0.8093211,
          0.8123702,
          0.23541185,
          -0.016189044,
          0.062124807,
          0.81990385,
          0.24506462,
          0.63722855,
          0.116341665,
          0.80843484,
          0.82274723,
          0.6303699,
          0.64603573,
          0.40990764,
          0.21240313,
          0.110614605,
          0.124982946,
          0.78298616,
          0.017039841,
          0.11209591,
          0.23883925,
          0.5479728,
          0.02641277,
          0.10340342,
          0.26405254,
          0.6600576,
          0.78770334,
          0.7910341,
          0.10006117,
          -0.017991394,
          0.6388523,
          0.6359333,
          0.38067776,
          0.7916942,
          0.16860253,
          0.55578035,
          0.8251854,
          0.5693858,
          -0.031893678,
          0.7838766,
          0.24791417,
          -0.023950908,
          0.652698,
          0.107181564,
          -0.008045141,
          0.019114418,
          0.36521548,
          0.3909825,
          0.53287053,
          0.22185998,
          0.62930816,
          0.6589488,
          0.062345788,
          0.78933805,
          0.027575832,
          0.391447,
          0.7875619,
          0.12268425,
          0.8202147,
          0.11877822
         ],
         "xaxis": "x",
         "y": [
          0.47266346,
          0.47747323,
          0.48358557,
          0.9869299,
          0.5054997,
          0.47699097,
          0.9285953,
          0.97108114,
          0.6380097,
          0.4925913,
          0.9373599,
          0.7543095,
          0.95979893,
          0.5196806,
          0.48912564,
          0.6620307,
          0.6712629,
          0.79811853,
          0.68334097,
          0.956215,
          0.9648312,
          0.57242864,
          0.9866782,
          0.9673336,
          0.9200846,
          0.7229474,
          0.98043054,
          0.94195837,
          0.9337671,
          0.6616162,
          0.5779701,
          0.5772408,
          0.9598346,
          0.96704966,
          0.7507372,
          0.74492776,
          0.850182,
          0.58499193,
          0.69044185,
          0.724034,
          0.5055658,
          0.7185266,
          0.97043324,
          0.580319,
          0.91765875,
          0.9645807,
          0.67676574,
          0.96834296,
          0.95427287,
          0.97856325,
          0.79805064,
          0.8106192,
          0.70740044,
          0.92347246,
          0.6856382,
          0.63203305,
          0.63826144,
          0.58336926,
          0.9849361,
          0.8268468,
          0.58596045,
          0.967552,
          0.46890324,
          0.9710366
         ],
         "yaxis": "y"
        },
        {
         "customdata": [
          [
           127,
           "Q14012",
           "CAMK"
          ],
          [
           128,
           "Q16566",
           "CAMK"
          ],
          [
           129,
           "Q6P2M8",
           "CAMK"
          ],
          [
           130,
           "Q8IU85",
           "CAMK"
          ],
          [
           131,
           "Q96NX5",
           "CAMK"
          ],
          [
           132,
           "Q13554",
           "CAMK"
          ],
          [
           133,
           "Q13555",
           "CAMK"
          ],
          [
           134,
           "Q13557",
           "CAMK"
          ],
          [
           135,
           "Q9UQM7",
           "CAMK"
          ],
          [
           136,
           "O14757",
           "CAMK"
          ],
          [
           137,
           "O60285",
           "CAMK"
          ],
          [
           138,
           "P27448",
           "CAMK"
          ],
          [
           139,
           "P54646",
           "CAMK"
          ],
          [
           140,
           "P57058",
           "CAMK"
          ],
          [
           141,
           "P57059",
           "CAMK"
          ],
          [
           142,
           "Q13131",
           "CAMK"
          ],
          [
           143,
           "Q14680",
           "CAMK"
          ],
          [
           144,
           "Q15831",
           "CAMK"
          ],
          [
           145,
           "Q7KZI7",
           "CAMK"
          ],
          [
           146,
           "Q8IWQ3",
           "CAMK"
          ],
          [
           147,
           "Q8IY84",
           "CAMK"
          ],
          [
           148,
           "Q8TDC3",
           "CAMK"
          ],
          [
           149,
           "Q96L34",
           "CAMK"
          ],
          [
           150,
           "Q96RG2",
           "CAMK"
          ],
          [
           151,
           "Q9H093",
           "CAMK"
          ],
          [
           152,
           "Q9H0K1",
           "CAMK"
          ],
          [
           153,
           "Q9NRH2",
           "CAMK"
          ],
          [
           154,
           "Q9P0L2",
           "CAMK"
          ],
          [
           155,
           "Q9Y2K2",
           "CAMK"
          ],
          [
           156,
           "Q8NCB2",
           "CAMK"
          ],
          [
           157,
           "O14936",
           "CAMK"
          ],
          [
           158,
           "O43293",
           "CAMK"
          ],
          [
           159,
           "O94768",
           "CAMK"
          ],
          [
           160,
           "P53355",
           "CAMK"
          ],
          [
           161,
           "Q9UEE5",
           "CAMK"
          ],
          [
           162,
           "Q9UIK4",
           "CAMK"
          ],
          [
           163,
           "O15075",
           "CAMK"
          ],
          [
           164,
           "Q8N568",
           "CAMK"
          ],
          [
           165,
           "Q9C098",
           "CAMK"
          ],
          [
           166,
           "P49137",
           "CAMK"
          ],
          [
           167,
           "Q16644",
           "CAMK"
          ],
          [
           168,
           "Q8IW41",
           "CAMK"
          ],
          [
           169,
           "Q9BUB5",
           "CAMK"
          ],
          [
           170,
           "Q9HBH9",
           "CAMK"
          ],
          [
           171,
           "Q15746",
           "CAMK"
          ],
          [
           172,
           "Q32MK0",
           "CAMK"
          ],
          [
           173,
           "Q86YV6",
           "CAMK"
          ],
          [
           174,
           "Q8WZ42",
           "CAMK"
          ],
          [
           175,
           "Q9H1R3",
           "CAMK"
          ],
          [
           176,
           "P15735",
           "CAMK"
          ],
          [
           177,
           "Q16816",
           "CAMK"
          ],
          [
           178,
           "P11309",
           "CAMK"
          ],
          [
           179,
           "Q86V86",
           "CAMK"
          ],
          [
           180,
           "Q9P1W9",
           "CAMK"
          ],
          [
           181,
           "O94806",
           "CAMK"
          ],
          [
           182,
           "Q15139",
           "CAMK"
          ],
          [
           183,
           "Q9BZL6",
           "CAMK"
          ],
          [
           184,
           "P11801",
           "CAMK"
          ],
          [
           185,
           "Q96QS6",
           "CAMK"
          ],
          [
           186,
           "O96017",
           "CAMK"
          ],
          [
           187,
           "O75582|2",
           "CAMK"
          ],
          [
           188,
           "O75676|2",
           "CAMK"
          ],
          [
           189,
           "P51812|2",
           "CAMK"
          ],
          [
           190,
           "Q15349|2",
           "CAMK"
          ],
          [
           191,
           "Q15418|2",
           "CAMK"
          ],
          [
           192,
           "Q9UK32|2",
           "CAMK"
          ],
          [
           193,
           "A0A0B4J2F2",
           "CAMK"
          ],
          [
           194,
           "Q9BYT3",
           "CAMK"
          ],
          [
           195,
           "Q8N2I9",
           "CAMK"
          ],
          [
           196,
           "Q6SA08",
           "CAMK"
          ],
          [
           197,
           "Q96PF2",
           "CAMK"
          ],
          [
           198,
           "Q96PN8",
           "CAMK"
          ],
          [
           199,
           "Q9BXA6",
           "CAMK"
          ],
          [
           200,
           "Q9BXA7",
           "CAMK"
          ],
          [
           201,
           "Q92519",
           "CAMK"
          ],
          [
           202,
           "Q96RU7",
           "CAMK"
          ],
          [
           203,
           "Q96RU8",
           "CAMK"
          ],
          [
           204,
           "O60229",
           "CAMK"
          ],
          [
           205,
           "O75962",
           "CAMK"
          ],
          [
           206,
           "Q15772|1",
           "CAMK"
          ],
          [
           207,
           "Q15772|2",
           "CAMK"
          ],
          [
           208,
           "Q5VST9|1",
           "CAMK"
          ],
          [
           209,
           "Q5VST9|2",
           "CAMK"
          ]
         ],
         "hovertemplate": "<b>%{hovertext}</b><br><br>label=%{customdata[2]}<br>pm1=%{x}<br>pm2=%{y}<br>proteins_id=%{customdata[0]}<br>accession=%{customdata[1]}<extra></extra>",
         "hovertext": [
          "CAMK",
          "CAMK",
          "CAMK",
          "CAMK",
          "CAMK",
          "CAMK",
          "CAMK",
          "CAMK",
          "CAMK",
          "CAMK",
          "CAMK",
          "CAMK",
          "CAMK",
          "CAMK",
          "CAMK",
          "CAMK",
          "CAMK",
          "CAMK",
          "CAMK",
          "CAMK",
          "CAMK",
          "CAMK",
          "CAMK",
          "CAMK",
          "CAMK",
          "CAMK",
          "CAMK",
          "CAMK",
          "CAMK",
          "CAMK",
          "CAMK",
          "CAMK",
          "CAMK",
          "CAMK",
          "CAMK",
          "CAMK",
          "CAMK",
          "CAMK",
          "CAMK",
          "CAMK",
          "CAMK",
          "CAMK",
          "CAMK",
          "CAMK",
          "CAMK",
          "CAMK",
          "CAMK",
          "CAMK",
          "CAMK",
          "CAMK",
          "CAMK",
          "CAMK",
          "CAMK",
          "CAMK",
          "CAMK",
          "CAMK",
          "CAMK",
          "CAMK",
          "CAMK",
          "CAMK",
          "CAMK",
          "CAMK",
          "CAMK",
          "CAMK",
          "CAMK",
          "CAMK",
          "CAMK",
          "CAMK",
          "CAMK",
          "CAMK",
          "CAMK",
          "CAMK",
          "CAMK",
          "CAMK",
          "CAMK",
          "CAMK",
          "CAMK",
          "CAMK",
          "CAMK",
          "CAMK",
          "CAMK",
          "CAMK",
          "CAMK"
         ],
         "legendgroup": "CAMK",
         "marker": {
          "color": "#1f6ed4",
          "symbol": "circle"
         },
         "mode": "markers",
         "name": "CAMK",
         "orientation": "v",
         "showlegend": true,
         "type": "scatter",
         "x": [
          -0.08461044,
          0.6321465,
          0.25251234,
          -0.08206028,
          -0.0811925,
          0.18407291,
          0.20324115,
          0.2645137,
          0.63191676,
          0.5623279,
          0.39408648,
          0.7876358,
          0.02393506,
          0.062215235,
          0.06240225,
          0.5534699,
          0.80612826,
          -0.023101145,
          0.78496426,
          0.022495287,
          0.21225904,
          0.25150195,
          0.24726953,
          0.10628602,
          0.2516876,
          0.6359679,
          0.20321828,
          0.2425324,
          0.056953028,
          0.25194502,
          0.21705317,
          -0.02464706,
          0.25769985,
          0.5491917,
          0.5642188,
          0.6335634,
          0.37525403,
          0.8095704,
          0.8055235,
          0.38207203,
          0.6306229,
          0.63939005,
          -0.0783551,
          0.23700811,
          0.5768283,
          0.7831569,
          0.2471393,
          0.17596747,
          0.63482326,
          0.8066796,
          0.21219681,
          0.55209327,
          -0.025085669,
          -0.5101046,
          -0.5467397,
          -0.5745537,
          -0.5302747,
          -0.4896104,
          -0.45816466,
          -0.49291316,
          -0.46288812,
          -0.43387064,
          -0.48741406,
          -0.46695578,
          -0.4669852,
          -0.46283883,
          -0.5168614,
          -0.4737616,
          -0.3029528,
          -0.5219496,
          -0.5219352,
          -0.52206576,
          -0.5226203,
          -0.52200115,
          -0.47896785,
          -0.45142394,
          -0.4701378,
          -0.49953097,
          -0.4917406,
          -0.5643616,
          -0.45284474,
          -0.49447078,
          -0.50805587
         ],
         "xaxis": "x",
         "y": [
          0.9669415,
          0.74946827,
          0.9093824,
          0.9738767,
          0.96929514,
          0.69841194,
          0.68730533,
          0.90191615,
          0.7426891,
          0.70984936,
          0.8469487,
          0.5818465,
          0.9886426,
          0.63842684,
          0.6382916,
          0.7337664,
          0.52434355,
          0.9724563,
          0.5891738,
          0.98271596,
          0.68314624,
          0.9373883,
          0.9240616,
          0.95847064,
          0.9209566,
          0.75084144,
          0.68679667,
          0.927969,
          0.62836826,
          0.92998224,
          0.6945646,
          0.97850025,
          0.93543476,
          0.7462004,
          0.732095,
          0.7570402,
          0.84301555,
          0.52481514,
          0.49887738,
          0.83458215,
          0.75423217,
          0.75235647,
          0.9724354,
          0.9336928,
          0.702796,
          0.5853162,
          0.9297043,
          0.66052824,
          0.75299335,
          0.5294524,
          0.6829804,
          0.7187684,
          0.9709476,
          -0.52791154,
          -0.5165154,
          -0.5376221,
          -0.51581085,
          -0.6739309,
          -0.6426479,
          -0.63238585,
          -0.6802218,
          -0.6770098,
          -0.68361765,
          -0.6875079,
          -0.6909508,
          -0.6898886,
          -0.63572204,
          -0.58073276,
          -0.257199,
          -0.6260587,
          -0.6260332,
          -0.62631154,
          -0.6268241,
          -0.6264093,
          -0.32484666,
          -0.3181659,
          -0.37910804,
          -0.4768721,
          -0.47116953,
          -0.35200453,
          -0.44475886,
          -0.43646005,
          -0.40792283
         ],
         "yaxis": "y"
        },
        {
         "customdata": [
          [
           210,
           "P48729",
           "CK1"
          ],
          [
           211,
           "Q8N752",
           "CK1"
          ],
          [
           212,
           "P48730",
           "CK1"
          ],
          [
           213,
           "P49674",
           "CK1"
          ],
          [
           214,
           "P78368",
           "CK1"
          ],
          [
           215,
           "Q9HCP0",
           "CK1"
          ],
          [
           216,
           "Q9Y6M4",
           "CK1"
          ],
          [
           217,
           "Q5TCY1",
           "CK1"
          ],
          [
           218,
           "Q6IQ55",
           "CK1"
          ],
          [
           219,
           "Q86Y07",
           "CK1"
          ],
          [
           220,
           "Q8IV63",
           "CK1"
          ],
          [
           221,
           "Q99986",
           "CK1"
          ]
         ],
         "hovertemplate": "<b>%{hovertext}</b><br><br>label=%{customdata[2]}<br>pm1=%{x}<br>pm2=%{y}<br>proteins_id=%{customdata[0]}<br>accession=%{customdata[1]}<extra></extra>",
         "hovertext": [
          "CK1",
          "CK1",
          "CK1",
          "CK1",
          "CK1",
          "CK1",
          "CK1",
          "CK1",
          "CK1",
          "CK1",
          "CK1",
          "CK1"
         ],
         "legendgroup": "CK1",
         "marker": {
          "color": "#0dbae9",
          "symbol": "circle"
         },
         "mode": "markers",
         "name": "CK1",
         "orientation": "v",
         "showlegend": true,
         "type": "scatter",
         "x": [
          0.93821573,
          0.9438531,
          0.9434616,
          0.9417828,
          0.93628687,
          0.93589586,
          0.9222899,
          0.89319336,
          0.9012003,
          0.8935078,
          0.87323886,
          0.901597
         ],
         "xaxis": "x",
         "y": [
          -0.076488,
          -0.07429074,
          -0.08267823,
          -0.068124354,
          -0.06177958,
          -0.07083722,
          -0.081753515,
          -0.09467075,
          -0.10558645,
          -0.103151105,
          -0.11006374,
          -0.11522736
         ],
         "yaxis": "y"
        },
        {
         "customdata": [
          [
           222,
           "O94921",
           "CMGC"
          ],
          [
           223,
           "P06493",
           "CMGC"
          ],
          [
           224,
           "P11802",
           "CMGC"
          ],
          [
           225,
           "P21127",
           "CMGC"
          ],
          [
           226,
           "P24941",
           "CMGC"
          ],
          [
           227,
           "P49336",
           "CMGC"
          ],
          [
           228,
           "P50613",
           "CMGC"
          ],
          [
           229,
           "P50750",
           "CMGC"
          ],
          [
           230,
           "Q00526",
           "CMGC"
          ],
          [
           231,
           "Q00534",
           "CMGC"
          ],
          [
           232,
           "Q00535",
           "CMGC"
          ],
          [
           233,
           "Q00536",
           "CMGC"
          ],
          [
           234,
           "Q00537",
           "CMGC"
          ],
          [
           235,
           "Q07002",
           "CMGC"
          ],
          [
           236,
           "Q14004",
           "CMGC"
          ],
          [
           237,
           "Q15131",
           "CMGC"
          ],
          [
           238,
           "Q8IZL9",
           "CMGC"
          ],
          [
           239,
           "Q96Q40",
           "CMGC"
          ],
          [
           240,
           "Q9BWU1",
           "CMGC"
          ],
          [
           241,
           "Q9NYV4",
           "CMGC"
          ],
          [
           242,
           "Q9UQ88",
           "CMGC"
          ],
          [
           243,
           "O76039",
           "CMGC"
          ],
          [
           244,
           "Q00532",
           "CMGC"
          ],
          [
           245,
           "Q5MAI5",
           "CMGC"
          ],
          [
           246,
           "Q8IVW4",
           "CMGC"
          ],
          [
           247,
           "Q92772",
           "CMGC"
          ],
          [
           248,
           "P19784",
           "CMGC"
          ],
          [
           249,
           "P68400",
           "CMGC"
          ],
          [
           250,
           "Q8NEV1",
           "CMGC"
          ],
          [
           251,
           "P49759",
           "CMGC"
          ],
          [
           252,
           "P49760",
           "CMGC"
          ],
          [
           253,
           "P49761",
           "CMGC"
          ],
          [
           254,
           "Q9HAZ1",
           "CMGC"
          ],
          [
           255,
           "O43781",
           "CMGC"
          ],
          [
           256,
           "Q13523",
           "CMGC"
          ],
          [
           257,
           "Q13627",
           "CMGC"
          ],
          [
           258,
           "Q86Z02",
           "CMGC"
          ],
          [
           259,
           "Q8NE63",
           "CMGC"
          ],
          [
           260,
           "Q92630",
           "CMGC"
          ],
          [
           261,
           "Q9H2X6",
           "CMGC"
          ],
          [
           262,
           "Q9H422",
           "CMGC"
          ],
          [
           263,
           "Q9NR20",
           "CMGC"
          ],
          [
           264,
           "Q9Y463",
           "CMGC"
          ],
          [
           265,
           "P49840",
           "CMGC"
          ],
          [
           266,
           "P49841",
           "CMGC"
          ],
          [
           267,
           "O15264",
           "CMGC"
          ],
          [
           268,
           "P27361",
           "CMGC"
          ],
          [
           269,
           "P28482",
           "CMGC"
          ],
          [
           270,
           "P31152",
           "CMGC"
          ],
          [
           271,
           "P45983",
           "CMGC"
          ],
          [
           272,
           "P45984",
           "CMGC"
          ],
          [
           273,
           "P53778",
           "CMGC"
          ],
          [
           274,
           "P53779",
           "CMGC"
          ],
          [
           275,
           "Q13164",
           "CMGC"
          ],
          [
           276,
           "Q15759",
           "CMGC"
          ],
          [
           277,
           "Q16539",
           "CMGC"
          ],
          [
           278,
           "Q16659",
           "CMGC"
          ],
          [
           279,
           "Q8TD08",
           "CMGC"
          ],
          [
           280,
           "Q9UBE8",
           "CMGC"
          ],
          [
           281,
           "P20794",
           "CMGC"
          ],
          [
           282,
           "Q9UPZ9",
           "CMGC"
          ],
          [
           283,
           "Q9UQ07",
           "CMGC"
          ],
          [
           284,
           "P78362",
           "CMGC"
          ],
          [
           285,
           "Q96SB4",
           "CMGC"
          ],
          [
           286,
           "Q9UPE1",
           "CMGC"
          ]
         ],
         "hovertemplate": "<b>%{hovertext}</b><br><br>label=%{customdata[2]}<br>pm1=%{x}<br>pm2=%{y}<br>proteins_id=%{customdata[0]}<br>accession=%{customdata[1]}<extra></extra>",
         "hovertext": [
          "CMGC",
          "CMGC",
          "CMGC",
          "CMGC",
          "CMGC",
          "CMGC",
          "CMGC",
          "CMGC",
          "CMGC",
          "CMGC",
          "CMGC",
          "CMGC",
          "CMGC",
          "CMGC",
          "CMGC",
          "CMGC",
          "CMGC",
          "CMGC",
          "CMGC",
          "CMGC",
          "CMGC",
          "CMGC",
          "CMGC",
          "CMGC",
          "CMGC",
          "CMGC",
          "CMGC",
          "CMGC",
          "CMGC",
          "CMGC",
          "CMGC",
          "CMGC",
          "CMGC",
          "CMGC",
          "CMGC",
          "CMGC",
          "CMGC",
          "CMGC",
          "CMGC",
          "CMGC",
          "CMGC",
          "CMGC",
          "CMGC",
          "CMGC",
          "CMGC",
          "CMGC",
          "CMGC",
          "CMGC",
          "CMGC",
          "CMGC",
          "CMGC",
          "CMGC",
          "CMGC",
          "CMGC",
          "CMGC",
          "CMGC",
          "CMGC",
          "CMGC",
          "CMGC",
          "CMGC",
          "CMGC",
          "CMGC",
          "CMGC",
          "CMGC",
          "CMGC"
         ],
         "legendgroup": "CMGC",
         "marker": {
          "color": "#d5c203",
          "symbol": "circle"
         },
         "mode": "markers",
         "name": "CMGC",
         "orientation": "v",
         "showlegend": true,
         "type": "scatter",
         "x": [
          -0.9382757,
          -0.9382534,
          -0.9198409,
          -0.9464175,
          -0.94380134,
          -0.9087192,
          -0.9281669,
          -0.9499022,
          -0.94264257,
          -0.9167722,
          -0.9350843,
          -0.9426115,
          -0.9441417,
          -0.93779075,
          -0.9495863,
          -0.9396975,
          -0.9077282,
          -0.9314748,
          -0.9022919,
          -0.9499102,
          -0.9422713,
          -0.8732598,
          -0.8943684,
          -0.89748204,
          -0.89099663,
          -0.88496596,
          -0.8489805,
          -0.86668706,
          -0.8714044,
          -0.75742716,
          -0.76865494,
          -0.74044627,
          -0.7588065,
          -0.68058187,
          -0.7608887,
          -0.68045264,
          -0.71672434,
          -0.71866775,
          -0.6987825,
          -0.75248045,
          -0.7326637,
          -0.70771873,
          -0.6844069,
          -0.9073383,
          -0.9050395,
          -0.95885515,
          -0.95828444,
          -0.961932,
          -0.9099691,
          -0.9665456,
          -0.96465486,
          -0.95936596,
          -0.9641074,
          -0.95237994,
          -0.9538613,
          -0.9619255,
          -0.9262809,
          -0.9440649,
          -0.9555476,
          -0.8827865,
          -0.900536,
          -0.8776767,
          -0.51865184,
          -0.5168663,
          -0.62296236
         ],
         "xaxis": "x",
         "y": [
          0.2409585,
          0.25075296,
          0.23287913,
          0.23308125,
          0.2514931,
          0.28287598,
          0.22470382,
          0.23442185,
          0.24868341,
          0.2539167,
          0.2471409,
          0.2427995,
          0.2449779,
          0.24221906,
          0.23844159,
          0.23514618,
          0.23069434,
          0.23724361,
          0.27952754,
          0.24050608,
          0.23161583,
          0.29701865,
          0.2978346,
          0.30848205,
          0.31621945,
          0.29857272,
          0.32150257,
          0.31576946,
          0.32504877,
          0.4877123,
          0.48173866,
          0.47652397,
          0.47125375,
          0.5643971,
          0.43108687,
          0.57843065,
          0.53243554,
          0.46316463,
          0.57191145,
          0.50675213,
          0.500043,
          0.5662651,
          0.55188024,
          0.30358788,
          0.30738652,
          0.17197567,
          0.15795301,
          0.15934725,
          0.20294856,
          0.1709975,
          0.17533985,
          0.17602189,
          0.17254531,
          0.15931432,
          0.16704687,
          0.16655734,
          0.20497102,
          0.17596957,
          0.16329212,
          0.28656152,
          0.29525957,
          0.31125712,
          0.55878806,
          0.5806709,
          0.57928276
         ],
         "yaxis": "y"
        },
        {
         "customdata": [
          [
           287,
           "P51956",
           "NEK"
          ],
          [
           288,
           "Q6P3R8",
           "NEK"
          ],
          [
           289,
           "Q96PY6",
           "NEK"
          ],
          [
           290,
           "Q6ZWH5",
           "NEK"
          ],
          [
           291,
           "Q8NG66",
           "NEK"
          ],
          [
           292,
           "P51955",
           "NEK"
          ],
          [
           293,
           "P51957",
           "NEK"
          ],
          [
           294,
           "Q8TDX7",
           "NEK"
          ],
          [
           295,
           "Q9HC98",
           "NEK"
          ],
          [
           296,
           "Q86SG6",
           "NEK"
          ],
          [
           297,
           "Q8TD19",
           "NEK"
          ]
         ],
         "hovertemplate": "<b>%{hovertext}</b><br><br>label=%{customdata[2]}<br>pm1=%{x}<br>pm2=%{y}<br>proteins_id=%{customdata[0]}<br>accession=%{customdata[1]}<extra></extra>",
         "hovertext": [
          "NEK",
          "NEK",
          "NEK",
          "NEK",
          "NEK",
          "NEK",
          "NEK",
          "NEK",
          "NEK",
          "NEK",
          "NEK"
         ],
         "legendgroup": "NEK",
         "marker": {
          "color": "#8ce4fa",
          "symbol": "circle"
         },
         "mode": "markers",
         "name": "NEK",
         "orientation": "v",
         "showlegend": true,
         "type": "scatter",
         "x": [
          0.47444573,
          0.47456104,
          0.4672372,
          0.44200215,
          0.47018215,
          0.46847913,
          0.4716694,
          0.45872003,
          0.4677138,
          0.47263888,
          0.4699071
         ],
         "xaxis": "x",
         "y": [
          -0.060297716,
          -0.06017243,
          -0.062239975,
          -0.05322588,
          -0.05904876,
          -0.05863173,
          -0.059706137,
          -0.059884593,
          -0.059446983,
          -0.059841413,
          -0.05894919
         ],
         "yaxis": "y"
        },
        {
         "customdata": [
          [
           298,
           "O14965",
           "nan"
          ],
          [
           299,
           "Q96GD4",
           "nan"
          ],
          [
           300,
           "Q9UQB9",
           "nan"
          ],
          [
           301,
           "O43683",
           "nan"
          ],
          [
           302,
           "O60566",
           "nan"
          ],
          [
           303,
           "Q8N5S9",
           "nan"
          ],
          [
           304,
           "Q96RR4",
           "nan"
          ],
          [
           305,
           "O00311",
           "nan"
          ],
          [
           306,
           "Q6XUX3",
           "nan"
          ],
          [
           307,
           "Q8TF76",
           "nan"
          ],
          [
           308,
           "O14920",
           "nan"
          ],
          [
           309,
           "O15111",
           "nan"
          ],
          [
           310,
           "Q14164",
           "nan"
          ],
          [
           311,
           "Q9UHD2",
           "nan"
          ],
          [
           312,
           "O75460",
           "nan"
          ],
          [
           313,
           "Q76MJ5",
           "nan"
          ],
          [
           314,
           "Q8TAS1",
           "nan"
          ],
          [
           315,
           "P00540",
           "nan"
          ],
          [
           316,
           "O14976",
           "nan"
          ],
          [
           317,
           "O75716",
           "nan"
          ],
          [
           318,
           "Q2M2I8",
           "nan"
          ],
          [
           319,
           "Q9NSY1",
           "nan"
          ],
          [
           320,
           "P0C263",
           "nan"
          ],
          [
           321,
           "P0C264",
           "nan"
          ],
          [
           322,
           "Q52WX2",
           "nan"
          ],
          [
           323,
           "Q9BXM7",
           "nan"
          ],
          [
           324,
           "Q6ZS72",
           "nan"
          ],
          [
           325,
           "Q86YV5",
           "nan"
          ],
          [
           326,
           "Q9H792",
           "nan"
          ],
          [
           327,
           "Q8N165",
           "nan"
          ],
          [
           328,
           "Q8TDR2",
           "nan"
          ],
          [
           329,
           "Q8IWB6",
           "nan"
          ],
          [
           330,
           "Q9NSY0",
           "nan"
          ],
          [
           331,
           "Q9UHY1",
           "nan"
          ],
          [
           332,
           "Q58A45",
           "nan"
          ],
          [
           333,
           "P19525",
           "nan"
          ],
          [
           334,
           "Q9BQI3",
           "nan"
          ],
          [
           335,
           "Q9NZJ5",
           "nan"
          ],
          [
           336,
           "Q9P2K8|1",
           "nan"
          ],
          [
           337,
           "Q9P2K8|2",
           "nan"
          ],
          [
           338,
           "O00444",
           "nan"
          ],
          [
           339,
           "P53350",
           "nan"
          ],
          [
           340,
           "Q496M5",
           "nan"
          ],
          [
           341,
           "Q9H4B4",
           "nan"
          ],
          [
           342,
           "Q9NYY3",
           "nan"
          ],
          [
           343,
           "Q9H5K3",
           "nan"
          ],
          [
           344,
           "Q05823",
           "nan"
          ],
          [
           345,
           "Q6P3W7",
           "nan"
          ],
          [
           346,
           "Q8IZE3",
           "nan"
          ],
          [
           347,
           "Q96KG9",
           "nan"
          ],
          [
           348,
           "Q9BXU1",
           "nan"
          ],
          [
           349,
           "Q8NE28",
           "nan"
          ],
          [
           350,
           "Q504Y2",
           "nan"
          ],
          [
           351,
           "Q7Z7A4",
           "nan"
          ],
          [
           352,
           "Q8TEA7",
           "nan"
          ],
          [
           353,
           "Q86UE8",
           "nan"
          ],
          [
           354,
           "Q9UKI8",
           "nan"
          ],
          [
           355,
           "Q96KB5",
           "nan"
          ],
          [
           356,
           "P33981",
           "nan"
          ],
          [
           357,
           "O75385",
           "nan"
          ],
          [
           358,
           "Q6PHR2",
           "nan"
          ],
          [
           359,
           "Q8IYT8",
           "nan"
          ],
          [
           360,
           "Q96C45",
           "nan"
          ],
          [
           361,
           "Q9NRP7",
           "nan"
          ],
          [
           362,
           "Q99570",
           "nan"
          ],
          [
           363,
           "P0C1S8",
           "nan"
          ],
          [
           364,
           "P30291",
           "nan"
          ],
          [
           365,
           "Q99640",
           "nan"
          ],
          [
           366,
           "Q96J92",
           "nan"
          ],
          [
           367,
           "Q9BYP7",
           "nan"
          ],
          [
           368,
           "Q9H4A3",
           "nan"
          ],
          [
           369,
           "Q9Y3S1",
           "nan"
          ]
         ],
         "hovertemplate": "<b>%{hovertext}</b><br><br>label=%{customdata[2]}<br>pm1=%{x}<br>pm2=%{y}<br>proteins_id=%{customdata[0]}<br>accession=%{customdata[1]}<extra></extra>",
         "hovertext": [
          "nan",
          "nan",
          "nan",
          "nan",
          "nan",
          "nan",
          "nan",
          "nan",
          "nan",
          "nan",
          "nan",
          "nan",
          "nan",
          "nan",
          "nan",
          "nan",
          "nan",
          "nan",
          "nan",
          "nan",
          "nan",
          "nan",
          "nan",
          "nan",
          "nan",
          "nan",
          "nan",
          "nan",
          "nan",
          "nan",
          "nan",
          "nan",
          "nan",
          "nan",
          "nan",
          "nan",
          "nan",
          "nan",
          "nan",
          "nan",
          "nan",
          "nan",
          "nan",
          "nan",
          "nan",
          "nan",
          "nan",
          "nan",
          "nan",
          "nan",
          "nan",
          "nan",
          "nan",
          "nan",
          "nan",
          "nan",
          "nan",
          "nan",
          "nan",
          "nan",
          "nan",
          "nan",
          "nan",
          "nan",
          "nan",
          "nan",
          "nan",
          "nan",
          "nan",
          "nan",
          "nan",
          "nan"
         ],
         "legendgroup": "nan",
         "marker": {
          "color": "#c7c7c7",
          "symbol": "circle"
         },
         "mode": "markers",
         "name": "nan",
         "orientation": "v",
         "showlegend": true,
         "type": "scatter",
         "x": [
          -0.6606197,
          -0.6694791,
          -0.65466976,
          -0.17483214,
          -0.48923326,
          -0.54062396,
          -0.5405726,
          -0.47092965,
          0.4347279,
          -0.08320688,
          -0.34542412,
          -0.441548,
          -0.30642208,
          -0.30648097,
          -0.1742877,
          -0.38370037,
          -0.6631633,
          0.4859351,
          0.09473602,
          -0.19029765,
          0.3807727,
          0.38131487,
          -0.44213846,
          -0.44284648,
          -0.42654836,
          -0.38126454,
          -0.44826394,
          -0.4281223,
          -0.41009396,
          -0.33583757,
          -0.36172843,
          0.48774117,
          -0.62142724,
          -0.69452727,
          -0.54974455,
          -0.18180297,
          -0.41892198,
          -0.46232897,
          -0.6116614,
          -0.44639584,
          -0.6299697,
          -0.6363054,
          -0.38128325,
          -0.6309439,
          -0.641399,
          0.37443224,
          -0.4761344,
          -0.52883255,
          -0.5849192,
          -0.5869869,
          -0.47404626,
          -0.43990096,
          0.42349255,
          -0.5575631,
          -0.500392,
          -0.24172893,
          -0.21963535,
          0.4019463,
          -0.20733243,
          -0.5695767,
          -0.5800925,
          -0.5510388,
          -0.57690316,
          0.47083905,
          -0.25932837,
          -0.285419,
          -0.23271997,
          -0.35698983,
          -0.6906177,
          -0.69211376,
          -0.71027184,
          -0.6867942
         ],
         "xaxis": "x",
         "y": [
          -0.61649036,
          -0.605494,
          -0.62380725,
          0.23313998,
          0.17753772,
          -0.5517874,
          -0.55173254,
          0.55654246,
          -0.65127784,
          -0.071262084,
          -0.015237563,
          -0.10869782,
          -0.15275453,
          -0.15292555,
          -0.1647161,
          -0.16484316,
          0.3440871,
          -0.6959198,
          -0.09160884,
          -0.08184753,
          -0.06662613,
          -0.0674491,
          -0.27083027,
          -0.26702157,
          -0.26162043,
          0.20515534,
          0.2580019,
          0.31271657,
          0.34213176,
          0.18048361,
          0.18059188,
          -0.7064401,
          -0.004263818,
          -0.6214751,
          0.06468829,
          0.11129367,
          0.4433245,
          0.5253884,
          -0.03160191,
          0.48564574,
          -0.588687,
          -0.62445885,
          -0.4670327,
          -0.6024879,
          -0.6100039,
          -0.717916,
          0.14270194,
          0.017238779,
          0.039937932,
          0.02833784,
          0.21958733,
          0.10683326,
          -0.5871133,
          0.0731533,
          0.046025917,
          -0.12593764,
          -0.11823987,
          -0.6815178,
          -0.072454706,
          -0.5067902,
          -0.50563675,
          -0.48019904,
          -0.18421729,
          -0.059367493,
          0.029663859,
          0.029407859,
          -0.034873508,
          -0.10114673,
          -0.6079609,
          -0.60364395,
          -0.5922908,
          -0.61168414
         ],
         "yaxis": "y"
        },
        {
         "customdata": [
          [
           370,
           "P16066",
           "RGC"
          ],
          [
           371,
           "P20594",
           "RGC"
          ],
          [
           372,
           "P25092",
           "RGC"
          ],
          [
           373,
           "P51841",
           "RGC"
          ],
          [
           374,
           "Q02846",
           "RGC"
          ]
         ],
         "hovertemplate": "<b>%{hovertext}</b><br><br>label=%{customdata[2]}<br>pm1=%{x}<br>pm2=%{y}<br>proteins_id=%{customdata[0]}<br>accession=%{customdata[1]}<extra></extra>",
         "hovertext": [
          "RGC",
          "RGC",
          "RGC",
          "RGC",
          "RGC"
         ],
         "legendgroup": "RGC",
         "marker": {
          "color": "#f59a62",
          "symbol": "circle"
         },
         "mode": "markers",
         "name": "RGC",
         "orientation": "v",
         "showlegend": true,
         "type": "scatter",
         "x": [
          0.3771474,
          0.37305942,
          0.34188822,
          0.36912403,
          0.47224498
         ],
         "xaxis": "x",
         "y": [
          -0.8015702,
          -0.7938647,
          -0.7962971,
          -0.77074385,
          -0.6729463
         ],
         "yaxis": "y"
        },
        {
         "customdata": [
          [
           375,
           "P41279",
           "STE"
          ],
          [
           376,
           "Q99558",
           "STE"
          ],
          [
           377,
           "O95382",
           "STE"
          ],
          [
           378,
           "Q13233",
           "STE"
          ],
          [
           379,
           "Q56UN5",
           "STE"
          ],
          [
           380,
           "Q6ZN16",
           "STE"
          ],
          [
           381,
           "Q99683",
           "STE"
          ],
          [
           382,
           "Q99759",
           "STE"
          ],
          [
           383,
           "Q9Y2U5",
           "STE"
          ],
          [
           384,
           "Q9Y6R4",
           "STE"
          ],
          [
           385,
           "O00506",
           "STE"
          ],
          [
           386,
           "O75914",
           "STE"
          ],
          [
           387,
           "O94804",
           "STE"
          ],
          [
           388,
           "O95747",
           "STE"
          ],
          [
           389,
           "O95819",
           "STE"
          ],
          [
           390,
           "O96013",
           "STE"
          ],
          [
           391,
           "Q12851",
           "STE"
          ],
          [
           392,
           "Q13043",
           "STE"
          ],
          [
           393,
           "Q13153",
           "STE"
          ],
          [
           394,
           "Q13177",
           "STE"
          ],
          [
           395,
           "Q13188",
           "STE"
          ],
          [
           396,
           "Q7L7X3",
           "STE"
          ],
          [
           397,
           "Q7RTN6",
           "STE"
          ],
          [
           398,
           "Q7Z2Y5",
           "STE"
          ],
          [
           399,
           "Q8IVH8",
           "STE"
          ],
          [
           400,
           "Q8N4C8",
           "STE"
          ],
          [
           401,
           "Q8NEV4",
           "STE"
          ],
          [
           402,
           "Q8WXR4",
           "STE"
          ],
          [
           403,
           "Q92918",
           "STE"
          ],
          [
           404,
           "Q9C0K7",
           "STE"
          ],
          [
           405,
           "Q9H2G2",
           "STE"
          ],
          [
           406,
           "Q9H2K8",
           "STE"
          ],
          [
           407,
           "Q9NQU5",
           "STE"
          ],
          [
           408,
           "Q9P286",
           "STE"
          ],
          [
           409,
           "Q9P289",
           "STE"
          ],
          [
           410,
           "Q9UEW8",
           "STE"
          ],
          [
           411,
           "Q9UKE5",
           "STE"
          ],
          [
           412,
           "Q9UL54",
           "STE"
          ],
          [
           413,
           "Q9Y4K4",
           "STE"
          ],
          [
           414,
           "Q9Y6E0",
           "STE"
          ],
          [
           415,
           "O14733",
           "STE"
          ],
          [
           416,
           "P36507",
           "STE"
          ],
          [
           417,
           "P45985",
           "STE"
          ],
          [
           418,
           "P46734",
           "STE"
          ],
          [
           419,
           "P52564",
           "STE"
          ],
          [
           420,
           "Q02750",
           "STE"
          ],
          [
           421,
           "Q13163",
           "STE"
          ]
         ],
         "hovertemplate": "<b>%{hovertext}</b><br><br>label=%{customdata[2]}<br>pm1=%{x}<br>pm2=%{y}<br>proteins_id=%{customdata[0]}<br>accession=%{customdata[1]}<extra></extra>",
         "hovertext": [
          "STE",
          "STE",
          "STE",
          "STE",
          "STE",
          "STE",
          "STE",
          "STE",
          "STE",
          "STE",
          "STE",
          "STE",
          "STE",
          "STE",
          "STE",
          "STE",
          "STE",
          "STE",
          "STE",
          "STE",
          "STE",
          "STE",
          "STE",
          "STE",
          "STE",
          "STE",
          "STE",
          "STE",
          "STE",
          "STE",
          "STE",
          "STE",
          "STE",
          "STE",
          "STE",
          "STE",
          "STE",
          "STE",
          "STE",
          "STE",
          "STE",
          "STE",
          "STE",
          "STE",
          "STE",
          "STE",
          "STE"
         ],
         "legendgroup": "STE",
         "marker": {
          "color": "#80b412",
          "symbol": "circle"
         },
         "mode": "markers",
         "name": "STE",
         "orientation": "v",
         "showlegend": true,
         "type": "scatter",
         "x": [
          -0.7385797,
          -0.6909974,
          -0.84846354,
          -0.8160598,
          -0.8549983,
          -0.8636264,
          -0.8632645,
          -0.8612607,
          -0.84612703,
          -0.83427185,
          -0.8188127,
          -0.8226848,
          -0.80660284,
          -0.8354892,
          -0.7826743,
          -0.830565,
          -0.7982014,
          -0.8153186,
          -0.8265697,
          -0.82896495,
          -0.8083004,
          -0.8217915,
          -0.8298884,
          -0.7954035,
          -0.7904594,
          -0.78728473,
          -0.7748041,
          -0.79006076,
          -0.80105174,
          -0.8376785,
          -0.7990655,
          -0.8228296,
          -0.83432317,
          -0.82801867,
          -0.8126954,
          -0.8325673,
          -0.782805,
          -0.8265658,
          -0.80526054,
          -0.82114017,
          -0.8518079,
          -0.8472936,
          -0.84896904,
          -0.84596235,
          -0.84065664,
          -0.84174955,
          -0.8421075
         ],
         "xaxis": "x",
         "y": [
          -0.21405923,
          -0.23817109,
          -0.26244518,
          -0.2942229,
          -0.28834003,
          -0.26300487,
          -0.24970573,
          -0.2759205,
          -0.2724431,
          -0.24544515,
          -0.5207375,
          -0.51601976,
          -0.5356382,
          -0.49087313,
          -0.556902,
          -0.49556223,
          -0.54439616,
          -0.51556605,
          -0.51438516,
          -0.5105988,
          -0.51024055,
          -0.48559755,
          -0.44133726,
          -0.55529195,
          -0.53614,
          -0.5561022,
          -0.55271524,
          -0.54980594,
          -0.5475192,
          -0.41849646,
          -0.5389228,
          -0.4964556,
          -0.49832138,
          -0.5014123,
          -0.5211163,
          -0.48428443,
          -0.55141854,
          -0.4931528,
          -0.5436049,
          -0.52311134,
          -0.44620448,
          -0.4367132,
          -0.4501242,
          -0.45825833,
          -0.4540228,
          -0.4410677,
          -0.4455785
         ],
         "yaxis": "y"
        },
        {
         "customdata": [
          [
           422,
           "O43187",
           "TKL"
          ],
          [
           423,
           "P51617",
           "TKL"
          ],
          [
           424,
           "Q9NWZ3",
           "TKL"
          ],
          [
           425,
           "Q9Y616",
           "TKL"
          ],
          [
           426,
           "P53667",
           "TKL"
          ],
          [
           427,
           "P53671",
           "TKL"
          ],
          [
           428,
           "Q38SD2",
           "TKL"
          ],
          [
           429,
           "Q5S007",
           "TKL"
          ],
          [
           430,
           "O43283",
           "TKL"
          ],
          [
           431,
           "O43318",
           "TKL"
          ],
          [
           432,
           "P80192",
           "TKL"
          ],
          [
           433,
           "Q02779",
           "TKL"
          ],
          [
           434,
           "Q12852",
           "TKL"
          ],
          [
           435,
           "Q13418",
           "TKL"
          ],
          [
           436,
           "Q16584",
           "TKL"
          ],
          [
           437,
           "Q59H18",
           "TKL"
          ],
          [
           438,
           "Q5TCX8",
           "TKL"
          ],
          [
           439,
           "Q9NYL2",
           "TKL"
          ],
          [
           440,
           "P04049",
           "TKL"
          ],
          [
           441,
           "P10398",
           "TKL"
          ],
          [
           442,
           "P15056",
           "TKL"
          ],
          [
           443,
           "Q6VAB6",
           "TKL"
          ],
          [
           444,
           "Q8IVT5",
           "TKL"
          ],
          [
           445,
           "O43353",
           "TKL"
          ],
          [
           446,
           "P57078",
           "TKL"
          ],
          [
           447,
           "Q13546",
           "TKL"
          ],
          [
           448,
           "Q8NFD2",
           "TKL"
          ],
          [
           449,
           "Q9Y572",
           "TKL"
          ],
          [
           450,
           "O00238",
           "TKL"
          ],
          [
           451,
           "P27037",
           "TKL"
          ],
          [
           452,
           "P36894",
           "TKL"
          ],
          [
           453,
           "P36896",
           "TKL"
          ],
          [
           454,
           "P36897",
           "TKL"
          ],
          [
           455,
           "P37023",
           "TKL"
          ],
          [
           456,
           "P37173",
           "TKL"
          ],
          [
           457,
           "Q04771",
           "TKL"
          ],
          [
           458,
           "Q13705",
           "TKL"
          ],
          [
           459,
           "Q13873",
           "TKL"
          ],
          [
           460,
           "Q16671",
           "TKL"
          ],
          [
           461,
           "Q8NER5",
           "TKL"
          ],
          [
           462,
           "Q15569",
           "TKL"
          ],
          [
           463,
           "Q96S53",
           "TKL"
          ],
          [
           464,
           "Q8NB16",
           "TKL"
          ]
         ],
         "hovertemplate": "<b>%{hovertext}</b><br><br>label=%{customdata[2]}<br>pm1=%{x}<br>pm2=%{y}<br>proteins_id=%{customdata[0]}<br>accession=%{customdata[1]}<extra></extra>",
         "hovertext": [
          "TKL",
          "TKL",
          "TKL",
          "TKL",
          "TKL",
          "TKL",
          "TKL",
          "TKL",
          "TKL",
          "TKL",
          "TKL",
          "TKL",
          "TKL",
          "TKL",
          "TKL",
          "TKL",
          "TKL",
          "TKL",
          "TKL",
          "TKL",
          "TKL",
          "TKL",
          "TKL",
          "TKL",
          "TKL",
          "TKL",
          "TKL",
          "TKL",
          "TKL",
          "TKL",
          "TKL",
          "TKL",
          "TKL",
          "TKL",
          "TKL",
          "TKL",
          "TKL",
          "TKL",
          "TKL",
          "TKL",
          "TKL",
          "TKL",
          "TKL"
         ],
         "legendgroup": "TKL",
         "marker": {
          "color": "#997e73",
          "symbol": "circle"
         },
         "mode": "markers",
         "name": "TKL",
         "orientation": "v",
         "showlegend": true,
         "type": "scatter",
         "x": [
          0.44145036,
          0.44305855,
          0.44671467,
          0.44404027,
          0.5218751,
          0.52680486,
          0.47136292,
          0.42658588,
          0.501366,
          0.49786603,
          0.50396144,
          0.50857353,
          0.5135617,
          0.36867863,
          0.5057071,
          0.48632628,
          0.5000511,
          0.5118,
          0.4844618,
          0.49675876,
          0.47662354,
          0.42191002,
          0.38758305,
          0.42643425,
          0.4622103,
          0.43137598,
          0.46664786,
          0.49048728,
          0.7122083,
          0.6911092,
          0.7242144,
          0.7187235,
          0.73257613,
          0.7028072,
          0.68454254,
          0.7132534,
          0.68600297,
          0.67809,
          0.63536483,
          0.722536,
          0.52729905,
          0.5214285,
          0.4476095
         ],
         "xaxis": "x",
         "y": [
          -0.7787167,
          -0.7820409,
          -0.785697,
          -0.7785978,
          -0.76704764,
          -0.7658895,
          -0.68419534,
          -0.67210245,
          -0.79164565,
          -0.80195427,
          -0.80904347,
          -0.8130546,
          -0.7920818,
          -0.74602085,
          -0.814176,
          -0.8071264,
          -0.8158158,
          -0.8031486,
          -0.7641936,
          -0.76690894,
          -0.78960216,
          -0.73011804,
          -0.7010487,
          -0.79042,
          -0.75176007,
          -0.7105059,
          -0.7269305,
          -0.66181237,
          -0.56681913,
          -0.5851865,
          -0.5713085,
          -0.5581521,
          -0.5665395,
          -0.575162,
          -0.59739214,
          -0.58434695,
          -0.56410325,
          -0.58071345,
          -0.5891598,
          -0.5808105,
          -0.77548015,
          -0.7803262,
          -0.7003082
         ],
         "yaxis": "y"
        },
        {
         "customdata": [
          [
           465,
           "P29376",
           "TK"
          ],
          [
           466,
           "Q9UM73",
           "TK"
          ],
          [
           467,
           "P00519",
           "TK"
          ],
          [
           468,
           "P42684",
           "TK"
          ],
          [
           469,
           "Q07912",
           "TK"
          ],
          [
           470,
           "Q13470",
           "TK"
          ],
          [
           471,
           "P30530",
           "TK"
          ],
          [
           472,
           "Q06418",
           "TK"
          ],
          [
           473,
           "Q12866",
           "TK"
          ],
          [
           474,
           "Q13308",
           "TK"
          ],
          [
           475,
           "P41240",
           "TK"
          ],
          [
           476,
           "P42679",
           "TK"
          ],
          [
           477,
           "Q08345",
           "TK"
          ],
          [
           478,
           "Q16832",
           "TK"
          ],
          [
           479,
           "P00533",
           "TK"
          ],
          [
           480,
           "P04626",
           "TK"
          ],
          [
           481,
           "P21860",
           "TK"
          ],
          [
           482,
           "Q15303",
           "TK"
          ],
          [
           483,
           "O15197",
           "TK"
          ],
          [
           484,
           "P21709",
           "TK"
          ],
          [
           485,
           "P29317",
           "TK"
          ],
          [
           486,
           "P29320",
           "TK"
          ],
          [
           487,
           "P29322",
           "TK"
          ],
          [
           488,
           "P29323",
           "TK"
          ],
          [
           489,
           "P54753",
           "TK"
          ],
          [
           490,
           "P54756",
           "TK"
          ],
          [
           491,
           "P54760",
           "TK"
          ],
          [
           492,
           "P54762",
           "TK"
          ],
          [
           493,
           "P54764",
           "TK"
          ],
          [
           494,
           "Q15375",
           "TK"
          ],
          [
           495,
           "Q5JZY3",
           "TK"
          ],
          [
           496,
           "Q9UF33",
           "TK"
          ],
          [
           497,
           "Q05397",
           "TK"
          ],
          [
           498,
           "Q14289",
           "TK"
          ],
          [
           499,
           "P11362",
           "TK"
          ],
          [
           500,
           "P21802",
           "TK"
          ],
          [
           501,
           "P22455",
           "TK"
          ],
          [
           502,
           "P22607",
           "TK"
          ],
          [
           503,
           "P07332",
           "TK"
          ],
          [
           504,
           "P16591",
           "TK"
          ],
          [
           505,
           "P06213",
           "TK"
          ],
          [
           506,
           "P08069",
           "TK"
          ],
          [
           507,
           "P14616",
           "TK"
          ],
          [
           508,
           "O60674|1",
           "TK"
          ],
          [
           509,
           "P23458|1",
           "TK"
          ],
          [
           510,
           "P29597|1",
           "TK"
          ],
          [
           511,
           "P52333|1",
           "TK"
          ],
          [
           512,
           "O60674|2",
           "TK"
          ],
          [
           513,
           "P23458|2",
           "TK"
          ],
          [
           514,
           "P29597|2",
           "TK"
          ],
          [
           515,
           "P52333|2",
           "TK"
          ],
          [
           516,
           "Q6ZMQ8",
           "TK"
          ],
          [
           517,
           "Q8IWU2",
           "TK"
          ],
          [
           518,
           "Q96Q04",
           "TK"
          ],
          [
           519,
           "P08581",
           "TK"
          ],
          [
           520,
           "Q04912",
           "TK"
          ],
          [
           521,
           "O15146",
           "TK"
          ],
          [
           522,
           "P07333",
           "TK"
          ],
          [
           523,
           "P09619",
           "TK"
          ],
          [
           524,
           "P10721",
           "TK"
          ],
          [
           525,
           "P16234",
           "TK"
          ],
          [
           526,
           "P36888",
           "TK"
          ],
          [
           527,
           "P07949",
           "TK"
          ],
          [
           528,
           "Q01973",
           "TK"
          ],
          [
           529,
           "Q01974",
           "TK"
          ],
          [
           530,
           "P34925",
           "TK"
          ],
          [
           531,
           "Q6J9G0",
           "TK"
          ],
          [
           532,
           "P08922",
           "TK"
          ],
          [
           533,
           "P06239",
           "TK"
          ],
          [
           534,
           "P06241",
           "TK"
          ],
          [
           535,
           "P07947",
           "TK"
          ],
          [
           536,
           "P07948",
           "TK"
          ],
          [
           537,
           "P08631",
           "TK"
          ],
          [
           538,
           "P09769",
           "TK"
          ],
          [
           539,
           "P12931",
           "TK"
          ],
          [
           540,
           "P42685",
           "TK"
          ],
          [
           541,
           "P51451",
           "TK"
          ],
          [
           542,
           "Q13882",
           "TK"
          ],
          [
           543,
           "Q9H3Y6",
           "TK"
          ],
          [
           544,
           "P43403",
           "TK"
          ],
          [
           545,
           "P43405",
           "TK"
          ],
          [
           546,
           "P42680",
           "TK"
          ],
          [
           547,
           "P42681",
           "TK"
          ],
          [
           548,
           "P51813",
           "TK"
          ],
          [
           549,
           "Q06187",
           "TK"
          ],
          [
           550,
           "Q08881",
           "TK"
          ],
          [
           551,
           "P35590",
           "TK"
          ],
          [
           552,
           "Q02763",
           "TK"
          ],
          [
           553,
           "P04629",
           "TK"
          ],
          [
           554,
           "Q16288",
           "TK"
          ],
          [
           555,
           "Q16620",
           "TK"
          ],
          [
           556,
           "P17948",
           "TK"
          ],
          [
           557,
           "P35916",
           "TK"
          ],
          [
           558,
           "P35968",
           "TK"
          ]
         ],
         "hovertemplate": "<b>%{hovertext}</b><br><br>label=%{customdata[2]}<br>pm1=%{x}<br>pm2=%{y}<br>proteins_id=%{customdata[0]}<br>accession=%{customdata[1]}<extra></extra>",
         "hovertext": [
          "TK",
          "TK",
          "TK",
          "TK",
          "TK",
          "TK",
          "TK",
          "TK",
          "TK",
          "TK",
          "TK",
          "TK",
          "TK",
          "TK",
          "TK",
          "TK",
          "TK",
          "TK",
          "TK",
          "TK",
          "TK",
          "TK",
          "TK",
          "TK",
          "TK",
          "TK",
          "TK",
          "TK",
          "TK",
          "TK",
          "TK",
          "TK",
          "TK",
          "TK",
          "TK",
          "TK",
          "TK",
          "TK",
          "TK",
          "TK",
          "TK",
          "TK",
          "TK",
          "TK",
          "TK",
          "TK",
          "TK",
          "TK",
          "TK",
          "TK",
          "TK",
          "TK",
          "TK",
          "TK",
          "TK",
          "TK",
          "TK",
          "TK",
          "TK",
          "TK",
          "TK",
          "TK",
          "TK",
          "TK",
          "TK",
          "TK",
          "TK",
          "TK",
          "TK",
          "TK",
          "TK",
          "TK",
          "TK",
          "TK",
          "TK",
          "TK",
          "TK",
          "TK",
          "TK",
          "TK",
          "TK",
          "TK",
          "TK",
          "TK",
          "TK",
          "TK",
          "TK",
          "TK",
          "TK",
          "TK",
          "TK",
          "TK",
          "TK",
          "TK"
         ],
         "legendgroup": "TK",
         "marker": {
          "color": "orange",
          "symbol": "circle"
         },
         "mode": "markers",
         "name": "TK",
         "orientation": "v",
         "showlegend": true,
         "type": "scatter",
         "x": [
          0.11860896,
          0.11071407,
          -0.10109612,
          -0.0952505,
          0.0012157257,
          0.025178213,
          0.103300706,
          0.10728518,
          0.11126883,
          0.09258281,
          -0.052264787,
          -0.045603227,
          0.14372692,
          0.15117227,
          -0.016464917,
          -0.016700845,
          0.009221213,
          -0.016668675,
          0.029990345,
          -0.01331404,
          -0.01246248,
          -0.0014262937,
          0.009935462,
          0.0022670648,
          0.004243233,
          -0.0012921973,
          -0.0024384279,
          -0.0051976047,
          -0.0040907143,
          0.0023225176,
          0.029327668,
          0.0448257,
          -0.010207912,
          -0.03173749,
          0.09589028,
          0.09767194,
          0.10011611,
          0.09697566,
          -0.04212854,
          -0.037984762,
          0.10240375,
          0.10792083,
          0.11214944,
          0.19660886,
          0.21622865,
          0.27209744,
          0.24301949,
          0.02818857,
          0.055500887,
          0.07040089,
          0.049731083,
          0.124021836,
          0.15218264,
          0.11198849,
          0.09791877,
          0.085346185,
          0.14528972,
          0.07644247,
          0.07476587,
          0.077200435,
          0.07521397,
          0.07630712,
          0.09021342,
          0.1269264,
          0.10897865,
          0.112077005,
          0.0723697,
          0.11593621,
          -0.11934554,
          -0.12423039,
          -0.12437171,
          -0.11240093,
          -0.11860326,
          -0.13176902,
          -0.12757245,
          -0.09026426,
          -0.12788524,
          0.001916077,
          -0.050283417,
          -0.013078533,
          -0.027730936,
          -0.06310444,
          -0.0754814,
          -0.088010296,
          -0.08309717,
          -0.074736774,
          0.09533075,
          0.096008234,
          0.14592196,
          0.14024228,
          0.14114852,
          0.07858939,
          0.07779657,
          0.07775245
         ],
         "xaxis": "x",
         "y": [
          -0.96333116,
          -0.9690854,
          -0.9325434,
          -0.9317875,
          -0.9370695,
          -0.89240193,
          -0.95332515,
          -0.9448563,
          -0.9520699,
          -0.9355524,
          -0.9464785,
          -0.94170666,
          -0.90837556,
          -0.9274317,
          -0.90904576,
          -0.90908253,
          -0.8909872,
          -0.9091276,
          -0.8937835,
          -0.9420198,
          -0.9571202,
          -0.9557941,
          -0.9547498,
          -0.9568449,
          -0.94999367,
          -0.9618198,
          -0.94648373,
          -0.9567979,
          -0.9598513,
          -0.9621893,
          -0.91111076,
          -0.94352937,
          -0.9283771,
          -0.90592843,
          -0.97512066,
          -0.9749469,
          -0.976377,
          -0.97690254,
          -0.9239793,
          -0.9478479,
          -0.9678335,
          -0.9612166,
          -0.96346843,
          -0.8050115,
          -0.7917301,
          -0.7610407,
          -0.80819607,
          -0.84380925,
          -0.8202072,
          -0.85815746,
          -0.86945766,
          -0.892089,
          -0.8482803,
          -0.8839841,
          -0.9481774,
          -0.93742937,
          -0.9222228,
          -0.9877472,
          -0.9883895,
          -0.98788583,
          -0.9871849,
          -0.9889525,
          -0.974406,
          -0.9185733,
          -0.9077312,
          -0.9281933,
          -0.8901394,
          -0.9597165,
          -0.944715,
          -0.9505305,
          -0.9536088,
          -0.9462998,
          -0.9539881,
          -0.94938016,
          -0.94668645,
          -0.94640464,
          -0.9385981,
          -0.90922475,
          -0.93261087,
          -0.86549664,
          -0.8671939,
          -0.89462733,
          -0.9019094,
          -0.9114375,
          -0.9100164,
          -0.9037881,
          -0.96077746,
          -0.95467526,
          -0.9151284,
          -0.91889966,
          -0.932648,
          -0.9883238,
          -0.98930967,
          -0.9858543
         ],
         "yaxis": "y"
        }
       ],
       "layout": {
        "font": {
         "size": 11
        },
        "height": 800,
        "legend": {
         "title": {
          "text": "label"
         },
         "tracegroupgap": 0
        },
        "margin": {
         "t": 60
        },
        "plot_bgcolor": "rgba(0, 0, 0, 0)",
        "shapes": [
         {
          "line": {
           "color": "black",
           "dash": "dot"
          },
          "opacity": 0.15,
          "type": "circle",
          "x0": -0.47058823529411764,
          "x1": 0.47058823529411764,
          "y0": -0.47058823529411764,
          "y1": 0.47058823529411764
         },
         {
          "line": {
           "color": "black",
           "dash": "dot"
          },
          "opacity": 0.15,
          "type": "circle",
          "x0": -0.644736842105263,
          "x1": 0.644736842105263,
          "y0": -0.644736842105263,
          "y1": 0.644736842105263
         },
         {
          "line": {
           "color": "black",
           "dash": "dot"
          },
          "opacity": 0.15,
          "type": "circle",
          "x0": -0.7705382436260623,
          "x1": 0.7705382436260623,
          "y0": -0.7705382436260623,
          "y1": 0.7705382436260623
         },
         {
          "line": {
           "color": "black",
           "dash": "dot"
          },
          "opacity": 0.15,
          "type": "circle",
          "x0": -0.8557007125890735,
          "x1": 0.8557007125890735,
          "y0": -0.8557007125890735,
          "y1": 0.8557007125890735
         },
         {
          "line": {
           "color": "black",
           "dash": "dot"
          },
          "opacity": 0.15,
          "type": "circle",
          "x0": -0.9108474990827932,
          "x1": 0.9108474990827932,
          "y0": -0.9108474990827932,
          "y1": 0.9108474990827932
         },
         {
          "line": {
           "color": "black",
           "dash": "dot"
          },
          "opacity": 0.15,
          "type": "circle",
          "x0": -0.9455374041239167,
          "x1": 0.9455374041239167,
          "y0": -0.9455374041239167,
          "y1": 0.9455374041239167
         },
         {
          "line": {
           "color": "Black"
          },
          "type": "circle",
          "x0": -1,
          "x1": 1,
          "xref": "x",
          "y0": -1,
          "y1": 1,
          "yref": "y"
         },
         {
          "fillcolor": "Black",
          "line": {
           "color": "Black"
          },
          "type": "circle",
          "x0": -0.005,
          "x1": 0.005,
          "xref": "x",
          "y0": -0.005,
          "y1": 0.005,
          "yref": "y"
         }
        ],
        "template": {
         "data": {
          "bar": [
           {
            "error_x": {
             "color": "#2a3f5f"
            },
            "error_y": {
             "color": "#2a3f5f"
            },
            "marker": {
             "line": {
              "color": "#E5ECF6",
              "width": 0.5
             },
             "pattern": {
              "fillmode": "overlay",
              "size": 10,
              "solidity": 0.2
             }
            },
            "type": "bar"
           }
          ],
          "barpolar": [
           {
            "marker": {
             "line": {
              "color": "#E5ECF6",
              "width": 0.5
             },
             "pattern": {
              "fillmode": "overlay",
              "size": 10,
              "solidity": 0.2
             }
            },
            "type": "barpolar"
           }
          ],
          "carpet": [
           {
            "aaxis": {
             "endlinecolor": "#2a3f5f",
             "gridcolor": "white",
             "linecolor": "white",
             "minorgridcolor": "white",
             "startlinecolor": "#2a3f5f"
            },
            "baxis": {
             "endlinecolor": "#2a3f5f",
             "gridcolor": "white",
             "linecolor": "white",
             "minorgridcolor": "white",
             "startlinecolor": "#2a3f5f"
            },
            "type": "carpet"
           }
          ],
          "choropleth": [
           {
            "colorbar": {
             "outlinewidth": 0,
             "ticks": ""
            },
            "type": "choropleth"
           }
          ],
          "contour": [
           {
            "colorbar": {
             "outlinewidth": 0,
             "ticks": ""
            },
            "colorscale": [
             [
              0,
              "#0d0887"
             ],
             [
              0.1111111111111111,
              "#46039f"
             ],
             [
              0.2222222222222222,
              "#7201a8"
             ],
             [
              0.3333333333333333,
              "#9c179e"
             ],
             [
              0.4444444444444444,
              "#bd3786"
             ],
             [
              0.5555555555555556,
              "#d8576b"
             ],
             [
              0.6666666666666666,
              "#ed7953"
             ],
             [
              0.7777777777777778,
              "#fb9f3a"
             ],
             [
              0.8888888888888888,
              "#fdca26"
             ],
             [
              1,
              "#f0f921"
             ]
            ],
            "type": "contour"
           }
          ],
          "contourcarpet": [
           {
            "colorbar": {
             "outlinewidth": 0,
             "ticks": ""
            },
            "type": "contourcarpet"
           }
          ],
          "heatmap": [
           {
            "colorbar": {
             "outlinewidth": 0,
             "ticks": ""
            },
            "colorscale": [
             [
              0,
              "#0d0887"
             ],
             [
              0.1111111111111111,
              "#46039f"
             ],
             [
              0.2222222222222222,
              "#7201a8"
             ],
             [
              0.3333333333333333,
              "#9c179e"
             ],
             [
              0.4444444444444444,
              "#bd3786"
             ],
             [
              0.5555555555555556,
              "#d8576b"
             ],
             [
              0.6666666666666666,
              "#ed7953"
             ],
             [
              0.7777777777777778,
              "#fb9f3a"
             ],
             [
              0.8888888888888888,
              "#fdca26"
             ],
             [
              1,
              "#f0f921"
             ]
            ],
            "type": "heatmap"
           }
          ],
          "heatmapgl": [
           {
            "colorbar": {
             "outlinewidth": 0,
             "ticks": ""
            },
            "colorscale": [
             [
              0,
              "#0d0887"
             ],
             [
              0.1111111111111111,
              "#46039f"
             ],
             [
              0.2222222222222222,
              "#7201a8"
             ],
             [
              0.3333333333333333,
              "#9c179e"
             ],
             [
              0.4444444444444444,
              "#bd3786"
             ],
             [
              0.5555555555555556,
              "#d8576b"
             ],
             [
              0.6666666666666666,
              "#ed7953"
             ],
             [
              0.7777777777777778,
              "#fb9f3a"
             ],
             [
              0.8888888888888888,
              "#fdca26"
             ],
             [
              1,
              "#f0f921"
             ]
            ],
            "type": "heatmapgl"
           }
          ],
          "histogram": [
           {
            "marker": {
             "pattern": {
              "fillmode": "overlay",
              "size": 10,
              "solidity": 0.2
             }
            },
            "type": "histogram"
           }
          ],
          "histogram2d": [
           {
            "colorbar": {
             "outlinewidth": 0,
             "ticks": ""
            },
            "colorscale": [
             [
              0,
              "#0d0887"
             ],
             [
              0.1111111111111111,
              "#46039f"
             ],
             [
              0.2222222222222222,
              "#7201a8"
             ],
             [
              0.3333333333333333,
              "#9c179e"
             ],
             [
              0.4444444444444444,
              "#bd3786"
             ],
             [
              0.5555555555555556,
              "#d8576b"
             ],
             [
              0.6666666666666666,
              "#ed7953"
             ],
             [
              0.7777777777777778,
              "#fb9f3a"
             ],
             [
              0.8888888888888888,
              "#fdca26"
             ],
             [
              1,
              "#f0f921"
             ]
            ],
            "type": "histogram2d"
           }
          ],
          "histogram2dcontour": [
           {
            "colorbar": {
             "outlinewidth": 0,
             "ticks": ""
            },
            "colorscale": [
             [
              0,
              "#0d0887"
             ],
             [
              0.1111111111111111,
              "#46039f"
             ],
             [
              0.2222222222222222,
              "#7201a8"
             ],
             [
              0.3333333333333333,
              "#9c179e"
             ],
             [
              0.4444444444444444,
              "#bd3786"
             ],
             [
              0.5555555555555556,
              "#d8576b"
             ],
             [
              0.6666666666666666,
              "#ed7953"
             ],
             [
              0.7777777777777778,
              "#fb9f3a"
             ],
             [
              0.8888888888888888,
              "#fdca26"
             ],
             [
              1,
              "#f0f921"
             ]
            ],
            "type": "histogram2dcontour"
           }
          ],
          "mesh3d": [
           {
            "colorbar": {
             "outlinewidth": 0,
             "ticks": ""
            },
            "type": "mesh3d"
           }
          ],
          "parcoords": [
           {
            "line": {
             "colorbar": {
              "outlinewidth": 0,
              "ticks": ""
             }
            },
            "type": "parcoords"
           }
          ],
          "pie": [
           {
            "automargin": true,
            "type": "pie"
           }
          ],
          "scatter": [
           {
            "fillpattern": {
             "fillmode": "overlay",
             "size": 10,
             "solidity": 0.2
            },
            "type": "scatter"
           }
          ],
          "scatter3d": [
           {
            "line": {
             "colorbar": {
              "outlinewidth": 0,
              "ticks": ""
             }
            },
            "marker": {
             "colorbar": {
              "outlinewidth": 0,
              "ticks": ""
             }
            },
            "type": "scatter3d"
           }
          ],
          "scattercarpet": [
           {
            "marker": {
             "colorbar": {
              "outlinewidth": 0,
              "ticks": ""
             }
            },
            "type": "scattercarpet"
           }
          ],
          "scattergeo": [
           {
            "marker": {
             "colorbar": {
              "outlinewidth": 0,
              "ticks": ""
             }
            },
            "type": "scattergeo"
           }
          ],
          "scattergl": [
           {
            "marker": {
             "colorbar": {
              "outlinewidth": 0,
              "ticks": ""
             }
            },
            "type": "scattergl"
           }
          ],
          "scattermapbox": [
           {
            "marker": {
             "colorbar": {
              "outlinewidth": 0,
              "ticks": ""
             }
            },
            "type": "scattermapbox"
           }
          ],
          "scatterpolar": [
           {
            "marker": {
             "colorbar": {
              "outlinewidth": 0,
              "ticks": ""
             }
            },
            "type": "scatterpolar"
           }
          ],
          "scatterpolargl": [
           {
            "marker": {
             "colorbar": {
              "outlinewidth": 0,
              "ticks": ""
             }
            },
            "type": "scatterpolargl"
           }
          ],
          "scatterternary": [
           {
            "marker": {
             "colorbar": {
              "outlinewidth": 0,
              "ticks": ""
             }
            },
            "type": "scatterternary"
           }
          ],
          "surface": [
           {
            "colorbar": {
             "outlinewidth": 0,
             "ticks": ""
            },
            "colorscale": [
             [
              0,
              "#0d0887"
             ],
             [
              0.1111111111111111,
              "#46039f"
             ],
             [
              0.2222222222222222,
              "#7201a8"
             ],
             [
              0.3333333333333333,
              "#9c179e"
             ],
             [
              0.4444444444444444,
              "#bd3786"
             ],
             [
              0.5555555555555556,
              "#d8576b"
             ],
             [
              0.6666666666666666,
              "#ed7953"
             ],
             [
              0.7777777777777778,
              "#fb9f3a"
             ],
             [
              0.8888888888888888,
              "#fdca26"
             ],
             [
              1,
              "#f0f921"
             ]
            ],
            "type": "surface"
           }
          ],
          "table": [
           {
            "cells": {
             "fill": {
              "color": "#EBF0F8"
             },
             "line": {
              "color": "white"
             }
            },
            "header": {
             "fill": {
              "color": "#C8D4E3"
             },
             "line": {
              "color": "white"
             }
            },
            "type": "table"
           }
          ]
         },
         "layout": {
          "annotationdefaults": {
           "arrowcolor": "#2a3f5f",
           "arrowhead": 0,
           "arrowwidth": 1
          },
          "autotypenumbers": "strict",
          "coloraxis": {
           "colorbar": {
            "outlinewidth": 0,
            "ticks": ""
           }
          },
          "colorscale": {
           "diverging": [
            [
             0,
             "#8e0152"
            ],
            [
             0.1,
             "#c51b7d"
            ],
            [
             0.2,
             "#de77ae"
            ],
            [
             0.3,
             "#f1b6da"
            ],
            [
             0.4,
             "#fde0ef"
            ],
            [
             0.5,
             "#f7f7f7"
            ],
            [
             0.6,
             "#e6f5d0"
            ],
            [
             0.7,
             "#b8e186"
            ],
            [
             0.8,
             "#7fbc41"
            ],
            [
             0.9,
             "#4d9221"
            ],
            [
             1,
             "#276419"
            ]
           ],
           "sequential": [
            [
             0,
             "#0d0887"
            ],
            [
             0.1111111111111111,
             "#46039f"
            ],
            [
             0.2222222222222222,
             "#7201a8"
            ],
            [
             0.3333333333333333,
             "#9c179e"
            ],
            [
             0.4444444444444444,
             "#bd3786"
            ],
            [
             0.5555555555555556,
             "#d8576b"
            ],
            [
             0.6666666666666666,
             "#ed7953"
            ],
            [
             0.7777777777777778,
             "#fb9f3a"
            ],
            [
             0.8888888888888888,
             "#fdca26"
            ],
            [
             1,
             "#f0f921"
            ]
           ],
           "sequentialminus": [
            [
             0,
             "#0d0887"
            ],
            [
             0.1111111111111111,
             "#46039f"
            ],
            [
             0.2222222222222222,
             "#7201a8"
            ],
            [
             0.3333333333333333,
             "#9c179e"
            ],
            [
             0.4444444444444444,
             "#bd3786"
            ],
            [
             0.5555555555555556,
             "#d8576b"
            ],
            [
             0.6666666666666666,
             "#ed7953"
            ],
            [
             0.7777777777777778,
             "#fb9f3a"
            ],
            [
             0.8888888888888888,
             "#fdca26"
            ],
            [
             1,
             "#f0f921"
            ]
           ]
          },
          "colorway": [
           "#636efa",
           "#EF553B",
           "#00cc96",
           "#ab63fa",
           "#FFA15A",
           "#19d3f3",
           "#FF6692",
           "#B6E880",
           "#FF97FF",
           "#FECB52"
          ],
          "font": {
           "color": "#2a3f5f"
          },
          "geo": {
           "bgcolor": "white",
           "lakecolor": "white",
           "landcolor": "#E5ECF6",
           "showlakes": true,
           "showland": true,
           "subunitcolor": "white"
          },
          "hoverlabel": {
           "align": "left"
          },
          "hovermode": "closest",
          "mapbox": {
           "style": "light"
          },
          "paper_bgcolor": "white",
          "plot_bgcolor": "#E5ECF6",
          "polar": {
           "angularaxis": {
            "gridcolor": "white",
            "linecolor": "white",
            "ticks": ""
           },
           "bgcolor": "#E5ECF6",
           "radialaxis": {
            "gridcolor": "white",
            "linecolor": "white",
            "ticks": ""
           }
          },
          "scene": {
           "xaxis": {
            "backgroundcolor": "#E5ECF6",
            "gridcolor": "white",
            "gridwidth": 2,
            "linecolor": "white",
            "showbackground": true,
            "ticks": "",
            "zerolinecolor": "white"
           },
           "yaxis": {
            "backgroundcolor": "#E5ECF6",
            "gridcolor": "white",
            "gridwidth": 2,
            "linecolor": "white",
            "showbackground": true,
            "ticks": "",
            "zerolinecolor": "white"
           },
           "zaxis": {
            "backgroundcolor": "#E5ECF6",
            "gridcolor": "white",
            "gridwidth": 2,
            "linecolor": "white",
            "showbackground": true,
            "ticks": "",
            "zerolinecolor": "white"
           }
          },
          "shapedefaults": {
           "line": {
            "color": "#2a3f5f"
           }
          },
          "ternary": {
           "aaxis": {
            "gridcolor": "white",
            "linecolor": "white",
            "ticks": ""
           },
           "baxis": {
            "gridcolor": "white",
            "linecolor": "white",
            "ticks": ""
           },
           "bgcolor": "#E5ECF6",
           "caxis": {
            "gridcolor": "white",
            "linecolor": "white",
            "ticks": ""
           }
          },
          "title": {
           "x": 0.05
          },
          "xaxis": {
           "automargin": true,
           "gridcolor": "white",
           "linecolor": "white",
           "ticks": "",
           "title": {
            "standoff": 15
           },
           "zerolinecolor": "white",
           "zerolinewidth": 2
          },
          "yaxis": {
           "automargin": true,
           "gridcolor": "white",
           "linecolor": "white",
           "ticks": "",
           "title": {
            "standoff": 15
           },
           "zerolinecolor": "white",
           "zerolinewidth": 2
          }
         }
        },
        "title": {
         "text": "",
         "x": 0.5
        },
        "xaxis": {
         "anchor": "y",
         "constrain": "domain",
         "domain": [
          0,
          1
         ],
         "range": [
          -1.1,
          1.1
         ],
         "title": {
          "text": "pm1"
         }
        },
        "yaxis": {
         "anchor": "x",
         "domain": [
          0,
          1
         ],
         "scaleanchor": "x",
         "scaleratio": 1,
         "title": {
          "text": "pm2"
         }
        },
        "yaxis2": {
         "layer": "below traces",
         "matches": "y",
         "overlaying": "y"
        }
       }
      }
     },
     "metadata": {},
     "output_type": "display_data"
    }
   ],
   "source": [
    "# OPTIONS =================================================\n",
    "#Here you can set different parameters to color & annotate the resulting projection:\n",
    "title = \"\" \n",
    "#----------------------------------------------------------\n",
    "# Select the coloring from annotation .csv file:\n",
    "labels_name = \"label\"\n",
    "# Select classes to label among the \"labels_name\" or \"second_labels_name\" column (comma separated list):\n",
    "second_labels_name = \"\"\n",
    "labels_text = []\n",
    "show_text = False\n",
    "#----------------------------------------------------------\n",
    "# Use a custom color palette:\n",
    "color_palette = true_palette #Default: None\n",
    "use_custom_palette = True\n",
    "#==========================================================\n",
    "\n",
    "\n",
    "#Check projection visualization parameters\n",
    "#Labels name\n",
    "if labels_name == \"\":\n",
    "    labels_name = None\n",
    "elif labels_name not in annotation_names:\n",
    "    raise NameError(f\"labels_name {labels_name} is not in the availables annotations.\\nAvailables annotations: {annotation_names}\")\n",
    "#Second labels name\n",
    "if second_labels_name == \"\":\n",
    "    second_labels_name = None\n",
    "elif second_labels_name not in annotation_names:\n",
    "    raise NameError(f'\"second_labels_name\" {second_labels_name} is not in the availables annotations.\\nAvailables annotations: {annotation_names}')\n",
    "\n",
    "if not use_custom_palette:\n",
    "    color_palette = None\n",
    "\n",
    "#Plot graph\n",
    "fig = plot_embedding_interactive(df_embedding, \n",
    "                                 labels_name = labels_name,\n",
    "                                 second_labels_name = second_labels_name, \n",
    "                                 show_text = show_text,\n",
    "                                 labels_text = labels_text,\n",
    "                                 color_palette = color_palette, \n",
    "                                 title = title, \n",
    "                                 fontsize = 11)\n",
    "fig.show()"
   ]
  },
  {
   "cell_type": "code",
   "execution_count": null,
   "metadata": {},
   "outputs": [],
   "source": [
    "# OPTIONS =================================================\n",
    "#Here you can set different parameters to color & annotate the resulting projection:\n",
    "title = \"PM projection of thioredoxins colored by species\"\n",
    "#----------------------------------------------------------\n",
    "# Select the coloring from annotation .csv file:\n",
    "labels_name = \"Species\"\n",
    "# Select classes to label among the \"labels_name\" or \"second_labels_name\" column (comma separated list):\n",
    "second_labels_name = \"\"\n",
    "labels_text = []\n",
    "show_text = False\n",
    "#----------------------------------------------------------\n",
    "# Use a custom color palette:\n",
    "color_palette = trx_palette #Default: None\n",
    "use_custom_palette = True\n",
    "#==========================================================\n",
    "\n",
    "\n",
    "#Check projection visualization parameters\n",
    "#Labels name\n",
    "if labels_name == \"\":\n",
    "    labels_name = None\n",
    "elif labels_name not in annotation_names:\n",
    "    raise NameError(f\"labels_name {labels_name} is not in the availables annotations.\\nAvailables annotations: {annotation_names}\")\n",
    "#Second labels name\n",
    "if second_labels_name == \"\":\n",
    "    second_labels_name = None\n",
    "elif second_labels_name not in annotation_names:\n",
    "    raise NameError(f'\"second_labels_name\" {second_labels_name} is not in the availables annotations.\\nAvailables annotations: {annotation_names}')\n",
    "\n",
    "if not use_custom_palette:\n",
    "    color_palette = None\n",
    "\n",
    "#Plot graph\n",
    "fig = plot_embedding_interactive(df_embedding, \n",
    "                                 labels_name = labels_name,\n",
    "                                 second_labels_name = second_labels_name, \n",
    "                                 show_text = show_text,\n",
    "                                 labels_text = labels_text,\n",
    "                                 color_palette = color_palette, \n",
    "                                 title = title, \n",
    "                                 fontsize = 11)\n",
    "fig.show()"
   ]
  },
  {
   "cell_type": "markdown",
   "metadata": {},
   "source": [
    "### Save plot to file"
   ]
  },
  {
   "cell_type": "code",
   "execution_count": 18,
   "metadata": {},
   "outputs": [],
   "source": [
    "# OPTIONS =================================================\n",
    "output_name = \"kinase_w_embeddings\"\n",
    "output_format = \"html\" #Format availables: [\"png\", \"html\", \"pdf\", \"svg\"]\n",
    "#==========================================================\n",
    "\n",
    "\n",
    "if output_format != \"html\":\n",
    "    fig.write_image(f\"{output_name}.{output_format}\", engine=\"kaleido\")\n",
    "else:\n",
    "    fig.write_html(f\"{output_name}.{output_format}\")"
   ]
  },
  {
   "cell_type": "code",
   "execution_count": null,
   "metadata": {},
   "outputs": [],
   "source": []
  }
 ],
 "metadata": {
  "accelerator": "GPU",
  "colab": {
   "provenance": []
  },
  "gpuClass": "standard",
  "kernelspec": {
   "display_name": "poincare",
   "language": "python",
   "name": "python3"
  },
  "language_info": {
   "codemirror_mode": {
    "name": "ipython",
    "version": 3
   },
   "file_extension": ".py",
   "mimetype": "text/x-python",
   "name": "python",
   "nbconvert_exporter": "python",
   "pygments_lexer": "ipython3",
   "version": "3.12.2"
  }
 },
 "nbformat": 4,
 "nbformat_minor": 1
}
