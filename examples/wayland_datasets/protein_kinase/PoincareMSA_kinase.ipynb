{
 "cells": [
  {
   "cell_type": "markdown",
   "metadata": {
    "id": "view-in-github"
   },
   "source": [
    "[![Open In Colab](https://colab.research.google.com/assets/colab-badge.svg)](https://colab.research.google.com/github/DSIMB/PoincareMSA/blob/master/PoincareMSA_colab.ipynb)"
   ]
  },
  {
   "cell_type": "markdown",
   "metadata": {
    "id": "W5FTaqy0xqw2"
   },
   "source": [
    "<img src=\"https://github.com/DSIMB/PoincareMSA/blob/master/.github/PoincareMSA_small_logo.png?raw=true\" height=\"100\" style=\"height:100px;margin-left: 0px;\">\n",
    "\n",
    "# Poincaré maps for visualization of large protein famillies\n",
    "\n",
    "**Authors**: Anna Klimovskaia Susmelj, Yani Ren, Yann Vander Meersche, Jean-Christophe Gelly and Tatiana Galochkina\n",
    "\n",
    "PoincaréMSA builds an interactive projection of an input protein multiple sequence alignemnt (MSA) using a method based on Poincaré maps described by Klimovskaia et al [1]. It reproduces both local proximities of protein sequences and hierarchy contained in give data. Thus, sequences located closer to the center of projection correspond to the proteins sharing the most general functional properites and/or appearing at the earlier stages of evolution. Source code is available at https://github.com/DSIMB/PoincareMSA.\n",
    "\n",
    "[1] Klimovskaia, A., Lopez-Paz, D., Bottou, L. et al. Poincaré maps for analyzing complex hierarchies in single-cell data. Nat Commun 11, 2966 (2020)."
   ]
  },
  {
   "cell_type": "markdown",
   "metadata": {
    "id": "Oa7Rrq-YzfQB"
   },
   "source": [
    "# Notebook initialization"
   ]
  },
  {
   "cell_type": "code",
   "execution_count": 1,
   "metadata": {},
   "outputs": [
    {
     "name": "stdout",
     "output_type": "stream",
     "text": [
      "/Users/gabrielduval/Desktop/Paris_Cite/Year2/Projet_Long/PoincareMSA\n"
     ]
    }
   ],
   "source": [
    "# Update working directory\n",
    "\n",
    "%cd ../../../"
   ]
  },
  {
   "cell_type": "code",
   "execution_count": 2,
   "metadata": {
    "cellView": "form",
    "colab": {
     "base_uri": "https://localhost:8080/"
    },
    "id": "X_SO37g-kQq7",
    "outputId": "c30184db-2ef2-4a87-fd43-db8fd3ed5379"
   },
   "outputs": [],
   "source": [
    "#Load dependencies\n",
    "import os\n",
    "import numpy as np\n",
    "import pandas as pd\n",
    "import subprocess\n",
    "import json\n",
    "import warnings\n",
    "warnings.filterwarnings('ignore')\n",
    "\n",
    "#Import visualization functions\n",
    "from scripts.visualize_projection.pplots_new import read_embeddings, plot_embedding, plot_embedding_interactive, rotate, get_colors\n",
    "from scripts.prepare_data.mmseqs2_api import run_mmseqs2\n",
    "from scripts.prepare_data.uniprot_idmapping_api import submit_id_mapping, check_id_mapping_results_ready, get_id_mapping_results_link, get_id_mapping_results_search\n",
    "%matplotlib inline\n",
    "\n",
    "#Create optional variables\n",
    "path_annotation = \"\""
   ]
  },
  {
   "cell_type": "markdown",
   "metadata": {
    "id": "IPi6cky3wgC8"
   },
   "source": [
    "# Data import"
   ]
  },
  {
   "cell_type": "code",
   "execution_count": 3,
   "metadata": {
    "cellView": "form",
    "colab": {
     "base_uri": "https://localhost:8080/",
     "height": 75,
     "resources": {
      "http://localhost:8080/nbextensions/google.colab/files.js": {
       "data": "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",
       "headers": [
        [
         "content-type",
         "application/javascript"
        ]
       ],
       "ok": true,
       "status": 200,
       "status_text": "OK"
      }
     }
    },
    "id": "GcbgnooHwIGh",
    "outputId": "dc30ce27-d01c-4953-cdb7-9d5fe599ad6d"
   },
   "outputs": [
    {
     "name": "stdout",
     "output_type": "stream",
     "text": [
      "\n",
      "Number of sequences found: 558.\n",
      "\n",
      "Annotation file correctly loaded.\n",
      "3 annotations found: ['proteins_id', 'accession', 'label'].\n"
     ]
    }
   ],
   "source": [
    "# OPTIONS =================================================\n",
    "#MSA in mfasta format\n",
    "mfasta = \"examples/wayland_datasets/protein_kinase/kinase.mfasta\"\n",
    "\n",
    "#Annotation file (.csv) or UniProt ID list. (Emtpy strings for no annotations)\n",
    "path_annotation_csv = \"examples/wayland_datasets/protein_kinase/kinase_labels.csv\"   # Path or \"\"\n",
    "# OR\n",
    "path_uniprot_list = \"\"   # Path or \"\"\n",
    "#==========================================================\n",
    "\n",
    "\n",
    "#Check files\n",
    "#mfasta\n",
    "nb_seq = 0\n",
    "if os.path.isfile(mfasta):\n",
    "    with open(mfasta, \"r\") as f_in:\n",
    "        for line in f_in:\n",
    "            if line[0] == \">\":\n",
    "                nb_seq += 1\n",
    "    print(f\"\\nNumber of sequences found: {nb_seq}.\")\n",
    "else:\n",
    "    print(f\"File {mfasta} not found.\")\n",
    "\n",
    "#Check that only one path is selected\n",
    "if path_annotation_csv and path_uniprot_list:\n",
    "    raise ValueError(\"Use only one file path (path_annotation_csv OR path_uniprot_list).\")\n",
    "\n",
    "if path_annotation_csv:\n",
    "    if os.path.isfile(path_annotation_csv):\n",
    "        try:\n",
    "            df_annotation = pd.read_csv(path_annotation_csv)\n",
    "        except:\n",
    "            raise ValueError(\"Annotation file is not in .csv format.\")\n",
    "        else:\n",
    "            if len(df_annotation) != nb_seq:\n",
    "                raise ValueError(\"Annotation file doesn't match the .mfasta file length.\")\n",
    "\n",
    "        #Add id column\n",
    "        if \"proteins_id\" not in df_annotation.columns:\n",
    "            df_annotation.insert(0, \"proteins_id\", range(len(df_annotation)))\n",
    "        path_annotation = path_annotation_csv\n",
    "            \n",
    "        print(\"\\nAnnotation file correctly loaded.\")\n",
    "        annotation_names = list(df_annotation.columns)\n",
    "        print(f\"{len(annotation_names)} annotations found: {annotation_names}.\")\n",
    "    else:\n",
    "        print(f\"File {path_annotation_csv} not found.\")\n",
    "\n",
    "elif path_uniprot_list:\n",
    "    if os.path.isfile(path_uniprot_list):\n",
    "        try:\n",
    "            UnP_ids = np.genfromtxt(path_uniprot_list, dtype=\"str\")\n",
    "        except:\n",
    "            raise ValueError(\"UniProt IDs file is not in a valid format.\")\n",
    "        else:\n",
    "            if len(UnP_ids) != nb_seq:\n",
    "                raise ValueError(\"UniProt IDs file doesn't match the .mfasta file length.\")     \n",
    "\n",
    "            #Split UniProtKB and UniParc IDs\n",
    "            uniparc_ids = []\n",
    "            uniprot_ids = []\n",
    "            for unp in UnP_ids:\n",
    "                if len(unp) == 13 and unp[:2] == \"UP\":\n",
    "                    uniparc_ids.append(unp)\n",
    "                else:\n",
    "                    uniprot_ids.append(unp)\n",
    "\n",
    "            #Fetch UniProtKB annotations\n",
    "            job_id = submit_id_mapping(\n",
    "                from_db=\"UniProtKB_AC-ID\", to_db=\"UniParc\", ids=uniprot_ids\n",
    "            )\n",
    "\n",
    "            if check_id_mapping_results_ready(job_id):\n",
    "                link = get_id_mapping_results_link(job_id)\n",
    "                results = get_id_mapping_results_search(link)\n",
    "\n",
    "            #Fetch UniParc annotations\n",
    "            job_id = submit_id_mapping(\n",
    "                from_db=\"UniParc\", to_db=\"UniParc\", ids=uniparc_ids\n",
    "            )\n",
    "\n",
    "            if check_id_mapping_results_ready(job_id):\n",
    "                link = get_id_mapping_results_link(job_id)\n",
    "                results2 = get_id_mapping_results_search(link)\n",
    "\n",
    "            #Create annotation dataframe\n",
    "            df_annotation = pd.DataFrame(UnP_ids, columns=[\"UnP_ID\"])\n",
    "            df_annotation[[\"organism\", \"proteinName\", \"taxonId\", \"species\", \"genus\", \\\n",
    "                           \"family\", \"order\", \"class\", \"phylum\", \"clade\", \"superkingdom\"]] = \"\"\n",
    "\n",
    "            #Fill the annotation DataFrame\n",
    "            for dict_res in results[\"results\"] + results2[\"results\"]:\n",
    "                try:\n",
    "                    unp = dict_res[\"from\"]\n",
    "                    prot_name = dict_res[\"to\"][\"uniParcCrossReferences\"][0][\"proteinName\"]\n",
    "                    df_annotation.loc[df_annotation[\"UnP_ID\"] == unp, \"proteinName\"] = prot_name\n",
    "                    scientific_name = dict_res[\"to\"][\"uniParcCrossReferences\"][0][\"organism\"][\"scientificName\"]\n",
    "                    taxid = dict_res[\"to\"][\"uniParcCrossReferences\"][0][\"organism\"][\"taxonId\"]\n",
    "                    df_annotation.loc[df_annotation[\"UnP_ID\"] == unp, \"organism\"] = scientific_name\n",
    "                    df_annotation.loc[df_annotation[\"UnP_ID\"] == unp, \"taxonId\"] = taxid\n",
    "                except KeyError:\n",
    "                    continue\n",
    "\n",
    "            #Add lineage from NCBI Taxonomist\n",
    "            taxon_ids = df_annotation.loc[df_annotation[\"taxonId\"].notnull(), 'taxonId'].to_numpy()\n",
    "            taxon_ids = list(set(taxon_ids))\n",
    "            taxon_ids = list(map(str, taxon_ids))\n",
    "            bash_command = f\"ncbi-taxonomist resolve -t {','.join(taxon_ids)}\"\n",
    "            list_taxon = subprocess.run(bash_command, shell=True, capture_output=True, text=True).stdout.strip().split(\"\\n\")\n",
    "\n",
    "            if list_taxon != [\"\"]:\n",
    "                for taxon in list_taxon:\n",
    "                    jsonString = taxon\n",
    "                    taxon_dict = json.loads(jsonString)\n",
    "                    query = taxon_dict[\"query\"]\n",
    "                    for lineage in taxon_dict[\"lineage\"]:\n",
    "                        rank = lineage[\"rank\"]\n",
    "                        if rank in [\"species\", \"genus\", \"family\", \"order\", \"class\", \"phylum\", \"clade\", \"superkingdom\"]:\n",
    "                            name = lineage[\"name\"]\n",
    "                            df_annotation.loc[df_annotation[\"taxonId\"] == int(query), rank] = name\n",
    "\n",
    "            #Add id column\n",
    "            if \"proteins_id\" not in df_annotation.columns:\n",
    "                df_annotation.insert(0, \"proteins_id\", range(len(df_annotation)))\n",
    "\n",
    "            #Save annotation to csv\n",
    "            path_annotation = \"auto_annot.csv\"\n",
    "            df_annotation.to_csv(path_annotation, index=False)\n",
    "\n",
    "            print(\"\\nAnnotation correctly fetched.\")\n",
    "            annotation_names = list(df_annotation.columns)\n",
    "            print(f\"{len(annotation_names)} annotations found: {annotation_names}.\")\n",
    "    else:\n",
    "        print(f\"File {path_uniprot_list} not found.\")\n",
    "else:\n",
    "    print(\"No annotation file selected.\")\n",
    "    path_annotation = \"\""
   ]
  },
  {
   "cell_type": "markdown",
   "metadata": {
    "id": "_H2vnIt_3kUz"
   },
   "source": [
    "# Data preparation\n",
    "Here we clean the input .mfasta alignment and translate each sequence to a vector ready for projection."
   ]
  },
  {
   "cell_type": "markdown",
   "metadata": {},
   "source": [
    "### Parameters for data preparation"
   ]
  },
  {
   "cell_type": "code",
   "execution_count": 4,
   "metadata": {
    "cellView": "form",
    "id": "9hLq_MgX6hFC"
   },
   "outputs": [
    {
     "name": "stdout",
     "output_type": "stream",
     "text": [
      "Input file: examples/wayland_datasets/protein_kinase/kinase.mfasta\n",
      "Name of the protein family: kinase\n",
      "1 X aa replaced by gaps in 558 sequences\n",
      "filter_gaps finished for examples/wayland_datasets/protein_kinase/kinase.mfasta\n",
      "mfasta2fasta finished for protein_kinase_data/protein_kinase_data.clean0.9.mfasta\n",
      "1 X aa replaced by gaps in 558 sequences\n"
     ]
    }
   ],
   "source": [
    "# OPTIONS =================================================\n",
    "# Job name\n",
    "#Name for the output folder\n",
    "out_name = \"protein_kinase_data\"\n",
    "#----------------------------------------------------------\n",
    "# Threshold for filtering gapped positions\n",
    "#Positions with proportion of gaps above the given threshold are removed from the alignment.\n",
    "#If your alignment is very gapped, you may want to increase this value.\n",
    "gapth = 0.9 \n",
    "#==========================================================\n",
    "\n",
    "\n",
    "# Run data preparation\n",
    "#Data preparation consists in `.mfasta` cleaning according to a gap threshold and\n",
    "#translation of each sequence to the PSSM profile.\n",
    "prep_parameters = \"scripts/prepare_data\" + \" \" + mfasta + \" \" + out_name + \" \" + out_name + \" \" + str(gapth)\n",
    "bash_projection = \"bash scripts/prepare_data/create_projection.sh \" + prep_parameters\n",
    "!{bash_projection}"
   ]
  },
  {
   "cell_type": "markdown",
   "metadata": {
    "id": "Dv0lg4Jn-dfG"
   },
   "source": [
    "# Projection"
   ]
  },
  {
   "cell_type": "markdown",
   "metadata": {},
   "source": [
    "### Projection parameters"
   ]
  },
  {
   "cell_type": "code",
   "execution_count": 5,
   "metadata": {},
   "outputs": [
    {
     "name": "stdout",
     "output_type": "stream",
     "text": [
      "CUDA: False\n",
      "Random seed set as 0\n",
      "558 proteins found in folder protein_kinase_data/fasta0.9.\n",
      "No root detected\n",
      "289.txt\n",
      "Prepare data: tensor construction\n",
      "Prepare data: successfully terminated\n",
      "Computing laplacian...\n",
      "Laplacian computed in 0.28 sec\n",
      "Computing RFA...\n",
      "RFA computed in 0.02 sec\n",
      "Starting training...\n",
      "loss: 0.25026:  80%|████████████████████     | 801/1000 [01:29<00:36,  5.49it/s]\n",
      "Stopped at epoch 801\n",
      "loss: 0.25026:  80%|████████████████████     | 801/1000 [01:29<00:22,  8.96it/s]\n",
      "PM computed in 89.36 sec\n",
      "\n",
      "loss = 2.503e-01\n",
      "time = 1.501 min\n"
     ]
    }
   ],
   "source": [
    "# OPTIONS =================================================\n",
    "#Here you control different parameters of Poincaré maps.\n",
    "#In our computational experiments the best results were achieved for the following values provided by default.\n",
    "#The impact of different parameters is analyzed in the original paper [1].\n",
    "knn = 5\n",
    "gamma = 2\n",
    "sigma = 1\n",
    "cospca = 0\n",
    "batchs = 4\n",
    "epochs = 1000\n",
    "seed = 0\n",
    "#==========================================================\n",
    "\n",
    "\n",
    "# Building projection and preparing data for visualization\n",
    "#This step creates a projection of encoded sequences to a Poincaré disk.\n",
    "bash_pm = \"python3 \"+ \"scripts/build_poincare_map/main.py --input_path \" + out_name + \"/fasta\" + str(gapth) + \" --output_path \" + out_name + \"/projections/ --gamma \"+ str(gamma) +\" --pca \"+ str(cospca) + \" --epochs \"+ str(epochs) +\" --seed \"+ str(seed) + \" --knn \" + str(knn)\n",
    "!{bash_pm}"
   ]
  },
  {
   "cell_type": "markdown",
   "metadata": {
    "id": "gRxHHfjX7CHF"
   },
   "source": [
    "# Projection visualization"
   ]
  },
  {
   "cell_type": "markdown",
   "metadata": {},
   "source": [
    "### Prepare data for visualization"
   ]
  },
  {
   "cell_type": "code",
   "execution_count": 6,
   "metadata": {
    "cellView": "form",
    "colab": {
     "base_uri": "https://localhost:8080/"
    },
    "id": "A2I17cpYXGoB",
    "outputId": "a1b01a51-2182-4f97-a653-eedc42405a80"
   },
   "outputs": [
    {
     "name": "stdout",
     "output_type": "stream",
     "text": [
      "3 annotations found: ['proteins_id', 'accession', 'label'].\n"
     ]
    }
   ],
   "source": [
    "# Prepare data for visualization\n",
    "out_name = \"protein_kinase_data\"\n",
    "\n",
    "#Check that an annotation file was provided. Create a dummy one instead\n",
    "if not path_annotation:\n",
    "    df_annotation = pd.DataFrame(list(zip(list(range(1,nb_seq+1)), np.full(nb_seq, \"-\", dtype=object))), columns=[\"id\", \"default\"])\n",
    "    df_annotation.to_csv(\"dummy_annotation.csv\", index=False)\n",
    "    path_annotation = \"dummy_annotation.csv\"\n",
    "    annotation_names = [\"proteins_id\"]\n",
    "\n",
    "path_embedding = f\"{out_name}/projections/PM{knn:1.0f}sigma={sigma:2.2f}gamma={gamma:2.2f}cosinepca={cospca:1.0f}_seed{seed:1.0f}.csv\"\n",
    "df_embedding = read_embeddings(path_embedding, path_annotation, withroot=False)\n",
    "\n",
    "#Here are different labels found in your annotation file (if one uploaded):\n",
    "print(f\"{len(annotation_names)} annotations found: {annotation_names}.\")"
   ]
  },
  {
   "cell_type": "markdown",
   "metadata": {},
   "source": [
    "### Create interactive plot"
   ]
  },
  {
   "cell_type": "code",
   "execution_count": 8,
   "metadata": {},
   "outputs": [],
   "source": [
    "# Construction of custom color palette  \n",
    "\n",
    "# Load existing colour palette (must be a .json file)\n",
    "colour_json = 'examples/wayland_datasets/protein_kinase/kinase_colors.json'\n",
    "with open(colour_json, 'r') as file:\n",
    "    colour_palette = json.load(file)\n",
    "\n",
    "# Also the option of manually creating your own colour palette\n"
   ]
  },
  {
   "cell_type": "code",
   "execution_count": 9,
   "metadata": {
    "cellView": "form",
    "colab": {
     "base_uri": "https://localhost:8080/",
     "height": 886
    },
    "id": "zLb9h9S4eKUD",
    "outputId": "58e8c73a-4869-4305-ecfb-bccc80d06db1"
   },
   "outputs": [
    {
     "data": {
      "application/vnd.plotly.v1+json": {
       "config": {
        "plotlyServerURL": "https://plot.ly"
       },
       "data": [
        {
         "customdata": [
          [
           1,
           "O00418",
           "outgroup"
          ],
          [
           2,
           "Q86TB3",
           "outgroup"
          ],
          [
           3,
           "Q96L96",
           "outgroup"
          ],
          [
           4,
           "Q96QP1",
           "outgroup"
          ],
          [
           5,
           "Q96QT4",
           "outgroup"
          ],
          [
           6,
           "Q9BX84",
           "outgroup"
          ],
          [
           7,
           "O75063",
           "outgroup"
          ],
          [
           8,
           "Q8IXL6",
           "outgroup"
          ],
          [
           9,
           "Q96MK3",
           "outgroup"
          ],
          [
           10,
           "P23677",
           "outgroup"
          ],
          [
           11,
           "P27987",
           "outgroup"
          ],
          [
           12,
           "Q8NFU5",
           "outgroup"
          ],
          [
           13,
           "Q92551",
           "outgroup"
          ],
          [
           14,
           "Q96DU7",
           "outgroup"
          ],
          [
           15,
           "Q96PC2",
           "outgroup"
          ],
          [
           16,
           "Q9UHH9",
           "outgroup"
          ],
          [
           17,
           "Q8TCG2",
           "outgroup"
          ],
          [
           18,
           "Q9BTU6",
           "outgroup"
          ],
          [
           19,
           "O00329",
           "outgroup"
          ],
          [
           20,
           "O00443",
           "outgroup"
          ],
          [
           21,
           "O00750",
           "outgroup"
          ],
          [
           22,
           "O75747",
           "outgroup"
          ],
          [
           23,
           "P42336",
           "outgroup"
          ],
          [
           24,
           "P42338",
           "outgroup"
          ],
          [
           25,
           "P42345",
           "outgroup"
          ],
          [
           26,
           "P42356",
           "outgroup"
          ],
          [
           27,
           "P48736",
           "outgroup"
          ],
          [
           28,
           "P78527",
           "outgroup"
          ],
          [
           29,
           "Q13315",
           "outgroup"
          ],
          [
           30,
           "Q13535",
           "outgroup"
          ],
          [
           31,
           "Q8NEB9",
           "outgroup"
          ],
          [
           32,
           "Q96Q15",
           "outgroup"
          ],
          [
           33,
           "Q9UBF8",
           "outgroup"
          ],
          [
           34,
           "Q9Y4A5",
           "outgroup"
          ],
          [
           35,
           "O14986",
           "outgroup"
          ],
          [
           36,
           "O60331",
           "outgroup"
          ],
          [
           37,
           "P48426",
           "outgroup"
          ],
          [
           38,
           "P78356",
           "outgroup"
          ],
          [
           39,
           "Q5T9C9",
           "outgroup"
          ],
          [
           40,
           "Q8TBX8",
           "outgroup"
          ],
          [
           41,
           "Q99755",
           "outgroup"
          ],
          [
           42,
           "Q9Y2I7",
           "outgroup"
          ],
          [
           43,
           "Q9BVL4",
           "outgroup"
          ],
          [
           44,
           "Q9H8X2",
           "outgroup"
          ],
          [
           45,
           "Q3MIX3",
           "outgroup"
          ],
          [
           46,
           "Q7Z695",
           "outgroup"
          ],
          [
           47,
           "Q86TW2",
           "outgroup"
          ],
          [
           48,
           "Q8NI60",
           "outgroup"
          ],
          [
           49,
           "Q96D53",
           "outgroup"
          ],
          [
           50,
           "Q6JQN1",
           "outgroup"
          ],
          [
           51,
           "Q709F0",
           "outgroup"
          ],
          [
           52,
           "Q96S44",
           "outgroup"
          ],
          [
           53,
           "P35790",
           "outgroup"
          ],
          [
           54,
           "Q9Y259",
           "outgroup"
          ],
          [
           55,
           "Q9HBU6",
           "outgroup"
          ],
          [
           56,
           "Q9NVF9",
           "outgroup"
          ],
          [
           57,
           "Q9H479",
           "outgroup"
          ],
          [
           58,
           "A2RU49",
           "outgroup"
          ],
          [
           59,
           "Q9HA64",
           "outgroup"
          ],
          [
           60,
           "O14730",
           "outgroup"
          ],
          [
           61,
           "Q9BRS2",
           "outgroup"
          ],
          [
           62,
           "Q9BVS4",
           "outgroup"
          ]
         ],
         "hovertemplate": "<b>%{hovertext}</b><br><br>label=%{customdata[2]}<br>pm1=%{x}<br>pm2=%{y}<br>proteins_id=%{customdata[0]}<br>accession=%{customdata[1]}<extra></extra>",
         "hovertext": [
          "outgroup",
          "outgroup",
          "outgroup",
          "outgroup",
          "outgroup",
          "outgroup",
          "outgroup",
          "outgroup",
          "outgroup",
          "outgroup",
          "outgroup",
          "outgroup",
          "outgroup",
          "outgroup",
          "outgroup",
          "outgroup",
          "outgroup",
          "outgroup",
          "outgroup",
          "outgroup",
          "outgroup",
          "outgroup",
          "outgroup",
          "outgroup",
          "outgroup",
          "outgroup",
          "outgroup",
          "outgroup",
          "outgroup",
          "outgroup",
          "outgroup",
          "outgroup",
          "outgroup",
          "outgroup",
          "outgroup",
          "outgroup",
          "outgroup",
          "outgroup",
          "outgroup",
          "outgroup",
          "outgroup",
          "outgroup",
          "outgroup",
          "outgroup",
          "outgroup",
          "outgroup",
          "outgroup",
          "outgroup",
          "outgroup",
          "outgroup",
          "outgroup",
          "outgroup",
          "outgroup",
          "outgroup",
          "outgroup",
          "outgroup",
          "outgroup",
          "outgroup",
          "outgroup",
          "outgroup",
          "outgroup",
          "outgroup"
         ],
         "legendgroup": "outgroup",
         "marker": {
          "color": "#EF553B",
          "symbol": "circle"
         },
         "mode": "markers",
         "name": "outgroup",
         "orientation": "v",
         "showlegend": true,
         "type": "scatter",
         "x": [
          0.80428106,
          0.81311077,
          0.82969624,
          0.8348682,
          0.83337045,
          0.8240961,
          0.8261529,
          0.8219805,
          0.818742,
          0.9652213,
          0.9572855,
          0.9516228,
          0.95195955,
          0.9627646,
          0.9617754,
          0.95741105,
          0.95607334,
          0.9670995,
          0.95490044,
          0.9625795,
          0.9418528,
          0.9628156,
          0.9567448,
          0.95462763,
          0.9497878,
          0.9582196,
          0.9614444,
          0.9617412,
          0.96246475,
          0.959178,
          0.96070075,
          0.95934397,
          0.9316495,
          0.9410434,
          0.9333077,
          0.9560572,
          0.9549426,
          0.95939845,
          0.9568689,
          0.9500463,
          0.9499748,
          0.95120406,
          0.9561751,
          0.9597149,
          0.9224303,
          0.91611135,
          0.9209536,
          0.9244119,
          0.91034544,
          0.9178809,
          0.97777104,
          0.9735534,
          0.9755148,
          0.97986996,
          0.97948307,
          0.9712087,
          0.9749002,
          0.97671264,
          0.9775147,
          0.97710276,
          0.9754998,
          0.9774758
         ],
         "xaxis": "x",
         "y": [
          -0.46291494,
          -0.47741577,
          -0.47461691,
          -0.4714695,
          -0.46571934,
          -0.46785116,
          -0.46268043,
          -0.4732414,
          -0.46538195,
          -0.043180022,
          -0.0392402,
          -0.03798842,
          -0.04362824,
          -0.036247544,
          -0.018813197,
          -0.021789785,
          -0.02811671,
          -0.022443792,
          0.0075460086,
          -0.0086134635,
          -0.01483468,
          0.00020482505,
          0.00024326156,
          -0.006671081,
          0.001252233,
          0.22734053,
          0.22948553,
          0.23369123,
          0.23123816,
          0.23326421,
          0.23168516,
          0.23106602,
          0.17698292,
          0.19396833,
          0.19051321,
          0.17346543,
          0.19899948,
          0.19841643,
          0.18749593,
          0.19451708,
          0.18842551,
          0.20302351,
          0.19325039,
          0.1925228,
          0.28929186,
          0.2882679,
          0.2846588,
          0.28079164,
          0.27404082,
          0.2817853,
          0.14840199,
          0.14895059,
          0.14759226,
          0.15245004,
          0.15412587,
          0.15349126,
          0.15195811,
          0.15622213,
          0.15264656,
          0.15397076,
          0.15406865,
          0.1512265
         ],
         "yaxis": "y"
        },
        {
         "customdata": [
          [
           63,
           "P31749",
           "AGC"
          ],
          [
           64,
           "P31751",
           "AGC"
          ],
          [
           65,
           "Q9Y243",
           "AGC"
          ],
          [
           66,
           "O14578",
           "AGC"
          ],
          [
           67,
           "O75116",
           "AGC"
          ],
          [
           68,
           "Q09013",
           "AGC"
          ],
          [
           69,
           "Q13464",
           "AGC"
          ],
          [
           70,
           "Q5VT25",
           "AGC"
          ],
          [
           71,
           "Q6DT37",
           "AGC"
          ],
          [
           72,
           "Q9Y5S2",
           "AGC"
          ],
          [
           73,
           "P25098",
           "AGC"
          ],
          [
           74,
           "P32298",
           "AGC"
          ],
          [
           75,
           "P34947",
           "AGC"
          ],
          [
           76,
           "P35626",
           "AGC"
          ],
          [
           77,
           "P43250",
           "AGC"
          ],
          [
           78,
           "Q15835",
           "AGC"
          ],
          [
           79,
           "Q8WTQ7",
           "AGC"
          ],
          [
           80,
           "O15021",
           "AGC"
          ],
          [
           81,
           "O60307",
           "AGC"
          ],
          [
           82,
           "Q6P0Q8",
           "AGC"
          ],
          [
           83,
           "Q96GX5",
           "AGC"
          ],
          [
           84,
           "Q9Y2H9",
           "AGC"
          ],
          [
           85,
           "O95835",
           "AGC"
          ],
          [
           86,
           "Q15208",
           "AGC"
          ],
          [
           87,
           "Q9NRM7",
           "AGC"
          ],
          [
           88,
           "Q9Y2H1",
           "AGC"
          ],
          [
           89,
           "O15530",
           "AGC"
          ],
          [
           90,
           "Q6A1A2",
           "AGC"
          ],
          [
           91,
           "O43930",
           "AGC"
          ],
          [
           92,
           "P17612",
           "AGC"
          ],
          [
           93,
           "P22612",
           "AGC"
          ],
          [
           94,
           "P22694",
           "AGC"
          ],
          [
           95,
           "P51817",
           "AGC"
          ],
          [
           96,
           "P05129",
           "AGC"
          ],
          [
           97,
           "P05771",
           "AGC"
          ],
          [
           98,
           "P17252",
           "AGC"
          ],
          [
           99,
           "P24723",
           "AGC"
          ],
          [
           100,
           "P41743",
           "AGC"
          ],
          [
           101,
           "Q02156",
           "AGC"
          ],
          [
           102,
           "Q04759",
           "AGC"
          ],
          [
           103,
           "Q05513",
           "AGC"
          ],
          [
           104,
           "Q05655",
           "AGC"
          ],
          [
           105,
           "Q13237",
           "AGC"
          ],
          [
           106,
           "Q13976",
           "AGC"
          ],
          [
           107,
           "Q16512",
           "AGC"
          ],
          [
           108,
           "Q16513",
           "AGC"
          ],
          [
           109,
           "Q6P5Z2",
           "AGC"
          ],
          [
           110,
           "O75582|1",
           "AGC"
          ],
          [
           111,
           "O75676|1",
           "AGC"
          ],
          [
           112,
           "P23443",
           "AGC"
          ],
          [
           113,
           "P51812|1",
           "AGC"
          ],
          [
           114,
           "Q15349|1",
           "AGC"
          ],
          [
           115,
           "Q15418|1",
           "AGC"
          ],
          [
           116,
           "Q9UBS0",
           "AGC"
          ],
          [
           117,
           "Q9UK32|1",
           "AGC"
          ],
          [
           118,
           "Q96S38",
           "AGC"
          ],
          [
           119,
           "Q9Y6S9",
           "AGC"
          ],
          [
           120,
           "Q96LW2",
           "AGC"
          ],
          [
           121,
           "O00141",
           "AGC"
          ],
          [
           122,
           "Q96BR1",
           "AGC"
          ],
          [
           123,
           "Q9HBY8",
           "AGC"
          ],
          [
           124,
           "Q86UX6",
           "AGC"
          ],
          [
           125,
           "Q8WU08",
           "AGC"
          ],
          [
           126,
           "Q9NY57",
           "AGC"
          ]
         ],
         "hovertemplate": "<b>%{hovertext}</b><br><br>label=%{customdata[2]}<br>pm1=%{x}<br>pm2=%{y}<br>proteins_id=%{customdata[0]}<br>accession=%{customdata[1]}<extra></extra>",
         "hovertext": [
          "AGC",
          "AGC",
          "AGC",
          "AGC",
          "AGC",
          "AGC",
          "AGC",
          "AGC",
          "AGC",
          "AGC",
          "AGC",
          "AGC",
          "AGC",
          "AGC",
          "AGC",
          "AGC",
          "AGC",
          "AGC",
          "AGC",
          "AGC",
          "AGC",
          "AGC",
          "AGC",
          "AGC",
          "AGC",
          "AGC",
          "AGC",
          "AGC",
          "AGC",
          "AGC",
          "AGC",
          "AGC",
          "AGC",
          "AGC",
          "AGC",
          "AGC",
          "AGC",
          "AGC",
          "AGC",
          "AGC",
          "AGC",
          "AGC",
          "AGC",
          "AGC",
          "AGC",
          "AGC",
          "AGC",
          "AGC",
          "AGC",
          "AGC",
          "AGC",
          "AGC",
          "AGC",
          "AGC",
          "AGC",
          "AGC",
          "AGC",
          "AGC",
          "AGC",
          "AGC",
          "AGC",
          "AGC",
          "AGC",
          "AGC"
         ],
         "legendgroup": "AGC",
         "marker": {
          "color": "#00cc96",
          "symbol": "circle"
         },
         "mode": "markers",
         "name": "AGC",
         "orientation": "v",
         "showlegend": true,
         "type": "scatter",
         "x": [
          0.8808512,
          0.8751876,
          0.87888765,
          0.8714067,
          0.89137304,
          0.88386655,
          0.86519283,
          0.88796335,
          0.87447226,
          0.06893429,
          0.07083697,
          0.0691122,
          0.073229775,
          0.07308437,
          0.07198936,
          0.075436816,
          0.076903194,
          0.076160274,
          0.20684345,
          0.20436548,
          0.19275704,
          0.11817523,
          0.12360018,
          0.12856443,
          0.11701061,
          0.12301137,
          0.21980163,
          0.23269081,
          0.2359039,
          0.23106168,
          0.23079497,
          0.24403566,
          0.24712285,
          0.24638459,
          0.23356245,
          0.2288092,
          0.23325248,
          0.23740464,
          0.23958886,
          0.24383633,
          0.13764277,
          0.14918774,
          0.15046568,
          0.15374713,
          0.16029659,
          0.15448429,
          0.15361647,
          0.15426277,
          0.14507224,
          0.13886465,
          0.13884398,
          0.11958593,
          0.11923395,
          0.1267849,
          0.12721628,
          0.084256254,
          0.09483139,
          0.09836705,
          0.0830018,
          0.08197984,
          0.10385944,
          0.12563665,
          0.13026471,
          0.1457859
         ],
         "xaxis": "x",
         "y": [
          0.2242962,
          0.21261261,
          0.14266652,
          0.1524503,
          0.14034714,
          0.15186004,
          0.17973031,
          0.17311239,
          0.16747947,
          0.98448867,
          0.9855888,
          0.9817995,
          0.9849613,
          0.9826654,
          0.98109734,
          0.97652346,
          0.9835331,
          0.98130435,
          0.9272326,
          0.9361527,
          0.93792135,
          0.9507719,
          0.9517868,
          0.94047517,
          0.9404252,
          0.9369956,
          0.9387357,
          0.9514862,
          0.9510177,
          0.9415657,
          0.94467676,
          0.9396654,
          0.9382138,
          0.9436559,
          0.9458525,
          0.9472482,
          0.9339228,
          0.9391656,
          0.94486964,
          0.93461674,
          0.9530797,
          0.9550065,
          0.95115525,
          0.95241123,
          0.94919306,
          0.9118063,
          0.90615845,
          0.90956527,
          0.9138912,
          0.91700965,
          0.91719455,
          0.9074433,
          0.9091154,
          0.88352865,
          0.8587955,
          0.9115475,
          0.910472,
          0.9190773,
          0.9105365,
          0.9092777,
          0.8994088,
          0.9176146,
          0.90561765,
          0.9296209
         ],
         "yaxis": "y"
        },
        {
         "customdata": [
          [
           127,
           "Q14012",
           "CAMK"
          ],
          [
           128,
           "Q16566",
           "CAMK"
          ],
          [
           129,
           "Q6P2M8",
           "CAMK"
          ],
          [
           130,
           "Q8IU85",
           "CAMK"
          ],
          [
           131,
           "Q96NX5",
           "CAMK"
          ],
          [
           132,
           "Q13554",
           "CAMK"
          ],
          [
           133,
           "Q13555",
           "CAMK"
          ],
          [
           134,
           "Q13557",
           "CAMK"
          ],
          [
           135,
           "Q9UQM7",
           "CAMK"
          ],
          [
           136,
           "O14757",
           "CAMK"
          ],
          [
           137,
           "O60285",
           "CAMK"
          ],
          [
           138,
           "P27448",
           "CAMK"
          ],
          [
           139,
           "P54646",
           "CAMK"
          ],
          [
           140,
           "P57058",
           "CAMK"
          ],
          [
           141,
           "P57059",
           "CAMK"
          ],
          [
           142,
           "Q13131",
           "CAMK"
          ],
          [
           143,
           "Q14680",
           "CAMK"
          ],
          [
           144,
           "Q15831",
           "CAMK"
          ],
          [
           145,
           "Q7KZI7",
           "CAMK"
          ],
          [
           146,
           "Q8IWQ3",
           "CAMK"
          ],
          [
           147,
           "Q8IY84",
           "CAMK"
          ],
          [
           148,
           "Q8TDC3",
           "CAMK"
          ],
          [
           149,
           "Q96L34",
           "CAMK"
          ],
          [
           150,
           "Q96RG2",
           "CAMK"
          ],
          [
           151,
           "Q9H093",
           "CAMK"
          ],
          [
           152,
           "Q9H0K1",
           "CAMK"
          ],
          [
           153,
           "Q9NRH2",
           "CAMK"
          ],
          [
           154,
           "Q9P0L2",
           "CAMK"
          ],
          [
           155,
           "Q9Y2K2",
           "CAMK"
          ],
          [
           156,
           "Q8NCB2",
           "CAMK"
          ],
          [
           157,
           "O14936",
           "CAMK"
          ],
          [
           158,
           "O43293",
           "CAMK"
          ],
          [
           159,
           "O94768",
           "CAMK"
          ],
          [
           160,
           "P53355",
           "CAMK"
          ],
          [
           161,
           "Q9UEE5",
           "CAMK"
          ],
          [
           162,
           "Q9UIK4",
           "CAMK"
          ],
          [
           163,
           "O15075",
           "CAMK"
          ],
          [
           164,
           "Q8N568",
           "CAMK"
          ],
          [
           165,
           "Q9C098",
           "CAMK"
          ],
          [
           166,
           "P49137",
           "CAMK"
          ],
          [
           167,
           "Q16644",
           "CAMK"
          ],
          [
           168,
           "Q8IW41",
           "CAMK"
          ],
          [
           169,
           "Q9BUB5",
           "CAMK"
          ],
          [
           170,
           "Q9HBH9",
           "CAMK"
          ],
          [
           171,
           "Q15746",
           "CAMK"
          ],
          [
           172,
           "Q32MK0",
           "CAMK"
          ],
          [
           173,
           "Q86YV6",
           "CAMK"
          ],
          [
           174,
           "Q8WZ42",
           "CAMK"
          ],
          [
           175,
           "Q9H1R3",
           "CAMK"
          ],
          [
           176,
           "P15735",
           "CAMK"
          ],
          [
           177,
           "Q16816",
           "CAMK"
          ],
          [
           178,
           "P11309",
           "CAMK"
          ],
          [
           179,
           "Q86V86",
           "CAMK"
          ],
          [
           180,
           "Q9P1W9",
           "CAMK"
          ],
          [
           181,
           "O94806",
           "CAMK"
          ],
          [
           182,
           "Q15139",
           "CAMK"
          ],
          [
           183,
           "Q9BZL6",
           "CAMK"
          ],
          [
           184,
           "P11801",
           "CAMK"
          ],
          [
           185,
           "Q96QS6",
           "CAMK"
          ],
          [
           186,
           "O96017",
           "CAMK"
          ],
          [
           187,
           "O75582|2",
           "CAMK"
          ],
          [
           188,
           "O75676|2",
           "CAMK"
          ],
          [
           189,
           "P51812|2",
           "CAMK"
          ],
          [
           190,
           "Q15349|2",
           "CAMK"
          ],
          [
           191,
           "Q15418|2",
           "CAMK"
          ],
          [
           192,
           "Q9UK32|2",
           "CAMK"
          ],
          [
           193,
           "A0A0B4J2F2",
           "CAMK"
          ],
          [
           194,
           "Q9BYT3",
           "CAMK"
          ],
          [
           195,
           "Q8N2I9",
           "CAMK"
          ],
          [
           196,
           "Q6SA08",
           "CAMK"
          ],
          [
           197,
           "Q96PF2",
           "CAMK"
          ],
          [
           198,
           "Q96PN8",
           "CAMK"
          ],
          [
           199,
           "Q9BXA6",
           "CAMK"
          ],
          [
           200,
           "Q9BXA7",
           "CAMK"
          ],
          [
           201,
           "Q92519",
           "CAMK"
          ],
          [
           202,
           "Q96RU7",
           "CAMK"
          ],
          [
           203,
           "Q96RU8",
           "CAMK"
          ],
          [
           204,
           "O60229",
           "CAMK"
          ],
          [
           205,
           "O75962",
           "CAMK"
          ],
          [
           206,
           "Q15772|1",
           "CAMK"
          ],
          [
           207,
           "Q15772|2",
           "CAMK"
          ],
          [
           208,
           "Q5VST9|1",
           "CAMK"
          ],
          [
           209,
           "Q5VST9|2",
           "CAMK"
          ]
         ],
         "hovertemplate": "<b>%{hovertext}</b><br><br>label=%{customdata[2]}<br>pm1=%{x}<br>pm2=%{y}<br>proteins_id=%{customdata[0]}<br>accession=%{customdata[1]}<extra></extra>",
         "hovertext": [
          "CAMK",
          "CAMK",
          "CAMK",
          "CAMK",
          "CAMK",
          "CAMK",
          "CAMK",
          "CAMK",
          "CAMK",
          "CAMK",
          "CAMK",
          "CAMK",
          "CAMK",
          "CAMK",
          "CAMK",
          "CAMK",
          "CAMK",
          "CAMK",
          "CAMK",
          "CAMK",
          "CAMK",
          "CAMK",
          "CAMK",
          "CAMK",
          "CAMK",
          "CAMK",
          "CAMK",
          "CAMK",
          "CAMK",
          "CAMK",
          "CAMK",
          "CAMK",
          "CAMK",
          "CAMK",
          "CAMK",
          "CAMK",
          "CAMK",
          "CAMK",
          "CAMK",
          "CAMK",
          "CAMK",
          "CAMK",
          "CAMK",
          "CAMK",
          "CAMK",
          "CAMK",
          "CAMK",
          "CAMK",
          "CAMK",
          "CAMK",
          "CAMK",
          "CAMK",
          "CAMK",
          "CAMK",
          "CAMK",
          "CAMK",
          "CAMK",
          "CAMK",
          "CAMK",
          "CAMK",
          "CAMK",
          "CAMK",
          "CAMK",
          "CAMK",
          "CAMK",
          "CAMK",
          "CAMK",
          "CAMK",
          "CAMK",
          "CAMK",
          "CAMK",
          "CAMK",
          "CAMK",
          "CAMK",
          "CAMK",
          "CAMK",
          "CAMK",
          "CAMK",
          "CAMK",
          "CAMK",
          "CAMK",
          "CAMK",
          "CAMK"
         ],
         "legendgroup": "CAMK",
         "marker": {
          "color": "#ab63fa",
          "symbol": "circle"
         },
         "mode": "markers",
         "name": "CAMK",
         "orientation": "v",
         "showlegend": true,
         "type": "scatter",
         "x": [
          0.82211304,
          0.81981456,
          0.8181177,
          0.8151673,
          0.4031619,
          0.2644533,
          0.43082142,
          0.41496032,
          0.42550167,
          0.4938946,
          0.5447123,
          0.5655157,
          0.53729737,
          0.479943,
          0.49864778,
          0.50294673,
          0.49719995,
          0.7826711,
          -0.2639435,
          -0.20752019,
          -0.22035922,
          -0.23671786,
          -0.2306566,
          -0.23771623,
          -0.21900514,
          -0.2566248,
          -0.22448625,
          -0.24974872,
          -0.24270976,
          -0.23601967,
          -0.2449159,
          0.36489612,
          0.39238912,
          -0.5207263,
          -0.51077473,
          -0.5169936,
          -0.5194283,
          -0.5194024,
          -0.47212735,
          -0.5838797,
          -0.588387,
          -0.13744602,
          -0.47302166,
          -0.6374229,
          -0.63072884,
          -0.6078133,
          -0.6081014,
          -0.61312926,
          -0.6170356,
          -0.34165356,
          -0.34592074,
          -0.33583125,
          -0.3085079,
          -0.2765935,
          -0.28524214,
          -0.57288694,
          -0.56824327,
          -0.5570398,
          -0.669052,
          -0.6522996,
          -0.65506935,
          -0.65769815,
          -0.6695988,
          -0.5101628,
          -0.5290138,
          -0.5848839,
          -0.56343657,
          -0.5679173,
          -0.5558169,
          -0.539607,
          -0.45962635,
          -0.44933066,
          -0.45788053,
          -0.41357642,
          -0.4324874,
          -0.44170538,
          -0.44579935,
          -0.44977224,
          0.18239622,
          0.21711962,
          0.24775195,
          0.1673001,
          0.30108276
         ],
         "xaxis": "x",
         "y": [
          0.5354944,
          0.5418311,
          0.54516315,
          0.5471996,
          0.7861443,
          -0.39711434,
          0.795802,
          0.7913611,
          0.79066956,
          0.6139367,
          0.7156097,
          0.6852347,
          0.7365736,
          0.6696464,
          0.78576285,
          0.78546613,
          0.79096293,
          0.41952324,
          0.84202886,
          0.8092746,
          0.920487,
          0.92199403,
          0.91717446,
          0.89665616,
          0.90606356,
          0.90946156,
          0.89449984,
          0.8917325,
          0.9129956,
          0.9065467,
          0.9013939,
          0.6697687,
          0.67496854,
          0.5972023,
          0.5207599,
          0.5734799,
          0.5690601,
          0.5689276,
          0.64334327,
          0.70737,
          0.69946885,
          0.71468353,
          0.7357446,
          0.6465172,
          0.6415912,
          0.62914884,
          0.64609593,
          0.6081647,
          0.6542338,
          0.7460686,
          0.7916122,
          0.771194,
          0.72727567,
          0.7499507,
          0.77813107,
          0.69386804,
          0.702951,
          0.6991005,
          0.53456837,
          0.5386058,
          0.5276742,
          0.5542342,
          0.5617675,
          0.6975121,
          0.68148404,
          0.6306536,
          0.60268396,
          0.6685601,
          0.6578296,
          0.66723746,
          0.82410944,
          0.83465594,
          0.8313296,
          0.8159519,
          0.83442116,
          0.8279658,
          0.82221013,
          0.8107054,
          0.62318766,
          0.61824405,
          0.6630836,
          0.6865743,
          0.5462265
         ],
         "yaxis": "y"
        },
        {
         "customdata": [
          [
           210,
           "P48729",
           "CK1"
          ],
          [
           211,
           "Q8N752",
           "CK1"
          ],
          [
           212,
           "P48730",
           "CK1"
          ],
          [
           213,
           "P49674",
           "CK1"
          ],
          [
           214,
           "P78368",
           "CK1"
          ],
          [
           215,
           "Q9HCP0",
           "CK1"
          ],
          [
           216,
           "Q9Y6M4",
           "CK1"
          ],
          [
           217,
           "Q5TCY1",
           "CK1"
          ],
          [
           218,
           "Q6IQ55",
           "CK1"
          ],
          [
           219,
           "Q86Y07",
           "CK1"
          ],
          [
           220,
           "Q8IV63",
           "CK1"
          ],
          [
           221,
           "Q99986",
           "CK1"
          ]
         ],
         "hovertemplate": "<b>%{hovertext}</b><br><br>label=%{customdata[2]}<br>pm1=%{x}<br>pm2=%{y}<br>proteins_id=%{customdata[0]}<br>accession=%{customdata[1]}<extra></extra>",
         "hovertext": [
          "CK1",
          "CK1",
          "CK1",
          "CK1",
          "CK1",
          "CK1",
          "CK1",
          "CK1",
          "CK1",
          "CK1",
          "CK1",
          "CK1"
         ],
         "legendgroup": "CK1",
         "marker": {
          "color": "#FFA15A",
          "symbol": "circle"
         },
         "mode": "markers",
         "name": "CK1",
         "orientation": "v",
         "showlegend": true,
         "type": "scatter",
         "x": [
          0.32812023,
          0.29502016,
          0.32486558,
          0.37578654,
          0.29126066,
          0.31149232,
          0.8152048,
          0.81187063,
          0.80942714,
          0.81116664,
          0.81082076,
          0.81565756
         ],
         "xaxis": "x",
         "y": [
          0.5964745,
          0.57627106,
          0.5521983,
          0.44006348,
          0.44620863,
          0.43222573,
          0.5434729,
          0.5420434,
          0.54470235,
          0.53104985,
          0.5343311,
          0.5349935
         ],
         "yaxis": "y"
        },
        {
         "customdata": [
          [
           222,
           "O94921",
           "CMGC"
          ],
          [
           223,
           "P06493",
           "CMGC"
          ],
          [
           224,
           "P11802",
           "CMGC"
          ],
          [
           225,
           "P21127",
           "CMGC"
          ],
          [
           226,
           "P24941",
           "CMGC"
          ],
          [
           227,
           "P49336",
           "CMGC"
          ],
          [
           228,
           "P50613",
           "CMGC"
          ],
          [
           229,
           "P50750",
           "CMGC"
          ],
          [
           230,
           "Q00526",
           "CMGC"
          ],
          [
           231,
           "Q00534",
           "CMGC"
          ],
          [
           232,
           "Q00535",
           "CMGC"
          ],
          [
           233,
           "Q00536",
           "CMGC"
          ],
          [
           234,
           "Q00537",
           "CMGC"
          ],
          [
           235,
           "Q07002",
           "CMGC"
          ],
          [
           236,
           "Q14004",
           "CMGC"
          ],
          [
           237,
           "Q15131",
           "CMGC"
          ],
          [
           238,
           "Q8IZL9",
           "CMGC"
          ],
          [
           239,
           "Q96Q40",
           "CMGC"
          ],
          [
           240,
           "Q9BWU1",
           "CMGC"
          ],
          [
           241,
           "Q9NYV4",
           "CMGC"
          ],
          [
           242,
           "Q9UQ88",
           "CMGC"
          ],
          [
           243,
           "O76039",
           "CMGC"
          ],
          [
           244,
           "Q00532",
           "CMGC"
          ],
          [
           245,
           "Q5MAI5",
           "CMGC"
          ],
          [
           246,
           "Q8IVW4",
           "CMGC"
          ],
          [
           247,
           "Q92772",
           "CMGC"
          ],
          [
           248,
           "P19784",
           "CMGC"
          ],
          [
           249,
           "P68400",
           "CMGC"
          ],
          [
           250,
           "Q8NEV1",
           "CMGC"
          ],
          [
           251,
           "P49759",
           "CMGC"
          ],
          [
           252,
           "P49760",
           "CMGC"
          ],
          [
           253,
           "P49761",
           "CMGC"
          ],
          [
           254,
           "Q9HAZ1",
           "CMGC"
          ],
          [
           255,
           "O43781",
           "CMGC"
          ],
          [
           256,
           "Q13523",
           "CMGC"
          ],
          [
           257,
           "Q13627",
           "CMGC"
          ],
          [
           258,
           "Q86Z02",
           "CMGC"
          ],
          [
           259,
           "Q8NE63",
           "CMGC"
          ],
          [
           260,
           "Q92630",
           "CMGC"
          ],
          [
           261,
           "Q9H2X6",
           "CMGC"
          ],
          [
           262,
           "Q9H422",
           "CMGC"
          ],
          [
           263,
           "Q9NR20",
           "CMGC"
          ],
          [
           264,
           "Q9Y463",
           "CMGC"
          ],
          [
           265,
           "P49840",
           "CMGC"
          ],
          [
           266,
           "P49841",
           "CMGC"
          ],
          [
           267,
           "O15264",
           "CMGC"
          ],
          [
           268,
           "P27361",
           "CMGC"
          ],
          [
           269,
           "P28482",
           "CMGC"
          ],
          [
           270,
           "P31152",
           "CMGC"
          ],
          [
           271,
           "P45983",
           "CMGC"
          ],
          [
           272,
           "P45984",
           "CMGC"
          ],
          [
           273,
           "P53778",
           "CMGC"
          ],
          [
           274,
           "P53779",
           "CMGC"
          ],
          [
           275,
           "Q13164",
           "CMGC"
          ],
          [
           276,
           "Q15759",
           "CMGC"
          ],
          [
           277,
           "Q16539",
           "CMGC"
          ],
          [
           278,
           "Q16659",
           "CMGC"
          ],
          [
           279,
           "Q8TD08",
           "CMGC"
          ],
          [
           280,
           "Q9UBE8",
           "CMGC"
          ],
          [
           281,
           "P20794",
           "CMGC"
          ],
          [
           282,
           "Q9UPZ9",
           "CMGC"
          ],
          [
           283,
           "Q9UQ07",
           "CMGC"
          ],
          [
           284,
           "P78362",
           "CMGC"
          ],
          [
           285,
           "Q96SB4",
           "CMGC"
          ],
          [
           286,
           "Q9UPE1",
           "CMGC"
          ]
         ],
         "hovertemplate": "<b>%{hovertext}</b><br><br>label=%{customdata[2]}<br>pm1=%{x}<br>pm2=%{y}<br>proteins_id=%{customdata[0]}<br>accession=%{customdata[1]}<extra></extra>",
         "hovertext": [
          "CMGC",
          "CMGC",
          "CMGC",
          "CMGC",
          "CMGC",
          "CMGC",
          "CMGC",
          "CMGC",
          "CMGC",
          "CMGC",
          "CMGC",
          "CMGC",
          "CMGC",
          "CMGC",
          "CMGC",
          "CMGC",
          "CMGC",
          "CMGC",
          "CMGC",
          "CMGC",
          "CMGC",
          "CMGC",
          "CMGC",
          "CMGC",
          "CMGC",
          "CMGC",
          "CMGC",
          "CMGC",
          "CMGC",
          "CMGC",
          "CMGC",
          "CMGC",
          "CMGC",
          "CMGC",
          "CMGC",
          "CMGC",
          "CMGC",
          "CMGC",
          "CMGC",
          "CMGC",
          "CMGC",
          "CMGC",
          "CMGC",
          "CMGC",
          "CMGC",
          "CMGC",
          "CMGC",
          "CMGC",
          "CMGC",
          "CMGC",
          "CMGC",
          "CMGC",
          "CMGC",
          "CMGC",
          "CMGC",
          "CMGC",
          "CMGC",
          "CMGC",
          "CMGC",
          "CMGC",
          "CMGC",
          "CMGC",
          "CMGC",
          "CMGC",
          "CMGC"
         ],
         "legendgroup": "CMGC",
         "marker": {
          "color": "#19d3f3",
          "symbol": "circle"
         },
         "mode": "markers",
         "name": "CMGC",
         "orientation": "v",
         "showlegend": true,
         "type": "scatter",
         "x": [
          0.8057158,
          0.8141201,
          0.81906134,
          0.81940037,
          0.8215655,
          0.8165794,
          0.4686917,
          0.49179885,
          0.48861057,
          0.43449286,
          0.48866996,
          0.44912553,
          0.39404774,
          0.36071047,
          0.5112488,
          0.50571156,
          0.5031043,
          0.5180728,
          0.45595258,
          0.4332506,
          0.4372184,
          0.45542228,
          0.45929715,
          0.46950474,
          0.46125865,
          0.479771,
          0.81770575,
          0.798779,
          0.8166015,
          0.81228256,
          0.8117191,
          0.8062139,
          0.6160172,
          0.6435325,
          0.64343244,
          0.6736463,
          0.68591225,
          0.6671906,
          0.6913758,
          0.68320245,
          0.76170117,
          0.6992861,
          0.7087969,
          0.7300174,
          0.72258335,
          0.6201193,
          0.6696151,
          0.65856624,
          0.6524321,
          0.64479107,
          0.7196616,
          0.73226416,
          0.71893173,
          0.7342427,
          0.7013203,
          0.68903494,
          0.6938634,
          0.70057267,
          -0.7528609,
          -0.75521356,
          -0.74466425,
          -0.7382838,
          -0.75076145,
          -0.7529219,
          -0.7540069
         ],
         "xaxis": "x",
         "y": [
          0.5353961,
          0.537473,
          0.5339631,
          0.52853924,
          0.5305229,
          0.53078234,
          0.70507693,
          0.78360987,
          0.78827393,
          0.73233724,
          0.7012596,
          0.71181315,
          0.6232766,
          0.7175765,
          0.7136979,
          0.72052175,
          0.7033736,
          0.70360494,
          0.72660005,
          0.70998424,
          0.6853699,
          0.69345224,
          0.7401755,
          0.75679183,
          0.7691985,
          0.7284789,
          0.406707,
          0.40661547,
          0.40511432,
          0.40091822,
          0.41015005,
          0.4041729,
          0.48843598,
          0.49817076,
          0.4982381,
          0.578057,
          0.58481944,
          0.5904422,
          0.57398856,
          0.5786845,
          0.37739718,
          0.587955,
          0.56344664,
          0.4373411,
          0.4293843,
          0.4076158,
          0.49590003,
          0.39993745,
          0.44125307,
          0.47593227,
          0.5036682,
          0.46741045,
          0.47821397,
          0.5187453,
          0.48097146,
          0.48699352,
          0.45882413,
          0.49822885,
          -0.6259027,
          -0.63496333,
          -0.63835216,
          -0.63397044,
          -0.62825245,
          -0.6364942,
          -0.63242805
         ],
         "yaxis": "y"
        },
        {
         "customdata": [
          [
           287,
           "P51956",
           "NEK"
          ],
          [
           288,
           "Q6P3R8",
           "NEK"
          ],
          [
           289,
           "Q96PY6",
           "NEK"
          ],
          [
           290,
           "Q6ZWH5",
           "NEK"
          ],
          [
           291,
           "Q8NG66",
           "NEK"
          ],
          [
           292,
           "P51955",
           "NEK"
          ],
          [
           293,
           "P51957",
           "NEK"
          ],
          [
           294,
           "Q8TDX7",
           "NEK"
          ],
          [
           295,
           "Q9HC98",
           "NEK"
          ],
          [
           296,
           "Q86SG6",
           "NEK"
          ],
          [
           297,
           "Q8TD19",
           "NEK"
          ]
         ],
         "hovertemplate": "<b>%{hovertext}</b><br><br>label=%{customdata[2]}<br>pm1=%{x}<br>pm2=%{y}<br>proteins_id=%{customdata[0]}<br>accession=%{customdata[1]}<extra></extra>",
         "hovertext": [
          "NEK",
          "NEK",
          "NEK",
          "NEK",
          "NEK",
          "NEK",
          "NEK",
          "NEK",
          "NEK",
          "NEK",
          "NEK"
         ],
         "legendgroup": "NEK",
         "marker": {
          "color": "#FF6692",
          "symbol": "circle"
         },
         "mode": "markers",
         "name": "NEK",
         "orientation": "v",
         "showlegend": true,
         "type": "scatter",
         "x": [
          -0.75142527,
          -0.7492654,
          -0.7469608,
          -0.7468412,
          -0.7503066,
          -0.7480589,
          -0.7453735,
          -0.6922562,
          -0.69353414,
          -0.69483376,
          -0.6943761
         ],
         "xaxis": "x",
         "y": [
          -0.63454074,
          -0.6369665,
          -0.62696564,
          -0.6299026,
          -0.63190174,
          -0.6326887,
          -0.6328993,
          -0.7077559,
          -0.70973074,
          -0.70953465,
          -0.7113527
         ],
         "yaxis": "y"
        },
        {
         "customdata": [
          [
           298,
           "O14965",
           "nan"
          ],
          [
           299,
           "Q96GD4",
           "nan"
          ],
          [
           300,
           "Q9UQB9",
           "nan"
          ],
          [
           301,
           "O43683",
           "nan"
          ],
          [
           302,
           "O60566",
           "nan"
          ],
          [
           303,
           "Q8N5S9",
           "nan"
          ],
          [
           304,
           "Q96RR4",
           "nan"
          ],
          [
           305,
           "O00311",
           "nan"
          ],
          [
           306,
           "Q6XUX3",
           "nan"
          ],
          [
           307,
           "Q8TF76",
           "nan"
          ],
          [
           308,
           "O14920",
           "nan"
          ],
          [
           309,
           "O15111",
           "nan"
          ],
          [
           310,
           "Q14164",
           "nan"
          ],
          [
           311,
           "Q9UHD2",
           "nan"
          ],
          [
           312,
           "O75460",
           "nan"
          ],
          [
           313,
           "Q76MJ5",
           "nan"
          ],
          [
           314,
           "Q8TAS1",
           "nan"
          ],
          [
           315,
           "P00540",
           "nan"
          ],
          [
           316,
           "O14976",
           "nan"
          ],
          [
           317,
           "O75716",
           "nan"
          ],
          [
           318,
           "Q2M2I8",
           "nan"
          ],
          [
           319,
           "Q9NSY1",
           "nan"
          ],
          [
           320,
           "P0C263",
           "nan"
          ],
          [
           321,
           "P0C264",
           "nan"
          ],
          [
           322,
           "Q52WX2",
           "nan"
          ],
          [
           323,
           "Q9BXM7",
           "nan"
          ],
          [
           324,
           "Q6ZS72",
           "nan"
          ],
          [
           325,
           "Q86YV5",
           "nan"
          ],
          [
           326,
           "Q9H792",
           "nan"
          ],
          [
           327,
           "Q8N165",
           "nan"
          ],
          [
           328,
           "Q8TDR2",
           "nan"
          ],
          [
           329,
           "Q8IWB6",
           "nan"
          ],
          [
           330,
           "Q9NSY0",
           "nan"
          ],
          [
           331,
           "Q9UHY1",
           "nan"
          ],
          [
           332,
           "Q58A45",
           "nan"
          ],
          [
           333,
           "P19525",
           "nan"
          ],
          [
           334,
           "Q9BQI3",
           "nan"
          ],
          [
           335,
           "Q9NZJ5",
           "nan"
          ],
          [
           336,
           "Q9P2K8|1",
           "nan"
          ],
          [
           337,
           "Q9P2K8|2",
           "nan"
          ],
          [
           338,
           "O00444",
           "nan"
          ],
          [
           339,
           "P53350",
           "nan"
          ],
          [
           340,
           "Q496M5",
           "nan"
          ],
          [
           341,
           "Q9H4B4",
           "nan"
          ],
          [
           342,
           "Q9NYY3",
           "nan"
          ],
          [
           343,
           "Q9H5K3",
           "nan"
          ],
          [
           344,
           "Q05823",
           "nan"
          ],
          [
           345,
           "Q6P3W7",
           "nan"
          ],
          [
           346,
           "Q8IZE3",
           "nan"
          ],
          [
           347,
           "Q96KG9",
           "nan"
          ],
          [
           348,
           "Q9BXU1",
           "nan"
          ],
          [
           349,
           "Q8NE28",
           "nan"
          ],
          [
           350,
           "Q504Y2",
           "nan"
          ],
          [
           351,
           "Q7Z7A4",
           "nan"
          ],
          [
           352,
           "Q8TEA7",
           "nan"
          ],
          [
           353,
           "Q86UE8",
           "nan"
          ],
          [
           354,
           "Q9UKI8",
           "nan"
          ],
          [
           355,
           "Q96KB5",
           "nan"
          ],
          [
           356,
           "P33981",
           "nan"
          ],
          [
           357,
           "O75385",
           "nan"
          ],
          [
           358,
           "Q6PHR2",
           "nan"
          ],
          [
           359,
           "Q8IYT8",
           "nan"
          ],
          [
           360,
           "Q96C45",
           "nan"
          ],
          [
           361,
           "Q9NRP7",
           "nan"
          ],
          [
           362,
           "Q99570",
           "nan"
          ],
          [
           363,
           "P0C1S8",
           "nan"
          ],
          [
           364,
           "P30291",
           "nan"
          ],
          [
           365,
           "Q99640",
           "nan"
          ],
          [
           366,
           "Q96J92",
           "nan"
          ],
          [
           367,
           "Q9BYP7",
           "nan"
          ],
          [
           368,
           "Q9H4A3",
           "nan"
          ],
          [
           369,
           "Q9Y3S1",
           "nan"
          ]
         ],
         "hovertemplate": "<b>%{hovertext}</b><br><br>label=%{customdata[2]}<br>pm1=%{x}<br>pm2=%{y}<br>proteins_id=%{customdata[0]}<br>accession=%{customdata[1]}<extra></extra>",
         "hovertext": [
          "nan",
          "nan",
          "nan",
          "nan",
          "nan",
          "nan",
          "nan",
          "nan",
          "nan",
          "nan",
          "nan",
          "nan",
          "nan",
          "nan",
          "nan",
          "nan",
          "nan",
          "nan",
          "nan",
          "nan",
          "nan",
          "nan",
          "nan",
          "nan",
          "nan",
          "nan",
          "nan",
          "nan",
          "nan",
          "nan",
          "nan",
          "nan",
          "nan",
          "nan",
          "nan",
          "nan",
          "nan",
          "nan",
          "nan",
          "nan",
          "nan",
          "nan",
          "nan",
          "nan",
          "nan",
          "nan",
          "nan",
          "nan",
          "nan",
          "nan",
          "nan",
          "nan",
          "nan",
          "nan",
          "nan",
          "nan",
          "nan",
          "nan",
          "nan",
          "nan",
          "nan",
          "nan",
          "nan",
          "nan",
          "nan",
          "nan",
          "nan",
          "nan",
          "nan",
          "nan",
          "nan",
          "nan"
         ],
         "legendgroup": "nan",
         "marker": {
          "color": "#B6E880",
          "symbol": "circle"
         },
         "mode": "markers",
         "name": "nan",
         "orientation": "v",
         "showlegend": true,
         "type": "scatter",
         "x": [
          -0.6928641,
          -0.6942647,
          -0.6933741,
          -0.6860578,
          -0.68352175,
          -0.6888524,
          -0.6862912,
          -0.6663551,
          -0.666662,
          -0.6668973,
          -0.54301065,
          -0.54182017,
          -0.5374781,
          -0.53835934,
          -0.5349685,
          -0.5348443,
          -0.5363909,
          -0.5423482,
          -0.53866476,
          -0.540935,
          -0.5461793,
          -0.5443641,
          -0.54193443,
          -0.5394026,
          -0.542871,
          -0.63709587,
          -0.6359469,
          -0.6341344,
          -0.63683707,
          -0.63640213,
          -0.6323454,
          -0.64512837,
          -0.64223695,
          -0.62786186,
          -0.61720014,
          -0.62065715,
          -0.6577249,
          -0.65893203,
          -0.66317147,
          -0.66027683,
          -0.6538665,
          -0.6423658,
          -0.65631044,
          -0.6609149,
          -0.6631113,
          -0.673159,
          -0.6516916,
          -0.64801836,
          -0.6485018,
          -0.627944,
          -0.64542574,
          -0.6039099,
          -0.60865813,
          -0.6063095,
          -0.60432035,
          -0.5998171,
          -0.6077871,
          -0.65800357,
          -0.6554129,
          -0.65628797,
          -0.6543281,
          -0.642015,
          -0.6443297,
          -0.63863605,
          -0.63758,
          -0.65255755,
          -0.64496773,
          -0.57660013,
          -0.5604501,
          -0.49273533,
          -0.51015127,
          -0.5207049
         ],
         "xaxis": "x",
         "y": [
          -0.7112176,
          -0.71031314,
          -0.7105779,
          -0.68852514,
          -0.69167924,
          -0.6975078,
          -0.7000479,
          -0.7118834,
          -0.71001416,
          -0.7100892,
          -0.81594837,
          -0.8195415,
          -0.8297745,
          -0.83151805,
          -0.8283726,
          -0.83095217,
          -0.8313502,
          -0.82799834,
          -0.826928,
          -0.82660985,
          -0.82233113,
          -0.8205592,
          -0.8227342,
          -0.82257235,
          -0.8244171,
          -0.71484715,
          -0.7253458,
          -0.70697886,
          -0.7000064,
          -0.6430212,
          -0.6590735,
          -0.654097,
          -0.65545535,
          -0.65100163,
          -0.7017141,
          -0.71494156,
          -0.71477467,
          -0.70339733,
          -0.7032563,
          -0.69838536,
          -0.6991203,
          -0.6962983,
          -0.68620396,
          -0.70790225,
          -0.6897791,
          -0.69943017,
          -0.7089044,
          -0.6693979,
          -0.6891711,
          -0.6851846,
          -0.68442327,
          -0.7468488,
          -0.7428751,
          -0.7465173,
          -0.74179673,
          -0.7353926,
          -0.7376338,
          -0.7275927,
          -0.7295992,
          -0.7281687,
          -0.7303203,
          -0.73265755,
          -0.7274271,
          -0.7296177,
          -0.732697,
          -0.72319776,
          -0.721265,
          -0.61377,
          -0.7163185,
          -0.76187855,
          -0.7541294,
          -0.7015707
         ],
         "yaxis": "y"
        },
        {
         "customdata": [
          [
           370,
           "P16066",
           "RGC"
          ],
          [
           371,
           "P20594",
           "RGC"
          ],
          [
           372,
           "P25092",
           "RGC"
          ],
          [
           373,
           "P51841",
           "RGC"
          ],
          [
           374,
           "Q02846",
           "RGC"
          ]
         ],
         "hovertemplate": "<b>%{hovertext}</b><br><br>label=%{customdata[2]}<br>pm1=%{x}<br>pm2=%{y}<br>proteins_id=%{customdata[0]}<br>accession=%{customdata[1]}<extra></extra>",
         "hovertext": [
          "RGC",
          "RGC",
          "RGC",
          "RGC",
          "RGC"
         ],
         "legendgroup": "RGC",
         "marker": {
          "color": "#FF97FF",
          "symbol": "circle"
         },
         "mode": "markers",
         "name": "RGC",
         "orientation": "v",
         "showlegend": true,
         "type": "scatter",
         "x": [
          -0.51439404,
          -0.52247775,
          -0.52107406,
          -0.52055883,
          -0.5209474
         ],
         "xaxis": "x",
         "y": [
          -0.70542574,
          -0.7017018,
          -0.7016803,
          -0.7014439,
          -0.7021416
         ],
         "yaxis": "y"
        },
        {
         "customdata": [
          [
           375,
           "P41279",
           "STE"
          ],
          [
           376,
           "Q99558",
           "STE"
          ],
          [
           377,
           "O95382",
           "STE"
          ],
          [
           378,
           "Q13233",
           "STE"
          ],
          [
           379,
           "Q56UN5",
           "STE"
          ],
          [
           380,
           "Q6ZN16",
           "STE"
          ],
          [
           381,
           "Q99683",
           "STE"
          ],
          [
           382,
           "Q99759",
           "STE"
          ],
          [
           383,
           "Q9Y2U5",
           "STE"
          ],
          [
           384,
           "Q9Y6R4",
           "STE"
          ],
          [
           385,
           "O00506",
           "STE"
          ],
          [
           386,
           "O75914",
           "STE"
          ],
          [
           387,
           "O94804",
           "STE"
          ],
          [
           388,
           "O95747",
           "STE"
          ],
          [
           389,
           "O95819",
           "STE"
          ],
          [
           390,
           "O96013",
           "STE"
          ],
          [
           391,
           "Q12851",
           "STE"
          ],
          [
           392,
           "Q13043",
           "STE"
          ],
          [
           393,
           "Q13153",
           "STE"
          ],
          [
           394,
           "Q13177",
           "STE"
          ],
          [
           395,
           "Q13188",
           "STE"
          ],
          [
           396,
           "Q7L7X3",
           "STE"
          ],
          [
           397,
           "Q7RTN6",
           "STE"
          ],
          [
           398,
           "Q7Z2Y5",
           "STE"
          ],
          [
           399,
           "Q8IVH8",
           "STE"
          ],
          [
           400,
           "Q8N4C8",
           "STE"
          ],
          [
           401,
           "Q8NEV4",
           "STE"
          ],
          [
           402,
           "Q8WXR4",
           "STE"
          ],
          [
           403,
           "Q92918",
           "STE"
          ],
          [
           404,
           "Q9C0K7",
           "STE"
          ],
          [
           405,
           "Q9H2G2",
           "STE"
          ],
          [
           406,
           "Q9H2K8",
           "STE"
          ],
          [
           407,
           "Q9NQU5",
           "STE"
          ],
          [
           408,
           "Q9P286",
           "STE"
          ],
          [
           409,
           "Q9P289",
           "STE"
          ],
          [
           410,
           "Q9UEW8",
           "STE"
          ],
          [
           411,
           "Q9UKE5",
           "STE"
          ],
          [
           412,
           "Q9UL54",
           "STE"
          ],
          [
           413,
           "Q9Y4K4",
           "STE"
          ],
          [
           414,
           "Q9Y6E0",
           "STE"
          ],
          [
           415,
           "O14733",
           "STE"
          ],
          [
           416,
           "P36507",
           "STE"
          ],
          [
           417,
           "P45985",
           "STE"
          ],
          [
           418,
           "P46734",
           "STE"
          ],
          [
           419,
           "P52564",
           "STE"
          ],
          [
           420,
           "Q02750",
           "STE"
          ],
          [
           421,
           "Q13163",
           "STE"
          ]
         ],
         "hovertemplate": "<b>%{hovertext}</b><br><br>label=%{customdata[2]}<br>pm1=%{x}<br>pm2=%{y}<br>proteins_id=%{customdata[0]}<br>accession=%{customdata[1]}<extra></extra>",
         "hovertext": [
          "STE",
          "STE",
          "STE",
          "STE",
          "STE",
          "STE",
          "STE",
          "STE",
          "STE",
          "STE",
          "STE",
          "STE",
          "STE",
          "STE",
          "STE",
          "STE",
          "STE",
          "STE",
          "STE",
          "STE",
          "STE",
          "STE",
          "STE",
          "STE",
          "STE",
          "STE",
          "STE",
          "STE",
          "STE",
          "STE",
          "STE",
          "STE",
          "STE",
          "STE",
          "STE",
          "STE",
          "STE",
          "STE",
          "STE",
          "STE",
          "STE",
          "STE",
          "STE",
          "STE",
          "STE",
          "STE",
          "STE"
         ],
         "legendgroup": "STE",
         "marker": {
          "color": "#FECB52",
          "symbol": "circle"
         },
         "mode": "markers",
         "name": "STE",
         "orientation": "v",
         "showlegend": true,
         "type": "scatter",
         "x": [
          -0.4814337,
          -0.47965083,
          -0.491953,
          -0.486935,
          -0.4892968,
          -0.48760718,
          0.41432697,
          0.4269933,
          0.41860595,
          0.4255871,
          0.4143107,
          0.50901055,
          0.5151287,
          0.5601414,
          0.5455192,
          0.55588424,
          0.60177803,
          0.58683527,
          0.6062072,
          0.60064423,
          0.3070125,
          0.41658816,
          0.41352785,
          0.44195044,
          0.37579343,
          0.3653064,
          0.3571164,
          0.34983358,
          0.35894474,
          0.3654899,
          0.36136812,
          0.36950958,
          0.55983645,
          0.54199564,
          0.56033325,
          0.5576751,
          0.5556227,
          0.55386174,
          0.54719627,
          0.5508223,
          0.55403465,
          0.55002546,
          0.42306554,
          0.5088869,
          0.5014026,
          0.48730817,
          0.51861066
         ],
         "xaxis": "x",
         "y": [
          -0.7617642,
          -0.752619,
          -0.7493997,
          -0.76062953,
          -0.7621747,
          -0.7603844,
          -0.549025,
          -0.54350173,
          -0.55286473,
          -0.55246913,
          -0.5491179,
          -0.5866882,
          -0.6064301,
          -0.56834847,
          -0.56706756,
          -0.52913356,
          -0.5501765,
          -0.55399823,
          -0.57629395,
          -0.57558507,
          -0.65338147,
          -0.6765573,
          -0.6024591,
          -0.69663405,
          -0.86695254,
          -0.8323572,
          -0.8860523,
          -0.8742984,
          -0.87851083,
          -0.8761191,
          -0.8674397,
          -0.8813885,
          -0.7935929,
          -0.7829592,
          -0.8006673,
          -0.8044258,
          -0.7999918,
          -0.8019413,
          -0.8030011,
          -0.8070267,
          -0.8054957,
          -0.79894763,
          -0.73914087,
          -0.7348652,
          -0.74551916,
          -0.74603844,
          -0.7543241
         ],
         "yaxis": "y"
        },
        {
         "customdata": [
          [
           422,
           "O43187",
           "TKL"
          ],
          [
           423,
           "P51617",
           "TKL"
          ],
          [
           424,
           "Q9NWZ3",
           "TKL"
          ],
          [
           425,
           "Q9Y616",
           "TKL"
          ],
          [
           426,
           "P53667",
           "TKL"
          ],
          [
           427,
           "P53671",
           "TKL"
          ],
          [
           428,
           "Q38SD2",
           "TKL"
          ],
          [
           429,
           "Q5S007",
           "TKL"
          ],
          [
           430,
           "O43283",
           "TKL"
          ],
          [
           431,
           "O43318",
           "TKL"
          ],
          [
           432,
           "P80192",
           "TKL"
          ],
          [
           433,
           "Q02779",
           "TKL"
          ],
          [
           434,
           "Q12852",
           "TKL"
          ],
          [
           435,
           "Q13418",
           "TKL"
          ],
          [
           436,
           "Q16584",
           "TKL"
          ],
          [
           437,
           "Q59H18",
           "TKL"
          ],
          [
           438,
           "Q5TCX8",
           "TKL"
          ],
          [
           439,
           "Q9NYL2",
           "TKL"
          ],
          [
           440,
           "P04049",
           "TKL"
          ],
          [
           441,
           "P10398",
           "TKL"
          ],
          [
           442,
           "P15056",
           "TKL"
          ],
          [
           443,
           "Q6VAB6",
           "TKL"
          ],
          [
           444,
           "Q8IVT5",
           "TKL"
          ],
          [
           445,
           "O43353",
           "TKL"
          ],
          [
           446,
           "P57078",
           "TKL"
          ],
          [
           447,
           "Q13546",
           "TKL"
          ],
          [
           448,
           "Q8NFD2",
           "TKL"
          ],
          [
           449,
           "Q9Y572",
           "TKL"
          ],
          [
           450,
           "O00238",
           "TKL"
          ],
          [
           451,
           "P27037",
           "TKL"
          ],
          [
           452,
           "P36894",
           "TKL"
          ],
          [
           453,
           "P36896",
           "TKL"
          ],
          [
           454,
           "P36897",
           "TKL"
          ],
          [
           455,
           "P37023",
           "TKL"
          ],
          [
           456,
           "P37173",
           "TKL"
          ],
          [
           457,
           "Q04771",
           "TKL"
          ],
          [
           458,
           "Q13705",
           "TKL"
          ],
          [
           459,
           "Q13873",
           "TKL"
          ],
          [
           460,
           "Q16671",
           "TKL"
          ],
          [
           461,
           "Q8NER5",
           "TKL"
          ],
          [
           462,
           "Q15569",
           "TKL"
          ],
          [
           463,
           "Q96S53",
           "TKL"
          ],
          [
           464,
           "Q8NB16",
           "TKL"
          ]
         ],
         "hovertemplate": "<b>%{hovertext}</b><br><br>label=%{customdata[2]}<br>pm1=%{x}<br>pm2=%{y}<br>proteins_id=%{customdata[0]}<br>accession=%{customdata[1]}<extra></extra>",
         "hovertext": [
          "TKL",
          "TKL",
          "TKL",
          "TKL",
          "TKL",
          "TKL",
          "TKL",
          "TKL",
          "TKL",
          "TKL",
          "TKL",
          "TKL",
          "TKL",
          "TKL",
          "TKL",
          "TKL",
          "TKL",
          "TKL",
          "TKL",
          "TKL",
          "TKL",
          "TKL",
          "TKL",
          "TKL",
          "TKL",
          "TKL",
          "TKL",
          "TKL",
          "TKL",
          "TKL",
          "TKL",
          "TKL",
          "TKL",
          "TKL",
          "TKL",
          "TKL",
          "TKL",
          "TKL",
          "TKL",
          "TKL",
          "TKL",
          "TKL",
          "TKL"
         ],
         "legendgroup": "TKL",
         "marker": {
          "color": "#636efa",
          "symbol": "circle"
         },
         "mode": "markers",
         "name": "TKL",
         "orientation": "v",
         "showlegend": true,
         "type": "scatter",
         "x": [
          0.51147586,
          0.51642525,
          0.04077479,
          0.052147128,
          0.06809021,
          0.056972694,
          0.05119876,
          0.0721262,
          0.061872322,
          0.20009418,
          0.17551659,
          0.175781,
          0.17588495,
          0.09129275,
          0.18355726,
          0.16360034,
          0.21392903,
          0.18698801,
          0.160436,
          0.17090765,
          0.12675036,
          0.1314933,
          0.13148327,
          0.14200717,
          0.58480567,
          0.57823426,
          0.5774826,
          0.5771358,
          0.39320353,
          0.3804821,
          0.38014394,
          0.50590235,
          0.40010336,
          0.3967098,
          0.39505398,
          0.7192383,
          0.7194407,
          0.717233,
          0.66425663,
          0.72131056,
          0.69984335,
          0.71935815,
          -0.77609825
         ],
         "xaxis": "x",
         "y": [
          -0.7453638,
          -0.7417663,
          -0.92987967,
          -0.9356037,
          -0.91552204,
          -0.92600566,
          -0.91323483,
          -0.9321899,
          -0.936074,
          -0.5122348,
          -0.52787125,
          -0.527652,
          -0.5266354,
          -0.8486596,
          -0.73094594,
          -0.7196569,
          -0.6932034,
          -0.677366,
          -0.6819082,
          -0.64541197,
          -0.68047184,
          -0.67955303,
          -0.679522,
          -0.6731633,
          -0.25213003,
          -0.25054517,
          -0.2504535,
          -0.25044614,
          -0.40182334,
          -0.34563127,
          -0.34568825,
          -0.3274074,
          -0.3689386,
          -0.36577848,
          -0.35047716,
          -0.2779266,
          -0.27787292,
          -0.27752164,
          -0.28307623,
          -0.27823004,
          -0.27912953,
          -0.27787137,
          -0.5051455
         ],
         "yaxis": "y"
        },
        {
         "customdata": [
          [
           465,
           "P29376",
           "TK"
          ],
          [
           466,
           "Q9UM73",
           "TK"
          ],
          [
           467,
           "P00519",
           "TK"
          ],
          [
           468,
           "P42684",
           "TK"
          ],
          [
           469,
           "Q07912",
           "TK"
          ],
          [
           470,
           "Q13470",
           "TK"
          ],
          [
           471,
           "P30530",
           "TK"
          ],
          [
           472,
           "Q06418",
           "TK"
          ],
          [
           473,
           "Q12866",
           "TK"
          ],
          [
           474,
           "Q13308",
           "TK"
          ],
          [
           475,
           "P41240",
           "TK"
          ],
          [
           476,
           "P42679",
           "TK"
          ],
          [
           477,
           "Q08345",
           "TK"
          ],
          [
           478,
           "Q16832",
           "TK"
          ],
          [
           479,
           "P00533",
           "TK"
          ],
          [
           480,
           "P04626",
           "TK"
          ],
          [
           481,
           "P21860",
           "TK"
          ],
          [
           482,
           "Q15303",
           "TK"
          ],
          [
           483,
           "O15197",
           "TK"
          ],
          [
           484,
           "P21709",
           "TK"
          ],
          [
           485,
           "P29317",
           "TK"
          ],
          [
           486,
           "P29320",
           "TK"
          ],
          [
           487,
           "P29322",
           "TK"
          ],
          [
           488,
           "P29323",
           "TK"
          ],
          [
           489,
           "P54753",
           "TK"
          ],
          [
           490,
           "P54756",
           "TK"
          ],
          [
           491,
           "P54760",
           "TK"
          ],
          [
           492,
           "P54762",
           "TK"
          ],
          [
           493,
           "P54764",
           "TK"
          ],
          [
           494,
           "Q15375",
           "TK"
          ],
          [
           495,
           "Q5JZY3",
           "TK"
          ],
          [
           496,
           "Q9UF33",
           "TK"
          ],
          [
           497,
           "Q05397",
           "TK"
          ],
          [
           498,
           "Q14289",
           "TK"
          ],
          [
           499,
           "P11362",
           "TK"
          ],
          [
           500,
           "P21802",
           "TK"
          ],
          [
           501,
           "P22455",
           "TK"
          ],
          [
           502,
           "P22607",
           "TK"
          ],
          [
           503,
           "P07332",
           "TK"
          ],
          [
           504,
           "P16591",
           "TK"
          ],
          [
           505,
           "P06213",
           "TK"
          ],
          [
           506,
           "P08069",
           "TK"
          ],
          [
           507,
           "P14616",
           "TK"
          ],
          [
           508,
           "O60674|1",
           "TK"
          ],
          [
           509,
           "P23458|1",
           "TK"
          ],
          [
           510,
           "P29597|1",
           "TK"
          ],
          [
           511,
           "P52333|1",
           "TK"
          ],
          [
           512,
           "O60674|2",
           "TK"
          ],
          [
           513,
           "P23458|2",
           "TK"
          ],
          [
           514,
           "P29597|2",
           "TK"
          ],
          [
           515,
           "P52333|2",
           "TK"
          ],
          [
           516,
           "Q6ZMQ8",
           "TK"
          ],
          [
           517,
           "Q8IWU2",
           "TK"
          ],
          [
           518,
           "Q96Q04",
           "TK"
          ],
          [
           519,
           "P08581",
           "TK"
          ],
          [
           520,
           "Q04912",
           "TK"
          ],
          [
           521,
           "O15146",
           "TK"
          ],
          [
           522,
           "P07333",
           "TK"
          ],
          [
           523,
           "P09619",
           "TK"
          ],
          [
           524,
           "P10721",
           "TK"
          ],
          [
           525,
           "P16234",
           "TK"
          ],
          [
           526,
           "P36888",
           "TK"
          ],
          [
           527,
           "P07949",
           "TK"
          ],
          [
           528,
           "Q01973",
           "TK"
          ],
          [
           529,
           "Q01974",
           "TK"
          ],
          [
           530,
           "P34925",
           "TK"
          ],
          [
           531,
           "Q6J9G0",
           "TK"
          ],
          [
           532,
           "P08922",
           "TK"
          ],
          [
           533,
           "P06239",
           "TK"
          ],
          [
           534,
           "P06241",
           "TK"
          ],
          [
           535,
           "P07947",
           "TK"
          ],
          [
           536,
           "P07948",
           "TK"
          ],
          [
           537,
           "P08631",
           "TK"
          ],
          [
           538,
           "P09769",
           "TK"
          ],
          [
           539,
           "P12931",
           "TK"
          ],
          [
           540,
           "P42685",
           "TK"
          ],
          [
           541,
           "P51451",
           "TK"
          ],
          [
           542,
           "Q13882",
           "TK"
          ],
          [
           543,
           "Q9H3Y6",
           "TK"
          ],
          [
           544,
           "P43403",
           "TK"
          ],
          [
           545,
           "P43405",
           "TK"
          ],
          [
           546,
           "P42680",
           "TK"
          ],
          [
           547,
           "P42681",
           "TK"
          ],
          [
           548,
           "P51813",
           "TK"
          ],
          [
           549,
           "Q06187",
           "TK"
          ],
          [
           550,
           "Q08881",
           "TK"
          ],
          [
           551,
           "P35590",
           "TK"
          ],
          [
           552,
           "Q02763",
           "TK"
          ],
          [
           553,
           "P04629",
           "TK"
          ],
          [
           554,
           "Q16288",
           "TK"
          ],
          [
           555,
           "Q16620",
           "TK"
          ],
          [
           556,
           "P17948",
           "TK"
          ],
          [
           557,
           "P35916",
           "TK"
          ],
          [
           558,
           "P35968",
           "TK"
          ]
         ],
         "hovertemplate": "<b>%{hovertext}</b><br><br>label=%{customdata[2]}<br>pm1=%{x}<br>pm2=%{y}<br>proteins_id=%{customdata[0]}<br>accession=%{customdata[1]}<extra></extra>",
         "hovertext": [
          "TK",
          "TK",
          "TK",
          "TK",
          "TK",
          "TK",
          "TK",
          "TK",
          "TK",
          "TK",
          "TK",
          "TK",
          "TK",
          "TK",
          "TK",
          "TK",
          "TK",
          "TK",
          "TK",
          "TK",
          "TK",
          "TK",
          "TK",
          "TK",
          "TK",
          "TK",
          "TK",
          "TK",
          "TK",
          "TK",
          "TK",
          "TK",
          "TK",
          "TK",
          "TK",
          "TK",
          "TK",
          "TK",
          "TK",
          "TK",
          "TK",
          "TK",
          "TK",
          "TK",
          "TK",
          "TK",
          "TK",
          "TK",
          "TK",
          "TK",
          "TK",
          "TK",
          "TK",
          "TK",
          "TK",
          "TK",
          "TK",
          "TK",
          "TK",
          "TK",
          "TK",
          "TK",
          "TK",
          "TK",
          "TK",
          "TK",
          "TK",
          "TK",
          "TK",
          "TK",
          "TK",
          "TK",
          "TK",
          "TK",
          "TK",
          "TK",
          "TK",
          "TK",
          "TK",
          "TK",
          "TK",
          "TK",
          "TK",
          "TK",
          "TK",
          "TK",
          "TK",
          "TK",
          "TK",
          "TK",
          "TK",
          "TK",
          "TK",
          "TK"
         ],
         "legendgroup": "TK",
         "marker": {
          "color": "#EF553B",
          "symbol": "circle"
         },
         "mode": "markers",
         "name": "TK",
         "orientation": "v",
         "showlegend": true,
         "type": "scatter",
         "x": [
          -0.76656824,
          -0.77395093,
          -0.7847649,
          -0.7733537,
          -0.7508487,
          -0.73774076,
          -0.8536868,
          -0.8289981,
          -0.8408214,
          -0.8582743,
          -0.8448895,
          -0.84871894,
          -0.84709615,
          -0.87008893,
          -0.86192197,
          -0.8978439,
          -0.877628,
          -0.8897573,
          -0.88929194,
          -0.88580245,
          -0.8966371,
          -0.8913212,
          -0.8867021,
          -0.8733295,
          -0.8916584,
          -0.8904714,
          -0.90069795,
          -0.83942753,
          -0.78798896,
          -0.8153407,
          -0.82220775,
          -0.81350714,
          -0.29795536,
          -0.26886523,
          -0.2866072,
          -0.26687893,
          0.00944783,
          0.018670365,
          -0.113358244,
          -0.14671561,
          -0.16902055,
          -0.050642207,
          -0.071840644,
          -0.1951,
          -0.08304034,
          -0.5241564,
          -0.5074784,
          -0.4398835,
          -0.4339386,
          -0.5969367,
          -0.588538,
          -0.53679556,
          -0.8001562,
          -0.7846988,
          -0.85062855,
          -0.86748946,
          -0.79398847,
          -0.82319415,
          -0.860434,
          -0.8782045,
          -0.82172924,
          -0.8564522,
          -0.8401605,
          -0.8361544,
          -0.84670347,
          -0.73586965,
          -0.7363728,
          -0.77654564,
          -0.78161865,
          -0.76412904,
          -0.7169867,
          -0.7105091,
          -0.7342574,
          -0.7913856,
          -0.8070641,
          -0.75997823,
          -0.7994094,
          0.82439387,
          -0.69667065,
          -0.72043264,
          -0.67906547,
          -0.6787358,
          -0.59362984,
          -0.8376507,
          -0.71937793,
          -0.87462246,
          -0.9151587,
          -0.919664,
          -0.92185557,
          -0.87843144,
          -0.894913,
          -0.90869004,
          -0.90350825,
          -0.894526
         ],
         "xaxis": "x",
         "y": [
          -0.50155777,
          -0.5150075,
          -0.5069971,
          -0.4850253,
          -0.50957865,
          -0.47987145,
          -0.4100133,
          -0.42598066,
          -0.41300422,
          -0.42084685,
          -0.4022865,
          -0.42021504,
          -0.4268893,
          -0.37653932,
          -0.39150843,
          -0.355556,
          -0.35682708,
          -0.35293123,
          -0.35988376,
          -0.34547597,
          -0.34698263,
          -0.3423981,
          -0.33321843,
          -0.32514802,
          -0.32850194,
          -0.31984332,
          -0.33003104,
          -0.37883618,
          -0.3814703,
          -0.3290022,
          -0.35282075,
          -0.38114178,
          -0.007530053,
          -0.04239027,
          -0.0775952,
          -0.041806594,
          -0.1293756,
          -0.1241659,
          -0.012901837,
          0.013324292,
          -0.03438138,
          -0.042240873,
          -0.09916641,
          0.00310945,
          -0.051404692,
          0.20919955,
          0.2805649,
          0.27507278,
          0.26443455,
          0.41135627,
          0.26227683,
          0.31085294,
          0.076093875,
          0.13913676,
          -0.03415973,
          -0.047196586,
          -0.058045615,
          -0.014214787,
          -0.13065279,
          -0.098135166,
          -0.11085639,
          -0.08309783,
          -0.09176592,
          -0.15507032,
          -0.114527784,
          0.2746513,
          0.27637148,
          0.23481685,
          0.2451041,
          0.20330311,
          0.26192418,
          0.2275666,
          0.24137707,
          0.29291922,
          0.27173415,
          0.22825511,
          0.28076133,
          -0.4529597,
          0.06980838,
          0.004088754,
          0.055725843,
          0.055848863,
          0.102304004,
          0.12670107,
          0.12876967,
          0.07693717,
          0.16042534,
          0.15230279,
          0.14217219,
          0.13958935,
          0.15525952,
          0.12652034,
          0.14147884,
          0.12804098
         ],
         "yaxis": "y"
        }
       ],
       "layout": {
        "font": {
         "size": 11
        },
        "height": 800,
        "legend": {
         "title": {
          "text": "label"
         },
         "tracegroupgap": 0
        },
        "plot_bgcolor": "rgba(0, 0, 0, 0)",
        "shapes": [
         {
          "line": {
           "color": "black",
           "dash": "dot"
          },
          "opacity": 0.15,
          "type": "circle",
          "x0": -0.47058823529411764,
          "x1": 0.47058823529411764,
          "y0": -0.47058823529411764,
          "y1": 0.47058823529411764
         },
         {
          "line": {
           "color": "black",
           "dash": "dot"
          },
          "opacity": 0.15,
          "type": "circle",
          "x0": -0.644736842105263,
          "x1": 0.644736842105263,
          "y0": -0.644736842105263,
          "y1": 0.644736842105263
         },
         {
          "line": {
           "color": "black",
           "dash": "dot"
          },
          "opacity": 0.15,
          "type": "circle",
          "x0": -0.7705382436260623,
          "x1": 0.7705382436260623,
          "y0": -0.7705382436260623,
          "y1": 0.7705382436260623
         },
         {
          "line": {
           "color": "black",
           "dash": "dot"
          },
          "opacity": 0.15,
          "type": "circle",
          "x0": -0.8557007125890735,
          "x1": 0.8557007125890735,
          "y0": -0.8557007125890735,
          "y1": 0.8557007125890735
         },
         {
          "line": {
           "color": "black",
           "dash": "dot"
          },
          "opacity": 0.15,
          "type": "circle",
          "x0": -0.9108474990827932,
          "x1": 0.9108474990827932,
          "y0": -0.9108474990827932,
          "y1": 0.9108474990827932
         },
         {
          "line": {
           "color": "black",
           "dash": "dot"
          },
          "opacity": 0.15,
          "type": "circle",
          "x0": -0.9455374041239167,
          "x1": 0.9455374041239167,
          "y0": -0.9455374041239167,
          "y1": 0.9455374041239167
         },
         {
          "line": {
           "color": "Black"
          },
          "type": "circle",
          "x0": -1,
          "x1": 1,
          "xref": "x",
          "y0": -1,
          "y1": 1,
          "yref": "y"
         },
         {
          "fillcolor": "Black",
          "line": {
           "color": "Black"
          },
          "type": "circle",
          "x0": -0.005,
          "x1": 0.005,
          "xref": "x",
          "y0": -0.005,
          "y1": 0.005,
          "yref": "y"
         }
        ],
        "template": {
         "data": {
          "bar": [
           {
            "error_x": {
             "color": "#2a3f5f"
            },
            "error_y": {
             "color": "#2a3f5f"
            },
            "marker": {
             "line": {
              "color": "#E5ECF6",
              "width": 0.5
             },
             "pattern": {
              "fillmode": "overlay",
              "size": 10,
              "solidity": 0.2
             }
            },
            "type": "bar"
           }
          ],
          "barpolar": [
           {
            "marker": {
             "line": {
              "color": "#E5ECF6",
              "width": 0.5
             },
             "pattern": {
              "fillmode": "overlay",
              "size": 10,
              "solidity": 0.2
             }
            },
            "type": "barpolar"
           }
          ],
          "carpet": [
           {
            "aaxis": {
             "endlinecolor": "#2a3f5f",
             "gridcolor": "white",
             "linecolor": "white",
             "minorgridcolor": "white",
             "startlinecolor": "#2a3f5f"
            },
            "baxis": {
             "endlinecolor": "#2a3f5f",
             "gridcolor": "white",
             "linecolor": "white",
             "minorgridcolor": "white",
             "startlinecolor": "#2a3f5f"
            },
            "type": "carpet"
           }
          ],
          "choropleth": [
           {
            "colorbar": {
             "outlinewidth": 0,
             "ticks": ""
            },
            "type": "choropleth"
           }
          ],
          "contour": [
           {
            "colorbar": {
             "outlinewidth": 0,
             "ticks": ""
            },
            "colorscale": [
             [
              0,
              "#0d0887"
             ],
             [
              0.1111111111111111,
              "#46039f"
             ],
             [
              0.2222222222222222,
              "#7201a8"
             ],
             [
              0.3333333333333333,
              "#9c179e"
             ],
             [
              0.4444444444444444,
              "#bd3786"
             ],
             [
              0.5555555555555556,
              "#d8576b"
             ],
             [
              0.6666666666666666,
              "#ed7953"
             ],
             [
              0.7777777777777778,
              "#fb9f3a"
             ],
             [
              0.8888888888888888,
              "#fdca26"
             ],
             [
              1,
              "#f0f921"
             ]
            ],
            "type": "contour"
           }
          ],
          "contourcarpet": [
           {
            "colorbar": {
             "outlinewidth": 0,
             "ticks": ""
            },
            "type": "contourcarpet"
           }
          ],
          "heatmap": [
           {
            "colorbar": {
             "outlinewidth": 0,
             "ticks": ""
            },
            "colorscale": [
             [
              0,
              "#0d0887"
             ],
             [
              0.1111111111111111,
              "#46039f"
             ],
             [
              0.2222222222222222,
              "#7201a8"
             ],
             [
              0.3333333333333333,
              "#9c179e"
             ],
             [
              0.4444444444444444,
              "#bd3786"
             ],
             [
              0.5555555555555556,
              "#d8576b"
             ],
             [
              0.6666666666666666,
              "#ed7953"
             ],
             [
              0.7777777777777778,
              "#fb9f3a"
             ],
             [
              0.8888888888888888,
              "#fdca26"
             ],
             [
              1,
              "#f0f921"
             ]
            ],
            "type": "heatmap"
           }
          ],
          "heatmapgl": [
           {
            "colorbar": {
             "outlinewidth": 0,
             "ticks": ""
            },
            "colorscale": [
             [
              0,
              "#0d0887"
             ],
             [
              0.1111111111111111,
              "#46039f"
             ],
             [
              0.2222222222222222,
              "#7201a8"
             ],
             [
              0.3333333333333333,
              "#9c179e"
             ],
             [
              0.4444444444444444,
              "#bd3786"
             ],
             [
              0.5555555555555556,
              "#d8576b"
             ],
             [
              0.6666666666666666,
              "#ed7953"
             ],
             [
              0.7777777777777778,
              "#fb9f3a"
             ],
             [
              0.8888888888888888,
              "#fdca26"
             ],
             [
              1,
              "#f0f921"
             ]
            ],
            "type": "heatmapgl"
           }
          ],
          "histogram": [
           {
            "marker": {
             "pattern": {
              "fillmode": "overlay",
              "size": 10,
              "solidity": 0.2
             }
            },
            "type": "histogram"
           }
          ],
          "histogram2d": [
           {
            "colorbar": {
             "outlinewidth": 0,
             "ticks": ""
            },
            "colorscale": [
             [
              0,
              "#0d0887"
             ],
             [
              0.1111111111111111,
              "#46039f"
             ],
             [
              0.2222222222222222,
              "#7201a8"
             ],
             [
              0.3333333333333333,
              "#9c179e"
             ],
             [
              0.4444444444444444,
              "#bd3786"
             ],
             [
              0.5555555555555556,
              "#d8576b"
             ],
             [
              0.6666666666666666,
              "#ed7953"
             ],
             [
              0.7777777777777778,
              "#fb9f3a"
             ],
             [
              0.8888888888888888,
              "#fdca26"
             ],
             [
              1,
              "#f0f921"
             ]
            ],
            "type": "histogram2d"
           }
          ],
          "histogram2dcontour": [
           {
            "colorbar": {
             "outlinewidth": 0,
             "ticks": ""
            },
            "colorscale": [
             [
              0,
              "#0d0887"
             ],
             [
              0.1111111111111111,
              "#46039f"
             ],
             [
              0.2222222222222222,
              "#7201a8"
             ],
             [
              0.3333333333333333,
              "#9c179e"
             ],
             [
              0.4444444444444444,
              "#bd3786"
             ],
             [
              0.5555555555555556,
              "#d8576b"
             ],
             [
              0.6666666666666666,
              "#ed7953"
             ],
             [
              0.7777777777777778,
              "#fb9f3a"
             ],
             [
              0.8888888888888888,
              "#fdca26"
             ],
             [
              1,
              "#f0f921"
             ]
            ],
            "type": "histogram2dcontour"
           }
          ],
          "mesh3d": [
           {
            "colorbar": {
             "outlinewidth": 0,
             "ticks": ""
            },
            "type": "mesh3d"
           }
          ],
          "parcoords": [
           {
            "line": {
             "colorbar": {
              "outlinewidth": 0,
              "ticks": ""
             }
            },
            "type": "parcoords"
           }
          ],
          "pie": [
           {
            "automargin": true,
            "type": "pie"
           }
          ],
          "scatter": [
           {
            "fillpattern": {
             "fillmode": "overlay",
             "size": 10,
             "solidity": 0.2
            },
            "type": "scatter"
           }
          ],
          "scatter3d": [
           {
            "line": {
             "colorbar": {
              "outlinewidth": 0,
              "ticks": ""
             }
            },
            "marker": {
             "colorbar": {
              "outlinewidth": 0,
              "ticks": ""
             }
            },
            "type": "scatter3d"
           }
          ],
          "scattercarpet": [
           {
            "marker": {
             "colorbar": {
              "outlinewidth": 0,
              "ticks": ""
             }
            },
            "type": "scattercarpet"
           }
          ],
          "scattergeo": [
           {
            "marker": {
             "colorbar": {
              "outlinewidth": 0,
              "ticks": ""
             }
            },
            "type": "scattergeo"
           }
          ],
          "scattergl": [
           {
            "marker": {
             "colorbar": {
              "outlinewidth": 0,
              "ticks": ""
             }
            },
            "type": "scattergl"
           }
          ],
          "scattermapbox": [
           {
            "marker": {
             "colorbar": {
              "outlinewidth": 0,
              "ticks": ""
             }
            },
            "type": "scattermapbox"
           }
          ],
          "scatterpolar": [
           {
            "marker": {
             "colorbar": {
              "outlinewidth": 0,
              "ticks": ""
             }
            },
            "type": "scatterpolar"
           }
          ],
          "scatterpolargl": [
           {
            "marker": {
             "colorbar": {
              "outlinewidth": 0,
              "ticks": ""
             }
            },
            "type": "scatterpolargl"
           }
          ],
          "scatterternary": [
           {
            "marker": {
             "colorbar": {
              "outlinewidth": 0,
              "ticks": ""
             }
            },
            "type": "scatterternary"
           }
          ],
          "surface": [
           {
            "colorbar": {
             "outlinewidth": 0,
             "ticks": ""
            },
            "colorscale": [
             [
              0,
              "#0d0887"
             ],
             [
              0.1111111111111111,
              "#46039f"
             ],
             [
              0.2222222222222222,
              "#7201a8"
             ],
             [
              0.3333333333333333,
              "#9c179e"
             ],
             [
              0.4444444444444444,
              "#bd3786"
             ],
             [
              0.5555555555555556,
              "#d8576b"
             ],
             [
              0.6666666666666666,
              "#ed7953"
             ],
             [
              0.7777777777777778,
              "#fb9f3a"
             ],
             [
              0.8888888888888888,
              "#fdca26"
             ],
             [
              1,
              "#f0f921"
             ]
            ],
            "type": "surface"
           }
          ],
          "table": [
           {
            "cells": {
             "fill": {
              "color": "#EBF0F8"
             },
             "line": {
              "color": "white"
             }
            },
            "header": {
             "fill": {
              "color": "#C8D4E3"
             },
             "line": {
              "color": "white"
             }
            },
            "type": "table"
           }
          ]
         },
         "layout": {
          "annotationdefaults": {
           "arrowcolor": "#2a3f5f",
           "arrowhead": 0,
           "arrowwidth": 1
          },
          "autotypenumbers": "strict",
          "coloraxis": {
           "colorbar": {
            "outlinewidth": 0,
            "ticks": ""
           }
          },
          "colorscale": {
           "diverging": [
            [
             0,
             "#8e0152"
            ],
            [
             0.1,
             "#c51b7d"
            ],
            [
             0.2,
             "#de77ae"
            ],
            [
             0.3,
             "#f1b6da"
            ],
            [
             0.4,
             "#fde0ef"
            ],
            [
             0.5,
             "#f7f7f7"
            ],
            [
             0.6,
             "#e6f5d0"
            ],
            [
             0.7,
             "#b8e186"
            ],
            [
             0.8,
             "#7fbc41"
            ],
            [
             0.9,
             "#4d9221"
            ],
            [
             1,
             "#276419"
            ]
           ],
           "sequential": [
            [
             0,
             "#0d0887"
            ],
            [
             0.1111111111111111,
             "#46039f"
            ],
            [
             0.2222222222222222,
             "#7201a8"
            ],
            [
             0.3333333333333333,
             "#9c179e"
            ],
            [
             0.4444444444444444,
             "#bd3786"
            ],
            [
             0.5555555555555556,
             "#d8576b"
            ],
            [
             0.6666666666666666,
             "#ed7953"
            ],
            [
             0.7777777777777778,
             "#fb9f3a"
            ],
            [
             0.8888888888888888,
             "#fdca26"
            ],
            [
             1,
             "#f0f921"
            ]
           ],
           "sequentialminus": [
            [
             0,
             "#0d0887"
            ],
            [
             0.1111111111111111,
             "#46039f"
            ],
            [
             0.2222222222222222,
             "#7201a8"
            ],
            [
             0.3333333333333333,
             "#9c179e"
            ],
            [
             0.4444444444444444,
             "#bd3786"
            ],
            [
             0.5555555555555556,
             "#d8576b"
            ],
            [
             0.6666666666666666,
             "#ed7953"
            ],
            [
             0.7777777777777778,
             "#fb9f3a"
            ],
            [
             0.8888888888888888,
             "#fdca26"
            ],
            [
             1,
             "#f0f921"
            ]
           ]
          },
          "colorway": [
           "#636efa",
           "#EF553B",
           "#00cc96",
           "#ab63fa",
           "#FFA15A",
           "#19d3f3",
           "#FF6692",
           "#B6E880",
           "#FF97FF",
           "#FECB52"
          ],
          "font": {
           "color": "#2a3f5f"
          },
          "geo": {
           "bgcolor": "white",
           "lakecolor": "white",
           "landcolor": "#E5ECF6",
           "showlakes": true,
           "showland": true,
           "subunitcolor": "white"
          },
          "hoverlabel": {
           "align": "left"
          },
          "hovermode": "closest",
          "mapbox": {
           "style": "light"
          },
          "paper_bgcolor": "white",
          "plot_bgcolor": "#E5ECF6",
          "polar": {
           "angularaxis": {
            "gridcolor": "white",
            "linecolor": "white",
            "ticks": ""
           },
           "bgcolor": "#E5ECF6",
           "radialaxis": {
            "gridcolor": "white",
            "linecolor": "white",
            "ticks": ""
           }
          },
          "scene": {
           "xaxis": {
            "backgroundcolor": "#E5ECF6",
            "gridcolor": "white",
            "gridwidth": 2,
            "linecolor": "white",
            "showbackground": true,
            "ticks": "",
            "zerolinecolor": "white"
           },
           "yaxis": {
            "backgroundcolor": "#E5ECF6",
            "gridcolor": "white",
            "gridwidth": 2,
            "linecolor": "white",
            "showbackground": true,
            "ticks": "",
            "zerolinecolor": "white"
           },
           "zaxis": {
            "backgroundcolor": "#E5ECF6",
            "gridcolor": "white",
            "gridwidth": 2,
            "linecolor": "white",
            "showbackground": true,
            "ticks": "",
            "zerolinecolor": "white"
           }
          },
          "shapedefaults": {
           "line": {
            "color": "#2a3f5f"
           }
          },
          "ternary": {
           "aaxis": {
            "gridcolor": "white",
            "linecolor": "white",
            "ticks": ""
           },
           "baxis": {
            "gridcolor": "white",
            "linecolor": "white",
            "ticks": ""
           },
           "bgcolor": "#E5ECF6",
           "caxis": {
            "gridcolor": "white",
            "linecolor": "white",
            "ticks": ""
           }
          },
          "title": {
           "x": 0.05
          },
          "xaxis": {
           "automargin": true,
           "gridcolor": "white",
           "linecolor": "white",
           "ticks": "",
           "title": {
            "standoff": 15
           },
           "zerolinecolor": "white",
           "zerolinewidth": 2
          },
          "yaxis": {
           "automargin": true,
           "gridcolor": "white",
           "linecolor": "white",
           "ticks": "",
           "title": {
            "standoff": 15
           },
           "zerolinecolor": "white",
           "zerolinewidth": 2
          }
         }
        },
        "title": {
         "text": "PM projection of kinases",
         "x": 0.5
        },
        "xaxis": {
         "anchor": "y",
         "constrain": "domain",
         "domain": [
          0,
          1
         ],
         "range": [
          -1.1,
          1.1
         ],
         "title": {
          "text": "pm1"
         }
        },
        "yaxis": {
         "anchor": "x",
         "domain": [
          0,
          1
         ],
         "scaleanchor": "x",
         "scaleratio": 1,
         "title": {
          "text": "pm2"
         }
        },
        "yaxis2": {
         "layer": "below traces",
         "matches": "y",
         "overlaying": "y"
        }
       }
      }
     },
     "metadata": {},
     "output_type": "display_data"
    }
   ],
   "source": [
    "# OPTIONS =================================================\n",
    "#Here you can set different parameters to color & annotate the resulting projection:\n",
    "title = \"PM projection of kinases\" \n",
    "#----------------------------------------------------------\n",
    "# Select the coloring from annotation .csv file:\n",
    "labels_name = \"label\"\n",
    "# Select classes to label among the \"labels_name\" or \"second_labels_name\" column (comma separated list):\n",
    "second_labels_name = \"\"\n",
    "labels_text = []\n",
    "show_text = False\n",
    "#----------------------------------------------------------\n",
    "# Use a custom color palette:\n",
    "color_palette = colour_palette #Default: None\n",
    "use_custom_palette = True\n",
    "#==========================================================\n",
    "\n",
    "\n",
    "#Check projection visualization parameters\n",
    "#Labels name\n",
    "if labels_name == \"\":\n",
    "    labels_name = None\n",
    "elif labels_name not in annotation_names:\n",
    "    raise NameError(f\"labels_name {labels_name} is not in the availables annotations.\\nAvailables annotations: {annotation_names}\")\n",
    "#Second labels name\n",
    "if second_labels_name == \"\":\n",
    "    second_labels_name = None\n",
    "elif second_labels_name not in annotation_names:\n",
    "    raise NameError(f'\"second_labels_name\" {second_labels_name} is not in the availables annotations.\\nAvailables annotations: {annotation_names}')\n",
    "\n",
    "if not use_custom_palette:\n",
    "    color_palette = None\n",
    "\n",
    "#Plot graph\n",
    "fig = plot_embedding_interactive(df_embedding, \n",
    "                                 labels_name = labels_name,\n",
    "                                 second_labels_name = second_labels_name, \n",
    "                                 show_text = show_text,\n",
    "                                 labels_text = labels_text,\n",
    "                                 color_palette = color_palette, \n",
    "                                 title = title, \n",
    "                                 fontsize = 11)\n",
    "fig.show()"
   ]
  },
  {
   "cell_type": "code",
   "execution_count": null,
   "metadata": {},
   "outputs": [],
   "source": [
    "# OPTIONS =================================================\n",
    "#Here you can set different parameters to color & annotate the resulting projection:\n",
    "title = \"PM projection of thioredoxins colored by species\"\n",
    "#----------------------------------------------------------\n",
    "# Select the coloring from annotation .csv file:\n",
    "labels_name = \"Species\"\n",
    "# Select classes to label among the \"labels_name\" or \"second_labels_name\" column (comma separated list):\n",
    "second_labels_name = \"\"\n",
    "labels_text = []\n",
    "show_text = False\n",
    "#----------------------------------------------------------\n",
    "# Use a custom color palette:\n",
    "color_palette = trx_palette #Default: None\n",
    "use_custom_palette = True\n",
    "#==========================================================\n",
    "\n",
    "\n",
    "#Check projection visualization parameters\n",
    "#Labels name\n",
    "if labels_name == \"\":\n",
    "    labels_name = None\n",
    "elif labels_name not in annotation_names:\n",
    "    raise NameError(f\"labels_name {labels_name} is not in the availables annotations.\\nAvailables annotations: {annotation_names}\")\n",
    "#Second labels name\n",
    "if second_labels_name == \"\":\n",
    "    second_labels_name = None\n",
    "elif second_labels_name not in annotation_names:\n",
    "    raise NameError(f'\"second_labels_name\" {second_labels_name} is not in the availables annotations.\\nAvailables annotations: {annotation_names}')\n",
    "\n",
    "if not use_custom_palette:\n",
    "    color_palette = None\n",
    "\n",
    "#Plot graph\n",
    "fig = plot_embedding_interactive(df_embedding, \n",
    "                                 labels_name = labels_name,\n",
    "                                 second_labels_name = second_labels_name, \n",
    "                                 show_text = show_text,\n",
    "                                 labels_text = labels_text,\n",
    "                                 color_palette = color_palette, \n",
    "                                 title = title, \n",
    "                                 fontsize = 11)\n",
    "fig.show()"
   ]
  },
  {
   "cell_type": "markdown",
   "metadata": {},
   "source": [
    "### Save plot to file"
   ]
  },
  {
   "cell_type": "code",
   "execution_count": 10,
   "metadata": {},
   "outputs": [],
   "source": [
    "# OPTIONS =================================================\n",
    "output_name = \"kinase\"\n",
    "output_format = \"html\" #Format availables: [\"png\", \"html\", \"pdf\", \"svg\"]\n",
    "#==========================================================\n",
    "\n",
    "\n",
    "if output_format != \"html\":\n",
    "    fig.write_image(f\"{output_name}.{output_format}\", engine=\"kaleido\")\n",
    "else:\n",
    "    fig.write_html(f\"{output_name}.{output_format}\")"
   ]
  },
  {
   "cell_type": "code",
   "execution_count": null,
   "metadata": {},
   "outputs": [],
   "source": []
  }
 ],
 "metadata": {
  "accelerator": "GPU",
  "colab": {
   "provenance": []
  },
  "gpuClass": "standard",
  "kernelspec": {
   "display_name": "poincare",
   "language": "python",
   "name": "python3"
  },
  "language_info": {
   "codemirror_mode": {
    "name": "ipython",
    "version": 3
   },
   "file_extension": ".py",
   "mimetype": "text/x-python",
   "name": "python",
   "nbconvert_exporter": "python",
   "pygments_lexer": "ipython3",
   "version": "3.12.7"
  }
 },
 "nbformat": 4,
 "nbformat_minor": 1
}
