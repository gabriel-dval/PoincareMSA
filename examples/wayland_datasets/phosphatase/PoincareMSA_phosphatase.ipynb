{
 "cells": [
  {
   "cell_type": "markdown",
   "metadata": {
    "id": "view-in-github"
   },
   "source": [
    "[![Open In Colab](https://colab.research.google.com/assets/colab-badge.svg)](https://colab.research.google.com/github/DSIMB/PoincareMSA/blob/master/PoincareMSA_colab.ipynb)"
   ]
  },
  {
   "cell_type": "markdown",
   "metadata": {
    "id": "W5FTaqy0xqw2"
   },
   "source": [
    "<img src=\"https://github.com/DSIMB/PoincareMSA/blob/master/.github/PoincareMSA_small_logo.png?raw=true\" height=\"100\" style=\"height:100px;margin-left: 0px;\">\n",
    "\n",
    "# Poincaré maps for visualization of large protein famillies\n",
    "\n",
    "**Authors**: Anna Klimovskaia Susmelj, Yani Ren, Yann Vander Meersche, Jean-Christophe Gelly and Tatiana Galochkina\n",
    "\n",
    "PoincaréMSA builds an interactive projection of an input protein multiple sequence alignemnt (MSA) using a method based on Poincaré maps described by Klimovskaia et al [1]. It reproduces both local proximities of protein sequences and hierarchy contained in give data. Thus, sequences located closer to the center of projection correspond to the proteins sharing the most general functional properites and/or appearing at the earlier stages of evolution. Source code is available at https://github.com/DSIMB/PoincareMSA.\n",
    "\n",
    "[1] Klimovskaia, A., Lopez-Paz, D., Bottou, L. et al. Poincaré maps for analyzing complex hierarchies in single-cell data. Nat Commun 11, 2966 (2020)."
   ]
  },
  {
   "cell_type": "markdown",
   "metadata": {
    "id": "Oa7Rrq-YzfQB"
   },
   "source": [
    "# Notebook initialization"
   ]
  },
  {
   "cell_type": "code",
   "execution_count": 1,
   "metadata": {},
   "outputs": [
    {
     "name": "stdout",
     "output_type": "stream",
     "text": [
      "/Users/gabrielduval/Desktop/Paris_Cite/Year2/Projet_Long/PoincareMSA\n"
     ]
    }
   ],
   "source": [
    "# Update working directory\n",
    "\n",
    "%cd ../../../"
   ]
  },
  {
   "cell_type": "code",
   "execution_count": 2,
   "metadata": {
    "cellView": "form",
    "colab": {
     "base_uri": "https://localhost:8080/"
    },
    "id": "X_SO37g-kQq7",
    "outputId": "c30184db-2ef2-4a87-fd43-db8fd3ed5379"
   },
   "outputs": [],
   "source": [
    "#Load dependencies\n",
    "import os\n",
    "import numpy as np\n",
    "import pandas as pd\n",
    "import subprocess\n",
    "import json\n",
    "import warnings\n",
    "warnings.filterwarnings('ignore')\n",
    "\n",
    "#Import visualization functions\n",
    "from scripts.visualize_projection.pplots_new import read_embeddings, plot_embedding, plot_embedding_interactive, rotate, get_colors\n",
    "from scripts.prepare_data.mmseqs2_api import run_mmseqs2\n",
    "from scripts.prepare_data.uniprot_idmapping_api import submit_id_mapping, check_id_mapping_results_ready, get_id_mapping_results_link, get_id_mapping_results_search\n",
    "%matplotlib inline\n",
    "\n",
    "#Create optional variables\n",
    "path_annotation = \"\""
   ]
  },
  {
   "cell_type": "markdown",
   "metadata": {
    "id": "IPi6cky3wgC8"
   },
   "source": [
    "# Data import"
   ]
  },
  {
   "cell_type": "code",
   "execution_count": 3,
   "metadata": {
    "cellView": "form",
    "colab": {
     "base_uri": "https://localhost:8080/",
     "height": 75,
     "resources": {
      "http://localhost:8080/nbextensions/google.colab/files.js": {
       "data": "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",
       "headers": [
        [
         "content-type",
         "application/javascript"
        ]
       ],
       "ok": true,
       "status": 200,
       "status_text": "OK"
      }
     }
    },
    "id": "GcbgnooHwIGh",
    "outputId": "dc30ce27-d01c-4953-cdb7-9d5fe599ad6d"
   },
   "outputs": [
    {
     "name": "stdout",
     "output_type": "stream",
     "text": [
      "\n",
      "Number of sequences found: 204.\n",
      "\n",
      "Annotation file correctly loaded.\n",
      "3 annotations found: ['proteins_id', 'accession', 'label'].\n",
      "     proteins_id     accession label\n",
      "0              0        P09923    AP\n",
      "1              1        P05186    AP\n",
      "2              2        P05187    AP\n",
      "3              3        P10696    AP\n",
      "4              4  A0A2R8YDJ8|1   CC1\n",
      "..           ...           ...   ...\n",
      "199          199        P53041  PPPL\n",
      "200          200        O00743  PPPL\n",
      "201          201        O14829  PPPL\n",
      "202          202        O14830  PPPL\n",
      "203          203        Q8IXW5  RTR1\n",
      "\n",
      "[204 rows x 3 columns]\n"
     ]
    }
   ],
   "source": [
    "# OPTIONS =================================================\n",
    "# Path to MSA in mfasta format OR folder containing the embeddings - leave the other one as None\n",
    "mfasta = 'examples/wayland_datasets/phosphatase/phosphatase.mfasta' #\n",
    "embedding_path = None #'embeddings/ankh_base_phosphatase/'\n",
    "\n",
    "#Annotation file (.csv) or UniProt ID list. (Emtpy strings for no annotations)\n",
    "path_annotation_csv = \"examples/wayland_datasets/phosphatase/phosphatase_labels.csv\"   # Path or \"\"\n",
    "# OR\n",
    "path_uniprot_list = \"\"   # Path or \"\"\n",
    "#==========================================================\n",
    "\n",
    "\n",
    "#Check files\n",
    "#mfasta\n",
    "nb_seq = 0\n",
    "if mfasta is not None and embedding_path is not None:\n",
    "    print('You cannot import both an mfasta and an embedding folder ! Choose one and leave the other as None.')\n",
    "elif mfasta is not None:\n",
    "    if os.path.isfile(mfasta):\n",
    "        with open(mfasta, \"r\") as f_in:\n",
    "            for line in f_in:\n",
    "                if line[0] == \">\":\n",
    "                    nb_seq += 1\n",
    "        print(f\"\\nNumber of sequences found: {nb_seq}.\")\n",
    "    else:\n",
    "        print(f\"File {mfasta} not found.\")\n",
    "elif embedding_path is not None:\n",
    "    if os.path.exists(embedding_path):\n",
    "        nb_seq = len([s for s in os.listdir(embedding_path) if '.pt' in s])\n",
    "        print(f\"\\nNumber of sequences found: {nb_seq}.\")\n",
    "    else:\n",
    "        print(f\"Folder {embedding_path} not found.\")\n",
    "else:\n",
    "    print('Neither a valid mfasta or embedding folder has been provided')\n",
    "\n",
    "#Check that only one path is selected\n",
    "if path_annotation_csv and path_uniprot_list:\n",
    "    raise ValueError(\"Use only one file path (path_annotation_csv OR path_uniprot_list).\")\n",
    "\n",
    "# Load annotations\n",
    "if path_annotation_csv:\n",
    "    if os.path.isfile(path_annotation_csv):\n",
    "        try:\n",
    "            df_annotation = pd.read_csv(path_annotation_csv)\n",
    "        except:\n",
    "            raise ValueError(\"Annotation file is not in .csv format.\")\n",
    "        else:\n",
    "            if len(df_annotation) != nb_seq:\n",
    "                raise ValueError(\"Annotation file doesn't match the .mfasta file length.\")\n",
    "\n",
    "        #Add id column\n",
    "        if \"proteins_id\" not in df_annotation.columns:\n",
    "            df_annotation.insert(0, \"proteins_id\", range(len(df_annotation)))\n",
    "        path_annotation = path_annotation_csv\n",
    "            \n",
    "        print(\"\\nAnnotation file correctly loaded.\")\n",
    "        annotation_names = list(df_annotation.columns)\n",
    "        print(f\"{len(annotation_names)} annotations found: {annotation_names}.\")\n",
    "        print(df_annotation)\n",
    "    else:\n",
    "        print(f\"File {path_annotation_csv} not found.\")\n",
    "\n",
    "elif path_uniprot_list:\n",
    "    if os.path.isfile(path_uniprot_list):\n",
    "        try:\n",
    "            UnP_ids = np.genfromtxt(path_uniprot_list, dtype=\"str\")\n",
    "        except:\n",
    "            raise ValueError(\"UniProt IDs file is not in a valid format.\")\n",
    "        else:\n",
    "            if len(UnP_ids) != nb_seq:\n",
    "                raise ValueError(\"UniProt IDs file doesn't match the .mfasta file length.\")     \n",
    "\n",
    "            #Split UniProtKB and UniParc IDs\n",
    "            uniparc_ids = []\n",
    "            uniprot_ids = []\n",
    "            for unp in UnP_ids:\n",
    "                if len(unp) == 13 and unp[:2] == \"UP\":\n",
    "                    uniparc_ids.append(unp)\n",
    "                else:\n",
    "                    uniprot_ids.append(unp)\n",
    "\n",
    "            #Fetch UniProtKB annotations\n",
    "            job_id = submit_id_mapping(\n",
    "                from_db=\"UniProtKB_AC-ID\", to_db=\"UniParc\", ids=uniprot_ids\n",
    "            )\n",
    "\n",
    "            if check_id_mapping_results_ready(job_id):\n",
    "                link = get_id_mapping_results_link(job_id)\n",
    "                results = get_id_mapping_results_search(link)\n",
    "\n",
    "            #Fetch UniParc annotations\n",
    "            job_id = submit_id_mapping(\n",
    "                from_db=\"UniParc\", to_db=\"UniParc\", ids=uniparc_ids\n",
    "            )\n",
    "\n",
    "            if check_id_mapping_results_ready(job_id):\n",
    "                link = get_id_mapping_results_link(job_id)\n",
    "                results2 = get_id_mapping_results_search(link)\n",
    "\n",
    "            #Create annotation dataframe\n",
    "            df_annotation = pd.DataFrame(UnP_ids, columns=[\"UnP_ID\"])\n",
    "            df_annotation[[\"organism\", \"proteinName\", \"taxonId\", \"species\", \"genus\", \\\n",
    "                           \"family\", \"order\", \"class\", \"phylum\", \"clade\", \"superkingdom\"]] = \"\"\n",
    "\n",
    "            #Fill the annotation DataFrame\n",
    "            for dict_res in results[\"results\"] + results2[\"results\"]:\n",
    "                try:\n",
    "                    unp = dict_res[\"from\"]\n",
    "                    prot_name = dict_res[\"to\"][\"uniParcCrossReferences\"][0][\"proteinName\"]\n",
    "                    df_annotation.loc[df_annotation[\"UnP_ID\"] == unp, \"proteinName\"] = prot_name\n",
    "                    scientific_name = dict_res[\"to\"][\"uniParcCrossReferences\"][0][\"organism\"][\"scientificName\"]\n",
    "                    taxid = dict_res[\"to\"][\"uniParcCrossReferences\"][0][\"organism\"][\"taxonId\"]\n",
    "                    df_annotation.loc[df_annotation[\"UnP_ID\"] == unp, \"organism\"] = scientific_name\n",
    "                    df_annotation.loc[df_annotation[\"UnP_ID\"] == unp, \"taxonId\"] = taxid\n",
    "                except KeyError:\n",
    "                    continue\n",
    "\n",
    "            #Add lineage from NCBI Taxonomist\n",
    "            taxon_ids = df_annotation.loc[df_annotation[\"taxonId\"].notnull(), 'taxonId'].to_numpy()\n",
    "            taxon_ids = list(set(taxon_ids))\n",
    "            taxon_ids = list(map(str, taxon_ids))\n",
    "            bash_command = f\"ncbi-taxonomist resolve -t {','.join(taxon_ids)}\"\n",
    "            list_taxon = subprocess.run(bash_command, shell=True, capture_output=True, text=True).stdout.strip().split(\"\\n\")\n",
    "\n",
    "            if list_taxon != [\"\"]:\n",
    "                for taxon in list_taxon:\n",
    "                    jsonString = taxon\n",
    "                    taxon_dict = json.loads(jsonString)\n",
    "                    query = taxon_dict[\"query\"]\n",
    "                    for lineage in taxon_dict[\"lineage\"]:\n",
    "                        rank = lineage[\"rank\"]\n",
    "                        if rank in [\"species\", \"genus\", \"family\", \"order\", \"class\", \"phylum\", \"clade\", \"superkingdom\"]:\n",
    "                            name = lineage[\"name\"]\n",
    "                            df_annotation.loc[df_annotation[\"taxonId\"] == int(query), rank] = name\n",
    "\n",
    "            #Add id column\n",
    "            if \"proteins_id\" not in df_annotation.columns:\n",
    "                df_annotation.insert(0, \"proteins_id\", range(len(df_annotation)))\n",
    "\n",
    "            #Save annotation to csv\n",
    "            path_annotation = \"auto_annot.csv\"\n",
    "            df_annotation.to_csv(path_annotation, index=False)\n",
    "\n",
    "            print(\"\\nAnnotation correctly fetched.\")\n",
    "            annotation_names = list(df_annotation.columns)\n",
    "            print(f\"{len(annotation_names)} annotations found: {annotation_names}.\")\n",
    "    else:\n",
    "        print(f\"File {path_uniprot_list} not found.\")\n",
    "else:\n",
    "    print(\"No annotation file selected.\")\n",
    "    path_annotation = \"\""
   ]
  },
  {
   "cell_type": "markdown",
   "metadata": {
    "id": "_H2vnIt_3kUz"
   },
   "source": [
    "# Data preparation\n",
    "Here we clean the input .mfasta alignment and translate each sequence to a vector ready for projection. If you are using embeddings rather than mfasta, please skip straight to the projection section (no preparation necessary for the emnbeddings)."
   ]
  },
  {
   "cell_type": "markdown",
   "metadata": {},
   "source": [
    "### Parameters for data preparation"
   ]
  },
  {
   "cell_type": "code",
   "execution_count": 21,
   "metadata": {
    "cellView": "form",
    "id": "9hLq_MgX6hFC"
   },
   "outputs": [
    {
     "name": "stdout",
     "output_type": "stream",
     "text": [
      "Input file: examples/wayland_datasets/phosphatase/phosphatase.mfasta\n",
      "Name of the protein family: phosphatase\n",
      "filter_gaps finished for examples/wayland_datasets/phosphatase/phosphatase.mfasta\n",
      "mfasta2fasta finished for phosphatase_data/phosphatase_data.clean0.9.mfasta\n"
     ]
    }
   ],
   "source": [
    "# OPTIONS =================================================\n",
    "# Job name\n",
    "#Name for the output folder\n",
    "out_name = \"phosphatase_data\"\n",
    "#----------------------------------------------------------\n",
    "# Threshold for filtering gapped positions\n",
    "#Positions with proportion of gaps above the given threshold are removed from the alignment.\n",
    "#If your alignment is very gapped, you may want to increase this value.\n",
    "gapth = 0.9 \n",
    "#==========================================================\n",
    "\n",
    "\n",
    "# Run data preparation\n",
    "#Data preparation consists in `.mfasta` cleaning according to a gap threshold and\n",
    "#translation of each sequence to the PSSM profile.\n",
    "prep_parameters = \"scripts/prepare_data\" + \" \" + mfasta + \" \" + out_name + \" \" + out_name + \" \" + str(gapth)\n",
    "bash_projection = \"bash scripts/prepare_data/create_projection.sh \" + prep_parameters\n",
    "!{bash_projection}"
   ]
  },
  {
   "cell_type": "markdown",
   "metadata": {
    "id": "Dv0lg4Jn-dfG"
   },
   "source": [
    "# Projection"
   ]
  },
  {
   "cell_type": "markdown",
   "metadata": {},
   "source": [
    "### Projection parameters (with mfasta)"
   ]
  },
  {
   "cell_type": "code",
   "execution_count": 8,
   "metadata": {},
   "outputs": [
    {
     "name": "stdout",
     "output_type": "stream",
     "text": [
      "CUDA: False\n",
      "Random seed set as 4\n",
      "204 proteins found in folder phosphatase_data/fasta0.9/.\n",
      "No root detected\n",
      "142.aamtx\n",
      "Prepare data: tensor construction\n",
      "Prepare data: successfully terminated\n",
      "labels: ['142' '107' '55' '10' '95' '182' '68' '71' '34' '166' '123' '164' '121'\n",
      " '73' '36' '199' '159' '138' '180' '97' '204' '57' '12' '140' '105' '184'\n",
      " '93' '179' '8' '53' '16' '144' '101' '200' '160' '125' '77' '32' '118'\n",
      " '48' '75' '30' '162' '127' '88' '202' '146' '103' '51' '14' '29' '91'\n",
      " '186' '158' '120' '165' '37' '72' '198' '13' '56' '104' '141' '139' '181'\n",
      " '96' '94' '183' '69' '106' '143' '11' '54' '35' '70' '122' '167' '31'\n",
      " '74' '126' '163' '89' '49' '28' '90' '187' '203' '102' '147' '15' '50'\n",
      " '17' '52' '100' '145' '201' '9' '185' '92' '178' '119' '124' '161' '33'\n",
      " '76' '190' '87' '128' '47' '150' '115' '189' '174' '131' '63' '26' '149'\n",
      " '5' '19' '7' '61' '24' '176' '133' '152' '117' '45' '78' '85' '192' '156'\n",
      " '113' '41' '81' '196' '39' '3' '58' '98' '65' '20' '172' '137' '170'\n",
      " '135' '67' '22' '1' '108' '169' '194' '83' '43' '154' '111' '25' '60'\n",
      " '132' '177' '6' '18' '79' '84' '193' '116' '153' '44' '46' '114' '151'\n",
      " '191' '86' '129' '4' '148' '188' '130' '175' '27' '62' '109' '134' '171'\n",
      " '23' '66' '42' '110' '155' '168' '195' '82' '80' '197' '38' '112' '157'\n",
      " '40' '99' '21' '64' '136' '173' '59' '2']\n",
      "features CSV file saved to phosphatase_data/with_mfasta/features.csv\n",
      "labels CSV file saved to phosphatase_data/with_mfasta/labels.csv\n",
      "KNN matrix CSV file saved to phosphatase_data/with_mfasta/KNN_matrix.csv\n",
      "Computing laplacian...\n",
      "Laplacian computed in 0.13 sec\n",
      "Computing RFA...\n",
      "RFA computed in 0.01 sec\n",
      "tensor([[2.9856e-01, 1.9081e-03, 2.2427e-05,  ..., 1.7786e-06, 2.3242e-03,\n",
      "         6.4687e-04],\n",
      "        [1.9081e-03, 2.5408e-01, 5.0050e-06,  ..., 3.6395e-05, 5.5137e-02,\n",
      "         1.4478e-04],\n",
      "        [2.2427e-05, 5.0050e-06, 1.5283e-01,  ..., 3.8148e-09, 5.0172e-06,\n",
      "         7.1147e-04],\n",
      "        ...,\n",
      "        [1.7786e-06, 3.6395e-05, 3.8148e-09,  ..., 2.6114e-01, 1.2726e-04,\n",
      "         1.0965e-07],\n",
      "        [2.3242e-03, 5.5137e-02, 5.0172e-06,  ..., 1.2726e-04, 2.9608e-01,\n",
      "         1.4424e-04],\n",
      "        [6.4687e-04, 1.4478e-04, 7.1147e-04,  ..., 1.0965e-07, 1.4424e-04,\n",
      "         2.9377e-01]])\n",
      "RFA matrix CSV file saved to phosphatase_data/with_mfasta/RFA_matrix.csv\n",
      "Starting training...\n",
      "loss: 0.23886:  63%|███████████████▋         | 627/1000 [00:23<00:12, 29.72it/s]\n",
      "Stopped at epoch 627\n",
      "loss: 0.23886:  63%|███████████████▋         | 627/1000 [00:23<00:13, 26.94it/s]\n",
      "PM computed in 23.28 sec\n",
      "\n",
      "loss = 2.389e-01\n",
      "time = 0.411 min\n"
     ]
    }
   ],
   "source": [
    "### Projection parameters (no embeddings)\n",
    "# EMBEDDING SELECTION\n",
    "in_name = 'phosphatase_data/fasta0.9/'  # Input here the name of folder with the fasta files\n",
    "mid_output = 'phosphatase_data/with_mfasta/'  # Input name of desired folder for intermediary results\n",
    "out_name = 'results/phosphatase/with_mfasta/' # Input desired name of output folder\n",
    "\n",
    "# OPTIONS =================================================\n",
    "#Here you control different parameters of Poincaré maps.\n",
    "#In our computational experiments the best results were achieved for the following values provided by default.\n",
    "#The impact of different parameters is analyzed in the original paper [1].\n",
    "knn = 5\n",
    "gamma = 2\n",
    "sigma = 1\n",
    "cospca = 0\n",
    "batchs = 4\n",
    "epochs = 1000\n",
    "seed = 4\n",
    "#==========================================================\n",
    "\n",
    "\n",
    "# Building projection and preparing data for visualization\n",
    "#This step creates a projection of encoded sequences to a Poincaré disk.\n",
    "# bash_pm = \"python3 \"+ \"scripts/build_poincare_map/main.py --input_path \" + out_name + \"/fasta\" + str(gapth) + \" --output_path \" + out_name + \"/projections/ --gamma \"+ str(gamma) +\" --pca \"+ str(cospca) + \" --epochs \"+ str(epochs) +\" --seed \"+ str(seed) + \" --knn \" + str(knn)\n",
    "# !{bash_pm}\n",
    "bash_pm = \"python \"+ \"scripts/build_poincare_map/main.py --input_path \" + in_name + \\\n",
    "          \" --output_path \" + out_name + \" --plm_embedding False\" +  \" --matrices_output_path \" + mid_output \\\n",
    "          + \" --gamma \"+ str(gamma) +\" --pca \"+ str(cospca) + \" --epochs \"+ str(epochs) +\" --seed \"\\\n",
    "          + str(seed) + \" --knn \" + str(knn)\n",
    "!{bash_pm}"
   ]
  },
  {
   "cell_type": "markdown",
   "metadata": {},
   "source": [
    "### Projection parameters (with embeddings)"
   ]
  },
  {
   "cell_type": "code",
   "execution_count": 18,
   "metadata": {},
   "outputs": [
    {
     "name": "stdout",
     "output_type": "stream",
     "text": [
      "CUDA: False\n",
      "Random seed set as 4\n",
      "204 proteins found in folder embeddings/ankh_base_phosphatase/.\n",
      "['19.pt', '48.pt', '115.pt', '144.pt', '183.pt', '170.pt', '121.pt', '131.pt', '160.pt', '202.pt', '193.pt', '154.pt', '105.pt', '58.pt', '29.pt', '78.pt', '187.pt', '125.pt', '174.pt', '140.pt', '111.pt', '101.pt', '150.pt', '164.pt', '135.pt', '197.pt', '68.pt', '39.pt', '4.pt', '28.pt', '79.pt', '186.pt', '124.pt', '175.pt', '141.pt', '110.pt', '100.pt', '151.pt', '165.pt', '134.pt', '196.pt', '69.pt', '38.pt', '5.pt', '18.pt', '49.pt', '114.pt', '145.pt', '182.pt', '171.pt', '120.pt', '130.pt', '161.pt', '192.pt', '203.pt', '155.pt', '104.pt', '59.pt', '1.pt', '189.pt', '76.pt', '27.pt', '85.pt', '13.pt', '42.pt', '52.pt', '95.pt', '37.pt', '66.pt', '199.pt', '46.pt', '17.pt', '23.pt', '72.pt', '81.pt', '91.pt', '62.pt', '33.pt', '56.pt', '47.pt', '16.pt', '22.pt', '73.pt', '80.pt', '90.pt', '63.pt', '32.pt', '57.pt', '188.pt', '77.pt', '26.pt', '84.pt', '12.pt', '43.pt', '53.pt', '94.pt', '36.pt', '67.pt', '198.pt', '119.pt', '148.pt', '15.pt', '44.pt', '83.pt', '70.pt', '21.pt', '31.pt', '60.pt', '93.pt', '54.pt', '158.pt', '109.pt', '129.pt', '178.pt', '87.pt', '25.pt', '74.pt', '40.pt', '11.pt', '50.pt', '64.pt', '35.pt', '8.pt', '97.pt', '168.pt', '139.pt', '128.pt', '179.pt', '86.pt', '24.pt', '75.pt', '41.pt', '10.pt', '51.pt', '65.pt', '34.pt', '9.pt', '96.pt', '169.pt', '138.pt', '118.pt', '149.pt', '14.pt', '45.pt', '82.pt', '71.pt', '20.pt', '30.pt', '61.pt', '92.pt', '55.pt', '159.pt', '108.pt', '89.pt', '176.pt', '127.pt', '185.pt', '113.pt', '142.pt', '152.pt', '103.pt', '195.pt', '204.pt', '137.pt', '166.pt', '99.pt', '6.pt', '146.pt', '117.pt', '123.pt', '172.pt', '181.pt', '200.pt', '191.pt', '162.pt', '133.pt', '107.pt', '156.pt', '2.pt', '147.pt', '116.pt', '122.pt', '173.pt', '180.pt', '190.pt', '201.pt', '163.pt', '132.pt', '106.pt', '157.pt', '3.pt', '88.pt', '177.pt', '126.pt', '184.pt', '112.pt', '143.pt', '153.pt', '102.pt', '194.pt', '136.pt', '167.pt', '98.pt', '7.pt']\n",
      "19.pt\n",
      "Prepare data: tensor construction\n",
      "Prepare data: successfully terminated\n",
      "labels: ['19' '48' '115' '144' '183' '170' '121' '131' '160' '202' '193' '154'\n",
      " '105' '58' '29' '78' '187' '125' '174' '140' '111' '101' '150' '164'\n",
      " '135' '197' '68' '39' '4' '28' '79' '186' '124' '175' '141' '110' '100'\n",
      " '151' '165' '134' '196' '69' '38' '5' '18' '49' '114' '145' '182' '171'\n",
      " '120' '130' '161' '192' '203' '155' '104' '59' '1' '189' '76' '27' '85'\n",
      " '13' '42' '52' '95' '37' '66' '199' '46' '17' '23' '72' '81' '91' '62'\n",
      " '33' '56' '47' '16' '22' '73' '80' '90' '63' '32' '57' '188' '77' '26'\n",
      " '84' '12' '43' '53' '94' '36' '67' '198' '119' '148' '15' '44' '83' '70'\n",
      " '21' '31' '60' '93' '54' '158' '109' '129' '178' '87' '25' '74' '40' '11'\n",
      " '50' '64' '35' '8' '97' '168' '139' '128' '179' '86' '24' '75' '41' '10'\n",
      " '51' '65' '34' '9' '96' '169' '138' '118' '149' '14' '45' '82' '71' '20'\n",
      " '30' '61' '92' '55' '159' '108' '89' '176' '127' '185' '113' '142' '152'\n",
      " '103' '195' '204' '137' '166' '99' '6' '146' '117' '123' '172' '181'\n",
      " '200' '191' '162' '133' '107' '156' '2' '147' '116' '122' '173' '180'\n",
      " '190' '201' '163' '132' '106' '157' '3' '88' '177' '126' '184' '112'\n",
      " '143' '153' '102' '194' '136' '167' '98' '7']\n",
      "features CSV file saved to phosphatase_data/with_plm_embeddings/features.csv\n",
      "labels CSV file saved to phosphatase_data/with_plm_embeddings/labels.csv\n",
      "KNN matrix CSV file saved to phosphatase_data/with_plm_embeddings/KNN_matrix.csv\n",
      "Computing laplacian...\n",
      "Laplacian computed in 0.26 sec\n",
      "Computing RFA...\n",
      "RFA computed in 0.03 sec\n",
      "tensor([[2.0900e-01, 2.4253e-05, 4.2699e-06,  ..., 1.4000e-05, 2.8454e-05,\n",
      "         2.2870e-04],\n",
      "        [2.4253e-05, 1.5759e-01, 1.7543e-06,  ..., 2.1599e-06, 1.1690e-05,\n",
      "         3.8804e-03],\n",
      "        [4.2699e-06, 1.7543e-06, 1.8395e-01,  ..., 5.1629e-07, 4.7617e-03,\n",
      "         1.8029e-05],\n",
      "        ...,\n",
      "        [1.4000e-05, 2.1599e-06, 5.1629e-07,  ..., 1.9635e-01, 3.4404e-06,\n",
      "         2.0911e-05],\n",
      "        [2.8454e-05, 1.1690e-05, 4.7617e-03,  ..., 3.4404e-06, 1.0389e-01,\n",
      "         1.2014e-04],\n",
      "        [2.2870e-04, 3.8804e-03, 1.8029e-05,  ..., 2.0911e-05, 1.2014e-04,\n",
      "         2.3449e-01]])\n",
      "RFA matrix CSV file saved to phosphatase_data/with_plm_embeddings/RFA_matrix.csv\n",
      "Starting training...\n",
      "loss: 0.35547:  72%|██████████████████       | 721/1000 [00:26<00:09, 30.71it/s]\n",
      "Stopped at epoch 722\n",
      "loss: 0.35547:  72%|██████████████████       | 722/1000 [00:26<00:10, 27.63it/s]\n",
      "PM computed in 26.13 sec\n",
      "\n",
      "loss = 3.555e-01\n",
      "time = 0.454 min\n"
     ]
    }
   ],
   "source": [
    "# EMBEDDING SELECTION\n",
    "in_name = 'embeddings/ankh_base_phosphatase/'  # Input here the name of folder with the embeddings\n",
    "mid_output = 'phosphatase_data/with_plm_embeddings/'  # Input name of desired folder for intermediary results\n",
    "out_name = 'results/phosphatase/with_plm_embeddings/' # Input desired name of output folder\n",
    "\n",
    "\n",
    "# OPTIONS =================================================\n",
    "#Here you control different parameters of Poincaré maps.\n",
    "#In our computational experiments the best results were achieved for the following values provided by default.\n",
    "#The impact of different parameters is analyzed in the original paper [1].\n",
    "knn = 5\n",
    "gamma = 4\n",
    "sigma = 1\n",
    "cospca = 0\n",
    "batchs = 4\n",
    "epochs = 1000\n",
    "seed = 4\n",
    "#==========================================================\n",
    "\n",
    "\n",
    "# Building projection and preparing data for visualization\n",
    "#This step creates a projection of encoded sequences to a Poincaré disk.\n",
    "bash_pm = \"python \"+ \"scripts/build_poincare_map/main.py --input_path \" + in_name + \\\n",
    "          \" --output_path \" + out_name + \" --plm_embedding True\" +  \" --matrices_output_path \" + mid_output +\\\n",
    "          \" --distlocal minkowski\" + \" --gamma \"+ str(gamma) +\" --pca \"+ str(cospca) + \" --epochs \"+ str(epochs) +\" --seed \"\\\n",
    "          + str(seed) + \" --knn \" + str(knn)\n",
    "!{bash_pm}"
   ]
  },
  {
   "cell_type": "markdown",
   "metadata": {
    "id": "gRxHHfjX7CHF"
   },
   "source": [
    "# Projection visualization"
   ]
  },
  {
   "cell_type": "markdown",
   "metadata": {},
   "source": [
    "### Prepare data for visualization"
   ]
  },
  {
   "cell_type": "code",
   "execution_count": 5,
   "metadata": {
    "cellView": "form",
    "colab": {
     "base_uri": "https://localhost:8080/"
    },
    "id": "A2I17cpYXGoB",
    "outputId": "a1b01a51-2182-4f97-a653-eedc42405a80"
   },
   "outputs": [
    {
     "name": "stdout",
     "output_type": "stream",
     "text": [
      "          pm1       pm2  proteins_id\n",
      "0   -0.726724  0.419018            1\n",
      "1   -0.741843  0.429583            2\n",
      "2   -0.743766  0.410371            3\n",
      "3   -0.724349  0.438376            4\n",
      "4    0.279858 -0.761794            5\n",
      "..        ...       ...          ...\n",
      "199  0.699420 -0.557297          200\n",
      "200  0.681272 -0.538901          201\n",
      "201  0.675606 -0.568812          202\n",
      "202  0.699984 -0.573944          203\n",
      "203 -0.064252  0.199969          204\n",
      "\n",
      "[204 rows x 3 columns]\n",
      "3 annotations found: ['proteins_id', 'accession', 'label'].\n",
      "proteins_id\n",
      "1        AP\n",
      "2        AP\n",
      "3        AP\n",
      "4        AP\n",
      "5       CC1\n",
      "       ... \n",
      "200    PPPL\n",
      "201    PPPL\n",
      "202    PPPL\n",
      "203    PPPL\n",
      "204    RTR1\n",
      "Name: label, Length: 204, dtype: object\n"
     ]
    }
   ],
   "source": [
    "# Prepare data for visualization\n",
    "# Reminder of output_name\n",
    "out_name = 'results/phosphatase/with_plm_embeddings/'\n",
    "\n",
    "#Check that an annotation file was provided. Create a dummy one instead\n",
    "if not path_annotation:\n",
    "    df_annotation = pd.DataFrame(list(zip(list(range(1,nb_seq+1)), np.full(nb_seq, \"-\", dtype=object))), columns=[\"id\", \"default\"])\n",
    "    df_annotation.to_csv(\"dummy_annotation.csv\", index=False)\n",
    "    path_annotation = \"dummy_annotation.csv\"\n",
    "    annotation_names = [\"proteins_id\"]\n",
    "\n",
    "path_embedding = f\"{out_name}/PM{knn:1.0f}sigma={sigma:2.2f}gamma={gamma:2.2f}cosinepca={cospca:1.0f}_seed{seed:1.0f}.csv\"\n",
    "\n",
    "# Concatenate generated results and annotations for plotting\n",
    "df_embedding = read_embeddings(path_embedding, path_annotation, withroot=False)\n",
    "\n",
    "#Here are different labels found in your annotation file (if one uploaded):\n",
    "print(f\"{len(annotation_names)} annotations found: {annotation_names}.\")\n",
    "print(df_embedding['label'])"
   ]
  },
  {
   "cell_type": "markdown",
   "metadata": {},
   "source": [
    "### Create interactive plot"
   ]
  },
  {
   "cell_type": "code",
   "execution_count": 6,
   "metadata": {},
   "outputs": [],
   "source": [
    "# Construction of custom color palette  \n",
    "\n",
    "# Load existing colour palette (must be a .json file)\n",
    "colour_json = 'examples/wayland_datasets/phosphatase/phosphatase_colors.json'\n",
    "with open(colour_json, 'r') as file:\n",
    "    colour_palette = json.load(file)\n",
    "\n",
    "# Also the option of manually creating your own colour palette\n"
   ]
  },
  {
   "cell_type": "code",
   "execution_count": 7,
   "metadata": {
    "cellView": "form",
    "colab": {
     "base_uri": "https://localhost:8080/",
     "height": 886
    },
    "id": "zLb9h9S4eKUD",
    "outputId": "58e8c73a-4869-4305-ecfb-bccc80d06db1"
   },
   "outputs": [
    {
     "data": {
      "application/vnd.plotly.v1+json": {
       "config": {
        "plotlyServerURL": "https://plot.ly"
       },
       "data": [
        {
         "customdata": [
          [
           1,
           "P09923",
           "AP"
          ],
          [
           2,
           "P05186",
           "AP"
          ],
          [
           3,
           "P05187",
           "AP"
          ],
          [
           4,
           "P10696",
           "AP"
          ]
         ],
         "hovertemplate": "<b>%{hovertext}</b><br><br>label=%{customdata[2]}<br>pm1=%{x}<br>pm2=%{y}<br>proteins_id=%{customdata[0]}<br>accession=%{customdata[1]}<extra></extra>",
         "hovertext": [
          "AP",
          "AP",
          "AP",
          "AP"
         ],
         "legendgroup": "AP",
         "marker": {
          "color": "#636efa",
          "symbol": "circle"
         },
         "mode": "markers",
         "name": "AP",
         "orientation": "v",
         "showlegend": true,
         "type": "scatter",
         "x": [
          -0.72672415,
          -0.74184287,
          -0.7437664,
          -0.7243488
         ],
         "xaxis": "x",
         "y": [
          0.41901806,
          0.42958266,
          0.4103714,
          0.43837637
         ],
         "yaxis": "y"
        },
        {
         "customdata": [
          [
           5,
           "A0A2R8YDJ8|1",
           "CC1"
          ],
          [
           6,
           "A0A2R8YDJ8|2",
           "CC1"
          ],
          [
           7,
           "O60729|1",
           "CC1"
          ],
          [
           8,
           "O60729|2",
           "CC1"
          ],
          [
           9,
           "Q16667",
           "CC1"
          ],
          [
           10,
           "P28562",
           "CC1"
          ],
          [
           11,
           "Q05923",
           "CC1"
          ],
          [
           12,
           "Q13115",
           "CC1"
          ],
          [
           13,
           "Q16690",
           "CC1"
          ],
          [
           14,
           "Q9Y6W6",
           "CC1"
          ],
          [
           15,
           "O75319",
           "CC1"
          ],
          [
           16,
           "Q9UNI6",
           "CC1"
          ],
          [
           17,
           "Q6FI36",
           "CC1"
          ],
          [
           18,
           "Q8NEJ0",
           "CC1"
          ],
          [
           19,
           "Q9H596",
           "CC1"
          ],
          [
           20,
           "Q4G0W2",
           "CC1"
          ],
          [
           21,
           "Q9H1R2",
           "CC1"
          ],
          [
           22,
           "Q9NRW4",
           "CC1"
          ],
          [
           23,
           "Q8WTR2",
           "CC1"
          ],
          [
           24,
           "Q9BVJ7",
           "CC1"
          ],
          [
           25,
           "Q68J44",
           "CC1"
          ],
          [
           26,
           "Q9UII6",
           "CC1"
          ],
          [
           27,
           "Q9BV47",
           "CC1"
          ],
          [
           28,
           "Q5VZP5",
           "CC1"
          ],
          [
           29,
           "P51452",
           "CC1"
          ],
          [
           30,
           "Q16828",
           "CC1"
          ],
          [
           31,
           "Q16829",
           "CC1"
          ],
          [
           32,
           "Q99956",
           "CC1"
          ],
          [
           33,
           "Q9BY84",
           "CC1"
          ],
          [
           34,
           "Q13202",
           "CC1"
          ],
          [
           35,
           "O95278",
           "CC1"
          ],
          [
           36,
           "Q93096",
           "CC1"
          ],
          [
           37,
           "Q12974",
           "CC1"
          ],
          [
           38,
           "O75365",
           "CC1"
          ],
          [
           39,
           "A2A3K4",
           "CC1"
          ],
          [
           40,
           "Q8WUK0",
           "CC1"
          ],
          [
           41,
           "O60942",
           "CC1"
          ],
          [
           42,
           "Q8WYL5",
           "CC1"
          ],
          [
           43,
           "Q76I76",
           "CC1"
          ],
          [
           44,
           "Q8TE77",
           "CC1"
          ],
          [
           45,
           "Q8WUJ0",
           "CC1"
          ],
          [
           46,
           "Q9Y6J8",
           "CC1"
          ],
          [
           47,
           "Q13496",
           "CC1"
          ],
          [
           48,
           "Q13613",
           "CC1"
          ],
          [
           49,
           "Q13614",
           "CC1"
          ],
          [
           50,
           "Q9NXD2",
           "CC1"
          ],
          [
           51,
           "A4FU01",
           "CC1"
          ],
          [
           52,
           "Q9C0I1",
           "CC1"
          ],
          [
           53,
           "Q8NCE2",
           "CC1"
          ],
          [
           54,
           "Q13615",
           "CC1"
          ],
          [
           55,
           "Q9NYA4",
           "CC1"
          ],
          [
           56,
           "O95248",
           "CC1"
          ],
          [
           57,
           "Q86WG5",
           "CC1"
          ],
          [
           58,
           "Q9Y217",
           "CC1"
          ],
          [
           59,
           "Q9Y216",
           "CC1"
          ],
          [
           60,
           "Q96EF0",
           "CC1"
          ],
          [
           61,
           "Q96QG7",
           "CC1"
          ],
          [
           62,
           "Q9ULE6|1",
           "CC1"
          ],
          [
           63,
           "Q9ULE6|2",
           "CC1"
          ],
          [
           64,
           "O75061",
           "CC1"
          ],
          [
           65,
           "O14976",
           "CC1"
          ],
          [
           66,
           "P60484",
           "CC1"
          ],
          [
           67,
           "Q9HBL0",
           "CC1"
          ],
          [
           68,
           "Q63HR2",
           "CC1"
          ],
          [
           69,
           "Q68CZ2",
           "CC1"
          ],
          [
           70,
           "P56180",
           "CC1"
          ],
          [
           71,
           "Q6XPS3",
           "CC1"
          ],
          [
           72,
           "P18031",
           "CC1"
          ],
          [
           73,
           "P17706",
           "CC1"
          ],
          [
           74,
           "Q05209",
           "CC1"
          ],
          [
           75,
           "Q99952",
           "CC1"
          ],
          [
           76,
           "Q9Y2R2",
           "CC1"
          ],
          [
           77,
           "Q12923",
           "CC1"
          ],
          [
           78,
           "Q4JDL3",
           "CC1"
          ],
          [
           79,
           "Q15678",
           "CC1"
          ],
          [
           80,
           "Q16825",
           "CC1"
          ],
          [
           81,
           "Q9H3S7",
           "CC1"
          ],
          [
           82,
           "P26045",
           "CC1"
          ],
          [
           83,
           "P29074",
           "CC1"
          ],
          [
           84,
           "P54829",
           "CC1"
          ],
          [
           85,
           "P35236",
           "CC1"
          ],
          [
           86,
           "Q15256",
           "CC1"
          ],
          [
           87,
           "Q06124",
           "CC1"
          ],
          [
           88,
           "Q53XS4",
           "CC1"
          ],
          [
           89,
           "Q6IQ43",
           "CC1"
          ],
          [
           90,
           "P18433|1",
           "CC1"
          ],
          [
           91,
           "P18433|2",
           "CC1"
          ],
          [
           92,
           "P23469|1",
           "CC1"
          ],
          [
           93,
           "P23469|2",
           "CC1"
          ],
          [
           94,
           "P23467",
           "CC1"
          ],
          [
           95,
           "Q9HD43",
           "CC1"
          ],
          [
           96,
           "Q12913",
           "CC1"
          ],
          [
           97,
           "Q16827",
           "CC1"
          ],
          [
           98,
           "A0A087WZU1",
           "CC1"
          ],
          [
           99,
           "P08575|1",
           "CC1"
          ],
          [
           100,
           "P08575|2",
           "CC1"
          ],
          [
           101,
           "Q2HXI4|1",
           "CC1"
          ],
          [
           102,
           "Q2HXI4|2",
           "CC1"
          ],
          [
           103,
           "P10586|1",
           "CC1"
          ],
          [
           104,
           "P10586|2",
           "CC1"
          ],
          [
           105,
           "Q13332|1",
           "CC1"
          ],
          [
           106,
           "Q13332|2",
           "CC1"
          ],
          [
           107,
           "P23470|1",
           "CC1"
          ],
          [
           108,
           "P23470|2",
           "CC1"
          ],
          [
           109,
           "P23471|1",
           "CC1"
          ],
          [
           110,
           "P23471|2",
           "CC1"
          ],
          [
           111,
           "Q5TG12|1",
           "CC1"
          ],
          [
           112,
           "Q5TG12|2",
           "CC1"
          ],
          [
           113,
           "P28827|1",
           "CC1"
          ],
          [
           114,
           "P28827|2",
           "CC1"
          ],
          [
           115,
           "O14522|1",
           "CC1"
          ],
          [
           116,
           "O14522|2",
           "CC1"
          ],
          [
           117,
           "Q92729|1",
           "CC1"
          ],
          [
           118,
           "Q92729|2",
           "CC1"
          ],
          [
           119,
           "Q16849",
           "CC1"
          ],
          [
           120,
           "Q92932",
           "CC1"
          ],
          [
           121,
           "Q92562",
           "CC1"
          ],
          [
           122,
           "Q9Y2H2",
           "CC1"
          ],
          [
           123,
           "Q9NTJ5",
           "CC1"
          ],
          [
           124,
           "O43426",
           "CC1"
          ],
          [
           125,
           "O15056",
           "CC1"
          ]
         ],
         "hovertemplate": "<b>%{hovertext}</b><br><br>label=%{customdata[2]}<br>pm1=%{x}<br>pm2=%{y}<br>proteins_id=%{customdata[0]}<br>accession=%{customdata[1]}<extra></extra>",
         "hovertext": [
          "CC1",
          "CC1",
          "CC1",
          "CC1",
          "CC1",
          "CC1",
          "CC1",
          "CC1",
          "CC1",
          "CC1",
          "CC1",
          "CC1",
          "CC1",
          "CC1",
          "CC1",
          "CC1",
          "CC1",
          "CC1",
          "CC1",
          "CC1",
          "CC1",
          "CC1",
          "CC1",
          "CC1",
          "CC1",
          "CC1",
          "CC1",
          "CC1",
          "CC1",
          "CC1",
          "CC1",
          "CC1",
          "CC1",
          "CC1",
          "CC1",
          "CC1",
          "CC1",
          "CC1",
          "CC1",
          "CC1",
          "CC1",
          "CC1",
          "CC1",
          "CC1",
          "CC1",
          "CC1",
          "CC1",
          "CC1",
          "CC1",
          "CC1",
          "CC1",
          "CC1",
          "CC1",
          "CC1",
          "CC1",
          "CC1",
          "CC1",
          "CC1",
          "CC1",
          "CC1",
          "CC1",
          "CC1",
          "CC1",
          "CC1",
          "CC1",
          "CC1",
          "CC1",
          "CC1",
          "CC1",
          "CC1",
          "CC1",
          "CC1",
          "CC1",
          "CC1",
          "CC1",
          "CC1",
          "CC1",
          "CC1",
          "CC1",
          "CC1",
          "CC1",
          "CC1",
          "CC1",
          "CC1",
          "CC1",
          "CC1",
          "CC1",
          "CC1",
          "CC1",
          "CC1",
          "CC1",
          "CC1",
          "CC1",
          "CC1",
          "CC1",
          "CC1",
          "CC1",
          "CC1",
          "CC1",
          "CC1",
          "CC1",
          "CC1",
          "CC1",
          "CC1",
          "CC1",
          "CC1",
          "CC1",
          "CC1",
          "CC1",
          "CC1",
          "CC1",
          "CC1",
          "CC1",
          "CC1",
          "CC1",
          "CC1",
          "CC1",
          "CC1",
          "CC1",
          "CC1",
          "CC1"
         ],
         "legendgroup": "CC1",
         "marker": {
          "color": "#EF553B",
          "symbol": "circle"
         },
         "mode": "markers",
         "name": "CC1",
         "orientation": "v",
         "showlegend": true,
         "type": "scatter",
         "x": [
          0.2798582,
          0.11551661,
          0.3065593,
          0.25711867,
          -0.058840152,
          -0.4949679,
          -0.4453986,
          -0.46189544,
          -0.5387047,
          -0.39702308,
          0.07143143,
          -0.53020525,
          -0.5486102,
          -0.58597237,
          -0.6072429,
          -0.44277817,
          -0.56715006,
          -0.5471318,
          -0.4727314,
          -0.10264145,
          -0.29090643,
          -0.2702978,
          -0.3223444,
          -0.3009996,
          -0.3158624,
          -0.4733444,
          -0.4539859,
          -0.429496,
          -0.4603223,
          -0.49873036,
          -0.14329688,
          0.0647631,
          0.048452374,
          0.0033461545,
          0.20188938,
          -0.07919256,
          0.19568083,
          -0.50026506,
          -0.48082045,
          -0.41087395,
          -0.3586636,
          -0.5968091,
          0.08472917,
          0.06501914,
          0.094754174,
          0.0404278,
          0.024705552,
          0.039169904,
          0.053357407,
          0.034102913,
          0.04413108,
          0.012530502,
          0.019952917,
          0.06958139,
          0.07604781,
          0.08453318,
          0.057541166,
          0.053595237,
          0.053931,
          0.2951122,
          0.2834801,
          0.21794748,
          0.243893,
          0.27042627,
          0.26837707,
          0.28955066,
          0.31498274,
          0.36197242,
          0.37392482,
          0.36789462,
          0.3898638,
          0.41711086,
          0.54124695,
          0.5287276,
          0.5700958,
          0.5671215,
          0.63659906,
          0.47257948,
          0.5278831,
          0.4970827,
          0.45800063,
          0.5132277,
          0.51381886,
          0.52992344,
          0.48058623,
          0.45348558,
          0.48933843,
          0.47599426,
          0.5384418,
          0.44885492,
          0.42291403,
          0.4293392,
          0.45104727,
          0.4813899,
          0.48244572,
          0.5962021,
          0.45028788,
          0.43897215,
          0.45830896,
          0.41800836,
          0.46504077,
          0.40596962,
          0.49813733,
          0.6665822,
          0.4908853,
          0.68439126,
          0.43535423,
          0.66452575,
          0.45442078,
          0.6746147,
          0.4466267,
          0.67075944,
          0.43020666,
          0.66591334,
          0.3860682,
          0.40666294,
          0.05498111,
          0.05827189,
          0.05635031,
          0.055679314,
          0.052151274
         ],
         "xaxis": "x",
         "y": [
          -0.7617942,
          -0.47548777,
          -0.7573657,
          -0.4359861,
          -0.06904386,
          -0.50692165,
          -0.5203726,
          -0.5359746,
          -0.45581603,
          -0.4884371,
          -0.34286237,
          -0.28996086,
          -0.40891287,
          -0.4098834,
          -0.42616478,
          -0.30488807,
          -0.422268,
          -0.36264873,
          -0.39033556,
          -0.20417029,
          -0.61008376,
          -0.5654929,
          -0.6223152,
          -0.5681718,
          -0.6038993,
          -0.4887112,
          -0.48558766,
          -0.45537755,
          -0.42843446,
          -0.40427372,
          -0.09809375,
          -0.22663707,
          -0.13454725,
          -0.14354293,
          -0.33981296,
          -0.15116565,
          -0.118704796,
          -0.56748325,
          -0.57804066,
          -0.5838169,
          -0.35515162,
          -0.37751755,
          -0.86479986,
          -0.88476527,
          -0.8934869,
          -0.9179722,
          -0.92414033,
          -0.9306493,
          -0.8752724,
          -0.89946985,
          -0.9022316,
          -0.9169357,
          -0.9147047,
          -0.8913577,
          -0.90187913,
          -0.8913441,
          -0.9039079,
          -0.9752874,
          -0.97012496,
          -0.68837804,
          -0.66639894,
          -0.70034367,
          -0.5299804,
          -0.72822714,
          -0.60638696,
          -0.72295797,
          -0.7206913,
          0.57117844,
          0.50654817,
          0.5479872,
          0.5293749,
          0.5204707,
          0.6191843,
          0.6366774,
          0.6455966,
          0.5948049,
          0.59681785,
          0.54780775,
          0.55288434,
          0.5967988,
          0.61604106,
          0.6477644,
          0.7455202,
          0.70591724,
          0.71841526,
          0.7839258,
          0.69778216,
          0.7868686,
          0.6835146,
          0.6647795,
          0.6446725,
          0.6970771,
          0.6542142,
          0.63557804,
          0.7611412,
          0.65443516,
          0.81661075,
          0.7379696,
          0.815584,
          0.7441712,
          0.8127812,
          0.767066,
          0.7774481,
          0.5953661,
          0.77550656,
          0.57425374,
          0.8125792,
          0.55875534,
          0.80437034,
          0.5853614,
          0.8094852,
          0.573757,
          0.7907873,
          0.5806177,
          0.6524703,
          0.66646385,
          -0.9768123,
          -0.97643584,
          -0.9751768,
          -0.9791834,
          -0.97729933
         ],
         "yaxis": "y"
        },
        {
         "customdata": [
          [
           126,
           "P24666",
           "CC2"
          ],
          [
           127,
           "Q9NP77",
           "CC2"
          ]
         ],
         "hovertemplate": "<b>%{hovertext}</b><br><br>label=%{customdata[2]}<br>pm1=%{x}<br>pm2=%{y}<br>proteins_id=%{customdata[0]}<br>accession=%{customdata[1]}<extra></extra>",
         "hovertext": [
          "CC2",
          "CC2"
         ],
         "legendgroup": "CC2",
         "marker": {
          "color": "#00cc96",
          "symbol": "circle"
         },
         "mode": "markers",
         "name": "CC2",
         "orientation": "v",
         "showlegend": true,
         "type": "scatter",
         "x": [
          -0.41176638,
          -0.36180627
         ],
         "xaxis": "x",
         "y": [
          -0.112092264,
          0.051710453
         ],
         "yaxis": "y"
        },
        {
         "customdata": [
          [
           128,
           "P30304",
           "CC3"
          ],
          [
           129,
           "P30305",
           "CC3"
          ],
          [
           130,
           "P30307",
           "CC3"
          ]
         ],
         "hovertemplate": "<b>%{hovertext}</b><br><br>label=%{customdata[2]}<br>pm1=%{x}<br>pm2=%{y}<br>proteins_id=%{customdata[0]}<br>accession=%{customdata[1]}<extra></extra>",
         "hovertext": [
          "CC3",
          "CC3",
          "CC3"
         ],
         "legendgroup": "CC3",
         "marker": {
          "color": "#ab63fa",
          "symbol": "circle"
         },
         "mode": "markers",
         "name": "CC3",
         "orientation": "v",
         "showlegend": true,
         "type": "scatter",
         "x": [
          -0.13563819,
          -0.0698276,
          -0.07396853
         ],
         "xaxis": "x",
         "y": [
          -0.5356014,
          -0.50402784,
          -0.5184951
         ],
         "yaxis": "y"
        },
        {
         "customdata": [
          [
           131,
           "Q99502",
           "HAD"
          ],
          [
           132,
           "O00167",
           "HAD"
          ],
          [
           133,
           "Q99504",
           "HAD"
          ],
          [
           134,
           "A0A0S2Z3Q2",
           "HAD"
          ],
          [
           135,
           "Q05D32",
           "HAD"
          ],
          [
           136,
           "O95476",
           "HAD"
          ],
          [
           137,
           "Q9Y5B0",
           "HAD"
          ],
          [
           138,
           "Q9GZU7",
           "HAD"
          ],
          [
           139,
           "O14595",
           "HAD"
          ],
          [
           140,
           "O15194",
           "HAD"
          ],
          [
           141,
           "Q3ZCQ8",
           "HAD"
          ],
          [
           142,
           "Q8WVY7",
           "HAD"
          ],
          [
           143,
           "Q9BXW7",
           "HAD"
          ],
          [
           144,
           "Q9H0R4",
           "HAD"
          ],
          [
           145,
           "Q9H008",
           "HAD"
          ],
          [
           146,
           "Q96GD0",
           "HAD"
          ],
          [
           147,
           "A6NDG6",
           "HAD"
          ]
         ],
         "hovertemplate": "<b>%{hovertext}</b><br><br>label=%{customdata[2]}<br>pm1=%{x}<br>pm2=%{y}<br>proteins_id=%{customdata[0]}<br>accession=%{customdata[1]}<extra></extra>",
         "hovertext": [
          "HAD",
          "HAD",
          "HAD",
          "HAD",
          "HAD",
          "HAD",
          "HAD",
          "HAD",
          "HAD",
          "HAD",
          "HAD",
          "HAD",
          "HAD",
          "HAD",
          "HAD",
          "HAD",
          "HAD"
         ],
         "legendgroup": "HAD",
         "marker": {
          "color": "#FFA15A",
          "symbol": "circle"
         },
         "mode": "markers",
         "name": "HAD",
         "orientation": "v",
         "showlegend": true,
         "type": "scatter",
         "x": [
          -0.36266237,
          -0.37778503,
          -0.35994953,
          -0.35060748,
          -0.23332563,
          -0.24695072,
          -0.3019558,
          -0.2073826,
          -0.2080731,
          -0.2273599,
          -0.22932112,
          -0.20054246,
          -0.3869664,
          -0.37817183,
          -0.36423716,
          -0.39464656,
          -0.39936328
         ],
         "xaxis": "x",
         "y": [
          0.7931003,
          0.8010382,
          0.81229377,
          0.7996152,
          0.79618305,
          0.80887324,
          0.7678689,
          0.8187796,
          0.7898171,
          0.8276301,
          0.77831423,
          0.7344142,
          0.76157826,
          0.7204648,
          0.7136121,
          0.6842101,
          0.7236775
         ],
         "yaxis": "y"
        },
        {
         "customdata": [
          [
           148,
           "P16118",
           "HP"
          ],
          [
           149,
           "O60825",
           "HP"
          ],
          [
           150,
           "Q16875",
           "HP"
          ],
          [
           151,
           "Q16877",
           "HP"
          ],
          [
           152,
           "P07738",
           "HP"
          ],
          [
           153,
           "Q6FHU2",
           "HP"
          ],
          [
           154,
           "P15259",
           "HP"
          ],
          [
           155,
           "Q8N0Y7",
           "HP"
          ],
          [
           156,
           "Q96HS1",
           "HP"
          ],
          [
           157,
           "P57075",
           "HP"
          ],
          [
           158,
           "Q8TF42",
           "HP"
          ],
          [
           159,
           "Q9NQ88",
           "HP"
          ],
          [
           160,
           "P11117",
           "HP"
          ],
          [
           161,
           "P15309",
           "HP"
          ],
          [
           162,
           "Q9BZG2",
           "HP"
          ],
          [
           163,
           "Q9NPH0",
           "HP"
          ],
          [
           164,
           "Q9UNW1",
           "HP"
          ],
          [
           165,
           "B7WPL9",
           "HP"
          ],
          [
           166,
           "A0A087WZV0",
           "HP"
          ],
          [
           167,
           "Q8TE99",
           "HP"
          ]
         ],
         "hovertemplate": "<b>%{hovertext}</b><br><br>label=%{customdata[2]}<br>pm1=%{x}<br>pm2=%{y}<br>proteins_id=%{customdata[0]}<br>accession=%{customdata[1]}<extra></extra>",
         "hovertext": [
          "HP",
          "HP",
          "HP",
          "HP",
          "HP",
          "HP",
          "HP",
          "HP",
          "HP",
          "HP",
          "HP",
          "HP",
          "HP",
          "HP",
          "HP",
          "HP",
          "HP",
          "HP",
          "HP",
          "HP"
         ],
         "legendgroup": "HP",
         "marker": {
          "color": "#19d3f3",
          "symbol": "circle"
         },
         "mode": "markers",
         "name": "HP",
         "orientation": "v",
         "showlegend": true,
         "type": "scatter",
         "x": [
          -0.7066764,
          -0.69111896,
          -0.7221262,
          -0.72595054,
          -0.7188816,
          -0.6975228,
          -0.68222934,
          -0.6638498,
          -0.6421967,
          -0.62876624,
          -0.60052913,
          -0.7174646,
          0.75720525,
          -0.67627096,
          0.7931217,
          0.7997824,
          0.7981135,
          0.82727,
          0.8281063,
          -0.6430069
         ],
         "xaxis": "x",
         "y": [
          0.16643853,
          0.1925805,
          0.16095236,
          0.17487116,
          0.12188697,
          0.1470844,
          0.108608015,
          0.13244532,
          0.066520534,
          0.03485582,
          0.059940133,
          0.019989068,
          0.035503976,
          0.3930512,
          0.030264026,
          0.05250334,
          0.0077529973,
          0.015497206,
          0.04001034,
          0.4340595
         ],
         "yaxis": "y"
        },
        {
         "customdata": [
          [
           168,
           "Q9NRX4",
           "PHP"
          ]
         ],
         "hovertemplate": "<b>%{hovertext}</b><br><br>label=%{customdata[2]}<br>pm1=%{x}<br>pm2=%{y}<br>proteins_id=%{customdata[0]}<br>accession=%{customdata[1]}<extra></extra>",
         "hovertext": [
          "PHP"
         ],
         "legendgroup": "PHP",
         "marker": {
          "color": "#FF6692",
          "symbol": "circle"
         },
         "mode": "markers",
         "name": "PHP",
         "orientation": "v",
         "showlegend": true,
         "type": "scatter",
         "x": [
          -0.5954104
         ],
         "xaxis": "x",
         "y": [
          -0.04413759
         ],
         "yaxis": "y"
        },
        {
         "customdata": [
          [
           169,
           "Q9H0C8",
           "PPM"
          ],
          [
           170,
           "Q9P0J1",
           "PPM"
          ],
          [
           171,
           "Q9P2J9",
           "PPM"
          ],
          [
           172,
           "O60346",
           "PPM"
          ],
          [
           173,
           "Q6ZVD8",
           "PPM"
          ],
          [
           174,
           "A8MPX8",
           "PPM"
          ],
          [
           175,
           "P35813",
           "PPM"
          ],
          [
           176,
           "O75688",
           "PPM"
          ],
          [
           177,
           "Q8N819",
           "PPM"
          ],
          [
           178,
           "O15297",
           "PPM"
          ],
          [
           179,
           "Q8WY54",
           "PPM"
          ],
          [
           180,
           "P49593",
           "PPM"
          ],
          [
           181,
           "O15355",
           "PPM"
          ],
          [
           182,
           "Q9ULR3",
           "PPM"
          ],
          [
           183,
           "Q5JR12",
           "PPM"
          ],
          [
           184,
           "Q96MI6",
           "PPM"
          ],
          [
           185,
           "Q8N3J5",
           "PPM"
          ],
          [
           186,
           "Q5SGD2",
           "PPM"
          ],
          [
           187,
           "Q8NI37",
           "PPM"
          ],
          [
           188,
           "Q15750",
           "PPM"
          ]
         ],
         "hovertemplate": "<b>%{hovertext}</b><br><br>label=%{customdata[2]}<br>pm1=%{x}<br>pm2=%{y}<br>proteins_id=%{customdata[0]}<br>accession=%{customdata[1]}<extra></extra>",
         "hovertext": [
          "PPM",
          "PPM",
          "PPM",
          "PPM",
          "PPM",
          "PPM",
          "PPM",
          "PPM",
          "PPM",
          "PPM",
          "PPM",
          "PPM",
          "PPM",
          "PPM",
          "PPM",
          "PPM",
          "PPM",
          "PPM",
          "PPM",
          "PPM"
         ],
         "legendgroup": "PPM",
         "marker": {
          "color": "#B6E880",
          "symbol": "circle"
         },
         "mode": "markers",
         "name": "PPM",
         "orientation": "v",
         "showlegend": true,
         "type": "scatter",
         "x": [
          -0.9407801,
          -0.93308383,
          -0.93829316,
          -0.94755584,
          -0.9541483,
          -0.8941245,
          -0.9613302,
          -0.9530714,
          -0.95248383,
          -0.9219689,
          -0.9590998,
          -0.9530479,
          -0.9103997,
          -0.9171122,
          -0.9243986,
          -0.9244996,
          -0.95725954,
          -0.94900525,
          -0.9652857,
          -0.93938446
         ],
         "xaxis": "x",
         "y": [
          0.04056696,
          -0.033685453,
          -0.025619283,
          0.058893625,
          0.059728406,
          -0.01837445,
          0.03726668,
          0.034417707,
          0.04065114,
          0.0070247725,
          0.043372214,
          0.046676412,
          -0.014694413,
          -0.030209795,
          -0.015095477,
          -0.021694208,
          0.049961463,
          0.051852107,
          0.043747943,
          -0.010356052
         ],
         "yaxis": "y"
        },
        {
         "customdata": [
          [
           189,
           "P13686",
           "PPPL"
          ],
          [
           190,
           "Q6ZNF0",
           "PPPL"
          ],
          [
           191,
           "P62136",
           "PPPL"
          ],
          [
           192,
           "P62140",
           "PPPL"
          ],
          [
           193,
           "P36873",
           "PPPL"
          ],
          [
           194,
           "P67775",
           "PPPL"
          ],
          [
           195,
           "P62714",
           "PPPL"
          ],
          [
           196,
           "Q08209",
           "PPPL"
          ],
          [
           197,
           "P16298",
           "PPPL"
          ],
          [
           198,
           "P48454",
           "PPPL"
          ],
          [
           199,
           "P60510",
           "PPPL"
          ],
          [
           200,
           "P53041",
           "PPPL"
          ],
          [
           201,
           "O00743",
           "PPPL"
          ],
          [
           202,
           "O14829",
           "PPPL"
          ],
          [
           203,
           "O14830",
           "PPPL"
          ]
         ],
         "hovertemplate": "<b>%{hovertext}</b><br><br>label=%{customdata[2]}<br>pm1=%{x}<br>pm2=%{y}<br>proteins_id=%{customdata[0]}<br>accession=%{customdata[1]}<extra></extra>",
         "hovertext": [
          "PPPL",
          "PPPL",
          "PPPL",
          "PPPL",
          "PPPL",
          "PPPL",
          "PPPL",
          "PPPL",
          "PPPL",
          "PPPL",
          "PPPL",
          "PPPL",
          "PPPL",
          "PPPL",
          "PPPL"
         ],
         "legendgroup": "PPPL",
         "marker": {
          "color": "#FF97FF",
          "symbol": "circle"
         },
         "mode": "markers",
         "name": "PPPL",
         "orientation": "v",
         "showlegend": true,
         "type": "scatter",
         "x": [
          0.34010002,
          0.5679783,
          0.738583,
          0.74013954,
          0.73232436,
          0.7198932,
          0.7105423,
          0.6832308,
          0.66521966,
          0.6543338,
          0.70198935,
          0.6994199,
          0.68127173,
          0.6756062,
          0.6999837
         ],
         "xaxis": "x",
         "y": [
          -0.27907848,
          -0.45708004,
          -0.53918725,
          -0.51672786,
          -0.5276132,
          -0.54633194,
          -0.51141715,
          -0.4818151,
          -0.49947515,
          -0.525651,
          -0.5303742,
          -0.55729675,
          -0.53890115,
          -0.5688115,
          -0.57394445
         ],
         "yaxis": "y"
        },
        {
         "customdata": [
          [
           204,
           "Q8IXW5",
           "RTR1"
          ]
         ],
         "hovertemplate": "<b>%{hovertext}</b><br><br>label=%{customdata[2]}<br>pm1=%{x}<br>pm2=%{y}<br>proteins_id=%{customdata[0]}<br>accession=%{customdata[1]}<extra></extra>",
         "hovertext": [
          "RTR1"
         ],
         "legendgroup": "RTR1",
         "marker": {
          "color": "#FECB52",
          "symbol": "circle"
         },
         "mode": "markers",
         "name": "RTR1",
         "orientation": "v",
         "showlegend": true,
         "type": "scatter",
         "x": [
          -0.0642516
         ],
         "xaxis": "x",
         "y": [
          0.1999689
         ],
         "yaxis": "y"
        }
       ],
       "layout": {
        "font": {
         "size": 11
        },
        "height": 800,
        "legend": {
         "title": {
          "text": "label"
         },
         "tracegroupgap": 0
        },
        "plot_bgcolor": "rgba(0, 0, 0, 0)",
        "shapes": [
         {
          "line": {
           "color": "black",
           "dash": "dot"
          },
          "opacity": 0.15,
          "type": "circle",
          "x0": -0.47058823529411764,
          "x1": 0.47058823529411764,
          "y0": -0.47058823529411764,
          "y1": 0.47058823529411764
         },
         {
          "line": {
           "color": "black",
           "dash": "dot"
          },
          "opacity": 0.15,
          "type": "circle",
          "x0": -0.644736842105263,
          "x1": 0.644736842105263,
          "y0": -0.644736842105263,
          "y1": 0.644736842105263
         },
         {
          "line": {
           "color": "black",
           "dash": "dot"
          },
          "opacity": 0.15,
          "type": "circle",
          "x0": -0.7705382436260623,
          "x1": 0.7705382436260623,
          "y0": -0.7705382436260623,
          "y1": 0.7705382436260623
         },
         {
          "line": {
           "color": "black",
           "dash": "dot"
          },
          "opacity": 0.15,
          "type": "circle",
          "x0": -0.8557007125890735,
          "x1": 0.8557007125890735,
          "y0": -0.8557007125890735,
          "y1": 0.8557007125890735
         },
         {
          "line": {
           "color": "black",
           "dash": "dot"
          },
          "opacity": 0.15,
          "type": "circle",
          "x0": -0.9108474990827932,
          "x1": 0.9108474990827932,
          "y0": -0.9108474990827932,
          "y1": 0.9108474990827932
         },
         {
          "line": {
           "color": "black",
           "dash": "dot"
          },
          "opacity": 0.15,
          "type": "circle",
          "x0": -0.9455374041239167,
          "x1": 0.9455374041239167,
          "y0": -0.9455374041239167,
          "y1": 0.9455374041239167
         },
         {
          "line": {
           "color": "Black"
          },
          "type": "circle",
          "x0": -1,
          "x1": 1,
          "xref": "x",
          "y0": -1,
          "y1": 1,
          "yref": "y"
         },
         {
          "fillcolor": "Black",
          "line": {
           "color": "Black"
          },
          "type": "circle",
          "x0": -0.005,
          "x1": 0.005,
          "xref": "x",
          "y0": -0.005,
          "y1": 0.005,
          "yref": "y"
         }
        ],
        "template": {
         "data": {
          "bar": [
           {
            "error_x": {
             "color": "#2a3f5f"
            },
            "error_y": {
             "color": "#2a3f5f"
            },
            "marker": {
             "line": {
              "color": "#E5ECF6",
              "width": 0.5
             },
             "pattern": {
              "fillmode": "overlay",
              "size": 10,
              "solidity": 0.2
             }
            },
            "type": "bar"
           }
          ],
          "barpolar": [
           {
            "marker": {
             "line": {
              "color": "#E5ECF6",
              "width": 0.5
             },
             "pattern": {
              "fillmode": "overlay",
              "size": 10,
              "solidity": 0.2
             }
            },
            "type": "barpolar"
           }
          ],
          "carpet": [
           {
            "aaxis": {
             "endlinecolor": "#2a3f5f",
             "gridcolor": "white",
             "linecolor": "white",
             "minorgridcolor": "white",
             "startlinecolor": "#2a3f5f"
            },
            "baxis": {
             "endlinecolor": "#2a3f5f",
             "gridcolor": "white",
             "linecolor": "white",
             "minorgridcolor": "white",
             "startlinecolor": "#2a3f5f"
            },
            "type": "carpet"
           }
          ],
          "choropleth": [
           {
            "colorbar": {
             "outlinewidth": 0,
             "ticks": ""
            },
            "type": "choropleth"
           }
          ],
          "contour": [
           {
            "colorbar": {
             "outlinewidth": 0,
             "ticks": ""
            },
            "colorscale": [
             [
              0,
              "#0d0887"
             ],
             [
              0.1111111111111111,
              "#46039f"
             ],
             [
              0.2222222222222222,
              "#7201a8"
             ],
             [
              0.3333333333333333,
              "#9c179e"
             ],
             [
              0.4444444444444444,
              "#bd3786"
             ],
             [
              0.5555555555555556,
              "#d8576b"
             ],
             [
              0.6666666666666666,
              "#ed7953"
             ],
             [
              0.7777777777777778,
              "#fb9f3a"
             ],
             [
              0.8888888888888888,
              "#fdca26"
             ],
             [
              1,
              "#f0f921"
             ]
            ],
            "type": "contour"
           }
          ],
          "contourcarpet": [
           {
            "colorbar": {
             "outlinewidth": 0,
             "ticks": ""
            },
            "type": "contourcarpet"
           }
          ],
          "heatmap": [
           {
            "colorbar": {
             "outlinewidth": 0,
             "ticks": ""
            },
            "colorscale": [
             [
              0,
              "#0d0887"
             ],
             [
              0.1111111111111111,
              "#46039f"
             ],
             [
              0.2222222222222222,
              "#7201a8"
             ],
             [
              0.3333333333333333,
              "#9c179e"
             ],
             [
              0.4444444444444444,
              "#bd3786"
             ],
             [
              0.5555555555555556,
              "#d8576b"
             ],
             [
              0.6666666666666666,
              "#ed7953"
             ],
             [
              0.7777777777777778,
              "#fb9f3a"
             ],
             [
              0.8888888888888888,
              "#fdca26"
             ],
             [
              1,
              "#f0f921"
             ]
            ],
            "type": "heatmap"
           }
          ],
          "heatmapgl": [
           {
            "colorbar": {
             "outlinewidth": 0,
             "ticks": ""
            },
            "colorscale": [
             [
              0,
              "#0d0887"
             ],
             [
              0.1111111111111111,
              "#46039f"
             ],
             [
              0.2222222222222222,
              "#7201a8"
             ],
             [
              0.3333333333333333,
              "#9c179e"
             ],
             [
              0.4444444444444444,
              "#bd3786"
             ],
             [
              0.5555555555555556,
              "#d8576b"
             ],
             [
              0.6666666666666666,
              "#ed7953"
             ],
             [
              0.7777777777777778,
              "#fb9f3a"
             ],
             [
              0.8888888888888888,
              "#fdca26"
             ],
             [
              1,
              "#f0f921"
             ]
            ],
            "type": "heatmapgl"
           }
          ],
          "histogram": [
           {
            "marker": {
             "pattern": {
              "fillmode": "overlay",
              "size": 10,
              "solidity": 0.2
             }
            },
            "type": "histogram"
           }
          ],
          "histogram2d": [
           {
            "colorbar": {
             "outlinewidth": 0,
             "ticks": ""
            },
            "colorscale": [
             [
              0,
              "#0d0887"
             ],
             [
              0.1111111111111111,
              "#46039f"
             ],
             [
              0.2222222222222222,
              "#7201a8"
             ],
             [
              0.3333333333333333,
              "#9c179e"
             ],
             [
              0.4444444444444444,
              "#bd3786"
             ],
             [
              0.5555555555555556,
              "#d8576b"
             ],
             [
              0.6666666666666666,
              "#ed7953"
             ],
             [
              0.7777777777777778,
              "#fb9f3a"
             ],
             [
              0.8888888888888888,
              "#fdca26"
             ],
             [
              1,
              "#f0f921"
             ]
            ],
            "type": "histogram2d"
           }
          ],
          "histogram2dcontour": [
           {
            "colorbar": {
             "outlinewidth": 0,
             "ticks": ""
            },
            "colorscale": [
             [
              0,
              "#0d0887"
             ],
             [
              0.1111111111111111,
              "#46039f"
             ],
             [
              0.2222222222222222,
              "#7201a8"
             ],
             [
              0.3333333333333333,
              "#9c179e"
             ],
             [
              0.4444444444444444,
              "#bd3786"
             ],
             [
              0.5555555555555556,
              "#d8576b"
             ],
             [
              0.6666666666666666,
              "#ed7953"
             ],
             [
              0.7777777777777778,
              "#fb9f3a"
             ],
             [
              0.8888888888888888,
              "#fdca26"
             ],
             [
              1,
              "#f0f921"
             ]
            ],
            "type": "histogram2dcontour"
           }
          ],
          "mesh3d": [
           {
            "colorbar": {
             "outlinewidth": 0,
             "ticks": ""
            },
            "type": "mesh3d"
           }
          ],
          "parcoords": [
           {
            "line": {
             "colorbar": {
              "outlinewidth": 0,
              "ticks": ""
             }
            },
            "type": "parcoords"
           }
          ],
          "pie": [
           {
            "automargin": true,
            "type": "pie"
           }
          ],
          "scatter": [
           {
            "fillpattern": {
             "fillmode": "overlay",
             "size": 10,
             "solidity": 0.2
            },
            "type": "scatter"
           }
          ],
          "scatter3d": [
           {
            "line": {
             "colorbar": {
              "outlinewidth": 0,
              "ticks": ""
             }
            },
            "marker": {
             "colorbar": {
              "outlinewidth": 0,
              "ticks": ""
             }
            },
            "type": "scatter3d"
           }
          ],
          "scattercarpet": [
           {
            "marker": {
             "colorbar": {
              "outlinewidth": 0,
              "ticks": ""
             }
            },
            "type": "scattercarpet"
           }
          ],
          "scattergeo": [
           {
            "marker": {
             "colorbar": {
              "outlinewidth": 0,
              "ticks": ""
             }
            },
            "type": "scattergeo"
           }
          ],
          "scattergl": [
           {
            "marker": {
             "colorbar": {
              "outlinewidth": 0,
              "ticks": ""
             }
            },
            "type": "scattergl"
           }
          ],
          "scattermapbox": [
           {
            "marker": {
             "colorbar": {
              "outlinewidth": 0,
              "ticks": ""
             }
            },
            "type": "scattermapbox"
           }
          ],
          "scatterpolar": [
           {
            "marker": {
             "colorbar": {
              "outlinewidth": 0,
              "ticks": ""
             }
            },
            "type": "scatterpolar"
           }
          ],
          "scatterpolargl": [
           {
            "marker": {
             "colorbar": {
              "outlinewidth": 0,
              "ticks": ""
             }
            },
            "type": "scatterpolargl"
           }
          ],
          "scatterternary": [
           {
            "marker": {
             "colorbar": {
              "outlinewidth": 0,
              "ticks": ""
             }
            },
            "type": "scatterternary"
           }
          ],
          "surface": [
           {
            "colorbar": {
             "outlinewidth": 0,
             "ticks": ""
            },
            "colorscale": [
             [
              0,
              "#0d0887"
             ],
             [
              0.1111111111111111,
              "#46039f"
             ],
             [
              0.2222222222222222,
              "#7201a8"
             ],
             [
              0.3333333333333333,
              "#9c179e"
             ],
             [
              0.4444444444444444,
              "#bd3786"
             ],
             [
              0.5555555555555556,
              "#d8576b"
             ],
             [
              0.6666666666666666,
              "#ed7953"
             ],
             [
              0.7777777777777778,
              "#fb9f3a"
             ],
             [
              0.8888888888888888,
              "#fdca26"
             ],
             [
              1,
              "#f0f921"
             ]
            ],
            "type": "surface"
           }
          ],
          "table": [
           {
            "cells": {
             "fill": {
              "color": "#EBF0F8"
             },
             "line": {
              "color": "white"
             }
            },
            "header": {
             "fill": {
              "color": "#C8D4E3"
             },
             "line": {
              "color": "white"
             }
            },
            "type": "table"
           }
          ]
         },
         "layout": {
          "annotationdefaults": {
           "arrowcolor": "#2a3f5f",
           "arrowhead": 0,
           "arrowwidth": 1
          },
          "autotypenumbers": "strict",
          "coloraxis": {
           "colorbar": {
            "outlinewidth": 0,
            "ticks": ""
           }
          },
          "colorscale": {
           "diverging": [
            [
             0,
             "#8e0152"
            ],
            [
             0.1,
             "#c51b7d"
            ],
            [
             0.2,
             "#de77ae"
            ],
            [
             0.3,
             "#f1b6da"
            ],
            [
             0.4,
             "#fde0ef"
            ],
            [
             0.5,
             "#f7f7f7"
            ],
            [
             0.6,
             "#e6f5d0"
            ],
            [
             0.7,
             "#b8e186"
            ],
            [
             0.8,
             "#7fbc41"
            ],
            [
             0.9,
             "#4d9221"
            ],
            [
             1,
             "#276419"
            ]
           ],
           "sequential": [
            [
             0,
             "#0d0887"
            ],
            [
             0.1111111111111111,
             "#46039f"
            ],
            [
             0.2222222222222222,
             "#7201a8"
            ],
            [
             0.3333333333333333,
             "#9c179e"
            ],
            [
             0.4444444444444444,
             "#bd3786"
            ],
            [
             0.5555555555555556,
             "#d8576b"
            ],
            [
             0.6666666666666666,
             "#ed7953"
            ],
            [
             0.7777777777777778,
             "#fb9f3a"
            ],
            [
             0.8888888888888888,
             "#fdca26"
            ],
            [
             1,
             "#f0f921"
            ]
           ],
           "sequentialminus": [
            [
             0,
             "#0d0887"
            ],
            [
             0.1111111111111111,
             "#46039f"
            ],
            [
             0.2222222222222222,
             "#7201a8"
            ],
            [
             0.3333333333333333,
             "#9c179e"
            ],
            [
             0.4444444444444444,
             "#bd3786"
            ],
            [
             0.5555555555555556,
             "#d8576b"
            ],
            [
             0.6666666666666666,
             "#ed7953"
            ],
            [
             0.7777777777777778,
             "#fb9f3a"
            ],
            [
             0.8888888888888888,
             "#fdca26"
            ],
            [
             1,
             "#f0f921"
            ]
           ]
          },
          "colorway": [
           "#636efa",
           "#EF553B",
           "#00cc96",
           "#ab63fa",
           "#FFA15A",
           "#19d3f3",
           "#FF6692",
           "#B6E880",
           "#FF97FF",
           "#FECB52"
          ],
          "font": {
           "color": "#2a3f5f"
          },
          "geo": {
           "bgcolor": "white",
           "lakecolor": "white",
           "landcolor": "#E5ECF6",
           "showlakes": true,
           "showland": true,
           "subunitcolor": "white"
          },
          "hoverlabel": {
           "align": "left"
          },
          "hovermode": "closest",
          "mapbox": {
           "style": "light"
          },
          "paper_bgcolor": "white",
          "plot_bgcolor": "#E5ECF6",
          "polar": {
           "angularaxis": {
            "gridcolor": "white",
            "linecolor": "white",
            "ticks": ""
           },
           "bgcolor": "#E5ECF6",
           "radialaxis": {
            "gridcolor": "white",
            "linecolor": "white",
            "ticks": ""
           }
          },
          "scene": {
           "xaxis": {
            "backgroundcolor": "#E5ECF6",
            "gridcolor": "white",
            "gridwidth": 2,
            "linecolor": "white",
            "showbackground": true,
            "ticks": "",
            "zerolinecolor": "white"
           },
           "yaxis": {
            "backgroundcolor": "#E5ECF6",
            "gridcolor": "white",
            "gridwidth": 2,
            "linecolor": "white",
            "showbackground": true,
            "ticks": "",
            "zerolinecolor": "white"
           },
           "zaxis": {
            "backgroundcolor": "#E5ECF6",
            "gridcolor": "white",
            "gridwidth": 2,
            "linecolor": "white",
            "showbackground": true,
            "ticks": "",
            "zerolinecolor": "white"
           }
          },
          "shapedefaults": {
           "line": {
            "color": "#2a3f5f"
           }
          },
          "ternary": {
           "aaxis": {
            "gridcolor": "white",
            "linecolor": "white",
            "ticks": ""
           },
           "baxis": {
            "gridcolor": "white",
            "linecolor": "white",
            "ticks": ""
           },
           "bgcolor": "#E5ECF6",
           "caxis": {
            "gridcolor": "white",
            "linecolor": "white",
            "ticks": ""
           }
          },
          "title": {
           "x": 0.05
          },
          "xaxis": {
           "automargin": true,
           "gridcolor": "white",
           "linecolor": "white",
           "ticks": "",
           "title": {
            "standoff": 15
           },
           "zerolinecolor": "white",
           "zerolinewidth": 2
          },
          "yaxis": {
           "automargin": true,
           "gridcolor": "white",
           "linecolor": "white",
           "ticks": "",
           "title": {
            "standoff": 15
           },
           "zerolinecolor": "white",
           "zerolinewidth": 2
          }
         }
        },
        "title": {
         "text": "PM projection of phosphatases using PLM embeddings",
         "x": 0.5
        },
        "xaxis": {
         "anchor": "y",
         "constrain": "domain",
         "domain": [
          0,
          1
         ],
         "range": [
          -1.1,
          1.1
         ],
         "title": {
          "text": "pm1"
         }
        },
        "yaxis": {
         "anchor": "x",
         "domain": [
          0,
          1
         ],
         "scaleanchor": "x",
         "scaleratio": 1,
         "title": {
          "text": "pm2"
         }
        },
        "yaxis2": {
         "layer": "below traces",
         "matches": "y",
         "overlaying": "y"
        }
       }
      }
     },
     "metadata": {},
     "output_type": "display_data"
    }
   ],
   "source": [
    "# OPTIONS =================================================\n",
    "#Here you can set different parameters to color & annotate the resulting projection:\n",
    "title = \"PM projection of phosphatases using PLM embeddings\" \n",
    "#----------------------------------------------------------\n",
    "# Select the coloring from annotation .csv file:\n",
    "labels_name = \"label\"\n",
    "# Select classes to label among the \"labels_name\" or \"second_labels_name\" column (comma separated list):\n",
    "second_labels_name = \"\"\n",
    "labels_text = []\n",
    "show_text = False\n",
    "#----------------------------------------------------------\n",
    "# Use a custom color palette:\n",
    "color_palette = colour_palette #Default: None\n",
    "use_custom_palette = True\n",
    "#==========================================================\n",
    "\n",
    "\n",
    "#Check projection visualization parameters\n",
    "#Labels name\n",
    "if labels_name == \"\":\n",
    "    labels_name = None\n",
    "elif labels_name not in annotation_names:\n",
    "    raise NameError(f\"labels_name {labels_name} is not in the availables annotations.\\nAvailables annotations: {annotation_names}\")\n",
    "#Second labels name\n",
    "if second_labels_name == \"\":\n",
    "    second_labels_name = None\n",
    "elif second_labels_name not in annotation_names:\n",
    "    raise NameError(f'\"second_labels_name\" {second_labels_name} is not in the availables annotations.\\nAvailables annotations: {annotation_names}')\n",
    "\n",
    "if not use_custom_palette:\n",
    "    color_palette = None\n",
    "\n",
    "# Check labels and data are in the same order\n",
    "\n",
    "#Plot graph\n",
    "fig = plot_embedding_interactive(df_embedding, \n",
    "                                 labels_name = labels_name,\n",
    "                                 second_labels_name = second_labels_name, \n",
    "                                 show_text = show_text,\n",
    "                                 labels_text = labels_text,\n",
    "                                 color_palette = color_palette, \n",
    "                                 title = title, \n",
    "                                 fontsize = 11)\n",
    "fig.show()"
   ]
  },
  {
   "cell_type": "code",
   "execution_count": null,
   "metadata": {},
   "outputs": [],
   "source": [
    "# OPTIONS =================================================\n",
    "#Here you can set different parameters to color & annotate the resulting projection:\n",
    "title = \"PM projection of thioredoxins colored by species\"\n",
    "#----------------------------------------------------------\n",
    "# Select the coloring from annotation .csv file:\n",
    "labels_name = \"Species\"\n",
    "# Select classes to label among the \"labels_name\" or \"second_labels_name\" column (comma separated list):\n",
    "second_labels_name = \"\"\n",
    "labels_text = []\n",
    "show_text = False\n",
    "#----------------------------------------------------------\n",
    "# Use a custom color palette:\n",
    "color_palette = trx_palette #Default: None\n",
    "use_custom_palette = True\n",
    "#==========================================================\n",
    "\n",
    "\n",
    "#Check projection visualization parameters\n",
    "#Labels name\n",
    "if labels_name == \"\":\n",
    "    labels_name = None\n",
    "elif labels_name not in annotation_names:\n",
    "    raise NameError(f\"labels_name {labels_name} is not in the availables annotations.\\nAvailables annotations: {annotation_names}\")\n",
    "#Second labels name\n",
    "if second_labels_name == \"\":\n",
    "    second_labels_name = None\n",
    "elif second_labels_name not in annotation_names:\n",
    "    raise NameError(f'\"second_labels_name\" {second_labels_name} is not in the availables annotations.\\nAvailables annotations: {annotation_names}')\n",
    "\n",
    "if not use_custom_palette:\n",
    "    color_palette = None\n",
    "\n",
    "#Plot graph\n",
    "fig = plot_embedding_interactive(df_embedding, \n",
    "                                 labels_name = labels_name,\n",
    "                                 second_labels_name = second_labels_name, \n",
    "                                 show_text = show_text,\n",
    "                                 labels_text = labels_text,\n",
    "                                 color_palette = color_palette, \n",
    "                                 title = title, \n",
    "                                 fontsize = 11)\n",
    "fig.show()"
   ]
  },
  {
   "cell_type": "markdown",
   "metadata": {},
   "source": [
    "### Save plot to file"
   ]
  },
  {
   "cell_type": "code",
   "execution_count": 10,
   "metadata": {},
   "outputs": [],
   "source": [
    "# OPTIONS =================================================\n",
    "output_name = \"phosphatase_basic_w_embeddings\"\n",
    "output_format = \"html\" #Format availables: [\"png\", \"html\", \"pdf\", \"svg\"]\n",
    "#==========================================================\n",
    "\n",
    "\n",
    "if output_format != \"html\":\n",
    "    fig.write_image(f\"{output_name}.{output_format}\", engine=\"kaleido\")\n",
    "else:\n",
    "    fig.write_html(f\"{output_name}.{output_format}\")"
   ]
  },
  {
   "cell_type": "code",
   "execution_count": null,
   "metadata": {},
   "outputs": [],
   "source": []
  }
 ],
 "metadata": {
  "accelerator": "GPU",
  "colab": {
   "provenance": []
  },
  "gpuClass": "standard",
  "kernelspec": {
   "display_name": "poincare",
   "language": "python",
   "name": "python3"
  },
  "language_info": {
   "codemirror_mode": {
    "name": "ipython",
    "version": 3
   },
   "file_extension": ".py",
   "mimetype": "text/x-python",
   "name": "python",
   "nbconvert_exporter": "python",
   "pygments_lexer": "ipython3",
   "version": "3.12.2"
  }
 },
 "nbformat": 4,
 "nbformat_minor": 1
}
