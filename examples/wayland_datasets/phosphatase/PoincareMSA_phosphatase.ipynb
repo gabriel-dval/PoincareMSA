{
 "cells": [
  {
   "cell_type": "markdown",
   "metadata": {
    "id": "view-in-github"
   },
   "source": [
    "[![Open In Colab](https://colab.research.google.com/assets/colab-badge.svg)](https://colab.research.google.com/github/DSIMB/PoincareMSA/blob/master/PoincareMSA_colab.ipynb)"
   ]
  },
  {
   "cell_type": "markdown",
   "metadata": {
    "id": "W5FTaqy0xqw2"
   },
   "source": [
    "<img src=\"https://github.com/DSIMB/PoincareMSA/blob/master/.github/PoincareMSA_small_logo.png?raw=true\" height=\"100\" style=\"height:100px;margin-left: 0px;\">\n",
    "\n",
    "# Poincaré maps for visualization of large protein famillies\n",
    "\n",
    "**Authors**: Anna Klimovskaia Susmelj, Yani Ren, Yann Vander Meersche, Jean-Christophe Gelly and Tatiana Galochkina\n",
    "\n",
    "PoincaréMSA builds an interactive projection of an input protein multiple sequence alignemnt (MSA) using a method based on Poincaré maps described by Klimovskaia et al [1]. It reproduces both local proximities of protein sequences and hierarchy contained in give data. Thus, sequences located closer to the center of projection correspond to the proteins sharing the most general functional properites and/or appearing at the earlier stages of evolution. Source code is available at https://github.com/DSIMB/PoincareMSA.\n",
    "\n",
    "[1] Klimovskaia, A., Lopez-Paz, D., Bottou, L. et al. Poincaré maps for analyzing complex hierarchies in single-cell data. Nat Commun 11, 2966 (2020)."
   ]
  },
  {
   "cell_type": "markdown",
   "metadata": {
    "id": "Oa7Rrq-YzfQB"
   },
   "source": [
    "# Notebook initialization"
   ]
  },
  {
   "cell_type": "code",
   "execution_count": 1,
   "metadata": {},
   "outputs": [
    {
     "name": "stdout",
     "output_type": "stream",
     "text": [
      "/Users/gabrielduval/Desktop/Paris_Cite/Year2/Projet_Long/PoincareMSA\n"
     ]
    }
   ],
   "source": [
    "# Update working directory\n",
    "\n",
    "%cd ../../../"
   ]
  },
  {
   "cell_type": "code",
   "execution_count": 3,
   "metadata": {
    "cellView": "form",
    "colab": {
     "base_uri": "https://localhost:8080/"
    },
    "id": "X_SO37g-kQq7",
    "outputId": "c30184db-2ef2-4a87-fd43-db8fd3ed5379"
   },
   "outputs": [],
   "source": [
    "#Load dependencies\n",
    "import os\n",
    "import numpy as np\n",
    "import pandas as pd\n",
    "import subprocess\n",
    "import json\n",
    "import warnings\n",
    "warnings.filterwarnings('ignore')\n",
    "\n",
    "#Import visualization functions\n",
    "from scripts.visualize_projection.pplots_new import read_embeddings, plot_embedding, plot_embedding_interactive, rotate, get_colors\n",
    "from scripts.prepare_data.mmseqs2_api import run_mmseqs2\n",
    "from scripts.prepare_data.uniprot_idmapping_api import submit_id_mapping, check_id_mapping_results_ready, get_id_mapping_results_link, get_id_mapping_results_search\n",
    "%matplotlib inline\n",
    "\n",
    "#Create optional variables\n",
    "path_annotation = \"\""
   ]
  },
  {
   "cell_type": "markdown",
   "metadata": {
    "id": "IPi6cky3wgC8"
   },
   "source": [
    "# Data import"
   ]
  },
  {
   "cell_type": "code",
   "execution_count": 9,
   "metadata": {
    "cellView": "form",
    "colab": {
     "base_uri": "https://localhost:8080/",
     "height": 75,
     "resources": {
      "http://localhost:8080/nbextensions/google.colab/files.js": {
       "data": "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",
       "headers": [
        [
         "content-type",
         "application/javascript"
        ]
       ],
       "ok": true,
       "status": 200,
       "status_text": "OK"
      }
     }
    },
    "id": "GcbgnooHwIGh",
    "outputId": "dc30ce27-d01c-4953-cdb7-9d5fe599ad6d"
   },
   "outputs": [
    {
     "name": "stdout",
     "output_type": "stream",
     "text": [
      "\n",
      "Number of sequences found: 204.\n",
      "\n",
      "Annotation file correctly loaded.\n",
      "3 annotations found: ['proteins_id', 'accession', 'label'].\n"
     ]
    }
   ],
   "source": [
    "# OPTIONS =================================================\n",
    "# Path to MSA in mfasta format OR folder containing the embeddings - leave the other one as None\n",
    "mfasta = None\n",
    "embedding_path = 'embeddings/ankh_base_phosphatase/'\n",
    "\n",
    "#Annotation file (.csv) or UniProt ID list. (Emtpy strings for no annotations)\n",
    "path_annotation_csv = \"examples/wayland_datasets/phosphatase/phosphatase_labels.csv\"   # Path or \"\"\n",
    "# OR\n",
    "path_uniprot_list = \"\"   # Path or \"\"\n",
    "#==========================================================\n",
    "\n",
    "\n",
    "#Check files\n",
    "#mfasta\n",
    "nb_seq = 0\n",
    "if mfasta is not None and embedding_path is not None:\n",
    "    print('You cannot import both an mfasta and an embedding folder ! Choose one and leave the other as None.')\n",
    "elif mfasta is not None:\n",
    "    if os.path.isfile(mfasta):\n",
    "        with open(mfasta, \"r\") as f_in:\n",
    "            for line in f_in:\n",
    "                if line[0] == \">\":\n",
    "                    nb_seq += 1\n",
    "        print(f\"\\nNumber of sequences found: {nb_seq}.\")\n",
    "    else:\n",
    "        print(f\"File {mfasta} not found.\")\n",
    "elif embedding_path is not None:\n",
    "    if os.path.exists(embedding_path):\n",
    "        nb_seq = len([s for s in os.listdir(embedding_path) if '.pt' in s])\n",
    "        print(f\"\\nNumber of sequences found: {nb_seq}.\")\n",
    "    else:\n",
    "        print(f\"Folder {embedding_path} not found.\")\n",
    "else:\n",
    "    print('Neither a valid mfasta or embedding folder has been provided')\n",
    "\n",
    "#Check that only one path is selected\n",
    "if path_annotation_csv and path_uniprot_list:\n",
    "    raise ValueError(\"Use only one file path (path_annotation_csv OR path_uniprot_list).\")\n",
    "\n",
    "if path_annotation_csv:\n",
    "    if os.path.isfile(path_annotation_csv):\n",
    "        try:\n",
    "            df_annotation = pd.read_csv(path_annotation_csv)\n",
    "        except:\n",
    "            raise ValueError(\"Annotation file is not in .csv format.\")\n",
    "        else:\n",
    "            if len(df_annotation) != nb_seq:\n",
    "                raise ValueError(\"Annotation file doesn't match the .mfasta file length.\")\n",
    "\n",
    "        #Add id column\n",
    "        if \"proteins_id\" not in df_annotation.columns:\n",
    "            df_annotation.insert(0, \"proteins_id\", range(len(df_annotation)))\n",
    "        path_annotation = path_annotation_csv\n",
    "            \n",
    "        print(\"\\nAnnotation file correctly loaded.\")\n",
    "        annotation_names = list(df_annotation.columns)\n",
    "        print(f\"{len(annotation_names)} annotations found: {annotation_names}.\")\n",
    "    else:\n",
    "        print(f\"File {path_annotation_csv} not found.\")\n",
    "\n",
    "elif path_uniprot_list:\n",
    "    if os.path.isfile(path_uniprot_list):\n",
    "        try:\n",
    "            UnP_ids = np.genfromtxt(path_uniprot_list, dtype=\"str\")\n",
    "        except:\n",
    "            raise ValueError(\"UniProt IDs file is not in a valid format.\")\n",
    "        else:\n",
    "            if len(UnP_ids) != nb_seq:\n",
    "                raise ValueError(\"UniProt IDs file doesn't match the .mfasta file length.\")     \n",
    "\n",
    "            #Split UniProtKB and UniParc IDs\n",
    "            uniparc_ids = []\n",
    "            uniprot_ids = []\n",
    "            for unp in UnP_ids:\n",
    "                if len(unp) == 13 and unp[:2] == \"UP\":\n",
    "                    uniparc_ids.append(unp)\n",
    "                else:\n",
    "                    uniprot_ids.append(unp)\n",
    "\n",
    "            #Fetch UniProtKB annotations\n",
    "            job_id = submit_id_mapping(\n",
    "                from_db=\"UniProtKB_AC-ID\", to_db=\"UniParc\", ids=uniprot_ids\n",
    "            )\n",
    "\n",
    "            if check_id_mapping_results_ready(job_id):\n",
    "                link = get_id_mapping_results_link(job_id)\n",
    "                results = get_id_mapping_results_search(link)\n",
    "\n",
    "            #Fetch UniParc annotations\n",
    "            job_id = submit_id_mapping(\n",
    "                from_db=\"UniParc\", to_db=\"UniParc\", ids=uniparc_ids\n",
    "            )\n",
    "\n",
    "            if check_id_mapping_results_ready(job_id):\n",
    "                link = get_id_mapping_results_link(job_id)\n",
    "                results2 = get_id_mapping_results_search(link)\n",
    "\n",
    "            #Create annotation dataframe\n",
    "            df_annotation = pd.DataFrame(UnP_ids, columns=[\"UnP_ID\"])\n",
    "            df_annotation[[\"organism\", \"proteinName\", \"taxonId\", \"species\", \"genus\", \\\n",
    "                           \"family\", \"order\", \"class\", \"phylum\", \"clade\", \"superkingdom\"]] = \"\"\n",
    "\n",
    "            #Fill the annotation DataFrame\n",
    "            for dict_res in results[\"results\"] + results2[\"results\"]:\n",
    "                try:\n",
    "                    unp = dict_res[\"from\"]\n",
    "                    prot_name = dict_res[\"to\"][\"uniParcCrossReferences\"][0][\"proteinName\"]\n",
    "                    df_annotation.loc[df_annotation[\"UnP_ID\"] == unp, \"proteinName\"] = prot_name\n",
    "                    scientific_name = dict_res[\"to\"][\"uniParcCrossReferences\"][0][\"organism\"][\"scientificName\"]\n",
    "                    taxid = dict_res[\"to\"][\"uniParcCrossReferences\"][0][\"organism\"][\"taxonId\"]\n",
    "                    df_annotation.loc[df_annotation[\"UnP_ID\"] == unp, \"organism\"] = scientific_name\n",
    "                    df_annotation.loc[df_annotation[\"UnP_ID\"] == unp, \"taxonId\"] = taxid\n",
    "                except KeyError:\n",
    "                    continue\n",
    "\n",
    "            #Add lineage from NCBI Taxonomist\n",
    "            taxon_ids = df_annotation.loc[df_annotation[\"taxonId\"].notnull(), 'taxonId'].to_numpy()\n",
    "            taxon_ids = list(set(taxon_ids))\n",
    "            taxon_ids = list(map(str, taxon_ids))\n",
    "            bash_command = f\"ncbi-taxonomist resolve -t {','.join(taxon_ids)}\"\n",
    "            list_taxon = subprocess.run(bash_command, shell=True, capture_output=True, text=True).stdout.strip().split(\"\\n\")\n",
    "\n",
    "            if list_taxon != [\"\"]:\n",
    "                for taxon in list_taxon:\n",
    "                    jsonString = taxon\n",
    "                    taxon_dict = json.loads(jsonString)\n",
    "                    query = taxon_dict[\"query\"]\n",
    "                    for lineage in taxon_dict[\"lineage\"]:\n",
    "                        rank = lineage[\"rank\"]\n",
    "                        if rank in [\"species\", \"genus\", \"family\", \"order\", \"class\", \"phylum\", \"clade\", \"superkingdom\"]:\n",
    "                            name = lineage[\"name\"]\n",
    "                            df_annotation.loc[df_annotation[\"taxonId\"] == int(query), rank] = name\n",
    "\n",
    "            #Add id column\n",
    "            if \"proteins_id\" not in df_annotation.columns:\n",
    "                df_annotation.insert(0, \"proteins_id\", range(len(df_annotation)))\n",
    "\n",
    "            #Save annotation to csv\n",
    "            path_annotation = \"auto_annot.csv\"\n",
    "            df_annotation.to_csv(path_annotation, index=False)\n",
    "\n",
    "            print(\"\\nAnnotation correctly fetched.\")\n",
    "            annotation_names = list(df_annotation.columns)\n",
    "            print(f\"{len(annotation_names)} annotations found: {annotation_names}.\")\n",
    "    else:\n",
    "        print(f\"File {path_uniprot_list} not found.\")\n",
    "else:\n",
    "    print(\"No annotation file selected.\")\n",
    "    path_annotation = \"\""
   ]
  },
  {
   "cell_type": "markdown",
   "metadata": {
    "id": "_H2vnIt_3kUz"
   },
   "source": [
    "# Data preparation\n",
    "Here we clean the input .mfasta alignment and translate each sequence to a vector ready for projection. If you are using embeddings rather than mfasta, please skip straight to the projection section (no preparation necessary for the emnbeddings)."
   ]
  },
  {
   "cell_type": "markdown",
   "metadata": {},
   "source": [
    "### Parameters for data preparation"
   ]
  },
  {
   "cell_type": "code",
   "execution_count": 21,
   "metadata": {
    "cellView": "form",
    "id": "9hLq_MgX6hFC"
   },
   "outputs": [
    {
     "name": "stdout",
     "output_type": "stream",
     "text": [
      "Input file: examples/wayland_datasets/phosphatase/phosphatase.mfasta\n",
      "Name of the protein family: phosphatase\n",
      "filter_gaps finished for examples/wayland_datasets/phosphatase/phosphatase.mfasta\n",
      "mfasta2fasta finished for phosphatase_data/phosphatase_data.clean0.9.mfasta\n"
     ]
    }
   ],
   "source": [
    "# OPTIONS =================================================\n",
    "# Job name\n",
    "#Name for the output folder\n",
    "out_name = \"phosphatase_data\"\n",
    "#----------------------------------------------------------\n",
    "# Threshold for filtering gapped positions\n",
    "#Positions with proportion of gaps above the given threshold are removed from the alignment.\n",
    "#If your alignment is very gapped, you may want to increase this value.\n",
    "gapth = 0.9 \n",
    "#==========================================================\n",
    "\n",
    "\n",
    "# Run data preparation\n",
    "#Data preparation consists in `.mfasta` cleaning according to a gap threshold and\n",
    "#translation of each sequence to the PSSM profile.\n",
    "prep_parameters = \"scripts/prepare_data\" + \" \" + mfasta + \" \" + out_name + \" \" + out_name + \" \" + str(gapth)\n",
    "bash_projection = \"bash scripts/prepare_data/create_projection.sh \" + prep_parameters\n",
    "!{bash_projection}"
   ]
  },
  {
   "cell_type": "markdown",
   "metadata": {
    "id": "Dv0lg4Jn-dfG"
   },
   "source": [
    "# Projection"
   ]
  },
  {
   "cell_type": "markdown",
   "metadata": {},
   "source": [
    "### Projection parameters (with mfasta)"
   ]
  },
  {
   "cell_type": "code",
   "execution_count": null,
   "metadata": {},
   "outputs": [],
   "source": [
    "# OPTIONS =================================================\n",
    "#Here you control different parameters of Poincaré maps.\n",
    "#In our computational experiments the best results were achieved for the following values provided by default.\n",
    "#The impact of different parameters is analyzed in the original paper [1].\n",
    "knn = 5\n",
    "gamma = 2\n",
    "sigma = 1\n",
    "cospca = 0\n",
    "batchs = 4\n",
    "epochs = 1000\n",
    "seed = 0\n",
    "#==========================================================\n",
    "\n",
    "\n",
    "# Building projection and preparing data for visualization\n",
    "#This step creates a projection of encoded sequences to a Poincaré disk.\n",
    "bash_pm = \"python3 \"+ \"scripts/build_poincare_map/main.py --input_path \" + out_name + \"/fasta\" + str(gapth) + \" --output_path \" + out_name + \"/projections/ --gamma \"+ str(gamma) +\" --pca \"+ str(cospca) + \" --epochs \"+ str(epochs) +\" --seed \"+ str(seed) + \" --knn \" + str(knn)\n",
    "!{bash_pm}"
   ]
  },
  {
   "cell_type": "markdown",
   "metadata": {},
   "source": [
    "### Projection parameters (with embeddings)"
   ]
  },
  {
   "cell_type": "code",
   "execution_count": null,
   "metadata": {},
   "outputs": [
    {
     "name": "stdout",
     "output_type": "stream",
     "text": [
      "CUDA: False\n",
      "Random seed set as 0\n",
      "203 proteins found in folder embeddings/ankh_base_phosphatase/.\n",
      "Q8IXW5 RTR1_RTR1_RTR1_RPAP2.pt\n",
      "Prepare data: tensor construction\n",
      "Prepare data: successfully terminated\n",
      "[[ 0.00840327  0.03133522  0.01315106 ...  0.01705831  0.00309461\n",
      "   0.01600385]\n",
      " [ 0.00723389 -0.00871986 -0.0068291  ...  0.00547845  0.01299316\n",
      "   0.00060698]\n",
      " [ 0.01369386 -0.02401342  0.00324584 ...  0.0074814   0.01392028\n",
      "  -0.0150963 ]\n",
      " ...\n",
      " [ 0.00894052  0.00030939  0.0131846  ...  0.00613784  0.00954182\n",
      "   0.01350551]\n",
      " [-0.00327381 -0.01310134  0.00965458 ...  0.00499894 -0.00270555\n",
      "   0.01653927]\n",
      " [ 0.00771104 -0.00544907 -0.01394401 ...  0.01297374  0.01828996\n",
      "  -0.00497702]]\n",
      "(204, 768)\n",
      "labels: ['Q8IXW5 RTR1_RTR1_RTR1_RPAP2' 'Q53XS4 CC1_PTP_PTPN6_PTPN6'\n",
      " 'Q96QG7 CC1_Myotubularin_MTMR9_MTMR9'\n",
      " 'Q13613 CC1_Myotubularin_MTMR1_MTMR1'\n",
      " 'Q9Y217 CC1_Myotubularin_MTMR6_MTMR6' 'P11117 HP_HP2_ACP2_ACP2'\n",
      " 'O00743 PPPL_PPP_PPP6C_PPP6C' 'Q96HS1 HP_HP1_PGAM5_PGAM5'\n",
      " 'O14976 CC1_PTEN_Auxilin_GAK' 'Q8N819 PPM_PPM_PPM1A_PPM1N'\n",
      " 'Q9UNI6 CC1_DSP_DSP12_DUSP12' 'Q16667 CC1_DSP_CDKN3_CDKN3'\n",
      " 'Q96EF0 CC1_Myotubularin_MTMR6_MTMR8' 'Q9HBL0 CC1_PTEN_Tensin_TNS1'\n",
      " 'Q8WVY7 HAD_FCP_UBLCP1_UBLCP1' 'Q13615 CC1_Myotubularin_MTMR3_MTMR3'\n",
      " 'Q9H0C8 PPM_PPM_ILKAP_ILKAP' 'Q4JDL3 CC1_PTP_PTPN13_PTPN20'\n",
      " 'P35236 CC1_PTP_PTPN5RR_PTPN7' 'P60510 PPPL_PPP_PPP4C_PPP4C'\n",
      " 'A0A2R8YDJ8|1 CC1_DSP_CDC14_CDC14A' 'P28827|2 CC1_PTP_PTPRK_PTPRM'\n",
      " 'Q92932 CC1_PTP_PTPRN_PTPRN2' 'P36873 PPPL_PPP_PPP1C_PPP1CC'\n",
      " 'Q99952 CC1_PTP_PTPN12_PTPN18' 'O14522|2 CC1_PTP_PTPRK_PTPRT'\n",
      " 'P09923 AP_AP_AP_ALPI' 'Q99504 HAD_EYA_EYA_EYA3'\n",
      " 'Q9NQ88 HP_HP1_TIGAR_TIGAR' 'P16118 HP_HP1_PFKFB_PFKFB1'\n",
      " 'O75365 CC1_DSP_PRL_PTP4A3' 'P26045 CC1_PTP_PTPN3_PTPN3'\n",
      " 'O15355 PPM_PPM_PPM1G_PPM1G' 'Q16849 CC1_PTP_PTPRN_PTPRN'\n",
      " 'Q6IQ43 CC1_PTP_PTPN9_PTPN9' 'Q5SGD2 PPM_PPM_PPM1L_PPM1L'\n",
      " 'O14522|1 CC1_PTP_PTPRK_PTPRT' 'P23471|1 CC1_PTP_PTPRG_PTPRZ1'\n",
      " 'Q9BV47 CC1_DSP_DSP3_DUSP26' 'O15297 PPM_PPM_PPM1D_PPM1D'\n",
      " 'Q9Y6J8 CC1_DSP_STYXL1_STYXL1' 'Q15750 PPM_PPM_TAB1_TAB1'\n",
      " 'B7WPL9 HP_HP2_PPIP5K_PPIP5K1' 'A4FU01 CC1_Myotubularin_MTMR10_MTMR11'\n",
      " 'Q16875 HP_HP1_PFKFB_PFKFB3' 'P28827|1 CC1_PTP_PTPRK_PTPRM'\n",
      " 'Q9Y6W6 CC1_DSP_DSP10_DUSP10' 'Q16825 CC1_PTP_PTPN14_PTPN21'\n",
      " 'Q16829 CC1_DSP_DSP6_DUSP7' 'Q8NCE2 CC1_Myotubularin_MTMR14_MTMR14'\n",
      " 'Q15678 CC1_PTP_PTPN14_PTPN14' 'A0A087WZU1 CC1_PTP_PTPRB_PTPRQ'\n",
      " 'Q9BVJ7 CC1_DSP_DSP23_DUSP23' 'Q12913 CC1_PTP_PTPRB_PTPRJ'\n",
      " 'P35813 PPM_PPM_PPM1A_PPM1A' 'Q68J44 CC1_DSP_DSP3_DUPD1'\n",
      " 'Q9Y2H2 CC1_Sac_INPP5F_INPP5F' 'Q63HR2 CC1_PTEN_Tensin_TNS2'\n",
      " 'P16298 PPPL_PPP_PPP3C_PPP3CB' 'Q13115 CC1_DSP_DSP1_DUSP4'\n",
      " 'O15056 CC1_Sac_Synaptojanin_SYNJ2' 'Q13614 CC1_Myotubularin_MTMR1_MTMR2'\n",
      " 'Q9H0R4 HAD_NagD_LHPP_HDHD2' 'P18433|2 CC1_PTP_PTPRA_PTPRA'\n",
      " 'A0A087WZV0 HP_HP2_PPIP5K_PPIP5K2' 'P13686 PPPL_PAP_ACP5_ACP5'\n",
      " 'Q6XPS3 CC1_PTEN_VSP_TPTE2' 'P10586|2 CC1_PTP_PTPRD_PTPRF'\n",
      " 'Q9HD43 CC1_PTP_PTPRB_PTPRH' 'Q6FHU2 HP_HP1_PGAM_PGAM1'\n",
      " 'Q92729|2 CC1_PTP_PTPRK_PTPRU' 'P17706 CC1_PTP_PTPN1_PTPN2'\n",
      " 'P24666 CC2_LMWPTP_LMWPTP_LMWPTP' 'Q05D32 HAD_FCP_CTDSPL2_CTDSPL2'\n",
      " 'A0A0S2Z3Q2 HAD_EYA_EYA_EYA4' 'P23471|2 CC1_PTP_PTPRG_PTPRZ1'\n",
      " 'Q9BXW7 HAD_NagD_CUT_CECR5' 'P18031 CC1_PTP_PTPN1_PTPN1'\n",
      " 'Q5TG12|1 CC1_PTP_PTPRK_PTPRK' 'Q9Y2R2 CC1_PTP_PTPN12_PTPN22'\n",
      " 'Q92729|1 CC1_PTP_PTPRK_PTPRU' 'P10586|1 CC1_PTP_PTPRD_PTPRF'\n",
      " 'O43426 CC1_Sac_Synaptojanin_SYNJ1' 'P51452 CC1_DSP_DSP3_DUSP3'\n",
      " 'Q9NRW4 CC1_DSP_DSP15_DUSP22' 'A0A2R8YDJ8|2 CC1_DSP_CDC14_CDC14A'\n",
      " 'Q9NYA4 CC1_Myotubularin_MTMR3_MTMR4' 'Q12923 CC1_PTP_PTPN13_PTPN13'\n",
      " 'Q5TG12|2 CC1_PTP_PTPRK_PTPRK' 'Q13496 CC1_Myotubularin_MTMR1_MTM1'\n",
      " 'P18433|1 CC1_PTP_PTPRA_PTPRA' 'P10696 AP_AP_AP_ALPPL2'\n",
      " 'Q8TE99 HP_HP2_PXYLP1_PXYLP1' 'Q8WUK0 CC1_DSP_PTPMT1_PTPMT1'\n",
      " 'O75061 CC1_PTEN_Auxilin_DNAJC6' 'P30305 CC3_CDC25_CDC25_CDC25B'\n",
      " 'Q9ULE6|1 CC1_Paladin_Paladin_PALD1' 'Q8WY54 PPM_PPM_PPM1E_PPM1E'\n",
      " 'O95248 CC1_Myotubularin_MTMR5_SBF1' 'Q92562 CC1_Sac_FIG4_FIG4'\n",
      " 'P05187 AP_AP_AP_ALPP' 'P15259 HP_HP1_PGAM_PGAM2'\n",
      " 'Q13202 CC1_DSP_DSP8_DUSP8' 'P48454 PPPL_PPP_PPP3C_PPP3CC'\n",
      " 'P49593 PPM_PPM_PPM1E_PPM1F' 'O95476 HAD_FCP_DULLARD_Dullard'\n",
      " 'Q4G0W2 CC1_DSP_DSP14_DUSP28' 'P15309 HP_HP2_ACP2_ACPP'\n",
      " 'O75319 CC1_DSP_DSP11_DUSP11' 'O75688 PPM_PPM_PPM1A_PPM1B'\n",
      " 'P23469|1 CC1_PTP_PTPRA_PTPRE' 'Q93096 CC1_DSP_PRL_PTP4A1'\n",
      " 'P23470|2 CC1_PTP_PTPRG_PTPRG' 'Q16828 CC1_DSP_DSP6_DUSP6'\n",
      " 'Q13332|1 CC1_PTP_PTPRD_PTPRS' 'Q9NXD2 CC1_Myotubularin_MTMR10_MTMR10'\n",
      " 'O00167 HAD_EYA_EYA_EYA2' 'Q86WG5 CC1_Myotubularin_MTMR5_SBF2'\n",
      " 'Q16877 HP_HP1_PFKFB_PFKFB4' 'Q99956 CC1_DSP_DSP6_DUSP9'\n",
      " 'Q9NRX4 PHP_PHP_PHP_PHPT1' 'P07738 HP_HP1_PGAM_BPGM'\n",
      " 'Q9NP77 CC2_SSU72_SSU72_SSU72' 'O14830 PPPL_PPP_PPP7C_PPEF2'\n",
      " 'Q8WTR2 CC1_DSP_DSP19_DUSP19' 'Q5VZP5 CC1_DSP_DSP3_DUSP27'\n",
      " 'P30304 CC3_CDC25_CDC25_CDC25A' 'Q8N0Y7 HP_HP1_PGAM_PGAM4'\n",
      " 'Q8N3J5 PPM_PPM_PPM1K_PPM1K' 'P23467 CC1_PTP_PTPRB_PTPRB'\n",
      " 'P67775 PPPL_PPP_PPP2C_PPP2CA' 'Q76I76 CC1_DSP_Slingshot_SSH2'\n",
      " 'Q06124 CC1_PTP_PTPN6_PTPN11' 'Q9Y5B0 HAD_FCP_FCP1_FCP1'\n",
      " 'Q9H596 CC1_DSP_DSP14_DUSP21' 'Q13332|2 CC1_PTP_PTPRD_PTPRS'\n",
      " 'Q16827 CC1_PTP_PTPRB_PTPRO' 'P53041 PPPL_PPP_PPP5C_PPP5C'\n",
      " 'P23469|2 CC1_PTP_PTPRA_PTPRE' 'P56180 CC1_PTEN_VSP_TPTE'\n",
      " 'P23470|1 CC1_PTP_PTPRG_PTPRG' 'Q8NI37 PPM_PPM_PTC7_PPTC7'\n",
      " 'Q3ZCQ8 HAD_FCP_TIM50_TIMM50' 'Q6FI36 CC1_DSP_DSP14_DUSP14'\n",
      " 'Q9ULE6|2 CC1_Paladin_Paladin_PALD1' 'Q9NTJ5 CC1_Sac_SAC1_SACM1L'\n",
      " 'Q9H008 HAD_NagD_LHPP_LHPP' 'O60729|1 CC1_DSP_CDC14_CDC14B'\n",
      " 'Q9ULR3 PPM_PPM_PPM1H_PPM1H' 'O60825 HP_HP1_PFKFB_PFKFB2'\n",
      " 'Q96MI6 PPM_PPM_PPM1H_PPM1M' 'Q6ZVD8 PPM_PPM_PHLPP_PHLPP2'\n",
      " 'Q05923 CC1_DSP_DSP1_DUSP2' 'A8MPX8 PPM_PPM_PP2D1_PP2D1'\n",
      " 'Q9NPH0 HP_HP2_ACP6_ACP6' 'Q9P2J9 PPM_PPM_PDPc_PDP2'\n",
      " 'Q2HXI4|1 CC1_PTP_PTPRD_PTPRD' 'P08575|1 CC1_PTP_PTPRC_PTPRC'\n",
      " 'Q9UII6 CC1_DSP_DSP3_DUSP13' 'P28562 CC1_DSP_DSP1_DUSP1'\n",
      " 'O60346 PPM_PPM_PHLPP_PHLPP1' 'Q9H1R2 CC1_DSP_DSP15_DUSP15'\n",
      " 'P62136 PPPL_PPP_PPP1C_PPP1CA' 'Q5JR12 PPM_PPM_PPM1H_PPM1J'\n",
      " 'O60729|2 CC1_DSP_CDC14_CDC14B' 'Q99502 HAD_EYA_EYA_EYA1'\n",
      " 'Q8NEJ0 CC1_DSP_DSP14_DUSP18' 'P57075 HP_HP1_STS_UBASH3A'\n",
      " 'Q15256 CC1_PTP_PTPN5RR_PTPRR' 'Q16690 CC1_DSP_DSP1_DUSP5'\n",
      " 'P62140 PPPL_PPP_PPP1C_PPP1CB' 'Q9GZU7 HAD_FCP_SCP_SCP1'\n",
      " 'Q9P0J1 PPM_PPM_PDPc_PDP1' 'Q96GD0 HAD_NagD_PGP_CIN'\n",
      " 'O95278 CC1_DSP_Laforin_Laforin' 'A2A3K4 CC1_DSP_PTPDC1_PTPDC1'\n",
      " 'P05186 AP_AP_AP_ALPL' 'P60484 CC1_PTEN_PTEN_PTEN'\n",
      " 'Q8TE77 CC1_DSP_Slingshot_SSH3' 'Q08209 PPPL_PPP_PPP3C_PPP3CA'\n",
      " 'Q9BY84 CC1_DSP_DSP8_DUSP16' 'Q9BZG2 HP_HP2_ACP2_ACPT'\n",
      " 'Q68CZ2 CC1_PTEN_Tensin_TNS3' 'Q8TF42 HP_HP1_STS_UBASH3B'\n",
      " 'Q9Y216 CC1_Myotubularin_MTMR6_MTMR7' 'P29074 CC1_PTP_PTPN3_PTPN4'\n",
      " 'O15194 HAD_FCP_SCP_SCP3' 'P54829 CC1_PTP_PTPN5RR_PTPN5'\n",
      " 'A6NDG6 HAD_NagD_PGP_PGP' 'Q05209 CC1_PTP_PTPN12_PTPN12'\n",
      " 'Q9UNW1 HP_HP2_MINPP1_MINPP1' 'Q6ZNF0 PPPL_PAP_PAPL_PAPL'\n",
      " 'P08575|2 CC1_PTP_PTPRC_PTPRC' 'Q12974 CC1_DSP_PRL_PTP4A2'\n",
      " 'Q2HXI4|2 CC1_PTP_PTPRD_PTPRD' 'Q8WYL5 CC1_DSP_Slingshot_SSH1'\n",
      " 'P30307 CC3_CDC25_CDC25_CDC25C' 'O60942 CC1_DSP_RNGTT_RNGTT'\n",
      " 'Q8WUJ0 CC1_DSP_STYX_STYX' 'O14595 HAD_FCP_SCP_SCP2'\n",
      " 'Q9C0I1 CC1_Myotubularin_MTMR10_MTMR12' 'O14829 PPPL_PPP_PPP7C_PPEF1'\n",
      " 'P62714 PPPL_PPP_PPP2C_PPP2CB' 'Q9H3S7 CC1_PTP_PTPN23_PTPN23']\n",
      "features CSV file saved to phosphatase_data/with_plm_embeddings/features.csv\n",
      "labels CSV file saved to phosphatase_data/with_plm_embeddings/labels.csv\n",
      "KNN matrix CSV file saved to phosphatase_data/with_plm_embeddings/KNN_matrix.csv\n",
      "Computing laplacian...\n",
      "Laplacian computed in 0.12 sec\n",
      "Computing RFA...\n",
      "RFA computed in 0.02 sec\n",
      "tensor([[2.5186e-01, 3.7211e-04, 3.1167e-04,  ..., 7.4645e-04, 8.7048e-04,\n",
      "         2.2779e-04],\n",
      "        [3.7211e-04, 1.7933e-01, 4.7450e-06,  ..., 1.3273e-05, 1.5479e-05,\n",
      "         9.7119e-03],\n",
      "        [3.1167e-04, 4.7450e-06, 1.3950e-01,  ..., 3.4582e-05, 4.0328e-05,\n",
      "         2.9047e-06],\n",
      "        ...,\n",
      "        [7.4645e-04, 1.3273e-05, 3.4582e-05,  ..., 2.4026e-01, 5.0825e-02,\n",
      "         8.1254e-06],\n",
      "        [8.7048e-04, 1.5479e-05, 4.0328e-05,  ..., 5.0825e-02, 1.5397e-01,\n",
      "         9.4755e-06],\n",
      "        [2.2779e-04, 9.7119e-03, 2.9047e-06,  ..., 8.1254e-06, 9.4755e-06,\n",
      "         2.2108e-01]])\n",
      "RFA matrix CSV file saved to phosphatase_data/with_plm_embeddings/RFA_matrix.csv\n",
      "Starting training...\n",
      "loss: 0.14157:  55%|█████████████▊           | 551/1000 [00:17<00:12, 35.09it/s]\n",
      "Stopped at epoch 552\n",
      "loss: 0.14157:  55%|█████████████▊           | 552/1000 [00:17<00:13, 32.41it/s]\n",
      "PM computed in 17.03 sec\n",
      "\n",
      "loss = 1.416e-01\n",
      "time = 0.301 min\n"
     ]
    }
   ],
   "source": [
    "# EMBEDDING SELECTION\n",
    "in_name = 'embeddings/ankh_base_phosphatase/'  # Input here the name of folder with the embeddings\n",
    "mid_output = 'phosphatase_data/with_plm_embeddings/'  # Input name of desired folder for intermediary results\n",
    "out_name = 'results/phosphatase/with_plm_embeddings/' # Input desired name of output folder\n",
    "\n",
    "\n",
    "# OPTIONS =================================================\n",
    "#Here you control different parameters of Poincaré maps.\n",
    "#In our computational experiments the best results were achieved for the following values provided by default.\n",
    "#The impact of different parameters is analyzed in the original paper [1].\n",
    "knn = 5\n",
    "gamma = 2\n",
    "sigma = 1\n",
    "cospca = 0\n",
    "batchs = 4\n",
    "epochs = 1000\n",
    "seed = 0\n",
    "#==========================================================\n",
    "\n",
    "\n",
    "# Building projection and preparing data for visualization\n",
    "#This step creates a projection of encoded sequences to a Poincaré disk.\n",
    "bash_pm = \"python \"+ \"scripts/build_poincare_map/main.py --input_path \" + in_name + \\\n",
    "          \" --output_path \" + out_name + \" --plm_embedding True\" +  \" --matrices_output_path \" + mid_output \\\n",
    "          + \" --gamma \"+ str(gamma) +\" --pca \"+ str(cospca) + \" --epochs \"+ str(epochs) +\" --seed \"\\\n",
    "          + str(seed) + \" --knn \" + str(knn)\n",
    "!{bash_pm}"
   ]
  },
  {
   "cell_type": "markdown",
   "metadata": {
    "id": "gRxHHfjX7CHF"
   },
   "source": [
    "# Projection visualization"
   ]
  },
  {
   "cell_type": "markdown",
   "metadata": {},
   "source": [
    "### Prepare data for visualization"
   ]
  },
  {
   "cell_type": "code",
   "execution_count": 12,
   "metadata": {
    "cellView": "form",
    "colab": {
     "base_uri": "https://localhost:8080/"
    },
    "id": "A2I17cpYXGoB",
    "outputId": "a1b01a51-2182-4f97-a653-eedc42405a80"
   },
   "outputs": [
    {
     "name": "stdout",
     "output_type": "stream",
     "text": [
      "3 annotations found: ['proteins_id', 'accession', 'label'].\n"
     ]
    }
   ],
   "source": [
    "# Prepare data for visualization\n",
    "# Reminder of output_name\n",
    "out_name = 'results/phosphatase/with_plm_embeddings/'\n",
    "\n",
    "#Check that an annotation file was provided. Create a dummy one instead\n",
    "if not path_annotation:\n",
    "    df_annotation = pd.DataFrame(list(zip(list(range(1,nb_seq+1)), np.full(nb_seq, \"-\", dtype=object))), columns=[\"id\", \"default\"])\n",
    "    df_annotation.to_csv(\"dummy_annotation.csv\", index=False)\n",
    "    path_annotation = \"dummy_annotation.csv\"\n",
    "    annotation_names = [\"proteins_id\"]\n",
    "\n",
    "path_embedding = f\"{out_name}/PM{knn:1.0f}sigma={sigma:2.2f}gamma={gamma:2.2f}cosinepca={cospca:1.0f}_seed{seed:1.0f}.csv\"\n",
    "df_embedding = read_embeddings(path_embedding, path_annotation, withroot=False)\n",
    "\n",
    "#Here are different labels found in your annotation file (if one uploaded):\n",
    "print(f\"{len(annotation_names)} annotations found: {annotation_names}.\")"
   ]
  },
  {
   "cell_type": "markdown",
   "metadata": {},
   "source": [
    "### Create interactive plot"
   ]
  },
  {
   "cell_type": "code",
   "execution_count": 13,
   "metadata": {},
   "outputs": [],
   "source": [
    "# Construction of custom color palette  \n",
    "\n",
    "# Load existing colour palette (must be a .json file)\n",
    "colour_json = 'examples/wayland_datasets/phosphatase/phosphatase_colors.json'\n",
    "with open(colour_json, 'r') as file:\n",
    "    colour_palette = json.load(file)\n",
    "\n",
    "# Also the option of manually creating your own colour palette\n"
   ]
  },
  {
   "cell_type": "code",
   "execution_count": 14,
   "metadata": {
    "cellView": "form",
    "colab": {
     "base_uri": "https://localhost:8080/",
     "height": 886
    },
    "id": "zLb9h9S4eKUD",
    "outputId": "58e8c73a-4869-4305-ecfb-bccc80d06db1"
   },
   "outputs": [
    {
     "data": {
      "application/vnd.plotly.v1+json": {
       "config": {
        "plotlyServerURL": "https://plot.ly"
       },
       "data": [
        {
         "customdata": [
          [
           "A0A087WZU1 CC1_PTP_PTPRB_PTPRQ",
           "P09923",
           "AP"
          ],
          [
           "A0A087WZV0 HP_HP2_PPIP5K_PPIP5K2",
           "P05186",
           "AP"
          ],
          [
           "A0A0S2Z3Q2 HAD_EYA_EYA_EYA4",
           "P05187",
           "AP"
          ],
          [
           "A0A2R8YDJ8|1 CC1_DSP_CDC14_CDC14A",
           "P10696",
           "AP"
          ]
         ],
         "hovertemplate": "<b>%{hovertext}</b><br><br>label=%{customdata[2]}<br>pm1=%{x}<br>pm2=%{y}<br>proteins_id=%{customdata[0]}<br>accession=%{customdata[1]}<extra></extra>",
         "hovertext": [
          "AP",
          "AP",
          "AP",
          "AP"
         ],
         "legendgroup": "AP",
         "marker": {
          "color": "#636efa",
          "symbol": "circle"
         },
         "mode": "markers",
         "name": "AP",
         "orientation": "v",
         "showlegend": true,
         "type": "scatter",
         "x": [
          0.35213462,
          -0.8843229,
          -0.2791755,
          0.6812503
         ],
         "xaxis": "x",
         "y": [
          -0.6519846,
          0.33251947,
          0.8812405,
          0.09346356
         ],
         "yaxis": "y"
        },
        {
         "customdata": [
          [
           "A0A2R8YDJ8|2 CC1_DSP_CDC14_CDC14A",
           "A0A2R8YDJ8|1",
           "CC1"
          ],
          [
           "A2A3K4 CC1_DSP_PTPDC1_PTPDC1",
           "A0A2R8YDJ8|2",
           "CC1"
          ],
          [
           "A4FU01 CC1_Myotubularin_MTMR10_MTMR11",
           "O60729|1",
           "CC1"
          ],
          [
           "A6NDG6 HAD_NagD_PGP_PGP",
           "O60729|2",
           "CC1"
          ],
          [
           "A8MPX8 PPM_PPM_PP2D1_PP2D1",
           "Q16667",
           "CC1"
          ],
          [
           "B7WPL9 HP_HP2_PPIP5K_PPIP5K1",
           "P28562",
           "CC1"
          ],
          [
           "O00167 HAD_EYA_EYA_EYA2",
           "Q05923",
           "CC1"
          ],
          [
           "O00743 PPPL_PPP_PPP6C_PPP6C",
           "Q13115",
           "CC1"
          ],
          [
           "O14522|1 CC1_PTP_PTPRK_PTPRT",
           "Q16690",
           "CC1"
          ],
          [
           "O14522|2 CC1_PTP_PTPRK_PTPRT",
           "Q9Y6W6",
           "CC1"
          ],
          [
           "O14595 HAD_FCP_SCP_SCP2",
           "O75319",
           "CC1"
          ],
          [
           "O14829 PPPL_PPP_PPP7C_PPEF1",
           "Q9UNI6",
           "CC1"
          ],
          [
           "O14830 PPPL_PPP_PPP7C_PPEF2",
           "Q6FI36",
           "CC1"
          ],
          [
           "O14976 CC1_PTEN_Auxilin_GAK",
           "Q8NEJ0",
           "CC1"
          ],
          [
           "O15056 CC1_Sac_Synaptojanin_SYNJ2",
           "Q9H596",
           "CC1"
          ],
          [
           "O15194 HAD_FCP_SCP_SCP3",
           "Q4G0W2",
           "CC1"
          ],
          [
           "O15297 PPM_PPM_PPM1D_PPM1D",
           "Q9H1R2",
           "CC1"
          ],
          [
           "O15355 PPM_PPM_PPM1G_PPM1G",
           "Q9NRW4",
           "CC1"
          ],
          [
           "O43426 CC1_Sac_Synaptojanin_SYNJ1",
           "Q8WTR2",
           "CC1"
          ],
          [
           "O60346 PPM_PPM_PHLPP_PHLPP1",
           "Q9BVJ7",
           "CC1"
          ],
          [
           "O60729|1 CC1_DSP_CDC14_CDC14B",
           "Q68J44",
           "CC1"
          ],
          [
           "O60729|2 CC1_DSP_CDC14_CDC14B",
           "Q9UII6",
           "CC1"
          ],
          [
           "O60825 HP_HP1_PFKFB_PFKFB2",
           "Q9BV47",
           "CC1"
          ],
          [
           "O60942 CC1_DSP_RNGTT_RNGTT",
           "Q5VZP5",
           "CC1"
          ],
          [
           "O75061 CC1_PTEN_Auxilin_DNAJC6",
           "P51452",
           "CC1"
          ],
          [
           "O75319 CC1_DSP_DSP11_DUSP11",
           "Q16828",
           "CC1"
          ],
          [
           "O75365 CC1_DSP_PRL_PTP4A3",
           "Q16829",
           "CC1"
          ],
          [
           "O75688 PPM_PPM_PPM1A_PPM1B",
           "Q99956",
           "CC1"
          ],
          [
           "O95248 CC1_Myotubularin_MTMR5_SBF1",
           "Q9BY84",
           "CC1"
          ],
          [
           "O95278 CC1_DSP_Laforin_Laforin",
           "Q13202",
           "CC1"
          ],
          [
           "O95476 HAD_FCP_DULLARD_Dullard",
           "O95278",
           "CC1"
          ],
          [
           "P05186 AP_AP_AP_ALPL",
           "Q93096",
           "CC1"
          ],
          [
           "P05187 AP_AP_AP_ALPP",
           "Q12974",
           "CC1"
          ],
          [
           "P07738 HP_HP1_PGAM_BPGM",
           "O75365",
           "CC1"
          ],
          [
           "P08575|1 CC1_PTP_PTPRC_PTPRC",
           "A2A3K4",
           "CC1"
          ],
          [
           "P08575|2 CC1_PTP_PTPRC_PTPRC",
           "Q8WUK0",
           "CC1"
          ],
          [
           "P09923 AP_AP_AP_ALPI",
           "O60942",
           "CC1"
          ],
          [
           "P10586|1 CC1_PTP_PTPRD_PTPRF",
           "Q8WYL5",
           "CC1"
          ],
          [
           "P10586|2 CC1_PTP_PTPRD_PTPRF",
           "Q76I76",
           "CC1"
          ],
          [
           "P10696 AP_AP_AP_ALPPL2",
           "Q8TE77",
           "CC1"
          ],
          [
           "P11117 HP_HP2_ACP2_ACP2",
           "Q8WUJ0",
           "CC1"
          ],
          [
           "P13686 PPPL_PAP_ACP5_ACP5",
           "Q9Y6J8",
           "CC1"
          ],
          [
           "P15259 HP_HP1_PGAM_PGAM2",
           "Q13496",
           "CC1"
          ],
          [
           "P15309 HP_HP2_ACP2_ACPP",
           "Q13613",
           "CC1"
          ],
          [
           "P16118 HP_HP1_PFKFB_PFKFB1",
           "Q13614",
           "CC1"
          ],
          [
           "P16298 PPPL_PPP_PPP3C_PPP3CB",
           "Q9NXD2",
           "CC1"
          ],
          [
           "P17706 CC1_PTP_PTPN1_PTPN2",
           "A4FU01",
           "CC1"
          ],
          [
           "P18031 CC1_PTP_PTPN1_PTPN1",
           "Q9C0I1",
           "CC1"
          ],
          [
           "P18433|1 CC1_PTP_PTPRA_PTPRA",
           "Q8NCE2",
           "CC1"
          ],
          [
           "P18433|2 CC1_PTP_PTPRA_PTPRA",
           "Q13615",
           "CC1"
          ],
          [
           "P23467 CC1_PTP_PTPRB_PTPRB",
           "Q9NYA4",
           "CC1"
          ],
          [
           "P23469|1 CC1_PTP_PTPRA_PTPRE",
           "O95248",
           "CC1"
          ],
          [
           "P23469|2 CC1_PTP_PTPRA_PTPRE",
           "Q86WG5",
           "CC1"
          ],
          [
           "P23470|1 CC1_PTP_PTPRG_PTPRG",
           "Q9Y217",
           "CC1"
          ],
          [
           "P23470|2 CC1_PTP_PTPRG_PTPRG",
           "Q9Y216",
           "CC1"
          ],
          [
           "P23471|1 CC1_PTP_PTPRG_PTPRZ1",
           "Q96EF0",
           "CC1"
          ],
          [
           "P23471|2 CC1_PTP_PTPRG_PTPRZ1",
           "Q96QG7",
           "CC1"
          ],
          [
           "P24666 CC2_LMWPTP_LMWPTP_LMWPTP",
           "Q9ULE6|1",
           "CC1"
          ],
          [
           "P26045 CC1_PTP_PTPN3_PTPN3",
           "Q9ULE6|2",
           "CC1"
          ],
          [
           "P28562 CC1_DSP_DSP1_DUSP1",
           "O75061",
           "CC1"
          ],
          [
           "P28827|1 CC1_PTP_PTPRK_PTPRM",
           "O14976",
           "CC1"
          ],
          [
           "P28827|2 CC1_PTP_PTPRK_PTPRM",
           "P60484",
           "CC1"
          ],
          [
           "P29074 CC1_PTP_PTPN3_PTPN4",
           "Q9HBL0",
           "CC1"
          ],
          [
           "P30304 CC3_CDC25_CDC25_CDC25A",
           "Q63HR2",
           "CC1"
          ],
          [
           "P30305 CC3_CDC25_CDC25_CDC25B",
           "Q68CZ2",
           "CC1"
          ],
          [
           "P30307 CC3_CDC25_CDC25_CDC25C",
           "P56180",
           "CC1"
          ],
          [
           "P35236 CC1_PTP_PTPN5RR_PTPN7",
           "Q6XPS3",
           "CC1"
          ],
          [
           "P35813 PPM_PPM_PPM1A_PPM1A",
           "P18031",
           "CC1"
          ],
          [
           "P36873 PPPL_PPP_PPP1C_PPP1CC",
           "P17706",
           "CC1"
          ],
          [
           "P48454 PPPL_PPP_PPP3C_PPP3CC",
           "Q05209",
           "CC1"
          ],
          [
           "P49593 PPM_PPM_PPM1E_PPM1F",
           "Q99952",
           "CC1"
          ],
          [
           "P51452 CC1_DSP_DSP3_DUSP3",
           "Q9Y2R2",
           "CC1"
          ],
          [
           "P53041 PPPL_PPP_PPP5C_PPP5C",
           "Q12923",
           "CC1"
          ],
          [
           "P54829 CC1_PTP_PTPN5RR_PTPN5",
           "Q4JDL3",
           "CC1"
          ],
          [
           "P56180 CC1_PTEN_VSP_TPTE",
           "Q15678",
           "CC1"
          ],
          [
           "P57075 HP_HP1_STS_UBASH3A",
           "Q16825",
           "CC1"
          ],
          [
           "P60484 CC1_PTEN_PTEN_PTEN",
           "Q9H3S7",
           "CC1"
          ],
          [
           "P60510 PPPL_PPP_PPP4C_PPP4C",
           "P26045",
           "CC1"
          ],
          [
           "P62136 PPPL_PPP_PPP1C_PPP1CA",
           "P29074",
           "CC1"
          ],
          [
           "P62140 PPPL_PPP_PPP1C_PPP1CB",
           "P54829",
           "CC1"
          ],
          [
           "P62714 PPPL_PPP_PPP2C_PPP2CB",
           "P35236",
           "CC1"
          ],
          [
           "P67775 PPPL_PPP_PPP2C_PPP2CA",
           "Q15256",
           "CC1"
          ],
          [
           "Q05209 CC1_PTP_PTPN12_PTPN12",
           "Q06124",
           "CC1"
          ],
          [
           "Q05923 CC1_DSP_DSP1_DUSP2",
           "Q53XS4",
           "CC1"
          ],
          [
           "Q05D32 HAD_FCP_CTDSPL2_CTDSPL2",
           "Q6IQ43",
           "CC1"
          ],
          [
           "Q06124 CC1_PTP_PTPN6_PTPN11",
           "P18433|1",
           "CC1"
          ],
          [
           "Q08209 PPPL_PPP_PPP3C_PPP3CA",
           "P18433|2",
           "CC1"
          ],
          [
           "Q12913 CC1_PTP_PTPRB_PTPRJ",
           "P23469|1",
           "CC1"
          ],
          [
           "Q12923 CC1_PTP_PTPN13_PTPN13",
           "P23469|2",
           "CC1"
          ],
          [
           "Q12974 CC1_DSP_PRL_PTP4A2",
           "P23467",
           "CC1"
          ],
          [
           "Q13115 CC1_DSP_DSP1_DUSP4",
           "Q9HD43",
           "CC1"
          ],
          [
           "Q13202 CC1_DSP_DSP8_DUSP8",
           "Q12913",
           "CC1"
          ],
          [
           "Q13332|1 CC1_PTP_PTPRD_PTPRS",
           "Q16827",
           "CC1"
          ],
          [
           "Q13332|2 CC1_PTP_PTPRD_PTPRS",
           "A0A087WZU1",
           "CC1"
          ],
          [
           "Q13496 CC1_Myotubularin_MTMR1_MTM1",
           "P08575|1",
           "CC1"
          ],
          [
           "Q13613 CC1_Myotubularin_MTMR1_MTMR1",
           "P08575|2",
           "CC1"
          ],
          [
           "Q13614 CC1_Myotubularin_MTMR1_MTMR2",
           "Q2HXI4|1",
           "CC1"
          ],
          [
           "Q13615 CC1_Myotubularin_MTMR3_MTMR3",
           "Q2HXI4|2",
           "CC1"
          ],
          [
           "Q15256 CC1_PTP_PTPN5RR_PTPRR",
           "P10586|1",
           "CC1"
          ],
          [
           "Q15678 CC1_PTP_PTPN14_PTPN14",
           "P10586|2",
           "CC1"
          ],
          [
           "Q15750 PPM_PPM_TAB1_TAB1",
           "Q13332|1",
           "CC1"
          ],
          [
           "Q16667 CC1_DSP_CDKN3_CDKN3",
           "Q13332|2",
           "CC1"
          ],
          [
           "Q16690 CC1_DSP_DSP1_DUSP5",
           "P23470|1",
           "CC1"
          ],
          [
           "Q16825 CC1_PTP_PTPN14_PTPN21",
           "P23470|2",
           "CC1"
          ],
          [
           "Q16827 CC1_PTP_PTPRB_PTPRO",
           "P23471|1",
           "CC1"
          ],
          [
           "Q16828 CC1_DSP_DSP6_DUSP6",
           "P23471|2",
           "CC1"
          ],
          [
           "Q16829 CC1_DSP_DSP6_DUSP7",
           "Q5TG12|1",
           "CC1"
          ],
          [
           "Q16849 CC1_PTP_PTPRN_PTPRN",
           "Q5TG12|2",
           "CC1"
          ],
          [
           "Q16875 HP_HP1_PFKFB_PFKFB3",
           "P28827|1",
           "CC1"
          ],
          [
           "Q16877 HP_HP1_PFKFB_PFKFB4",
           "P28827|2",
           "CC1"
          ],
          [
           "Q2HXI4|1 CC1_PTP_PTPRD_PTPRD",
           "O14522|1",
           "CC1"
          ],
          [
           "Q2HXI4|2 CC1_PTP_PTPRD_PTPRD",
           "O14522|2",
           "CC1"
          ],
          [
           "Q3ZCQ8 HAD_FCP_TIM50_TIMM50",
           "Q92729|1",
           "CC1"
          ],
          [
           "Q4G0W2 CC1_DSP_DSP14_DUSP28",
           "Q92729|2",
           "CC1"
          ],
          [
           "Q4JDL3 CC1_PTP_PTPN13_PTPN20",
           "Q16849",
           "CC1"
          ],
          [
           "Q53XS4 CC1_PTP_PTPN6_PTPN6",
           "Q92932",
           "CC1"
          ],
          [
           "Q5JR12 PPM_PPM_PPM1H_PPM1J",
           "Q92562",
           "CC1"
          ],
          [
           "Q5SGD2 PPM_PPM_PPM1L_PPM1L",
           "Q9Y2H2",
           "CC1"
          ],
          [
           "Q5TG12|1 CC1_PTP_PTPRK_PTPRK",
           "Q9NTJ5",
           "CC1"
          ],
          [
           "Q5TG12|2 CC1_PTP_PTPRK_PTPRK",
           "O43426",
           "CC1"
          ],
          [
           "Q5VZP5 CC1_DSP_DSP3_DUSP27",
           "O15056",
           "CC1"
          ]
         ],
         "hovertemplate": "<b>%{hovertext}</b><br><br>label=%{customdata[2]}<br>pm1=%{x}<br>pm2=%{y}<br>proteins_id=%{customdata[0]}<br>accession=%{customdata[1]}<extra></extra>",
         "hovertext": [
          "CC1",
          "CC1",
          "CC1",
          "CC1",
          "CC1",
          "CC1",
          "CC1",
          "CC1",
          "CC1",
          "CC1",
          "CC1",
          "CC1",
          "CC1",
          "CC1",
          "CC1",
          "CC1",
          "CC1",
          "CC1",
          "CC1",
          "CC1",
          "CC1",
          "CC1",
          "CC1",
          "CC1",
          "CC1",
          "CC1",
          "CC1",
          "CC1",
          "CC1",
          "CC1",
          "CC1",
          "CC1",
          "CC1",
          "CC1",
          "CC1",
          "CC1",
          "CC1",
          "CC1",
          "CC1",
          "CC1",
          "CC1",
          "CC1",
          "CC1",
          "CC1",
          "CC1",
          "CC1",
          "CC1",
          "CC1",
          "CC1",
          "CC1",
          "CC1",
          "CC1",
          "CC1",
          "CC1",
          "CC1",
          "CC1",
          "CC1",
          "CC1",
          "CC1",
          "CC1",
          "CC1",
          "CC1",
          "CC1",
          "CC1",
          "CC1",
          "CC1",
          "CC1",
          "CC1",
          "CC1",
          "CC1",
          "CC1",
          "CC1",
          "CC1",
          "CC1",
          "CC1",
          "CC1",
          "CC1",
          "CC1",
          "CC1",
          "CC1",
          "CC1",
          "CC1",
          "CC1",
          "CC1",
          "CC1",
          "CC1",
          "CC1",
          "CC1",
          "CC1",
          "CC1",
          "CC1",
          "CC1",
          "CC1",
          "CC1",
          "CC1",
          "CC1",
          "CC1",
          "CC1",
          "CC1",
          "CC1",
          "CC1",
          "CC1",
          "CC1",
          "CC1",
          "CC1",
          "CC1",
          "CC1",
          "CC1",
          "CC1",
          "CC1",
          "CC1",
          "CC1",
          "CC1",
          "CC1",
          "CC1",
          "CC1",
          "CC1",
          "CC1",
          "CC1",
          "CC1",
          "CC1"
         ],
         "legendgroup": "CC1",
         "marker": {
          "color": "#EF553B",
          "symbol": "circle"
         },
         "mode": "markers",
         "name": "CC1",
         "orientation": "v",
         "showlegend": true,
         "type": "scatter",
         "x": [
          0.26683283,
          0.24189211,
          0.83448637,
          -0.3147983,
          -0.78847516,
          -0.87550825,
          -0.28332984,
          0.37774444,
          0.51757115,
          0.14155571,
          -0.1996413,
          0.35455158,
          0.36739138,
          0.56974673,
          0.90158135,
          -0.1978044,
          -0.7995327,
          -0.7996861,
          0.90796655,
          -0.85440695,
          0.6817526,
          0.34502074,
          -0.8084997,
          0.17738202,
          0.5991198,
          0.13324437,
          -0.033700503,
          -0.8121977,
          0.83304846,
          -0.19149208,
          -0.21778819,
          -0.8934322,
          -0.90038264,
          -0.806409,
          0.45393154,
          0.27993536,
          -0.8877035,
          0.5153288,
          0.48696843,
          -0.89323086,
          -0.8857545,
          0.27494442,
          -0.7640298,
          -0.86490726,
          -0.80779386,
          0.4186451,
          0.34788096,
          0.44581938,
          0.49252304,
          0.39803928,
          0.40377223,
          0.47990078,
          0.34544498,
          0.45980883,
          0.1607942,
          0.4571989,
          0.12142013,
          -0.46044213,
          0.30216858,
          -0.37090966,
          0.5086803,
          0.13038328,
          0.2403826,
          0.00052724435,
          0.05072856,
          0.052987933,
          0.3585317,
          -0.81687695,
          0.41905951,
          0.3730716,
          -0.8345873,
          -0.17935856,
          0.37796944,
          0.3058502,
          0.63851887,
          -0.67545944,
          0.5928115,
          0.39835075,
          0.43309516,
          0.42248017,
          0.41669285,
          0.40121052,
          0.4356523,
          -0.33359957,
          -0.20832835,
          0.41751918,
          0.396093,
          0.44530573,
          0.28076482,
          0.002337103,
          -0.3335547,
          -0.45097718,
          0.5092996,
          0.5116148,
          0.743954,
          0.78299916,
          0.7584551,
          0.80900115,
          0.33307534,
          0.28421795,
          -0.8447772,
          -0.12463594,
          -0.44714075,
          0.23487146,
          0.39328048,
          -0.38332435,
          -0.36958048,
          0.44766805,
          -0.82717514,
          -0.833085,
          0.5204426,
          0.46803564,
          -0.21536618,
          -0.3836561,
          0.30741706,
          0.37048826,
          -0.8227206,
          -0.8429903,
          0.5260819,
          0.11799427,
          -0.17759645
         ],
         "xaxis": "x",
         "y": [
          0.27309301,
          0.18941247,
          0.39519936,
          0.84156066,
          -0.25873712,
          0.33520266,
          0.8881434,
          0.77124816,
          -0.7622335,
          -0.82012206,
          0.88222265,
          0.79072154,
          0.8111562,
          0.123790994,
          0.30704334,
          0.8960276,
          -0.32207942,
          -0.28544793,
          0.3115498,
          -0.39613843,
          0.11641408,
          0.3080337,
          0.1390002,
          0.016282327,
          0.1367446,
          0.28321952,
          0.049954895,
          -0.39619082,
          0.41570696,
          0.039779317,
          0.891776,
          0.28710786,
          0.2868418,
          0.036643896,
          -0.7603241,
          -0.7863141,
          0.28181288,
          -0.7753564,
          -0.69483006,
          0.27675143,
          0.30323613,
          0.46412915,
          0.0528727,
          0.29302222,
          0.103289686,
          0.73163086,
          -0.4803929,
          -0.51933646,
          -0.7513104,
          -0.71310276,
          -0.65429074,
          -0.7725115,
          -0.7457975,
          -0.77845824,
          -0.82187486,
          -0.7861112,
          -0.82466936,
          0.16797675,
          -0.56274194,
          0.4524619,
          -0.76530325,
          -0.80705154,
          -0.61809146,
          0.4780825,
          0.43332618,
          0.44457924,
          -0.6150642,
          -0.41518226,
          0.80794483,
          0.7430146,
          -0.39808205,
          0.5321898,
          0.7976874,
          -0.6271644,
          0.0999446,
          0.043729,
          0.20752303,
          0.7785179,
          0.7923229,
          0.7968169,
          0.77049214,
          0.80143166,
          -0.49602684,
          0.45473754,
          0.8826877,
          -0.7772266,
          0.7321719,
          -0.6666148,
          -0.68798655,
          0.05920719,
          0.4684478,
          0.43911225,
          -0.77934617,
          -0.70249075,
          0.40423766,
          0.43235424,
          0.44206092,
          0.40650526,
          -0.6903965,
          -0.7466745,
          -0.30761752,
          -0.0029219713,
          0.5003316,
          -0.69559336,
          -0.64677894,
          0.46319446,
          0.47534677,
          -0.6042151,
          0.07551661,
          0.10115891,
          -0.76946324,
          -0.7057625,
          0.8814743,
          0.6229556,
          -0.6892301,
          -0.75943696,
          -0.29114124,
          -0.39170212,
          -0.754942,
          -0.7871704,
          0.5167883
         ],
         "yaxis": "y"
        },
        {
         "customdata": [
          [
           "Q63HR2 CC1_PTEN_Tensin_TNS2",
           "P24666",
           "CC2"
          ],
          [
           "Q68CZ2 CC1_PTEN_Tensin_TNS3",
           "Q9NP77",
           "CC2"
          ]
         ],
         "hovertemplate": "<b>%{hovertext}</b><br><br>label=%{customdata[2]}<br>pm1=%{x}<br>pm2=%{y}<br>proteins_id=%{customdata[0]}<br>accession=%{customdata[1]}<extra></extra>",
         "hovertext": [
          "CC2",
          "CC2"
         ],
         "legendgroup": "CC2",
         "marker": {
          "color": "#00cc96",
          "symbol": "circle"
         },
         "mode": "markers",
         "name": "CC2",
         "orientation": "v",
         "showlegend": true,
         "type": "scatter",
         "x": [
          0.63621277,
          0.49163392
         ],
         "xaxis": "x",
         "y": [
          0.12024013,
          0.1583249
         ],
         "yaxis": "y"
        },
        {
         "customdata": [
          [
           "Q68J44 CC1_DSP_DSP3_DUPD1",
           "P30304",
           "CC3"
          ],
          [
           "Q6FHU2 HP_HP1_PGAM_PGAM1",
           "P30305",
           "CC3"
          ],
          [
           "Q6FI36 CC1_DSP_DSP14_DUSP14",
           "P30307",
           "CC3"
          ]
         ],
         "hovertemplate": "<b>%{hovertext}</b><br><br>label=%{customdata[2]}<br>pm1=%{x}<br>pm2=%{y}<br>proteins_id=%{customdata[0]}<br>accession=%{customdata[1]}<extra></extra>",
         "hovertext": [
          "CC3",
          "CC3",
          "CC3"
         ],
         "legendgroup": "CC3",
         "marker": {
          "color": "#ab63fa",
          "symbol": "circle"
         },
         "mode": "markers",
         "name": "CC3",
         "orientation": "v",
         "showlegend": true,
         "type": "scatter",
         "x": [
          -0.16011693,
          -0.7948339,
          -0.47506526
         ],
         "xaxis": "x",
         "y": [
          0.52998704,
          0.08160552,
          0.5182865
         ],
         "yaxis": "y"
        },
        {
         "customdata": [
          [
           "Q6IQ43 CC1_PTP_PTPN9_PTPN9",
           "Q99502",
           "HAD"
          ],
          [
           "Q6XPS3 CC1_PTEN_VSP_TPTE2",
           "O00167",
           "HAD"
          ],
          [
           "Q6ZNF0 PPPL_PAP_PAPL_PAPL",
           "Q99504",
           "HAD"
          ],
          [
           "Q6ZVD8 PPM_PPM_PHLPP_PHLPP2",
           "A0A0S2Z3Q2",
           "HAD"
          ],
          [
           "Q76I76 CC1_DSP_Slingshot_SSH2",
           "Q05D32",
           "HAD"
          ],
          [
           "Q86WG5 CC1_Myotubularin_MTMR5_SBF2",
           "O95476",
           "HAD"
          ],
          [
           "Q8IXW5 RTR1_RTR1_RTR1_RPAP2",
           "Q9Y5B0",
           "HAD"
          ],
          [
           "Q8N0Y7 HP_HP1_PGAM_PGAM4",
           "Q9GZU7",
           "HAD"
          ],
          [
           "Q8N3J5 PPM_PPM_PPM1K_PPM1K",
           "O14595",
           "HAD"
          ],
          [
           "Q8N819 PPM_PPM_PPM1A_PPM1N",
           "O15194",
           "HAD"
          ],
          [
           "Q8NCE2 CC1_Myotubularin_MTMR14_MTMR14",
           "Q3ZCQ8",
           "HAD"
          ],
          [
           "Q8NEJ0 CC1_DSP_DSP14_DUSP18",
           "Q8WVY7",
           "HAD"
          ],
          [
           "Q8NI37 PPM_PPM_PTC7_PPTC7",
           "Q9BXW7",
           "HAD"
          ],
          [
           "Q8TE77 CC1_DSP_Slingshot_SSH3",
           "Q9H0R4",
           "HAD"
          ],
          [
           "Q8TE99 HP_HP2_PXYLP1_PXYLP1",
           "Q9H008",
           "HAD"
          ],
          [
           "Q8TF42 HP_HP1_STS_UBASH3B",
           "Q96GD0",
           "HAD"
          ],
          [
           "Q8WTR2 CC1_DSP_DSP19_DUSP19",
           "A6NDG6",
           "HAD"
          ]
         ],
         "hovertemplate": "<b>%{hovertext}</b><br><br>label=%{customdata[2]}<br>pm1=%{x}<br>pm2=%{y}<br>proteins_id=%{customdata[0]}<br>accession=%{customdata[1]}<extra></extra>",
         "hovertext": [
          "HAD",
          "HAD",
          "HAD",
          "HAD",
          "HAD",
          "HAD",
          "HAD",
          "HAD",
          "HAD",
          "HAD",
          "HAD",
          "HAD",
          "HAD",
          "HAD",
          "HAD",
          "HAD",
          "HAD"
         ],
         "legendgroup": "HAD",
         "marker": {
          "color": "#FFA15A",
          "symbol": "circle"
         },
         "mode": "markers",
         "name": "HAD",
         "orientation": "v",
         "showlegend": true,
         "type": "scatter",
         "x": [
          0.4200518,
          0.6450453,
          0.3716512,
          -0.8531293,
          -0.33283004,
          0.834928,
          0.10858758,
          -0.7614232,
          -0.84133416,
          -0.8241596,
          0.7951933,
          -0.50444186,
          -0.8316246,
          -0.28788045,
          -0.87913424,
          -0.683831,
          -0.42030868
         ],
         "xaxis": "x",
         "y": [
          -0.7254114,
          0.13643582,
          0.6365409,
          -0.38654727,
          0.50081134,
          0.4067458,
          0.20001964,
          0.091192804,
          -0.40485454,
          -0.3970429,
          0.44729516,
          0.5175816,
          -0.4222861,
          0.53341925,
          0.3209349,
          0.014677552,
          0.5384064
         ],
         "yaxis": "y"
        },
        {
         "customdata": [
          [
           "Q8WUJ0 CC1_DSP_STYX_STYX",
           "P16118",
           "HP"
          ],
          [
           "Q8WUK0 CC1_DSP_PTPMT1_PTPMT1",
           "O60825",
           "HP"
          ],
          [
           "Q8WVY7 HAD_FCP_UBLCP1_UBLCP1",
           "Q16875",
           "HP"
          ],
          [
           "Q8WY54 PPM_PPM_PPM1E_PPM1E",
           "Q16877",
           "HP"
          ],
          [
           "Q8WYL5 CC1_DSP_Slingshot_SSH1",
           "P07738",
           "HP"
          ],
          [
           "Q92562 CC1_Sac_FIG4_FIG4",
           "Q6FHU2",
           "HP"
          ],
          [
           "Q92729|1 CC1_PTP_PTPRK_PTPRU",
           "P15259",
           "HP"
          ],
          [
           "Q92729|2 CC1_PTP_PTPRK_PTPRU",
           "Q8N0Y7",
           "HP"
          ],
          [
           "Q92932 CC1_PTP_PTPRN_PTPRN2",
           "Q96HS1",
           "HP"
          ],
          [
           "Q93096 CC1_DSP_PRL_PTP4A1",
           "P57075",
           "HP"
          ],
          [
           "Q96EF0 CC1_Myotubularin_MTMR6_MTMR8",
           "Q8TF42",
           "HP"
          ],
          [
           "Q96GD0 HAD_NagD_PGP_CIN",
           "Q9NQ88",
           "HP"
          ],
          [
           "Q96HS1 HP_HP1_PGAM5_PGAM5",
           "P11117",
           "HP"
          ],
          [
           "Q96MI6 PPM_PPM_PPM1H_PPM1M",
           "P15309",
           "HP"
          ],
          [
           "Q96QG7 CC1_Myotubularin_MTMR9_MTMR9",
           "Q9BZG2",
           "HP"
          ],
          [
           "Q99502 HAD_EYA_EYA_EYA1",
           "Q9NPH0",
           "HP"
          ],
          [
           "Q99504 HAD_EYA_EYA_EYA3",
           "Q9UNW1",
           "HP"
          ],
          [
           "Q99952 CC1_PTP_PTPN12_PTPN18",
           "B7WPL9",
           "HP"
          ],
          [
           "Q99956 CC1_DSP_DSP6_DUSP9",
           "A0A087WZV0",
           "HP"
          ],
          [
           "Q9BV47 CC1_DSP_DSP3_DUSP26",
           "Q8TE99",
           "HP"
          ]
         ],
         "hovertemplate": "<b>%{hovertext}</b><br><br>label=%{customdata[2]}<br>pm1=%{x}<br>pm2=%{y}<br>proteins_id=%{customdata[0]}<br>accession=%{customdata[1]}<extra></extra>",
         "hovertext": [
          "HP",
          "HP",
          "HP",
          "HP",
          "HP",
          "HP",
          "HP",
          "HP",
          "HP",
          "HP",
          "HP",
          "HP",
          "HP",
          "HP",
          "HP",
          "HP",
          "HP",
          "HP",
          "HP",
          "HP"
         ],
         "legendgroup": "HP",
         "marker": {
          "color": "#19d3f3",
          "symbol": "circle"
         },
         "mode": "markers",
         "name": "HP",
         "orientation": "v",
         "showlegend": true,
         "type": "scatter",
         "x": [
          -0.3370092,
          -0.11462282,
          -0.19576274,
          -0.8299855,
          -0.33677647,
          0.899012,
          0.5129243,
          0.14251791,
          0.4355896,
          0.05954597,
          0.762285,
          -0.31773815,
          -0.7029009,
          -0.8300341,
          0.79142475,
          -0.29203302,
          -0.28497386,
          0.40859067,
          -0.37807074,
          -0.1792443
         ],
         "xaxis": "x",
         "y": [
          0.32720906,
          0.07806543,
          0.86022025,
          -0.409901,
          0.5019865,
          0.3157616,
          -0.73712015,
          -0.807276,
          -0.62808603,
          0.103763,
          0.42542222,
          0.8152234,
          0.08062949,
          -0.28359014,
          0.39735532,
          0.8836292,
          0.8783208,
          -0.48794666,
          0.4184703,
          0.53296983
         ],
         "yaxis": "y"
        },
        {
         "customdata": [
          [
           "Q9BVJ7 CC1_DSP_DSP23_DUSP23",
           "Q9NRX4",
           "PHP"
          ]
         ],
         "hovertemplate": "<b>%{hovertext}</b><br><br>label=%{customdata[2]}<br>pm1=%{x}<br>pm2=%{y}<br>proteins_id=%{customdata[0]}<br>accession=%{customdata[1]}<extra></extra>",
         "hovertext": [
          "PHP"
         ],
         "legendgroup": "PHP",
         "marker": {
          "color": "#FF6692",
          "symbol": "circle"
         },
         "mode": "markers",
         "name": "PHP",
         "orientation": "v",
         "showlegend": true,
         "type": "scatter",
         "x": [
          -0.10227995
         ],
         "xaxis": "x",
         "y": [
          0.14890803
         ],
         "yaxis": "y"
        },
        {
         "customdata": [
          [
           "Q9BXW7 HAD_NagD_CUT_CECR5",
           "Q9H0C8",
           "PPM"
          ],
          [
           "Q9BY84 CC1_DSP_DSP8_DUSP16",
           "Q9P0J1",
           "PPM"
          ],
          [
           "Q9BZG2 HP_HP2_ACP2_ACPT",
           "Q9P2J9",
           "PPM"
          ],
          [
           "Q9C0I1 CC1_Myotubularin_MTMR10_MTMR12",
           "O60346",
           "PPM"
          ],
          [
           "Q9GZU7 HAD_FCP_SCP_SCP1",
           "Q6ZVD8",
           "PPM"
          ],
          [
           "Q9H008 HAD_NagD_LHPP_LHPP",
           "A8MPX8",
           "PPM"
          ],
          [
           "Q9H0C8 PPM_PPM_ILKAP_ILKAP",
           "P35813",
           "PPM"
          ],
          [
           "Q9H0R4 HAD_NagD_LHPP_HDHD2",
           "O75688",
           "PPM"
          ],
          [
           "Q9H1R2 CC1_DSP_DSP15_DUSP15",
           "Q8N819",
           "PPM"
          ],
          [
           "Q9H3S7 CC1_PTP_PTPN23_PTPN23",
           "O15297",
           "PPM"
          ],
          [
           "Q9H596 CC1_DSP_DSP14_DUSP21",
           "Q8WY54",
           "PPM"
          ],
          [
           "Q9HBL0 CC1_PTEN_Tensin_TNS1",
           "P49593",
           "PPM"
          ],
          [
           "Q9HD43 CC1_PTP_PTPRB_PTPRH",
           "O15355",
           "PPM"
          ],
          [
           "Q9NP77 CC2_SSU72_SSU72_SSU72",
           "Q9ULR3",
           "PPM"
          ],
          [
           "Q9NPH0 HP_HP2_ACP6_ACP6",
           "Q5JR12",
           "PPM"
          ],
          [
           "Q9NQ88 HP_HP1_TIGAR_TIGAR",
           "Q96MI6",
           "PPM"
          ],
          [
           "Q9NRW4 CC1_DSP_DSP15_DUSP22",
           "Q8N3J5",
           "PPM"
          ],
          [
           "Q9NRX4 PHP_PHP_PHP_PHPT1",
           "Q5SGD2",
           "PPM"
          ],
          [
           "Q9NTJ5 CC1_Sac_SAC1_SACM1L",
           "Q8NI37",
           "PPM"
          ],
          [
           "Q9NXD2 CC1_Myotubularin_MTMR10_MTMR10",
           "Q15750",
           "PPM"
          ]
         ],
         "hovertemplate": "<b>%{hovertext}</b><br><br>label=%{customdata[2]}<br>pm1=%{x}<br>pm2=%{y}<br>proteins_id=%{customdata[0]}<br>accession=%{customdata[1]}<extra></extra>",
         "hovertext": [
          "PPM",
          "PPM",
          "PPM",
          "PPM",
          "PPM",
          "PPM",
          "PPM",
          "PPM",
          "PPM",
          "PPM",
          "PPM",
          "PPM",
          "PPM",
          "PPM",
          "PPM",
          "PPM",
          "PPM",
          "PPM",
          "PPM",
          "PPM"
         ],
         "legendgroup": "PPM",
         "marker": {
          "color": "#B6E880",
          "symbol": "circle"
         },
         "mode": "markers",
         "name": "PPM",
         "orientation": "v",
         "showlegend": true,
         "type": "scatter",
         "x": [
          -0.3006205,
          -0.4237158,
          -0.8722362,
          0.8310818,
          -0.20692159,
          -0.29542154,
          -0.8317782,
          -0.303661,
          -0.4856771,
          0.18148418,
          -0.52210253,
          0.39823088,
          0.40885502,
          -0.44874692,
          -0.88719064,
          -0.73094964,
          -0.4955892,
          -0.5916711,
          0.9046842,
          0.8166899
         ],
         "xaxis": "x",
         "y": [
          0.861069,
          0.39393368,
          0.31751126,
          0.37633753,
          0.89927435,
          0.83507484,
          -0.37552828,
          0.8373567,
          0.5518744,
          -0.7812237,
          0.51693815,
          0.15977374,
          -0.6190961,
          -0.007375054,
          0.32093275,
          -0.0408308,
          0.4695271,
          0.025352916,
          0.31722686,
          0.38844255
         ],
         "yaxis": "y"
        },
        {
         "customdata": [
          [
           "Q9NYA4 CC1_Myotubularin_MTMR3_MTMR4",
           "P13686",
           "PPPL"
          ],
          [
           "Q9P0J1 PPM_PPM_PDPc_PDP1",
           "Q6ZNF0",
           "PPPL"
          ],
          [
           "Q9P2J9 PPM_PPM_PDPc_PDP2",
           "P62136",
           "PPPL"
          ],
          [
           "Q9UII6 CC1_DSP_DSP3_DUSP13",
           "P62140",
           "PPPL"
          ],
          [
           "Q9ULE6|1 CC1_Paladin_Paladin_PALD1",
           "P36873",
           "PPPL"
          ],
          [
           "Q9ULE6|2 CC1_Paladin_Paladin_PALD1",
           "P67775",
           "PPPL"
          ],
          [
           "Q9ULR3 PPM_PPM_PPM1H_PPM1H",
           "P62714",
           "PPPL"
          ],
          [
           "Q9UNI6 CC1_DSP_DSP12_DUSP12",
           "Q08209",
           "PPPL"
          ],
          [
           "Q9UNW1 HP_HP2_MINPP1_MINPP1",
           "P16298",
           "PPPL"
          ],
          [
           "Q9Y216 CC1_Myotubularin_MTMR6_MTMR7",
           "P48454",
           "PPPL"
          ],
          [
           "Q9Y217 CC1_Myotubularin_MTMR6_MTMR6",
           "P60510",
           "PPPL"
          ],
          [
           "Q9Y2H2 CC1_Sac_INPP5F_INPP5F",
           "P53041",
           "PPPL"
          ],
          [
           "Q9Y2R2 CC1_PTP_PTPN12_PTPN22",
           "O00743",
           "PPPL"
          ],
          [
           "Q9Y5B0 HAD_FCP_FCP1_FCP1",
           "O14829",
           "PPPL"
          ],
          [
           "Q9Y6J8 CC1_DSP_STYXL1_STYXL1",
           "O14830",
           "PPPL"
          ]
         ],
         "hovertemplate": "<b>%{hovertext}</b><br><br>label=%{customdata[2]}<br>pm1=%{x}<br>pm2=%{y}<br>proteins_id=%{customdata[0]}<br>accession=%{customdata[1]}<extra></extra>",
         "hovertext": [
          "PPPL",
          "PPPL",
          "PPPL",
          "PPPL",
          "PPPL",
          "PPPL",
          "PPPL",
          "PPPL",
          "PPPL",
          "PPPL",
          "PPPL",
          "PPPL",
          "PPPL",
          "PPPL",
          "PPPL"
         ],
         "legendgroup": "PPPL",
         "marker": {
          "color": "#FF97FF",
          "symbol": "circle"
         },
         "mode": "markers",
         "name": "PPPL",
         "orientation": "v",
         "showlegend": true,
         "type": "scatter",
         "x": [
          0.8105666,
          -0.8511106,
          -0.8496839,
          -0.15173896,
          0.90106595,
          0.88731,
          -0.82329994,
          -0.52514184,
          -0.86806315,
          0.7744834,
          0.7820533,
          0.8971117,
          0.38175434,
          -0.25052428,
          -0.5253094
         ],
         "xaxis": "x",
         "y": [
          0.42140073,
          -0.28553286,
          -0.27235767,
          0.495926,
          0.32206324,
          0.32130006,
          -0.26947308,
          0.39877078,
          0.32474986,
          0.40974313,
          0.42148012,
          0.31104705,
          -0.501097,
          0.8672621,
          0.4928292
         ],
         "yaxis": "y"
        },
        {
         "customdata": [
          [
           "Q9Y6W6 CC1_DSP_DSP10_DUSP10",
           "Q8IXW5",
           "RTR1"
          ]
         ],
         "hovertemplate": "<b>%{hovertext}</b><br><br>label=%{customdata[2]}<br>pm1=%{x}<br>pm2=%{y}<br>proteins_id=%{customdata[0]}<br>accession=%{customdata[1]}<extra></extra>",
         "hovertext": [
          "RTR1"
         ],
         "legendgroup": "RTR1",
         "marker": {
          "color": "#FECB52",
          "symbol": "circle"
         },
         "mode": "markers",
         "name": "RTR1",
         "orientation": "v",
         "showlegend": true,
         "type": "scatter",
         "x": [
          -0.3590757
         ],
         "xaxis": "x",
         "y": [
          0.52516705
         ],
         "yaxis": "y"
        }
       ],
       "layout": {
        "font": {
         "size": 11
        },
        "height": 800,
        "legend": {
         "title": {
          "text": "label"
         },
         "tracegroupgap": 0
        },
        "plot_bgcolor": "rgba(0, 0, 0, 0)",
        "shapes": [
         {
          "line": {
           "color": "black",
           "dash": "dot"
          },
          "opacity": 0.15,
          "type": "circle",
          "x0": -0.47058823529411764,
          "x1": 0.47058823529411764,
          "y0": -0.47058823529411764,
          "y1": 0.47058823529411764
         },
         {
          "line": {
           "color": "black",
           "dash": "dot"
          },
          "opacity": 0.15,
          "type": "circle",
          "x0": -0.644736842105263,
          "x1": 0.644736842105263,
          "y0": -0.644736842105263,
          "y1": 0.644736842105263
         },
         {
          "line": {
           "color": "black",
           "dash": "dot"
          },
          "opacity": 0.15,
          "type": "circle",
          "x0": -0.7705382436260623,
          "x1": 0.7705382436260623,
          "y0": -0.7705382436260623,
          "y1": 0.7705382436260623
         },
         {
          "line": {
           "color": "black",
           "dash": "dot"
          },
          "opacity": 0.15,
          "type": "circle",
          "x0": -0.8557007125890735,
          "x1": 0.8557007125890735,
          "y0": -0.8557007125890735,
          "y1": 0.8557007125890735
         },
         {
          "line": {
           "color": "black",
           "dash": "dot"
          },
          "opacity": 0.15,
          "type": "circle",
          "x0": -0.9108474990827932,
          "x1": 0.9108474990827932,
          "y0": -0.9108474990827932,
          "y1": 0.9108474990827932
         },
         {
          "line": {
           "color": "black",
           "dash": "dot"
          },
          "opacity": 0.15,
          "type": "circle",
          "x0": -0.9455374041239167,
          "x1": 0.9455374041239167,
          "y0": -0.9455374041239167,
          "y1": 0.9455374041239167
         },
         {
          "line": {
           "color": "Black"
          },
          "type": "circle",
          "x0": -1,
          "x1": 1,
          "xref": "x",
          "y0": -1,
          "y1": 1,
          "yref": "y"
         },
         {
          "fillcolor": "Black",
          "line": {
           "color": "Black"
          },
          "type": "circle",
          "x0": -0.005,
          "x1": 0.005,
          "xref": "x",
          "y0": -0.005,
          "y1": 0.005,
          "yref": "y"
         }
        ],
        "template": {
         "data": {
          "bar": [
           {
            "error_x": {
             "color": "#2a3f5f"
            },
            "error_y": {
             "color": "#2a3f5f"
            },
            "marker": {
             "line": {
              "color": "#E5ECF6",
              "width": 0.5
             },
             "pattern": {
              "fillmode": "overlay",
              "size": 10,
              "solidity": 0.2
             }
            },
            "type": "bar"
           }
          ],
          "barpolar": [
           {
            "marker": {
             "line": {
              "color": "#E5ECF6",
              "width": 0.5
             },
             "pattern": {
              "fillmode": "overlay",
              "size": 10,
              "solidity": 0.2
             }
            },
            "type": "barpolar"
           }
          ],
          "carpet": [
           {
            "aaxis": {
             "endlinecolor": "#2a3f5f",
             "gridcolor": "white",
             "linecolor": "white",
             "minorgridcolor": "white",
             "startlinecolor": "#2a3f5f"
            },
            "baxis": {
             "endlinecolor": "#2a3f5f",
             "gridcolor": "white",
             "linecolor": "white",
             "minorgridcolor": "white",
             "startlinecolor": "#2a3f5f"
            },
            "type": "carpet"
           }
          ],
          "choropleth": [
           {
            "colorbar": {
             "outlinewidth": 0,
             "ticks": ""
            },
            "type": "choropleth"
           }
          ],
          "contour": [
           {
            "colorbar": {
             "outlinewidth": 0,
             "ticks": ""
            },
            "colorscale": [
             [
              0,
              "#0d0887"
             ],
             [
              0.1111111111111111,
              "#46039f"
             ],
             [
              0.2222222222222222,
              "#7201a8"
             ],
             [
              0.3333333333333333,
              "#9c179e"
             ],
             [
              0.4444444444444444,
              "#bd3786"
             ],
             [
              0.5555555555555556,
              "#d8576b"
             ],
             [
              0.6666666666666666,
              "#ed7953"
             ],
             [
              0.7777777777777778,
              "#fb9f3a"
             ],
             [
              0.8888888888888888,
              "#fdca26"
             ],
             [
              1,
              "#f0f921"
             ]
            ],
            "type": "contour"
           }
          ],
          "contourcarpet": [
           {
            "colorbar": {
             "outlinewidth": 0,
             "ticks": ""
            },
            "type": "contourcarpet"
           }
          ],
          "heatmap": [
           {
            "colorbar": {
             "outlinewidth": 0,
             "ticks": ""
            },
            "colorscale": [
             [
              0,
              "#0d0887"
             ],
             [
              0.1111111111111111,
              "#46039f"
             ],
             [
              0.2222222222222222,
              "#7201a8"
             ],
             [
              0.3333333333333333,
              "#9c179e"
             ],
             [
              0.4444444444444444,
              "#bd3786"
             ],
             [
              0.5555555555555556,
              "#d8576b"
             ],
             [
              0.6666666666666666,
              "#ed7953"
             ],
             [
              0.7777777777777778,
              "#fb9f3a"
             ],
             [
              0.8888888888888888,
              "#fdca26"
             ],
             [
              1,
              "#f0f921"
             ]
            ],
            "type": "heatmap"
           }
          ],
          "heatmapgl": [
           {
            "colorbar": {
             "outlinewidth": 0,
             "ticks": ""
            },
            "colorscale": [
             [
              0,
              "#0d0887"
             ],
             [
              0.1111111111111111,
              "#46039f"
             ],
             [
              0.2222222222222222,
              "#7201a8"
             ],
             [
              0.3333333333333333,
              "#9c179e"
             ],
             [
              0.4444444444444444,
              "#bd3786"
             ],
             [
              0.5555555555555556,
              "#d8576b"
             ],
             [
              0.6666666666666666,
              "#ed7953"
             ],
             [
              0.7777777777777778,
              "#fb9f3a"
             ],
             [
              0.8888888888888888,
              "#fdca26"
             ],
             [
              1,
              "#f0f921"
             ]
            ],
            "type": "heatmapgl"
           }
          ],
          "histogram": [
           {
            "marker": {
             "pattern": {
              "fillmode": "overlay",
              "size": 10,
              "solidity": 0.2
             }
            },
            "type": "histogram"
           }
          ],
          "histogram2d": [
           {
            "colorbar": {
             "outlinewidth": 0,
             "ticks": ""
            },
            "colorscale": [
             [
              0,
              "#0d0887"
             ],
             [
              0.1111111111111111,
              "#46039f"
             ],
             [
              0.2222222222222222,
              "#7201a8"
             ],
             [
              0.3333333333333333,
              "#9c179e"
             ],
             [
              0.4444444444444444,
              "#bd3786"
             ],
             [
              0.5555555555555556,
              "#d8576b"
             ],
             [
              0.6666666666666666,
              "#ed7953"
             ],
             [
              0.7777777777777778,
              "#fb9f3a"
             ],
             [
              0.8888888888888888,
              "#fdca26"
             ],
             [
              1,
              "#f0f921"
             ]
            ],
            "type": "histogram2d"
           }
          ],
          "histogram2dcontour": [
           {
            "colorbar": {
             "outlinewidth": 0,
             "ticks": ""
            },
            "colorscale": [
             [
              0,
              "#0d0887"
             ],
             [
              0.1111111111111111,
              "#46039f"
             ],
             [
              0.2222222222222222,
              "#7201a8"
             ],
             [
              0.3333333333333333,
              "#9c179e"
             ],
             [
              0.4444444444444444,
              "#bd3786"
             ],
             [
              0.5555555555555556,
              "#d8576b"
             ],
             [
              0.6666666666666666,
              "#ed7953"
             ],
             [
              0.7777777777777778,
              "#fb9f3a"
             ],
             [
              0.8888888888888888,
              "#fdca26"
             ],
             [
              1,
              "#f0f921"
             ]
            ],
            "type": "histogram2dcontour"
           }
          ],
          "mesh3d": [
           {
            "colorbar": {
             "outlinewidth": 0,
             "ticks": ""
            },
            "type": "mesh3d"
           }
          ],
          "parcoords": [
           {
            "line": {
             "colorbar": {
              "outlinewidth": 0,
              "ticks": ""
             }
            },
            "type": "parcoords"
           }
          ],
          "pie": [
           {
            "automargin": true,
            "type": "pie"
           }
          ],
          "scatter": [
           {
            "fillpattern": {
             "fillmode": "overlay",
             "size": 10,
             "solidity": 0.2
            },
            "type": "scatter"
           }
          ],
          "scatter3d": [
           {
            "line": {
             "colorbar": {
              "outlinewidth": 0,
              "ticks": ""
             }
            },
            "marker": {
             "colorbar": {
              "outlinewidth": 0,
              "ticks": ""
             }
            },
            "type": "scatter3d"
           }
          ],
          "scattercarpet": [
           {
            "marker": {
             "colorbar": {
              "outlinewidth": 0,
              "ticks": ""
             }
            },
            "type": "scattercarpet"
           }
          ],
          "scattergeo": [
           {
            "marker": {
             "colorbar": {
              "outlinewidth": 0,
              "ticks": ""
             }
            },
            "type": "scattergeo"
           }
          ],
          "scattergl": [
           {
            "marker": {
             "colorbar": {
              "outlinewidth": 0,
              "ticks": ""
             }
            },
            "type": "scattergl"
           }
          ],
          "scattermapbox": [
           {
            "marker": {
             "colorbar": {
              "outlinewidth": 0,
              "ticks": ""
             }
            },
            "type": "scattermapbox"
           }
          ],
          "scatterpolar": [
           {
            "marker": {
             "colorbar": {
              "outlinewidth": 0,
              "ticks": ""
             }
            },
            "type": "scatterpolar"
           }
          ],
          "scatterpolargl": [
           {
            "marker": {
             "colorbar": {
              "outlinewidth": 0,
              "ticks": ""
             }
            },
            "type": "scatterpolargl"
           }
          ],
          "scatterternary": [
           {
            "marker": {
             "colorbar": {
              "outlinewidth": 0,
              "ticks": ""
             }
            },
            "type": "scatterternary"
           }
          ],
          "surface": [
           {
            "colorbar": {
             "outlinewidth": 0,
             "ticks": ""
            },
            "colorscale": [
             [
              0,
              "#0d0887"
             ],
             [
              0.1111111111111111,
              "#46039f"
             ],
             [
              0.2222222222222222,
              "#7201a8"
             ],
             [
              0.3333333333333333,
              "#9c179e"
             ],
             [
              0.4444444444444444,
              "#bd3786"
             ],
             [
              0.5555555555555556,
              "#d8576b"
             ],
             [
              0.6666666666666666,
              "#ed7953"
             ],
             [
              0.7777777777777778,
              "#fb9f3a"
             ],
             [
              0.8888888888888888,
              "#fdca26"
             ],
             [
              1,
              "#f0f921"
             ]
            ],
            "type": "surface"
           }
          ],
          "table": [
           {
            "cells": {
             "fill": {
              "color": "#EBF0F8"
             },
             "line": {
              "color": "white"
             }
            },
            "header": {
             "fill": {
              "color": "#C8D4E3"
             },
             "line": {
              "color": "white"
             }
            },
            "type": "table"
           }
          ]
         },
         "layout": {
          "annotationdefaults": {
           "arrowcolor": "#2a3f5f",
           "arrowhead": 0,
           "arrowwidth": 1
          },
          "autotypenumbers": "strict",
          "coloraxis": {
           "colorbar": {
            "outlinewidth": 0,
            "ticks": ""
           }
          },
          "colorscale": {
           "diverging": [
            [
             0,
             "#8e0152"
            ],
            [
             0.1,
             "#c51b7d"
            ],
            [
             0.2,
             "#de77ae"
            ],
            [
             0.3,
             "#f1b6da"
            ],
            [
             0.4,
             "#fde0ef"
            ],
            [
             0.5,
             "#f7f7f7"
            ],
            [
             0.6,
             "#e6f5d0"
            ],
            [
             0.7,
             "#b8e186"
            ],
            [
             0.8,
             "#7fbc41"
            ],
            [
             0.9,
             "#4d9221"
            ],
            [
             1,
             "#276419"
            ]
           ],
           "sequential": [
            [
             0,
             "#0d0887"
            ],
            [
             0.1111111111111111,
             "#46039f"
            ],
            [
             0.2222222222222222,
             "#7201a8"
            ],
            [
             0.3333333333333333,
             "#9c179e"
            ],
            [
             0.4444444444444444,
             "#bd3786"
            ],
            [
             0.5555555555555556,
             "#d8576b"
            ],
            [
             0.6666666666666666,
             "#ed7953"
            ],
            [
             0.7777777777777778,
             "#fb9f3a"
            ],
            [
             0.8888888888888888,
             "#fdca26"
            ],
            [
             1,
             "#f0f921"
            ]
           ],
           "sequentialminus": [
            [
             0,
             "#0d0887"
            ],
            [
             0.1111111111111111,
             "#46039f"
            ],
            [
             0.2222222222222222,
             "#7201a8"
            ],
            [
             0.3333333333333333,
             "#9c179e"
            ],
            [
             0.4444444444444444,
             "#bd3786"
            ],
            [
             0.5555555555555556,
             "#d8576b"
            ],
            [
             0.6666666666666666,
             "#ed7953"
            ],
            [
             0.7777777777777778,
             "#fb9f3a"
            ],
            [
             0.8888888888888888,
             "#fdca26"
            ],
            [
             1,
             "#f0f921"
            ]
           ]
          },
          "colorway": [
           "#636efa",
           "#EF553B",
           "#00cc96",
           "#ab63fa",
           "#FFA15A",
           "#19d3f3",
           "#FF6692",
           "#B6E880",
           "#FF97FF",
           "#FECB52"
          ],
          "font": {
           "color": "#2a3f5f"
          },
          "geo": {
           "bgcolor": "white",
           "lakecolor": "white",
           "landcolor": "#E5ECF6",
           "showlakes": true,
           "showland": true,
           "subunitcolor": "white"
          },
          "hoverlabel": {
           "align": "left"
          },
          "hovermode": "closest",
          "mapbox": {
           "style": "light"
          },
          "paper_bgcolor": "white",
          "plot_bgcolor": "#E5ECF6",
          "polar": {
           "angularaxis": {
            "gridcolor": "white",
            "linecolor": "white",
            "ticks": ""
           },
           "bgcolor": "#E5ECF6",
           "radialaxis": {
            "gridcolor": "white",
            "linecolor": "white",
            "ticks": ""
           }
          },
          "scene": {
           "xaxis": {
            "backgroundcolor": "#E5ECF6",
            "gridcolor": "white",
            "gridwidth": 2,
            "linecolor": "white",
            "showbackground": true,
            "ticks": "",
            "zerolinecolor": "white"
           },
           "yaxis": {
            "backgroundcolor": "#E5ECF6",
            "gridcolor": "white",
            "gridwidth": 2,
            "linecolor": "white",
            "showbackground": true,
            "ticks": "",
            "zerolinecolor": "white"
           },
           "zaxis": {
            "backgroundcolor": "#E5ECF6",
            "gridcolor": "white",
            "gridwidth": 2,
            "linecolor": "white",
            "showbackground": true,
            "ticks": "",
            "zerolinecolor": "white"
           }
          },
          "shapedefaults": {
           "line": {
            "color": "#2a3f5f"
           }
          },
          "ternary": {
           "aaxis": {
            "gridcolor": "white",
            "linecolor": "white",
            "ticks": ""
           },
           "baxis": {
            "gridcolor": "white",
            "linecolor": "white",
            "ticks": ""
           },
           "bgcolor": "#E5ECF6",
           "caxis": {
            "gridcolor": "white",
            "linecolor": "white",
            "ticks": ""
           }
          },
          "title": {
           "x": 0.05
          },
          "xaxis": {
           "automargin": true,
           "gridcolor": "white",
           "linecolor": "white",
           "ticks": "",
           "title": {
            "standoff": 15
           },
           "zerolinecolor": "white",
           "zerolinewidth": 2
          },
          "yaxis": {
           "automargin": true,
           "gridcolor": "white",
           "linecolor": "white",
           "ticks": "",
           "title": {
            "standoff": 15
           },
           "zerolinecolor": "white",
           "zerolinewidth": 2
          }
         }
        },
        "title": {
         "text": "PM projection of phosphatases",
         "x": 0.5
        },
        "xaxis": {
         "anchor": "y",
         "constrain": "domain",
         "domain": [
          0,
          1
         ],
         "range": [
          -1.1,
          1.1
         ],
         "title": {
          "text": "pm1"
         }
        },
        "yaxis": {
         "anchor": "x",
         "domain": [
          0,
          1
         ],
         "scaleanchor": "x",
         "scaleratio": 1,
         "title": {
          "text": "pm2"
         }
        },
        "yaxis2": {
         "layer": "below traces",
         "matches": "y",
         "overlaying": "y"
        }
       }
      }
     },
     "metadata": {},
     "output_type": "display_data"
    }
   ],
   "source": [
    "# OPTIONS =================================================\n",
    "#Here you can set different parameters to color & annotate the resulting projection:\n",
    "title = \"PM projection of phosphatases\" \n",
    "#----------------------------------------------------------\n",
    "# Select the coloring from annotation .csv file:\n",
    "labels_name = \"label\"\n",
    "# Select classes to label among the \"labels_name\" or \"second_labels_name\" column (comma separated list):\n",
    "second_labels_name = \"\"\n",
    "labels_text = []\n",
    "show_text = False\n",
    "#----------------------------------------------------------\n",
    "# Use a custom color palette:\n",
    "color_palette = colour_palette #Default: None\n",
    "use_custom_palette = True\n",
    "#==========================================================\n",
    "\n",
    "\n",
    "#Check projection visualization parameters\n",
    "#Labels name\n",
    "if labels_name == \"\":\n",
    "    labels_name = None\n",
    "elif labels_name not in annotation_names:\n",
    "    raise NameError(f\"labels_name {labels_name} is not in the availables annotations.\\nAvailables annotations: {annotation_names}\")\n",
    "#Second labels name\n",
    "if second_labels_name == \"\":\n",
    "    second_labels_name = None\n",
    "elif second_labels_name not in annotation_names:\n",
    "    raise NameError(f'\"second_labels_name\" {second_labels_name} is not in the availables annotations.\\nAvailables annotations: {annotation_names}')\n",
    "\n",
    "if not use_custom_palette:\n",
    "    color_palette = None\n",
    "\n",
    "#Plot graph\n",
    "fig = plot_embedding_interactive(df_embedding, \n",
    "                                 labels_name = labels_name,\n",
    "                                 second_labels_name = second_labels_name, \n",
    "                                 show_text = show_text,\n",
    "                                 labels_text = labels_text,\n",
    "                                 color_palette = color_palette, \n",
    "                                 title = title, \n",
    "                                 fontsize = 11)\n",
    "fig.show()"
   ]
  },
  {
   "cell_type": "code",
   "execution_count": null,
   "metadata": {},
   "outputs": [],
   "source": [
    "# OPTIONS =================================================\n",
    "#Here you can set different parameters to color & annotate the resulting projection:\n",
    "title = \"PM projection of thioredoxins colored by species\"\n",
    "#----------------------------------------------------------\n",
    "# Select the coloring from annotation .csv file:\n",
    "labels_name = \"Species\"\n",
    "# Select classes to label among the \"labels_name\" or \"second_labels_name\" column (comma separated list):\n",
    "second_labels_name = \"\"\n",
    "labels_text = []\n",
    "show_text = False\n",
    "#----------------------------------------------------------\n",
    "# Use a custom color palette:\n",
    "color_palette = trx_palette #Default: None\n",
    "use_custom_palette = True\n",
    "#==========================================================\n",
    "\n",
    "\n",
    "#Check projection visualization parameters\n",
    "#Labels name\n",
    "if labels_name == \"\":\n",
    "    labels_name = None\n",
    "elif labels_name not in annotation_names:\n",
    "    raise NameError(f\"labels_name {labels_name} is not in the availables annotations.\\nAvailables annotations: {annotation_names}\")\n",
    "#Second labels name\n",
    "if second_labels_name == \"\":\n",
    "    second_labels_name = None\n",
    "elif second_labels_name not in annotation_names:\n",
    "    raise NameError(f'\"second_labels_name\" {second_labels_name} is not in the availables annotations.\\nAvailables annotations: {annotation_names}')\n",
    "\n",
    "if not use_custom_palette:\n",
    "    color_palette = None\n",
    "\n",
    "#Plot graph\n",
    "fig = plot_embedding_interactive(df_embedding, \n",
    "                                 labels_name = labels_name,\n",
    "                                 second_labels_name = second_labels_name, \n",
    "                                 show_text = show_text,\n",
    "                                 labels_text = labels_text,\n",
    "                                 color_palette = color_palette, \n",
    "                                 title = title, \n",
    "                                 fontsize = 11)\n",
    "fig.show()"
   ]
  },
  {
   "cell_type": "markdown",
   "metadata": {},
   "source": [
    "### Save plot to file"
   ]
  },
  {
   "cell_type": "code",
   "execution_count": 15,
   "metadata": {},
   "outputs": [],
   "source": [
    "# OPTIONS =================================================\n",
    "output_name = \"phosphatase_basic_w_embeddings\"\n",
    "output_format = \"html\" #Format availables: [\"png\", \"html\", \"pdf\", \"svg\"]\n",
    "#==========================================================\n",
    "\n",
    "\n",
    "if output_format != \"html\":\n",
    "    fig.write_image(f\"{output_name}.{output_format}\", engine=\"kaleido\")\n",
    "else:\n",
    "    fig.write_html(f\"{output_name}.{output_format}\")"
   ]
  },
  {
   "cell_type": "code",
   "execution_count": null,
   "metadata": {},
   "outputs": [],
   "source": []
  }
 ],
 "metadata": {
  "accelerator": "GPU",
  "colab": {
   "provenance": []
  },
  "gpuClass": "standard",
  "kernelspec": {
   "display_name": "poincare",
   "language": "python",
   "name": "python3"
  },
  "language_info": {
   "codemirror_mode": {
    "name": "ipython",
    "version": 3
   },
   "file_extension": ".py",
   "mimetype": "text/x-python",
   "name": "python",
   "nbconvert_exporter": "python",
   "pygments_lexer": "ipython3",
   "version": "3.12.2"
  }
 },
 "nbformat": 4,
 "nbformat_minor": 1
}
