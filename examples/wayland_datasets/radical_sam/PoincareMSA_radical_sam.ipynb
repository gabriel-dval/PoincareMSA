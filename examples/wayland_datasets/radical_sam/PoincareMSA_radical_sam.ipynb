{
 "cells": [
  {
   "cell_type": "markdown",
   "metadata": {
    "id": "view-in-github"
   },
   "source": [
    "[![Open In Colab](https://colab.research.google.com/assets/colab-badge.svg)](https://colab.research.google.com/github/DSIMB/PoincareMSA/blob/master/PoincareMSA_colab.ipynb)"
   ]
  },
  {
   "cell_type": "markdown",
   "metadata": {
    "id": "W5FTaqy0xqw2"
   },
   "source": [
    "<img src=\"https://github.com/DSIMB/PoincareMSA/blob/master/.github/PoincareMSA_small_logo.png?raw=true\" height=\"100\" style=\"height:100px;margin-left: 0px;\">\n",
    "\n",
    "# Poincaré maps for visualization of large protein famillies\n",
    "\n",
    "**Authors**: Anna Klimovskaia Susmelj, Yani Ren, Yann Vander Meersche, Jean-Christophe Gelly and Tatiana Galochkina\n",
    "\n",
    "PoincaréMSA builds an interactive projection of an input protein multiple sequence alignemnt (MSA) using a method based on Poincaré maps described by Klimovskaia et al [1]. It reproduces both local proximities of protein sequences and hierarchy contained in give data. Thus, sequences located closer to the center of projection correspond to the proteins sharing the most general functional properites and/or appearing at the earlier stages of evolution. Source code is available at https://github.com/DSIMB/PoincareMSA.\n",
    "\n",
    "[1] Klimovskaia, A., Lopez-Paz, D., Bottou, L. et al. Poincaré maps for analyzing complex hierarchies in single-cell data. Nat Commun 11, 2966 (2020)."
   ]
  },
  {
   "cell_type": "markdown",
   "metadata": {
    "id": "Oa7Rrq-YzfQB"
   },
   "source": [
    "# Notebook initialization"
   ]
  },
  {
   "cell_type": "code",
   "execution_count": 1,
   "metadata": {},
   "outputs": [
    {
     "name": "stdout",
     "output_type": "stream",
     "text": [
      "/Users/gabrielduval/Desktop/Paris_Cite/Year2/Projet_Long/PoincareMSA\n"
     ]
    }
   ],
   "source": [
    "# Update working directory\n",
    "\n",
    "%cd ../../../"
   ]
  },
  {
   "cell_type": "code",
   "execution_count": 2,
   "metadata": {
    "cellView": "form",
    "colab": {
     "base_uri": "https://localhost:8080/"
    },
    "id": "X_SO37g-kQq7",
    "outputId": "c30184db-2ef2-4a87-fd43-db8fd3ed5379"
   },
   "outputs": [],
   "source": [
    "#Load dependencies\n",
    "import os\n",
    "import numpy as np\n",
    "import pandas as pd\n",
    "import subprocess\n",
    "import json\n",
    "import warnings\n",
    "warnings.filterwarnings('ignore')\n",
    "\n",
    "#Import visualization functions\n",
    "from scripts.visualize_projection.pplots_new import read_embeddings, plot_embedding, plot_embedding_interactive, rotate, get_colors\n",
    "from scripts.prepare_data.mmseqs2_api import run_mmseqs2\n",
    "from scripts.prepare_data.uniprot_idmapping_api import submit_id_mapping, check_id_mapping_results_ready, get_id_mapping_results_link, get_id_mapping_results_search\n",
    "%matplotlib inline\n",
    "\n",
    "#Create optional variables\n",
    "path_annotation = \"\""
   ]
  },
  {
   "cell_type": "markdown",
   "metadata": {
    "id": "IPi6cky3wgC8"
   },
   "source": [
    "# Data import"
   ]
  },
  {
   "cell_type": "code",
   "execution_count": 3,
   "metadata": {
    "cellView": "form",
    "colab": {
     "base_uri": "https://localhost:8080/",
     "height": 75,
     "resources": {
      "http://localhost:8080/nbextensions/google.colab/files.js": {
       "data": "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",
       "headers": [
        [
         "content-type",
         "application/javascript"
        ]
       ],
       "ok": true,
       "status": 200,
       "status_text": "OK"
      }
     }
    },
    "id": "GcbgnooHwIGh",
    "outputId": "dc30ce27-d01c-4953-cdb7-9d5fe599ad6d"
   },
   "outputs": [
    {
     "name": "stdout",
     "output_type": "stream",
     "text": [
      "\n",
      "Number of sequences found: 179.\n",
      "\n",
      "Annotation file correctly loaded.\n",
      "3 annotations found: ['proteins_id', 'accession', 'label'].\n"
     ]
    }
   ],
   "source": [
    "# OPTIONS =================================================\n",
    "# Path to MSA in mfasta format OR folder containing the embeddings - leave the other one as None\n",
    "mfasta = 'examples/wayland_datasets/radical_sam/radical_sam.mfasta'\n",
    "embedding_path = None #'embeddings/ankh_base_radical_sam/'\n",
    "\n",
    "#Annotation file (.csv) or UniProt ID list. (Emtpy strings for no annotations)\n",
    "path_annotation_csv = \"examples/wayland_datasets/radical_sam/radicalsam_labels.csv\"   # Path or \"\"\n",
    "# OR\n",
    "path_uniprot_list = \"\"   # Path or \"\"\n",
    "#==========================================================\n",
    "\n",
    "\n",
    "#Check files\n",
    "#mfasta\n",
    "nb_seq = 0\n",
    "if mfasta is not None and embedding_path is not None:\n",
    "    print('You cannot import both an mfasta and an embedding folder ! Choose one and leave the other as None.')\n",
    "elif mfasta is not None:\n",
    "    if os.path.isfile(mfasta):\n",
    "        with open(mfasta, \"r\") as f_in:\n",
    "            for line in f_in:\n",
    "                if line[0] == \">\":\n",
    "                    nb_seq += 1\n",
    "        print(f\"\\nNumber of sequences found: {nb_seq}.\")\n",
    "    else:\n",
    "        print(f\"File {mfasta} not found.\")\n",
    "elif embedding_path is not None:\n",
    "    if os.path.exists(embedding_path):\n",
    "        nb_seq = len([s for s in os.listdir(embedding_path) if '.pt' in s])\n",
    "        print(f\"\\nNumber of sequences found: {nb_seq}.\")\n",
    "    else:\n",
    "        print(f\"Folder {embedding_path} not found.\")\n",
    "else:\n",
    "    print('Neither a valid mfasta or embedding folder has been provided')\n",
    "\n",
    "#Check that only one path is selected\n",
    "if path_annotation_csv and path_uniprot_list:\n",
    "    raise ValueError(\"Use only one file path (path_annotation_csv OR path_uniprot_list).\")\n",
    "\n",
    "#Check that only one path is selected\n",
    "if path_annotation_csv and path_uniprot_list:\n",
    "    raise ValueError(\"Use only one file path (path_annotation_csv OR path_uniprot_list).\")\n",
    "\n",
    "if path_annotation_csv:\n",
    "    if os.path.isfile(path_annotation_csv):\n",
    "        try:\n",
    "            df_annotation = pd.read_csv(path_annotation_csv)\n",
    "        except:\n",
    "            raise ValueError(\"Annotation file is not in .csv format.\")\n",
    "        else:\n",
    "            if len(df_annotation) != nb_seq:\n",
    "                raise ValueError(\"Annotation file doesn't match the .mfasta file length.\")\n",
    "\n",
    "        #Add id column\n",
    "        if \"proteins_id\" not in df_annotation.columns:\n",
    "            df_annotation.insert(0, \"proteins_id\", range(len(df_annotation)))\n",
    "        path_annotation = path_annotation_csv\n",
    "            \n",
    "        print(\"\\nAnnotation file correctly loaded.\")\n",
    "        annotation_names = list(df_annotation.columns)\n",
    "        print(f\"{len(annotation_names)} annotations found: {annotation_names}.\")\n",
    "    else:\n",
    "        print(f\"File {path_annotation_csv} not found.\")\n",
    "\n",
    "elif path_uniprot_list:\n",
    "    if os.path.isfile(path_uniprot_list):\n",
    "        try:\n",
    "            UnP_ids = np.genfromtxt(path_uniprot_list, dtype=\"str\")\n",
    "        except:\n",
    "            raise ValueError(\"UniProt IDs file is not in a valid format.\")\n",
    "        else:\n",
    "            if len(UnP_ids) != nb_seq:\n",
    "                raise ValueError(\"UniProt IDs file doesn't match the .mfasta file length.\")     \n",
    "\n",
    "            #Split UniProtKB and UniParc IDs\n",
    "            uniparc_ids = []\n",
    "            uniprot_ids = []\n",
    "            for unp in UnP_ids:\n",
    "                if len(unp) == 13 and unp[:2] == \"UP\":\n",
    "                    uniparc_ids.append(unp)\n",
    "                else:\n",
    "                    uniprot_ids.append(unp)\n",
    "\n",
    "            #Fetch UniProtKB annotations\n",
    "            job_id = submit_id_mapping(\n",
    "                from_db=\"UniProtKB_AC-ID\", to_db=\"UniParc\", ids=uniprot_ids\n",
    "            )\n",
    "\n",
    "            if check_id_mapping_results_ready(job_id):\n",
    "                link = get_id_mapping_results_link(job_id)\n",
    "                results = get_id_mapping_results_search(link)\n",
    "\n",
    "            #Fetch UniParc annotations\n",
    "            job_id = submit_id_mapping(\n",
    "                from_db=\"UniParc\", to_db=\"UniParc\", ids=uniparc_ids\n",
    "            )\n",
    "\n",
    "            if check_id_mapping_results_ready(job_id):\n",
    "                link = get_id_mapping_results_link(job_id)\n",
    "                results2 = get_id_mapping_results_search(link)\n",
    "\n",
    "            #Create annotation dataframe\n",
    "            df_annotation = pd.DataFrame(UnP_ids, columns=[\"UnP_ID\"])\n",
    "            df_annotation[[\"organism\", \"proteinName\", \"taxonId\", \"species\", \"genus\", \\\n",
    "                           \"family\", \"order\", \"class\", \"phylum\", \"clade\", \"superkingdom\"]] = \"\"\n",
    "\n",
    "            #Fill the annotation DataFrame\n",
    "            for dict_res in results[\"results\"] + results2[\"results\"]:\n",
    "                try:\n",
    "                    unp = dict_res[\"from\"]\n",
    "                    prot_name = dict_res[\"to\"][\"uniParcCrossReferences\"][0][\"proteinName\"]\n",
    "                    df_annotation.loc[df_annotation[\"UnP_ID\"] == unp, \"proteinName\"] = prot_name\n",
    "                    scientific_name = dict_res[\"to\"][\"uniParcCrossReferences\"][0][\"organism\"][\"scientificName\"]\n",
    "                    taxid = dict_res[\"to\"][\"uniParcCrossReferences\"][0][\"organism\"][\"taxonId\"]\n",
    "                    df_annotation.loc[df_annotation[\"UnP_ID\"] == unp, \"organism\"] = scientific_name\n",
    "                    df_annotation.loc[df_annotation[\"UnP_ID\"] == unp, \"taxonId\"] = taxid\n",
    "                except KeyError:\n",
    "                    continue\n",
    "\n",
    "            #Add lineage from NCBI Taxonomist\n",
    "            taxon_ids = df_annotation.loc[df_annotation[\"taxonId\"].notnull(), 'taxonId'].to_numpy()\n",
    "            taxon_ids = list(set(taxon_ids))\n",
    "            taxon_ids = list(map(str, taxon_ids))\n",
    "            bash_command = f\"ncbi-taxonomist resolve -t {','.join(taxon_ids)}\"\n",
    "            list_taxon = subprocess.run(bash_command, shell=True, capture_output=True, text=True).stdout.strip().split(\"\\n\")\n",
    "\n",
    "            if list_taxon != [\"\"]:\n",
    "                for taxon in list_taxon:\n",
    "                    jsonString = taxon\n",
    "                    taxon_dict = json.loads(jsonString)\n",
    "                    query = taxon_dict[\"query\"]\n",
    "                    for lineage in taxon_dict[\"lineage\"]:\n",
    "                        rank = lineage[\"rank\"]\n",
    "                        if rank in [\"species\", \"genus\", \"family\", \"order\", \"class\", \"phylum\", \"clade\", \"superkingdom\"]:\n",
    "                            name = lineage[\"name\"]\n",
    "                            df_annotation.loc[df_annotation[\"taxonId\"] == int(query), rank] = name\n",
    "\n",
    "            #Add id column\n",
    "            if \"proteins_id\" not in df_annotation.columns:\n",
    "                df_annotation.insert(0, \"proteins_id\", range(len(df_annotation)))\n",
    "\n",
    "            #Save annotation to csv\n",
    "            path_annotation = \"auto_annot.csv\"\n",
    "            df_annotation.to_csv(path_annotation, index=False)\n",
    "\n",
    "            print(\"\\nAnnotation correctly fetched.\")\n",
    "            annotation_names = list(df_annotation.columns)\n",
    "            print(f\"{len(annotation_names)} annotations found: {annotation_names}.\")\n",
    "    else:\n",
    "        print(f\"File {path_uniprot_list} not found.\")\n",
    "else:\n",
    "    print(\"No annotation file selected.\")\n",
    "    path_annotation = \"\""
   ]
  },
  {
   "cell_type": "markdown",
   "metadata": {
    "id": "_H2vnIt_3kUz"
   },
   "source": [
    "# Data preparation\n",
    "Here we clean the input .mfasta alignment and translate each sequence to a vector ready for projection."
   ]
  },
  {
   "cell_type": "markdown",
   "metadata": {},
   "source": [
    "### Parameters for data preparation"
   ]
  },
  {
   "cell_type": "code",
   "execution_count": 4,
   "metadata": {
    "cellView": "form",
    "id": "9hLq_MgX6hFC"
   },
   "outputs": [
    {
     "name": "stdout",
     "output_type": "stream",
     "text": [
      "Input file: examples/wayland_datasets/radical_sam/radical_sam.mfasta\n",
      "Name of the protein family: radical_sam\n",
      "filter_gaps finished for examples/wayland_datasets/radical_sam/radical_sam.mfasta\n",
      "mfasta2fasta finished for radical_sam_data/radical_sam_data.clean0.9.mfasta\n"
     ]
    }
   ],
   "source": [
    "# OPTIONS =================================================\n",
    "# Job name\n",
    "#Name for the output folder\n",
    "out_name = \"radical_sam_data\"\n",
    "#----------------------------------------------------------\n",
    "# Threshold for filtering gapped positions\n",
    "#Positions with proportion of gaps above the given threshold are removed from the alignment.\n",
    "#If your alignment is very gapped, you may want to increase this value.\n",
    "gapth = 0.9 \n",
    "#==========================================================\n",
    "\n",
    "\n",
    "# Run data preparation\n",
    "#Data preparation consists in `.mfasta` cleaning according to a gap threshold and\n",
    "#translation of each sequence to the PSSM profile.\n",
    "prep_parameters = \"scripts/prepare_data\" + \" \" + mfasta + \" \" + out_name + \" \" + out_name + \" \" + str(gapth)\n",
    "bash_projection = \"bash scripts/prepare_data/create_projection.sh \" + prep_parameters\n",
    "!{bash_projection}"
   ]
  },
  {
   "cell_type": "markdown",
   "metadata": {
    "id": "Dv0lg4Jn-dfG"
   },
   "source": [
    "# Projection"
   ]
  },
  {
   "cell_type": "markdown",
   "metadata": {},
   "source": [
    "### Projection parameters"
   ]
  },
  {
   "cell_type": "code",
   "execution_count": 8,
   "metadata": {},
   "outputs": [
    {
     "name": "stdout",
     "output_type": "stream",
     "text": [
      "CUDA: False\n",
      "Random seed set as 4\n",
      "179 proteins found in folder radical_sam_data/fasta0.9/.\n",
      "No root detected\n",
      "142.aamtx\n",
      "Prepare data: tensor construction\n",
      "Prepare data: successfully terminated\n",
      "labels: ['142' '107' '55' '10' '95' '68' '71' '34' '166' '123' '164' '121' '73'\n",
      " '36' '159' '138' '97' '57' '12' '140' '105' '93' '179' '8' '53' '16'\n",
      " '144' '101' '160' '125' '77' '32' '118' '48' '75' '30' '162' '127' '88'\n",
      " '146' '103' '51' '14' '29' '91' '158' '120' '165' '37' '72' '13' '56'\n",
      " '104' '141' '139' '96' '94' '69' '106' '143' '11' '54' '35' '70' '122'\n",
      " '167' '31' '74' '126' '163' '89' '49' '28' '90' '102' '147' '15' '50'\n",
      " '17' '52' '100' '145' '9' '92' '178' '119' '124' '161' '33' '76' '87'\n",
      " '128' '47' '150' '115' '174' '131' '63' '26' '149' '5' '19' '7' '61' '24'\n",
      " '176' '133' '152' '117' '45' '78' '85' '156' '113' '41' '81' '39' '3'\n",
      " '58' '98' '65' '20' '172' '137' '170' '135' '67' '22' '1' '108' '169'\n",
      " '83' '43' '154' '111' '25' '60' '132' '177' '6' '18' '79' '84' '116'\n",
      " '153' '44' '46' '114' '151' '86' '129' '4' '148' '130' '175' '27' '62'\n",
      " '109' '134' '171' '23' '66' '42' '110' '155' '168' '82' '80' '38' '112'\n",
      " '157' '40' '99' '21' '64' '136' '173' '59' '2']\n",
      "features CSV file saved to radical_sam_data/with_mfasta/features.csv\n",
      "labels CSV file saved to radical_sam_data/with_mfasta/labels.csv\n",
      "KNN matrix CSV file saved to radical_sam_data/with_mfasta/KNN_matrix.csv\n",
      "Computing laplacian...\n",
      "Laplacian computed in 0.13 sec\n",
      "Computing RFA...\n",
      "RFA computed in 0.01 sec\n",
      "tensor([[2.4697e-01, 9.0073e-06, 3.3266e-06,  ..., 2.1059e-03, 2.8317e-06,\n",
      "         1.8896e-04],\n",
      "        [9.0073e-06, 2.0834e-01, 1.6693e-07,  ..., 1.9360e-04, 1.4210e-07,\n",
      "         9.2083e-05],\n",
      "        [3.3266e-06, 1.6693e-07, 2.6042e-01,  ..., 3.5973e-05, 5.8825e-02,\n",
      "         3.9217e-06],\n",
      "        ...,\n",
      "        [2.1059e-03, 1.9360e-04, 3.5973e-05,  ..., 2.3598e-01, 3.0621e-05,\n",
      "         1.3296e-02],\n",
      "        [2.8317e-06, 1.4210e-07, 5.8825e-02,  ..., 3.0621e-05, 1.3950e-01,\n",
      "         3.3382e-06],\n",
      "        [1.8896e-04, 9.2083e-05, 3.9217e-06,  ..., 1.3296e-02, 3.3382e-06,\n",
      "         2.4540e-01]])\n",
      "RFA matrix CSV file saved to radical_sam_data/with_mfasta/RFA_matrix.csv\n",
      "Starting training...\n",
      "loss: 0.16996:  61%|███████████████▎         | 612/1000 [00:19<00:17, 22.63it/s]\n",
      "Stopped at epoch 614\n",
      "loss: 0.16996:  61%|███████████████▎         | 614/1000 [00:19<00:12, 31.04it/s]\n",
      "PM computed in 19.78 sec\n",
      "\n",
      "loss = 1.700e-01\n",
      "time = 0.341 min\n"
     ]
    }
   ],
   "source": [
    "### Projection parameters (no embeddings)\n",
    "# EMBEDDING SELECTION\n",
    "in_name = 'radical_sam_data/fasta0.9/'  # Input here the name of folder with the fasta files\n",
    "mid_output = 'radical_sam_data/with_mfasta/'  # Input name of desired folder for intermediary results\n",
    "out_name = 'results/radical_sam/with_mfasta/' # Input desired name of output folder\n",
    "\n",
    "# OPTIONS =================================================\n",
    "#Here you control different parameters of Poincaré maps.\n",
    "#In our computational experiments the best results were achieved for the following values provided by default.\n",
    "#The impact of different parameters is analyzed in the original paper [1].\n",
    "knn = 5\n",
    "gamma = 2\n",
    "sigma = 1\n",
    "cospca = 0\n",
    "batchs = 4\n",
    "epochs = 1000\n",
    "seed = 4\n",
    "#==========================================================\n",
    "\n",
    "\n",
    "# Building projection and preparing data for visualization\n",
    "#This step creates a projection of encoded sequences to a Poincaré disk.\n",
    "# bash_pm = \"python3 \"+ \"scripts/build_poincare_map/main.py --input_path \" + out_name + \"/fasta\" + str(gapth) + \" --output_path \" + out_name + \"/projections/ --gamma \"+ str(gamma) +\" --pca \"+ str(cospca) + \" --epochs \"+ str(epochs) +\" --seed \"+ str(seed) + \" --knn \" + str(knn)\n",
    "# !{bash_pm}\n",
    "bash_pm = \"python \"+ \"scripts/build_poincare_map/main.py --input_path \" + in_name + \\\n",
    "          \" --output_path \" + out_name + \" --plm_embedding False\" +  \" --matrices_output_path \" + mid_output \\\n",
    "          + \" --gamma \"+ str(gamma) +\" --pca \"+ str(cospca) + \" --epochs \"+ str(epochs) +\" --seed \"\\\n",
    "          + str(seed) + \" --knn \" + str(knn)\n",
    "!{bash_pm}"
   ]
  },
  {
   "cell_type": "markdown",
   "metadata": {},
   "source": [
    "### Projection parameters (with embeddings)"
   ]
  },
  {
   "cell_type": "code",
   "execution_count": 23,
   "metadata": {},
   "outputs": [
    {
     "name": "stdout",
     "output_type": "stream",
     "text": [
      "CUDA: False\n",
      "Random seed set as 4\n",
      "179 proteins found in folder embeddings/ankh_base_radical_sam/.\n",
      "['19.pt', '48.pt', '115.pt', '144.pt', '170.pt', '121.pt', '131.pt', '160.pt', '154.pt', '105.pt', '58.pt', '29.pt', '78.pt', '125.pt', '174.pt', '140.pt', '111.pt', '101.pt', '150.pt', '164.pt', '135.pt', '68.pt', '39.pt', '4.pt', '28.pt', '79.pt', '124.pt', '175.pt', '141.pt', '110.pt', '100.pt', '151.pt', '165.pt', '134.pt', '69.pt', '38.pt', '5.pt', '18.pt', '49.pt', '114.pt', '145.pt', '171.pt', '120.pt', '130.pt', '161.pt', '155.pt', '104.pt', '59.pt', '1.pt', '76.pt', '27.pt', '85.pt', '13.pt', '42.pt', '52.pt', '95.pt', '37.pt', '66.pt', '46.pt', '17.pt', '23.pt', '72.pt', '81.pt', '91.pt', '62.pt', '33.pt', '56.pt', '47.pt', '16.pt', '22.pt', '73.pt', '80.pt', '90.pt', '63.pt', '32.pt', '57.pt', '77.pt', '26.pt', '84.pt', '12.pt', '43.pt', '53.pt', '94.pt', '36.pt', '67.pt', '119.pt', '148.pt', '15.pt', '44.pt', '83.pt', '70.pt', '21.pt', '31.pt', '60.pt', '93.pt', '54.pt', '158.pt', '109.pt', '129.pt', '178.pt', '87.pt', '25.pt', '74.pt', '40.pt', '11.pt', '50.pt', '64.pt', '35.pt', '8.pt', '97.pt', '168.pt', '139.pt', '128.pt', '179.pt', '86.pt', '24.pt', '75.pt', '41.pt', '10.pt', '51.pt', '65.pt', '34.pt', '9.pt', '96.pt', '169.pt', '138.pt', '118.pt', '149.pt', '14.pt', '45.pt', '82.pt', '71.pt', '20.pt', '30.pt', '61.pt', '92.pt', '55.pt', '159.pt', '108.pt', '89.pt', '176.pt', '127.pt', '113.pt', '142.pt', '152.pt', '103.pt', '137.pt', '166.pt', '99.pt', '6.pt', '146.pt', '117.pt', '123.pt', '172.pt', '162.pt', '133.pt', '107.pt', '156.pt', '2.pt', '147.pt', '116.pt', '122.pt', '173.pt', '163.pt', '132.pt', '106.pt', '157.pt', '3.pt', '88.pt', '177.pt', '126.pt', '112.pt', '143.pt', '153.pt', '102.pt', '136.pt', '167.pt', '98.pt', '7.pt']\n",
      "19.pt\n",
      "Prepare data: tensor construction\n",
      "Prepare data: successfully terminated\n",
      "labels: ['19' '48' '115' '144' '170' '121' '131' '160' '154' '105' '58' '29' '78'\n",
      " '125' '174' '140' '111' '101' '150' '164' '135' '68' '39' '4' '28' '79'\n",
      " '124' '175' '141' '110' '100' '151' '165' '134' '69' '38' '5' '18' '49'\n",
      " '114' '145' '171' '120' '130' '161' '155' '104' '59' '1' '76' '27' '85'\n",
      " '13' '42' '52' '95' '37' '66' '46' '17' '23' '72' '81' '91' '62' '33'\n",
      " '56' '47' '16' '22' '73' '80' '90' '63' '32' '57' '77' '26' '84' '12'\n",
      " '43' '53' '94' '36' '67' '119' '148' '15' '44' '83' '70' '21' '31' '60'\n",
      " '93' '54' '158' '109' '129' '178' '87' '25' '74' '40' '11' '50' '64' '35'\n",
      " '8' '97' '168' '139' '128' '179' '86' '24' '75' '41' '10' '51' '65' '34'\n",
      " '9' '96' '169' '138' '118' '149' '14' '45' '82' '71' '20' '30' '61' '92'\n",
      " '55' '159' '108' '89' '176' '127' '113' '142' '152' '103' '137' '166'\n",
      " '99' '6' '146' '117' '123' '172' '162' '133' '107' '156' '2' '147' '116'\n",
      " '122' '173' '163' '132' '106' '157' '3' '88' '177' '126' '112' '143'\n",
      " '153' '102' '136' '167' '98' '7']\n",
      "features CSV file saved to radical_sam_data/with_plm_embeddings/features.csv\n",
      "labels CSV file saved to radical_sam_data/with_plm_embeddings/labels.csv\n",
      "KNN matrix CSV file saved to radical_sam_data/with_plm_embeddings/KNN_matrix.csv\n",
      "Computing laplacian...\n",
      "Laplacian computed in 0.19 sec\n",
      "Computing RFA...\n",
      "RFA computed in 0.00 sec\n",
      "tensor([[2.0350e-01, 5.1141e-04, 3.6489e-05,  ..., 2.9240e-05, 5.1722e-05,\n",
      "         2.2343e-06],\n",
      "        [5.1141e-04, 2.0884e-01, 5.0762e-06,  ..., 4.0677e-06, 7.1953e-06,\n",
      "         3.1082e-07],\n",
      "        [3.6489e-05, 5.0762e-06, 1.4691e-01,  ..., 2.8696e-04, 5.0760e-04,\n",
      "         8.9957e-03],\n",
      "        ...,\n",
      "        [2.9240e-05, 4.0677e-06, 2.8696e-04,  ..., 1.9744e-01, 3.9293e-02,\n",
      "         1.7571e-05],\n",
      "        [5.1722e-05, 7.1953e-06, 5.0760e-04,  ..., 3.9293e-02, 2.2029e-01,\n",
      "         3.1081e-05],\n",
      "        [2.2343e-06, 3.1082e-07, 8.9957e-03,  ..., 1.7571e-05, 3.1081e-05,\n",
      "         1.6180e-01]])\n",
      "RFA matrix CSV file saved to radical_sam_data/with_plm_embeddings/RFA_matrix.csv\n",
      "Starting training...\n",
      "loss: 0.10102:  32%|████████                 | 320/1000 [00:11<00:20, 33.80it/s]\n",
      "Stopped at epoch 320\n",
      "loss: 0.10102:  32%|████████                 | 320/1000 [00:11<00:24, 27.58it/s]\n",
      "PM computed in 11.60 sec\n",
      "\n",
      "loss = 1.010e-01\n",
      "time = 0.205 min\n"
     ]
    }
   ],
   "source": [
    "### Projection parameters (with embeddings)\n",
    "# EMBEDDING SELECTION\n",
    "in_name = 'embeddings/ankh_base_radical_sam/'  # Input here the name of folder with the embeddings\n",
    "mid_output = 'radical_sam_data/with_plm_embeddings/'  # Input name of desired folder for intermediary results\n",
    "out_name = 'results/radical_sam/with_plm_embeddings/' # Input desired name of output folder\n",
    "\n",
    "\n",
    "# OPTIONS =================================================\n",
    "#Here you control different parameters of Poincaré maps.\n",
    "#In our computational experiments the best results were achieved for the following values provided by default.\n",
    "#The impact of different parameters is analyzed in the original paper [1].\n",
    "knn = 5\n",
    "gamma = 4\n",
    "sigma = 1\n",
    "cospca = 0\n",
    "batchs = 4\n",
    "epochs = 1000\n",
    "seed = 4\n",
    "#==========================================================\n",
    "\n",
    "\n",
    "# Building projection and preparing data for visualization\n",
    "#This step creates a projection of encoded sequences to a Poincaré disk.\n",
    "bash_pm = \"python \"+ \"scripts/build_poincare_map/main.py --input_path \" + in_name + \\\n",
    "          \" --output_path \" + out_name + \" --plm_embedding True\" +  \" --matrices_output_path \" + mid_output +\\\n",
    "          \" --distlocal minkowski\" + \" --gamma \"+ str(gamma) +\" --pca \"+ str(cospca) + \" --epochs \"+ str(epochs) +\" --seed \"\\\n",
    "          + str(seed) + \" --knn \" + str(knn)\n",
    "!{bash_pm}"
   ]
  },
  {
   "cell_type": "markdown",
   "metadata": {
    "id": "gRxHHfjX7CHF"
   },
   "source": [
    "# Projection visualization"
   ]
  },
  {
   "cell_type": "markdown",
   "metadata": {},
   "source": [
    "### Prepare data for visualization"
   ]
  },
  {
   "cell_type": "code",
   "execution_count": null,
   "metadata": {
    "cellView": "form",
    "colab": {
     "base_uri": "https://localhost:8080/"
    },
    "id": "A2I17cpYXGoB",
    "outputId": "a1b01a51-2182-4f97-a653-eedc42405a80"
   },
   "outputs": [
    {
     "name": "stdout",
     "output_type": "stream",
     "text": [
      "          pm1       pm2                                        proteins_id\n",
      "0    0.546341  0.133484  A0A0H3KB22 3a6b QueE-like_QueE Bacteria_Bmulti...\n",
      "1    0.571726  0.611394         A0A0R0FIC1 6a6b TW-synth_TYW1 Plantae_Gmax\n",
      "2    0.593808  0.578739         A0A0R0GAG6 6a6b TW-synth_TYW1 Plantae_Gmax\n",
      "3   -0.425785  0.652042        A0A0R4J536 6a6b LipA-like_LipA Plantae_Gmax\n",
      "4    0.817065 -0.163830          A0A0Z8EWX1 6a6b SPASM_SuiB Bacteria_Ssuis\n",
      "..        ...       ...                                                ...\n",
      "174  0.559930  0.627164        Q8RXN5 6a6b TW-synth_TYW1 Plantae_Athaliana\n",
      "175  0.872359 -0.118711        Q8WXG1 6a6b Viperin_Viperin Metazoa_Hsapien\n",
      "176 -0.235806 -0.786328        Q91WE6 6a6b MTTase_CDKAL1 Metazoa_Mmusculus\n",
      "177  0.273615 -0.311784          Q93XX3 6a6b MTaseA_RlmN Plantae_Athaliana\n",
      "178 -0.889401  0.024341        Q93ZR1 7a6b Elp-like_Elp3 Plantae_Athaliana\n",
      "\n",
      "[179 rows x 3 columns]\n",
      "3 annotations found: ['proteins_id', 'accession', 'label'].\n"
     ]
    }
   ],
   "source": [
    "# Prepare data for visualization\n",
    "out_name = 'results/radical_sam/with_plm_embeddings'\n",
    "\n",
    "#Check that an annotation file was provided. Create a dummy one instead\n",
    "if not path_annotation:\n",
    "    df_annotation = pd.DataFrame(list(zip(list(range(1,nb_seq+1)), np.full(nb_seq, \"-\", dtype=object))), columns=[\"id\", \"default\"])\n",
    "    df_annotation.to_csv(\"dummy_annotation.csv\", index=False)\n",
    "    path_annotation = \"dummy_annotation.csv\"\n",
    "    annotation_names = [\"proteins_id\"]\n",
    "\n",
    "path_embedding = f\"{out_name}/PM{knn:1.0f}sigma={sigma:2.2f}gamma={gamma:2.2f}cosinepca={cospca:1.0f}_seed{seed:1.0f}.csv\"\n",
    "df_embedding = read_embeddings(path_embedding, path_annotation, withroot=False)\n",
    "\n",
    "#Here are different labels found in your annotation file (if one uploaded):\n",
    "print(f\"{len(annotation_names)} annotations found: {annotation_names}.\")"
   ]
  },
  {
   "cell_type": "markdown",
   "metadata": {},
   "source": [
    "### Create interactive plot"
   ]
  },
  {
   "cell_type": "code",
   "execution_count": 12,
   "metadata": {},
   "outputs": [],
   "source": [
    "# Construction of custom color palette  \n",
    "\n",
    "# Load existing colour palette (must be a .json file)\n",
    "colour_json = 'examples/wayland_datasets/radical_sam/radicalsam_colors.json'\n",
    "with open(colour_json, 'r') as file:\n",
    "    colour_palette = json.load(file)\n",
    "\n",
    "# Also the option of manually creating your own colour palette\n"
   ]
  },
  {
   "cell_type": "code",
   "execution_count": 13,
   "metadata": {
    "cellView": "form",
    "colab": {
     "base_uri": "https://localhost:8080/",
     "height": 886
    },
    "id": "zLb9h9S4eKUD",
    "outputId": "58e8c73a-4869-4305-ecfb-bccc80d06db1"
   },
   "outputs": [
    {
     "data": {
      "application/vnd.plotly.v1+json": {
       "config": {
        "plotlyServerURL": "https://plot.ly"
       },
       "data": [
        {
         "customdata": [
          [
           "A0A0H3KB22 3a6b QueE-like_QueE Bacteria_Bmultivorans",
           "A0A0H3KB22",
           "QueE-like"
          ],
          [
           "P64554 3a6b QueE-like_QueE Bacteria_Ecoli",
           "P64554",
           "QueE-like"
          ],
          [
           "Q2G1X7 3a6b QueE-like_QueE Bacteria_Saureus",
           "Q2G1X7",
           "QueE-like"
          ]
         ],
         "hovertemplate": "<b>%{hovertext}</b><br><br>label=%{customdata[2]}<br>pm1=%{x}<br>pm2=%{y}<br>proteins_id=%{customdata[0]}<br>accession=%{customdata[1]}<extra></extra>",
         "hovertext": [
          "QueE-like",
          "QueE-like",
          "QueE-like"
         ],
         "legendgroup": "QueE-like",
         "marker": {
          "color": "#ab63fa",
          "symbol": "circle"
         },
         "mode": "markers",
         "name": "QueE-like",
         "orientation": "v",
         "showlegend": true,
         "type": "scatter",
         "x": [
          0.5463414,
          0.57212055,
          0.6101573
         ],
         "xaxis": "x",
         "y": [
          0.13348405,
          0.15991059,
          0.07570626
         ],
         "yaxis": "y"
        },
        {
         "customdata": [
          [
           "A0A0R0FIC1 6a6b TW-synth_TYW1 Plantae_Gmax",
           "A0A0R0FIC1",
           "TW-synth"
          ],
          [
           "A0A0R0GAG6 6a6b TW-synth_TYW1 Plantae_Gmax",
           "A0A0R0GAG6",
           "TW-synth"
          ],
          [
           "A0A1D6L6E5 6a6b TW-synth_TYW1 Plantae_Zmays",
           "A0A1D6L6E5",
           "TW-synth"
          ],
          [
           "A4HSJ7 6a6b TW-synth_TYW1 Discoba_Linfantum",
           "A4HSJ7",
           "TW-synth"
          ],
          [
           "A4HWP3 6a6b TW-synth_TYW1 Discoba_Linfantum",
           "A4HWP3",
           "TW-synth"
          ],
          [
           "B5DF48 6a6b TW-synth_TYW1 Metazoa_Rnorvegicus",
           "B5DF48",
           "TW-synth"
          ],
          [
           "O59761 6a6b TW-synth_TYW1 Fungi_Spombe",
           "O59761",
           "TW-synth"
          ],
          [
           "Q08960 6a6b TW-synth_TYW1 Fungi_Scerevisiae",
           "Q08960",
           "TW-synth"
          ],
          [
           "Q08C92 6a6b TW-synth_TYW1 Metazoa_Drerio",
           "Q08C92",
           "TW-synth"
          ],
          [
           "Q4CXG8 6a6b TW-synth_TYW1 Discoba_Tcruzi",
           "Q4CXG8",
           "TW-synth"
          ],
          [
           "Q4E0Z1 6a6b TW-synth_TYW1 Discoba_Tcruzi",
           "Q4E0Z1",
           "TW-synth"
          ],
          [
           "Q6NUM6 6a6b TW-synth_TYW1 Metazoa_Hsapien",
           "Q6NUM6",
           "TW-synth"
          ],
          [
           "Q8BJM7 6a6b TW-synth_TYW1 Metazoa_Mmusculus",
           "Q8BJM7",
           "TW-synth"
          ],
          [
           "Q8H8N3 6a6b TW-synth_TYW1 Plantae_Ojaponica",
           "Q8H8N3",
           "TW-synth"
          ],
          [
           "Q8I3L6 6a6b TW-synth_TYW1 Sar_Pfalciparum",
           "Q8I3L6",
           "TW-synth"
          ],
          [
           "Q8RXN5 6a6b TW-synth_TYW1 Plantae_Athaliana",
           "Q8RXN5",
           "TW-synth"
          ]
         ],
         "hovertemplate": "<b>%{hovertext}</b><br><br>label=%{customdata[2]}<br>pm1=%{x}<br>pm2=%{y}<br>proteins_id=%{customdata[0]}<br>accession=%{customdata[1]}<extra></extra>",
         "hovertext": [
          "TW-synth",
          "TW-synth",
          "TW-synth",
          "TW-synth",
          "TW-synth",
          "TW-synth",
          "TW-synth",
          "TW-synth",
          "TW-synth",
          "TW-synth",
          "TW-synth",
          "TW-synth",
          "TW-synth",
          "TW-synth",
          "TW-synth",
          "TW-synth"
         ],
         "legendgroup": "TW-synth",
         "marker": {
          "color": "#FFA15A",
          "symbol": "circle"
         },
         "mode": "markers",
         "name": "TW-synth",
         "orientation": "v",
         "showlegend": true,
         "type": "scatter",
         "x": [
          0.5717264,
          0.59380776,
          0.6094501,
          0.53004533,
          0.5053306,
          0.5719576,
          0.5478883,
          0.5088257,
          0.57174337,
          0.5661428,
          0.5284683,
          0.5404866,
          0.594876,
          0.5992364,
          0.5153058,
          0.5599301
         ],
         "xaxis": "x",
         "y": [
          0.6113944,
          0.57873905,
          0.6081138,
          0.58973944,
          0.59006184,
          0.65856904,
          0.6553627,
          0.6328986,
          0.54846597,
          0.5823688,
          0.5233191,
          0.6125792,
          0.64837116,
          0.6195203,
          0.6559129,
          0.62716424
         ],
         "yaxis": "y"
        },
        {
         "customdata": [
          [
           "A0A0R4J536 6a6b LipA-like_LipA Plantae_Gmax",
           "A0A0R4J536",
           "LipA-like"
          ],
          [
           "A4HY57 6a6b LipA-like_LipA Discoba_Linfantum",
           "A4HY57",
           "LipA-like"
          ],
          [
           "B8A031 6a6b LipA-like_LipA Plantae_Zmays",
           "B8A031",
           "LipA-like"
          ],
          [
           "C0PN26 6a6b LipA-like_LipA Plantae_Zmays",
           "C0PN26",
           "LipA-like"
          ],
          [
           "O13642 6a6b LipA-like_LipA Fungi_Spombe",
           "O13642",
           "LipA-like"
          ],
          [
           "O43766 6a6b LipA-like_LipA Metazoa_Hsapien",
           "O43766",
           "LipA-like"
          ],
          [
           "P32875 6a6b LipA-like_LipA Fungi_Scerevisiae",
           "P32875",
           "LipA-like"
          ],
          [
           "P60716 6a6b LipA-like_LipA Bacteria_Ecoli",
           "P60716",
           "LipA-like"
          ],
          [
           "Q21452 6a6b LipA-like_LipA Metazoa_Celegans",
           "Q21452",
           "LipA-like"
          ],
          [
           "Q2FZX4 6a6b LipA-like_LipA Bacteria_Saureus",
           "Q2FZX4",
           "LipA-like"
          ],
          [
           "Q4DC43 6a6b LipA-like_LipA Discoba_Tcruzi",
           "Q4DC43",
           "LipA-like"
          ],
          [
           "Q4DYL7 6a6b LipA-like_LipA Discoba_Tcruzi",
           "Q4DYL7",
           "LipA-like"
          ],
          [
           "Q5XIH4 6a6b LipA-like_LipA Metazoa_Rnorvegicus",
           "Q5XIH4",
           "LipA-like"
          ],
          [
           "Q5ZAQ2 6a6b LipA-like_LipA Plantae_Ojaponica",
           "Q5ZAQ2",
           "LipA-like"
          ],
          [
           "Q6L534 6a6b LipA-like_LipA Plantae_Ojaponica",
           "Q6L534",
           "LipA-like"
          ],
          [
           "Q6PHG4 6a6b LipA-like_LipA Metazoa_Drerio",
           "Q6PHG4",
           "LipA-like"
          ],
          [
           "Q7JQW6 6a6b LipA-like_LipA Metazoa_Dmelanogaster",
           "Q7JQW6",
           "LipA-like"
          ],
          [
           "Q7XRF1 6a6b LipA-like_LipA Plantae_Ojaponica",
           "Q7XRF1",
           "LipA-like"
          ],
          [
           "Q8IDQ0 6a6b LipA-like_LipA Sar_Pfalciparum",
           "Q8IDQ0",
           "LipA-like"
          ],
          [
           "Q8LEE8 6a6b LipA-like_LipA Plantae_Athaliana",
           "Q8LEE8",
           "LipA-like"
          ]
         ],
         "hovertemplate": "<b>%{hovertext}</b><br><br>label=%{customdata[2]}<br>pm1=%{x}<br>pm2=%{y}<br>proteins_id=%{customdata[0]}<br>accession=%{customdata[1]}<extra></extra>",
         "hovertext": [
          "LipA-like",
          "LipA-like",
          "LipA-like",
          "LipA-like",
          "LipA-like",
          "LipA-like",
          "LipA-like",
          "LipA-like",
          "LipA-like",
          "LipA-like",
          "LipA-like",
          "LipA-like",
          "LipA-like",
          "LipA-like",
          "LipA-like",
          "LipA-like",
          "LipA-like",
          "LipA-like",
          "LipA-like",
          "LipA-like"
         ],
         "legendgroup": "LipA-like",
         "marker": {
          "color": "#19d3f3",
          "symbol": "circle"
         },
         "mode": "markers",
         "name": "LipA-like",
         "orientation": "v",
         "showlegend": true,
         "type": "scatter",
         "x": [
          -0.42578477,
          -0.45625308,
          -0.44621456,
          -0.37615842,
          -0.5208021,
          -0.51696056,
          -0.48075566,
          -0.4063247,
          -0.4341837,
          -0.55512786,
          -0.40451968,
          -0.36497077,
          -0.48549438,
          -0.42409468,
          -0.40315714,
          -0.47994974,
          -0.47107628,
          -0.45856106,
          -0.51734626,
          -0.4530413
         ],
         "xaxis": "x",
         "y": [
          0.6520419,
          0.45851913,
          0.6480459,
          0.600727,
          0.5400087,
          0.60841817,
          0.51273996,
          0.66562873,
          0.51990175,
          0.46976808,
          0.47555697,
          0.4271128,
          0.6334494,
          0.55985713,
          0.5471464,
          0.5552896,
          0.59623015,
          0.6603126,
          0.56281495,
          0.5779386
         ],
         "yaxis": "y"
        },
        {
         "customdata": [
          [
           "A0A0Z8EWX1 6a6b SPASM_SuiB Bacteria_Ssuis",
           "A0A0Z8EWX1",
           "SPASM"
          ],
          [
           "A0A1I5E523 6a6b SPASM_NirJ Bacteria_Ppantrophus",
           "A0A1I5E523",
           "SPASM"
          ],
          [
           "A3DDW1 6a6b SPASM_SuiB Bacteria_Hthermocellum",
           "A3DDW1",
           "SPASM"
          ],
          [
           "D3ZVG1 6a6b SPASM_MoaA Metazoa_Rnorvegicus",
           "D3ZVG1",
           "SPASM"
          ],
          [
           "EIC300131 6a6b SPASM_NirJ Bacteria_Malbum",
           "EIC300131",
           "SPASM"
          ],
          [
           "HED132381 6a6b SPASM_NirJ Bacteria_Gammaproteobacteria",
           "HED132381",
           "SPASM"
          ],
          [
           "I1KTQ5 6a6b SPASM_MoaA Plantae_Gmax",
           "I1KTQ5",
           "SPASM"
          ],
          [
           "MBI19861291 6a6b SPASM_NirJ Bacteria_Rhodospirillaes",
           "MBI19861291",
           "SPASM"
          ],
          [
           "MBL84112071 6a6b SPASM_NirJ Bacteria_Dechloromonas",
           "MBL84112071",
           "SPASM"
          ],
          [
           "MBL84891351 6a6b SPASM_NirJ Bacteria_Rhodocyclaceae",
           "MBL84891351",
           "SPASM"
          ],
          [
           "MBM41893231 6a6b SPASM_NirJ Bacteria_Betaproteobacteria",
           "MBM41893231",
           "SPASM"
          ],
          [
           "MBO69482481 6a6b SPASM_NirJ Bacteria_Rhodospirillales",
           "MBO69482481",
           "SPASM"
          ],
          [
           "MBS03225261 6a6ab SPASM_NirJ Bacteria_Proteobacteria",
           "MBS03225261",
           "SPASM"
          ],
          [
           "MBS03678631 6a6b SPASM_NirJ Bacteria_Proteobacteria",
           "MBS03678631",
           "SPASM"
          ],
          [
           "MBU07513571 6a6b SPASM_NirJ Bacteria_Gammaproteobacteria",
           "MBU07513571",
           "SPASM"
          ],
          [
           "NOQ145911 6a6b SPASM_NirJ Bacteria_Methyloprofundus",
           "NOQ145911",
           "SPASM"
          ],
          [
           "NWG304921 6a6b SPASM_NirJ Bacteria_Rhodocyclaceae",
           "NWG304921",
           "SPASM"
          ],
          [
           "O31423 6a6b SPASM_SkfB Bacteria_Bsubtilis",
           "O31423",
           "SPASM"
          ],
          [
           "OQW784741 6a6b SPASM_NirJ Bacteria_Proteobacteria",
           "OQW784741",
           "SPASM"
          ],
          [
           "P30745 6a6b SPASM_MoaA Bacteria_Ecoli",
           "P30745",
           "SPASM"
          ],
          [
           "P69848 6a6b SPASM_MoaA Bacteria_Saureus",
           "P69848",
           "SPASM"
          ],
          [
           "P9WJS3 6a6b SPASM_MoaA Bacteria_Mtuberculosis",
           "P9WJS3",
           "SPASM"
          ],
          [
           "Q0E297 6a6b SPASM_MoaA Plantae_Ojaponica",
           "Q0E297",
           "SPASM"
          ],
          [
           "Q0TTH1 6a6b SPASM_anSME Bacteria_Cperfringens",
           "Q0TTH1",
           "SPASM"
          ],
          [
           "Q20624 6a6b SPASM_MoaA Metazoa_Celegans",
           "Q20624",
           "SPASM"
          ],
          [
           "Q2QQ49 6a6b SPASM_MoaA Plantae_Ojaponica",
           "Q2QQ49",
           "SPASM"
          ],
          [
           "Q39055 6a6b SPASM_MoaA Plantae_Athaliana",
           "Q39055",
           "SPASM"
          ],
          [
           "Q46CH7 6a6b SPASM_AhbD Archaea_Mbarkeri",
           "Q46CH7",
           "SPASM"
          ],
          [
           "Q54NM6 6a6b SPASM_MoaA Amoebozoa_Ddiscoideum",
           "Q54NM6",
           "SPASM"
          ],
          [
           "Q5RKZ7 6a6b SPASM_MoaA Metazoa_Mmusculus",
           "Q5RKZ7",
           "SPASM"
          ],
          [
           "Q8G907 6a6b SPASM_BtrN Bacteria_Bcirculans",
           "Q8G907",
           "SPASM"
          ],
          [
           "Q8IQF1 6a6b SPASM_MoaA Metazoa_Dmelanogaster",
           "Q8IQF1",
           "SPASM"
          ]
         ],
         "hovertemplate": "<b>%{hovertext}</b><br><br>label=%{customdata[2]}<br>pm1=%{x}<br>pm2=%{y}<br>proteins_id=%{customdata[0]}<br>accession=%{customdata[1]}<extra></extra>",
         "hovertext": [
          "SPASM",
          "SPASM",
          "SPASM",
          "SPASM",
          "SPASM",
          "SPASM",
          "SPASM",
          "SPASM",
          "SPASM",
          "SPASM",
          "SPASM",
          "SPASM",
          "SPASM",
          "SPASM",
          "SPASM",
          "SPASM",
          "SPASM",
          "SPASM",
          "SPASM",
          "SPASM",
          "SPASM",
          "SPASM",
          "SPASM",
          "SPASM",
          "SPASM",
          "SPASM",
          "SPASM",
          "SPASM",
          "SPASM",
          "SPASM",
          "SPASM",
          "SPASM"
         ],
         "legendgroup": "SPASM",
         "marker": {
          "color": "#FF6692",
          "symbol": "circle"
         },
         "mode": "markers",
         "name": "SPASM",
         "orientation": "v",
         "showlegend": true,
         "type": "scatter",
         "x": [
          0.81706506,
          0.8406322,
          0.8934132,
          0.9664574,
          0.87037855,
          0.88080704,
          0.9638765,
          0.870242,
          0.87482685,
          0.8354677,
          0.8622624,
          0.82922053,
          0.862148,
          0.8597351,
          0.8625197,
          0.86553884,
          0.83965373,
          0.8796034,
          0.8747112,
          0.9448979,
          0.956473,
          0.95261383,
          0.96867687,
          0.89658046,
          0.9571842,
          0.9630377,
          0.9668168,
          0.84439105,
          0.9596427,
          0.9687368,
          0.8619841,
          0.9620563
         ],
         "xaxis": "x",
         "y": [
          -0.16383018,
          -0.2549724,
          -0.23208104,
          -0.080047876,
          -0.21620828,
          -0.25465325,
          -0.065844335,
          -0.27621529,
          -0.27252424,
          -0.26363,
          -0.28147325,
          -0.24070083,
          -0.2618023,
          -0.24443457,
          -0.23074849,
          -0.17452131,
          -0.2314144,
          -0.21505365,
          -0.22364745,
          -0.07550159,
          -0.06311469,
          -0.06745804,
          -0.067531414,
          -0.19371705,
          -0.07012503,
          -0.07103598,
          -0.07272642,
          -0.25197586,
          -0.07407623,
          -0.07704191,
          -0.18702836,
          -0.07714002
         ],
         "yaxis": "y"
        },
        {
         "customdata": [
          [
           "A0A1B8PDY4 6a6b Viperin_Viperin Bacteria_Hhemolyticus",
           "A0A1B8PDY4",
           "Viperin"
          ],
          [
           "A0A1F2VBE7 6a6b Viperin_Viperin Bacteria_Acidobacteria",
           "A0A1F2VBE7",
           "Viperin"
          ],
          [
           "A0A1F2WQF4 6a6b Viperin_Viperin Bacteria_Actinobacteria",
           "A0A1F2WQF4",
           "Viperin"
          ],
          [
           "A0A1I3QG02 6a6b Viperin_Viperin Bacteria_Onamhaensis",
           "A0A1I3QG02",
           "Viperin"
          ],
          [
           "A0A2V9HK14 6a6b Viperin_Viperin Bacteria_Acidobacteria",
           "A0A2V9HK14",
           "Viperin"
          ],
          [
           "A0A3D4P501 6a6b Viperin_Viperin Bacteria_Caminicenantes",
           "A0A3D4P501",
           "Viperin"
          ],
          [
           "A0A3N0ANJ2 6a6b Viperin_Viperin Bacteria_Acelatus",
           "A0A3N0ANJ2",
           "Viperin"
          ],
          [
           "A0A661U9F1 6a6b Viperin_Viperin Bacteria_Coatesbacteria",
           "A0A661U9F1",
           "Viperin"
          ],
          [
           "A7RNF3 6a6b Viperin_Viperin Metazoa_Nvectensis",
           "A7RNF3",
           "Viperin"
          ],
          [
           "B9M511 6a6b Viperin_Viperin Bacteria_Gdaltonii",
           "B9M511",
           "Viperin"
          ],
          [
           "H2JHX2 6a6b Viperin_Viperin Bacteria_Clostridium",
           "H2JHX2",
           "Viperin"
          ],
          [
           "O70600 6a6b Viperin_Viperin Metazoa_Rnorvegicus",
           "O70600",
           "Viperin"
          ],
          [
           "Q5RH95 6a6b Viperin_Viperin Metazoa_Drerio",
           "Q5RH95",
           "Viperin"
          ],
          [
           "Q8CBB9 6a6b Viperin_Viperin Metazoa_Mmusculus",
           "Q8CBB9",
           "Viperin"
          ],
          [
           "Q8WXG1 6a6b Viperin_Viperin Metazoa_Hsapien",
           "Q8WXG1",
           "Viperin"
          ]
         ],
         "hovertemplate": "<b>%{hovertext}</b><br><br>label=%{customdata[2]}<br>pm1=%{x}<br>pm2=%{y}<br>proteins_id=%{customdata[0]}<br>accession=%{customdata[1]}<extra></extra>",
         "hovertext": [
          "Viperin",
          "Viperin",
          "Viperin",
          "Viperin",
          "Viperin",
          "Viperin",
          "Viperin",
          "Viperin",
          "Viperin",
          "Viperin",
          "Viperin",
          "Viperin",
          "Viperin",
          "Viperin",
          "Viperin"
         ],
         "legendgroup": "Viperin",
         "marker": {
          "color": "#B6E880",
          "symbol": "circle"
         },
         "mode": "markers",
         "name": "Viperin",
         "orientation": "v",
         "showlegend": true,
         "type": "scatter",
         "x": [
          0.8494272,
          0.7707875,
          0.8629429,
          0.8809852,
          0.8087073,
          0.7933429,
          0.8297328,
          0.81375825,
          0.86718416,
          0.849465,
          0.8273011,
          0.87043506,
          0.8696497,
          0.8709455,
          0.87235886
         ],
         "xaxis": "x",
         "y": [
          -0.15078585,
          -0.13407136,
          -0.20328927,
          -0.13365443,
          -0.22108848,
          -0.20580013,
          -0.16892071,
          -0.20483479,
          -0.122241005,
          -0.22326647,
          -0.19622912,
          -0.13791536,
          -0.12565315,
          -0.124180414,
          -0.11871144
         ],
         "yaxis": "y"
        },
        {
         "customdata": [
          [
           "A0A1D6F795 6a6b MTTase_CDK5RAP1 Plantae_Zmays",
           "A0A1D6F795",
           "MTTase"
          ],
          [
           "B4FFP5 6a6b MTTase_CDKAL1 Plantae_Zmays",
           "B4FFP5",
           "MTTase"
          ],
          [
           "C6KT59 6a6b MTTase_CDKAL1 Sar_Pfalciparum",
           "C6KT59",
           "MTTase"
          ],
          [
           "I1LNN6 6a6b MTTase_CDKAL1 Plantae_Gmax",
           "I1LNN6",
           "MTTase"
          ],
          [
           "K7K4A9 6a6b MTTase_CDKAL1 Plantae_Gmax",
           "K7K4A9",
           "MTTase"
          ],
          [
           "K7LNH5 6a6b MTTase_CDK5RAP1 Plantae_Gmax",
           "K7LNH5",
           "MTTase"
          ],
          [
           "P0AEI1 6a6b MTTase_MiaB Bacteria_Ecoli",
           "P0AEI1",
           "MTTase"
          ],
          [
           "P0AEI4 6a6b MTTase_RimO Bacteria_Ecoli",
           "P0AEI4",
           "MTTase"
          ],
          [
           "Q09316 6a6b MTTase_CDK5RAP1 Metazoa_Celegans",
           "Q09316",
           "MTTase"
          ],
          [
           "Q0JD33 6a6b MTTase_CDKAL1 Plantae_Ojaponica",
           "Q0JD33",
           "MTTase"
          ],
          [
           "Q2FXZ6 6a6b MTTase_CDKAL1 Bacteria_Saureus",
           "Q2FXZ6",
           "MTTase"
          ],
          [
           "Q2FZ02 6a6b MTTase_MiaB Bacteria_Saureus",
           "Q2FZ02",
           "MTTase"
          ],
          [
           "Q2R1U4 6a6b MTTase_CDK5RAP1 Plantae_Ojaponica",
           "Q2R1U4",
           "MTTase"
          ],
          [
           "Q4DT80 6a6b MTTase_CDKAL1 Discoba_Tcruzi",
           "Q4DT80",
           "MTTase"
          ],
          [
           "Q4DXJ3 6a6b MTTase_CDKAL1 Discoba_Tcruzi",
           "Q4DXJ3",
           "MTTase"
          ],
          [
           "Q54KV4 6a6b MTTase_CDK5RAP1 Amoebozoa_Ddiscoideum",
           "Q54KV4",
           "MTTase"
          ],
          [
           "Q5VV42 6a6b MTTase_CDKAL1 Metazoa_Hsapien",
           "Q5VV42",
           "MTTase"
          ],
          [
           "Q6PG34 6a6b MTTase_CDKAL1 Metazoa_Drerio",
           "Q6PG34",
           "MTTase"
          ],
          [
           "Q7K4W1 6a6b MTTase_CDKAL1 Metazoa_Dmelanogaster",
           "Q7K4W1",
           "MTTase"
          ],
          [
           "Q8BTW8 6a6b MTTase_CDK5RAP1 Metazoa_Mmusculus",
           "Q8BTW8",
           "MTTase"
          ],
          [
           "Q8H0V1 6a6b MTTase_CDK5RAP1 Plantae_Athaliana",
           "Q8H0V1",
           "MTTase"
          ],
          [
           "Q8MXQ7 6a6b MTTase_CDKAL1 Metazoa_Celegans",
           "Q8MXQ7",
           "MTTase"
          ],
          [
           "Q91WE6 6a6b MTTase_CDKAL1 Metazoa_Mmusculus",
           "Q91WE6",
           "MTTase"
          ]
         ],
         "hovertemplate": "<b>%{hovertext}</b><br><br>label=%{customdata[2]}<br>pm1=%{x}<br>pm2=%{y}<br>proteins_id=%{customdata[0]}<br>accession=%{customdata[1]}<extra></extra>",
         "hovertext": [
          "MTTase",
          "MTTase",
          "MTTase",
          "MTTase",
          "MTTase",
          "MTTase",
          "MTTase",
          "MTTase",
          "MTTase",
          "MTTase",
          "MTTase",
          "MTTase",
          "MTTase",
          "MTTase",
          "MTTase",
          "MTTase",
          "MTTase",
          "MTTase",
          "MTTase",
          "MTTase",
          "MTTase",
          "MTTase",
          "MTTase"
         ],
         "legendgroup": "MTTase",
         "marker": {
          "color": "#FF97FF",
          "symbol": "circle"
         },
         "mode": "markers",
         "name": "MTTase",
         "orientation": "v",
         "showlegend": true,
         "type": "scatter",
         "x": [
          -0.3987068,
          -0.31766245,
          -0.3359951,
          -0.3230212,
          -0.39002177,
          -0.45753592,
          -0.28098565,
          -0.21955496,
          -0.48411492,
          -0.3081309,
          -0.3362931,
          -0.3437392,
          -0.41057333,
          -0.3112339,
          -0.27875602,
          -0.49168468,
          -0.24632603,
          -0.270965,
          -0.27145097,
          -0.45928365,
          -0.4354817,
          -0.2506993,
          -0.2358058
         ],
         "xaxis": "x",
         "y": [
          -0.33711758,
          -0.80517167,
          -0.80143505,
          -0.7822494,
          -0.39796564,
          -0.42671424,
          -0.36858732,
          -0.7970669,
          -0.40290895,
          -0.8260754,
          -0.51012534,
          -0.42640242,
          -0.43685198,
          -0.79356563,
          -0.7820578,
          -0.43860823,
          -0.7871543,
          -0.7941613,
          -0.7516989,
          -0.38734162,
          -0.40361413,
          -0.8256433,
          -0.7863281
         ],
         "yaxis": "y"
        },
        {
         "customdata": [
          [
           "A0A1D6KKP7 8a8b BATS_BioB Plantae_Zmays",
           "A0A1D6KKP7",
           "BATS"
          ],
          [
           "A0A1D8PS33 8a8b BATS_BioB Fungi_Calbicans",
           "A0A1D8PS33",
           "BATS"
          ],
          [
           "B6TM42 8a8b BATS_BioB Plantae_Zmays",
           "B6TM42",
           "BATS"
          ],
          [
           "C6FX51 8a8b BATS_NosL Bacteria_Sactuosus",
           "C6FX51",
           "BATS"
          ],
          [
           "I1LIK7 8a8b BATS_BioB Plantae_Gmax",
           "I1LIK7",
           "BATS"
          ],
          [
           "O59778 8a8b BATS_BioB Fungi_Spombe",
           "O59778",
           "BATS"
          ],
          [
           "P12996 8a8b BATS_BioB Bacteria_Ecoli",
           "P12996",
           "BATS"
          ],
          [
           "P30140 8a8b BATS_ThiH Bacteria_Ecoli",
           "P30140",
           "BATS"
          ],
          [
           "P32451 8a8b BATS_BioB Fungi_Scerevisiae",
           "P32451",
           "BATS"
          ],
          [
           "P54967 8a8b BATS_BioB Plantae_Athaliana",
           "P54967",
           "BATS"
          ],
          [
           "P9WPQ7 8a8b BATS_BioB Bacteria_Mtuberculosis",
           "P9WPQ7",
           "BATS"
          ],
          [
           "Q2FVJ7 8a8b BATS_BioB Bacteria_Saureus",
           "Q2FVJ7",
           "BATS"
          ],
          [
           "Q3ABV3 8a8b BATS_HydG Bacteria_Chydrogenoformans",
           "Q3ABV3",
           "BATS"
          ],
          [
           "Q46E78 8a8b BATS_PylB Archaea_Mbarkeri",
           "Q46E78",
           "BATS"
          ],
          [
           "Q69U93 8a8b BATS_BioB Plantae_Ojaponica",
           "Q69U93",
           "BATS"
          ]
         ],
         "hovertemplate": "<b>%{hovertext}</b><br><br>label=%{customdata[2]}<br>pm1=%{x}<br>pm2=%{y}<br>proteins_id=%{customdata[0]}<br>accession=%{customdata[1]}<extra></extra>",
         "hovertext": [
          "BATS",
          "BATS",
          "BATS",
          "BATS",
          "BATS",
          "BATS",
          "BATS",
          "BATS",
          "BATS",
          "BATS",
          "BATS",
          "BATS",
          "BATS",
          "BATS",
          "BATS"
         ],
         "legendgroup": "BATS",
         "marker": {
          "color": "#FECB52",
          "symbol": "circle"
         },
         "mode": "markers",
         "name": "BATS",
         "orientation": "v",
         "showlegend": true,
         "type": "scatter",
         "x": [
          -0.7960127,
          -0.8079332,
          -0.7838196,
          -0.8182422,
          -0.80736476,
          -0.78940487,
          -0.78400993,
          -0.79547006,
          -0.8198602,
          -0.7410153,
          -0.8120154,
          -0.8303066,
          -0.807233,
          -0.8242185,
          -0.7715265
         ],
         "xaxis": "x",
         "y": [
          0.34286806,
          0.38351303,
          0.32785904,
          0.4117609,
          0.35058314,
          0.37795585,
          0.3530144,
          0.4155432,
          0.37542298,
          0.29803884,
          0.32354584,
          0.36041072,
          0.41121632,
          0.40313098,
          0.35931534
         ],
         "yaxis": "y"
        },
        {
         "customdata": [
          [
           "A4HWS3 7a6b Elp-like_Elp3 Discoba_Linfantum",
           "A4HWS3",
           "Elp-like"
          ],
          [
           "A4I0J4 7a6b Elp-like_Elp3 Discoba_Linfantum",
           "A4I0J4",
           "Elp-like"
          ],
          [
           "B4FJY4 7a6b Elp-like_Elp3 Plantae_Zmays",
           "B4FJY4",
           "Elp-like"
          ],
          [
           "C0PGU3 7a6b Elp-like_Elp3 Plantae_Zmays",
           "C0PGU3",
           "Elp-like"
          ],
          [
           "D4ACM1 7a6b Elp-like_Elp3 Metazoa_Rnorvegicus",
           "D4ACM1",
           "Elp-like"
          ],
          [
           "I1JXG5 7a6b Elp-like_Elp3 Plantae_Gmax",
           "I1JXG5",
           "Elp-like"
          ],
          [
           "O14023 7a6b Elp-like_Elp3 Fungi_Spombe",
           "O14023",
           "Elp-like"
          ],
          [
           "Q02908 7a6b Elp-like_Elp3 Fungi_Scerevisiae",
           "Q02908",
           "Elp-like"
          ],
          [
           "Q1ZXC6 7a6b Elp-like_Elp3 Amoebozoa_Ddiscoideum",
           "Q1ZXC6",
           "Elp-like"
          ],
          [
           "Q23651 7a6b Elp-like_Elp3 Metazoa_Celegans",
           "Q23651",
           "Elp-like"
          ],
          [
           "Q2FXH0 6a6b Elp-like_Elp3 Bacteria_Saureus",
           "Q2FXH0",
           "Elp-like"
          ],
          [
           "Q4CUJ9 7a6b Elp-like_Elp3 Discoba_Tcruzi",
           "Q4CUJ9",
           "Elp-like"
          ],
          [
           "Q4DKU2 7a6b Elp-like_Elp3 Discoba_Tcruzi",
           "Q4DKU2",
           "Elp-like"
          ],
          [
           "Q4DPP3 7a6b Elp-like_Elp3 Discoba_Tcruzi",
           "Q4DPP3",
           "Elp-like"
          ],
          [
           "Q5RIC0 7a6b Elp-like_Elp3 Metazoa_Drerio",
           "Q5RIC0",
           "Elp-like"
          ],
          [
           "Q7X7L3 7a6b Elp-like_Elp3 Plantae_Ojaponica",
           "Q7X7L3",
           "Elp-like"
          ],
          [
           "Q8I5E0 7a6b Elp-like_Elp3 Sar_Pfalciparum",
           "Q8I5E0",
           "Elp-like"
          ],
          [
           "Q93ZR1 7a6b Elp-like_Elp3 Plantae_Athaliana",
           "Q93ZR1",
           "Elp-like"
          ]
         ],
         "hovertemplate": "<b>%{hovertext}</b><br><br>label=%{customdata[2]}<br>pm1=%{x}<br>pm2=%{y}<br>proteins_id=%{customdata[0]}<br>accession=%{customdata[1]}<extra></extra>",
         "hovertext": [
          "Elp-like",
          "Elp-like",
          "Elp-like",
          "Elp-like",
          "Elp-like",
          "Elp-like",
          "Elp-like",
          "Elp-like",
          "Elp-like",
          "Elp-like",
          "Elp-like",
          "Elp-like",
          "Elp-like",
          "Elp-like",
          "Elp-like",
          "Elp-like",
          "Elp-like",
          "Elp-like"
         ],
         "legendgroup": "Elp-like",
         "marker": {
          "color": "#636efa",
          "symbol": "circle"
         },
         "mode": "markers",
         "name": "Elp-like",
         "orientation": "v",
         "showlegend": true,
         "type": "scatter",
         "x": [
          -0.9360702,
          -0.9173251,
          -0.90663666,
          -0.89685297,
          -0.8740505,
          -0.90510255,
          -0.8739132,
          -0.88564575,
          -0.8836615,
          -0.868302,
          -0.8425375,
          -0.9268478,
          -0.93066776,
          -0.9264682,
          -0.8936875,
          -0.914025,
          -0.9380906,
          -0.8894012
         ],
         "xaxis": "x",
         "y": [
          -0.118586875,
          -0.103710085,
          0.017285317,
          0.0144477775,
          0.0134653915,
          0.033029363,
          0.04580659,
          0.047982022,
          0.009000391,
          0.028894307,
          0.08705793,
          -0.12383264,
          -0.1090211,
          -0.115516454,
          0.029658364,
          0.02182472,
          -0.10854358,
          0.0243407
         ],
         "yaxis": "y"
        },
        {
         "customdata": [
          [
           "A4IGH2 6a6b HemN-like_RSAD1 Metazoa_Drerio",
           "A4IGH2",
           "HemN-like"
          ],
          [
           "I1JXG4 6a6b HemN-like_HemW Plantae_Gmax",
           "I1JXG4",
           "HemN-like"
          ],
          [
           "L4IZD0 6a6b HemN-like_ChuW Bacteria_Ecoli",
           "L4IZD0",
           "HemN-like"
          ],
          [
           "MBB2876758-1 6a6b HemN-like_ChuW Bacteria_Rcellulosilyticum",
           "MBB2876758-1",
           "HemN-like"
          ],
          [
           "MBN8969022-1 6a6b HemN-like_ChuW Bacteria_Hbacterium",
           "MBN8969022-1",
           "HemN-like"
          ],
          [
           "MCA0419989-1 6a6b HemN-like_ChuW Bacteria_Pbacterium",
           "MCA0419989-1",
           "HemN-like"
          ],
          [
           "P32131 6a6b HemN-like_HemN Bacteria_Ecoli",
           "P32131",
           "HemN-like"
          ],
          [
           "P52062 6a6b HemN-like_HemW Bacteria_Ecoli",
           "P52062",
           "HemN-like"
          ],
          [
           "Q2FXY9 6a6b HemN-like_HemW Bacteria_Saureus",
           "Q2FXY9",
           "HemN-like"
          ],
          [
           "Q2QU90 6a6b HemN-like_RSAD1 Plantae_Ojaponica",
           "Q2QU90",
           "HemN-like"
          ],
          [
           "Q54VE8 6a6b HemN-like_RSAD1 Amoebozoa_Ddiscoideum",
           "Q54VE8",
           "HemN-like"
          ],
          [
           "Q5SUV1 6a6b HemN-like_RSAD1 Metazoa_Mmusculus",
           "Q5SUV1",
           "HemN-like"
          ]
         ],
         "hovertemplate": "<b>%{hovertext}</b><br><br>label=%{customdata[2]}<br>pm1=%{x}<br>pm2=%{y}<br>proteins_id=%{customdata[0]}<br>accession=%{customdata[1]}<extra></extra>",
         "hovertext": [
          "HemN-like",
          "HemN-like",
          "HemN-like",
          "HemN-like",
          "HemN-like",
          "HemN-like",
          "HemN-like",
          "HemN-like",
          "HemN-like",
          "HemN-like",
          "HemN-like",
          "HemN-like"
         ],
         "legendgroup": "HemN-like",
         "marker": {
          "color": "#EF553B",
          "symbol": "circle"
         },
         "mode": "markers",
         "name": "HemN-like",
         "orientation": "v",
         "showlegend": true,
         "type": "scatter",
         "x": [
          -0.9484711,
          -0.95372516,
          -0.9533369,
          -0.96279967,
          -0.9585825,
          -0.9578233,
          -0.95793587,
          -0.94287163,
          -0.9379812,
          -0.9531978,
          -0.9617621,
          -0.94821644
         ],
         "xaxis": "x",
         "y": [
          0.14192234,
          0.13673614,
          0.12729675,
          0.12888594,
          0.13088605,
          0.12610027,
          0.1203939,
          0.14309825,
          0.12732676,
          0.14510235,
          0.13670902,
          0.133935
         ],
         "yaxis": "y"
        },
        {
         "customdata": [
          [
           "A4J6G2 6a6b PLP-dependent_EAM Bacteria_Dreducens",
           "A4J6G2",
           "PLP-dependent"
          ],
          [
           "Q841K7 6a6b PLP-dependent_RAM Bacteria_Sgriseochromogenes",
           "Q841K7",
           "PLP-dependent"
          ]
         ],
         "hovertemplate": "<b>%{hovertext}</b><br><br>label=%{customdata[2]}<br>pm1=%{x}<br>pm2=%{y}<br>proteins_id=%{customdata[0]}<br>accession=%{customdata[1]}<extra></extra>",
         "hovertext": [
          "PLP-dependent",
          "PLP-dependent"
         ],
         "legendgroup": "PLP-dependent",
         "marker": {
          "color": "#00cc96",
          "symbol": "circle"
         },
         "mode": "markers",
         "name": "PLP-dependent",
         "orientation": "v",
         "showlegend": true,
         "type": "scatter",
         "x": [
          0.18714753,
          0.18667966
         ],
         "xaxis": "x",
         "y": [
          -0.24877328,
          -0.24894279
         ],
         "yaxis": "y"
        },
        {
         "customdata": [
          [
           "E4N8S5 6a6b B12-binding_TsrM Bacteria_Ksetae",
           "E4N8S5",
           "B12-binding"
          ],
          [
           "O24770 6a6b B12-binding_OxsB Bacteria_Bmegatarium",
           "O24770",
           "B12-binding"
          ],
          [
           "Q2MFI7 6a6b B12-binding_AprD4 Bacteria_Stenebrarius",
           "Q2MFI7",
           "B12-binding"
          ],
          [
           "Q56184 6a6b B12-binding_Fom3 Bacteria_Swedmorensis",
           "Q56184",
           "B12-binding"
          ],
          [
           "Q5IW0 6a6b B12-binding_PhpK Bacteria_Sviridochromogenes",
           "Q5IW0",
           "B12-binding"
          ],
          [
           "Q70KE5 6a6b B12-binding_GenK Bacteria_Mechinospora",
           "Q70KE5",
           "B12-binding"
          ]
         ],
         "hovertemplate": "<b>%{hovertext}</b><br><br>label=%{customdata[2]}<br>pm1=%{x}<br>pm2=%{y}<br>proteins_id=%{customdata[0]}<br>accession=%{customdata[1]}<extra></extra>",
         "hovertext": [
          "B12-binding",
          "B12-binding",
          "B12-binding",
          "B12-binding",
          "B12-binding",
          "B12-binding"
         ],
         "legendgroup": "B12-binding",
         "marker": {
          "color": "#ab63fa",
          "symbol": "circle"
         },
         "mode": "markers",
         "name": "B12-binding",
         "orientation": "v",
         "showlegend": true,
         "type": "scatter",
         "x": [
          -0.2722095,
          -0.27522933,
          -0.28089133,
          -0.25937894,
          -0.28857717,
          -0.26650214
         ],
         "xaxis": "x",
         "y": [
          -0.874666,
          -0.88554794,
          -0.8700171,
          -0.877408,
          -0.8742478,
          -0.8702862
         ],
         "yaxis": "y"
        },
        {
         "customdata": [
          [
           "F4IVY6 6a6b MTaseA_RlmN Plantae_Athaliana",
           "F4IVY6",
           "MTaseA"
          ],
          [
           "I1JHY9 6a6b MTaseA_RlmN Plantae_Gmax",
           "I1JHY9",
           "MTaseA"
          ],
          [
           "I1KXG4 6a6b MTaseA_RlmN Plantae_Gmax",
           "I1KXG4",
           "MTaseA"
          ],
          [
           "I1LFP7 6a6b MTaseA_RlmN Plantae_Gmax",
           "I1LFP7",
           "MTaseA"
          ],
          [
           "P36979 6a6b MTaseA_RlmN Bacteria_Ecoli",
           "P36979",
           "MTaseA"
          ],
          [
           "Q0JKY3 6a6b MTaseA_RlmN Plantae_Ojaponica",
           "Q0JKY3",
           "MTaseA"
          ],
          [
           "Q10QB5 6a6b MTaseA_RlmN Plantae_Ojaponica",
           "Q10QB5",
           "MTaseA"
          ],
          [
           "Q2FZ66 6a6b MTaseA_RlmN Bacteria_Saureus",
           "Q2FZ66",
           "MTaseA"
          ],
          [
           "Q54J76 6a6b MTaseA_RlmN Amoebozoa_Ddiscoideum",
           "Q54J76",
           "MTaseA"
          ],
          [
           "Q5JM88 6a6b MTaseA_RlmN Plantae_Ojaponica",
           "Q5JM88",
           "MTaseA"
          ],
          [
           "Q84JV6 6a6b MTaseA_RlmN Plantae_Athaliana",
           "Q84JV6",
           "MTaseA"
          ],
          [
           "Q8IM25 6a6b MTaseA_RlmN Sar_Pfalciparum",
           "Q8IM25",
           "MTaseA"
          ],
          [
           "Q93XX3 6a6b MTaseA_RlmN Plantae_Athaliana",
           "Q93XX3",
           "MTaseA"
          ]
         ],
         "hovertemplate": "<b>%{hovertext}</b><br><br>label=%{customdata[2]}<br>pm1=%{x}<br>pm2=%{y}<br>proteins_id=%{customdata[0]}<br>accession=%{customdata[1]}<extra></extra>",
         "hovertext": [
          "MTaseA",
          "MTaseA",
          "MTaseA",
          "MTaseA",
          "MTaseA",
          "MTaseA",
          "MTaseA",
          "MTaseA",
          "MTaseA",
          "MTaseA",
          "MTaseA",
          "MTaseA",
          "MTaseA"
         ],
         "legendgroup": "MTaseA",
         "marker": {
          "color": "#FFA15A",
          "symbol": "circle"
         },
         "mode": "markers",
         "name": "MTaseA",
         "orientation": "v",
         "showlegend": true,
         "type": "scatter",
         "x": [
          0.23386417,
          0.30522642,
          0.2524597,
          0.30939206,
          0.29065058,
          0.2900164,
          0.30048165,
          0.17165017,
          0.30695036,
          0.23313773,
          0.25637516,
          0.2998026,
          0.27361536
         ],
         "xaxis": "x",
         "y": [
          -0.30776867,
          -0.30590037,
          -0.36317843,
          -0.26344797,
          -0.37452468,
          -0.32727408,
          -0.23754069,
          -0.17455332,
          -0.2533782,
          -0.2789757,
          -0.2393599,
          -0.15180355,
          -0.31178364
         ],
         "yaxis": "y"
        },
        {
         "customdata": [
          [
           "P0A9N4 6a6b AE_PFLAE Bacteria_Ecoli",
           "P0A9N4",
           "AE"
          ],
          [
           "P0A9N8 3a6b AE_RNRAE Bacteria_Ecoli",
           "P0A9N8",
           "AE"
          ],
          [
           "Q2FV03 3a6b AE_RNRAE Bacteria_Saureus",
           "Q2FV03",
           "AE"
          ],
          [
           "Q2G1D7 6a6b AE_PFLAE Bacteria_Saureus",
           "Q2G1D7",
           "AE"
          ]
         ],
         "hovertemplate": "<b>%{hovertext}</b><br><br>label=%{customdata[2]}<br>pm1=%{x}<br>pm2=%{y}<br>proteins_id=%{customdata[0]}<br>accession=%{customdata[1]}<extra></extra>",
         "hovertext": [
          "AE",
          "AE",
          "AE",
          "AE"
         ],
         "legendgroup": "AE",
         "marker": {
          "color": "#19d3f3",
          "symbol": "circle"
         },
         "mode": "markers",
         "name": "AE",
         "orientation": "v",
         "showlegend": true,
         "type": "scatter",
         "x": [
          0.48966208,
          0.51990634,
          0.5286795,
          0.4348403
         ],
         "xaxis": "x",
         "y": [
          0.092811875,
          0.15733811,
          0.17134681,
          0.1622227
         ],
         "yaxis": "y"
        }
       ],
       "layout": {
        "font": {
         "size": 11
        },
        "height": 800,
        "legend": {
         "title": {
          "text": "label"
         },
         "tracegroupgap": 0
        },
        "plot_bgcolor": "rgba(0, 0, 0, 0)",
        "shapes": [
         {
          "line": {
           "color": "black",
           "dash": "dot"
          },
          "opacity": 0.15,
          "type": "circle",
          "x0": -0.47058823529411764,
          "x1": 0.47058823529411764,
          "y0": -0.47058823529411764,
          "y1": 0.47058823529411764
         },
         {
          "line": {
           "color": "black",
           "dash": "dot"
          },
          "opacity": 0.15,
          "type": "circle",
          "x0": -0.644736842105263,
          "x1": 0.644736842105263,
          "y0": -0.644736842105263,
          "y1": 0.644736842105263
         },
         {
          "line": {
           "color": "black",
           "dash": "dot"
          },
          "opacity": 0.15,
          "type": "circle",
          "x0": -0.7705382436260623,
          "x1": 0.7705382436260623,
          "y0": -0.7705382436260623,
          "y1": 0.7705382436260623
         },
         {
          "line": {
           "color": "black",
           "dash": "dot"
          },
          "opacity": 0.15,
          "type": "circle",
          "x0": -0.8557007125890735,
          "x1": 0.8557007125890735,
          "y0": -0.8557007125890735,
          "y1": 0.8557007125890735
         },
         {
          "line": {
           "color": "black",
           "dash": "dot"
          },
          "opacity": 0.15,
          "type": "circle",
          "x0": -0.9108474990827932,
          "x1": 0.9108474990827932,
          "y0": -0.9108474990827932,
          "y1": 0.9108474990827932
         },
         {
          "line": {
           "color": "black",
           "dash": "dot"
          },
          "opacity": 0.15,
          "type": "circle",
          "x0": -0.9455374041239167,
          "x1": 0.9455374041239167,
          "y0": -0.9455374041239167,
          "y1": 0.9455374041239167
         },
         {
          "line": {
           "color": "Black"
          },
          "type": "circle",
          "x0": -1,
          "x1": 1,
          "xref": "x",
          "y0": -1,
          "y1": 1,
          "yref": "y"
         },
         {
          "fillcolor": "Black",
          "line": {
           "color": "Black"
          },
          "type": "circle",
          "x0": -0.005,
          "x1": 0.005,
          "xref": "x",
          "y0": -0.005,
          "y1": 0.005,
          "yref": "y"
         }
        ],
        "template": {
         "data": {
          "bar": [
           {
            "error_x": {
             "color": "#2a3f5f"
            },
            "error_y": {
             "color": "#2a3f5f"
            },
            "marker": {
             "line": {
              "color": "#E5ECF6",
              "width": 0.5
             },
             "pattern": {
              "fillmode": "overlay",
              "size": 10,
              "solidity": 0.2
             }
            },
            "type": "bar"
           }
          ],
          "barpolar": [
           {
            "marker": {
             "line": {
              "color": "#E5ECF6",
              "width": 0.5
             },
             "pattern": {
              "fillmode": "overlay",
              "size": 10,
              "solidity": 0.2
             }
            },
            "type": "barpolar"
           }
          ],
          "carpet": [
           {
            "aaxis": {
             "endlinecolor": "#2a3f5f",
             "gridcolor": "white",
             "linecolor": "white",
             "minorgridcolor": "white",
             "startlinecolor": "#2a3f5f"
            },
            "baxis": {
             "endlinecolor": "#2a3f5f",
             "gridcolor": "white",
             "linecolor": "white",
             "minorgridcolor": "white",
             "startlinecolor": "#2a3f5f"
            },
            "type": "carpet"
           }
          ],
          "choropleth": [
           {
            "colorbar": {
             "outlinewidth": 0,
             "ticks": ""
            },
            "type": "choropleth"
           }
          ],
          "contour": [
           {
            "colorbar": {
             "outlinewidth": 0,
             "ticks": ""
            },
            "colorscale": [
             [
              0,
              "#0d0887"
             ],
             [
              0.1111111111111111,
              "#46039f"
             ],
             [
              0.2222222222222222,
              "#7201a8"
             ],
             [
              0.3333333333333333,
              "#9c179e"
             ],
             [
              0.4444444444444444,
              "#bd3786"
             ],
             [
              0.5555555555555556,
              "#d8576b"
             ],
             [
              0.6666666666666666,
              "#ed7953"
             ],
             [
              0.7777777777777778,
              "#fb9f3a"
             ],
             [
              0.8888888888888888,
              "#fdca26"
             ],
             [
              1,
              "#f0f921"
             ]
            ],
            "type": "contour"
           }
          ],
          "contourcarpet": [
           {
            "colorbar": {
             "outlinewidth": 0,
             "ticks": ""
            },
            "type": "contourcarpet"
           }
          ],
          "heatmap": [
           {
            "colorbar": {
             "outlinewidth": 0,
             "ticks": ""
            },
            "colorscale": [
             [
              0,
              "#0d0887"
             ],
             [
              0.1111111111111111,
              "#46039f"
             ],
             [
              0.2222222222222222,
              "#7201a8"
             ],
             [
              0.3333333333333333,
              "#9c179e"
             ],
             [
              0.4444444444444444,
              "#bd3786"
             ],
             [
              0.5555555555555556,
              "#d8576b"
             ],
             [
              0.6666666666666666,
              "#ed7953"
             ],
             [
              0.7777777777777778,
              "#fb9f3a"
             ],
             [
              0.8888888888888888,
              "#fdca26"
             ],
             [
              1,
              "#f0f921"
             ]
            ],
            "type": "heatmap"
           }
          ],
          "heatmapgl": [
           {
            "colorbar": {
             "outlinewidth": 0,
             "ticks": ""
            },
            "colorscale": [
             [
              0,
              "#0d0887"
             ],
             [
              0.1111111111111111,
              "#46039f"
             ],
             [
              0.2222222222222222,
              "#7201a8"
             ],
             [
              0.3333333333333333,
              "#9c179e"
             ],
             [
              0.4444444444444444,
              "#bd3786"
             ],
             [
              0.5555555555555556,
              "#d8576b"
             ],
             [
              0.6666666666666666,
              "#ed7953"
             ],
             [
              0.7777777777777778,
              "#fb9f3a"
             ],
             [
              0.8888888888888888,
              "#fdca26"
             ],
             [
              1,
              "#f0f921"
             ]
            ],
            "type": "heatmapgl"
           }
          ],
          "histogram": [
           {
            "marker": {
             "pattern": {
              "fillmode": "overlay",
              "size": 10,
              "solidity": 0.2
             }
            },
            "type": "histogram"
           }
          ],
          "histogram2d": [
           {
            "colorbar": {
             "outlinewidth": 0,
             "ticks": ""
            },
            "colorscale": [
             [
              0,
              "#0d0887"
             ],
             [
              0.1111111111111111,
              "#46039f"
             ],
             [
              0.2222222222222222,
              "#7201a8"
             ],
             [
              0.3333333333333333,
              "#9c179e"
             ],
             [
              0.4444444444444444,
              "#bd3786"
             ],
             [
              0.5555555555555556,
              "#d8576b"
             ],
             [
              0.6666666666666666,
              "#ed7953"
             ],
             [
              0.7777777777777778,
              "#fb9f3a"
             ],
             [
              0.8888888888888888,
              "#fdca26"
             ],
             [
              1,
              "#f0f921"
             ]
            ],
            "type": "histogram2d"
           }
          ],
          "histogram2dcontour": [
           {
            "colorbar": {
             "outlinewidth": 0,
             "ticks": ""
            },
            "colorscale": [
             [
              0,
              "#0d0887"
             ],
             [
              0.1111111111111111,
              "#46039f"
             ],
             [
              0.2222222222222222,
              "#7201a8"
             ],
             [
              0.3333333333333333,
              "#9c179e"
             ],
             [
              0.4444444444444444,
              "#bd3786"
             ],
             [
              0.5555555555555556,
              "#d8576b"
             ],
             [
              0.6666666666666666,
              "#ed7953"
             ],
             [
              0.7777777777777778,
              "#fb9f3a"
             ],
             [
              0.8888888888888888,
              "#fdca26"
             ],
             [
              1,
              "#f0f921"
             ]
            ],
            "type": "histogram2dcontour"
           }
          ],
          "mesh3d": [
           {
            "colorbar": {
             "outlinewidth": 0,
             "ticks": ""
            },
            "type": "mesh3d"
           }
          ],
          "parcoords": [
           {
            "line": {
             "colorbar": {
              "outlinewidth": 0,
              "ticks": ""
             }
            },
            "type": "parcoords"
           }
          ],
          "pie": [
           {
            "automargin": true,
            "type": "pie"
           }
          ],
          "scatter": [
           {
            "fillpattern": {
             "fillmode": "overlay",
             "size": 10,
             "solidity": 0.2
            },
            "type": "scatter"
           }
          ],
          "scatter3d": [
           {
            "line": {
             "colorbar": {
              "outlinewidth": 0,
              "ticks": ""
             }
            },
            "marker": {
             "colorbar": {
              "outlinewidth": 0,
              "ticks": ""
             }
            },
            "type": "scatter3d"
           }
          ],
          "scattercarpet": [
           {
            "marker": {
             "colorbar": {
              "outlinewidth": 0,
              "ticks": ""
             }
            },
            "type": "scattercarpet"
           }
          ],
          "scattergeo": [
           {
            "marker": {
             "colorbar": {
              "outlinewidth": 0,
              "ticks": ""
             }
            },
            "type": "scattergeo"
           }
          ],
          "scattergl": [
           {
            "marker": {
             "colorbar": {
              "outlinewidth": 0,
              "ticks": ""
             }
            },
            "type": "scattergl"
           }
          ],
          "scattermapbox": [
           {
            "marker": {
             "colorbar": {
              "outlinewidth": 0,
              "ticks": ""
             }
            },
            "type": "scattermapbox"
           }
          ],
          "scatterpolar": [
           {
            "marker": {
             "colorbar": {
              "outlinewidth": 0,
              "ticks": ""
             }
            },
            "type": "scatterpolar"
           }
          ],
          "scatterpolargl": [
           {
            "marker": {
             "colorbar": {
              "outlinewidth": 0,
              "ticks": ""
             }
            },
            "type": "scatterpolargl"
           }
          ],
          "scatterternary": [
           {
            "marker": {
             "colorbar": {
              "outlinewidth": 0,
              "ticks": ""
             }
            },
            "type": "scatterternary"
           }
          ],
          "surface": [
           {
            "colorbar": {
             "outlinewidth": 0,
             "ticks": ""
            },
            "colorscale": [
             [
              0,
              "#0d0887"
             ],
             [
              0.1111111111111111,
              "#46039f"
             ],
             [
              0.2222222222222222,
              "#7201a8"
             ],
             [
              0.3333333333333333,
              "#9c179e"
             ],
             [
              0.4444444444444444,
              "#bd3786"
             ],
             [
              0.5555555555555556,
              "#d8576b"
             ],
             [
              0.6666666666666666,
              "#ed7953"
             ],
             [
              0.7777777777777778,
              "#fb9f3a"
             ],
             [
              0.8888888888888888,
              "#fdca26"
             ],
             [
              1,
              "#f0f921"
             ]
            ],
            "type": "surface"
           }
          ],
          "table": [
           {
            "cells": {
             "fill": {
              "color": "#EBF0F8"
             },
             "line": {
              "color": "white"
             }
            },
            "header": {
             "fill": {
              "color": "#C8D4E3"
             },
             "line": {
              "color": "white"
             }
            },
            "type": "table"
           }
          ]
         },
         "layout": {
          "annotationdefaults": {
           "arrowcolor": "#2a3f5f",
           "arrowhead": 0,
           "arrowwidth": 1
          },
          "autotypenumbers": "strict",
          "coloraxis": {
           "colorbar": {
            "outlinewidth": 0,
            "ticks": ""
           }
          },
          "colorscale": {
           "diverging": [
            [
             0,
             "#8e0152"
            ],
            [
             0.1,
             "#c51b7d"
            ],
            [
             0.2,
             "#de77ae"
            ],
            [
             0.3,
             "#f1b6da"
            ],
            [
             0.4,
             "#fde0ef"
            ],
            [
             0.5,
             "#f7f7f7"
            ],
            [
             0.6,
             "#e6f5d0"
            ],
            [
             0.7,
             "#b8e186"
            ],
            [
             0.8,
             "#7fbc41"
            ],
            [
             0.9,
             "#4d9221"
            ],
            [
             1,
             "#276419"
            ]
           ],
           "sequential": [
            [
             0,
             "#0d0887"
            ],
            [
             0.1111111111111111,
             "#46039f"
            ],
            [
             0.2222222222222222,
             "#7201a8"
            ],
            [
             0.3333333333333333,
             "#9c179e"
            ],
            [
             0.4444444444444444,
             "#bd3786"
            ],
            [
             0.5555555555555556,
             "#d8576b"
            ],
            [
             0.6666666666666666,
             "#ed7953"
            ],
            [
             0.7777777777777778,
             "#fb9f3a"
            ],
            [
             0.8888888888888888,
             "#fdca26"
            ],
            [
             1,
             "#f0f921"
            ]
           ],
           "sequentialminus": [
            [
             0,
             "#0d0887"
            ],
            [
             0.1111111111111111,
             "#46039f"
            ],
            [
             0.2222222222222222,
             "#7201a8"
            ],
            [
             0.3333333333333333,
             "#9c179e"
            ],
            [
             0.4444444444444444,
             "#bd3786"
            ],
            [
             0.5555555555555556,
             "#d8576b"
            ],
            [
             0.6666666666666666,
             "#ed7953"
            ],
            [
             0.7777777777777778,
             "#fb9f3a"
            ],
            [
             0.8888888888888888,
             "#fdca26"
            ],
            [
             1,
             "#f0f921"
            ]
           ]
          },
          "colorway": [
           "#636efa",
           "#EF553B",
           "#00cc96",
           "#ab63fa",
           "#FFA15A",
           "#19d3f3",
           "#FF6692",
           "#B6E880",
           "#FF97FF",
           "#FECB52"
          ],
          "font": {
           "color": "#2a3f5f"
          },
          "geo": {
           "bgcolor": "white",
           "lakecolor": "white",
           "landcolor": "#E5ECF6",
           "showlakes": true,
           "showland": true,
           "subunitcolor": "white"
          },
          "hoverlabel": {
           "align": "left"
          },
          "hovermode": "closest",
          "mapbox": {
           "style": "light"
          },
          "paper_bgcolor": "white",
          "plot_bgcolor": "#E5ECF6",
          "polar": {
           "angularaxis": {
            "gridcolor": "white",
            "linecolor": "white",
            "ticks": ""
           },
           "bgcolor": "#E5ECF6",
           "radialaxis": {
            "gridcolor": "white",
            "linecolor": "white",
            "ticks": ""
           }
          },
          "scene": {
           "xaxis": {
            "backgroundcolor": "#E5ECF6",
            "gridcolor": "white",
            "gridwidth": 2,
            "linecolor": "white",
            "showbackground": true,
            "ticks": "",
            "zerolinecolor": "white"
           },
           "yaxis": {
            "backgroundcolor": "#E5ECF6",
            "gridcolor": "white",
            "gridwidth": 2,
            "linecolor": "white",
            "showbackground": true,
            "ticks": "",
            "zerolinecolor": "white"
           },
           "zaxis": {
            "backgroundcolor": "#E5ECF6",
            "gridcolor": "white",
            "gridwidth": 2,
            "linecolor": "white",
            "showbackground": true,
            "ticks": "",
            "zerolinecolor": "white"
           }
          },
          "shapedefaults": {
           "line": {
            "color": "#2a3f5f"
           }
          },
          "ternary": {
           "aaxis": {
            "gridcolor": "white",
            "linecolor": "white",
            "ticks": ""
           },
           "baxis": {
            "gridcolor": "white",
            "linecolor": "white",
            "ticks": ""
           },
           "bgcolor": "#E5ECF6",
           "caxis": {
            "gridcolor": "white",
            "linecolor": "white",
            "ticks": ""
           }
          },
          "title": {
           "x": 0.05
          },
          "xaxis": {
           "automargin": true,
           "gridcolor": "white",
           "linecolor": "white",
           "ticks": "",
           "title": {
            "standoff": 15
           },
           "zerolinecolor": "white",
           "zerolinewidth": 2
          },
          "yaxis": {
           "automargin": true,
           "gridcolor": "white",
           "linecolor": "white",
           "ticks": "",
           "title": {
            "standoff": 15
           },
           "zerolinecolor": "white",
           "zerolinewidth": 2
          }
         }
        },
        "title": {
         "text": "PM projection of radical sams with embeddings",
         "x": 0.5
        },
        "xaxis": {
         "anchor": "y",
         "constrain": "domain",
         "domain": [
          0,
          1
         ],
         "range": [
          -1.1,
          1.1
         ],
         "title": {
          "text": "pm1"
         }
        },
        "yaxis": {
         "anchor": "x",
         "domain": [
          0,
          1
         ],
         "scaleanchor": "x",
         "scaleratio": 1,
         "title": {
          "text": "pm2"
         }
        },
        "yaxis2": {
         "layer": "below traces",
         "matches": "y",
         "overlaying": "y"
        }
       }
      }
     },
     "metadata": {},
     "output_type": "display_data"
    }
   ],
   "source": [
    "# OPTIONS =================================================\n",
    "#Here you can set different parameters to color & annotate the resulting projection:\n",
    "title = \"PM projection of radical sams with embeddings\" \n",
    "#----------------------------------------------------------\n",
    "# Select the coloring from annotation .csv file:\n",
    "labels_name = \"label\"\n",
    "# Select classes to label among the \"labels_name\" or \"second_labels_name\" column (comma separated list):\n",
    "second_labels_name = \"\"\n",
    "labels_text = []\n",
    "show_text = False\n",
    "#----------------------------------------------------------\n",
    "# Use a custom color palette:\n",
    "color_palette = colour_palette #Default: None\n",
    "use_custom_palette = True\n",
    "#==========================================================\n",
    "\n",
    "\n",
    "#Check projection visualization parameters\n",
    "#Labels name\n",
    "if labels_name == \"\":\n",
    "    labels_name = None\n",
    "elif labels_name not in annotation_names:\n",
    "    raise NameError(f\"labels_name {labels_name} is not in the availables annotations.\\nAvailables annotations: {annotation_names}\")\n",
    "#Second labels name\n",
    "if second_labels_name == \"\":\n",
    "    second_labels_name = None\n",
    "elif second_labels_name not in annotation_names:\n",
    "    raise NameError(f'\"second_labels_name\" {second_labels_name} is not in the availables annotations.\\nAvailables annotations: {annotation_names}')\n",
    "\n",
    "if not use_custom_palette:\n",
    "    color_palette = None\n",
    "\n",
    "#Plot graph\n",
    "fig = plot_embedding_interactive(df_embedding, \n",
    "                                 labels_name = labels_name,\n",
    "                                 second_labels_name = second_labels_name, \n",
    "                                 show_text = show_text,\n",
    "                                 labels_text = labels_text,\n",
    "                                 color_palette = color_palette, \n",
    "                                 title = title, \n",
    "                                 fontsize = 11)\n",
    "fig.show()"
   ]
  },
  {
   "cell_type": "code",
   "execution_count": null,
   "metadata": {},
   "outputs": [],
   "source": [
    "# OPTIONS =================================================\n",
    "#Here you can set different parameters to color & annotate the resulting projection:\n",
    "title = \"PM projection of thioredoxins colored by species\"\n",
    "#----------------------------------------------------------\n",
    "# Select the coloring from annotation .csv file:\n",
    "labels_name = \"Species\"\n",
    "# Select classes to label among the \"labels_name\" or \"second_labels_name\" column (comma separated list):\n",
    "second_labels_name = \"\"\n",
    "labels_text = []\n",
    "show_text = False\n",
    "#----------------------------------------------------------\n",
    "# Use a custom color palette:\n",
    "color_palette = trx_palette #Default: None\n",
    "use_custom_palette = True\n",
    "#==========================================================\n",
    "\n",
    "\n",
    "#Check projection visualization parameters\n",
    "#Labels name\n",
    "if labels_name == \"\":\n",
    "    labels_name = None\n",
    "elif labels_name not in annotation_names:\n",
    "    raise NameError(f\"labels_name {labels_name} is not in the availables annotations.\\nAvailables annotations: {annotation_names}\")\n",
    "#Second labels name\n",
    "if second_labels_name == \"\":\n",
    "    second_labels_name = None\n",
    "elif second_labels_name not in annotation_names:\n",
    "    raise NameError(f'\"second_labels_name\" {second_labels_name} is not in the availables annotations.\\nAvailables annotations: {annotation_names}')\n",
    "\n",
    "if not use_custom_palette:\n",
    "    color_palette = None\n",
    "\n",
    "#Plot graph\n",
    "fig = plot_embedding_interactive(df_embedding, \n",
    "                                 labels_name = labels_name,\n",
    "                                 second_labels_name = second_labels_name, \n",
    "                                 show_text = show_text,\n",
    "                                 labels_text = labels_text,\n",
    "                                 color_palette = color_palette, \n",
    "                                 title = title, \n",
    "                                 fontsize = 11)\n",
    "fig.show()"
   ]
  },
  {
   "cell_type": "markdown",
   "metadata": {},
   "source": [
    "### Save plot to file"
   ]
  },
  {
   "cell_type": "code",
   "execution_count": 14,
   "metadata": {},
   "outputs": [],
   "source": [
    "# OPTIONS =================================================\n",
    "output_name = \"radical_sam_w_embeddings\"\n",
    "output_format = \"html\" #Format availables: [\"png\", \"html\", \"pdf\", \"svg\"]\n",
    "#==========================================================\n",
    "\n",
    "\n",
    "if output_format != \"html\":\n",
    "    fig.write_image(f\"{output_name}.{output_format}\", engine=\"kaleido\")\n",
    "else:\n",
    "    fig.write_html(f\"{output_name}.{output_format}\")"
   ]
  },
  {
   "cell_type": "code",
   "execution_count": null,
   "metadata": {},
   "outputs": [],
   "source": []
  }
 ],
 "metadata": {
  "accelerator": "GPU",
  "colab": {
   "provenance": []
  },
  "gpuClass": "standard",
  "kernelspec": {
   "display_name": "poincare",
   "language": "python",
   "name": "python3"
  },
  "language_info": {
   "codemirror_mode": {
    "name": "ipython",
    "version": 3
   },
   "file_extension": ".py",
   "mimetype": "text/x-python",
   "name": "python",
   "nbconvert_exporter": "python",
   "pygments_lexer": "ipython3",
   "version": "3.12.2"
  }
 },
 "nbformat": 4,
 "nbformat_minor": 1
}
