{
 "cells": [
  {
   "cell_type": "markdown",
   "metadata": {
    "id": "view-in-github"
   },
   "source": [
    "[![Open In Colab](https://colab.research.google.com/assets/colab-badge.svg)](https://colab.research.google.com/github/DSIMB/PoincareMSA/blob/master/PoincareMSA_colab.ipynb)"
   ]
  },
  {
   "cell_type": "markdown",
   "metadata": {
    "id": "W5FTaqy0xqw2"
   },
   "source": [
    "<img src=\"https://github.com/DSIMB/PoincareMSA/blob/master/.github/PoincareMSA_small_logo.png?raw=true\" height=\"100\" style=\"height:100px;margin-left: 0px;\">\n",
    "\n",
    "# Poincaré maps for visualization of large protein famillies\n",
    "\n",
    "**Authors**: Anna Klimovskaia Susmelj, Yani Ren, Yann Vander Meersche, Jean-Christophe Gelly and Tatiana Galochkina\n",
    "\n",
    "PoincaréMSA builds an interactive projection of an input protein multiple sequence alignemnt (MSA) using a method based on Poincaré maps described by Klimovskaia et al [1]. It reproduces both local proximities of protein sequences and hierarchy contained in give data. Thus, sequences located closer to the center of projection correspond to the proteins sharing the most general functional properites and/or appearing at the earlier stages of evolution. Source code is available at https://github.com/DSIMB/PoincareMSA.\n",
    "\n",
    "[1] Klimovskaia, A., Lopez-Paz, D., Bottou, L. et al. Poincaré maps for analyzing complex hierarchies in single-cell data. Nat Commun 11, 2966 (2020)."
   ]
  },
  {
   "cell_type": "markdown",
   "metadata": {
    "id": "Oa7Rrq-YzfQB"
   },
   "source": [
    "# Notebook initialization"
   ]
  },
  {
   "cell_type": "code",
   "execution_count": 1,
   "metadata": {},
   "outputs": [
    {
     "name": "stdout",
     "output_type": "stream",
     "text": [
      "/Users/gabrielduval/Desktop/Paris_Cite/Year2/Projet_Long/PoincareMSA\n"
     ]
    }
   ],
   "source": [
    "# Update working directory\n",
    "\n",
    "%cd ~/Desktop/Paris_Cite/Year2/Projet_Long/PoincareMSA"
   ]
  },
  {
   "cell_type": "code",
   "execution_count": 2,
   "metadata": {
    "cellView": "form",
    "colab": {
     "base_uri": "https://localhost:8080/"
    },
    "id": "X_SO37g-kQq7",
    "outputId": "c30184db-2ef2-4a87-fd43-db8fd3ed5379"
   },
   "outputs": [],
   "source": [
    "#Load dependencies\n",
    "import os\n",
    "import numpy as np\n",
    "import pandas as pd\n",
    "import subprocess\n",
    "import json\n",
    "import warnings\n",
    "warnings.filterwarnings('ignore')\n",
    "\n",
    "#Import visualization functions\n",
    "from scripts.visualize_projection.pplots_new import read_embeddings, plot_embedding, plot_embedding_interactive, rotate, get_colors\n",
    "from scripts.prepare_data.mmseqs2_api import run_mmseqs2\n",
    "from scripts.prepare_data.uniprot_idmapping_api import submit_id_mapping, check_id_mapping_results_ready, get_id_mapping_results_link, get_id_mapping_results_search\n",
    "%matplotlib inline\n",
    "\n",
    "#Create optional variables\n",
    "path_annotation = \"\""
   ]
  },
  {
   "cell_type": "markdown",
   "metadata": {
    "id": "IPi6cky3wgC8"
   },
   "source": [
    "# Data import"
   ]
  },
  {
   "cell_type": "code",
   "execution_count": 3,
   "metadata": {
    "cellView": "form",
    "colab": {
     "base_uri": "https://localhost:8080/",
     "height": 75,
     "resources": {
      "http://localhost:8080/nbextensions/google.colab/files.js": {
       "data": "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",
       "headers": [
        [
         "content-type",
         "application/javascript"
        ]
       ],
       "ok": true,
       "status": 200,
       "status_text": "OK"
      }
     }
    },
    "id": "GcbgnooHwIGh",
    "outputId": "dc30ce27-d01c-4953-cdb7-9d5fe599ad6d"
   },
   "outputs": [
    {
     "name": "stdout",
     "output_type": "stream",
     "text": [
      "\n",
      "Number of sequences found: 179.\n",
      "\n",
      "Annotation file correctly loaded.\n",
      "3 annotations found: ['proteins_id', 'accession', 'label'].\n"
     ]
    }
   ],
   "source": [
    "# OPTIONS =================================================\n",
    "# Path to MSA in mfasta format OR folder containing the embeddings - leave the other one as None\n",
    "mfasta = 'examples/wayland_datasets/radical_sam/radical_sam.mfasta'\n",
    "embedding_path = None #'embeddings/ankh_base_radical_sam/'\n",
    "\n",
    "#Annotation file (.csv) or UniProt ID list. (Emtpy strings for no annotations)\n",
    "path_annotation_csv = \"examples/wayland_datasets/radical_sam/radicalsam_labels.csv\"   # Path or \"\"\n",
    "# OR\n",
    "path_uniprot_list = \"\"   # Path or \"\"\n",
    "#==========================================================\n",
    "\n",
    "\n",
    "#Check files\n",
    "#mfasta\n",
    "nb_seq = 0\n",
    "if mfasta is not None and embedding_path is not None:\n",
    "    print('You cannot import both an mfasta and an embedding folder ! Choose one and leave the other as None.')\n",
    "elif mfasta is not None:\n",
    "    if os.path.isfile(mfasta):\n",
    "        with open(mfasta, \"r\") as f_in:\n",
    "            for line in f_in:\n",
    "                if line[0] == \">\":\n",
    "                    nb_seq += 1\n",
    "        print(f\"\\nNumber of sequences found: {nb_seq}.\")\n",
    "    else:\n",
    "        print(f\"File {mfasta} not found.\")\n",
    "elif embedding_path is not None:\n",
    "    if os.path.exists(embedding_path):\n",
    "        nb_seq = len([s for s in os.listdir(embedding_path) if '.pt' in s])\n",
    "        print(f\"\\nNumber of sequences found: {nb_seq}.\")\n",
    "    else:\n",
    "        print(f\"Folder {embedding_path} not found.\")\n",
    "else:\n",
    "    print('Neither a valid mfasta or embedding folder has been provided')\n",
    "\n",
    "#Check that only one path is selected\n",
    "if path_annotation_csv and path_uniprot_list:\n",
    "    raise ValueError(\"Use only one file path (path_annotation_csv OR path_uniprot_list).\")\n",
    "\n",
    "#Check that only one path is selected\n",
    "if path_annotation_csv and path_uniprot_list:\n",
    "    raise ValueError(\"Use only one file path (path_annotation_csv OR path_uniprot_list).\")\n",
    "\n",
    "if path_annotation_csv:\n",
    "    if os.path.isfile(path_annotation_csv):\n",
    "        try:\n",
    "            df_annotation = pd.read_csv(path_annotation_csv)\n",
    "        except:\n",
    "            raise ValueError(\"Annotation file is not in .csv format.\")\n",
    "        else:\n",
    "            if len(df_annotation) != nb_seq:\n",
    "                raise ValueError(\"Annotation file doesn't match the .mfasta file length.\")\n",
    "\n",
    "        #Add id column\n",
    "        if \"proteins_id\" not in df_annotation.columns:\n",
    "            df_annotation.insert(0, \"proteins_id\", range(len(df_annotation)))\n",
    "        path_annotation = path_annotation_csv\n",
    "            \n",
    "        print(\"\\nAnnotation file correctly loaded.\")\n",
    "        annotation_names = list(df_annotation.columns)\n",
    "        print(f\"{len(annotation_names)} annotations found: {annotation_names}.\")\n",
    "    else:\n",
    "        print(f\"File {path_annotation_csv} not found.\")\n",
    "\n",
    "elif path_uniprot_list:\n",
    "    if os.path.isfile(path_uniprot_list):\n",
    "        try:\n",
    "            UnP_ids = np.genfromtxt(path_uniprot_list, dtype=\"str\")\n",
    "        except:\n",
    "            raise ValueError(\"UniProt IDs file is not in a valid format.\")\n",
    "        else:\n",
    "            if len(UnP_ids) != nb_seq:\n",
    "                raise ValueError(\"UniProt IDs file doesn't match the .mfasta file length.\")     \n",
    "\n",
    "            #Split UniProtKB and UniParc IDs\n",
    "            uniparc_ids = []\n",
    "            uniprot_ids = []\n",
    "            for unp in UnP_ids:\n",
    "                if len(unp) == 13 and unp[:2] == \"UP\":\n",
    "                    uniparc_ids.append(unp)\n",
    "                else:\n",
    "                    uniprot_ids.append(unp)\n",
    "\n",
    "            #Fetch UniProtKB annotations\n",
    "            job_id = submit_id_mapping(\n",
    "                from_db=\"UniProtKB_AC-ID\", to_db=\"UniParc\", ids=uniprot_ids\n",
    "            )\n",
    "\n",
    "            if check_id_mapping_results_ready(job_id):\n",
    "                link = get_id_mapping_results_link(job_id)\n",
    "                results = get_id_mapping_results_search(link)\n",
    "\n",
    "            #Fetch UniParc annotations\n",
    "            job_id = submit_id_mapping(\n",
    "                from_db=\"UniParc\", to_db=\"UniParc\", ids=uniparc_ids\n",
    "            )\n",
    "\n",
    "            if check_id_mapping_results_ready(job_id):\n",
    "                link = get_id_mapping_results_link(job_id)\n",
    "                results2 = get_id_mapping_results_search(link)\n",
    "\n",
    "            #Create annotation dataframe\n",
    "            df_annotation = pd.DataFrame(UnP_ids, columns=[\"UnP_ID\"])\n",
    "            df_annotation[[\"organism\", \"proteinName\", \"taxonId\", \"species\", \"genus\", \\\n",
    "                           \"family\", \"order\", \"class\", \"phylum\", \"clade\", \"superkingdom\"]] = \"\"\n",
    "\n",
    "            #Fill the annotation DataFrame\n",
    "            for dict_res in results[\"results\"] + results2[\"results\"]:\n",
    "                try:\n",
    "                    unp = dict_res[\"from\"]\n",
    "                    prot_name = dict_res[\"to\"][\"uniParcCrossReferences\"][0][\"proteinName\"]\n",
    "                    df_annotation.loc[df_annotation[\"UnP_ID\"] == unp, \"proteinName\"] = prot_name\n",
    "                    scientific_name = dict_res[\"to\"][\"uniParcCrossReferences\"][0][\"organism\"][\"scientificName\"]\n",
    "                    taxid = dict_res[\"to\"][\"uniParcCrossReferences\"][0][\"organism\"][\"taxonId\"]\n",
    "                    df_annotation.loc[df_annotation[\"UnP_ID\"] == unp, \"organism\"] = scientific_name\n",
    "                    df_annotation.loc[df_annotation[\"UnP_ID\"] == unp, \"taxonId\"] = taxid\n",
    "                except KeyError:\n",
    "                    continue\n",
    "\n",
    "            #Add lineage from NCBI Taxonomist\n",
    "            taxon_ids = df_annotation.loc[df_annotation[\"taxonId\"].notnull(), 'taxonId'].to_numpy()\n",
    "            taxon_ids = list(set(taxon_ids))\n",
    "            taxon_ids = list(map(str, taxon_ids))\n",
    "            bash_command = f\"ncbi-taxonomist resolve -t {','.join(taxon_ids)}\"\n",
    "            list_taxon = subprocess.run(bash_command, shell=True, capture_output=True, text=True).stdout.strip().split(\"\\n\")\n",
    "\n",
    "            if list_taxon != [\"\"]:\n",
    "                for taxon in list_taxon:\n",
    "                    jsonString = taxon\n",
    "                    taxon_dict = json.loads(jsonString)\n",
    "                    query = taxon_dict[\"query\"]\n",
    "                    for lineage in taxon_dict[\"lineage\"]:\n",
    "                        rank = lineage[\"rank\"]\n",
    "                        if rank in [\"species\", \"genus\", \"family\", \"order\", \"class\", \"phylum\", \"clade\", \"superkingdom\"]:\n",
    "                            name = lineage[\"name\"]\n",
    "                            df_annotation.loc[df_annotation[\"taxonId\"] == int(query), rank] = name\n",
    "\n",
    "            #Add id column\n",
    "            if \"proteins_id\" not in df_annotation.columns:\n",
    "                df_annotation.insert(0, \"proteins_id\", range(len(df_annotation)))\n",
    "\n",
    "            #Save annotation to csv\n",
    "            path_annotation = \"auto_annot.csv\"\n",
    "            df_annotation.to_csv(path_annotation, index=False)\n",
    "\n",
    "            print(\"\\nAnnotation correctly fetched.\")\n",
    "            annotation_names = list(df_annotation.columns)\n",
    "            print(f\"{len(annotation_names)} annotations found: {annotation_names}.\")\n",
    "    else:\n",
    "        print(f\"File {path_uniprot_list} not found.\")\n",
    "else:\n",
    "    print(\"No annotation file selected.\")\n",
    "    path_annotation = \"\""
   ]
  },
  {
   "cell_type": "markdown",
   "metadata": {
    "id": "_H2vnIt_3kUz"
   },
   "source": [
    "# Data preparation\n",
    "Here we clean the input .mfasta alignment and translate each sequence to a vector ready for projection."
   ]
  },
  {
   "cell_type": "markdown",
   "metadata": {},
   "source": [
    "### Parameters for data preparation"
   ]
  },
  {
   "cell_type": "code",
   "execution_count": 4,
   "metadata": {
    "cellView": "form",
    "id": "9hLq_MgX6hFC"
   },
   "outputs": [
    {
     "name": "stdout",
     "output_type": "stream",
     "text": [
      "Input file: examples/wayland_datasets/radical_sam/radical_sam.mfasta\n",
      "Name of the protein family: radical_sam\n",
      "filter_gaps finished for examples/wayland_datasets/radical_sam/radical_sam.mfasta\n",
      "mfasta2fasta finished for radical_sam_data/radical_sam_data.clean0.9.mfasta\n"
     ]
    }
   ],
   "source": [
    "# OPTIONS =================================================\n",
    "# Job name\n",
    "#Name for the output folder\n",
    "out_name = \"radical_sam_data\"\n",
    "#----------------------------------------------------------\n",
    "# Threshold for filtering gapped positions\n",
    "#Positions with proportion of gaps above the given threshold are removed from the alignment.\n",
    "#If your alignment is very gapped, you may want to increase this value.\n",
    "gapth = 0.9 \n",
    "#==========================================================\n",
    "\n",
    "\n",
    "# Run data preparation\n",
    "#Data preparation consists in `.mfasta` cleaning according to a gap threshold and\n",
    "#translation of each sequence to the PSSM profile.\n",
    "prep_parameters = \"scripts/prepare_data\" + \" \" + mfasta + \" \" + out_name + \" \" + out_name + \" \" + str(gapth)\n",
    "bash_projection = \"bash scripts/prepare_data/create_projection.sh \" + prep_parameters\n",
    "!{bash_projection}"
   ]
  },
  {
   "cell_type": "markdown",
   "metadata": {
    "id": "Dv0lg4Jn-dfG"
   },
   "source": [
    "# Projection"
   ]
  },
  {
   "cell_type": "markdown",
   "metadata": {},
   "source": [
    "### Projection parameters"
   ]
  },
  {
   "cell_type": "code",
   "execution_count": 8,
   "metadata": {},
   "outputs": [
    {
     "name": "stdout",
     "output_type": "stream",
     "text": [
      "CUDA: False\n",
      "Random seed set as 4\n",
      "179 proteins found in folder radical_sam_data/fasta0.9/.\n",
      "No root detected\n",
      "142.aamtx\n",
      "Prepare data: tensor construction\n",
      "Prepare data: successfully terminated\n",
      "labels: ['142' '107' '55' '10' '95' '68' '71' '34' '166' '123' '164' '121' '73'\n",
      " '36' '159' '138' '97' '57' '12' '140' '105' '93' '179' '8' '53' '16'\n",
      " '144' '101' '160' '125' '77' '32' '118' '48' '75' '30' '162' '127' '88'\n",
      " '146' '103' '51' '14' '29' '91' '158' '120' '165' '37' '72' '13' '56'\n",
      " '104' '141' '139' '96' '94' '69' '106' '143' '11' '54' '35' '70' '122'\n",
      " '167' '31' '74' '126' '163' '89' '49' '28' '90' '102' '147' '15' '50'\n",
      " '17' '52' '100' '145' '9' '92' '178' '119' '124' '161' '33' '76' '87'\n",
      " '128' '47' '150' '115' '174' '131' '63' '26' '149' '5' '19' '7' '61' '24'\n",
      " '176' '133' '152' '117' '45' '78' '85' '156' '113' '41' '81' '39' '3'\n",
      " '58' '98' '65' '20' '172' '137' '170' '135' '67' '22' '1' '108' '169'\n",
      " '83' '43' '154' '111' '25' '60' '132' '177' '6' '18' '79' '84' '116'\n",
      " '153' '44' '46' '114' '151' '86' '129' '4' '148' '130' '175' '27' '62'\n",
      " '109' '134' '171' '23' '66' '42' '110' '155' '168' '82' '80' '38' '112'\n",
      " '157' '40' '99' '21' '64' '136' '173' '59' '2']\n",
      "features CSV file saved to radical_sam_data/with_mfasta/features.csv\n",
      "labels CSV file saved to radical_sam_data/with_mfasta/labels.csv\n",
      "KNN matrix CSV file saved to radical_sam_data/with_mfasta/KNN_matrix.csv\n",
      "Computing laplacian...\n",
      "Laplacian computed in 0.13 sec\n",
      "Computing RFA...\n",
      "RFA computed in 0.01 sec\n",
      "tensor([[2.4697e-01, 9.0073e-06, 3.3266e-06,  ..., 2.1059e-03, 2.8317e-06,\n",
      "         1.8896e-04],\n",
      "        [9.0073e-06, 2.0834e-01, 1.6693e-07,  ..., 1.9360e-04, 1.4210e-07,\n",
      "         9.2083e-05],\n",
      "        [3.3266e-06, 1.6693e-07, 2.6042e-01,  ..., 3.5973e-05, 5.8825e-02,\n",
      "         3.9217e-06],\n",
      "        ...,\n",
      "        [2.1059e-03, 1.9360e-04, 3.5973e-05,  ..., 2.3598e-01, 3.0621e-05,\n",
      "         1.3296e-02],\n",
      "        [2.8317e-06, 1.4210e-07, 5.8825e-02,  ..., 3.0621e-05, 1.3950e-01,\n",
      "         3.3382e-06],\n",
      "        [1.8896e-04, 9.2083e-05, 3.9217e-06,  ..., 1.3296e-02, 3.3382e-06,\n",
      "         2.4540e-01]])\n",
      "RFA matrix CSV file saved to radical_sam_data/with_mfasta/RFA_matrix.csv\n",
      "Starting training...\n",
      "loss: 0.16996:  61%|███████████████▎         | 612/1000 [00:19<00:17, 22.63it/s]\n",
      "Stopped at epoch 614\n",
      "loss: 0.16996:  61%|███████████████▎         | 614/1000 [00:19<00:12, 31.04it/s]\n",
      "PM computed in 19.78 sec\n",
      "\n",
      "loss = 1.700e-01\n",
      "time = 0.341 min\n"
     ]
    }
   ],
   "source": [
    "### Projection parameters (no embeddings)\n",
    "# EMBEDDING SELECTION\n",
    "in_name = 'radical_sam_data/fasta0.9/'  # Input here the name of folder with the fasta files\n",
    "mid_output = 'radical_sam_data/with_mfasta/'  # Input name of desired folder for intermediary results\n",
    "out_name = 'results/radical_sam/with_mfasta/' # Input desired name of output folder\n",
    "\n",
    "# OPTIONS =================================================\n",
    "#Here you control different parameters of Poincaré maps.\n",
    "#In our computational experiments the best results were achieved for the following values provided by default.\n",
    "#The impact of different parameters is analyzed in the original paper [1].\n",
    "knn = 5\n",
    "gamma = 2\n",
    "sigma = 1\n",
    "cospca = 0\n",
    "batchs = 4\n",
    "epochs = 1000\n",
    "seed = 4\n",
    "#==========================================================\n",
    "\n",
    "\n",
    "# Building projection and preparing data for visualization\n",
    "#This step creates a projection of encoded sequences to a Poincaré disk.\n",
    "# bash_pm = \"python3 \"+ \"scripts/build_poincare_map/main.py --input_path \" + out_name + \"/fasta\" + str(gapth) + \" --output_path \" + out_name + \"/projections/ --gamma \"+ str(gamma) +\" --pca \"+ str(cospca) + \" --epochs \"+ str(epochs) +\" --seed \"+ str(seed) + \" --knn \" + str(knn)\n",
    "# !{bash_pm}\n",
    "bash_pm = \"python \"+ \"scripts/build_poincare_map/main.py --input_path \" + in_name + \\\n",
    "          \" --output_path \" + out_name + \" --plm_embedding False\" +  \" --matrices_output_path \" + mid_output \\\n",
    "          + \" --gamma \"+ str(gamma) +\" --pca \"+ str(cospca) + \" --epochs \"+ str(epochs) +\" --seed \"\\\n",
    "          + str(seed) + \" --knn \" + str(knn)\n",
    "!{bash_pm}"
   ]
  },
  {
   "cell_type": "markdown",
   "metadata": {},
   "source": [
    "### Projection parameters (with embeddings)"
   ]
  },
  {
   "cell_type": "code",
   "execution_count": 5,
   "metadata": {},
   "outputs": [],
   "source": [
    "### Projection parameters (with embeddings)\n",
    "# EMBEDDING SELECTION\n",
    "in_name = 'embeddings/ankh_base_radical_sam/'  # Input here the name of folder with the embeddings\n",
    "mid_output = 'radical_sam_data/with_plm_embeddings/'  # Input name of desired folder for intermediary results\n",
    "out_name = 'results/radical_sam/with_plm_embeddings/' # Input desired name of output folder\n",
    "\n",
    "\n",
    "# OPTIONS =================================================\n",
    "#Here you control different parameters of Poincaré maps.\n",
    "#In our computational experiments the best results were achieved for the following values provided by default.\n",
    "#The impact of different parameters is analyzed in the original paper [1].\n",
    "knn = 5\n",
    "gamma = 2\n",
    "sigma = 1\n",
    "cospca = 0\n",
    "batchs = 4\n",
    "epochs = 1000\n",
    "seed = 0\n",
    "#==========================================================\n",
    "\n",
    "\n",
    "# Building projection and preparing data for visualization\n",
    "#This step creates a projection of encoded sequences to a Poincaré disk.\n",
    "# bash_pm = \"python \"+ \"scripts/build_poincare_map/main.py --input_path \" + in_name + \\\n",
    "#           \" --output_path \" + out_name + \" --plm_embedding True\" +  \" --matrices_output_path \" + mid_output +\\\n",
    "#           \" --distlocal minkowski\" + \" --gamma \"+ str(gamma) +\" --pca \"+ str(cospca) + \" --epochs \"+ str(epochs) +\" --seed \"\\\n",
    "#           + str(seed) + \" --knn \" + str(knn)\n",
    "# !{bash_pm}"
   ]
  },
  {
   "cell_type": "markdown",
   "metadata": {
    "id": "gRxHHfjX7CHF"
   },
   "source": [
    "# Projection visualization"
   ]
  },
  {
   "cell_type": "markdown",
   "metadata": {},
   "source": [
    "### Prepare data for visualization"
   ]
  },
  {
   "cell_type": "code",
   "execution_count": 6,
   "metadata": {
    "cellView": "form",
    "colab": {
     "base_uri": "https://localhost:8080/"
    },
    "id": "A2I17cpYXGoB",
    "outputId": "a1b01a51-2182-4f97-a653-eedc42405a80"
   },
   "outputs": [
    {
     "name": "stdout",
     "output_type": "stream",
     "text": [
      "3 annotations found: ['proteins_id', 'accession', 'label'].\n"
     ]
    }
   ],
   "source": [
    "# Prepare data for visualization\n",
    "out_name = 'results/radical_sam/with_plm_embeddings'\n",
    "\n",
    "#Check that an annotation file was provided. Create a dummy one instead\n",
    "if not path_annotation:\n",
    "    df_annotation = pd.DataFrame(list(zip(list(range(1,nb_seq+1)), np.full(nb_seq, \"-\", dtype=object))), columns=[\"id\", \"default\"])\n",
    "    df_annotation.to_csv(\"dummy_annotation.csv\", index=False)\n",
    "    path_annotation = \"dummy_annotation.csv\"\n",
    "    annotation_names = [\"proteins_id\"]\n",
    "\n",
    "path_embedding = f\"{out_name}/PM{knn:1.0f}sigma={sigma:2.2f}gamma={gamma:2.2f}cosinepca={cospca:1.0f}_seed{seed:1.0f}.csv\"\n",
    "df_embedding = read_embeddings(path_embedding, path_annotation, withroot=False)\n",
    "\n",
    "#Here are different labels found in your annotation file (if one uploaded):\n",
    "print(f\"{len(annotation_names)} annotations found: {annotation_names}.\")"
   ]
  },
  {
   "cell_type": "markdown",
   "metadata": {},
   "source": [
    "### Create interactive plot"
   ]
  },
  {
   "cell_type": "code",
   "execution_count": 7,
   "metadata": {},
   "outputs": [],
   "source": [
    "# Construction of custom color palette  \n",
    "\n",
    "# Load existing colour palette (must be a .json file)\n",
    "colour_json = 'examples/wayland_datasets/radical_sam/radicalsam_colors.json'\n",
    "with open(colour_json, 'r') as file:\n",
    "    colour_palette = json.load(file)\n",
    "\n",
    "# Also the option of manually creating your own colour palette\n"
   ]
  },
  {
   "cell_type": "code",
   "execution_count": 9,
   "metadata": {
    "cellView": "form",
    "colab": {
     "base_uri": "https://localhost:8080/",
     "height": 886
    },
    "id": "zLb9h9S4eKUD",
    "outputId": "58e8c73a-4869-4305-ecfb-bccc80d06db1"
   },
   "outputs": [
    {
     "data": {
      "application/vnd.plotly.v1+json": {
       "config": {
        "plotlyServerURL": "https://plot.ly"
       },
       "data": [
        {
         "customdata": [
          [
           1,
           "A0A0H3KB22",
           "QueE-like"
          ],
          [
           92,
           "P64554",
           "QueE-like"
          ],
          [
           118,
           "Q2G1X7",
           "QueE-like"
          ]
         ],
         "hovertemplate": "<b>%{hovertext}</b><br><br>label=%{customdata[2]}<br>pm1=%{x}<br>pm2=%{y}<br>proteins_id=%{customdata[0]}<br>accession=%{customdata[1]}<extra></extra>",
         "hovertext": [
          "QueE-like",
          "QueE-like",
          "QueE-like"
         ],
         "legendgroup": "QueE-like",
         "marker": {
          "color": "#ab63fa",
          "symbol": "circle"
         },
         "mode": "markers",
         "name": "QueE-like",
         "orientation": "v",
         "showlegend": true,
         "type": "scatter",
         "x": [
          -0.602532,
          -0.6482212,
          -0.5998742
         ],
         "xaxis": "x",
         "y": [
          0.26297912,
          0.26409253,
          0.17035735
         ],
         "yaxis": "y"
        },
        {
         "customdata": [
          [
           2,
           "A0A0R0FIC1",
           "TW-synth"
          ],
          [
           3,
           "A0A0R0GAG6",
           "TW-synth"
          ],
          [
           9,
           "A0A1D6L6E5",
           "TW-synth"
          ],
          [
           20,
           "A4HSJ7",
           "TW-synth"
          ],
          [
           21,
           "A4HWP3",
           "TW-synth"
          ],
          [
           30,
           "B5DF48",
           "TW-synth"
          ],
          [
           74,
           "O59761",
           "TW-synth"
          ],
          [
           97,
           "Q08960",
           "TW-synth"
          ],
          [
           98,
           "Q08C92",
           "TW-synth"
          ],
          [
           128,
           "Q4CXG8",
           "TW-synth"
          ],
          [
           135,
           "Q4E0Z1",
           "TW-synth"
          ],
          [
           152,
           "Q6NUM6",
           "TW-synth"
          ],
          [
           162,
           "Q8BJM7",
           "TW-synth"
          ],
          [
           167,
           "Q8H8N3",
           "TW-synth"
          ],
          [
           168,
           "Q8I3L6",
           "TW-synth"
          ],
          [
           175,
           "Q8RXN5",
           "TW-synth"
          ]
         ],
         "hovertemplate": "<b>%{hovertext}</b><br><br>label=%{customdata[2]}<br>pm1=%{x}<br>pm2=%{y}<br>proteins_id=%{customdata[0]}<br>accession=%{customdata[1]}<extra></extra>",
         "hovertext": [
          "TW-synth",
          "TW-synth",
          "TW-synth",
          "TW-synth",
          "TW-synth",
          "TW-synth",
          "TW-synth",
          "TW-synth",
          "TW-synth",
          "TW-synth",
          "TW-synth",
          "TW-synth",
          "TW-synth",
          "TW-synth",
          "TW-synth",
          "TW-synth"
         ],
         "legendgroup": "TW-synth",
         "marker": {
          "color": "#FFA15A",
          "symbol": "circle"
         },
         "mode": "markers",
         "name": "TW-synth",
         "orientation": "v",
         "showlegend": true,
         "type": "scatter",
         "x": [
          -0.684222,
          -0.6933067,
          -0.7025865,
          -0.6578339,
          -0.6599826,
          -0.6872673,
          -0.6754272,
          -0.6568391,
          -0.6820015,
          -0.6799273,
          -0.6575836,
          -0.66884863,
          -0.6978114,
          -0.698805,
          -0.65923786,
          -0.679807
         ],
         "xaxis": "x",
         "y": [
          0.60524684,
          0.587334,
          0.6012912,
          0.60329616,
          0.59411806,
          0.628906,
          0.6294058,
          0.62157893,
          0.57236093,
          0.5909893,
          0.56350505,
          0.60906696,
          0.62244666,
          0.6072441,
          0.63202035,
          0.61391675
         ],
         "yaxis": "y"
        },
        {
         "customdata": [
          [
           4,
           "A0A0R4J536",
           "LipA-like"
          ],
          [
           23,
           "A4HY57",
           "LipA-like"
          ],
          [
           32,
           "B8A031",
           "LipA-like"
          ],
          [
           35,
           "C0PN26",
           "LipA-like"
          ],
          [
           69,
           "O13642",
           "LipA-like"
          ],
          [
           73,
           "O43766",
           "LipA-like"
          ],
          [
           87,
           "P32875",
           "LipA-like"
          ],
          [
           91,
           "P60716",
           "LipA-like"
          ],
          [
           107,
           "Q21452",
           "LipA-like"
          ],
          [
           116,
           "Q2FZX4",
           "LipA-like"
          ],
          [
           129,
           "Q4DC43",
           "LipA-like"
          ],
          [
           134,
           "Q4DYL7",
           "LipA-like"
          ],
          [
           148,
           "Q5XIH4",
           "LipA-like"
          ],
          [
           149,
           "Q5ZAQ2",
           "LipA-like"
          ],
          [
           151,
           "Q6L534",
           "LipA-like"
          ],
          [
           154,
           "Q6PHG4",
           "LipA-like"
          ],
          [
           156,
           "Q7JQW6",
           "LipA-like"
          ],
          [
           159,
           "Q7XRF1",
           "LipA-like"
          ],
          [
           170,
           "Q8IDQ0",
           "LipA-like"
          ],
          [
           173,
           "Q8LEE8",
           "LipA-like"
          ]
         ],
         "hovertemplate": "<b>%{hovertext}</b><br><br>label=%{customdata[2]}<br>pm1=%{x}<br>pm2=%{y}<br>proteins_id=%{customdata[0]}<br>accession=%{customdata[1]}<extra></extra>",
         "hovertext": [
          "LipA-like",
          "LipA-like",
          "LipA-like",
          "LipA-like",
          "LipA-like",
          "LipA-like",
          "LipA-like",
          "LipA-like",
          "LipA-like",
          "LipA-like",
          "LipA-like",
          "LipA-like",
          "LipA-like",
          "LipA-like",
          "LipA-like",
          "LipA-like",
          "LipA-like",
          "LipA-like",
          "LipA-like",
          "LipA-like"
         ],
         "legendgroup": "LipA-like",
         "marker": {
          "color": "#19d3f3",
          "symbol": "circle"
         },
         "mode": "markers",
         "name": "LipA-like",
         "orientation": "v",
         "showlegend": true,
         "type": "scatter",
         "x": [
          0.7800446,
          0.63133967,
          0.7841919,
          0.7268639,
          0.72112966,
          0.7775961,
          0.6820668,
          0.7814665,
          0.6778967,
          0.6713495,
          0.63702655,
          0.6002217,
          0.7872134,
          0.70926505,
          0.69501436,
          0.7206894,
          0.75212574,
          0.79591084,
          0.7332818,
          0.73108864
         ],
         "xaxis": "x",
         "y": [
          0.26416156,
          0.18716536,
          0.24863526,
          0.28845364,
          0.14895149,
          0.1766018,
          0.17801373,
          0.2816329,
          0.22207555,
          0.08971958,
          0.23825075,
          0.28464103,
          0.21204554,
          0.23982495,
          0.2521728,
          0.19190408,
          0.21153115,
          0.24275176,
          0.16486745,
          0.22073394
         ],
         "yaxis": "y"
        },
        {
         "customdata": [
          [
           5,
           "A0A0Z8EWX1",
           "SPASM"
          ],
          [
           14,
           "A0A1I5E523",
           "SPASM"
          ],
          [
           19,
           "A3DDW1",
           "SPASM"
          ],
          [
           38,
           "D3ZVG1",
           "SPASM"
          ],
          [
           41,
           "EIC300131",
           "SPASM"
          ],
          [
           44,
           "HED132381",
           "SPASM"
          ],
          [
           48,
           "I1KTQ5",
           "SPASM"
          ],
          [
           57,
           "MBI19861291",
           "SPASM"
          ],
          [
           58,
           "MBL84112071",
           "SPASM"
          ],
          [
           59,
           "MBL84891351",
           "SPASM"
          ],
          [
           60,
           "MBM41893231",
           "SPASM"
          ],
          [
           62,
           "MBO69482481",
           "SPASM"
          ],
          [
           63,
           "MBS03225261",
           "SPASM"
          ],
          [
           64,
           "MBS03678631",
           "SPASM"
          ],
          [
           65,
           "MBU07513571",
           "SPASM"
          ],
          [
           67,
           "NOQ145911",
           "SPASM"
          ],
          [
           68,
           "NWG304921",
           "SPASM"
          ],
          [
           72,
           "O31423",
           "SPASM"
          ],
          [
           77,
           "OQW784741",
           "SPASM"
          ],
          [
           84,
           "P30745",
           "SPASM"
          ],
          [
           93,
           "P69848",
           "SPASM"
          ],
          [
           94,
           "P9WJS3",
           "SPASM"
          ],
          [
           100,
           "Q0E297",
           "SPASM"
          ],
          [
           103,
           "Q0TTH1",
           "SPASM"
          ],
          [
           106,
           "Q20624",
           "SPASM"
          ],
          [
           120,
           "Q2QQ49",
           "SPASM"
          ],
          [
           123,
           "Q39055",
           "SPASM"
          ],
          [
           125,
           "Q46CH7",
           "SPASM"
          ],
          [
           138,
           "Q54NM6",
           "SPASM"
          ],
          [
           145,
           "Q5RKZ7",
           "SPASM"
          ],
          [
           165,
           "Q8G907",
           "SPASM"
          ],
          [
           172,
           "Q8IQF1",
           "SPASM"
          ]
         ],
         "hovertemplate": "<b>%{hovertext}</b><br><br>label=%{customdata[2]}<br>pm1=%{x}<br>pm2=%{y}<br>proteins_id=%{customdata[0]}<br>accession=%{customdata[1]}<extra></extra>",
         "hovertext": [
          "SPASM",
          "SPASM",
          "SPASM",
          "SPASM",
          "SPASM",
          "SPASM",
          "SPASM",
          "SPASM",
          "SPASM",
          "SPASM",
          "SPASM",
          "SPASM",
          "SPASM",
          "SPASM",
          "SPASM",
          "SPASM",
          "SPASM",
          "SPASM",
          "SPASM",
          "SPASM",
          "SPASM",
          "SPASM",
          "SPASM",
          "SPASM",
          "SPASM",
          "SPASM",
          "SPASM",
          "SPASM",
          "SPASM",
          "SPASM",
          "SPASM",
          "SPASM"
         ],
         "legendgroup": "SPASM",
         "marker": {
          "color": "#FF6692",
          "symbol": "circle"
         },
         "mode": "markers",
         "name": "SPASM",
         "orientation": "v",
         "showlegend": true,
         "type": "scatter",
         "x": [
          -0.67272735,
          -0.63811463,
          -0.7632719,
          -0.93686384,
          -0.73686945,
          -0.7305445,
          -0.92931944,
          -0.70932233,
          -0.71833897,
          -0.6553074,
          -0.6959627,
          -0.6462013,
          -0.6903052,
          -0.68826115,
          -0.70397514,
          -0.7434277,
          -0.67081964,
          -0.7240889,
          -0.7243319,
          -0.8967797,
          -0.9147768,
          -0.9111321,
          -0.9386929,
          -0.7832988,
          -0.9192338,
          -0.9292798,
          -0.936568,
          -0.6197653,
          -0.9236723,
          -0.940524,
          -0.70863634,
          -0.9291192
         ],
         "xaxis": "x",
         "y": [
          -0.2425742,
          -0.42733428,
          -0.40650976,
          -0.15901053,
          -0.37525424,
          -0.43655363,
          -0.13373724,
          -0.46627852,
          -0.463043,
          -0.4311239,
          -0.47310778,
          -0.38890827,
          -0.4422872,
          -0.4137082,
          -0.39167076,
          -0.3103643,
          -0.386644,
          -0.3673963,
          -0.38399065,
          -0.15376051,
          -0.13265511,
          -0.14675765,
          -0.13548745,
          -0.36068064,
          -0.14224823,
          -0.1440488,
          -0.14524187,
          -0.44318295,
          -0.15068683,
          -0.15274972,
          -0.30551425,
          -0.15446304
         ],
         "yaxis": "y"
        },
        {
         "customdata": [
          [
           6,
           "A0A1B8PDY4",
           "Viperin"
          ],
          [
           11,
           "A0A1F2VBE7",
           "Viperin"
          ],
          [
           12,
           "A0A1F2WQF4",
           "Viperin"
          ],
          [
           13,
           "A0A1I3QG02",
           "Viperin"
          ],
          [
           15,
           "A0A2V9HK14",
           "Viperin"
          ],
          [
           16,
           "A0A3D4P501",
           "Viperin"
          ],
          [
           17,
           "A0A3N0ANJ2",
           "Viperin"
          ],
          [
           18,
           "A0A661U9F1",
           "Viperin"
          ],
          [
           27,
           "A7RNF3",
           "Viperin"
          ],
          [
           33,
           "B9M511",
           "Viperin"
          ],
          [
           43,
           "H2JHX2",
           "Viperin"
          ],
          [
           76,
           "O70600",
           "Viperin"
          ],
          [
           143,
           "Q5RH95",
           "Viperin"
          ],
          [
           164,
           "Q8CBB9",
           "Viperin"
          ],
          [
           176,
           "Q8WXG1",
           "Viperin"
          ]
         ],
         "hovertemplate": "<b>%{hovertext}</b><br><br>label=%{customdata[2]}<br>pm1=%{x}<br>pm2=%{y}<br>proteins_id=%{customdata[0]}<br>accession=%{customdata[1]}<extra></extra>",
         "hovertext": [
          "Viperin",
          "Viperin",
          "Viperin",
          "Viperin",
          "Viperin",
          "Viperin",
          "Viperin",
          "Viperin",
          "Viperin",
          "Viperin",
          "Viperin",
          "Viperin",
          "Viperin",
          "Viperin",
          "Viperin"
         ],
         "legendgroup": "Viperin",
         "marker": {
          "color": "#B6E880",
          "symbol": "circle"
         },
         "mode": "markers",
         "name": "Viperin",
         "orientation": "v",
         "showlegend": true,
         "type": "scatter",
         "x": [
          -0.73476493,
          -0.6318633,
          -0.71095055,
          -0.7742851,
          -0.60541564,
          -0.59400415,
          -0.6886311,
          -0.62906337,
          -0.79844826,
          -0.6715422,
          -0.66031927,
          -0.7890552,
          -0.79645956,
          -0.80621684,
          -0.81245834
         ],
         "xaxis": "x",
         "y": [
          -0.2429033,
          -0.16344334,
          -0.34410113,
          -0.22025001,
          -0.34198767,
          -0.29481304,
          -0.26173478,
          -0.31488696,
          -0.26773548,
          -0.36476004,
          -0.3065261,
          -0.28230575,
          -0.2600158,
          -0.27546123,
          -0.2621832
         ],
         "yaxis": "y"
        },
        {
         "customdata": [
          [
           7,
           "A0A1D6F795",
           "MTTase"
          ],
          [
           28,
           "B4FFP5",
           "MTTase"
          ],
          [
           37,
           "C6KT59",
           "MTTase"
          ],
          [
           52,
           "I1LNN6",
           "MTTase"
          ],
          [
           53,
           "K7K4A9",
           "MTTase"
          ],
          [
           54,
           "K7LNH5",
           "MTTase"
          ],
          [
           80,
           "P0AEI1",
           "MTTase"
          ],
          [
           81,
           "P0AEI4",
           "MTTase"
          ],
          [
           99,
           "Q09316",
           "MTTase"
          ],
          [
           101,
           "Q0JD33",
           "MTTase"
          ],
          [
           113,
           "Q2FXZ6",
           "MTTase"
          ],
          [
           114,
           "Q2FZ02",
           "MTTase"
          ],
          [
           122,
           "Q2R1U4",
           "MTTase"
          ],
          [
           132,
           "Q4DT80",
           "MTTase"
          ],
          [
           133,
           "Q4DXJ3",
           "MTTase"
          ],
          [
           137,
           "Q54KV4",
           "MTTase"
          ],
          [
           147,
           "Q5VV42",
           "MTTase"
          ],
          [
           153,
           "Q6PG34",
           "MTTase"
          ],
          [
           157,
           "Q7K4W1",
           "MTTase"
          ],
          [
           163,
           "Q8BTW8",
           "MTTase"
          ],
          [
           166,
           "Q8H0V1",
           "MTTase"
          ],
          [
           174,
           "Q8MXQ7",
           "MTTase"
          ],
          [
           177,
           "Q91WE6",
           "MTTase"
          ]
         ],
         "hovertemplate": "<b>%{hovertext}</b><br><br>label=%{customdata[2]}<br>pm1=%{x}<br>pm2=%{y}<br>proteins_id=%{customdata[0]}<br>accession=%{customdata[1]}<extra></extra>",
         "hovertext": [
          "MTTase",
          "MTTase",
          "MTTase",
          "MTTase",
          "MTTase",
          "MTTase",
          "MTTase",
          "MTTase",
          "MTTase",
          "MTTase",
          "MTTase",
          "MTTase",
          "MTTase",
          "MTTase",
          "MTTase",
          "MTTase",
          "MTTase",
          "MTTase",
          "MTTase",
          "MTTase",
          "MTTase",
          "MTTase",
          "MTTase"
         ],
         "legendgroup": "MTTase",
         "marker": {
          "color": "#FF97FF",
          "symbol": "circle"
         },
         "mode": "markers",
         "name": "MTTase",
         "orientation": "v",
         "showlegend": true,
         "type": "scatter",
         "x": [
          0.32881558,
          0.32339832,
          0.33624136,
          0.322988,
          0.30384743,
          0.36091232,
          0.19885352,
          0.24924557,
          0.37830845,
          0.32039437,
          0.2659591,
          0.26242617,
          0.3213951,
          0.3154873,
          0.28970066,
          0.38115656,
          0.2594347,
          0.28520468,
          0.2796216,
          0.36116573,
          0.34337798,
          0.27850014,
          0.26645285
         ],
         "xaxis": "x",
         "y": [
          0.47426352,
          0.8336502,
          0.8305828,
          0.8198035,
          0.52407044,
          0.523307,
          0.5112352,
          0.8455514,
          0.5311689,
          0.85065156,
          0.6129319,
          0.54015845,
          0.54334265,
          0.8284426,
          0.82588917,
          0.5473406,
          0.8364344,
          0.8346771,
          0.8052151,
          0.5371595,
          0.52777857,
          0.86003256,
          0.8336741
         ],
         "yaxis": "y"
        },
        {
         "customdata": [
          [
           8,
           "A0A1D6KKP7",
           "BATS"
          ],
          [
           10,
           "A0A1D8PS33",
           "BATS"
          ],
          [
           31,
           "B6TM42",
           "BATS"
          ],
          [
           36,
           "C6FX51",
           "BATS"
          ],
          [
           51,
           "I1LIK7",
           "BATS"
          ],
          [
           75,
           "O59778",
           "BATS"
          ],
          [
           82,
           "P12996",
           "BATS"
          ],
          [
           83,
           "P30140",
           "BATS"
          ],
          [
           86,
           "P32451",
           "BATS"
          ],
          [
           90,
           "P54967",
           "BATS"
          ],
          [
           95,
           "P9WPQ7",
           "BATS"
          ],
          [
           110,
           "Q2FVJ7",
           "BATS"
          ],
          [
           124,
           "Q3ABV3",
           "BATS"
          ],
          [
           126,
           "Q46E78",
           "BATS"
          ],
          [
           150,
           "Q69U93",
           "BATS"
          ]
         ],
         "hovertemplate": "<b>%{hovertext}</b><br><br>label=%{customdata[2]}<br>pm1=%{x}<br>pm2=%{y}<br>proteins_id=%{customdata[0]}<br>accession=%{customdata[1]}<extra></extra>",
         "hovertext": [
          "BATS",
          "BATS",
          "BATS",
          "BATS",
          "BATS",
          "BATS",
          "BATS",
          "BATS",
          "BATS",
          "BATS",
          "BATS",
          "BATS",
          "BATS",
          "BATS",
          "BATS"
         ],
         "legendgroup": "BATS",
         "marker": {
          "color": "#FECB52",
          "symbol": "circle"
         },
         "mode": "markers",
         "name": "BATS",
         "orientation": "v",
         "showlegend": true,
         "type": "scatter",
         "x": [
          0.4875042,
          0.5232856,
          0.51983523,
          0.5091177,
          0.5428651,
          0.49542168,
          0.51545227,
          0.46518543,
          0.5493966,
          0.5396363,
          0.54911,
          0.57815236,
          0.48987636,
          0.52802,
          0.56405866
         ],
         "xaxis": "x",
         "y": [
          -0.51891273,
          -0.59369427,
          -0.49380913,
          -0.6465777,
          -0.5423705,
          -0.56615216,
          -0.5272236,
          -0.6283175,
          -0.5926566,
          -0.4124306,
          -0.5064723,
          -0.5793437,
          -0.63712454,
          -0.641515,
          -0.52865493
         ],
         "yaxis": "y"
        },
        {
         "customdata": [
          [
           22,
           "A4HWS3",
           "Elp-like"
          ],
          [
           24,
           "A4I0J4",
           "Elp-like"
          ],
          [
           29,
           "B4FJY4",
           "Elp-like"
          ],
          [
           34,
           "C0PGU3",
           "Elp-like"
          ],
          [
           39,
           "D4ACM1",
           "Elp-like"
          ],
          [
           47,
           "I1JXG5",
           "Elp-like"
          ],
          [
           70,
           "O14023",
           "Elp-like"
          ],
          [
           96,
           "Q02908",
           "Elp-like"
          ],
          [
           105,
           "Q1ZXC6",
           "Elp-like"
          ],
          [
           108,
           "Q23651",
           "Elp-like"
          ],
          [
           111,
           "Q2FXH0",
           "Elp-like"
          ],
          [
           127,
           "Q4CUJ9",
           "Elp-like"
          ],
          [
           130,
           "Q4DKU2",
           "Elp-like"
          ],
          [
           131,
           "Q4DPP3",
           "Elp-like"
          ],
          [
           144,
           "Q5RIC0",
           "Elp-like"
          ],
          [
           158,
           "Q7X7L3",
           "Elp-like"
          ],
          [
           169,
           "Q8I5E0",
           "Elp-like"
          ],
          [
           179,
           "Q93ZR1",
           "Elp-like"
          ]
         ],
         "hovertemplate": "<b>%{hovertext}</b><br><br>label=%{customdata[2]}<br>pm1=%{x}<br>pm2=%{y}<br>proteins_id=%{customdata[0]}<br>accession=%{customdata[1]}<extra></extra>",
         "hovertext": [
          "Elp-like",
          "Elp-like",
          "Elp-like",
          "Elp-like",
          "Elp-like",
          "Elp-like",
          "Elp-like",
          "Elp-like",
          "Elp-like",
          "Elp-like",
          "Elp-like",
          "Elp-like",
          "Elp-like",
          "Elp-like",
          "Elp-like",
          "Elp-like",
          "Elp-like",
          "Elp-like"
         ],
         "legendgroup": "Elp-like",
         "marker": {
          "color": "#636efa",
          "symbol": "circle"
         },
         "mode": "markers",
         "name": "Elp-like",
         "orientation": "v",
         "showlegend": true,
         "type": "scatter",
         "x": [
          0.82901925,
          0.824759,
          0.80174917,
          0.79687107,
          0.7826409,
          0.8124912,
          0.809792,
          0.8180261,
          0.7891168,
          0.79525155,
          0.77880436,
          0.837793,
          0.8336542,
          0.83043987,
          0.8062002,
          0.8065664,
          0.8397714,
          0.8013997
         ],
         "xaxis": "x",
         "y": [
          -0.43997318,
          -0.4274562,
          -0.26705176,
          -0.273841,
          -0.28471935,
          -0.27834633,
          -0.30901772,
          -0.30518454,
          -0.28390092,
          -0.3006425,
          -0.3493262,
          -0.44201085,
          -0.43605506,
          -0.4461791,
          -0.28576642,
          -0.2658213,
          -0.43411332,
          -0.28334442
         ],
         "yaxis": "y"
        },
        {
         "customdata": [
          [
           25,
           "A4IGH2",
           "HemN-like"
          ],
          [
           46,
           "I1JXG4",
           "HemN-like"
          ],
          [
           55,
           "L4IZD0",
           "HemN-like"
          ],
          [
           56,
           "MBB2876758-1",
           "HemN-like"
          ],
          [
           61,
           "MBN8969022-1",
           "HemN-like"
          ],
          [
           66,
           "MCA0419989-1",
           "HemN-like"
          ],
          [
           85,
           "P32131",
           "HemN-like"
          ],
          [
           89,
           "P52062",
           "HemN-like"
          ],
          [
           112,
           "Q2FXY9",
           "HemN-like"
          ],
          [
           121,
           "Q2QU90",
           "HemN-like"
          ],
          [
           139,
           "Q54VE8",
           "HemN-like"
          ],
          [
           146,
           "Q5SUV1",
           "HemN-like"
          ]
         ],
         "hovertemplate": "<b>%{hovertext}</b><br><br>label=%{customdata[2]}<br>pm1=%{x}<br>pm2=%{y}<br>proteins_id=%{customdata[0]}<br>accession=%{customdata[1]}<extra></extra>",
         "hovertext": [
          "HemN-like",
          "HemN-like",
          "HemN-like",
          "HemN-like",
          "HemN-like",
          "HemN-like",
          "HemN-like",
          "HemN-like",
          "HemN-like",
          "HemN-like",
          "HemN-like",
          "HemN-like"
         ],
         "legendgroup": "HemN-like",
         "marker": {
          "color": "#EF553B",
          "symbol": "circle"
         },
         "mode": "markers",
         "name": "HemN-like",
         "orientation": "v",
         "showlegend": true,
         "type": "scatter",
         "x": [
          0.92077214,
          0.9240597,
          0.9292548,
          0.93516624,
          0.93243295,
          0.93420213,
          0.9369133,
          0.92099816,
          0.91305834,
          0.9276195,
          0.92974854,
          0.9263756
         ],
         "xaxis": "x",
         "y": [
          -0.26395804,
          -0.25758982,
          -0.25482702,
          -0.2533757,
          -0.25739366,
          -0.2634757,
          -0.25896737,
          -0.269745,
          -0.25712273,
          -0.27048385,
          -0.24840839,
          -0.264078
         ],
         "yaxis": "y"
        },
        {
         "customdata": [
          [
           26,
           "A4J6G2",
           "PLP-dependent"
          ],
          [
           160,
           "Q841K7",
           "PLP-dependent"
          ]
         ],
         "hovertemplate": "<b>%{hovertext}</b><br><br>label=%{customdata[2]}<br>pm1=%{x}<br>pm2=%{y}<br>proteins_id=%{customdata[0]}<br>accession=%{customdata[1]}<extra></extra>",
         "hovertext": [
          "PLP-dependent",
          "PLP-dependent"
         ],
         "legendgroup": "PLP-dependent",
         "marker": {
          "color": "#00cc96",
          "symbol": "circle"
         },
         "mode": "markers",
         "name": "PLP-dependent",
         "orientation": "v",
         "showlegend": true,
         "type": "scatter",
         "x": [
          -0.23614725,
          -0.24350595
         ],
         "xaxis": "x",
         "y": [
          0.47349724,
          0.46797472
         ],
         "yaxis": "y"
        },
        {
         "customdata": [
          [
           40,
           "E4N8S5",
           "B12-binding"
          ],
          [
           71,
           "O24770",
           "B12-binding"
          ],
          [
           119,
           "Q2MFI7",
           "B12-binding"
          ],
          [
           140,
           "Q56184",
           "B12-binding"
          ],
          [
           141,
           "Q5IW0",
           "B12-binding"
          ],
          [
           155,
           "Q70KE5",
           "B12-binding"
          ]
         ],
         "hovertemplate": "<b>%{hovertext}</b><br><br>label=%{customdata[2]}<br>pm1=%{x}<br>pm2=%{y}<br>proteins_id=%{customdata[0]}<br>accession=%{customdata[1]}<extra></extra>",
         "hovertext": [
          "B12-binding",
          "B12-binding",
          "B12-binding",
          "B12-binding",
          "B12-binding",
          "B12-binding"
         ],
         "legendgroup": "B12-binding",
         "marker": {
          "color": "#ab63fa",
          "symbol": "circle"
         },
         "mode": "markers",
         "name": "B12-binding",
         "orientation": "v",
         "showlegend": true,
         "type": "scatter",
         "x": [
          0.30139512,
          0.30646092,
          0.3081436,
          0.29439127,
          0.31386355,
          0.29998922
         ],
         "xaxis": "x",
         "y": [
          0.8912599,
          0.89691556,
          0.8866703,
          0.8926168,
          0.8875685,
          0.886995
         ],
         "yaxis": "y"
        },
        {
         "customdata": [
          [
           42,
           "F4IVY6",
           "MTaseA"
          ],
          [
           45,
           "I1JHY9",
           "MTaseA"
          ],
          [
           49,
           "I1KXG4",
           "MTaseA"
          ],
          [
           50,
           "I1LFP7",
           "MTaseA"
          ],
          [
           88,
           "P36979",
           "MTaseA"
          ],
          [
           102,
           "Q0JKY3",
           "MTaseA"
          ],
          [
           104,
           "Q10QB5",
           "MTaseA"
          ],
          [
           115,
           "Q2FZ66",
           "MTaseA"
          ],
          [
           136,
           "Q54J76",
           "MTaseA"
          ],
          [
           142,
           "Q5JM88",
           "MTaseA"
          ],
          [
           161,
           "Q84JV6",
           "MTaseA"
          ],
          [
           171,
           "Q8IM25",
           "MTaseA"
          ],
          [
           178,
           "Q93XX3",
           "MTaseA"
          ]
         ],
         "hovertemplate": "<b>%{hovertext}</b><br><br>label=%{customdata[2]}<br>pm1=%{x}<br>pm2=%{y}<br>proteins_id=%{customdata[0]}<br>accession=%{customdata[1]}<extra></extra>",
         "hovertext": [
          "MTaseA",
          "MTaseA",
          "MTaseA",
          "MTaseA",
          "MTaseA",
          "MTaseA",
          "MTaseA",
          "MTaseA",
          "MTaseA",
          "MTaseA",
          "MTaseA",
          "MTaseA",
          "MTaseA"
         ],
         "legendgroup": "MTaseA",
         "marker": {
          "color": "#FFA15A",
          "symbol": "circle"
         },
         "mode": "markers",
         "name": "MTaseA",
         "orientation": "v",
         "showlegend": true,
         "type": "scatter",
         "x": [
          -0.2710393,
          -0.31385532,
          -0.23706615,
          -0.3436415,
          -0.26800802,
          -0.28774044,
          -0.34949628,
          -0.24930254,
          -0.33684722,
          -0.2608391,
          -0.31216988,
          -0.3791966,
          -0.2803807
         ],
         "xaxis": "x",
         "y": [
          0.4932129,
          0.5816585,
          0.5756255,
          0.5614233,
          0.61185795,
          0.57581174,
          0.5329683,
          0.4158191,
          0.5462479,
          0.5231776,
          0.505955,
          0.47535753,
          0.5550606
         ],
         "yaxis": "y"
        },
        {
         "customdata": [
          [
           78,
           "P0A9N4",
           "AE"
          ],
          [
           79,
           "P0A9N8",
           "AE"
          ],
          [
           109,
           "Q2FV03",
           "AE"
          ],
          [
           117,
           "Q2G1D7",
           "AE"
          ]
         ],
         "hovertemplate": "<b>%{hovertext}</b><br><br>label=%{customdata[2]}<br>pm1=%{x}<br>pm2=%{y}<br>proteins_id=%{customdata[0]}<br>accession=%{customdata[1]}<extra></extra>",
         "hovertext": [
          "AE",
          "AE",
          "AE",
          "AE"
         ],
         "legendgroup": "AE",
         "marker": {
          "color": "#19d3f3",
          "symbol": "circle"
         },
         "mode": "markers",
         "name": "AE",
         "orientation": "v",
         "showlegend": true,
         "type": "scatter",
         "x": [
          -0.5407478,
          -0.6093863,
          -0.63581,
          -0.558883
         ],
         "xaxis": "x",
         "y": [
          0.28167835,
          0.30359897,
          0.31210124,
          0.3625347
         ],
         "yaxis": "y"
        }
       ],
       "layout": {
        "font": {
         "size": 11
        },
        "height": 800,
        "legend": {
         "title": {
          "text": "label"
         },
         "tracegroupgap": 0
        },
        "plot_bgcolor": "rgba(0, 0, 0, 0)",
        "shapes": [
         {
          "line": {
           "color": "black",
           "dash": "dot"
          },
          "opacity": 0.15,
          "type": "circle",
          "x0": -0.47058823529411764,
          "x1": 0.47058823529411764,
          "y0": -0.47058823529411764,
          "y1": 0.47058823529411764
         },
         {
          "line": {
           "color": "black",
           "dash": "dot"
          },
          "opacity": 0.15,
          "type": "circle",
          "x0": -0.644736842105263,
          "x1": 0.644736842105263,
          "y0": -0.644736842105263,
          "y1": 0.644736842105263
         },
         {
          "line": {
           "color": "black",
           "dash": "dot"
          },
          "opacity": 0.15,
          "type": "circle",
          "x0": -0.7705382436260623,
          "x1": 0.7705382436260623,
          "y0": -0.7705382436260623,
          "y1": 0.7705382436260623
         },
         {
          "line": {
           "color": "black",
           "dash": "dot"
          },
          "opacity": 0.15,
          "type": "circle",
          "x0": -0.8557007125890735,
          "x1": 0.8557007125890735,
          "y0": -0.8557007125890735,
          "y1": 0.8557007125890735
         },
         {
          "line": {
           "color": "black",
           "dash": "dot"
          },
          "opacity": 0.15,
          "type": "circle",
          "x0": -0.9108474990827932,
          "x1": 0.9108474990827932,
          "y0": -0.9108474990827932,
          "y1": 0.9108474990827932
         },
         {
          "line": {
           "color": "black",
           "dash": "dot"
          },
          "opacity": 0.15,
          "type": "circle",
          "x0": -0.9455374041239167,
          "x1": 0.9455374041239167,
          "y0": -0.9455374041239167,
          "y1": 0.9455374041239167
         },
         {
          "line": {
           "color": "Black"
          },
          "type": "circle",
          "x0": -1,
          "x1": 1,
          "xref": "x",
          "y0": -1,
          "y1": 1,
          "yref": "y"
         },
         {
          "fillcolor": "Black",
          "line": {
           "color": "Black"
          },
          "type": "circle",
          "x0": -0.005,
          "x1": 0.005,
          "xref": "x",
          "y0": -0.005,
          "y1": 0.005,
          "yref": "y"
         }
        ],
        "template": {
         "data": {
          "bar": [
           {
            "error_x": {
             "color": "#2a3f5f"
            },
            "error_y": {
             "color": "#2a3f5f"
            },
            "marker": {
             "line": {
              "color": "#E5ECF6",
              "width": 0.5
             },
             "pattern": {
              "fillmode": "overlay",
              "size": 10,
              "solidity": 0.2
             }
            },
            "type": "bar"
           }
          ],
          "barpolar": [
           {
            "marker": {
             "line": {
              "color": "#E5ECF6",
              "width": 0.5
             },
             "pattern": {
              "fillmode": "overlay",
              "size": 10,
              "solidity": 0.2
             }
            },
            "type": "barpolar"
           }
          ],
          "carpet": [
           {
            "aaxis": {
             "endlinecolor": "#2a3f5f",
             "gridcolor": "white",
             "linecolor": "white",
             "minorgridcolor": "white",
             "startlinecolor": "#2a3f5f"
            },
            "baxis": {
             "endlinecolor": "#2a3f5f",
             "gridcolor": "white",
             "linecolor": "white",
             "minorgridcolor": "white",
             "startlinecolor": "#2a3f5f"
            },
            "type": "carpet"
           }
          ],
          "choropleth": [
           {
            "colorbar": {
             "outlinewidth": 0,
             "ticks": ""
            },
            "type": "choropleth"
           }
          ],
          "contour": [
           {
            "colorbar": {
             "outlinewidth": 0,
             "ticks": ""
            },
            "colorscale": [
             [
              0,
              "#0d0887"
             ],
             [
              0.1111111111111111,
              "#46039f"
             ],
             [
              0.2222222222222222,
              "#7201a8"
             ],
             [
              0.3333333333333333,
              "#9c179e"
             ],
             [
              0.4444444444444444,
              "#bd3786"
             ],
             [
              0.5555555555555556,
              "#d8576b"
             ],
             [
              0.6666666666666666,
              "#ed7953"
             ],
             [
              0.7777777777777778,
              "#fb9f3a"
             ],
             [
              0.8888888888888888,
              "#fdca26"
             ],
             [
              1,
              "#f0f921"
             ]
            ],
            "type": "contour"
           }
          ],
          "contourcarpet": [
           {
            "colorbar": {
             "outlinewidth": 0,
             "ticks": ""
            },
            "type": "contourcarpet"
           }
          ],
          "heatmap": [
           {
            "colorbar": {
             "outlinewidth": 0,
             "ticks": ""
            },
            "colorscale": [
             [
              0,
              "#0d0887"
             ],
             [
              0.1111111111111111,
              "#46039f"
             ],
             [
              0.2222222222222222,
              "#7201a8"
             ],
             [
              0.3333333333333333,
              "#9c179e"
             ],
             [
              0.4444444444444444,
              "#bd3786"
             ],
             [
              0.5555555555555556,
              "#d8576b"
             ],
             [
              0.6666666666666666,
              "#ed7953"
             ],
             [
              0.7777777777777778,
              "#fb9f3a"
             ],
             [
              0.8888888888888888,
              "#fdca26"
             ],
             [
              1,
              "#f0f921"
             ]
            ],
            "type": "heatmap"
           }
          ],
          "heatmapgl": [
           {
            "colorbar": {
             "outlinewidth": 0,
             "ticks": ""
            },
            "colorscale": [
             [
              0,
              "#0d0887"
             ],
             [
              0.1111111111111111,
              "#46039f"
             ],
             [
              0.2222222222222222,
              "#7201a8"
             ],
             [
              0.3333333333333333,
              "#9c179e"
             ],
             [
              0.4444444444444444,
              "#bd3786"
             ],
             [
              0.5555555555555556,
              "#d8576b"
             ],
             [
              0.6666666666666666,
              "#ed7953"
             ],
             [
              0.7777777777777778,
              "#fb9f3a"
             ],
             [
              0.8888888888888888,
              "#fdca26"
             ],
             [
              1,
              "#f0f921"
             ]
            ],
            "type": "heatmapgl"
           }
          ],
          "histogram": [
           {
            "marker": {
             "pattern": {
              "fillmode": "overlay",
              "size": 10,
              "solidity": 0.2
             }
            },
            "type": "histogram"
           }
          ],
          "histogram2d": [
           {
            "colorbar": {
             "outlinewidth": 0,
             "ticks": ""
            },
            "colorscale": [
             [
              0,
              "#0d0887"
             ],
             [
              0.1111111111111111,
              "#46039f"
             ],
             [
              0.2222222222222222,
              "#7201a8"
             ],
             [
              0.3333333333333333,
              "#9c179e"
             ],
             [
              0.4444444444444444,
              "#bd3786"
             ],
             [
              0.5555555555555556,
              "#d8576b"
             ],
             [
              0.6666666666666666,
              "#ed7953"
             ],
             [
              0.7777777777777778,
              "#fb9f3a"
             ],
             [
              0.8888888888888888,
              "#fdca26"
             ],
             [
              1,
              "#f0f921"
             ]
            ],
            "type": "histogram2d"
           }
          ],
          "histogram2dcontour": [
           {
            "colorbar": {
             "outlinewidth": 0,
             "ticks": ""
            },
            "colorscale": [
             [
              0,
              "#0d0887"
             ],
             [
              0.1111111111111111,
              "#46039f"
             ],
             [
              0.2222222222222222,
              "#7201a8"
             ],
             [
              0.3333333333333333,
              "#9c179e"
             ],
             [
              0.4444444444444444,
              "#bd3786"
             ],
             [
              0.5555555555555556,
              "#d8576b"
             ],
             [
              0.6666666666666666,
              "#ed7953"
             ],
             [
              0.7777777777777778,
              "#fb9f3a"
             ],
             [
              0.8888888888888888,
              "#fdca26"
             ],
             [
              1,
              "#f0f921"
             ]
            ],
            "type": "histogram2dcontour"
           }
          ],
          "mesh3d": [
           {
            "colorbar": {
             "outlinewidth": 0,
             "ticks": ""
            },
            "type": "mesh3d"
           }
          ],
          "parcoords": [
           {
            "line": {
             "colorbar": {
              "outlinewidth": 0,
              "ticks": ""
             }
            },
            "type": "parcoords"
           }
          ],
          "pie": [
           {
            "automargin": true,
            "type": "pie"
           }
          ],
          "scatter": [
           {
            "fillpattern": {
             "fillmode": "overlay",
             "size": 10,
             "solidity": 0.2
            },
            "type": "scatter"
           }
          ],
          "scatter3d": [
           {
            "line": {
             "colorbar": {
              "outlinewidth": 0,
              "ticks": ""
             }
            },
            "marker": {
             "colorbar": {
              "outlinewidth": 0,
              "ticks": ""
             }
            },
            "type": "scatter3d"
           }
          ],
          "scattercarpet": [
           {
            "marker": {
             "colorbar": {
              "outlinewidth": 0,
              "ticks": ""
             }
            },
            "type": "scattercarpet"
           }
          ],
          "scattergeo": [
           {
            "marker": {
             "colorbar": {
              "outlinewidth": 0,
              "ticks": ""
             }
            },
            "type": "scattergeo"
           }
          ],
          "scattergl": [
           {
            "marker": {
             "colorbar": {
              "outlinewidth": 0,
              "ticks": ""
             }
            },
            "type": "scattergl"
           }
          ],
          "scattermapbox": [
           {
            "marker": {
             "colorbar": {
              "outlinewidth": 0,
              "ticks": ""
             }
            },
            "type": "scattermapbox"
           }
          ],
          "scatterpolar": [
           {
            "marker": {
             "colorbar": {
              "outlinewidth": 0,
              "ticks": ""
             }
            },
            "type": "scatterpolar"
           }
          ],
          "scatterpolargl": [
           {
            "marker": {
             "colorbar": {
              "outlinewidth": 0,
              "ticks": ""
             }
            },
            "type": "scatterpolargl"
           }
          ],
          "scatterternary": [
           {
            "marker": {
             "colorbar": {
              "outlinewidth": 0,
              "ticks": ""
             }
            },
            "type": "scatterternary"
           }
          ],
          "surface": [
           {
            "colorbar": {
             "outlinewidth": 0,
             "ticks": ""
            },
            "colorscale": [
             [
              0,
              "#0d0887"
             ],
             [
              0.1111111111111111,
              "#46039f"
             ],
             [
              0.2222222222222222,
              "#7201a8"
             ],
             [
              0.3333333333333333,
              "#9c179e"
             ],
             [
              0.4444444444444444,
              "#bd3786"
             ],
             [
              0.5555555555555556,
              "#d8576b"
             ],
             [
              0.6666666666666666,
              "#ed7953"
             ],
             [
              0.7777777777777778,
              "#fb9f3a"
             ],
             [
              0.8888888888888888,
              "#fdca26"
             ],
             [
              1,
              "#f0f921"
             ]
            ],
            "type": "surface"
           }
          ],
          "table": [
           {
            "cells": {
             "fill": {
              "color": "#EBF0F8"
             },
             "line": {
              "color": "white"
             }
            },
            "header": {
             "fill": {
              "color": "#C8D4E3"
             },
             "line": {
              "color": "white"
             }
            },
            "type": "table"
           }
          ]
         },
         "layout": {
          "annotationdefaults": {
           "arrowcolor": "#2a3f5f",
           "arrowhead": 0,
           "arrowwidth": 1
          },
          "autotypenumbers": "strict",
          "coloraxis": {
           "colorbar": {
            "outlinewidth": 0,
            "ticks": ""
           }
          },
          "colorscale": {
           "diverging": [
            [
             0,
             "#8e0152"
            ],
            [
             0.1,
             "#c51b7d"
            ],
            [
             0.2,
             "#de77ae"
            ],
            [
             0.3,
             "#f1b6da"
            ],
            [
             0.4,
             "#fde0ef"
            ],
            [
             0.5,
             "#f7f7f7"
            ],
            [
             0.6,
             "#e6f5d0"
            ],
            [
             0.7,
             "#b8e186"
            ],
            [
             0.8,
             "#7fbc41"
            ],
            [
             0.9,
             "#4d9221"
            ],
            [
             1,
             "#276419"
            ]
           ],
           "sequential": [
            [
             0,
             "#0d0887"
            ],
            [
             0.1111111111111111,
             "#46039f"
            ],
            [
             0.2222222222222222,
             "#7201a8"
            ],
            [
             0.3333333333333333,
             "#9c179e"
            ],
            [
             0.4444444444444444,
             "#bd3786"
            ],
            [
             0.5555555555555556,
             "#d8576b"
            ],
            [
             0.6666666666666666,
             "#ed7953"
            ],
            [
             0.7777777777777778,
             "#fb9f3a"
            ],
            [
             0.8888888888888888,
             "#fdca26"
            ],
            [
             1,
             "#f0f921"
            ]
           ],
           "sequentialminus": [
            [
             0,
             "#0d0887"
            ],
            [
             0.1111111111111111,
             "#46039f"
            ],
            [
             0.2222222222222222,
             "#7201a8"
            ],
            [
             0.3333333333333333,
             "#9c179e"
            ],
            [
             0.4444444444444444,
             "#bd3786"
            ],
            [
             0.5555555555555556,
             "#d8576b"
            ],
            [
             0.6666666666666666,
             "#ed7953"
            ],
            [
             0.7777777777777778,
             "#fb9f3a"
            ],
            [
             0.8888888888888888,
             "#fdca26"
            ],
            [
             1,
             "#f0f921"
            ]
           ]
          },
          "colorway": [
           "#636efa",
           "#EF553B",
           "#00cc96",
           "#ab63fa",
           "#FFA15A",
           "#19d3f3",
           "#FF6692",
           "#B6E880",
           "#FF97FF",
           "#FECB52"
          ],
          "font": {
           "color": "#2a3f5f"
          },
          "geo": {
           "bgcolor": "white",
           "lakecolor": "white",
           "landcolor": "#E5ECF6",
           "showlakes": true,
           "showland": true,
           "subunitcolor": "white"
          },
          "hoverlabel": {
           "align": "left"
          },
          "hovermode": "closest",
          "mapbox": {
           "style": "light"
          },
          "paper_bgcolor": "white",
          "plot_bgcolor": "#E5ECF6",
          "polar": {
           "angularaxis": {
            "gridcolor": "white",
            "linecolor": "white",
            "ticks": ""
           },
           "bgcolor": "#E5ECF6",
           "radialaxis": {
            "gridcolor": "white",
            "linecolor": "white",
            "ticks": ""
           }
          },
          "scene": {
           "xaxis": {
            "backgroundcolor": "#E5ECF6",
            "gridcolor": "white",
            "gridwidth": 2,
            "linecolor": "white",
            "showbackground": true,
            "ticks": "",
            "zerolinecolor": "white"
           },
           "yaxis": {
            "backgroundcolor": "#E5ECF6",
            "gridcolor": "white",
            "gridwidth": 2,
            "linecolor": "white",
            "showbackground": true,
            "ticks": "",
            "zerolinecolor": "white"
           },
           "zaxis": {
            "backgroundcolor": "#E5ECF6",
            "gridcolor": "white",
            "gridwidth": 2,
            "linecolor": "white",
            "showbackground": true,
            "ticks": "",
            "zerolinecolor": "white"
           }
          },
          "shapedefaults": {
           "line": {
            "color": "#2a3f5f"
           }
          },
          "ternary": {
           "aaxis": {
            "gridcolor": "white",
            "linecolor": "white",
            "ticks": ""
           },
           "baxis": {
            "gridcolor": "white",
            "linecolor": "white",
            "ticks": ""
           },
           "bgcolor": "#E5ECF6",
           "caxis": {
            "gridcolor": "white",
            "linecolor": "white",
            "ticks": ""
           }
          },
          "title": {
           "x": 0.05
          },
          "xaxis": {
           "automargin": true,
           "gridcolor": "white",
           "linecolor": "white",
           "ticks": "",
           "title": {
            "standoff": 15
           },
           "zerolinecolor": "white",
           "zerolinewidth": 2
          },
          "yaxis": {
           "automargin": true,
           "gridcolor": "white",
           "linecolor": "white",
           "ticks": "",
           "title": {
            "standoff": 15
           },
           "zerolinecolor": "white",
           "zerolinewidth": 2
          }
         }
        },
        "title": {
         "text": "Poincaré projection of radical SAM protein family with embeddings",
         "x": 0.5
        },
        "xaxis": {
         "anchor": "y",
         "constrain": "domain",
         "domain": [
          0,
          1
         ],
         "range": [
          -1.1,
          1.1
         ],
         "title": {
          "text": "pm1"
         }
        },
        "yaxis": {
         "anchor": "x",
         "domain": [
          0,
          1
         ],
         "scaleanchor": "x",
         "scaleratio": 1,
         "title": {
          "text": "pm2"
         }
        },
        "yaxis2": {
         "layer": "below traces",
         "matches": "y",
         "overlaying": "y"
        }
       }
      }
     },
     "metadata": {},
     "output_type": "display_data"
    }
   ],
   "source": [
    "# OPTIONS =================================================\n",
    "#Here you can set different parameters to color & annotate the resulting projection:\n",
    "title = \"Poincaré projection of radical SAM protein family with embeddings\" \n",
    "#----------------------------------------------------------\n",
    "# Select the coloring from annotation .csv file:\n",
    "labels_name = \"label\"\n",
    "# Select classes to label among the \"labels_name\" or \"second_labels_name\" column (comma separated list):\n",
    "second_labels_name = \"\"\n",
    "labels_text = []\n",
    "show_text = False\n",
    "#----------------------------------------------------------\n",
    "# Use a custom color palette:\n",
    "color_palette = colour_palette #Default: None\n",
    "use_custom_palette = True\n",
    "#==========================================================\n",
    "\n",
    "\n",
    "#Check projection visualization parameters\n",
    "#Labels name\n",
    "if labels_name == \"\":\n",
    "    labels_name = None\n",
    "elif labels_name not in annotation_names:\n",
    "    raise NameError(f\"labels_name {labels_name} is not in the availables annotations.\\nAvailables annotations: {annotation_names}\")\n",
    "#Second labels name\n",
    "if second_labels_name == \"\":\n",
    "    second_labels_name = None\n",
    "elif second_labels_name not in annotation_names:\n",
    "    raise NameError(f'\"second_labels_name\" {second_labels_name} is not in the availables annotations.\\nAvailables annotations: {annotation_names}')\n",
    "\n",
    "if not use_custom_palette:\n",
    "    color_palette = None\n",
    "\n",
    "#Plot graph\n",
    "fig = plot_embedding_interactive(df_embedding, \n",
    "                                 labels_name = labels_name,\n",
    "                                 second_labels_name = second_labels_name, \n",
    "                                 show_text = show_text,\n",
    "                                 labels_text = labels_text,\n",
    "                                 color_palette = color_palette, \n",
    "                                 title = title, \n",
    "                                 fontsize = 11)\n",
    "fig.show()"
   ]
  },
  {
   "cell_type": "code",
   "execution_count": null,
   "metadata": {},
   "outputs": [],
   "source": [
    "# OPTIONS =================================================\n",
    "#Here you can set different parameters to color & annotate the resulting projection:\n",
    "title = \"PM projection of thioredoxins colored by species\"\n",
    "#----------------------------------------------------------\n",
    "# Select the coloring from annotation .csv file:\n",
    "labels_name = \"Species\"\n",
    "# Select classes to label among the \"labels_name\" or \"second_labels_name\" column (comma separated list):\n",
    "second_labels_name = \"\"\n",
    "labels_text = []\n",
    "show_text = False\n",
    "#----------------------------------------------------------\n",
    "# Use a custom color palette:\n",
    "color_palette = trx_palette #Default: None\n",
    "use_custom_palette = True\n",
    "#==========================================================\n",
    "\n",
    "\n",
    "#Check projection visualization parameters\n",
    "#Labels name\n",
    "if labels_name == \"\":\n",
    "    labels_name = None\n",
    "elif labels_name not in annotation_names:\n",
    "    raise NameError(f\"labels_name {labels_name} is not in the availables annotations.\\nAvailables annotations: {annotation_names}\")\n",
    "#Second labels name\n",
    "if second_labels_name == \"\":\n",
    "    second_labels_name = None\n",
    "elif second_labels_name not in annotation_names:\n",
    "    raise NameError(f'\"second_labels_name\" {second_labels_name} is not in the availables annotations.\\nAvailables annotations: {annotation_names}')\n",
    "\n",
    "if not use_custom_palette:\n",
    "    color_palette = None\n",
    "\n",
    "#Plot graph\n",
    "fig = plot_embedding_interactive(df_embedding, \n",
    "                                 labels_name = labels_name,\n",
    "                                 second_labels_name = second_labels_name, \n",
    "                                 show_text = show_text,\n",
    "                                 labels_text = labels_text,\n",
    "                                 color_palette = color_palette, \n",
    "                                 title = title, \n",
    "                                 fontsize = 11)\n",
    "fig.show()"
   ]
  },
  {
   "cell_type": "markdown",
   "metadata": {},
   "source": [
    "### Save plot to file"
   ]
  },
  {
   "cell_type": "code",
   "execution_count": 14,
   "metadata": {},
   "outputs": [],
   "source": [
    "# OPTIONS =================================================\n",
    "output_name = \"radical_sam_w_embeddings\"\n",
    "output_format = \"html\" #Format availables: [\"png\", \"html\", \"pdf\", \"svg\"]\n",
    "#==========================================================\n",
    "\n",
    "\n",
    "if output_format != \"html\":\n",
    "    fig.write_image(f\"{output_name}.{output_format}\", engine=\"kaleido\")\n",
    "else:\n",
    "    fig.write_html(f\"{output_name}.{output_format}\")"
   ]
  },
  {
   "cell_type": "code",
   "execution_count": null,
   "metadata": {},
   "outputs": [],
   "source": []
  }
 ],
 "metadata": {
  "accelerator": "GPU",
  "colab": {
   "provenance": []
  },
  "gpuClass": "standard",
  "kernelspec": {
   "display_name": "poincare",
   "language": "python",
   "name": "python3"
  },
  "language_info": {
   "codemirror_mode": {
    "name": "ipython",
    "version": 3
   },
   "file_extension": ".py",
   "mimetype": "text/x-python",
   "name": "python",
   "nbconvert_exporter": "python",
   "pygments_lexer": "ipython3",
   "version": "3.12.2"
  }
 },
 "nbformat": 4,
 "nbformat_minor": 1
}
