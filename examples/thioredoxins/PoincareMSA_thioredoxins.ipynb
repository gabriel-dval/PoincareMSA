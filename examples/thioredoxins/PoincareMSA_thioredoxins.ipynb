{
 "cells": [
  {
   "cell_type": "markdown",
   "metadata": {
    "id": "view-in-github"
   },
   "source": [
    "[![Open In Colab](https://colab.research.google.com/assets/colab-badge.svg)](https://colab.research.google.com/github/DSIMB/PoincareMSA/blob/master/PoincareMSA_colab.ipynb)"
   ]
  },
  {
   "cell_type": "markdown",
   "metadata": {
    "id": "W5FTaqy0xqw2"
   },
   "source": [
    "<img src=\"https://github.com/DSIMB/PoincareMSA/blob/master/.github/PoincareMSA_small_logo.png?raw=true\" height=\"100\" style=\"height:100px;margin-left: 0px;\">\n",
    "\n",
    "# Poincaré maps for visualization of large protein famillies\n",
    "\n",
    "**Authors**: Anna Klimovskaia Susmelj, Yani Ren, Yann Vander Meersche, Jean-Christophe Gelly and Tatiana Galochkina\n",
    "\n",
    "PoincaréMSA builds an interactive projection of an input protein multiple sequence alignemnt (MSA) using a method based on Poincaré maps described by Klimovskaia et al [1]. It reproduces both local proximities of protein sequences and hierarchy contained in give data. Thus, sequences located closer to the center of projection correspond to the proteins sharing the most general functional properites and/or appearing at the earlier stages of evolution. Source code is available at https://github.com/DSIMB/PoincareMSA.\n",
    "\n",
    "[1] Klimovskaia, A., Lopez-Paz, D., Bottou, L. et al. Poincaré maps for analyzing complex hierarchies in single-cell data. Nat Commun 11, 2966 (2020)."
   ]
  },
  {
   "cell_type": "markdown",
   "metadata": {
    "id": "Oa7Rrq-YzfQB"
   },
   "source": [
    "# Notebook initialization"
   ]
  },
  {
   "cell_type": "code",
   "execution_count": 1,
   "metadata": {},
   "outputs": [
    {
     "name": "stdout",
     "output_type": "stream",
     "text": [
      "/Users/gabrielduval/Desktop/Paris_Cite/Year2/Projet_Long/PoincareMSA\n"
     ]
    }
   ],
   "source": [
    "# Update working directory\n",
    "\n",
    "%cd ../../"
   ]
  },
  {
   "cell_type": "code",
   "execution_count": 2,
   "metadata": {
    "cellView": "form",
    "colab": {
     "base_uri": "https://localhost:8080/"
    },
    "id": "X_SO37g-kQq7",
    "outputId": "c30184db-2ef2-4a87-fd43-db8fd3ed5379"
   },
   "outputs": [],
   "source": [
    "#Load dependencies\n",
    "import os\n",
    "import numpy as np\n",
    "import pandas as pd\n",
    "import subprocess\n",
    "import json\n",
    "import warnings\n",
    "warnings.filterwarnings('ignore')\n",
    "\n",
    "#Import visualization functions\n",
    "from scripts.visualize_projection.pplots_new import read_embeddings, plot_embedding, plot_embedding_interactive, rotate, get_colors\n",
    "from scripts.prepare_data.mmseqs2_api import run_mmseqs2\n",
    "from scripts.prepare_data.uniprot_idmapping_api import submit_id_mapping, check_id_mapping_results_ready, get_id_mapping_results_link, get_id_mapping_results_search\n",
    "%matplotlib inline\n",
    "\n",
    "#Create optional variables\n",
    "path_annotation = \"\""
   ]
  },
  {
   "cell_type": "markdown",
   "metadata": {
    "id": "IPi6cky3wgC8"
   },
   "source": [
    "# Data import"
   ]
  },
  {
   "cell_type": "code",
   "execution_count": 3,
   "metadata": {
    "cellView": "form",
    "colab": {
     "base_uri": "https://localhost:8080/",
     "height": 75,
     "resources": {
      "http://localhost:8080/nbextensions/google.colab/files.js": {
       "data": "Ly8gQ29weXJpZ2h0IDIwMTcgR29vZ2xlIExMQwovLwovLyBMaWNlbnNlZCB1bmRlciB0aGUgQXBhY2hlIExpY2Vuc2UsIFZlcnNpb24gMi4wICh0aGUgIkxpY2Vuc2UiKTsKLy8geW91IG1heSBub3QgdXNlIHRoaXMgZmlsZSBleGNlcHQgaW4gY29tcGxpYW5jZSB3aXRoIHRoZSBMaWNlbnNlLgovLyBZb3UgbWF5IG9idGFpbiBhIGNvcHkgb2YgdGhlIExpY2Vuc2UgYXQKLy8KLy8gICAgICBodHRwOi8vd3d3LmFwYWNoZS5vcmcvbGljZW5zZXMvTElDRU5TRS0yLjAKLy8KLy8gVW5sZXNzIHJlcXVpcmVkIGJ5IGFwcGxpY2FibGUgbGF3IG9yIGFncmVlZCB0byBpbiB3cml0aW5nLCBzb2Z0d2FyZQovLyBkaXN0cmlidXRlZCB1bmRlciB0aGUgTGljZW5zZSBpcyBkaXN0cmlidXRlZCBvbiBhbiAiQVMgSVMiIEJBU0lTLAovLyBXSVRIT1VUIFdBUlJBTlRJRVMgT1IgQ09ORElUSU9OUyBPRiBBTlkgS0lORCwgZWl0aGVyIGV4cHJlc3Mgb3IgaW1wbGllZC4KLy8gU2VlIHRoZSBMaWNlbnNlIGZvciB0aGUgc3BlY2lmaWMgbGFuZ3VhZ2UgZ292ZXJuaW5nIHBlcm1pc3Npb25zIGFuZAovLyBsaW1pdGF0aW9ucyB1bmRlciB0aGUgTGljZW5zZS4KCi8qKgogKiBAZmlsZW92ZXJ2aWV3IEhlbHBlcnMgZm9yIGdvb2dsZS5jb2xhYiBQeXRob24gbW9kdWxlLgogKi8KKGZ1bmN0aW9uKHNjb3BlKSB7CmZ1bmN0aW9uIHNwYW4odGV4dCwgc3R5bGVBdHRyaWJ1dGVzID0ge30pIHsKICBjb25zdCBlbGVtZW50ID0gZG9jdW1lbnQuY3JlYXRlRWxlbWVudCgnc3BhbicpOwogIGVsZW1lbnQudGV4dENvbnRlbnQgPSB0ZXh0OwogIGZvciAoY29uc3Qga2V5IG9mIE9iamVjdC5rZXlzKHN0eWxlQXR0cmlidXRlcykpIHsKICAgIGVsZW1lbnQuc3R5bGVba2V5XSA9IHN0eWxlQXR0cmlidXRlc1trZXldOwogIH0KICByZXR1cm4gZWxlbWVudDsKfQoKLy8gTWF4IG51bWJlciBvZiBieXRlcyB3aGljaCB3aWxsIGJlIHVwbG9hZGVkIGF0IGEgdGltZS4KY29uc3QgTUFYX1BBWUxPQURfU0laRSA9IDEwMCAqIDEwMjQ7CgpmdW5jdGlvbiBfdXBsb2FkRmlsZXMoaW5wdXRJZCwgb3V0cHV0SWQpIHsKICBjb25zdCBzdGVwcyA9IHVwbG9hZEZpbGVzU3RlcChpbnB1dElkLCBvdXRwdXRJZCk7CiAgY29uc3Qgb3V0cHV0RWxlbWVudCA9IGRvY3VtZW50LmdldEVsZW1lbnRCeUlkKG91dHB1dElkKTsKICAvLyBDYWNoZSBzdGVwcyBvbiB0aGUgb3V0cHV0RWxlbWVudCB0byBtYWtlIGl0IGF2YWlsYWJsZSBmb3IgdGhlIG5leHQgY2FsbAogIC8vIHRvIHVwbG9hZEZpbGVzQ29udGludWUgZnJvbSBQeXRob24uCiAgb3V0cHV0RWxlbWVudC5zdGVwcyA9IHN0ZXBzOwoKICByZXR1cm4gX3VwbG9hZEZpbGVzQ29udGludWUob3V0cHV0SWQpOwp9CgovLyBUaGlzIGlzIHJvdWdobHkgYW4gYXN5bmMgZ2VuZXJhdG9yIChub3Qgc3VwcG9ydGVkIGluIHRoZSBicm93c2VyIHlldCksCi8vIHdoZXJlIHRoZXJlIGFyZSBtdWx0aXBsZSBhc3luY2hyb25vdXMgc3RlcHMgYW5kIHRoZSBQeXRob24gc2lkZSBpcyBnb2luZwovLyB0byBwb2xsIGZvciBjb21wbGV0aW9uIG9mIGVhY2ggc3RlcC4KLy8gVGhpcyB1c2VzIGEgUHJvbWlzZSB0byBibG9jayB0aGUgcHl0aG9uIHNpZGUgb24gY29tcGxldGlvbiBvZiBlYWNoIHN0ZXAsCi8vIHRoZW4gcGFzc2VzIHRoZSByZXN1bHQgb2YgdGhlIHByZXZpb3VzIHN0ZXAgYXMgdGhlIGlucHV0IHRvIHRoZSBuZXh0IHN0ZXAuCmZ1bmN0aW9uIF91cGxvYWRGaWxlc0NvbnRpbnVlKG91dHB1dElkKSB7CiAgY29uc3Qgb3V0cHV0RWxlbWVudCA9IGRvY3VtZW50LmdldEVsZW1lbnRCeUlkKG91dHB1dElkKTsKICBjb25zdCBzdGVwcyA9IG91dHB1dEVsZW1lbnQuc3RlcHM7CgogIGNvbnN0IG5leHQgPSBzdGVwcy5uZXh0KG91dHB1dEVsZW1lbnQubGFzdFByb21pc2VWYWx1ZSk7CiAgcmV0dXJuIFByb21pc2UucmVzb2x2ZShuZXh0LnZhbHVlLnByb21pc2UpLnRoZW4oKHZhbHVlKSA9PiB7CiAgICAvLyBDYWNoZSB0aGUgbGFzdCBwcm9taXNlIHZhbHVlIHRvIG1ha2UgaXQgYXZhaWxhYmxlIHRvIHRoZSBuZXh0CiAgICAvLyBzdGVwIG9mIHRoZSBnZW5lcmF0b3IuCiAgICBvdXRwdXRFbGVtZW50Lmxhc3RQcm9taXNlVmFsdWUgPSB2YWx1ZTsKICAgIHJldHVybiBuZXh0LnZhbHVlLnJlc3BvbnNlOwogIH0pOwp9CgovKioKICogR2VuZXJhdG9yIGZ1bmN0aW9uIHdoaWNoIGlzIGNhbGxlZCBiZXR3ZWVuIGVhY2ggYXN5bmMgc3RlcCBvZiB0aGUgdXBsb2FkCiAqIHByb2Nlc3MuCiAqIEBwYXJhbSB7c3RyaW5nfSBpbnB1dElkIEVsZW1lbnQgSUQgb2YgdGhlIGlucHV0IGZpbGUgcGlja2VyIGVsZW1lbnQuCiAqIEBwYXJhbSB7c3RyaW5nfSBvdXRwdXRJZCBFbGVtZW50IElEIG9mIHRoZSBvdXRwdXQgZGlzcGxheS4KICogQHJldHVybiB7IUl0ZXJhYmxlPCFPYmplY3Q+fSBJdGVyYWJsZSBvZiBuZXh0IHN0ZXBzLgogKi8KZnVuY3Rpb24qIHVwbG9hZEZpbGVzU3RlcChpbnB1dElkLCBvdXRwdXRJZCkgewogIGNvbnN0IGlucHV0RWxlbWVudCA9IGRvY3VtZW50LmdldEVsZW1lbnRCeUlkKGlucHV0SWQpOwogIGlucHV0RWxlbWVudC5kaXNhYmxlZCA9IGZhbHNlOwoKICBjb25zdCBvdXRwdXRFbGVtZW50ID0gZG9jdW1lbnQuZ2V0RWxlbWVudEJ5SWQob3V0cHV0SWQpOwogIG91dHB1dEVsZW1lbnQuaW5uZXJIVE1MID0gJyc7CgogIGNvbnN0IHBpY2tlZFByb21pc2UgPSBuZXcgUHJvbWlzZSgocmVzb2x2ZSkgPT4gewogICAgaW5wdXRFbGVtZW50LmFkZEV2ZW50TGlzdGVuZXIoJ2NoYW5nZScsIChlKSA9PiB7CiAgICAgIHJlc29sdmUoZS50YXJnZXQuZmlsZXMpOwogICAgfSk7CiAgfSk7CgogIGNvbnN0IGNhbmNlbCA9IGRvY3VtZW50LmNyZWF0ZUVsZW1lbnQoJ2J1dHRvbicpOwogIGlucHV0RWxlbWVudC5wYXJlbnRFbGVtZW50LmFwcGVuZENoaWxkKGNhbmNlbCk7CiAgY2FuY2VsLnRleHRDb250ZW50ID0gJ0NhbmNlbCB1cGxvYWQnOwogIGNvbnN0IGNhbmNlbFByb21pc2UgPSBuZXcgUHJvbWlzZSgocmVzb2x2ZSkgPT4gewogICAgY2FuY2VsLm9uY2xpY2sgPSAoKSA9PiB7CiAgICAgIHJlc29sdmUobnVsbCk7CiAgICB9OwogIH0pOwoKICAvLyBXYWl0IGZvciB0aGUgdXNlciB0byBwaWNrIHRoZSBmaWxlcy4KICBjb25zdCBmaWxlcyA9IHlpZWxkIHsKICAgIHByb21pc2U6IFByb21pc2UucmFjZShbcGlja2VkUHJvbWlzZSwgY2FuY2VsUHJvbWlzZV0pLAogICAgcmVzcG9uc2U6IHsKICAgICAgYWN0aW9uOiAnc3RhcnRpbmcnLAogICAgfQogIH07CgogIGNhbmNlbC5yZW1vdmUoKTsKCiAgLy8gRGlzYWJsZSB0aGUgaW5wdXQgZWxlbWVudCBzaW5jZSBmdXJ0aGVyIHBpY2tzIGFyZSBub3QgYWxsb3dlZC4KICBpbnB1dEVsZW1lbnQuZGlzYWJsZWQgPSB0cnVlOwoKICBpZiAoIWZpbGVzKSB7CiAgICByZXR1cm4gewogICAgICByZXNwb25zZTogewogICAgICAgIGFjdGlvbjogJ2NvbXBsZXRlJywKICAgICAgfQogICAgfTsKICB9CgogIGZvciAoY29uc3QgZmlsZSBvZiBmaWxlcykgewogICAgY29uc3QgbGkgPSBkb2N1bWVudC5jcmVhdGVFbGVtZW50KCdsaScpOwogICAgbGkuYXBwZW5kKHNwYW4oZmlsZS5uYW1lLCB7Zm9udFdlaWdodDogJ2JvbGQnfSkpOwogICAgbGkuYXBwZW5kKHNwYW4oCiAgICAgICAgYCgke2ZpbGUudHlwZSB8fCAnbi9hJ30pIC0gJHtmaWxlLnNpemV9IGJ5dGVzLCBgICsKICAgICAgICBgbGFzdCBtb2RpZmllZDogJHsKICAgICAgICAgICAgZmlsZS5sYXN0TW9kaWZpZWREYXRlID8gZmlsZS5sYXN0TW9kaWZpZWREYXRlLnRvTG9jYWxlRGF0ZVN0cmluZygpIDoKICAgICAgICAgICAgICAgICAgICAgICAgICAgICAgICAgICAgJ24vYSd9IC0gYCkpOwogICAgY29uc3QgcGVyY2VudCA9IHNwYW4oJzAlIGRvbmUnKTsKICAgIGxpLmFwcGVuZENoaWxkKHBlcmNlbnQpOwoKICAgIG91dHB1dEVsZW1lbnQuYXBwZW5kQ2hpbGQobGkpOwoKICAgIGNvbnN0IGZpbGVEYXRhUHJvbWlzZSA9IG5ldyBQcm9taXNlKChyZXNvbHZlKSA9PiB7CiAgICAgIGNvbnN0IHJlYWRlciA9IG5ldyBGaWxlUmVhZGVyKCk7CiAgICAgIHJlYWRlci5vbmxvYWQgPSAoZSkgPT4gewogICAgICAgIHJlc29sdmUoZS50YXJnZXQucmVzdWx0KTsKICAgICAgfTsKICAgICAgcmVhZGVyLnJlYWRBc0FycmF5QnVmZmVyKGZpbGUpOwogICAgfSk7CiAgICAvLyBXYWl0IGZvciB0aGUgZGF0YSB0byBiZSByZWFkeS4KICAgIGxldCBmaWxlRGF0YSA9IHlpZWxkIHsKICAgICAgcHJvbWlzZTogZmlsZURhdGFQcm9taXNlLAogICAgICByZXNwb25zZTogewogICAgICAgIGFjdGlvbjogJ2NvbnRpbnVlJywKICAgICAgfQogICAgfTsKCiAgICAvLyBVc2UgYSBjaHVua2VkIHNlbmRpbmcgdG8gYXZvaWQgbWVzc2FnZSBzaXplIGxpbWl0cy4gU2VlIGIvNjIxMTU2NjAuCiAgICBsZXQgcG9zaXRpb24gPSAwOwogICAgZG8gewogICAgICBjb25zdCBsZW5ndGggPSBNYXRoLm1pbihmaWxlRGF0YS5ieXRlTGVuZ3RoIC0gcG9zaXRpb24sIE1BWF9QQVlMT0FEX1NJWkUpOwogICAgICBjb25zdCBjaHVuayA9IG5ldyBVaW50OEFycmF5KGZpbGVEYXRhLCBwb3NpdGlvbiwgbGVuZ3RoKTsKICAgICAgcG9zaXRpb24gKz0gbGVuZ3RoOwoKICAgICAgY29uc3QgYmFzZTY0ID0gYnRvYShTdHJpbmcuZnJvbUNoYXJDb2RlLmFwcGx5KG51bGwsIGNodW5rKSk7CiAgICAgIHlpZWxkIHsKICAgICAgICByZXNwb25zZTogewogICAgICAgICAgYWN0aW9uOiAnYXBwZW5kJywKICAgICAgICAgIGZpbGU6IGZpbGUubmFtZSwKICAgICAgICAgIGRhdGE6IGJhc2U2NCwKICAgICAgICB9LAogICAgICB9OwoKICAgICAgbGV0IHBlcmNlbnREb25lID0gZmlsZURhdGEuYnl0ZUxlbmd0aCA9PT0gMCA/CiAgICAgICAgICAxMDAgOgogICAgICAgICAgTWF0aC5yb3VuZCgocG9zaXRpb24gLyBmaWxlRGF0YS5ieXRlTGVuZ3RoKSAqIDEwMCk7CiAgICAgIHBlcmNlbnQudGV4dENvbnRlbnQgPSBgJHtwZXJjZW50RG9uZX0lIGRvbmVgOwoKICAgIH0gd2hpbGUgKHBvc2l0aW9uIDwgZmlsZURhdGEuYnl0ZUxlbmd0aCk7CiAgfQoKICAvLyBBbGwgZG9uZS4KICB5aWVsZCB7CiAgICByZXNwb25zZTogewogICAgICBhY3Rpb246ICdjb21wbGV0ZScsCiAgICB9CiAgfTsKfQoKc2NvcGUuZ29vZ2xlID0gc2NvcGUuZ29vZ2xlIHx8IHt9OwpzY29wZS5nb29nbGUuY29sYWIgPSBzY29wZS5nb29nbGUuY29sYWIgfHwge307CnNjb3BlLmdvb2dsZS5jb2xhYi5fZmlsZXMgPSB7CiAgX3VwbG9hZEZpbGVzLAogIF91cGxvYWRGaWxlc0NvbnRpbnVlLAp9Owp9KShzZWxmKTsK",
       "headers": [
        [
         "content-type",
         "application/javascript"
        ]
       ],
       "ok": true,
       "status": 200,
       "status_text": "OK"
      }
     }
    },
    "id": "GcbgnooHwIGh",
    "outputId": "dc30ce27-d01c-4953-cdb7-9d5fe599ad6d"
   },
   "outputs": [
    {
     "name": "stdout",
     "output_type": "stream",
     "text": [
      "\n",
      "Number of sequences found: 210.\n",
      "\n",
      "Annotation file correctly loaded.\n",
      "9 annotations found: ['proteins_id', 'Species', 'Kingdom', 'Family', 'Color_eukaryota', 'Domain', 'Kingdom2', 'Phylum', 'Class'].\n"
     ]
    }
   ],
   "source": [
    "# OPTIONS =================================================\n",
    "#MSA in mfasta format OR embedding path (the other must be none)\n",
    "mfasta = 'examples/thioredoxins/thioredoxins.mfasta'\n",
    "embedding_path = None #'embeddings/ankh_base_thioredoxins/'\n",
    "\n",
    "#Annotation file (.csv) or UniProt ID list. (Emtpy strings for no annotations)\n",
    "path_annotation_csv = \"examples/thioredoxins/thioredoxin_annotation.csv\"   # Path or \"\"\n",
    "# OR\n",
    "path_uniprot_list = \"\"   # Path or \"\"\n",
    "#==========================================================\n",
    "\n",
    "\n",
    "#Check files\n",
    "#mfasta\n",
    "nb_seq = 0\n",
    "if mfasta is not None and embedding_path is not None:\n",
    "    print('You cannot import both an mfasta and an embedding folder ! Choose one and leave the other as None.')\n",
    "elif mfasta is not None:\n",
    "    if os.path.isfile(mfasta):\n",
    "        with open(mfasta, \"r\") as f_in:\n",
    "            for line in f_in:\n",
    "                if line[0] == \">\":\n",
    "                    nb_seq += 1\n",
    "        print(f\"\\nNumber of sequences found: {nb_seq}.\")\n",
    "    else:\n",
    "        print(f\"File {mfasta} not found.\")\n",
    "elif embedding_path is not None:\n",
    "    if os.path.exists(embedding_path):\n",
    "        nb_seq = len([s for s in os.listdir(embedding_path) if '.pt' in s])\n",
    "        print(f\"\\nNumber of sequences found: {nb_seq}.\")\n",
    "    else:\n",
    "        print(f\"Folder {embedding_path} not found.\")\n",
    "else:\n",
    "    print('Neither a valid mfasta or embedding folder has been provided')\n",
    "\n",
    "#Check that only one path is selected\n",
    "if path_annotation_csv and path_uniprot_list:\n",
    "    raise ValueError(\"Use only one file path (path_annotation_csv OR path_uniprot_list).\")\n",
    "\n",
    "#Check that only one path is selected\n",
    "if path_annotation_csv and path_uniprot_list:\n",
    "    raise ValueError(\"Use only one file path (path_annotation_csv OR path_uniprot_list).\")\n",
    "\n",
    "if path_annotation_csv:\n",
    "    if os.path.isfile(path_annotation_csv):\n",
    "        try:\n",
    "            df_annotation = pd.read_csv(path_annotation_csv)\n",
    "        except:\n",
    "            raise ValueError(\"Annotation file is not in .csv format.\")\n",
    "        else:\n",
    "            if len(df_annotation) != nb_seq:\n",
    "                raise ValueError(\"Annotation file doesn't match the .mfasta file length.\")\n",
    "\n",
    "        #Add id column\n",
    "        if \"proteins_id\" not in df_annotation.columns:\n",
    "            df_annotation.insert(0, \"proteins_id\", range(len(df_annotation)))\n",
    "        path_annotation = path_annotation_csv\n",
    "            \n",
    "        print(\"\\nAnnotation file correctly loaded.\")\n",
    "        annotation_names = list(df_annotation.columns)\n",
    "        print(f\"{len(annotation_names)} annotations found: {annotation_names}.\")\n",
    "    else:\n",
    "        print(f\"File {path_annotation_csv} not found.\")\n",
    "\n",
    "elif path_uniprot_list:\n",
    "    if os.path.isfile(path_uniprot_list):\n",
    "        try:\n",
    "            UnP_ids = np.genfromtxt(path_uniprot_list, dtype=\"str\")\n",
    "        except:\n",
    "            raise ValueError(\"UniProt IDs file is not in a valid format.\")\n",
    "        else:\n",
    "            if len(UnP_ids) != nb_seq:\n",
    "                raise ValueError(\"UniProt IDs file doesn't match the .mfasta file length.\")     \n",
    "\n",
    "            #Split UniProtKB and UniParc IDs\n",
    "            uniparc_ids = []\n",
    "            uniprot_ids = []\n",
    "            for unp in UnP_ids:\n",
    "                if len(unp) == 13 and unp[:2] == \"UP\":\n",
    "                    uniparc_ids.append(unp)\n",
    "                else:\n",
    "                    uniprot_ids.append(unp)\n",
    "\n",
    "            #Fetch UniProtKB annotations\n",
    "            job_id = submit_id_mapping(\n",
    "                from_db=\"UniProtKB_AC-ID\", to_db=\"UniParc\", ids=uniprot_ids\n",
    "            )\n",
    "\n",
    "            if check_id_mapping_results_ready(job_id):\n",
    "                link = get_id_mapping_results_link(job_id)\n",
    "                results = get_id_mapping_results_search(link)\n",
    "\n",
    "            #Fetch UniParc annotations\n",
    "            job_id = submit_id_mapping(\n",
    "                from_db=\"UniParc\", to_db=\"UniParc\", ids=uniparc_ids\n",
    "            )\n",
    "\n",
    "            if check_id_mapping_results_ready(job_id):\n",
    "                link = get_id_mapping_results_link(job_id)\n",
    "                results2 = get_id_mapping_results_search(link)\n",
    "\n",
    "            #Create annotation dataframe\n",
    "            df_annotation = pd.DataFrame(UnP_ids, columns=[\"UnP_ID\"])\n",
    "            df_annotation[[\"organism\", \"proteinName\", \"taxonId\", \"species\", \"genus\", \\\n",
    "                           \"family\", \"order\", \"class\", \"phylum\", \"clade\", \"superkingdom\"]] = \"\"\n",
    "\n",
    "            #Fill the annotation DataFrame\n",
    "            for dict_res in results[\"results\"] + results2[\"results\"]:\n",
    "                try:\n",
    "                    unp = dict_res[\"from\"]\n",
    "                    prot_name = dict_res[\"to\"][\"uniParcCrossReferences\"][0][\"proteinName\"]\n",
    "                    df_annotation.loc[df_annotation[\"UnP_ID\"] == unp, \"proteinName\"] = prot_name\n",
    "                    scientific_name = dict_res[\"to\"][\"uniParcCrossReferences\"][0][\"organism\"][\"scientificName\"]\n",
    "                    taxid = dict_res[\"to\"][\"uniParcCrossReferences\"][0][\"organism\"][\"taxonId\"]\n",
    "                    df_annotation.loc[df_annotation[\"UnP_ID\"] == unp, \"organism\"] = scientific_name\n",
    "                    df_annotation.loc[df_annotation[\"UnP_ID\"] == unp, \"taxonId\"] = taxid\n",
    "                except KeyError:\n",
    "                    continue\n",
    "\n",
    "            #Add lineage from NCBI Taxonomist\n",
    "            taxon_ids = df_annotation.loc[df_annotation[\"taxonId\"].notnull(), 'taxonId'].to_numpy()\n",
    "            taxon_ids = list(set(taxon_ids))\n",
    "            taxon_ids = list(map(str, taxon_ids))\n",
    "            bash_command = f\"ncbi-taxonomist resolve -t {','.join(taxon_ids)}\"\n",
    "            list_taxon = subprocess.run(bash_command, shell=True, capture_output=True, text=True).stdout.strip().split(\"\\n\")\n",
    "\n",
    "            if list_taxon != [\"\"]:\n",
    "                for taxon in list_taxon:\n",
    "                    jsonString = taxon\n",
    "                    taxon_dict = json.loads(jsonString)\n",
    "                    query = taxon_dict[\"query\"]\n",
    "                    for lineage in taxon_dict[\"lineage\"]:\n",
    "                        rank = lineage[\"rank\"]\n",
    "                        if rank in [\"species\", \"genus\", \"family\", \"order\", \"class\", \"phylum\", \"clade\", \"superkingdom\"]:\n",
    "                            name = lineage[\"name\"]\n",
    "                            df_annotation.loc[df_annotation[\"taxonId\"] == int(query), rank] = name\n",
    "\n",
    "            #Add id column\n",
    "            if \"proteins_id\" not in df_annotation.columns:\n",
    "                df_annotation.insert(0, \"proteins_id\", range(len(df_annotation)))\n",
    "\n",
    "            #Save annotation to csv\n",
    "            path_annotation = \"auto_annot.csv\"\n",
    "            df_annotation.to_csv(path_annotation, index=False)\n",
    "\n",
    "            print(\"\\nAnnotation correctly fetched.\")\n",
    "            annotation_names = list(df_annotation.columns)\n",
    "            print(f\"{len(annotation_names)} annotations found: {annotation_names}.\")\n",
    "    else:\n",
    "        print(f\"File {path_uniprot_list} not found.\")\n",
    "else:\n",
    "    print(\"No annotation file selected.\")\n",
    "    path_annotation = \"\""
   ]
  },
  {
   "cell_type": "markdown",
   "metadata": {
    "id": "_H2vnIt_3kUz"
   },
   "source": [
    "# Data preparation\n",
    "Here we clean the input .mfasta alignment and translate each sequence to a vector ready for projection."
   ]
  },
  {
   "cell_type": "markdown",
   "metadata": {},
   "source": [
    "### Parameters for data preparation"
   ]
  },
  {
   "cell_type": "code",
   "execution_count": null,
   "metadata": {
    "cellView": "form",
    "id": "9hLq_MgX6hFC"
   },
   "outputs": [],
   "source": [
    "# OPTIONS =================================================\n",
    "# Job name\n",
    "#Name for the output folder\n",
    "out_name = \"thioredoxins_data\"\n",
    "#----------------------------------------------------------\n",
    "# Threshold for filtering gapped positions\n",
    "#Positions with proportion of gaps above the given threshold are removed from the alignment.\n",
    "#If your alignment is very gapped, you may want to increase this value.\n",
    "gapth = 0.9 \n",
    "#==========================================================\n",
    "\n",
    "\n",
    "# Run data preparation\n",
    "#Data preparation consists in `.mfasta` cleaning according to a gap threshold and\n",
    "#translation of each sequence to the PSSM profile.\n",
    "prep_parameters = \"scripts/prepare_data\" + \" \" + mfasta + \" \" + out_name + \" \" + out_name + \" \" + str(gapth)\n",
    "bash_projection = \"bash scripts/prepare_data/create_projection.sh \" + prep_parameters\n",
    "!{bash_projection}"
   ]
  },
  {
   "cell_type": "markdown",
   "metadata": {
    "id": "Dv0lg4Jn-dfG"
   },
   "source": [
    "# Projection"
   ]
  },
  {
   "cell_type": "markdown",
   "metadata": {},
   "source": [
    "### Projection parameters (no embeddings)"
   ]
  },
  {
   "cell_type": "code",
   "execution_count": 8,
   "metadata": {},
   "outputs": [
    {
     "name": "stdout",
     "output_type": "stream",
     "text": [
      "CUDA: False\n",
      "Random seed set as 4\n",
      "210 proteins found in folder examples/thioredoxins/thioredoxins_data/fasta0.9/.\n",
      "No root detected\n",
      "142.aamtx\n",
      "Prepare data: tensor construction\n",
      "Prepare data: successfully terminated\n",
      "labels: ['142' '107' '55' '10' '206' '95' '182' '68' '71' '34' '166' '123' '164'\n",
      " '121' '73' '36' '199' '159' '138' '180' '97' '204' '57' '12' '140' '105'\n",
      " '184' '93' '179' '8' '53' '16' '144' '101' '200' '160' '125' '77' '32'\n",
      " '118' '48' '75' '30' '162' '127' '88' '202' '146' '103' '51' '14' '29'\n",
      " '91' '186' '158' '120' '165' '37' '72' '198' '205' '13' '56' '104' '141'\n",
      " '139' '181' '96' '94' '183' '69' '106' '143' '11' '54' '207' '35' '70'\n",
      " '122' '167' '31' '74' '126' '163' '89' '49' '28' '90' '187' '203' '102'\n",
      " '147' '15' '50' '17' '52' '100' '145' '201' '9' '185' '92' '178' '119'\n",
      " '124' '161' '33' '76' '190' '87' '128' '47' '150' '115' '189' '174' '131'\n",
      " '63' '26' '149' '5' '19' '7' '61' '24' '176' '133' '152' '117' '45' '78'\n",
      " '85' '192' '156' '113' '41' '81' '196' '39' '3' '58' '98' '65' '20' '172'\n",
      " '137' '170' '135' '67' '22' '1' '209' '108' '169' '194' '83' '210' '43'\n",
      " '154' '111' '25' '60' '132' '177' '6' '18' '79' '84' '193' '116' '153'\n",
      " '44' '46' '114' '151' '191' '86' '129' '4' '148' '188' '130' '175' '27'\n",
      " '62' '208' '109' '134' '171' '23' '66' '42' '110' '155' '168' '195' '82'\n",
      " '80' '197' '38' '112' '157' '40' '99' '21' '64' '136' '173' '59' '2']\n",
      "features CSV file saved to thioredoxins_data/with_mfasta/features.csv\n",
      "labels CSV file saved to thioredoxins_data/with_mfasta/labels.csv\n",
      "KNN matrix CSV file saved to thioredoxins_data/with_mfasta/KNN_matrix.csv\n",
      "Computing laplacian...\n",
      "Laplacian computed in 0.19 sec\n",
      "Computing RFA...\n",
      "RFA computed in 0.01 sec\n",
      "tensor([[2.5803e-01, 4.1421e-03, 1.4061e-03,  ..., 3.4120e-03, 2.8914e-04,\n",
      "         2.8874e-03],\n",
      "        [4.1421e-03, 2.4334e-01, 5.2293e-04,  ..., 4.6924e-03, 3.9155e-04,\n",
      "         3.5482e-03],\n",
      "        [1.4061e-03, 5.2293e-04, 2.8897e-01,  ..., 4.8599e-04, 3.2213e-05,\n",
      "         4.2422e-04],\n",
      "        ...,\n",
      "        [3.4120e-03, 4.6924e-03, 4.8599e-04,  ..., 2.3161e-01, 5.4128e-04,\n",
      "         5.0528e-03],\n",
      "        [2.8914e-04, 3.9155e-04, 3.2213e-05,  ..., 5.4128e-04, 2.5906e-01,\n",
      "         8.7536e-04],\n",
      "        [2.8874e-03, 3.5482e-03, 4.2422e-04,  ..., 5.0528e-03, 8.7536e-04,\n",
      "         5.4804e-02]])\n",
      "RFA matrix CSV file saved to thioredoxins_data/with_mfasta/RFA_matrix.csv\n",
      "Starting training...\n",
      "loss: 0.76970: 100%|████████████████████████| 1000/1000 [00:32<00:00, 30.85it/s]\n",
      "PM computed in 32.41 sec\n",
      "\n",
      "loss = 7.697e-01\n",
      "time = 0.561 min\n"
     ]
    }
   ],
   "source": [
    "### Projection parameters (no embeddings)\n",
    "# EMBEDDING SELECTION\n",
    "in_name = 'examples/thioredoxins/thioredoxins_data/fasta0.9/'  # Input here the name of folder with the fasta files\n",
    "mid_output = 'thioredoxins_data/with_mfasta/'  # Input name of desired folder for intermediary results\n",
    "out_name = 'results/thioredoxins/with_mfasta/' # Input desired name of output folder\n",
    "\n",
    "# OPTIONS =================================================\n",
    "#Here you control different parameters of Poincaré maps.\n",
    "#In our computational experiments the best results were achieved for the following values provided by default.\n",
    "#The impact of different parameters is analyzed in the original paper [1].\n",
    "knn = 5\n",
    "gamma = 2\n",
    "sigma = 1\n",
    "cospca = 0\n",
    "batchs = 4\n",
    "epochs = 1000\n",
    "seed = 4\n",
    "#==========================================================\n",
    "\n",
    "\n",
    "# Building projection and preparing data for visualization\n",
    "#This step creates a projection of encoded sequences to a Poincaré disk.\n",
    "# bash_pm = \"python3 \"+ \"scripts/build_poincare_map/main.py --input_path \" + out_name + \"/fasta\" + str(gapth) + \" --output_path \" + out_name + \"/projections/ --gamma \"+ str(gamma) +\" --pca \"+ str(cospca) + \" --epochs \"+ str(epochs) +\" --seed \"+ str(seed) + \" --knn \" + str(knn)\n",
    "# !{bash_pm}\n",
    "bash_pm = \"python \"+ \"scripts/build_poincare_map/main.py --input_path \" + in_name + \\\n",
    "          \" --output_path \" + out_name + \" --plm_embedding False\" +  \" --matrices_output_path \" + mid_output \\\n",
    "          + \" --gamma \"+ str(gamma) +\" --pca \"+ str(cospca) + \" --epochs \"+ str(epochs) +\" --seed \"\\\n",
    "          + str(seed) + \" --knn \" + str(knn)\n",
    "!{bash_pm}"
   ]
  },
  {
   "cell_type": "markdown",
   "metadata": {},
   "source": [
    "### Projection parameters (w embeddings)"
   ]
  },
  {
   "cell_type": "code",
   "execution_count": 23,
   "metadata": {},
   "outputs": [
    {
     "name": "stdout",
     "output_type": "stream",
     "text": [
      "CUDA: False\n",
      "Random seed set as 4\n",
      "210 proteins found in folder embeddings/ankh_base_thioredoxins/.\n",
      "['19.pt', '48.pt', '115.pt', '144.pt', '183.pt', '170.pt', '121.pt', '131.pt', '160.pt', '202.pt', '193.pt', '154.pt', '105.pt', '58.pt', '29.pt', '78.pt', '187.pt', '125.pt', '174.pt', '140.pt', '111.pt', '101.pt', '150.pt', '164.pt', '135.pt', '197.pt', '206.pt', '68.pt', '39.pt', '4.pt', '28.pt', '79.pt', '186.pt', '124.pt', '175.pt', '141.pt', '110.pt', '100.pt', '151.pt', '165.pt', '134.pt', '207.pt', '196.pt', '69.pt', '38.pt', '5.pt', '18.pt', '49.pt', '114.pt', '145.pt', '182.pt', '171.pt', '120.pt', '130.pt', '161.pt', '192.pt', '203.pt', '155.pt', '104.pt', '59.pt', '1.pt', '189.pt', '76.pt', '27.pt', '85.pt', '13.pt', '42.pt', '52.pt', '95.pt', '37.pt', '66.pt', '199.pt', '208.pt', '46.pt', '17.pt', '23.pt', '72.pt', '81.pt', '91.pt', '62.pt', '33.pt', '56.pt', '47.pt', '16.pt', '22.pt', '73.pt', '80.pt', '90.pt', '63.pt', '32.pt', '57.pt', '188.pt', '77.pt', '26.pt', '84.pt', '12.pt', '43.pt', '53.pt', '94.pt', '36.pt', '67.pt', '209.pt', '198.pt', '119.pt', '148.pt', '15.pt', '44.pt', '83.pt', '70.pt', '21.pt', '31.pt', '60.pt', '93.pt', '54.pt', '158.pt', '109.pt', '129.pt', '178.pt', '87.pt', '25.pt', '74.pt', '40.pt', '11.pt', '50.pt', '64.pt', '35.pt', '8.pt', '97.pt', '168.pt', '139.pt', '128.pt', '179.pt', '86.pt', '24.pt', '75.pt', '41.pt', '10.pt', '51.pt', '65.pt', '34.pt', '9.pt', '96.pt', '169.pt', '138.pt', '118.pt', '149.pt', '14.pt', '45.pt', '82.pt', '71.pt', '20.pt', '30.pt', '61.pt', '92.pt', '55.pt', '159.pt', '108.pt', '89.pt', '176.pt', '127.pt', '185.pt', '113.pt', '142.pt', '152.pt', '103.pt', '195.pt', '204.pt', '137.pt', '166.pt', '99.pt', '6.pt', '146.pt', '117.pt', '123.pt', '172.pt', '181.pt', '210.pt', '200.pt', '191.pt', '162.pt', '133.pt', '107.pt', '156.pt', '2.pt', '147.pt', '116.pt', '122.pt', '173.pt', '180.pt', '190.pt', '201.pt', '163.pt', '132.pt', '106.pt', '157.pt', '3.pt', '88.pt', '177.pt', '126.pt', '184.pt', '112.pt', '143.pt', '153.pt', '102.pt', '205.pt', '194.pt', '136.pt', '167.pt', '98.pt', '7.pt']\n",
      "19.pt\n",
      "Prepare data: tensor construction\n",
      "Prepare data: successfully terminated\n",
      "labels: ['19' '48' '115' '144' '183' '170' '121' '131' '160' '202' '193' '154'\n",
      " '105' '58' '29' '78' '187' '125' '174' '140' '111' '101' '150' '164'\n",
      " '135' '197' '206' '68' '39' '4' '28' '79' '186' '124' '175' '141' '110'\n",
      " '100' '151' '165' '134' '207' '196' '69' '38' '5' '18' '49' '114' '145'\n",
      " '182' '171' '120' '130' '161' '192' '203' '155' '104' '59' '1' '189' '76'\n",
      " '27' '85' '13' '42' '52' '95' '37' '66' '199' '208' '46' '17' '23' '72'\n",
      " '81' '91' '62' '33' '56' '47' '16' '22' '73' '80' '90' '63' '32' '57'\n",
      " '188' '77' '26' '84' '12' '43' '53' '94' '36' '67' '209' '198' '119'\n",
      " '148' '15' '44' '83' '70' '21' '31' '60' '93' '54' '158' '109' '129'\n",
      " '178' '87' '25' '74' '40' '11' '50' '64' '35' '8' '97' '168' '139' '128'\n",
      " '179' '86' '24' '75' '41' '10' '51' '65' '34' '9' '96' '169' '138' '118'\n",
      " '149' '14' '45' '82' '71' '20' '30' '61' '92' '55' '159' '108' '89' '176'\n",
      " '127' '185' '113' '142' '152' '103' '195' '204' '137' '166' '99' '6'\n",
      " '146' '117' '123' '172' '181' '210' '200' '191' '162' '133' '107' '156'\n",
      " '2' '147' '116' '122' '173' '180' '190' '201' '163' '132' '106' '157' '3'\n",
      " '88' '177' '126' '184' '112' '143' '153' '102' '205' '194' '136' '167'\n",
      " '98' '7']\n",
      "features CSV file saved to thioredoxins_data/with_plm_embeddings/features.csv\n",
      "labels CSV file saved to thioredoxins_data/with_plm_embeddings/labels.csv\n",
      "KNN matrix CSV file saved to thioredoxins_data/with_plm_embeddings/KNN_matrix.csv\n",
      "Computing laplacian...\n",
      "Laplacian computed in 0.16 sec\n",
      "Computing RFA...\n",
      "RFA computed in 0.02 sec\n",
      "tensor([[2.6127e-01, 2.7434e-06, 1.9702e-04,  ..., 1.4166e-04, 2.6363e-04,\n",
      "         4.4500e-07],\n",
      "        [2.7434e-06, 1.1734e-01, 2.5248e-04,  ..., 1.2875e-04, 2.3900e-04,\n",
      "         4.6445e-03],\n",
      "        [1.9702e-04, 2.5248e-04, 2.0201e-01,  ..., 1.9064e-03, 9.2309e-03,\n",
      "         4.0954e-05],\n",
      "        ...,\n",
      "        [1.4166e-04, 1.2875e-04, 1.9064e-03,  ..., 1.7227e-01, 2.6693e-03,\n",
      "         2.0884e-05],\n",
      "        [2.6363e-04, 2.3900e-04, 9.2309e-03,  ..., 2.6693e-03, 1.0537e-01,\n",
      "         3.8767e-05],\n",
      "        [4.4500e-07, 4.6445e-03, 4.0954e-05,  ..., 2.0884e-05, 3.8767e-05,\n",
      "         1.7909e-01]])\n",
      "RFA matrix CSV file saved to thioredoxins_data/with_plm_embeddings/RFA_matrix.csv\n",
      "Starting training...\n",
      "loss: 0.44016: 100%|████████████████████████| 1000/1000 [00:33<00:00, 29.66it/s]\n",
      "PM computed in 33.71 sec\n",
      "\n",
      "loss = 4.402e-01\n",
      "time = 0.576 min\n"
     ]
    }
   ],
   "source": [
    "### Projection parameters (with embeddings)\n",
    "# EMBEDDING SELECTION\n",
    "in_name = 'embeddings/ankh_base_thioredoxins/'  # Input here the name of folder with the embeddings\n",
    "mid_output = 'thioredoxins_data/with_plm_embeddings/'  # Input name of desired folder for intermediary results\n",
    "out_name = 'results/thioredoxins/with_plm_embeddings/' # Input desired name of output folder\n",
    "\n",
    "\n",
    "# OPTIONS =================================================\n",
    "#Here you control different parameters of Poincaré maps.\n",
    "#In our computational experiments the best results were achieved for the following values provided by default.\n",
    "#The impact of different parameters is analyzed in the original paper [1].\n",
    "knn = 5\n",
    "gamma = 4\n",
    "sigma = 1\n",
    "cospca = 0\n",
    "batchs = 4\n",
    "epochs = 1000\n",
    "seed = 4\n",
    "#==========================================================\n",
    "\n",
    "\n",
    "# Building projection and preparing data for visualization\n",
    "#This step creates a projection of encoded sequences to a Poincaré disk.\n",
    "bash_pm = \"python \"+ \"scripts/build_poincare_map/main.py --input_path \" + in_name + \\\n",
    "          \" --output_path \" + out_name + \" --plm_embedding True\" +  \" --matrices_output_path \" + mid_output +\\\n",
    "          \" --distlocal minkowski\" + \" --gamma \"+ str(gamma) +\" --pca \"+ str(cospca) + \" --epochs \"+ str(epochs) +\" --seed \"\\\n",
    "          + str(seed) + \" --knn \" + str(knn)\n",
    "!{bash_pm}"
   ]
  },
  {
   "cell_type": "markdown",
   "metadata": {
    "id": "gRxHHfjX7CHF"
   },
   "source": [
    "# Projection visualization"
   ]
  },
  {
   "cell_type": "markdown",
   "metadata": {},
   "source": [
    "### Prepare data for visualization"
   ]
  },
  {
   "cell_type": "code",
   "execution_count": 5,
   "metadata": {
    "cellView": "form",
    "colab": {
     "base_uri": "https://localhost:8080/"
    },
    "id": "A2I17cpYXGoB",
    "outputId": "a1b01a51-2182-4f97-a653-eedc42405a80"
   },
   "outputs": [
    {
     "name": "stdout",
     "output_type": "stream",
     "text": [
      "          pm1       pm2  proteins_id\n",
      "0    0.318369 -0.309939            1\n",
      "1    0.317883 -0.304123            2\n",
      "2    0.317367 -0.293284            3\n",
      "3    0.321258 -0.202937            4\n",
      "4   -0.179831 -0.897073            5\n",
      "..        ...       ...          ...\n",
      "205 -0.286423  0.891813          206\n",
      "206 -0.273210  0.899974          207\n",
      "207 -0.275643  0.892037          208\n",
      "208 -0.281756  0.881406          209\n",
      "209 -0.282999  0.899979          210\n",
      "\n",
      "[210 rows x 3 columns]\n",
      "9 annotations found: ['proteins_id', 'Species', 'Kingdom', 'Family', 'Color_eukaryota', 'Domain', 'Kingdom2', 'Phylum', 'Class'].\n"
     ]
    }
   ],
   "source": [
    "# Prepare data for visualization\n",
    "#Check that an annotation file was provided. Create a dummy one instead\n",
    "if not path_annotation:\n",
    "    df_annotation = pd.DataFrame(list(zip(list(range(1,nb_seq+1)), np.full(nb_seq, \"-\", dtype=object))), columns=[\"id\", \"default\"])\n",
    "    df_annotation.to_csv(\"dummy_annotation.csv\", index=False)\n",
    "    path_annotation = \"dummy_annotation.csv\"\n",
    "    annotation_names = [\"proteins_id\"]\n",
    "\n",
    "path_embedding = f\"{out_name}/PM{knn:1.0f}sigma={sigma:2.2f}gamma={gamma:2.2f}cosinepca={cospca:1.0f}_seed{seed:1.0f}.csv\"\n",
    "df_embedding = read_embeddings(path_embedding, path_annotation, withroot=False)\n",
    "\n",
    "#Here are different labels found in your annotation file (if one uploaded):\n",
    "print(f\"{len(annotation_names)} annotations found: {annotation_names}.\")"
   ]
  },
  {
   "cell_type": "markdown",
   "metadata": {},
   "source": [
    "### Create interactive plot"
   ]
  },
  {
   "cell_type": "code",
   "execution_count": 6,
   "metadata": {},
   "outputs": [],
   "source": [
    "# Construction of custom color palette \n",
    "# class species from thioredoxin annotation file into different kingdom \n",
    "bacteria_specie = [\"Bacteria\", \"LBCA\", \"LGPCA\",  \"LPBCA\", \"Salmonella\", \"Shigella\", \"Escherichia\", \"Acidobacteria\", \"Deinococcus\", \"Thermus\", \n",
    "                    \"Solibacter\", \"Helicobacter\", \"Geobacter\", \"Wolinella\", \"Neisseria\", \"Bordetella\", \"Brucella\", \"Rickettsia\", \"Campylobacter\",\n",
    "                   \"Thiobacillus\", \"Burkholderia\", \"Vibrio\",  \"Desulfovibrio\", \"Bdellovibrio\", \"Yersinia\", \"Agrobacterium\", \"Actinobacteria\", \"Thermobifida\",\n",
    "                   \"Flavobacterium\",\"Geobacterium\", \"Chloroflexus\", \"Aquifex\", \"Enterococcus\",\"Chlamydia\", \"Chlamydophila\", \"Listeria\", \"Lactobacillus\",\n",
    "                   \"Geobacillus\",  \"Chlorobium\",  \"Rhodopirrelula\", \"Clostridium\", \"Hyperthermus\", \"Porphyromonas\", \"Streptomyces\", \n",
    "                   \"Syneschocystis\", \"Nostoc\", \"Thermosynechococus\", \"Prochlorococcus\", \"Nostoc1\", \"Sinorhizobium\", \"Pseudomonas\", \"Bacteroides\", \"Staphylococcus\", \n",
    "                   \"Thermoanaerobacter\",\"Bacillus\", \"Mycobacterium\", \"Streptococcus\", \"Dehalococcoides\", \"Synechocystis\", \"Corynebacterium\", \"Thermosynechococcus\",\n",
    "                   \"Rhodopirellula\"]\n",
    "archae_specie = [\"Archaea\", \"LACA\", \"Aeropyrum\",\"Thermofilum\",\"Caldivirga\",\"Sulfolobus\",\"Haloquadratum\",\"Haloarcula\", \"Thermoplasma\", \"Hyperthermus\",\n",
    "                 \"Natronomonas\",\"Methanocorpusculum\", \"Methanococcus\", \"Halobacterium\", \"Picrophilus\",\"Methanospirillum\",\"Staphylothermus\",\n",
    "                  \"Methanosaeta\", \"Metallosphaera\",\"Methanococcoides\", \"Candidatus\",\"Archaeoglobus\"]\n",
    "eukaryota_animal= [\"Eukaryota\", \"LECA\", \"LAFCA\", \"Ovis\",\"Bos\", \"Mus\",\"Rattus\",\"Rabit\", \"Human\", \"Ponab\",\"Macmu\",\"Ornithorhynchus\",\"Gallus\",\"Equus\",\n",
    "                    \"Theileria\",\"Danio\",\"Tetraodon\",\"Xenopus\",\"Ictalurus\",\"Ophiophagus\",\"Callithrix\",\"Monodelphis\",\"Geocy\",\"Sus\",\"Melopsittacus\", # animal\n",
    "                    \"Monosiga\", # choanoflagellata\n",
    "                    \"Graphocephala\", \"Tribolium\", \"Apis\", \"Bombyx\",\"Litopenaeus\",\"Drosophila\", # insecta\n",
    "                    \"Entamoeba\", \"Plasmodium\",\"Cryptosporidium\", \"Dictyostelium\"]  # unicellular parasite  \n",
    "eukaryota_viridiplantae = [\"Helicosporidium\", \"Ostreococcus\", \"Fagopyrum\"]\n",
    "eukaryota_mitochondrion = [\"Bovin Mitochondrio\", \"Homo Mitochondrion\",  \"Rattus Mitochondrio\", \"Mus Mitochondrion\"] \n",
    "eukaryota_chloroplast = [\"Brana Chloroplast\", \"Pisum Chloroplast\",  \"Wheat Chloroplast\", \"Pea Chloroplast\", \"Spiol Chloroplast\", \"Arabidopsis\"] \n",
    "eukaryota_fungi = [\"Pichia\", \"Candida\", \"Aspergillus\", \"Kluyveromyces\", \"Saccharomyces\",\"Schizosaccharomyces\",\"Neosartorya\"] \n",
    "\n",
    "# Construction of palette \n",
    "trx_palette = {\"OTHERS\" : \"#c7c7c7\", \"EUKARYOTA\" : \"#31955d\", \"CHLOROPLAST\" : \"#06f9d4\", \"MITOCHONDRION\" : \"#3ff100\" , \"root\": \"#000000\", \"AECA\" : \"#e7e53c\",\n",
    "               \"Zea\": \"#c7c7c7\", \"Vitis\":\"#c7c7c7\", \"Limonium\": \"#c7c7c7\"} \n",
    "trx_palette.update(dict.fromkeys(eukaryota_animal,\"#21e548\"))\n",
    "trx_palette.update(dict.fromkeys(eukaryota_viridiplantae,\"#b5e521\"))\n",
    "trx_palette.update(dict.fromkeys(eukaryota_mitochondrion, \"#61ff06\"))\n",
    "trx_palette.update(dict.fromkeys(eukaryota_chloroplast,\"#06f9d4\"))\n",
    "trx_palette.update(dict.fromkeys(eukaryota_fungi,\"#1fb995\"))\n",
    "trx_palette.update(dict.fromkeys(bacteria_specie,\"#34b8e7\"))\n",
    "trx_palette.update(dict.fromkeys(archae_specie, \"#ff0000\"))"
   ]
  },
  {
   "cell_type": "code",
   "execution_count": 7,
   "metadata": {
    "cellView": "form",
    "colab": {
     "base_uri": "https://localhost:8080/",
     "height": 886
    },
    "id": "zLb9h9S4eKUD",
    "outputId": "58e8c73a-4869-4305-ecfb-bccc80d06db1"
   },
   "outputs": [
    {
     "data": {
      "application/vnd.plotly.v1+json": {
       "config": {
        "plotlyServerURL": "https://plot.ly"
       },
       "data": [
        {
         "customdata": [
          [
           1,
           "LBCA",
           "LBCA",
           "LBCA",
           "OTHERS",
           "LBCA",
           "LBCA",
           "LBCA",
           "LBCA"
          ]
         ],
         "hovertemplate": "<b>%{hovertext}</b><br><br>Kingdom=%{customdata[2]}<br>pm1=%{x}<br>pm2=%{y}<br>proteins_id=%{customdata[0]}<br>Species=%{customdata[1]}<br>Family=%{customdata[3]}<br>Color_eukaryota=%{customdata[4]}<br>Domain=%{customdata[5]}<br>Kingdom2=%{customdata[6]}<br>Phylum=%{customdata[7]}<br>Class=%{customdata[8]}<extra></extra>",
         "hovertext": [
          "LBCA"
         ],
         "legendgroup": "LBCA",
         "marker": {
          "color": "#34b8e7",
          "symbol": "circle"
         },
         "mode": "markers",
         "name": "LBCA",
         "orientation": "v",
         "showlegend": true,
         "type": "scatter",
         "x": [
          0.31836897
         ],
         "xaxis": "x",
         "y": [
          -0.3099385
         ],
         "yaxis": "y"
        },
        {
         "customdata": [
          [
           2,
           "LACA",
           "LACA",
           "LACA",
           "OTHERS",
           "LACA",
           "LACA",
           "LACA",
           "LACA"
          ]
         ],
         "hovertemplate": "<b>%{hovertext}</b><br><br>Kingdom=%{customdata[2]}<br>pm1=%{x}<br>pm2=%{y}<br>proteins_id=%{customdata[0]}<br>Species=%{customdata[1]}<br>Family=%{customdata[3]}<br>Color_eukaryota=%{customdata[4]}<br>Domain=%{customdata[5]}<br>Kingdom2=%{customdata[6]}<br>Phylum=%{customdata[7]}<br>Class=%{customdata[8]}<extra></extra>",
         "hovertext": [
          "LACA"
         ],
         "legendgroup": "LACA",
         "marker": {
          "color": "#ff0000",
          "symbol": "circle"
         },
         "mode": "markers",
         "name": "LACA",
         "orientation": "v",
         "showlegend": true,
         "type": "scatter",
         "x": [
          0.31788266
         ],
         "xaxis": "x",
         "y": [
          -0.30412292
         ],
         "yaxis": "y"
        },
        {
         "customdata": [
          [
           3,
           "AECA",
           "AECA",
           "AECA",
           "OTHERS",
           "AECA",
           "AECA",
           "AECA",
           "AECA"
          ]
         ],
         "hovertemplate": "<b>%{hovertext}</b><br><br>Kingdom=%{customdata[2]}<br>pm1=%{x}<br>pm2=%{y}<br>proteins_id=%{customdata[0]}<br>Species=%{customdata[1]}<br>Family=%{customdata[3]}<br>Color_eukaryota=%{customdata[4]}<br>Domain=%{customdata[5]}<br>Kingdom2=%{customdata[6]}<br>Phylum=%{customdata[7]}<br>Class=%{customdata[8]}<extra></extra>",
         "hovertext": [
          "AECA"
         ],
         "legendgroup": "AECA",
         "marker": {
          "color": "#e7e53c",
          "symbol": "circle"
         },
         "mode": "markers",
         "name": "AECA",
         "orientation": "v",
         "showlegend": true,
         "type": "scatter",
         "x": [
          0.3173667
         ],
         "xaxis": "x",
         "y": [
          -0.29328373
         ],
         "yaxis": "y"
        },
        {
         "customdata": [
          [
           4,
           "LGPCA",
           "LGPCA",
           "LGPCA",
           "OTHERS",
           "LGPCA",
           "LGPCA",
           "LGPCA",
           "LGPCA"
          ]
         ],
         "hovertemplate": "<b>%{hovertext}</b><br><br>Kingdom=%{customdata[2]}<br>pm1=%{x}<br>pm2=%{y}<br>proteins_id=%{customdata[0]}<br>Species=%{customdata[1]}<br>Family=%{customdata[3]}<br>Color_eukaryota=%{customdata[4]}<br>Domain=%{customdata[5]}<br>Kingdom2=%{customdata[6]}<br>Phylum=%{customdata[7]}<br>Class=%{customdata[8]}<extra></extra>",
         "hovertext": [
          "LGPCA"
         ],
         "legendgroup": "LGPCA",
         "marker": {
          "color": "#34b8e7",
          "symbol": "circle"
         },
         "mode": "markers",
         "name": "LGPCA",
         "orientation": "v",
         "showlegend": true,
         "type": "scatter",
         "x": [
          0.3212584
         ],
         "xaxis": "x",
         "y": [
          -0.20293713
         ],
         "yaxis": "y"
        },
        {
         "customdata": [
          [
           5,
           "LECA",
           "LECA",
           "LECA",
           "OTHERS",
           "LECA",
           "LECA",
           "LECA",
           "LECA"
          ]
         ],
         "hovertemplate": "<b>%{hovertext}</b><br><br>Kingdom=%{customdata[2]}<br>pm1=%{x}<br>pm2=%{y}<br>proteins_id=%{customdata[0]}<br>Species=%{customdata[1]}<br>Family=%{customdata[3]}<br>Color_eukaryota=%{customdata[4]}<br>Domain=%{customdata[5]}<br>Kingdom2=%{customdata[6]}<br>Phylum=%{customdata[7]}<br>Class=%{customdata[8]}<extra></extra>",
         "hovertext": [
          "LECA"
         ],
         "legendgroup": "LECA",
         "marker": {
          "color": "#21e548",
          "symbol": "circle"
         },
         "mode": "markers",
         "name": "LECA",
         "orientation": "v",
         "showlegend": true,
         "type": "scatter",
         "x": [
          -0.17983095
         ],
         "xaxis": "x",
         "y": [
          -0.8970734
         ],
         "yaxis": "y"
        },
        {
         "customdata": [
          [
           6,
           "LPBCA",
           "LPBCA",
           "LPBCA",
           "OTHERS",
           "LPBCA",
           "LPBCA",
           "LPBCA",
           "LPBCA"
          ]
         ],
         "hovertemplate": "<b>%{hovertext}</b><br><br>Kingdom=%{customdata[2]}<br>pm1=%{x}<br>pm2=%{y}<br>proteins_id=%{customdata[0]}<br>Species=%{customdata[1]}<br>Family=%{customdata[3]}<br>Color_eukaryota=%{customdata[4]}<br>Domain=%{customdata[5]}<br>Kingdom2=%{customdata[6]}<br>Phylum=%{customdata[7]}<br>Class=%{customdata[8]}<extra></extra>",
         "hovertext": [
          "LPBCA"
         ],
         "legendgroup": "LPBCA",
         "marker": {
          "color": "#34b8e7",
          "symbol": "circle"
         },
         "mode": "markers",
         "name": "LPBCA",
         "orientation": "v",
         "showlegend": true,
         "type": "scatter",
         "x": [
          0.35765797
         ],
         "xaxis": "x",
         "y": [
          -0.30866078
         ],
         "yaxis": "y"
        },
        {
         "customdata": [
          [
           7,
           "LAFCA",
           "LAFCA",
           "LAFCA",
           "OTHERS",
           "LAFCA",
           "LAFCA",
           "LAFCA",
           "LAFCA"
          ]
         ],
         "hovertemplate": "<b>%{hovertext}</b><br><br>Kingdom=%{customdata[2]}<br>pm1=%{x}<br>pm2=%{y}<br>proteins_id=%{customdata[0]}<br>Species=%{customdata[1]}<br>Family=%{customdata[3]}<br>Color_eukaryota=%{customdata[4]}<br>Domain=%{customdata[5]}<br>Kingdom2=%{customdata[6]}<br>Phylum=%{customdata[7]}<br>Class=%{customdata[8]}<extra></extra>",
         "hovertext": [
          "LAFCA"
         ],
         "legendgroup": "LAFCA",
         "marker": {
          "color": "#21e548",
          "symbol": "circle"
         },
         "mode": "markers",
         "name": "LAFCA",
         "orientation": "v",
         "showlegend": true,
         "type": "scatter",
         "x": [
          -0.16472702
         ],
         "xaxis": "x",
         "y": [
          -0.8912487
         ],
         "yaxis": "y"
        },
        {
         "customdata": [
          [
           8,
           "Ovis",
           "Eukaryota",
           "Metazoa",
           "EUKARYOTA",
           "Eukaryota",
           "Metazoa",
           "Chordata",
           "Mammalia"
          ],
          [
           9,
           "Bos",
           "Eukaryota",
           "Metazoa",
           "EUKARYOTA",
           "Eukaryota",
           "Metazoa",
           "Chordata",
           "Mammalia"
          ],
          [
           10,
           "Sus",
           "Eukaryota",
           "Metazoa",
           "EUKARYOTA",
           "Eukaryota",
           "Metazoa",
           "Chordata",
           "Mammalia"
          ],
          [
           11,
           "Equus",
           "Eukaryota",
           "Metazoa",
           "EUKARYOTA",
           "Eukaryota",
           "Metazoa",
           "Chordata",
           "Mammalia"
          ],
          [
           12,
           "Mus",
           "Eukaryota",
           "Metazoa",
           "EUKARYOTA",
           "Eukaryota",
           "Metazoa",
           "Chordata",
           "Mammalia"
          ],
          [
           13,
           "Rattus",
           "Eukaryota",
           "Metazoa",
           "EUKARYOTA",
           "Eukaryota",
           "Metazoa",
           "Chordata",
           "Mammalia"
          ],
          [
           14,
           "Rabit",
           "Eukaryota",
           "Metazoa",
           "EUKARYOTA",
           "Eukaryota",
           "Metazoa",
           "Chordata",
           "Mammalia"
          ],
          [
           15,
           "Human",
           "Eukaryota",
           "Metazoa",
           "EUKARYOTA",
           "Eukaryota",
           "Metazoa",
           "Chordata",
           "Mammalia"
          ],
          [
           16,
           "Ponab",
           "Eukaryota",
           "Metazoa",
           "EUKARYOTA",
           "Eukaryota",
           "Metazoa",
           "Chordata",
           "Mammalia"
          ],
          [
           17,
           "Macmu",
           "Eukaryota",
           "Metazoa",
           "EUKARYOTA",
           "Eukaryota",
           "Metazoa",
           "Chordata",
           "Mammalia"
          ],
          [
           18,
           "Callithrix",
           "Eukaryota",
           "Metazoa",
           "EUKARYOTA",
           "Eukaryota",
           "Metazoa",
           "Chordata",
           "Mammalia"
          ],
          [
           19,
           "Monodelphis",
           "Eukaryota",
           "Metazoa",
           "EUKARYOTA",
           "Eukaryota",
           "Metazoa",
           "Chordata",
           "Mammalia"
          ],
          [
           20,
           "Ornithorhynchus",
           "Eukaryota",
           "Metazoa",
           "EUKARYOTA",
           "Eukaryota",
           "Metazoa",
           "Chordata",
           "Mammalia"
          ],
          [
           21,
           "Gallus",
           "Eukaryota",
           "Metazoa",
           "EUKARYOTA",
           "Eukaryota",
           "Metazoa",
           "Chordata",
           "Aves"
          ],
          [
           22,
           "Melopsittacus",
           "Eukaryota",
           "Metazoa",
           "EUKARYOTA",
           "Eukaryota",
           "Metazoa",
           "Chordata",
           "Aves"
          ],
          [
           23,
           "Ophiophagus",
           "Eukaryota",
           "Metazoa",
           "EUKARYOTA",
           "Eukaryota",
           "Metazoa",
           "Chordata",
           "Squamata"
          ],
          [
           24,
           "Xenopus",
           "Eukaryota",
           "Metazoa",
           "EUKARYOTA",
           "Eukaryota",
           "Metazoa",
           "Chordata",
           "Sarcopterygii"
          ],
          [
           25,
           "Tetraodon",
           "Eukaryota",
           "Metazoa",
           "EUKARYOTA",
           "Eukaryota",
           "Metazoa",
           "Chordata",
           "Actinopterygii"
          ],
          [
           26,
           "Ictalurus",
           "Eukaryota",
           "Metazoa",
           "EUKARYOTA",
           "Eukaryota",
           "Metazoa",
           "Chordata",
           "Actinopterygii"
          ],
          [
           27,
           "Danio",
           "Eukaryota",
           "Metazoa",
           "EUKARYOTA",
           "Eukaryota",
           "Metazoa",
           "Chordata",
           "Actinopterygii"
          ],
          [
           28,
           "Drosophila",
           "Eukaryota",
           "Metazoa",
           "EUKARYOTA",
           "Eukaryota",
           "Metazoa",
           "Arthropoda",
           "Insecta"
          ],
          [
           29,
           "Drosophila",
           "Eukaryota",
           "Metazoa",
           "EUKARYOTA",
           "Eukaryota",
           "Metazoa",
           "Arthropoda",
           "Insecta"
          ],
          [
           30,
           "Drosophila",
           "Eukaryota",
           "Metazoa",
           "EUKARYOTA",
           "Eukaryota",
           "Metazoa",
           "Arthropoda",
           "Insecta"
          ],
          [
           31,
           "Apis",
           "Eukaryota",
           "Metazoa",
           "EUKARYOTA",
           "Eukaryota",
           "Metazoa",
           "Arthropoda",
           "Insecta"
          ],
          [
           32,
           "Tribolium",
           "Eukaryota",
           "Metazoa",
           "EUKARYOTA",
           "Eukaryota",
           "Metazoa",
           "Arthropoda",
           "Insecta"
          ],
          [
           33,
           "Bombyx",
           "Eukaryota",
           "Metazoa",
           "EUKARYOTA",
           "Eukaryota",
           "Metazoa",
           "Arthropoda",
           "Insecta"
          ],
          [
           34,
           "Graphocephala",
           "Eukaryota",
           "Metazoa",
           "EUKARYOTA",
           "Eukaryota",
           "Metazoa",
           "Arthropoda",
           "Insecta"
          ],
          [
           35,
           "Litopenaeus",
           "Eukaryota",
           "Metazoa",
           "EUKARYOTA",
           "Eukaryota",
           "Metazoa",
           "Arthropoda",
           "Malacostraca"
          ],
          [
           36,
           "Geocy",
           "Eukaryota",
           "Metazoa",
           "EUKARYOTA",
           "Eukaryota",
           "Metazoa",
           "Porifera",
           "Other"
          ],
          [
           37,
           "Aspergillus",
           "Eukaryota",
           "Fungi",
           "EUKARYOTA",
           "Eukaryota",
           "Fungi",
           "Ascomycota",
           "Eurotiomycetes"
          ],
          [
           38,
           "Neosartorya",
           "Eukaryota",
           "Fungi",
           "EUKARYOTA",
           "Eukaryota",
           "Fungi",
           "Ascomycota",
           "Eurotiomycetes"
          ],
          [
           39,
           "Aspergillus",
           "Eukaryota",
           "Fungi",
           "EUKARYOTA",
           "Eukaryota",
           "Fungi",
           "Ascomycota",
           "Eurotiomycetes"
          ],
          [
           40,
           "Aspergillus",
           "Eukaryota",
           "Fungi",
           "EUKARYOTA",
           "Eukaryota",
           "Fungi",
           "Ascomycota",
           "Eurotiomycetes"
          ],
          [
           41,
           "Pichia",
           "Eukaryota",
           "Fungi",
           "EUKARYOTA",
           "Eukaryota",
           "Fungi",
           "Ascomycota",
           "Saccharomycetes"
          ],
          [
           42,
           "Candida",
           "Eukaryota",
           "Fungi",
           "EUKARYOTA",
           "Eukaryota",
           "Fungi",
           "Ascomycota",
           "Saccharomycetes"
          ],
          [
           43,
           "Pichia",
           "Eukaryota",
           "Fungi",
           "EUKARYOTA",
           "Eukaryota",
           "Fungi",
           "Ascomycota",
           "Saccharomycetes"
          ],
          [
           44,
           "Kluyveromyces",
           "Eukaryota",
           "Fungi",
           "EUKARYOTA",
           "Eukaryota",
           "Fungi",
           "Ascomycota",
           "Saccharomycetes"
          ],
          [
           45,
           "Saccharomyces",
           "Eukaryota",
           "Fungi",
           "EUKARYOTA",
           "Eukaryota",
           "Fungi",
           "Ascomycota",
           "Saccharomycetes"
          ],
          [
           46,
           "Candida",
           "Eukaryota",
           "Fungi",
           "EUKARYOTA",
           "Eukaryota",
           "Fungi",
           "Ascomycota",
           "Saccharomycetes"
          ],
          [
           47,
           "Saccharomyces",
           "Eukaryota",
           "Fungi",
           "EUKARYOTA",
           "Eukaryota",
           "Fungi",
           "Ascomycota",
           "Saccharomycetes"
          ],
          [
           48,
           "Schizosaccharomyces",
           "Eukaryota",
           "Fungi",
           "EUKARYOTA",
           "Eukaryota",
           "Fungi",
           "Ascomycota",
           "Other"
          ],
          [
           49,
           "Monosiga",
           "Eukaryota",
           "Choanoflagellata",
           "EUKARYOTA",
           "Eukaryota",
           "Protozoa",
           "Other",
           "Other"
          ],
          [
           50,
           "Entamoeba",
           "Eukaryota",
           "Amoebozoa",
           "EUKARYOTA",
           "Eukaryota",
           "Protozoa",
           "Other",
           "Amoebozoa"
          ],
          [
           51,
           "Dictyostelium",
           "Eukaryota",
           "Amoebozoa",
           "EUKARYOTA",
           "Eukaryota",
           "Protozoa",
           "Other",
           "Mycetozoa"
          ],
          [
           52,
           "Arabidopsis",
           "Eukaryota",
           "Viridiplantae",
           "EUKARYOTA",
           "Eukaryota",
           "Plantae",
           "Tracheophyta",
           "Magnoliopsida"
          ],
          [
           53,
           "Arabidopsis",
           "Eukaryota",
           "Viridiplantae",
           "EUKARYOTA",
           "Eukaryota",
           "Plantae",
           "Tracheophyta",
           "Magnoliopsida"
          ],
          [
           54,
           "Limonium",
           "Eukaryota",
           "Viridiplantae",
           "EUKARYOTA",
           "Eukaryota",
           "Plantae",
           "Tracheophyta",
           "Magnoliopsida"
          ],
          [
           55,
           "Zea",
           "Eukaryota",
           "Viridiplantae",
           "EUKARYOTA",
           "Eukaryota",
           "Plantae",
           "Tracheophyta",
           "Other"
          ],
          [
           56,
           "Vitis",
           "Eukaryota",
           "Viridiplantae",
           "EUKARYOTA",
           "Eukaryota",
           "Plantae",
           "Tracheophyta",
           "Magnoliopsida"
          ],
          [
           57,
           "Ostreococcus",
           "Eukaryota",
           "Viridiplantae",
           "EUKARYOTA",
           "Eukaryota",
           "Plantae",
           "Chlorophyta",
           "Other"
          ],
          [
           58,
           "Helicosporidium",
           "Eukaryota",
           "Viridiplantae",
           "EUKARYOTA",
           "Eukaryota",
           "Plantae",
           "Chlorophyta",
           "Other"
          ],
          [
           59,
           "Fagopyrum",
           "Eukaryota",
           "Viridiplantae",
           "EUKARYOTA",
           "Eukaryota",
           "Plantae",
           "Tracheophyta",
           "Magnoliopsida"
          ],
          [
           60,
           "Cryptosporidium",
           "Eukaryota",
           "Alveolata",
           "EUKARYOTA",
           "Eukaryota",
           "Other",
           "Other",
           "Other"
          ],
          [
           61,
           "Theileria",
           "Eukaryota",
           "Sar",
           "EUKARYOTA",
           "Eukaryota",
           "Chromista",
           "Other",
           "Other"
          ],
          [
           62,
           "Plasmodium",
           "Eukaryota",
           "Alveolata",
           "EUKARYOTA",
           "Eukaryota",
           "Chromista",
           "Other",
           "Other"
          ],
          [
           155,
           "Pea Chloroplast",
           "Eukaryota",
           "Viridiplantae",
           "CHLOROPLAST",
           "Eukaryota",
           "Plantae",
           "Tracheophyta",
           "Magnoliopsida"
          ],
          [
           156,
           "Spiol Chloroplast",
           "Eukaryota",
           "Viridiplantae",
           "CHLOROPLAST",
           "Eukaryota",
           "Plantae",
           "Tracheophyta",
           "Magnoliopsida"
          ],
          [
           157,
           "Wheat Chloroplast",
           "Eukaryota",
           "Viridiplantae",
           "CHLOROPLAST",
           "Eukaryota",
           "Plantae",
           "Tracheophyta",
           "Other"
          ],
          [
           158,
           "Pisum Chloroplast",
           "Eukaryota",
           "Viridiplantae",
           "CHLOROPLAST",
           "Eukaryota",
           "Plantae",
           "Tracheophyta",
           "Magnoliopsida"
          ],
          [
           159,
           "Brana Chloroplast",
           "Eukaryota",
           "Viridiplantae",
           "CHLOROPLAST",
           "Eukaryota",
           "Plantae",
           "Tracheophyta",
           "Magnoliopsida"
          ],
          [
           187,
           "Bovin Mitochondrio",
           "Eukaryota",
           "Metazoa",
           "MITOCHONDRION",
           "Eukaryota",
           "Metazoa",
           "Chordata",
           "Mammalia"
          ],
          [
           188,
           "Equus",
           "Eukaryota",
           "Metazoa",
           "EUKARYOTA",
           "Eukaryota",
           "Metazoa",
           "Chordata",
           "Mammalia"
          ],
          [
           189,
           "Homo Mitochondrion",
           "Eukaryota",
           "Metazoa",
           "MITOCHONDRION",
           "Eukaryota",
           "Metazoa",
           "Chordata",
           "Mammalia"
          ],
          [
           190,
           "Rattus Mitochondrio",
           "Eukaryota",
           "Metazoa",
           "MITOCHONDRION",
           "Eukaryota",
           "Metazoa",
           "Chordata",
           "Mammalia"
          ],
          [
           191,
           "Mus Mitochondrion",
           "Eukaryota",
           "Metazoa",
           "MITOCHONDRION",
           "Eukaryota",
           "Metazoa",
           "Chordata",
           "Mammalia"
          ]
         ],
         "hovertemplate": "<b>%{hovertext}</b><br><br>Kingdom=%{customdata[2]}<br>pm1=%{x}<br>pm2=%{y}<br>proteins_id=%{customdata[0]}<br>Species=%{customdata[1]}<br>Family=%{customdata[3]}<br>Color_eukaryota=%{customdata[4]}<br>Domain=%{customdata[5]}<br>Kingdom2=%{customdata[6]}<br>Phylum=%{customdata[7]}<br>Class=%{customdata[8]}<extra></extra>",
         "hovertext": [
          "Eukaryota",
          "Eukaryota",
          "Eukaryota",
          "Eukaryota",
          "Eukaryota",
          "Eukaryota",
          "Eukaryota",
          "Eukaryota",
          "Eukaryota",
          "Eukaryota",
          "Eukaryota",
          "Eukaryota",
          "Eukaryota",
          "Eukaryota",
          "Eukaryota",
          "Eukaryota",
          "Eukaryota",
          "Eukaryota",
          "Eukaryota",
          "Eukaryota",
          "Eukaryota",
          "Eukaryota",
          "Eukaryota",
          "Eukaryota",
          "Eukaryota",
          "Eukaryota",
          "Eukaryota",
          "Eukaryota",
          "Eukaryota",
          "Eukaryota",
          "Eukaryota",
          "Eukaryota",
          "Eukaryota",
          "Eukaryota",
          "Eukaryota",
          "Eukaryota",
          "Eukaryota",
          "Eukaryota",
          "Eukaryota",
          "Eukaryota",
          "Eukaryota",
          "Eukaryota",
          "Eukaryota",
          "Eukaryota",
          "Eukaryota",
          "Eukaryota",
          "Eukaryota",
          "Eukaryota",
          "Eukaryota",
          "Eukaryota",
          "Eukaryota",
          "Eukaryota",
          "Eukaryota",
          "Eukaryota",
          "Eukaryota",
          "Eukaryota",
          "Eukaryota",
          "Eukaryota",
          "Eukaryota",
          "Eukaryota",
          "Eukaryota",
          "Eukaryota",
          "Eukaryota",
          "Eukaryota",
          "Eukaryota"
         ],
         "legendgroup": "Eukaryota",
         "marker": {
          "color": "#21e548",
          "symbol": "circle"
         },
         "mode": "markers",
         "name": "Eukaryota",
         "orientation": "v",
         "showlegend": true,
         "type": "scatter",
         "x": [
          -0.23720357,
          -0.23074535,
          -0.22720277,
          -0.21917698,
          -0.21093066,
          -0.2217318,
          -0.24694972,
          -0.22634776,
          -0.23187567,
          -0.23356475,
          -0.22832204,
          0.536974,
          -0.21310793,
          -0.19397202,
          -0.19746499,
          -0.17352247,
          -0.18694057,
          -0.17849779,
          -0.15804256,
          -0.17315508,
          -0.1850414,
          -0.15502732,
          -0.18795483,
          -0.13616557,
          -0.15537925,
          -0.1690256,
          -0.17319123,
          -0.14402018,
          -0.18622749,
          -0.29104838,
          -0.33735415,
          -0.31522915,
          -0.35416445,
          -0.35198334,
          -0.28899464,
          -0.31813565,
          -0.3112505,
          -0.32071888,
          -0.3391101,
          -0.342358,
          -0.3008431,
          -0.14035971,
          -0.18597333,
          -0.28169852,
          0.65784377,
          0.65956175,
          0.6593839,
          0.6270908,
          0.6501702,
          -0.32494402,
          -0.29099745,
          -0.26002404,
          -0.11847887,
          -0.24953501,
          -0.21455643,
          0.6452654,
          0.6484377,
          0.63984364,
          0.65299237,
          0.64460665,
          0.52319336,
          0.5570296,
          0.5398929,
          0.5318728,
          0.50940543
         ],
         "xaxis": "x",
         "y": [
          -0.92686105,
          -0.9236674,
          -0.93074703,
          -0.927685,
          -0.9174467,
          -0.91820616,
          -0.90866965,
          -0.92450833,
          -0.9333655,
          -0.920036,
          -0.9178933,
          0.73364127,
          -0.9320844,
          -0.92127395,
          -0.9095562,
          -0.9099629,
          -0.91166466,
          -0.92541075,
          -0.91835856,
          -0.92701966,
          -0.8465264,
          -0.8544975,
          -0.83646154,
          -0.8809938,
          -0.829604,
          -0.8398496,
          -0.85350674,
          -0.8491569,
          -0.9319035,
          -0.7839562,
          -0.82319725,
          -0.83236146,
          -0.8020671,
          -0.8196535,
          -0.7078318,
          -0.7574875,
          -0.77434194,
          -0.8013159,
          -0.78045446,
          -0.7600401,
          -0.7963588,
          -0.89749444,
          -0.7876872,
          -0.80048144,
          0.69003963,
          0.7038177,
          0.6970457,
          0.69433284,
          0.694094,
          -0.8122148,
          -0.86144006,
          -0.8651757,
          -0.86128706,
          -0.7757209,
          -0.8124645,
          0.68323326,
          0.7057396,
          0.70345026,
          0.7014751,
          0.6951412,
          0.7265722,
          0.70756763,
          0.72071815,
          0.7124493,
          0.7035559
         ],
         "yaxis": "y"
        },
        {
         "customdata": [
          [
           63,
           "Archaeoglobus",
           "Archaea",
           "Euryarchaeota",
           "OTHERS",
           "Archaea",
           "Archaea",
           "Euryarchaeota",
           "Other"
          ],
          [
           64,
           "Methanosaeta",
           "Archaea",
           "Euryarchaeota",
           "OTHERS",
           "Archaea",
           "Archaea",
           "Euryarchaeota",
           "Methanomicrobia"
          ],
          [
           65,
           "Methanococcoides",
           "Archaea",
           "Euryarchaeota",
           "OTHERS",
           "Archaea",
           "Archaea",
           "Euryarchaeota",
           "Methanomicrobia"
          ],
          [
           66,
           "Candidatus",
           "Archaea",
           "Euryarchaeota",
           "OTHERS",
           "Archaea",
           "Archaea",
           "Other",
           "Other"
          ],
          [
           67,
           "Methanospirillum",
           "Archaea",
           "Euryarchaeota",
           "OTHERS",
           "Archaea",
           "Archaea",
           "Euryarchaeota",
           "Methanomicrobia"
          ],
          [
           68,
           "Picrophilus",
           "Archaea",
           "Euryarchaeota",
           "OTHERS",
           "Archaea",
           "Archaea",
           "Euryarchaeota",
           "Other"
          ],
          [
           69,
           "Methanococcus",
           "Archaea",
           "Euryarchaeota",
           "OTHERS",
           "Archaea",
           "Archaea",
           "Euryarchaeota",
           "Other"
          ],
          [
           70,
           "Methanocorpusculum",
           "Archaea",
           "Euryarchaeota",
           "OTHERS",
           "Archaea",
           "Archaea",
           "Euryarchaeota",
           "Methanomicrobia"
          ],
          [
           71,
           "Methanosaeta",
           "Archaea",
           "Euryarchaeota",
           "OTHERS",
           "Archaea",
           "Archaea",
           "Euryarchaeota",
           "Methanomicrobia"
          ],
          [
           72,
           "Natronomonas",
           "Archaea",
           "Euryarchaeota",
           "OTHERS",
           "Archaea",
           "Archaea",
           "Euryarchaeota",
           "Halobacteria"
          ],
          [
           73,
           "Haloquadratum",
           "Archaea",
           "Euryarchaeota",
           "OTHERS",
           "Archaea",
           "Archaea",
           "Euryarchaeota",
           "Halobacteria"
          ],
          [
           74,
           "Haloarcula",
           "Archaea",
           "Euryarchaeota",
           "OTHERS",
           "Archaea",
           "Archaea",
           "Euryarchaeota",
           "Halobacteria"
          ],
          [
           75,
           "Natronomonas",
           "Archaea",
           "Euryarchaeota",
           "OTHERS",
           "Archaea",
           "Archaea",
           "Euryarchaeota",
           "Halobacteria"
          ],
          [
           76,
           "Halobacterium",
           "Archaea",
           "Euryarchaeota",
           "OTHERS",
           "Archaea",
           "Archaea",
           "Euryarchaeota",
           "Halobacteria"
          ],
          [
           77,
           "Archaeoglobus",
           "Archaea",
           "Euryarchaeota",
           "OTHERS",
           "Archaea",
           "Archaea",
           "Euryarchaeota",
           "Other"
          ],
          [
           78,
           "Thermoplasma",
           "Archaea",
           "Euryarchaeota",
           "OTHERS",
           "Archaea",
           "Archaea",
           "Euryarchaeota",
           "Other"
          ],
          [
           79,
           "Thermofilum",
           "Archaea",
           "Crenarchaeota",
           "OTHERS",
           "Archaea",
           "Archaea",
           "Crenarchaeota",
           "Thermoprotei"
          ],
          [
           80,
           "Caldivirga",
           "Archaea",
           "Crenarchaeota",
           "OTHERS",
           "Archaea",
           "Archaea",
           "Crenarchaeota",
           "Thermoprotei"
          ],
          [
           81,
           "Sulfolobus",
           "Archaea",
           "Crenarchaeota",
           "OTHERS",
           "Archaea",
           "Archaea",
           "Crenarchaeota",
           "Thermoprotei"
          ],
          [
           82,
           "Sulfolobus",
           "Archaea",
           "Crenarchaeota",
           "OTHERS",
           "Archaea",
           "Archaea",
           "Crenarchaeota",
           "Thermoprotei"
          ],
          [
           83,
           "Sulfolobus",
           "Archaea",
           "Crenarchaeota",
           "OTHERS",
           "Archaea",
           "Archaea",
           "Crenarchaeota",
           "Thermoprotei"
          ],
          [
           84,
           "Hyperthermus",
           "Archaea",
           "Crenarchaeota",
           "OTHERS",
           "Archaea",
           "Archaea",
           "Crenarchaeota",
           "Thermoprotei"
          ],
          [
           85,
           "Aeropyrum",
           "Archaea",
           "Crenarchaeota",
           "OTHERS",
           "Archaea",
           "Archaea",
           "Crenarchaeota",
           "Thermoprotei"
          ],
          [
           86,
           "Metallosphaera",
           "Archaea",
           "Crenarchaeota",
           "OTHERS",
           "Archaea",
           "Archaea",
           "Crenarchaeota",
           "Thermoprotei"
          ],
          [
           87,
           "Sulfolobus",
           "Archaea",
           "Crenarchaeota",
           "OTHERS",
           "Archaea",
           "Archaea",
           "Crenarchaeota",
           "Thermoprotei"
          ],
          [
           88,
           "Sulfolobus",
           "Archaea",
           "Crenarchaeota",
           "OTHERS",
           "Archaea",
           "Archaea",
           "Crenarchaeota",
           "Thermoprotei"
          ],
          [
           89,
           "Staphylothermus",
           "Archaea",
           "Crenarchaeota",
           "OTHERS",
           "Archaea",
           "Archaea",
           "Crenarchaeota",
           "Thermoprotei"
          ],
          [
           90,
           "Aeropyrum",
           "Archaea",
           "Crenarchaeota",
           "OTHERS",
           "Archaea",
           "Archaea",
           "Crenarchaeota",
           "Thermoprotei"
          ]
         ],
         "hovertemplate": "<b>%{hovertext}</b><br><br>Kingdom=%{customdata[2]}<br>pm1=%{x}<br>pm2=%{y}<br>proteins_id=%{customdata[0]}<br>Species=%{customdata[1]}<br>Family=%{customdata[3]}<br>Color_eukaryota=%{customdata[4]}<br>Domain=%{customdata[5]}<br>Kingdom2=%{customdata[6]}<br>Phylum=%{customdata[7]}<br>Class=%{customdata[8]}<extra></extra>",
         "hovertext": [
          "Archaea",
          "Archaea",
          "Archaea",
          "Archaea",
          "Archaea",
          "Archaea",
          "Archaea",
          "Archaea",
          "Archaea",
          "Archaea",
          "Archaea",
          "Archaea",
          "Archaea",
          "Archaea",
          "Archaea",
          "Archaea",
          "Archaea",
          "Archaea",
          "Archaea",
          "Archaea",
          "Archaea",
          "Archaea",
          "Archaea",
          "Archaea",
          "Archaea",
          "Archaea",
          "Archaea",
          "Archaea"
         ],
         "legendgroup": "Archaea",
         "marker": {
          "color": "#ff0000",
          "symbol": "circle"
         },
         "mode": "markers",
         "name": "Archaea",
         "orientation": "v",
         "showlegend": true,
         "type": "scatter",
         "x": [
          0.025638895,
          -0.015238132,
          0.0006015573,
          -0.09810653,
          -0.036886953,
          0.07034659,
          -0.32293004,
          -0.21917637,
          -0.25886053,
          0.08766432,
          0.05478083,
          0.046569753,
          0.056792717,
          0.04943398,
          0.15786633,
          -0.40579563,
          -0.063346766,
          0.047913462,
          0.010262806,
          0.034052532,
          0.023109265,
          -0.00814656,
          -0.047897473,
          0.033929892,
          0.06268859,
          0.05215541,
          -0.039388116,
          -0.03651293
         ],
         "xaxis": "x",
         "y": [
          0.8330372,
          0.8277003,
          0.82104653,
          0.8026958,
          0.8205997,
          0.8018447,
          0.58237296,
          -0.29175493,
          -0.20760179,
          0.21566774,
          0.45264548,
          0.42038706,
          0.23903593,
          0.30786234,
          -0.17719902,
          0.13534352,
          0.77368385,
          0.80334646,
          0.78352875,
          0.76644784,
          0.6489216,
          0.7390305,
          0.7403223,
          0.7886297,
          0.76413757,
          0.7371067,
          0.7410459,
          0.7484237
         ],
         "yaxis": "y"
        },
        {
         "customdata": [
          [
           91,
           "Clostridium",
           "Bacteria",
           "Firmicutes",
           "OTHERS",
           "Bacteria",
           "Bacteria",
           "Firmicutes",
           "Clostridia"
          ],
          [
           92,
           "Thermoanaerobacter",
           "Bacteria",
           "Firmicutes",
           "OTHERS",
           "Bacteria",
           "Bacteria",
           "Firmicutes",
           "Clostridia"
          ],
          [
           93,
           "Bacillus",
           "Bacteria",
           "Firmicutes",
           "OTHERS",
           "Bacteria",
           "Bacteria",
           "Firmicutes",
           "Bacilli"
          ],
          [
           94,
           "Bacillus",
           "Bacteria",
           "Firmicutes",
           "OTHERS",
           "Bacteria",
           "Bacteria",
           "Firmicutes",
           "Bacilli"
          ],
          [
           95,
           "Streptococcus",
           "Bacteria",
           "Firmicutes",
           "OTHERS",
           "Bacteria",
           "Bacteria",
           "Firmicutes",
           "Bacilli"
          ],
          [
           96,
           "Enterococcus",
           "Bacteria",
           "Firmicutes",
           "OTHERS",
           "Bacteria",
           "Bacteria",
           "Firmicutes",
           "Bacilli"
          ],
          [
           97,
           "Listeria",
           "Bacteria",
           "Firmicutes",
           "OTHERS",
           "Bacteria",
           "Bacteria",
           "Firmicutes",
           "Bacilli"
          ],
          [
           98,
           "Lactobacillus",
           "Bacteria",
           "Firmicutes",
           "OTHERS",
           "Bacteria",
           "Bacteria",
           "Firmicutes",
           "Bacilli"
          ],
          [
           99,
           "Lactobacillus",
           "Bacteria",
           "Firmicutes",
           "OTHERS",
           "Bacteria",
           "Bacteria",
           "Firmicutes",
           "Bacilli"
          ],
          [
           100,
           "Staphylococcus",
           "Bacteria",
           "Firmicutes",
           "OTHERS",
           "Bacteria",
           "Bacteria",
           "Firmicutes",
           "Bacilli"
          ],
          [
           101,
           "Geobacillus",
           "Bacteria",
           "Firmicutes",
           "OTHERS",
           "Bacteria",
           "Bacteria",
           "Firmicutes",
           "Bacilli"
          ],
          [
           102,
           "Bacillus",
           "Bacteria",
           "Firmicutes",
           "OTHERS",
           "Bacteria",
           "Bacteria",
           "Firmicutes",
           "Bacilli"
          ],
          [
           103,
           "Bacillus",
           "Bacteria",
           "Firmicutes",
           "OTHERS",
           "Bacteria",
           "Bacteria",
           "Firmicutes",
           "Bacilli"
          ],
          [
           104,
           "Lactobacillus",
           "Bacteria",
           "Firmicutes",
           "OTHERS",
           "Bacteria",
           "Bacteria",
           "Firmicutes",
           "Bacilli"
          ],
          [
           105,
           "Listeria",
           "Bacteria",
           "Firmicutes",
           "OTHERS",
           "Bacteria",
           "Bacteria",
           "Firmicutes",
           "Bacilli"
          ],
          [
           106,
           "Enterococcus",
           "Bacteria",
           "Firmicutes",
           "OTHERS",
           "Bacteria",
           "Bacteria",
           "Firmicutes",
           "Bacilli"
          ],
          [
           107,
           "Streptococcus",
           "Bacteria",
           "Firmicutes",
           "OTHERS",
           "Bacteria",
           "Bacteria",
           "Firmicutes",
           "Bacilli"
          ],
          [
           108,
           "Clostridium",
           "Bacteria",
           "Firmicutes",
           "OTHERS",
           "Bacteria",
           "Bacteria",
           "Firmicutes",
           "Clostridia"
          ],
          [
           109,
           "Clostridium",
           "Bacteria",
           "Firmicutes",
           "OTHERS",
           "Bacteria",
           "Bacteria",
           "Firmicutes",
           "Clostridia"
          ],
          [
           110,
           "Clostridium",
           "Bacteria",
           "Firmicutes",
           "OTHERS",
           "Bacteria",
           "Bacteria",
           "Firmicutes",
           "Clostridia"
          ],
          [
           111,
           "Clostridium",
           "Bacteria",
           "Firmicutes",
           "OTHERS",
           "Bacteria",
           "Bacteria",
           "Firmicutes",
           "Clostridia"
          ],
          [
           112,
           "Thermoanaerobacter",
           "Bacteria",
           "Firmicutes",
           "OTHERS",
           "Bacteria",
           "Bacteria",
           "Firmicutes",
           "Clostridia"
          ],
          [
           113,
           "Chlamydia",
           "Bacteria",
           "Chlamydiae",
           "OTHERS",
           "Bacteria",
           "Bacteria",
           "Chlamydiae",
           "Other"
          ],
          [
           114,
           "Chlamydophila",
           "Bacteria",
           "Chlamydiae",
           "OTHERS",
           "Bacteria",
           "Bacteria",
           "Chlamydiae",
           "Other"
          ],
          [
           115,
           "Chlorobium",
           "Bacteria",
           "Chlorobi",
           "OTHERS",
           "Bacteria",
           "Bacteria",
           "Chlorobi",
           "Other"
          ],
          [
           116,
           "Chlorobium",
           "Bacteria",
           "Chlorobi",
           "OTHERS",
           "Bacteria",
           "Bacteria",
           "Chlorobi",
           "Other"
          ],
          [
           117,
           "Bacteroides",
           "Bacteria",
           "Bacteroidetes",
           "OTHERS",
           "Bacteria",
           "Bacteria",
           "Bacteroidetes",
           "Other"
          ],
          [
           118,
           "Flavobacterium",
           "Bacteria",
           "Bacteroidetes",
           "OTHERS",
           "Bacteria",
           "Bacteria",
           "Bacteroidetes",
           "Other"
          ],
          [
           119,
           "Porphyromonas",
           "Bacteria",
           "Bacteroidetes",
           "OTHERS",
           "Bacteria",
           "Bacteria",
           "Bacteroidetes",
           "Other"
          ],
          [
           120,
           "Bacteroides",
           "Bacteria",
           "Bacteroidetes",
           "OTHERS",
           "Bacteria",
           "Bacteria",
           "Bacteroidetes",
           "Other"
          ],
          [
           121,
           "Bacteroides",
           "Bacteria",
           "Bacteroidetes",
           "OTHERS",
           "Bacteria",
           "Bacteria",
           "Bacteroidetes",
           "Other"
          ],
          [
           122,
           "Porphyromonas",
           "Bacteria",
           "Bacteroidetes",
           "OTHERS",
           "Bacteria",
           "Bacteria",
           "Bacteroidetes",
           "Other"
          ],
          [
           123,
           "Bacteroides",
           "Bacteria",
           "Bacteroidetes",
           "OTHERS",
           "Bacteria",
           "Bacteria",
           "Bacteroidetes",
           "Other"
          ],
          [
           124,
           "Bacteroides",
           "Bacteria",
           "Bacteroidetes",
           "OTHERS",
           "Bacteria",
           "Bacteria",
           "Bacteroidetes",
           "Other"
          ],
          [
           125,
           "Rhodopirellula",
           "Bacteria",
           "Planctomycetes",
           "OTHERS",
           "Bacteria",
           "Bacteria",
           "Planctomycetes",
           "Other"
          ],
          [
           126,
           "Rhodopirellula",
           "Bacteria",
           "Planctomycetes",
           "OTHERS",
           "Bacteria",
           "Bacteria",
           "Planctomycetes",
           "Other"
          ],
          [
           127,
           "Mycobacterium",
           "Bacteria",
           "Actinobacteria",
           "OTHERS",
           "Bacteria",
           "Bacteria",
           "Actinobacteria",
           "Actinomycetes"
          ],
          [
           128,
           "Mycobacterium",
           "Bacteria",
           "Actinobacteria",
           "OTHERS",
           "Bacteria",
           "Bacteria",
           "Actinobacteria",
           "Actinomycetes"
          ],
          [
           129,
           "Corynebacterium",
           "Bacteria",
           "Actinobacteria",
           "OTHERS",
           "Bacteria",
           "Bacteria",
           "Actinobacteria",
           "Actinomycetes"
          ],
          [
           130,
           "Thermobifida",
           "Bacteria",
           "Actinobacteria",
           "OTHERS",
           "Bacteria",
           "Bacteria",
           "Actinobacteria",
           "Actinomycetes"
          ],
          [
           131,
           "Streptomyces",
           "Bacteria",
           "Actinobacteria",
           "OTHERS",
           "Bacteria",
           "Bacteria",
           "Actinobacteria",
           "Actinomycetes"
          ],
          [
           132,
           "Thermobifida",
           "Bacteria",
           "Actinobacteria",
           "OTHERS",
           "Bacteria",
           "Bacteria",
           "Actinobacteria",
           "Actinomycetes"
          ],
          [
           133,
           "Mycobacterium",
           "Bacteria",
           "Actinobacteria",
           "OTHERS",
           "Bacteria",
           "Bacteria",
           "Actinobacteria",
           "Actinomycetes"
          ],
          [
           134,
           "Streptomyces",
           "Bacteria",
           "Actinobacteria",
           "OTHERS",
           "Bacteria",
           "Bacteria",
           "Actinobacteria",
           "Actinomycetes"
          ],
          [
           135,
           "Corynebacterium",
           "Bacteria",
           "Actinobacteria",
           "OTHERS",
           "Bacteria",
           "Bacteria",
           "Actinobacteria",
           "Actinomycetes"
          ],
          [
           136,
           "Streptomyces",
           "Bacteria",
           "Actinobacteria",
           "OTHERS",
           "Bacteria",
           "Bacteria",
           "Actinobacteria",
           "Actinomycetes"
          ],
          [
           137,
           "Mycobacterium",
           "Bacteria",
           "Actinobacteria",
           "OTHERS",
           "Bacteria",
           "Bacteria",
           "Actinobacteria",
           "Actinomycetes"
          ],
          [
           138,
           "Thermobifida",
           "Bacteria",
           "Actinobacteria",
           "OTHERS",
           "Bacteria",
           "Bacteria",
           "Actinobacteria",
           "Actinomycetes"
          ],
          [
           139,
           "Streptomyces",
           "Bacteria",
           "Actinobacteria",
           "OTHERS",
           "Bacteria",
           "Bacteria",
           "Actinobacteria",
           "Actinomycetes"
          ],
          [
           140,
           "Synechocystis",
           "Bacteria",
           "Cyanobacteria",
           "OTHERS",
           "Bacteria",
           "Bacteria",
           "Cyanobacteria",
           "Other"
          ],
          [
           141,
           "Nostoc",
           "Bacteria",
           "Cyanobacteria",
           "OTHERS",
           "Bacteria",
           "Bacteria",
           "Cyanobacteria",
           "Other"
          ],
          [
           142,
           "Nostoc",
           "Bacteria",
           "Cyanobacteria",
           "OTHERS",
           "Bacteria",
           "Bacteria",
           "Cyanobacteria",
           "Other"
          ],
          [
           143,
           "Synechocystis",
           "Bacteria",
           "Cyanobacteria",
           "OTHERS",
           "Bacteria",
           "Bacteria",
           "Cyanobacteria",
           "Other"
          ],
          [
           144,
           "Thermosynechococcus",
           "Bacteria",
           "Cyanobacteria",
           "OTHERS",
           "Bacteria",
           "Bacteria",
           "Cyanobacteria",
           "Other"
          ],
          [
           145,
           "Thermosynechococcus",
           "Bacteria",
           "Cyanobacteria",
           "OTHERS",
           "Bacteria",
           "Bacteria",
           "Cyanobacteria",
           "Other"
          ],
          [
           146,
           "Synechocystis",
           "Bacteria",
           "Cyanobacteria",
           "OTHERS",
           "Bacteria",
           "Bacteria",
           "Cyanobacteria",
           "Other"
          ],
          [
           147,
           "Thermosynechococcus",
           "Bacteria",
           "Cyanobacteria",
           "OTHERS",
           "Bacteria",
           "Bacteria",
           "Cyanobacteria",
           "Other"
          ],
          [
           148,
           "Nostoc",
           "Bacteria",
           "Cyanobacteria",
           "OTHERS",
           "Bacteria",
           "Bacteria",
           "Cyanobacteria",
           "Other"
          ],
          [
           149,
           "Nostoc",
           "Bacteria",
           "Cyanobacteria",
           "OTHERS",
           "Bacteria",
           "Bacteria",
           "Cyanobacteria",
           "Other"
          ],
          [
           150,
           "Thermosynechococcus",
           "Bacteria",
           "Cyanobacteria",
           "OTHERS",
           "Bacteria",
           "Bacteria",
           "Cyanobacteria",
           "Other"
          ],
          [
           151,
           "Nostoc",
           "Bacteria",
           "Cyanobacteria",
           "OTHERS",
           "Bacteria",
           "Bacteria",
           "Cyanobacteria",
           "Other"
          ],
          [
           152,
           "Prochlorococcus",
           "Bacteria",
           "Cyanobacteria",
           "OTHERS",
           "Bacteria",
           "Bacteria",
           "Cyanobacteria",
           "Other"
          ],
          [
           153,
           "Synechocystis",
           "Bacteria",
           "Cyanobacteria",
           "OTHERS",
           "Bacteria",
           "Bacteria",
           "Cyanobacteria",
           "Other"
          ],
          [
           154,
           "Nostoc1",
           "Bacteria",
           "Cyanobacteria",
           "OTHERS",
           "Bacteria",
           "Bacteria",
           "Cyanobacteria",
           "Other"
          ],
          [
           160,
           "Thermus",
           "Bacteria",
           "Deinococcus-Thermus",
           "OTHERS",
           "Bacteria",
           "Bacteria",
           "Deinococcus-Thermus",
           "Other"
          ],
          [
           161,
           "Deinococcus",
           "Bacteria",
           "Deinococcus-Thermus",
           "OTHERS",
           "Bacteria",
           "Bacteria",
           "Deinococcus-Thermus",
           "Other"
          ],
          [
           162,
           "Thermus",
           "Bacteria",
           "Deinococcus-Thermus",
           "OTHERS",
           "Bacteria",
           "Bacteria",
           "Deinococcus-Thermus",
           "Other"
          ],
          [
           163,
           "Deinococcus",
           "Bacteria",
           "Deinococcus-Thermus",
           "OTHERS",
           "Bacteria",
           "Bacteria",
           "Deinococcus-Thermus",
           "Other"
          ],
          [
           164,
           "Dehalococcoides",
           "Bacteria",
           "Chloroflexi",
           "OTHERS",
           "Bacteria",
           "Bacteria",
           "Chloroflexi",
           "Other"
          ],
          [
           165,
           "Chloroflexus",
           "Bacteria",
           "Chloroflexi",
           "OTHERS",
           "Bacteria",
           "Bacteria",
           "Chloroflexi",
           "Other"
          ],
          [
           166,
           "Chloroflexus",
           "Bacteria",
           "Chloroflexi",
           "OTHERS",
           "Bacteria",
           "Bacteria",
           "Chloroflexi",
           "Other"
          ],
          [
           167,
           "Chloroflexus",
           "Bacteria",
           "Chloroflexi",
           "OTHERS",
           "Bacteria",
           "Bacteria",
           "Chloroflexi",
           "Other"
          ],
          [
           168,
           "Aquifex",
           "Bacteria",
           "Aquificae",
           "OTHERS",
           "Bacteria",
           "Bacteria",
           "Aquificae",
           "Other"
          ],
          [
           169,
           "Bdellovibrio",
           "Bacteria",
           "Proteobacteria",
           "OTHERS",
           "Bacteria",
           "Bacteria",
           "Proteobacteria",
           "Oligoflexia"
          ],
          [
           170,
           "Geobacter",
           "Bacteria",
           "Proteobacteria",
           "OTHERS",
           "Bacteria",
           "Bacteria",
           "Proteobacteria",
           "Deltaproteobacteria"
          ],
          [
           171,
           "Bdellovibrio",
           "Bacteria",
           "Proteobacteria",
           "OTHERS",
           "Bacteria",
           "Bacteria",
           "Proteobacteria",
           "Oligoflexia"
          ],
          [
           172,
           "Desulfovibrio",
           "Bacteria",
           "Proteobacteria",
           "OTHERS",
           "Bacteria",
           "Bacteria",
           "Proteobacteria",
           "Deltaproteobacteria"
          ],
          [
           173,
           "Geobacter",
           "Bacteria",
           "Proteobacteria",
           "OTHERS",
           "Bacteria",
           "Bacteria",
           "Proteobacteria",
           "Deltaproteobacteria"
          ],
          [
           174,
           "Solibacter",
           "Bacteria",
           "Acidobacteria",
           "OTHERS",
           "Bacteria",
           "Bacteria",
           "Acidobacteria",
           "Other"
          ],
          [
           175,
           "Solibacter",
           "Bacteria",
           "Acidobacteria",
           "OTHERS",
           "Bacteria",
           "Bacteria",
           "Acidobacteria",
           "Other"
          ],
          [
           176,
           "Acidobacteria",
           "Bacteria",
           "Acidobacteria",
           "OTHERS",
           "Bacteria",
           "Bacteria",
           "Acidobacteria",
           "Other"
          ],
          [
           177,
           "Wolinella",
           "Bacteria",
           "Proteobacteria",
           "OTHERS",
           "Bacteria",
           "Bacteria",
           "Proteobacteria",
           "Epsilonproteobacteria"
          ],
          [
           178,
           "Helicobacter",
           "Bacteria",
           "Proteobacteria",
           "OTHERS",
           "Bacteria",
           "Bacteria",
           "Proteobacteria",
           "Epsilonproteobacteria"
          ],
          [
           179,
           "Campylobacter",
           "Bacteria",
           "Proteobacteria",
           "OTHERS",
           "Bacteria",
           "Bacteria",
           "Proteobacteria",
           "Epsilonproteobacteria"
          ],
          [
           180,
           "Helicobacter",
           "Bacteria",
           "Proteobacteria",
           "OTHERS",
           "Bacteria",
           "Bacteria",
           "Proteobacteria",
           "Epsilonproteobacteria"
          ],
          [
           181,
           "Wolinella",
           "Bacteria",
           "Proteobacteria",
           "OTHERS",
           "Bacteria",
           "Bacteria",
           "Proteobacteria",
           "Epsilonproteobacteria"
          ],
          [
           182,
           "Wolinella",
           "Bacteria",
           "Proteobacteria",
           "OTHERS",
           "Bacteria",
           "Bacteria",
           "Proteobacteria",
           "Epsilonproteobacteria"
          ],
          [
           183,
           "Agrobacterium",
           "Bacteria",
           "Proteobacteria",
           "OTHERS",
           "Bacteria",
           "Bacteria",
           "Proteobacteria",
           "Alphaproteobacteria"
          ],
          [
           184,
           "Sinorhizobium",
           "Bacteria",
           "Proteobacteria",
           "OTHERS",
           "Bacteria",
           "Bacteria",
           "Proteobacteria",
           "Alphaproteobacteria"
          ],
          [
           185,
           "Brucella",
           "Bacteria",
           "Proteobacteria",
           "OTHERS",
           "Bacteria",
           "Bacteria",
           "Proteobacteria",
           "Alphaproteobacteria"
          ],
          [
           186,
           "Rickettsia",
           "Bacteria",
           "Proteobacteria",
           "OTHERS",
           "Bacteria",
           "Bacteria",
           "Proteobacteria",
           "Alphaproteobacteria"
          ],
          [
           192,
           "Thiobacillus",
           "Bacteria",
           "Proteobacteria",
           "OTHERS",
           "Bacteria",
           "Bacteria",
           "Proteobacteria",
           "Betaproteobacteria"
          ],
          [
           193,
           "Neisseria",
           "Bacteria",
           "Proteobacteria",
           "OTHERS",
           "Bacteria",
           "Bacteria",
           "Proteobacteria",
           "Betaproteobacteria"
          ],
          [
           194,
           "Thiobacillus",
           "Bacteria",
           "Proteobacteria",
           "OTHERS",
           "Bacteria",
           "Bacteria",
           "Proteobacteria",
           "Betaproteobacteria"
          ],
          [
           195,
           "Burkholderia",
           "Bacteria",
           "Proteobacteria",
           "OTHERS",
           "Bacteria",
           "Bacteria",
           "Proteobacteria",
           "Betaproteobacteria"
          ],
          [
           196,
           "Bordetella",
           "Bacteria",
           "Proteobacteria",
           "OTHERS",
           "Bacteria",
           "Bacteria",
           "Proteobacteria",
           "Betaproteobacteria"
          ],
          [
           197,
           "Thiobacillus",
           "Bacteria",
           "Proteobacteria",
           "OTHERS",
           "Bacteria",
           "Bacteria",
           "Proteobacteria",
           "Betaproteobacteria"
          ],
          [
           198,
           "Thiobacillus",
           "Bacteria",
           "Proteobacteria",
           "OTHERS",
           "Bacteria",
           "Bacteria",
           "Proteobacteria",
           "Betaproteobacteria"
          ],
          [
           199,
           "Bordetella",
           "Bacteria",
           "Proteobacteria",
           "OTHERS",
           "Bacteria",
           "Bacteria",
           "Proteobacteria",
           "Betaproteobacteria"
          ],
          [
           200,
           "Pseudomonas",
           "Bacteria",
           "Proteobacteria",
           "OTHERS",
           "Bacteria",
           "Bacteria",
           "Proteobacteria",
           "Gammaproteobacteria"
          ],
          [
           201,
           "Vibrio",
           "Bacteria",
           "Proteobacteria",
           "OTHERS",
           "Bacteria",
           "Bacteria",
           "Proteobacteria",
           "Gammaproteobacteria"
          ],
          [
           202,
           "Yersinia",
           "Bacteria",
           "Proteobacteria",
           "OTHERS",
           "Bacteria",
           "Bacteria",
           "Proteobacteria",
           "Gammaproteobacteria"
          ],
          [
           203,
           "Salmonella",
           "Bacteria",
           "Proteobacteria",
           "OTHERS",
           "Bacteria",
           "Bacteria",
           "Proteobacteria",
           "Gammaproteobacteria"
          ],
          [
           204,
           "Shigella",
           "Bacteria",
           "Proteobacteria",
           "OTHERS",
           "Bacteria",
           "Bacteria",
           "Proteobacteria",
           "Gammaproteobacteria"
          ],
          [
           205,
           "Escherichia",
           "Bacteria",
           "Proteobacteria",
           "OTHERS",
           "Bacteria",
           "Bacteria",
           "Proteobacteria",
           "Gammaproteobacteria"
          ],
          [
           206,
           "Escherichia",
           "Bacteria",
           "Proteobacteria",
           "OTHERS",
           "Bacteria",
           "Bacteria",
           "Proteobacteria",
           "Gammaproteobacteria"
          ],
          [
           207,
           "Shigella",
           "Bacteria",
           "Proteobacteria",
           "OTHERS",
           "Bacteria",
           "Bacteria",
           "Proteobacteria",
           "Gammaproteobacteria"
          ],
          [
           208,
           "Salmonella",
           "Bacteria",
           "Proteobacteria",
           "OTHERS",
           "Bacteria",
           "Bacteria",
           "Proteobacteria",
           "Gammaproteobacteria"
          ],
          [
           209,
           "Yersinia",
           "Bacteria",
           "Proteobacteria",
           "OTHERS",
           "Bacteria",
           "Bacteria",
           "Proteobacteria",
           "Gammaproteobacteria"
          ],
          [
           210,
           "Vibrio",
           "Bacteria",
           "Proteobacteria",
           "OTHERS",
           "Bacteria",
           "Bacteria",
           "Proteobacteria",
           "Gammaproteobacteria"
          ]
         ],
         "hovertemplate": "<b>%{hovertext}</b><br><br>Kingdom=%{customdata[2]}<br>pm1=%{x}<br>pm2=%{y}<br>proteins_id=%{customdata[0]}<br>Species=%{customdata[1]}<br>Family=%{customdata[3]}<br>Color_eukaryota=%{customdata[4]}<br>Domain=%{customdata[5]}<br>Kingdom2=%{customdata[6]}<br>Phylum=%{customdata[7]}<br>Class=%{customdata[8]}<extra></extra>",
         "hovertext": [
          "Bacteria",
          "Bacteria",
          "Bacteria",
          "Bacteria",
          "Bacteria",
          "Bacteria",
          "Bacteria",
          "Bacteria",
          "Bacteria",
          "Bacteria",
          "Bacteria",
          "Bacteria",
          "Bacteria",
          "Bacteria",
          "Bacteria",
          "Bacteria",
          "Bacteria",
          "Bacteria",
          "Bacteria",
          "Bacteria",
          "Bacteria",
          "Bacteria",
          "Bacteria",
          "Bacteria",
          "Bacteria",
          "Bacteria",
          "Bacteria",
          "Bacteria",
          "Bacteria",
          "Bacteria",
          "Bacteria",
          "Bacteria",
          "Bacteria",
          "Bacteria",
          "Bacteria",
          "Bacteria",
          "Bacteria",
          "Bacteria",
          "Bacteria",
          "Bacteria",
          "Bacteria",
          "Bacteria",
          "Bacteria",
          "Bacteria",
          "Bacteria",
          "Bacteria",
          "Bacteria",
          "Bacteria",
          "Bacteria",
          "Bacteria",
          "Bacteria",
          "Bacteria",
          "Bacteria",
          "Bacteria",
          "Bacteria",
          "Bacteria",
          "Bacteria",
          "Bacteria",
          "Bacteria",
          "Bacteria",
          "Bacteria",
          "Bacteria",
          "Bacteria",
          "Bacteria",
          "Bacteria",
          "Bacteria",
          "Bacteria",
          "Bacteria",
          "Bacteria",
          "Bacteria",
          "Bacteria",
          "Bacteria",
          "Bacteria",
          "Bacteria",
          "Bacteria",
          "Bacteria",
          "Bacteria",
          "Bacteria",
          "Bacteria",
          "Bacteria",
          "Bacteria",
          "Bacteria",
          "Bacteria",
          "Bacteria",
          "Bacteria",
          "Bacteria",
          "Bacteria",
          "Bacteria",
          "Bacteria",
          "Bacteria",
          "Bacteria",
          "Bacteria",
          "Bacteria",
          "Bacteria",
          "Bacteria",
          "Bacteria",
          "Bacteria",
          "Bacteria",
          "Bacteria",
          "Bacteria",
          "Bacteria",
          "Bacteria",
          "Bacteria",
          "Bacteria",
          "Bacteria",
          "Bacteria",
          "Bacteria",
          "Bacteria",
          "Bacteria",
          "Bacteria"
         ],
         "legendgroup": "Bacteria",
         "marker": {
          "color": "#34b8e7",
          "symbol": "circle"
         },
         "mode": "markers",
         "name": "Bacteria",
         "orientation": "v",
         "showlegend": true,
         "type": "scatter",
         "x": [
          -0.45392463,
          -0.34016252,
          -0.49624127,
          -0.45985636,
          -0.42588368,
          -0.43836483,
          -0.33918554,
          -0.08994347,
          -0.12098819,
          -0.05887659,
          0.010435526,
          -0.08093859,
          -0.11946294,
          -0.10507102,
          -0.093142204,
          -0.064370684,
          -0.071453676,
          0.20535293,
          0.013115618,
          -0.2756276,
          0.24354395,
          0.07522465,
          -0.16185795,
          -0.017154617,
          -0.48604614,
          0.4617312,
          -0.20682378,
          0.56352395,
          -0.054421306,
          0.14048517,
          -0.34727454,
          -0.29478943,
          -0.2502324,
          -0.26838657,
          0.41870382,
          -0.26996565,
          -0.13130648,
          -0.052433725,
          -0.045630246,
          -0.052068073,
          -0.04551661,
          -0.06248878,
          -0.16659288,
          -0.03737631,
          0.42784914,
          0.4046272,
          0.54168355,
          0.50052935,
          0.48842686,
          -0.32013518,
          -0.18181834,
          -0.46258128,
          -0.48413414,
          -0.45512757,
          -0.23945606,
          -0.10268454,
          -0.48518077,
          -0.40637386,
          -0.21532805,
          0.509673,
          0.5976421,
          0.5975923,
          0.5736177,
          0.5595762,
          -0.27485386,
          -0.26540723,
          0.5217745,
          0.21347234,
          0.45284986,
          -0.19512837,
          -0.20741192,
          0.4244636,
          0.17736314,
          -0.06758271,
          -0.2576776,
          0.41414738,
          0.2492065,
          0.5160105,
          -0.25401154,
          0.6301048,
          0.55097,
          0.12837775,
          0.07850708,
          0.12833342,
          -0.37744358,
          -0.38709018,
          -0.42269897,
          0.45498952,
          0.43389213,
          0.47769332,
          0.17459495,
          -0.15063934,
          0.6059423,
          0.52873737,
          0.5329733,
          0.33192796,
          -0.27081737,
          -0.05209573,
          -0.05231382,
          0.46128544,
          0.5509759,
          0.5992948,
          0.507319,
          0.27518117,
          0.5564079,
          -0.2864227,
          -0.27321032,
          -0.27564302,
          -0.2817564,
          -0.2829989
         ],
         "xaxis": "x",
         "y": [
          0.07784544,
          -0.15032436,
          -0.0050045755,
          -0.03656966,
          -0.08034478,
          -0.11019566,
          0.2061929,
          0.12447718,
          -0.05119867,
          -0.19336529,
          -0.20651372,
          -0.14224263,
          -0.18138465,
          -0.14396296,
          -0.16028343,
          -0.01462321,
          -0.064357854,
          -0.20067157,
          -0.09551743,
          0.03188802,
          -0.05779023,
          0.6315038,
          -0.36690694,
          -0.3397702,
          0.22326714,
          -0.15735982,
          -0.052283894,
          -0.03865068,
          -0.2523072,
          -0.23652816,
          -0.08913265,
          0.59797406,
          0.60572046,
          0.60399204,
          0.121362746,
          0.5344868,
          0.35496706,
          0.3893518,
          0.3865804,
          0.38534048,
          0.39709744,
          0.5474013,
          0.5047113,
          0.53802174,
          -0.0727308,
          0.07767834,
          0.10262276,
          -0.019633705,
          0.09638189,
          0.17882624,
          0.14060225,
          0.24221931,
          0.25262827,
          0.2721211,
          0.57997185,
          0.661289,
          0.30827025,
          0.27386954,
          -0.13795626,
          -0.13375641,
          -0.12971434,
          -0.16497095,
          -0.15596369,
          -0.1998326,
          0.8700392,
          0.8905843,
          -0.11461753,
          0.5430079,
          -0.32417262,
          0.7832425,
          0.8324642,
          -0.22226766,
          0.5878656,
          0.24424471,
          0.8589831,
          0.005725337,
          -0.37662047,
          -0.20366997,
          0.8792623,
          -0.069464505,
          0.018110441,
          -0.28348368,
          -0.23376012,
          -0.28337002,
          -0.08093916,
          0.44913194,
          0.39646798,
          0.05345385,
          0.03290587,
          0.088007376,
          0.6467087,
          0.69994605,
          0.18877967,
          -0.034226906,
          0.13453919,
          0.6293445,
          0.88205165,
          0.3846934,
          0.38559264,
          0.22118224,
          0.17213874,
          0.2050054,
          0.2323385,
          0.52318597,
          0.22339977,
          0.8918129,
          0.89997447,
          0.89203674,
          0.88140607,
          0.89997894
         ],
         "yaxis": "y"
        }
       ],
       "layout": {
        "font": {
         "size": 11
        },
        "height": 800,
        "legend": {
         "title": {
          "text": "Kingdom"
         },
         "tracegroupgap": 0
        },
        "plot_bgcolor": "rgba(0, 0, 0, 0)",
        "shapes": [
         {
          "line": {
           "color": "black",
           "dash": "dot"
          },
          "opacity": 0.15,
          "type": "circle",
          "x0": -0.47058823529411764,
          "x1": 0.47058823529411764,
          "y0": -0.47058823529411764,
          "y1": 0.47058823529411764
         },
         {
          "line": {
           "color": "black",
           "dash": "dot"
          },
          "opacity": 0.15,
          "type": "circle",
          "x0": -0.644736842105263,
          "x1": 0.644736842105263,
          "y0": -0.644736842105263,
          "y1": 0.644736842105263
         },
         {
          "line": {
           "color": "black",
           "dash": "dot"
          },
          "opacity": 0.15,
          "type": "circle",
          "x0": -0.7705382436260623,
          "x1": 0.7705382436260623,
          "y0": -0.7705382436260623,
          "y1": 0.7705382436260623
         },
         {
          "line": {
           "color": "black",
           "dash": "dot"
          },
          "opacity": 0.15,
          "type": "circle",
          "x0": -0.8557007125890735,
          "x1": 0.8557007125890735,
          "y0": -0.8557007125890735,
          "y1": 0.8557007125890735
         },
         {
          "line": {
           "color": "black",
           "dash": "dot"
          },
          "opacity": 0.15,
          "type": "circle",
          "x0": -0.9108474990827932,
          "x1": 0.9108474990827932,
          "y0": -0.9108474990827932,
          "y1": 0.9108474990827932
         },
         {
          "line": {
           "color": "black",
           "dash": "dot"
          },
          "opacity": 0.15,
          "type": "circle",
          "x0": -0.9455374041239167,
          "x1": 0.9455374041239167,
          "y0": -0.9455374041239167,
          "y1": 0.9455374041239167
         },
         {
          "line": {
           "color": "Black"
          },
          "type": "circle",
          "x0": -1,
          "x1": 1,
          "xref": "x",
          "y0": -1,
          "y1": 1,
          "yref": "y"
         },
         {
          "fillcolor": "Black",
          "line": {
           "color": "Black"
          },
          "type": "circle",
          "x0": -0.005,
          "x1": 0.005,
          "xref": "x",
          "y0": -0.005,
          "y1": 0.005,
          "yref": "y"
         }
        ],
        "template": {
         "data": {
          "bar": [
           {
            "error_x": {
             "color": "#2a3f5f"
            },
            "error_y": {
             "color": "#2a3f5f"
            },
            "marker": {
             "line": {
              "color": "#E5ECF6",
              "width": 0.5
             },
             "pattern": {
              "fillmode": "overlay",
              "size": 10,
              "solidity": 0.2
             }
            },
            "type": "bar"
           }
          ],
          "barpolar": [
           {
            "marker": {
             "line": {
              "color": "#E5ECF6",
              "width": 0.5
             },
             "pattern": {
              "fillmode": "overlay",
              "size": 10,
              "solidity": 0.2
             }
            },
            "type": "barpolar"
           }
          ],
          "carpet": [
           {
            "aaxis": {
             "endlinecolor": "#2a3f5f",
             "gridcolor": "white",
             "linecolor": "white",
             "minorgridcolor": "white",
             "startlinecolor": "#2a3f5f"
            },
            "baxis": {
             "endlinecolor": "#2a3f5f",
             "gridcolor": "white",
             "linecolor": "white",
             "minorgridcolor": "white",
             "startlinecolor": "#2a3f5f"
            },
            "type": "carpet"
           }
          ],
          "choropleth": [
           {
            "colorbar": {
             "outlinewidth": 0,
             "ticks": ""
            },
            "type": "choropleth"
           }
          ],
          "contour": [
           {
            "colorbar": {
             "outlinewidth": 0,
             "ticks": ""
            },
            "colorscale": [
             [
              0,
              "#0d0887"
             ],
             [
              0.1111111111111111,
              "#46039f"
             ],
             [
              0.2222222222222222,
              "#7201a8"
             ],
             [
              0.3333333333333333,
              "#9c179e"
             ],
             [
              0.4444444444444444,
              "#bd3786"
             ],
             [
              0.5555555555555556,
              "#d8576b"
             ],
             [
              0.6666666666666666,
              "#ed7953"
             ],
             [
              0.7777777777777778,
              "#fb9f3a"
             ],
             [
              0.8888888888888888,
              "#fdca26"
             ],
             [
              1,
              "#f0f921"
             ]
            ],
            "type": "contour"
           }
          ],
          "contourcarpet": [
           {
            "colorbar": {
             "outlinewidth": 0,
             "ticks": ""
            },
            "type": "contourcarpet"
           }
          ],
          "heatmap": [
           {
            "colorbar": {
             "outlinewidth": 0,
             "ticks": ""
            },
            "colorscale": [
             [
              0,
              "#0d0887"
             ],
             [
              0.1111111111111111,
              "#46039f"
             ],
             [
              0.2222222222222222,
              "#7201a8"
             ],
             [
              0.3333333333333333,
              "#9c179e"
             ],
             [
              0.4444444444444444,
              "#bd3786"
             ],
             [
              0.5555555555555556,
              "#d8576b"
             ],
             [
              0.6666666666666666,
              "#ed7953"
             ],
             [
              0.7777777777777778,
              "#fb9f3a"
             ],
             [
              0.8888888888888888,
              "#fdca26"
             ],
             [
              1,
              "#f0f921"
             ]
            ],
            "type": "heatmap"
           }
          ],
          "heatmapgl": [
           {
            "colorbar": {
             "outlinewidth": 0,
             "ticks": ""
            },
            "colorscale": [
             [
              0,
              "#0d0887"
             ],
             [
              0.1111111111111111,
              "#46039f"
             ],
             [
              0.2222222222222222,
              "#7201a8"
             ],
             [
              0.3333333333333333,
              "#9c179e"
             ],
             [
              0.4444444444444444,
              "#bd3786"
             ],
             [
              0.5555555555555556,
              "#d8576b"
             ],
             [
              0.6666666666666666,
              "#ed7953"
             ],
             [
              0.7777777777777778,
              "#fb9f3a"
             ],
             [
              0.8888888888888888,
              "#fdca26"
             ],
             [
              1,
              "#f0f921"
             ]
            ],
            "type": "heatmapgl"
           }
          ],
          "histogram": [
           {
            "marker": {
             "pattern": {
              "fillmode": "overlay",
              "size": 10,
              "solidity": 0.2
             }
            },
            "type": "histogram"
           }
          ],
          "histogram2d": [
           {
            "colorbar": {
             "outlinewidth": 0,
             "ticks": ""
            },
            "colorscale": [
             [
              0,
              "#0d0887"
             ],
             [
              0.1111111111111111,
              "#46039f"
             ],
             [
              0.2222222222222222,
              "#7201a8"
             ],
             [
              0.3333333333333333,
              "#9c179e"
             ],
             [
              0.4444444444444444,
              "#bd3786"
             ],
             [
              0.5555555555555556,
              "#d8576b"
             ],
             [
              0.6666666666666666,
              "#ed7953"
             ],
             [
              0.7777777777777778,
              "#fb9f3a"
             ],
             [
              0.8888888888888888,
              "#fdca26"
             ],
             [
              1,
              "#f0f921"
             ]
            ],
            "type": "histogram2d"
           }
          ],
          "histogram2dcontour": [
           {
            "colorbar": {
             "outlinewidth": 0,
             "ticks": ""
            },
            "colorscale": [
             [
              0,
              "#0d0887"
             ],
             [
              0.1111111111111111,
              "#46039f"
             ],
             [
              0.2222222222222222,
              "#7201a8"
             ],
             [
              0.3333333333333333,
              "#9c179e"
             ],
             [
              0.4444444444444444,
              "#bd3786"
             ],
             [
              0.5555555555555556,
              "#d8576b"
             ],
             [
              0.6666666666666666,
              "#ed7953"
             ],
             [
              0.7777777777777778,
              "#fb9f3a"
             ],
             [
              0.8888888888888888,
              "#fdca26"
             ],
             [
              1,
              "#f0f921"
             ]
            ],
            "type": "histogram2dcontour"
           }
          ],
          "mesh3d": [
           {
            "colorbar": {
             "outlinewidth": 0,
             "ticks": ""
            },
            "type": "mesh3d"
           }
          ],
          "parcoords": [
           {
            "line": {
             "colorbar": {
              "outlinewidth": 0,
              "ticks": ""
             }
            },
            "type": "parcoords"
           }
          ],
          "pie": [
           {
            "automargin": true,
            "type": "pie"
           }
          ],
          "scatter": [
           {
            "fillpattern": {
             "fillmode": "overlay",
             "size": 10,
             "solidity": 0.2
            },
            "type": "scatter"
           }
          ],
          "scatter3d": [
           {
            "line": {
             "colorbar": {
              "outlinewidth": 0,
              "ticks": ""
             }
            },
            "marker": {
             "colorbar": {
              "outlinewidth": 0,
              "ticks": ""
             }
            },
            "type": "scatter3d"
           }
          ],
          "scattercarpet": [
           {
            "marker": {
             "colorbar": {
              "outlinewidth": 0,
              "ticks": ""
             }
            },
            "type": "scattercarpet"
           }
          ],
          "scattergeo": [
           {
            "marker": {
             "colorbar": {
              "outlinewidth": 0,
              "ticks": ""
             }
            },
            "type": "scattergeo"
           }
          ],
          "scattergl": [
           {
            "marker": {
             "colorbar": {
              "outlinewidth": 0,
              "ticks": ""
             }
            },
            "type": "scattergl"
           }
          ],
          "scattermapbox": [
           {
            "marker": {
             "colorbar": {
              "outlinewidth": 0,
              "ticks": ""
             }
            },
            "type": "scattermapbox"
           }
          ],
          "scatterpolar": [
           {
            "marker": {
             "colorbar": {
              "outlinewidth": 0,
              "ticks": ""
             }
            },
            "type": "scatterpolar"
           }
          ],
          "scatterpolargl": [
           {
            "marker": {
             "colorbar": {
              "outlinewidth": 0,
              "ticks": ""
             }
            },
            "type": "scatterpolargl"
           }
          ],
          "scatterternary": [
           {
            "marker": {
             "colorbar": {
              "outlinewidth": 0,
              "ticks": ""
             }
            },
            "type": "scatterternary"
           }
          ],
          "surface": [
           {
            "colorbar": {
             "outlinewidth": 0,
             "ticks": ""
            },
            "colorscale": [
             [
              0,
              "#0d0887"
             ],
             [
              0.1111111111111111,
              "#46039f"
             ],
             [
              0.2222222222222222,
              "#7201a8"
             ],
             [
              0.3333333333333333,
              "#9c179e"
             ],
             [
              0.4444444444444444,
              "#bd3786"
             ],
             [
              0.5555555555555556,
              "#d8576b"
             ],
             [
              0.6666666666666666,
              "#ed7953"
             ],
             [
              0.7777777777777778,
              "#fb9f3a"
             ],
             [
              0.8888888888888888,
              "#fdca26"
             ],
             [
              1,
              "#f0f921"
             ]
            ],
            "type": "surface"
           }
          ],
          "table": [
           {
            "cells": {
             "fill": {
              "color": "#EBF0F8"
             },
             "line": {
              "color": "white"
             }
            },
            "header": {
             "fill": {
              "color": "#C8D4E3"
             },
             "line": {
              "color": "white"
             }
            },
            "type": "table"
           }
          ]
         },
         "layout": {
          "annotationdefaults": {
           "arrowcolor": "#2a3f5f",
           "arrowhead": 0,
           "arrowwidth": 1
          },
          "autotypenumbers": "strict",
          "coloraxis": {
           "colorbar": {
            "outlinewidth": 0,
            "ticks": ""
           }
          },
          "colorscale": {
           "diverging": [
            [
             0,
             "#8e0152"
            ],
            [
             0.1,
             "#c51b7d"
            ],
            [
             0.2,
             "#de77ae"
            ],
            [
             0.3,
             "#f1b6da"
            ],
            [
             0.4,
             "#fde0ef"
            ],
            [
             0.5,
             "#f7f7f7"
            ],
            [
             0.6,
             "#e6f5d0"
            ],
            [
             0.7,
             "#b8e186"
            ],
            [
             0.8,
             "#7fbc41"
            ],
            [
             0.9,
             "#4d9221"
            ],
            [
             1,
             "#276419"
            ]
           ],
           "sequential": [
            [
             0,
             "#0d0887"
            ],
            [
             0.1111111111111111,
             "#46039f"
            ],
            [
             0.2222222222222222,
             "#7201a8"
            ],
            [
             0.3333333333333333,
             "#9c179e"
            ],
            [
             0.4444444444444444,
             "#bd3786"
            ],
            [
             0.5555555555555556,
             "#d8576b"
            ],
            [
             0.6666666666666666,
             "#ed7953"
            ],
            [
             0.7777777777777778,
             "#fb9f3a"
            ],
            [
             0.8888888888888888,
             "#fdca26"
            ],
            [
             1,
             "#f0f921"
            ]
           ],
           "sequentialminus": [
            [
             0,
             "#0d0887"
            ],
            [
             0.1111111111111111,
             "#46039f"
            ],
            [
             0.2222222222222222,
             "#7201a8"
            ],
            [
             0.3333333333333333,
             "#9c179e"
            ],
            [
             0.4444444444444444,
             "#bd3786"
            ],
            [
             0.5555555555555556,
             "#d8576b"
            ],
            [
             0.6666666666666666,
             "#ed7953"
            ],
            [
             0.7777777777777778,
             "#fb9f3a"
            ],
            [
             0.8888888888888888,
             "#fdca26"
            ],
            [
             1,
             "#f0f921"
            ]
           ]
          },
          "colorway": [
           "#636efa",
           "#EF553B",
           "#00cc96",
           "#ab63fa",
           "#FFA15A",
           "#19d3f3",
           "#FF6692",
           "#B6E880",
           "#FF97FF",
           "#FECB52"
          ],
          "font": {
           "color": "#2a3f5f"
          },
          "geo": {
           "bgcolor": "white",
           "lakecolor": "white",
           "landcolor": "#E5ECF6",
           "showlakes": true,
           "showland": true,
           "subunitcolor": "white"
          },
          "hoverlabel": {
           "align": "left"
          },
          "hovermode": "closest",
          "mapbox": {
           "style": "light"
          },
          "paper_bgcolor": "white",
          "plot_bgcolor": "#E5ECF6",
          "polar": {
           "angularaxis": {
            "gridcolor": "white",
            "linecolor": "white",
            "ticks": ""
           },
           "bgcolor": "#E5ECF6",
           "radialaxis": {
            "gridcolor": "white",
            "linecolor": "white",
            "ticks": ""
           }
          },
          "scene": {
           "xaxis": {
            "backgroundcolor": "#E5ECF6",
            "gridcolor": "white",
            "gridwidth": 2,
            "linecolor": "white",
            "showbackground": true,
            "ticks": "",
            "zerolinecolor": "white"
           },
           "yaxis": {
            "backgroundcolor": "#E5ECF6",
            "gridcolor": "white",
            "gridwidth": 2,
            "linecolor": "white",
            "showbackground": true,
            "ticks": "",
            "zerolinecolor": "white"
           },
           "zaxis": {
            "backgroundcolor": "#E5ECF6",
            "gridcolor": "white",
            "gridwidth": 2,
            "linecolor": "white",
            "showbackground": true,
            "ticks": "",
            "zerolinecolor": "white"
           }
          },
          "shapedefaults": {
           "line": {
            "color": "#2a3f5f"
           }
          },
          "ternary": {
           "aaxis": {
            "gridcolor": "white",
            "linecolor": "white",
            "ticks": ""
           },
           "baxis": {
            "gridcolor": "white",
            "linecolor": "white",
            "ticks": ""
           },
           "bgcolor": "#E5ECF6",
           "caxis": {
            "gridcolor": "white",
            "linecolor": "white",
            "ticks": ""
           }
          },
          "title": {
           "x": 0.05
          },
          "xaxis": {
           "automargin": true,
           "gridcolor": "white",
           "linecolor": "white",
           "ticks": "",
           "title": {
            "standoff": 15
           },
           "zerolinecolor": "white",
           "zerolinewidth": 2
          },
          "yaxis": {
           "automargin": true,
           "gridcolor": "white",
           "linecolor": "white",
           "ticks": "",
           "title": {
            "standoff": 15
           },
           "zerolinecolor": "white",
           "zerolinewidth": 2
          }
         }
        },
        "title": {
         "text": "PM projection of thioredoxins colored by kingdom of life with embeddings",
         "x": 0.5
        },
        "xaxis": {
         "anchor": "y",
         "constrain": "domain",
         "domain": [
          0,
          1
         ],
         "range": [
          -1.1,
          1.1
         ],
         "title": {
          "text": "pm1"
         }
        },
        "yaxis": {
         "anchor": "x",
         "domain": [
          0,
          1
         ],
         "scaleanchor": "x",
         "scaleratio": 1,
         "title": {
          "text": "pm2"
         }
        },
        "yaxis2": {
         "layer": "below traces",
         "matches": "y",
         "overlaying": "y"
        }
       }
      }
     },
     "metadata": {},
     "output_type": "display_data"
    }
   ],
   "source": [
    "# OPTIONS =================================================\n",
    "#Here you can set different parameters to color & annotate the resulting projection:\n",
    "title = \"PM projection of thioredoxins colored by kingdom of life with embeddings\" \n",
    "#----------------------------------------------------------\n",
    "# Select the coloring from annotation .csv file:\n",
    "labels_name = \"Kingdom\"\n",
    "# Select classes to label among the \"labels_name\" or \"second_labels_name\" column (comma separated list):\n",
    "second_labels_name = \"\"\n",
    "labels_text = []\n",
    "show_text = False\n",
    "#----------------------------------------------------------\n",
    "# Use a custom color palette:\n",
    "color_palette = trx_palette #Default: None\n",
    "use_custom_palette = True\n",
    "#==========================================================\n",
    "\n",
    "\n",
    "#Check projection visualization parameters\n",
    "#Labels name\n",
    "if labels_name == \"\":\n",
    "    labels_name = None\n",
    "elif labels_name not in annotation_names:\n",
    "    raise NameError(f\"labels_name {labels_name} is not in the availables annotations.\\nAvailables annotations: {annotation_names}\")\n",
    "#Second labels name\n",
    "if second_labels_name == \"\":\n",
    "    second_labels_name = None\n",
    "elif second_labels_name not in annotation_names:\n",
    "    raise NameError(f'\"second_labels_name\" {second_labels_name} is not in the availables annotations.\\nAvailables annotations: {annotation_names}')\n",
    "\n",
    "if not use_custom_palette:\n",
    "    color_palette = None\n",
    "\n",
    "#Plot graph\n",
    "fig = plot_embedding_interactive(df_embedding, \n",
    "                                 labels_name = labels_name,\n",
    "                                 second_labels_name = second_labels_name, \n",
    "                                 show_text = show_text,\n",
    "                                 labels_text = labels_text,\n",
    "                                 color_palette = color_palette, \n",
    "                                 title = title, \n",
    "                                 fontsize = 11)\n",
    "fig.show()"
   ]
  },
  {
   "cell_type": "code",
   "execution_count": 8,
   "metadata": {},
   "outputs": [
    {
     "data": {
      "application/vnd.plotly.v1+json": {
       "config": {
        "plotlyServerURL": "https://plot.ly"
       },
       "data": [
        {
         "customdata": [
          [
           1,
           "LBCA",
           "LBCA",
           "LBCA",
           "OTHERS",
           "LBCA",
           "LBCA",
           "LBCA",
           "LBCA"
          ]
         ],
         "hovertemplate": "<b>%{hovertext}</b><br><br>Species=%{customdata[1]}<br>pm1=%{x}<br>pm2=%{y}<br>proteins_id=%{customdata[0]}<br>Kingdom=%{customdata[2]}<br>Family=%{customdata[3]}<br>Color_eukaryota=%{customdata[4]}<br>Domain=%{customdata[5]}<br>Kingdom2=%{customdata[6]}<br>Phylum=%{customdata[7]}<br>Class=%{customdata[8]}<extra></extra>",
         "hovertext": [
          "LBCA"
         ],
         "legendgroup": "LBCA",
         "marker": {
          "color": "#34b8e7",
          "symbol": "circle"
         },
         "mode": "markers",
         "name": "LBCA",
         "orientation": "v",
         "showlegend": true,
         "type": "scatter",
         "x": [
          0.31836897
         ],
         "xaxis": "x",
         "y": [
          -0.3099385
         ],
         "yaxis": "y"
        },
        {
         "customdata": [
          [
           2,
           "LACA",
           "LACA",
           "LACA",
           "OTHERS",
           "LACA",
           "LACA",
           "LACA",
           "LACA"
          ]
         ],
         "hovertemplate": "<b>%{hovertext}</b><br><br>Species=%{customdata[1]}<br>pm1=%{x}<br>pm2=%{y}<br>proteins_id=%{customdata[0]}<br>Kingdom=%{customdata[2]}<br>Family=%{customdata[3]}<br>Color_eukaryota=%{customdata[4]}<br>Domain=%{customdata[5]}<br>Kingdom2=%{customdata[6]}<br>Phylum=%{customdata[7]}<br>Class=%{customdata[8]}<extra></extra>",
         "hovertext": [
          "LACA"
         ],
         "legendgroup": "LACA",
         "marker": {
          "color": "#ff0000",
          "symbol": "circle"
         },
         "mode": "markers",
         "name": "LACA",
         "orientation": "v",
         "showlegend": true,
         "type": "scatter",
         "x": [
          0.31788266
         ],
         "xaxis": "x",
         "y": [
          -0.30412292
         ],
         "yaxis": "y"
        },
        {
         "customdata": [
          [
           3,
           "AECA",
           "AECA",
           "AECA",
           "OTHERS",
           "AECA",
           "AECA",
           "AECA",
           "AECA"
          ]
         ],
         "hovertemplate": "<b>%{hovertext}</b><br><br>Species=%{customdata[1]}<br>pm1=%{x}<br>pm2=%{y}<br>proteins_id=%{customdata[0]}<br>Kingdom=%{customdata[2]}<br>Family=%{customdata[3]}<br>Color_eukaryota=%{customdata[4]}<br>Domain=%{customdata[5]}<br>Kingdom2=%{customdata[6]}<br>Phylum=%{customdata[7]}<br>Class=%{customdata[8]}<extra></extra>",
         "hovertext": [
          "AECA"
         ],
         "legendgroup": "AECA",
         "marker": {
          "color": "#e7e53c",
          "symbol": "circle"
         },
         "mode": "markers",
         "name": "AECA",
         "orientation": "v",
         "showlegend": true,
         "type": "scatter",
         "x": [
          0.3173667
         ],
         "xaxis": "x",
         "y": [
          -0.29328373
         ],
         "yaxis": "y"
        },
        {
         "customdata": [
          [
           4,
           "LGPCA",
           "LGPCA",
           "LGPCA",
           "OTHERS",
           "LGPCA",
           "LGPCA",
           "LGPCA",
           "LGPCA"
          ]
         ],
         "hovertemplate": "<b>%{hovertext}</b><br><br>Species=%{customdata[1]}<br>pm1=%{x}<br>pm2=%{y}<br>proteins_id=%{customdata[0]}<br>Kingdom=%{customdata[2]}<br>Family=%{customdata[3]}<br>Color_eukaryota=%{customdata[4]}<br>Domain=%{customdata[5]}<br>Kingdom2=%{customdata[6]}<br>Phylum=%{customdata[7]}<br>Class=%{customdata[8]}<extra></extra>",
         "hovertext": [
          "LGPCA"
         ],
         "legendgroup": "LGPCA",
         "marker": {
          "color": "#34b8e7",
          "symbol": "circle"
         },
         "mode": "markers",
         "name": "LGPCA",
         "orientation": "v",
         "showlegend": true,
         "type": "scatter",
         "x": [
          0.3212584
         ],
         "xaxis": "x",
         "y": [
          -0.20293713
         ],
         "yaxis": "y"
        },
        {
         "customdata": [
          [
           5,
           "LECA",
           "LECA",
           "LECA",
           "OTHERS",
           "LECA",
           "LECA",
           "LECA",
           "LECA"
          ]
         ],
         "hovertemplate": "<b>%{hovertext}</b><br><br>Species=%{customdata[1]}<br>pm1=%{x}<br>pm2=%{y}<br>proteins_id=%{customdata[0]}<br>Kingdom=%{customdata[2]}<br>Family=%{customdata[3]}<br>Color_eukaryota=%{customdata[4]}<br>Domain=%{customdata[5]}<br>Kingdom2=%{customdata[6]}<br>Phylum=%{customdata[7]}<br>Class=%{customdata[8]}<extra></extra>",
         "hovertext": [
          "LECA"
         ],
         "legendgroup": "LECA",
         "marker": {
          "color": "#21e548",
          "symbol": "circle"
         },
         "mode": "markers",
         "name": "LECA",
         "orientation": "v",
         "showlegend": true,
         "type": "scatter",
         "x": [
          -0.17983095
         ],
         "xaxis": "x",
         "y": [
          -0.8970734
         ],
         "yaxis": "y"
        },
        {
         "customdata": [
          [
           6,
           "LPBCA",
           "LPBCA",
           "LPBCA",
           "OTHERS",
           "LPBCA",
           "LPBCA",
           "LPBCA",
           "LPBCA"
          ]
         ],
         "hovertemplate": "<b>%{hovertext}</b><br><br>Species=%{customdata[1]}<br>pm1=%{x}<br>pm2=%{y}<br>proteins_id=%{customdata[0]}<br>Kingdom=%{customdata[2]}<br>Family=%{customdata[3]}<br>Color_eukaryota=%{customdata[4]}<br>Domain=%{customdata[5]}<br>Kingdom2=%{customdata[6]}<br>Phylum=%{customdata[7]}<br>Class=%{customdata[8]}<extra></extra>",
         "hovertext": [
          "LPBCA"
         ],
         "legendgroup": "LPBCA",
         "marker": {
          "color": "#34b8e7",
          "symbol": "circle"
         },
         "mode": "markers",
         "name": "LPBCA",
         "orientation": "v",
         "showlegend": true,
         "type": "scatter",
         "x": [
          0.35765797
         ],
         "xaxis": "x",
         "y": [
          -0.30866078
         ],
         "yaxis": "y"
        },
        {
         "customdata": [
          [
           7,
           "LAFCA",
           "LAFCA",
           "LAFCA",
           "OTHERS",
           "LAFCA",
           "LAFCA",
           "LAFCA",
           "LAFCA"
          ]
         ],
         "hovertemplate": "<b>%{hovertext}</b><br><br>Species=%{customdata[1]}<br>pm1=%{x}<br>pm2=%{y}<br>proteins_id=%{customdata[0]}<br>Kingdom=%{customdata[2]}<br>Family=%{customdata[3]}<br>Color_eukaryota=%{customdata[4]}<br>Domain=%{customdata[5]}<br>Kingdom2=%{customdata[6]}<br>Phylum=%{customdata[7]}<br>Class=%{customdata[8]}<extra></extra>",
         "hovertext": [
          "LAFCA"
         ],
         "legendgroup": "LAFCA",
         "marker": {
          "color": "#21e548",
          "symbol": "circle"
         },
         "mode": "markers",
         "name": "LAFCA",
         "orientation": "v",
         "showlegend": true,
         "type": "scatter",
         "x": [
          -0.16472702
         ],
         "xaxis": "x",
         "y": [
          -0.8912487
         ],
         "yaxis": "y"
        },
        {
         "customdata": [
          [
           8,
           "Ovis",
           "Eukaryota",
           "Metazoa",
           "EUKARYOTA",
           "Eukaryota",
           "Metazoa",
           "Chordata",
           "Mammalia"
          ]
         ],
         "hovertemplate": "<b>%{hovertext}</b><br><br>Species=%{customdata[1]}<br>pm1=%{x}<br>pm2=%{y}<br>proteins_id=%{customdata[0]}<br>Kingdom=%{customdata[2]}<br>Family=%{customdata[3]}<br>Color_eukaryota=%{customdata[4]}<br>Domain=%{customdata[5]}<br>Kingdom2=%{customdata[6]}<br>Phylum=%{customdata[7]}<br>Class=%{customdata[8]}<extra></extra>",
         "hovertext": [
          "Ovis"
         ],
         "legendgroup": "Ovis",
         "marker": {
          "color": "#21e548",
          "symbol": "circle"
         },
         "mode": "markers",
         "name": "Ovis",
         "orientation": "v",
         "showlegend": true,
         "type": "scatter",
         "x": [
          -0.23720357
         ],
         "xaxis": "x",
         "y": [
          -0.92686105
         ],
         "yaxis": "y"
        },
        {
         "customdata": [
          [
           9,
           "Bos",
           "Eukaryota",
           "Metazoa",
           "EUKARYOTA",
           "Eukaryota",
           "Metazoa",
           "Chordata",
           "Mammalia"
          ]
         ],
         "hovertemplate": "<b>%{hovertext}</b><br><br>Species=%{customdata[1]}<br>pm1=%{x}<br>pm2=%{y}<br>proteins_id=%{customdata[0]}<br>Kingdom=%{customdata[2]}<br>Family=%{customdata[3]}<br>Color_eukaryota=%{customdata[4]}<br>Domain=%{customdata[5]}<br>Kingdom2=%{customdata[6]}<br>Phylum=%{customdata[7]}<br>Class=%{customdata[8]}<extra></extra>",
         "hovertext": [
          "Bos"
         ],
         "legendgroup": "Bos",
         "marker": {
          "color": "#21e548",
          "symbol": "circle"
         },
         "mode": "markers",
         "name": "Bos",
         "orientation": "v",
         "showlegend": true,
         "type": "scatter",
         "x": [
          -0.23074535
         ],
         "xaxis": "x",
         "y": [
          -0.9236674
         ],
         "yaxis": "y"
        },
        {
         "customdata": [
          [
           10,
           "Sus",
           "Eukaryota",
           "Metazoa",
           "EUKARYOTA",
           "Eukaryota",
           "Metazoa",
           "Chordata",
           "Mammalia"
          ]
         ],
         "hovertemplate": "<b>%{hovertext}</b><br><br>Species=%{customdata[1]}<br>pm1=%{x}<br>pm2=%{y}<br>proteins_id=%{customdata[0]}<br>Kingdom=%{customdata[2]}<br>Family=%{customdata[3]}<br>Color_eukaryota=%{customdata[4]}<br>Domain=%{customdata[5]}<br>Kingdom2=%{customdata[6]}<br>Phylum=%{customdata[7]}<br>Class=%{customdata[8]}<extra></extra>",
         "hovertext": [
          "Sus"
         ],
         "legendgroup": "Sus",
         "marker": {
          "color": "#21e548",
          "symbol": "circle"
         },
         "mode": "markers",
         "name": "Sus",
         "orientation": "v",
         "showlegend": true,
         "type": "scatter",
         "x": [
          -0.22720277
         ],
         "xaxis": "x",
         "y": [
          -0.93074703
         ],
         "yaxis": "y"
        },
        {
         "customdata": [
          [
           11,
           "Equus",
           "Eukaryota",
           "Metazoa",
           "EUKARYOTA",
           "Eukaryota",
           "Metazoa",
           "Chordata",
           "Mammalia"
          ],
          [
           188,
           "Equus",
           "Eukaryota",
           "Metazoa",
           "EUKARYOTA",
           "Eukaryota",
           "Metazoa",
           "Chordata",
           "Mammalia"
          ]
         ],
         "hovertemplate": "<b>%{hovertext}</b><br><br>Species=%{customdata[1]}<br>pm1=%{x}<br>pm2=%{y}<br>proteins_id=%{customdata[0]}<br>Kingdom=%{customdata[2]}<br>Family=%{customdata[3]}<br>Color_eukaryota=%{customdata[4]}<br>Domain=%{customdata[5]}<br>Kingdom2=%{customdata[6]}<br>Phylum=%{customdata[7]}<br>Class=%{customdata[8]}<extra></extra>",
         "hovertext": [
          "Equus",
          "Equus"
         ],
         "legendgroup": "Equus",
         "marker": {
          "color": "#21e548",
          "symbol": "circle"
         },
         "mode": "markers",
         "name": "Equus",
         "orientation": "v",
         "showlegend": true,
         "type": "scatter",
         "x": [
          -0.21917698,
          0.5570296
         ],
         "xaxis": "x",
         "y": [
          -0.927685,
          0.70756763
         ],
         "yaxis": "y"
        },
        {
         "customdata": [
          [
           12,
           "Mus",
           "Eukaryota",
           "Metazoa",
           "EUKARYOTA",
           "Eukaryota",
           "Metazoa",
           "Chordata",
           "Mammalia"
          ]
         ],
         "hovertemplate": "<b>%{hovertext}</b><br><br>Species=%{customdata[1]}<br>pm1=%{x}<br>pm2=%{y}<br>proteins_id=%{customdata[0]}<br>Kingdom=%{customdata[2]}<br>Family=%{customdata[3]}<br>Color_eukaryota=%{customdata[4]}<br>Domain=%{customdata[5]}<br>Kingdom2=%{customdata[6]}<br>Phylum=%{customdata[7]}<br>Class=%{customdata[8]}<extra></extra>",
         "hovertext": [
          "Mus"
         ],
         "legendgroup": "Mus",
         "marker": {
          "color": "#21e548",
          "symbol": "circle"
         },
         "mode": "markers",
         "name": "Mus",
         "orientation": "v",
         "showlegend": true,
         "type": "scatter",
         "x": [
          -0.21093066
         ],
         "xaxis": "x",
         "y": [
          -0.9174467
         ],
         "yaxis": "y"
        },
        {
         "customdata": [
          [
           13,
           "Rattus",
           "Eukaryota",
           "Metazoa",
           "EUKARYOTA",
           "Eukaryota",
           "Metazoa",
           "Chordata",
           "Mammalia"
          ]
         ],
         "hovertemplate": "<b>%{hovertext}</b><br><br>Species=%{customdata[1]}<br>pm1=%{x}<br>pm2=%{y}<br>proteins_id=%{customdata[0]}<br>Kingdom=%{customdata[2]}<br>Family=%{customdata[3]}<br>Color_eukaryota=%{customdata[4]}<br>Domain=%{customdata[5]}<br>Kingdom2=%{customdata[6]}<br>Phylum=%{customdata[7]}<br>Class=%{customdata[8]}<extra></extra>",
         "hovertext": [
          "Rattus"
         ],
         "legendgroup": "Rattus",
         "marker": {
          "color": "#21e548",
          "symbol": "circle"
         },
         "mode": "markers",
         "name": "Rattus",
         "orientation": "v",
         "showlegend": true,
         "type": "scatter",
         "x": [
          -0.2217318
         ],
         "xaxis": "x",
         "y": [
          -0.91820616
         ],
         "yaxis": "y"
        },
        {
         "customdata": [
          [
           14,
           "Rabit",
           "Eukaryota",
           "Metazoa",
           "EUKARYOTA",
           "Eukaryota",
           "Metazoa",
           "Chordata",
           "Mammalia"
          ]
         ],
         "hovertemplate": "<b>%{hovertext}</b><br><br>Species=%{customdata[1]}<br>pm1=%{x}<br>pm2=%{y}<br>proteins_id=%{customdata[0]}<br>Kingdom=%{customdata[2]}<br>Family=%{customdata[3]}<br>Color_eukaryota=%{customdata[4]}<br>Domain=%{customdata[5]}<br>Kingdom2=%{customdata[6]}<br>Phylum=%{customdata[7]}<br>Class=%{customdata[8]}<extra></extra>",
         "hovertext": [
          "Rabit"
         ],
         "legendgroup": "Rabit",
         "marker": {
          "color": "#21e548",
          "symbol": "circle"
         },
         "mode": "markers",
         "name": "Rabit",
         "orientation": "v",
         "showlegend": true,
         "type": "scatter",
         "x": [
          -0.24694972
         ],
         "xaxis": "x",
         "y": [
          -0.90866965
         ],
         "yaxis": "y"
        },
        {
         "customdata": [
          [
           15,
           "Human",
           "Eukaryota",
           "Metazoa",
           "EUKARYOTA",
           "Eukaryota",
           "Metazoa",
           "Chordata",
           "Mammalia"
          ]
         ],
         "hovertemplate": "<b>%{hovertext}</b><br><br>Species=%{customdata[1]}<br>pm1=%{x}<br>pm2=%{y}<br>proteins_id=%{customdata[0]}<br>Kingdom=%{customdata[2]}<br>Family=%{customdata[3]}<br>Color_eukaryota=%{customdata[4]}<br>Domain=%{customdata[5]}<br>Kingdom2=%{customdata[6]}<br>Phylum=%{customdata[7]}<br>Class=%{customdata[8]}<extra></extra>",
         "hovertext": [
          "Human"
         ],
         "legendgroup": "Human",
         "marker": {
          "color": "#21e548",
          "symbol": "circle"
         },
         "mode": "markers",
         "name": "Human",
         "orientation": "v",
         "showlegend": true,
         "type": "scatter",
         "x": [
          -0.22634776
         ],
         "xaxis": "x",
         "y": [
          -0.92450833
         ],
         "yaxis": "y"
        },
        {
         "customdata": [
          [
           16,
           "Ponab",
           "Eukaryota",
           "Metazoa",
           "EUKARYOTA",
           "Eukaryota",
           "Metazoa",
           "Chordata",
           "Mammalia"
          ]
         ],
         "hovertemplate": "<b>%{hovertext}</b><br><br>Species=%{customdata[1]}<br>pm1=%{x}<br>pm2=%{y}<br>proteins_id=%{customdata[0]}<br>Kingdom=%{customdata[2]}<br>Family=%{customdata[3]}<br>Color_eukaryota=%{customdata[4]}<br>Domain=%{customdata[5]}<br>Kingdom2=%{customdata[6]}<br>Phylum=%{customdata[7]}<br>Class=%{customdata[8]}<extra></extra>",
         "hovertext": [
          "Ponab"
         ],
         "legendgroup": "Ponab",
         "marker": {
          "color": "#21e548",
          "symbol": "circle"
         },
         "mode": "markers",
         "name": "Ponab",
         "orientation": "v",
         "showlegend": true,
         "type": "scatter",
         "x": [
          -0.23187567
         ],
         "xaxis": "x",
         "y": [
          -0.9333655
         ],
         "yaxis": "y"
        },
        {
         "customdata": [
          [
           17,
           "Macmu",
           "Eukaryota",
           "Metazoa",
           "EUKARYOTA",
           "Eukaryota",
           "Metazoa",
           "Chordata",
           "Mammalia"
          ]
         ],
         "hovertemplate": "<b>%{hovertext}</b><br><br>Species=%{customdata[1]}<br>pm1=%{x}<br>pm2=%{y}<br>proteins_id=%{customdata[0]}<br>Kingdom=%{customdata[2]}<br>Family=%{customdata[3]}<br>Color_eukaryota=%{customdata[4]}<br>Domain=%{customdata[5]}<br>Kingdom2=%{customdata[6]}<br>Phylum=%{customdata[7]}<br>Class=%{customdata[8]}<extra></extra>",
         "hovertext": [
          "Macmu"
         ],
         "legendgroup": "Macmu",
         "marker": {
          "color": "#21e548",
          "symbol": "circle"
         },
         "mode": "markers",
         "name": "Macmu",
         "orientation": "v",
         "showlegend": true,
         "type": "scatter",
         "x": [
          -0.23356475
         ],
         "xaxis": "x",
         "y": [
          -0.920036
         ],
         "yaxis": "y"
        },
        {
         "customdata": [
          [
           18,
           "Callithrix",
           "Eukaryota",
           "Metazoa",
           "EUKARYOTA",
           "Eukaryota",
           "Metazoa",
           "Chordata",
           "Mammalia"
          ]
         ],
         "hovertemplate": "<b>%{hovertext}</b><br><br>Species=%{customdata[1]}<br>pm1=%{x}<br>pm2=%{y}<br>proteins_id=%{customdata[0]}<br>Kingdom=%{customdata[2]}<br>Family=%{customdata[3]}<br>Color_eukaryota=%{customdata[4]}<br>Domain=%{customdata[5]}<br>Kingdom2=%{customdata[6]}<br>Phylum=%{customdata[7]}<br>Class=%{customdata[8]}<extra></extra>",
         "hovertext": [
          "Callithrix"
         ],
         "legendgroup": "Callithrix",
         "marker": {
          "color": "#21e548",
          "symbol": "circle"
         },
         "mode": "markers",
         "name": "Callithrix",
         "orientation": "v",
         "showlegend": true,
         "type": "scatter",
         "x": [
          -0.22832204
         ],
         "xaxis": "x",
         "y": [
          -0.9178933
         ],
         "yaxis": "y"
        },
        {
         "customdata": [
          [
           19,
           "Monodelphis",
           "Eukaryota",
           "Metazoa",
           "EUKARYOTA",
           "Eukaryota",
           "Metazoa",
           "Chordata",
           "Mammalia"
          ]
         ],
         "hovertemplate": "<b>%{hovertext}</b><br><br>Species=%{customdata[1]}<br>pm1=%{x}<br>pm2=%{y}<br>proteins_id=%{customdata[0]}<br>Kingdom=%{customdata[2]}<br>Family=%{customdata[3]}<br>Color_eukaryota=%{customdata[4]}<br>Domain=%{customdata[5]}<br>Kingdom2=%{customdata[6]}<br>Phylum=%{customdata[7]}<br>Class=%{customdata[8]}<extra></extra>",
         "hovertext": [
          "Monodelphis"
         ],
         "legendgroup": "Monodelphis",
         "marker": {
          "color": "#21e548",
          "symbol": "circle"
         },
         "mode": "markers",
         "name": "Monodelphis",
         "orientation": "v",
         "showlegend": true,
         "type": "scatter",
         "x": [
          0.536974
         ],
         "xaxis": "x",
         "y": [
          0.73364127
         ],
         "yaxis": "y"
        },
        {
         "customdata": [
          [
           20,
           "Ornithorhynchus",
           "Eukaryota",
           "Metazoa",
           "EUKARYOTA",
           "Eukaryota",
           "Metazoa",
           "Chordata",
           "Mammalia"
          ]
         ],
         "hovertemplate": "<b>%{hovertext}</b><br><br>Species=%{customdata[1]}<br>pm1=%{x}<br>pm2=%{y}<br>proteins_id=%{customdata[0]}<br>Kingdom=%{customdata[2]}<br>Family=%{customdata[3]}<br>Color_eukaryota=%{customdata[4]}<br>Domain=%{customdata[5]}<br>Kingdom2=%{customdata[6]}<br>Phylum=%{customdata[7]}<br>Class=%{customdata[8]}<extra></extra>",
         "hovertext": [
          "Ornithorhynchus"
         ],
         "legendgroup": "Ornithorhynchus",
         "marker": {
          "color": "#21e548",
          "symbol": "circle"
         },
         "mode": "markers",
         "name": "Ornithorhynchus",
         "orientation": "v",
         "showlegend": true,
         "type": "scatter",
         "x": [
          -0.21310793
         ],
         "xaxis": "x",
         "y": [
          -0.9320844
         ],
         "yaxis": "y"
        },
        {
         "customdata": [
          [
           21,
           "Gallus",
           "Eukaryota",
           "Metazoa",
           "EUKARYOTA",
           "Eukaryota",
           "Metazoa",
           "Chordata",
           "Aves"
          ]
         ],
         "hovertemplate": "<b>%{hovertext}</b><br><br>Species=%{customdata[1]}<br>pm1=%{x}<br>pm2=%{y}<br>proteins_id=%{customdata[0]}<br>Kingdom=%{customdata[2]}<br>Family=%{customdata[3]}<br>Color_eukaryota=%{customdata[4]}<br>Domain=%{customdata[5]}<br>Kingdom2=%{customdata[6]}<br>Phylum=%{customdata[7]}<br>Class=%{customdata[8]}<extra></extra>",
         "hovertext": [
          "Gallus"
         ],
         "legendgroup": "Gallus",
         "marker": {
          "color": "#21e548",
          "symbol": "circle"
         },
         "mode": "markers",
         "name": "Gallus",
         "orientation": "v",
         "showlegend": true,
         "type": "scatter",
         "x": [
          -0.19397202
         ],
         "xaxis": "x",
         "y": [
          -0.92127395
         ],
         "yaxis": "y"
        },
        {
         "customdata": [
          [
           22,
           "Melopsittacus",
           "Eukaryota",
           "Metazoa",
           "EUKARYOTA",
           "Eukaryota",
           "Metazoa",
           "Chordata",
           "Aves"
          ]
         ],
         "hovertemplate": "<b>%{hovertext}</b><br><br>Species=%{customdata[1]}<br>pm1=%{x}<br>pm2=%{y}<br>proteins_id=%{customdata[0]}<br>Kingdom=%{customdata[2]}<br>Family=%{customdata[3]}<br>Color_eukaryota=%{customdata[4]}<br>Domain=%{customdata[5]}<br>Kingdom2=%{customdata[6]}<br>Phylum=%{customdata[7]}<br>Class=%{customdata[8]}<extra></extra>",
         "hovertext": [
          "Melopsittacus"
         ],
         "legendgroup": "Melopsittacus",
         "marker": {
          "color": "#21e548",
          "symbol": "circle"
         },
         "mode": "markers",
         "name": "Melopsittacus",
         "orientation": "v",
         "showlegend": true,
         "type": "scatter",
         "x": [
          -0.19746499
         ],
         "xaxis": "x",
         "y": [
          -0.9095562
         ],
         "yaxis": "y"
        },
        {
         "customdata": [
          [
           23,
           "Ophiophagus",
           "Eukaryota",
           "Metazoa",
           "EUKARYOTA",
           "Eukaryota",
           "Metazoa",
           "Chordata",
           "Squamata"
          ]
         ],
         "hovertemplate": "<b>%{hovertext}</b><br><br>Species=%{customdata[1]}<br>pm1=%{x}<br>pm2=%{y}<br>proteins_id=%{customdata[0]}<br>Kingdom=%{customdata[2]}<br>Family=%{customdata[3]}<br>Color_eukaryota=%{customdata[4]}<br>Domain=%{customdata[5]}<br>Kingdom2=%{customdata[6]}<br>Phylum=%{customdata[7]}<br>Class=%{customdata[8]}<extra></extra>",
         "hovertext": [
          "Ophiophagus"
         ],
         "legendgroup": "Ophiophagus",
         "marker": {
          "color": "#21e548",
          "symbol": "circle"
         },
         "mode": "markers",
         "name": "Ophiophagus",
         "orientation": "v",
         "showlegend": true,
         "type": "scatter",
         "x": [
          -0.17352247
         ],
         "xaxis": "x",
         "y": [
          -0.9099629
         ],
         "yaxis": "y"
        },
        {
         "customdata": [
          [
           24,
           "Xenopus",
           "Eukaryota",
           "Metazoa",
           "EUKARYOTA",
           "Eukaryota",
           "Metazoa",
           "Chordata",
           "Sarcopterygii"
          ]
         ],
         "hovertemplate": "<b>%{hovertext}</b><br><br>Species=%{customdata[1]}<br>pm1=%{x}<br>pm2=%{y}<br>proteins_id=%{customdata[0]}<br>Kingdom=%{customdata[2]}<br>Family=%{customdata[3]}<br>Color_eukaryota=%{customdata[4]}<br>Domain=%{customdata[5]}<br>Kingdom2=%{customdata[6]}<br>Phylum=%{customdata[7]}<br>Class=%{customdata[8]}<extra></extra>",
         "hovertext": [
          "Xenopus"
         ],
         "legendgroup": "Xenopus",
         "marker": {
          "color": "#21e548",
          "symbol": "circle"
         },
         "mode": "markers",
         "name": "Xenopus",
         "orientation": "v",
         "showlegend": true,
         "type": "scatter",
         "x": [
          -0.18694057
         ],
         "xaxis": "x",
         "y": [
          -0.91166466
         ],
         "yaxis": "y"
        },
        {
         "customdata": [
          [
           25,
           "Tetraodon",
           "Eukaryota",
           "Metazoa",
           "EUKARYOTA",
           "Eukaryota",
           "Metazoa",
           "Chordata",
           "Actinopterygii"
          ]
         ],
         "hovertemplate": "<b>%{hovertext}</b><br><br>Species=%{customdata[1]}<br>pm1=%{x}<br>pm2=%{y}<br>proteins_id=%{customdata[0]}<br>Kingdom=%{customdata[2]}<br>Family=%{customdata[3]}<br>Color_eukaryota=%{customdata[4]}<br>Domain=%{customdata[5]}<br>Kingdom2=%{customdata[6]}<br>Phylum=%{customdata[7]}<br>Class=%{customdata[8]}<extra></extra>",
         "hovertext": [
          "Tetraodon"
         ],
         "legendgroup": "Tetraodon",
         "marker": {
          "color": "#21e548",
          "symbol": "circle"
         },
         "mode": "markers",
         "name": "Tetraodon",
         "orientation": "v",
         "showlegend": true,
         "type": "scatter",
         "x": [
          -0.17849779
         ],
         "xaxis": "x",
         "y": [
          -0.92541075
         ],
         "yaxis": "y"
        },
        {
         "customdata": [
          [
           26,
           "Ictalurus",
           "Eukaryota",
           "Metazoa",
           "EUKARYOTA",
           "Eukaryota",
           "Metazoa",
           "Chordata",
           "Actinopterygii"
          ]
         ],
         "hovertemplate": "<b>%{hovertext}</b><br><br>Species=%{customdata[1]}<br>pm1=%{x}<br>pm2=%{y}<br>proteins_id=%{customdata[0]}<br>Kingdom=%{customdata[2]}<br>Family=%{customdata[3]}<br>Color_eukaryota=%{customdata[4]}<br>Domain=%{customdata[5]}<br>Kingdom2=%{customdata[6]}<br>Phylum=%{customdata[7]}<br>Class=%{customdata[8]}<extra></extra>",
         "hovertext": [
          "Ictalurus"
         ],
         "legendgroup": "Ictalurus",
         "marker": {
          "color": "#21e548",
          "symbol": "circle"
         },
         "mode": "markers",
         "name": "Ictalurus",
         "orientation": "v",
         "showlegend": true,
         "type": "scatter",
         "x": [
          -0.15804256
         ],
         "xaxis": "x",
         "y": [
          -0.91835856
         ],
         "yaxis": "y"
        },
        {
         "customdata": [
          [
           27,
           "Danio",
           "Eukaryota",
           "Metazoa",
           "EUKARYOTA",
           "Eukaryota",
           "Metazoa",
           "Chordata",
           "Actinopterygii"
          ]
         ],
         "hovertemplate": "<b>%{hovertext}</b><br><br>Species=%{customdata[1]}<br>pm1=%{x}<br>pm2=%{y}<br>proteins_id=%{customdata[0]}<br>Kingdom=%{customdata[2]}<br>Family=%{customdata[3]}<br>Color_eukaryota=%{customdata[4]}<br>Domain=%{customdata[5]}<br>Kingdom2=%{customdata[6]}<br>Phylum=%{customdata[7]}<br>Class=%{customdata[8]}<extra></extra>",
         "hovertext": [
          "Danio"
         ],
         "legendgroup": "Danio",
         "marker": {
          "color": "#21e548",
          "symbol": "circle"
         },
         "mode": "markers",
         "name": "Danio",
         "orientation": "v",
         "showlegend": true,
         "type": "scatter",
         "x": [
          -0.17315508
         ],
         "xaxis": "x",
         "y": [
          -0.92701966
         ],
         "yaxis": "y"
        },
        {
         "customdata": [
          [
           28,
           "Drosophila",
           "Eukaryota",
           "Metazoa",
           "EUKARYOTA",
           "Eukaryota",
           "Metazoa",
           "Arthropoda",
           "Insecta"
          ],
          [
           29,
           "Drosophila",
           "Eukaryota",
           "Metazoa",
           "EUKARYOTA",
           "Eukaryota",
           "Metazoa",
           "Arthropoda",
           "Insecta"
          ],
          [
           30,
           "Drosophila",
           "Eukaryota",
           "Metazoa",
           "EUKARYOTA",
           "Eukaryota",
           "Metazoa",
           "Arthropoda",
           "Insecta"
          ]
         ],
         "hovertemplate": "<b>%{hovertext}</b><br><br>Species=%{customdata[1]}<br>pm1=%{x}<br>pm2=%{y}<br>proteins_id=%{customdata[0]}<br>Kingdom=%{customdata[2]}<br>Family=%{customdata[3]}<br>Color_eukaryota=%{customdata[4]}<br>Domain=%{customdata[5]}<br>Kingdom2=%{customdata[6]}<br>Phylum=%{customdata[7]}<br>Class=%{customdata[8]}<extra></extra>",
         "hovertext": [
          "Drosophila",
          "Drosophila",
          "Drosophila"
         ],
         "legendgroup": "Drosophila",
         "marker": {
          "color": "#21e548",
          "symbol": "circle"
         },
         "mode": "markers",
         "name": "Drosophila",
         "orientation": "v",
         "showlegend": true,
         "type": "scatter",
         "x": [
          -0.1850414,
          -0.15502732,
          -0.18795483
         ],
         "xaxis": "x",
         "y": [
          -0.8465264,
          -0.8544975,
          -0.83646154
         ],
         "yaxis": "y"
        },
        {
         "customdata": [
          [
           31,
           "Apis",
           "Eukaryota",
           "Metazoa",
           "EUKARYOTA",
           "Eukaryota",
           "Metazoa",
           "Arthropoda",
           "Insecta"
          ]
         ],
         "hovertemplate": "<b>%{hovertext}</b><br><br>Species=%{customdata[1]}<br>pm1=%{x}<br>pm2=%{y}<br>proteins_id=%{customdata[0]}<br>Kingdom=%{customdata[2]}<br>Family=%{customdata[3]}<br>Color_eukaryota=%{customdata[4]}<br>Domain=%{customdata[5]}<br>Kingdom2=%{customdata[6]}<br>Phylum=%{customdata[7]}<br>Class=%{customdata[8]}<extra></extra>",
         "hovertext": [
          "Apis"
         ],
         "legendgroup": "Apis",
         "marker": {
          "color": "#21e548",
          "symbol": "circle"
         },
         "mode": "markers",
         "name": "Apis",
         "orientation": "v",
         "showlegend": true,
         "type": "scatter",
         "x": [
          -0.13616557
         ],
         "xaxis": "x",
         "y": [
          -0.8809938
         ],
         "yaxis": "y"
        },
        {
         "customdata": [
          [
           32,
           "Tribolium",
           "Eukaryota",
           "Metazoa",
           "EUKARYOTA",
           "Eukaryota",
           "Metazoa",
           "Arthropoda",
           "Insecta"
          ]
         ],
         "hovertemplate": "<b>%{hovertext}</b><br><br>Species=%{customdata[1]}<br>pm1=%{x}<br>pm2=%{y}<br>proteins_id=%{customdata[0]}<br>Kingdom=%{customdata[2]}<br>Family=%{customdata[3]}<br>Color_eukaryota=%{customdata[4]}<br>Domain=%{customdata[5]}<br>Kingdom2=%{customdata[6]}<br>Phylum=%{customdata[7]}<br>Class=%{customdata[8]}<extra></extra>",
         "hovertext": [
          "Tribolium"
         ],
         "legendgroup": "Tribolium",
         "marker": {
          "color": "#21e548",
          "symbol": "circle"
         },
         "mode": "markers",
         "name": "Tribolium",
         "orientation": "v",
         "showlegend": true,
         "type": "scatter",
         "x": [
          -0.15537925
         ],
         "xaxis": "x",
         "y": [
          -0.829604
         ],
         "yaxis": "y"
        },
        {
         "customdata": [
          [
           33,
           "Bombyx",
           "Eukaryota",
           "Metazoa",
           "EUKARYOTA",
           "Eukaryota",
           "Metazoa",
           "Arthropoda",
           "Insecta"
          ]
         ],
         "hovertemplate": "<b>%{hovertext}</b><br><br>Species=%{customdata[1]}<br>pm1=%{x}<br>pm2=%{y}<br>proteins_id=%{customdata[0]}<br>Kingdom=%{customdata[2]}<br>Family=%{customdata[3]}<br>Color_eukaryota=%{customdata[4]}<br>Domain=%{customdata[5]}<br>Kingdom2=%{customdata[6]}<br>Phylum=%{customdata[7]}<br>Class=%{customdata[8]}<extra></extra>",
         "hovertext": [
          "Bombyx"
         ],
         "legendgroup": "Bombyx",
         "marker": {
          "color": "#21e548",
          "symbol": "circle"
         },
         "mode": "markers",
         "name": "Bombyx",
         "orientation": "v",
         "showlegend": true,
         "type": "scatter",
         "x": [
          -0.1690256
         ],
         "xaxis": "x",
         "y": [
          -0.8398496
         ],
         "yaxis": "y"
        },
        {
         "customdata": [
          [
           34,
           "Graphocephala",
           "Eukaryota",
           "Metazoa",
           "EUKARYOTA",
           "Eukaryota",
           "Metazoa",
           "Arthropoda",
           "Insecta"
          ]
         ],
         "hovertemplate": "<b>%{hovertext}</b><br><br>Species=%{customdata[1]}<br>pm1=%{x}<br>pm2=%{y}<br>proteins_id=%{customdata[0]}<br>Kingdom=%{customdata[2]}<br>Family=%{customdata[3]}<br>Color_eukaryota=%{customdata[4]}<br>Domain=%{customdata[5]}<br>Kingdom2=%{customdata[6]}<br>Phylum=%{customdata[7]}<br>Class=%{customdata[8]}<extra></extra>",
         "hovertext": [
          "Graphocephala"
         ],
         "legendgroup": "Graphocephala",
         "marker": {
          "color": "#21e548",
          "symbol": "circle"
         },
         "mode": "markers",
         "name": "Graphocephala",
         "orientation": "v",
         "showlegend": true,
         "type": "scatter",
         "x": [
          -0.17319123
         ],
         "xaxis": "x",
         "y": [
          -0.85350674
         ],
         "yaxis": "y"
        },
        {
         "customdata": [
          [
           35,
           "Litopenaeus",
           "Eukaryota",
           "Metazoa",
           "EUKARYOTA",
           "Eukaryota",
           "Metazoa",
           "Arthropoda",
           "Malacostraca"
          ]
         ],
         "hovertemplate": "<b>%{hovertext}</b><br><br>Species=%{customdata[1]}<br>pm1=%{x}<br>pm2=%{y}<br>proteins_id=%{customdata[0]}<br>Kingdom=%{customdata[2]}<br>Family=%{customdata[3]}<br>Color_eukaryota=%{customdata[4]}<br>Domain=%{customdata[5]}<br>Kingdom2=%{customdata[6]}<br>Phylum=%{customdata[7]}<br>Class=%{customdata[8]}<extra></extra>",
         "hovertext": [
          "Litopenaeus"
         ],
         "legendgroup": "Litopenaeus",
         "marker": {
          "color": "#21e548",
          "symbol": "circle"
         },
         "mode": "markers",
         "name": "Litopenaeus",
         "orientation": "v",
         "showlegend": true,
         "type": "scatter",
         "x": [
          -0.14402018
         ],
         "xaxis": "x",
         "y": [
          -0.8491569
         ],
         "yaxis": "y"
        },
        {
         "customdata": [
          [
           36,
           "Geocy",
           "Eukaryota",
           "Metazoa",
           "EUKARYOTA",
           "Eukaryota",
           "Metazoa",
           "Porifera",
           "Other"
          ]
         ],
         "hovertemplate": "<b>%{hovertext}</b><br><br>Species=%{customdata[1]}<br>pm1=%{x}<br>pm2=%{y}<br>proteins_id=%{customdata[0]}<br>Kingdom=%{customdata[2]}<br>Family=%{customdata[3]}<br>Color_eukaryota=%{customdata[4]}<br>Domain=%{customdata[5]}<br>Kingdom2=%{customdata[6]}<br>Phylum=%{customdata[7]}<br>Class=%{customdata[8]}<extra></extra>",
         "hovertext": [
          "Geocy"
         ],
         "legendgroup": "Geocy",
         "marker": {
          "color": "#21e548",
          "symbol": "circle"
         },
         "mode": "markers",
         "name": "Geocy",
         "orientation": "v",
         "showlegend": true,
         "type": "scatter",
         "x": [
          -0.18622749
         ],
         "xaxis": "x",
         "y": [
          -0.9319035
         ],
         "yaxis": "y"
        },
        {
         "customdata": [
          [
           37,
           "Aspergillus",
           "Eukaryota",
           "Fungi",
           "EUKARYOTA",
           "Eukaryota",
           "Fungi",
           "Ascomycota",
           "Eurotiomycetes"
          ],
          [
           39,
           "Aspergillus",
           "Eukaryota",
           "Fungi",
           "EUKARYOTA",
           "Eukaryota",
           "Fungi",
           "Ascomycota",
           "Eurotiomycetes"
          ],
          [
           40,
           "Aspergillus",
           "Eukaryota",
           "Fungi",
           "EUKARYOTA",
           "Eukaryota",
           "Fungi",
           "Ascomycota",
           "Eurotiomycetes"
          ]
         ],
         "hovertemplate": "<b>%{hovertext}</b><br><br>Species=%{customdata[1]}<br>pm1=%{x}<br>pm2=%{y}<br>proteins_id=%{customdata[0]}<br>Kingdom=%{customdata[2]}<br>Family=%{customdata[3]}<br>Color_eukaryota=%{customdata[4]}<br>Domain=%{customdata[5]}<br>Kingdom2=%{customdata[6]}<br>Phylum=%{customdata[7]}<br>Class=%{customdata[8]}<extra></extra>",
         "hovertext": [
          "Aspergillus",
          "Aspergillus",
          "Aspergillus"
         ],
         "legendgroup": "Aspergillus",
         "marker": {
          "color": "#1fb995",
          "symbol": "circle"
         },
         "mode": "markers",
         "name": "Aspergillus",
         "orientation": "v",
         "showlegend": true,
         "type": "scatter",
         "x": [
          -0.29104838,
          -0.31522915,
          -0.35416445
         ],
         "xaxis": "x",
         "y": [
          -0.7839562,
          -0.83236146,
          -0.8020671
         ],
         "yaxis": "y"
        },
        {
         "customdata": [
          [
           38,
           "Neosartorya",
           "Eukaryota",
           "Fungi",
           "EUKARYOTA",
           "Eukaryota",
           "Fungi",
           "Ascomycota",
           "Eurotiomycetes"
          ]
         ],
         "hovertemplate": "<b>%{hovertext}</b><br><br>Species=%{customdata[1]}<br>pm1=%{x}<br>pm2=%{y}<br>proteins_id=%{customdata[0]}<br>Kingdom=%{customdata[2]}<br>Family=%{customdata[3]}<br>Color_eukaryota=%{customdata[4]}<br>Domain=%{customdata[5]}<br>Kingdom2=%{customdata[6]}<br>Phylum=%{customdata[7]}<br>Class=%{customdata[8]}<extra></extra>",
         "hovertext": [
          "Neosartorya"
         ],
         "legendgroup": "Neosartorya",
         "marker": {
          "color": "#1fb995",
          "symbol": "circle"
         },
         "mode": "markers",
         "name": "Neosartorya",
         "orientation": "v",
         "showlegend": true,
         "type": "scatter",
         "x": [
          -0.33735415
         ],
         "xaxis": "x",
         "y": [
          -0.82319725
         ],
         "yaxis": "y"
        },
        {
         "customdata": [
          [
           41,
           "Pichia",
           "Eukaryota",
           "Fungi",
           "EUKARYOTA",
           "Eukaryota",
           "Fungi",
           "Ascomycota",
           "Saccharomycetes"
          ],
          [
           43,
           "Pichia",
           "Eukaryota",
           "Fungi",
           "EUKARYOTA",
           "Eukaryota",
           "Fungi",
           "Ascomycota",
           "Saccharomycetes"
          ]
         ],
         "hovertemplate": "<b>%{hovertext}</b><br><br>Species=%{customdata[1]}<br>pm1=%{x}<br>pm2=%{y}<br>proteins_id=%{customdata[0]}<br>Kingdom=%{customdata[2]}<br>Family=%{customdata[3]}<br>Color_eukaryota=%{customdata[4]}<br>Domain=%{customdata[5]}<br>Kingdom2=%{customdata[6]}<br>Phylum=%{customdata[7]}<br>Class=%{customdata[8]}<extra></extra>",
         "hovertext": [
          "Pichia",
          "Pichia"
         ],
         "legendgroup": "Pichia",
         "marker": {
          "color": "#1fb995",
          "symbol": "circle"
         },
         "mode": "markers",
         "name": "Pichia",
         "orientation": "v",
         "showlegend": true,
         "type": "scatter",
         "x": [
          -0.35198334,
          -0.31813565
         ],
         "xaxis": "x",
         "y": [
          -0.8196535,
          -0.7574875
         ],
         "yaxis": "y"
        },
        {
         "customdata": [
          [
           42,
           "Candida",
           "Eukaryota",
           "Fungi",
           "EUKARYOTA",
           "Eukaryota",
           "Fungi",
           "Ascomycota",
           "Saccharomycetes"
          ],
          [
           46,
           "Candida",
           "Eukaryota",
           "Fungi",
           "EUKARYOTA",
           "Eukaryota",
           "Fungi",
           "Ascomycota",
           "Saccharomycetes"
          ]
         ],
         "hovertemplate": "<b>%{hovertext}</b><br><br>Species=%{customdata[1]}<br>pm1=%{x}<br>pm2=%{y}<br>proteins_id=%{customdata[0]}<br>Kingdom=%{customdata[2]}<br>Family=%{customdata[3]}<br>Color_eukaryota=%{customdata[4]}<br>Domain=%{customdata[5]}<br>Kingdom2=%{customdata[6]}<br>Phylum=%{customdata[7]}<br>Class=%{customdata[8]}<extra></extra>",
         "hovertext": [
          "Candida",
          "Candida"
         ],
         "legendgroup": "Candida",
         "marker": {
          "color": "#1fb995",
          "symbol": "circle"
         },
         "mode": "markers",
         "name": "Candida",
         "orientation": "v",
         "showlegend": true,
         "type": "scatter",
         "x": [
          -0.28899464,
          -0.3391101
         ],
         "xaxis": "x",
         "y": [
          -0.7078318,
          -0.78045446
         ],
         "yaxis": "y"
        },
        {
         "customdata": [
          [
           44,
           "Kluyveromyces",
           "Eukaryota",
           "Fungi",
           "EUKARYOTA",
           "Eukaryota",
           "Fungi",
           "Ascomycota",
           "Saccharomycetes"
          ]
         ],
         "hovertemplate": "<b>%{hovertext}</b><br><br>Species=%{customdata[1]}<br>pm1=%{x}<br>pm2=%{y}<br>proteins_id=%{customdata[0]}<br>Kingdom=%{customdata[2]}<br>Family=%{customdata[3]}<br>Color_eukaryota=%{customdata[4]}<br>Domain=%{customdata[5]}<br>Kingdom2=%{customdata[6]}<br>Phylum=%{customdata[7]}<br>Class=%{customdata[8]}<extra></extra>",
         "hovertext": [
          "Kluyveromyces"
         ],
         "legendgroup": "Kluyveromyces",
         "marker": {
          "color": "#1fb995",
          "symbol": "circle"
         },
         "mode": "markers",
         "name": "Kluyveromyces",
         "orientation": "v",
         "showlegend": true,
         "type": "scatter",
         "x": [
          -0.3112505
         ],
         "xaxis": "x",
         "y": [
          -0.77434194
         ],
         "yaxis": "y"
        },
        {
         "customdata": [
          [
           45,
           "Saccharomyces",
           "Eukaryota",
           "Fungi",
           "EUKARYOTA",
           "Eukaryota",
           "Fungi",
           "Ascomycota",
           "Saccharomycetes"
          ],
          [
           47,
           "Saccharomyces",
           "Eukaryota",
           "Fungi",
           "EUKARYOTA",
           "Eukaryota",
           "Fungi",
           "Ascomycota",
           "Saccharomycetes"
          ]
         ],
         "hovertemplate": "<b>%{hovertext}</b><br><br>Species=%{customdata[1]}<br>pm1=%{x}<br>pm2=%{y}<br>proteins_id=%{customdata[0]}<br>Kingdom=%{customdata[2]}<br>Family=%{customdata[3]}<br>Color_eukaryota=%{customdata[4]}<br>Domain=%{customdata[5]}<br>Kingdom2=%{customdata[6]}<br>Phylum=%{customdata[7]}<br>Class=%{customdata[8]}<extra></extra>",
         "hovertext": [
          "Saccharomyces",
          "Saccharomyces"
         ],
         "legendgroup": "Saccharomyces",
         "marker": {
          "color": "#1fb995",
          "symbol": "circle"
         },
         "mode": "markers",
         "name": "Saccharomyces",
         "orientation": "v",
         "showlegend": true,
         "type": "scatter",
         "x": [
          -0.32071888,
          -0.342358
         ],
         "xaxis": "x",
         "y": [
          -0.8013159,
          -0.7600401
         ],
         "yaxis": "y"
        },
        {
         "customdata": [
          [
           48,
           "Schizosaccharomyces",
           "Eukaryota",
           "Fungi",
           "EUKARYOTA",
           "Eukaryota",
           "Fungi",
           "Ascomycota",
           "Other"
          ]
         ],
         "hovertemplate": "<b>%{hovertext}</b><br><br>Species=%{customdata[1]}<br>pm1=%{x}<br>pm2=%{y}<br>proteins_id=%{customdata[0]}<br>Kingdom=%{customdata[2]}<br>Family=%{customdata[3]}<br>Color_eukaryota=%{customdata[4]}<br>Domain=%{customdata[5]}<br>Kingdom2=%{customdata[6]}<br>Phylum=%{customdata[7]}<br>Class=%{customdata[8]}<extra></extra>",
         "hovertext": [
          "Schizosaccharomyces"
         ],
         "legendgroup": "Schizosaccharomyces",
         "marker": {
          "color": "#1fb995",
          "symbol": "circle"
         },
         "mode": "markers",
         "name": "Schizosaccharomyces",
         "orientation": "v",
         "showlegend": true,
         "type": "scatter",
         "x": [
          -0.3008431
         ],
         "xaxis": "x",
         "y": [
          -0.7963588
         ],
         "yaxis": "y"
        },
        {
         "customdata": [
          [
           49,
           "Monosiga",
           "Eukaryota",
           "Choanoflagellata",
           "EUKARYOTA",
           "Eukaryota",
           "Protozoa",
           "Other",
           "Other"
          ]
         ],
         "hovertemplate": "<b>%{hovertext}</b><br><br>Species=%{customdata[1]}<br>pm1=%{x}<br>pm2=%{y}<br>proteins_id=%{customdata[0]}<br>Kingdom=%{customdata[2]}<br>Family=%{customdata[3]}<br>Color_eukaryota=%{customdata[4]}<br>Domain=%{customdata[5]}<br>Kingdom2=%{customdata[6]}<br>Phylum=%{customdata[7]}<br>Class=%{customdata[8]}<extra></extra>",
         "hovertext": [
          "Monosiga"
         ],
         "legendgroup": "Monosiga",
         "marker": {
          "color": "#21e548",
          "symbol": "circle"
         },
         "mode": "markers",
         "name": "Monosiga",
         "orientation": "v",
         "showlegend": true,
         "type": "scatter",
         "x": [
          -0.14035971
         ],
         "xaxis": "x",
         "y": [
          -0.89749444
         ],
         "yaxis": "y"
        },
        {
         "customdata": [
          [
           50,
           "Entamoeba",
           "Eukaryota",
           "Amoebozoa",
           "EUKARYOTA",
           "Eukaryota",
           "Protozoa",
           "Other",
           "Amoebozoa"
          ]
         ],
         "hovertemplate": "<b>%{hovertext}</b><br><br>Species=%{customdata[1]}<br>pm1=%{x}<br>pm2=%{y}<br>proteins_id=%{customdata[0]}<br>Kingdom=%{customdata[2]}<br>Family=%{customdata[3]}<br>Color_eukaryota=%{customdata[4]}<br>Domain=%{customdata[5]}<br>Kingdom2=%{customdata[6]}<br>Phylum=%{customdata[7]}<br>Class=%{customdata[8]}<extra></extra>",
         "hovertext": [
          "Entamoeba"
         ],
         "legendgroup": "Entamoeba",
         "marker": {
          "color": "#21e548",
          "symbol": "circle"
         },
         "mode": "markers",
         "name": "Entamoeba",
         "orientation": "v",
         "showlegend": true,
         "type": "scatter",
         "x": [
          -0.18597333
         ],
         "xaxis": "x",
         "y": [
          -0.7876872
         ],
         "yaxis": "y"
        },
        {
         "customdata": [
          [
           51,
           "Dictyostelium",
           "Eukaryota",
           "Amoebozoa",
           "EUKARYOTA",
           "Eukaryota",
           "Protozoa",
           "Other",
           "Mycetozoa"
          ]
         ],
         "hovertemplate": "<b>%{hovertext}</b><br><br>Species=%{customdata[1]}<br>pm1=%{x}<br>pm2=%{y}<br>proteins_id=%{customdata[0]}<br>Kingdom=%{customdata[2]}<br>Family=%{customdata[3]}<br>Color_eukaryota=%{customdata[4]}<br>Domain=%{customdata[5]}<br>Kingdom2=%{customdata[6]}<br>Phylum=%{customdata[7]}<br>Class=%{customdata[8]}<extra></extra>",
         "hovertext": [
          "Dictyostelium"
         ],
         "legendgroup": "Dictyostelium",
         "marker": {
          "color": "#21e548",
          "symbol": "circle"
         },
         "mode": "markers",
         "name": "Dictyostelium",
         "orientation": "v",
         "showlegend": true,
         "type": "scatter",
         "x": [
          -0.28169852
         ],
         "xaxis": "x",
         "y": [
          -0.80048144
         ],
         "yaxis": "y"
        },
        {
         "customdata": [
          [
           52,
           "Arabidopsis",
           "Eukaryota",
           "Viridiplantae",
           "EUKARYOTA",
           "Eukaryota",
           "Plantae",
           "Tracheophyta",
           "Magnoliopsida"
          ],
          [
           53,
           "Arabidopsis",
           "Eukaryota",
           "Viridiplantae",
           "EUKARYOTA",
           "Eukaryota",
           "Plantae",
           "Tracheophyta",
           "Magnoliopsida"
          ]
         ],
         "hovertemplate": "<b>%{hovertext}</b><br><br>Species=%{customdata[1]}<br>pm1=%{x}<br>pm2=%{y}<br>proteins_id=%{customdata[0]}<br>Kingdom=%{customdata[2]}<br>Family=%{customdata[3]}<br>Color_eukaryota=%{customdata[4]}<br>Domain=%{customdata[5]}<br>Kingdom2=%{customdata[6]}<br>Phylum=%{customdata[7]}<br>Class=%{customdata[8]}<extra></extra>",
         "hovertext": [
          "Arabidopsis",
          "Arabidopsis"
         ],
         "legendgroup": "Arabidopsis",
         "marker": {
          "color": "#06f9d4",
          "symbol": "circle"
         },
         "mode": "markers",
         "name": "Arabidopsis",
         "orientation": "v",
         "showlegend": true,
         "type": "scatter",
         "x": [
          0.65784377,
          0.65956175
         ],
         "xaxis": "x",
         "y": [
          0.69003963,
          0.7038177
         ],
         "yaxis": "y"
        },
        {
         "customdata": [
          [
           54,
           "Limonium",
           "Eukaryota",
           "Viridiplantae",
           "EUKARYOTA",
           "Eukaryota",
           "Plantae",
           "Tracheophyta",
           "Magnoliopsida"
          ]
         ],
         "hovertemplate": "<b>%{hovertext}</b><br><br>Species=%{customdata[1]}<br>pm1=%{x}<br>pm2=%{y}<br>proteins_id=%{customdata[0]}<br>Kingdom=%{customdata[2]}<br>Family=%{customdata[3]}<br>Color_eukaryota=%{customdata[4]}<br>Domain=%{customdata[5]}<br>Kingdom2=%{customdata[6]}<br>Phylum=%{customdata[7]}<br>Class=%{customdata[8]}<extra></extra>",
         "hovertext": [
          "Limonium"
         ],
         "legendgroup": "Limonium",
         "marker": {
          "color": "#c7c7c7",
          "symbol": "circle"
         },
         "mode": "markers",
         "name": "Limonium",
         "orientation": "v",
         "showlegend": true,
         "type": "scatter",
         "x": [
          0.6593839
         ],
         "xaxis": "x",
         "y": [
          0.6970457
         ],
         "yaxis": "y"
        },
        {
         "customdata": [
          [
           55,
           "Zea",
           "Eukaryota",
           "Viridiplantae",
           "EUKARYOTA",
           "Eukaryota",
           "Plantae",
           "Tracheophyta",
           "Other"
          ]
         ],
         "hovertemplate": "<b>%{hovertext}</b><br><br>Species=%{customdata[1]}<br>pm1=%{x}<br>pm2=%{y}<br>proteins_id=%{customdata[0]}<br>Kingdom=%{customdata[2]}<br>Family=%{customdata[3]}<br>Color_eukaryota=%{customdata[4]}<br>Domain=%{customdata[5]}<br>Kingdom2=%{customdata[6]}<br>Phylum=%{customdata[7]}<br>Class=%{customdata[8]}<extra></extra>",
         "hovertext": [
          "Zea"
         ],
         "legendgroup": "Zea",
         "marker": {
          "color": "#c7c7c7",
          "symbol": "circle"
         },
         "mode": "markers",
         "name": "Zea",
         "orientation": "v",
         "showlegend": true,
         "type": "scatter",
         "x": [
          0.6270908
         ],
         "xaxis": "x",
         "y": [
          0.69433284
         ],
         "yaxis": "y"
        },
        {
         "customdata": [
          [
           56,
           "Vitis",
           "Eukaryota",
           "Viridiplantae",
           "EUKARYOTA",
           "Eukaryota",
           "Plantae",
           "Tracheophyta",
           "Magnoliopsida"
          ]
         ],
         "hovertemplate": "<b>%{hovertext}</b><br><br>Species=%{customdata[1]}<br>pm1=%{x}<br>pm2=%{y}<br>proteins_id=%{customdata[0]}<br>Kingdom=%{customdata[2]}<br>Family=%{customdata[3]}<br>Color_eukaryota=%{customdata[4]}<br>Domain=%{customdata[5]}<br>Kingdom2=%{customdata[6]}<br>Phylum=%{customdata[7]}<br>Class=%{customdata[8]}<extra></extra>",
         "hovertext": [
          "Vitis"
         ],
         "legendgroup": "Vitis",
         "marker": {
          "color": "#c7c7c7",
          "symbol": "circle"
         },
         "mode": "markers",
         "name": "Vitis",
         "orientation": "v",
         "showlegend": true,
         "type": "scatter",
         "x": [
          0.6501702
         ],
         "xaxis": "x",
         "y": [
          0.694094
         ],
         "yaxis": "y"
        },
        {
         "customdata": [
          [
           57,
           "Ostreococcus",
           "Eukaryota",
           "Viridiplantae",
           "EUKARYOTA",
           "Eukaryota",
           "Plantae",
           "Chlorophyta",
           "Other"
          ]
         ],
         "hovertemplate": "<b>%{hovertext}</b><br><br>Species=%{customdata[1]}<br>pm1=%{x}<br>pm2=%{y}<br>proteins_id=%{customdata[0]}<br>Kingdom=%{customdata[2]}<br>Family=%{customdata[3]}<br>Color_eukaryota=%{customdata[4]}<br>Domain=%{customdata[5]}<br>Kingdom2=%{customdata[6]}<br>Phylum=%{customdata[7]}<br>Class=%{customdata[8]}<extra></extra>",
         "hovertext": [
          "Ostreococcus"
         ],
         "legendgroup": "Ostreococcus",
         "marker": {
          "color": "#b5e521",
          "symbol": "circle"
         },
         "mode": "markers",
         "name": "Ostreococcus",
         "orientation": "v",
         "showlegend": true,
         "type": "scatter",
         "x": [
          -0.32494402
         ],
         "xaxis": "x",
         "y": [
          -0.8122148
         ],
         "yaxis": "y"
        },
        {
         "customdata": [
          [
           58,
           "Helicosporidium",
           "Eukaryota",
           "Viridiplantae",
           "EUKARYOTA",
           "Eukaryota",
           "Plantae",
           "Chlorophyta",
           "Other"
          ]
         ],
         "hovertemplate": "<b>%{hovertext}</b><br><br>Species=%{customdata[1]}<br>pm1=%{x}<br>pm2=%{y}<br>proteins_id=%{customdata[0]}<br>Kingdom=%{customdata[2]}<br>Family=%{customdata[3]}<br>Color_eukaryota=%{customdata[4]}<br>Domain=%{customdata[5]}<br>Kingdom2=%{customdata[6]}<br>Phylum=%{customdata[7]}<br>Class=%{customdata[8]}<extra></extra>",
         "hovertext": [
          "Helicosporidium"
         ],
         "legendgroup": "Helicosporidium",
         "marker": {
          "color": "#b5e521",
          "symbol": "circle"
         },
         "mode": "markers",
         "name": "Helicosporidium",
         "orientation": "v",
         "showlegend": true,
         "type": "scatter",
         "x": [
          -0.29099745
         ],
         "xaxis": "x",
         "y": [
          -0.86144006
         ],
         "yaxis": "y"
        },
        {
         "customdata": [
          [
           59,
           "Fagopyrum",
           "Eukaryota",
           "Viridiplantae",
           "EUKARYOTA",
           "Eukaryota",
           "Plantae",
           "Tracheophyta",
           "Magnoliopsida"
          ]
         ],
         "hovertemplate": "<b>%{hovertext}</b><br><br>Species=%{customdata[1]}<br>pm1=%{x}<br>pm2=%{y}<br>proteins_id=%{customdata[0]}<br>Kingdom=%{customdata[2]}<br>Family=%{customdata[3]}<br>Color_eukaryota=%{customdata[4]}<br>Domain=%{customdata[5]}<br>Kingdom2=%{customdata[6]}<br>Phylum=%{customdata[7]}<br>Class=%{customdata[8]}<extra></extra>",
         "hovertext": [
          "Fagopyrum"
         ],
         "legendgroup": "Fagopyrum",
         "marker": {
          "color": "#b5e521",
          "symbol": "circle"
         },
         "mode": "markers",
         "name": "Fagopyrum",
         "orientation": "v",
         "showlegend": true,
         "type": "scatter",
         "x": [
          -0.26002404
         ],
         "xaxis": "x",
         "y": [
          -0.8651757
         ],
         "yaxis": "y"
        },
        {
         "customdata": [
          [
           60,
           "Cryptosporidium",
           "Eukaryota",
           "Alveolata",
           "EUKARYOTA",
           "Eukaryota",
           "Other",
           "Other",
           "Other"
          ]
         ],
         "hovertemplate": "<b>%{hovertext}</b><br><br>Species=%{customdata[1]}<br>pm1=%{x}<br>pm2=%{y}<br>proteins_id=%{customdata[0]}<br>Kingdom=%{customdata[2]}<br>Family=%{customdata[3]}<br>Color_eukaryota=%{customdata[4]}<br>Domain=%{customdata[5]}<br>Kingdom2=%{customdata[6]}<br>Phylum=%{customdata[7]}<br>Class=%{customdata[8]}<extra></extra>",
         "hovertext": [
          "Cryptosporidium"
         ],
         "legendgroup": "Cryptosporidium",
         "marker": {
          "color": "#21e548",
          "symbol": "circle"
         },
         "mode": "markers",
         "name": "Cryptosporidium",
         "orientation": "v",
         "showlegend": true,
         "type": "scatter",
         "x": [
          -0.11847887
         ],
         "xaxis": "x",
         "y": [
          -0.86128706
         ],
         "yaxis": "y"
        },
        {
         "customdata": [
          [
           61,
           "Theileria",
           "Eukaryota",
           "Sar",
           "EUKARYOTA",
           "Eukaryota",
           "Chromista",
           "Other",
           "Other"
          ]
         ],
         "hovertemplate": "<b>%{hovertext}</b><br><br>Species=%{customdata[1]}<br>pm1=%{x}<br>pm2=%{y}<br>proteins_id=%{customdata[0]}<br>Kingdom=%{customdata[2]}<br>Family=%{customdata[3]}<br>Color_eukaryota=%{customdata[4]}<br>Domain=%{customdata[5]}<br>Kingdom2=%{customdata[6]}<br>Phylum=%{customdata[7]}<br>Class=%{customdata[8]}<extra></extra>",
         "hovertext": [
          "Theileria"
         ],
         "legendgroup": "Theileria",
         "marker": {
          "color": "#21e548",
          "symbol": "circle"
         },
         "mode": "markers",
         "name": "Theileria",
         "orientation": "v",
         "showlegend": true,
         "type": "scatter",
         "x": [
          -0.24953501
         ],
         "xaxis": "x",
         "y": [
          -0.7757209
         ],
         "yaxis": "y"
        },
        {
         "customdata": [
          [
           62,
           "Plasmodium",
           "Eukaryota",
           "Alveolata",
           "EUKARYOTA",
           "Eukaryota",
           "Chromista",
           "Other",
           "Other"
          ]
         ],
         "hovertemplate": "<b>%{hovertext}</b><br><br>Species=%{customdata[1]}<br>pm1=%{x}<br>pm2=%{y}<br>proteins_id=%{customdata[0]}<br>Kingdom=%{customdata[2]}<br>Family=%{customdata[3]}<br>Color_eukaryota=%{customdata[4]}<br>Domain=%{customdata[5]}<br>Kingdom2=%{customdata[6]}<br>Phylum=%{customdata[7]}<br>Class=%{customdata[8]}<extra></extra>",
         "hovertext": [
          "Plasmodium"
         ],
         "legendgroup": "Plasmodium",
         "marker": {
          "color": "#21e548",
          "symbol": "circle"
         },
         "mode": "markers",
         "name": "Plasmodium",
         "orientation": "v",
         "showlegend": true,
         "type": "scatter",
         "x": [
          -0.21455643
         ],
         "xaxis": "x",
         "y": [
          -0.8124645
         ],
         "yaxis": "y"
        },
        {
         "customdata": [
          [
           63,
           "Archaeoglobus",
           "Archaea",
           "Euryarchaeota",
           "OTHERS",
           "Archaea",
           "Archaea",
           "Euryarchaeota",
           "Other"
          ],
          [
           77,
           "Archaeoglobus",
           "Archaea",
           "Euryarchaeota",
           "OTHERS",
           "Archaea",
           "Archaea",
           "Euryarchaeota",
           "Other"
          ]
         ],
         "hovertemplate": "<b>%{hovertext}</b><br><br>Species=%{customdata[1]}<br>pm1=%{x}<br>pm2=%{y}<br>proteins_id=%{customdata[0]}<br>Kingdom=%{customdata[2]}<br>Family=%{customdata[3]}<br>Color_eukaryota=%{customdata[4]}<br>Domain=%{customdata[5]}<br>Kingdom2=%{customdata[6]}<br>Phylum=%{customdata[7]}<br>Class=%{customdata[8]}<extra></extra>",
         "hovertext": [
          "Archaeoglobus",
          "Archaeoglobus"
         ],
         "legendgroup": "Archaeoglobus",
         "marker": {
          "color": "#ff0000",
          "symbol": "circle"
         },
         "mode": "markers",
         "name": "Archaeoglobus",
         "orientation": "v",
         "showlegend": true,
         "type": "scatter",
         "x": [
          0.025638895,
          0.15786633
         ],
         "xaxis": "x",
         "y": [
          0.8330372,
          -0.17719902
         ],
         "yaxis": "y"
        },
        {
         "customdata": [
          [
           64,
           "Methanosaeta",
           "Archaea",
           "Euryarchaeota",
           "OTHERS",
           "Archaea",
           "Archaea",
           "Euryarchaeota",
           "Methanomicrobia"
          ],
          [
           71,
           "Methanosaeta",
           "Archaea",
           "Euryarchaeota",
           "OTHERS",
           "Archaea",
           "Archaea",
           "Euryarchaeota",
           "Methanomicrobia"
          ]
         ],
         "hovertemplate": "<b>%{hovertext}</b><br><br>Species=%{customdata[1]}<br>pm1=%{x}<br>pm2=%{y}<br>proteins_id=%{customdata[0]}<br>Kingdom=%{customdata[2]}<br>Family=%{customdata[3]}<br>Color_eukaryota=%{customdata[4]}<br>Domain=%{customdata[5]}<br>Kingdom2=%{customdata[6]}<br>Phylum=%{customdata[7]}<br>Class=%{customdata[8]}<extra></extra>",
         "hovertext": [
          "Methanosaeta",
          "Methanosaeta"
         ],
         "legendgroup": "Methanosaeta",
         "marker": {
          "color": "#ff0000",
          "symbol": "circle"
         },
         "mode": "markers",
         "name": "Methanosaeta",
         "orientation": "v",
         "showlegend": true,
         "type": "scatter",
         "x": [
          -0.015238132,
          -0.25886053
         ],
         "xaxis": "x",
         "y": [
          0.8277003,
          -0.20760179
         ],
         "yaxis": "y"
        },
        {
         "customdata": [
          [
           65,
           "Methanococcoides",
           "Archaea",
           "Euryarchaeota",
           "OTHERS",
           "Archaea",
           "Archaea",
           "Euryarchaeota",
           "Methanomicrobia"
          ]
         ],
         "hovertemplate": "<b>%{hovertext}</b><br><br>Species=%{customdata[1]}<br>pm1=%{x}<br>pm2=%{y}<br>proteins_id=%{customdata[0]}<br>Kingdom=%{customdata[2]}<br>Family=%{customdata[3]}<br>Color_eukaryota=%{customdata[4]}<br>Domain=%{customdata[5]}<br>Kingdom2=%{customdata[6]}<br>Phylum=%{customdata[7]}<br>Class=%{customdata[8]}<extra></extra>",
         "hovertext": [
          "Methanococcoides"
         ],
         "legendgroup": "Methanococcoides",
         "marker": {
          "color": "#ff0000",
          "symbol": "circle"
         },
         "mode": "markers",
         "name": "Methanococcoides",
         "orientation": "v",
         "showlegend": true,
         "type": "scatter",
         "x": [
          0.0006015573
         ],
         "xaxis": "x",
         "y": [
          0.82104653
         ],
         "yaxis": "y"
        },
        {
         "customdata": [
          [
           66,
           "Candidatus",
           "Archaea",
           "Euryarchaeota",
           "OTHERS",
           "Archaea",
           "Archaea",
           "Other",
           "Other"
          ]
         ],
         "hovertemplate": "<b>%{hovertext}</b><br><br>Species=%{customdata[1]}<br>pm1=%{x}<br>pm2=%{y}<br>proteins_id=%{customdata[0]}<br>Kingdom=%{customdata[2]}<br>Family=%{customdata[3]}<br>Color_eukaryota=%{customdata[4]}<br>Domain=%{customdata[5]}<br>Kingdom2=%{customdata[6]}<br>Phylum=%{customdata[7]}<br>Class=%{customdata[8]}<extra></extra>",
         "hovertext": [
          "Candidatus"
         ],
         "legendgroup": "Candidatus",
         "marker": {
          "color": "#ff0000",
          "symbol": "circle"
         },
         "mode": "markers",
         "name": "Candidatus",
         "orientation": "v",
         "showlegend": true,
         "type": "scatter",
         "x": [
          -0.09810653
         ],
         "xaxis": "x",
         "y": [
          0.8026958
         ],
         "yaxis": "y"
        },
        {
         "customdata": [
          [
           67,
           "Methanospirillum",
           "Archaea",
           "Euryarchaeota",
           "OTHERS",
           "Archaea",
           "Archaea",
           "Euryarchaeota",
           "Methanomicrobia"
          ]
         ],
         "hovertemplate": "<b>%{hovertext}</b><br><br>Species=%{customdata[1]}<br>pm1=%{x}<br>pm2=%{y}<br>proteins_id=%{customdata[0]}<br>Kingdom=%{customdata[2]}<br>Family=%{customdata[3]}<br>Color_eukaryota=%{customdata[4]}<br>Domain=%{customdata[5]}<br>Kingdom2=%{customdata[6]}<br>Phylum=%{customdata[7]}<br>Class=%{customdata[8]}<extra></extra>",
         "hovertext": [
          "Methanospirillum"
         ],
         "legendgroup": "Methanospirillum",
         "marker": {
          "color": "#ff0000",
          "symbol": "circle"
         },
         "mode": "markers",
         "name": "Methanospirillum",
         "orientation": "v",
         "showlegend": true,
         "type": "scatter",
         "x": [
          -0.036886953
         ],
         "xaxis": "x",
         "y": [
          0.8205997
         ],
         "yaxis": "y"
        },
        {
         "customdata": [
          [
           68,
           "Picrophilus",
           "Archaea",
           "Euryarchaeota",
           "OTHERS",
           "Archaea",
           "Archaea",
           "Euryarchaeota",
           "Other"
          ]
         ],
         "hovertemplate": "<b>%{hovertext}</b><br><br>Species=%{customdata[1]}<br>pm1=%{x}<br>pm2=%{y}<br>proteins_id=%{customdata[0]}<br>Kingdom=%{customdata[2]}<br>Family=%{customdata[3]}<br>Color_eukaryota=%{customdata[4]}<br>Domain=%{customdata[5]}<br>Kingdom2=%{customdata[6]}<br>Phylum=%{customdata[7]}<br>Class=%{customdata[8]}<extra></extra>",
         "hovertext": [
          "Picrophilus"
         ],
         "legendgroup": "Picrophilus",
         "marker": {
          "color": "#ff0000",
          "symbol": "circle"
         },
         "mode": "markers",
         "name": "Picrophilus",
         "orientation": "v",
         "showlegend": true,
         "type": "scatter",
         "x": [
          0.07034659
         ],
         "xaxis": "x",
         "y": [
          0.8018447
         ],
         "yaxis": "y"
        },
        {
         "customdata": [
          [
           69,
           "Methanococcus",
           "Archaea",
           "Euryarchaeota",
           "OTHERS",
           "Archaea",
           "Archaea",
           "Euryarchaeota",
           "Other"
          ]
         ],
         "hovertemplate": "<b>%{hovertext}</b><br><br>Species=%{customdata[1]}<br>pm1=%{x}<br>pm2=%{y}<br>proteins_id=%{customdata[0]}<br>Kingdom=%{customdata[2]}<br>Family=%{customdata[3]}<br>Color_eukaryota=%{customdata[4]}<br>Domain=%{customdata[5]}<br>Kingdom2=%{customdata[6]}<br>Phylum=%{customdata[7]}<br>Class=%{customdata[8]}<extra></extra>",
         "hovertext": [
          "Methanococcus"
         ],
         "legendgroup": "Methanococcus",
         "marker": {
          "color": "#ff0000",
          "symbol": "circle"
         },
         "mode": "markers",
         "name": "Methanococcus",
         "orientation": "v",
         "showlegend": true,
         "type": "scatter",
         "x": [
          -0.32293004
         ],
         "xaxis": "x",
         "y": [
          0.58237296
         ],
         "yaxis": "y"
        },
        {
         "customdata": [
          [
           70,
           "Methanocorpusculum",
           "Archaea",
           "Euryarchaeota",
           "OTHERS",
           "Archaea",
           "Archaea",
           "Euryarchaeota",
           "Methanomicrobia"
          ]
         ],
         "hovertemplate": "<b>%{hovertext}</b><br><br>Species=%{customdata[1]}<br>pm1=%{x}<br>pm2=%{y}<br>proteins_id=%{customdata[0]}<br>Kingdom=%{customdata[2]}<br>Family=%{customdata[3]}<br>Color_eukaryota=%{customdata[4]}<br>Domain=%{customdata[5]}<br>Kingdom2=%{customdata[6]}<br>Phylum=%{customdata[7]}<br>Class=%{customdata[8]}<extra></extra>",
         "hovertext": [
          "Methanocorpusculum"
         ],
         "legendgroup": "Methanocorpusculum",
         "marker": {
          "color": "#ff0000",
          "symbol": "circle"
         },
         "mode": "markers",
         "name": "Methanocorpusculum",
         "orientation": "v",
         "showlegend": true,
         "type": "scatter",
         "x": [
          -0.21917637
         ],
         "xaxis": "x",
         "y": [
          -0.29175493
         ],
         "yaxis": "y"
        },
        {
         "customdata": [
          [
           72,
           "Natronomonas",
           "Archaea",
           "Euryarchaeota",
           "OTHERS",
           "Archaea",
           "Archaea",
           "Euryarchaeota",
           "Halobacteria"
          ],
          [
           75,
           "Natronomonas",
           "Archaea",
           "Euryarchaeota",
           "OTHERS",
           "Archaea",
           "Archaea",
           "Euryarchaeota",
           "Halobacteria"
          ]
         ],
         "hovertemplate": "<b>%{hovertext}</b><br><br>Species=%{customdata[1]}<br>pm1=%{x}<br>pm2=%{y}<br>proteins_id=%{customdata[0]}<br>Kingdom=%{customdata[2]}<br>Family=%{customdata[3]}<br>Color_eukaryota=%{customdata[4]}<br>Domain=%{customdata[5]}<br>Kingdom2=%{customdata[6]}<br>Phylum=%{customdata[7]}<br>Class=%{customdata[8]}<extra></extra>",
         "hovertext": [
          "Natronomonas",
          "Natronomonas"
         ],
         "legendgroup": "Natronomonas",
         "marker": {
          "color": "#ff0000",
          "symbol": "circle"
         },
         "mode": "markers",
         "name": "Natronomonas",
         "orientation": "v",
         "showlegend": true,
         "type": "scatter",
         "x": [
          0.08766432,
          0.056792717
         ],
         "xaxis": "x",
         "y": [
          0.21566774,
          0.23903593
         ],
         "yaxis": "y"
        },
        {
         "customdata": [
          [
           73,
           "Haloquadratum",
           "Archaea",
           "Euryarchaeota",
           "OTHERS",
           "Archaea",
           "Archaea",
           "Euryarchaeota",
           "Halobacteria"
          ]
         ],
         "hovertemplate": "<b>%{hovertext}</b><br><br>Species=%{customdata[1]}<br>pm1=%{x}<br>pm2=%{y}<br>proteins_id=%{customdata[0]}<br>Kingdom=%{customdata[2]}<br>Family=%{customdata[3]}<br>Color_eukaryota=%{customdata[4]}<br>Domain=%{customdata[5]}<br>Kingdom2=%{customdata[6]}<br>Phylum=%{customdata[7]}<br>Class=%{customdata[8]}<extra></extra>",
         "hovertext": [
          "Haloquadratum"
         ],
         "legendgroup": "Haloquadratum",
         "marker": {
          "color": "#ff0000",
          "symbol": "circle"
         },
         "mode": "markers",
         "name": "Haloquadratum",
         "orientation": "v",
         "showlegend": true,
         "type": "scatter",
         "x": [
          0.05478083
         ],
         "xaxis": "x",
         "y": [
          0.45264548
         ],
         "yaxis": "y"
        },
        {
         "customdata": [
          [
           74,
           "Haloarcula",
           "Archaea",
           "Euryarchaeota",
           "OTHERS",
           "Archaea",
           "Archaea",
           "Euryarchaeota",
           "Halobacteria"
          ]
         ],
         "hovertemplate": "<b>%{hovertext}</b><br><br>Species=%{customdata[1]}<br>pm1=%{x}<br>pm2=%{y}<br>proteins_id=%{customdata[0]}<br>Kingdom=%{customdata[2]}<br>Family=%{customdata[3]}<br>Color_eukaryota=%{customdata[4]}<br>Domain=%{customdata[5]}<br>Kingdom2=%{customdata[6]}<br>Phylum=%{customdata[7]}<br>Class=%{customdata[8]}<extra></extra>",
         "hovertext": [
          "Haloarcula"
         ],
         "legendgroup": "Haloarcula",
         "marker": {
          "color": "#ff0000",
          "symbol": "circle"
         },
         "mode": "markers",
         "name": "Haloarcula",
         "orientation": "v",
         "showlegend": true,
         "type": "scatter",
         "x": [
          0.046569753
         ],
         "xaxis": "x",
         "y": [
          0.42038706
         ],
         "yaxis": "y"
        },
        {
         "customdata": [
          [
           76,
           "Halobacterium",
           "Archaea",
           "Euryarchaeota",
           "OTHERS",
           "Archaea",
           "Archaea",
           "Euryarchaeota",
           "Halobacteria"
          ]
         ],
         "hovertemplate": "<b>%{hovertext}</b><br><br>Species=%{customdata[1]}<br>pm1=%{x}<br>pm2=%{y}<br>proteins_id=%{customdata[0]}<br>Kingdom=%{customdata[2]}<br>Family=%{customdata[3]}<br>Color_eukaryota=%{customdata[4]}<br>Domain=%{customdata[5]}<br>Kingdom2=%{customdata[6]}<br>Phylum=%{customdata[7]}<br>Class=%{customdata[8]}<extra></extra>",
         "hovertext": [
          "Halobacterium"
         ],
         "legendgroup": "Halobacterium",
         "marker": {
          "color": "#ff0000",
          "symbol": "circle"
         },
         "mode": "markers",
         "name": "Halobacterium",
         "orientation": "v",
         "showlegend": true,
         "type": "scatter",
         "x": [
          0.04943398
         ],
         "xaxis": "x",
         "y": [
          0.30786234
         ],
         "yaxis": "y"
        },
        {
         "customdata": [
          [
           78,
           "Thermoplasma",
           "Archaea",
           "Euryarchaeota",
           "OTHERS",
           "Archaea",
           "Archaea",
           "Euryarchaeota",
           "Other"
          ]
         ],
         "hovertemplate": "<b>%{hovertext}</b><br><br>Species=%{customdata[1]}<br>pm1=%{x}<br>pm2=%{y}<br>proteins_id=%{customdata[0]}<br>Kingdom=%{customdata[2]}<br>Family=%{customdata[3]}<br>Color_eukaryota=%{customdata[4]}<br>Domain=%{customdata[5]}<br>Kingdom2=%{customdata[6]}<br>Phylum=%{customdata[7]}<br>Class=%{customdata[8]}<extra></extra>",
         "hovertext": [
          "Thermoplasma"
         ],
         "legendgroup": "Thermoplasma",
         "marker": {
          "color": "#ff0000",
          "symbol": "circle"
         },
         "mode": "markers",
         "name": "Thermoplasma",
         "orientation": "v",
         "showlegend": true,
         "type": "scatter",
         "x": [
          -0.40579563
         ],
         "xaxis": "x",
         "y": [
          0.13534352
         ],
         "yaxis": "y"
        },
        {
         "customdata": [
          [
           79,
           "Thermofilum",
           "Archaea",
           "Crenarchaeota",
           "OTHERS",
           "Archaea",
           "Archaea",
           "Crenarchaeota",
           "Thermoprotei"
          ]
         ],
         "hovertemplate": "<b>%{hovertext}</b><br><br>Species=%{customdata[1]}<br>pm1=%{x}<br>pm2=%{y}<br>proteins_id=%{customdata[0]}<br>Kingdom=%{customdata[2]}<br>Family=%{customdata[3]}<br>Color_eukaryota=%{customdata[4]}<br>Domain=%{customdata[5]}<br>Kingdom2=%{customdata[6]}<br>Phylum=%{customdata[7]}<br>Class=%{customdata[8]}<extra></extra>",
         "hovertext": [
          "Thermofilum"
         ],
         "legendgroup": "Thermofilum",
         "marker": {
          "color": "#ff0000",
          "symbol": "circle"
         },
         "mode": "markers",
         "name": "Thermofilum",
         "orientation": "v",
         "showlegend": true,
         "type": "scatter",
         "x": [
          -0.063346766
         ],
         "xaxis": "x",
         "y": [
          0.77368385
         ],
         "yaxis": "y"
        },
        {
         "customdata": [
          [
           80,
           "Caldivirga",
           "Archaea",
           "Crenarchaeota",
           "OTHERS",
           "Archaea",
           "Archaea",
           "Crenarchaeota",
           "Thermoprotei"
          ]
         ],
         "hovertemplate": "<b>%{hovertext}</b><br><br>Species=%{customdata[1]}<br>pm1=%{x}<br>pm2=%{y}<br>proteins_id=%{customdata[0]}<br>Kingdom=%{customdata[2]}<br>Family=%{customdata[3]}<br>Color_eukaryota=%{customdata[4]}<br>Domain=%{customdata[5]}<br>Kingdom2=%{customdata[6]}<br>Phylum=%{customdata[7]}<br>Class=%{customdata[8]}<extra></extra>",
         "hovertext": [
          "Caldivirga"
         ],
         "legendgroup": "Caldivirga",
         "marker": {
          "color": "#ff0000",
          "symbol": "circle"
         },
         "mode": "markers",
         "name": "Caldivirga",
         "orientation": "v",
         "showlegend": true,
         "type": "scatter",
         "x": [
          0.047913462
         ],
         "xaxis": "x",
         "y": [
          0.80334646
         ],
         "yaxis": "y"
        },
        {
         "customdata": [
          [
           81,
           "Sulfolobus",
           "Archaea",
           "Crenarchaeota",
           "OTHERS",
           "Archaea",
           "Archaea",
           "Crenarchaeota",
           "Thermoprotei"
          ],
          [
           82,
           "Sulfolobus",
           "Archaea",
           "Crenarchaeota",
           "OTHERS",
           "Archaea",
           "Archaea",
           "Crenarchaeota",
           "Thermoprotei"
          ],
          [
           83,
           "Sulfolobus",
           "Archaea",
           "Crenarchaeota",
           "OTHERS",
           "Archaea",
           "Archaea",
           "Crenarchaeota",
           "Thermoprotei"
          ],
          [
           87,
           "Sulfolobus",
           "Archaea",
           "Crenarchaeota",
           "OTHERS",
           "Archaea",
           "Archaea",
           "Crenarchaeota",
           "Thermoprotei"
          ],
          [
           88,
           "Sulfolobus",
           "Archaea",
           "Crenarchaeota",
           "OTHERS",
           "Archaea",
           "Archaea",
           "Crenarchaeota",
           "Thermoprotei"
          ]
         ],
         "hovertemplate": "<b>%{hovertext}</b><br><br>Species=%{customdata[1]}<br>pm1=%{x}<br>pm2=%{y}<br>proteins_id=%{customdata[0]}<br>Kingdom=%{customdata[2]}<br>Family=%{customdata[3]}<br>Color_eukaryota=%{customdata[4]}<br>Domain=%{customdata[5]}<br>Kingdom2=%{customdata[6]}<br>Phylum=%{customdata[7]}<br>Class=%{customdata[8]}<extra></extra>",
         "hovertext": [
          "Sulfolobus",
          "Sulfolobus",
          "Sulfolobus",
          "Sulfolobus",
          "Sulfolobus"
         ],
         "legendgroup": "Sulfolobus",
         "marker": {
          "color": "#ff0000",
          "symbol": "circle"
         },
         "mode": "markers",
         "name": "Sulfolobus",
         "orientation": "v",
         "showlegend": true,
         "type": "scatter",
         "x": [
          0.010262806,
          0.034052532,
          0.023109265,
          0.06268859,
          0.05215541
         ],
         "xaxis": "x",
         "y": [
          0.78352875,
          0.76644784,
          0.6489216,
          0.76413757,
          0.7371067
         ],
         "yaxis": "y"
        },
        {
         "customdata": [
          [
           84,
           "Hyperthermus",
           "Archaea",
           "Crenarchaeota",
           "OTHERS",
           "Archaea",
           "Archaea",
           "Crenarchaeota",
           "Thermoprotei"
          ]
         ],
         "hovertemplate": "<b>%{hovertext}</b><br><br>Species=%{customdata[1]}<br>pm1=%{x}<br>pm2=%{y}<br>proteins_id=%{customdata[0]}<br>Kingdom=%{customdata[2]}<br>Family=%{customdata[3]}<br>Color_eukaryota=%{customdata[4]}<br>Domain=%{customdata[5]}<br>Kingdom2=%{customdata[6]}<br>Phylum=%{customdata[7]}<br>Class=%{customdata[8]}<extra></extra>",
         "hovertext": [
          "Hyperthermus"
         ],
         "legendgroup": "Hyperthermus",
         "marker": {
          "color": "#ff0000",
          "symbol": "circle"
         },
         "mode": "markers",
         "name": "Hyperthermus",
         "orientation": "v",
         "showlegend": true,
         "type": "scatter",
         "x": [
          -0.00814656
         ],
         "xaxis": "x",
         "y": [
          0.7390305
         ],
         "yaxis": "y"
        },
        {
         "customdata": [
          [
           85,
           "Aeropyrum",
           "Archaea",
           "Crenarchaeota",
           "OTHERS",
           "Archaea",
           "Archaea",
           "Crenarchaeota",
           "Thermoprotei"
          ],
          [
           90,
           "Aeropyrum",
           "Archaea",
           "Crenarchaeota",
           "OTHERS",
           "Archaea",
           "Archaea",
           "Crenarchaeota",
           "Thermoprotei"
          ]
         ],
         "hovertemplate": "<b>%{hovertext}</b><br><br>Species=%{customdata[1]}<br>pm1=%{x}<br>pm2=%{y}<br>proteins_id=%{customdata[0]}<br>Kingdom=%{customdata[2]}<br>Family=%{customdata[3]}<br>Color_eukaryota=%{customdata[4]}<br>Domain=%{customdata[5]}<br>Kingdom2=%{customdata[6]}<br>Phylum=%{customdata[7]}<br>Class=%{customdata[8]}<extra></extra>",
         "hovertext": [
          "Aeropyrum",
          "Aeropyrum"
         ],
         "legendgroup": "Aeropyrum",
         "marker": {
          "color": "#ff0000",
          "symbol": "circle"
         },
         "mode": "markers",
         "name": "Aeropyrum",
         "orientation": "v",
         "showlegend": true,
         "type": "scatter",
         "x": [
          -0.047897473,
          -0.03651293
         ],
         "xaxis": "x",
         "y": [
          0.7403223,
          0.7484237
         ],
         "yaxis": "y"
        },
        {
         "customdata": [
          [
           86,
           "Metallosphaera",
           "Archaea",
           "Crenarchaeota",
           "OTHERS",
           "Archaea",
           "Archaea",
           "Crenarchaeota",
           "Thermoprotei"
          ]
         ],
         "hovertemplate": "<b>%{hovertext}</b><br><br>Species=%{customdata[1]}<br>pm1=%{x}<br>pm2=%{y}<br>proteins_id=%{customdata[0]}<br>Kingdom=%{customdata[2]}<br>Family=%{customdata[3]}<br>Color_eukaryota=%{customdata[4]}<br>Domain=%{customdata[5]}<br>Kingdom2=%{customdata[6]}<br>Phylum=%{customdata[7]}<br>Class=%{customdata[8]}<extra></extra>",
         "hovertext": [
          "Metallosphaera"
         ],
         "legendgroup": "Metallosphaera",
         "marker": {
          "color": "#ff0000",
          "symbol": "circle"
         },
         "mode": "markers",
         "name": "Metallosphaera",
         "orientation": "v",
         "showlegend": true,
         "type": "scatter",
         "x": [
          0.033929892
         ],
         "xaxis": "x",
         "y": [
          0.7886297
         ],
         "yaxis": "y"
        },
        {
         "customdata": [
          [
           89,
           "Staphylothermus",
           "Archaea",
           "Crenarchaeota",
           "OTHERS",
           "Archaea",
           "Archaea",
           "Crenarchaeota",
           "Thermoprotei"
          ]
         ],
         "hovertemplate": "<b>%{hovertext}</b><br><br>Species=%{customdata[1]}<br>pm1=%{x}<br>pm2=%{y}<br>proteins_id=%{customdata[0]}<br>Kingdom=%{customdata[2]}<br>Family=%{customdata[3]}<br>Color_eukaryota=%{customdata[4]}<br>Domain=%{customdata[5]}<br>Kingdom2=%{customdata[6]}<br>Phylum=%{customdata[7]}<br>Class=%{customdata[8]}<extra></extra>",
         "hovertext": [
          "Staphylothermus"
         ],
         "legendgroup": "Staphylothermus",
         "marker": {
          "color": "#ff0000",
          "symbol": "circle"
         },
         "mode": "markers",
         "name": "Staphylothermus",
         "orientation": "v",
         "showlegend": true,
         "type": "scatter",
         "x": [
          -0.039388116
         ],
         "xaxis": "x",
         "y": [
          0.7410459
         ],
         "yaxis": "y"
        },
        {
         "customdata": [
          [
           91,
           "Clostridium",
           "Bacteria",
           "Firmicutes",
           "OTHERS",
           "Bacteria",
           "Bacteria",
           "Firmicutes",
           "Clostridia"
          ],
          [
           108,
           "Clostridium",
           "Bacteria",
           "Firmicutes",
           "OTHERS",
           "Bacteria",
           "Bacteria",
           "Firmicutes",
           "Clostridia"
          ],
          [
           109,
           "Clostridium",
           "Bacteria",
           "Firmicutes",
           "OTHERS",
           "Bacteria",
           "Bacteria",
           "Firmicutes",
           "Clostridia"
          ],
          [
           110,
           "Clostridium",
           "Bacteria",
           "Firmicutes",
           "OTHERS",
           "Bacteria",
           "Bacteria",
           "Firmicutes",
           "Clostridia"
          ],
          [
           111,
           "Clostridium",
           "Bacteria",
           "Firmicutes",
           "OTHERS",
           "Bacteria",
           "Bacteria",
           "Firmicutes",
           "Clostridia"
          ]
         ],
         "hovertemplate": "<b>%{hovertext}</b><br><br>Species=%{customdata[1]}<br>pm1=%{x}<br>pm2=%{y}<br>proteins_id=%{customdata[0]}<br>Kingdom=%{customdata[2]}<br>Family=%{customdata[3]}<br>Color_eukaryota=%{customdata[4]}<br>Domain=%{customdata[5]}<br>Kingdom2=%{customdata[6]}<br>Phylum=%{customdata[7]}<br>Class=%{customdata[8]}<extra></extra>",
         "hovertext": [
          "Clostridium",
          "Clostridium",
          "Clostridium",
          "Clostridium",
          "Clostridium"
         ],
         "legendgroup": "Clostridium",
         "marker": {
          "color": "#34b8e7",
          "symbol": "circle"
         },
         "mode": "markers",
         "name": "Clostridium",
         "orientation": "v",
         "showlegend": true,
         "type": "scatter",
         "x": [
          -0.45392463,
          0.20535293,
          0.013115618,
          -0.2756276,
          0.24354395
         ],
         "xaxis": "x",
         "y": [
          0.07784544,
          -0.20067157,
          -0.09551743,
          0.03188802,
          -0.05779023
         ],
         "yaxis": "y"
        },
        {
         "customdata": [
          [
           92,
           "Thermoanaerobacter",
           "Bacteria",
           "Firmicutes",
           "OTHERS",
           "Bacteria",
           "Bacteria",
           "Firmicutes",
           "Clostridia"
          ],
          [
           112,
           "Thermoanaerobacter",
           "Bacteria",
           "Firmicutes",
           "OTHERS",
           "Bacteria",
           "Bacteria",
           "Firmicutes",
           "Clostridia"
          ]
         ],
         "hovertemplate": "<b>%{hovertext}</b><br><br>Species=%{customdata[1]}<br>pm1=%{x}<br>pm2=%{y}<br>proteins_id=%{customdata[0]}<br>Kingdom=%{customdata[2]}<br>Family=%{customdata[3]}<br>Color_eukaryota=%{customdata[4]}<br>Domain=%{customdata[5]}<br>Kingdom2=%{customdata[6]}<br>Phylum=%{customdata[7]}<br>Class=%{customdata[8]}<extra></extra>",
         "hovertext": [
          "Thermoanaerobacter",
          "Thermoanaerobacter"
         ],
         "legendgroup": "Thermoanaerobacter",
         "marker": {
          "color": "#34b8e7",
          "symbol": "circle"
         },
         "mode": "markers",
         "name": "Thermoanaerobacter",
         "orientation": "v",
         "showlegend": true,
         "type": "scatter",
         "x": [
          -0.34016252,
          0.07522465
         ],
         "xaxis": "x",
         "y": [
          -0.15032436,
          0.6315038
         ],
         "yaxis": "y"
        },
        {
         "customdata": [
          [
           93,
           "Bacillus",
           "Bacteria",
           "Firmicutes",
           "OTHERS",
           "Bacteria",
           "Bacteria",
           "Firmicutes",
           "Bacilli"
          ],
          [
           94,
           "Bacillus",
           "Bacteria",
           "Firmicutes",
           "OTHERS",
           "Bacteria",
           "Bacteria",
           "Firmicutes",
           "Bacilli"
          ],
          [
           102,
           "Bacillus",
           "Bacteria",
           "Firmicutes",
           "OTHERS",
           "Bacteria",
           "Bacteria",
           "Firmicutes",
           "Bacilli"
          ],
          [
           103,
           "Bacillus",
           "Bacteria",
           "Firmicutes",
           "OTHERS",
           "Bacteria",
           "Bacteria",
           "Firmicutes",
           "Bacilli"
          ]
         ],
         "hovertemplate": "<b>%{hovertext}</b><br><br>Species=%{customdata[1]}<br>pm1=%{x}<br>pm2=%{y}<br>proteins_id=%{customdata[0]}<br>Kingdom=%{customdata[2]}<br>Family=%{customdata[3]}<br>Color_eukaryota=%{customdata[4]}<br>Domain=%{customdata[5]}<br>Kingdom2=%{customdata[6]}<br>Phylum=%{customdata[7]}<br>Class=%{customdata[8]}<extra></extra>",
         "hovertext": [
          "Bacillus",
          "Bacillus",
          "Bacillus",
          "Bacillus"
         ],
         "legendgroup": "Bacillus",
         "marker": {
          "color": "#34b8e7",
          "symbol": "circle"
         },
         "mode": "markers",
         "name": "Bacillus",
         "orientation": "v",
         "showlegend": true,
         "type": "scatter",
         "x": [
          -0.49624127,
          -0.45985636,
          -0.08093859,
          -0.11946294
         ],
         "xaxis": "x",
         "y": [
          -0.0050045755,
          -0.03656966,
          -0.14224263,
          -0.18138465
         ],
         "yaxis": "y"
        },
        {
         "customdata": [
          [
           95,
           "Streptococcus",
           "Bacteria",
           "Firmicutes",
           "OTHERS",
           "Bacteria",
           "Bacteria",
           "Firmicutes",
           "Bacilli"
          ],
          [
           107,
           "Streptococcus",
           "Bacteria",
           "Firmicutes",
           "OTHERS",
           "Bacteria",
           "Bacteria",
           "Firmicutes",
           "Bacilli"
          ]
         ],
         "hovertemplate": "<b>%{hovertext}</b><br><br>Species=%{customdata[1]}<br>pm1=%{x}<br>pm2=%{y}<br>proteins_id=%{customdata[0]}<br>Kingdom=%{customdata[2]}<br>Family=%{customdata[3]}<br>Color_eukaryota=%{customdata[4]}<br>Domain=%{customdata[5]}<br>Kingdom2=%{customdata[6]}<br>Phylum=%{customdata[7]}<br>Class=%{customdata[8]}<extra></extra>",
         "hovertext": [
          "Streptococcus",
          "Streptococcus"
         ],
         "legendgroup": "Streptococcus",
         "marker": {
          "color": "#34b8e7",
          "symbol": "circle"
         },
         "mode": "markers",
         "name": "Streptococcus",
         "orientation": "v",
         "showlegend": true,
         "type": "scatter",
         "x": [
          -0.42588368,
          -0.071453676
         ],
         "xaxis": "x",
         "y": [
          -0.08034478,
          -0.064357854
         ],
         "yaxis": "y"
        },
        {
         "customdata": [
          [
           96,
           "Enterococcus",
           "Bacteria",
           "Firmicutes",
           "OTHERS",
           "Bacteria",
           "Bacteria",
           "Firmicutes",
           "Bacilli"
          ],
          [
           106,
           "Enterococcus",
           "Bacteria",
           "Firmicutes",
           "OTHERS",
           "Bacteria",
           "Bacteria",
           "Firmicutes",
           "Bacilli"
          ]
         ],
         "hovertemplate": "<b>%{hovertext}</b><br><br>Species=%{customdata[1]}<br>pm1=%{x}<br>pm2=%{y}<br>proteins_id=%{customdata[0]}<br>Kingdom=%{customdata[2]}<br>Family=%{customdata[3]}<br>Color_eukaryota=%{customdata[4]}<br>Domain=%{customdata[5]}<br>Kingdom2=%{customdata[6]}<br>Phylum=%{customdata[7]}<br>Class=%{customdata[8]}<extra></extra>",
         "hovertext": [
          "Enterococcus",
          "Enterococcus"
         ],
         "legendgroup": "Enterococcus",
         "marker": {
          "color": "#34b8e7",
          "symbol": "circle"
         },
         "mode": "markers",
         "name": "Enterococcus",
         "orientation": "v",
         "showlegend": true,
         "type": "scatter",
         "x": [
          -0.43836483,
          -0.064370684
         ],
         "xaxis": "x",
         "y": [
          -0.11019566,
          -0.01462321
         ],
         "yaxis": "y"
        },
        {
         "customdata": [
          [
           97,
           "Listeria",
           "Bacteria",
           "Firmicutes",
           "OTHERS",
           "Bacteria",
           "Bacteria",
           "Firmicutes",
           "Bacilli"
          ],
          [
           105,
           "Listeria",
           "Bacteria",
           "Firmicutes",
           "OTHERS",
           "Bacteria",
           "Bacteria",
           "Firmicutes",
           "Bacilli"
          ]
         ],
         "hovertemplate": "<b>%{hovertext}</b><br><br>Species=%{customdata[1]}<br>pm1=%{x}<br>pm2=%{y}<br>proteins_id=%{customdata[0]}<br>Kingdom=%{customdata[2]}<br>Family=%{customdata[3]}<br>Color_eukaryota=%{customdata[4]}<br>Domain=%{customdata[5]}<br>Kingdom2=%{customdata[6]}<br>Phylum=%{customdata[7]}<br>Class=%{customdata[8]}<extra></extra>",
         "hovertext": [
          "Listeria",
          "Listeria"
         ],
         "legendgroup": "Listeria",
         "marker": {
          "color": "#34b8e7",
          "symbol": "circle"
         },
         "mode": "markers",
         "name": "Listeria",
         "orientation": "v",
         "showlegend": true,
         "type": "scatter",
         "x": [
          -0.33918554,
          -0.093142204
         ],
         "xaxis": "x",
         "y": [
          0.2061929,
          -0.16028343
         ],
         "yaxis": "y"
        },
        {
         "customdata": [
          [
           98,
           "Lactobacillus",
           "Bacteria",
           "Firmicutes",
           "OTHERS",
           "Bacteria",
           "Bacteria",
           "Firmicutes",
           "Bacilli"
          ],
          [
           99,
           "Lactobacillus",
           "Bacteria",
           "Firmicutes",
           "OTHERS",
           "Bacteria",
           "Bacteria",
           "Firmicutes",
           "Bacilli"
          ],
          [
           104,
           "Lactobacillus",
           "Bacteria",
           "Firmicutes",
           "OTHERS",
           "Bacteria",
           "Bacteria",
           "Firmicutes",
           "Bacilli"
          ]
         ],
         "hovertemplate": "<b>%{hovertext}</b><br><br>Species=%{customdata[1]}<br>pm1=%{x}<br>pm2=%{y}<br>proteins_id=%{customdata[0]}<br>Kingdom=%{customdata[2]}<br>Family=%{customdata[3]}<br>Color_eukaryota=%{customdata[4]}<br>Domain=%{customdata[5]}<br>Kingdom2=%{customdata[6]}<br>Phylum=%{customdata[7]}<br>Class=%{customdata[8]}<extra></extra>",
         "hovertext": [
          "Lactobacillus",
          "Lactobacillus",
          "Lactobacillus"
         ],
         "legendgroup": "Lactobacillus",
         "marker": {
          "color": "#34b8e7",
          "symbol": "circle"
         },
         "mode": "markers",
         "name": "Lactobacillus",
         "orientation": "v",
         "showlegend": true,
         "type": "scatter",
         "x": [
          -0.08994347,
          -0.12098819,
          -0.10507102
         ],
         "xaxis": "x",
         "y": [
          0.12447718,
          -0.05119867,
          -0.14396296
         ],
         "yaxis": "y"
        },
        {
         "customdata": [
          [
           100,
           "Staphylococcus",
           "Bacteria",
           "Firmicutes",
           "OTHERS",
           "Bacteria",
           "Bacteria",
           "Firmicutes",
           "Bacilli"
          ]
         ],
         "hovertemplate": "<b>%{hovertext}</b><br><br>Species=%{customdata[1]}<br>pm1=%{x}<br>pm2=%{y}<br>proteins_id=%{customdata[0]}<br>Kingdom=%{customdata[2]}<br>Family=%{customdata[3]}<br>Color_eukaryota=%{customdata[4]}<br>Domain=%{customdata[5]}<br>Kingdom2=%{customdata[6]}<br>Phylum=%{customdata[7]}<br>Class=%{customdata[8]}<extra></extra>",
         "hovertext": [
          "Staphylococcus"
         ],
         "legendgroup": "Staphylococcus",
         "marker": {
          "color": "#34b8e7",
          "symbol": "circle"
         },
         "mode": "markers",
         "name": "Staphylococcus",
         "orientation": "v",
         "showlegend": true,
         "type": "scatter",
         "x": [
          -0.05887659
         ],
         "xaxis": "x",
         "y": [
          -0.19336529
         ],
         "yaxis": "y"
        },
        {
         "customdata": [
          [
           101,
           "Geobacillus",
           "Bacteria",
           "Firmicutes",
           "OTHERS",
           "Bacteria",
           "Bacteria",
           "Firmicutes",
           "Bacilli"
          ]
         ],
         "hovertemplate": "<b>%{hovertext}</b><br><br>Species=%{customdata[1]}<br>pm1=%{x}<br>pm2=%{y}<br>proteins_id=%{customdata[0]}<br>Kingdom=%{customdata[2]}<br>Family=%{customdata[3]}<br>Color_eukaryota=%{customdata[4]}<br>Domain=%{customdata[5]}<br>Kingdom2=%{customdata[6]}<br>Phylum=%{customdata[7]}<br>Class=%{customdata[8]}<extra></extra>",
         "hovertext": [
          "Geobacillus"
         ],
         "legendgroup": "Geobacillus",
         "marker": {
          "color": "#34b8e7",
          "symbol": "circle"
         },
         "mode": "markers",
         "name": "Geobacillus",
         "orientation": "v",
         "showlegend": true,
         "type": "scatter",
         "x": [
          0.010435526
         ],
         "xaxis": "x",
         "y": [
          -0.20651372
         ],
         "yaxis": "y"
        },
        {
         "customdata": [
          [
           113,
           "Chlamydia",
           "Bacteria",
           "Chlamydiae",
           "OTHERS",
           "Bacteria",
           "Bacteria",
           "Chlamydiae",
           "Other"
          ]
         ],
         "hovertemplate": "<b>%{hovertext}</b><br><br>Species=%{customdata[1]}<br>pm1=%{x}<br>pm2=%{y}<br>proteins_id=%{customdata[0]}<br>Kingdom=%{customdata[2]}<br>Family=%{customdata[3]}<br>Color_eukaryota=%{customdata[4]}<br>Domain=%{customdata[5]}<br>Kingdom2=%{customdata[6]}<br>Phylum=%{customdata[7]}<br>Class=%{customdata[8]}<extra></extra>",
         "hovertext": [
          "Chlamydia"
         ],
         "legendgroup": "Chlamydia",
         "marker": {
          "color": "#34b8e7",
          "symbol": "circle"
         },
         "mode": "markers",
         "name": "Chlamydia",
         "orientation": "v",
         "showlegend": true,
         "type": "scatter",
         "x": [
          -0.16185795
         ],
         "xaxis": "x",
         "y": [
          -0.36690694
         ],
         "yaxis": "y"
        },
        {
         "customdata": [
          [
           114,
           "Chlamydophila",
           "Bacteria",
           "Chlamydiae",
           "OTHERS",
           "Bacteria",
           "Bacteria",
           "Chlamydiae",
           "Other"
          ]
         ],
         "hovertemplate": "<b>%{hovertext}</b><br><br>Species=%{customdata[1]}<br>pm1=%{x}<br>pm2=%{y}<br>proteins_id=%{customdata[0]}<br>Kingdom=%{customdata[2]}<br>Family=%{customdata[3]}<br>Color_eukaryota=%{customdata[4]}<br>Domain=%{customdata[5]}<br>Kingdom2=%{customdata[6]}<br>Phylum=%{customdata[7]}<br>Class=%{customdata[8]}<extra></extra>",
         "hovertext": [
          "Chlamydophila"
         ],
         "legendgroup": "Chlamydophila",
         "marker": {
          "color": "#34b8e7",
          "symbol": "circle"
         },
         "mode": "markers",
         "name": "Chlamydophila",
         "orientation": "v",
         "showlegend": true,
         "type": "scatter",
         "x": [
          -0.017154617
         ],
         "xaxis": "x",
         "y": [
          -0.3397702
         ],
         "yaxis": "y"
        },
        {
         "customdata": [
          [
           115,
           "Chlorobium",
           "Bacteria",
           "Chlorobi",
           "OTHERS",
           "Bacteria",
           "Bacteria",
           "Chlorobi",
           "Other"
          ],
          [
           116,
           "Chlorobium",
           "Bacteria",
           "Chlorobi",
           "OTHERS",
           "Bacteria",
           "Bacteria",
           "Chlorobi",
           "Other"
          ]
         ],
         "hovertemplate": "<b>%{hovertext}</b><br><br>Species=%{customdata[1]}<br>pm1=%{x}<br>pm2=%{y}<br>proteins_id=%{customdata[0]}<br>Kingdom=%{customdata[2]}<br>Family=%{customdata[3]}<br>Color_eukaryota=%{customdata[4]}<br>Domain=%{customdata[5]}<br>Kingdom2=%{customdata[6]}<br>Phylum=%{customdata[7]}<br>Class=%{customdata[8]}<extra></extra>",
         "hovertext": [
          "Chlorobium",
          "Chlorobium"
         ],
         "legendgroup": "Chlorobium",
         "marker": {
          "color": "#34b8e7",
          "symbol": "circle"
         },
         "mode": "markers",
         "name": "Chlorobium",
         "orientation": "v",
         "showlegend": true,
         "type": "scatter",
         "x": [
          -0.48604614,
          0.4617312
         ],
         "xaxis": "x",
         "y": [
          0.22326714,
          -0.15735982
         ],
         "yaxis": "y"
        },
        {
         "customdata": [
          [
           117,
           "Bacteroides",
           "Bacteria",
           "Bacteroidetes",
           "OTHERS",
           "Bacteria",
           "Bacteria",
           "Bacteroidetes",
           "Other"
          ],
          [
           120,
           "Bacteroides",
           "Bacteria",
           "Bacteroidetes",
           "OTHERS",
           "Bacteria",
           "Bacteria",
           "Bacteroidetes",
           "Other"
          ],
          [
           121,
           "Bacteroides",
           "Bacteria",
           "Bacteroidetes",
           "OTHERS",
           "Bacteria",
           "Bacteria",
           "Bacteroidetes",
           "Other"
          ],
          [
           123,
           "Bacteroides",
           "Bacteria",
           "Bacteroidetes",
           "OTHERS",
           "Bacteria",
           "Bacteria",
           "Bacteroidetes",
           "Other"
          ],
          [
           124,
           "Bacteroides",
           "Bacteria",
           "Bacteroidetes",
           "OTHERS",
           "Bacteria",
           "Bacteria",
           "Bacteroidetes",
           "Other"
          ]
         ],
         "hovertemplate": "<b>%{hovertext}</b><br><br>Species=%{customdata[1]}<br>pm1=%{x}<br>pm2=%{y}<br>proteins_id=%{customdata[0]}<br>Kingdom=%{customdata[2]}<br>Family=%{customdata[3]}<br>Color_eukaryota=%{customdata[4]}<br>Domain=%{customdata[5]}<br>Kingdom2=%{customdata[6]}<br>Phylum=%{customdata[7]}<br>Class=%{customdata[8]}<extra></extra>",
         "hovertext": [
          "Bacteroides",
          "Bacteroides",
          "Bacteroides",
          "Bacteroides",
          "Bacteroides"
         ],
         "legendgroup": "Bacteroides",
         "marker": {
          "color": "#34b8e7",
          "symbol": "circle"
         },
         "mode": "markers",
         "name": "Bacteroides",
         "orientation": "v",
         "showlegend": true,
         "type": "scatter",
         "x": [
          -0.20682378,
          0.14048517,
          -0.34727454,
          -0.2502324,
          -0.26838657
         ],
         "xaxis": "x",
         "y": [
          -0.052283894,
          -0.23652816,
          -0.08913265,
          0.60572046,
          0.60399204
         ],
         "yaxis": "y"
        },
        {
         "customdata": [
          [
           118,
           "Flavobacterium",
           "Bacteria",
           "Bacteroidetes",
           "OTHERS",
           "Bacteria",
           "Bacteria",
           "Bacteroidetes",
           "Other"
          ]
         ],
         "hovertemplate": "<b>%{hovertext}</b><br><br>Species=%{customdata[1]}<br>pm1=%{x}<br>pm2=%{y}<br>proteins_id=%{customdata[0]}<br>Kingdom=%{customdata[2]}<br>Family=%{customdata[3]}<br>Color_eukaryota=%{customdata[4]}<br>Domain=%{customdata[5]}<br>Kingdom2=%{customdata[6]}<br>Phylum=%{customdata[7]}<br>Class=%{customdata[8]}<extra></extra>",
         "hovertext": [
          "Flavobacterium"
         ],
         "legendgroup": "Flavobacterium",
         "marker": {
          "color": "#34b8e7",
          "symbol": "circle"
         },
         "mode": "markers",
         "name": "Flavobacterium",
         "orientation": "v",
         "showlegend": true,
         "type": "scatter",
         "x": [
          0.56352395
         ],
         "xaxis": "x",
         "y": [
          -0.03865068
         ],
         "yaxis": "y"
        },
        {
         "customdata": [
          [
           119,
           "Porphyromonas",
           "Bacteria",
           "Bacteroidetes",
           "OTHERS",
           "Bacteria",
           "Bacteria",
           "Bacteroidetes",
           "Other"
          ],
          [
           122,
           "Porphyromonas",
           "Bacteria",
           "Bacteroidetes",
           "OTHERS",
           "Bacteria",
           "Bacteria",
           "Bacteroidetes",
           "Other"
          ]
         ],
         "hovertemplate": "<b>%{hovertext}</b><br><br>Species=%{customdata[1]}<br>pm1=%{x}<br>pm2=%{y}<br>proteins_id=%{customdata[0]}<br>Kingdom=%{customdata[2]}<br>Family=%{customdata[3]}<br>Color_eukaryota=%{customdata[4]}<br>Domain=%{customdata[5]}<br>Kingdom2=%{customdata[6]}<br>Phylum=%{customdata[7]}<br>Class=%{customdata[8]}<extra></extra>",
         "hovertext": [
          "Porphyromonas",
          "Porphyromonas"
         ],
         "legendgroup": "Porphyromonas",
         "marker": {
          "color": "#34b8e7",
          "symbol": "circle"
         },
         "mode": "markers",
         "name": "Porphyromonas",
         "orientation": "v",
         "showlegend": true,
         "type": "scatter",
         "x": [
          -0.054421306,
          -0.29478943
         ],
         "xaxis": "x",
         "y": [
          -0.2523072,
          0.59797406
         ],
         "yaxis": "y"
        },
        {
         "customdata": [
          [
           125,
           "Rhodopirellula",
           "Bacteria",
           "Planctomycetes",
           "OTHERS",
           "Bacteria",
           "Bacteria",
           "Planctomycetes",
           "Other"
          ],
          [
           126,
           "Rhodopirellula",
           "Bacteria",
           "Planctomycetes",
           "OTHERS",
           "Bacteria",
           "Bacteria",
           "Planctomycetes",
           "Other"
          ]
         ],
         "hovertemplate": "<b>%{hovertext}</b><br><br>Species=%{customdata[1]}<br>pm1=%{x}<br>pm2=%{y}<br>proteins_id=%{customdata[0]}<br>Kingdom=%{customdata[2]}<br>Family=%{customdata[3]}<br>Color_eukaryota=%{customdata[4]}<br>Domain=%{customdata[5]}<br>Kingdom2=%{customdata[6]}<br>Phylum=%{customdata[7]}<br>Class=%{customdata[8]}<extra></extra>",
         "hovertext": [
          "Rhodopirellula",
          "Rhodopirellula"
         ],
         "legendgroup": "Rhodopirellula",
         "marker": {
          "color": "#34b8e7",
          "symbol": "circle"
         },
         "mode": "markers",
         "name": "Rhodopirellula",
         "orientation": "v",
         "showlegend": true,
         "type": "scatter",
         "x": [
          0.41870382,
          -0.26996565
         ],
         "xaxis": "x",
         "y": [
          0.121362746,
          0.5344868
         ],
         "yaxis": "y"
        },
        {
         "customdata": [
          [
           127,
           "Mycobacterium",
           "Bacteria",
           "Actinobacteria",
           "OTHERS",
           "Bacteria",
           "Bacteria",
           "Actinobacteria",
           "Actinomycetes"
          ],
          [
           128,
           "Mycobacterium",
           "Bacteria",
           "Actinobacteria",
           "OTHERS",
           "Bacteria",
           "Bacteria",
           "Actinobacteria",
           "Actinomycetes"
          ],
          [
           133,
           "Mycobacterium",
           "Bacteria",
           "Actinobacteria",
           "OTHERS",
           "Bacteria",
           "Bacteria",
           "Actinobacteria",
           "Actinomycetes"
          ],
          [
           137,
           "Mycobacterium",
           "Bacteria",
           "Actinobacteria",
           "OTHERS",
           "Bacteria",
           "Bacteria",
           "Actinobacteria",
           "Actinomycetes"
          ]
         ],
         "hovertemplate": "<b>%{hovertext}</b><br><br>Species=%{customdata[1]}<br>pm1=%{x}<br>pm2=%{y}<br>proteins_id=%{customdata[0]}<br>Kingdom=%{customdata[2]}<br>Family=%{customdata[3]}<br>Color_eukaryota=%{customdata[4]}<br>Domain=%{customdata[5]}<br>Kingdom2=%{customdata[6]}<br>Phylum=%{customdata[7]}<br>Class=%{customdata[8]}<extra></extra>",
         "hovertext": [
          "Mycobacterium",
          "Mycobacterium",
          "Mycobacterium",
          "Mycobacterium"
         ],
         "legendgroup": "Mycobacterium",
         "marker": {
          "color": "#34b8e7",
          "symbol": "circle"
         },
         "mode": "markers",
         "name": "Mycobacterium",
         "orientation": "v",
         "showlegend": true,
         "type": "scatter",
         "x": [
          -0.13130648,
          -0.052433725,
          -0.16659288,
          0.54168355
         ],
         "xaxis": "x",
         "y": [
          0.35496706,
          0.3893518,
          0.5047113,
          0.10262276
         ],
         "yaxis": "y"
        },
        {
         "customdata": [
          [
           129,
           "Corynebacterium",
           "Bacteria",
           "Actinobacteria",
           "OTHERS",
           "Bacteria",
           "Bacteria",
           "Actinobacteria",
           "Actinomycetes"
          ],
          [
           135,
           "Corynebacterium",
           "Bacteria",
           "Actinobacteria",
           "OTHERS",
           "Bacteria",
           "Bacteria",
           "Actinobacteria",
           "Actinomycetes"
          ]
         ],
         "hovertemplate": "<b>%{hovertext}</b><br><br>Species=%{customdata[1]}<br>pm1=%{x}<br>pm2=%{y}<br>proteins_id=%{customdata[0]}<br>Kingdom=%{customdata[2]}<br>Family=%{customdata[3]}<br>Color_eukaryota=%{customdata[4]}<br>Domain=%{customdata[5]}<br>Kingdom2=%{customdata[6]}<br>Phylum=%{customdata[7]}<br>Class=%{customdata[8]}<extra></extra>",
         "hovertext": [
          "Corynebacterium",
          "Corynebacterium"
         ],
         "legendgroup": "Corynebacterium",
         "marker": {
          "color": "#34b8e7",
          "symbol": "circle"
         },
         "mode": "markers",
         "name": "Corynebacterium",
         "orientation": "v",
         "showlegend": true,
         "type": "scatter",
         "x": [
          -0.045630246,
          0.42784914
         ],
         "xaxis": "x",
         "y": [
          0.3865804,
          -0.0727308
         ],
         "yaxis": "y"
        },
        {
         "customdata": [
          [
           130,
           "Thermobifida",
           "Bacteria",
           "Actinobacteria",
           "OTHERS",
           "Bacteria",
           "Bacteria",
           "Actinobacteria",
           "Actinomycetes"
          ],
          [
           132,
           "Thermobifida",
           "Bacteria",
           "Actinobacteria",
           "OTHERS",
           "Bacteria",
           "Bacteria",
           "Actinobacteria",
           "Actinomycetes"
          ],
          [
           138,
           "Thermobifida",
           "Bacteria",
           "Actinobacteria",
           "OTHERS",
           "Bacteria",
           "Bacteria",
           "Actinobacteria",
           "Actinomycetes"
          ]
         ],
         "hovertemplate": "<b>%{hovertext}</b><br><br>Species=%{customdata[1]}<br>pm1=%{x}<br>pm2=%{y}<br>proteins_id=%{customdata[0]}<br>Kingdom=%{customdata[2]}<br>Family=%{customdata[3]}<br>Color_eukaryota=%{customdata[4]}<br>Domain=%{customdata[5]}<br>Kingdom2=%{customdata[6]}<br>Phylum=%{customdata[7]}<br>Class=%{customdata[8]}<extra></extra>",
         "hovertext": [
          "Thermobifida",
          "Thermobifida",
          "Thermobifida"
         ],
         "legendgroup": "Thermobifida",
         "marker": {
          "color": "#34b8e7",
          "symbol": "circle"
         },
         "mode": "markers",
         "name": "Thermobifida",
         "orientation": "v",
         "showlegend": true,
         "type": "scatter",
         "x": [
          -0.052068073,
          -0.06248878,
          0.50052935
         ],
         "xaxis": "x",
         "y": [
          0.38534048,
          0.5474013,
          -0.019633705
         ],
         "yaxis": "y"
        },
        {
         "customdata": [
          [
           131,
           "Streptomyces",
           "Bacteria",
           "Actinobacteria",
           "OTHERS",
           "Bacteria",
           "Bacteria",
           "Actinobacteria",
           "Actinomycetes"
          ],
          [
           134,
           "Streptomyces",
           "Bacteria",
           "Actinobacteria",
           "OTHERS",
           "Bacteria",
           "Bacteria",
           "Actinobacteria",
           "Actinomycetes"
          ],
          [
           136,
           "Streptomyces",
           "Bacteria",
           "Actinobacteria",
           "OTHERS",
           "Bacteria",
           "Bacteria",
           "Actinobacteria",
           "Actinomycetes"
          ],
          [
           139,
           "Streptomyces",
           "Bacteria",
           "Actinobacteria",
           "OTHERS",
           "Bacteria",
           "Bacteria",
           "Actinobacteria",
           "Actinomycetes"
          ]
         ],
         "hovertemplate": "<b>%{hovertext}</b><br><br>Species=%{customdata[1]}<br>pm1=%{x}<br>pm2=%{y}<br>proteins_id=%{customdata[0]}<br>Kingdom=%{customdata[2]}<br>Family=%{customdata[3]}<br>Color_eukaryota=%{customdata[4]}<br>Domain=%{customdata[5]}<br>Kingdom2=%{customdata[6]}<br>Phylum=%{customdata[7]}<br>Class=%{customdata[8]}<extra></extra>",
         "hovertext": [
          "Streptomyces",
          "Streptomyces",
          "Streptomyces",
          "Streptomyces"
         ],
         "legendgroup": "Streptomyces",
         "marker": {
          "color": "#34b8e7",
          "symbol": "circle"
         },
         "mode": "markers",
         "name": "Streptomyces",
         "orientation": "v",
         "showlegend": true,
         "type": "scatter",
         "x": [
          -0.04551661,
          -0.03737631,
          0.4046272,
          0.48842686
         ],
         "xaxis": "x",
         "y": [
          0.39709744,
          0.53802174,
          0.07767834,
          0.09638189
         ],
         "yaxis": "y"
        },
        {
         "customdata": [
          [
           140,
           "Synechocystis",
           "Bacteria",
           "Cyanobacteria",
           "OTHERS",
           "Bacteria",
           "Bacteria",
           "Cyanobacteria",
           "Other"
          ],
          [
           143,
           "Synechocystis",
           "Bacteria",
           "Cyanobacteria",
           "OTHERS",
           "Bacteria",
           "Bacteria",
           "Cyanobacteria",
           "Other"
          ],
          [
           146,
           "Synechocystis",
           "Bacteria",
           "Cyanobacteria",
           "OTHERS",
           "Bacteria",
           "Bacteria",
           "Cyanobacteria",
           "Other"
          ],
          [
           153,
           "Synechocystis",
           "Bacteria",
           "Cyanobacteria",
           "OTHERS",
           "Bacteria",
           "Bacteria",
           "Cyanobacteria",
           "Other"
          ]
         ],
         "hovertemplate": "<b>%{hovertext}</b><br><br>Species=%{customdata[1]}<br>pm1=%{x}<br>pm2=%{y}<br>proteins_id=%{customdata[0]}<br>Kingdom=%{customdata[2]}<br>Family=%{customdata[3]}<br>Color_eukaryota=%{customdata[4]}<br>Domain=%{customdata[5]}<br>Kingdom2=%{customdata[6]}<br>Phylum=%{customdata[7]}<br>Class=%{customdata[8]}<extra></extra>",
         "hovertext": [
          "Synechocystis",
          "Synechocystis",
          "Synechocystis",
          "Synechocystis"
         ],
         "legendgroup": "Synechocystis",
         "marker": {
          "color": "#34b8e7",
          "symbol": "circle"
         },
         "mode": "markers",
         "name": "Synechocystis",
         "orientation": "v",
         "showlegend": true,
         "type": "scatter",
         "x": [
          -0.32013518,
          -0.48413414,
          -0.10268454,
          0.5736177
         ],
         "xaxis": "x",
         "y": [
          0.17882624,
          0.25262827,
          0.661289,
          -0.15596369
         ],
         "yaxis": "y"
        },
        {
         "customdata": [
          [
           141,
           "Nostoc",
           "Bacteria",
           "Cyanobacteria",
           "OTHERS",
           "Bacteria",
           "Bacteria",
           "Cyanobacteria",
           "Other"
          ],
          [
           142,
           "Nostoc",
           "Bacteria",
           "Cyanobacteria",
           "OTHERS",
           "Bacteria",
           "Bacteria",
           "Cyanobacteria",
           "Other"
          ],
          [
           148,
           "Nostoc",
           "Bacteria",
           "Cyanobacteria",
           "OTHERS",
           "Bacteria",
           "Bacteria",
           "Cyanobacteria",
           "Other"
          ],
          [
           149,
           "Nostoc",
           "Bacteria",
           "Cyanobacteria",
           "OTHERS",
           "Bacteria",
           "Bacteria",
           "Cyanobacteria",
           "Other"
          ],
          [
           151,
           "Nostoc",
           "Bacteria",
           "Cyanobacteria",
           "OTHERS",
           "Bacteria",
           "Bacteria",
           "Cyanobacteria",
           "Other"
          ]
         ],
         "hovertemplate": "<b>%{hovertext}</b><br><br>Species=%{customdata[1]}<br>pm1=%{x}<br>pm2=%{y}<br>proteins_id=%{customdata[0]}<br>Kingdom=%{customdata[2]}<br>Family=%{customdata[3]}<br>Color_eukaryota=%{customdata[4]}<br>Domain=%{customdata[5]}<br>Kingdom2=%{customdata[6]}<br>Phylum=%{customdata[7]}<br>Class=%{customdata[8]}<extra></extra>",
         "hovertext": [
          "Nostoc",
          "Nostoc",
          "Nostoc",
          "Nostoc",
          "Nostoc"
         ],
         "legendgroup": "Nostoc",
         "marker": {
          "color": "#34b8e7",
          "symbol": "circle"
         },
         "mode": "markers",
         "name": "Nostoc",
         "orientation": "v",
         "showlegend": true,
         "type": "scatter",
         "x": [
          -0.18181834,
          -0.46258128,
          -0.40637386,
          -0.21532805,
          0.5976421
         ],
         "xaxis": "x",
         "y": [
          0.14060225,
          0.24221931,
          0.27386954,
          -0.13795626,
          -0.12971434
         ],
         "yaxis": "y"
        },
        {
         "customdata": [
          [
           144,
           "Thermosynechococcus",
           "Bacteria",
           "Cyanobacteria",
           "OTHERS",
           "Bacteria",
           "Bacteria",
           "Cyanobacteria",
           "Other"
          ],
          [
           145,
           "Thermosynechococcus",
           "Bacteria",
           "Cyanobacteria",
           "OTHERS",
           "Bacteria",
           "Bacteria",
           "Cyanobacteria",
           "Other"
          ],
          [
           147,
           "Thermosynechococcus",
           "Bacteria",
           "Cyanobacteria",
           "OTHERS",
           "Bacteria",
           "Bacteria",
           "Cyanobacteria",
           "Other"
          ],
          [
           150,
           "Thermosynechococcus",
           "Bacteria",
           "Cyanobacteria",
           "OTHERS",
           "Bacteria",
           "Bacteria",
           "Cyanobacteria",
           "Other"
          ]
         ],
         "hovertemplate": "<b>%{hovertext}</b><br><br>Species=%{customdata[1]}<br>pm1=%{x}<br>pm2=%{y}<br>proteins_id=%{customdata[0]}<br>Kingdom=%{customdata[2]}<br>Family=%{customdata[3]}<br>Color_eukaryota=%{customdata[4]}<br>Domain=%{customdata[5]}<br>Kingdom2=%{customdata[6]}<br>Phylum=%{customdata[7]}<br>Class=%{customdata[8]}<extra></extra>",
         "hovertext": [
          "Thermosynechococcus",
          "Thermosynechococcus",
          "Thermosynechococcus",
          "Thermosynechococcus"
         ],
         "legendgroup": "Thermosynechococcus",
         "marker": {
          "color": "#34b8e7",
          "symbol": "circle"
         },
         "mode": "markers",
         "name": "Thermosynechococcus",
         "orientation": "v",
         "showlegend": true,
         "type": "scatter",
         "x": [
          -0.45512757,
          -0.23945606,
          -0.48518077,
          0.509673
         ],
         "xaxis": "x",
         "y": [
          0.2721211,
          0.57997185,
          0.30827025,
          -0.13375641
         ],
         "yaxis": "y"
        },
        {
         "customdata": [
          [
           152,
           "Prochlorococcus",
           "Bacteria",
           "Cyanobacteria",
           "OTHERS",
           "Bacteria",
           "Bacteria",
           "Cyanobacteria",
           "Other"
          ]
         ],
         "hovertemplate": "<b>%{hovertext}</b><br><br>Species=%{customdata[1]}<br>pm1=%{x}<br>pm2=%{y}<br>proteins_id=%{customdata[0]}<br>Kingdom=%{customdata[2]}<br>Family=%{customdata[3]}<br>Color_eukaryota=%{customdata[4]}<br>Domain=%{customdata[5]}<br>Kingdom2=%{customdata[6]}<br>Phylum=%{customdata[7]}<br>Class=%{customdata[8]}<extra></extra>",
         "hovertext": [
          "Prochlorococcus"
         ],
         "legendgroup": "Prochlorococcus",
         "marker": {
          "color": "#34b8e7",
          "symbol": "circle"
         },
         "mode": "markers",
         "name": "Prochlorococcus",
         "orientation": "v",
         "showlegend": true,
         "type": "scatter",
         "x": [
          0.5975923
         ],
         "xaxis": "x",
         "y": [
          -0.16497095
         ],
         "yaxis": "y"
        },
        {
         "customdata": [
          [
           154,
           "Nostoc1",
           "Bacteria",
           "Cyanobacteria",
           "OTHERS",
           "Bacteria",
           "Bacteria",
           "Cyanobacteria",
           "Other"
          ]
         ],
         "hovertemplate": "<b>%{hovertext}</b><br><br>Species=%{customdata[1]}<br>pm1=%{x}<br>pm2=%{y}<br>proteins_id=%{customdata[0]}<br>Kingdom=%{customdata[2]}<br>Family=%{customdata[3]}<br>Color_eukaryota=%{customdata[4]}<br>Domain=%{customdata[5]}<br>Kingdom2=%{customdata[6]}<br>Phylum=%{customdata[7]}<br>Class=%{customdata[8]}<extra></extra>",
         "hovertext": [
          "Nostoc1"
         ],
         "legendgroup": "Nostoc1",
         "marker": {
          "color": "#34b8e7",
          "symbol": "circle"
         },
         "mode": "markers",
         "name": "Nostoc1",
         "orientation": "v",
         "showlegend": true,
         "type": "scatter",
         "x": [
          0.5595762
         ],
         "xaxis": "x",
         "y": [
          -0.1998326
         ],
         "yaxis": "y"
        },
        {
         "customdata": [
          [
           155,
           "Pea Chloroplast",
           "Eukaryota",
           "Viridiplantae",
           "CHLOROPLAST",
           "Eukaryota",
           "Plantae",
           "Tracheophyta",
           "Magnoliopsida"
          ]
         ],
         "hovertemplate": "<b>%{hovertext}</b><br><br>Species=%{customdata[1]}<br>pm1=%{x}<br>pm2=%{y}<br>proteins_id=%{customdata[0]}<br>Kingdom=%{customdata[2]}<br>Family=%{customdata[3]}<br>Color_eukaryota=%{customdata[4]}<br>Domain=%{customdata[5]}<br>Kingdom2=%{customdata[6]}<br>Phylum=%{customdata[7]}<br>Class=%{customdata[8]}<extra></extra>",
         "hovertext": [
          "Pea Chloroplast"
         ],
         "legendgroup": "Pea Chloroplast",
         "marker": {
          "color": "#06f9d4",
          "symbol": "circle"
         },
         "mode": "markers",
         "name": "Pea Chloroplast",
         "orientation": "v",
         "showlegend": true,
         "type": "scatter",
         "x": [
          0.6452654
         ],
         "xaxis": "x",
         "y": [
          0.68323326
         ],
         "yaxis": "y"
        },
        {
         "customdata": [
          [
           156,
           "Spiol Chloroplast",
           "Eukaryota",
           "Viridiplantae",
           "CHLOROPLAST",
           "Eukaryota",
           "Plantae",
           "Tracheophyta",
           "Magnoliopsida"
          ]
         ],
         "hovertemplate": "<b>%{hovertext}</b><br><br>Species=%{customdata[1]}<br>pm1=%{x}<br>pm2=%{y}<br>proteins_id=%{customdata[0]}<br>Kingdom=%{customdata[2]}<br>Family=%{customdata[3]}<br>Color_eukaryota=%{customdata[4]}<br>Domain=%{customdata[5]}<br>Kingdom2=%{customdata[6]}<br>Phylum=%{customdata[7]}<br>Class=%{customdata[8]}<extra></extra>",
         "hovertext": [
          "Spiol Chloroplast"
         ],
         "legendgroup": "Spiol Chloroplast",
         "marker": {
          "color": "#06f9d4",
          "symbol": "circle"
         },
         "mode": "markers",
         "name": "Spiol Chloroplast",
         "orientation": "v",
         "showlegend": true,
         "type": "scatter",
         "x": [
          0.6484377
         ],
         "xaxis": "x",
         "y": [
          0.7057396
         ],
         "yaxis": "y"
        },
        {
         "customdata": [
          [
           157,
           "Wheat Chloroplast",
           "Eukaryota",
           "Viridiplantae",
           "CHLOROPLAST",
           "Eukaryota",
           "Plantae",
           "Tracheophyta",
           "Other"
          ]
         ],
         "hovertemplate": "<b>%{hovertext}</b><br><br>Species=%{customdata[1]}<br>pm1=%{x}<br>pm2=%{y}<br>proteins_id=%{customdata[0]}<br>Kingdom=%{customdata[2]}<br>Family=%{customdata[3]}<br>Color_eukaryota=%{customdata[4]}<br>Domain=%{customdata[5]}<br>Kingdom2=%{customdata[6]}<br>Phylum=%{customdata[7]}<br>Class=%{customdata[8]}<extra></extra>",
         "hovertext": [
          "Wheat Chloroplast"
         ],
         "legendgroup": "Wheat Chloroplast",
         "marker": {
          "color": "#06f9d4",
          "symbol": "circle"
         },
         "mode": "markers",
         "name": "Wheat Chloroplast",
         "orientation": "v",
         "showlegend": true,
         "type": "scatter",
         "x": [
          0.63984364
         ],
         "xaxis": "x",
         "y": [
          0.70345026
         ],
         "yaxis": "y"
        },
        {
         "customdata": [
          [
           158,
           "Pisum Chloroplast",
           "Eukaryota",
           "Viridiplantae",
           "CHLOROPLAST",
           "Eukaryota",
           "Plantae",
           "Tracheophyta",
           "Magnoliopsida"
          ]
         ],
         "hovertemplate": "<b>%{hovertext}</b><br><br>Species=%{customdata[1]}<br>pm1=%{x}<br>pm2=%{y}<br>proteins_id=%{customdata[0]}<br>Kingdom=%{customdata[2]}<br>Family=%{customdata[3]}<br>Color_eukaryota=%{customdata[4]}<br>Domain=%{customdata[5]}<br>Kingdom2=%{customdata[6]}<br>Phylum=%{customdata[7]}<br>Class=%{customdata[8]}<extra></extra>",
         "hovertext": [
          "Pisum Chloroplast"
         ],
         "legendgroup": "Pisum Chloroplast",
         "marker": {
          "color": "#06f9d4",
          "symbol": "circle"
         },
         "mode": "markers",
         "name": "Pisum Chloroplast",
         "orientation": "v",
         "showlegend": true,
         "type": "scatter",
         "x": [
          0.65299237
         ],
         "xaxis": "x",
         "y": [
          0.7014751
         ],
         "yaxis": "y"
        },
        {
         "customdata": [
          [
           159,
           "Brana Chloroplast",
           "Eukaryota",
           "Viridiplantae",
           "CHLOROPLAST",
           "Eukaryota",
           "Plantae",
           "Tracheophyta",
           "Magnoliopsida"
          ]
         ],
         "hovertemplate": "<b>%{hovertext}</b><br><br>Species=%{customdata[1]}<br>pm1=%{x}<br>pm2=%{y}<br>proteins_id=%{customdata[0]}<br>Kingdom=%{customdata[2]}<br>Family=%{customdata[3]}<br>Color_eukaryota=%{customdata[4]}<br>Domain=%{customdata[5]}<br>Kingdom2=%{customdata[6]}<br>Phylum=%{customdata[7]}<br>Class=%{customdata[8]}<extra></extra>",
         "hovertext": [
          "Brana Chloroplast"
         ],
         "legendgroup": "Brana Chloroplast",
         "marker": {
          "color": "#06f9d4",
          "symbol": "circle"
         },
         "mode": "markers",
         "name": "Brana Chloroplast",
         "orientation": "v",
         "showlegend": true,
         "type": "scatter",
         "x": [
          0.64460665
         ],
         "xaxis": "x",
         "y": [
          0.6951412
         ],
         "yaxis": "y"
        },
        {
         "customdata": [
          [
           160,
           "Thermus",
           "Bacteria",
           "Deinococcus-Thermus",
           "OTHERS",
           "Bacteria",
           "Bacteria",
           "Deinococcus-Thermus",
           "Other"
          ],
          [
           162,
           "Thermus",
           "Bacteria",
           "Deinococcus-Thermus",
           "OTHERS",
           "Bacteria",
           "Bacteria",
           "Deinococcus-Thermus",
           "Other"
          ]
         ],
         "hovertemplate": "<b>%{hovertext}</b><br><br>Species=%{customdata[1]}<br>pm1=%{x}<br>pm2=%{y}<br>proteins_id=%{customdata[0]}<br>Kingdom=%{customdata[2]}<br>Family=%{customdata[3]}<br>Color_eukaryota=%{customdata[4]}<br>Domain=%{customdata[5]}<br>Kingdom2=%{customdata[6]}<br>Phylum=%{customdata[7]}<br>Class=%{customdata[8]}<extra></extra>",
         "hovertext": [
          "Thermus",
          "Thermus"
         ],
         "legendgroup": "Thermus",
         "marker": {
          "color": "#34b8e7",
          "symbol": "circle"
         },
         "mode": "markers",
         "name": "Thermus",
         "orientation": "v",
         "showlegend": true,
         "type": "scatter",
         "x": [
          -0.27485386,
          0.5217745
         ],
         "xaxis": "x",
         "y": [
          0.8700392,
          -0.11461753
         ],
         "yaxis": "y"
        },
        {
         "customdata": [
          [
           161,
           "Deinococcus",
           "Bacteria",
           "Deinococcus-Thermus",
           "OTHERS",
           "Bacteria",
           "Bacteria",
           "Deinococcus-Thermus",
           "Other"
          ],
          [
           163,
           "Deinococcus",
           "Bacteria",
           "Deinococcus-Thermus",
           "OTHERS",
           "Bacteria",
           "Bacteria",
           "Deinococcus-Thermus",
           "Other"
          ]
         ],
         "hovertemplate": "<b>%{hovertext}</b><br><br>Species=%{customdata[1]}<br>pm1=%{x}<br>pm2=%{y}<br>proteins_id=%{customdata[0]}<br>Kingdom=%{customdata[2]}<br>Family=%{customdata[3]}<br>Color_eukaryota=%{customdata[4]}<br>Domain=%{customdata[5]}<br>Kingdom2=%{customdata[6]}<br>Phylum=%{customdata[7]}<br>Class=%{customdata[8]}<extra></extra>",
         "hovertext": [
          "Deinococcus",
          "Deinococcus"
         ],
         "legendgroup": "Deinococcus",
         "marker": {
          "color": "#34b8e7",
          "symbol": "circle"
         },
         "mode": "markers",
         "name": "Deinococcus",
         "orientation": "v",
         "showlegend": true,
         "type": "scatter",
         "x": [
          -0.26540723,
          0.21347234
         ],
         "xaxis": "x",
         "y": [
          0.8905843,
          0.5430079
         ],
         "yaxis": "y"
        },
        {
         "customdata": [
          [
           164,
           "Dehalococcoides",
           "Bacteria",
           "Chloroflexi",
           "OTHERS",
           "Bacteria",
           "Bacteria",
           "Chloroflexi",
           "Other"
          ]
         ],
         "hovertemplate": "<b>%{hovertext}</b><br><br>Species=%{customdata[1]}<br>pm1=%{x}<br>pm2=%{y}<br>proteins_id=%{customdata[0]}<br>Kingdom=%{customdata[2]}<br>Family=%{customdata[3]}<br>Color_eukaryota=%{customdata[4]}<br>Domain=%{customdata[5]}<br>Kingdom2=%{customdata[6]}<br>Phylum=%{customdata[7]}<br>Class=%{customdata[8]}<extra></extra>",
         "hovertext": [
          "Dehalococcoides"
         ],
         "legendgroup": "Dehalococcoides",
         "marker": {
          "color": "#34b8e7",
          "symbol": "circle"
         },
         "mode": "markers",
         "name": "Dehalococcoides",
         "orientation": "v",
         "showlegend": true,
         "type": "scatter",
         "x": [
          0.45284986
         ],
         "xaxis": "x",
         "y": [
          -0.32417262
         ],
         "yaxis": "y"
        },
        {
         "customdata": [
          [
           165,
           "Chloroflexus",
           "Bacteria",
           "Chloroflexi",
           "OTHERS",
           "Bacteria",
           "Bacteria",
           "Chloroflexi",
           "Other"
          ],
          [
           166,
           "Chloroflexus",
           "Bacteria",
           "Chloroflexi",
           "OTHERS",
           "Bacteria",
           "Bacteria",
           "Chloroflexi",
           "Other"
          ],
          [
           167,
           "Chloroflexus",
           "Bacteria",
           "Chloroflexi",
           "OTHERS",
           "Bacteria",
           "Bacteria",
           "Chloroflexi",
           "Other"
          ]
         ],
         "hovertemplate": "<b>%{hovertext}</b><br><br>Species=%{customdata[1]}<br>pm1=%{x}<br>pm2=%{y}<br>proteins_id=%{customdata[0]}<br>Kingdom=%{customdata[2]}<br>Family=%{customdata[3]}<br>Color_eukaryota=%{customdata[4]}<br>Domain=%{customdata[5]}<br>Kingdom2=%{customdata[6]}<br>Phylum=%{customdata[7]}<br>Class=%{customdata[8]}<extra></extra>",
         "hovertext": [
          "Chloroflexus",
          "Chloroflexus",
          "Chloroflexus"
         ],
         "legendgroup": "Chloroflexus",
         "marker": {
          "color": "#34b8e7",
          "symbol": "circle"
         },
         "mode": "markers",
         "name": "Chloroflexus",
         "orientation": "v",
         "showlegend": true,
         "type": "scatter",
         "x": [
          -0.19512837,
          -0.20741192,
          0.4244636
         ],
         "xaxis": "x",
         "y": [
          0.7832425,
          0.8324642,
          -0.22226766
         ],
         "yaxis": "y"
        },
        {
         "customdata": [
          [
           168,
           "Aquifex",
           "Bacteria",
           "Aquificae",
           "OTHERS",
           "Bacteria",
           "Bacteria",
           "Aquificae",
           "Other"
          ]
         ],
         "hovertemplate": "<b>%{hovertext}</b><br><br>Species=%{customdata[1]}<br>pm1=%{x}<br>pm2=%{y}<br>proteins_id=%{customdata[0]}<br>Kingdom=%{customdata[2]}<br>Family=%{customdata[3]}<br>Color_eukaryota=%{customdata[4]}<br>Domain=%{customdata[5]}<br>Kingdom2=%{customdata[6]}<br>Phylum=%{customdata[7]}<br>Class=%{customdata[8]}<extra></extra>",
         "hovertext": [
          "Aquifex"
         ],
         "legendgroup": "Aquifex",
         "marker": {
          "color": "#34b8e7",
          "symbol": "circle"
         },
         "mode": "markers",
         "name": "Aquifex",
         "orientation": "v",
         "showlegend": true,
         "type": "scatter",
         "x": [
          0.17736314
         ],
         "xaxis": "x",
         "y": [
          0.5878656
         ],
         "yaxis": "y"
        },
        {
         "customdata": [
          [
           169,
           "Bdellovibrio",
           "Bacteria",
           "Proteobacteria",
           "OTHERS",
           "Bacteria",
           "Bacteria",
           "Proteobacteria",
           "Oligoflexia"
          ],
          [
           171,
           "Bdellovibrio",
           "Bacteria",
           "Proteobacteria",
           "OTHERS",
           "Bacteria",
           "Bacteria",
           "Proteobacteria",
           "Oligoflexia"
          ]
         ],
         "hovertemplate": "<b>%{hovertext}</b><br><br>Species=%{customdata[1]}<br>pm1=%{x}<br>pm2=%{y}<br>proteins_id=%{customdata[0]}<br>Kingdom=%{customdata[2]}<br>Family=%{customdata[3]}<br>Color_eukaryota=%{customdata[4]}<br>Domain=%{customdata[5]}<br>Kingdom2=%{customdata[6]}<br>Phylum=%{customdata[7]}<br>Class=%{customdata[8]}<extra></extra>",
         "hovertext": [
          "Bdellovibrio",
          "Bdellovibrio"
         ],
         "legendgroup": "Bdellovibrio",
         "marker": {
          "color": "#34b8e7",
          "symbol": "circle"
         },
         "mode": "markers",
         "name": "Bdellovibrio",
         "orientation": "v",
         "showlegend": true,
         "type": "scatter",
         "x": [
          -0.06758271,
          0.41414738
         ],
         "xaxis": "x",
         "y": [
          0.24424471,
          0.005725337
         ],
         "yaxis": "y"
        },
        {
         "customdata": [
          [
           170,
           "Geobacter",
           "Bacteria",
           "Proteobacteria",
           "OTHERS",
           "Bacteria",
           "Bacteria",
           "Proteobacteria",
           "Deltaproteobacteria"
          ],
          [
           173,
           "Geobacter",
           "Bacteria",
           "Proteobacteria",
           "OTHERS",
           "Bacteria",
           "Bacteria",
           "Proteobacteria",
           "Deltaproteobacteria"
          ]
         ],
         "hovertemplate": "<b>%{hovertext}</b><br><br>Species=%{customdata[1]}<br>pm1=%{x}<br>pm2=%{y}<br>proteins_id=%{customdata[0]}<br>Kingdom=%{customdata[2]}<br>Family=%{customdata[3]}<br>Color_eukaryota=%{customdata[4]}<br>Domain=%{customdata[5]}<br>Kingdom2=%{customdata[6]}<br>Phylum=%{customdata[7]}<br>Class=%{customdata[8]}<extra></extra>",
         "hovertext": [
          "Geobacter",
          "Geobacter"
         ],
         "legendgroup": "Geobacter",
         "marker": {
          "color": "#34b8e7",
          "symbol": "circle"
         },
         "mode": "markers",
         "name": "Geobacter",
         "orientation": "v",
         "showlegend": true,
         "type": "scatter",
         "x": [
          -0.2576776,
          0.5160105
         ],
         "xaxis": "x",
         "y": [
          0.8589831,
          -0.20366997
         ],
         "yaxis": "y"
        },
        {
         "customdata": [
          [
           172,
           "Desulfovibrio",
           "Bacteria",
           "Proteobacteria",
           "OTHERS",
           "Bacteria",
           "Bacteria",
           "Proteobacteria",
           "Deltaproteobacteria"
          ]
         ],
         "hovertemplate": "<b>%{hovertext}</b><br><br>Species=%{customdata[1]}<br>pm1=%{x}<br>pm2=%{y}<br>proteins_id=%{customdata[0]}<br>Kingdom=%{customdata[2]}<br>Family=%{customdata[3]}<br>Color_eukaryota=%{customdata[4]}<br>Domain=%{customdata[5]}<br>Kingdom2=%{customdata[6]}<br>Phylum=%{customdata[7]}<br>Class=%{customdata[8]}<extra></extra>",
         "hovertext": [
          "Desulfovibrio"
         ],
         "legendgroup": "Desulfovibrio",
         "marker": {
          "color": "#34b8e7",
          "symbol": "circle"
         },
         "mode": "markers",
         "name": "Desulfovibrio",
         "orientation": "v",
         "showlegend": true,
         "type": "scatter",
         "x": [
          0.2492065
         ],
         "xaxis": "x",
         "y": [
          -0.37662047
         ],
         "yaxis": "y"
        },
        {
         "customdata": [
          [
           174,
           "Solibacter",
           "Bacteria",
           "Acidobacteria",
           "OTHERS",
           "Bacteria",
           "Bacteria",
           "Acidobacteria",
           "Other"
          ],
          [
           175,
           "Solibacter",
           "Bacteria",
           "Acidobacteria",
           "OTHERS",
           "Bacteria",
           "Bacteria",
           "Acidobacteria",
           "Other"
          ]
         ],
         "hovertemplate": "<b>%{hovertext}</b><br><br>Species=%{customdata[1]}<br>pm1=%{x}<br>pm2=%{y}<br>proteins_id=%{customdata[0]}<br>Kingdom=%{customdata[2]}<br>Family=%{customdata[3]}<br>Color_eukaryota=%{customdata[4]}<br>Domain=%{customdata[5]}<br>Kingdom2=%{customdata[6]}<br>Phylum=%{customdata[7]}<br>Class=%{customdata[8]}<extra></extra>",
         "hovertext": [
          "Solibacter",
          "Solibacter"
         ],
         "legendgroup": "Solibacter",
         "marker": {
          "color": "#34b8e7",
          "symbol": "circle"
         },
         "mode": "markers",
         "name": "Solibacter",
         "orientation": "v",
         "showlegend": true,
         "type": "scatter",
         "x": [
          -0.25401154,
          0.6301048
         ],
         "xaxis": "x",
         "y": [
          0.8792623,
          -0.069464505
         ],
         "yaxis": "y"
        },
        {
         "customdata": [
          [
           176,
           "Acidobacteria",
           "Bacteria",
           "Acidobacteria",
           "OTHERS",
           "Bacteria",
           "Bacteria",
           "Acidobacteria",
           "Other"
          ]
         ],
         "hovertemplate": "<b>%{hovertext}</b><br><br>Species=%{customdata[1]}<br>pm1=%{x}<br>pm2=%{y}<br>proteins_id=%{customdata[0]}<br>Kingdom=%{customdata[2]}<br>Family=%{customdata[3]}<br>Color_eukaryota=%{customdata[4]}<br>Domain=%{customdata[5]}<br>Kingdom2=%{customdata[6]}<br>Phylum=%{customdata[7]}<br>Class=%{customdata[8]}<extra></extra>",
         "hovertext": [
          "Acidobacteria"
         ],
         "legendgroup": "Acidobacteria",
         "marker": {
          "color": "#34b8e7",
          "symbol": "circle"
         },
         "mode": "markers",
         "name": "Acidobacteria",
         "orientation": "v",
         "showlegend": true,
         "type": "scatter",
         "x": [
          0.55097
         ],
         "xaxis": "x",
         "y": [
          0.018110441
         ],
         "yaxis": "y"
        },
        {
         "customdata": [
          [
           177,
           "Wolinella",
           "Bacteria",
           "Proteobacteria",
           "OTHERS",
           "Bacteria",
           "Bacteria",
           "Proteobacteria",
           "Epsilonproteobacteria"
          ],
          [
           181,
           "Wolinella",
           "Bacteria",
           "Proteobacteria",
           "OTHERS",
           "Bacteria",
           "Bacteria",
           "Proteobacteria",
           "Epsilonproteobacteria"
          ],
          [
           182,
           "Wolinella",
           "Bacteria",
           "Proteobacteria",
           "OTHERS",
           "Bacteria",
           "Bacteria",
           "Proteobacteria",
           "Epsilonproteobacteria"
          ]
         ],
         "hovertemplate": "<b>%{hovertext}</b><br><br>Species=%{customdata[1]}<br>pm1=%{x}<br>pm2=%{y}<br>proteins_id=%{customdata[0]}<br>Kingdom=%{customdata[2]}<br>Family=%{customdata[3]}<br>Color_eukaryota=%{customdata[4]}<br>Domain=%{customdata[5]}<br>Kingdom2=%{customdata[6]}<br>Phylum=%{customdata[7]}<br>Class=%{customdata[8]}<extra></extra>",
         "hovertext": [
          "Wolinella",
          "Wolinella",
          "Wolinella"
         ],
         "legendgroup": "Wolinella",
         "marker": {
          "color": "#34b8e7",
          "symbol": "circle"
         },
         "mode": "markers",
         "name": "Wolinella",
         "orientation": "v",
         "showlegend": true,
         "type": "scatter",
         "x": [
          0.12837775,
          -0.38709018,
          -0.42269897
         ],
         "xaxis": "x",
         "y": [
          -0.28348368,
          0.44913194,
          0.39646798
         ],
         "yaxis": "y"
        },
        {
         "customdata": [
          [
           178,
           "Helicobacter",
           "Bacteria",
           "Proteobacteria",
           "OTHERS",
           "Bacteria",
           "Bacteria",
           "Proteobacteria",
           "Epsilonproteobacteria"
          ],
          [
           180,
           "Helicobacter",
           "Bacteria",
           "Proteobacteria",
           "OTHERS",
           "Bacteria",
           "Bacteria",
           "Proteobacteria",
           "Epsilonproteobacteria"
          ]
         ],
         "hovertemplate": "<b>%{hovertext}</b><br><br>Species=%{customdata[1]}<br>pm1=%{x}<br>pm2=%{y}<br>proteins_id=%{customdata[0]}<br>Kingdom=%{customdata[2]}<br>Family=%{customdata[3]}<br>Color_eukaryota=%{customdata[4]}<br>Domain=%{customdata[5]}<br>Kingdom2=%{customdata[6]}<br>Phylum=%{customdata[7]}<br>Class=%{customdata[8]}<extra></extra>",
         "hovertext": [
          "Helicobacter",
          "Helicobacter"
         ],
         "legendgroup": "Helicobacter",
         "marker": {
          "color": "#34b8e7",
          "symbol": "circle"
         },
         "mode": "markers",
         "name": "Helicobacter",
         "orientation": "v",
         "showlegend": true,
         "type": "scatter",
         "x": [
          0.07850708,
          -0.37744358
         ],
         "xaxis": "x",
         "y": [
          -0.23376012,
          -0.08093916
         ],
         "yaxis": "y"
        },
        {
         "customdata": [
          [
           179,
           "Campylobacter",
           "Bacteria",
           "Proteobacteria",
           "OTHERS",
           "Bacteria",
           "Bacteria",
           "Proteobacteria",
           "Epsilonproteobacteria"
          ]
         ],
         "hovertemplate": "<b>%{hovertext}</b><br><br>Species=%{customdata[1]}<br>pm1=%{x}<br>pm2=%{y}<br>proteins_id=%{customdata[0]}<br>Kingdom=%{customdata[2]}<br>Family=%{customdata[3]}<br>Color_eukaryota=%{customdata[4]}<br>Domain=%{customdata[5]}<br>Kingdom2=%{customdata[6]}<br>Phylum=%{customdata[7]}<br>Class=%{customdata[8]}<extra></extra>",
         "hovertext": [
          "Campylobacter"
         ],
         "legendgroup": "Campylobacter",
         "marker": {
          "color": "#34b8e7",
          "symbol": "circle"
         },
         "mode": "markers",
         "name": "Campylobacter",
         "orientation": "v",
         "showlegend": true,
         "type": "scatter",
         "x": [
          0.12833342
         ],
         "xaxis": "x",
         "y": [
          -0.28337002
         ],
         "yaxis": "y"
        },
        {
         "customdata": [
          [
           183,
           "Agrobacterium",
           "Bacteria",
           "Proteobacteria",
           "OTHERS",
           "Bacteria",
           "Bacteria",
           "Proteobacteria",
           "Alphaproteobacteria"
          ]
         ],
         "hovertemplate": "<b>%{hovertext}</b><br><br>Species=%{customdata[1]}<br>pm1=%{x}<br>pm2=%{y}<br>proteins_id=%{customdata[0]}<br>Kingdom=%{customdata[2]}<br>Family=%{customdata[3]}<br>Color_eukaryota=%{customdata[4]}<br>Domain=%{customdata[5]}<br>Kingdom2=%{customdata[6]}<br>Phylum=%{customdata[7]}<br>Class=%{customdata[8]}<extra></extra>",
         "hovertext": [
          "Agrobacterium"
         ],
         "legendgroup": "Agrobacterium",
         "marker": {
          "color": "#34b8e7",
          "symbol": "circle"
         },
         "mode": "markers",
         "name": "Agrobacterium",
         "orientation": "v",
         "showlegend": true,
         "type": "scatter",
         "x": [
          0.45498952
         ],
         "xaxis": "x",
         "y": [
          0.05345385
         ],
         "yaxis": "y"
        },
        {
         "customdata": [
          [
           184,
           "Sinorhizobium",
           "Bacteria",
           "Proteobacteria",
           "OTHERS",
           "Bacteria",
           "Bacteria",
           "Proteobacteria",
           "Alphaproteobacteria"
          ]
         ],
         "hovertemplate": "<b>%{hovertext}</b><br><br>Species=%{customdata[1]}<br>pm1=%{x}<br>pm2=%{y}<br>proteins_id=%{customdata[0]}<br>Kingdom=%{customdata[2]}<br>Family=%{customdata[3]}<br>Color_eukaryota=%{customdata[4]}<br>Domain=%{customdata[5]}<br>Kingdom2=%{customdata[6]}<br>Phylum=%{customdata[7]}<br>Class=%{customdata[8]}<extra></extra>",
         "hovertext": [
          "Sinorhizobium"
         ],
         "legendgroup": "Sinorhizobium",
         "marker": {
          "color": "#34b8e7",
          "symbol": "circle"
         },
         "mode": "markers",
         "name": "Sinorhizobium",
         "orientation": "v",
         "showlegend": true,
         "type": "scatter",
         "x": [
          0.43389213
         ],
         "xaxis": "x",
         "y": [
          0.03290587
         ],
         "yaxis": "y"
        },
        {
         "customdata": [
          [
           185,
           "Brucella",
           "Bacteria",
           "Proteobacteria",
           "OTHERS",
           "Bacteria",
           "Bacteria",
           "Proteobacteria",
           "Alphaproteobacteria"
          ]
         ],
         "hovertemplate": "<b>%{hovertext}</b><br><br>Species=%{customdata[1]}<br>pm1=%{x}<br>pm2=%{y}<br>proteins_id=%{customdata[0]}<br>Kingdom=%{customdata[2]}<br>Family=%{customdata[3]}<br>Color_eukaryota=%{customdata[4]}<br>Domain=%{customdata[5]}<br>Kingdom2=%{customdata[6]}<br>Phylum=%{customdata[7]}<br>Class=%{customdata[8]}<extra></extra>",
         "hovertext": [
          "Brucella"
         ],
         "legendgroup": "Brucella",
         "marker": {
          "color": "#34b8e7",
          "symbol": "circle"
         },
         "mode": "markers",
         "name": "Brucella",
         "orientation": "v",
         "showlegend": true,
         "type": "scatter",
         "x": [
          0.47769332
         ],
         "xaxis": "x",
         "y": [
          0.088007376
         ],
         "yaxis": "y"
        },
        {
         "customdata": [
          [
           186,
           "Rickettsia",
           "Bacteria",
           "Proteobacteria",
           "OTHERS",
           "Bacteria",
           "Bacteria",
           "Proteobacteria",
           "Alphaproteobacteria"
          ]
         ],
         "hovertemplate": "<b>%{hovertext}</b><br><br>Species=%{customdata[1]}<br>pm1=%{x}<br>pm2=%{y}<br>proteins_id=%{customdata[0]}<br>Kingdom=%{customdata[2]}<br>Family=%{customdata[3]}<br>Color_eukaryota=%{customdata[4]}<br>Domain=%{customdata[5]}<br>Kingdom2=%{customdata[6]}<br>Phylum=%{customdata[7]}<br>Class=%{customdata[8]}<extra></extra>",
         "hovertext": [
          "Rickettsia"
         ],
         "legendgroup": "Rickettsia",
         "marker": {
          "color": "#34b8e7",
          "symbol": "circle"
         },
         "mode": "markers",
         "name": "Rickettsia",
         "orientation": "v",
         "showlegend": true,
         "type": "scatter",
         "x": [
          0.17459495
         ],
         "xaxis": "x",
         "y": [
          0.6467087
         ],
         "yaxis": "y"
        },
        {
         "customdata": [
          [
           187,
           "Bovin Mitochondrio",
           "Eukaryota",
           "Metazoa",
           "MITOCHONDRION",
           "Eukaryota",
           "Metazoa",
           "Chordata",
           "Mammalia"
          ]
         ],
         "hovertemplate": "<b>%{hovertext}</b><br><br>Species=%{customdata[1]}<br>pm1=%{x}<br>pm2=%{y}<br>proteins_id=%{customdata[0]}<br>Kingdom=%{customdata[2]}<br>Family=%{customdata[3]}<br>Color_eukaryota=%{customdata[4]}<br>Domain=%{customdata[5]}<br>Kingdom2=%{customdata[6]}<br>Phylum=%{customdata[7]}<br>Class=%{customdata[8]}<extra></extra>",
         "hovertext": [
          "Bovin Mitochondrio"
         ],
         "legendgroup": "Bovin Mitochondrio",
         "marker": {
          "color": "#61ff06",
          "symbol": "circle"
         },
         "mode": "markers",
         "name": "Bovin Mitochondrio",
         "orientation": "v",
         "showlegend": true,
         "type": "scatter",
         "x": [
          0.52319336
         ],
         "xaxis": "x",
         "y": [
          0.7265722
         ],
         "yaxis": "y"
        },
        {
         "customdata": [
          [
           189,
           "Homo Mitochondrion",
           "Eukaryota",
           "Metazoa",
           "MITOCHONDRION",
           "Eukaryota",
           "Metazoa",
           "Chordata",
           "Mammalia"
          ]
         ],
         "hovertemplate": "<b>%{hovertext}</b><br><br>Species=%{customdata[1]}<br>pm1=%{x}<br>pm2=%{y}<br>proteins_id=%{customdata[0]}<br>Kingdom=%{customdata[2]}<br>Family=%{customdata[3]}<br>Color_eukaryota=%{customdata[4]}<br>Domain=%{customdata[5]}<br>Kingdom2=%{customdata[6]}<br>Phylum=%{customdata[7]}<br>Class=%{customdata[8]}<extra></extra>",
         "hovertext": [
          "Homo Mitochondrion"
         ],
         "legendgroup": "Homo Mitochondrion",
         "marker": {
          "color": "#61ff06",
          "symbol": "circle"
         },
         "mode": "markers",
         "name": "Homo Mitochondrion",
         "orientation": "v",
         "showlegend": true,
         "type": "scatter",
         "x": [
          0.5398929
         ],
         "xaxis": "x",
         "y": [
          0.72071815
         ],
         "yaxis": "y"
        },
        {
         "customdata": [
          [
           190,
           "Rattus Mitochondrio",
           "Eukaryota",
           "Metazoa",
           "MITOCHONDRION",
           "Eukaryota",
           "Metazoa",
           "Chordata",
           "Mammalia"
          ]
         ],
         "hovertemplate": "<b>%{hovertext}</b><br><br>Species=%{customdata[1]}<br>pm1=%{x}<br>pm2=%{y}<br>proteins_id=%{customdata[0]}<br>Kingdom=%{customdata[2]}<br>Family=%{customdata[3]}<br>Color_eukaryota=%{customdata[4]}<br>Domain=%{customdata[5]}<br>Kingdom2=%{customdata[6]}<br>Phylum=%{customdata[7]}<br>Class=%{customdata[8]}<extra></extra>",
         "hovertext": [
          "Rattus Mitochondrio"
         ],
         "legendgroup": "Rattus Mitochondrio",
         "marker": {
          "color": "#61ff06",
          "symbol": "circle"
         },
         "mode": "markers",
         "name": "Rattus Mitochondrio",
         "orientation": "v",
         "showlegend": true,
         "type": "scatter",
         "x": [
          0.5318728
         ],
         "xaxis": "x",
         "y": [
          0.7124493
         ],
         "yaxis": "y"
        },
        {
         "customdata": [
          [
           191,
           "Mus Mitochondrion",
           "Eukaryota",
           "Metazoa",
           "MITOCHONDRION",
           "Eukaryota",
           "Metazoa",
           "Chordata",
           "Mammalia"
          ]
         ],
         "hovertemplate": "<b>%{hovertext}</b><br><br>Species=%{customdata[1]}<br>pm1=%{x}<br>pm2=%{y}<br>proteins_id=%{customdata[0]}<br>Kingdom=%{customdata[2]}<br>Family=%{customdata[3]}<br>Color_eukaryota=%{customdata[4]}<br>Domain=%{customdata[5]}<br>Kingdom2=%{customdata[6]}<br>Phylum=%{customdata[7]}<br>Class=%{customdata[8]}<extra></extra>",
         "hovertext": [
          "Mus Mitochondrion"
         ],
         "legendgroup": "Mus Mitochondrion",
         "marker": {
          "color": "#61ff06",
          "symbol": "circle"
         },
         "mode": "markers",
         "name": "Mus Mitochondrion",
         "orientation": "v",
         "showlegend": true,
         "type": "scatter",
         "x": [
          0.50940543
         ],
         "xaxis": "x",
         "y": [
          0.7035559
         ],
         "yaxis": "y"
        },
        {
         "customdata": [
          [
           192,
           "Thiobacillus",
           "Bacteria",
           "Proteobacteria",
           "OTHERS",
           "Bacteria",
           "Bacteria",
           "Proteobacteria",
           "Betaproteobacteria"
          ],
          [
           194,
           "Thiobacillus",
           "Bacteria",
           "Proteobacteria",
           "OTHERS",
           "Bacteria",
           "Bacteria",
           "Proteobacteria",
           "Betaproteobacteria"
          ],
          [
           197,
           "Thiobacillus",
           "Bacteria",
           "Proteobacteria",
           "OTHERS",
           "Bacteria",
           "Bacteria",
           "Proteobacteria",
           "Betaproteobacteria"
          ],
          [
           198,
           "Thiobacillus",
           "Bacteria",
           "Proteobacteria",
           "OTHERS",
           "Bacteria",
           "Bacteria",
           "Proteobacteria",
           "Betaproteobacteria"
          ]
         ],
         "hovertemplate": "<b>%{hovertext}</b><br><br>Species=%{customdata[1]}<br>pm1=%{x}<br>pm2=%{y}<br>proteins_id=%{customdata[0]}<br>Kingdom=%{customdata[2]}<br>Family=%{customdata[3]}<br>Color_eukaryota=%{customdata[4]}<br>Domain=%{customdata[5]}<br>Kingdom2=%{customdata[6]}<br>Phylum=%{customdata[7]}<br>Class=%{customdata[8]}<extra></extra>",
         "hovertext": [
          "Thiobacillus",
          "Thiobacillus",
          "Thiobacillus",
          "Thiobacillus"
         ],
         "legendgroup": "Thiobacillus",
         "marker": {
          "color": "#34b8e7",
          "symbol": "circle"
         },
         "mode": "markers",
         "name": "Thiobacillus",
         "orientation": "v",
         "showlegend": true,
         "type": "scatter",
         "x": [
          -0.15063934,
          0.52873737,
          -0.27081737,
          -0.05209573
         ],
         "xaxis": "x",
         "y": [
          0.69994605,
          -0.034226906,
          0.88205165,
          0.3846934
         ],
         "yaxis": "y"
        },
        {
         "customdata": [
          [
           193,
           "Neisseria",
           "Bacteria",
           "Proteobacteria",
           "OTHERS",
           "Bacteria",
           "Bacteria",
           "Proteobacteria",
           "Betaproteobacteria"
          ]
         ],
         "hovertemplate": "<b>%{hovertext}</b><br><br>Species=%{customdata[1]}<br>pm1=%{x}<br>pm2=%{y}<br>proteins_id=%{customdata[0]}<br>Kingdom=%{customdata[2]}<br>Family=%{customdata[3]}<br>Color_eukaryota=%{customdata[4]}<br>Domain=%{customdata[5]}<br>Kingdom2=%{customdata[6]}<br>Phylum=%{customdata[7]}<br>Class=%{customdata[8]}<extra></extra>",
         "hovertext": [
          "Neisseria"
         ],
         "legendgroup": "Neisseria",
         "marker": {
          "color": "#34b8e7",
          "symbol": "circle"
         },
         "mode": "markers",
         "name": "Neisseria",
         "orientation": "v",
         "showlegend": true,
         "type": "scatter",
         "x": [
          0.6059423
         ],
         "xaxis": "x",
         "y": [
          0.18877967
         ],
         "yaxis": "y"
        },
        {
         "customdata": [
          [
           195,
           "Burkholderia",
           "Bacteria",
           "Proteobacteria",
           "OTHERS",
           "Bacteria",
           "Bacteria",
           "Proteobacteria",
           "Betaproteobacteria"
          ]
         ],
         "hovertemplate": "<b>%{hovertext}</b><br><br>Species=%{customdata[1]}<br>pm1=%{x}<br>pm2=%{y}<br>proteins_id=%{customdata[0]}<br>Kingdom=%{customdata[2]}<br>Family=%{customdata[3]}<br>Color_eukaryota=%{customdata[4]}<br>Domain=%{customdata[5]}<br>Kingdom2=%{customdata[6]}<br>Phylum=%{customdata[7]}<br>Class=%{customdata[8]}<extra></extra>",
         "hovertext": [
          "Burkholderia"
         ],
         "legendgroup": "Burkholderia",
         "marker": {
          "color": "#34b8e7",
          "symbol": "circle"
         },
         "mode": "markers",
         "name": "Burkholderia",
         "orientation": "v",
         "showlegend": true,
         "type": "scatter",
         "x": [
          0.5329733
         ],
         "xaxis": "x",
         "y": [
          0.13453919
         ],
         "yaxis": "y"
        },
        {
         "customdata": [
          [
           196,
           "Bordetella",
           "Bacteria",
           "Proteobacteria",
           "OTHERS",
           "Bacteria",
           "Bacteria",
           "Proteobacteria",
           "Betaproteobacteria"
          ],
          [
           199,
           "Bordetella",
           "Bacteria",
           "Proteobacteria",
           "OTHERS",
           "Bacteria",
           "Bacteria",
           "Proteobacteria",
           "Betaproteobacteria"
          ]
         ],
         "hovertemplate": "<b>%{hovertext}</b><br><br>Species=%{customdata[1]}<br>pm1=%{x}<br>pm2=%{y}<br>proteins_id=%{customdata[0]}<br>Kingdom=%{customdata[2]}<br>Family=%{customdata[3]}<br>Color_eukaryota=%{customdata[4]}<br>Domain=%{customdata[5]}<br>Kingdom2=%{customdata[6]}<br>Phylum=%{customdata[7]}<br>Class=%{customdata[8]}<extra></extra>",
         "hovertext": [
          "Bordetella",
          "Bordetella"
         ],
         "legendgroup": "Bordetella",
         "marker": {
          "color": "#34b8e7",
          "symbol": "circle"
         },
         "mode": "markers",
         "name": "Bordetella",
         "orientation": "v",
         "showlegend": true,
         "type": "scatter",
         "x": [
          0.33192796,
          -0.05231382
         ],
         "xaxis": "x",
         "y": [
          0.6293445,
          0.38559264
         ],
         "yaxis": "y"
        },
        {
         "customdata": [
          [
           200,
           "Pseudomonas",
           "Bacteria",
           "Proteobacteria",
           "OTHERS",
           "Bacteria",
           "Bacteria",
           "Proteobacteria",
           "Gammaproteobacteria"
          ]
         ],
         "hovertemplate": "<b>%{hovertext}</b><br><br>Species=%{customdata[1]}<br>pm1=%{x}<br>pm2=%{y}<br>proteins_id=%{customdata[0]}<br>Kingdom=%{customdata[2]}<br>Family=%{customdata[3]}<br>Color_eukaryota=%{customdata[4]}<br>Domain=%{customdata[5]}<br>Kingdom2=%{customdata[6]}<br>Phylum=%{customdata[7]}<br>Class=%{customdata[8]}<extra></extra>",
         "hovertext": [
          "Pseudomonas"
         ],
         "legendgroup": "Pseudomonas",
         "marker": {
          "color": "#34b8e7",
          "symbol": "circle"
         },
         "mode": "markers",
         "name": "Pseudomonas",
         "orientation": "v",
         "showlegend": true,
         "type": "scatter",
         "x": [
          0.46128544
         ],
         "xaxis": "x",
         "y": [
          0.22118224
         ],
         "yaxis": "y"
        },
        {
         "customdata": [
          [
           201,
           "Vibrio",
           "Bacteria",
           "Proteobacteria",
           "OTHERS",
           "Bacteria",
           "Bacteria",
           "Proteobacteria",
           "Gammaproteobacteria"
          ],
          [
           210,
           "Vibrio",
           "Bacteria",
           "Proteobacteria",
           "OTHERS",
           "Bacteria",
           "Bacteria",
           "Proteobacteria",
           "Gammaproteobacteria"
          ]
         ],
         "hovertemplate": "<b>%{hovertext}</b><br><br>Species=%{customdata[1]}<br>pm1=%{x}<br>pm2=%{y}<br>proteins_id=%{customdata[0]}<br>Kingdom=%{customdata[2]}<br>Family=%{customdata[3]}<br>Color_eukaryota=%{customdata[4]}<br>Domain=%{customdata[5]}<br>Kingdom2=%{customdata[6]}<br>Phylum=%{customdata[7]}<br>Class=%{customdata[8]}<extra></extra>",
         "hovertext": [
          "Vibrio",
          "Vibrio"
         ],
         "legendgroup": "Vibrio",
         "marker": {
          "color": "#34b8e7",
          "symbol": "circle"
         },
         "mode": "markers",
         "name": "Vibrio",
         "orientation": "v",
         "showlegend": true,
         "type": "scatter",
         "x": [
          0.5509759,
          -0.2829989
         ],
         "xaxis": "x",
         "y": [
          0.17213874,
          0.89997894
         ],
         "yaxis": "y"
        },
        {
         "customdata": [
          [
           202,
           "Yersinia",
           "Bacteria",
           "Proteobacteria",
           "OTHERS",
           "Bacteria",
           "Bacteria",
           "Proteobacteria",
           "Gammaproteobacteria"
          ],
          [
           209,
           "Yersinia",
           "Bacteria",
           "Proteobacteria",
           "OTHERS",
           "Bacteria",
           "Bacteria",
           "Proteobacteria",
           "Gammaproteobacteria"
          ]
         ],
         "hovertemplate": "<b>%{hovertext}</b><br><br>Species=%{customdata[1]}<br>pm1=%{x}<br>pm2=%{y}<br>proteins_id=%{customdata[0]}<br>Kingdom=%{customdata[2]}<br>Family=%{customdata[3]}<br>Color_eukaryota=%{customdata[4]}<br>Domain=%{customdata[5]}<br>Kingdom2=%{customdata[6]}<br>Phylum=%{customdata[7]}<br>Class=%{customdata[8]}<extra></extra>",
         "hovertext": [
          "Yersinia",
          "Yersinia"
         ],
         "legendgroup": "Yersinia",
         "marker": {
          "color": "#34b8e7",
          "symbol": "circle"
         },
         "mode": "markers",
         "name": "Yersinia",
         "orientation": "v",
         "showlegend": true,
         "type": "scatter",
         "x": [
          0.5992948,
          -0.2817564
         ],
         "xaxis": "x",
         "y": [
          0.2050054,
          0.88140607
         ],
         "yaxis": "y"
        },
        {
         "customdata": [
          [
           203,
           "Salmonella",
           "Bacteria",
           "Proteobacteria",
           "OTHERS",
           "Bacteria",
           "Bacteria",
           "Proteobacteria",
           "Gammaproteobacteria"
          ],
          [
           208,
           "Salmonella",
           "Bacteria",
           "Proteobacteria",
           "OTHERS",
           "Bacteria",
           "Bacteria",
           "Proteobacteria",
           "Gammaproteobacteria"
          ]
         ],
         "hovertemplate": "<b>%{hovertext}</b><br><br>Species=%{customdata[1]}<br>pm1=%{x}<br>pm2=%{y}<br>proteins_id=%{customdata[0]}<br>Kingdom=%{customdata[2]}<br>Family=%{customdata[3]}<br>Color_eukaryota=%{customdata[4]}<br>Domain=%{customdata[5]}<br>Kingdom2=%{customdata[6]}<br>Phylum=%{customdata[7]}<br>Class=%{customdata[8]}<extra></extra>",
         "hovertext": [
          "Salmonella",
          "Salmonella"
         ],
         "legendgroup": "Salmonella",
         "marker": {
          "color": "#34b8e7",
          "symbol": "circle"
         },
         "mode": "markers",
         "name": "Salmonella",
         "orientation": "v",
         "showlegend": true,
         "type": "scatter",
         "x": [
          0.507319,
          -0.27564302
         ],
         "xaxis": "x",
         "y": [
          0.2323385,
          0.89203674
         ],
         "yaxis": "y"
        },
        {
         "customdata": [
          [
           204,
           "Shigella",
           "Bacteria",
           "Proteobacteria",
           "OTHERS",
           "Bacteria",
           "Bacteria",
           "Proteobacteria",
           "Gammaproteobacteria"
          ],
          [
           207,
           "Shigella",
           "Bacteria",
           "Proteobacteria",
           "OTHERS",
           "Bacteria",
           "Bacteria",
           "Proteobacteria",
           "Gammaproteobacteria"
          ]
         ],
         "hovertemplate": "<b>%{hovertext}</b><br><br>Species=%{customdata[1]}<br>pm1=%{x}<br>pm2=%{y}<br>proteins_id=%{customdata[0]}<br>Kingdom=%{customdata[2]}<br>Family=%{customdata[3]}<br>Color_eukaryota=%{customdata[4]}<br>Domain=%{customdata[5]}<br>Kingdom2=%{customdata[6]}<br>Phylum=%{customdata[7]}<br>Class=%{customdata[8]}<extra></extra>",
         "hovertext": [
          "Shigella",
          "Shigella"
         ],
         "legendgroup": "Shigella",
         "marker": {
          "color": "#34b8e7",
          "symbol": "circle"
         },
         "mode": "markers",
         "name": "Shigella",
         "orientation": "v",
         "showlegend": true,
         "type": "scatter",
         "x": [
          0.27518117,
          -0.27321032
         ],
         "xaxis": "x",
         "y": [
          0.52318597,
          0.89997447
         ],
         "yaxis": "y"
        },
        {
         "customdata": [
          [
           205,
           "Escherichia",
           "Bacteria",
           "Proteobacteria",
           "OTHERS",
           "Bacteria",
           "Bacteria",
           "Proteobacteria",
           "Gammaproteobacteria"
          ],
          [
           206,
           "Escherichia",
           "Bacteria",
           "Proteobacteria",
           "OTHERS",
           "Bacteria",
           "Bacteria",
           "Proteobacteria",
           "Gammaproteobacteria"
          ]
         ],
         "hovertemplate": "<b>%{hovertext}</b><br><br>Species=%{customdata[1]}<br>pm1=%{x}<br>pm2=%{y}<br>proteins_id=%{customdata[0]}<br>Kingdom=%{customdata[2]}<br>Family=%{customdata[3]}<br>Color_eukaryota=%{customdata[4]}<br>Domain=%{customdata[5]}<br>Kingdom2=%{customdata[6]}<br>Phylum=%{customdata[7]}<br>Class=%{customdata[8]}<extra></extra>",
         "hovertext": [
          "Escherichia",
          "Escherichia"
         ],
         "legendgroup": "Escherichia",
         "marker": {
          "color": "#34b8e7",
          "symbol": "circle"
         },
         "mode": "markers",
         "name": "Escherichia",
         "orientation": "v",
         "showlegend": true,
         "type": "scatter",
         "x": [
          0.5564079,
          -0.2864227
         ],
         "xaxis": "x",
         "y": [
          0.22339977,
          0.8918129
         ],
         "yaxis": "y"
        }
       ],
       "layout": {
        "font": {
         "size": 11
        },
        "height": 800,
        "legend": {
         "title": {
          "text": "Species"
         },
         "tracegroupgap": 0
        },
        "plot_bgcolor": "rgba(0, 0, 0, 0)",
        "shapes": [
         {
          "line": {
           "color": "black",
           "dash": "dot"
          },
          "opacity": 0.15,
          "type": "circle",
          "x0": -0.47058823529411764,
          "x1": 0.47058823529411764,
          "y0": -0.47058823529411764,
          "y1": 0.47058823529411764
         },
         {
          "line": {
           "color": "black",
           "dash": "dot"
          },
          "opacity": 0.15,
          "type": "circle",
          "x0": -0.644736842105263,
          "x1": 0.644736842105263,
          "y0": -0.644736842105263,
          "y1": 0.644736842105263
         },
         {
          "line": {
           "color": "black",
           "dash": "dot"
          },
          "opacity": 0.15,
          "type": "circle",
          "x0": -0.7705382436260623,
          "x1": 0.7705382436260623,
          "y0": -0.7705382436260623,
          "y1": 0.7705382436260623
         },
         {
          "line": {
           "color": "black",
           "dash": "dot"
          },
          "opacity": 0.15,
          "type": "circle",
          "x0": -0.8557007125890735,
          "x1": 0.8557007125890735,
          "y0": -0.8557007125890735,
          "y1": 0.8557007125890735
         },
         {
          "line": {
           "color": "black",
           "dash": "dot"
          },
          "opacity": 0.15,
          "type": "circle",
          "x0": -0.9108474990827932,
          "x1": 0.9108474990827932,
          "y0": -0.9108474990827932,
          "y1": 0.9108474990827932
         },
         {
          "line": {
           "color": "black",
           "dash": "dot"
          },
          "opacity": 0.15,
          "type": "circle",
          "x0": -0.9455374041239167,
          "x1": 0.9455374041239167,
          "y0": -0.9455374041239167,
          "y1": 0.9455374041239167
         },
         {
          "line": {
           "color": "Black"
          },
          "type": "circle",
          "x0": -1,
          "x1": 1,
          "xref": "x",
          "y0": -1,
          "y1": 1,
          "yref": "y"
         },
         {
          "fillcolor": "Black",
          "line": {
           "color": "Black"
          },
          "type": "circle",
          "x0": -0.005,
          "x1": 0.005,
          "xref": "x",
          "y0": -0.005,
          "y1": 0.005,
          "yref": "y"
         }
        ],
        "template": {
         "data": {
          "bar": [
           {
            "error_x": {
             "color": "#2a3f5f"
            },
            "error_y": {
             "color": "#2a3f5f"
            },
            "marker": {
             "line": {
              "color": "#E5ECF6",
              "width": 0.5
             },
             "pattern": {
              "fillmode": "overlay",
              "size": 10,
              "solidity": 0.2
             }
            },
            "type": "bar"
           }
          ],
          "barpolar": [
           {
            "marker": {
             "line": {
              "color": "#E5ECF6",
              "width": 0.5
             },
             "pattern": {
              "fillmode": "overlay",
              "size": 10,
              "solidity": 0.2
             }
            },
            "type": "barpolar"
           }
          ],
          "carpet": [
           {
            "aaxis": {
             "endlinecolor": "#2a3f5f",
             "gridcolor": "white",
             "linecolor": "white",
             "minorgridcolor": "white",
             "startlinecolor": "#2a3f5f"
            },
            "baxis": {
             "endlinecolor": "#2a3f5f",
             "gridcolor": "white",
             "linecolor": "white",
             "minorgridcolor": "white",
             "startlinecolor": "#2a3f5f"
            },
            "type": "carpet"
           }
          ],
          "choropleth": [
           {
            "colorbar": {
             "outlinewidth": 0,
             "ticks": ""
            },
            "type": "choropleth"
           }
          ],
          "contour": [
           {
            "colorbar": {
             "outlinewidth": 0,
             "ticks": ""
            },
            "colorscale": [
             [
              0,
              "#0d0887"
             ],
             [
              0.1111111111111111,
              "#46039f"
             ],
             [
              0.2222222222222222,
              "#7201a8"
             ],
             [
              0.3333333333333333,
              "#9c179e"
             ],
             [
              0.4444444444444444,
              "#bd3786"
             ],
             [
              0.5555555555555556,
              "#d8576b"
             ],
             [
              0.6666666666666666,
              "#ed7953"
             ],
             [
              0.7777777777777778,
              "#fb9f3a"
             ],
             [
              0.8888888888888888,
              "#fdca26"
             ],
             [
              1,
              "#f0f921"
             ]
            ],
            "type": "contour"
           }
          ],
          "contourcarpet": [
           {
            "colorbar": {
             "outlinewidth": 0,
             "ticks": ""
            },
            "type": "contourcarpet"
           }
          ],
          "heatmap": [
           {
            "colorbar": {
             "outlinewidth": 0,
             "ticks": ""
            },
            "colorscale": [
             [
              0,
              "#0d0887"
             ],
             [
              0.1111111111111111,
              "#46039f"
             ],
             [
              0.2222222222222222,
              "#7201a8"
             ],
             [
              0.3333333333333333,
              "#9c179e"
             ],
             [
              0.4444444444444444,
              "#bd3786"
             ],
             [
              0.5555555555555556,
              "#d8576b"
             ],
             [
              0.6666666666666666,
              "#ed7953"
             ],
             [
              0.7777777777777778,
              "#fb9f3a"
             ],
             [
              0.8888888888888888,
              "#fdca26"
             ],
             [
              1,
              "#f0f921"
             ]
            ],
            "type": "heatmap"
           }
          ],
          "heatmapgl": [
           {
            "colorbar": {
             "outlinewidth": 0,
             "ticks": ""
            },
            "colorscale": [
             [
              0,
              "#0d0887"
             ],
             [
              0.1111111111111111,
              "#46039f"
             ],
             [
              0.2222222222222222,
              "#7201a8"
             ],
             [
              0.3333333333333333,
              "#9c179e"
             ],
             [
              0.4444444444444444,
              "#bd3786"
             ],
             [
              0.5555555555555556,
              "#d8576b"
             ],
             [
              0.6666666666666666,
              "#ed7953"
             ],
             [
              0.7777777777777778,
              "#fb9f3a"
             ],
             [
              0.8888888888888888,
              "#fdca26"
             ],
             [
              1,
              "#f0f921"
             ]
            ],
            "type": "heatmapgl"
           }
          ],
          "histogram": [
           {
            "marker": {
             "pattern": {
              "fillmode": "overlay",
              "size": 10,
              "solidity": 0.2
             }
            },
            "type": "histogram"
           }
          ],
          "histogram2d": [
           {
            "colorbar": {
             "outlinewidth": 0,
             "ticks": ""
            },
            "colorscale": [
             [
              0,
              "#0d0887"
             ],
             [
              0.1111111111111111,
              "#46039f"
             ],
             [
              0.2222222222222222,
              "#7201a8"
             ],
             [
              0.3333333333333333,
              "#9c179e"
             ],
             [
              0.4444444444444444,
              "#bd3786"
             ],
             [
              0.5555555555555556,
              "#d8576b"
             ],
             [
              0.6666666666666666,
              "#ed7953"
             ],
             [
              0.7777777777777778,
              "#fb9f3a"
             ],
             [
              0.8888888888888888,
              "#fdca26"
             ],
             [
              1,
              "#f0f921"
             ]
            ],
            "type": "histogram2d"
           }
          ],
          "histogram2dcontour": [
           {
            "colorbar": {
             "outlinewidth": 0,
             "ticks": ""
            },
            "colorscale": [
             [
              0,
              "#0d0887"
             ],
             [
              0.1111111111111111,
              "#46039f"
             ],
             [
              0.2222222222222222,
              "#7201a8"
             ],
             [
              0.3333333333333333,
              "#9c179e"
             ],
             [
              0.4444444444444444,
              "#bd3786"
             ],
             [
              0.5555555555555556,
              "#d8576b"
             ],
             [
              0.6666666666666666,
              "#ed7953"
             ],
             [
              0.7777777777777778,
              "#fb9f3a"
             ],
             [
              0.8888888888888888,
              "#fdca26"
             ],
             [
              1,
              "#f0f921"
             ]
            ],
            "type": "histogram2dcontour"
           }
          ],
          "mesh3d": [
           {
            "colorbar": {
             "outlinewidth": 0,
             "ticks": ""
            },
            "type": "mesh3d"
           }
          ],
          "parcoords": [
           {
            "line": {
             "colorbar": {
              "outlinewidth": 0,
              "ticks": ""
             }
            },
            "type": "parcoords"
           }
          ],
          "pie": [
           {
            "automargin": true,
            "type": "pie"
           }
          ],
          "scatter": [
           {
            "fillpattern": {
             "fillmode": "overlay",
             "size": 10,
             "solidity": 0.2
            },
            "type": "scatter"
           }
          ],
          "scatter3d": [
           {
            "line": {
             "colorbar": {
              "outlinewidth": 0,
              "ticks": ""
             }
            },
            "marker": {
             "colorbar": {
              "outlinewidth": 0,
              "ticks": ""
             }
            },
            "type": "scatter3d"
           }
          ],
          "scattercarpet": [
           {
            "marker": {
             "colorbar": {
              "outlinewidth": 0,
              "ticks": ""
             }
            },
            "type": "scattercarpet"
           }
          ],
          "scattergeo": [
           {
            "marker": {
             "colorbar": {
              "outlinewidth": 0,
              "ticks": ""
             }
            },
            "type": "scattergeo"
           }
          ],
          "scattergl": [
           {
            "marker": {
             "colorbar": {
              "outlinewidth": 0,
              "ticks": ""
             }
            },
            "type": "scattergl"
           }
          ],
          "scattermapbox": [
           {
            "marker": {
             "colorbar": {
              "outlinewidth": 0,
              "ticks": ""
             }
            },
            "type": "scattermapbox"
           }
          ],
          "scatterpolar": [
           {
            "marker": {
             "colorbar": {
              "outlinewidth": 0,
              "ticks": ""
             }
            },
            "type": "scatterpolar"
           }
          ],
          "scatterpolargl": [
           {
            "marker": {
             "colorbar": {
              "outlinewidth": 0,
              "ticks": ""
             }
            },
            "type": "scatterpolargl"
           }
          ],
          "scatterternary": [
           {
            "marker": {
             "colorbar": {
              "outlinewidth": 0,
              "ticks": ""
             }
            },
            "type": "scatterternary"
           }
          ],
          "surface": [
           {
            "colorbar": {
             "outlinewidth": 0,
             "ticks": ""
            },
            "colorscale": [
             [
              0,
              "#0d0887"
             ],
             [
              0.1111111111111111,
              "#46039f"
             ],
             [
              0.2222222222222222,
              "#7201a8"
             ],
             [
              0.3333333333333333,
              "#9c179e"
             ],
             [
              0.4444444444444444,
              "#bd3786"
             ],
             [
              0.5555555555555556,
              "#d8576b"
             ],
             [
              0.6666666666666666,
              "#ed7953"
             ],
             [
              0.7777777777777778,
              "#fb9f3a"
             ],
             [
              0.8888888888888888,
              "#fdca26"
             ],
             [
              1,
              "#f0f921"
             ]
            ],
            "type": "surface"
           }
          ],
          "table": [
           {
            "cells": {
             "fill": {
              "color": "#EBF0F8"
             },
             "line": {
              "color": "white"
             }
            },
            "header": {
             "fill": {
              "color": "#C8D4E3"
             },
             "line": {
              "color": "white"
             }
            },
            "type": "table"
           }
          ]
         },
         "layout": {
          "annotationdefaults": {
           "arrowcolor": "#2a3f5f",
           "arrowhead": 0,
           "arrowwidth": 1
          },
          "autotypenumbers": "strict",
          "coloraxis": {
           "colorbar": {
            "outlinewidth": 0,
            "ticks": ""
           }
          },
          "colorscale": {
           "diverging": [
            [
             0,
             "#8e0152"
            ],
            [
             0.1,
             "#c51b7d"
            ],
            [
             0.2,
             "#de77ae"
            ],
            [
             0.3,
             "#f1b6da"
            ],
            [
             0.4,
             "#fde0ef"
            ],
            [
             0.5,
             "#f7f7f7"
            ],
            [
             0.6,
             "#e6f5d0"
            ],
            [
             0.7,
             "#b8e186"
            ],
            [
             0.8,
             "#7fbc41"
            ],
            [
             0.9,
             "#4d9221"
            ],
            [
             1,
             "#276419"
            ]
           ],
           "sequential": [
            [
             0,
             "#0d0887"
            ],
            [
             0.1111111111111111,
             "#46039f"
            ],
            [
             0.2222222222222222,
             "#7201a8"
            ],
            [
             0.3333333333333333,
             "#9c179e"
            ],
            [
             0.4444444444444444,
             "#bd3786"
            ],
            [
             0.5555555555555556,
             "#d8576b"
            ],
            [
             0.6666666666666666,
             "#ed7953"
            ],
            [
             0.7777777777777778,
             "#fb9f3a"
            ],
            [
             0.8888888888888888,
             "#fdca26"
            ],
            [
             1,
             "#f0f921"
            ]
           ],
           "sequentialminus": [
            [
             0,
             "#0d0887"
            ],
            [
             0.1111111111111111,
             "#46039f"
            ],
            [
             0.2222222222222222,
             "#7201a8"
            ],
            [
             0.3333333333333333,
             "#9c179e"
            ],
            [
             0.4444444444444444,
             "#bd3786"
            ],
            [
             0.5555555555555556,
             "#d8576b"
            ],
            [
             0.6666666666666666,
             "#ed7953"
            ],
            [
             0.7777777777777778,
             "#fb9f3a"
            ],
            [
             0.8888888888888888,
             "#fdca26"
            ],
            [
             1,
             "#f0f921"
            ]
           ]
          },
          "colorway": [
           "#636efa",
           "#EF553B",
           "#00cc96",
           "#ab63fa",
           "#FFA15A",
           "#19d3f3",
           "#FF6692",
           "#B6E880",
           "#FF97FF",
           "#FECB52"
          ],
          "font": {
           "color": "#2a3f5f"
          },
          "geo": {
           "bgcolor": "white",
           "lakecolor": "white",
           "landcolor": "#E5ECF6",
           "showlakes": true,
           "showland": true,
           "subunitcolor": "white"
          },
          "hoverlabel": {
           "align": "left"
          },
          "hovermode": "closest",
          "mapbox": {
           "style": "light"
          },
          "paper_bgcolor": "white",
          "plot_bgcolor": "#E5ECF6",
          "polar": {
           "angularaxis": {
            "gridcolor": "white",
            "linecolor": "white",
            "ticks": ""
           },
           "bgcolor": "#E5ECF6",
           "radialaxis": {
            "gridcolor": "white",
            "linecolor": "white",
            "ticks": ""
           }
          },
          "scene": {
           "xaxis": {
            "backgroundcolor": "#E5ECF6",
            "gridcolor": "white",
            "gridwidth": 2,
            "linecolor": "white",
            "showbackground": true,
            "ticks": "",
            "zerolinecolor": "white"
           },
           "yaxis": {
            "backgroundcolor": "#E5ECF6",
            "gridcolor": "white",
            "gridwidth": 2,
            "linecolor": "white",
            "showbackground": true,
            "ticks": "",
            "zerolinecolor": "white"
           },
           "zaxis": {
            "backgroundcolor": "#E5ECF6",
            "gridcolor": "white",
            "gridwidth": 2,
            "linecolor": "white",
            "showbackground": true,
            "ticks": "",
            "zerolinecolor": "white"
           }
          },
          "shapedefaults": {
           "line": {
            "color": "#2a3f5f"
           }
          },
          "ternary": {
           "aaxis": {
            "gridcolor": "white",
            "linecolor": "white",
            "ticks": ""
           },
           "baxis": {
            "gridcolor": "white",
            "linecolor": "white",
            "ticks": ""
           },
           "bgcolor": "#E5ECF6",
           "caxis": {
            "gridcolor": "white",
            "linecolor": "white",
            "ticks": ""
           }
          },
          "title": {
           "x": 0.05
          },
          "xaxis": {
           "automargin": true,
           "gridcolor": "white",
           "linecolor": "white",
           "ticks": "",
           "title": {
            "standoff": 15
           },
           "zerolinecolor": "white",
           "zerolinewidth": 2
          },
          "yaxis": {
           "automargin": true,
           "gridcolor": "white",
           "linecolor": "white",
           "ticks": "",
           "title": {
            "standoff": 15
           },
           "zerolinecolor": "white",
           "zerolinewidth": 2
          }
         }
        },
        "title": {
         "text": "PM projection of thioredoxins colored by species with embeddings",
         "x": 0.5
        },
        "xaxis": {
         "anchor": "y",
         "constrain": "domain",
         "domain": [
          0,
          1
         ],
         "range": [
          -1.1,
          1.1
         ],
         "title": {
          "text": "pm1"
         }
        },
        "yaxis": {
         "anchor": "x",
         "domain": [
          0,
          1
         ],
         "scaleanchor": "x",
         "scaleratio": 1,
         "title": {
          "text": "pm2"
         }
        },
        "yaxis2": {
         "layer": "below traces",
         "matches": "y",
         "overlaying": "y"
        }
       }
      }
     },
     "metadata": {},
     "output_type": "display_data"
    }
   ],
   "source": [
    "# OPTIONS =================================================\n",
    "#Here you can set different parameters to color & annotate the resulting projection:\n",
    "title = \"PM projection of thioredoxins colored by species with embeddings\"\n",
    "#----------------------------------------------------------\n",
    "# Select the coloring from annotation .csv file:\n",
    "labels_name = \"Species\"\n",
    "# Select classes to label among the \"labels_name\" or \"second_labels_name\" column (comma separated list):\n",
    "second_labels_name = \"\"\n",
    "labels_text = []\n",
    "show_text = False\n",
    "#----------------------------------------------------------\n",
    "# Use a custom color palette:\n",
    "color_palette = trx_palette #Default: None\n",
    "use_custom_palette = True\n",
    "#==========================================================\n",
    "\n",
    "\n",
    "#Check projection visualization parameters\n",
    "#Labels name\n",
    "if labels_name == \"\":\n",
    "    labels_name = None\n",
    "elif labels_name not in annotation_names:\n",
    "    raise NameError(f\"labels_name {labels_name} is not in the availables annotations.\\nAvailables annotations: {annotation_names}\")\n",
    "#Second labels name\n",
    "if second_labels_name == \"\":\n",
    "    second_labels_name = None\n",
    "elif second_labels_name not in annotation_names:\n",
    "    raise NameError(f'\"second_labels_name\" {second_labels_name} is not in the availables annotations.\\nAvailables annotations: {annotation_names}')\n",
    "\n",
    "if not use_custom_palette:\n",
    "    color_palette = None\n",
    "\n",
    "#Plot graph\n",
    "fig = plot_embedding_interactive(df_embedding, \n",
    "                                 labels_name = labels_name,\n",
    "                                 second_labels_name = second_labels_name, \n",
    "                                 show_text = show_text,\n",
    "                                 labels_text = labels_text,\n",
    "                                 color_palette = color_palette, \n",
    "                                 title = title, \n",
    "                                 fontsize = 11)\n",
    "fig.show()"
   ]
  },
  {
   "cell_type": "markdown",
   "metadata": {},
   "source": [
    "### Save plot to file"
   ]
  },
  {
   "cell_type": "code",
   "execution_count": 9,
   "metadata": {},
   "outputs": [],
   "source": [
    "# OPTIONS =================================================\n",
    "output_name = \"thioredoxins_with_embeddings_by_species\"\n",
    "output_format = \"html\" #Format availables: [\"png\", \"html\", \"pdf\", \"svg\"]\n",
    "#==========================================================\n",
    "\n",
    "\n",
    "if output_format != \"html\":\n",
    "    fig.write_image(f\"{output_name}.{output_format}\", engine=\"kaleido\")\n",
    "else:\n",
    "    fig.write_html(f\"{output_name}.{output_format}\")"
   ]
  },
  {
   "cell_type": "code",
   "execution_count": null,
   "metadata": {},
   "outputs": [],
   "source": []
  }
 ],
 "metadata": {
  "accelerator": "GPU",
  "colab": {
   "provenance": []
  },
  "gpuClass": "standard",
  "kernelspec": {
   "display_name": "poincare",
   "language": "python",
   "name": "python3"
  },
  "language_info": {
   "codemirror_mode": {
    "name": "ipython",
    "version": 3
   },
   "file_extension": ".py",
   "mimetype": "text/x-python",
   "name": "python",
   "nbconvert_exporter": "python",
   "pygments_lexer": "ipython3",
   "version": "3.12.2"
  }
 },
 "nbformat": 4,
 "nbformat_minor": 1
}
